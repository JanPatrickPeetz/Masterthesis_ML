{
 "cells": [
  {
   "cell_type": "markdown",
   "metadata": {},
   "source": [
    "https://www.kaggle.com/code/manovirat/timeseries-using-prophet-hyperparameter-tuning"
   ]
  },
  {
   "cell_type": "code",
   "execution_count": 1,
   "metadata": {},
   "outputs": [],
   "source": [
    "import pandas as pd\n",
    "from prophet import Prophet\n",
    "from prophet.diagnostics import cross_validation\n",
    "from sklearn.model_selection import ParameterGrid\n",
    "from prophet.diagnostics import performance_metrics\n",
    "import random\n",
    "import numpy as np\n",
    "from sklearn.model_selection import TimeSeriesSplit"
   ]
  },
  {
   "cell_type": "code",
   "execution_count": 2,
   "metadata": {},
   "outputs": [
    {
     "name": "stdout",
     "output_type": "stream",
     "text": [
      "Total Possible Models 160\n"
     ]
    }
   ],
   "source": [
    "params_grid = {'seasonality_mode':('multiplicative','additive'),\n",
    "               # set changepoint_prior_scale to 0.5 with steps of 0.005\n",
    "               'changepoint_prior_scale':[x for x in np.arange(0.001, 0.5, 0.1)],\n",
    "               'seasonality_prior_scale':[x for x in np.arange(0.01, 10, 2.5)],\n",
    "              'holidays_prior_scale':[x for x in np.arange(0.01, 10, 2.5)]}\n",
    "\n",
    "grid = ParameterGrid(params_grid)\n",
    "cnt = 0\n",
    "for p in grid:\n",
    "    cnt = cnt+1\n",
    "\n",
    "print('Total Possible Models',cnt)"
   ]
  },
  {
   "cell_type": "code",
   "execution_count": 3,
   "metadata": {},
   "outputs": [],
   "source": [
    "#Define MASE Metric\n",
    "def mean_absolute_scaled_error(y_true, y_pred):\n",
    "    mase=0\n",
    "    # Define numerator as the forecast error\n",
    "    numerator = (np.abs(y_true - y_pred))\n",
    "\n",
    "    # Define denominator as the mean absolute error of the in-sample one-step naive forecast\n",
    "    y_true_ohne_1 = y_true[1:].reset_index(drop=True)\n",
    "    y_true_ohne_ende = y_true[:-1].reset_index(drop=True)\n",
    "    denominator = np.mean(np.abs(y_true_ohne_1 - y_true_ohne_ende))\n",
    "\n",
    "    mase = np.mean(np.abs(numerator / denominator))\n",
    "\n",
    "    return mase"
   ]
  },
  {
   "cell_type": "code",
   "execution_count": 4,
   "metadata": {},
   "outputs": [],
   "source": [
    "# Load the data\n",
    "data = pd.read_parquet('/Users/paddy/Documents/GitHub/Masterthesis_ML/data/03_30min_dataset.parquet')\n",
    "\n",
    "# Convert the date column to datetime\n",
    "data['date'] = pd.to_datetime(data['date'],format='%d/%m/%y %H:%M:%S').dt.strftime('%Y-%m-%d %H:%M:%S') \n"
   ]
  },
  {
   "cell_type": "code",
   "execution_count": 5,
   "metadata": {},
   "outputs": [],
   "source": [
    "# Feature Engineering\n",
    "\n",
    "# Add a column with the time\n",
    "data['time'] = [x for x in range(0, len(data))]\n",
    "\n",
    "# Create the lagged features 24 +1\n",
    "lags = 48 + 1\n",
    "\n",
    "# Create the lagged features\n",
    "for i in range(1, lags):\n",
    "    data['lag' + str(i)] = data['count'].shift(i)\n",
    "\n",
    "# Drop the first three rows\n",
    "data = data.dropna().reset_index(drop=True)\n",
    "\n",
    "# Rename column count to y\n",
    "data = data.rename(columns={'count': 'y'})\n",
    "data = data.rename(columns={'date': 'ds'})\n",
    "\n",
    "\n",
    "train_data = data"
   ]
  },
  {
   "cell_type": "code",
   "execution_count": 6,
   "metadata": {},
   "outputs": [
    {
     "name": "stdout",
     "output_type": "stream",
     "text": [
      "0        2022-04-02 00:00:00\n",
      "1        2022-04-02 00:30:00\n",
      "2        2022-04-02 01:00:00\n",
      "3        2022-04-02 01:30:00\n",
      "4        2022-04-02 02:00:00\n",
      "                ...         \n",
      "17467    2023-03-31 21:30:00\n",
      "17468    2023-03-31 22:00:00\n",
      "17469    2023-03-31 22:30:00\n",
      "17470    2023-03-31 23:00:00\n",
      "17471    2023-03-31 23:30:00\n",
      "Name: ds, Length: 17472, dtype: object\n",
      "Fold 0:\n",
      "  Train: index=[   0    1    2 ... 2909 2910 2911]\n",
      "  Test:  index=[2912 2913 2914 ... 5821 5822 5823]\n",
      "Fold 1:\n",
      "  Train: index=[   0    1    2 ... 5821 5822 5823]\n",
      "  Test:  index=[5824 5825 5826 ... 8733 8734 8735]\n",
      "Fold 2:\n",
      "  Train: index=[   0    1    2 ... 8733 8734 8735]\n",
      "  Test:  index=[ 8736  8737  8738 ... 11645 11646 11647]\n",
      "Fold 3:\n",
      "  Train: index=[    0     1     2 ... 11645 11646 11647]\n",
      "  Test:  index=[11648 11649 11650 ... 14557 14558 14559]\n",
      "Fold 4:\n",
      "  Train: index=[    0     1     2 ... 14557 14558 14559]\n",
      "  Test:  index=[14560 14561 14562 ... 17469 17470 17471]\n",
      "['2022-06-01 15:30:00', '2022-08-01 07:30:00', '2022-09-30 23:30:00', '2022-11-30 15:30:00', '2023-01-30 07:30:00']\n"
     ]
    }
   ],
   "source": [
    "cv_folds = TimeSeriesSplit(n_splits=5)\n",
    "\n",
    "#convert data to only date not time\n",
    "cv_data = train_data.copy()\n",
    "\n",
    "#convert to timestamp with date format\n",
    "#cv_data.ds = pd.to_datetime(cv_data.ds).dt.date\n",
    "\n",
    "print(cv_data.ds)   \n",
    "\n",
    "#Define cutoff dates for cross validation at end of train_data/cv_folds\n",
    "cutoffs = []\n",
    "# for train_index, test_index in cv_folds.split(train_data):\n",
    "#     cutoffs.append(train_data.ds.iloc[test_index].max())\n",
    "#     #convert to timestamp\n",
    "#     cutoffs = pd.to_datetime(cutoffs)\n",
    "    \n",
    "# print(cutoffs)\n",
    "\n",
    "for i, (train_index, test_index) in enumerate(cv_folds.split(cv_data)):\n",
    "    print(f\"Fold {i}:\")\n",
    "    print(f\"  Train: index={train_index}\")\n",
    "    print(f\"  Test:  index={test_index}\")\n",
    "    #get the date for the last train index\n",
    "    cutoffs.append(cv_data.ds.iloc[train_index].max())\n",
    "    #only date not time\n",
    "    #cutoffs = pd.to_datetime(cutoffs).date\n",
    "\n",
    "print(cutoffs)\n",
    "\n",
    "# Define cutoffs for cross validation with 5 folds every two months with first cut on 2022-06-01, last day 2023-01-15 and horizon of 15 days\n",
    "#cutoffs = pd.to_datetime(['2022-06-01', '2022-08-01', '2022-10-01', '2022-12-01', '2023-01-15'])\n",
    "# print(cutoffs)\n"
   ]
  },
  {
   "cell_type": "code",
   "execution_count": 7,
   "metadata": {},
   "outputs": [
    {
     "name": "stdout",
     "output_type": "stream",
     "text": [
      "{'changepoint_prior_scale': 0.001, 'holidays_prior_scale': 0.01, 'seasonality_mode': 'multiplicative', 'seasonality_prior_scale': 0.01}\n"
     ]
    },
    {
     "name": "stderr",
     "output_type": "stream",
     "text": [
      "16:38:24 - cmdstanpy - INFO - Chain [1] start processing\n",
      "16:38:26 - cmdstanpy - INFO - Chain [1] done processing\n",
      "16:38:27 - cmdstanpy - INFO - Chain [1] start processing\n",
      "16:38:28 - cmdstanpy - INFO - Chain [1] done processing\n",
      "16:38:28 - cmdstanpy - INFO - Chain [1] start processing\n",
      "16:38:28 - cmdstanpy - INFO - Chain [1] start processing\n",
      "16:38:28 - cmdstanpy - INFO - Chain [1] done processing\n",
      "16:38:29 - cmdstanpy - INFO - Chain [1] start processing\n",
      "16:38:29 - cmdstanpy - INFO - Chain [1] start processing\n",
      "16:38:30 - cmdstanpy - INFO - Chain [1] done processing\n",
      "16:38:30 - cmdstanpy - INFO - Chain [1] done processing\n",
      "16:38:31 - cmdstanpy - INFO - Chain [1] done processing\n"
     ]
    },
    {
     "name": "stdout",
     "output_type": "stream",
     "text": [
      "{'changepoint_prior_scale': 0.001, 'holidays_prior_scale': 0.01, 'seasonality_mode': 'multiplicative', 'seasonality_prior_scale': 2.51}\n"
     ]
    },
    {
     "name": "stderr",
     "output_type": "stream",
     "text": [
      "16:38:32 - cmdstanpy - INFO - Chain [1] start processing\n",
      "16:38:35 - cmdstanpy - INFO - Chain [1] done processing\n",
      "16:38:36 - cmdstanpy - INFO - Chain [1] start processing\n",
      "16:38:36 - cmdstanpy - INFO - Chain [1] start processing\n",
      "16:38:36 - cmdstanpy - INFO - Chain [1] done processing\n",
      "16:38:37 - cmdstanpy - INFO - Chain [1] start processing\n",
      "16:38:37 - cmdstanpy - INFO - Chain [1] start processing\n",
      "16:38:37 - cmdstanpy - INFO - Chain [1] done processing\n",
      "16:38:38 - cmdstanpy - INFO - Chain [1] start processing\n",
      "16:38:38 - cmdstanpy - INFO - Chain [1] done processing\n",
      "16:38:39 - cmdstanpy - INFO - Chain [1] done processing\n",
      "16:38:40 - cmdstanpy - INFO - Chain [1] done processing\n"
     ]
    },
    {
     "name": "stdout",
     "output_type": "stream",
     "text": [
      "{'changepoint_prior_scale': 0.001, 'holidays_prior_scale': 0.01, 'seasonality_mode': 'multiplicative', 'seasonality_prior_scale': 5.01}\n"
     ]
    },
    {
     "name": "stderr",
     "output_type": "stream",
     "text": [
      "16:38:42 - cmdstanpy - INFO - Chain [1] start processing\n",
      "16:38:45 - cmdstanpy - INFO - Chain [1] done processing\n",
      "16:38:47 - cmdstanpy - INFO - Chain [1] start processing\n",
      "16:38:47 - cmdstanpy - INFO - Chain [1] done processing\n",
      "16:38:47 - cmdstanpy - INFO - Chain [1] start processing\n",
      "16:38:48 - cmdstanpy - INFO - Chain [1] start processing\n",
      "16:38:48 - cmdstanpy - INFO - Chain [1] start processing\n",
      "16:38:48 - cmdstanpy - INFO - Chain [1] done processing\n",
      "16:38:48 - cmdstanpy - INFO - Chain [1] start processing\n",
      "16:38:49 - cmdstanpy - INFO - Chain [1] done processing\n",
      "16:38:51 - cmdstanpy - INFO - Chain [1] done processing\n",
      "16:38:51 - cmdstanpy - INFO - Chain [1] done processing\n"
     ]
    },
    {
     "name": "stdout",
     "output_type": "stream",
     "text": [
      "{'changepoint_prior_scale': 0.001, 'holidays_prior_scale': 0.01, 'seasonality_mode': 'multiplicative', 'seasonality_prior_scale': 7.51}\n"
     ]
    },
    {
     "name": "stderr",
     "output_type": "stream",
     "text": [
      "16:38:53 - cmdstanpy - INFO - Chain [1] start processing\n",
      "16:38:55 - cmdstanpy - INFO - Chain [1] done processing\n",
      "16:38:57 - cmdstanpy - INFO - Chain [1] start processing\n",
      "16:38:58 - cmdstanpy - INFO - Chain [1] start processing\n",
      "16:38:58 - cmdstanpy - INFO - Chain [1] done processing\n",
      "16:38:58 - cmdstanpy - INFO - Chain [1] start processing\n",
      "16:38:58 - cmdstanpy - INFO - Chain [1] start processing\n",
      "16:38:59 - cmdstanpy - INFO - Chain [1] done processing\n",
      "16:38:59 - cmdstanpy - INFO - Chain [1] start processing\n",
      "16:39:00 - cmdstanpy - INFO - Chain [1] done processing\n",
      "16:39:02 - cmdstanpy - INFO - Chain [1] done processing\n",
      "16:39:03 - cmdstanpy - INFO - Chain [1] done processing\n"
     ]
    },
    {
     "name": "stdout",
     "output_type": "stream",
     "text": [
      "{'changepoint_prior_scale': 0.001, 'holidays_prior_scale': 0.01, 'seasonality_mode': 'additive', 'seasonality_prior_scale': 0.01}\n"
     ]
    },
    {
     "name": "stderr",
     "output_type": "stream",
     "text": [
      "16:39:50 - cmdstanpy - INFO - Chain [1] start processing\n",
      "16:39:52 - cmdstanpy - INFO - Chain [1] done processing\n",
      "16:39:54 - cmdstanpy - INFO - Chain [1] start processing\n",
      "16:39:54 - cmdstanpy - INFO - Chain [1] start processing\n",
      "16:39:54 - cmdstanpy - INFO - Chain [1] done processing\n",
      "16:39:55 - cmdstanpy - INFO - Chain [1] start processing\n",
      "16:39:55 - cmdstanpy - INFO - Chain [1] start processing\n",
      "16:39:55 - cmdstanpy - INFO - Chain [1] start processing\n",
      "16:40:12 - cmdstanpy - INFO - Chain [1] done processing\n",
      "16:40:15 - cmdstanpy - INFO - Chain [1] done processing\n",
      "16:40:16 - cmdstanpy - INFO - Chain [1] done processing\n",
      "16:40:19 - cmdstanpy - INFO - Chain [1] done processing\n"
     ]
    },
    {
     "name": "stdout",
     "output_type": "stream",
     "text": [
      "{'changepoint_prior_scale': 0.001, 'holidays_prior_scale': 0.01, 'seasonality_mode': 'additive', 'seasonality_prior_scale': 2.51}\n"
     ]
    },
    {
     "name": "stderr",
     "output_type": "stream",
     "text": [
      "16:40:21 - cmdstanpy - INFO - Chain [1] start processing\n",
      "16:40:23 - cmdstanpy - INFO - Chain [1] done processing\n",
      "16:40:25 - cmdstanpy - INFO - Chain [1] start processing\n",
      "16:40:25 - cmdstanpy - INFO - Chain [1] done processing\n",
      "16:40:25 - cmdstanpy - INFO - Chain [1] start processing\n",
      "16:40:26 - cmdstanpy - INFO - Chain [1] start processing\n",
      "16:40:26 - cmdstanpy - INFO - Chain [1] start processing\n",
      "16:40:26 - cmdstanpy - INFO - Chain [1] start processing\n",
      "16:40:26 - cmdstanpy - INFO - Chain [1] done processing\n",
      "16:40:29 - cmdstanpy - INFO - Chain [1] done processing\n",
      "16:40:31 - cmdstanpy - INFO - Chain [1] done processing\n",
      "16:40:33 - cmdstanpy - INFO - Chain [1] done processing\n"
     ]
    },
    {
     "name": "stdout",
     "output_type": "stream",
     "text": [
      "{'changepoint_prior_scale': 0.001, 'holidays_prior_scale': 0.01, 'seasonality_mode': 'additive', 'seasonality_prior_scale': 5.01}\n"
     ]
    },
    {
     "name": "stderr",
     "output_type": "stream",
     "text": [
      "16:40:34 - cmdstanpy - INFO - Chain [1] start processing\n",
      "16:40:38 - cmdstanpy - INFO - Chain [1] done processing\n",
      "16:40:39 - cmdstanpy - INFO - Chain [1] start processing\n",
      "16:40:39 - cmdstanpy - INFO - Chain [1] start processing\n",
      "16:40:40 - cmdstanpy - INFO - Chain [1] done processing\n",
      "16:40:40 - cmdstanpy - INFO - Chain [1] start processing\n",
      "16:40:40 - cmdstanpy - INFO - Chain [1] start processing\n",
      "16:40:40 - cmdstanpy - INFO - Chain [1] start processing\n",
      "16:40:41 - cmdstanpy - INFO - Chain [1] done processing\n",
      "16:41:23 - cmdstanpy - INFO - Chain [1] done processing\n",
      "16:41:24 - cmdstanpy - INFO - Chain [1] done processing\n",
      "16:41:28 - cmdstanpy - INFO - Chain [1] done processing\n"
     ]
    },
    {
     "name": "stdout",
     "output_type": "stream",
     "text": [
      "{'changepoint_prior_scale': 0.001, 'holidays_prior_scale': 0.01, 'seasonality_mode': 'additive', 'seasonality_prior_scale': 7.51}\n"
     ]
    },
    {
     "name": "stderr",
     "output_type": "stream",
     "text": [
      "16:41:29 - cmdstanpy - INFO - Chain [1] start processing\n",
      "16:41:33 - cmdstanpy - INFO - Chain [1] done processing\n",
      "16:41:34 - cmdstanpy - INFO - Chain [1] start processing\n",
      "16:41:34 - cmdstanpy - INFO - Chain [1] start processing\n",
      "16:41:35 - cmdstanpy - INFO - Chain [1] done processing\n",
      "16:41:35 - cmdstanpy - INFO - Chain [1] start processing\n",
      "16:41:35 - cmdstanpy - INFO - Chain [1] start processing\n",
      "16:41:35 - cmdstanpy - INFO - Chain [1] start processing\n",
      "16:41:37 - cmdstanpy - INFO - Chain [1] done processing\n",
      "16:41:40 - cmdstanpy - INFO - Chain [1] done processing\n",
      "16:41:41 - cmdstanpy - INFO - Chain [1] done processing\n",
      "16:59:28 - cmdstanpy - INFO - Chain [1] done processing\n"
     ]
    },
    {
     "name": "stdout",
     "output_type": "stream",
     "text": [
      "{'changepoint_prior_scale': 0.001, 'holidays_prior_scale': 2.51, 'seasonality_mode': 'multiplicative', 'seasonality_prior_scale': 0.01}\n"
     ]
    },
    {
     "name": "stderr",
     "output_type": "stream",
     "text": [
      "16:59:29 - cmdstanpy - INFO - Chain [1] start processing\n",
      "16:59:31 - cmdstanpy - INFO - Chain [1] done processing\n",
      "17:00:57 - cmdstanpy - INFO - Chain [1] start processing\n",
      "17:00:58 - cmdstanpy - INFO - Chain [1] done processing\n",
      "17:00:58 - cmdstanpy - INFO - Chain [1] start processing\n",
      "17:00:58 - cmdstanpy - INFO - Chain [1] start processing\n",
      "17:00:59 - cmdstanpy - INFO - Chain [1] done processing\n",
      "17:00:59 - cmdstanpy - INFO - Chain [1] start processing\n",
      "17:00:59 - cmdstanpy - INFO - Chain [1] start processing\n",
      "17:01:00 - cmdstanpy - INFO - Chain [1] done processing\n",
      "17:01:00 - cmdstanpy - INFO - Chain [1] done processing\n",
      "17:01:02 - cmdstanpy - INFO - Chain [1] done processing\n"
     ]
    },
    {
     "name": "stdout",
     "output_type": "stream",
     "text": [
      "{'changepoint_prior_scale': 0.001, 'holidays_prior_scale': 2.51, 'seasonality_mode': 'multiplicative', 'seasonality_prior_scale': 2.51}\n"
     ]
    },
    {
     "name": "stderr",
     "output_type": "stream",
     "text": [
      "17:01:04 - cmdstanpy - INFO - Chain [1] start processing\n",
      "17:01:07 - cmdstanpy - INFO - Chain [1] done processing\n",
      "17:01:08 - cmdstanpy - INFO - Chain [1] start processing\n",
      "17:01:09 - cmdstanpy - INFO - Chain [1] done processing\n",
      "17:01:09 - cmdstanpy - INFO - Chain [1] start processing\n",
      "17:01:09 - cmdstanpy - INFO - Chain [1] start processing\n",
      "17:01:09 - cmdstanpy - INFO - Chain [1] done processing\n",
      "17:01:10 - cmdstanpy - INFO - Chain [1] start processing\n",
      "17:01:10 - cmdstanpy - INFO - Chain [1] start processing\n",
      "17:02:21 - cmdstanpy - INFO - Chain [1] done processing\n",
      "17:02:24 - cmdstanpy - INFO - Chain [1] done processing\n",
      "17:02:26 - cmdstanpy - INFO - Chain [1] done processing\n"
     ]
    },
    {
     "name": "stdout",
     "output_type": "stream",
     "text": [
      "{'changepoint_prior_scale': 0.001, 'holidays_prior_scale': 2.51, 'seasonality_mode': 'multiplicative', 'seasonality_prior_scale': 5.01}\n"
     ]
    },
    {
     "name": "stderr",
     "output_type": "stream",
     "text": [
      "17:02:27 - cmdstanpy - INFO - Chain [1] start processing\n",
      "17:02:32 - cmdstanpy - INFO - Chain [1] done processing\n",
      "17:02:33 - cmdstanpy - INFO - Chain [1] start processing\n",
      "17:02:33 - cmdstanpy - INFO - Chain [1] done processing\n",
      "17:02:34 - cmdstanpy - INFO - Chain [1] start processing\n",
      "17:02:34 - cmdstanpy - INFO - Chain [1] start processing\n",
      "17:02:34 - cmdstanpy - INFO - Chain [1] done processing\n",
      "17:02:35 - cmdstanpy - INFO - Chain [1] start processing\n",
      "17:02:35 - cmdstanpy - INFO - Chain [1] start processing\n",
      "17:02:35 - cmdstanpy - INFO - Chain [1] done processing\n",
      "17:02:38 - cmdstanpy - INFO - Chain [1] done processing\n",
      "17:02:39 - cmdstanpy - INFO - Chain [1] done processing\n"
     ]
    },
    {
     "name": "stdout",
     "output_type": "stream",
     "text": [
      "{'changepoint_prior_scale': 0.001, 'holidays_prior_scale': 2.51, 'seasonality_mode': 'multiplicative', 'seasonality_prior_scale': 7.51}\n"
     ]
    },
    {
     "name": "stderr",
     "output_type": "stream",
     "text": [
      "17:02:41 - cmdstanpy - INFO - Chain [1] start processing\n",
      "17:02:46 - cmdstanpy - INFO - Chain [1] done processing\n",
      "17:02:47 - cmdstanpy - INFO - Chain [1] start processing\n",
      "17:02:47 - cmdstanpy - INFO - Chain [1] done processing\n",
      "17:02:48 - cmdstanpy - INFO - Chain [1] start processing\n",
      "17:02:48 - cmdstanpy - INFO - Chain [1] start processing\n",
      "17:02:48 - cmdstanpy - INFO - Chain [1] done processing\n",
      "17:02:48 - cmdstanpy - INFO - Chain [1] start processing\n",
      "17:02:49 - cmdstanpy - INFO - Chain [1] start processing\n",
      "17:02:50 - cmdstanpy - INFO - Chain [1] done processing\n",
      "17:02:52 - cmdstanpy - INFO - Chain [1] done processing\n",
      "17:02:52 - cmdstanpy - INFO - Chain [1] done processing\n"
     ]
    },
    {
     "name": "stdout",
     "output_type": "stream",
     "text": [
      "{'changepoint_prior_scale': 0.001, 'holidays_prior_scale': 2.51, 'seasonality_mode': 'additive', 'seasonality_prior_scale': 0.01}\n"
     ]
    },
    {
     "name": "stderr",
     "output_type": "stream",
     "text": [
      "17:02:54 - cmdstanpy - INFO - Chain [1] start processing\n",
      "17:02:57 - cmdstanpy - INFO - Chain [1] done processing\n",
      "17:02:58 - cmdstanpy - INFO - Chain [1] start processing\n",
      "17:02:58 - cmdstanpy - INFO - Chain [1] start processing\n",
      "17:02:58 - cmdstanpy - INFO - Chain [1] done processing\n",
      "17:02:59 - cmdstanpy - INFO - Chain [1] start processing\n",
      "17:02:59 - cmdstanpy - INFO - Chain [1] start processing\n",
      "17:02:59 - cmdstanpy - INFO - Chain [1] start processing\n",
      "17:03:01 - cmdstanpy - INFO - Chain [1] done processing\n",
      "17:03:04 - cmdstanpy - INFO - Chain [1] done processing\n",
      "17:03:05 - cmdstanpy - INFO - Chain [1] done processing\n",
      "17:03:07 - cmdstanpy - INFO - Chain [1] done processing\n"
     ]
    },
    {
     "name": "stdout",
     "output_type": "stream",
     "text": [
      "{'changepoint_prior_scale': 0.001, 'holidays_prior_scale': 2.51, 'seasonality_mode': 'additive', 'seasonality_prior_scale': 2.51}\n"
     ]
    },
    {
     "name": "stderr",
     "output_type": "stream",
     "text": [
      "17:03:09 - cmdstanpy - INFO - Chain [1] start processing\n",
      "17:03:12 - cmdstanpy - INFO - Chain [1] done processing\n",
      "17:03:13 - cmdstanpy - INFO - Chain [1] start processing\n",
      "17:03:13 - cmdstanpy - INFO - Chain [1] start processing\n",
      "17:03:14 - cmdstanpy - INFO - Chain [1] start processing\n",
      "17:03:14 - cmdstanpy - INFO - Chain [1] start processing\n",
      "17:03:14 - cmdstanpy - INFO - Chain [1] done processing\n",
      "17:03:14 - cmdstanpy - INFO - Chain [1] start processing\n",
      "17:03:15 - cmdstanpy - INFO - Chain [1] done processing\n",
      "17:03:18 - cmdstanpy - INFO - Chain [1] done processing\n",
      "17:03:18 - cmdstanpy - INFO - Chain [1] done processing\n",
      "17:03:22 - cmdstanpy - INFO - Chain [1] done processing\n"
     ]
    },
    {
     "name": "stdout",
     "output_type": "stream",
     "text": [
      "{'changepoint_prior_scale': 0.001, 'holidays_prior_scale': 2.51, 'seasonality_mode': 'additive', 'seasonality_prior_scale': 5.01}\n"
     ]
    },
    {
     "name": "stderr",
     "output_type": "stream",
     "text": [
      "17:03:24 - cmdstanpy - INFO - Chain [1] start processing\n",
      "17:03:26 - cmdstanpy - INFO - Chain [1] done processing\n",
      "17:03:28 - cmdstanpy - INFO - Chain [1] start processing\n",
      "17:03:28 - cmdstanpy - INFO - Chain [1] start processing\n",
      "17:03:28 - cmdstanpy - INFO - Chain [1] done processing\n",
      "17:03:29 - cmdstanpy - INFO - Chain [1] start processing\n",
      "17:03:29 - cmdstanpy - INFO - Chain [1] start processing\n",
      "17:03:29 - cmdstanpy - INFO - Chain [1] start processing\n",
      "17:03:30 - cmdstanpy - INFO - Chain [1] done processing\n",
      "17:03:34 - cmdstanpy - INFO - Chain [1] done processing\n",
      "17:03:35 - cmdstanpy - INFO - Chain [1] done processing\n",
      "17:03:37 - cmdstanpy - INFO - Chain [1] done processing\n"
     ]
    },
    {
     "name": "stdout",
     "output_type": "stream",
     "text": [
      "{'changepoint_prior_scale': 0.001, 'holidays_prior_scale': 2.51, 'seasonality_mode': 'additive', 'seasonality_prior_scale': 7.51}\n"
     ]
    },
    {
     "name": "stderr",
     "output_type": "stream",
     "text": [
      "17:03:39 - cmdstanpy - INFO - Chain [1] start processing\n",
      "17:03:42 - cmdstanpy - INFO - Chain [1] done processing\n",
      "17:03:43 - cmdstanpy - INFO - Chain [1] start processing\n",
      "17:03:44 - cmdstanpy - INFO - Chain [1] start processing\n",
      "17:03:44 - cmdstanpy - INFO - Chain [1] done processing\n",
      "17:03:44 - cmdstanpy - INFO - Chain [1] start processing\n",
      "17:03:44 - cmdstanpy - INFO - Chain [1] start processing\n",
      "17:03:45 - cmdstanpy - INFO - Chain [1] start processing\n",
      "17:03:46 - cmdstanpy - INFO - Chain [1] done processing\n",
      "17:03:50 - cmdstanpy - INFO - Chain [1] done processing\n",
      "17:03:50 - cmdstanpy - INFO - Chain [1] done processing\n",
      "17:03:54 - cmdstanpy - INFO - Chain [1] done processing\n"
     ]
    },
    {
     "name": "stdout",
     "output_type": "stream",
     "text": [
      "{'changepoint_prior_scale': 0.001, 'holidays_prior_scale': 5.01, 'seasonality_mode': 'multiplicative', 'seasonality_prior_scale': 0.01}\n"
     ]
    },
    {
     "name": "stderr",
     "output_type": "stream",
     "text": [
      "17:03:56 - cmdstanpy - INFO - Chain [1] start processing\n",
      "17:03:57 - cmdstanpy - INFO - Chain [1] done processing\n",
      "17:03:59 - cmdstanpy - INFO - Chain [1] start processing\n",
      "17:03:59 - cmdstanpy - INFO - Chain [1] done processing\n",
      "17:03:59 - cmdstanpy - INFO - Chain [1] start processing\n",
      "17:04:00 - cmdstanpy - INFO - Chain [1] start processing\n",
      "17:04:00 - cmdstanpy - INFO - Chain [1] done processing\n",
      "17:04:00 - cmdstanpy - INFO - Chain [1] start processing\n",
      "17:04:00 - cmdstanpy - INFO - Chain [1] start processing\n",
      "17:04:01 - cmdstanpy - INFO - Chain [1] done processing\n",
      "17:04:02 - cmdstanpy - INFO - Chain [1] done processing\n",
      "17:04:03 - cmdstanpy - INFO - Chain [1] done processing\n"
     ]
    },
    {
     "name": "stdout",
     "output_type": "stream",
     "text": [
      "{'changepoint_prior_scale': 0.001, 'holidays_prior_scale': 5.01, 'seasonality_mode': 'multiplicative', 'seasonality_prior_scale': 2.51}\n"
     ]
    },
    {
     "name": "stderr",
     "output_type": "stream",
     "text": [
      "17:04:04 - cmdstanpy - INFO - Chain [1] start processing\n",
      "17:04:06 - cmdstanpy - INFO - Chain [1] done processing\n",
      "17:04:08 - cmdstanpy - INFO - Chain [1] start processing\n",
      "17:04:08 - cmdstanpy - INFO - Chain [1] done processing\n",
      "17:04:08 - cmdstanpy - INFO - Chain [1] start processing\n",
      "17:04:09 - cmdstanpy - INFO - Chain [1] start processing\n",
      "17:04:09 - cmdstanpy - INFO - Chain [1] start processing\n",
      "17:04:09 - cmdstanpy - INFO - Chain [1] done processing\n",
      "17:04:10 - cmdstanpy - INFO - Chain [1] start processing\n",
      "17:04:10 - cmdstanpy - INFO - Chain [1] done processing\n",
      "17:04:12 - cmdstanpy - INFO - Chain [1] done processing\n",
      "17:04:12 - cmdstanpy - INFO - Chain [1] done processing\n"
     ]
    },
    {
     "name": "stdout",
     "output_type": "stream",
     "text": [
      "{'changepoint_prior_scale': 0.001, 'holidays_prior_scale': 5.01, 'seasonality_mode': 'multiplicative', 'seasonality_prior_scale': 5.01}\n"
     ]
    },
    {
     "name": "stderr",
     "output_type": "stream",
     "text": [
      "17:04:14 - cmdstanpy - INFO - Chain [1] start processing\n",
      "17:04:17 - cmdstanpy - INFO - Chain [1] done processing\n",
      "17:04:19 - cmdstanpy - INFO - Chain [1] start processing\n",
      "17:04:19 - cmdstanpy - INFO - Chain [1] done processing\n",
      "17:04:19 - cmdstanpy - INFO - Chain [1] start processing\n",
      "17:04:19 - cmdstanpy - INFO - Chain [1] start processing\n",
      "17:04:20 - cmdstanpy - INFO - Chain [1] done processing\n",
      "17:04:20 - cmdstanpy - INFO - Chain [1] start processing\n",
      "17:04:20 - cmdstanpy - INFO - Chain [1] start processing\n",
      "17:04:21 - cmdstanpy - INFO - Chain [1] done processing\n",
      "17:04:23 - cmdstanpy - INFO - Chain [1] done processing\n",
      "17:04:25 - cmdstanpy - INFO - Chain [1] done processing\n"
     ]
    },
    {
     "name": "stdout",
     "output_type": "stream",
     "text": [
      "{'changepoint_prior_scale': 0.001, 'holidays_prior_scale': 5.01, 'seasonality_mode': 'multiplicative', 'seasonality_prior_scale': 7.51}\n"
     ]
    },
    {
     "name": "stderr",
     "output_type": "stream",
     "text": [
      "17:04:26 - cmdstanpy - INFO - Chain [1] start processing\n",
      "17:04:30 - cmdstanpy - INFO - Chain [1] done processing\n",
      "17:04:31 - cmdstanpy - INFO - Chain [1] start processing\n",
      "17:04:31 - cmdstanpy - INFO - Chain [1] start processing\n",
      "17:04:31 - cmdstanpy - INFO - Chain [1] done processing\n",
      "17:04:32 - cmdstanpy - INFO - Chain [1] start processing\n",
      "17:04:32 - cmdstanpy - INFO - Chain [1] done processing\n",
      "17:04:32 - cmdstanpy - INFO - Chain [1] start processing\n",
      "17:04:33 - cmdstanpy - INFO - Chain [1] start processing\n",
      "17:04:33 - cmdstanpy - INFO - Chain [1] done processing\n",
      "17:04:35 - cmdstanpy - INFO - Chain [1] done processing\n",
      "17:04:36 - cmdstanpy - INFO - Chain [1] done processing\n"
     ]
    },
    {
     "name": "stdout",
     "output_type": "stream",
     "text": [
      "{'changepoint_prior_scale': 0.001, 'holidays_prior_scale': 5.01, 'seasonality_mode': 'additive', 'seasonality_prior_scale': 0.01}\n"
     ]
    },
    {
     "name": "stderr",
     "output_type": "stream",
     "text": [
      "17:04:38 - cmdstanpy - INFO - Chain [1] start processing\n",
      "17:04:41 - cmdstanpy - INFO - Chain [1] done processing\n",
      "17:04:42 - cmdstanpy - INFO - Chain [1] start processing\n",
      "17:04:42 - cmdstanpy - INFO - Chain [1] start processing\n",
      "17:04:42 - cmdstanpy - INFO - Chain [1] done processing\n",
      "17:04:43 - cmdstanpy - INFO - Chain [1] start processing\n",
      "17:04:43 - cmdstanpy - INFO - Chain [1] start processing\n",
      "17:04:44 - cmdstanpy - INFO - Chain [1] start processing\n",
      "17:04:45 - cmdstanpy - INFO - Chain [1] done processing\n",
      "17:04:47 - cmdstanpy - INFO - Chain [1] done processing\n",
      "17:04:49 - cmdstanpy - INFO - Chain [1] done processing\n",
      "17:04:51 - cmdstanpy - INFO - Chain [1] done processing\n"
     ]
    },
    {
     "name": "stdout",
     "output_type": "stream",
     "text": [
      "{'changepoint_prior_scale': 0.001, 'holidays_prior_scale': 5.01, 'seasonality_mode': 'additive', 'seasonality_prior_scale': 2.51}\n"
     ]
    },
    {
     "name": "stderr",
     "output_type": "stream",
     "text": [
      "17:04:53 - cmdstanpy - INFO - Chain [1] start processing\n",
      "17:04:56 - cmdstanpy - INFO - Chain [1] done processing\n",
      "17:04:58 - cmdstanpy - INFO - Chain [1] start processing\n",
      "17:04:58 - cmdstanpy - INFO - Chain [1] start processing\n",
      "17:04:58 - cmdstanpy - INFO - Chain [1] start processing\n",
      "17:04:58 - cmdstanpy - INFO - Chain [1] done processing\n",
      "17:04:58 - cmdstanpy - INFO - Chain [1] start processing\n",
      "17:04:59 - cmdstanpy - INFO - Chain [1] start processing\n",
      "17:05:00 - cmdstanpy - INFO - Chain [1] done processing\n",
      "17:05:02 - cmdstanpy - INFO - Chain [1] done processing\n",
      "17:05:04 - cmdstanpy - INFO - Chain [1] done processing\n",
      "17:05:07 - cmdstanpy - INFO - Chain [1] done processing\n"
     ]
    },
    {
     "name": "stdout",
     "output_type": "stream",
     "text": [
      "{'changepoint_prior_scale': 0.001, 'holidays_prior_scale': 5.01, 'seasonality_mode': 'additive', 'seasonality_prior_scale': 5.01}\n"
     ]
    },
    {
     "name": "stderr",
     "output_type": "stream",
     "text": [
      "17:05:09 - cmdstanpy - INFO - Chain [1] start processing\n",
      "17:05:11 - cmdstanpy - INFO - Chain [1] done processing\n",
      "17:05:13 - cmdstanpy - INFO - Chain [1] start processing\n",
      "17:05:13 - cmdstanpy - INFO - Chain [1] start processing\n",
      "17:05:14 - cmdstanpy - INFO - Chain [1] start processing\n",
      "17:05:14 - cmdstanpy - INFO - Chain [1] done processing\n",
      "17:05:14 - cmdstanpy - INFO - Chain [1] start processing\n",
      "17:05:15 - cmdstanpy - INFO - Chain [1] start processing\n",
      "17:05:15 - cmdstanpy - INFO - Chain [1] done processing\n",
      "17:05:18 - cmdstanpy - INFO - Chain [1] done processing\n",
      "17:05:19 - cmdstanpy - INFO - Chain [1] done processing\n",
      "17:05:22 - cmdstanpy - INFO - Chain [1] done processing\n"
     ]
    },
    {
     "name": "stdout",
     "output_type": "stream",
     "text": [
      "{'changepoint_prior_scale': 0.001, 'holidays_prior_scale': 5.01, 'seasonality_mode': 'additive', 'seasonality_prior_scale': 7.51}\n"
     ]
    },
    {
     "name": "stderr",
     "output_type": "stream",
     "text": [
      "17:05:24 - cmdstanpy - INFO - Chain [1] start processing\n",
      "17:05:27 - cmdstanpy - INFO - Chain [1] done processing\n",
      "17:05:29 - cmdstanpy - INFO - Chain [1] start processing\n",
      "17:05:29 - cmdstanpy - INFO - Chain [1] start processing\n",
      "17:05:29 - cmdstanpy - INFO - Chain [1] done processing\n",
      "17:05:29 - cmdstanpy - INFO - Chain [1] start processing\n",
      "17:05:29 - cmdstanpy - INFO - Chain [1] start processing\n",
      "17:05:30 - cmdstanpy - INFO - Chain [1] start processing\n",
      "17:05:31 - cmdstanpy - INFO - Chain [1] done processing\n",
      "17:05:34 - cmdstanpy - INFO - Chain [1] done processing\n",
      "17:05:35 - cmdstanpy - INFO - Chain [1] done processing\n",
      "17:05:37 - cmdstanpy - INFO - Chain [1] done processing\n"
     ]
    },
    {
     "name": "stdout",
     "output_type": "stream",
     "text": [
      "{'changepoint_prior_scale': 0.001, 'holidays_prior_scale': 7.51, 'seasonality_mode': 'multiplicative', 'seasonality_prior_scale': 0.01}\n"
     ]
    },
    {
     "name": "stderr",
     "output_type": "stream",
     "text": [
      "17:05:39 - cmdstanpy - INFO - Chain [1] start processing\n",
      "17:05:41 - cmdstanpy - INFO - Chain [1] done processing\n",
      "17:05:42 - cmdstanpy - INFO - Chain [1] start processing\n",
      "17:05:42 - cmdstanpy - INFO - Chain [1] done processing\n",
      "17:05:43 - cmdstanpy - INFO - Chain [1] start processing\n",
      "17:05:43 - cmdstanpy - INFO - Chain [1] start processing\n",
      "17:05:43 - cmdstanpy - INFO - Chain [1] start processing\n",
      "17:05:43 - cmdstanpy - INFO - Chain [1] done processing\n",
      "17:05:44 - cmdstanpy - INFO - Chain [1] start processing\n",
      "17:05:45 - cmdstanpy - INFO - Chain [1] done processing\n",
      "17:05:46 - cmdstanpy - INFO - Chain [1] done processing\n",
      "17:05:46 - cmdstanpy - INFO - Chain [1] done processing\n"
     ]
    },
    {
     "name": "stdout",
     "output_type": "stream",
     "text": [
      "{'changepoint_prior_scale': 0.001, 'holidays_prior_scale': 7.51, 'seasonality_mode': 'multiplicative', 'seasonality_prior_scale': 2.51}\n"
     ]
    },
    {
     "name": "stderr",
     "output_type": "stream",
     "text": [
      "17:05:48 - cmdstanpy - INFO - Chain [1] start processing\n",
      "17:05:53 - cmdstanpy - INFO - Chain [1] done processing\n",
      "17:05:54 - cmdstanpy - INFO - Chain [1] start processing\n",
      "17:05:55 - cmdstanpy - INFO - Chain [1] done processing\n",
      "17:05:55 - cmdstanpy - INFO - Chain [1] start processing\n",
      "17:05:55 - cmdstanpy - INFO - Chain [1] start processing\n",
      "17:05:56 - cmdstanpy - INFO - Chain [1] start processing\n",
      "17:05:56 - cmdstanpy - INFO - Chain [1] done processing\n",
      "17:05:56 - cmdstanpy - INFO - Chain [1] start processing\n",
      "17:05:56 - cmdstanpy - INFO - Chain [1] done processing\n",
      "17:05:58 - cmdstanpy - INFO - Chain [1] done processing\n",
      "17:06:00 - cmdstanpy - INFO - Chain [1] done processing\n"
     ]
    },
    {
     "name": "stdout",
     "output_type": "stream",
     "text": [
      "{'changepoint_prior_scale': 0.001, 'holidays_prior_scale': 7.51, 'seasonality_mode': 'multiplicative', 'seasonality_prior_scale': 5.01}\n"
     ]
    },
    {
     "name": "stderr",
     "output_type": "stream",
     "text": [
      "17:06:02 - cmdstanpy - INFO - Chain [1] start processing\n",
      "17:06:09 - cmdstanpy - INFO - Chain [1] done processing\n",
      "17:06:11 - cmdstanpy - INFO - Chain [1] start processing\n",
      "17:06:11 - cmdstanpy - INFO - Chain [1] done processing\n",
      "17:06:11 - cmdstanpy - INFO - Chain [1] start processing\n",
      "17:06:11 - cmdstanpy - INFO - Chain [1] start processing\n",
      "17:06:12 - cmdstanpy - INFO - Chain [1] done processing\n",
      "17:06:12 - cmdstanpy - INFO - Chain [1] start processing\n",
      "17:06:12 - cmdstanpy - INFO - Chain [1] start processing\n",
      "17:06:12 - cmdstanpy - INFO - Chain [1] done processing\n",
      "17:06:14 - cmdstanpy - INFO - Chain [1] done processing\n",
      "17:06:15 - cmdstanpy - INFO - Chain [1] done processing\n"
     ]
    },
    {
     "name": "stdout",
     "output_type": "stream",
     "text": [
      "{'changepoint_prior_scale': 0.001, 'holidays_prior_scale': 7.51, 'seasonality_mode': 'multiplicative', 'seasonality_prior_scale': 7.51}\n"
     ]
    },
    {
     "name": "stderr",
     "output_type": "stream",
     "text": [
      "17:06:17 - cmdstanpy - INFO - Chain [1] start processing\n",
      "17:06:21 - cmdstanpy - INFO - Chain [1] done processing\n",
      "17:06:22 - cmdstanpy - INFO - Chain [1] start processing\n",
      "17:06:23 - cmdstanpy - INFO - Chain [1] start processing\n",
      "17:06:23 - cmdstanpy - INFO - Chain [1] done processing\n",
      "17:06:23 - cmdstanpy - INFO - Chain [1] start processing\n",
      "17:06:23 - cmdstanpy - INFO - Chain [1] done processing\n",
      "17:06:24 - cmdstanpy - INFO - Chain [1] start processing\n",
      "17:06:24 - cmdstanpy - INFO - Chain [1] start processing\n",
      "17:06:25 - cmdstanpy - INFO - Chain [1] done processing\n",
      "17:06:26 - cmdstanpy - INFO - Chain [1] done processing\n",
      "17:06:27 - cmdstanpy - INFO - Chain [1] done processing\n"
     ]
    },
    {
     "name": "stdout",
     "output_type": "stream",
     "text": [
      "{'changepoint_prior_scale': 0.001, 'holidays_prior_scale': 7.51, 'seasonality_mode': 'additive', 'seasonality_prior_scale': 0.01}\n"
     ]
    },
    {
     "name": "stderr",
     "output_type": "stream",
     "text": [
      "17:06:28 - cmdstanpy - INFO - Chain [1] start processing\n",
      "17:06:31 - cmdstanpy - INFO - Chain [1] done processing\n",
      "17:06:32 - cmdstanpy - INFO - Chain [1] start processing\n",
      "17:06:33 - cmdstanpy - INFO - Chain [1] start processing\n",
      "17:06:33 - cmdstanpy - INFO - Chain [1] start processing\n",
      "17:06:33 - cmdstanpy - INFO - Chain [1] done processing\n",
      "17:06:33 - cmdstanpy - INFO - Chain [1] start processing\n",
      "17:06:34 - cmdstanpy - INFO - Chain [1] start processing\n",
      "17:06:34 - cmdstanpy - INFO - Chain [1] done processing\n",
      "17:06:37 - cmdstanpy - INFO - Chain [1] done processing\n",
      "17:06:39 - cmdstanpy - INFO - Chain [1] done processing\n",
      "17:06:42 - cmdstanpy - INFO - Chain [1] done processing\n"
     ]
    },
    {
     "name": "stdout",
     "output_type": "stream",
     "text": [
      "{'changepoint_prior_scale': 0.001, 'holidays_prior_scale': 7.51, 'seasonality_mode': 'additive', 'seasonality_prior_scale': 2.51}\n"
     ]
    },
    {
     "name": "stderr",
     "output_type": "stream",
     "text": [
      "17:06:43 - cmdstanpy - INFO - Chain [1] start processing\n",
      "17:06:46 - cmdstanpy - INFO - Chain [1] done processing\n",
      "17:06:48 - cmdstanpy - INFO - Chain [1] start processing\n",
      "17:06:48 - cmdstanpy - INFO - Chain [1] start processing\n",
      "17:06:48 - cmdstanpy - INFO - Chain [1] start processing\n",
      "17:06:48 - cmdstanpy - INFO - Chain [1] done processing\n",
      "17:06:49 - cmdstanpy - INFO - Chain [1] start processing\n",
      "17:06:49 - cmdstanpy - INFO - Chain [1] start processing\n",
      "17:06:50 - cmdstanpy - INFO - Chain [1] done processing\n",
      "17:06:53 - cmdstanpy - INFO - Chain [1] done processing\n",
      "17:06:55 - cmdstanpy - INFO - Chain [1] done processing\n",
      "17:06:58 - cmdstanpy - INFO - Chain [1] done processing\n"
     ]
    },
    {
     "name": "stdout",
     "output_type": "stream",
     "text": [
      "{'changepoint_prior_scale': 0.001, 'holidays_prior_scale': 7.51, 'seasonality_mode': 'additive', 'seasonality_prior_scale': 5.01}\n"
     ]
    },
    {
     "name": "stderr",
     "output_type": "stream",
     "text": [
      "17:06:59 - cmdstanpy - INFO - Chain [1] start processing\n",
      "17:07:02 - cmdstanpy - INFO - Chain [1] done processing\n",
      "17:07:04 - cmdstanpy - INFO - Chain [1] start processing\n",
      "17:07:04 - cmdstanpy - INFO - Chain [1] start processing\n",
      "17:07:04 - cmdstanpy - INFO - Chain [1] done processing\n",
      "17:07:04 - cmdstanpy - INFO - Chain [1] start processing\n",
      "17:07:05 - cmdstanpy - INFO - Chain [1] start processing\n",
      "17:07:05 - cmdstanpy - INFO - Chain [1] start processing\n",
      "17:07:06 - cmdstanpy - INFO - Chain [1] done processing\n",
      "17:07:09 - cmdstanpy - INFO - Chain [1] done processing\n",
      "17:07:10 - cmdstanpy - INFO - Chain [1] done processing\n",
      "17:07:14 - cmdstanpy - INFO - Chain [1] done processing\n"
     ]
    },
    {
     "name": "stdout",
     "output_type": "stream",
     "text": [
      "{'changepoint_prior_scale': 0.001, 'holidays_prior_scale': 7.51, 'seasonality_mode': 'additive', 'seasonality_prior_scale': 7.51}\n"
     ]
    },
    {
     "name": "stderr",
     "output_type": "stream",
     "text": [
      "17:07:15 - cmdstanpy - INFO - Chain [1] start processing\n",
      "17:07:18 - cmdstanpy - INFO - Chain [1] done processing\n",
      "17:07:20 - cmdstanpy - INFO - Chain [1] start processing\n",
      "17:07:20 - cmdstanpy - INFO - Chain [1] start processing\n",
      "17:07:20 - cmdstanpy - INFO - Chain [1] done processing\n",
      "17:07:21 - cmdstanpy - INFO - Chain [1] start processing\n",
      "17:07:21 - cmdstanpy - INFO - Chain [1] start processing\n",
      "17:07:21 - cmdstanpy - INFO - Chain [1] start processing\n",
      "17:07:22 - cmdstanpy - INFO - Chain [1] done processing\n",
      "17:07:25 - cmdstanpy - INFO - Chain [1] done processing\n",
      "17:07:26 - cmdstanpy - INFO - Chain [1] done processing\n",
      "17:07:29 - cmdstanpy - INFO - Chain [1] done processing\n"
     ]
    },
    {
     "name": "stdout",
     "output_type": "stream",
     "text": [
      "{'changepoint_prior_scale': 0.101, 'holidays_prior_scale': 0.01, 'seasonality_mode': 'multiplicative', 'seasonality_prior_scale': 0.01}\n"
     ]
    },
    {
     "name": "stderr",
     "output_type": "stream",
     "text": [
      "17:07:31 - cmdstanpy - INFO - Chain [1] start processing\n",
      "17:07:37 - cmdstanpy - INFO - Chain [1] done processing\n",
      "17:07:38 - cmdstanpy - INFO - Chain [1] start processing\n",
      "17:07:39 - cmdstanpy - INFO - Chain [1] start processing\n",
      "17:07:39 - cmdstanpy - INFO - Chain [1] done processing\n",
      "17:07:39 - cmdstanpy - INFO - Chain [1] start processing\n",
      "17:07:40 - cmdstanpy - INFO - Chain [1] start processing\n",
      "17:07:40 - cmdstanpy - INFO - Chain [1] start processing\n",
      "17:07:42 - cmdstanpy - INFO - Chain [1] done processing\n",
      "17:07:44 - cmdstanpy - INFO - Chain [1] done processing\n",
      "17:07:45 - cmdstanpy - INFO - Chain [1] done processing\n",
      "17:07:47 - cmdstanpy - INFO - Chain [1] done processing\n"
     ]
    },
    {
     "name": "stdout",
     "output_type": "stream",
     "text": [
      "{'changepoint_prior_scale': 0.101, 'holidays_prior_scale': 0.01, 'seasonality_mode': 'multiplicative', 'seasonality_prior_scale': 2.51}\n"
     ]
    },
    {
     "name": "stderr",
     "output_type": "stream",
     "text": [
      "17:07:48 - cmdstanpy - INFO - Chain [1] start processing\n",
      "17:07:52 - cmdstanpy - INFO - Chain [1] done processing\n",
      "17:07:54 - cmdstanpy - INFO - Chain [1] start processing\n",
      "17:07:54 - cmdstanpy - INFO - Chain [1] start processing\n",
      "17:07:55 - cmdstanpy - INFO - Chain [1] start processing\n",
      "17:07:55 - cmdstanpy - INFO - Chain [1] start processing\n",
      "17:07:55 - cmdstanpy - INFO - Chain [1] done processing\n",
      "17:07:55 - cmdstanpy - INFO - Chain [1] start processing\n",
      "17:07:58 - cmdstanpy - INFO - Chain [1] done processing\n",
      "17:07:59 - cmdstanpy - INFO - Chain [1] done processing\n",
      "17:08:00 - cmdstanpy - INFO - Chain [1] done processing\n",
      "17:08:03 - cmdstanpy - INFO - Chain [1] done processing\n"
     ]
    },
    {
     "name": "stdout",
     "output_type": "stream",
     "text": [
      "{'changepoint_prior_scale': 0.101, 'holidays_prior_scale': 0.01, 'seasonality_mode': 'multiplicative', 'seasonality_prior_scale': 5.01}\n"
     ]
    },
    {
     "name": "stderr",
     "output_type": "stream",
     "text": [
      "17:08:04 - cmdstanpy - INFO - Chain [1] start processing\n",
      "17:08:09 - cmdstanpy - INFO - Chain [1] done processing\n",
      "17:08:11 - cmdstanpy - INFO - Chain [1] start processing\n",
      "17:08:11 - cmdstanpy - INFO - Chain [1] start processing\n",
      "17:08:12 - cmdstanpy - INFO - Chain [1] start processing\n",
      "17:08:12 - cmdstanpy - INFO - Chain [1] done processing\n",
      "17:08:12 - cmdstanpy - INFO - Chain [1] start processing\n",
      "17:08:12 - cmdstanpy - INFO - Chain [1] start processing\n",
      "17:08:15 - cmdstanpy - INFO - Chain [1] done processing\n",
      "17:08:17 - cmdstanpy - INFO - Chain [1] done processing\n",
      "17:08:17 - cmdstanpy - INFO - Chain [1] done processing\n",
      "17:08:19 - cmdstanpy - INFO - Chain [1] done processing\n"
     ]
    },
    {
     "name": "stdout",
     "output_type": "stream",
     "text": [
      "{'changepoint_prior_scale': 0.101, 'holidays_prior_scale': 0.01, 'seasonality_mode': 'multiplicative', 'seasonality_prior_scale': 7.51}\n"
     ]
    },
    {
     "name": "stderr",
     "output_type": "stream",
     "text": [
      "17:08:21 - cmdstanpy - INFO - Chain [1] start processing\n",
      "17:08:25 - cmdstanpy - INFO - Chain [1] done processing\n",
      "17:08:27 - cmdstanpy - INFO - Chain [1] start processing\n",
      "17:08:27 - cmdstanpy - INFO - Chain [1] start processing\n",
      "17:08:27 - cmdstanpy - INFO - Chain [1] start processing\n",
      "17:08:28 - cmdstanpy - INFO - Chain [1] start processing\n",
      "17:08:28 - cmdstanpy - INFO - Chain [1] done processing\n",
      "17:08:28 - cmdstanpy - INFO - Chain [1] start processing\n",
      "17:08:31 - cmdstanpy - INFO - Chain [1] done processing\n",
      "17:08:33 - cmdstanpy - INFO - Chain [1] done processing\n",
      "17:08:33 - cmdstanpy - INFO - Chain [1] done processing\n",
      "17:08:35 - cmdstanpy - INFO - Chain [1] done processing\n"
     ]
    },
    {
     "name": "stdout",
     "output_type": "stream",
     "text": [
      "{'changepoint_prior_scale': 0.101, 'holidays_prior_scale': 0.01, 'seasonality_mode': 'additive', 'seasonality_prior_scale': 0.01}\n"
     ]
    },
    {
     "name": "stderr",
     "output_type": "stream",
     "text": [
      "17:08:37 - cmdstanpy - INFO - Chain [1] start processing\n",
      "17:08:39 - cmdstanpy - INFO - Chain [1] done processing\n",
      "17:08:41 - cmdstanpy - INFO - Chain [1] start processing\n",
      "17:08:41 - cmdstanpy - INFO - Chain [1] start processing\n",
      "17:08:41 - cmdstanpy - INFO - Chain [1] start processing\n",
      "17:08:42 - cmdstanpy - INFO - Chain [1] start processing\n",
      "17:08:42 - cmdstanpy - INFO - Chain [1] start processing\n",
      "17:08:43 - cmdstanpy - INFO - Chain [1] done processing\n",
      "17:08:44 - cmdstanpy - INFO - Chain [1] done processing\n",
      "17:08:46 - cmdstanpy - INFO - Chain [1] done processing\n",
      "17:08:48 - cmdstanpy - INFO - Chain [1] done processing\n",
      "17:08:49 - cmdstanpy - INFO - Chain [1] done processing\n"
     ]
    },
    {
     "name": "stdout",
     "output_type": "stream",
     "text": [
      "{'changepoint_prior_scale': 0.101, 'holidays_prior_scale': 0.01, 'seasonality_mode': 'additive', 'seasonality_prior_scale': 2.51}\n"
     ]
    },
    {
     "name": "stderr",
     "output_type": "stream",
     "text": [
      "17:08:50 - cmdstanpy - INFO - Chain [1] start processing\n",
      "17:08:53 - cmdstanpy - INFO - Chain [1] done processing\n",
      "17:08:54 - cmdstanpy - INFO - Chain [1] start processing\n",
      "17:08:55 - cmdstanpy - INFO - Chain [1] start processing\n",
      "17:08:55 - cmdstanpy - INFO - Chain [1] start processing\n",
      "17:08:55 - cmdstanpy - INFO - Chain [1] start processing\n",
      "17:08:55 - cmdstanpy - INFO - Chain [1] start processing\n",
      "17:08:56 - cmdstanpy - INFO - Chain [1] done processing\n",
      "17:08:58 - cmdstanpy - INFO - Chain [1] done processing\n",
      "17:09:00 - cmdstanpy - INFO - Chain [1] done processing\n",
      "17:09:01 - cmdstanpy - INFO - Chain [1] done processing\n",
      "17:09:01 - cmdstanpy - INFO - Chain [1] done processing\n"
     ]
    },
    {
     "name": "stdout",
     "output_type": "stream",
     "text": [
      "{'changepoint_prior_scale': 0.101, 'holidays_prior_scale': 0.01, 'seasonality_mode': 'additive', 'seasonality_prior_scale': 5.01}\n"
     ]
    },
    {
     "name": "stderr",
     "output_type": "stream",
     "text": [
      "17:09:03 - cmdstanpy - INFO - Chain [1] start processing\n",
      "17:09:05 - cmdstanpy - INFO - Chain [1] done processing\n",
      "17:09:07 - cmdstanpy - INFO - Chain [1] start processing\n",
      "17:09:07 - cmdstanpy - INFO - Chain [1] start processing\n",
      "17:09:08 - cmdstanpy - INFO - Chain [1] start processing\n",
      "17:09:08 - cmdstanpy - INFO - Chain [1] start processing\n",
      "17:09:08 - cmdstanpy - INFO - Chain [1] start processing\n",
      "17:09:09 - cmdstanpy - INFO - Chain [1] done processing\n",
      "17:09:10 - cmdstanpy - INFO - Chain [1] done processing\n",
      "17:09:12 - cmdstanpy - INFO - Chain [1] done processing\n",
      "17:09:14 - cmdstanpy - INFO - Chain [1] done processing\n",
      "17:09:15 - cmdstanpy - INFO - Chain [1] done processing\n"
     ]
    },
    {
     "name": "stdout",
     "output_type": "stream",
     "text": [
      "{'changepoint_prior_scale': 0.101, 'holidays_prior_scale': 0.01, 'seasonality_mode': 'additive', 'seasonality_prior_scale': 7.51}\n"
     ]
    },
    {
     "name": "stderr",
     "output_type": "stream",
     "text": [
      "17:09:17 - cmdstanpy - INFO - Chain [1] start processing\n",
      "17:09:19 - cmdstanpy - INFO - Chain [1] done processing\n",
      "17:09:21 - cmdstanpy - INFO - Chain [1] start processing\n",
      "17:09:21 - cmdstanpy - INFO - Chain [1] start processing\n",
      "17:09:21 - cmdstanpy - INFO - Chain [1] start processing\n",
      "17:09:22 - cmdstanpy - INFO - Chain [1] start processing\n",
      "17:09:22 - cmdstanpy - INFO - Chain [1] start processing\n",
      "17:09:23 - cmdstanpy - INFO - Chain [1] done processing\n",
      "17:09:24 - cmdstanpy - INFO - Chain [1] done processing\n",
      "17:09:26 - cmdstanpy - INFO - Chain [1] done processing\n",
      "17:09:28 - cmdstanpy - INFO - Chain [1] done processing\n",
      "17:09:29 - cmdstanpy - INFO - Chain [1] done processing\n"
     ]
    },
    {
     "name": "stdout",
     "output_type": "stream",
     "text": [
      "{'changepoint_prior_scale': 0.101, 'holidays_prior_scale': 2.51, 'seasonality_mode': 'multiplicative', 'seasonality_prior_scale': 0.01}\n"
     ]
    },
    {
     "name": "stderr",
     "output_type": "stream",
     "text": [
      "17:09:30 - cmdstanpy - INFO - Chain [1] start processing\n",
      "17:09:34 - cmdstanpy - INFO - Chain [1] done processing\n",
      "17:09:36 - cmdstanpy - INFO - Chain [1] start processing\n",
      "17:09:36 - cmdstanpy - INFO - Chain [1] start processing\n",
      "17:09:36 - cmdstanpy - INFO - Chain [1] start processing\n",
      "17:09:36 - cmdstanpy - INFO - Chain [1] start processing\n",
      "17:09:37 - cmdstanpy - INFO - Chain [1] start processing\n",
      "17:09:37 - cmdstanpy - INFO - Chain [1] done processing\n",
      "17:09:39 - cmdstanpy - INFO - Chain [1] done processing\n",
      "17:09:41 - cmdstanpy - INFO - Chain [1] done processing\n",
      "17:09:41 - cmdstanpy - INFO - Chain [1] done processing\n",
      "17:09:42 - cmdstanpy - INFO - Chain [1] done processing\n"
     ]
    },
    {
     "name": "stdout",
     "output_type": "stream",
     "text": [
      "{'changepoint_prior_scale': 0.101, 'holidays_prior_scale': 2.51, 'seasonality_mode': 'multiplicative', 'seasonality_prior_scale': 2.51}\n"
     ]
    },
    {
     "name": "stderr",
     "output_type": "stream",
     "text": [
      "17:09:44 - cmdstanpy - INFO - Chain [1] start processing\n",
      "17:09:49 - cmdstanpy - INFO - Chain [1] done processing\n",
      "17:09:50 - cmdstanpy - INFO - Chain [1] start processing\n",
      "17:09:51 - cmdstanpy - INFO - Chain [1] start processing\n",
      "17:09:51 - cmdstanpy - INFO - Chain [1] start processing\n",
      "17:09:51 - cmdstanpy - INFO - Chain [1] start processing\n",
      "17:09:51 - cmdstanpy - INFO - Chain [1] start processing\n",
      "17:09:52 - cmdstanpy - INFO - Chain [1] done processing\n",
      "17:09:55 - cmdstanpy - INFO - Chain [1] done processing\n",
      "17:09:57 - cmdstanpy - INFO - Chain [1] done processing\n",
      "17:09:59 - cmdstanpy - INFO - Chain [1] done processing\n",
      "17:10:01 - cmdstanpy - INFO - Chain [1] done processing\n"
     ]
    },
    {
     "name": "stdout",
     "output_type": "stream",
     "text": [
      "{'changepoint_prior_scale': 0.101, 'holidays_prior_scale': 2.51, 'seasonality_mode': 'multiplicative', 'seasonality_prior_scale': 5.01}\n"
     ]
    },
    {
     "name": "stderr",
     "output_type": "stream",
     "text": [
      "17:10:03 - cmdstanpy - INFO - Chain [1] start processing\n",
      "17:10:08 - cmdstanpy - INFO - Chain [1] done processing\n",
      "17:10:09 - cmdstanpy - INFO - Chain [1] start processing\n",
      "17:10:10 - cmdstanpy - INFO - Chain [1] start processing\n",
      "17:10:10 - cmdstanpy - INFO - Chain [1] start processing\n",
      "17:10:10 - cmdstanpy - INFO - Chain [1] start processing\n",
      "17:10:10 - cmdstanpy - INFO - Chain [1] start processing\n",
      "17:10:11 - cmdstanpy - INFO - Chain [1] done processing\n",
      "17:10:14 - cmdstanpy - INFO - Chain [1] done processing\n",
      "17:10:16 - cmdstanpy - INFO - Chain [1] done processing\n",
      "17:10:19 - cmdstanpy - INFO - Chain [1] done processing\n",
      "17:10:19 - cmdstanpy - INFO - Chain [1] done processing\n"
     ]
    },
    {
     "name": "stdout",
     "output_type": "stream",
     "text": [
      "{'changepoint_prior_scale': 0.101, 'holidays_prior_scale': 2.51, 'seasonality_mode': 'multiplicative', 'seasonality_prior_scale': 7.51}\n"
     ]
    },
    {
     "name": "stderr",
     "output_type": "stream",
     "text": [
      "17:10:22 - cmdstanpy - INFO - Chain [1] start processing\n",
      "17:10:27 - cmdstanpy - INFO - Chain [1] done processing\n",
      "17:10:28 - cmdstanpy - INFO - Chain [1] start processing\n",
      "17:10:29 - cmdstanpy - INFO - Chain [1] start processing\n",
      "17:10:29 - cmdstanpy - INFO - Chain [1] start processing\n",
      "17:10:29 - cmdstanpy - INFO - Chain [1] start processing\n",
      "17:10:29 - cmdstanpy - INFO - Chain [1] start processing\n",
      "17:10:30 - cmdstanpy - INFO - Chain [1] done processing\n",
      "17:10:33 - cmdstanpy - INFO - Chain [1] done processing\n",
      "17:10:34 - cmdstanpy - INFO - Chain [1] done processing\n",
      "17:10:37 - cmdstanpy - INFO - Chain [1] done processing\n",
      "17:10:38 - cmdstanpy - INFO - Chain [1] done processing\n"
     ]
    },
    {
     "name": "stdout",
     "output_type": "stream",
     "text": [
      "{'changepoint_prior_scale': 0.101, 'holidays_prior_scale': 2.51, 'seasonality_mode': 'additive', 'seasonality_prior_scale': 0.01}\n"
     ]
    },
    {
     "name": "stderr",
     "output_type": "stream",
     "text": [
      "17:10:39 - cmdstanpy - INFO - Chain [1] start processing\n",
      "17:10:42 - cmdstanpy - INFO - Chain [1] done processing\n",
      "17:10:43 - cmdstanpy - INFO - Chain [1] start processing\n",
      "17:10:44 - cmdstanpy - INFO - Chain [1] start processing\n",
      "17:10:44 - cmdstanpy - INFO - Chain [1] start processing\n",
      "17:10:44 - cmdstanpy - INFO - Chain [1] start processing\n",
      "17:10:44 - cmdstanpy - INFO - Chain [1] start processing\n",
      "17:10:45 - cmdstanpy - INFO - Chain [1] done processing\n",
      "17:10:47 - cmdstanpy - INFO - Chain [1] done processing\n",
      "17:10:48 - cmdstanpy - INFO - Chain [1] done processing\n",
      "17:10:49 - cmdstanpy - INFO - Chain [1] done processing\n",
      "17:10:50 - cmdstanpy - INFO - Chain [1] done processing\n"
     ]
    },
    {
     "name": "stdout",
     "output_type": "stream",
     "text": [
      "{'changepoint_prior_scale': 0.101, 'holidays_prior_scale': 2.51, 'seasonality_mode': 'additive', 'seasonality_prior_scale': 2.51}\n"
     ]
    },
    {
     "name": "stderr",
     "output_type": "stream",
     "text": [
      "17:10:51 - cmdstanpy - INFO - Chain [1] start processing\n",
      "17:10:54 - cmdstanpy - INFO - Chain [1] done processing\n",
      "17:10:55 - cmdstanpy - INFO - Chain [1] start processing\n",
      "17:10:56 - cmdstanpy - INFO - Chain [1] start processing\n",
      "17:10:56 - cmdstanpy - INFO - Chain [1] start processing\n",
      "17:10:56 - cmdstanpy - INFO - Chain [1] start processing\n",
      "17:10:56 - cmdstanpy - INFO - Chain [1] start processing\n",
      "17:10:57 - cmdstanpy - INFO - Chain [1] done processing\n",
      "17:10:58 - cmdstanpy - INFO - Chain [1] done processing\n",
      "17:11:01 - cmdstanpy - INFO - Chain [1] done processing\n",
      "17:11:03 - cmdstanpy - INFO - Chain [1] done processing\n",
      "17:11:03 - cmdstanpy - INFO - Chain [1] done processing\n"
     ]
    },
    {
     "name": "stdout",
     "output_type": "stream",
     "text": [
      "{'changepoint_prior_scale': 0.101, 'holidays_prior_scale': 2.51, 'seasonality_mode': 'additive', 'seasonality_prior_scale': 5.01}\n"
     ]
    },
    {
     "name": "stderr",
     "output_type": "stream",
     "text": [
      "17:11:04 - cmdstanpy - INFO - Chain [1] start processing\n",
      "17:11:08 - cmdstanpy - INFO - Chain [1] done processing\n",
      "17:11:09 - cmdstanpy - INFO - Chain [1] start processing\n",
      "17:11:10 - cmdstanpy - INFO - Chain [1] start processing\n",
      "17:11:10 - cmdstanpy - INFO - Chain [1] start processing\n",
      "17:11:10 - cmdstanpy - INFO - Chain [1] start processing\n",
      "17:11:10 - cmdstanpy - INFO - Chain [1] start processing\n",
      "17:11:11 - cmdstanpy - INFO - Chain [1] done processing\n",
      "17:11:12 - cmdstanpy - INFO - Chain [1] done processing\n",
      "17:11:14 - cmdstanpy - INFO - Chain [1] done processing\n",
      "17:11:15 - cmdstanpy - INFO - Chain [1] done processing\n",
      "17:11:16 - cmdstanpy - INFO - Chain [1] done processing\n"
     ]
    },
    {
     "name": "stdout",
     "output_type": "stream",
     "text": [
      "{'changepoint_prior_scale': 0.101, 'holidays_prior_scale': 2.51, 'seasonality_mode': 'additive', 'seasonality_prior_scale': 7.51}\n"
     ]
    },
    {
     "name": "stderr",
     "output_type": "stream",
     "text": [
      "17:11:18 - cmdstanpy - INFO - Chain [1] start processing\n",
      "17:11:20 - cmdstanpy - INFO - Chain [1] done processing\n",
      "17:11:22 - cmdstanpy - INFO - Chain [1] start processing\n",
      "17:11:22 - cmdstanpy - INFO - Chain [1] start processing\n",
      "17:11:22 - cmdstanpy - INFO - Chain [1] start processing\n",
      "17:11:22 - cmdstanpy - INFO - Chain [1] start processing\n",
      "17:11:23 - cmdstanpy - INFO - Chain [1] start processing\n",
      "17:11:23 - cmdstanpy - INFO - Chain [1] done processing\n",
      "17:11:25 - cmdstanpy - INFO - Chain [1] done processing\n",
      "17:11:27 - cmdstanpy - INFO - Chain [1] done processing\n",
      "17:11:28 - cmdstanpy - INFO - Chain [1] done processing\n",
      "17:11:29 - cmdstanpy - INFO - Chain [1] done processing\n"
     ]
    },
    {
     "name": "stdout",
     "output_type": "stream",
     "text": [
      "{'changepoint_prior_scale': 0.101, 'holidays_prior_scale': 5.01, 'seasonality_mode': 'multiplicative', 'seasonality_prior_scale': 0.01}\n"
     ]
    },
    {
     "name": "stderr",
     "output_type": "stream",
     "text": [
      "17:11:31 - cmdstanpy - INFO - Chain [1] start processing\n",
      "17:11:34 - cmdstanpy - INFO - Chain [1] done processing\n",
      "17:11:36 - cmdstanpy - INFO - Chain [1] start processing\n",
      "17:11:36 - cmdstanpy - INFO - Chain [1] start processing\n",
      "17:11:37 - cmdstanpy - INFO - Chain [1] start processing\n",
      "17:11:37 - cmdstanpy - INFO - Chain [1] start processing\n",
      "17:11:37 - cmdstanpy - INFO - Chain [1] start processing\n",
      "17:11:37 - cmdstanpy - INFO - Chain [1] done processing\n",
      "17:11:40 - cmdstanpy - INFO - Chain [1] done processing\n",
      "17:11:41 - cmdstanpy - INFO - Chain [1] done processing\n",
      "17:11:42 - cmdstanpy - INFO - Chain [1] done processing\n",
      "17:11:43 - cmdstanpy - INFO - Chain [1] done processing\n"
     ]
    },
    {
     "name": "stdout",
     "output_type": "stream",
     "text": [
      "{'changepoint_prior_scale': 0.101, 'holidays_prior_scale': 5.01, 'seasonality_mode': 'multiplicative', 'seasonality_prior_scale': 2.51}\n"
     ]
    },
    {
     "name": "stderr",
     "output_type": "stream",
     "text": [
      "17:11:45 - cmdstanpy - INFO - Chain [1] start processing\n",
      "17:11:52 - cmdstanpy - INFO - Chain [1] done processing\n",
      "17:11:53 - cmdstanpy - INFO - Chain [1] start processing\n",
      "17:11:53 - cmdstanpy - INFO - Chain [1] start processing\n",
      "17:11:54 - cmdstanpy - INFO - Chain [1] start processing\n",
      "17:11:54 - cmdstanpy - INFO - Chain [1] start processing\n",
      "17:11:54 - cmdstanpy - INFO - Chain [1] start processing\n",
      "17:11:55 - cmdstanpy - INFO - Chain [1] done processing\n",
      "17:11:57 - cmdstanpy - INFO - Chain [1] done processing\n",
      "17:11:59 - cmdstanpy - INFO - Chain [1] done processing\n",
      "17:12:02 - cmdstanpy - INFO - Chain [1] done processing\n",
      "17:12:02 - cmdstanpy - INFO - Chain [1] done processing\n"
     ]
    },
    {
     "name": "stdout",
     "output_type": "stream",
     "text": [
      "{'changepoint_prior_scale': 0.101, 'holidays_prior_scale': 5.01, 'seasonality_mode': 'multiplicative', 'seasonality_prior_scale': 5.01}\n"
     ]
    },
    {
     "name": "stderr",
     "output_type": "stream",
     "text": [
      "17:12:04 - cmdstanpy - INFO - Chain [1] start processing\n",
      "17:12:09 - cmdstanpy - INFO - Chain [1] done processing\n",
      "17:12:11 - cmdstanpy - INFO - Chain [1] start processing\n",
      "17:12:11 - cmdstanpy - INFO - Chain [1] start processing\n",
      "17:12:11 - cmdstanpy - INFO - Chain [1] start processing\n",
      "17:12:12 - cmdstanpy - INFO - Chain [1] start processing\n",
      "17:12:12 - cmdstanpy - INFO - Chain [1] start processing\n",
      "17:12:13 - cmdstanpy - INFO - Chain [1] done processing\n",
      "17:12:15 - cmdstanpy - INFO - Chain [1] done processing\n",
      "17:12:17 - cmdstanpy - INFO - Chain [1] done processing\n",
      "17:12:21 - cmdstanpy - INFO - Chain [1] done processing\n",
      "17:12:22 - cmdstanpy - INFO - Chain [1] done processing\n"
     ]
    },
    {
     "name": "stdout",
     "output_type": "stream",
     "text": [
      "{'changepoint_prior_scale': 0.101, 'holidays_prior_scale': 5.01, 'seasonality_mode': 'multiplicative', 'seasonality_prior_scale': 7.51}\n"
     ]
    },
    {
     "name": "stderr",
     "output_type": "stream",
     "text": [
      "17:12:23 - cmdstanpy - INFO - Chain [1] start processing\n",
      "17:12:28 - cmdstanpy - INFO - Chain [1] done processing\n",
      "17:12:30 - cmdstanpy - INFO - Chain [1] start processing\n",
      "17:12:30 - cmdstanpy - INFO - Chain [1] start processing\n",
      "17:12:30 - cmdstanpy - INFO - Chain [1] start processing\n",
      "17:12:31 - cmdstanpy - INFO - Chain [1] start processing\n",
      "17:12:31 - cmdstanpy - INFO - Chain [1] start processing\n",
      "17:12:31 - cmdstanpy - INFO - Chain [1] done processing\n",
      "17:12:34 - cmdstanpy - INFO - Chain [1] done processing\n",
      "17:12:35 - cmdstanpy - INFO - Chain [1] done processing\n",
      "17:12:38 - cmdstanpy - INFO - Chain [1] done processing\n",
      "17:12:39 - cmdstanpy - INFO - Chain [1] done processing\n"
     ]
    },
    {
     "name": "stdout",
     "output_type": "stream",
     "text": [
      "{'changepoint_prior_scale': 0.101, 'holidays_prior_scale': 5.01, 'seasonality_mode': 'additive', 'seasonality_prior_scale': 0.01}\n"
     ]
    },
    {
     "name": "stderr",
     "output_type": "stream",
     "text": [
      "17:12:41 - cmdstanpy - INFO - Chain [1] start processing\n",
      "17:12:44 - cmdstanpy - INFO - Chain [1] done processing\n",
      "17:12:45 - cmdstanpy - INFO - Chain [1] start processing\n",
      "17:12:46 - cmdstanpy - INFO - Chain [1] start processing\n",
      "17:12:46 - cmdstanpy - INFO - Chain [1] start processing\n",
      "17:12:46 - cmdstanpy - INFO - Chain [1] start processing\n",
      "17:12:46 - cmdstanpy - INFO - Chain [1] start processing\n",
      "17:12:47 - cmdstanpy - INFO - Chain [1] done processing\n",
      "17:12:48 - cmdstanpy - INFO - Chain [1] done processing\n",
      "17:12:51 - cmdstanpy - INFO - Chain [1] done processing\n",
      "17:12:51 - cmdstanpy - INFO - Chain [1] done processing\n",
      "17:12:52 - cmdstanpy - INFO - Chain [1] done processing\n"
     ]
    },
    {
     "name": "stdout",
     "output_type": "stream",
     "text": [
      "{'changepoint_prior_scale': 0.101, 'holidays_prior_scale': 5.01, 'seasonality_mode': 'additive', 'seasonality_prior_scale': 2.51}\n"
     ]
    },
    {
     "name": "stderr",
     "output_type": "stream",
     "text": [
      "17:12:54 - cmdstanpy - INFO - Chain [1] start processing\n",
      "17:12:57 - cmdstanpy - INFO - Chain [1] done processing\n",
      "17:12:58 - cmdstanpy - INFO - Chain [1] start processing\n",
      "17:12:59 - cmdstanpy - INFO - Chain [1] start processing\n",
      "17:12:59 - cmdstanpy - INFO - Chain [1] start processing\n",
      "17:12:59 - cmdstanpy - INFO - Chain [1] done processing\n",
      "17:12:59 - cmdstanpy - INFO - Chain [1] start processing\n",
      "17:13:00 - cmdstanpy - INFO - Chain [1] start processing\n",
      "17:13:04 - cmdstanpy - INFO - Chain [1] done processing\n",
      "17:13:04 - cmdstanpy - INFO - Chain [1] done processing\n",
      "17:13:06 - cmdstanpy - INFO - Chain [1] done processing\n",
      "17:13:08 - cmdstanpy - INFO - Chain [1] done processing\n"
     ]
    },
    {
     "name": "stdout",
     "output_type": "stream",
     "text": [
      "{'changepoint_prior_scale': 0.101, 'holidays_prior_scale': 5.01, 'seasonality_mode': 'additive', 'seasonality_prior_scale': 5.01}\n"
     ]
    },
    {
     "name": "stderr",
     "output_type": "stream",
     "text": [
      "17:13:10 - cmdstanpy - INFO - Chain [1] start processing\n",
      "17:13:13 - cmdstanpy - INFO - Chain [1] done processing\n",
      "17:13:14 - cmdstanpy - INFO - Chain [1] start processing\n",
      "17:13:15 - cmdstanpy - INFO - Chain [1] start processing\n",
      "17:13:15 - cmdstanpy - INFO - Chain [1] start processing\n",
      "17:13:15 - cmdstanpy - INFO - Chain [1] start processing\n",
      "17:13:15 - cmdstanpy - INFO - Chain [1] start processing\n",
      "17:13:15 - cmdstanpy - INFO - Chain [1] done processing\n",
      "17:13:18 - cmdstanpy - INFO - Chain [1] done processing\n",
      "17:13:19 - cmdstanpy - INFO - Chain [1] done processing\n",
      "17:13:20 - cmdstanpy - INFO - Chain [1] done processing\n",
      "17:13:21 - cmdstanpy - INFO - Chain [1] done processing\n"
     ]
    },
    {
     "name": "stdout",
     "output_type": "stream",
     "text": [
      "{'changepoint_prior_scale': 0.101, 'holidays_prior_scale': 5.01, 'seasonality_mode': 'additive', 'seasonality_prior_scale': 7.51}\n"
     ]
    },
    {
     "name": "stderr",
     "output_type": "stream",
     "text": [
      "17:13:23 - cmdstanpy - INFO - Chain [1] start processing\n",
      "17:13:25 - cmdstanpy - INFO - Chain [1] done processing\n",
      "17:13:27 - cmdstanpy - INFO - Chain [1] start processing\n",
      "17:13:27 - cmdstanpy - INFO - Chain [1] start processing\n",
      "17:13:27 - cmdstanpy - INFO - Chain [1] start processing\n",
      "17:13:27 - cmdstanpy - INFO - Chain [1] start processing\n",
      "17:13:28 - cmdstanpy - INFO - Chain [1] start processing\n",
      "17:13:28 - cmdstanpy - INFO - Chain [1] done processing\n",
      "17:13:30 - cmdstanpy - INFO - Chain [1] done processing\n",
      "17:13:32 - cmdstanpy - INFO - Chain [1] done processing\n",
      "17:13:34 - cmdstanpy - INFO - Chain [1] done processing\n",
      "17:13:34 - cmdstanpy - INFO - Chain [1] done processing\n"
     ]
    },
    {
     "name": "stdout",
     "output_type": "stream",
     "text": [
      "{'changepoint_prior_scale': 0.101, 'holidays_prior_scale': 7.51, 'seasonality_mode': 'multiplicative', 'seasonality_prior_scale': 0.01}\n"
     ]
    },
    {
     "name": "stderr",
     "output_type": "stream",
     "text": [
      "17:13:36 - cmdstanpy - INFO - Chain [1] start processing\n",
      "17:13:39 - cmdstanpy - INFO - Chain [1] done processing\n",
      "17:13:40 - cmdstanpy - INFO - Chain [1] start processing\n",
      "17:13:41 - cmdstanpy - INFO - Chain [1] start processing\n",
      "17:13:41 - cmdstanpy - INFO - Chain [1] start processing\n",
      "17:13:41 - cmdstanpy - INFO - Chain [1] start processing\n",
      "17:13:42 - cmdstanpy - INFO - Chain [1] start processing\n",
      "17:13:42 - cmdstanpy - INFO - Chain [1] done processing\n",
      "17:13:44 - cmdstanpy - INFO - Chain [1] done processing\n",
      "17:13:46 - cmdstanpy - INFO - Chain [1] done processing\n",
      "17:13:46 - cmdstanpy - INFO - Chain [1] done processing\n",
      "17:13:49 - cmdstanpy - INFO - Chain [1] done processing\n"
     ]
    },
    {
     "name": "stdout",
     "output_type": "stream",
     "text": [
      "{'changepoint_prior_scale': 0.101, 'holidays_prior_scale': 7.51, 'seasonality_mode': 'multiplicative', 'seasonality_prior_scale': 2.51}\n"
     ]
    },
    {
     "name": "stderr",
     "output_type": "stream",
     "text": [
      "17:13:50 - cmdstanpy - INFO - Chain [1] start processing\n",
      "17:13:55 - cmdstanpy - INFO - Chain [1] done processing\n",
      "17:13:57 - cmdstanpy - INFO - Chain [1] start processing\n",
      "17:13:57 - cmdstanpy - INFO - Chain [1] start processing\n",
      "17:13:57 - cmdstanpy - INFO - Chain [1] start processing\n",
      "17:13:58 - cmdstanpy - INFO - Chain [1] start processing\n",
      "17:13:58 - cmdstanpy - INFO - Chain [1] start processing\n",
      "17:13:58 - cmdstanpy - INFO - Chain [1] done processing\n",
      "17:14:01 - cmdstanpy - INFO - Chain [1] done processing\n",
      "17:14:03 - cmdstanpy - INFO - Chain [1] done processing\n",
      "17:14:06 - cmdstanpy - INFO - Chain [1] done processing\n",
      "17:14:06 - cmdstanpy - INFO - Chain [1] done processing\n"
     ]
    },
    {
     "name": "stdout",
     "output_type": "stream",
     "text": [
      "{'changepoint_prior_scale': 0.101, 'holidays_prior_scale': 7.51, 'seasonality_mode': 'multiplicative', 'seasonality_prior_scale': 5.01}\n"
     ]
    },
    {
     "name": "stderr",
     "output_type": "stream",
     "text": [
      "17:14:08 - cmdstanpy - INFO - Chain [1] start processing\n",
      "17:14:13 - cmdstanpy - INFO - Chain [1] done processing\n",
      "17:14:15 - cmdstanpy - INFO - Chain [1] start processing\n",
      "17:14:15 - cmdstanpy - INFO - Chain [1] start processing\n",
      "17:14:15 - cmdstanpy - INFO - Chain [1] start processing\n",
      "17:14:15 - cmdstanpy - INFO - Chain [1] start processing\n",
      "17:14:16 - cmdstanpy - INFO - Chain [1] start processing\n",
      "17:14:16 - cmdstanpy - INFO - Chain [1] done processing\n",
      "17:14:19 - cmdstanpy - INFO - Chain [1] done processing\n",
      "17:14:21 - cmdstanpy - INFO - Chain [1] done processing\n",
      "17:14:22 - cmdstanpy - INFO - Chain [1] done processing\n",
      "17:14:25 - cmdstanpy - INFO - Chain [1] done processing\n"
     ]
    },
    {
     "name": "stdout",
     "output_type": "stream",
     "text": [
      "{'changepoint_prior_scale': 0.101, 'holidays_prior_scale': 7.51, 'seasonality_mode': 'multiplicative', 'seasonality_prior_scale': 7.51}\n"
     ]
    },
    {
     "name": "stderr",
     "output_type": "stream",
     "text": [
      "17:14:26 - cmdstanpy - INFO - Chain [1] start processing\n",
      "17:14:31 - cmdstanpy - INFO - Chain [1] done processing\n",
      "17:14:33 - cmdstanpy - INFO - Chain [1] start processing\n",
      "17:14:33 - cmdstanpy - INFO - Chain [1] start processing\n",
      "17:14:33 - cmdstanpy - INFO - Chain [1] start processing\n",
      "17:14:34 - cmdstanpy - INFO - Chain [1] start processing\n",
      "17:14:34 - cmdstanpy - INFO - Chain [1] start processing\n",
      "17:14:35 - cmdstanpy - INFO - Chain [1] done processing\n",
      "17:14:38 - cmdstanpy - INFO - Chain [1] done processing\n",
      "17:14:39 - cmdstanpy - INFO - Chain [1] done processing\n",
      "17:14:42 - cmdstanpy - INFO - Chain [1] done processing\n",
      "17:14:43 - cmdstanpy - INFO - Chain [1] done processing\n"
     ]
    },
    {
     "name": "stdout",
     "output_type": "stream",
     "text": [
      "{'changepoint_prior_scale': 0.101, 'holidays_prior_scale': 7.51, 'seasonality_mode': 'additive', 'seasonality_prior_scale': 0.01}\n"
     ]
    },
    {
     "name": "stderr",
     "output_type": "stream",
     "text": [
      "17:14:45 - cmdstanpy - INFO - Chain [1] start processing\n",
      "17:14:47 - cmdstanpy - INFO - Chain [1] done processing\n",
      "17:14:49 - cmdstanpy - INFO - Chain [1] start processing\n",
      "17:14:49 - cmdstanpy - INFO - Chain [1] start processing\n",
      "17:14:49 - cmdstanpy - INFO - Chain [1] start processing\n",
      "17:14:50 - cmdstanpy - INFO - Chain [1] start processing\n",
      "17:14:50 - cmdstanpy - INFO - Chain [1] start processing\n",
      "17:14:51 - cmdstanpy - INFO - Chain [1] done processing\n",
      "17:14:52 - cmdstanpy - INFO - Chain [1] done processing\n",
      "17:14:54 - cmdstanpy - INFO - Chain [1] done processing\n",
      "17:14:56 - cmdstanpy - INFO - Chain [1] done processing\n",
      "17:14:57 - cmdstanpy - INFO - Chain [1] done processing\n"
     ]
    },
    {
     "name": "stdout",
     "output_type": "stream",
     "text": [
      "{'changepoint_prior_scale': 0.101, 'holidays_prior_scale': 7.51, 'seasonality_mode': 'additive', 'seasonality_prior_scale': 2.51}\n"
     ]
    },
    {
     "name": "stderr",
     "output_type": "stream",
     "text": [
      "17:14:58 - cmdstanpy - INFO - Chain [1] start processing\n",
      "17:15:01 - cmdstanpy - INFO - Chain [1] done processing\n",
      "17:15:03 - cmdstanpy - INFO - Chain [1] start processing\n",
      "17:15:03 - cmdstanpy - INFO - Chain [1] start processing\n",
      "17:15:03 - cmdstanpy - INFO - Chain [1] start processing\n",
      "17:15:03 - cmdstanpy - INFO - Chain [1] start processing\n",
      "17:15:04 - cmdstanpy - INFO - Chain [1] start processing\n",
      "17:15:05 - cmdstanpy - INFO - Chain [1] done processing\n",
      "17:15:07 - cmdstanpy - INFO - Chain [1] done processing\n",
      "17:15:09 - cmdstanpy - INFO - Chain [1] done processing\n",
      "17:15:09 - cmdstanpy - INFO - Chain [1] done processing\n",
      "17:15:11 - cmdstanpy - INFO - Chain [1] done processing\n"
     ]
    },
    {
     "name": "stdout",
     "output_type": "stream",
     "text": [
      "{'changepoint_prior_scale': 0.101, 'holidays_prior_scale': 7.51, 'seasonality_mode': 'additive', 'seasonality_prior_scale': 5.01}\n"
     ]
    },
    {
     "name": "stderr",
     "output_type": "stream",
     "text": [
      "17:15:12 - cmdstanpy - INFO - Chain [1] start processing\n",
      "17:15:15 - cmdstanpy - INFO - Chain [1] done processing\n",
      "17:15:17 - cmdstanpy - INFO - Chain [1] start processing\n",
      "17:15:17 - cmdstanpy - INFO - Chain [1] start processing\n",
      "17:15:18 - cmdstanpy - INFO - Chain [1] start processing\n",
      "17:15:18 - cmdstanpy - INFO - Chain [1] start processing\n",
      "17:15:18 - cmdstanpy - INFO - Chain [1] start processing\n",
      "17:15:18 - cmdstanpy - INFO - Chain [1] done processing\n",
      "17:15:20 - cmdstanpy - INFO - Chain [1] done processing\n",
      "17:15:21 - cmdstanpy - INFO - Chain [1] done processing\n",
      "17:15:22 - cmdstanpy - INFO - Chain [1] done processing\n",
      "17:15:25 - cmdstanpy - INFO - Chain [1] done processing\n"
     ]
    },
    {
     "name": "stdout",
     "output_type": "stream",
     "text": [
      "{'changepoint_prior_scale': 0.101, 'holidays_prior_scale': 7.51, 'seasonality_mode': 'additive', 'seasonality_prior_scale': 7.51}\n"
     ]
    },
    {
     "name": "stderr",
     "output_type": "stream",
     "text": [
      "17:15:26 - cmdstanpy - INFO - Chain [1] start processing\n",
      "17:15:29 - cmdstanpy - INFO - Chain [1] done processing\n",
      "17:15:31 - cmdstanpy - INFO - Chain [1] start processing\n",
      "17:15:31 - cmdstanpy - INFO - Chain [1] start processing\n",
      "17:15:31 - cmdstanpy - INFO - Chain [1] start processing\n",
      "17:15:32 - cmdstanpy - INFO - Chain [1] start processing\n",
      "17:15:32 - cmdstanpy - INFO - Chain [1] start processing\n",
      "17:15:32 - cmdstanpy - INFO - Chain [1] done processing\n",
      "17:15:34 - cmdstanpy - INFO - Chain [1] done processing\n",
      "17:15:36 - cmdstanpy - INFO - Chain [1] done processing\n",
      "17:15:36 - cmdstanpy - INFO - Chain [1] done processing\n",
      "17:15:39 - cmdstanpy - INFO - Chain [1] done processing\n"
     ]
    },
    {
     "name": "stdout",
     "output_type": "stream",
     "text": [
      "{'changepoint_prior_scale': 0.201, 'holidays_prior_scale': 0.01, 'seasonality_mode': 'multiplicative', 'seasonality_prior_scale': 0.01}\n"
     ]
    },
    {
     "name": "stderr",
     "output_type": "stream",
     "text": [
      "17:15:40 - cmdstanpy - INFO - Chain [1] start processing\n",
      "17:15:47 - cmdstanpy - INFO - Chain [1] done processing\n",
      "17:15:48 - cmdstanpy - INFO - Chain [1] start processing\n",
      "17:15:49 - cmdstanpy - INFO - Chain [1] start processing\n",
      "17:15:49 - cmdstanpy - INFO - Chain [1] start processing\n",
      "17:15:49 - cmdstanpy - INFO - Chain [1] start processing\n",
      "17:15:49 - cmdstanpy - INFO - Chain [1] done processing\n",
      "17:15:50 - cmdstanpy - INFO - Chain [1] start processing\n",
      "17:15:52 - cmdstanpy - INFO - Chain [1] done processing\n",
      "17:15:55 - cmdstanpy - INFO - Chain [1] done processing\n",
      "17:15:55 - cmdstanpy - INFO - Chain [1] done processing\n",
      "17:15:56 - cmdstanpy - INFO - Chain [1] done processing\n"
     ]
    },
    {
     "name": "stdout",
     "output_type": "stream",
     "text": [
      "{'changepoint_prior_scale': 0.201, 'holidays_prior_scale': 0.01, 'seasonality_mode': 'multiplicative', 'seasonality_prior_scale': 2.51}\n"
     ]
    },
    {
     "name": "stderr",
     "output_type": "stream",
     "text": [
      "17:15:58 - cmdstanpy - INFO - Chain [1] start processing\n",
      "17:16:03 - cmdstanpy - INFO - Chain [1] done processing\n",
      "17:16:04 - cmdstanpy - INFO - Chain [1] start processing\n",
      "17:16:05 - cmdstanpy - INFO - Chain [1] start processing\n",
      "17:16:05 - cmdstanpy - INFO - Chain [1] start processing\n",
      "17:16:05 - cmdstanpy - INFO - Chain [1] start processing\n",
      "17:16:05 - cmdstanpy - INFO - Chain [1] start processing\n",
      "17:16:06 - cmdstanpy - INFO - Chain [1] done processing\n",
      "17:16:10 - cmdstanpy - INFO - Chain [1] done processing\n",
      "17:16:11 - cmdstanpy - INFO - Chain [1] done processing\n",
      "17:16:11 - cmdstanpy - INFO - Chain [1] done processing\n",
      "17:16:13 - cmdstanpy - INFO - Chain [1] done processing\n"
     ]
    },
    {
     "name": "stdout",
     "output_type": "stream",
     "text": [
      "{'changepoint_prior_scale': 0.201, 'holidays_prior_scale': 0.01, 'seasonality_mode': 'multiplicative', 'seasonality_prior_scale': 5.01}\n"
     ]
    },
    {
     "name": "stderr",
     "output_type": "stream",
     "text": [
      "17:16:15 - cmdstanpy - INFO - Chain [1] start processing\n",
      "17:16:20 - cmdstanpy - INFO - Chain [1] done processing\n",
      "17:16:22 - cmdstanpy - INFO - Chain [1] start processing\n",
      "17:16:22 - cmdstanpy - INFO - Chain [1] start processing\n",
      "17:16:23 - cmdstanpy - INFO - Chain [1] start processing\n",
      "17:16:23 - cmdstanpy - INFO - Chain [1] start processing\n",
      "17:16:23 - cmdstanpy - INFO - Chain [1] start processing\n",
      "17:16:24 - cmdstanpy - INFO - Chain [1] done processing\n",
      "17:16:26 - cmdstanpy - INFO - Chain [1] done processing\n",
      "17:16:29 - cmdstanpy - INFO - Chain [1] done processing\n",
      "17:16:29 - cmdstanpy - INFO - Chain [1] done processing\n",
      "17:16:32 - cmdstanpy - INFO - Chain [1] done processing\n"
     ]
    },
    {
     "name": "stdout",
     "output_type": "stream",
     "text": [
      "{'changepoint_prior_scale': 0.201, 'holidays_prior_scale': 0.01, 'seasonality_mode': 'multiplicative', 'seasonality_prior_scale': 7.51}\n"
     ]
    },
    {
     "name": "stderr",
     "output_type": "stream",
     "text": [
      "17:16:34 - cmdstanpy - INFO - Chain [1] start processing\n",
      "17:16:40 - cmdstanpy - INFO - Chain [1] done processing\n",
      "17:16:42 - cmdstanpy - INFO - Chain [1] start processing\n",
      "17:16:42 - cmdstanpy - INFO - Chain [1] start processing\n",
      "17:16:42 - cmdstanpy - INFO - Chain [1] start processing\n",
      "17:16:43 - cmdstanpy - INFO - Chain [1] start processing\n",
      "17:16:43 - cmdstanpy - INFO - Chain [1] start processing\n",
      "17:16:44 - cmdstanpy - INFO - Chain [1] done processing\n",
      "17:16:47 - cmdstanpy - INFO - Chain [1] done processing\n",
      "17:16:49 - cmdstanpy - INFO - Chain [1] done processing\n",
      "17:16:50 - cmdstanpy - INFO - Chain [1] done processing\n",
      "17:16:51 - cmdstanpy - INFO - Chain [1] done processing\n"
     ]
    },
    {
     "name": "stdout",
     "output_type": "stream",
     "text": [
      "{'changepoint_prior_scale': 0.201, 'holidays_prior_scale': 0.01, 'seasonality_mode': 'additive', 'seasonality_prior_scale': 0.01}\n"
     ]
    },
    {
     "name": "stderr",
     "output_type": "stream",
     "text": [
      "17:16:53 - cmdstanpy - INFO - Chain [1] start processing\n",
      "17:16:55 - cmdstanpy - INFO - Chain [1] done processing\n",
      "17:16:56 - cmdstanpy - INFO - Chain [1] start processing\n",
      "17:16:57 - cmdstanpy - INFO - Chain [1] start processing\n",
      "17:16:57 - cmdstanpy - INFO - Chain [1] start processing\n",
      "17:16:57 - cmdstanpy - INFO - Chain [1] start processing\n",
      "17:16:57 - cmdstanpy - INFO - Chain [1] start processing\n",
      "17:16:58 - cmdstanpy - INFO - Chain [1] done processing\n",
      "17:16:59 - cmdstanpy - INFO - Chain [1] done processing\n",
      "17:17:02 - cmdstanpy - INFO - Chain [1] done processing\n",
      "17:17:02 - cmdstanpy - INFO - Chain [1] done processing\n",
      "17:17:03 - cmdstanpy - INFO - Chain [1] done processing\n"
     ]
    },
    {
     "name": "stdout",
     "output_type": "stream",
     "text": [
      "{'changepoint_prior_scale': 0.201, 'holidays_prior_scale': 0.01, 'seasonality_mode': 'additive', 'seasonality_prior_scale': 2.51}\n"
     ]
    },
    {
     "name": "stderr",
     "output_type": "stream",
     "text": [
      "17:17:05 - cmdstanpy - INFO - Chain [1] start processing\n",
      "17:17:08 - cmdstanpy - INFO - Chain [1] done processing\n",
      "17:17:09 - cmdstanpy - INFO - Chain [1] start processing\n",
      "17:17:10 - cmdstanpy - INFO - Chain [1] start processing\n",
      "17:17:10 - cmdstanpy - INFO - Chain [1] start processing\n",
      "17:17:10 - cmdstanpy - INFO - Chain [1] start processing\n",
      "17:17:11 - cmdstanpy - INFO - Chain [1] start processing\n",
      "17:17:11 - cmdstanpy - INFO - Chain [1] done processing\n",
      "17:17:13 - cmdstanpy - INFO - Chain [1] done processing\n",
      "17:17:15 - cmdstanpy - INFO - Chain [1] done processing\n",
      "17:17:16 - cmdstanpy - INFO - Chain [1] done processing\n",
      "17:17:17 - cmdstanpy - INFO - Chain [1] done processing\n"
     ]
    },
    {
     "name": "stdout",
     "output_type": "stream",
     "text": [
      "{'changepoint_prior_scale': 0.201, 'holidays_prior_scale': 0.01, 'seasonality_mode': 'additive', 'seasonality_prior_scale': 5.01}\n"
     ]
    },
    {
     "name": "stderr",
     "output_type": "stream",
     "text": [
      "17:17:18 - cmdstanpy - INFO - Chain [1] start processing\n",
      "17:17:21 - cmdstanpy - INFO - Chain [1] done processing\n",
      "17:17:22 - cmdstanpy - INFO - Chain [1] start processing\n",
      "17:17:23 - cmdstanpy - INFO - Chain [1] start processing\n",
      "17:17:23 - cmdstanpy - INFO - Chain [1] start processing\n",
      "17:17:23 - cmdstanpy - INFO - Chain [1] start processing\n",
      "17:17:23 - cmdstanpy - INFO - Chain [1] start processing\n",
      "17:17:24 - cmdstanpy - INFO - Chain [1] done processing\n",
      "17:17:26 - cmdstanpy - INFO - Chain [1] done processing\n",
      "17:17:28 - cmdstanpy - INFO - Chain [1] done processing\n",
      "17:17:30 - cmdstanpy - INFO - Chain [1] done processing\n",
      "17:17:30 - cmdstanpy - INFO - Chain [1] done processing\n"
     ]
    },
    {
     "name": "stdout",
     "output_type": "stream",
     "text": [
      "{'changepoint_prior_scale': 0.201, 'holidays_prior_scale': 0.01, 'seasonality_mode': 'additive', 'seasonality_prior_scale': 7.51}\n"
     ]
    },
    {
     "name": "stderr",
     "output_type": "stream",
     "text": [
      "17:17:32 - cmdstanpy - INFO - Chain [1] start processing\n",
      "17:17:35 - cmdstanpy - INFO - Chain [1] done processing\n",
      "17:17:36 - cmdstanpy - INFO - Chain [1] start processing\n",
      "17:17:37 - cmdstanpy - INFO - Chain [1] start processing\n",
      "17:17:37 - cmdstanpy - INFO - Chain [1] start processing\n",
      "17:17:37 - cmdstanpy - INFO - Chain [1] start processing\n",
      "17:17:37 - cmdstanpy - INFO - Chain [1] done processing\n",
      "17:17:37 - cmdstanpy - INFO - Chain [1] start processing\n",
      "17:17:40 - cmdstanpy - INFO - Chain [1] done processing\n",
      "17:17:42 - cmdstanpy - INFO - Chain [1] done processing\n",
      "17:17:43 - cmdstanpy - INFO - Chain [1] done processing\n",
      "17:17:44 - cmdstanpy - INFO - Chain [1] done processing\n"
     ]
    },
    {
     "name": "stdout",
     "output_type": "stream",
     "text": [
      "{'changepoint_prior_scale': 0.201, 'holidays_prior_scale': 2.51, 'seasonality_mode': 'multiplicative', 'seasonality_prior_scale': 0.01}\n"
     ]
    },
    {
     "name": "stderr",
     "output_type": "stream",
     "text": [
      "17:17:45 - cmdstanpy - INFO - Chain [1] start processing\n",
      "17:17:50 - cmdstanpy - INFO - Chain [1] done processing\n",
      "17:17:52 - cmdstanpy - INFO - Chain [1] start processing\n",
      "17:17:52 - cmdstanpy - INFO - Chain [1] start processing\n",
      "17:17:53 - cmdstanpy - INFO - Chain [1] start processing\n",
      "17:17:53 - cmdstanpy - INFO - Chain [1] start processing\n",
      "17:17:53 - cmdstanpy - INFO - Chain [1] start processing\n",
      "17:17:53 - cmdstanpy - INFO - Chain [1] done processing\n",
      "17:17:56 - cmdstanpy - INFO - Chain [1] done processing\n",
      "17:17:57 - cmdstanpy - INFO - Chain [1] done processing\n",
      "17:17:58 - cmdstanpy - INFO - Chain [1] done processing\n",
      "17:18:00 - cmdstanpy - INFO - Chain [1] done processing\n"
     ]
    },
    {
     "name": "stdout",
     "output_type": "stream",
     "text": [
      "{'changepoint_prior_scale': 0.201, 'holidays_prior_scale': 2.51, 'seasonality_mode': 'multiplicative', 'seasonality_prior_scale': 2.51}\n"
     ]
    },
    {
     "name": "stderr",
     "output_type": "stream",
     "text": [
      "17:18:02 - cmdstanpy - INFO - Chain [1] start processing\n",
      "17:18:06 - cmdstanpy - INFO - Chain [1] done processing\n",
      "17:18:08 - cmdstanpy - INFO - Chain [1] start processing\n",
      "17:18:08 - cmdstanpy - INFO - Chain [1] start processing\n",
      "17:18:08 - cmdstanpy - INFO - Chain [1] start processing\n",
      "17:18:08 - cmdstanpy - INFO - Chain [1] start processing\n",
      "17:18:09 - cmdstanpy - INFO - Chain [1] start processing\n",
      "17:18:11 - cmdstanpy - INFO - Chain [1] done processing\n",
      "17:18:12 - cmdstanpy - INFO - Chain [1] done processing\n",
      "17:18:14 - cmdstanpy - INFO - Chain [1] done processing\n",
      "17:18:16 - cmdstanpy - INFO - Chain [1] done processing\n",
      "17:18:17 - cmdstanpy - INFO - Chain [1] done processing\n"
     ]
    },
    {
     "name": "stdout",
     "output_type": "stream",
     "text": [
      "{'changepoint_prior_scale': 0.201, 'holidays_prior_scale': 2.51, 'seasonality_mode': 'multiplicative', 'seasonality_prior_scale': 5.01}\n"
     ]
    },
    {
     "name": "stderr",
     "output_type": "stream",
     "text": [
      "17:18:18 - cmdstanpy - INFO - Chain [1] start processing\n",
      "17:18:23 - cmdstanpy - INFO - Chain [1] done processing\n",
      "17:18:25 - cmdstanpy - INFO - Chain [1] start processing\n",
      "17:18:25 - cmdstanpy - INFO - Chain [1] start processing\n",
      "17:18:25 - cmdstanpy - INFO - Chain [1] start processing\n",
      "17:18:26 - cmdstanpy - INFO - Chain [1] start processing\n",
      "17:18:26 - cmdstanpy - INFO - Chain [1] start processing\n",
      "17:18:28 - cmdstanpy - INFO - Chain [1] done processing\n",
      "17:18:29 - cmdstanpy - INFO - Chain [1] done processing\n",
      "17:18:31 - cmdstanpy - INFO - Chain [1] done processing\n",
      "17:18:33 - cmdstanpy - INFO - Chain [1] done processing\n",
      "17:18:33 - cmdstanpy - INFO - Chain [1] done processing\n"
     ]
    },
    {
     "name": "stdout",
     "output_type": "stream",
     "text": [
      "{'changepoint_prior_scale': 0.201, 'holidays_prior_scale': 2.51, 'seasonality_mode': 'multiplicative', 'seasonality_prior_scale': 7.51}\n"
     ]
    },
    {
     "name": "stderr",
     "output_type": "stream",
     "text": [
      "17:18:35 - cmdstanpy - INFO - Chain [1] start processing\n",
      "17:18:41 - cmdstanpy - INFO - Chain [1] done processing\n",
      "17:18:42 - cmdstanpy - INFO - Chain [1] start processing\n",
      "17:18:43 - cmdstanpy - INFO - Chain [1] start processing\n",
      "17:18:43 - cmdstanpy - INFO - Chain [1] start processing\n",
      "17:18:43 - cmdstanpy - INFO - Chain [1] start processing\n",
      "17:18:43 - cmdstanpy - INFO - Chain [1] start processing\n",
      "17:18:44 - cmdstanpy - INFO - Chain [1] done processing\n",
      "17:18:47 - cmdstanpy - INFO - Chain [1] done processing\n",
      "17:18:49 - cmdstanpy - INFO - Chain [1] done processing\n",
      "17:18:51 - cmdstanpy - INFO - Chain [1] done processing\n",
      "17:18:51 - cmdstanpy - INFO - Chain [1] done processing\n"
     ]
    },
    {
     "name": "stdout",
     "output_type": "stream",
     "text": [
      "{'changepoint_prior_scale': 0.201, 'holidays_prior_scale': 2.51, 'seasonality_mode': 'additive', 'seasonality_prior_scale': 0.01}\n"
     ]
    },
    {
     "name": "stderr",
     "output_type": "stream",
     "text": [
      "17:18:53 - cmdstanpy - INFO - Chain [1] start processing\n",
      "17:18:55 - cmdstanpy - INFO - Chain [1] done processing\n",
      "17:18:57 - cmdstanpy - INFO - Chain [1] start processing\n",
      "17:18:57 - cmdstanpy - INFO - Chain [1] start processing\n",
      "17:18:58 - cmdstanpy - INFO - Chain [1] start processing\n",
      "17:18:58 - cmdstanpy - INFO - Chain [1] start processing\n",
      "17:18:58 - cmdstanpy - INFO - Chain [1] start processing\n",
      "17:18:59 - cmdstanpy - INFO - Chain [1] done processing\n",
      "17:19:01 - cmdstanpy - INFO - Chain [1] done processing\n",
      "17:19:03 - cmdstanpy - INFO - Chain [1] done processing\n",
      "17:19:04 - cmdstanpy - INFO - Chain [1] done processing\n",
      "17:19:05 - cmdstanpy - INFO - Chain [1] done processing\n"
     ]
    },
    {
     "name": "stdout",
     "output_type": "stream",
     "text": [
      "{'changepoint_prior_scale': 0.201, 'holidays_prior_scale': 2.51, 'seasonality_mode': 'additive', 'seasonality_prior_scale': 2.51}\n"
     ]
    },
    {
     "name": "stderr",
     "output_type": "stream",
     "text": [
      "17:19:07 - cmdstanpy - INFO - Chain [1] start processing\n",
      "17:19:11 - cmdstanpy - INFO - Chain [1] done processing\n",
      "17:19:12 - cmdstanpy - INFO - Chain [1] start processing\n",
      "17:19:13 - cmdstanpy - INFO - Chain [1] start processing\n",
      "17:19:13 - cmdstanpy - INFO - Chain [1] start processing\n",
      "17:19:13 - cmdstanpy - INFO - Chain [1] start processing\n",
      "17:19:13 - cmdstanpy - INFO - Chain [1] start processing\n",
      "17:19:14 - cmdstanpy - INFO - Chain [1] done processing\n",
      "17:19:16 - cmdstanpy - INFO - Chain [1] done processing\n",
      "17:19:18 - cmdstanpy - INFO - Chain [1] done processing\n",
      "17:19:19 - cmdstanpy - INFO - Chain [1] done processing\n",
      "17:19:19 - cmdstanpy - INFO - Chain [1] done processing\n"
     ]
    },
    {
     "name": "stdout",
     "output_type": "stream",
     "text": [
      "{'changepoint_prior_scale': 0.201, 'holidays_prior_scale': 2.51, 'seasonality_mode': 'additive', 'seasonality_prior_scale': 5.01}\n"
     ]
    },
    {
     "name": "stderr",
     "output_type": "stream",
     "text": [
      "17:19:20 - cmdstanpy - INFO - Chain [1] start processing\n",
      "17:19:23 - cmdstanpy - INFO - Chain [1] done processing\n",
      "17:19:25 - cmdstanpy - INFO - Chain [1] start processing\n",
      "17:19:25 - cmdstanpy - INFO - Chain [1] start processing\n",
      "17:19:26 - cmdstanpy - INFO - Chain [1] start processing\n",
      "17:19:26 - cmdstanpy - INFO - Chain [1] start processing\n",
      "17:19:26 - cmdstanpy - INFO - Chain [1] start processing\n",
      "17:19:27 - cmdstanpy - INFO - Chain [1] done processing\n",
      "17:19:28 - cmdstanpy - INFO - Chain [1] done processing\n",
      "17:19:30 - cmdstanpy - INFO - Chain [1] done processing\n",
      "17:19:31 - cmdstanpy - INFO - Chain [1] done processing\n",
      "17:19:32 - cmdstanpy - INFO - Chain [1] done processing\n"
     ]
    },
    {
     "name": "stdout",
     "output_type": "stream",
     "text": [
      "{'changepoint_prior_scale': 0.201, 'holidays_prior_scale': 2.51, 'seasonality_mode': 'additive', 'seasonality_prior_scale': 7.51}\n"
     ]
    },
    {
     "name": "stderr",
     "output_type": "stream",
     "text": [
      "17:19:33 - cmdstanpy - INFO - Chain [1] start processing\n",
      "17:19:36 - cmdstanpy - INFO - Chain [1] done processing\n",
      "17:19:38 - cmdstanpy - INFO - Chain [1] start processing\n",
      "17:19:38 - cmdstanpy - INFO - Chain [1] start processing\n",
      "17:19:38 - cmdstanpy - INFO - Chain [1] start processing\n",
      "17:19:38 - cmdstanpy - INFO - Chain [1] start processing\n",
      "17:19:39 - cmdstanpy - INFO - Chain [1] start processing\n",
      "17:19:40 - cmdstanpy - INFO - Chain [1] done processing\n",
      "17:19:42 - cmdstanpy - INFO - Chain [1] done processing\n",
      "17:19:43 - cmdstanpy - INFO - Chain [1] done processing\n",
      "17:19:45 - cmdstanpy - INFO - Chain [1] done processing\n",
      "17:19:46 - cmdstanpy - INFO - Chain [1] done processing\n"
     ]
    },
    {
     "name": "stdout",
     "output_type": "stream",
     "text": [
      "{'changepoint_prior_scale': 0.201, 'holidays_prior_scale': 5.01, 'seasonality_mode': 'multiplicative', 'seasonality_prior_scale': 0.01}\n"
     ]
    },
    {
     "name": "stderr",
     "output_type": "stream",
     "text": [
      "17:19:48 - cmdstanpy - INFO - Chain [1] start processing\n",
      "17:19:54 - cmdstanpy - INFO - Chain [1] done processing\n",
      "17:19:55 - cmdstanpy - INFO - Chain [1] start processing\n",
      "17:19:56 - cmdstanpy - INFO - Chain [1] start processing\n",
      "17:19:56 - cmdstanpy - INFO - Chain [1] start processing\n",
      "17:19:56 - cmdstanpy - INFO - Chain [1] start processing\n",
      "17:19:56 - cmdstanpy - INFO - Chain [1] start processing\n",
      "17:19:56 - cmdstanpy - INFO - Chain [1] done processing\n",
      "17:19:58 - cmdstanpy - INFO - Chain [1] done processing\n",
      "17:20:00 - cmdstanpy - INFO - Chain [1] done processing\n",
      "17:20:01 - cmdstanpy - INFO - Chain [1] done processing\n",
      "17:20:03 - cmdstanpy - INFO - Chain [1] done processing\n"
     ]
    },
    {
     "name": "stdout",
     "output_type": "stream",
     "text": [
      "{'changepoint_prior_scale': 0.201, 'holidays_prior_scale': 5.01, 'seasonality_mode': 'multiplicative', 'seasonality_prior_scale': 2.51}\n"
     ]
    },
    {
     "name": "stderr",
     "output_type": "stream",
     "text": [
      "17:20:04 - cmdstanpy - INFO - Chain [1] start processing\n",
      "17:20:10 - cmdstanpy - INFO - Chain [1] done processing\n",
      "17:20:11 - cmdstanpy - INFO - Chain [1] start processing\n",
      "17:20:11 - cmdstanpy - INFO - Chain [1] start processing\n",
      "17:20:12 - cmdstanpy - INFO - Chain [1] start processing\n",
      "17:20:12 - cmdstanpy - INFO - Chain [1] start processing\n",
      "17:20:12 - cmdstanpy - INFO - Chain [1] start processing\n",
      "17:20:13 - cmdstanpy - INFO - Chain [1] done processing\n",
      "17:20:15 - cmdstanpy - INFO - Chain [1] done processing\n",
      "17:20:18 - cmdstanpy - INFO - Chain [1] done processing\n",
      "17:20:19 - cmdstanpy - INFO - Chain [1] done processing\n",
      "17:20:20 - cmdstanpy - INFO - Chain [1] done processing\n"
     ]
    },
    {
     "name": "stdout",
     "output_type": "stream",
     "text": [
      "{'changepoint_prior_scale': 0.201, 'holidays_prior_scale': 5.01, 'seasonality_mode': 'multiplicative', 'seasonality_prior_scale': 5.01}\n"
     ]
    },
    {
     "name": "stderr",
     "output_type": "stream",
     "text": [
      "17:20:21 - cmdstanpy - INFO - Chain [1] start processing\n",
      "17:20:27 - cmdstanpy - INFO - Chain [1] done processing\n",
      "17:20:28 - cmdstanpy - INFO - Chain [1] start processing\n",
      "17:20:29 - cmdstanpy - INFO - Chain [1] start processing\n",
      "17:20:29 - cmdstanpy - INFO - Chain [1] start processing\n",
      "17:20:29 - cmdstanpy - INFO - Chain [1] start processing\n",
      "17:20:29 - cmdstanpy - INFO - Chain [1] start processing\n",
      "17:20:31 - cmdstanpy - INFO - Chain [1] done processing\n",
      "17:20:33 - cmdstanpy - INFO - Chain [1] done processing\n",
      "17:20:34 - cmdstanpy - INFO - Chain [1] done processing\n",
      "17:20:37 - cmdstanpy - INFO - Chain [1] done processing\n",
      "17:20:38 - cmdstanpy - INFO - Chain [1] done processing\n"
     ]
    },
    {
     "name": "stdout",
     "output_type": "stream",
     "text": [
      "{'changepoint_prior_scale': 0.201, 'holidays_prior_scale': 5.01, 'seasonality_mode': 'multiplicative', 'seasonality_prior_scale': 7.51}\n"
     ]
    },
    {
     "name": "stderr",
     "output_type": "stream",
     "text": [
      "17:20:39 - cmdstanpy - INFO - Chain [1] start processing\n",
      "17:20:45 - cmdstanpy - INFO - Chain [1] done processing\n",
      "17:20:47 - cmdstanpy - INFO - Chain [1] start processing\n",
      "17:20:47 - cmdstanpy - INFO - Chain [1] start processing\n",
      "17:20:48 - cmdstanpy - INFO - Chain [1] start processing\n",
      "17:20:48 - cmdstanpy - INFO - Chain [1] start processing\n",
      "17:20:48 - cmdstanpy - INFO - Chain [1] start processing\n",
      "17:20:49 - cmdstanpy - INFO - Chain [1] done processing\n",
      "17:20:52 - cmdstanpy - INFO - Chain [1] done processing\n",
      "17:20:54 - cmdstanpy - INFO - Chain [1] done processing\n",
      "17:20:56 - cmdstanpy - INFO - Chain [1] done processing\n",
      "17:20:56 - cmdstanpy - INFO - Chain [1] done processing\n"
     ]
    },
    {
     "name": "stdout",
     "output_type": "stream",
     "text": [
      "{'changepoint_prior_scale': 0.201, 'holidays_prior_scale': 5.01, 'seasonality_mode': 'additive', 'seasonality_prior_scale': 0.01}\n"
     ]
    },
    {
     "name": "stderr",
     "output_type": "stream",
     "text": [
      "17:20:58 - cmdstanpy - INFO - Chain [1] start processing\n",
      "17:21:01 - cmdstanpy - INFO - Chain [1] done processing\n",
      "17:21:02 - cmdstanpy - INFO - Chain [1] start processing\n",
      "17:21:03 - cmdstanpy - INFO - Chain [1] start processing\n",
      "17:21:03 - cmdstanpy - INFO - Chain [1] start processing\n",
      "17:21:03 - cmdstanpy - INFO - Chain [1] start processing\n",
      "17:21:03 - cmdstanpy - INFO - Chain [1] start processing\n",
      "17:21:04 - cmdstanpy - INFO - Chain [1] done processing\n",
      "17:21:05 - cmdstanpy - INFO - Chain [1] done processing\n",
      "17:21:07 - cmdstanpy - INFO - Chain [1] done processing\n",
      "17:21:08 - cmdstanpy - INFO - Chain [1] done processing\n",
      "17:21:09 - cmdstanpy - INFO - Chain [1] done processing\n"
     ]
    },
    {
     "name": "stdout",
     "output_type": "stream",
     "text": [
      "{'changepoint_prior_scale': 0.201, 'holidays_prior_scale': 5.01, 'seasonality_mode': 'additive', 'seasonality_prior_scale': 2.51}\n"
     ]
    },
    {
     "name": "stderr",
     "output_type": "stream",
     "text": [
      "17:21:10 - cmdstanpy - INFO - Chain [1] start processing\n",
      "17:21:13 - cmdstanpy - INFO - Chain [1] done processing\n",
      "17:21:15 - cmdstanpy - INFO - Chain [1] start processing\n",
      "17:21:15 - cmdstanpy - INFO - Chain [1] start processing\n",
      "17:21:16 - cmdstanpy - INFO - Chain [1] start processing\n",
      "17:21:16 - cmdstanpy - INFO - Chain [1] start processing\n",
      "17:21:16 - cmdstanpy - INFO - Chain [1] start processing\n",
      "17:21:16 - cmdstanpy - INFO - Chain [1] done processing\n",
      "17:21:18 - cmdstanpy - INFO - Chain [1] done processing\n",
      "17:21:20 - cmdstanpy - INFO - Chain [1] done processing\n",
      "17:21:22 - cmdstanpy - INFO - Chain [1] done processing\n",
      "17:21:22 - cmdstanpy - INFO - Chain [1] done processing\n"
     ]
    },
    {
     "name": "stdout",
     "output_type": "stream",
     "text": [
      "{'changepoint_prior_scale': 0.201, 'holidays_prior_scale': 5.01, 'seasonality_mode': 'additive', 'seasonality_prior_scale': 5.01}\n"
     ]
    },
    {
     "name": "stderr",
     "output_type": "stream",
     "text": [
      "17:21:24 - cmdstanpy - INFO - Chain [1] start processing\n",
      "17:21:27 - cmdstanpy - INFO - Chain [1] done processing\n",
      "17:21:28 - cmdstanpy - INFO - Chain [1] start processing\n",
      "17:21:29 - cmdstanpy - INFO - Chain [1] start processing\n",
      "17:21:29 - cmdstanpy - INFO - Chain [1] start processing\n",
      "17:21:29 - cmdstanpy - INFO - Chain [1] start processing\n",
      "17:21:29 - cmdstanpy - INFO - Chain [1] start processing\n",
      "17:21:30 - cmdstanpy - INFO - Chain [1] done processing\n",
      "17:21:33 - cmdstanpy - INFO - Chain [1] done processing\n",
      "17:21:34 - cmdstanpy - INFO - Chain [1] done processing\n",
      "17:21:35 - cmdstanpy - INFO - Chain [1] done processing\n",
      "17:21:36 - cmdstanpy - INFO - Chain [1] done processing\n"
     ]
    },
    {
     "name": "stdout",
     "output_type": "stream",
     "text": [
      "{'changepoint_prior_scale': 0.201, 'holidays_prior_scale': 5.01, 'seasonality_mode': 'additive', 'seasonality_prior_scale': 7.51}\n"
     ]
    },
    {
     "name": "stderr",
     "output_type": "stream",
     "text": [
      "17:21:38 - cmdstanpy - INFO - Chain [1] start processing\n",
      "17:21:41 - cmdstanpy - INFO - Chain [1] done processing\n",
      "17:21:42 - cmdstanpy - INFO - Chain [1] start processing\n",
      "17:21:43 - cmdstanpy - INFO - Chain [1] start processing\n",
      "17:21:43 - cmdstanpy - INFO - Chain [1] start processing\n",
      "17:21:43 - cmdstanpy - INFO - Chain [1] start processing\n",
      "17:21:43 - cmdstanpy - INFO - Chain [1] start processing\n",
      "17:21:44 - cmdstanpy - INFO - Chain [1] done processing\n",
      "17:21:47 - cmdstanpy - INFO - Chain [1] done processing\n",
      "17:21:48 - cmdstanpy - INFO - Chain [1] done processing\n",
      "17:21:49 - cmdstanpy - INFO - Chain [1] done processing\n",
      "17:21:50 - cmdstanpy - INFO - Chain [1] done processing\n"
     ]
    },
    {
     "name": "stdout",
     "output_type": "stream",
     "text": [
      "{'changepoint_prior_scale': 0.201, 'holidays_prior_scale': 7.51, 'seasonality_mode': 'multiplicative', 'seasonality_prior_scale': 0.01}\n"
     ]
    },
    {
     "name": "stderr",
     "output_type": "stream",
     "text": [
      "17:21:51 - cmdstanpy - INFO - Chain [1] start processing\n",
      "17:21:57 - cmdstanpy - INFO - Chain [1] done processing\n",
      "17:21:59 - cmdstanpy - INFO - Chain [1] start processing\n",
      "17:21:59 - cmdstanpy - INFO - Chain [1] start processing\n",
      "17:21:59 - cmdstanpy - INFO - Chain [1] start processing\n",
      "17:22:00 - cmdstanpy - INFO - Chain [1] start processing\n",
      "17:22:00 - cmdstanpy - INFO - Chain [1] start processing\n",
      "17:22:01 - cmdstanpy - INFO - Chain [1] done processing\n",
      "17:22:03 - cmdstanpy - INFO - Chain [1] done processing\n",
      "17:22:04 - cmdstanpy - INFO - Chain [1] done processing\n",
      "17:22:05 - cmdstanpy - INFO - Chain [1] done processing\n",
      "17:22:06 - cmdstanpy - INFO - Chain [1] done processing\n"
     ]
    },
    {
     "name": "stdout",
     "output_type": "stream",
     "text": [
      "{'changepoint_prior_scale': 0.201, 'holidays_prior_scale': 7.51, 'seasonality_mode': 'multiplicative', 'seasonality_prior_scale': 2.51}\n"
     ]
    },
    {
     "name": "stderr",
     "output_type": "stream",
     "text": [
      "17:22:08 - cmdstanpy - INFO - Chain [1] start processing\n",
      "17:22:13 - cmdstanpy - INFO - Chain [1] done processing\n",
      "17:22:15 - cmdstanpy - INFO - Chain [1] start processing\n",
      "17:22:15 - cmdstanpy - INFO - Chain [1] start processing\n",
      "17:22:16 - cmdstanpy - INFO - Chain [1] start processing\n",
      "17:22:16 - cmdstanpy - INFO - Chain [1] start processing\n",
      "17:22:16 - cmdstanpy - INFO - Chain [1] start processing\n",
      "17:22:17 - cmdstanpy - INFO - Chain [1] done processing\n",
      "17:22:19 - cmdstanpy - INFO - Chain [1] done processing\n",
      "17:22:21 - cmdstanpy - INFO - Chain [1] done processing\n",
      "17:22:23 - cmdstanpy - INFO - Chain [1] done processing\n",
      "17:22:24 - cmdstanpy - INFO - Chain [1] done processing\n"
     ]
    },
    {
     "name": "stdout",
     "output_type": "stream",
     "text": [
      "{'changepoint_prior_scale': 0.201, 'holidays_prior_scale': 7.51, 'seasonality_mode': 'multiplicative', 'seasonality_prior_scale': 5.01}\n"
     ]
    },
    {
     "name": "stderr",
     "output_type": "stream",
     "text": [
      "17:22:25 - cmdstanpy - INFO - Chain [1] start processing\n",
      "17:22:30 - cmdstanpy - INFO - Chain [1] done processing\n",
      "17:22:32 - cmdstanpy - INFO - Chain [1] start processing\n",
      "17:22:32 - cmdstanpy - INFO - Chain [1] start processing\n",
      "17:22:33 - cmdstanpy - INFO - Chain [1] start processing\n",
      "17:22:33 - cmdstanpy - INFO - Chain [1] start processing\n",
      "17:22:33 - cmdstanpy - INFO - Chain [1] start processing\n",
      "17:22:34 - cmdstanpy - INFO - Chain [1] done processing\n",
      "17:22:37 - cmdstanpy - INFO - Chain [1] done processing\n",
      "17:22:39 - cmdstanpy - INFO - Chain [1] done processing\n",
      "17:22:41 - cmdstanpy - INFO - Chain [1] done processing\n",
      "17:22:43 - cmdstanpy - INFO - Chain [1] done processing\n"
     ]
    },
    {
     "name": "stdout",
     "output_type": "stream",
     "text": [
      "{'changepoint_prior_scale': 0.201, 'holidays_prior_scale': 7.51, 'seasonality_mode': 'multiplicative', 'seasonality_prior_scale': 7.51}\n"
     ]
    },
    {
     "name": "stderr",
     "output_type": "stream",
     "text": [
      "17:22:44 - cmdstanpy - INFO - Chain [1] start processing\n",
      "17:22:49 - cmdstanpy - INFO - Chain [1] done processing\n",
      "17:22:51 - cmdstanpy - INFO - Chain [1] start processing\n",
      "17:22:51 - cmdstanpy - INFO - Chain [1] start processing\n",
      "17:22:51 - cmdstanpy - INFO - Chain [1] start processing\n",
      "17:22:52 - cmdstanpy - INFO - Chain [1] start processing\n",
      "17:22:52 - cmdstanpy - INFO - Chain [1] start processing\n",
      "17:22:53 - cmdstanpy - INFO - Chain [1] done processing\n",
      "17:22:55 - cmdstanpy - INFO - Chain [1] done processing\n",
      "17:22:57 - cmdstanpy - INFO - Chain [1] done processing\n",
      "17:22:59 - cmdstanpy - INFO - Chain [1] done processing\n",
      "17:23:00 - cmdstanpy - INFO - Chain [1] done processing\n"
     ]
    },
    {
     "name": "stdout",
     "output_type": "stream",
     "text": [
      "{'changepoint_prior_scale': 0.201, 'holidays_prior_scale': 7.51, 'seasonality_mode': 'additive', 'seasonality_prior_scale': 0.01}\n"
     ]
    },
    {
     "name": "stderr",
     "output_type": "stream",
     "text": [
      "17:23:01 - cmdstanpy - INFO - Chain [1] start processing\n",
      "17:23:04 - cmdstanpy - INFO - Chain [1] done processing\n",
      "17:23:06 - cmdstanpy - INFO - Chain [1] start processing\n",
      "17:23:06 - cmdstanpy - INFO - Chain [1] start processing\n",
      "17:23:06 - cmdstanpy - INFO - Chain [1] start processing\n",
      "17:23:07 - cmdstanpy - INFO - Chain [1] start processing\n",
      "17:23:07 - cmdstanpy - INFO - Chain [1] start processing\n",
      "17:23:07 - cmdstanpy - INFO - Chain [1] done processing\n",
      "17:23:09 - cmdstanpy - INFO - Chain [1] done processing\n",
      "17:23:11 - cmdstanpy - INFO - Chain [1] done processing\n",
      "17:23:12 - cmdstanpy - INFO - Chain [1] done processing\n",
      "17:23:13 - cmdstanpy - INFO - Chain [1] done processing\n"
     ]
    },
    {
     "name": "stdout",
     "output_type": "stream",
     "text": [
      "{'changepoint_prior_scale': 0.201, 'holidays_prior_scale': 7.51, 'seasonality_mode': 'additive', 'seasonality_prior_scale': 2.51}\n"
     ]
    },
    {
     "name": "stderr",
     "output_type": "stream",
     "text": [
      "17:23:14 - cmdstanpy - INFO - Chain [1] start processing\n",
      "17:23:17 - cmdstanpy - INFO - Chain [1] done processing\n",
      "17:23:19 - cmdstanpy - INFO - Chain [1] start processing\n",
      "17:23:19 - cmdstanpy - INFO - Chain [1] start processing\n",
      "17:23:19 - cmdstanpy - INFO - Chain [1] start processing\n",
      "17:23:20 - cmdstanpy - INFO - Chain [1] start processing\n",
      "17:23:20 - cmdstanpy - INFO - Chain [1] start processing\n",
      "17:23:21 - cmdstanpy - INFO - Chain [1] done processing\n",
      "17:23:23 - cmdstanpy - INFO - Chain [1] done processing\n",
      "17:23:24 - cmdstanpy - INFO - Chain [1] done processing\n",
      "17:23:26 - cmdstanpy - INFO - Chain [1] done processing\n",
      "17:23:26 - cmdstanpy - INFO - Chain [1] done processing\n"
     ]
    },
    {
     "name": "stdout",
     "output_type": "stream",
     "text": [
      "{'changepoint_prior_scale': 0.201, 'holidays_prior_scale': 7.51, 'seasonality_mode': 'additive', 'seasonality_prior_scale': 5.01}\n"
     ]
    },
    {
     "name": "stderr",
     "output_type": "stream",
     "text": [
      "17:23:28 - cmdstanpy - INFO - Chain [1] start processing\n",
      "17:23:31 - cmdstanpy - INFO - Chain [1] done processing\n",
      "17:23:33 - cmdstanpy - INFO - Chain [1] start processing\n",
      "17:23:33 - cmdstanpy - INFO - Chain [1] start processing\n",
      "17:23:33 - cmdstanpy - INFO - Chain [1] start processing\n",
      "17:23:33 - cmdstanpy - INFO - Chain [1] start processing\n",
      "17:23:34 - cmdstanpy - INFO - Chain [1] start processing\n",
      "17:23:34 - cmdstanpy - INFO - Chain [1] done processing\n",
      "17:23:36 - cmdstanpy - INFO - Chain [1] done processing\n",
      "17:23:38 - cmdstanpy - INFO - Chain [1] done processing\n",
      "17:23:39 - cmdstanpy - INFO - Chain [1] done processing\n",
      "17:23:39 - cmdstanpy - INFO - Chain [1] done processing\n"
     ]
    },
    {
     "name": "stdout",
     "output_type": "stream",
     "text": [
      "{'changepoint_prior_scale': 0.201, 'holidays_prior_scale': 7.51, 'seasonality_mode': 'additive', 'seasonality_prior_scale': 7.51}\n"
     ]
    },
    {
     "name": "stderr",
     "output_type": "stream",
     "text": [
      "17:23:42 - cmdstanpy - INFO - Chain [1] start processing\n",
      "17:23:45 - cmdstanpy - INFO - Chain [1] done processing\n",
      "17:23:47 - cmdstanpy - INFO - Chain [1] start processing\n",
      "17:23:47 - cmdstanpy - INFO - Chain [1] start processing\n",
      "17:23:47 - cmdstanpy - INFO - Chain [1] start processing\n",
      "17:23:48 - cmdstanpy - INFO - Chain [1] start processing\n",
      "17:23:48 - cmdstanpy - INFO - Chain [1] start processing\n",
      "17:23:49 - cmdstanpy - INFO - Chain [1] done processing\n",
      "17:23:51 - cmdstanpy - INFO - Chain [1] done processing\n",
      "17:23:52 - cmdstanpy - INFO - Chain [1] done processing\n",
      "17:23:53 - cmdstanpy - INFO - Chain [1] done processing\n",
      "17:23:54 - cmdstanpy - INFO - Chain [1] done processing\n"
     ]
    },
    {
     "name": "stdout",
     "output_type": "stream",
     "text": [
      "{'changepoint_prior_scale': 0.30100000000000005, 'holidays_prior_scale': 0.01, 'seasonality_mode': 'multiplicative', 'seasonality_prior_scale': 0.01}\n"
     ]
    },
    {
     "name": "stderr",
     "output_type": "stream",
     "text": [
      "17:23:55 - cmdstanpy - INFO - Chain [1] start processing\n",
      "17:24:01 - cmdstanpy - INFO - Chain [1] done processing\n",
      "17:24:02 - cmdstanpy - INFO - Chain [1] start processing\n",
      "17:24:03 - cmdstanpy - INFO - Chain [1] start processing\n",
      "17:24:03 - cmdstanpy - INFO - Chain [1] start processing\n",
      "17:24:03 - cmdstanpy - INFO - Chain [1] start processing\n",
      "17:24:04 - cmdstanpy - INFO - Chain [1] start processing\n",
      "17:24:04 - cmdstanpy - INFO - Chain [1] done processing\n",
      "17:24:08 - cmdstanpy - INFO - Chain [1] done processing\n",
      "17:24:09 - cmdstanpy - INFO - Chain [1] done processing\n",
      "17:24:10 - cmdstanpy - INFO - Chain [1] done processing\n",
      "17:24:11 - cmdstanpy - INFO - Chain [1] done processing\n"
     ]
    },
    {
     "name": "stdout",
     "output_type": "stream",
     "text": [
      "{'changepoint_prior_scale': 0.30100000000000005, 'holidays_prior_scale': 0.01, 'seasonality_mode': 'multiplicative', 'seasonality_prior_scale': 2.51}\n"
     ]
    },
    {
     "name": "stderr",
     "output_type": "stream",
     "text": [
      "17:24:13 - cmdstanpy - INFO - Chain [1] start processing\n",
      "17:24:19 - cmdstanpy - INFO - Chain [1] done processing\n",
      "17:24:20 - cmdstanpy - INFO - Chain [1] start processing\n",
      "17:24:21 - cmdstanpy - INFO - Chain [1] start processing\n",
      "17:24:21 - cmdstanpy - INFO - Chain [1] start processing\n",
      "17:24:21 - cmdstanpy - INFO - Chain [1] start processing\n",
      "17:24:22 - cmdstanpy - INFO - Chain [1] start processing\n",
      "17:24:24 - cmdstanpy - INFO - Chain [1] done processing\n",
      "17:24:26 - cmdstanpy - INFO - Chain [1] done processing\n",
      "17:24:28 - cmdstanpy - INFO - Chain [1] done processing\n",
      "17:24:28 - cmdstanpy - INFO - Chain [1] done processing\n",
      "17:24:31 - cmdstanpy - INFO - Chain [1] done processing\n"
     ]
    },
    {
     "name": "stdout",
     "output_type": "stream",
     "text": [
      "{'changepoint_prior_scale': 0.30100000000000005, 'holidays_prior_scale': 0.01, 'seasonality_mode': 'multiplicative', 'seasonality_prior_scale': 5.01}\n"
     ]
    },
    {
     "name": "stderr",
     "output_type": "stream",
     "text": [
      "17:24:33 - cmdstanpy - INFO - Chain [1] start processing\n",
      "17:24:38 - cmdstanpy - INFO - Chain [1] done processing\n",
      "17:24:40 - cmdstanpy - INFO - Chain [1] start processing\n",
      "17:24:40 - cmdstanpy - INFO - Chain [1] start processing\n",
      "17:24:41 - cmdstanpy - INFO - Chain [1] start processing\n",
      "17:24:41 - cmdstanpy - INFO - Chain [1] start processing\n",
      "17:24:41 - cmdstanpy - INFO - Chain [1] start processing\n",
      "17:24:43 - cmdstanpy - INFO - Chain [1] done processing\n",
      "17:24:45 - cmdstanpy - INFO - Chain [1] done processing\n",
      "17:24:47 - cmdstanpy - INFO - Chain [1] done processing\n",
      "17:24:48 - cmdstanpy - INFO - Chain [1] done processing\n",
      "17:24:49 - cmdstanpy - INFO - Chain [1] done processing\n"
     ]
    },
    {
     "name": "stdout",
     "output_type": "stream",
     "text": [
      "{'changepoint_prior_scale': 0.30100000000000005, 'holidays_prior_scale': 0.01, 'seasonality_mode': 'multiplicative', 'seasonality_prior_scale': 7.51}\n"
     ]
    },
    {
     "name": "stderr",
     "output_type": "stream",
     "text": [
      "17:24:51 - cmdstanpy - INFO - Chain [1] start processing\n",
      "17:24:58 - cmdstanpy - INFO - Chain [1] done processing\n",
      "17:25:00 - cmdstanpy - INFO - Chain [1] start processing\n",
      "17:25:00 - cmdstanpy - INFO - Chain [1] start processing\n",
      "17:25:00 - cmdstanpy - INFO - Chain [1] start processing\n",
      "17:25:00 - cmdstanpy - INFO - Chain [1] start processing\n",
      "17:25:01 - cmdstanpy - INFO - Chain [1] start processing\n",
      "17:25:02 - cmdstanpy - INFO - Chain [1] done processing\n",
      "17:25:05 - cmdstanpy - INFO - Chain [1] done processing\n",
      "17:25:07 - cmdstanpy - INFO - Chain [1] done processing\n",
      "17:25:08 - cmdstanpy - INFO - Chain [1] done processing\n",
      "17:25:09 - cmdstanpy - INFO - Chain [1] done processing\n"
     ]
    },
    {
     "name": "stdout",
     "output_type": "stream",
     "text": [
      "{'changepoint_prior_scale': 0.30100000000000005, 'holidays_prior_scale': 0.01, 'seasonality_mode': 'additive', 'seasonality_prior_scale': 0.01}\n"
     ]
    },
    {
     "name": "stderr",
     "output_type": "stream",
     "text": [
      "17:25:11 - cmdstanpy - INFO - Chain [1] start processing\n",
      "17:25:15 - cmdstanpy - INFO - Chain [1] done processing\n",
      "17:25:17 - cmdstanpy - INFO - Chain [1] start processing\n",
      "17:25:17 - cmdstanpy - INFO - Chain [1] start processing\n",
      "17:25:18 - cmdstanpy - INFO - Chain [1] start processing\n",
      "17:25:18 - cmdstanpy - INFO - Chain [1] start processing\n",
      "17:25:18 - cmdstanpy - INFO - Chain [1] start processing\n",
      "17:25:18 - cmdstanpy - INFO - Chain [1] done processing\n",
      "17:25:20 - cmdstanpy - INFO - Chain [1] done processing\n",
      "17:25:22 - cmdstanpy - INFO - Chain [1] done processing\n",
      "17:25:24 - cmdstanpy - INFO - Chain [1] done processing\n",
      "17:25:25 - cmdstanpy - INFO - Chain [1] done processing\n"
     ]
    },
    {
     "name": "stdout",
     "output_type": "stream",
     "text": [
      "{'changepoint_prior_scale': 0.30100000000000005, 'holidays_prior_scale': 0.01, 'seasonality_mode': 'additive', 'seasonality_prior_scale': 2.51}\n"
     ]
    },
    {
     "name": "stderr",
     "output_type": "stream",
     "text": [
      "17:25:26 - cmdstanpy - INFO - Chain [1] start processing\n",
      "17:25:29 - cmdstanpy - INFO - Chain [1] done processing\n",
      "17:25:30 - cmdstanpy - INFO - Chain [1] start processing\n",
      "17:25:31 - cmdstanpy - INFO - Chain [1] start processing\n",
      "17:25:31 - cmdstanpy - INFO - Chain [1] start processing\n",
      "17:25:31 - cmdstanpy - INFO - Chain [1] start processing\n",
      "17:25:31 - cmdstanpy - INFO - Chain [1] start processing\n",
      "17:25:32 - cmdstanpy - INFO - Chain [1] done processing\n",
      "17:25:33 - cmdstanpy - INFO - Chain [1] done processing\n",
      "17:25:35 - cmdstanpy - INFO - Chain [1] done processing\n",
      "17:25:37 - cmdstanpy - INFO - Chain [1] done processing\n",
      "17:25:38 - cmdstanpy - INFO - Chain [1] done processing\n"
     ]
    },
    {
     "name": "stdout",
     "output_type": "stream",
     "text": [
      "{'changepoint_prior_scale': 0.30100000000000005, 'holidays_prior_scale': 0.01, 'seasonality_mode': 'additive', 'seasonality_prior_scale': 5.01}\n"
     ]
    },
    {
     "name": "stderr",
     "output_type": "stream",
     "text": [
      "17:25:39 - cmdstanpy - INFO - Chain [1] start processing\n",
      "17:25:42 - cmdstanpy - INFO - Chain [1] done processing\n",
      "17:25:43 - cmdstanpy - INFO - Chain [1] start processing\n",
      "17:25:44 - cmdstanpy - INFO - Chain [1] start processing\n",
      "17:25:44 - cmdstanpy - INFO - Chain [1] start processing\n",
      "17:25:44 - cmdstanpy - INFO - Chain [1] start processing\n",
      "17:25:44 - cmdstanpy - INFO - Chain [1] start processing\n",
      "17:25:45 - cmdstanpy - INFO - Chain [1] done processing\n",
      "17:25:48 - cmdstanpy - INFO - Chain [1] done processing\n",
      "17:25:48 - cmdstanpy - INFO - Chain [1] done processing\n",
      "17:25:51 - cmdstanpy - INFO - Chain [1] done processing\n",
      "17:25:53 - cmdstanpy - INFO - Chain [1] done processing\n"
     ]
    },
    {
     "name": "stdout",
     "output_type": "stream",
     "text": [
      "{'changepoint_prior_scale': 0.30100000000000005, 'holidays_prior_scale': 0.01, 'seasonality_mode': 'additive', 'seasonality_prior_scale': 7.51}\n"
     ]
    },
    {
     "name": "stderr",
     "output_type": "stream",
     "text": [
      "17:25:55 - cmdstanpy - INFO - Chain [1] start processing\n",
      "17:25:58 - cmdstanpy - INFO - Chain [1] done processing\n",
      "17:25:59 - cmdstanpy - INFO - Chain [1] start processing\n",
      "17:26:00 - cmdstanpy - INFO - Chain [1] start processing\n",
      "17:26:00 - cmdstanpy - INFO - Chain [1] start processing\n",
      "17:26:00 - cmdstanpy - INFO - Chain [1] start processing\n",
      "17:26:00 - cmdstanpy - INFO - Chain [1] start processing\n",
      "17:26:01 - cmdstanpy - INFO - Chain [1] done processing\n",
      "17:26:03 - cmdstanpy - INFO - Chain [1] done processing\n",
      "17:26:05 - cmdstanpy - INFO - Chain [1] done processing\n",
      "17:26:06 - cmdstanpy - INFO - Chain [1] done processing\n",
      "17:26:07 - cmdstanpy - INFO - Chain [1] done processing\n"
     ]
    },
    {
     "name": "stdout",
     "output_type": "stream",
     "text": [
      "{'changepoint_prior_scale': 0.30100000000000005, 'holidays_prior_scale': 2.51, 'seasonality_mode': 'multiplicative', 'seasonality_prior_scale': 0.01}\n"
     ]
    },
    {
     "name": "stderr",
     "output_type": "stream",
     "text": [
      "17:26:09 - cmdstanpy - INFO - Chain [1] start processing\n",
      "17:26:14 - cmdstanpy - INFO - Chain [1] done processing\n",
      "17:26:16 - cmdstanpy - INFO - Chain [1] start processing\n",
      "17:26:16 - cmdstanpy - INFO - Chain [1] start processing\n",
      "17:26:16 - cmdstanpy - INFO - Chain [1] start processing\n",
      "17:26:17 - cmdstanpy - INFO - Chain [1] start processing\n",
      "17:26:17 - cmdstanpy - INFO - Chain [1] start processing\n",
      "17:26:18 - cmdstanpy - INFO - Chain [1] done processing\n",
      "17:26:19 - cmdstanpy - INFO - Chain [1] done processing\n",
      "17:26:22 - cmdstanpy - INFO - Chain [1] done processing\n",
      "17:26:22 - cmdstanpy - INFO - Chain [1] done processing\n",
      "17:26:24 - cmdstanpy - INFO - Chain [1] done processing\n"
     ]
    },
    {
     "name": "stdout",
     "output_type": "stream",
     "text": [
      "{'changepoint_prior_scale': 0.30100000000000005, 'holidays_prior_scale': 2.51, 'seasonality_mode': 'multiplicative', 'seasonality_prior_scale': 2.51}\n"
     ]
    },
    {
     "name": "stderr",
     "output_type": "stream",
     "text": [
      "17:26:25 - cmdstanpy - INFO - Chain [1] start processing\n",
      "17:26:31 - cmdstanpy - INFO - Chain [1] done processing\n",
      "17:26:33 - cmdstanpy - INFO - Chain [1] start processing\n",
      "17:26:33 - cmdstanpy - INFO - Chain [1] start processing\n",
      "17:26:33 - cmdstanpy - INFO - Chain [1] start processing\n",
      "17:26:34 - cmdstanpy - INFO - Chain [1] start processing\n",
      "17:26:34 - cmdstanpy - INFO - Chain [1] start processing\n",
      "17:26:35 - cmdstanpy - INFO - Chain [1] done processing\n",
      "17:26:37 - cmdstanpy - INFO - Chain [1] done processing\n",
      "17:26:39 - cmdstanpy - INFO - Chain [1] done processing\n",
      "17:26:41 - cmdstanpy - INFO - Chain [1] done processing\n",
      "17:26:41 - cmdstanpy - INFO - Chain [1] done processing\n"
     ]
    },
    {
     "name": "stdout",
     "output_type": "stream",
     "text": [
      "{'changepoint_prior_scale': 0.30100000000000005, 'holidays_prior_scale': 2.51, 'seasonality_mode': 'multiplicative', 'seasonality_prior_scale': 5.01}\n"
     ]
    },
    {
     "name": "stderr",
     "output_type": "stream",
     "text": [
      "17:26:43 - cmdstanpy - INFO - Chain [1] start processing\n",
      "17:26:48 - cmdstanpy - INFO - Chain [1] done processing\n",
      "17:26:50 - cmdstanpy - INFO - Chain [1] start processing\n",
      "17:26:50 - cmdstanpy - INFO - Chain [1] start processing\n",
      "17:26:51 - cmdstanpy - INFO - Chain [1] start processing\n",
      "17:26:51 - cmdstanpy - INFO - Chain [1] start processing\n",
      "17:26:51 - cmdstanpy - INFO - Chain [1] start processing\n",
      "17:26:52 - cmdstanpy - INFO - Chain [1] done processing\n",
      "17:26:55 - cmdstanpy - INFO - Chain [1] done processing\n",
      "17:26:57 - cmdstanpy - INFO - Chain [1] done processing\n",
      "17:27:00 - cmdstanpy - INFO - Chain [1] done processing\n",
      "17:27:00 - cmdstanpy - INFO - Chain [1] done processing\n"
     ]
    },
    {
     "name": "stdout",
     "output_type": "stream",
     "text": [
      "{'changepoint_prior_scale': 0.30100000000000005, 'holidays_prior_scale': 2.51, 'seasonality_mode': 'multiplicative', 'seasonality_prior_scale': 7.51}\n"
     ]
    },
    {
     "name": "stderr",
     "output_type": "stream",
     "text": [
      "17:27:02 - cmdstanpy - INFO - Chain [1] start processing\n",
      "17:27:07 - cmdstanpy - INFO - Chain [1] done processing\n",
      "17:27:08 - cmdstanpy - INFO - Chain [1] start processing\n",
      "17:27:09 - cmdstanpy - INFO - Chain [1] start processing\n",
      "17:27:09 - cmdstanpy - INFO - Chain [1] start processing\n",
      "17:27:09 - cmdstanpy - INFO - Chain [1] start processing\n",
      "17:27:10 - cmdstanpy - INFO - Chain [1] start processing\n",
      "17:27:11 - cmdstanpy - INFO - Chain [1] done processing\n",
      "17:27:13 - cmdstanpy - INFO - Chain [1] done processing\n",
      "17:27:15 - cmdstanpy - INFO - Chain [1] done processing\n",
      "17:27:16 - cmdstanpy - INFO - Chain [1] done processing\n",
      "17:27:18 - cmdstanpy - INFO - Chain [1] done processing\n"
     ]
    },
    {
     "name": "stdout",
     "output_type": "stream",
     "text": [
      "{'changepoint_prior_scale': 0.30100000000000005, 'holidays_prior_scale': 2.51, 'seasonality_mode': 'additive', 'seasonality_prior_scale': 0.01}\n"
     ]
    },
    {
     "name": "stderr",
     "output_type": "stream",
     "text": [
      "17:27:19 - cmdstanpy - INFO - Chain [1] start processing\n",
      "17:27:22 - cmdstanpy - INFO - Chain [1] done processing\n",
      "17:27:24 - cmdstanpy - INFO - Chain [1] start processing\n",
      "17:27:24 - cmdstanpy - INFO - Chain [1] start processing\n",
      "17:27:24 - cmdstanpy - INFO - Chain [1] start processing\n",
      "17:27:25 - cmdstanpy - INFO - Chain [1] start processing\n",
      "17:27:25 - cmdstanpy - INFO - Chain [1] start processing\n",
      "17:27:26 - cmdstanpy - INFO - Chain [1] done processing\n",
      "17:27:27 - cmdstanpy - INFO - Chain [1] done processing\n",
      "17:27:29 - cmdstanpy - INFO - Chain [1] done processing\n",
      "17:27:30 - cmdstanpy - INFO - Chain [1] done processing\n",
      "17:27:31 - cmdstanpy - INFO - Chain [1] done processing\n"
     ]
    },
    {
     "name": "stdout",
     "output_type": "stream",
     "text": [
      "{'changepoint_prior_scale': 0.30100000000000005, 'holidays_prior_scale': 2.51, 'seasonality_mode': 'additive', 'seasonality_prior_scale': 2.51}\n"
     ]
    },
    {
     "name": "stderr",
     "output_type": "stream",
     "text": [
      "17:27:33 - cmdstanpy - INFO - Chain [1] start processing\n",
      "17:27:35 - cmdstanpy - INFO - Chain [1] done processing\n",
      "17:27:37 - cmdstanpy - INFO - Chain [1] start processing\n",
      "17:27:37 - cmdstanpy - INFO - Chain [1] start processing\n",
      "17:27:37 - cmdstanpy - INFO - Chain [1] start processing\n",
      "17:27:38 - cmdstanpy - INFO - Chain [1] start processing\n",
      "17:27:38 - cmdstanpy - INFO - Chain [1] start processing\n",
      "17:27:38 - cmdstanpy - INFO - Chain [1] done processing\n",
      "17:27:40 - cmdstanpy - INFO - Chain [1] done processing\n",
      "17:27:42 - cmdstanpy - INFO - Chain [1] done processing\n",
      "17:27:43 - cmdstanpy - INFO - Chain [1] done processing\n",
      "17:27:43 - cmdstanpy - INFO - Chain [1] done processing\n"
     ]
    },
    {
     "name": "stdout",
     "output_type": "stream",
     "text": [
      "{'changepoint_prior_scale': 0.30100000000000005, 'holidays_prior_scale': 2.51, 'seasonality_mode': 'additive', 'seasonality_prior_scale': 5.01}\n"
     ]
    },
    {
     "name": "stderr",
     "output_type": "stream",
     "text": [
      "17:27:45 - cmdstanpy - INFO - Chain [1] start processing\n",
      "17:27:48 - cmdstanpy - INFO - Chain [1] done processing\n",
      "17:27:50 - cmdstanpy - INFO - Chain [1] start processing\n",
      "17:27:50 - cmdstanpy - INFO - Chain [1] start processing\n",
      "17:27:51 - cmdstanpy - INFO - Chain [1] start processing\n",
      "17:27:51 - cmdstanpy - INFO - Chain [1] done processing\n",
      "17:27:51 - cmdstanpy - INFO - Chain [1] start processing\n",
      "17:27:51 - cmdstanpy - INFO - Chain [1] start processing\n",
      "17:27:53 - cmdstanpy - INFO - Chain [1] done processing\n",
      "17:27:55 - cmdstanpy - INFO - Chain [1] done processing\n",
      "17:27:56 - cmdstanpy - INFO - Chain [1] done processing\n",
      "17:27:57 - cmdstanpy - INFO - Chain [1] done processing\n"
     ]
    },
    {
     "name": "stdout",
     "output_type": "stream",
     "text": [
      "{'changepoint_prior_scale': 0.30100000000000005, 'holidays_prior_scale': 2.51, 'seasonality_mode': 'additive', 'seasonality_prior_scale': 7.51}\n"
     ]
    },
    {
     "name": "stderr",
     "output_type": "stream",
     "text": [
      "17:27:59 - cmdstanpy - INFO - Chain [1] start processing\n",
      "17:28:02 - cmdstanpy - INFO - Chain [1] done processing\n",
      "17:28:04 - cmdstanpy - INFO - Chain [1] start processing\n",
      "17:28:04 - cmdstanpy - INFO - Chain [1] start processing\n",
      "17:28:04 - cmdstanpy - INFO - Chain [1] start processing\n",
      "17:28:05 - cmdstanpy - INFO - Chain [1] start processing\n",
      "17:28:05 - cmdstanpy - INFO - Chain [1] start processing\n",
      "17:28:05 - cmdstanpy - INFO - Chain [1] done processing\n",
      "17:28:07 - cmdstanpy - INFO - Chain [1] done processing\n",
      "17:28:09 - cmdstanpy - INFO - Chain [1] done processing\n",
      "17:28:11 - cmdstanpy - INFO - Chain [1] done processing\n",
      "17:28:11 - cmdstanpy - INFO - Chain [1] done processing\n"
     ]
    },
    {
     "name": "stdout",
     "output_type": "stream",
     "text": [
      "{'changepoint_prior_scale': 0.30100000000000005, 'holidays_prior_scale': 5.01, 'seasonality_mode': 'multiplicative', 'seasonality_prior_scale': 0.01}\n"
     ]
    },
    {
     "name": "stderr",
     "output_type": "stream",
     "text": [
      "17:28:14 - cmdstanpy - INFO - Chain [1] start processing\n",
      "17:28:19 - cmdstanpy - INFO - Chain [1] done processing\n",
      "17:28:21 - cmdstanpy - INFO - Chain [1] start processing\n",
      "17:28:21 - cmdstanpy - INFO - Chain [1] start processing\n",
      "17:28:21 - cmdstanpy - INFO - Chain [1] start processing\n",
      "17:28:22 - cmdstanpy - INFO - Chain [1] start processing\n",
      "17:28:22 - cmdstanpy - INFO - Chain [1] start processing\n",
      "17:28:22 - cmdstanpy - INFO - Chain [1] done processing\n",
      "17:28:24 - cmdstanpy - INFO - Chain [1] done processing\n",
      "17:28:26 - cmdstanpy - INFO - Chain [1] done processing\n",
      "17:28:27 - cmdstanpy - INFO - Chain [1] done processing\n",
      "17:28:28 - cmdstanpy - INFO - Chain [1] done processing\n"
     ]
    },
    {
     "name": "stdout",
     "output_type": "stream",
     "text": [
      "{'changepoint_prior_scale': 0.30100000000000005, 'holidays_prior_scale': 5.01, 'seasonality_mode': 'multiplicative', 'seasonality_prior_scale': 2.51}\n"
     ]
    },
    {
     "name": "stderr",
     "output_type": "stream",
     "text": [
      "17:28:30 - cmdstanpy - INFO - Chain [1] start processing\n",
      "17:28:36 - cmdstanpy - INFO - Chain [1] done processing\n",
      "17:28:37 - cmdstanpy - INFO - Chain [1] start processing\n",
      "17:28:38 - cmdstanpy - INFO - Chain [1] start processing\n",
      "17:28:38 - cmdstanpy - INFO - Chain [1] start processing\n",
      "17:28:38 - cmdstanpy - INFO - Chain [1] start processing\n",
      "17:28:39 - cmdstanpy - INFO - Chain [1] start processing\n",
      "17:28:39 - cmdstanpy - INFO - Chain [1] done processing\n",
      "17:28:42 - cmdstanpy - INFO - Chain [1] done processing\n",
      "17:28:44 - cmdstanpy - INFO - Chain [1] done processing\n",
      "17:28:46 - cmdstanpy - INFO - Chain [1] done processing\n",
      "17:28:48 - cmdstanpy - INFO - Chain [1] done processing\n"
     ]
    },
    {
     "name": "stdout",
     "output_type": "stream",
     "text": [
      "{'changepoint_prior_scale': 0.30100000000000005, 'holidays_prior_scale': 5.01, 'seasonality_mode': 'multiplicative', 'seasonality_prior_scale': 5.01}\n"
     ]
    },
    {
     "name": "stderr",
     "output_type": "stream",
     "text": [
      "17:28:49 - cmdstanpy - INFO - Chain [1] start processing\n",
      "17:28:53 - cmdstanpy - INFO - Chain [1] done processing\n",
      "17:28:55 - cmdstanpy - INFO - Chain [1] start processing\n",
      "17:28:55 - cmdstanpy - INFO - Chain [1] start processing\n",
      "17:28:56 - cmdstanpy - INFO - Chain [1] start processing\n",
      "17:28:56 - cmdstanpy - INFO - Chain [1] start processing\n",
      "17:28:56 - cmdstanpy - INFO - Chain [1] start processing\n",
      "17:28:57 - cmdstanpy - INFO - Chain [1] done processing\n",
      "17:29:00 - cmdstanpy - INFO - Chain [1] done processing\n",
      "17:29:02 - cmdstanpy - INFO - Chain [1] done processing\n",
      "17:29:05 - cmdstanpy - INFO - Chain [1] done processing\n",
      "17:29:05 - cmdstanpy - INFO - Chain [1] done processing\n"
     ]
    },
    {
     "name": "stdout",
     "output_type": "stream",
     "text": [
      "{'changepoint_prior_scale': 0.30100000000000005, 'holidays_prior_scale': 5.01, 'seasonality_mode': 'multiplicative', 'seasonality_prior_scale': 7.51}\n"
     ]
    },
    {
     "name": "stderr",
     "output_type": "stream",
     "text": [
      "17:29:08 - cmdstanpy - INFO - Chain [1] start processing\n",
      "17:29:13 - cmdstanpy - INFO - Chain [1] done processing\n",
      "17:29:15 - cmdstanpy - INFO - Chain [1] start processing\n",
      "17:29:15 - cmdstanpy - INFO - Chain [1] start processing\n",
      "17:29:16 - cmdstanpy - INFO - Chain [1] start processing\n",
      "17:29:16 - cmdstanpy - INFO - Chain [1] start processing\n",
      "17:29:16 - cmdstanpy - INFO - Chain [1] start processing\n",
      "17:29:17 - cmdstanpy - INFO - Chain [1] done processing\n",
      "17:29:20 - cmdstanpy - INFO - Chain [1] done processing\n",
      "17:29:21 - cmdstanpy - INFO - Chain [1] done processing\n",
      "17:29:25 - cmdstanpy - INFO - Chain [1] done processing\n",
      "17:29:25 - cmdstanpy - INFO - Chain [1] done processing\n"
     ]
    },
    {
     "name": "stdout",
     "output_type": "stream",
     "text": [
      "{'changepoint_prior_scale': 0.30100000000000005, 'holidays_prior_scale': 5.01, 'seasonality_mode': 'additive', 'seasonality_prior_scale': 0.01}\n"
     ]
    },
    {
     "name": "stderr",
     "output_type": "stream",
     "text": [
      "17:29:27 - cmdstanpy - INFO - Chain [1] start processing\n",
      "17:29:30 - cmdstanpy - INFO - Chain [1] done processing\n",
      "17:29:32 - cmdstanpy - INFO - Chain [1] start processing\n",
      "17:29:32 - cmdstanpy - INFO - Chain [1] start processing\n",
      "17:29:33 - cmdstanpy - INFO - Chain [1] start processing\n",
      "17:29:33 - cmdstanpy - INFO - Chain [1] start processing\n",
      "17:29:33 - cmdstanpy - INFO - Chain [1] start processing\n",
      "17:29:34 - cmdstanpy - INFO - Chain [1] done processing\n",
      "17:29:35 - cmdstanpy - INFO - Chain [1] done processing\n",
      "17:29:38 - cmdstanpy - INFO - Chain [1] done processing\n",
      "17:29:38 - cmdstanpy - INFO - Chain [1] done processing\n",
      "17:29:39 - cmdstanpy - INFO - Chain [1] done processing\n"
     ]
    },
    {
     "name": "stdout",
     "output_type": "stream",
     "text": [
      "{'changepoint_prior_scale': 0.30100000000000005, 'holidays_prior_scale': 5.01, 'seasonality_mode': 'additive', 'seasonality_prior_scale': 2.51}\n"
     ]
    },
    {
     "name": "stderr",
     "output_type": "stream",
     "text": [
      "17:29:41 - cmdstanpy - INFO - Chain [1] start processing\n",
      "17:29:43 - cmdstanpy - INFO - Chain [1] done processing\n",
      "17:29:44 - cmdstanpy - INFO - Chain [1] start processing\n",
      "17:29:45 - cmdstanpy - INFO - Chain [1] start processing\n",
      "17:29:45 - cmdstanpy - INFO - Chain [1] start processing\n",
      "17:29:45 - cmdstanpy - INFO - Chain [1] start processing\n",
      "17:29:46 - cmdstanpy - INFO - Chain [1] start processing\n",
      "17:29:46 - cmdstanpy - INFO - Chain [1] done processing\n",
      "17:29:50 - cmdstanpy - INFO - Chain [1] done processing\n",
      "17:29:50 - cmdstanpy - INFO - Chain [1] done processing\n",
      "17:29:52 - cmdstanpy - INFO - Chain [1] done processing\n",
      "17:29:52 - cmdstanpy - INFO - Chain [1] done processing\n"
     ]
    },
    {
     "name": "stdout",
     "output_type": "stream",
     "text": [
      "{'changepoint_prior_scale': 0.30100000000000005, 'holidays_prior_scale': 5.01, 'seasonality_mode': 'additive', 'seasonality_prior_scale': 5.01}\n"
     ]
    },
    {
     "name": "stderr",
     "output_type": "stream",
     "text": [
      "17:29:54 - cmdstanpy - INFO - Chain [1] start processing\n",
      "17:29:57 - cmdstanpy - INFO - Chain [1] done processing\n",
      "17:29:59 - cmdstanpy - INFO - Chain [1] start processing\n",
      "17:29:59 - cmdstanpy - INFO - Chain [1] start processing\n",
      "17:29:59 - cmdstanpy - INFO - Chain [1] start processing\n",
      "17:30:00 - cmdstanpy - INFO - Chain [1] start processing\n",
      "17:30:00 - cmdstanpy - INFO - Chain [1] start processing\n",
      "17:30:00 - cmdstanpy - INFO - Chain [1] done processing\n",
      "17:30:04 - cmdstanpy - INFO - Chain [1] done processing\n",
      "17:30:04 - cmdstanpy - INFO - Chain [1] done processing\n",
      "17:30:05 - cmdstanpy - INFO - Chain [1] done processing\n",
      "17:30:07 - cmdstanpy - INFO - Chain [1] done processing\n"
     ]
    },
    {
     "name": "stdout",
     "output_type": "stream",
     "text": [
      "{'changepoint_prior_scale': 0.30100000000000005, 'holidays_prior_scale': 5.01, 'seasonality_mode': 'additive', 'seasonality_prior_scale': 7.51}\n"
     ]
    },
    {
     "name": "stderr",
     "output_type": "stream",
     "text": [
      "17:30:08 - cmdstanpy - INFO - Chain [1] start processing\n",
      "17:30:11 - cmdstanpy - INFO - Chain [1] done processing\n",
      "17:30:13 - cmdstanpy - INFO - Chain [1] start processing\n",
      "17:30:13 - cmdstanpy - INFO - Chain [1] start processing\n",
      "17:30:13 - cmdstanpy - INFO - Chain [1] start processing\n",
      "17:30:14 - cmdstanpy - INFO - Chain [1] start processing\n",
      "17:30:14 - cmdstanpy - INFO - Chain [1] start processing\n",
      "17:30:14 - cmdstanpy - INFO - Chain [1] done processing\n",
      "17:30:15 - cmdstanpy - INFO - Chain [1] done processing\n",
      "17:30:18 - cmdstanpy - INFO - Chain [1] done processing\n",
      "17:30:19 - cmdstanpy - INFO - Chain [1] done processing\n",
      "17:30:19 - cmdstanpy - INFO - Chain [1] done processing\n"
     ]
    },
    {
     "name": "stdout",
     "output_type": "stream",
     "text": [
      "{'changepoint_prior_scale': 0.30100000000000005, 'holidays_prior_scale': 7.51, 'seasonality_mode': 'multiplicative', 'seasonality_prior_scale': 0.01}\n"
     ]
    },
    {
     "name": "stderr",
     "output_type": "stream",
     "text": [
      "17:30:21 - cmdstanpy - INFO - Chain [1] start processing\n",
      "17:30:27 - cmdstanpy - INFO - Chain [1] done processing\n",
      "17:30:29 - cmdstanpy - INFO - Chain [1] start processing\n",
      "17:30:29 - cmdstanpy - INFO - Chain [1] start processing\n",
      "17:30:29 - cmdstanpy - INFO - Chain [1] start processing\n",
      "17:30:30 - cmdstanpy - INFO - Chain [1] start processing\n",
      "17:30:30 - cmdstanpy - INFO - Chain [1] start processing\n",
      "17:30:31 - cmdstanpy - INFO - Chain [1] done processing\n",
      "17:30:34 - cmdstanpy - INFO - Chain [1] done processing\n",
      "17:30:35 - cmdstanpy - INFO - Chain [1] done processing\n",
      "17:30:35 - cmdstanpy - INFO - Chain [1] done processing\n",
      "17:30:37 - cmdstanpy - INFO - Chain [1] done processing\n"
     ]
    },
    {
     "name": "stdout",
     "output_type": "stream",
     "text": [
      "{'changepoint_prior_scale': 0.30100000000000005, 'holidays_prior_scale': 7.51, 'seasonality_mode': 'multiplicative', 'seasonality_prior_scale': 2.51}\n"
     ]
    },
    {
     "name": "stderr",
     "output_type": "stream",
     "text": [
      "17:30:39 - cmdstanpy - INFO - Chain [1] start processing\n",
      "17:30:44 - cmdstanpy - INFO - Chain [1] done processing\n",
      "17:30:45 - cmdstanpy - INFO - Chain [1] start processing\n",
      "17:30:45 - cmdstanpy - INFO - Chain [1] start processing\n",
      "17:30:46 - cmdstanpy - INFO - Chain [1] start processing\n",
      "17:30:46 - cmdstanpy - INFO - Chain [1] start processing\n",
      "17:30:46 - cmdstanpy - INFO - Chain [1] start processing\n",
      "17:30:48 - cmdstanpy - INFO - Chain [1] done processing\n",
      "17:30:50 - cmdstanpy - INFO - Chain [1] done processing\n",
      "17:30:52 - cmdstanpy - INFO - Chain [1] done processing\n",
      "17:30:54 - cmdstanpy - INFO - Chain [1] done processing\n",
      "17:30:55 - cmdstanpy - INFO - Chain [1] done processing\n"
     ]
    },
    {
     "name": "stdout",
     "output_type": "stream",
     "text": [
      "{'changepoint_prior_scale': 0.30100000000000005, 'holidays_prior_scale': 7.51, 'seasonality_mode': 'multiplicative', 'seasonality_prior_scale': 5.01}\n"
     ]
    },
    {
     "name": "stderr",
     "output_type": "stream",
     "text": [
      "17:30:57 - cmdstanpy - INFO - Chain [1] start processing\n",
      "17:31:02 - cmdstanpy - INFO - Chain [1] done processing\n",
      "17:31:04 - cmdstanpy - INFO - Chain [1] start processing\n",
      "17:31:04 - cmdstanpy - INFO - Chain [1] start processing\n",
      "17:31:05 - cmdstanpy - INFO - Chain [1] start processing\n",
      "17:31:05 - cmdstanpy - INFO - Chain [1] start processing\n",
      "17:31:05 - cmdstanpy - INFO - Chain [1] start processing\n",
      "17:31:07 - cmdstanpy - INFO - Chain [1] done processing\n",
      "17:31:08 - cmdstanpy - INFO - Chain [1] done processing\n",
      "17:31:10 - cmdstanpy - INFO - Chain [1] done processing\n",
      "17:31:13 - cmdstanpy - INFO - Chain [1] done processing\n",
      "17:31:13 - cmdstanpy - INFO - Chain [1] done processing\n"
     ]
    },
    {
     "name": "stdout",
     "output_type": "stream",
     "text": [
      "{'changepoint_prior_scale': 0.30100000000000005, 'holidays_prior_scale': 7.51, 'seasonality_mode': 'multiplicative', 'seasonality_prior_scale': 7.51}\n"
     ]
    },
    {
     "name": "stderr",
     "output_type": "stream",
     "text": [
      "17:31:16 - cmdstanpy - INFO - Chain [1] start processing\n",
      "17:31:22 - cmdstanpy - INFO - Chain [1] done processing\n",
      "17:31:24 - cmdstanpy - INFO - Chain [1] start processing\n",
      "17:31:24 - cmdstanpy - INFO - Chain [1] start processing\n",
      "17:31:25 - cmdstanpy - INFO - Chain [1] start processing\n",
      "17:31:25 - cmdstanpy - INFO - Chain [1] start processing\n",
      "17:31:25 - cmdstanpy - INFO - Chain [1] start processing\n",
      "17:31:27 - cmdstanpy - INFO - Chain [1] done processing\n",
      "17:31:28 - cmdstanpy - INFO - Chain [1] done processing\n",
      "17:31:30 - cmdstanpy - INFO - Chain [1] done processing\n",
      "17:31:33 - cmdstanpy - INFO - Chain [1] done processing\n",
      "17:31:34 - cmdstanpy - INFO - Chain [1] done processing\n"
     ]
    },
    {
     "name": "stdout",
     "output_type": "stream",
     "text": [
      "{'changepoint_prior_scale': 0.30100000000000005, 'holidays_prior_scale': 7.51, 'seasonality_mode': 'additive', 'seasonality_prior_scale': 0.01}\n"
     ]
    },
    {
     "name": "stderr",
     "output_type": "stream",
     "text": [
      "17:31:35 - cmdstanpy - INFO - Chain [1] start processing\n",
      "17:31:39 - cmdstanpy - INFO - Chain [1] done processing\n",
      "17:31:40 - cmdstanpy - INFO - Chain [1] start processing\n",
      "17:31:41 - cmdstanpy - INFO - Chain [1] start processing\n",
      "17:31:41 - cmdstanpy - INFO - Chain [1] start processing\n",
      "17:31:41 - cmdstanpy - INFO - Chain [1] start processing\n",
      "17:31:42 - cmdstanpy - INFO - Chain [1] start processing\n",
      "17:31:42 - cmdstanpy - INFO - Chain [1] done processing\n",
      "17:31:43 - cmdstanpy - INFO - Chain [1] done processing\n",
      "17:31:45 - cmdstanpy - INFO - Chain [1] done processing\n",
      "17:31:47 - cmdstanpy - INFO - Chain [1] done processing\n",
      "17:31:47 - cmdstanpy - INFO - Chain [1] done processing\n"
     ]
    },
    {
     "name": "stdout",
     "output_type": "stream",
     "text": [
      "{'changepoint_prior_scale': 0.30100000000000005, 'holidays_prior_scale': 7.51, 'seasonality_mode': 'additive', 'seasonality_prior_scale': 2.51}\n"
     ]
    },
    {
     "name": "stderr",
     "output_type": "stream",
     "text": [
      "17:31:49 - cmdstanpy - INFO - Chain [1] start processing\n",
      "17:31:51 - cmdstanpy - INFO - Chain [1] done processing\n",
      "17:31:53 - cmdstanpy - INFO - Chain [1] start processing\n",
      "17:31:53 - cmdstanpy - INFO - Chain [1] start processing\n",
      "17:31:54 - cmdstanpy - INFO - Chain [1] start processing\n",
      "17:31:54 - cmdstanpy - INFO - Chain [1] start processing\n",
      "17:31:54 - cmdstanpy - INFO - Chain [1] start processing\n",
      "17:31:54 - cmdstanpy - INFO - Chain [1] done processing\n",
      "17:31:57 - cmdstanpy - INFO - Chain [1] done processing\n",
      "17:31:59 - cmdstanpy - INFO - Chain [1] done processing\n",
      "17:32:00 - cmdstanpy - INFO - Chain [1] done processing\n",
      "17:32:01 - cmdstanpy - INFO - Chain [1] done processing\n"
     ]
    },
    {
     "name": "stdout",
     "output_type": "stream",
     "text": [
      "{'changepoint_prior_scale': 0.30100000000000005, 'holidays_prior_scale': 7.51, 'seasonality_mode': 'additive', 'seasonality_prior_scale': 5.01}\n"
     ]
    },
    {
     "name": "stderr",
     "output_type": "stream",
     "text": [
      "17:32:02 - cmdstanpy - INFO - Chain [1] start processing\n",
      "17:32:05 - cmdstanpy - INFO - Chain [1] done processing\n",
      "17:32:07 - cmdstanpy - INFO - Chain [1] start processing\n",
      "17:32:07 - cmdstanpy - INFO - Chain [1] start processing\n",
      "17:32:07 - cmdstanpy - INFO - Chain [1] start processing\n",
      "17:32:07 - cmdstanpy - INFO - Chain [1] done processing\n",
      "17:32:08 - cmdstanpy - INFO - Chain [1] start processing\n",
      "17:32:08 - cmdstanpy - INFO - Chain [1] start processing\n",
      "17:32:11 - cmdstanpy - INFO - Chain [1] done processing\n",
      "17:32:12 - cmdstanpy - INFO - Chain [1] done processing\n",
      "17:32:14 - cmdstanpy - INFO - Chain [1] done processing\n",
      "17:32:14 - cmdstanpy - INFO - Chain [1] done processing\n"
     ]
    },
    {
     "name": "stdout",
     "output_type": "stream",
     "text": [
      "{'changepoint_prior_scale': 0.30100000000000005, 'holidays_prior_scale': 7.51, 'seasonality_mode': 'additive', 'seasonality_prior_scale': 7.51}\n"
     ]
    },
    {
     "name": "stderr",
     "output_type": "stream",
     "text": [
      "17:32:16 - cmdstanpy - INFO - Chain [1] start processing\n",
      "17:32:19 - cmdstanpy - INFO - Chain [1] done processing\n",
      "17:32:20 - cmdstanpy - INFO - Chain [1] start processing\n",
      "17:32:21 - cmdstanpy - INFO - Chain [1] start processing\n",
      "17:32:21 - cmdstanpy - INFO - Chain [1] start processing\n",
      "17:32:21 - cmdstanpy - INFO - Chain [1] start processing\n",
      "17:32:22 - cmdstanpy - INFO - Chain [1] start processing\n",
      "17:32:22 - cmdstanpy - INFO - Chain [1] done processing\n",
      "17:32:24 - cmdstanpy - INFO - Chain [1] done processing\n",
      "17:32:26 - cmdstanpy - INFO - Chain [1] done processing\n",
      "17:32:26 - cmdstanpy - INFO - Chain [1] done processing\n",
      "17:32:28 - cmdstanpy - INFO - Chain [1] done processing\n"
     ]
    },
    {
     "name": "stdout",
     "output_type": "stream",
     "text": [
      "{'changepoint_prior_scale': 0.401, 'holidays_prior_scale': 0.01, 'seasonality_mode': 'multiplicative', 'seasonality_prior_scale': 0.01}\n"
     ]
    },
    {
     "name": "stderr",
     "output_type": "stream",
     "text": [
      "17:32:30 - cmdstanpy - INFO - Chain [1] start processing\n",
      "17:32:36 - cmdstanpy - INFO - Chain [1] done processing\n",
      "17:32:38 - cmdstanpy - INFO - Chain [1] start processing\n",
      "17:32:38 - cmdstanpy - INFO - Chain [1] start processing\n",
      "17:32:38 - cmdstanpy - INFO - Chain [1] start processing\n",
      "17:32:39 - cmdstanpy - INFO - Chain [1] start processing\n",
      "17:32:39 - cmdstanpy - INFO - Chain [1] start processing\n",
      "17:32:40 - cmdstanpy - INFO - Chain [1] done processing\n",
      "17:32:43 - cmdstanpy - INFO - Chain [1] done processing\n",
      "17:32:45 - cmdstanpy - INFO - Chain [1] done processing\n",
      "17:32:46 - cmdstanpy - INFO - Chain [1] done processing\n",
      "17:32:46 - cmdstanpy - INFO - Chain [1] done processing\n"
     ]
    },
    {
     "name": "stdout",
     "output_type": "stream",
     "text": [
      "{'changepoint_prior_scale': 0.401, 'holidays_prior_scale': 0.01, 'seasonality_mode': 'multiplicative', 'seasonality_prior_scale': 2.51}\n"
     ]
    },
    {
     "name": "stderr",
     "output_type": "stream",
     "text": [
      "17:32:48 - cmdstanpy - INFO - Chain [1] start processing\n",
      "17:32:54 - cmdstanpy - INFO - Chain [1] done processing\n",
      "17:32:55 - cmdstanpy - INFO - Chain [1] start processing\n",
      "17:32:56 - cmdstanpy - INFO - Chain [1] start processing\n",
      "17:32:56 - cmdstanpy - INFO - Chain [1] start processing\n",
      "17:32:56 - cmdstanpy - INFO - Chain [1] start processing\n",
      "17:32:56 - cmdstanpy - INFO - Chain [1] start processing\n",
      "17:32:57 - cmdstanpy - INFO - Chain [1] done processing\n",
      "17:33:00 - cmdstanpy - INFO - Chain [1] done processing\n",
      "17:33:02 - cmdstanpy - INFO - Chain [1] done processing\n",
      "17:33:04 - cmdstanpy - INFO - Chain [1] done processing\n",
      "17:33:05 - cmdstanpy - INFO - Chain [1] done processing\n"
     ]
    },
    {
     "name": "stdout",
     "output_type": "stream",
     "text": [
      "{'changepoint_prior_scale': 0.401, 'holidays_prior_scale': 0.01, 'seasonality_mode': 'multiplicative', 'seasonality_prior_scale': 5.01}\n"
     ]
    },
    {
     "name": "stderr",
     "output_type": "stream",
     "text": [
      "17:33:06 - cmdstanpy - INFO - Chain [1] start processing\n",
      "17:33:13 - cmdstanpy - INFO - Chain [1] done processing\n",
      "17:33:15 - cmdstanpy - INFO - Chain [1] start processing\n",
      "17:33:15 - cmdstanpy - INFO - Chain [1] start processing\n",
      "17:33:16 - cmdstanpy - INFO - Chain [1] start processing\n",
      "17:33:16 - cmdstanpy - INFO - Chain [1] start processing\n",
      "17:33:16 - cmdstanpy - INFO - Chain [1] start processing\n",
      "17:33:19 - cmdstanpy - INFO - Chain [1] done processing\n",
      "17:33:23 - cmdstanpy - INFO - Chain [1] done processing\n",
      "17:33:23 - cmdstanpy - INFO - Chain [1] done processing\n",
      "17:33:26 - cmdstanpy - INFO - Chain [1] done processing\n",
      "17:33:26 - cmdstanpy - INFO - Chain [1] done processing\n"
     ]
    },
    {
     "name": "stdout",
     "output_type": "stream",
     "text": [
      "{'changepoint_prior_scale': 0.401, 'holidays_prior_scale': 0.01, 'seasonality_mode': 'multiplicative', 'seasonality_prior_scale': 7.51}\n"
     ]
    },
    {
     "name": "stderr",
     "output_type": "stream",
     "text": [
      "17:33:28 - cmdstanpy - INFO - Chain [1] start processing\n",
      "17:33:33 - cmdstanpy - INFO - Chain [1] done processing\n",
      "17:33:35 - cmdstanpy - INFO - Chain [1] start processing\n",
      "17:33:35 - cmdstanpy - INFO - Chain [1] start processing\n",
      "17:33:36 - cmdstanpy - INFO - Chain [1] start processing\n",
      "17:33:36 - cmdstanpy - INFO - Chain [1] start processing\n",
      "17:33:36 - cmdstanpy - INFO - Chain [1] start processing\n",
      "17:33:37 - cmdstanpy - INFO - Chain [1] done processing\n",
      "17:33:41 - cmdstanpy - INFO - Chain [1] done processing\n",
      "17:33:41 - cmdstanpy - INFO - Chain [1] done processing\n",
      "17:33:42 - cmdstanpy - INFO - Chain [1] done processing\n",
      "17:33:45 - cmdstanpy - INFO - Chain [1] done processing\n"
     ]
    },
    {
     "name": "stdout",
     "output_type": "stream",
     "text": [
      "{'changepoint_prior_scale': 0.401, 'holidays_prior_scale': 0.01, 'seasonality_mode': 'additive', 'seasonality_prior_scale': 0.01}\n"
     ]
    },
    {
     "name": "stderr",
     "output_type": "stream",
     "text": [
      "17:33:47 - cmdstanpy - INFO - Chain [1] start processing\n",
      "17:33:49 - cmdstanpy - INFO - Chain [1] done processing\n",
      "17:33:51 - cmdstanpy - INFO - Chain [1] start processing\n",
      "17:33:51 - cmdstanpy - INFO - Chain [1] start processing\n",
      "17:33:51 - cmdstanpy - INFO - Chain [1] start processing\n",
      "17:33:52 - cmdstanpy - INFO - Chain [1] start processing\n",
      "17:33:52 - cmdstanpy - INFO - Chain [1] start processing\n",
      "17:33:52 - cmdstanpy - INFO - Chain [1] done processing\n",
      "17:33:54 - cmdstanpy - INFO - Chain [1] done processing\n",
      "17:33:56 - cmdstanpy - INFO - Chain [1] done processing\n",
      "17:33:57 - cmdstanpy - INFO - Chain [1] done processing\n",
      "17:33:59 - cmdstanpy - INFO - Chain [1] done processing\n"
     ]
    },
    {
     "name": "stdout",
     "output_type": "stream",
     "text": [
      "{'changepoint_prior_scale': 0.401, 'holidays_prior_scale': 0.01, 'seasonality_mode': 'additive', 'seasonality_prior_scale': 2.51}\n"
     ]
    },
    {
     "name": "stderr",
     "output_type": "stream",
     "text": [
      "17:34:00 - cmdstanpy - INFO - Chain [1] start processing\n",
      "17:34:03 - cmdstanpy - INFO - Chain [1] done processing\n",
      "17:34:05 - cmdstanpy - INFO - Chain [1] start processing\n",
      "17:34:05 - cmdstanpy - INFO - Chain [1] start processing\n",
      "17:34:06 - cmdstanpy - INFO - Chain [1] start processing\n",
      "17:34:06 - cmdstanpy - INFO - Chain [1] start processing\n",
      "17:34:06 - cmdstanpy - INFO - Chain [1] start processing\n",
      "17:34:07 - cmdstanpy - INFO - Chain [1] done processing\n",
      "17:34:10 - cmdstanpy - INFO - Chain [1] done processing\n",
      "17:34:11 - cmdstanpy - INFO - Chain [1] done processing\n",
      "17:34:12 - cmdstanpy - INFO - Chain [1] done processing\n",
      "17:34:12 - cmdstanpy - INFO - Chain [1] done processing\n"
     ]
    },
    {
     "name": "stdout",
     "output_type": "stream",
     "text": [
      "{'changepoint_prior_scale': 0.401, 'holidays_prior_scale': 0.01, 'seasonality_mode': 'additive', 'seasonality_prior_scale': 5.01}\n"
     ]
    },
    {
     "name": "stderr",
     "output_type": "stream",
     "text": [
      "17:34:14 - cmdstanpy - INFO - Chain [1] start processing\n",
      "17:34:16 - cmdstanpy - INFO - Chain [1] done processing\n",
      "17:34:18 - cmdstanpy - INFO - Chain [1] start processing\n",
      "17:34:18 - cmdstanpy - INFO - Chain [1] start processing\n",
      "17:34:19 - cmdstanpy - INFO - Chain [1] start processing\n",
      "17:34:19 - cmdstanpy - INFO - Chain [1] start processing\n",
      "17:34:19 - cmdstanpy - INFO - Chain [1] start processing\n",
      "17:34:20 - cmdstanpy - INFO - Chain [1] done processing\n",
      "17:34:24 - cmdstanpy - INFO - Chain [1] done processing\n",
      "17:34:25 - cmdstanpy - INFO - Chain [1] done processing\n",
      "17:34:27 - cmdstanpy - INFO - Chain [1] done processing\n",
      "17:34:27 - cmdstanpy - INFO - Chain [1] done processing\n"
     ]
    },
    {
     "name": "stdout",
     "output_type": "stream",
     "text": [
      "{'changepoint_prior_scale': 0.401, 'holidays_prior_scale': 0.01, 'seasonality_mode': 'additive', 'seasonality_prior_scale': 7.51}\n"
     ]
    },
    {
     "name": "stderr",
     "output_type": "stream",
     "text": [
      "17:34:30 - cmdstanpy - INFO - Chain [1] start processing\n",
      "17:34:33 - cmdstanpy - INFO - Chain [1] done processing\n",
      "17:34:34 - cmdstanpy - INFO - Chain [1] start processing\n",
      "17:34:35 - cmdstanpy - INFO - Chain [1] start processing\n",
      "17:34:35 - cmdstanpy - INFO - Chain [1] start processing\n",
      "17:34:35 - cmdstanpy - INFO - Chain [1] start processing\n",
      "17:34:35 - cmdstanpy - INFO - Chain [1] start processing\n",
      "17:34:36 - cmdstanpy - INFO - Chain [1] done processing\n",
      "17:34:38 - cmdstanpy - INFO - Chain [1] done processing\n",
      "17:34:40 - cmdstanpy - INFO - Chain [1] done processing\n",
      "17:34:42 - cmdstanpy - INFO - Chain [1] done processing\n",
      "17:34:42 - cmdstanpy - INFO - Chain [1] done processing\n"
     ]
    },
    {
     "name": "stdout",
     "output_type": "stream",
     "text": [
      "{'changepoint_prior_scale': 0.401, 'holidays_prior_scale': 2.51, 'seasonality_mode': 'multiplicative', 'seasonality_prior_scale': 0.01}\n"
     ]
    },
    {
     "name": "stderr",
     "output_type": "stream",
     "text": [
      "17:34:44 - cmdstanpy - INFO - Chain [1] start processing\n",
      "17:34:49 - cmdstanpy - INFO - Chain [1] done processing\n",
      "17:34:50 - cmdstanpy - INFO - Chain [1] start processing\n",
      "17:34:51 - cmdstanpy - INFO - Chain [1] start processing\n",
      "17:34:51 - cmdstanpy - INFO - Chain [1] start processing\n",
      "17:34:51 - cmdstanpy - INFO - Chain [1] start processing\n",
      "17:34:52 - cmdstanpy - INFO - Chain [1] start processing\n",
      "17:34:52 - cmdstanpy - INFO - Chain [1] done processing\n",
      "17:34:55 - cmdstanpy - INFO - Chain [1] done processing\n",
      "17:34:56 - cmdstanpy - INFO - Chain [1] done processing\n",
      "17:34:57 - cmdstanpy - INFO - Chain [1] done processing\n",
      "17:34:59 - cmdstanpy - INFO - Chain [1] done processing\n"
     ]
    },
    {
     "name": "stdout",
     "output_type": "stream",
     "text": [
      "{'changepoint_prior_scale': 0.401, 'holidays_prior_scale': 2.51, 'seasonality_mode': 'multiplicative', 'seasonality_prior_scale': 2.51}\n"
     ]
    },
    {
     "name": "stderr",
     "output_type": "stream",
     "text": [
      "17:35:01 - cmdstanpy - INFO - Chain [1] start processing\n",
      "17:35:06 - cmdstanpy - INFO - Chain [1] done processing\n",
      "17:35:07 - cmdstanpy - INFO - Chain [1] start processing\n",
      "17:35:08 - cmdstanpy - INFO - Chain [1] start processing\n",
      "17:35:08 - cmdstanpy - INFO - Chain [1] start processing\n",
      "17:35:08 - cmdstanpy - INFO - Chain [1] start processing\n",
      "17:35:08 - cmdstanpy - INFO - Chain [1] start processing\n",
      "17:35:10 - cmdstanpy - INFO - Chain [1] done processing\n",
      "17:35:13 - cmdstanpy - INFO - Chain [1] done processing\n",
      "17:35:13 - cmdstanpy - INFO - Chain [1] done processing\n",
      "17:35:16 - cmdstanpy - INFO - Chain [1] done processing\n",
      "17:35:17 - cmdstanpy - INFO - Chain [1] done processing\n"
     ]
    },
    {
     "name": "stdout",
     "output_type": "stream",
     "text": [
      "{'changepoint_prior_scale': 0.401, 'holidays_prior_scale': 2.51, 'seasonality_mode': 'multiplicative', 'seasonality_prior_scale': 5.01}\n"
     ]
    },
    {
     "name": "stderr",
     "output_type": "stream",
     "text": [
      "17:35:19 - cmdstanpy - INFO - Chain [1] start processing\n",
      "17:35:25 - cmdstanpy - INFO - Chain [1] done processing\n",
      "17:35:26 - cmdstanpy - INFO - Chain [1] start processing\n",
      "17:35:27 - cmdstanpy - INFO - Chain [1] start processing\n",
      "17:35:27 - cmdstanpy - INFO - Chain [1] start processing\n",
      "17:35:27 - cmdstanpy - INFO - Chain [1] start processing\n",
      "17:35:27 - cmdstanpy - INFO - Chain [1] start processing\n",
      "17:35:29 - cmdstanpy - INFO - Chain [1] done processing\n",
      "17:35:32 - cmdstanpy - INFO - Chain [1] done processing\n",
      "17:35:33 - cmdstanpy - INFO - Chain [1] done processing\n",
      "17:35:35 - cmdstanpy - INFO - Chain [1] done processing\n",
      "17:35:36 - cmdstanpy - INFO - Chain [1] done processing\n"
     ]
    },
    {
     "name": "stdout",
     "output_type": "stream",
     "text": [
      "{'changepoint_prior_scale': 0.401, 'holidays_prior_scale': 2.51, 'seasonality_mode': 'multiplicative', 'seasonality_prior_scale': 7.51}\n"
     ]
    },
    {
     "name": "stderr",
     "output_type": "stream",
     "text": [
      "17:35:38 - cmdstanpy - INFO - Chain [1] start processing\n",
      "17:35:43 - cmdstanpy - INFO - Chain [1] done processing\n",
      "17:35:44 - cmdstanpy - INFO - Chain [1] start processing\n",
      "17:35:45 - cmdstanpy - INFO - Chain [1] start processing\n",
      "17:35:45 - cmdstanpy - INFO - Chain [1] start processing\n",
      "17:35:45 - cmdstanpy - INFO - Chain [1] start processing\n",
      "17:35:46 - cmdstanpy - INFO - Chain [1] start processing\n",
      "17:35:47 - cmdstanpy - INFO - Chain [1] done processing\n",
      "17:35:49 - cmdstanpy - INFO - Chain [1] done processing\n",
      "17:35:51 - cmdstanpy - INFO - Chain [1] done processing\n",
      "17:35:54 - cmdstanpy - INFO - Chain [1] done processing\n",
      "17:35:54 - cmdstanpy - INFO - Chain [1] done processing\n"
     ]
    },
    {
     "name": "stdout",
     "output_type": "stream",
     "text": [
      "{'changepoint_prior_scale': 0.401, 'holidays_prior_scale': 2.51, 'seasonality_mode': 'additive', 'seasonality_prior_scale': 0.01}\n"
     ]
    },
    {
     "name": "stderr",
     "output_type": "stream",
     "text": [
      "17:35:56 - cmdstanpy - INFO - Chain [1] start processing\n",
      "17:35:59 - cmdstanpy - INFO - Chain [1] done processing\n",
      "17:36:00 - cmdstanpy - INFO - Chain [1] start processing\n",
      "17:36:01 - cmdstanpy - INFO - Chain [1] start processing\n",
      "17:36:01 - cmdstanpy - INFO - Chain [1] start processing\n",
      "17:36:01 - cmdstanpy - INFO - Chain [1] start processing\n",
      "17:36:01 - cmdstanpy - INFO - Chain [1] start processing\n",
      "17:36:02 - cmdstanpy - INFO - Chain [1] done processing\n",
      "17:36:03 - cmdstanpy - INFO - Chain [1] done processing\n",
      "17:36:05 - cmdstanpy - INFO - Chain [1] done processing\n",
      "17:36:07 - cmdstanpy - INFO - Chain [1] done processing\n",
      "17:36:07 - cmdstanpy - INFO - Chain [1] done processing\n"
     ]
    },
    {
     "name": "stdout",
     "output_type": "stream",
     "text": [
      "{'changepoint_prior_scale': 0.401, 'holidays_prior_scale': 2.51, 'seasonality_mode': 'additive', 'seasonality_prior_scale': 2.51}\n"
     ]
    },
    {
     "name": "stderr",
     "output_type": "stream",
     "text": [
      "17:36:09 - cmdstanpy - INFO - Chain [1] start processing\n",
      "17:36:12 - cmdstanpy - INFO - Chain [1] done processing\n",
      "17:36:13 - cmdstanpy - INFO - Chain [1] start processing\n",
      "17:36:14 - cmdstanpy - INFO - Chain [1] start processing\n",
      "17:36:14 - cmdstanpy - INFO - Chain [1] start processing\n",
      "17:36:14 - cmdstanpy - INFO - Chain [1] start processing\n",
      "17:36:14 - cmdstanpy - INFO - Chain [1] start processing\n",
      "17:36:15 - cmdstanpy - INFO - Chain [1] done processing\n",
      "17:36:17 - cmdstanpy - INFO - Chain [1] done processing\n",
      "17:36:18 - cmdstanpy - INFO - Chain [1] done processing\n",
      "17:36:19 - cmdstanpy - INFO - Chain [1] done processing\n",
      "17:36:20 - cmdstanpy - INFO - Chain [1] done processing\n"
     ]
    },
    {
     "name": "stdout",
     "output_type": "stream",
     "text": [
      "{'changepoint_prior_scale': 0.401, 'holidays_prior_scale': 2.51, 'seasonality_mode': 'additive', 'seasonality_prior_scale': 5.01}\n"
     ]
    },
    {
     "name": "stderr",
     "output_type": "stream",
     "text": [
      "17:36:22 - cmdstanpy - INFO - Chain [1] start processing\n",
      "17:36:24 - cmdstanpy - INFO - Chain [1] done processing\n",
      "17:36:26 - cmdstanpy - INFO - Chain [1] start processing\n",
      "17:36:27 - cmdstanpy - INFO - Chain [1] start processing\n",
      "17:36:27 - cmdstanpy - INFO - Chain [1] start processing\n",
      "17:36:27 - cmdstanpy - INFO - Chain [1] start processing\n",
      "17:36:27 - cmdstanpy - INFO - Chain [1] start processing\n",
      "17:36:28 - cmdstanpy - INFO - Chain [1] done processing\n",
      "17:36:32 - cmdstanpy - INFO - Chain [1] done processing\n",
      "17:36:32 - cmdstanpy - INFO - Chain [1] done processing\n",
      "17:36:33 - cmdstanpy - INFO - Chain [1] done processing\n",
      "17:36:34 - cmdstanpy - INFO - Chain [1] done processing\n"
     ]
    },
    {
     "name": "stdout",
     "output_type": "stream",
     "text": [
      "{'changepoint_prior_scale': 0.401, 'holidays_prior_scale': 2.51, 'seasonality_mode': 'additive', 'seasonality_prior_scale': 7.51}\n"
     ]
    },
    {
     "name": "stderr",
     "output_type": "stream",
     "text": [
      "17:36:35 - cmdstanpy - INFO - Chain [1] start processing\n",
      "17:36:38 - cmdstanpy - INFO - Chain [1] done processing\n",
      "17:36:40 - cmdstanpy - INFO - Chain [1] start processing\n",
      "17:36:40 - cmdstanpy - INFO - Chain [1] start processing\n",
      "17:36:40 - cmdstanpy - INFO - Chain [1] start processing\n",
      "17:36:41 - cmdstanpy - INFO - Chain [1] start processing\n",
      "17:36:41 - cmdstanpy - INFO - Chain [1] start processing\n",
      "17:36:41 - cmdstanpy - INFO - Chain [1] done processing\n",
      "17:36:43 - cmdstanpy - INFO - Chain [1] done processing\n",
      "17:36:45 - cmdstanpy - INFO - Chain [1] done processing\n",
      "17:36:45 - cmdstanpy - INFO - Chain [1] done processing\n",
      "17:36:47 - cmdstanpy - INFO - Chain [1] done processing\n"
     ]
    },
    {
     "name": "stdout",
     "output_type": "stream",
     "text": [
      "{'changepoint_prior_scale': 0.401, 'holidays_prior_scale': 5.01, 'seasonality_mode': 'multiplicative', 'seasonality_prior_scale': 0.01}\n"
     ]
    },
    {
     "name": "stderr",
     "output_type": "stream",
     "text": [
      "17:36:49 - cmdstanpy - INFO - Chain [1] start processing\n",
      "17:36:54 - cmdstanpy - INFO - Chain [1] done processing\n",
      "17:36:56 - cmdstanpy - INFO - Chain [1] start processing\n",
      "17:36:56 - cmdstanpy - INFO - Chain [1] start processing\n",
      "17:36:57 - cmdstanpy - INFO - Chain [1] start processing\n",
      "17:36:57 - cmdstanpy - INFO - Chain [1] start processing\n",
      "17:36:57 - cmdstanpy - INFO - Chain [1] start processing\n",
      "17:36:59 - cmdstanpy - INFO - Chain [1] done processing\n",
      "17:37:01 - cmdstanpy - INFO - Chain [1] done processing\n",
      "17:37:02 - cmdstanpy - INFO - Chain [1] done processing\n",
      "17:37:03 - cmdstanpy - INFO - Chain [1] done processing\n",
      "17:37:04 - cmdstanpy - INFO - Chain [1] done processing\n"
     ]
    },
    {
     "name": "stdout",
     "output_type": "stream",
     "text": [
      "{'changepoint_prior_scale': 0.401, 'holidays_prior_scale': 5.01, 'seasonality_mode': 'multiplicative', 'seasonality_prior_scale': 2.51}\n"
     ]
    },
    {
     "name": "stderr",
     "output_type": "stream",
     "text": [
      "17:37:06 - cmdstanpy - INFO - Chain [1] start processing\n",
      "17:37:11 - cmdstanpy - INFO - Chain [1] done processing\n",
      "17:37:13 - cmdstanpy - INFO - Chain [1] start processing\n",
      "17:37:13 - cmdstanpy - INFO - Chain [1] start processing\n",
      "17:37:14 - cmdstanpy - INFO - Chain [1] start processing\n",
      "17:37:14 - cmdstanpy - INFO - Chain [1] start processing\n",
      "17:37:14 - cmdstanpy - INFO - Chain [1] start processing\n",
      "17:37:15 - cmdstanpy - INFO - Chain [1] done processing\n",
      "17:37:19 - cmdstanpy - INFO - Chain [1] done processing\n",
      "17:37:20 - cmdstanpy - INFO - Chain [1] done processing\n",
      "17:37:22 - cmdstanpy - INFO - Chain [1] done processing\n",
      "17:37:23 - cmdstanpy - INFO - Chain [1] done processing\n"
     ]
    },
    {
     "name": "stdout",
     "output_type": "stream",
     "text": [
      "{'changepoint_prior_scale': 0.401, 'holidays_prior_scale': 5.01, 'seasonality_mode': 'multiplicative', 'seasonality_prior_scale': 5.01}\n"
     ]
    },
    {
     "name": "stderr",
     "output_type": "stream",
     "text": [
      "17:37:24 - cmdstanpy - INFO - Chain [1] start processing\n",
      "17:37:30 - cmdstanpy - INFO - Chain [1] done processing\n",
      "17:37:31 - cmdstanpy - INFO - Chain [1] start processing\n",
      "17:37:32 - cmdstanpy - INFO - Chain [1] start processing\n",
      "17:37:32 - cmdstanpy - INFO - Chain [1] start processing\n",
      "17:37:32 - cmdstanpy - INFO - Chain [1] start processing\n",
      "17:37:33 - cmdstanpy - INFO - Chain [1] start processing\n",
      "17:37:34 - cmdstanpy - INFO - Chain [1] done processing\n",
      "17:37:36 - cmdstanpy - INFO - Chain [1] done processing\n",
      "17:37:38 - cmdstanpy - INFO - Chain [1] done processing\n",
      "17:37:40 - cmdstanpy - INFO - Chain [1] done processing\n",
      "17:37:41 - cmdstanpy - INFO - Chain [1] done processing\n"
     ]
    },
    {
     "name": "stdout",
     "output_type": "stream",
     "text": [
      "{'changepoint_prior_scale': 0.401, 'holidays_prior_scale': 5.01, 'seasonality_mode': 'multiplicative', 'seasonality_prior_scale': 7.51}\n"
     ]
    },
    {
     "name": "stderr",
     "output_type": "stream",
     "text": [
      "17:37:42 - cmdstanpy - INFO - Chain [1] start processing\n",
      "17:37:48 - cmdstanpy - INFO - Chain [1] done processing\n",
      "17:37:50 - cmdstanpy - INFO - Chain [1] start processing\n",
      "17:37:50 - cmdstanpy - INFO - Chain [1] start processing\n",
      "17:37:50 - cmdstanpy - INFO - Chain [1] start processing\n",
      "17:37:51 - cmdstanpy - INFO - Chain [1] start processing\n",
      "17:37:51 - cmdstanpy - INFO - Chain [1] start processing\n",
      "17:37:52 - cmdstanpy - INFO - Chain [1] done processing\n",
      "17:37:55 - cmdstanpy - INFO - Chain [1] done processing\n",
      "17:37:57 - cmdstanpy - INFO - Chain [1] done processing\n",
      "17:37:59 - cmdstanpy - INFO - Chain [1] done processing\n",
      "17:37:59 - cmdstanpy - INFO - Chain [1] done processing\n"
     ]
    },
    {
     "name": "stdout",
     "output_type": "stream",
     "text": [
      "{'changepoint_prior_scale': 0.401, 'holidays_prior_scale': 5.01, 'seasonality_mode': 'additive', 'seasonality_prior_scale': 0.01}\n"
     ]
    },
    {
     "name": "stderr",
     "output_type": "stream",
     "text": [
      "17:38:01 - cmdstanpy - INFO - Chain [1] start processing\n",
      "17:38:03 - cmdstanpy - INFO - Chain [1] done processing\n",
      "17:38:05 - cmdstanpy - INFO - Chain [1] start processing\n",
      "17:38:05 - cmdstanpy - INFO - Chain [1] start processing\n",
      "17:38:05 - cmdstanpy - INFO - Chain [1] start processing\n",
      "17:38:06 - cmdstanpy - INFO - Chain [1] start processing\n",
      "17:38:06 - cmdstanpy - INFO - Chain [1] start processing\n",
      "17:38:06 - cmdstanpy - INFO - Chain [1] done processing\n",
      "17:38:09 - cmdstanpy - INFO - Chain [1] done processing\n",
      "17:38:10 - cmdstanpy - INFO - Chain [1] done processing\n",
      "17:38:11 - cmdstanpy - INFO - Chain [1] done processing\n",
      "17:38:12 - cmdstanpy - INFO - Chain [1] done processing\n"
     ]
    },
    {
     "name": "stdout",
     "output_type": "stream",
     "text": [
      "{'changepoint_prior_scale': 0.401, 'holidays_prior_scale': 5.01, 'seasonality_mode': 'additive', 'seasonality_prior_scale': 2.51}\n"
     ]
    },
    {
     "name": "stderr",
     "output_type": "stream",
     "text": [
      "17:38:13 - cmdstanpy - INFO - Chain [1] start processing\n",
      "17:38:16 - cmdstanpy - INFO - Chain [1] done processing\n",
      "17:38:18 - cmdstanpy - INFO - Chain [1] start processing\n",
      "17:38:18 - cmdstanpy - INFO - Chain [1] start processing\n",
      "17:38:19 - cmdstanpy - INFO - Chain [1] start processing\n",
      "17:38:19 - cmdstanpy - INFO - Chain [1] start processing\n",
      "17:38:19 - cmdstanpy - INFO - Chain [1] start processing\n",
      "17:38:20 - cmdstanpy - INFO - Chain [1] done processing\n",
      "17:38:22 - cmdstanpy - INFO - Chain [1] done processing\n",
      "17:38:23 - cmdstanpy - INFO - Chain [1] done processing\n",
      "17:38:24 - cmdstanpy - INFO - Chain [1] done processing\n",
      "17:38:25 - cmdstanpy - INFO - Chain [1] done processing\n"
     ]
    },
    {
     "name": "stdout",
     "output_type": "stream",
     "text": [
      "{'changepoint_prior_scale': 0.401, 'holidays_prior_scale': 5.01, 'seasonality_mode': 'additive', 'seasonality_prior_scale': 5.01}\n"
     ]
    },
    {
     "name": "stderr",
     "output_type": "stream",
     "text": [
      "17:38:27 - cmdstanpy - INFO - Chain [1] start processing\n",
      "17:38:29 - cmdstanpy - INFO - Chain [1] done processing\n",
      "17:38:31 - cmdstanpy - INFO - Chain [1] start processing\n",
      "17:38:31 - cmdstanpy - INFO - Chain [1] start processing\n",
      "17:38:31 - cmdstanpy - INFO - Chain [1] start processing\n",
      "17:38:32 - cmdstanpy - INFO - Chain [1] start processing\n",
      "17:38:32 - cmdstanpy - INFO - Chain [1] start processing\n",
      "17:38:32 - cmdstanpy - INFO - Chain [1] done processing\n",
      "17:38:33 - cmdstanpy - INFO - Chain [1] done processing\n",
      "17:38:35 - cmdstanpy - INFO - Chain [1] done processing\n",
      "17:38:37 - cmdstanpy - INFO - Chain [1] done processing\n",
      "17:38:37 - cmdstanpy - INFO - Chain [1] done processing\n"
     ]
    },
    {
     "name": "stdout",
     "output_type": "stream",
     "text": [
      "{'changepoint_prior_scale': 0.401, 'holidays_prior_scale': 5.01, 'seasonality_mode': 'additive', 'seasonality_prior_scale': 7.51}\n"
     ]
    },
    {
     "name": "stderr",
     "output_type": "stream",
     "text": [
      "17:38:39 - cmdstanpy - INFO - Chain [1] start processing\n",
      "17:38:42 - cmdstanpy - INFO - Chain [1] done processing\n",
      "17:38:43 - cmdstanpy - INFO - Chain [1] start processing\n",
      "17:38:44 - cmdstanpy - INFO - Chain [1] start processing\n",
      "17:38:44 - cmdstanpy - INFO - Chain [1] start processing\n",
      "17:38:44 - cmdstanpy - INFO - Chain [1] start processing\n",
      "17:38:44 - cmdstanpy - INFO - Chain [1] start processing\n",
      "17:38:45 - cmdstanpy - INFO - Chain [1] done processing\n",
      "17:38:47 - cmdstanpy - INFO - Chain [1] done processing\n",
      "17:38:49 - cmdstanpy - INFO - Chain [1] done processing\n",
      "17:38:49 - cmdstanpy - INFO - Chain [1] done processing\n",
      "17:38:49 - cmdstanpy - INFO - Chain [1] done processing\n"
     ]
    },
    {
     "name": "stdout",
     "output_type": "stream",
     "text": [
      "{'changepoint_prior_scale': 0.401, 'holidays_prior_scale': 7.51, 'seasonality_mode': 'multiplicative', 'seasonality_prior_scale': 0.01}\n"
     ]
    },
    {
     "name": "stderr",
     "output_type": "stream",
     "text": [
      "17:38:51 - cmdstanpy - INFO - Chain [1] start processing\n",
      "17:38:58 - cmdstanpy - INFO - Chain [1] done processing\n",
      "17:39:00 - cmdstanpy - INFO - Chain [1] start processing\n",
      "17:39:00 - cmdstanpy - INFO - Chain [1] start processing\n",
      "17:39:00 - cmdstanpy - INFO - Chain [1] start processing\n",
      "17:39:01 - cmdstanpy - INFO - Chain [1] start processing\n",
      "17:39:01 - cmdstanpy - INFO - Chain [1] start processing\n",
      "17:39:01 - cmdstanpy - INFO - Chain [1] done processing\n",
      "17:39:05 - cmdstanpy - INFO - Chain [1] done processing\n",
      "17:39:06 - cmdstanpy - INFO - Chain [1] done processing\n",
      "17:39:06 - cmdstanpy - INFO - Chain [1] done processing\n",
      "17:39:09 - cmdstanpy - INFO - Chain [1] done processing\n"
     ]
    },
    {
     "name": "stdout",
     "output_type": "stream",
     "text": [
      "{'changepoint_prior_scale': 0.401, 'holidays_prior_scale': 7.51, 'seasonality_mode': 'multiplicative', 'seasonality_prior_scale': 2.51}\n"
     ]
    },
    {
     "name": "stderr",
     "output_type": "stream",
     "text": [
      "17:39:10 - cmdstanpy - INFO - Chain [1] start processing\n",
      "17:39:16 - cmdstanpy - INFO - Chain [1] done processing\n",
      "17:39:18 - cmdstanpy - INFO - Chain [1] start processing\n",
      "17:39:18 - cmdstanpy - INFO - Chain [1] start processing\n",
      "17:39:18 - cmdstanpy - INFO - Chain [1] start processing\n",
      "17:39:19 - cmdstanpy - INFO - Chain [1] start processing\n",
      "17:39:19 - cmdstanpy - INFO - Chain [1] start processing\n",
      "17:39:20 - cmdstanpy - INFO - Chain [1] done processing\n",
      "17:39:23 - cmdstanpy - INFO - Chain [1] done processing\n",
      "17:39:24 - cmdstanpy - INFO - Chain [1] done processing\n",
      "17:39:27 - cmdstanpy - INFO - Chain [1] done processing\n",
      "17:39:27 - cmdstanpy - INFO - Chain [1] done processing\n"
     ]
    },
    {
     "name": "stdout",
     "output_type": "stream",
     "text": [
      "{'changepoint_prior_scale': 0.401, 'holidays_prior_scale': 7.51, 'seasonality_mode': 'multiplicative', 'seasonality_prior_scale': 5.01}\n"
     ]
    },
    {
     "name": "stderr",
     "output_type": "stream",
     "text": [
      "17:39:29 - cmdstanpy - INFO - Chain [1] start processing\n",
      "17:39:34 - cmdstanpy - INFO - Chain [1] done processing\n",
      "17:39:36 - cmdstanpy - INFO - Chain [1] start processing\n",
      "17:39:36 - cmdstanpy - INFO - Chain [1] start processing\n",
      "17:39:36 - cmdstanpy - INFO - Chain [1] start processing\n",
      "17:39:36 - cmdstanpy - INFO - Chain [1] start processing\n",
      "17:39:37 - cmdstanpy - INFO - Chain [1] start processing\n",
      "17:39:38 - cmdstanpy - INFO - Chain [1] done processing\n",
      "17:39:40 - cmdstanpy - INFO - Chain [1] done processing\n",
      "17:39:43 - cmdstanpy - INFO - Chain [1] done processing\n",
      "17:39:44 - cmdstanpy - INFO - Chain [1] done processing\n",
      "17:39:44 - cmdstanpy - INFO - Chain [1] done processing\n"
     ]
    },
    {
     "name": "stdout",
     "output_type": "stream",
     "text": [
      "{'changepoint_prior_scale': 0.401, 'holidays_prior_scale': 7.51, 'seasonality_mode': 'multiplicative', 'seasonality_prior_scale': 7.51}\n"
     ]
    },
    {
     "name": "stderr",
     "output_type": "stream",
     "text": [
      "17:39:46 - cmdstanpy - INFO - Chain [1] start processing\n",
      "17:39:52 - cmdstanpy - INFO - Chain [1] done processing\n",
      "17:39:53 - cmdstanpy - INFO - Chain [1] start processing\n",
      "17:39:54 - cmdstanpy - INFO - Chain [1] start processing\n",
      "17:39:54 - cmdstanpy - INFO - Chain [1] start processing\n",
      "17:39:54 - cmdstanpy - INFO - Chain [1] start processing\n",
      "17:39:55 - cmdstanpy - INFO - Chain [1] start processing\n",
      "17:39:56 - cmdstanpy - INFO - Chain [1] done processing\n",
      "17:39:59 - cmdstanpy - INFO - Chain [1] done processing\n",
      "17:40:00 - cmdstanpy - INFO - Chain [1] done processing\n",
      "17:40:03 - cmdstanpy - INFO - Chain [1] done processing\n",
      "17:40:03 - cmdstanpy - INFO - Chain [1] done processing\n"
     ]
    },
    {
     "name": "stdout",
     "output_type": "stream",
     "text": [
      "{'changepoint_prior_scale': 0.401, 'holidays_prior_scale': 7.51, 'seasonality_mode': 'additive', 'seasonality_prior_scale': 0.01}\n"
     ]
    },
    {
     "name": "stderr",
     "output_type": "stream",
     "text": [
      "17:40:05 - cmdstanpy - INFO - Chain [1] start processing\n",
      "17:40:08 - cmdstanpy - INFO - Chain [1] done processing\n",
      "17:40:10 - cmdstanpy - INFO - Chain [1] start processing\n",
      "17:40:10 - cmdstanpy - INFO - Chain [1] start processing\n",
      "17:40:11 - cmdstanpy - INFO - Chain [1] start processing\n",
      "17:40:11 - cmdstanpy - INFO - Chain [1] start processing\n",
      "17:40:11 - cmdstanpy - INFO - Chain [1] start processing\n",
      "17:40:12 - cmdstanpy - INFO - Chain [1] done processing\n",
      "17:40:13 - cmdstanpy - INFO - Chain [1] done processing\n",
      "17:40:16 - cmdstanpy - INFO - Chain [1] done processing\n",
      "17:40:16 - cmdstanpy - INFO - Chain [1] done processing\n",
      "17:40:18 - cmdstanpy - INFO - Chain [1] done processing\n"
     ]
    },
    {
     "name": "stdout",
     "output_type": "stream",
     "text": [
      "{'changepoint_prior_scale': 0.401, 'holidays_prior_scale': 7.51, 'seasonality_mode': 'additive', 'seasonality_prior_scale': 2.51}\n"
     ]
    },
    {
     "name": "stderr",
     "output_type": "stream",
     "text": [
      "17:40:19 - cmdstanpy - INFO - Chain [1] start processing\n",
      "17:40:22 - cmdstanpy - INFO - Chain [1] done processing\n",
      "17:40:24 - cmdstanpy - INFO - Chain [1] start processing\n",
      "17:40:24 - cmdstanpy - INFO - Chain [1] start processing\n",
      "17:40:24 - cmdstanpy - INFO - Chain [1] start processing\n",
      "17:40:24 - cmdstanpy - INFO - Chain [1] start processing\n",
      "17:40:25 - cmdstanpy - INFO - Chain [1] start processing\n",
      "17:40:26 - cmdstanpy - INFO - Chain [1] done processing\n",
      "17:40:27 - cmdstanpy - INFO - Chain [1] done processing\n",
      "17:40:29 - cmdstanpy - INFO - Chain [1] done processing\n",
      "17:40:30 - cmdstanpy - INFO - Chain [1] done processing\n",
      "17:40:30 - cmdstanpy - INFO - Chain [1] done processing\n"
     ]
    },
    {
     "name": "stdout",
     "output_type": "stream",
     "text": [
      "{'changepoint_prior_scale': 0.401, 'holidays_prior_scale': 7.51, 'seasonality_mode': 'additive', 'seasonality_prior_scale': 5.01}\n"
     ]
    },
    {
     "name": "stderr",
     "output_type": "stream",
     "text": [
      "17:40:32 - cmdstanpy - INFO - Chain [1] start processing\n",
      "17:40:35 - cmdstanpy - INFO - Chain [1] done processing\n",
      "17:40:37 - cmdstanpy - INFO - Chain [1] start processing\n",
      "17:40:37 - cmdstanpy - INFO - Chain [1] start processing\n",
      "17:40:38 - cmdstanpy - INFO - Chain [1] start processing\n",
      "17:40:38 - cmdstanpy - INFO - Chain [1] start processing\n",
      "17:40:38 - cmdstanpy - INFO - Chain [1] start processing\n",
      "17:40:39 - cmdstanpy - INFO - Chain [1] done processing\n",
      "17:40:40 - cmdstanpy - INFO - Chain [1] done processing\n",
      "17:40:42 - cmdstanpy - INFO - Chain [1] done processing\n",
      "17:40:44 - cmdstanpy - INFO - Chain [1] done processing\n",
      "17:40:44 - cmdstanpy - INFO - Chain [1] done processing\n"
     ]
    },
    {
     "name": "stdout",
     "output_type": "stream",
     "text": [
      "{'changepoint_prior_scale': 0.401, 'holidays_prior_scale': 7.51, 'seasonality_mode': 'additive', 'seasonality_prior_scale': 7.51}\n"
     ]
    },
    {
     "name": "stderr",
     "output_type": "stream",
     "text": [
      "17:40:46 - cmdstanpy - INFO - Chain [1] start processing\n",
      "17:40:49 - cmdstanpy - INFO - Chain [1] done processing\n",
      "17:40:51 - cmdstanpy - INFO - Chain [1] start processing\n",
      "17:40:51 - cmdstanpy - INFO - Chain [1] start processing\n",
      "17:40:51 - cmdstanpy - INFO - Chain [1] start processing\n",
      "17:40:51 - cmdstanpy - INFO - Chain [1] start processing\n",
      "17:40:52 - cmdstanpy - INFO - Chain [1] done processing\n",
      "17:40:52 - cmdstanpy - INFO - Chain [1] start processing\n",
      "17:40:54 - cmdstanpy - INFO - Chain [1] done processing\n",
      "17:40:55 - cmdstanpy - INFO - Chain [1] done processing\n",
      "17:40:57 - cmdstanpy - INFO - Chain [1] done processing\n",
      "17:40:58 - cmdstanpy - INFO - Chain [1] done processing\n"
     ]
    },
    {
     "name": "stdout",
     "output_type": "stream",
     "text": [
      "     changepoint_prior_scale  holidays_prior_scale seasonality_mode  \\\n",
      "0                      0.001                  0.01   multiplicative   \n",
      "1                      0.001                  0.01   multiplicative   \n",
      "2                      0.001                  0.01   multiplicative   \n",
      "3                      0.001                  0.01   multiplicative   \n",
      "4                      0.001                  0.01         additive   \n",
      "..                       ...                   ...              ...   \n",
      "155                    0.401                  7.51   multiplicative   \n",
      "156                    0.401                  7.51         additive   \n",
      "157                    0.401                  7.51         additive   \n",
      "158                    0.401                  7.51         additive   \n",
      "159                    0.401                  7.51         additive   \n",
      "\n",
      "     seasonality_prior_scale      mase  \n",
      "0                       0.01  0.813111  \n",
      "1                       2.51  0.798228  \n",
      "2                       5.01  0.798399  \n",
      "3                       7.51  0.798570  \n",
      "4                       0.01  0.785690  \n",
      "..                       ...       ...  \n",
      "155                     7.51  0.794058  \n",
      "156                     0.01  0.789327  \n",
      "157                     2.51  0.790947  \n",
      "158                     5.01  0.789438  \n",
      "159                     7.51  0.789656  \n",
      "\n",
      "[160 rows x 5 columns]\n"
     ]
    }
   ],
   "source": [
    "MASE_list = []\n",
    "best_mase = 100000000\n",
    "best_params = None\n",
    "for p in grid:\n",
    "    train = pd.DataFrame(train_data)\n",
    "    test = pd.DataFrame()\n",
    "    print(p)\n",
    "    random.seed(0)\n",
    "    train_model =Prophet(changepoint_prior_scale = p['changepoint_prior_scale'],\n",
    "                        holidays_prior_scale = p['holidays_prior_scale'],\n",
    "                        seasonality_prior_scale = p['seasonality_prior_scale'],\n",
    "                        seasonality_mode = p['seasonality_mode'],\n",
    "                        weekly_seasonality=True,\n",
    "                        daily_seasonality = True,\n",
    "                        yearly_seasonality = False,\n",
    "                        )\n",
    "    \n",
    "     # add regressors with lags 1 to 24\n",
    "    for i in range(1,49):\n",
    "        train_model.add_regressor('lag'+str(i), standardize=False)\n",
    "        train['lag'+str(i)] = train['y'].shift(i)\n",
    "\n",
    "\n",
    "    train_model.fit(train_data)\n",
    "    \n",
    "    df_cv = cross_validation(train_model, period='60 days', horizon='30 days', parallel=\"processes\")\n",
    "\n",
    "     # X and y to pandas dataframe\n",
    "    X_train = pd.DataFrame(df_cv)\n",
    "\n",
    "    y_true = df_cv['y'].values\n",
    "    #make y_true as dataframe\n",
    "    y_true = pd.DataFrame(y_true)\n",
    "\n",
    "    y_pred = df_cv['yhat'].values\n",
    "    #make y_pred as dataframe\n",
    "    y_pred = pd.DataFrame(y_pred)\n",
    "\n",
    "    MASE_list.append(mean_absolute_scaled_error(y_true, y_pred))\n",
    "    \n",
    "\n",
    "\n",
    "    # print('RMSE:',np.sqrt(MSE))\n",
    "    # RMSE_list.append(np.sqrt(MSE))\n",
    "\n",
    "# Find the best parameters\n",
    "tuning_results = pd.DataFrame(grid)\n",
    "tuning_results['mase'] = MASE_list\n",
    "print(tuning_results)"
   ]
  },
  {
   "cell_type": "code",
   "execution_count": 8,
   "metadata": {},
   "outputs": [
    {
     "name": "stdout",
     "output_type": "stream",
     "text": [
      "Best Parameters {'seasonality_prior_scale': 0.01, 'seasonality_mode': 'additive', 'holidays_prior_scale': 2.51, 'changepoint_prior_scale': 0.001}\n",
      "Best MASE 0.7811516414461035\n",
      "[0.8131114652501816, 0.7982278548382845, 0.7983992519782875, 0.7985702959343615, 0.7856899451828758, 0.7881483803927852, 0.7913283134852805, 0.7844045682892689, 0.8030778302609464, 0.7898046498882915, 0.7904386408206738, 0.7908856781016333, 0.7811516414461035, 0.7859270340664377, 0.7855038318682381, 0.7846711513661818, 0.804112389271182, 0.7921428279902043, 0.7912026808833313, 0.7918939379782839, 0.784204604808554, 0.7865739542423688, 0.7872159406126565, 0.789942692639467, 0.8036796621380558, 0.7896694471410104, 0.7925299433644752, 0.7907417733102473, 0.7837340927635361, 0.78778797801961, 0.7856271034455996, 0.7878390939451004, 0.8287136036066283, 0.8035116518423019, 0.803746363757486, 0.8035400949744066, 0.7852704940659275, 0.7871753995150286, 0.786596934491173, 0.7867831354818592, 0.8146416583273403, 0.7935805359177743, 0.793905325618789, 0.7938335401722479, 0.7847400985422625, 0.78679154406853, 0.7863422528548396, 0.7869126672400456, 0.8145567755304197, 0.7937986662940842, 0.7929461116590062, 0.7938608137674023, 0.7849988586744748, 0.7877416561649794, 0.7867834723363661, 0.786565980255559, 0.8143520552148198, 0.794518246587683, 0.7941344739506309, 0.7940926616862011, 0.7849359348885524, 0.7868993666202628, 0.7864511461800938, 0.7863356565314076, 0.830878260489786, 0.8057002226188529, 0.80571434968562, 0.8059060395195979, 0.7859778676942473, 0.788091084812047, 0.7888197867189705, 0.7902406231886763, 0.8156067702005362, 0.7942635869772731, 0.7939490685889404, 0.7944453549453837, 0.7876075713684976, 0.7879328191238465, 0.7885795395740791, 0.7901896259448794, 0.8156826941733943, 0.7948036746228905, 0.7939811644947847, 0.7945082872725788, 0.7862736657615741, 0.7882538556537242, 0.7901622725543032, 0.7894776794544881, 0.8156430385327326, 0.7943567254945192, 0.7943807449622471, 0.7944324234994666, 0.7866188571703328, 0.7898134773012454, 0.7881358679623339, 0.791674062921712, 0.8311182141072078, 0.8047889515261278, 0.8050790960114548, 0.8052053600266001, 0.7869815689882178, 0.7886838989054251, 0.7909865104172796, 0.7900812776630273, 0.8155705734412565, 0.7941086301822132, 0.7941703927095831, 0.7940473772273139, 0.7879882449138528, 0.7891382809641472, 0.7878084315998952, 0.7898367533086993, 0.8155518507553494, 0.7942319459499948, 0.7941322532159648, 0.7940225103472235, 0.7867372631571029, 0.7903523030878942, 0.7894436516393858, 0.788221484230505, 0.8157076259827605, 0.7941594460100706, 0.7942913865462892, 0.7941148057636739, 0.78726187230556, 0.7899108566402632, 0.7892309771683779, 0.7885006945074642, 0.8308200465449921, 0.8055571437497782, 0.804654832333621, 0.8049394686469638, 0.7877218122199566, 0.7915032386406441, 0.7924706518972837, 0.7908548090704095, 0.8155524051305612, 0.7941647757308973, 0.7939296299434668, 0.794410352304279, 0.7873624716093464, 0.7883266195169124, 0.7930126957883405, 0.7883865475943338, 0.8155786062918992, 0.7939184092802247, 0.7935699369345762, 0.7939579021974427, 0.7908016162261098, 0.7913681805420691, 0.790074144590047, 0.7890856536091071, 0.8156463268675217, 0.7938004747094314, 0.7939224821049056, 0.7940575540551735, 0.7893268388455352, 0.7909465751766968, 0.7894377210092616, 0.7896564843350908]\n"
     ]
    }
   ],
   "source": [
    "best_params = grid[np.argmin(MASE_list)]\n",
    "print('Best Parameters',best_params)\n",
    "print('Best MASE',np.min(MASE_list))\n",
    "print(MASE_list)"
   ]
  }
 ],
 "metadata": {
  "kernelspec": {
   "display_name": "Python 3",
   "language": "python",
   "name": "python3"
  },
  "language_info": {
   "codemirror_mode": {
    "name": "ipython",
    "version": 3
   },
   "file_extension": ".py",
   "mimetype": "text/x-python",
   "name": "python",
   "nbconvert_exporter": "python",
   "pygments_lexer": "ipython3",
   "version": "3.9.12"
  }
 },
 "nbformat": 4,
 "nbformat_minor": 2
}
