{
 "cells": [
  {
   "cell_type": "markdown",
   "metadata": {},
   "source": [
    "https://www.kaggle.com/code/manovirat/timeseries-using-prophet-hyperparameter-tuning"
   ]
  },
  {
   "cell_type": "code",
   "execution_count": 1,
   "metadata": {},
   "outputs": [],
   "source": [
    "import pandas as pd\n",
    "from prophet import Prophet\n",
    "from prophet.diagnostics import cross_validation\n",
    "from sklearn.model_selection import ParameterGrid\n",
    "from prophet.diagnostics import performance_metrics\n",
    "import random\n",
    "import numpy as np\n",
    "from sklearn.model_selection import TimeSeriesSplit"
   ]
  },
  {
   "cell_type": "code",
   "execution_count": 2,
   "metadata": {},
   "outputs": [
    {
     "name": "stdout",
     "output_type": "stream",
     "text": [
      "Total Possible Models 160\n"
     ]
    }
   ],
   "source": [
    "params_grid = {'seasonality_mode':('multiplicative','additive'),\n",
    "               # set changepoint_prior_scale to 0.5 with steps of 0.005\n",
    "               'changepoint_prior_scale':[x for x in np.arange(0.001, 0.5, 0.1)],\n",
    "               'seasonality_prior_scale':[x for x in np.arange(0.01, 10, 2.5)],\n",
    "              'holidays_prior_scale':[x for x in np.arange(0.01, 10, 2.5)]}\n",
    "\n",
    "grid = ParameterGrid(params_grid)\n",
    "cnt = 0\n",
    "for p in grid:\n",
    "    cnt = cnt+1\n",
    "\n",
    "print('Total Possible Models',cnt)"
   ]
  },
  {
   "cell_type": "code",
   "execution_count": 3,
   "metadata": {},
   "outputs": [],
   "source": [
    "#Define MASE Metric\n",
    "def mean_absolute_scaled_error(y_true, y_pred):\n",
    "    mase=0\n",
    "    # Define numerator as the forecast error\n",
    "    numerator = (np.abs(y_true - y_pred))\n",
    "\n",
    "    # Define denominator as the mean absolute error of the in-sample one-step naive forecast\n",
    "    y_true_ohne_1 = y_true[1:].reset_index(drop=True)\n",
    "    y_true_ohne_ende = y_true[:-1].reset_index(drop=True)\n",
    "    denominator = np.mean(np.abs(y_true_ohne_1 - y_true_ohne_ende))\n",
    "\n",
    "    mase = np.mean(np.abs(numerator / denominator))\n",
    "\n",
    "    return mase"
   ]
  },
  {
   "cell_type": "code",
   "execution_count": 4,
   "metadata": {},
   "outputs": [],
   "source": [
    "# Load the data\n",
    "data = pd.read_parquet('/Users/paddy/Documents/GitHub/Masterthesis_ML/data/03_15min_dataset.parquet')\n",
    "\n",
    "# Convert the date column to datetime\n",
    "data['date'] = pd.to_datetime(data['date'],format='%d/%m/%y %H:%M:%S').dt.strftime('%Y-%m-%d %H:%M:%S') \n"
   ]
  },
  {
   "cell_type": "code",
   "execution_count": 5,
   "metadata": {},
   "outputs": [],
   "source": [
    "# Feature Engineering\n",
    "\n",
    "# Add a column with the time\n",
    "data['time'] = [x for x in range(0, len(data))]\n",
    "\n",
    "# Rename column count to y\n",
    "data = data.rename(columns={'count': 'y'})\n",
    "data = data.rename(columns={'date': 'ds'})\n",
    "\n",
    "\n",
    "train_data = data"
   ]
  },
  {
   "cell_type": "code",
   "execution_count": 6,
   "metadata": {},
   "outputs": [
    {
     "name": "stdout",
     "output_type": "stream",
     "text": [
      "0        2022-04-01 00:00:00\n",
      "1        2022-04-01 00:15:00\n",
      "2        2022-04-01 00:30:00\n",
      "3        2022-04-01 00:45:00\n",
      "4        2022-04-01 01:00:00\n",
      "                ...         \n",
      "35035    2023-03-31 22:45:00\n",
      "35036    2023-03-31 23:00:00\n",
      "35037    2023-03-31 23:15:00\n",
      "35038    2023-03-31 23:30:00\n",
      "35039    2023-03-31 23:45:00\n",
      "Name: ds, Length: 35040, dtype: object\n",
      "Fold 0:\n",
      "  Train: index=[   0    1    2 ... 5837 5838 5839]\n",
      "  Test:  index=[ 5840  5841  5842 ... 11677 11678 11679]\n",
      "Fold 1:\n",
      "  Train: index=[    0     1     2 ... 11677 11678 11679]\n",
      "  Test:  index=[11680 11681 11682 ... 17517 17518 17519]\n",
      "Fold 2:\n",
      "  Train: index=[    0     1     2 ... 17517 17518 17519]\n",
      "  Test:  index=[17520 17521 17522 ... 23357 23358 23359]\n",
      "Fold 3:\n",
      "  Train: index=[    0     1     2 ... 23357 23358 23359]\n",
      "  Test:  index=[23360 23361 23362 ... 29197 29198 29199]\n",
      "Fold 4:\n",
      "  Train: index=[    0     1     2 ... 29197 29198 29199]\n",
      "  Test:  index=[29200 29201 29202 ... 35037 35038 35039]\n",
      "['2022-05-31 19:45:00', '2022-07-31 15:45:00', '2022-09-30 11:45:00', '2022-11-30 07:45:00', '2023-01-30 03:45:00']\n"
     ]
    }
   ],
   "source": [
    "cv_folds = TimeSeriesSplit(n_splits=5)\n",
    "\n",
    "#convert data to only date not time\n",
    "cv_data = train_data.copy()\n",
    "\n",
    "#convert to timestamp with date format\n",
    "#cv_data.ds = pd.to_datetime(cv_data.ds).dt.date\n",
    "\n",
    "print(cv_data.ds)   \n",
    "\n",
    "#Define cutoff dates for cross validation at end of train_data/cv_folds\n",
    "cutoffs = []\n",
    "# for train_index, test_index in cv_folds.split(train_data):\n",
    "#     cutoffs.append(train_data.ds.iloc[test_index].max())\n",
    "#     #convert to timestamp\n",
    "#     cutoffs = pd.to_datetime(cutoffs)\n",
    "    \n",
    "# print(cutoffs)\n",
    "\n",
    "for i, (train_index, test_index) in enumerate(cv_folds.split(cv_data)):\n",
    "    print(f\"Fold {i}:\")\n",
    "    print(f\"  Train: index={train_index}\")\n",
    "    print(f\"  Test:  index={test_index}\")\n",
    "    #get the date for the last train index\n",
    "    cutoffs.append(cv_data.ds.iloc[train_index].max())\n",
    "    #only date not time\n",
    "    #cutoffs = pd.to_datetime(cutoffs).date\n",
    "\n",
    "print(cutoffs)\n",
    "\n",
    "# Define cutoffs for cross validation with 5 folds every two months with first cut on 2022-06-01, last day 2023-01-15 and horizon of 15 days\n",
    "#cutoffs = pd.to_datetime(['2022-06-01', '2022-08-01', '2022-10-01', '2022-12-01', '2023-01-15'])\n",
    "# print(cutoffs)\n"
   ]
  },
  {
   "cell_type": "code",
   "execution_count": 7,
   "metadata": {},
   "outputs": [
    {
     "name": "stdout",
     "output_type": "stream",
     "text": [
      "{'changepoint_prior_scale': 0.001, 'holidays_prior_scale': 0.01, 'seasonality_mode': 'multiplicative', 'seasonality_prior_scale': 0.01}\n"
     ]
    },
    {
     "name": "stderr",
     "output_type": "stream",
     "text": [
      "21:01:35 - cmdstanpy - INFO - Chain [1] start processing\n",
      "21:01:35 - cmdstanpy - INFO - Chain [1] done processing\n",
      "21:01:37 - cmdstanpy - INFO - Chain [1] start processing\n",
      "21:01:37 - cmdstanpy - INFO - Chain [1] start processing\n",
      "21:01:37 - cmdstanpy - INFO - Chain [1] done processing\n",
      "21:01:37 - cmdstanpy - INFO - Chain [1] start processing\n",
      "21:01:38 - cmdstanpy - INFO - Chain [1] done processing\n",
      "21:01:38 - cmdstanpy - INFO - Chain [1] start processing\n",
      "21:01:38 - cmdstanpy - INFO - Chain [1] start processing\n",
      "21:01:39 - cmdstanpy - INFO - Chain [1] done processing\n",
      "21:01:39 - cmdstanpy - INFO - Chain [1] done processing\n",
      "21:01:39 - cmdstanpy - INFO - Chain [1] done processing\n",
      "21:01:39 - cmdstanpy - ERROR - Chain [1] error: error during processing Operation not permitted\n",
      "Optimization terminated abnormally. Falling back to Newton.\n",
      "21:01:40 - cmdstanpy - INFO - Chain [1] start processing\n",
      "21:02:52 - cmdstanpy - INFO - Chain [1] done processing\n"
     ]
    },
    {
     "name": "stdout",
     "output_type": "stream",
     "text": [
      "{'changepoint_prior_scale': 0.001, 'holidays_prior_scale': 0.01, 'seasonality_mode': 'multiplicative', 'seasonality_prior_scale': 2.51}\n"
     ]
    },
    {
     "name": "stderr",
     "output_type": "stream",
     "text": [
      "21:02:54 - cmdstanpy - INFO - Chain [1] start processing\n",
      "21:02:54 - cmdstanpy - INFO - Chain [1] done processing\n",
      "21:02:56 - cmdstanpy - INFO - Chain [1] start processing\n",
      "21:02:56 - cmdstanpy - INFO - Chain [1] done processing\n",
      "21:02:56 - cmdstanpy - INFO - Chain [1] start processing\n",
      "21:02:56 - cmdstanpy - INFO - Chain [1] start processing\n",
      "21:02:56 - cmdstanpy - INFO - Chain [1] start processing\n",
      "21:02:57 - cmdstanpy - INFO - Chain [1] start processing\n",
      "21:02:57 - cmdstanpy - INFO - Chain [1] done processing\n",
      "21:02:57 - cmdstanpy - INFO - Chain [1] done processing\n",
      "21:02:57 - cmdstanpy - INFO - Chain [1] done processing\n",
      "21:02:57 - cmdstanpy - INFO - Chain [1] done processing\n",
      "21:02:57 - cmdstanpy - ERROR - Chain [1] error: error during processing Operation not permitted\n",
      "Optimization terminated abnormally. Falling back to Newton.\n",
      "21:02:58 - cmdstanpy - INFO - Chain [1] start processing\n",
      "21:03:57 - cmdstanpy - INFO - Chain [1] done processing\n"
     ]
    },
    {
     "name": "stdout",
     "output_type": "stream",
     "text": [
      "{'changepoint_prior_scale': 0.001, 'holidays_prior_scale': 0.01, 'seasonality_mode': 'multiplicative', 'seasonality_prior_scale': 5.01}\n"
     ]
    },
    {
     "name": "stderr",
     "output_type": "stream",
     "text": [
      "21:03:59 - cmdstanpy - INFO - Chain [1] start processing\n",
      "21:03:59 - cmdstanpy - INFO - Chain [1] done processing\n",
      "21:04:00 - cmdstanpy - INFO - Chain [1] start processing\n",
      "21:04:01 - cmdstanpy - INFO - Chain [1] start processing\n",
      "21:04:01 - cmdstanpy - INFO - Chain [1] done processing\n",
      "21:04:01 - cmdstanpy - INFO - Chain [1] start processing\n",
      "21:04:01 - cmdstanpy - INFO - Chain [1] start processing\n",
      "21:04:01 - cmdstanpy - INFO - Chain [1] done processing\n",
      "21:04:01 - cmdstanpy - INFO - Chain [1] start processing\n",
      "21:04:02 - cmdstanpy - INFO - Chain [1] done processing\n",
      "21:04:02 - cmdstanpy - INFO - Chain [1] done processing\n",
      "21:04:02 - cmdstanpy - INFO - Chain [1] done processing\n"
     ]
    },
    {
     "name": "stdout",
     "output_type": "stream",
     "text": [
      "{'changepoint_prior_scale': 0.001, 'holidays_prior_scale': 0.01, 'seasonality_mode': 'multiplicative', 'seasonality_prior_scale': 7.51}\n"
     ]
    },
    {
     "name": "stderr",
     "output_type": "stream",
     "text": [
      "21:04:04 - cmdstanpy - INFO - Chain [1] start processing\n",
      "21:04:04 - cmdstanpy - INFO - Chain [1] done processing\n",
      "21:04:06 - cmdstanpy - INFO - Chain [1] start processing\n",
      "21:04:06 - cmdstanpy - INFO - Chain [1] start processing\n",
      "21:04:06 - cmdstanpy - INFO - Chain [1] done processing\n",
      "21:04:06 - cmdstanpy - INFO - Chain [1] start processing\n",
      "21:04:06 - cmdstanpy - INFO - Chain [1] start processing\n",
      "21:04:06 - cmdstanpy - INFO - Chain [1] done processing\n",
      "21:04:06 - cmdstanpy - INFO - Chain [1] start processing\n",
      "21:04:07 - cmdstanpy - INFO - Chain [1] done processing\n",
      "21:04:07 - cmdstanpy - INFO - Chain [1] done processing\n",
      "21:04:07 - cmdstanpy - ERROR - Chain [1] error: error during processing Operation not permitted\n",
      "Optimization terminated abnormally. Falling back to Newton.\n",
      "21:04:08 - cmdstanpy - INFO - Chain [1] done processing\n",
      "21:04:08 - cmdstanpy - ERROR - Chain [1] error: error during processing Operation not permitted\n",
      "Optimization terminated abnormally. Falling back to Newton.\n",
      "21:04:08 - cmdstanpy - INFO - Chain [1] start processing\n",
      "21:04:08 - cmdstanpy - INFO - Chain [1] start processing\n",
      "21:05:50 - cmdstanpy - INFO - Chain [1] done processing\n",
      "21:06:04 - cmdstanpy - INFO - Chain [1] done processing\n"
     ]
    },
    {
     "name": "stdout",
     "output_type": "stream",
     "text": [
      "{'changepoint_prior_scale': 0.001, 'holidays_prior_scale': 0.01, 'seasonality_mode': 'additive', 'seasonality_prior_scale': 0.01}\n"
     ]
    },
    {
     "name": "stderr",
     "output_type": "stream",
     "text": [
      "21:06:05 - cmdstanpy - INFO - Chain [1] start processing\n",
      "21:06:05 - cmdstanpy - INFO - Chain [1] done processing\n",
      "21:06:05 - cmdstanpy - ERROR - Chain [1] error: error during processing Operation not permitted\n",
      "Optimization terminated abnormally. Falling back to Newton.\n",
      "21:06:06 - cmdstanpy - INFO - Chain [1] start processing\n",
      "21:07:06 - cmdstanpy - INFO - Chain [1] done processing\n",
      "21:07:07 - cmdstanpy - INFO - Chain [1] start processing\n",
      "21:07:07 - cmdstanpy - INFO - Chain [1] done processing\n",
      "21:07:07 - cmdstanpy - ERROR - Chain [1] error: error during processing Operation not permitted\n",
      "Optimization terminated abnormally. Falling back to Newton.\n",
      "21:07:07 - cmdstanpy - INFO - Chain [1] start processing\n",
      "21:07:07 - cmdstanpy - INFO - Chain [1] start processing\n",
      "21:07:07 - cmdstanpy - INFO - Chain [1] start processing\n",
      "21:07:08 - cmdstanpy - INFO - Chain [1] start processing\n",
      "21:07:08 - cmdstanpy - INFO - Chain [1] done processing\n",
      "21:07:08 - cmdstanpy - ERROR - Chain [1] error: error during processing Operation not permitted\n",
      "Optimization terminated abnormally. Falling back to Newton.\n",
      "21:07:08 - cmdstanpy - INFO - Chain [1] start processing\n",
      "21:07:08 - cmdstanpy - INFO - Chain [1] done processing\n",
      "21:07:08 - cmdstanpy - INFO - Chain [1] done processing\n",
      "21:07:08 - cmdstanpy - ERROR - Chain [1] error: error during processing Operation not permitted\n",
      "Optimization terminated abnormally. Falling back to Newton.\n",
      "21:07:08 - cmdstanpy - INFO - Chain [1] done processing\n",
      "21:07:08 - cmdstanpy - ERROR - Chain [1] error: error during processing Operation not permitted\n",
      "Optimization terminated abnormally. Falling back to Newton.\n",
      "21:07:08 - cmdstanpy - INFO - Chain [1] start processing\n",
      "21:07:09 - cmdstanpy - INFO - Chain [1] start processing\n",
      "21:07:09 - cmdstanpy - INFO - Chain [1] start processing\n",
      "21:07:29 - cmdstanpy - INFO - Chain [1] done processing\n",
      "21:08:22 - cmdstanpy - INFO - Chain [1] done processing\n",
      "21:09:03 - cmdstanpy - INFO - Chain [1] done processing\n",
      "21:09:26 - cmdstanpy - INFO - Chain [1] done processing\n"
     ]
    },
    {
     "name": "stdout",
     "output_type": "stream",
     "text": [
      "{'changepoint_prior_scale': 0.001, 'holidays_prior_scale': 0.01, 'seasonality_mode': 'additive', 'seasonality_prior_scale': 2.51}\n"
     ]
    },
    {
     "name": "stderr",
     "output_type": "stream",
     "text": [
      "21:09:28 - cmdstanpy - INFO - Chain [1] start processing\n",
      "21:09:28 - cmdstanpy - INFO - Chain [1] done processing\n",
      "21:09:28 - cmdstanpy - ERROR - Chain [1] error: error during processing Operation not permitted\n",
      "Optimization terminated abnormally. Falling back to Newton.\n",
      "21:09:29 - cmdstanpy - INFO - Chain [1] start processing\n",
      "21:10:05 - cmdstanpy - INFO - Chain [1] done processing\n",
      "21:10:06 - cmdstanpy - INFO - Chain [1] start processing\n",
      "21:10:07 - cmdstanpy - INFO - Chain [1] start processing\n",
      "21:10:07 - cmdstanpy - INFO - Chain [1] done processing\n",
      "21:10:07 - cmdstanpy - ERROR - Chain [1] error: error during processing Operation not permitted\n",
      "Optimization terminated abnormally. Falling back to Newton.\n",
      "21:10:07 - cmdstanpy - INFO - Chain [1] done processing\n",
      "21:10:07 - cmdstanpy - INFO - Chain [1] start processing\n",
      "21:10:07 - cmdstanpy - INFO - Chain [1] start processing\n",
      "21:10:07 - cmdstanpy - INFO - Chain [1] start processing\n",
      "21:10:07 - cmdstanpy - INFO - Chain [1] done processing\n",
      "21:10:07 - cmdstanpy - ERROR - Chain [1] error: error during processing Operation not permitted\n",
      "Optimization terminated abnormally. Falling back to Newton.\n",
      "21:10:07 - cmdstanpy - INFO - Chain [1] start processing\n",
      "21:10:07 - cmdstanpy - INFO - Chain [1] done processing\n",
      "21:10:07 - cmdstanpy - ERROR - Chain [1] error: error during processing Operation not permitted\n",
      "Optimization terminated abnormally. Falling back to Newton.\n",
      "21:10:08 - cmdstanpy - INFO - Chain [1] done processing\n",
      "21:10:08 - cmdstanpy - ERROR - Chain [1] error: error during processing Operation not permitted\n",
      "Optimization terminated abnormally. Falling back to Newton.\n",
      "21:10:08 - cmdstanpy - INFO - Chain [1] start processing\n",
      "21:10:08 - cmdstanpy - INFO - Chain [1] start processing\n",
      "21:10:09 - cmdstanpy - INFO - Chain [1] start processing\n",
      "21:10:23 - cmdstanpy - INFO - Chain [1] done processing\n",
      "21:11:14 - cmdstanpy - INFO - Chain [1] done processing\n",
      "21:11:49 - cmdstanpy - INFO - Chain [1] done processing\n",
      "21:12:20 - cmdstanpy - INFO - Chain [1] done processing\n"
     ]
    },
    {
     "name": "stdout",
     "output_type": "stream",
     "text": [
      "{'changepoint_prior_scale': 0.001, 'holidays_prior_scale': 0.01, 'seasonality_mode': 'additive', 'seasonality_prior_scale': 5.01}\n"
     ]
    },
    {
     "name": "stderr",
     "output_type": "stream",
     "text": [
      "21:12:21 - cmdstanpy - INFO - Chain [1] start processing\n",
      "21:12:21 - cmdstanpy - INFO - Chain [1] done processing\n",
      "21:12:21 - cmdstanpy - ERROR - Chain [1] error: error during processing Operation not permitted\n",
      "Optimization terminated abnormally. Falling back to Newton.\n",
      "21:12:22 - cmdstanpy - INFO - Chain [1] start processing\n",
      "21:12:55 - cmdstanpy - INFO - Chain [1] done processing\n",
      "21:12:56 - cmdstanpy - INFO - Chain [1] start processing\n",
      "21:12:57 - cmdstanpy - INFO - Chain [1] done processing\n",
      "21:12:57 - cmdstanpy - INFO - Chain [1] start processing\n",
      "21:12:57 - cmdstanpy - INFO - Chain [1] start processing\n",
      "21:12:57 - cmdstanpy - INFO - Chain [1] done processing\n",
      "21:12:57 - cmdstanpy - INFO - Chain [1] start processing\n",
      "21:12:58 - cmdstanpy - INFO - Chain [1] done processing\n",
      "21:12:58 - cmdstanpy - ERROR - Chain [1] error: error during processing Operation not permitted\n",
      "Optimization terminated abnormally. Falling back to Newton.\n",
      "21:12:58 - cmdstanpy - INFO - Chain [1] start processing\n",
      "21:12:58 - cmdstanpy - INFO - Chain [1] done processing\n",
      "21:12:58 - cmdstanpy - ERROR - Chain [1] error: error during processing Operation not permitted\n",
      "Optimization terminated abnormally. Falling back to Newton.\n",
      "21:12:58 - cmdstanpy - INFO - Chain [1] done processing\n",
      "21:12:58 - cmdstanpy - ERROR - Chain [1] error: error during processing Operation not permitted\n",
      "Optimization terminated abnormally. Falling back to Newton.\n",
      "21:12:58 - cmdstanpy - INFO - Chain [1] start processing\n",
      "21:12:58 - cmdstanpy - INFO - Chain [1] start processing\n",
      "21:12:59 - cmdstanpy - INFO - Chain [1] start processing\n",
      "21:14:02 - cmdstanpy - INFO - Chain [1] done processing\n",
      "21:14:35 - cmdstanpy - INFO - Chain [1] done processing\n",
      "21:14:47 - cmdstanpy - INFO - Chain [1] done processing\n"
     ]
    },
    {
     "name": "stdout",
     "output_type": "stream",
     "text": [
      "{'changepoint_prior_scale': 0.001, 'holidays_prior_scale': 0.01, 'seasonality_mode': 'additive', 'seasonality_prior_scale': 7.51}\n"
     ]
    },
    {
     "name": "stderr",
     "output_type": "stream",
     "text": [
      "21:14:48 - cmdstanpy - INFO - Chain [1] start processing\n",
      "21:14:48 - cmdstanpy - INFO - Chain [1] done processing\n",
      "21:14:48 - cmdstanpy - ERROR - Chain [1] error: error during processing Operation not permitted\n",
      "Optimization terminated abnormally. Falling back to Newton.\n",
      "21:14:49 - cmdstanpy - INFO - Chain [1] start processing\n",
      "21:15:22 - cmdstanpy - INFO - Chain [1] done processing\n",
      "21:15:23 - cmdstanpy - INFO - Chain [1] start processing\n",
      "21:15:23 - cmdstanpy - INFO - Chain [1] done processing\n",
      "21:15:23 - cmdstanpy - INFO - Chain [1] start processing\n",
      "21:15:24 - cmdstanpy - INFO - Chain [1] start processing\n",
      "21:15:24 - cmdstanpy - INFO - Chain [1] done processing\n",
      "21:15:24 - cmdstanpy - INFO - Chain [1] done processing\n",
      "21:15:24 - cmdstanpy - ERROR - Chain [1] error: error during processing Operation not permitted\n",
      "Optimization terminated abnormally. Falling back to Newton.\n",
      "21:15:24 - cmdstanpy - INFO - Chain [1] start processing\n",
      "21:15:24 - cmdstanpy - INFO - Chain [1] done processing\n",
      "21:15:24 - cmdstanpy - ERROR - Chain [1] error: error during processing Operation not permitted\n",
      "Optimization terminated abnormally. Falling back to Newton.\n",
      "21:15:24 - cmdstanpy - INFO - Chain [1] start processing\n",
      "21:15:25 - cmdstanpy - INFO - Chain [1] start processing\n",
      "21:15:25 - cmdstanpy - INFO - Chain [1] done processing\n",
      "21:15:25 - cmdstanpy - ERROR - Chain [1] error: error during processing Operation not permitted\n",
      "Optimization terminated abnormally. Falling back to Newton.\n",
      "21:15:25 - cmdstanpy - INFO - Chain [1] start processing\n",
      "21:15:25 - cmdstanpy - INFO - Chain [1] start processing\n",
      "21:16:34 - cmdstanpy - INFO - Chain [1] done processing\n",
      "21:17:00 - cmdstanpy - INFO - Chain [1] done processing\n",
      "21:17:13 - cmdstanpy - INFO - Chain [1] done processing\n"
     ]
    },
    {
     "name": "stdout",
     "output_type": "stream",
     "text": [
      "{'changepoint_prior_scale': 0.001, 'holidays_prior_scale': 2.51, 'seasonality_mode': 'multiplicative', 'seasonality_prior_scale': 0.01}\n"
     ]
    },
    {
     "name": "stderr",
     "output_type": "stream",
     "text": [
      "21:17:15 - cmdstanpy - INFO - Chain [1] start processing\n",
      "21:17:15 - cmdstanpy - INFO - Chain [1] done processing\n",
      "21:17:16 - cmdstanpy - INFO - Chain [1] start processing\n",
      "21:17:17 - cmdstanpy - INFO - Chain [1] done processing\n",
      "21:17:17 - cmdstanpy - INFO - Chain [1] start processing\n",
      "21:17:17 - cmdstanpy - INFO - Chain [1] start processing\n",
      "21:17:17 - cmdstanpy - INFO - Chain [1] start processing\n",
      "21:17:17 - cmdstanpy - INFO - Chain [1] start processing\n",
      "21:17:18 - cmdstanpy - INFO - Chain [1] done processing\n",
      "21:17:18 - cmdstanpy - INFO - Chain [1] done processing\n",
      "21:17:18 - cmdstanpy - ERROR - Chain [1] error: error during processing Operation not permitted\n",
      "Optimization terminated abnormally. Falling back to Newton.\n",
      "21:17:19 - cmdstanpy - INFO - Chain [1] done processing\n",
      "21:17:19 - cmdstanpy - INFO - Chain [1] start processing\n",
      "21:17:19 - cmdstanpy - INFO - Chain [1] done processing\n",
      "21:17:19 - cmdstanpy - ERROR - Chain [1] error: error during processing Operation not permitted\n",
      "Optimization terminated abnormally. Falling back to Newton.\n",
      "21:17:20 - cmdstanpy - INFO - Chain [1] start processing\n",
      "21:18:09 - cmdstanpy - INFO - Chain [1] done processing\n",
      "21:18:32 - cmdstanpy - INFO - Chain [1] done processing\n"
     ]
    },
    {
     "name": "stdout",
     "output_type": "stream",
     "text": [
      "{'changepoint_prior_scale': 0.001, 'holidays_prior_scale': 2.51, 'seasonality_mode': 'multiplicative', 'seasonality_prior_scale': 2.51}\n"
     ]
    },
    {
     "name": "stderr",
     "output_type": "stream",
     "text": [
      "21:18:34 - cmdstanpy - INFO - Chain [1] start processing\n",
      "21:18:34 - cmdstanpy - INFO - Chain [1] done processing\n",
      "21:18:35 - cmdstanpy - INFO - Chain [1] start processing\n",
      "21:18:36 - cmdstanpy - INFO - Chain [1] done processing\n",
      "21:18:36 - cmdstanpy - INFO - Chain [1] start processing\n",
      "21:18:36 - cmdstanpy - INFO - Chain [1] start processing\n",
      "21:18:36 - cmdstanpy - INFO - Chain [1] start processing\n",
      "21:18:36 - cmdstanpy - INFO - Chain [1] done processing\n",
      "21:18:37 - cmdstanpy - INFO - Chain [1] start processing\n",
      "21:18:37 - cmdstanpy - INFO - Chain [1] done processing\n",
      "21:18:37 - cmdstanpy - INFO - Chain [1] done processing\n",
      "21:18:38 - cmdstanpy - INFO - Chain [1] done processing\n",
      "21:18:38 - cmdstanpy - ERROR - Chain [1] error: error during processing Operation not permitted\n",
      "Optimization terminated abnormally. Falling back to Newton.\n",
      "21:18:38 - cmdstanpy - INFO - Chain [1] start processing\n",
      "21:19:34 - cmdstanpy - INFO - Chain [1] done processing\n"
     ]
    },
    {
     "name": "stdout",
     "output_type": "stream",
     "text": [
      "{'changepoint_prior_scale': 0.001, 'holidays_prior_scale': 2.51, 'seasonality_mode': 'multiplicative', 'seasonality_prior_scale': 5.01}\n"
     ]
    },
    {
     "name": "stderr",
     "output_type": "stream",
     "text": [
      "21:19:35 - cmdstanpy - INFO - Chain [1] start processing\n",
      "21:19:35 - cmdstanpy - INFO - Chain [1] done processing\n",
      "21:19:37 - cmdstanpy - INFO - Chain [1] start processing\n",
      "21:19:37 - cmdstanpy - INFO - Chain [1] start processing\n",
      "21:19:37 - cmdstanpy - INFO - Chain [1] done processing\n",
      "21:19:37 - cmdstanpy - INFO - Chain [1] start processing\n",
      "21:19:37 - cmdstanpy - INFO - Chain [1] start processing\n",
      "21:19:38 - cmdstanpy - INFO - Chain [1] done processing\n",
      "21:19:38 - cmdstanpy - INFO - Chain [1] start processing\n",
      "21:19:38 - cmdstanpy - INFO - Chain [1] done processing\n",
      "21:19:38 - cmdstanpy - INFO - Chain [1] done processing\n",
      "21:19:38 - cmdstanpy - INFO - Chain [1] done processing\n"
     ]
    },
    {
     "name": "stdout",
     "output_type": "stream",
     "text": [
      "{'changepoint_prior_scale': 0.001, 'holidays_prior_scale': 2.51, 'seasonality_mode': 'multiplicative', 'seasonality_prior_scale': 7.51}\n"
     ]
    },
    {
     "name": "stderr",
     "output_type": "stream",
     "text": [
      "21:19:40 - cmdstanpy - INFO - Chain [1] start processing\n",
      "21:19:40 - cmdstanpy - INFO - Chain [1] done processing\n",
      "21:19:42 - cmdstanpy - INFO - Chain [1] start processing\n",
      "21:19:42 - cmdstanpy - INFO - Chain [1] done processing\n",
      "21:19:42 - cmdstanpy - INFO - Chain [1] start processing\n",
      "21:19:42 - cmdstanpy - INFO - Chain [1] start processing\n",
      "21:19:42 - cmdstanpy - INFO - Chain [1] start processing\n",
      "21:19:43 - cmdstanpy - INFO - Chain [1] start processing\n",
      "21:19:43 - cmdstanpy - INFO - Chain [1] done processing\n",
      "21:19:43 - cmdstanpy - INFO - Chain [1] done processing\n",
      "21:19:43 - cmdstanpy - INFO - Chain [1] done processing\n",
      "21:19:44 - cmdstanpy - INFO - Chain [1] done processing\n"
     ]
    },
    {
     "name": "stdout",
     "output_type": "stream",
     "text": [
      "{'changepoint_prior_scale': 0.001, 'holidays_prior_scale': 2.51, 'seasonality_mode': 'additive', 'seasonality_prior_scale': 0.01}\n"
     ]
    },
    {
     "name": "stderr",
     "output_type": "stream",
     "text": [
      "21:19:46 - cmdstanpy - INFO - Chain [1] start processing\n",
      "21:19:46 - cmdstanpy - INFO - Chain [1] done processing\n",
      "21:19:46 - cmdstanpy - ERROR - Chain [1] error: error during processing Operation not permitted\n",
      "Optimization terminated abnormally. Falling back to Newton.\n",
      "21:19:47 - cmdstanpy - INFO - Chain [1] start processing\n",
      "21:20:51 - cmdstanpy - INFO - Chain [1] done processing\n",
      "21:20:52 - cmdstanpy - INFO - Chain [1] start processing\n",
      "21:20:52 - cmdstanpy - INFO - Chain [1] start processing\n",
      "21:20:52 - cmdstanpy - INFO - Chain [1] done processing\n",
      "21:20:52 - cmdstanpy - ERROR - Chain [1] error: error during processing Operation not permitted\n",
      "Optimization terminated abnormally. Falling back to Newton.\n",
      "21:20:52 - cmdstanpy - INFO - Chain [1] start processing\n",
      "21:20:53 - cmdstanpy - INFO - Chain [1] start processing\n",
      "21:20:53 - cmdstanpy - INFO - Chain [1] start processing\n",
      "21:20:53 - cmdstanpy - INFO - Chain [1] done processing\n",
      "21:20:53 - cmdstanpy - ERROR - Chain [1] error: error during processing Operation not permitted\n",
      "Optimization terminated abnormally. Falling back to Newton.\n",
      "21:20:53 - cmdstanpy - INFO - Chain [1] done processing\n",
      "21:20:53 - cmdstanpy - INFO - Chain [1] start processing\n",
      "21:20:53 - cmdstanpy - INFO - Chain [1] done processing\n",
      "21:20:53 - cmdstanpy - ERROR - Chain [1] error: error during processing Operation not permitted\n",
      "Optimization terminated abnormally. Falling back to Newton.\n",
      "21:20:53 - cmdstanpy - INFO - Chain [1] done processing\n",
      "21:20:53 - cmdstanpy - ERROR - Chain [1] error: error during processing Operation not permitted\n",
      "Optimization terminated abnormally. Falling back to Newton.\n",
      "21:20:53 - cmdstanpy - INFO - Chain [1] start processing\n",
      "21:20:54 - cmdstanpy - INFO - Chain [1] start processing\n",
      "21:20:54 - cmdstanpy - INFO - Chain [1] start processing\n",
      "21:21:16 - cmdstanpy - INFO - Chain [1] done processing\n",
      "21:22:04 - cmdstanpy - INFO - Chain [1] done processing\n",
      "21:34:09 - cmdstanpy - INFO - Chain [1] done processing\n",
      "21:34:16 - cmdstanpy - INFO - Chain [1] done processing\n"
     ]
    },
    {
     "name": "stdout",
     "output_type": "stream",
     "text": [
      "{'changepoint_prior_scale': 0.001, 'holidays_prior_scale': 2.51, 'seasonality_mode': 'additive', 'seasonality_prior_scale': 2.51}\n"
     ]
    },
    {
     "name": "stderr",
     "output_type": "stream",
     "text": [
      "21:34:17 - cmdstanpy - INFO - Chain [1] start processing\n",
      "21:34:18 - cmdstanpy - INFO - Chain [1] done processing\n",
      "21:34:18 - cmdstanpy - ERROR - Chain [1] error: error during processing Operation not permitted\n",
      "Optimization terminated abnormally. Falling back to Newton.\n",
      "21:34:18 - cmdstanpy - INFO - Chain [1] start processing\n",
      "21:34:48 - cmdstanpy - INFO - Chain [1] done processing\n",
      "21:34:49 - cmdstanpy - INFO - Chain [1] start processing\n",
      "21:34:50 - cmdstanpy - INFO - Chain [1] done processing\n",
      "21:34:50 - cmdstanpy - ERROR - Chain [1] error: error during processing Operation not permitted\n",
      "Optimization terminated abnormally. Falling back to Newton.\n",
      "21:34:50 - cmdstanpy - INFO - Chain [1] start processing\n",
      "21:34:50 - cmdstanpy - INFO - Chain [1] start processing\n",
      "21:34:50 - cmdstanpy - INFO - Chain [1] start processing\n",
      "21:34:50 - cmdstanpy - INFO - Chain [1] done processing\n",
      "21:34:50 - cmdstanpy - INFO - Chain [1] start processing\n",
      "21:34:50 - cmdstanpy - INFO - Chain [1] done processing\n",
      "21:34:50 - cmdstanpy - ERROR - Chain [1] error: error during processing Operation not permitted\n",
      "Optimization terminated abnormally. Falling back to Newton.\n",
      "21:34:50 - cmdstanpy - INFO - Chain [1] start processing\n",
      "21:34:50 - cmdstanpy - INFO - Chain [1] done processing\n",
      "21:34:50 - cmdstanpy - ERROR - Chain [1] error: error during processing Operation not permitted\n",
      "Optimization terminated abnormally. Falling back to Newton.\n",
      "21:34:51 - cmdstanpy - INFO - Chain [1] start processing\n",
      "21:34:51 - cmdstanpy - INFO - Chain [1] done processing\n",
      "21:34:51 - cmdstanpy - ERROR - Chain [1] error: error during processing Operation not permitted\n",
      "Optimization terminated abnormally. Falling back to Newton.\n",
      "21:34:51 - cmdstanpy - INFO - Chain [1] start processing\n",
      "21:34:51 - cmdstanpy - INFO - Chain [1] start processing\n",
      "21:35:06 - cmdstanpy - INFO - Chain [1] done processing\n",
      "21:35:56 - cmdstanpy - INFO - Chain [1] done processing\n",
      "21:36:28 - cmdstanpy - INFO - Chain [1] done processing\n",
      "21:37:12 - cmdstanpy - INFO - Chain [1] done processing\n"
     ]
    },
    {
     "name": "stdout",
     "output_type": "stream",
     "text": [
      "{'changepoint_prior_scale': 0.001, 'holidays_prior_scale': 2.51, 'seasonality_mode': 'additive', 'seasonality_prior_scale': 5.01}\n"
     ]
    },
    {
     "name": "stderr",
     "output_type": "stream",
     "text": [
      "21:37:13 - cmdstanpy - INFO - Chain [1] start processing\n",
      "21:37:13 - cmdstanpy - INFO - Chain [1] done processing\n",
      "21:37:13 - cmdstanpy - ERROR - Chain [1] error: error during processing Operation not permitted\n",
      "Optimization terminated abnormally. Falling back to Newton.\n",
      "21:37:14 - cmdstanpy - INFO - Chain [1] start processing\n",
      "21:37:58 - cmdstanpy - INFO - Chain [1] done processing\n",
      "21:38:00 - cmdstanpy - INFO - Chain [1] start processing\n",
      "21:38:00 - cmdstanpy - INFO - Chain [1] done processing\n",
      "21:38:00 - cmdstanpy - INFO - Chain [1] start processing\n",
      "21:38:00 - cmdstanpy - INFO - Chain [1] start processing\n",
      "21:38:00 - cmdstanpy - INFO - Chain [1] done processing\n",
      "21:38:00 - cmdstanpy - INFO - Chain [1] done processing\n",
      "21:38:00 - cmdstanpy - ERROR - Chain [1] error: error during processing Operation not permitted\n",
      "Optimization terminated abnormally. Falling back to Newton.\n",
      "21:38:01 - cmdstanpy - INFO - Chain [1] start processing\n",
      "21:38:01 - cmdstanpy - INFO - Chain [1] start processing\n",
      "21:38:01 - cmdstanpy - INFO - Chain [1] done processing\n",
      "21:38:01 - cmdstanpy - ERROR - Chain [1] error: error during processing Operation not permitted\n",
      "Optimization terminated abnormally. Falling back to Newton.\n",
      "21:38:01 - cmdstanpy - INFO - Chain [1] start processing\n",
      "21:38:01 - cmdstanpy - INFO - Chain [1] done processing\n",
      "21:38:01 - cmdstanpy - ERROR - Chain [1] error: error during processing Operation not permitted\n",
      "Optimization terminated abnormally. Falling back to Newton.\n",
      "21:38:01 - cmdstanpy - INFO - Chain [1] start processing\n",
      "21:38:02 - cmdstanpy - INFO - Chain [1] start processing\n",
      "21:39:03 - cmdstanpy - INFO - Chain [1] done processing\n",
      "21:39:37 - cmdstanpy - INFO - Chain [1] done processing\n",
      "21:39:53 - cmdstanpy - INFO - Chain [1] done processing\n"
     ]
    },
    {
     "name": "stdout",
     "output_type": "stream",
     "text": [
      "{'changepoint_prior_scale': 0.001, 'holidays_prior_scale': 2.51, 'seasonality_mode': 'additive', 'seasonality_prior_scale': 7.51}\n"
     ]
    },
    {
     "name": "stderr",
     "output_type": "stream",
     "text": [
      "21:39:54 - cmdstanpy - INFO - Chain [1] start processing\n",
      "21:39:54 - cmdstanpy - INFO - Chain [1] done processing\n",
      "21:39:54 - cmdstanpy - ERROR - Chain [1] error: error during processing Operation not permitted\n",
      "Optimization terminated abnormally. Falling back to Newton.\n",
      "21:39:55 - cmdstanpy - INFO - Chain [1] start processing\n",
      "21:40:34 - cmdstanpy - INFO - Chain [1] done processing\n",
      "21:40:35 - cmdstanpy - INFO - Chain [1] start processing\n",
      "21:40:35 - cmdstanpy - INFO - Chain [1] start processing\n",
      "21:40:35 - cmdstanpy - INFO - Chain [1] done processing\n",
      "21:40:35 - cmdstanpy - ERROR - Chain [1] error: error during processing Operation not permitted\n",
      "Optimization terminated abnormally. Falling back to Newton.\n",
      "21:40:36 - cmdstanpy - INFO - Chain [1] done processing\n",
      "21:40:36 - cmdstanpy - INFO - Chain [1] start processing\n",
      "21:40:36 - cmdstanpy - INFO - Chain [1] start processing\n",
      "21:40:36 - cmdstanpy - INFO - Chain [1] start processing\n",
      "21:40:36 - cmdstanpy - INFO - Chain [1] done processing\n",
      "21:40:36 - cmdstanpy - ERROR - Chain [1] error: error during processing Operation not permitted\n",
      "Optimization terminated abnormally. Falling back to Newton.\n",
      "21:40:36 - cmdstanpy - INFO - Chain [1] done processing\n",
      "21:40:36 - cmdstanpy - ERROR - Chain [1] error: error during processing Operation not permitted\n",
      "Optimization terminated abnormally. Falling back to Newton.\n",
      "21:40:36 - cmdstanpy - INFO - Chain [1] start processing\n",
      "21:40:36 - cmdstanpy - INFO - Chain [1] done processing\n",
      "21:40:36 - cmdstanpy - ERROR - Chain [1] error: error during processing Operation not permitted\n",
      "Optimization terminated abnormally. Falling back to Newton.\n",
      "21:40:36 - cmdstanpy - INFO - Chain [1] start processing\n",
      "21:40:37 - cmdstanpy - INFO - Chain [1] start processing\n",
      "21:40:37 - cmdstanpy - INFO - Chain [1] start processing\n",
      "21:40:52 - cmdstanpy - INFO - Chain [1] done processing\n",
      "21:41:42 - cmdstanpy - INFO - Chain [1] done processing\n",
      "21:42:07 - cmdstanpy - INFO - Chain [1] done processing\n",
      "21:42:29 - cmdstanpy - INFO - Chain [1] done processing\n"
     ]
    },
    {
     "name": "stdout",
     "output_type": "stream",
     "text": [
      "{'changepoint_prior_scale': 0.001, 'holidays_prior_scale': 5.01, 'seasonality_mode': 'multiplicative', 'seasonality_prior_scale': 0.01}\n"
     ]
    },
    {
     "name": "stderr",
     "output_type": "stream",
     "text": [
      "21:42:30 - cmdstanpy - INFO - Chain [1] start processing\n",
      "21:42:30 - cmdstanpy - INFO - Chain [1] done processing\n",
      "21:42:32 - cmdstanpy - INFO - Chain [1] start processing\n",
      "21:42:32 - cmdstanpy - INFO - Chain [1] start processing\n",
      "21:42:32 - cmdstanpy - INFO - Chain [1] done processing\n",
      "21:42:32 - cmdstanpy - INFO - Chain [1] start processing\n",
      "21:42:33 - cmdstanpy - INFO - Chain [1] done processing\n",
      "21:42:33 - cmdstanpy - INFO - Chain [1] start processing\n",
      "21:42:33 - cmdstanpy - INFO - Chain [1] start processing\n",
      "21:42:33 - cmdstanpy - INFO - Chain [1] done processing\n",
      "21:42:34 - cmdstanpy - INFO - Chain [1] done processing\n",
      "21:42:34 - cmdstanpy - ERROR - Chain [1] error: error during processing Operation not permitted\n",
      "Optimization terminated abnormally. Falling back to Newton.\n",
      "21:42:34 - cmdstanpy - INFO - Chain [1] done processing\n",
      "21:42:34 - cmdstanpy - INFO - Chain [1] start processing\n",
      "21:43:13 - cmdstanpy - INFO - Chain [1] done processing\n"
     ]
    },
    {
     "name": "stdout",
     "output_type": "stream",
     "text": [
      "{'changepoint_prior_scale': 0.001, 'holidays_prior_scale': 5.01, 'seasonality_mode': 'multiplicative', 'seasonality_prior_scale': 2.51}\n"
     ]
    },
    {
     "name": "stderr",
     "output_type": "stream",
     "text": [
      "21:43:15 - cmdstanpy - INFO - Chain [1] start processing\n",
      "21:43:15 - cmdstanpy - INFO - Chain [1] done processing\n",
      "21:43:16 - cmdstanpy - INFO - Chain [1] start processing\n",
      "21:43:17 - cmdstanpy - INFO - Chain [1] start processing\n",
      "21:43:17 - cmdstanpy - INFO - Chain [1] done processing\n",
      "21:43:17 - cmdstanpy - INFO - Chain [1] start processing\n",
      "21:43:17 - cmdstanpy - INFO - Chain [1] start processing\n",
      "21:43:17 - cmdstanpy - INFO - Chain [1] done processing\n",
      "21:43:17 - cmdstanpy - INFO - Chain [1] start processing\n",
      "21:43:18 - cmdstanpy - INFO - Chain [1] done processing\n",
      "21:43:18 - cmdstanpy - INFO - Chain [1] done processing\n",
      "21:43:18 - cmdstanpy - ERROR - Chain [1] error: error during processing Operation not permitted\n",
      "Optimization terminated abnormally. Falling back to Newton.\n",
      "21:43:18 - cmdstanpy - INFO - Chain [1] done processing\n",
      "21:43:19 - cmdstanpy - INFO - Chain [1] start processing\n",
      "21:44:18 - cmdstanpy - INFO - Chain [1] done processing\n"
     ]
    },
    {
     "name": "stdout",
     "output_type": "stream",
     "text": [
      "{'changepoint_prior_scale': 0.001, 'holidays_prior_scale': 5.01, 'seasonality_mode': 'multiplicative', 'seasonality_prior_scale': 5.01}\n"
     ]
    },
    {
     "name": "stderr",
     "output_type": "stream",
     "text": [
      "21:44:19 - cmdstanpy - INFO - Chain [1] start processing\n",
      "21:44:20 - cmdstanpy - INFO - Chain [1] done processing\n",
      "21:44:21 - cmdstanpy - INFO - Chain [1] start processing\n",
      "21:44:22 - cmdstanpy - INFO - Chain [1] start processing\n",
      "21:44:22 - cmdstanpy - INFO - Chain [1] done processing\n",
      "21:44:22 - cmdstanpy - INFO - Chain [1] start processing\n",
      "21:44:22 - cmdstanpy - INFO - Chain [1] start processing\n",
      "21:44:22 - cmdstanpy - INFO - Chain [1] done processing\n",
      "21:44:22 - cmdstanpy - INFO - Chain [1] start processing\n",
      "21:44:23 - cmdstanpy - INFO - Chain [1] done processing\n",
      "21:44:23 - cmdstanpy - INFO - Chain [1] done processing\n",
      "21:44:23 - cmdstanpy - INFO - Chain [1] done processing\n",
      "21:44:23 - cmdstanpy - ERROR - Chain [1] error: error during processing Operation not permitted\n",
      "Optimization terminated abnormally. Falling back to Newton.\n",
      "21:44:24 - cmdstanpy - INFO - Chain [1] start processing\n",
      "21:45:38 - cmdstanpy - INFO - Chain [1] done processing\n"
     ]
    },
    {
     "name": "stdout",
     "output_type": "stream",
     "text": [
      "{'changepoint_prior_scale': 0.001, 'holidays_prior_scale': 5.01, 'seasonality_mode': 'multiplicative', 'seasonality_prior_scale': 7.51}\n"
     ]
    },
    {
     "name": "stderr",
     "output_type": "stream",
     "text": [
      "21:45:39 - cmdstanpy - INFO - Chain [1] start processing\n",
      "21:45:40 - cmdstanpy - INFO - Chain [1] done processing\n",
      "21:45:41 - cmdstanpy - INFO - Chain [1] start processing\n",
      "21:45:41 - cmdstanpy - INFO - Chain [1] start processing\n",
      "21:45:42 - cmdstanpy - INFO - Chain [1] start processing\n",
      "21:45:42 - cmdstanpy - INFO - Chain [1] start processing\n",
      "21:45:42 - cmdstanpy - INFO - Chain [1] done processing\n",
      "21:45:42 - cmdstanpy - INFO - Chain [1] done processing\n",
      "21:45:42 - cmdstanpy - INFO - Chain [1] start processing\n",
      "21:45:43 - cmdstanpy - INFO - Chain [1] done processing\n",
      "21:45:43 - cmdstanpy - INFO - Chain [1] done processing\n",
      "21:45:43 - cmdstanpy - INFO - Chain [1] done processing\n",
      "21:45:43 - cmdstanpy - ERROR - Chain [1] error: error during processing Operation not permitted\n",
      "Optimization terminated abnormally. Falling back to Newton.\n",
      "21:45:44 - cmdstanpy - INFO - Chain [1] start processing\n",
      "21:46:45 - cmdstanpy - INFO - Chain [1] done processing\n"
     ]
    },
    {
     "name": "stdout",
     "output_type": "stream",
     "text": [
      "{'changepoint_prior_scale': 0.001, 'holidays_prior_scale': 5.01, 'seasonality_mode': 'additive', 'seasonality_prior_scale': 0.01}\n"
     ]
    },
    {
     "name": "stderr",
     "output_type": "stream",
     "text": [
      "21:46:46 - cmdstanpy - INFO - Chain [1] start processing\n",
      "21:46:46 - cmdstanpy - INFO - Chain [1] done processing\n",
      "21:46:46 - cmdstanpy - ERROR - Chain [1] error: error during processing Operation not permitted\n",
      "Optimization terminated abnormally. Falling back to Newton.\n",
      "21:46:47 - cmdstanpy - INFO - Chain [1] start processing\n",
      "21:47:47 - cmdstanpy - INFO - Chain [1] done processing\n",
      "21:47:48 - cmdstanpy - INFO - Chain [1] start processing\n",
      "21:47:48 - cmdstanpy - INFO - Chain [1] done processing\n",
      "21:47:49 - cmdstanpy - INFO - Chain [1] start processing\n",
      "21:47:49 - cmdstanpy - INFO - Chain [1] start processing\n",
      "21:47:49 - cmdstanpy - INFO - Chain [1] done processing\n",
      "21:47:49 - cmdstanpy - INFO - Chain [1] start processing\n",
      "21:47:49 - cmdstanpy - INFO - Chain [1] done processing\n",
      "21:47:49 - cmdstanpy - ERROR - Chain [1] error: error during processing Operation not permitted\n",
      "Optimization terminated abnormally. Falling back to Newton.\n",
      "21:47:49 - cmdstanpy - INFO - Chain [1] start processing\n",
      "21:47:49 - cmdstanpy - INFO - Chain [1] done processing\n",
      "21:47:49 - cmdstanpy - ERROR - Chain [1] error: error during processing Operation not permitted\n",
      "Optimization terminated abnormally. Falling back to Newton.\n",
      "21:47:50 - cmdstanpy - INFO - Chain [1] done processing\n",
      "21:47:50 - cmdstanpy - ERROR - Chain [1] error: error during processing Operation not permitted\n",
      "Optimization terminated abnormally. Falling back to Newton.\n",
      "21:47:50 - cmdstanpy - INFO - Chain [1] start processing\n",
      "21:47:50 - cmdstanpy - INFO - Chain [1] start processing\n",
      "21:47:50 - cmdstanpy - INFO - Chain [1] start processing\n",
      "21:49:02 - cmdstanpy - INFO - Chain [1] done processing\n",
      "21:49:40 - cmdstanpy - INFO - Chain [1] done processing\n",
      "21:49:48 - cmdstanpy - INFO - Chain [1] done processing\n"
     ]
    },
    {
     "name": "stdout",
     "output_type": "stream",
     "text": [
      "{'changepoint_prior_scale': 0.001, 'holidays_prior_scale': 5.01, 'seasonality_mode': 'additive', 'seasonality_prior_scale': 2.51}\n"
     ]
    },
    {
     "name": "stderr",
     "output_type": "stream",
     "text": [
      "21:49:49 - cmdstanpy - INFO - Chain [1] start processing\n",
      "21:49:49 - cmdstanpy - INFO - Chain [1] done processing\n",
      "21:49:49 - cmdstanpy - ERROR - Chain [1] error: error during processing Operation not permitted\n",
      "Optimization terminated abnormally. Falling back to Newton.\n",
      "21:49:50 - cmdstanpy - INFO - Chain [1] start processing\n",
      "21:50:19 - cmdstanpy - INFO - Chain [1] done processing\n",
      "21:50:20 - cmdstanpy - INFO - Chain [1] start processing\n",
      "21:50:20 - cmdstanpy - INFO - Chain [1] start processing\n",
      "21:50:20 - cmdstanpy - INFO - Chain [1] done processing\n",
      "21:50:20 - cmdstanpy - ERROR - Chain [1] error: error during processing Operation not permitted\n",
      "Optimization terminated abnormally. Falling back to Newton.\n",
      "21:50:21 - cmdstanpy - INFO - Chain [1] start processing\n",
      "21:50:21 - cmdstanpy - INFO - Chain [1] start processing\n",
      "21:50:21 - cmdstanpy - INFO - Chain [1] start processing\n",
      "21:50:21 - cmdstanpy - INFO - Chain [1] done processing\n",
      "21:50:21 - cmdstanpy - ERROR - Chain [1] error: error during processing Operation not permitted\n",
      "Optimization terminated abnormally. Falling back to Newton.\n",
      "21:50:21 - cmdstanpy - INFO - Chain [1] done processing\n",
      "21:50:21 - cmdstanpy - INFO - Chain [1] start processing\n",
      "21:50:21 - cmdstanpy - INFO - Chain [1] done processing\n",
      "21:50:21 - cmdstanpy - ERROR - Chain [1] error: error during processing Operation not permitted\n",
      "Optimization terminated abnormally. Falling back to Newton.\n",
      "21:50:21 - cmdstanpy - INFO - Chain [1] done processing\n",
      "21:50:21 - cmdstanpy - ERROR - Chain [1] error: error during processing Operation not permitted\n",
      "Optimization terminated abnormally. Falling back to Newton.\n",
      "21:50:22 - cmdstanpy - INFO - Chain [1] start processing\n",
      "21:50:22 - cmdstanpy - INFO - Chain [1] start processing\n",
      "21:50:22 - cmdstanpy - INFO - Chain [1] start processing\n",
      "21:50:36 - cmdstanpy - INFO - Chain [1] done processing\n",
      "21:51:30 - cmdstanpy - INFO - Chain [1] done processing\n",
      "21:52:03 - cmdstanpy - INFO - Chain [1] done processing\n",
      "21:52:43 - cmdstanpy - INFO - Chain [1] done processing\n"
     ]
    },
    {
     "name": "stdout",
     "output_type": "stream",
     "text": [
      "{'changepoint_prior_scale': 0.001, 'holidays_prior_scale': 5.01, 'seasonality_mode': 'additive', 'seasonality_prior_scale': 5.01}\n"
     ]
    },
    {
     "name": "stderr",
     "output_type": "stream",
     "text": [
      "21:52:44 - cmdstanpy - INFO - Chain [1] start processing\n",
      "21:52:44 - cmdstanpy - INFO - Chain [1] done processing\n",
      "21:52:44 - cmdstanpy - ERROR - Chain [1] error: error during processing Operation not permitted\n",
      "Optimization terminated abnormally. Falling back to Newton.\n",
      "21:52:45 - cmdstanpy - INFO - Chain [1] start processing\n",
      "21:53:28 - cmdstanpy - INFO - Chain [1] done processing\n",
      "21:53:29 - cmdstanpy - INFO - Chain [1] start processing\n",
      "21:53:29 - cmdstanpy - INFO - Chain [1] done processing\n",
      "21:53:29 - cmdstanpy - INFO - Chain [1] start processing\n",
      "21:53:30 - cmdstanpy - INFO - Chain [1] done processing\n",
      "21:53:30 - cmdstanpy - INFO - Chain [1] start processing\n",
      "21:53:30 - cmdstanpy - INFO - Chain [1] done processing\n",
      "21:53:30 - cmdstanpy - ERROR - Chain [1] error: error during processing Operation not permitted\n",
      "Optimization terminated abnormally. Falling back to Newton.\n",
      "21:53:30 - cmdstanpy - INFO - Chain [1] start processing\n",
      "21:53:30 - cmdstanpy - INFO - Chain [1] done processing\n",
      "21:53:30 - cmdstanpy - ERROR - Chain [1] error: error during processing Operation not permitted\n",
      "Optimization terminated abnormally. Falling back to Newton.\n",
      "21:53:30 - cmdstanpy - INFO - Chain [1] start processing\n",
      "21:53:30 - cmdstanpy - INFO - Chain [1] start processing\n",
      "21:53:31 - cmdstanpy - INFO - Chain [1] done processing\n",
      "21:53:31 - cmdstanpy - ERROR - Chain [1] error: error during processing Operation not permitted\n",
      "Optimization terminated abnormally. Falling back to Newton.\n",
      "21:53:31 - cmdstanpy - INFO - Chain [1] start processing\n",
      "21:53:31 - cmdstanpy - INFO - Chain [1] start processing\n",
      "21:54:48 - cmdstanpy - INFO - Chain [1] done processing\n",
      "21:55:19 - cmdstanpy - INFO - Chain [1] done processing\n",
      "21:55:22 - cmdstanpy - INFO - Chain [1] done processing\n"
     ]
    },
    {
     "name": "stdout",
     "output_type": "stream",
     "text": [
      "{'changepoint_prior_scale': 0.001, 'holidays_prior_scale': 5.01, 'seasonality_mode': 'additive', 'seasonality_prior_scale': 7.51}\n"
     ]
    },
    {
     "name": "stderr",
     "output_type": "stream",
     "text": [
      "21:55:24 - cmdstanpy - INFO - Chain [1] start processing\n",
      "21:55:24 - cmdstanpy - INFO - Chain [1] done processing\n",
      "21:55:24 - cmdstanpy - ERROR - Chain [1] error: error during processing Operation not permitted\n",
      "Optimization terminated abnormally. Falling back to Newton.\n",
      "21:55:25 - cmdstanpy - INFO - Chain [1] start processing\n",
      "21:56:08 - cmdstanpy - INFO - Chain [1] done processing\n",
      "21:56:10 - cmdstanpy - INFO - Chain [1] start processing\n",
      "21:56:10 - cmdstanpy - INFO - Chain [1] done processing\n",
      "21:56:10 - cmdstanpy - ERROR - Chain [1] error: error during processing Operation not permitted\n",
      "Optimization terminated abnormally. Falling back to Newton.\n",
      "21:56:10 - cmdstanpy - INFO - Chain [1] start processing\n",
      "21:56:10 - cmdstanpy - INFO - Chain [1] start processing\n",
      "21:56:10 - cmdstanpy - INFO - Chain [1] start processing\n",
      "21:56:10 - cmdstanpy - INFO - Chain [1] done processing\n",
      "21:56:10 - cmdstanpy - INFO - Chain [1] start processing\n",
      "21:56:10 - cmdstanpy - INFO - Chain [1] done processing\n",
      "21:56:10 - cmdstanpy - ERROR - Chain [1] error: error during processing Operation not permitted\n",
      "Optimization terminated abnormally. Falling back to Newton.\n",
      "21:56:11 - cmdstanpy - INFO - Chain [1] start processing\n",
      "21:56:11 - cmdstanpy - INFO - Chain [1] done processing\n",
      "21:56:11 - cmdstanpy - ERROR - Chain [1] error: error during processing Operation not permitted\n",
      "Optimization terminated abnormally. Falling back to Newton.\n",
      "21:56:11 - cmdstanpy - INFO - Chain [1] done processing\n",
      "21:56:11 - cmdstanpy - ERROR - Chain [1] error: error during processing Operation not permitted\n",
      "Optimization terminated abnormally. Falling back to Newton.\n",
      "21:56:11 - cmdstanpy - INFO - Chain [1] start processing\n",
      "21:56:11 - cmdstanpy - INFO - Chain [1] start processing\n",
      "21:56:12 - cmdstanpy - INFO - Chain [1] start processing\n",
      "21:56:27 - cmdstanpy - INFO - Chain [1] done processing\n",
      "21:57:13 - cmdstanpy - INFO - Chain [1] done processing\n",
      "21:57:52 - cmdstanpy - INFO - Chain [1] done processing\n",
      "21:58:03 - cmdstanpy - INFO - Chain [1] done processing\n"
     ]
    },
    {
     "name": "stdout",
     "output_type": "stream",
     "text": [
      "{'changepoint_prior_scale': 0.001, 'holidays_prior_scale': 7.51, 'seasonality_mode': 'multiplicative', 'seasonality_prior_scale': 0.01}\n"
     ]
    },
    {
     "name": "stderr",
     "output_type": "stream",
     "text": [
      "21:58:04 - cmdstanpy - INFO - Chain [1] start processing\n",
      "21:58:04 - cmdstanpy - INFO - Chain [1] done processing\n",
      "21:58:06 - cmdstanpy - INFO - Chain [1] start processing\n",
      "21:58:06 - cmdstanpy - INFO - Chain [1] done processing\n",
      "21:58:06 - cmdstanpy - INFO - Chain [1] start processing\n",
      "21:58:07 - cmdstanpy - INFO - Chain [1] start processing\n",
      "21:58:07 - cmdstanpy - INFO - Chain [1] start processing\n",
      "21:58:07 - cmdstanpy - INFO - Chain [1] start processing\n",
      "21:58:07 - cmdstanpy - INFO - Chain [1] done processing\n",
      "21:58:08 - cmdstanpy - INFO - Chain [1] done processing\n",
      "21:58:08 - cmdstanpy - INFO - Chain [1] done processing\n",
      "21:58:08 - cmdstanpy - INFO - Chain [1] done processing\n"
     ]
    },
    {
     "name": "stdout",
     "output_type": "stream",
     "text": [
      "{'changepoint_prior_scale': 0.001, 'holidays_prior_scale': 7.51, 'seasonality_mode': 'multiplicative', 'seasonality_prior_scale': 2.51}\n"
     ]
    },
    {
     "name": "stderr",
     "output_type": "stream",
     "text": [
      "21:58:10 - cmdstanpy - INFO - Chain [1] start processing\n",
      "21:58:10 - cmdstanpy - INFO - Chain [1] done processing\n",
      "21:58:12 - cmdstanpy - INFO - Chain [1] start processing\n",
      "21:58:12 - cmdstanpy - INFO - Chain [1] start processing\n",
      "21:58:13 - cmdstanpy - INFO - Chain [1] done processing\n",
      "21:58:13 - cmdstanpy - INFO - Chain [1] start processing\n",
      "21:58:13 - cmdstanpy - INFO - Chain [1] start processing\n",
      "21:58:13 - cmdstanpy - INFO - Chain [1] done processing\n",
      "21:58:13 - cmdstanpy - INFO - Chain [1] start processing\n",
      "21:58:14 - cmdstanpy - INFO - Chain [1] done processing\n",
      "21:58:14 - cmdstanpy - INFO - Chain [1] done processing\n",
      "21:58:15 - cmdstanpy - INFO - Chain [1] done processing\n",
      "21:58:15 - cmdstanpy - ERROR - Chain [1] error: error during processing Operation not permitted\n",
      "Optimization terminated abnormally. Falling back to Newton.\n",
      "21:58:15 - cmdstanpy - INFO - Chain [1] start processing\n",
      "21:59:15 - cmdstanpy - INFO - Chain [1] done processing\n"
     ]
    },
    {
     "name": "stdout",
     "output_type": "stream",
     "text": [
      "{'changepoint_prior_scale': 0.001, 'holidays_prior_scale': 7.51, 'seasonality_mode': 'multiplicative', 'seasonality_prior_scale': 5.01}\n"
     ]
    },
    {
     "name": "stderr",
     "output_type": "stream",
     "text": [
      "21:59:16 - cmdstanpy - INFO - Chain [1] start processing\n",
      "21:59:16 - cmdstanpy - INFO - Chain [1] done processing\n",
      "21:59:18 - cmdstanpy - INFO - Chain [1] start processing\n",
      "21:59:18 - cmdstanpy - INFO - Chain [1] start processing\n",
      "21:59:18 - cmdstanpy - INFO - Chain [1] done processing\n",
      "21:59:18 - cmdstanpy - INFO - Chain [1] start processing\n",
      "21:59:19 - cmdstanpy - INFO - Chain [1] start processing\n",
      "21:59:19 - cmdstanpy - INFO - Chain [1] start processing\n",
      "21:59:19 - cmdstanpy - INFO - Chain [1] done processing\n",
      "21:59:19 - cmdstanpy - INFO - Chain [1] done processing\n",
      "21:59:19 - cmdstanpy - INFO - Chain [1] done processing\n",
      "21:59:20 - cmdstanpy - INFO - Chain [1] done processing\n"
     ]
    },
    {
     "name": "stdout",
     "output_type": "stream",
     "text": [
      "{'changepoint_prior_scale': 0.001, 'holidays_prior_scale': 7.51, 'seasonality_mode': 'multiplicative', 'seasonality_prior_scale': 7.51}\n"
     ]
    },
    {
     "name": "stderr",
     "output_type": "stream",
     "text": [
      "21:59:21 - cmdstanpy - INFO - Chain [1] start processing\n",
      "21:59:22 - cmdstanpy - INFO - Chain [1] done processing\n",
      "21:59:23 - cmdstanpy - INFO - Chain [1] start processing\n",
      "21:59:23 - cmdstanpy - INFO - Chain [1] start processing\n",
      "21:59:23 - cmdstanpy - INFO - Chain [1] start processing\n",
      "21:59:23 - cmdstanpy - INFO - Chain [1] done processing\n",
      "21:59:24 - cmdstanpy - INFO - Chain [1] start processing\n",
      "21:59:24 - cmdstanpy - INFO - Chain [1] done processing\n",
      "21:59:24 - cmdstanpy - INFO - Chain [1] start processing\n",
      "21:59:25 - cmdstanpy - INFO - Chain [1] done processing\n",
      "21:59:25 - cmdstanpy - INFO - Chain [1] done processing\n",
      "21:59:25 - cmdstanpy - INFO - Chain [1] done processing\n",
      "21:59:25 - cmdstanpy - ERROR - Chain [1] error: error during processing Operation not permitted\n",
      "Optimization terminated abnormally. Falling back to Newton.\n",
      "21:59:26 - cmdstanpy - INFO - Chain [1] start processing\n",
      "22:00:29 - cmdstanpy - INFO - Chain [1] done processing\n"
     ]
    },
    {
     "name": "stdout",
     "output_type": "stream",
     "text": [
      "{'changepoint_prior_scale': 0.001, 'holidays_prior_scale': 7.51, 'seasonality_mode': 'additive', 'seasonality_prior_scale': 0.01}\n"
     ]
    },
    {
     "name": "stderr",
     "output_type": "stream",
     "text": [
      "22:00:30 - cmdstanpy - INFO - Chain [1] start processing\n",
      "22:00:31 - cmdstanpy - INFO - Chain [1] done processing\n",
      "22:00:31 - cmdstanpy - ERROR - Chain [1] error: error during processing Operation not permitted\n",
      "Optimization terminated abnormally. Falling back to Newton.\n",
      "22:00:31 - cmdstanpy - INFO - Chain [1] start processing\n",
      "22:01:32 - cmdstanpy - INFO - Chain [1] done processing\n",
      "22:01:33 - cmdstanpy - INFO - Chain [1] start processing\n",
      "22:01:34 - cmdstanpy - INFO - Chain [1] done processing\n",
      "22:01:34 - cmdstanpy - INFO - Chain [1] start processing\n",
      "22:01:34 - cmdstanpy - INFO - Chain [1] start processing\n",
      "22:01:34 - cmdstanpy - INFO - Chain [1] done processing\n",
      "22:01:34 - cmdstanpy - ERROR - Chain [1] error: error during processing Operation not permitted\n",
      "Optimization terminated abnormally. Falling back to Newton.\n",
      "22:01:34 - cmdstanpy - INFO - Chain [1] start processing\n",
      "22:01:34 - cmdstanpy - INFO - Chain [1] start processing\n",
      "22:01:34 - cmdstanpy - INFO - Chain [1] done processing\n",
      "22:01:34 - cmdstanpy - ERROR - Chain [1] error: error during processing Operation not permitted\n",
      "Optimization terminated abnormally. Falling back to Newton.\n",
      "22:01:35 - cmdstanpy - INFO - Chain [1] done processing\n",
      "22:01:35 - cmdstanpy - ERROR - Chain [1] error: error during processing Operation not permitted\n",
      "Optimization terminated abnormally. Falling back to Newton.\n",
      "22:01:35 - cmdstanpy - INFO - Chain [1] done processing\n",
      "22:01:35 - cmdstanpy - ERROR - Chain [1] error: error during processing Operation not permitted\n",
      "Optimization terminated abnormally. Falling back to Newton.\n",
      "22:01:35 - cmdstanpy - INFO - Chain [1] start processing\n",
      "22:01:35 - cmdstanpy - INFO - Chain [1] start processing\n",
      "22:01:35 - cmdstanpy - INFO - Chain [1] start processing\n",
      "22:01:35 - cmdstanpy - INFO - Chain [1] start processing\n",
      "22:02:17 - cmdstanpy - INFO - Chain [1] done processing\n",
      "22:02:56 - cmdstanpy - INFO - Chain [1] done processing\n",
      "22:03:38 - cmdstanpy - INFO - Chain [1] done processing\n",
      "22:03:48 - cmdstanpy - INFO - Chain [1] done processing\n"
     ]
    },
    {
     "name": "stdout",
     "output_type": "stream",
     "text": [
      "{'changepoint_prior_scale': 0.001, 'holidays_prior_scale': 7.51, 'seasonality_mode': 'additive', 'seasonality_prior_scale': 2.51}\n"
     ]
    },
    {
     "name": "stderr",
     "output_type": "stream",
     "text": [
      "22:03:50 - cmdstanpy - INFO - Chain [1] start processing\n",
      "22:03:50 - cmdstanpy - INFO - Chain [1] done processing\n",
      "22:03:50 - cmdstanpy - ERROR - Chain [1] error: error during processing Operation not permitted\n",
      "Optimization terminated abnormally. Falling back to Newton.\n",
      "22:03:51 - cmdstanpy - INFO - Chain [1] start processing\n",
      "22:04:30 - cmdstanpy - INFO - Chain [1] done processing\n",
      "22:04:32 - cmdstanpy - INFO - Chain [1] start processing\n",
      "22:04:32 - cmdstanpy - INFO - Chain [1] start processing\n",
      "22:04:32 - cmdstanpy - INFO - Chain [1] start processing\n",
      "22:04:32 - cmdstanpy - INFO - Chain [1] start processing\n",
      "22:04:32 - cmdstanpy - INFO - Chain [1] done processing\n",
      "22:04:32 - cmdstanpy - INFO - Chain [1] done processing\n",
      "22:04:33 - cmdstanpy - INFO - Chain [1] done processing\n",
      "22:04:33 - cmdstanpy - ERROR - Chain [1] error: error during processing Operation not permitted\n",
      "Optimization terminated abnormally. Falling back to Newton.\n",
      "22:04:33 - cmdstanpy - INFO - Chain [1] start processing\n",
      "22:04:33 - cmdstanpy - INFO - Chain [1] done processing\n",
      "22:04:33 - cmdstanpy - ERROR - Chain [1] error: error during processing Operation not permitted\n",
      "Optimization terminated abnormally. Falling back to Newton.\n",
      "22:04:33 - cmdstanpy - INFO - Chain [1] done processing\n",
      "22:04:33 - cmdstanpy - ERROR - Chain [1] error: error during processing Operation not permitted\n",
      "Optimization terminated abnormally. Falling back to Newton.\n",
      "22:04:33 - cmdstanpy - INFO - Chain [1] start processing\n",
      "22:04:34 - cmdstanpy - INFO - Chain [1] start processing\n",
      "22:04:34 - cmdstanpy - INFO - Chain [1] start processing\n",
      "22:05:47 - cmdstanpy - INFO - Chain [1] done processing\n",
      "22:06:20 - cmdstanpy - INFO - Chain [1] done processing\n",
      "22:06:41 - cmdstanpy - INFO - Chain [1] done processing\n"
     ]
    },
    {
     "name": "stdout",
     "output_type": "stream",
     "text": [
      "{'changepoint_prior_scale': 0.001, 'holidays_prior_scale': 7.51, 'seasonality_mode': 'additive', 'seasonality_prior_scale': 5.01}\n"
     ]
    },
    {
     "name": "stderr",
     "output_type": "stream",
     "text": [
      "22:06:42 - cmdstanpy - INFO - Chain [1] start processing\n",
      "22:06:43 - cmdstanpy - INFO - Chain [1] done processing\n",
      "22:06:43 - cmdstanpy - ERROR - Chain [1] error: error during processing Operation not permitted\n",
      "Optimization terminated abnormally. Falling back to Newton.\n",
      "22:06:43 - cmdstanpy - INFO - Chain [1] start processing\n",
      "22:07:23 - cmdstanpy - INFO - Chain [1] done processing\n",
      "22:07:25 - cmdstanpy - INFO - Chain [1] start processing\n",
      "22:07:25 - cmdstanpy - INFO - Chain [1] start processing\n",
      "22:07:25 - cmdstanpy - INFO - Chain [1] done processing\n",
      "22:07:25 - cmdstanpy - ERROR - Chain [1] error: error during processing Operation not permitted\n",
      "Optimization terminated abnormally. Falling back to Newton.\n",
      "22:07:25 - cmdstanpy - INFO - Chain [1] start processing\n",
      "22:07:25 - cmdstanpy - INFO - Chain [1] done processing\n",
      "22:07:25 - cmdstanpy - INFO - Chain [1] start processing\n",
      "22:07:26 - cmdstanpy - INFO - Chain [1] start processing\n",
      "22:07:26 - cmdstanpy - INFO - Chain [1] done processing\n",
      "22:07:26 - cmdstanpy - ERROR - Chain [1] error: error during processing Operation not permitted\n",
      "Optimization terminated abnormally. Falling back to Newton.\n",
      "22:07:26 - cmdstanpy - INFO - Chain [1] start processing\n",
      "22:07:26 - cmdstanpy - INFO - Chain [1] done processing\n",
      "22:07:26 - cmdstanpy - ERROR - Chain [1] error: error during processing Operation not permitted\n",
      "Optimization terminated abnormally. Falling back to Newton.\n",
      "22:07:26 - cmdstanpy - INFO - Chain [1] done processing\n",
      "22:07:26 - cmdstanpy - ERROR - Chain [1] error: error during processing Operation not permitted\n",
      "Optimization terminated abnormally. Falling back to Newton.\n",
      "22:07:26 - cmdstanpy - INFO - Chain [1] start processing\n",
      "22:07:27 - cmdstanpy - INFO - Chain [1] start processing\n",
      "22:07:27 - cmdstanpy - INFO - Chain [1] start processing\n",
      "22:07:42 - cmdstanpy - INFO - Chain [1] done processing\n",
      "22:08:32 - cmdstanpy - INFO - Chain [1] done processing\n",
      "22:09:10 - cmdstanpy - INFO - Chain [1] done processing\n",
      "22:09:11 - cmdstanpy - INFO - Chain [1] done processing\n"
     ]
    },
    {
     "name": "stdout",
     "output_type": "stream",
     "text": [
      "{'changepoint_prior_scale': 0.001, 'holidays_prior_scale': 7.51, 'seasonality_mode': 'additive', 'seasonality_prior_scale': 7.51}\n"
     ]
    },
    {
     "name": "stderr",
     "output_type": "stream",
     "text": [
      "22:09:12 - cmdstanpy - INFO - Chain [1] start processing\n",
      "22:09:12 - cmdstanpy - INFO - Chain [1] done processing\n",
      "22:09:12 - cmdstanpy - ERROR - Chain [1] error: error during processing Operation not permitted\n",
      "Optimization terminated abnormally. Falling back to Newton.\n",
      "22:09:13 - cmdstanpy - INFO - Chain [1] start processing\n",
      "22:09:46 - cmdstanpy - INFO - Chain [1] done processing\n",
      "22:09:48 - cmdstanpy - INFO - Chain [1] start processing\n",
      "22:09:48 - cmdstanpy - INFO - Chain [1] start processing\n",
      "22:09:48 - cmdstanpy - INFO - Chain [1] done processing\n",
      "22:09:48 - cmdstanpy - INFO - Chain [1] start processing\n",
      "22:09:49 - cmdstanpy - INFO - Chain [1] done processing\n",
      "22:09:49 - cmdstanpy - ERROR - Chain [1] error: error during processing Operation not permitted\n",
      "Optimization terminated abnormally. Falling back to Newton.\n",
      "22:09:49 - cmdstanpy - INFO - Chain [1] start processing\n",
      "22:09:49 - cmdstanpy - INFO - Chain [1] done processing\n",
      "22:09:49 - cmdstanpy - ERROR - Chain [1] error: error during processing Operation not permitted\n",
      "Optimization terminated abnormally. Falling back to Newton.\n",
      "22:09:49 - cmdstanpy - INFO - Chain [1] start processing\n",
      "22:09:49 - cmdstanpy - INFO - Chain [1] start processing\n",
      "22:09:49 - cmdstanpy - INFO - Chain [1] done processing\n",
      "22:09:49 - cmdstanpy - ERROR - Chain [1] error: error during processing Operation not permitted\n",
      "Optimization terminated abnormally. Falling back to Newton.\n",
      "22:09:49 - cmdstanpy - INFO - Chain [1] done processing\n",
      "22:09:49 - cmdstanpy - ERROR - Chain [1] error: error during processing Operation not permitted\n",
      "Optimization terminated abnormally. Falling back to Newton.\n",
      "22:09:49 - cmdstanpy - INFO - Chain [1] start processing\n",
      "22:09:50 - cmdstanpy - INFO - Chain [1] start processing\n",
      "22:09:50 - cmdstanpy - INFO - Chain [1] start processing\n",
      "22:10:04 - cmdstanpy - INFO - Chain [1] done processing\n",
      "22:10:58 - cmdstanpy - INFO - Chain [1] done processing\n",
      "22:11:41 - cmdstanpy - INFO - Chain [1] done processing\n",
      "22:11:43 - cmdstanpy - INFO - Chain [1] done processing\n"
     ]
    },
    {
     "name": "stdout",
     "output_type": "stream",
     "text": [
      "{'changepoint_prior_scale': 0.101, 'holidays_prior_scale': 0.01, 'seasonality_mode': 'multiplicative', 'seasonality_prior_scale': 0.01}\n"
     ]
    },
    {
     "name": "stderr",
     "output_type": "stream",
     "text": [
      "22:11:44 - cmdstanpy - INFO - Chain [1] start processing\n",
      "22:11:45 - cmdstanpy - INFO - Chain [1] done processing\n",
      "22:11:47 - cmdstanpy - INFO - Chain [1] start processing\n",
      "22:11:47 - cmdstanpy - INFO - Chain [1] done processing\n",
      "22:11:47 - cmdstanpy - INFO - Chain [1] start processing\n",
      "22:11:47 - cmdstanpy - INFO - Chain [1] start processing\n",
      "22:11:47 - cmdstanpy - INFO - Chain [1] done processing\n",
      "22:11:48 - cmdstanpy - INFO - Chain [1] start processing\n",
      "22:11:48 - cmdstanpy - INFO - Chain [1] done processing\n",
      "22:11:48 - cmdstanpy - INFO - Chain [1] start processing\n",
      "22:11:49 - cmdstanpy - INFO - Chain [1] done processing\n",
      "22:11:49 - cmdstanpy - INFO - Chain [1] done processing\n"
     ]
    },
    {
     "name": "stdout",
     "output_type": "stream",
     "text": [
      "{'changepoint_prior_scale': 0.101, 'holidays_prior_scale': 0.01, 'seasonality_mode': 'multiplicative', 'seasonality_prior_scale': 2.51}\n"
     ]
    },
    {
     "name": "stderr",
     "output_type": "stream",
     "text": [
      "22:11:50 - cmdstanpy - INFO - Chain [1] start processing\n",
      "22:11:51 - cmdstanpy - INFO - Chain [1] done processing\n",
      "22:11:52 - cmdstanpy - INFO - Chain [1] start processing\n",
      "22:11:52 - cmdstanpy - INFO - Chain [1] done processing\n",
      "22:11:53 - cmdstanpy - INFO - Chain [1] start processing\n",
      "22:11:53 - cmdstanpy - INFO - Chain [1] start processing\n",
      "22:11:53 - cmdstanpy - INFO - Chain [1] start processing\n",
      "22:11:53 - cmdstanpy - INFO - Chain [1] done processing\n",
      "22:11:53 - cmdstanpy - INFO - Chain [1] done processing\n",
      "22:11:53 - cmdstanpy - INFO - Chain [1] start processing\n",
      "22:11:54 - cmdstanpy - INFO - Chain [1] done processing\n",
      "22:11:54 - cmdstanpy - INFO - Chain [1] done processing\n"
     ]
    },
    {
     "name": "stdout",
     "output_type": "stream",
     "text": [
      "{'changepoint_prior_scale': 0.101, 'holidays_prior_scale': 0.01, 'seasonality_mode': 'multiplicative', 'seasonality_prior_scale': 5.01}\n"
     ]
    },
    {
     "name": "stderr",
     "output_type": "stream",
     "text": [
      "22:11:56 - cmdstanpy - INFO - Chain [1] start processing\n",
      "22:11:56 - cmdstanpy - INFO - Chain [1] done processing\n",
      "22:11:58 - cmdstanpy - INFO - Chain [1] start processing\n",
      "22:11:58 - cmdstanpy - INFO - Chain [1] start processing\n",
      "22:11:58 - cmdstanpy - INFO - Chain [1] done processing\n",
      "22:11:58 - cmdstanpy - INFO - Chain [1] start processing\n",
      "22:11:59 - cmdstanpy - INFO - Chain [1] done processing\n",
      "22:11:59 - cmdstanpy - INFO - Chain [1] start processing\n",
      "22:11:59 - cmdstanpy - INFO - Chain [1] start processing\n",
      "22:11:59 - cmdstanpy - INFO - Chain [1] done processing\n",
      "22:11:59 - cmdstanpy - INFO - Chain [1] done processing\n",
      "22:12:00 - cmdstanpy - INFO - Chain [1] done processing\n"
     ]
    },
    {
     "name": "stdout",
     "output_type": "stream",
     "text": [
      "{'changepoint_prior_scale': 0.101, 'holidays_prior_scale': 0.01, 'seasonality_mode': 'multiplicative', 'seasonality_prior_scale': 7.51}\n"
     ]
    },
    {
     "name": "stderr",
     "output_type": "stream",
     "text": [
      "22:12:01 - cmdstanpy - INFO - Chain [1] start processing\n",
      "22:12:02 - cmdstanpy - INFO - Chain [1] done processing\n",
      "22:12:03 - cmdstanpy - INFO - Chain [1] start processing\n",
      "22:12:04 - cmdstanpy - INFO - Chain [1] start processing\n",
      "22:12:04 - cmdstanpy - INFO - Chain [1] done processing\n",
      "22:12:04 - cmdstanpy - INFO - Chain [1] start processing\n",
      "22:12:04 - cmdstanpy - INFO - Chain [1] done processing\n",
      "22:12:04 - cmdstanpy - INFO - Chain [1] start processing\n",
      "22:12:05 - cmdstanpy - INFO - Chain [1] done processing\n",
      "22:12:05 - cmdstanpy - INFO - Chain [1] start processing\n",
      "22:12:06 - cmdstanpy - INFO - Chain [1] done processing\n",
      "22:12:06 - cmdstanpy - INFO - Chain [1] done processing\n"
     ]
    },
    {
     "name": "stdout",
     "output_type": "stream",
     "text": [
      "{'changepoint_prior_scale': 0.101, 'holidays_prior_scale': 0.01, 'seasonality_mode': 'additive', 'seasonality_prior_scale': 0.01}\n"
     ]
    },
    {
     "name": "stderr",
     "output_type": "stream",
     "text": [
      "22:12:07 - cmdstanpy - INFO - Chain [1] start processing\n",
      "22:12:07 - cmdstanpy - INFO - Chain [1] done processing\n",
      "22:12:07 - cmdstanpy - ERROR - Chain [1] error: error during processing Operation not permitted\n",
      "Optimization terminated abnormally. Falling back to Newton.\n",
      "22:12:08 - cmdstanpy - INFO - Chain [1] start processing\n",
      "22:13:11 - cmdstanpy - INFO - Chain [1] done processing\n",
      "22:13:13 - cmdstanpy - INFO - Chain [1] start processing\n",
      "22:13:13 - cmdstanpy - INFO - Chain [1] done processing\n",
      "22:13:13 - cmdstanpy - INFO - Chain [1] start processing\n",
      "22:13:13 - cmdstanpy - INFO - Chain [1] done processing\n",
      "22:13:13 - cmdstanpy - INFO - Chain [1] start processing\n",
      "22:13:14 - cmdstanpy - INFO - Chain [1] done processing\n",
      "22:13:14 - cmdstanpy - ERROR - Chain [1] error: error during processing Operation not permitted\n",
      "Optimization terminated abnormally. Falling back to Newton.\n",
      "22:13:14 - cmdstanpy - INFO - Chain [1] start processing\n",
      "22:13:14 - cmdstanpy - INFO - Chain [1] start processing\n",
      "22:13:14 - cmdstanpy - INFO - Chain [1] done processing\n",
      "22:13:14 - cmdstanpy - ERROR - Chain [1] error: error during processing Operation not permitted\n",
      "Optimization terminated abnormally. Falling back to Newton.\n",
      "22:13:14 - cmdstanpy - INFO - Chain [1] start processing\n",
      "22:13:14 - cmdstanpy - INFO - Chain [1] done processing\n",
      "22:13:14 - cmdstanpy - ERROR - Chain [1] error: error during processing Operation not permitted\n",
      "Optimization terminated abnormally. Falling back to Newton.\n",
      "22:13:15 - cmdstanpy - INFO - Chain [1] start processing\n",
      "22:13:15 - cmdstanpy - INFO - Chain [1] start processing\n",
      "22:14:25 - cmdstanpy - INFO - Chain [1] done processing\n",
      "22:14:33 - cmdstanpy - INFO - Chain [1] done processing\n",
      "22:14:41 - cmdstanpy - INFO - Chain [1] done processing\n"
     ]
    },
    {
     "name": "stdout",
     "output_type": "stream",
     "text": [
      "{'changepoint_prior_scale': 0.101, 'holidays_prior_scale': 0.01, 'seasonality_mode': 'additive', 'seasonality_prior_scale': 2.51}\n"
     ]
    },
    {
     "name": "stderr",
     "output_type": "stream",
     "text": [
      "22:14:42 - cmdstanpy - INFO - Chain [1] start processing\n",
      "22:14:42 - cmdstanpy - INFO - Chain [1] done processing\n",
      "22:14:42 - cmdstanpy - ERROR - Chain [1] error: error during processing Operation not permitted\n",
      "Optimization terminated abnormally. Falling back to Newton.\n",
      "22:14:43 - cmdstanpy - INFO - Chain [1] start processing\n",
      "22:15:52 - cmdstanpy - INFO - Chain [1] done processing\n",
      "22:15:53 - cmdstanpy - INFO - Chain [1] start processing\n",
      "22:15:53 - cmdstanpy - INFO - Chain [1] done processing\n",
      "22:15:53 - cmdstanpy - INFO - Chain [1] start processing\n",
      "22:15:53 - cmdstanpy - INFO - Chain [1] start processing\n",
      "22:15:54 - cmdstanpy - INFO - Chain [1] done processing\n",
      "22:15:54 - cmdstanpy - INFO - Chain [1] done processing\n",
      "22:15:54 - cmdstanpy - ERROR - Chain [1] error: error during processing Operation not permitted\n",
      "Optimization terminated abnormally. Falling back to Newton.\n",
      "22:15:54 - cmdstanpy - INFO - Chain [1] start processing\n",
      "22:15:54 - cmdstanpy - INFO - Chain [1] start processing\n",
      "22:15:54 - cmdstanpy - INFO - Chain [1] done processing\n",
      "22:15:54 - cmdstanpy - ERROR - Chain [1] error: error during processing Operation not permitted\n",
      "Optimization terminated abnormally. Falling back to Newton.\n",
      "22:15:55 - cmdstanpy - INFO - Chain [1] start processing\n",
      "22:15:55 - cmdstanpy - INFO - Chain [1] done processing\n",
      "22:15:55 - cmdstanpy - ERROR - Chain [1] error: error during processing Operation not permitted\n",
      "Optimization terminated abnormally. Falling back to Newton.\n",
      "22:15:55 - cmdstanpy - INFO - Chain [1] start processing\n",
      "22:15:56 - cmdstanpy - INFO - Chain [1] start processing\n",
      "22:17:07 - cmdstanpy - INFO - Chain [1] done processing\n",
      "22:17:29 - cmdstanpy - INFO - Chain [1] done processing\n",
      "22:17:39 - cmdstanpy - INFO - Chain [1] done processing\n"
     ]
    },
    {
     "name": "stdout",
     "output_type": "stream",
     "text": [
      "{'changepoint_prior_scale': 0.101, 'holidays_prior_scale': 0.01, 'seasonality_mode': 'additive', 'seasonality_prior_scale': 5.01}\n"
     ]
    },
    {
     "name": "stderr",
     "output_type": "stream",
     "text": [
      "22:17:40 - cmdstanpy - INFO - Chain [1] start processing\n",
      "22:17:40 - cmdstanpy - INFO - Chain [1] done processing\n",
      "22:17:40 - cmdstanpy - ERROR - Chain [1] error: error during processing Operation not permitted\n",
      "Optimization terminated abnormally. Falling back to Newton.\n",
      "22:17:41 - cmdstanpy - INFO - Chain [1] start processing\n",
      "22:18:54 - cmdstanpy - INFO - Chain [1] done processing\n",
      "22:18:56 - cmdstanpy - INFO - Chain [1] start processing\n",
      "22:18:56 - cmdstanpy - INFO - Chain [1] done processing\n",
      "22:18:57 - cmdstanpy - INFO - Chain [1] start processing\n",
      "22:18:57 - cmdstanpy - INFO - Chain [1] done processing\n",
      "22:18:57 - cmdstanpy - INFO - Chain [1] start processing\n",
      "22:18:57 - cmdstanpy - INFO - Chain [1] done processing\n",
      "22:18:57 - cmdstanpy - ERROR - Chain [1] error: error during processing Operation not permitted\n",
      "Optimization terminated abnormally. Falling back to Newton.\n",
      "22:18:57 - cmdstanpy - INFO - Chain [1] start processing\n",
      "22:18:57 - cmdstanpy - INFO - Chain [1] start processing\n",
      "22:18:57 - cmdstanpy - INFO - Chain [1] done processing\n",
      "22:18:57 - cmdstanpy - ERROR - Chain [1] error: error during processing Operation not permitted\n",
      "Optimization terminated abnormally. Falling back to Newton.\n",
      "22:18:58 - cmdstanpy - INFO - Chain [1] start processing\n",
      "22:18:58 - cmdstanpy - INFO - Chain [1] done processing\n",
      "22:18:58 - cmdstanpy - ERROR - Chain [1] error: error during processing Operation not permitted\n",
      "Optimization terminated abnormally. Falling back to Newton.\n",
      "22:18:58 - cmdstanpy - INFO - Chain [1] start processing\n",
      "22:18:58 - cmdstanpy - INFO - Chain [1] start processing\n",
      "22:20:12 - cmdstanpy - INFO - Chain [1] done processing\n",
      "22:20:14 - cmdstanpy - INFO - Chain [1] done processing\n",
      "22:20:47 - cmdstanpy - INFO - Chain [1] done processing\n"
     ]
    },
    {
     "name": "stdout",
     "output_type": "stream",
     "text": [
      "{'changepoint_prior_scale': 0.101, 'holidays_prior_scale': 0.01, 'seasonality_mode': 'additive', 'seasonality_prior_scale': 7.51}\n"
     ]
    },
    {
     "name": "stderr",
     "output_type": "stream",
     "text": [
      "22:20:48 - cmdstanpy - INFO - Chain [1] start processing\n",
      "22:20:48 - cmdstanpy - INFO - Chain [1] done processing\n",
      "22:20:48 - cmdstanpy - ERROR - Chain [1] error: error during processing Operation not permitted\n",
      "Optimization terminated abnormally. Falling back to Newton.\n",
      "22:20:49 - cmdstanpy - INFO - Chain [1] start processing\n",
      "22:22:02 - cmdstanpy - INFO - Chain [1] done processing\n",
      "22:22:03 - cmdstanpy - INFO - Chain [1] start processing\n",
      "22:22:03 - cmdstanpy - INFO - Chain [1] done processing\n",
      "22:22:04 - cmdstanpy - INFO - Chain [1] start processing\n",
      "22:22:04 - cmdstanpy - INFO - Chain [1] done processing\n",
      "22:22:04 - cmdstanpy - INFO - Chain [1] start processing\n",
      "22:22:04 - cmdstanpy - INFO - Chain [1] start processing\n",
      "22:22:04 - cmdstanpy - INFO - Chain [1] done processing\n",
      "22:22:04 - cmdstanpy - ERROR - Chain [1] error: error during processing Operation not permitted\n",
      "Optimization terminated abnormally. Falling back to Newton.\n",
      "22:22:04 - cmdstanpy - INFO - Chain [1] start processing\n",
      "22:22:04 - cmdstanpy - INFO - Chain [1] done processing\n",
      "22:22:04 - cmdstanpy - ERROR - Chain [1] error: error during processing Operation not permitted\n",
      "Optimization terminated abnormally. Falling back to Newton.\n",
      "22:22:05 - cmdstanpy - INFO - Chain [1] done processing\n",
      "22:22:05 - cmdstanpy - ERROR - Chain [1] error: error during processing Operation not permitted\n",
      "Optimization terminated abnormally. Falling back to Newton.\n",
      "22:22:05 - cmdstanpy - INFO - Chain [1] start processing\n",
      "22:22:05 - cmdstanpy - INFO - Chain [1] start processing\n",
      "22:22:05 - cmdstanpy - INFO - Chain [1] start processing\n",
      "22:23:16 - cmdstanpy - INFO - Chain [1] done processing\n",
      "22:23:27 - cmdstanpy - INFO - Chain [1] done processing\n",
      "22:23:41 - cmdstanpy - INFO - Chain [1] done processing\n"
     ]
    },
    {
     "name": "stdout",
     "output_type": "stream",
     "text": [
      "{'changepoint_prior_scale': 0.101, 'holidays_prior_scale': 2.51, 'seasonality_mode': 'multiplicative', 'seasonality_prior_scale': 0.01}\n"
     ]
    },
    {
     "name": "stderr",
     "output_type": "stream",
     "text": [
      "22:23:42 - cmdstanpy - INFO - Chain [1] start processing\n",
      "22:23:43 - cmdstanpy - INFO - Chain [1] done processing\n",
      "22:23:44 - cmdstanpy - INFO - Chain [1] start processing\n",
      "22:23:45 - cmdstanpy - INFO - Chain [1] done processing\n",
      "22:23:45 - cmdstanpy - INFO - Chain [1] start processing\n",
      "22:23:45 - cmdstanpy - INFO - Chain [1] done processing\n",
      "22:23:45 - cmdstanpy - INFO - Chain [1] start processing\n",
      "22:23:45 - cmdstanpy - INFO - Chain [1] start processing\n",
      "22:23:46 - cmdstanpy - INFO - Chain [1] done processing\n",
      "22:23:46 - cmdstanpy - INFO - Chain [1] start processing\n",
      "22:23:46 - cmdstanpy - INFO - Chain [1] done processing\n",
      "22:23:47 - cmdstanpy - INFO - Chain [1] done processing\n"
     ]
    },
    {
     "name": "stdout",
     "output_type": "stream",
     "text": [
      "{'changepoint_prior_scale': 0.101, 'holidays_prior_scale': 2.51, 'seasonality_mode': 'multiplicative', 'seasonality_prior_scale': 2.51}\n"
     ]
    },
    {
     "name": "stderr",
     "output_type": "stream",
     "text": [
      "22:23:48 - cmdstanpy - INFO - Chain [1] start processing\n",
      "22:23:49 - cmdstanpy - INFO - Chain [1] done processing\n",
      "22:23:50 - cmdstanpy - INFO - Chain [1] start processing\n",
      "22:23:51 - cmdstanpy - INFO - Chain [1] start processing\n",
      "22:23:51 - cmdstanpy - INFO - Chain [1] start processing\n",
      "22:23:51 - cmdstanpy - INFO - Chain [1] done processing\n",
      "22:23:51 - cmdstanpy - INFO - Chain [1] start processing\n",
      "22:23:51 - cmdstanpy - INFO - Chain [1] done processing\n",
      "22:23:51 - cmdstanpy - INFO - Chain [1] done processing\n",
      "22:23:52 - cmdstanpy - INFO - Chain [1] start processing\n",
      "22:23:52 - cmdstanpy - INFO - Chain [1] done processing\n",
      "22:23:53 - cmdstanpy - INFO - Chain [1] done processing\n"
     ]
    },
    {
     "name": "stdout",
     "output_type": "stream",
     "text": [
      "{'changepoint_prior_scale': 0.101, 'holidays_prior_scale': 2.51, 'seasonality_mode': 'multiplicative', 'seasonality_prior_scale': 5.01}\n"
     ]
    },
    {
     "name": "stderr",
     "output_type": "stream",
     "text": [
      "22:23:54 - cmdstanpy - INFO - Chain [1] start processing\n",
      "22:23:55 - cmdstanpy - INFO - Chain [1] done processing\n",
      "22:23:56 - cmdstanpy - INFO - Chain [1] start processing\n",
      "22:23:56 - cmdstanpy - INFO - Chain [1] start processing\n",
      "22:23:57 - cmdstanpy - INFO - Chain [1] start processing\n",
      "22:23:57 - cmdstanpy - INFO - Chain [1] done processing\n",
      "22:23:57 - cmdstanpy - INFO - Chain [1] start processing\n",
      "22:23:57 - cmdstanpy - INFO - Chain [1] done processing\n",
      "22:23:57 - cmdstanpy - INFO - Chain [1] done processing\n",
      "22:23:57 - cmdstanpy - INFO - Chain [1] start processing\n",
      "22:23:58 - cmdstanpy - INFO - Chain [1] done processing\n",
      "22:24:00 - cmdstanpy - INFO - Chain [1] done processing\n"
     ]
    },
    {
     "name": "stdout",
     "output_type": "stream",
     "text": [
      "{'changepoint_prior_scale': 0.101, 'holidays_prior_scale': 2.51, 'seasonality_mode': 'multiplicative', 'seasonality_prior_scale': 7.51}\n"
     ]
    },
    {
     "name": "stderr",
     "output_type": "stream",
     "text": [
      "22:24:02 - cmdstanpy - INFO - Chain [1] start processing\n",
      "22:24:02 - cmdstanpy - INFO - Chain [1] done processing\n",
      "22:24:04 - cmdstanpy - INFO - Chain [1] start processing\n",
      "22:24:04 - cmdstanpy - INFO - Chain [1] done processing\n",
      "22:24:04 - cmdstanpy - INFO - Chain [1] start processing\n",
      "22:24:04 - cmdstanpy - INFO - Chain [1] done processing\n",
      "22:24:05 - cmdstanpy - INFO - Chain [1] start processing\n",
      "22:24:05 - cmdstanpy - INFO - Chain [1] start processing\n",
      "22:24:05 - cmdstanpy - INFO - Chain [1] done processing\n",
      "22:24:05 - cmdstanpy - INFO - Chain [1] start processing\n",
      "22:24:06 - cmdstanpy - INFO - Chain [1] done processing\n",
      "22:24:06 - cmdstanpy - INFO - Chain [1] done processing\n"
     ]
    },
    {
     "name": "stdout",
     "output_type": "stream",
     "text": [
      "{'changepoint_prior_scale': 0.101, 'holidays_prior_scale': 2.51, 'seasonality_mode': 'additive', 'seasonality_prior_scale': 0.01}\n"
     ]
    },
    {
     "name": "stderr",
     "output_type": "stream",
     "text": [
      "22:24:07 - cmdstanpy - INFO - Chain [1] start processing\n",
      "22:24:08 - cmdstanpy - INFO - Chain [1] done processing\n",
      "22:24:08 - cmdstanpy - ERROR - Chain [1] error: error during processing Operation not permitted\n",
      "Optimization terminated abnormally. Falling back to Newton.\n",
      "22:24:08 - cmdstanpy - INFO - Chain [1] start processing\n",
      "22:25:02 - cmdstanpy - INFO - Chain [1] done processing\n",
      "22:25:04 - cmdstanpy - INFO - Chain [1] start processing\n",
      "22:25:04 - cmdstanpy - INFO - Chain [1] done processing\n",
      "22:25:04 - cmdstanpy - INFO - Chain [1] start processing\n",
      "22:25:04 - cmdstanpy - INFO - Chain [1] done processing\n",
      "22:25:04 - cmdstanpy - INFO - Chain [1] start processing\n",
      "22:25:05 - cmdstanpy - INFO - Chain [1] done processing\n",
      "22:25:05 - cmdstanpy - ERROR - Chain [1] error: error during processing Operation not permitted\n",
      "Optimization terminated abnormally. Falling back to Newton.\n",
      "22:25:05 - cmdstanpy - INFO - Chain [1] start processing\n",
      "22:25:05 - cmdstanpy - INFO - Chain [1] start processing\n",
      "22:25:05 - cmdstanpy - INFO - Chain [1] done processing\n",
      "22:25:05 - cmdstanpy - ERROR - Chain [1] error: error during processing Operation not permitted\n",
      "Optimization terminated abnormally. Falling back to Newton.\n",
      "22:25:05 - cmdstanpy - INFO - Chain [1] start processing\n",
      "22:25:05 - cmdstanpy - INFO - Chain [1] done processing\n",
      "22:25:05 - cmdstanpy - ERROR - Chain [1] error: error during processing Operation not permitted\n",
      "Optimization terminated abnormally. Falling back to Newton.\n",
      "22:25:06 - cmdstanpy - INFO - Chain [1] start processing\n",
      "22:25:06 - cmdstanpy - INFO - Chain [1] start processing\n",
      "22:26:19 - cmdstanpy - INFO - Chain [1] done processing\n",
      "22:26:24 - cmdstanpy - INFO - Chain [1] done processing\n",
      "22:26:37 - cmdstanpy - INFO - Chain [1] done processing\n"
     ]
    },
    {
     "name": "stdout",
     "output_type": "stream",
     "text": [
      "{'changepoint_prior_scale': 0.101, 'holidays_prior_scale': 2.51, 'seasonality_mode': 'additive', 'seasonality_prior_scale': 2.51}\n"
     ]
    },
    {
     "name": "stderr",
     "output_type": "stream",
     "text": [
      "22:26:38 - cmdstanpy - INFO - Chain [1] start processing\n",
      "22:26:39 - cmdstanpy - INFO - Chain [1] done processing\n",
      "22:26:39 - cmdstanpy - ERROR - Chain [1] error: error during processing Operation not permitted\n",
      "Optimization terminated abnormally. Falling back to Newton.\n",
      "22:26:39 - cmdstanpy - INFO - Chain [1] start processing\n",
      "22:27:55 - cmdstanpy - INFO - Chain [1] done processing\n",
      "22:27:56 - cmdstanpy - INFO - Chain [1] start processing\n",
      "22:27:56 - cmdstanpy - INFO - Chain [1] done processing\n",
      "22:27:57 - cmdstanpy - INFO - Chain [1] start processing\n",
      "22:27:57 - cmdstanpy - INFO - Chain [1] done processing\n",
      "22:27:57 - cmdstanpy - INFO - Chain [1] start processing\n",
      "22:27:57 - cmdstanpy - INFO - Chain [1] start processing\n",
      "22:27:57 - cmdstanpy - INFO - Chain [1] done processing\n",
      "22:27:57 - cmdstanpy - ERROR - Chain [1] error: error during processing Operation not permitted\n",
      "Optimization terminated abnormally. Falling back to Newton.\n",
      "22:27:58 - cmdstanpy - INFO - Chain [1] start processing\n",
      "22:27:58 - cmdstanpy - INFO - Chain [1] done processing\n",
      "22:27:58 - cmdstanpy - ERROR - Chain [1] error: error during processing Operation not permitted\n",
      "Optimization terminated abnormally. Falling back to Newton.\n",
      "22:27:58 - cmdstanpy - INFO - Chain [1] done processing\n",
      "22:27:58 - cmdstanpy - ERROR - Chain [1] error: error during processing Operation not permitted\n",
      "Optimization terminated abnormally. Falling back to Newton.\n",
      "22:27:58 - cmdstanpy - INFO - Chain [1] start processing\n",
      "22:27:58 - cmdstanpy - INFO - Chain [1] start processing\n",
      "22:27:59 - cmdstanpy - INFO - Chain [1] start processing\n",
      "22:29:19 - cmdstanpy - INFO - Chain [1] done processing\n",
      "22:29:28 - cmdstanpy - INFO - Chain [1] done processing\n",
      "22:29:31 - cmdstanpy - INFO - Chain [1] done processing\n"
     ]
    },
    {
     "name": "stdout",
     "output_type": "stream",
     "text": [
      "{'changepoint_prior_scale': 0.101, 'holidays_prior_scale': 2.51, 'seasonality_mode': 'additive', 'seasonality_prior_scale': 5.01}\n"
     ]
    },
    {
     "name": "stderr",
     "output_type": "stream",
     "text": [
      "22:29:32 - cmdstanpy - INFO - Chain [1] start processing\n",
      "22:29:33 - cmdstanpy - INFO - Chain [1] done processing\n",
      "22:29:33 - cmdstanpy - ERROR - Chain [1] error: error during processing Operation not permitted\n",
      "Optimization terminated abnormally. Falling back to Newton.\n",
      "22:29:34 - cmdstanpy - INFO - Chain [1] start processing\n",
      "22:30:35 - cmdstanpy - INFO - Chain [1] done processing\n",
      "22:30:36 - cmdstanpy - INFO - Chain [1] start processing\n",
      "22:30:36 - cmdstanpy - INFO - Chain [1] done processing\n",
      "22:30:37 - cmdstanpy - INFO - Chain [1] start processing\n",
      "22:30:37 - cmdstanpy - INFO - Chain [1] done processing\n",
      "22:30:37 - cmdstanpy - INFO - Chain [1] start processing\n",
      "22:30:37 - cmdstanpy - INFO - Chain [1] start processing\n",
      "22:30:37 - cmdstanpy - INFO - Chain [1] done processing\n",
      "22:30:37 - cmdstanpy - ERROR - Chain [1] error: error during processing Operation not permitted\n",
      "Optimization terminated abnormally. Falling back to Newton.\n",
      "22:30:37 - cmdstanpy - INFO - Chain [1] start processing\n",
      "22:30:37 - cmdstanpy - INFO - Chain [1] done processing\n",
      "22:30:37 - cmdstanpy - ERROR - Chain [1] error: error during processing Operation not permitted\n",
      "Optimization terminated abnormally. Falling back to Newton.\n",
      "22:30:38 - cmdstanpy - INFO - Chain [1] done processing\n",
      "22:30:38 - cmdstanpy - ERROR - Chain [1] error: error during processing Operation not permitted\n",
      "Optimization terminated abnormally. Falling back to Newton.\n",
      "22:30:38 - cmdstanpy - INFO - Chain [1] start processing\n",
      "22:30:38 - cmdstanpy - INFO - Chain [1] start processing\n",
      "22:30:38 - cmdstanpy - INFO - Chain [1] start processing\n",
      "22:31:52 - cmdstanpy - INFO - Chain [1] done processing\n",
      "22:31:56 - cmdstanpy - INFO - Chain [1] done processing\n",
      "22:32:15 - cmdstanpy - INFO - Chain [1] done processing\n"
     ]
    },
    {
     "name": "stdout",
     "output_type": "stream",
     "text": [
      "{'changepoint_prior_scale': 0.101, 'holidays_prior_scale': 2.51, 'seasonality_mode': 'additive', 'seasonality_prior_scale': 7.51}\n"
     ]
    },
    {
     "name": "stderr",
     "output_type": "stream",
     "text": [
      "22:32:17 - cmdstanpy - INFO - Chain [1] start processing\n",
      "22:32:17 - cmdstanpy - INFO - Chain [1] done processing\n",
      "22:32:17 - cmdstanpy - ERROR - Chain [1] error: error during processing Operation not permitted\n",
      "Optimization terminated abnormally. Falling back to Newton.\n",
      "22:32:18 - cmdstanpy - INFO - Chain [1] start processing\n",
      "22:33:34 - cmdstanpy - INFO - Chain [1] done processing\n",
      "22:33:35 - cmdstanpy - INFO - Chain [1] start processing\n",
      "22:33:36 - cmdstanpy - INFO - Chain [1] done processing\n",
      "22:33:36 - cmdstanpy - INFO - Chain [1] start processing\n",
      "22:33:36 - cmdstanpy - INFO - Chain [1] done processing\n",
      "22:33:36 - cmdstanpy - INFO - Chain [1] start processing\n",
      "22:33:36 - cmdstanpy - INFO - Chain [1] done processing\n",
      "22:33:36 - cmdstanpy - ERROR - Chain [1] error: error during processing Operation not permitted\n",
      "Optimization terminated abnormally. Falling back to Newton.\n",
      "22:33:36 - cmdstanpy - INFO - Chain [1] start processing\n",
      "22:33:37 - cmdstanpy - INFO - Chain [1] start processing\n",
      "22:33:37 - cmdstanpy - INFO - Chain [1] done processing\n",
      "22:33:37 - cmdstanpy - ERROR - Chain [1] error: error during processing Operation not permitted\n",
      "Optimization terminated abnormally. Falling back to Newton.\n",
      "22:33:37 - cmdstanpy - INFO - Chain [1] done processing\n",
      "22:33:37 - cmdstanpy - ERROR - Chain [1] error: error during processing Operation not permitted\n",
      "Optimization terminated abnormally. Falling back to Newton.\n",
      "22:33:37 - cmdstanpy - INFO - Chain [1] start processing\n",
      "22:33:37 - cmdstanpy - INFO - Chain [1] start processing\n",
      "22:33:38 - cmdstanpy - INFO - Chain [1] start processing\n",
      "22:34:52 - cmdstanpy - INFO - Chain [1] done processing\n",
      "22:35:03 - cmdstanpy - INFO - Chain [1] done processing\n",
      "22:35:24 - cmdstanpy - INFO - Chain [1] done processing\n"
     ]
    },
    {
     "name": "stdout",
     "output_type": "stream",
     "text": [
      "{'changepoint_prior_scale': 0.101, 'holidays_prior_scale': 5.01, 'seasonality_mode': 'multiplicative', 'seasonality_prior_scale': 0.01}\n"
     ]
    },
    {
     "name": "stderr",
     "output_type": "stream",
     "text": [
      "22:35:25 - cmdstanpy - INFO - Chain [1] start processing\n",
      "22:35:26 - cmdstanpy - INFO - Chain [1] done processing\n",
      "22:35:27 - cmdstanpy - INFO - Chain [1] start processing\n",
      "22:35:27 - cmdstanpy - INFO - Chain [1] done processing\n",
      "22:35:28 - cmdstanpy - INFO - Chain [1] start processing\n",
      "22:35:28 - cmdstanpy - INFO - Chain [1] start processing\n",
      "22:35:28 - cmdstanpy - INFO - Chain [1] done processing\n",
      "22:35:28 - cmdstanpy - INFO - Chain [1] start processing\n",
      "22:35:28 - cmdstanpy - INFO - Chain [1] done processing\n",
      "22:35:29 - cmdstanpy - INFO - Chain [1] start processing\n",
      "22:35:29 - cmdstanpy - INFO - Chain [1] done processing\n",
      "22:35:29 - cmdstanpy - INFO - Chain [1] done processing\n"
     ]
    },
    {
     "name": "stdout",
     "output_type": "stream",
     "text": [
      "{'changepoint_prior_scale': 0.101, 'holidays_prior_scale': 5.01, 'seasonality_mode': 'multiplicative', 'seasonality_prior_scale': 2.51}\n"
     ]
    },
    {
     "name": "stderr",
     "output_type": "stream",
     "text": [
      "22:35:31 - cmdstanpy - INFO - Chain [1] start processing\n",
      "22:35:31 - cmdstanpy - INFO - Chain [1] done processing\n",
      "22:35:33 - cmdstanpy - INFO - Chain [1] start processing\n",
      "22:35:33 - cmdstanpy - INFO - Chain [1] start processing\n",
      "22:35:33 - cmdstanpy - INFO - Chain [1] done processing\n",
      "22:35:33 - cmdstanpy - INFO - Chain [1] start processing\n",
      "22:35:33 - cmdstanpy - INFO - Chain [1] done processing\n",
      "22:35:34 - cmdstanpy - INFO - Chain [1] done processing\n",
      "22:35:34 - cmdstanpy - INFO - Chain [1] start processing\n",
      "22:35:34 - cmdstanpy - INFO - Chain [1] start processing\n",
      "22:35:35 - cmdstanpy - INFO - Chain [1] done processing\n",
      "22:35:35 - cmdstanpy - INFO - Chain [1] done processing\n"
     ]
    },
    {
     "name": "stdout",
     "output_type": "stream",
     "text": [
      "{'changepoint_prior_scale': 0.101, 'holidays_prior_scale': 5.01, 'seasonality_mode': 'multiplicative', 'seasonality_prior_scale': 5.01}\n"
     ]
    },
    {
     "name": "stderr",
     "output_type": "stream",
     "text": [
      "22:35:37 - cmdstanpy - INFO - Chain [1] start processing\n",
      "22:35:37 - cmdstanpy - INFO - Chain [1] done processing\n",
      "22:35:39 - cmdstanpy - INFO - Chain [1] start processing\n",
      "22:35:39 - cmdstanpy - INFO - Chain [1] start processing\n",
      "22:35:39 - cmdstanpy - INFO - Chain [1] done processing\n",
      "22:35:39 - cmdstanpy - INFO - Chain [1] start processing\n",
      "22:35:39 - cmdstanpy - INFO - Chain [1] done processing\n",
      "22:35:40 - cmdstanpy - INFO - Chain [1] done processing\n",
      "22:35:40 - cmdstanpy - INFO - Chain [1] start processing\n",
      "22:35:40 - cmdstanpy - INFO - Chain [1] start processing\n",
      "22:35:40 - cmdstanpy - INFO - Chain [1] done processing\n",
      "22:35:41 - cmdstanpy - INFO - Chain [1] done processing\n"
     ]
    },
    {
     "name": "stdout",
     "output_type": "stream",
     "text": [
      "{'changepoint_prior_scale': 0.101, 'holidays_prior_scale': 5.01, 'seasonality_mode': 'multiplicative', 'seasonality_prior_scale': 7.51}\n"
     ]
    },
    {
     "name": "stderr",
     "output_type": "stream",
     "text": [
      "22:35:42 - cmdstanpy - INFO - Chain [1] start processing\n",
      "22:35:43 - cmdstanpy - INFO - Chain [1] done processing\n",
      "22:35:44 - cmdstanpy - INFO - Chain [1] start processing\n",
      "22:35:45 - cmdstanpy - INFO - Chain [1] start processing\n",
      "22:35:45 - cmdstanpy - INFO - Chain [1] done processing\n",
      "22:35:45 - cmdstanpy - INFO - Chain [1] start processing\n",
      "22:35:45 - cmdstanpy - INFO - Chain [1] done processing\n",
      "22:35:45 - cmdstanpy - INFO - Chain [1] done processing\n",
      "22:35:45 - cmdstanpy - INFO - Chain [1] start processing\n",
      "22:35:46 - cmdstanpy - INFO - Chain [1] start processing\n",
      "22:35:46 - cmdstanpy - INFO - Chain [1] done processing\n",
      "22:35:47 - cmdstanpy - INFO - Chain [1] done processing\n"
     ]
    },
    {
     "name": "stdout",
     "output_type": "stream",
     "text": [
      "{'changepoint_prior_scale': 0.101, 'holidays_prior_scale': 5.01, 'seasonality_mode': 'additive', 'seasonality_prior_scale': 0.01}\n"
     ]
    },
    {
     "name": "stderr",
     "output_type": "stream",
     "text": [
      "22:35:48 - cmdstanpy - INFO - Chain [1] start processing\n",
      "22:35:48 - cmdstanpy - INFO - Chain [1] done processing\n",
      "22:35:48 - cmdstanpy - ERROR - Chain [1] error: error during processing Operation not permitted\n",
      "Optimization terminated abnormally. Falling back to Newton.\n",
      "22:35:49 - cmdstanpy - INFO - Chain [1] start processing\n",
      "22:36:55 - cmdstanpy - INFO - Chain [1] done processing\n",
      "22:36:56 - cmdstanpy - INFO - Chain [1] start processing\n",
      "22:36:56 - cmdstanpy - INFO - Chain [1] done processing\n",
      "22:36:56 - cmdstanpy - INFO - Chain [1] start processing\n",
      "22:36:57 - cmdstanpy - INFO - Chain [1] done processing\n",
      "22:36:57 - cmdstanpy - INFO - Chain [1] start processing\n",
      "22:36:57 - cmdstanpy - INFO - Chain [1] start processing\n",
      "22:36:57 - cmdstanpy - INFO - Chain [1] done processing\n",
      "22:36:57 - cmdstanpy - ERROR - Chain [1] error: error during processing Operation not permitted\n",
      "Optimization terminated abnormally. Falling back to Newton.\n",
      "22:36:57 - cmdstanpy - INFO - Chain [1] start processing\n",
      "22:36:57 - cmdstanpy - INFO - Chain [1] done processing\n",
      "22:36:57 - cmdstanpy - ERROR - Chain [1] error: error during processing Operation not permitted\n",
      "Optimization terminated abnormally. Falling back to Newton.\n",
      "22:36:58 - cmdstanpy - INFO - Chain [1] done processing\n",
      "22:36:58 - cmdstanpy - ERROR - Chain [1] error: error during processing Operation not permitted\n",
      "Optimization terminated abnormally. Falling back to Newton.\n",
      "22:36:58 - cmdstanpy - INFO - Chain [1] start processing\n",
      "22:36:58 - cmdstanpy - INFO - Chain [1] start processing\n",
      "22:36:58 - cmdstanpy - INFO - Chain [1] start processing\n",
      "22:38:12 - cmdstanpy - INFO - Chain [1] done processing\n",
      "22:38:16 - cmdstanpy - INFO - Chain [1] done processing\n",
      "22:38:32 - cmdstanpy - INFO - Chain [1] done processing\n"
     ]
    },
    {
     "name": "stdout",
     "output_type": "stream",
     "text": [
      "{'changepoint_prior_scale': 0.101, 'holidays_prior_scale': 5.01, 'seasonality_mode': 'additive', 'seasonality_prior_scale': 2.51}\n"
     ]
    },
    {
     "name": "stderr",
     "output_type": "stream",
     "text": [
      "22:38:33 - cmdstanpy - INFO - Chain [1] start processing\n",
      "22:38:33 - cmdstanpy - INFO - Chain [1] done processing\n",
      "22:38:33 - cmdstanpy - ERROR - Chain [1] error: error during processing Operation not permitted\n",
      "Optimization terminated abnormally. Falling back to Newton.\n",
      "22:38:34 - cmdstanpy - INFO - Chain [1] start processing\n",
      "22:39:42 - cmdstanpy - INFO - Chain [1] done processing\n",
      "22:39:44 - cmdstanpy - INFO - Chain [1] start processing\n",
      "22:39:44 - cmdstanpy - INFO - Chain [1] done processing\n",
      "22:39:44 - cmdstanpy - INFO - Chain [1] start processing\n",
      "22:39:44 - cmdstanpy - INFO - Chain [1] done processing\n",
      "22:39:45 - cmdstanpy - INFO - Chain [1] start processing\n",
      "22:39:45 - cmdstanpy - INFO - Chain [1] start processing\n",
      "22:39:45 - cmdstanpy - INFO - Chain [1] done processing\n",
      "22:39:45 - cmdstanpy - ERROR - Chain [1] error: error during processing Operation not permitted\n",
      "Optimization terminated abnormally. Falling back to Newton.\n",
      "22:39:45 - cmdstanpy - INFO - Chain [1] start processing\n",
      "22:39:45 - cmdstanpy - INFO - Chain [1] done processing\n",
      "22:39:45 - cmdstanpy - ERROR - Chain [1] error: error during processing Operation not permitted\n",
      "Optimization terminated abnormally. Falling back to Newton.\n",
      "22:39:45 - cmdstanpy - INFO - Chain [1] done processing\n",
      "22:39:45 - cmdstanpy - ERROR - Chain [1] error: error during processing Operation not permitted\n",
      "Optimization terminated abnormally. Falling back to Newton.\n",
      "22:39:45 - cmdstanpy - INFO - Chain [1] start processing\n",
      "22:39:46 - cmdstanpy - INFO - Chain [1] start processing\n",
      "22:39:46 - cmdstanpy - INFO - Chain [1] start processing\n",
      "22:41:04 - cmdstanpy - INFO - Chain [1] done processing\n",
      "22:41:16 - cmdstanpy - INFO - Chain [1] done processing\n",
      "22:41:26 - cmdstanpy - INFO - Chain [1] done processing\n"
     ]
    },
    {
     "name": "stdout",
     "output_type": "stream",
     "text": [
      "{'changepoint_prior_scale': 0.101, 'holidays_prior_scale': 5.01, 'seasonality_mode': 'additive', 'seasonality_prior_scale': 5.01}\n"
     ]
    },
    {
     "name": "stderr",
     "output_type": "stream",
     "text": [
      "22:41:27 - cmdstanpy - INFO - Chain [1] start processing\n",
      "22:41:27 - cmdstanpy - INFO - Chain [1] done processing\n",
      "22:41:27 - cmdstanpy - ERROR - Chain [1] error: error during processing Operation not permitted\n",
      "Optimization terminated abnormally. Falling back to Newton.\n",
      "22:41:28 - cmdstanpy - INFO - Chain [1] start processing\n",
      "22:42:27 - cmdstanpy - INFO - Chain [1] done processing\n",
      "22:42:28 - cmdstanpy - INFO - Chain [1] start processing\n",
      "22:42:28 - cmdstanpy - INFO - Chain [1] done processing\n",
      "22:42:28 - cmdstanpy - INFO - Chain [1] start processing\n",
      "22:42:29 - cmdstanpy - INFO - Chain [1] start processing\n",
      "22:42:29 - cmdstanpy - INFO - Chain [1] done processing\n",
      "22:42:29 - cmdstanpy - INFO - Chain [1] done processing\n",
      "22:42:29 - cmdstanpy - ERROR - Chain [1] error: error during processing Operation not permitted\n",
      "Optimization terminated abnormally. Falling back to Newton.\n",
      "22:42:29 - cmdstanpy - INFO - Chain [1] start processing\n",
      "22:42:29 - cmdstanpy - INFO - Chain [1] start processing\n",
      "22:42:29 - cmdstanpy - INFO - Chain [1] done processing\n",
      "22:42:29 - cmdstanpy - ERROR - Chain [1] error: error during processing Operation not permitted\n",
      "Optimization terminated abnormally. Falling back to Newton.\n",
      "22:42:29 - cmdstanpy - INFO - Chain [1] start processing\n",
      "22:42:29 - cmdstanpy - INFO - Chain [1] done processing\n",
      "22:42:29 - cmdstanpy - ERROR - Chain [1] error: error during processing Operation not permitted\n",
      "Optimization terminated abnormally. Falling back to Newton.\n",
      "22:42:30 - cmdstanpy - INFO - Chain [1] start processing\n",
      "22:42:30 - cmdstanpy - INFO - Chain [1] start processing\n",
      "22:43:50 - cmdstanpy - INFO - Chain [1] done processing\n",
      "22:43:54 - cmdstanpy - INFO - Chain [1] done processing\n",
      "22:44:14 - cmdstanpy - INFO - Chain [1] done processing\n"
     ]
    },
    {
     "name": "stdout",
     "output_type": "stream",
     "text": [
      "{'changepoint_prior_scale': 0.101, 'holidays_prior_scale': 5.01, 'seasonality_mode': 'additive', 'seasonality_prior_scale': 7.51}\n"
     ]
    },
    {
     "name": "stderr",
     "output_type": "stream",
     "text": [
      "22:44:15 - cmdstanpy - INFO - Chain [1] start processing\n",
      "22:44:15 - cmdstanpy - INFO - Chain [1] done processing\n",
      "22:44:15 - cmdstanpy - ERROR - Chain [1] error: error during processing Operation not permitted\n",
      "Optimization terminated abnormally. Falling back to Newton.\n",
      "22:44:16 - cmdstanpy - INFO - Chain [1] start processing\n",
      "22:45:16 - cmdstanpy - INFO - Chain [1] done processing\n",
      "22:45:17 - cmdstanpy - INFO - Chain [1] start processing\n",
      "22:45:17 - cmdstanpy - INFO - Chain [1] done processing\n",
      "22:45:18 - cmdstanpy - INFO - Chain [1] start processing\n",
      "22:45:18 - cmdstanpy - INFO - Chain [1] done processing\n",
      "22:45:18 - cmdstanpy - INFO - Chain [1] start processing\n",
      "22:45:18 - cmdstanpy - INFO - Chain [1] start processing\n",
      "22:45:18 - cmdstanpy - INFO - Chain [1] done processing\n",
      "22:45:18 - cmdstanpy - ERROR - Chain [1] error: error during processing Operation not permitted\n",
      "Optimization terminated abnormally. Falling back to Newton.\n",
      "22:45:18 - cmdstanpy - INFO - Chain [1] start processing\n",
      "22:45:18 - cmdstanpy - INFO - Chain [1] done processing\n",
      "22:45:18 - cmdstanpy - ERROR - Chain [1] error: error during processing Operation not permitted\n",
      "Optimization terminated abnormally. Falling back to Newton.\n",
      "22:45:19 - cmdstanpy - INFO - Chain [1] done processing\n",
      "22:45:19 - cmdstanpy - ERROR - Chain [1] error: error during processing Operation not permitted\n",
      "Optimization terminated abnormally. Falling back to Newton.\n",
      "22:45:19 - cmdstanpy - INFO - Chain [1] start processing\n",
      "22:45:19 - cmdstanpy - INFO - Chain [1] start processing\n",
      "22:45:19 - cmdstanpy - INFO - Chain [1] start processing\n",
      "22:46:34 - cmdstanpy - INFO - Chain [1] done processing\n",
      "22:46:47 - cmdstanpy - INFO - Chain [1] done processing\n",
      "22:47:11 - cmdstanpy - INFO - Chain [1] done processing\n"
     ]
    },
    {
     "name": "stdout",
     "output_type": "stream",
     "text": [
      "{'changepoint_prior_scale': 0.101, 'holidays_prior_scale': 7.51, 'seasonality_mode': 'multiplicative', 'seasonality_prior_scale': 0.01}\n"
     ]
    },
    {
     "name": "stderr",
     "output_type": "stream",
     "text": [
      "22:47:12 - cmdstanpy - INFO - Chain [1] start processing\n",
      "22:47:13 - cmdstanpy - INFO - Chain [1] done processing\n",
      "22:47:14 - cmdstanpy - INFO - Chain [1] start processing\n",
      "22:47:14 - cmdstanpy - INFO - Chain [1] done processing\n",
      "22:47:15 - cmdstanpy - INFO - Chain [1] start processing\n",
      "22:47:15 - cmdstanpy - INFO - Chain [1] start processing\n",
      "22:47:15 - cmdstanpy - INFO - Chain [1] done processing\n",
      "22:47:15 - cmdstanpy - INFO - Chain [1] start processing\n",
      "22:47:15 - cmdstanpy - INFO - Chain [1] done processing\n",
      "22:47:16 - cmdstanpy - INFO - Chain [1] start processing\n",
      "22:47:16 - cmdstanpy - INFO - Chain [1] done processing\n",
      "22:47:17 - cmdstanpy - INFO - Chain [1] done processing\n"
     ]
    },
    {
     "name": "stdout",
     "output_type": "stream",
     "text": [
      "{'changepoint_prior_scale': 0.101, 'holidays_prior_scale': 7.51, 'seasonality_mode': 'multiplicative', 'seasonality_prior_scale': 2.51}\n"
     ]
    },
    {
     "name": "stderr",
     "output_type": "stream",
     "text": [
      "22:47:18 - cmdstanpy - INFO - Chain [1] start processing\n",
      "22:47:18 - cmdstanpy - INFO - Chain [1] done processing\n",
      "22:47:20 - cmdstanpy - INFO - Chain [1] start processing\n",
      "22:47:20 - cmdstanpy - INFO - Chain [1] start processing\n",
      "22:47:20 - cmdstanpy - INFO - Chain [1] done processing\n",
      "22:47:21 - cmdstanpy - INFO - Chain [1] done processing\n",
      "22:47:21 - cmdstanpy - INFO - Chain [1] start processing\n",
      "22:47:21 - cmdstanpy - INFO - Chain [1] start processing\n",
      "22:47:21 - cmdstanpy - INFO - Chain [1] done processing\n",
      "22:47:21 - cmdstanpy - INFO - Chain [1] start processing\n",
      "22:47:22 - cmdstanpy - INFO - Chain [1] done processing\n",
      "22:47:22 - cmdstanpy - INFO - Chain [1] done processing\n"
     ]
    },
    {
     "name": "stdout",
     "output_type": "stream",
     "text": [
      "{'changepoint_prior_scale': 0.101, 'holidays_prior_scale': 7.51, 'seasonality_mode': 'multiplicative', 'seasonality_prior_scale': 5.01}\n"
     ]
    },
    {
     "name": "stderr",
     "output_type": "stream",
     "text": [
      "22:47:23 - cmdstanpy - INFO - Chain [1] start processing\n",
      "22:47:24 - cmdstanpy - INFO - Chain [1] done processing\n",
      "22:47:26 - cmdstanpy - INFO - Chain [1] start processing\n",
      "22:47:26 - cmdstanpy - INFO - Chain [1] done processing\n",
      "22:47:26 - cmdstanpy - INFO - Chain [1] start processing\n",
      "22:47:26 - cmdstanpy - INFO - Chain [1] start processing\n",
      "22:47:26 - cmdstanpy - INFO - Chain [1] done processing\n",
      "22:47:26 - cmdstanpy - INFO - Chain [1] start processing\n",
      "22:47:27 - cmdstanpy - INFO - Chain [1] done processing\n",
      "22:47:27 - cmdstanpy - INFO - Chain [1] start processing\n",
      "22:47:27 - cmdstanpy - INFO - Chain [1] done processing\n",
      "22:47:28 - cmdstanpy - INFO - Chain [1] done processing\n"
     ]
    },
    {
     "name": "stdout",
     "output_type": "stream",
     "text": [
      "{'changepoint_prior_scale': 0.101, 'holidays_prior_scale': 7.51, 'seasonality_mode': 'multiplicative', 'seasonality_prior_scale': 7.51}\n"
     ]
    },
    {
     "name": "stderr",
     "output_type": "stream",
     "text": [
      "22:47:29 - cmdstanpy - INFO - Chain [1] start processing\n",
      "22:47:30 - cmdstanpy - INFO - Chain [1] done processing\n",
      "22:47:31 - cmdstanpy - INFO - Chain [1] start processing\n",
      "22:47:31 - cmdstanpy - INFO - Chain [1] done processing\n",
      "22:47:32 - cmdstanpy - INFO - Chain [1] start processing\n",
      "22:47:32 - cmdstanpy - INFO - Chain [1] start processing\n",
      "22:47:32 - cmdstanpy - INFO - Chain [1] done processing\n",
      "22:47:32 - cmdstanpy - INFO - Chain [1] done processing\n",
      "22:47:32 - cmdstanpy - INFO - Chain [1] start processing\n",
      "22:47:32 - cmdstanpy - INFO - Chain [1] start processing\n",
      "22:47:33 - cmdstanpy - INFO - Chain [1] done processing\n",
      "22:47:33 - cmdstanpy - INFO - Chain [1] done processing\n"
     ]
    },
    {
     "name": "stdout",
     "output_type": "stream",
     "text": [
      "{'changepoint_prior_scale': 0.101, 'holidays_prior_scale': 7.51, 'seasonality_mode': 'additive', 'seasonality_prior_scale': 0.01}\n"
     ]
    },
    {
     "name": "stderr",
     "output_type": "stream",
     "text": [
      "22:47:35 - cmdstanpy - INFO - Chain [1] start processing\n",
      "22:47:35 - cmdstanpy - INFO - Chain [1] done processing\n",
      "22:47:35 - cmdstanpy - ERROR - Chain [1] error: error during processing Operation not permitted\n",
      "Optimization terminated abnormally. Falling back to Newton.\n",
      "22:47:36 - cmdstanpy - INFO - Chain [1] start processing\n",
      "22:48:32 - cmdstanpy - INFO - Chain [1] done processing\n",
      "22:48:34 - cmdstanpy - INFO - Chain [1] start processing\n",
      "22:48:34 - cmdstanpy - INFO - Chain [1] done processing\n",
      "22:48:34 - cmdstanpy - INFO - Chain [1] start processing\n",
      "22:48:34 - cmdstanpy - INFO - Chain [1] done processing\n",
      "22:48:34 - cmdstanpy - INFO - Chain [1] start processing\n",
      "22:48:35 - cmdstanpy - INFO - Chain [1] start processing\n",
      "22:48:35 - cmdstanpy - INFO - Chain [1] done processing\n",
      "22:48:35 - cmdstanpy - ERROR - Chain [1] error: error during processing Operation not permitted\n",
      "Optimization terminated abnormally. Falling back to Newton.\n",
      "22:48:35 - cmdstanpy - INFO - Chain [1] start processing\n",
      "22:48:35 - cmdstanpy - INFO - Chain [1] done processing\n",
      "22:48:35 - cmdstanpy - ERROR - Chain [1] error: error during processing Operation not permitted\n",
      "Optimization terminated abnormally. Falling back to Newton.\n",
      "22:48:35 - cmdstanpy - INFO - Chain [1] done processing\n",
      "22:48:35 - cmdstanpy - ERROR - Chain [1] error: error during processing Operation not permitted\n",
      "Optimization terminated abnormally. Falling back to Newton.\n",
      "22:48:35 - cmdstanpy - INFO - Chain [1] start processing\n",
      "22:48:36 - cmdstanpy - INFO - Chain [1] start processing\n",
      "22:48:36 - cmdstanpy - INFO - Chain [1] start processing\n",
      "22:49:42 - cmdstanpy - INFO - Chain [1] done processing\n",
      "22:49:44 - cmdstanpy - INFO - Chain [1] done processing\n",
      "22:50:02 - cmdstanpy - INFO - Chain [1] done processing\n"
     ]
    },
    {
     "name": "stdout",
     "output_type": "stream",
     "text": [
      "{'changepoint_prior_scale': 0.101, 'holidays_prior_scale': 7.51, 'seasonality_mode': 'additive', 'seasonality_prior_scale': 2.51}\n"
     ]
    },
    {
     "name": "stderr",
     "output_type": "stream",
     "text": [
      "22:50:03 - cmdstanpy - INFO - Chain [1] start processing\n",
      "22:50:04 - cmdstanpy - INFO - Chain [1] done processing\n",
      "22:50:04 - cmdstanpy - ERROR - Chain [1] error: error during processing Operation not permitted\n",
      "Optimization terminated abnormally. Falling back to Newton.\n",
      "22:50:04 - cmdstanpy - INFO - Chain [1] start processing\n",
      "22:51:19 - cmdstanpy - INFO - Chain [1] done processing\n",
      "22:51:21 - cmdstanpy - INFO - Chain [1] start processing\n",
      "22:51:21 - cmdstanpy - INFO - Chain [1] done processing\n",
      "22:51:21 - cmdstanpy - INFO - Chain [1] start processing\n",
      "22:51:21 - cmdstanpy - INFO - Chain [1] start processing\n",
      "22:51:21 - cmdstanpy - INFO - Chain [1] done processing\n",
      "22:51:21 - cmdstanpy - INFO - Chain [1] start processing\n",
      "22:51:22 - cmdstanpy - INFO - Chain [1] done processing\n",
      "22:51:22 - cmdstanpy - ERROR - Chain [1] error: error during processing Operation not permitted\n",
      "Optimization terminated abnormally. Falling back to Newton.\n",
      "22:51:22 - cmdstanpy - INFO - Chain [1] done processing\n",
      "22:51:22 - cmdstanpy - ERROR - Chain [1] error: error during processing Operation not permitted\n",
      "Optimization terminated abnormally. Falling back to Newton.\n",
      "22:51:22 - cmdstanpy - INFO - Chain [1] start processing\n",
      "22:51:22 - cmdstanpy - INFO - Chain [1] done processing\n",
      "22:51:22 - cmdstanpy - ERROR - Chain [1] error: error during processing Operation not permitted\n",
      "Optimization terminated abnormally. Falling back to Newton.\n",
      "22:51:22 - cmdstanpy - INFO - Chain [1] start processing\n",
      "22:51:22 - cmdstanpy - INFO - Chain [1] start processing\n",
      "22:51:23 - cmdstanpy - INFO - Chain [1] start processing\n",
      "22:52:40 - cmdstanpy - INFO - Chain [1] done processing\n",
      "22:52:50 - cmdstanpy - INFO - Chain [1] done processing\n",
      "22:52:58 - cmdstanpy - INFO - Chain [1] done processing\n"
     ]
    },
    {
     "name": "stdout",
     "output_type": "stream",
     "text": [
      "{'changepoint_prior_scale': 0.101, 'holidays_prior_scale': 7.51, 'seasonality_mode': 'additive', 'seasonality_prior_scale': 5.01}\n"
     ]
    },
    {
     "name": "stderr",
     "output_type": "stream",
     "text": [
      "22:52:59 - cmdstanpy - INFO - Chain [1] start processing\n",
      "22:53:00 - cmdstanpy - INFO - Chain [1] done processing\n",
      "22:53:00 - cmdstanpy - ERROR - Chain [1] error: error during processing Operation not permitted\n",
      "Optimization terminated abnormally. Falling back to Newton.\n",
      "22:53:00 - cmdstanpy - INFO - Chain [1] start processing\n",
      "22:54:02 - cmdstanpy - INFO - Chain [1] done processing\n",
      "22:54:04 - cmdstanpy - INFO - Chain [1] start processing\n",
      "22:54:04 - cmdstanpy - INFO - Chain [1] done processing\n",
      "22:54:04 - cmdstanpy - INFO - Chain [1] start processing\n",
      "22:54:04 - cmdstanpy - INFO - Chain [1] start processing\n",
      "22:54:04 - cmdstanpy - INFO - Chain [1] done processing\n",
      "22:54:05 - cmdstanpy - INFO - Chain [1] start processing\n",
      "22:54:05 - cmdstanpy - INFO - Chain [1] done processing\n",
      "22:54:05 - cmdstanpy - ERROR - Chain [1] error: error during processing Operation not permitted\n",
      "Optimization terminated abnormally. Falling back to Newton.\n",
      "22:54:05 - cmdstanpy - INFO - Chain [1] done processing\n",
      "22:54:05 - cmdstanpy - ERROR - Chain [1] error: error during processing Operation not permitted\n",
      "Optimization terminated abnormally. Falling back to Newton.\n",
      "22:54:05 - cmdstanpy - INFO - Chain [1] start processing\n",
      "22:54:05 - cmdstanpy - INFO - Chain [1] start processing\n",
      "22:54:05 - cmdstanpy - INFO - Chain [1] done processing\n",
      "22:54:05 - cmdstanpy - ERROR - Chain [1] error: error during processing Operation not permitted\n",
      "Optimization terminated abnormally. Falling back to Newton.\n",
      "22:54:06 - cmdstanpy - INFO - Chain [1] start processing\n",
      "22:54:06 - cmdstanpy - INFO - Chain [1] start processing\n",
      "22:55:17 - cmdstanpy - INFO - Chain [1] done processing\n",
      "22:55:22 - cmdstanpy - INFO - Chain [1] done processing\n",
      "22:55:51 - cmdstanpy - INFO - Chain [1] done processing\n"
     ]
    },
    {
     "name": "stdout",
     "output_type": "stream",
     "text": [
      "{'changepoint_prior_scale': 0.101, 'holidays_prior_scale': 7.51, 'seasonality_mode': 'additive', 'seasonality_prior_scale': 7.51}\n"
     ]
    },
    {
     "name": "stderr",
     "output_type": "stream",
     "text": [
      "22:55:52 - cmdstanpy - INFO - Chain [1] start processing\n",
      "22:55:52 - cmdstanpy - INFO - Chain [1] done processing\n",
      "22:55:52 - cmdstanpy - ERROR - Chain [1] error: error during processing Operation not permitted\n",
      "Optimization terminated abnormally. Falling back to Newton.\n",
      "22:55:53 - cmdstanpy - INFO - Chain [1] start processing\n",
      "22:56:54 - cmdstanpy - INFO - Chain [1] done processing\n",
      "22:56:55 - cmdstanpy - INFO - Chain [1] start processing\n",
      "22:56:55 - cmdstanpy - INFO - Chain [1] start processing\n",
      "22:56:56 - cmdstanpy - INFO - Chain [1] done processing\n",
      "22:56:56 - cmdstanpy - INFO - Chain [1] done processing\n",
      "22:56:56 - cmdstanpy - INFO - Chain [1] start processing\n",
      "22:56:56 - cmdstanpy - INFO - Chain [1] start processing\n",
      "22:56:56 - cmdstanpy - INFO - Chain [1] done processing\n",
      "22:56:56 - cmdstanpy - ERROR - Chain [1] error: error during processing Operation not permitted\n",
      "Optimization terminated abnormally. Falling back to Newton.\n",
      "22:56:56 - cmdstanpy - INFO - Chain [1] start processing\n",
      "22:56:57 - cmdstanpy - INFO - Chain [1] done processing\n",
      "22:56:57 - cmdstanpy - ERROR - Chain [1] error: error during processing Operation not permitted\n",
      "Optimization terminated abnormally. Falling back to Newton.\n",
      "22:56:57 - cmdstanpy - INFO - Chain [1] done processing\n",
      "22:56:57 - cmdstanpy - ERROR - Chain [1] error: error during processing Operation not permitted\n",
      "Optimization terminated abnormally. Falling back to Newton.\n",
      "22:56:57 - cmdstanpy - INFO - Chain [1] start processing\n",
      "22:56:57 - cmdstanpy - INFO - Chain [1] start processing\n",
      "22:56:58 - cmdstanpy - INFO - Chain [1] start processing\n",
      "22:58:18 - cmdstanpy - INFO - Chain [1] done processing\n",
      "22:58:21 - cmdstanpy - INFO - Chain [1] done processing\n",
      "22:58:46 - cmdstanpy - INFO - Chain [1] done processing\n"
     ]
    },
    {
     "name": "stdout",
     "output_type": "stream",
     "text": [
      "{'changepoint_prior_scale': 0.201, 'holidays_prior_scale': 0.01, 'seasonality_mode': 'multiplicative', 'seasonality_prior_scale': 0.01}\n"
     ]
    },
    {
     "name": "stderr",
     "output_type": "stream",
     "text": [
      "22:58:47 - cmdstanpy - INFO - Chain [1] start processing\n",
      "22:58:47 - cmdstanpy - INFO - Chain [1] done processing\n",
      "22:58:49 - cmdstanpy - INFO - Chain [1] start processing\n",
      "22:58:49 - cmdstanpy - INFO - Chain [1] done processing\n",
      "22:58:49 - cmdstanpy - INFO - Chain [1] start processing\n",
      "22:58:49 - cmdstanpy - INFO - Chain [1] start processing\n",
      "22:58:49 - cmdstanpy - INFO - Chain [1] done processing\n",
      "22:58:50 - cmdstanpy - INFO - Chain [1] start processing\n",
      "22:58:50 - cmdstanpy - INFO - Chain [1] start processing\n",
      "22:58:50 - cmdstanpy - INFO - Chain [1] done processing\n",
      "22:58:51 - cmdstanpy - INFO - Chain [1] done processing\n",
      "22:58:51 - cmdstanpy - INFO - Chain [1] done processing\n"
     ]
    },
    {
     "name": "stdout",
     "output_type": "stream",
     "text": [
      "{'changepoint_prior_scale': 0.201, 'holidays_prior_scale': 0.01, 'seasonality_mode': 'multiplicative', 'seasonality_prior_scale': 2.51}\n"
     ]
    },
    {
     "name": "stderr",
     "output_type": "stream",
     "text": [
      "22:58:52 - cmdstanpy - INFO - Chain [1] start processing\n",
      "22:58:53 - cmdstanpy - INFO - Chain [1] done processing\n",
      "22:58:54 - cmdstanpy - INFO - Chain [1] start processing\n",
      "22:58:54 - cmdstanpy - INFO - Chain [1] start processing\n",
      "22:58:54 - cmdstanpy - INFO - Chain [1] done processing\n",
      "22:58:55 - cmdstanpy - INFO - Chain [1] start processing\n",
      "22:58:55 - cmdstanpy - INFO - Chain [1] start processing\n",
      "22:58:55 - cmdstanpy - INFO - Chain [1] done processing\n",
      "22:58:55 - cmdstanpy - INFO - Chain [1] start processing\n",
      "22:58:55 - cmdstanpy - INFO - Chain [1] done processing\n",
      "22:58:56 - cmdstanpy - INFO - Chain [1] done processing\n",
      "22:58:56 - cmdstanpy - INFO - Chain [1] done processing\n"
     ]
    },
    {
     "name": "stdout",
     "output_type": "stream",
     "text": [
      "{'changepoint_prior_scale': 0.201, 'holidays_prior_scale': 0.01, 'seasonality_mode': 'multiplicative', 'seasonality_prior_scale': 5.01}\n"
     ]
    },
    {
     "name": "stderr",
     "output_type": "stream",
     "text": [
      "22:58:58 - cmdstanpy - INFO - Chain [1] start processing\n",
      "22:58:58 - cmdstanpy - INFO - Chain [1] done processing\n",
      "22:59:00 - cmdstanpy - INFO - Chain [1] start processing\n",
      "22:59:00 - cmdstanpy - INFO - Chain [1] start processing\n",
      "22:59:00 - cmdstanpy - INFO - Chain [1] done processing\n",
      "22:59:00 - cmdstanpy - INFO - Chain [1] start processing\n",
      "22:59:00 - cmdstanpy - INFO - Chain [1] done processing\n",
      "22:59:00 - cmdstanpy - INFO - Chain [1] start processing\n",
      "22:59:01 - cmdstanpy - INFO - Chain [1] start processing\n",
      "22:59:01 - cmdstanpy - INFO - Chain [1] done processing\n",
      "22:59:01 - cmdstanpy - INFO - Chain [1] done processing\n",
      "22:59:02 - cmdstanpy - INFO - Chain [1] done processing\n"
     ]
    },
    {
     "name": "stdout",
     "output_type": "stream",
     "text": [
      "{'changepoint_prior_scale': 0.201, 'holidays_prior_scale': 0.01, 'seasonality_mode': 'multiplicative', 'seasonality_prior_scale': 7.51}\n"
     ]
    },
    {
     "name": "stderr",
     "output_type": "stream",
     "text": [
      "22:59:03 - cmdstanpy - INFO - Chain [1] start processing\n",
      "22:59:04 - cmdstanpy - INFO - Chain [1] done processing\n",
      "22:59:05 - cmdstanpy - INFO - Chain [1] start processing\n",
      "22:59:05 - cmdstanpy - INFO - Chain [1] done processing\n",
      "22:59:05 - cmdstanpy - INFO - Chain [1] start processing\n",
      "22:59:06 - cmdstanpy - INFO - Chain [1] start processing\n",
      "22:59:06 - cmdstanpy - INFO - Chain [1] start processing\n",
      "22:59:06 - cmdstanpy - INFO - Chain [1] done processing\n",
      "22:59:06 - cmdstanpy - INFO - Chain [1] start processing\n",
      "22:59:06 - cmdstanpy - INFO - Chain [1] done processing\n",
      "22:59:07 - cmdstanpy - INFO - Chain [1] done processing\n",
      "22:59:07 - cmdstanpy - INFO - Chain [1] done processing\n"
     ]
    },
    {
     "name": "stdout",
     "output_type": "stream",
     "text": [
      "{'changepoint_prior_scale': 0.201, 'holidays_prior_scale': 0.01, 'seasonality_mode': 'additive', 'seasonality_prior_scale': 0.01}\n"
     ]
    },
    {
     "name": "stderr",
     "output_type": "stream",
     "text": [
      "22:59:09 - cmdstanpy - INFO - Chain [1] start processing\n",
      "22:59:09 - cmdstanpy - INFO - Chain [1] done processing\n",
      "22:59:09 - cmdstanpy - ERROR - Chain [1] error: error during processing Operation not permitted\n",
      "Optimization terminated abnormally. Falling back to Newton.\n",
      "22:59:10 - cmdstanpy - INFO - Chain [1] start processing\n",
      "22:59:52 - cmdstanpy - INFO - Chain [1] done processing\n",
      "22:59:54 - cmdstanpy - INFO - Chain [1] start processing\n",
      "22:59:54 - cmdstanpy - INFO - Chain [1] done processing\n",
      "22:59:54 - cmdstanpy - INFO - Chain [1] start processing\n",
      "22:59:54 - cmdstanpy - INFO - Chain [1] start processing\n",
      "22:59:54 - cmdstanpy - INFO - Chain [1] done processing\n",
      "22:59:54 - cmdstanpy - INFO - Chain [1] done processing\n",
      "22:59:54 - cmdstanpy - ERROR - Chain [1] error: error during processing Operation not permitted\n",
      "Optimization terminated abnormally. Falling back to Newton.\n",
      "22:59:55 - cmdstanpy - INFO - Chain [1] start processing\n",
      "22:59:55 - cmdstanpy - INFO - Chain [1] start processing\n",
      "22:59:55 - cmdstanpy - INFO - Chain [1] done processing\n",
      "22:59:55 - cmdstanpy - ERROR - Chain [1] error: error during processing Operation not permitted\n",
      "Optimization terminated abnormally. Falling back to Newton.\n",
      "22:59:55 - cmdstanpy - INFO - Chain [1] start processing\n",
      "22:59:55 - cmdstanpy - INFO - Chain [1] done processing\n",
      "22:59:55 - cmdstanpy - ERROR - Chain [1] error: error during processing Operation not permitted\n",
      "Optimization terminated abnormally. Falling back to Newton.\n",
      "22:59:55 - cmdstanpy - INFO - Chain [1] start processing\n",
      "22:59:56 - cmdstanpy - INFO - Chain [1] start processing\n",
      "23:00:47 - cmdstanpy - INFO - Chain [1] done processing\n",
      "23:00:48 - cmdstanpy - INFO - Chain [1] done processing\n",
      "23:01:08 - cmdstanpy - INFO - Chain [1] done processing\n"
     ]
    },
    {
     "name": "stdout",
     "output_type": "stream",
     "text": [
      "{'changepoint_prior_scale': 0.201, 'holidays_prior_scale': 0.01, 'seasonality_mode': 'additive', 'seasonality_prior_scale': 2.51}\n"
     ]
    },
    {
     "name": "stderr",
     "output_type": "stream",
     "text": [
      "23:01:09 - cmdstanpy - INFO - Chain [1] start processing\n",
      "23:01:10 - cmdstanpy - INFO - Chain [1] done processing\n",
      "23:01:10 - cmdstanpy - ERROR - Chain [1] error: error during processing Operation not permitted\n",
      "Optimization terminated abnormally. Falling back to Newton.\n",
      "23:01:10 - cmdstanpy - INFO - Chain [1] start processing\n",
      "23:01:44 - cmdstanpy - INFO - Chain [1] done processing\n",
      "23:01:45 - cmdstanpy - INFO - Chain [1] start processing\n",
      "23:01:45 - cmdstanpy - INFO - Chain [1] done processing\n",
      "23:01:46 - cmdstanpy - INFO - Chain [1] start processing\n",
      "23:01:46 - cmdstanpy - INFO - Chain [1] done processing\n",
      "23:01:46 - cmdstanpy - INFO - Chain [1] start processing\n",
      "23:01:46 - cmdstanpy - INFO - Chain [1] start processing\n",
      "23:01:46 - cmdstanpy - INFO - Chain [1] done processing\n",
      "23:01:46 - cmdstanpy - ERROR - Chain [1] error: error during processing Operation not permitted\n",
      "Optimization terminated abnormally. Falling back to Newton.\n",
      "23:01:47 - cmdstanpy - INFO - Chain [1] start processing\n",
      "23:01:47 - cmdstanpy - INFO - Chain [1] done processing\n",
      "23:01:47 - cmdstanpy - ERROR - Chain [1] error: error during processing Operation not permitted\n",
      "Optimization terminated abnormally. Falling back to Newton.\n",
      "23:01:47 - cmdstanpy - INFO - Chain [1] done processing\n",
      "23:01:47 - cmdstanpy - ERROR - Chain [1] error: error during processing Operation not permitted\n",
      "Optimization terminated abnormally. Falling back to Newton.\n",
      "23:01:47 - cmdstanpy - INFO - Chain [1] start processing\n",
      "23:01:47 - cmdstanpy - INFO - Chain [1] start processing\n",
      "23:01:48 - cmdstanpy - INFO - Chain [1] start processing\n",
      "23:02:43 - cmdstanpy - INFO - Chain [1] done processing\n",
      "23:03:01 - cmdstanpy - INFO - Chain [1] done processing\n",
      "23:03:10 - cmdstanpy - INFO - Chain [1] done processing\n"
     ]
    },
    {
     "name": "stdout",
     "output_type": "stream",
     "text": [
      "{'changepoint_prior_scale': 0.201, 'holidays_prior_scale': 0.01, 'seasonality_mode': 'additive', 'seasonality_prior_scale': 5.01}\n"
     ]
    },
    {
     "name": "stderr",
     "output_type": "stream",
     "text": [
      "23:03:11 - cmdstanpy - INFO - Chain [1] start processing\n",
      "23:03:11 - cmdstanpy - INFO - Chain [1] done processing\n",
      "23:03:11 - cmdstanpy - ERROR - Chain [1] error: error during processing Operation not permitted\n",
      "Optimization terminated abnormally. Falling back to Newton.\n",
      "23:03:12 - cmdstanpy - INFO - Chain [1] start processing\n",
      "23:03:52 - cmdstanpy - INFO - Chain [1] done processing\n",
      "23:03:54 - cmdstanpy - INFO - Chain [1] start processing\n",
      "23:03:54 - cmdstanpy - INFO - Chain [1] done processing\n",
      "23:03:54 - cmdstanpy - INFO - Chain [1] start processing\n",
      "23:03:54 - cmdstanpy - INFO - Chain [1] done processing\n",
      "23:03:55 - cmdstanpy - INFO - Chain [1] start processing\n",
      "23:03:55 - cmdstanpy - INFO - Chain [1] done processing\n",
      "23:03:55 - cmdstanpy - ERROR - Chain [1] error: error during processing Operation not permitted\n",
      "Optimization terminated abnormally. Falling back to Newton.\n",
      "23:03:55 - cmdstanpy - INFO - Chain [1] start processing\n",
      "23:03:55 - cmdstanpy - INFO - Chain [1] start processing\n",
      "23:03:55 - cmdstanpy - INFO - Chain [1] done processing\n",
      "23:03:55 - cmdstanpy - ERROR - Chain [1] error: error during processing Operation not permitted\n",
      "Optimization terminated abnormally. Falling back to Newton.\n",
      "23:03:55 - cmdstanpy - INFO - Chain [1] start processing\n",
      "23:03:55 - cmdstanpy - INFO - Chain [1] done processing\n",
      "23:03:55 - cmdstanpy - ERROR - Chain [1] error: error during processing Operation not permitted\n",
      "Optimization terminated abnormally. Falling back to Newton.\n",
      "23:03:56 - cmdstanpy - INFO - Chain [1] start processing\n",
      "23:03:56 - cmdstanpy - INFO - Chain [1] start processing\n",
      "23:04:52 - cmdstanpy - INFO - Chain [1] done processing\n",
      "23:05:03 - cmdstanpy - INFO - Chain [1] done processing\n",
      "23:05:23 - cmdstanpy - INFO - Chain [1] done processing\n"
     ]
    },
    {
     "name": "stdout",
     "output_type": "stream",
     "text": [
      "{'changepoint_prior_scale': 0.201, 'holidays_prior_scale': 0.01, 'seasonality_mode': 'additive', 'seasonality_prior_scale': 7.51}\n"
     ]
    },
    {
     "name": "stderr",
     "output_type": "stream",
     "text": [
      "23:05:24 - cmdstanpy - INFO - Chain [1] start processing\n",
      "23:05:24 - cmdstanpy - INFO - Chain [1] done processing\n",
      "23:05:24 - cmdstanpy - ERROR - Chain [1] error: error during processing Operation not permitted\n",
      "Optimization terminated abnormally. Falling back to Newton.\n",
      "23:05:25 - cmdstanpy - INFO - Chain [1] start processing\n",
      "23:06:04 - cmdstanpy - INFO - Chain [1] done processing\n",
      "23:06:05 - cmdstanpy - INFO - Chain [1] start processing\n",
      "23:06:05 - cmdstanpy - INFO - Chain [1] done processing\n",
      "23:06:06 - cmdstanpy - INFO - Chain [1] start processing\n",
      "23:06:06 - cmdstanpy - INFO - Chain [1] done processing\n",
      "23:06:06 - cmdstanpy - INFO - Chain [1] start processing\n",
      "23:06:06 - cmdstanpy - INFO - Chain [1] done processing\n",
      "23:06:06 - cmdstanpy - ERROR - Chain [1] error: error during processing Operation not permitted\n",
      "Optimization terminated abnormally. Falling back to Newton.\n",
      "23:06:06 - cmdstanpy - INFO - Chain [1] start processing\n",
      "23:06:06 - cmdstanpy - INFO - Chain [1] start processing\n",
      "23:06:06 - cmdstanpy - INFO - Chain [1] done processing\n",
      "23:06:06 - cmdstanpy - ERROR - Chain [1] error: error during processing Operation not permitted\n",
      "Optimization terminated abnormally. Falling back to Newton.\n",
      "23:06:07 - cmdstanpy - INFO - Chain [1] start processing\n",
      "23:06:07 - cmdstanpy - INFO - Chain [1] done processing\n",
      "23:06:07 - cmdstanpy - ERROR - Chain [1] error: error during processing Operation not permitted\n",
      "Optimization terminated abnormally. Falling back to Newton.\n",
      "23:06:07 - cmdstanpy - INFO - Chain [1] start processing\n",
      "23:06:07 - cmdstanpy - INFO - Chain [1] start processing\n",
      "23:07:09 - cmdstanpy - INFO - Chain [1] done processing\n",
      "23:07:12 - cmdstanpy - INFO - Chain [1] done processing\n",
      "23:07:34 - cmdstanpy - INFO - Chain [1] done processing\n"
     ]
    },
    {
     "name": "stdout",
     "output_type": "stream",
     "text": [
      "{'changepoint_prior_scale': 0.201, 'holidays_prior_scale': 2.51, 'seasonality_mode': 'multiplicative', 'seasonality_prior_scale': 0.01}\n"
     ]
    },
    {
     "name": "stderr",
     "output_type": "stream",
     "text": [
      "23:07:35 - cmdstanpy - INFO - Chain [1] start processing\n",
      "23:07:35 - cmdstanpy - INFO - Chain [1] done processing\n",
      "23:07:37 - cmdstanpy - INFO - Chain [1] start processing\n",
      "23:07:37 - cmdstanpy - INFO - Chain [1] start processing\n",
      "23:07:37 - cmdstanpy - INFO - Chain [1] done processing\n",
      "23:07:38 - cmdstanpy - INFO - Chain [1] start processing\n",
      "23:07:38 - cmdstanpy - INFO - Chain [1] done processing\n",
      "23:07:38 - cmdstanpy - INFO - Chain [1] start processing\n",
      "23:07:38 - cmdstanpy - INFO - Chain [1] start processing\n",
      "23:07:38 - cmdstanpy - INFO - Chain [1] done processing\n",
      "23:07:39 - cmdstanpy - INFO - Chain [1] done processing\n",
      "23:07:39 - cmdstanpy - INFO - Chain [1] done processing\n"
     ]
    },
    {
     "name": "stdout",
     "output_type": "stream",
     "text": [
      "{'changepoint_prior_scale': 0.201, 'holidays_prior_scale': 2.51, 'seasonality_mode': 'multiplicative', 'seasonality_prior_scale': 2.51}\n"
     ]
    },
    {
     "name": "stderr",
     "output_type": "stream",
     "text": [
      "23:07:40 - cmdstanpy - INFO - Chain [1] start processing\n",
      "23:07:41 - cmdstanpy - INFO - Chain [1] done processing\n",
      "23:07:42 - cmdstanpy - INFO - Chain [1] start processing\n",
      "23:07:42 - cmdstanpy - INFO - Chain [1] start processing\n",
      "23:07:43 - cmdstanpy - INFO - Chain [1] done processing\n",
      "23:07:43 - cmdstanpy - INFO - Chain [1] start processing\n",
      "23:07:43 - cmdstanpy - INFO - Chain [1] done processing\n",
      "23:07:43 - cmdstanpy - INFO - Chain [1] start processing\n",
      "23:07:43 - cmdstanpy - INFO - Chain [1] done processing\n",
      "23:07:43 - cmdstanpy - INFO - Chain [1] start processing\n",
      "23:07:44 - cmdstanpy - INFO - Chain [1] done processing\n",
      "23:07:44 - cmdstanpy - INFO - Chain [1] done processing\n"
     ]
    },
    {
     "name": "stdout",
     "output_type": "stream",
     "text": [
      "{'changepoint_prior_scale': 0.201, 'holidays_prior_scale': 2.51, 'seasonality_mode': 'multiplicative', 'seasonality_prior_scale': 5.01}\n"
     ]
    },
    {
     "name": "stderr",
     "output_type": "stream",
     "text": [
      "23:07:46 - cmdstanpy - INFO - Chain [1] start processing\n",
      "23:07:46 - cmdstanpy - INFO - Chain [1] done processing\n",
      "23:07:48 - cmdstanpy - INFO - Chain [1] start processing\n",
      "23:07:48 - cmdstanpy - INFO - Chain [1] start processing\n",
      "23:07:48 - cmdstanpy - INFO - Chain [1] done processing\n",
      "23:07:48 - cmdstanpy - INFO - Chain [1] start processing\n",
      "23:07:48 - cmdstanpy - INFO - Chain [1] done processing\n",
      "23:07:48 - cmdstanpy - INFO - Chain [1] start processing\n",
      "23:07:49 - cmdstanpy - INFO - Chain [1] start processing\n",
      "23:07:49 - cmdstanpy - INFO - Chain [1] done processing\n",
      "23:07:49 - cmdstanpy - INFO - Chain [1] done processing\n",
      "23:07:50 - cmdstanpy - INFO - Chain [1] done processing\n"
     ]
    },
    {
     "name": "stdout",
     "output_type": "stream",
     "text": [
      "{'changepoint_prior_scale': 0.201, 'holidays_prior_scale': 2.51, 'seasonality_mode': 'multiplicative', 'seasonality_prior_scale': 7.51}\n"
     ]
    },
    {
     "name": "stderr",
     "output_type": "stream",
     "text": [
      "23:07:51 - cmdstanpy - INFO - Chain [1] start processing\n",
      "23:07:52 - cmdstanpy - INFO - Chain [1] done processing\n",
      "23:07:53 - cmdstanpy - INFO - Chain [1] start processing\n",
      "23:07:53 - cmdstanpy - INFO - Chain [1] start processing\n",
      "23:07:53 - cmdstanpy - INFO - Chain [1] start processing\n",
      "23:07:54 - cmdstanpy - INFO - Chain [1] start processing\n",
      "23:07:54 - cmdstanpy - INFO - Chain [1] done processing\n",
      "23:07:54 - cmdstanpy - INFO - Chain [1] done processing\n",
      "23:07:54 - cmdstanpy - INFO - Chain [1] start processing\n",
      "23:07:54 - cmdstanpy - INFO - Chain [1] done processing\n",
      "23:07:55 - cmdstanpy - INFO - Chain [1] done processing\n",
      "23:07:55 - cmdstanpy - INFO - Chain [1] done processing\n"
     ]
    },
    {
     "name": "stdout",
     "output_type": "stream",
     "text": [
      "{'changepoint_prior_scale': 0.201, 'holidays_prior_scale': 2.51, 'seasonality_mode': 'additive', 'seasonality_prior_scale': 0.01}\n"
     ]
    },
    {
     "name": "stderr",
     "output_type": "stream",
     "text": [
      "23:07:57 - cmdstanpy - INFO - Chain [1] start processing\n",
      "23:07:57 - cmdstanpy - INFO - Chain [1] done processing\n",
      "23:07:57 - cmdstanpy - ERROR - Chain [1] error: error during processing Operation not permitted\n",
      "Optimization terminated abnormally. Falling back to Newton.\n",
      "23:07:58 - cmdstanpy - INFO - Chain [1] start processing\n",
      "23:08:41 - cmdstanpy - INFO - Chain [1] done processing\n",
      "23:08:42 - cmdstanpy - INFO - Chain [1] start processing\n",
      "23:08:43 - cmdstanpy - INFO - Chain [1] done processing\n",
      "23:08:43 - cmdstanpy - INFO - Chain [1] start processing\n",
      "23:08:43 - cmdstanpy - INFO - Chain [1] done processing\n",
      "23:08:43 - cmdstanpy - INFO - Chain [1] start processing\n",
      "23:08:43 - cmdstanpy - INFO - Chain [1] done processing\n",
      "23:08:43 - cmdstanpy - ERROR - Chain [1] error: error during processing Operation not permitted\n",
      "Optimization terminated abnormally. Falling back to Newton.\n",
      "23:08:43 - cmdstanpy - INFO - Chain [1] start processing\n",
      "23:08:43 - cmdstanpy - INFO - Chain [1] start processing\n",
      "23:08:44 - cmdstanpy - INFO - Chain [1] done processing\n",
      "23:08:44 - cmdstanpy - ERROR - Chain [1] error: error during processing Operation not permitted\n",
      "Optimization terminated abnormally. Falling back to Newton.\n",
      "23:08:44 - cmdstanpy - INFO - Chain [1] done processing\n",
      "23:08:44 - cmdstanpy - ERROR - Chain [1] error: error during processing Operation not permitted\n",
      "Optimization terminated abnormally. Falling back to Newton.\n",
      "23:08:44 - cmdstanpy - INFO - Chain [1] start processing\n",
      "23:08:44 - cmdstanpy - INFO - Chain [1] start processing\n",
      "23:08:45 - cmdstanpy - INFO - Chain [1] start processing\n",
      "23:09:43 - cmdstanpy - INFO - Chain [1] done processing\n",
      "23:09:48 - cmdstanpy - INFO - Chain [1] done processing\n",
      "23:09:55 - cmdstanpy - INFO - Chain [1] done processing\n"
     ]
    },
    {
     "name": "stdout",
     "output_type": "stream",
     "text": [
      "{'changepoint_prior_scale': 0.201, 'holidays_prior_scale': 2.51, 'seasonality_mode': 'additive', 'seasonality_prior_scale': 2.51}\n"
     ]
    },
    {
     "name": "stderr",
     "output_type": "stream",
     "text": [
      "23:09:56 - cmdstanpy - INFO - Chain [1] start processing\n",
      "23:09:57 - cmdstanpy - INFO - Chain [1] done processing\n",
      "23:09:57 - cmdstanpy - ERROR - Chain [1] error: error during processing Operation not permitted\n",
      "Optimization terminated abnormally. Falling back to Newton.\n",
      "23:09:57 - cmdstanpy - INFO - Chain [1] start processing\n",
      "23:10:41 - cmdstanpy - INFO - Chain [1] done processing\n",
      "23:10:43 - cmdstanpy - INFO - Chain [1] start processing\n",
      "23:10:43 - cmdstanpy - INFO - Chain [1] done processing\n",
      "23:10:43 - cmdstanpy - INFO - Chain [1] start processing\n",
      "23:10:43 - cmdstanpy - INFO - Chain [1] done processing\n",
      "23:10:43 - cmdstanpy - INFO - Chain [1] start processing\n",
      "23:10:44 - cmdstanpy - INFO - Chain [1] start processing\n",
      "23:10:44 - cmdstanpy - INFO - Chain [1] done processing\n",
      "23:10:44 - cmdstanpy - ERROR - Chain [1] error: error during processing Operation not permitted\n",
      "Optimization terminated abnormally. Falling back to Newton.\n",
      "23:10:44 - cmdstanpy - INFO - Chain [1] start processing\n",
      "23:10:44 - cmdstanpy - INFO - Chain [1] done processing\n",
      "23:10:44 - cmdstanpy - ERROR - Chain [1] error: error during processing Operation not permitted\n",
      "Optimization terminated abnormally. Falling back to Newton.\n",
      "23:10:44 - cmdstanpy - INFO - Chain [1] done processing\n",
      "23:10:44 - cmdstanpy - ERROR - Chain [1] error: error during processing Operation not permitted\n",
      "Optimization terminated abnormally. Falling back to Newton.\n",
      "23:10:44 - cmdstanpy - INFO - Chain [1] start processing\n",
      "23:10:45 - cmdstanpy - INFO - Chain [1] start processing\n",
      "23:10:45 - cmdstanpy - INFO - Chain [1] start processing\n",
      "23:11:49 - cmdstanpy - INFO - Chain [1] done processing\n",
      "23:11:51 - cmdstanpy - INFO - Chain [1] done processing\n",
      "23:12:01 - cmdstanpy - INFO - Chain [1] done processing\n"
     ]
    },
    {
     "name": "stdout",
     "output_type": "stream",
     "text": [
      "{'changepoint_prior_scale': 0.201, 'holidays_prior_scale': 2.51, 'seasonality_mode': 'additive', 'seasonality_prior_scale': 5.01}\n"
     ]
    },
    {
     "name": "stderr",
     "output_type": "stream",
     "text": [
      "23:12:02 - cmdstanpy - INFO - Chain [1] start processing\n",
      "23:12:03 - cmdstanpy - INFO - Chain [1] done processing\n",
      "23:12:03 - cmdstanpy - ERROR - Chain [1] error: error during processing Operation not permitted\n",
      "Optimization terminated abnormally. Falling back to Newton.\n",
      "23:12:03 - cmdstanpy - INFO - Chain [1] start processing\n",
      "23:12:46 - cmdstanpy - INFO - Chain [1] done processing\n",
      "23:12:47 - cmdstanpy - INFO - Chain [1] start processing\n",
      "23:12:47 - cmdstanpy - INFO - Chain [1] done processing\n",
      "23:12:48 - cmdstanpy - INFO - Chain [1] start processing\n",
      "23:12:48 - cmdstanpy - INFO - Chain [1] done processing\n",
      "23:12:48 - cmdstanpy - INFO - Chain [1] start processing\n",
      "23:12:48 - cmdstanpy - INFO - Chain [1] start processing\n",
      "23:12:48 - cmdstanpy - INFO - Chain [1] done processing\n",
      "23:12:48 - cmdstanpy - ERROR - Chain [1] error: error during processing Operation not permitted\n",
      "Optimization terminated abnormally. Falling back to Newton.\n",
      "23:12:48 - cmdstanpy - INFO - Chain [1] start processing\n",
      "23:12:48 - cmdstanpy - INFO - Chain [1] done processing\n",
      "23:12:48 - cmdstanpy - ERROR - Chain [1] error: error during processing Operation not permitted\n",
      "Optimization terminated abnormally. Falling back to Newton.\n",
      "23:12:49 - cmdstanpy - INFO - Chain [1] done processing\n",
      "23:12:49 - cmdstanpy - ERROR - Chain [1] error: error during processing Operation not permitted\n",
      "Optimization terminated abnormally. Falling back to Newton.\n",
      "23:12:49 - cmdstanpy - INFO - Chain [1] start processing\n",
      "23:12:49 - cmdstanpy - INFO - Chain [1] start processing\n",
      "23:12:49 - cmdstanpy - INFO - Chain [1] start processing\n",
      "23:13:45 - cmdstanpy - INFO - Chain [1] done processing\n",
      "23:13:59 - cmdstanpy - INFO - Chain [1] done processing\n",
      "23:14:15 - cmdstanpy - INFO - Chain [1] done processing\n"
     ]
    },
    {
     "name": "stdout",
     "output_type": "stream",
     "text": [
      "{'changepoint_prior_scale': 0.201, 'holidays_prior_scale': 2.51, 'seasonality_mode': 'additive', 'seasonality_prior_scale': 7.51}\n"
     ]
    },
    {
     "name": "stderr",
     "output_type": "stream",
     "text": [
      "23:14:16 - cmdstanpy - INFO - Chain [1] start processing\n",
      "23:14:17 - cmdstanpy - INFO - Chain [1] done processing\n",
      "23:14:17 - cmdstanpy - ERROR - Chain [1] error: error during processing Operation not permitted\n",
      "Optimization terminated abnormally. Falling back to Newton.\n",
      "23:14:17 - cmdstanpy - INFO - Chain [1] start processing\n",
      "23:15:01 - cmdstanpy - INFO - Chain [1] done processing\n",
      "23:15:02 - cmdstanpy - INFO - Chain [1] start processing\n",
      "23:15:02 - cmdstanpy - INFO - Chain [1] done processing\n",
      "23:15:03 - cmdstanpy - INFO - Chain [1] start processing\n",
      "23:15:03 - cmdstanpy - INFO - Chain [1] start processing\n",
      "23:15:03 - cmdstanpy - INFO - Chain [1] done processing\n",
      "23:15:03 - cmdstanpy - INFO - Chain [1] start processing\n",
      "23:15:03 - cmdstanpy - INFO - Chain [1] done processing\n",
      "23:15:03 - cmdstanpy - ERROR - Chain [1] error: error during processing Operation not permitted\n",
      "Optimization terminated abnormally. Falling back to Newton.\n",
      "23:15:03 - cmdstanpy - INFO - Chain [1] start processing\n",
      "23:15:03 - cmdstanpy - INFO - Chain [1] done processing\n",
      "23:15:03 - cmdstanpy - ERROR - Chain [1] error: error during processing Operation not permitted\n",
      "Optimization terminated abnormally. Falling back to Newton.\n",
      "23:15:04 - cmdstanpy - INFO - Chain [1] done processing\n",
      "23:15:04 - cmdstanpy - ERROR - Chain [1] error: error during processing Operation not permitted\n",
      "Optimization terminated abnormally. Falling back to Newton.\n",
      "23:15:04 - cmdstanpy - INFO - Chain [1] start processing\n",
      "23:15:04 - cmdstanpy - INFO - Chain [1] start processing\n",
      "23:15:04 - cmdstanpy - INFO - Chain [1] start processing\n",
      "23:16:02 - cmdstanpy - INFO - Chain [1] done processing\n",
      "23:16:12 - cmdstanpy - INFO - Chain [1] done processing\n",
      "23:16:25 - cmdstanpy - INFO - Chain [1] done processing\n"
     ]
    },
    {
     "name": "stdout",
     "output_type": "stream",
     "text": [
      "{'changepoint_prior_scale': 0.201, 'holidays_prior_scale': 5.01, 'seasonality_mode': 'multiplicative', 'seasonality_prior_scale': 0.01}\n"
     ]
    },
    {
     "name": "stderr",
     "output_type": "stream",
     "text": [
      "23:16:26 - cmdstanpy - INFO - Chain [1] start processing\n",
      "23:16:26 - cmdstanpy - INFO - Chain [1] done processing\n",
      "23:16:28 - cmdstanpy - INFO - Chain [1] start processing\n",
      "23:16:28 - cmdstanpy - INFO - Chain [1] done processing\n",
      "23:16:28 - cmdstanpy - INFO - Chain [1] start processing\n",
      "23:16:28 - cmdstanpy - INFO - Chain [1] start processing\n",
      "23:16:28 - cmdstanpy - INFO - Chain [1] done processing\n",
      "23:16:29 - cmdstanpy - INFO - Chain [1] start processing\n",
      "23:16:29 - cmdstanpy - INFO - Chain [1] start processing\n",
      "23:16:29 - cmdstanpy - INFO - Chain [1] done processing\n",
      "23:16:30 - cmdstanpy - INFO - Chain [1] done processing\n",
      "23:16:30 - cmdstanpy - INFO - Chain [1] done processing\n"
     ]
    },
    {
     "name": "stdout",
     "output_type": "stream",
     "text": [
      "{'changepoint_prior_scale': 0.201, 'holidays_prior_scale': 5.01, 'seasonality_mode': 'multiplicative', 'seasonality_prior_scale': 2.51}\n"
     ]
    },
    {
     "name": "stderr",
     "output_type": "stream",
     "text": [
      "23:16:32 - cmdstanpy - INFO - Chain [1] start processing\n",
      "23:16:32 - cmdstanpy - INFO - Chain [1] done processing\n",
      "23:16:33 - cmdstanpy - INFO - Chain [1] start processing\n",
      "23:16:34 - cmdstanpy - INFO - Chain [1] start processing\n",
      "23:16:34 - cmdstanpy - INFO - Chain [1] done processing\n",
      "23:16:34 - cmdstanpy - INFO - Chain [1] start processing\n",
      "23:16:34 - cmdstanpy - INFO - Chain [1] start processing\n",
      "23:16:34 - cmdstanpy - INFO - Chain [1] done processing\n",
      "23:16:35 - cmdstanpy - INFO - Chain [1] start processing\n",
      "23:16:35 - cmdstanpy - INFO - Chain [1] done processing\n",
      "23:16:35 - cmdstanpy - INFO - Chain [1] done processing\n",
      "23:16:35 - cmdstanpy - INFO - Chain [1] done processing\n"
     ]
    },
    {
     "name": "stdout",
     "output_type": "stream",
     "text": [
      "{'changepoint_prior_scale': 0.201, 'holidays_prior_scale': 5.01, 'seasonality_mode': 'multiplicative', 'seasonality_prior_scale': 5.01}\n"
     ]
    },
    {
     "name": "stderr",
     "output_type": "stream",
     "text": [
      "23:16:37 - cmdstanpy - INFO - Chain [1] start processing\n",
      "23:16:37 - cmdstanpy - INFO - Chain [1] done processing\n",
      "23:16:39 - cmdstanpy - INFO - Chain [1] start processing\n",
      "23:16:39 - cmdstanpy - INFO - Chain [1] start processing\n",
      "23:16:39 - cmdstanpy - INFO - Chain [1] done processing\n",
      "23:16:39 - cmdstanpy - INFO - Chain [1] start processing\n",
      "23:16:40 - cmdstanpy - INFO - Chain [1] done processing\n",
      "23:16:40 - cmdstanpy - INFO - Chain [1] start processing\n",
      "23:16:40 - cmdstanpy - INFO - Chain [1] start processing\n",
      "23:16:40 - cmdstanpy - INFO - Chain [1] done processing\n",
      "23:16:41 - cmdstanpy - INFO - Chain [1] done processing\n",
      "23:16:41 - cmdstanpy - INFO - Chain [1] done processing\n"
     ]
    },
    {
     "name": "stdout",
     "output_type": "stream",
     "text": [
      "{'changepoint_prior_scale': 0.201, 'holidays_prior_scale': 5.01, 'seasonality_mode': 'multiplicative', 'seasonality_prior_scale': 7.51}\n"
     ]
    },
    {
     "name": "stderr",
     "output_type": "stream",
     "text": [
      "23:16:42 - cmdstanpy - INFO - Chain [1] start processing\n",
      "23:16:43 - cmdstanpy - INFO - Chain [1] done processing\n",
      "23:16:44 - cmdstanpy - INFO - Chain [1] start processing\n",
      "23:16:45 - cmdstanpy - INFO - Chain [1] start processing\n",
      "23:16:45 - cmdstanpy - INFO - Chain [1] done processing\n",
      "23:16:45 - cmdstanpy - INFO - Chain [1] start processing\n",
      "23:16:45 - cmdstanpy - INFO - Chain [1] done processing\n",
      "23:16:45 - cmdstanpy - INFO - Chain [1] start processing\n",
      "23:16:45 - cmdstanpy - INFO - Chain [1] start processing\n",
      "23:16:46 - cmdstanpy - INFO - Chain [1] done processing\n",
      "23:16:46 - cmdstanpy - INFO - Chain [1] done processing\n",
      "23:16:47 - cmdstanpy - INFO - Chain [1] done processing\n"
     ]
    },
    {
     "name": "stdout",
     "output_type": "stream",
     "text": [
      "{'changepoint_prior_scale': 0.201, 'holidays_prior_scale': 5.01, 'seasonality_mode': 'additive', 'seasonality_prior_scale': 0.01}\n"
     ]
    },
    {
     "name": "stderr",
     "output_type": "stream",
     "text": [
      "23:16:48 - cmdstanpy - INFO - Chain [1] start processing\n",
      "23:16:48 - cmdstanpy - INFO - Chain [1] done processing\n",
      "23:16:48 - cmdstanpy - ERROR - Chain [1] error: error during processing Operation not permitted\n",
      "Optimization terminated abnormally. Falling back to Newton.\n",
      "23:16:49 - cmdstanpy - INFO - Chain [1] start processing\n",
      "23:17:36 - cmdstanpy - INFO - Chain [1] done processing\n",
      "23:17:37 - cmdstanpy - INFO - Chain [1] start processing\n",
      "23:17:37 - cmdstanpy - INFO - Chain [1] done processing\n",
      "23:17:38 - cmdstanpy - INFO - Chain [1] start processing\n",
      "23:17:38 - cmdstanpy - INFO - Chain [1] start processing\n",
      "23:17:38 - cmdstanpy - INFO - Chain [1] done processing\n",
      "23:17:38 - cmdstanpy - INFO - Chain [1] start processing\n",
      "23:17:38 - cmdstanpy - INFO - Chain [1] done processing\n",
      "23:17:38 - cmdstanpy - ERROR - Chain [1] error: error during processing Operation not permitted\n",
      "Optimization terminated abnormally. Falling back to Newton.\n",
      "23:17:38 - cmdstanpy - INFO - Chain [1] start processing\n",
      "23:17:38 - cmdstanpy - INFO - Chain [1] done processing\n",
      "23:17:38 - cmdstanpy - ERROR - Chain [1] error: error during processing Operation not permitted\n",
      "Optimization terminated abnormally. Falling back to Newton.\n",
      "23:17:39 - cmdstanpy - INFO - Chain [1] start processing\n",
      "23:17:39 - cmdstanpy - INFO - Chain [1] done processing\n",
      "23:17:39 - cmdstanpy - ERROR - Chain [1] error: error during processing Operation not permitted\n",
      "Optimization terminated abnormally. Falling back to Newton.\n",
      "23:17:39 - cmdstanpy - INFO - Chain [1] start processing\n",
      "23:17:39 - cmdstanpy - INFO - Chain [1] start processing\n",
      "23:18:37 - cmdstanpy - INFO - Chain [1] done processing\n",
      "23:18:38 - cmdstanpy - INFO - Chain [1] done processing\n",
      "23:18:44 - cmdstanpy - INFO - Chain [1] done processing\n"
     ]
    },
    {
     "name": "stdout",
     "output_type": "stream",
     "text": [
      "{'changepoint_prior_scale': 0.201, 'holidays_prior_scale': 5.01, 'seasonality_mode': 'additive', 'seasonality_prior_scale': 2.51}\n"
     ]
    },
    {
     "name": "stderr",
     "output_type": "stream",
     "text": [
      "23:18:45 - cmdstanpy - INFO - Chain [1] start processing\n",
      "23:18:45 - cmdstanpy - INFO - Chain [1] done processing\n",
      "23:18:45 - cmdstanpy - ERROR - Chain [1] error: error during processing Operation not permitted\n",
      "Optimization terminated abnormally. Falling back to Newton.\n",
      "23:18:46 - cmdstanpy - INFO - Chain [1] start processing\n",
      "23:19:29 - cmdstanpy - INFO - Chain [1] done processing\n",
      "23:19:31 - cmdstanpy - INFO - Chain [1] start processing\n",
      "23:19:31 - cmdstanpy - INFO - Chain [1] done processing\n",
      "23:19:31 - cmdstanpy - INFO - Chain [1] start processing\n",
      "23:19:31 - cmdstanpy - INFO - Chain [1] done processing\n",
      "23:19:31 - cmdstanpy - INFO - Chain [1] start processing\n",
      "23:19:32 - cmdstanpy - INFO - Chain [1] done processing\n",
      "23:19:32 - cmdstanpy - ERROR - Chain [1] error: error during processing Operation not permitted\n",
      "Optimization terminated abnormally. Falling back to Newton.\n",
      "23:19:32 - cmdstanpy - INFO - Chain [1] start processing\n",
      "23:19:32 - cmdstanpy - INFO - Chain [1] start processing\n",
      "23:19:32 - cmdstanpy - INFO - Chain [1] done processing\n",
      "23:19:32 - cmdstanpy - ERROR - Chain [1] error: error during processing Operation not permitted\n",
      "Optimization terminated abnormally. Falling back to Newton.\n",
      "23:19:32 - cmdstanpy - INFO - Chain [1] start processing\n",
      "23:19:32 - cmdstanpy - INFO - Chain [1] done processing\n",
      "23:19:32 - cmdstanpy - ERROR - Chain [1] error: error during processing Operation not permitted\n",
      "Optimization terminated abnormally. Falling back to Newton.\n",
      "23:19:33 - cmdstanpy - INFO - Chain [1] start processing\n",
      "23:19:33 - cmdstanpy - INFO - Chain [1] start processing\n",
      "23:20:32 - cmdstanpy - INFO - Chain [1] done processing\n",
      "23:20:47 - cmdstanpy - INFO - Chain [1] done processing\n",
      "23:20:49 - cmdstanpy - INFO - Chain [1] done processing\n"
     ]
    },
    {
     "name": "stdout",
     "output_type": "stream",
     "text": [
      "{'changepoint_prior_scale': 0.201, 'holidays_prior_scale': 5.01, 'seasonality_mode': 'additive', 'seasonality_prior_scale': 5.01}\n"
     ]
    },
    {
     "name": "stderr",
     "output_type": "stream",
     "text": [
      "23:20:50 - cmdstanpy - INFO - Chain [1] start processing\n",
      "23:20:51 - cmdstanpy - INFO - Chain [1] done processing\n",
      "23:20:51 - cmdstanpy - ERROR - Chain [1] error: error during processing Operation not permitted\n",
      "Optimization terminated abnormally. Falling back to Newton.\n",
      "23:20:51 - cmdstanpy - INFO - Chain [1] start processing\n",
      "23:21:35 - cmdstanpy - INFO - Chain [1] done processing\n",
      "23:21:37 - cmdstanpy - INFO - Chain [1] start processing\n",
      "23:21:37 - cmdstanpy - INFO - Chain [1] done processing\n",
      "23:21:37 - cmdstanpy - INFO - Chain [1] start processing\n",
      "23:21:38 - cmdstanpy - INFO - Chain [1] done processing\n",
      "23:21:38 - cmdstanpy - INFO - Chain [1] start processing\n",
      "23:21:38 - cmdstanpy - INFO - Chain [1] start processing\n",
      "23:21:38 - cmdstanpy - INFO - Chain [1] done processing\n",
      "23:21:38 - cmdstanpy - ERROR - Chain [1] error: error during processing Operation not permitted\n",
      "Optimization terminated abnormally. Falling back to Newton.\n",
      "23:21:38 - cmdstanpy - INFO - Chain [1] start processing\n",
      "23:21:38 - cmdstanpy - INFO - Chain [1] done processing\n",
      "23:21:38 - cmdstanpy - ERROR - Chain [1] error: error during processing Operation not permitted\n",
      "Optimization terminated abnormally. Falling back to Newton.\n",
      "23:21:38 - cmdstanpy - INFO - Chain [1] done processing\n",
      "23:21:38 - cmdstanpy - ERROR - Chain [1] error: error during processing Operation not permitted\n",
      "Optimization terminated abnormally. Falling back to Newton.\n",
      "23:21:38 - cmdstanpy - INFO - Chain [1] start processing\n",
      "23:21:39 - cmdstanpy - INFO - Chain [1] start processing\n",
      "23:21:39 - cmdstanpy - INFO - Chain [1] start processing\n",
      "23:22:32 - cmdstanpy - INFO - Chain [1] done processing\n",
      "23:22:44 - cmdstanpy - INFO - Chain [1] done processing\n",
      "23:23:06 - cmdstanpy - INFO - Chain [1] done processing\n"
     ]
    },
    {
     "name": "stdout",
     "output_type": "stream",
     "text": [
      "{'changepoint_prior_scale': 0.201, 'holidays_prior_scale': 5.01, 'seasonality_mode': 'additive', 'seasonality_prior_scale': 7.51}\n"
     ]
    },
    {
     "name": "stderr",
     "output_type": "stream",
     "text": [
      "23:23:08 - cmdstanpy - INFO - Chain [1] start processing\n",
      "23:23:08 - cmdstanpy - INFO - Chain [1] done processing\n",
      "23:23:08 - cmdstanpy - ERROR - Chain [1] error: error during processing Operation not permitted\n",
      "Optimization terminated abnormally. Falling back to Newton.\n",
      "23:23:09 - cmdstanpy - INFO - Chain [1] start processing\n",
      "23:23:56 - cmdstanpy - INFO - Chain [1] done processing\n",
      "23:23:57 - cmdstanpy - INFO - Chain [1] start processing\n",
      "23:23:57 - cmdstanpy - INFO - Chain [1] done processing\n",
      "23:23:57 - cmdstanpy - INFO - Chain [1] start processing\n",
      "23:23:58 - cmdstanpy - INFO - Chain [1] done processing\n",
      "23:23:58 - cmdstanpy - INFO - Chain [1] start processing\n",
      "23:23:58 - cmdstanpy - INFO - Chain [1] start processing\n",
      "23:23:58 - cmdstanpy - INFO - Chain [1] done processing\n",
      "23:23:58 - cmdstanpy - ERROR - Chain [1] error: error during processing Operation not permitted\n",
      "Optimization terminated abnormally. Falling back to Newton.\n",
      "23:23:58 - cmdstanpy - INFO - Chain [1] start processing\n",
      "23:23:58 - cmdstanpy - INFO - Chain [1] done processing\n",
      "23:23:58 - cmdstanpy - ERROR - Chain [1] error: error during processing Operation not permitted\n",
      "Optimization terminated abnormally. Falling back to Newton.\n",
      "23:23:58 - cmdstanpy - INFO - Chain [1] done processing\n",
      "23:23:58 - cmdstanpy - ERROR - Chain [1] error: error during processing Operation not permitted\n",
      "Optimization terminated abnormally. Falling back to Newton.\n",
      "23:23:58 - cmdstanpy - INFO - Chain [1] start processing\n",
      "23:23:59 - cmdstanpy - INFO - Chain [1] start processing\n",
      "23:23:59 - cmdstanpy - INFO - Chain [1] start processing\n",
      "23:24:47 - cmdstanpy - INFO - Chain [1] done processing\n",
      "23:25:03 - cmdstanpy - INFO - Chain [1] done processing\n",
      "23:25:20 - cmdstanpy - INFO - Chain [1] done processing\n"
     ]
    },
    {
     "name": "stdout",
     "output_type": "stream",
     "text": [
      "{'changepoint_prior_scale': 0.201, 'holidays_prior_scale': 7.51, 'seasonality_mode': 'multiplicative', 'seasonality_prior_scale': 0.01}\n"
     ]
    },
    {
     "name": "stderr",
     "output_type": "stream",
     "text": [
      "23:25:22 - cmdstanpy - INFO - Chain [1] start processing\n",
      "23:25:22 - cmdstanpy - INFO - Chain [1] done processing\n",
      "23:25:23 - cmdstanpy - INFO - Chain [1] start processing\n",
      "23:25:24 - cmdstanpy - INFO - Chain [1] done processing\n",
      "23:25:24 - cmdstanpy - INFO - Chain [1] start processing\n",
      "23:25:24 - cmdstanpy - INFO - Chain [1] start processing\n",
      "23:25:24 - cmdstanpy - INFO - Chain [1] done processing\n",
      "23:25:25 - cmdstanpy - INFO - Chain [1] start processing\n",
      "23:25:25 - cmdstanpy - INFO - Chain [1] start processing\n",
      "23:25:25 - cmdstanpy - INFO - Chain [1] done processing\n",
      "23:25:25 - cmdstanpy - INFO - Chain [1] done processing\n",
      "23:25:26 - cmdstanpy - INFO - Chain [1] done processing\n"
     ]
    },
    {
     "name": "stdout",
     "output_type": "stream",
     "text": [
      "{'changepoint_prior_scale': 0.201, 'holidays_prior_scale': 7.51, 'seasonality_mode': 'multiplicative', 'seasonality_prior_scale': 2.51}\n"
     ]
    },
    {
     "name": "stderr",
     "output_type": "stream",
     "text": [
      "23:25:27 - cmdstanpy - INFO - Chain [1] start processing\n",
      "23:25:27 - cmdstanpy - INFO - Chain [1] done processing\n",
      "23:25:29 - cmdstanpy - INFO - Chain [1] start processing\n",
      "23:25:29 - cmdstanpy - INFO - Chain [1] done processing\n",
      "23:25:29 - cmdstanpy - INFO - Chain [1] start processing\n",
      "23:25:30 - cmdstanpy - INFO - Chain [1] start processing\n",
      "23:25:30 - cmdstanpy - INFO - Chain [1] done processing\n",
      "23:25:30 - cmdstanpy - INFO - Chain [1] start processing\n",
      "23:25:30 - cmdstanpy - INFO - Chain [1] done processing\n",
      "23:25:30 - cmdstanpy - INFO - Chain [1] start processing\n",
      "23:25:31 - cmdstanpy - INFO - Chain [1] done processing\n",
      "23:25:31 - cmdstanpy - INFO - Chain [1] done processing\n"
     ]
    },
    {
     "name": "stdout",
     "output_type": "stream",
     "text": [
      "{'changepoint_prior_scale': 0.201, 'holidays_prior_scale': 7.51, 'seasonality_mode': 'multiplicative', 'seasonality_prior_scale': 5.01}\n"
     ]
    },
    {
     "name": "stderr",
     "output_type": "stream",
     "text": [
      "23:25:33 - cmdstanpy - INFO - Chain [1] start processing\n",
      "23:25:33 - cmdstanpy - INFO - Chain [1] done processing\n",
      "23:25:34 - cmdstanpy - INFO - Chain [1] start processing\n",
      "23:25:35 - cmdstanpy - INFO - Chain [1] done processing\n",
      "23:25:35 - cmdstanpy - INFO - Chain [1] start processing\n",
      "23:25:35 - cmdstanpy - INFO - Chain [1] start processing\n",
      "23:25:35 - cmdstanpy - INFO - Chain [1] start processing\n",
      "23:25:35 - cmdstanpy - INFO - Chain [1] done processing\n",
      "23:25:35 - cmdstanpy - INFO - Chain [1] start processing\n",
      "23:25:36 - cmdstanpy - INFO - Chain [1] done processing\n",
      "23:25:36 - cmdstanpy - INFO - Chain [1] done processing\n",
      "23:25:37 - cmdstanpy - INFO - Chain [1] done processing\n"
     ]
    },
    {
     "name": "stdout",
     "output_type": "stream",
     "text": [
      "{'changepoint_prior_scale': 0.201, 'holidays_prior_scale': 7.51, 'seasonality_mode': 'multiplicative', 'seasonality_prior_scale': 7.51}\n"
     ]
    },
    {
     "name": "stderr",
     "output_type": "stream",
     "text": [
      "23:25:38 - cmdstanpy - INFO - Chain [1] start processing\n",
      "23:25:38 - cmdstanpy - INFO - Chain [1] done processing\n",
      "23:25:40 - cmdstanpy - INFO - Chain [1] start processing\n",
      "23:25:40 - cmdstanpy - INFO - Chain [1] start processing\n",
      "23:25:40 - cmdstanpy - INFO - Chain [1] done processing\n",
      "23:25:40 - cmdstanpy - INFO - Chain [1] start processing\n",
      "23:25:41 - cmdstanpy - INFO - Chain [1] start processing\n",
      "23:25:41 - cmdstanpy - INFO - Chain [1] done processing\n",
      "23:25:41 - cmdstanpy - INFO - Chain [1] done processing\n",
      "23:25:41 - cmdstanpy - INFO - Chain [1] start processing\n",
      "23:25:42 - cmdstanpy - INFO - Chain [1] done processing\n",
      "23:25:42 - cmdstanpy - INFO - Chain [1] done processing\n"
     ]
    },
    {
     "name": "stdout",
     "output_type": "stream",
     "text": [
      "{'changepoint_prior_scale': 0.201, 'holidays_prior_scale': 7.51, 'seasonality_mode': 'additive', 'seasonality_prior_scale': 0.01}\n"
     ]
    },
    {
     "name": "stderr",
     "output_type": "stream",
     "text": [
      "23:25:43 - cmdstanpy - INFO - Chain [1] start processing\n",
      "23:25:44 - cmdstanpy - INFO - Chain [1] done processing\n",
      "23:25:44 - cmdstanpy - ERROR - Chain [1] error: error during processing Operation not permitted\n",
      "Optimization terminated abnormally. Falling back to Newton.\n",
      "23:25:44 - cmdstanpy - INFO - Chain [1] start processing\n",
      "23:26:30 - cmdstanpy - INFO - Chain [1] done processing\n",
      "23:26:32 - cmdstanpy - INFO - Chain [1] start processing\n",
      "23:26:32 - cmdstanpy - INFO - Chain [1] done processing\n",
      "23:26:32 - cmdstanpy - INFO - Chain [1] start processing\n",
      "23:26:32 - cmdstanpy - INFO - Chain [1] done processing\n",
      "23:26:33 - cmdstanpy - INFO - Chain [1] start processing\n",
      "23:26:33 - cmdstanpy - INFO - Chain [1] start processing\n",
      "23:26:33 - cmdstanpy - INFO - Chain [1] done processing\n",
      "23:26:33 - cmdstanpy - ERROR - Chain [1] error: error during processing Operation not permitted\n",
      "Optimization terminated abnormally. Falling back to Newton.\n",
      "23:26:33 - cmdstanpy - INFO - Chain [1] done processing\n",
      "23:26:33 - cmdstanpy - ERROR - Chain [1] error: error during processing Operation not permitted\n",
      "Optimization terminated abnormally. Falling back to Newton.\n",
      "23:26:33 - cmdstanpy - INFO - Chain [1] start processing\n",
      "23:26:33 - cmdstanpy - INFO - Chain [1] done processing\n",
      "23:26:33 - cmdstanpy - ERROR - Chain [1] error: error during processing Operation not permitted\n",
      "Optimization terminated abnormally. Falling back to Newton.\n",
      "23:26:33 - cmdstanpy - INFO - Chain [1] start processing\n",
      "23:26:34 - cmdstanpy - INFO - Chain [1] start processing\n",
      "23:26:34 - cmdstanpy - INFO - Chain [1] start processing\n",
      "23:27:27 - cmdstanpy - INFO - Chain [1] done processing\n",
      "23:27:28 - cmdstanpy - INFO - Chain [1] done processing\n",
      "23:27:41 - cmdstanpy - INFO - Chain [1] done processing\n"
     ]
    },
    {
     "name": "stdout",
     "output_type": "stream",
     "text": [
      "{'changepoint_prior_scale': 0.201, 'holidays_prior_scale': 7.51, 'seasonality_mode': 'additive', 'seasonality_prior_scale': 2.51}\n"
     ]
    },
    {
     "name": "stderr",
     "output_type": "stream",
     "text": [
      "23:27:43 - cmdstanpy - INFO - Chain [1] start processing\n",
      "23:27:43 - cmdstanpy - INFO - Chain [1] done processing\n",
      "23:27:43 - cmdstanpy - ERROR - Chain [1] error: error during processing Operation not permitted\n",
      "Optimization terminated abnormally. Falling back to Newton.\n",
      "23:27:44 - cmdstanpy - INFO - Chain [1] start processing\n",
      "23:28:31 - cmdstanpy - INFO - Chain [1] done processing\n",
      "23:28:33 - cmdstanpy - INFO - Chain [1] start processing\n",
      "23:28:33 - cmdstanpy - INFO - Chain [1] done processing\n",
      "23:28:33 - cmdstanpy - INFO - Chain [1] start processing\n",
      "23:28:33 - cmdstanpy - INFO - Chain [1] done processing\n",
      "23:28:33 - cmdstanpy - INFO - Chain [1] start processing\n",
      "23:28:34 - cmdstanpy - INFO - Chain [1] start processing\n",
      "23:28:34 - cmdstanpy - INFO - Chain [1] done processing\n",
      "23:28:34 - cmdstanpy - ERROR - Chain [1] error: error during processing Operation not permitted\n",
      "Optimization terminated abnormally. Falling back to Newton.\n",
      "23:28:34 - cmdstanpy - INFO - Chain [1] done processing\n",
      "23:28:34 - cmdstanpy - ERROR - Chain [1] error: error during processing Operation not permitted\n",
      "Optimization terminated abnormally. Falling back to Newton.\n",
      "23:28:34 - cmdstanpy - INFO - Chain [1] start processing\n",
      "23:28:34 - cmdstanpy - INFO - Chain [1] done processing\n",
      "23:28:34 - cmdstanpy - ERROR - Chain [1] error: error during processing Operation not permitted\n",
      "Optimization terminated abnormally. Falling back to Newton.\n",
      "23:28:34 - cmdstanpy - INFO - Chain [1] start processing\n",
      "23:28:35 - cmdstanpy - INFO - Chain [1] start processing\n",
      "23:28:35 - cmdstanpy - INFO - Chain [1] start processing\n",
      "23:29:32 - cmdstanpy - INFO - Chain [1] done processing\n",
      "23:29:50 - cmdstanpy - INFO - Chain [1] done processing\n",
      "23:29:57 - cmdstanpy - INFO - Chain [1] done processing\n"
     ]
    },
    {
     "name": "stdout",
     "output_type": "stream",
     "text": [
      "{'changepoint_prior_scale': 0.201, 'holidays_prior_scale': 7.51, 'seasonality_mode': 'additive', 'seasonality_prior_scale': 5.01}\n"
     ]
    },
    {
     "name": "stderr",
     "output_type": "stream",
     "text": [
      "23:29:58 - cmdstanpy - INFO - Chain [1] start processing\n",
      "23:29:58 - cmdstanpy - INFO - Chain [1] done processing\n",
      "23:29:58 - cmdstanpy - ERROR - Chain [1] error: error during processing Operation not permitted\n",
      "Optimization terminated abnormally. Falling back to Newton.\n",
      "23:29:59 - cmdstanpy - INFO - Chain [1] start processing\n",
      "23:30:40 - cmdstanpy - INFO - Chain [1] done processing\n",
      "23:30:41 - cmdstanpy - INFO - Chain [1] start processing\n",
      "23:30:41 - cmdstanpy - INFO - Chain [1] done processing\n",
      "23:30:41 - cmdstanpy - INFO - Chain [1] start processing\n",
      "23:30:42 - cmdstanpy - INFO - Chain [1] start processing\n",
      "23:30:42 - cmdstanpy - INFO - Chain [1] done processing\n",
      "23:30:42 - cmdstanpy - INFO - Chain [1] start processing\n",
      "23:30:42 - cmdstanpy - INFO - Chain [1] done processing\n",
      "23:30:42 - cmdstanpy - ERROR - Chain [1] error: error during processing Operation not permitted\n",
      "Optimization terminated abnormally. Falling back to Newton.\n",
      "23:30:42 - cmdstanpy - INFO - Chain [1] start processing\n",
      "23:30:42 - cmdstanpy - INFO - Chain [1] done processing\n",
      "23:30:42 - cmdstanpy - ERROR - Chain [1] error: error during processing Operation not permitted\n",
      "Optimization terminated abnormally. Falling back to Newton.\n",
      "23:30:42 - cmdstanpy - INFO - Chain [1] done processing\n",
      "23:30:42 - cmdstanpy - ERROR - Chain [1] error: error during processing Operation not permitted\n",
      "Optimization terminated abnormally. Falling back to Newton.\n",
      "23:30:43 - cmdstanpy - INFO - Chain [1] start processing\n",
      "23:30:43 - cmdstanpy - INFO - Chain [1] start processing\n",
      "23:30:43 - cmdstanpy - INFO - Chain [1] start processing\n",
      "23:31:42 - cmdstanpy - INFO - Chain [1] done processing\n",
      "23:31:51 - cmdstanpy - INFO - Chain [1] done processing\n",
      "23:32:07 - cmdstanpy - INFO - Chain [1] done processing\n"
     ]
    },
    {
     "name": "stdout",
     "output_type": "stream",
     "text": [
      "{'changepoint_prior_scale': 0.201, 'holidays_prior_scale': 7.51, 'seasonality_mode': 'additive', 'seasonality_prior_scale': 7.51}\n"
     ]
    },
    {
     "name": "stderr",
     "output_type": "stream",
     "text": [
      "23:32:08 - cmdstanpy - INFO - Chain [1] start processing\n",
      "23:32:08 - cmdstanpy - INFO - Chain [1] done processing\n",
      "23:32:08 - cmdstanpy - ERROR - Chain [1] error: error during processing Operation not permitted\n",
      "Optimization terminated abnormally. Falling back to Newton.\n",
      "23:32:09 - cmdstanpy - INFO - Chain [1] start processing\n",
      "23:32:49 - cmdstanpy - INFO - Chain [1] done processing\n",
      "23:32:51 - cmdstanpy - INFO - Chain [1] start processing\n",
      "23:32:51 - cmdstanpy - INFO - Chain [1] done processing\n",
      "23:32:51 - cmdstanpy - INFO - Chain [1] start processing\n",
      "23:32:51 - cmdstanpy - INFO - Chain [1] done processing\n",
      "23:32:51 - cmdstanpy - INFO - Chain [1] start processing\n",
      "23:32:52 - cmdstanpy - INFO - Chain [1] done processing\n",
      "23:32:52 - cmdstanpy - ERROR - Chain [1] error: error during processing Operation not permitted\n",
      "Optimization terminated abnormally. Falling back to Newton.\n",
      "23:32:52 - cmdstanpy - INFO - Chain [1] start processing\n",
      "23:32:52 - cmdstanpy - INFO - Chain [1] start processing\n",
      "23:32:52 - cmdstanpy - INFO - Chain [1] done processing\n",
      "23:32:52 - cmdstanpy - ERROR - Chain [1] error: error during processing Operation not permitted\n",
      "Optimization terminated abnormally. Falling back to Newton.\n",
      "23:32:52 - cmdstanpy - INFO - Chain [1] done processing\n",
      "23:32:52 - cmdstanpy - ERROR - Chain [1] error: error during processing Operation not permitted\n",
      "Optimization terminated abnormally. Falling back to Newton.\n",
      "23:32:52 - cmdstanpy - INFO - Chain [1] start processing\n",
      "23:32:53 - cmdstanpy - INFO - Chain [1] start processing\n",
      "23:32:53 - cmdstanpy - INFO - Chain [1] start processing\n",
      "23:33:52 - cmdstanpy - INFO - Chain [1] done processing\n",
      "23:34:05 - cmdstanpy - INFO - Chain [1] done processing\n",
      "23:34:13 - cmdstanpy - INFO - Chain [1] done processing\n"
     ]
    },
    {
     "name": "stdout",
     "output_type": "stream",
     "text": [
      "{'changepoint_prior_scale': 0.30100000000000005, 'holidays_prior_scale': 0.01, 'seasonality_mode': 'multiplicative', 'seasonality_prior_scale': 0.01}\n"
     ]
    },
    {
     "name": "stderr",
     "output_type": "stream",
     "text": [
      "23:34:15 - cmdstanpy - INFO - Chain [1] start processing\n",
      "23:34:15 - cmdstanpy - INFO - Chain [1] done processing\n",
      "23:34:17 - cmdstanpy - INFO - Chain [1] start processing\n",
      "23:34:17 - cmdstanpy - INFO - Chain [1] done processing\n",
      "23:34:17 - cmdstanpy - INFO - Chain [1] start processing\n",
      "23:34:17 - cmdstanpy - INFO - Chain [1] start processing\n",
      "23:34:18 - cmdstanpy - INFO - Chain [1] start processing\n",
      "23:34:18 - cmdstanpy - INFO - Chain [1] done processing\n",
      "23:34:18 - cmdstanpy - INFO - Chain [1] start processing\n",
      "23:34:18 - cmdstanpy - INFO - Chain [1] done processing\n",
      "23:34:18 - cmdstanpy - INFO - Chain [1] done processing\n",
      "23:34:19 - cmdstanpy - INFO - Chain [1] done processing\n"
     ]
    },
    {
     "name": "stdout",
     "output_type": "stream",
     "text": [
      "{'changepoint_prior_scale': 0.30100000000000005, 'holidays_prior_scale': 0.01, 'seasonality_mode': 'multiplicative', 'seasonality_prior_scale': 2.51}\n"
     ]
    },
    {
     "name": "stderr",
     "output_type": "stream",
     "text": [
      "23:34:20 - cmdstanpy - INFO - Chain [1] start processing\n",
      "23:34:21 - cmdstanpy - INFO - Chain [1] done processing\n",
      "23:34:23 - cmdstanpy - INFO - Chain [1] start processing\n",
      "23:34:23 - cmdstanpy - INFO - Chain [1] done processing\n",
      "23:34:23 - cmdstanpy - INFO - Chain [1] start processing\n",
      "23:34:23 - cmdstanpy - INFO - Chain [1] start processing\n",
      "23:34:23 - cmdstanpy - INFO - Chain [1] start processing\n",
      "23:34:23 - cmdstanpy - INFO - Chain [1] done processing\n",
      "23:34:24 - cmdstanpy - INFO - Chain [1] start processing\n",
      "23:34:24 - cmdstanpy - INFO - Chain [1] done processing\n",
      "23:34:24 - cmdstanpy - INFO - Chain [1] done processing\n",
      "23:34:25 - cmdstanpy - INFO - Chain [1] done processing\n"
     ]
    },
    {
     "name": "stdout",
     "output_type": "stream",
     "text": [
      "{'changepoint_prior_scale': 0.30100000000000005, 'holidays_prior_scale': 0.01, 'seasonality_mode': 'multiplicative', 'seasonality_prior_scale': 5.01}\n"
     ]
    },
    {
     "name": "stderr",
     "output_type": "stream",
     "text": [
      "23:34:26 - cmdstanpy - INFO - Chain [1] start processing\n",
      "23:34:27 - cmdstanpy - INFO - Chain [1] done processing\n",
      "23:34:28 - cmdstanpy - INFO - Chain [1] start processing\n",
      "23:34:28 - cmdstanpy - INFO - Chain [1] start processing\n",
      "23:34:29 - cmdstanpy - INFO - Chain [1] start processing\n",
      "23:34:29 - cmdstanpy - INFO - Chain [1] done processing\n",
      "23:34:29 - cmdstanpy - INFO - Chain [1] start processing\n",
      "23:34:29 - cmdstanpy - INFO - Chain [1] done processing\n",
      "23:34:29 - cmdstanpy - INFO - Chain [1] start processing\n",
      "23:34:30 - cmdstanpy - INFO - Chain [1] done processing\n",
      "23:34:30 - cmdstanpy - INFO - Chain [1] done processing\n",
      "23:34:31 - cmdstanpy - INFO - Chain [1] done processing\n"
     ]
    },
    {
     "name": "stdout",
     "output_type": "stream",
     "text": [
      "{'changepoint_prior_scale': 0.30100000000000005, 'holidays_prior_scale': 0.01, 'seasonality_mode': 'multiplicative', 'seasonality_prior_scale': 7.51}\n"
     ]
    },
    {
     "name": "stderr",
     "output_type": "stream",
     "text": [
      "23:34:33 - cmdstanpy - INFO - Chain [1] start processing\n",
      "23:34:33 - cmdstanpy - INFO - Chain [1] done processing\n",
      "23:34:35 - cmdstanpy - INFO - Chain [1] start processing\n",
      "23:34:35 - cmdstanpy - INFO - Chain [1] start processing\n",
      "23:34:35 - cmdstanpy - INFO - Chain [1] start processing\n",
      "23:34:35 - cmdstanpy - INFO - Chain [1] done processing\n",
      "23:34:35 - cmdstanpy - INFO - Chain [1] start processing\n",
      "23:34:36 - cmdstanpy - INFO - Chain [1] done processing\n",
      "23:34:36 - cmdstanpy - INFO - Chain [1] start processing\n",
      "23:34:36 - cmdstanpy - INFO - Chain [1] done processing\n",
      "23:34:37 - cmdstanpy - INFO - Chain [1] done processing\n",
      "23:34:37 - cmdstanpy - INFO - Chain [1] done processing\n"
     ]
    },
    {
     "name": "stdout",
     "output_type": "stream",
     "text": [
      "{'changepoint_prior_scale': 0.30100000000000005, 'holidays_prior_scale': 0.01, 'seasonality_mode': 'additive', 'seasonality_prior_scale': 0.01}\n"
     ]
    },
    {
     "name": "stderr",
     "output_type": "stream",
     "text": [
      "23:34:39 - cmdstanpy - INFO - Chain [1] start processing\n",
      "23:34:39 - cmdstanpy - INFO - Chain [1] done processing\n",
      "23:34:39 - cmdstanpy - ERROR - Chain [1] error: error during processing Operation not permitted\n",
      "Optimization terminated abnormally. Falling back to Newton.\n",
      "23:34:39 - cmdstanpy - INFO - Chain [1] start processing\n",
      "23:35:19 - cmdstanpy - INFO - Chain [1] done processing\n",
      "23:35:20 - cmdstanpy - INFO - Chain [1] start processing\n",
      "23:35:21 - cmdstanpy - INFO - Chain [1] done processing\n",
      "23:35:21 - cmdstanpy - INFO - Chain [1] start processing\n",
      "23:35:21 - cmdstanpy - INFO - Chain [1] done processing\n",
      "23:35:21 - cmdstanpy - INFO - Chain [1] start processing\n",
      "23:35:21 - cmdstanpy - INFO - Chain [1] done processing\n",
      "23:35:21 - cmdstanpy - ERROR - Chain [1] error: error during processing Operation not permitted\n",
      "Optimization terminated abnormally. Falling back to Newton.\n",
      "23:35:21 - cmdstanpy - INFO - Chain [1] start processing\n",
      "23:35:22 - cmdstanpy - INFO - Chain [1] start processing\n",
      "23:35:22 - cmdstanpy - INFO - Chain [1] done processing\n",
      "23:35:22 - cmdstanpy - ERROR - Chain [1] error: error during processing Operation not permitted\n",
      "Optimization terminated abnormally. Falling back to Newton.\n",
      "23:35:22 - cmdstanpy - INFO - Chain [1] start processing\n",
      "23:35:22 - cmdstanpy - INFO - Chain [1] done processing\n",
      "23:35:22 - cmdstanpy - ERROR - Chain [1] error: error during processing Operation not permitted\n",
      "Optimization terminated abnormally. Falling back to Newton.\n",
      "23:35:22 - cmdstanpy - INFO - Chain [1] start processing\n",
      "23:35:23 - cmdstanpy - INFO - Chain [1] start processing\n",
      "23:36:19 - cmdstanpy - INFO - Chain [1] done processing\n",
      "23:36:25 - cmdstanpy - INFO - Chain [1] done processing\n",
      "23:36:26 - cmdstanpy - INFO - Chain [1] done processing\n"
     ]
    },
    {
     "name": "stdout",
     "output_type": "stream",
     "text": [
      "{'changepoint_prior_scale': 0.30100000000000005, 'holidays_prior_scale': 0.01, 'seasonality_mode': 'additive', 'seasonality_prior_scale': 2.51}\n"
     ]
    },
    {
     "name": "stderr",
     "output_type": "stream",
     "text": [
      "23:36:28 - cmdstanpy - INFO - Chain [1] start processing\n",
      "23:36:28 - cmdstanpy - INFO - Chain [1] done processing\n",
      "23:36:28 - cmdstanpy - ERROR - Chain [1] error: error during processing Operation not permitted\n",
      "Optimization terminated abnormally. Falling back to Newton.\n",
      "23:36:29 - cmdstanpy - INFO - Chain [1] start processing\n",
      "23:37:10 - cmdstanpy - INFO - Chain [1] done processing\n",
      "23:37:11 - cmdstanpy - INFO - Chain [1] start processing\n",
      "23:37:11 - cmdstanpy - INFO - Chain [1] done processing\n",
      "23:37:12 - cmdstanpy - INFO - Chain [1] start processing\n",
      "23:37:12 - cmdstanpy - INFO - Chain [1] done processing\n",
      "23:37:12 - cmdstanpy - INFO - Chain [1] start processing\n",
      "23:37:12 - cmdstanpy - INFO - Chain [1] start processing\n",
      "23:37:12 - cmdstanpy - INFO - Chain [1] done processing\n",
      "23:37:12 - cmdstanpy - ERROR - Chain [1] error: error during processing Operation not permitted\n",
      "Optimization terminated abnormally. Falling back to Newton.\n",
      "23:37:13 - cmdstanpy - INFO - Chain [1] start processing\n",
      "23:37:13 - cmdstanpy - INFO - Chain [1] done processing\n",
      "23:37:13 - cmdstanpy - ERROR - Chain [1] error: error during processing Operation not permitted\n",
      "Optimization terminated abnormally. Falling back to Newton.\n",
      "23:37:13 - cmdstanpy - INFO - Chain [1] done processing\n",
      "23:37:13 - cmdstanpy - ERROR - Chain [1] error: error during processing Operation not permitted\n",
      "Optimization terminated abnormally. Falling back to Newton.\n",
      "23:37:13 - cmdstanpy - INFO - Chain [1] start processing\n",
      "23:37:13 - cmdstanpy - INFO - Chain [1] start processing\n",
      "23:37:14 - cmdstanpy - INFO - Chain [1] start processing\n",
      "23:38:14 - cmdstanpy - INFO - Chain [1] done processing\n",
      "23:38:19 - cmdstanpy - INFO - Chain [1] done processing\n",
      "23:38:23 - cmdstanpy - INFO - Chain [1] done processing\n"
     ]
    },
    {
     "name": "stdout",
     "output_type": "stream",
     "text": [
      "{'changepoint_prior_scale': 0.30100000000000005, 'holidays_prior_scale': 0.01, 'seasonality_mode': 'additive', 'seasonality_prior_scale': 5.01}\n"
     ]
    },
    {
     "name": "stderr",
     "output_type": "stream",
     "text": [
      "23:38:25 - cmdstanpy - INFO - Chain [1] start processing\n",
      "23:38:25 - cmdstanpy - INFO - Chain [1] done processing\n",
      "23:38:25 - cmdstanpy - ERROR - Chain [1] error: error during processing Operation not permitted\n",
      "Optimization terminated abnormally. Falling back to Newton.\n",
      "23:38:26 - cmdstanpy - INFO - Chain [1] start processing\n",
      "23:39:00 - cmdstanpy - INFO - Chain [1] done processing\n",
      "23:39:01 - cmdstanpy - INFO - Chain [1] start processing\n",
      "23:39:01 - cmdstanpy - INFO - Chain [1] done processing\n",
      "23:39:01 - cmdstanpy - INFO - Chain [1] start processing\n",
      "23:39:02 - cmdstanpy - INFO - Chain [1] done processing\n",
      "23:39:02 - cmdstanpy - INFO - Chain [1] start processing\n",
      "23:39:02 - cmdstanpy - INFO - Chain [1] done processing\n",
      "23:39:02 - cmdstanpy - ERROR - Chain [1] error: error during processing Operation not permitted\n",
      "Optimization terminated abnormally. Falling back to Newton.\n",
      "23:39:02 - cmdstanpy - INFO - Chain [1] start processing\n",
      "23:39:02 - cmdstanpy - INFO - Chain [1] start processing\n",
      "23:39:02 - cmdstanpy - INFO - Chain [1] done processing\n",
      "23:39:02 - cmdstanpy - ERROR - Chain [1] error: error during processing Operation not permitted\n",
      "Optimization terminated abnormally. Falling back to Newton.\n",
      "23:39:03 - cmdstanpy - INFO - Chain [1] done processing\n",
      "23:39:03 - cmdstanpy - ERROR - Chain [1] error: error during processing Operation not permitted\n",
      "Optimization terminated abnormally. Falling back to Newton.\n",
      "23:39:03 - cmdstanpy - INFO - Chain [1] start processing\n",
      "23:39:03 - cmdstanpy - INFO - Chain [1] start processing\n",
      "23:39:03 - cmdstanpy - INFO - Chain [1] start processing\n",
      "23:40:03 - cmdstanpy - INFO - Chain [1] done processing\n",
      "23:40:05 - cmdstanpy - INFO - Chain [1] done processing\n",
      "23:40:05 - cmdstanpy - INFO - Chain [1] done processing\n"
     ]
    },
    {
     "name": "stdout",
     "output_type": "stream",
     "text": [
      "{'changepoint_prior_scale': 0.30100000000000005, 'holidays_prior_scale': 0.01, 'seasonality_mode': 'additive', 'seasonality_prior_scale': 7.51}\n"
     ]
    },
    {
     "name": "stderr",
     "output_type": "stream",
     "text": [
      "23:40:07 - cmdstanpy - INFO - Chain [1] start processing\n",
      "23:40:07 - cmdstanpy - INFO - Chain [1] done processing\n",
      "23:40:07 - cmdstanpy - ERROR - Chain [1] error: error during processing Operation not permitted\n",
      "Optimization terminated abnormally. Falling back to Newton.\n",
      "23:40:08 - cmdstanpy - INFO - Chain [1] start processing\n",
      "23:40:57 - cmdstanpy - INFO - Chain [1] done processing\n",
      "23:40:59 - cmdstanpy - INFO - Chain [1] start processing\n",
      "23:40:59 - cmdstanpy - INFO - Chain [1] done processing\n",
      "23:40:59 - cmdstanpy - INFO - Chain [1] start processing\n",
      "23:40:59 - cmdstanpy - INFO - Chain [1] start processing\n",
      "23:40:59 - cmdstanpy - INFO - Chain [1] done processing\n",
      "23:41:00 - cmdstanpy - INFO - Chain [1] done processing\n",
      "23:41:00 - cmdstanpy - ERROR - Chain [1] error: error during processing Operation not permitted\n",
      "Optimization terminated abnormally. Falling back to Newton.\n",
      "23:41:00 - cmdstanpy - INFO - Chain [1] start processing\n",
      "23:41:00 - cmdstanpy - INFO - Chain [1] start processing\n",
      "23:41:00 - cmdstanpy - INFO - Chain [1] done processing\n",
      "23:41:00 - cmdstanpy - ERROR - Chain [1] error: error during processing Operation not permitted\n",
      "Optimization terminated abnormally. Falling back to Newton.\n",
      "23:41:00 - cmdstanpy - INFO - Chain [1] done processing\n",
      "23:41:00 - cmdstanpy - ERROR - Chain [1] error: error during processing Operation not permitted\n",
      "Optimization terminated abnormally. Falling back to Newton.\n",
      "23:41:00 - cmdstanpy - INFO - Chain [1] start processing\n",
      "23:41:01 - cmdstanpy - INFO - Chain [1] start processing\n",
      "23:41:01 - cmdstanpy - INFO - Chain [1] start processing\n",
      "23:41:54 - cmdstanpy - INFO - Chain [1] done processing\n",
      "23:42:05 - cmdstanpy - INFO - Chain [1] done processing\n",
      "23:42:07 - cmdstanpy - INFO - Chain [1] done processing\n"
     ]
    },
    {
     "name": "stdout",
     "output_type": "stream",
     "text": [
      "{'changepoint_prior_scale': 0.30100000000000005, 'holidays_prior_scale': 2.51, 'seasonality_mode': 'multiplicative', 'seasonality_prior_scale': 0.01}\n"
     ]
    },
    {
     "name": "stderr",
     "output_type": "stream",
     "text": [
      "23:42:08 - cmdstanpy - INFO - Chain [1] start processing\n",
      "23:42:09 - cmdstanpy - INFO - Chain [1] done processing\n",
      "23:42:10 - cmdstanpy - INFO - Chain [1] start processing\n",
      "23:42:11 - cmdstanpy - INFO - Chain [1] done processing\n",
      "23:42:11 - cmdstanpy - INFO - Chain [1] start processing\n",
      "23:42:11 - cmdstanpy - INFO - Chain [1] start processing\n",
      "23:42:11 - cmdstanpy - INFO - Chain [1] done processing\n",
      "23:42:11 - cmdstanpy - INFO - Chain [1] start processing\n",
      "23:42:12 - cmdstanpy - INFO - Chain [1] start processing\n",
      "23:42:12 - cmdstanpy - INFO - Chain [1] done processing\n",
      "23:42:12 - cmdstanpy - INFO - Chain [1] done processing\n",
      "23:42:12 - cmdstanpy - INFO - Chain [1] done processing\n"
     ]
    },
    {
     "name": "stdout",
     "output_type": "stream",
     "text": [
      "{'changepoint_prior_scale': 0.30100000000000005, 'holidays_prior_scale': 2.51, 'seasonality_mode': 'multiplicative', 'seasonality_prior_scale': 2.51}\n"
     ]
    },
    {
     "name": "stderr",
     "output_type": "stream",
     "text": [
      "23:42:14 - cmdstanpy - INFO - Chain [1] start processing\n",
      "23:42:15 - cmdstanpy - INFO - Chain [1] done processing\n",
      "23:42:16 - cmdstanpy - INFO - Chain [1] start processing\n",
      "23:42:16 - cmdstanpy - INFO - Chain [1] done processing\n",
      "23:42:17 - cmdstanpy - INFO - Chain [1] start processing\n",
      "23:42:17 - cmdstanpy - INFO - Chain [1] start processing\n",
      "23:42:17 - cmdstanpy - INFO - Chain [1] start processing\n",
      "23:42:17 - cmdstanpy - INFO - Chain [1] done processing\n",
      "23:42:17 - cmdstanpy - INFO - Chain [1] start processing\n",
      "23:42:17 - cmdstanpy - INFO - Chain [1] done processing\n",
      "23:42:18 - cmdstanpy - INFO - Chain [1] done processing\n",
      "23:42:18 - cmdstanpy - INFO - Chain [1] done processing\n"
     ]
    },
    {
     "name": "stdout",
     "output_type": "stream",
     "text": [
      "{'changepoint_prior_scale': 0.30100000000000005, 'holidays_prior_scale': 2.51, 'seasonality_mode': 'multiplicative', 'seasonality_prior_scale': 5.01}\n"
     ]
    },
    {
     "name": "stderr",
     "output_type": "stream",
     "text": [
      "23:42:20 - cmdstanpy - INFO - Chain [1] start processing\n",
      "23:42:20 - cmdstanpy - INFO - Chain [1] done processing\n",
      "23:42:22 - cmdstanpy - INFO - Chain [1] start processing\n",
      "23:42:22 - cmdstanpy - INFO - Chain [1] start processing\n",
      "23:42:22 - cmdstanpy - INFO - Chain [1] done processing\n",
      "23:42:22 - cmdstanpy - INFO - Chain [1] start processing\n",
      "23:42:23 - cmdstanpy - INFO - Chain [1] done processing\n",
      "23:42:23 - cmdstanpy - INFO - Chain [1] start processing\n",
      "23:42:23 - cmdstanpy - INFO - Chain [1] start processing\n",
      "23:42:23 - cmdstanpy - INFO - Chain [1] done processing\n",
      "23:42:24 - cmdstanpy - INFO - Chain [1] done processing\n",
      "23:42:24 - cmdstanpy - INFO - Chain [1] done processing\n"
     ]
    },
    {
     "name": "stdout",
     "output_type": "stream",
     "text": [
      "{'changepoint_prior_scale': 0.30100000000000005, 'holidays_prior_scale': 2.51, 'seasonality_mode': 'multiplicative', 'seasonality_prior_scale': 7.51}\n"
     ]
    },
    {
     "name": "stderr",
     "output_type": "stream",
     "text": [
      "23:42:26 - cmdstanpy - INFO - Chain [1] start processing\n",
      "23:42:26 - cmdstanpy - INFO - Chain [1] done processing\n",
      "23:42:28 - cmdstanpy - INFO - Chain [1] start processing\n",
      "23:42:28 - cmdstanpy - INFO - Chain [1] done processing\n",
      "23:42:28 - cmdstanpy - INFO - Chain [1] start processing\n",
      "23:42:28 - cmdstanpy - INFO - Chain [1] start processing\n",
      "23:42:29 - cmdstanpy - INFO - Chain [1] done processing\n",
      "23:42:29 - cmdstanpy - INFO - Chain [1] start processing\n",
      "23:42:29 - cmdstanpy - INFO - Chain [1] start processing\n",
      "23:42:29 - cmdstanpy - INFO - Chain [1] done processing\n",
      "23:42:29 - cmdstanpy - INFO - Chain [1] done processing\n",
      "23:42:30 - cmdstanpy - INFO - Chain [1] done processing\n"
     ]
    },
    {
     "name": "stdout",
     "output_type": "stream",
     "text": [
      "{'changepoint_prior_scale': 0.30100000000000005, 'holidays_prior_scale': 2.51, 'seasonality_mode': 'additive', 'seasonality_prior_scale': 0.01}\n"
     ]
    },
    {
     "name": "stderr",
     "output_type": "stream",
     "text": [
      "23:42:32 - cmdstanpy - INFO - Chain [1] start processing\n",
      "23:42:32 - cmdstanpy - INFO - Chain [1] done processing\n",
      "23:42:32 - cmdstanpy - ERROR - Chain [1] error: error during processing Operation not permitted\n",
      "Optimization terminated abnormally. Falling back to Newton.\n",
      "23:42:33 - cmdstanpy - INFO - Chain [1] start processing\n",
      "23:43:03 - cmdstanpy - INFO - Chain [1] done processing\n",
      "23:43:05 - cmdstanpy - INFO - Chain [1] start processing\n",
      "23:43:05 - cmdstanpy - INFO - Chain [1] done processing\n",
      "23:43:05 - cmdstanpy - INFO - Chain [1] start processing\n",
      "23:43:05 - cmdstanpy - INFO - Chain [1] done processing\n",
      "23:43:05 - cmdstanpy - INFO - Chain [1] start processing\n",
      "23:43:06 - cmdstanpy - INFO - Chain [1] done processing\n",
      "23:43:06 - cmdstanpy - ERROR - Chain [1] error: error during processing Operation not permitted\n",
      "Optimization terminated abnormally. Falling back to Newton.\n",
      "23:43:06 - cmdstanpy - INFO - Chain [1] start processing\n",
      "23:43:06 - cmdstanpy - INFO - Chain [1] start processing\n",
      "23:43:06 - cmdstanpy - INFO - Chain [1] done processing\n",
      "23:43:06 - cmdstanpy - ERROR - Chain [1] error: error during processing Operation not permitted\n",
      "Optimization terminated abnormally. Falling back to Newton.\n",
      "23:43:06 - cmdstanpy - INFO - Chain [1] start processing\n",
      "23:43:06 - cmdstanpy - INFO - Chain [1] done processing\n",
      "23:43:06 - cmdstanpy - ERROR - Chain [1] error: error during processing Operation not permitted\n",
      "Optimization terminated abnormally. Falling back to Newton.\n",
      "23:43:07 - cmdstanpy - INFO - Chain [1] start processing\n",
      "23:43:07 - cmdstanpy - INFO - Chain [1] start processing\n",
      "23:43:47 - cmdstanpy - INFO - Chain [1] done processing\n",
      "23:44:02 - cmdstanpy - INFO - Chain [1] done processing\n",
      "23:44:04 - cmdstanpy - INFO - Chain [1] done processing\n"
     ]
    },
    {
     "name": "stdout",
     "output_type": "stream",
     "text": [
      "{'changepoint_prior_scale': 0.30100000000000005, 'holidays_prior_scale': 2.51, 'seasonality_mode': 'additive', 'seasonality_prior_scale': 2.51}\n"
     ]
    },
    {
     "name": "stderr",
     "output_type": "stream",
     "text": [
      "23:44:06 - cmdstanpy - INFO - Chain [1] start processing\n",
      "23:44:06 - cmdstanpy - INFO - Chain [1] done processing\n",
      "23:44:06 - cmdstanpy - ERROR - Chain [1] error: error during processing Operation not permitted\n",
      "Optimization terminated abnormally. Falling back to Newton.\n",
      "23:44:07 - cmdstanpy - INFO - Chain [1] start processing\n",
      "23:44:43 - cmdstanpy - INFO - Chain [1] done processing\n",
      "23:44:45 - cmdstanpy - INFO - Chain [1] start processing\n",
      "23:44:45 - cmdstanpy - INFO - Chain [1] done processing\n",
      "23:44:45 - cmdstanpy - INFO - Chain [1] start processing\n",
      "23:44:45 - cmdstanpy - INFO - Chain [1] start processing\n",
      "23:44:45 - cmdstanpy - INFO - Chain [1] done processing\n",
      "23:44:46 - cmdstanpy - INFO - Chain [1] done processing\n",
      "23:44:46 - cmdstanpy - ERROR - Chain [1] error: error during processing Operation not permitted\n",
      "Optimization terminated abnormally. Falling back to Newton.\n",
      "23:44:46 - cmdstanpy - INFO - Chain [1] start processing\n",
      "23:44:46 - cmdstanpy - INFO - Chain [1] start processing\n",
      "23:44:46 - cmdstanpy - INFO - Chain [1] done processing\n",
      "23:44:46 - cmdstanpy - ERROR - Chain [1] error: error during processing Operation not permitted\n",
      "Optimization terminated abnormally. Falling back to Newton.\n",
      "23:44:46 - cmdstanpy - INFO - Chain [1] start processing\n",
      "23:44:46 - cmdstanpy - INFO - Chain [1] done processing\n",
      "23:44:46 - cmdstanpy - ERROR - Chain [1] error: error during processing Operation not permitted\n",
      "Optimization terminated abnormally. Falling back to Newton.\n",
      "23:44:47 - cmdstanpy - INFO - Chain [1] start processing\n",
      "23:44:47 - cmdstanpy - INFO - Chain [1] start processing\n",
      "23:45:53 - cmdstanpy - INFO - Chain [1] done processing\n",
      "23:45:54 - cmdstanpy - INFO - Chain [1] done processing\n",
      "23:45:58 - cmdstanpy - INFO - Chain [1] done processing\n"
     ]
    },
    {
     "name": "stdout",
     "output_type": "stream",
     "text": [
      "{'changepoint_prior_scale': 0.30100000000000005, 'holidays_prior_scale': 2.51, 'seasonality_mode': 'additive', 'seasonality_prior_scale': 5.01}\n"
     ]
    },
    {
     "name": "stderr",
     "output_type": "stream",
     "text": [
      "23:45:59 - cmdstanpy - INFO - Chain [1] start processing\n",
      "23:45:59 - cmdstanpy - INFO - Chain [1] done processing\n",
      "23:45:59 - cmdstanpy - ERROR - Chain [1] error: error during processing Operation not permitted\n",
      "Optimization terminated abnormally. Falling back to Newton.\n",
      "23:46:00 - cmdstanpy - INFO - Chain [1] start processing\n",
      "23:46:36 - cmdstanpy - INFO - Chain [1] done processing\n",
      "23:46:38 - cmdstanpy - INFO - Chain [1] start processing\n",
      "23:46:38 - cmdstanpy - INFO - Chain [1] done processing\n",
      "23:46:38 - cmdstanpy - INFO - Chain [1] start processing\n",
      "23:46:38 - cmdstanpy - INFO - Chain [1] start processing\n",
      "23:46:38 - cmdstanpy - INFO - Chain [1] done processing\n",
      "23:46:39 - cmdstanpy - INFO - Chain [1] done processing\n",
      "23:46:39 - cmdstanpy - ERROR - Chain [1] error: error during processing Operation not permitted\n",
      "Optimization terminated abnormally. Falling back to Newton.\n",
      "23:46:39 - cmdstanpy - INFO - Chain [1] start processing\n",
      "23:46:39 - cmdstanpy - INFO - Chain [1] start processing\n",
      "23:46:39 - cmdstanpy - INFO - Chain [1] done processing\n",
      "23:46:39 - cmdstanpy - ERROR - Chain [1] error: error during processing Operation not permitted\n",
      "Optimization terminated abnormally. Falling back to Newton.\n",
      "23:46:39 - cmdstanpy - INFO - Chain [1] start processing\n",
      "23:46:39 - cmdstanpy - INFO - Chain [1] done processing\n",
      "23:46:39 - cmdstanpy - ERROR - Chain [1] error: error during processing Operation not permitted\n",
      "Optimization terminated abnormally. Falling back to Newton.\n",
      "23:46:40 - cmdstanpy - INFO - Chain [1] start processing\n",
      "23:46:40 - cmdstanpy - INFO - Chain [1] start processing\n",
      "23:47:33 - cmdstanpy - INFO - Chain [1] done processing\n",
      "23:47:44 - cmdstanpy - INFO - Chain [1] done processing\n",
      "23:47:44 - cmdstanpy - INFO - Chain [1] done processing\n"
     ]
    },
    {
     "name": "stdout",
     "output_type": "stream",
     "text": [
      "{'changepoint_prior_scale': 0.30100000000000005, 'holidays_prior_scale': 2.51, 'seasonality_mode': 'additive', 'seasonality_prior_scale': 7.51}\n"
     ]
    },
    {
     "name": "stderr",
     "output_type": "stream",
     "text": [
      "23:47:46 - cmdstanpy - INFO - Chain [1] start processing\n",
      "23:47:46 - cmdstanpy - INFO - Chain [1] done processing\n",
      "23:47:46 - cmdstanpy - ERROR - Chain [1] error: error during processing Operation not permitted\n",
      "Optimization terminated abnormally. Falling back to Newton.\n",
      "23:47:47 - cmdstanpy - INFO - Chain [1] start processing\n",
      "23:48:28 - cmdstanpy - INFO - Chain [1] done processing\n",
      "23:48:29 - cmdstanpy - INFO - Chain [1] start processing\n",
      "23:48:29 - cmdstanpy - INFO - Chain [1] done processing\n",
      "23:48:29 - cmdstanpy - INFO - Chain [1] start processing\n",
      "23:48:30 - cmdstanpy - INFO - Chain [1] done processing\n",
      "23:48:30 - cmdstanpy - INFO - Chain [1] start processing\n",
      "23:48:30 - cmdstanpy - INFO - Chain [1] done processing\n",
      "23:48:30 - cmdstanpy - ERROR - Chain [1] error: error during processing Operation not permitted\n",
      "Optimization terminated abnormally. Falling back to Newton.\n",
      "23:48:30 - cmdstanpy - INFO - Chain [1] start processing\n",
      "23:48:30 - cmdstanpy - INFO - Chain [1] start processing\n",
      "23:48:30 - cmdstanpy - INFO - Chain [1] done processing\n",
      "23:48:30 - cmdstanpy - ERROR - Chain [1] error: error during processing Operation not permitted\n",
      "Optimization terminated abnormally. Falling back to Newton.\n",
      "23:48:31 - cmdstanpy - INFO - Chain [1] done processing\n",
      "23:48:31 - cmdstanpy - ERROR - Chain [1] error: error during processing Operation not permitted\n",
      "Optimization terminated abnormally. Falling back to Newton.\n",
      "23:48:31 - cmdstanpy - INFO - Chain [1] start processing\n",
      "23:48:31 - cmdstanpy - INFO - Chain [1] start processing\n",
      "23:48:31 - cmdstanpy - INFO - Chain [1] start processing\n",
      "23:49:33 - cmdstanpy - INFO - Chain [1] done processing\n",
      "23:49:33 - cmdstanpy - INFO - Chain [1] done processing\n",
      "23:49:38 - cmdstanpy - INFO - Chain [1] done processing\n"
     ]
    },
    {
     "name": "stdout",
     "output_type": "stream",
     "text": [
      "{'changepoint_prior_scale': 0.30100000000000005, 'holidays_prior_scale': 5.01, 'seasonality_mode': 'multiplicative', 'seasonality_prior_scale': 0.01}\n"
     ]
    },
    {
     "name": "stderr",
     "output_type": "stream",
     "text": [
      "23:49:40 - cmdstanpy - INFO - Chain [1] start processing\n",
      "23:49:40 - cmdstanpy - INFO - Chain [1] done processing\n",
      "23:49:42 - cmdstanpy - INFO - Chain [1] start processing\n",
      "23:49:42 - cmdstanpy - INFO - Chain [1] done processing\n",
      "23:49:42 - cmdstanpy - INFO - Chain [1] start processing\n",
      "23:49:42 - cmdstanpy - INFO - Chain [1] start processing\n",
      "23:49:42 - cmdstanpy - INFO - Chain [1] done processing\n",
      "23:49:42 - cmdstanpy - INFO - Chain [1] start processing\n",
      "23:49:43 - cmdstanpy - INFO - Chain [1] start processing\n",
      "23:49:43 - cmdstanpy - INFO - Chain [1] done processing\n",
      "23:49:43 - cmdstanpy - INFO - Chain [1] done processing\n",
      "23:49:44 - cmdstanpy - INFO - Chain [1] done processing\n"
     ]
    },
    {
     "name": "stdout",
     "output_type": "stream",
     "text": [
      "{'changepoint_prior_scale': 0.30100000000000005, 'holidays_prior_scale': 5.01, 'seasonality_mode': 'multiplicative', 'seasonality_prior_scale': 2.51}\n"
     ]
    },
    {
     "name": "stderr",
     "output_type": "stream",
     "text": [
      "23:49:46 - cmdstanpy - INFO - Chain [1] start processing\n",
      "23:49:46 - cmdstanpy - INFO - Chain [1] done processing\n",
      "23:49:48 - cmdstanpy - INFO - Chain [1] start processing\n",
      "23:49:48 - cmdstanpy - INFO - Chain [1] start processing\n",
      "23:49:48 - cmdstanpy - INFO - Chain [1] done processing\n",
      "23:49:48 - cmdstanpy - INFO - Chain [1] start processing\n",
      "23:49:48 - cmdstanpy - INFO - Chain [1] done processing\n",
      "23:49:49 - cmdstanpy - INFO - Chain [1] start processing\n",
      "23:49:49 - cmdstanpy - INFO - Chain [1] start processing\n",
      "23:49:49 - cmdstanpy - INFO - Chain [1] done processing\n",
      "23:49:50 - cmdstanpy - INFO - Chain [1] done processing\n",
      "23:49:50 - cmdstanpy - INFO - Chain [1] done processing\n"
     ]
    },
    {
     "name": "stdout",
     "output_type": "stream",
     "text": [
      "{'changepoint_prior_scale': 0.30100000000000005, 'holidays_prior_scale': 5.01, 'seasonality_mode': 'multiplicative', 'seasonality_prior_scale': 5.01}\n"
     ]
    },
    {
     "name": "stderr",
     "output_type": "stream",
     "text": [
      "23:49:51 - cmdstanpy - INFO - Chain [1] start processing\n",
      "23:49:52 - cmdstanpy - INFO - Chain [1] done processing\n",
      "23:49:53 - cmdstanpy - INFO - Chain [1] start processing\n",
      "23:49:54 - cmdstanpy - INFO - Chain [1] done processing\n",
      "23:49:54 - cmdstanpy - INFO - Chain [1] start processing\n",
      "23:49:54 - cmdstanpy - INFO - Chain [1] start processing\n",
      "23:49:54 - cmdstanpy - INFO - Chain [1] start processing\n",
      "23:49:54 - cmdstanpy - INFO - Chain [1] start processing\n",
      "23:49:54 - cmdstanpy - INFO - Chain [1] done processing\n",
      "23:49:55 - cmdstanpy - INFO - Chain [1] done processing\n",
      "23:49:55 - cmdstanpy - INFO - Chain [1] done processing\n",
      "23:49:56 - cmdstanpy - INFO - Chain [1] done processing\n"
     ]
    },
    {
     "name": "stdout",
     "output_type": "stream",
     "text": [
      "{'changepoint_prior_scale': 0.30100000000000005, 'holidays_prior_scale': 5.01, 'seasonality_mode': 'multiplicative', 'seasonality_prior_scale': 7.51}\n"
     ]
    },
    {
     "name": "stderr",
     "output_type": "stream",
     "text": [
      "23:49:57 - cmdstanpy - INFO - Chain [1] start processing\n",
      "23:49:58 - cmdstanpy - INFO - Chain [1] done processing\n",
      "23:50:00 - cmdstanpy - INFO - Chain [1] start processing\n",
      "23:50:00 - cmdstanpy - INFO - Chain [1] start processing\n",
      "23:50:00 - cmdstanpy - INFO - Chain [1] done processing\n",
      "23:50:00 - cmdstanpy - INFO - Chain [1] start processing\n",
      "23:50:00 - cmdstanpy - INFO - Chain [1] done processing\n",
      "23:50:00 - cmdstanpy - INFO - Chain [1] start processing\n",
      "23:50:01 - cmdstanpy - INFO - Chain [1] start processing\n",
      "23:50:01 - cmdstanpy - INFO - Chain [1] done processing\n",
      "23:50:01 - cmdstanpy - INFO - Chain [1] done processing\n",
      "23:50:02 - cmdstanpy - INFO - Chain [1] done processing\n"
     ]
    },
    {
     "name": "stdout",
     "output_type": "stream",
     "text": [
      "{'changepoint_prior_scale': 0.30100000000000005, 'holidays_prior_scale': 5.01, 'seasonality_mode': 'additive', 'seasonality_prior_scale': 0.01}\n"
     ]
    },
    {
     "name": "stderr",
     "output_type": "stream",
     "text": [
      "23:50:03 - cmdstanpy - INFO - Chain [1] start processing\n",
      "23:50:04 - cmdstanpy - INFO - Chain [1] done processing\n",
      "23:50:04 - cmdstanpy - ERROR - Chain [1] error: error during processing Operation not permitted\n",
      "Optimization terminated abnormally. Falling back to Newton.\n",
      "23:50:04 - cmdstanpy - INFO - Chain [1] start processing\n",
      "23:50:44 - cmdstanpy - INFO - Chain [1] done processing\n",
      "23:50:45 - cmdstanpy - INFO - Chain [1] start processing\n",
      "23:50:45 - cmdstanpy - INFO - Chain [1] done processing\n",
      "23:50:46 - cmdstanpy - INFO - Chain [1] start processing\n",
      "23:50:46 - cmdstanpy - INFO - Chain [1] start processing\n",
      "23:50:46 - cmdstanpy - INFO - Chain [1] done processing\n",
      "23:50:46 - cmdstanpy - INFO - Chain [1] start processing\n",
      "23:50:46 - cmdstanpy - INFO - Chain [1] done processing\n",
      "23:50:46 - cmdstanpy - ERROR - Chain [1] error: error during processing Operation not permitted\n",
      "Optimization terminated abnormally. Falling back to Newton.\n",
      "23:50:46 - cmdstanpy - INFO - Chain [1] start processing\n",
      "23:50:46 - cmdstanpy - INFO - Chain [1] done processing\n",
      "23:50:46 - cmdstanpy - ERROR - Chain [1] error: error during processing Operation not permitted\n",
      "Optimization terminated abnormally. Falling back to Newton.\n",
      "23:50:47 - cmdstanpy - INFO - Chain [1] done processing\n",
      "23:50:47 - cmdstanpy - ERROR - Chain [1] error: error during processing Operation not permitted\n",
      "Optimization terminated abnormally. Falling back to Newton.\n",
      "23:50:47 - cmdstanpy - INFO - Chain [1] start processing\n",
      "23:50:47 - cmdstanpy - INFO - Chain [1] start processing\n",
      "23:50:47 - cmdstanpy - INFO - Chain [1] start processing\n",
      "23:51:41 - cmdstanpy - INFO - Chain [1] done processing\n",
      "23:51:44 - cmdstanpy - INFO - Chain [1] done processing\n",
      "23:51:48 - cmdstanpy - INFO - Chain [1] done processing\n"
     ]
    },
    {
     "name": "stdout",
     "output_type": "stream",
     "text": [
      "{'changepoint_prior_scale': 0.30100000000000005, 'holidays_prior_scale': 5.01, 'seasonality_mode': 'additive', 'seasonality_prior_scale': 2.51}\n"
     ]
    },
    {
     "name": "stderr",
     "output_type": "stream",
     "text": [
      "23:51:49 - cmdstanpy - INFO - Chain [1] start processing\n",
      "23:51:49 - cmdstanpy - INFO - Chain [1] done processing\n",
      "23:51:49 - cmdstanpy - ERROR - Chain [1] error: error during processing Operation not permitted\n",
      "Optimization terminated abnormally. Falling back to Newton.\n",
      "23:51:50 - cmdstanpy - INFO - Chain [1] start processing\n",
      "23:52:26 - cmdstanpy - INFO - Chain [1] done processing\n",
      "23:52:28 - cmdstanpy - INFO - Chain [1] start processing\n",
      "23:52:28 - cmdstanpy - INFO - Chain [1] done processing\n",
      "23:52:28 - cmdstanpy - INFO - Chain [1] start processing\n",
      "23:52:28 - cmdstanpy - INFO - Chain [1] start processing\n",
      "23:52:28 - cmdstanpy - INFO - Chain [1] done processing\n",
      "23:52:29 - cmdstanpy - INFO - Chain [1] start processing\n",
      "23:52:29 - cmdstanpy - INFO - Chain [1] done processing\n",
      "23:52:29 - cmdstanpy - ERROR - Chain [1] error: error during processing Operation not permitted\n",
      "Optimization terminated abnormally. Falling back to Newton.\n",
      "23:52:29 - cmdstanpy - INFO - Chain [1] start processing\n",
      "23:52:29 - cmdstanpy - INFO - Chain [1] done processing\n",
      "23:52:29 - cmdstanpy - ERROR - Chain [1] error: error during processing Operation not permitted\n",
      "Optimization terminated abnormally. Falling back to Newton.\n",
      "23:52:29 - cmdstanpy - INFO - Chain [1] done processing\n",
      "23:52:29 - cmdstanpy - ERROR - Chain [1] error: error during processing Operation not permitted\n",
      "Optimization terminated abnormally. Falling back to Newton.\n",
      "23:52:29 - cmdstanpy - INFO - Chain [1] start processing\n",
      "23:52:30 - cmdstanpy - INFO - Chain [1] start processing\n",
      "23:52:30 - cmdstanpy - INFO - Chain [1] start processing\n",
      "23:53:29 - cmdstanpy - INFO - Chain [1] done processing\n",
      "23:53:30 - cmdstanpy - INFO - Chain [1] done processing\n",
      "23:53:37 - cmdstanpy - INFO - Chain [1] done processing\n"
     ]
    },
    {
     "name": "stdout",
     "output_type": "stream",
     "text": [
      "{'changepoint_prior_scale': 0.30100000000000005, 'holidays_prior_scale': 5.01, 'seasonality_mode': 'additive', 'seasonality_prior_scale': 5.01}\n"
     ]
    },
    {
     "name": "stderr",
     "output_type": "stream",
     "text": [
      "23:53:39 - cmdstanpy - INFO - Chain [1] start processing\n",
      "23:53:39 - cmdstanpy - INFO - Chain [1] done processing\n",
      "23:53:39 - cmdstanpy - ERROR - Chain [1] error: error during processing Operation not permitted\n",
      "Optimization terminated abnormally. Falling back to Newton.\n",
      "23:53:40 - cmdstanpy - INFO - Chain [1] start processing\n",
      "23:54:09 - cmdstanpy - INFO - Chain [1] done processing\n",
      "23:54:11 - cmdstanpy - INFO - Chain [1] start processing\n",
      "23:54:11 - cmdstanpy - INFO - Chain [1] done processing\n",
      "23:54:11 - cmdstanpy - INFO - Chain [1] start processing\n",
      "23:54:12 - cmdstanpy - INFO - Chain [1] start processing\n",
      "23:54:12 - cmdstanpy - INFO - Chain [1] done processing\n",
      "23:54:12 - cmdstanpy - INFO - Chain [1] start processing\n",
      "23:54:12 - cmdstanpy - INFO - Chain [1] done processing\n",
      "23:54:12 - cmdstanpy - ERROR - Chain [1] error: error during processing Operation not permitted\n",
      "Optimization terminated abnormally. Falling back to Newton.\n",
      "23:54:12 - cmdstanpy - INFO - Chain [1] start processing\n",
      "23:54:12 - cmdstanpy - INFO - Chain [1] done processing\n",
      "23:54:12 - cmdstanpy - ERROR - Chain [1] error: error during processing Operation not permitted\n",
      "Optimization terminated abnormally. Falling back to Newton.\n",
      "23:54:12 - cmdstanpy - INFO - Chain [1] done processing\n",
      "23:54:12 - cmdstanpy - ERROR - Chain [1] error: error during processing Operation not permitted\n",
      "Optimization terminated abnormally. Falling back to Newton.\n",
      "23:54:12 - cmdstanpy - INFO - Chain [1] start processing\n",
      "23:54:13 - cmdstanpy - INFO - Chain [1] start processing\n",
      "23:54:13 - cmdstanpy - INFO - Chain [1] start processing\n",
      "23:55:11 - cmdstanpy - INFO - Chain [1] done processing\n",
      "23:55:13 - cmdstanpy - INFO - Chain [1] done processing\n",
      "23:55:19 - cmdstanpy - INFO - Chain [1] done processing\n"
     ]
    },
    {
     "name": "stdout",
     "output_type": "stream",
     "text": [
      "{'changepoint_prior_scale': 0.30100000000000005, 'holidays_prior_scale': 5.01, 'seasonality_mode': 'additive', 'seasonality_prior_scale': 7.51}\n"
     ]
    },
    {
     "name": "stderr",
     "output_type": "stream",
     "text": [
      "23:55:20 - cmdstanpy - INFO - Chain [1] start processing\n",
      "23:55:21 - cmdstanpy - INFO - Chain [1] done processing\n",
      "23:55:21 - cmdstanpy - ERROR - Chain [1] error: error during processing Operation not permitted\n",
      "Optimization terminated abnormally. Falling back to Newton.\n",
      "23:55:21 - cmdstanpy - INFO - Chain [1] start processing\n",
      "23:56:04 - cmdstanpy - INFO - Chain [1] done processing\n",
      "23:56:05 - cmdstanpy - INFO - Chain [1] start processing\n",
      "23:56:06 - cmdstanpy - INFO - Chain [1] done processing\n",
      "23:56:06 - cmdstanpy - INFO - Chain [1] start processing\n",
      "23:56:06 - cmdstanpy - INFO - Chain [1] start processing\n",
      "23:56:06 - cmdstanpy - INFO - Chain [1] done processing\n",
      "23:56:06 - cmdstanpy - INFO - Chain [1] done processing\n",
      "23:56:06 - cmdstanpy - ERROR - Chain [1] error: error during processing Operation not permitted\n",
      "Optimization terminated abnormally. Falling back to Newton.\n",
      "23:56:07 - cmdstanpy - INFO - Chain [1] start processing\n",
      "23:56:07 - cmdstanpy - INFO - Chain [1] done processing\n",
      "23:56:07 - cmdstanpy - ERROR - Chain [1] error: error during processing Operation not permitted\n",
      "Optimization terminated abnormally. Falling back to Newton.\n",
      "23:56:07 - cmdstanpy - INFO - Chain [1] start processing\n",
      "23:56:07 - cmdstanpy - INFO - Chain [1] start processing\n",
      "23:56:07 - cmdstanpy - INFO - Chain [1] done processing\n",
      "23:56:07 - cmdstanpy - ERROR - Chain [1] error: error during processing Operation not permitted\n",
      "Optimization terminated abnormally. Falling back to Newton.\n",
      "23:56:07 - cmdstanpy - INFO - Chain [1] start processing\n",
      "23:56:08 - cmdstanpy - INFO - Chain [1] start processing\n",
      "23:57:11 - cmdstanpy - INFO - Chain [1] done processing\n",
      "23:57:15 - cmdstanpy - INFO - Chain [1] done processing\n",
      "23:57:16 - cmdstanpy - INFO - Chain [1] done processing\n"
     ]
    },
    {
     "name": "stdout",
     "output_type": "stream",
     "text": [
      "{'changepoint_prior_scale': 0.30100000000000005, 'holidays_prior_scale': 7.51, 'seasonality_mode': 'multiplicative', 'seasonality_prior_scale': 0.01}\n"
     ]
    },
    {
     "name": "stderr",
     "output_type": "stream",
     "text": [
      "23:57:17 - cmdstanpy - INFO - Chain [1] start processing\n",
      "23:57:18 - cmdstanpy - INFO - Chain [1] done processing\n",
      "23:57:19 - cmdstanpy - INFO - Chain [1] start processing\n",
      "23:57:19 - cmdstanpy - INFO - Chain [1] done processing\n",
      "23:57:20 - cmdstanpy - INFO - Chain [1] start processing\n",
      "23:57:20 - cmdstanpy - INFO - Chain [1] start processing\n",
      "23:57:20 - cmdstanpy - INFO - Chain [1] done processing\n",
      "23:57:20 - cmdstanpy - INFO - Chain [1] start processing\n",
      "23:57:20 - cmdstanpy - INFO - Chain [1] start processing\n",
      "23:57:20 - cmdstanpy - INFO - Chain [1] done processing\n",
      "23:57:21 - cmdstanpy - INFO - Chain [1] done processing\n",
      "23:57:21 - cmdstanpy - INFO - Chain [1] done processing\n"
     ]
    },
    {
     "name": "stdout",
     "output_type": "stream",
     "text": [
      "{'changepoint_prior_scale': 0.30100000000000005, 'holidays_prior_scale': 7.51, 'seasonality_mode': 'multiplicative', 'seasonality_prior_scale': 2.51}\n"
     ]
    },
    {
     "name": "stderr",
     "output_type": "stream",
     "text": [
      "23:57:23 - cmdstanpy - INFO - Chain [1] start processing\n",
      "23:57:23 - cmdstanpy - INFO - Chain [1] done processing\n",
      "23:57:25 - cmdstanpy - INFO - Chain [1] start processing\n",
      "23:57:25 - cmdstanpy - INFO - Chain [1] start processing\n",
      "23:57:25 - cmdstanpy - INFO - Chain [1] done processing\n",
      "23:57:25 - cmdstanpy - INFO - Chain [1] done processing\n",
      "23:57:26 - cmdstanpy - INFO - Chain [1] start processing\n",
      "23:57:26 - cmdstanpy - INFO - Chain [1] start processing\n",
      "23:57:26 - cmdstanpy - INFO - Chain [1] start processing\n",
      "23:57:26 - cmdstanpy - INFO - Chain [1] done processing\n",
      "23:57:27 - cmdstanpy - INFO - Chain [1] done processing\n",
      "23:57:27 - cmdstanpy - INFO - Chain [1] done processing\n"
     ]
    },
    {
     "name": "stdout",
     "output_type": "stream",
     "text": [
      "{'changepoint_prior_scale': 0.30100000000000005, 'holidays_prior_scale': 7.51, 'seasonality_mode': 'multiplicative', 'seasonality_prior_scale': 5.01}\n"
     ]
    },
    {
     "name": "stderr",
     "output_type": "stream",
     "text": [
      "23:57:29 - cmdstanpy - INFO - Chain [1] start processing\n",
      "23:57:29 - cmdstanpy - INFO - Chain [1] done processing\n",
      "23:57:31 - cmdstanpy - INFO - Chain [1] start processing\n",
      "23:57:31 - cmdstanpy - INFO - Chain [1] done processing\n",
      "23:57:31 - cmdstanpy - INFO - Chain [1] start processing\n",
      "23:57:31 - cmdstanpy - INFO - Chain [1] start processing\n",
      "23:57:32 - cmdstanpy - INFO - Chain [1] done processing\n",
      "23:57:32 - cmdstanpy - INFO - Chain [1] start processing\n",
      "23:57:32 - cmdstanpy - INFO - Chain [1] start processing\n",
      "23:57:32 - cmdstanpy - INFO - Chain [1] done processing\n",
      "23:57:33 - cmdstanpy - INFO - Chain [1] done processing\n",
      "23:57:33 - cmdstanpy - INFO - Chain [1] done processing\n"
     ]
    },
    {
     "name": "stdout",
     "output_type": "stream",
     "text": [
      "{'changepoint_prior_scale': 0.30100000000000005, 'holidays_prior_scale': 7.51, 'seasonality_mode': 'multiplicative', 'seasonality_prior_scale': 7.51}\n"
     ]
    },
    {
     "name": "stderr",
     "output_type": "stream",
     "text": [
      "23:57:35 - cmdstanpy - INFO - Chain [1] start processing\n",
      "23:57:35 - cmdstanpy - INFO - Chain [1] done processing\n",
      "23:57:37 - cmdstanpy - INFO - Chain [1] start processing\n",
      "23:57:37 - cmdstanpy - INFO - Chain [1] done processing\n",
      "23:57:37 - cmdstanpy - INFO - Chain [1] start processing\n",
      "23:57:37 - cmdstanpy - INFO - Chain [1] start processing\n",
      "23:57:37 - cmdstanpy - INFO - Chain [1] done processing\n",
      "23:57:37 - cmdstanpy - INFO - Chain [1] start processing\n",
      "23:57:38 - cmdstanpy - INFO - Chain [1] start processing\n",
      "23:57:39 - cmdstanpy - INFO - Chain [1] done processing\n",
      "23:57:39 - cmdstanpy - INFO - Chain [1] done processing\n",
      "23:57:39 - cmdstanpy - INFO - Chain [1] done processing\n"
     ]
    },
    {
     "name": "stdout",
     "output_type": "stream",
     "text": [
      "{'changepoint_prior_scale': 0.30100000000000005, 'holidays_prior_scale': 7.51, 'seasonality_mode': 'additive', 'seasonality_prior_scale': 0.01}\n"
     ]
    },
    {
     "name": "stderr",
     "output_type": "stream",
     "text": [
      "23:57:41 - cmdstanpy - INFO - Chain [1] start processing\n",
      "23:57:41 - cmdstanpy - INFO - Chain [1] done processing\n",
      "23:57:41 - cmdstanpy - ERROR - Chain [1] error: error during processing Operation not permitted\n",
      "Optimization terminated abnormally. Falling back to Newton.\n",
      "23:57:42 - cmdstanpy - INFO - Chain [1] start processing\n",
      "23:58:18 - cmdstanpy - INFO - Chain [1] done processing\n",
      "23:58:20 - cmdstanpy - INFO - Chain [1] start processing\n",
      "23:58:20 - cmdstanpy - INFO - Chain [1] done processing\n",
      "23:58:20 - cmdstanpy - INFO - Chain [1] start processing\n",
      "23:58:20 - cmdstanpy - INFO - Chain [1] start processing\n",
      "23:58:20 - cmdstanpy - INFO - Chain [1] done processing\n",
      "23:58:21 - cmdstanpy - INFO - Chain [1] done processing\n",
      "23:58:21 - cmdstanpy - ERROR - Chain [1] error: error during processing Operation not permitted\n",
      "Optimization terminated abnormally. Falling back to Newton.\n",
      "23:58:21 - cmdstanpy - INFO - Chain [1] start processing\n",
      "23:58:21 - cmdstanpy - INFO - Chain [1] start processing\n",
      "23:58:21 - cmdstanpy - INFO - Chain [1] done processing\n",
      "23:58:21 - cmdstanpy - ERROR - Chain [1] error: error during processing Operation not permitted\n",
      "Optimization terminated abnormally. Falling back to Newton.\n",
      "23:58:21 - cmdstanpy - INFO - Chain [1] start processing\n",
      "23:58:21 - cmdstanpy - INFO - Chain [1] done processing\n",
      "23:58:21 - cmdstanpy - ERROR - Chain [1] error: error during processing Operation not permitted\n",
      "Optimization terminated abnormally. Falling back to Newton.\n",
      "23:58:22 - cmdstanpy - INFO - Chain [1] start processing\n",
      "23:58:22 - cmdstanpy - INFO - Chain [1] start processing\n",
      "23:59:14 - cmdstanpy - INFO - Chain [1] done processing\n",
      "23:59:22 - cmdstanpy - INFO - Chain [1] done processing\n",
      "23:59:23 - cmdstanpy - INFO - Chain [1] done processing\n"
     ]
    },
    {
     "name": "stdout",
     "output_type": "stream",
     "text": [
      "{'changepoint_prior_scale': 0.30100000000000005, 'holidays_prior_scale': 7.51, 'seasonality_mode': 'additive', 'seasonality_prior_scale': 2.51}\n"
     ]
    },
    {
     "name": "stderr",
     "output_type": "stream",
     "text": [
      "23:59:25 - cmdstanpy - INFO - Chain [1] start processing\n",
      "23:59:25 - cmdstanpy - INFO - Chain [1] done processing\n",
      "23:59:25 - cmdstanpy - ERROR - Chain [1] error: error during processing Operation not permitted\n",
      "Optimization terminated abnormally. Falling back to Newton.\n",
      "23:59:26 - cmdstanpy - INFO - Chain [1] start processing\n",
      "00:00:01 - cmdstanpy - INFO - Chain [1] done processing\n",
      "00:00:02 - cmdstanpy - INFO - Chain [1] start processing\n",
      "00:00:03 - cmdstanpy - INFO - Chain [1] done processing\n",
      "00:00:03 - cmdstanpy - INFO - Chain [1] start processing\n",
      "00:00:03 - cmdstanpy - INFO - Chain [1] done processing\n",
      "00:00:03 - cmdstanpy - INFO - Chain [1] start processing\n",
      "00:00:04 - cmdstanpy - INFO - Chain [1] start processing\n",
      "00:00:04 - cmdstanpy - INFO - Chain [1] done processing\n",
      "00:00:04 - cmdstanpy - ERROR - Chain [1] error: error during processing Operation not permitted\n",
      "Optimization terminated abnormally. Falling back to Newton.\n",
      "00:00:04 - cmdstanpy - INFO - Chain [1] start processing\n",
      "00:00:04 - cmdstanpy - INFO - Chain [1] done processing\n",
      "00:00:04 - cmdstanpy - ERROR - Chain [1] error: error during processing Operation not permitted\n",
      "Optimization terminated abnormally. Falling back to Newton.\n",
      "00:00:04 - cmdstanpy - INFO - Chain [1] done processing\n",
      "00:00:04 - cmdstanpy - ERROR - Chain [1] error: error during processing Operation not permitted\n",
      "Optimization terminated abnormally. Falling back to Newton.\n",
      "00:00:04 - cmdstanpy - INFO - Chain [1] start processing\n",
      "00:00:05 - cmdstanpy - INFO - Chain [1] start processing\n",
      "00:00:05 - cmdstanpy - INFO - Chain [1] start processing\n",
      "00:00:55 - cmdstanpy - INFO - Chain [1] done processing\n",
      "00:01:03 - cmdstanpy - INFO - Chain [1] done processing\n",
      "00:01:09 - cmdstanpy - INFO - Chain [1] done processing\n"
     ]
    },
    {
     "name": "stdout",
     "output_type": "stream",
     "text": [
      "{'changepoint_prior_scale': 0.30100000000000005, 'holidays_prior_scale': 7.51, 'seasonality_mode': 'additive', 'seasonality_prior_scale': 5.01}\n"
     ]
    },
    {
     "name": "stderr",
     "output_type": "stream",
     "text": [
      "00:01:10 - cmdstanpy - INFO - Chain [1] start processing\n",
      "00:01:11 - cmdstanpy - INFO - Chain [1] done processing\n",
      "00:01:11 - cmdstanpy - ERROR - Chain [1] error: error during processing Operation not permitted\n",
      "Optimization terminated abnormally. Falling back to Newton.\n",
      "00:01:11 - cmdstanpy - INFO - Chain [1] start processing\n",
      "00:01:46 - cmdstanpy - INFO - Chain [1] done processing\n",
      "00:01:48 - cmdstanpy - INFO - Chain [1] start processing\n",
      "00:01:48 - cmdstanpy - INFO - Chain [1] done processing\n",
      "00:01:48 - cmdstanpy - INFO - Chain [1] start processing\n",
      "00:01:48 - cmdstanpy - INFO - Chain [1] done processing\n",
      "00:01:49 - cmdstanpy - INFO - Chain [1] start processing\n",
      "00:01:49 - cmdstanpy - INFO - Chain [1] done processing\n",
      "00:01:49 - cmdstanpy - ERROR - Chain [1] error: error during processing Operation not permitted\n",
      "Optimization terminated abnormally. Falling back to Newton.\n",
      "00:01:49 - cmdstanpy - INFO - Chain [1] start processing\n",
      "00:01:49 - cmdstanpy - INFO - Chain [1] start processing\n",
      "00:01:49 - cmdstanpy - INFO - Chain [1] done processing\n",
      "00:01:49 - cmdstanpy - ERROR - Chain [1] error: error during processing Operation not permitted\n",
      "Optimization terminated abnormally. Falling back to Newton.\n",
      "00:01:49 - cmdstanpy - INFO - Chain [1] done processing\n",
      "00:01:49 - cmdstanpy - ERROR - Chain [1] error: error during processing Operation not permitted\n",
      "Optimization terminated abnormally. Falling back to Newton.\n",
      "00:01:49 - cmdstanpy - INFO - Chain [1] start processing\n",
      "00:01:50 - cmdstanpy - INFO - Chain [1] start processing\n",
      "00:01:50 - cmdstanpy - INFO - Chain [1] start processing\n",
      "00:02:44 - cmdstanpy - INFO - Chain [1] done processing\n",
      "00:02:49 - cmdstanpy - INFO - Chain [1] done processing\n",
      "00:02:54 - cmdstanpy - INFO - Chain [1] done processing\n"
     ]
    },
    {
     "name": "stdout",
     "output_type": "stream",
     "text": [
      "{'changepoint_prior_scale': 0.30100000000000005, 'holidays_prior_scale': 7.51, 'seasonality_mode': 'additive', 'seasonality_prior_scale': 7.51}\n"
     ]
    },
    {
     "name": "stderr",
     "output_type": "stream",
     "text": [
      "00:02:55 - cmdstanpy - INFO - Chain [1] start processing\n",
      "00:02:56 - cmdstanpy - INFO - Chain [1] done processing\n",
      "00:02:56 - cmdstanpy - ERROR - Chain [1] error: error during processing Operation not permitted\n",
      "Optimization terminated abnormally. Falling back to Newton.\n",
      "00:02:56 - cmdstanpy - INFO - Chain [1] start processing\n",
      "00:03:34 - cmdstanpy - INFO - Chain [1] done processing\n",
      "00:03:36 - cmdstanpy - INFO - Chain [1] start processing\n",
      "00:03:36 - cmdstanpy - INFO - Chain [1] done processing\n",
      "00:03:36 - cmdstanpy - INFO - Chain [1] start processing\n",
      "00:03:37 - cmdstanpy - INFO - Chain [1] done processing\n",
      "00:03:37 - cmdstanpy - INFO - Chain [1] start processing\n",
      "00:03:37 - cmdstanpy - INFO - Chain [1] done processing\n",
      "00:03:37 - cmdstanpy - ERROR - Chain [1] error: error during processing Operation not permitted\n",
      "Optimization terminated abnormally. Falling back to Newton.\n",
      "00:03:37 - cmdstanpy - INFO - Chain [1] start processing\n",
      "00:03:37 - cmdstanpy - INFO - Chain [1] start processing\n",
      "00:03:37 - cmdstanpy - INFO - Chain [1] done processing\n",
      "00:03:37 - cmdstanpy - ERROR - Chain [1] error: error during processing Operation not permitted\n",
      "Optimization terminated abnormally. Falling back to Newton.\n",
      "00:03:38 - cmdstanpy - INFO - Chain [1] start processing\n",
      "00:03:38 - cmdstanpy - INFO - Chain [1] done processing\n",
      "00:03:38 - cmdstanpy - ERROR - Chain [1] error: error during processing Operation not permitted\n",
      "Optimization terminated abnormally. Falling back to Newton.\n",
      "00:03:38 - cmdstanpy - INFO - Chain [1] start processing\n",
      "00:03:38 - cmdstanpy - INFO - Chain [1] start processing\n",
      "00:04:42 - cmdstanpy - INFO - Chain [1] done processing\n",
      "00:04:43 - cmdstanpy - INFO - Chain [1] done processing\n",
      "00:04:46 - cmdstanpy - INFO - Chain [1] done processing\n"
     ]
    },
    {
     "name": "stdout",
     "output_type": "stream",
     "text": [
      "{'changepoint_prior_scale': 0.401, 'holidays_prior_scale': 0.01, 'seasonality_mode': 'multiplicative', 'seasonality_prior_scale': 0.01}\n"
     ]
    },
    {
     "name": "stderr",
     "output_type": "stream",
     "text": [
      "00:04:47 - cmdstanpy - INFO - Chain [1] start processing\n",
      "00:04:47 - cmdstanpy - INFO - Chain [1] done processing\n",
      "00:04:49 - cmdstanpy - INFO - Chain [1] start processing\n",
      "00:04:49 - cmdstanpy - INFO - Chain [1] done processing\n",
      "00:04:49 - cmdstanpy - INFO - Chain [1] start processing\n",
      "00:04:50 - cmdstanpy - INFO - Chain [1] start processing\n",
      "00:04:50 - cmdstanpy - INFO - Chain [1] done processing\n",
      "00:04:50 - cmdstanpy - INFO - Chain [1] start processing\n",
      "00:04:50 - cmdstanpy - INFO - Chain [1] start processing\n",
      "00:04:50 - cmdstanpy - INFO - Chain [1] done processing\n",
      "00:04:51 - cmdstanpy - INFO - Chain [1] done processing\n",
      "00:04:51 - cmdstanpy - INFO - Chain [1] done processing\n"
     ]
    },
    {
     "name": "stdout",
     "output_type": "stream",
     "text": [
      "{'changepoint_prior_scale': 0.401, 'holidays_prior_scale': 0.01, 'seasonality_mode': 'multiplicative', 'seasonality_prior_scale': 2.51}\n"
     ]
    },
    {
     "name": "stderr",
     "output_type": "stream",
     "text": [
      "00:04:53 - cmdstanpy - INFO - Chain [1] start processing\n",
      "00:04:53 - cmdstanpy - INFO - Chain [1] done processing\n",
      "00:04:55 - cmdstanpy - INFO - Chain [1] start processing\n",
      "00:04:55 - cmdstanpy - INFO - Chain [1] done processing\n",
      "00:04:55 - cmdstanpy - INFO - Chain [1] start processing\n",
      "00:04:56 - cmdstanpy - INFO - Chain [1] start processing\n",
      "00:04:56 - cmdstanpy - INFO - Chain [1] start processing\n",
      "00:04:56 - cmdstanpy - INFO - Chain [1] done processing\n",
      "00:04:56 - cmdstanpy - INFO - Chain [1] start processing\n",
      "00:04:56 - cmdstanpy - INFO - Chain [1] done processing\n",
      "00:04:57 - cmdstanpy - INFO - Chain [1] done processing\n",
      "00:04:57 - cmdstanpy - INFO - Chain [1] done processing\n"
     ]
    },
    {
     "name": "stdout",
     "output_type": "stream",
     "text": [
      "{'changepoint_prior_scale': 0.401, 'holidays_prior_scale': 0.01, 'seasonality_mode': 'multiplicative', 'seasonality_prior_scale': 5.01}\n"
     ]
    },
    {
     "name": "stderr",
     "output_type": "stream",
     "text": [
      "00:04:59 - cmdstanpy - INFO - Chain [1] start processing\n",
      "00:04:59 - cmdstanpy - INFO - Chain [1] done processing\n",
      "00:05:01 - cmdstanpy - INFO - Chain [1] start processing\n",
      "00:05:01 - cmdstanpy - INFO - Chain [1] done processing\n",
      "00:05:01 - cmdstanpy - INFO - Chain [1] start processing\n",
      "00:05:02 - cmdstanpy - INFO - Chain [1] start processing\n",
      "00:05:02 - cmdstanpy - INFO - Chain [1] done processing\n",
      "00:05:02 - cmdstanpy - INFO - Chain [1] start processing\n",
      "00:05:02 - cmdstanpy - INFO - Chain [1] start processing\n",
      "00:05:02 - cmdstanpy - INFO - Chain [1] done processing\n",
      "00:05:03 - cmdstanpy - INFO - Chain [1] done processing\n",
      "00:05:03 - cmdstanpy - INFO - Chain [1] done processing\n"
     ]
    },
    {
     "name": "stdout",
     "output_type": "stream",
     "text": [
      "{'changepoint_prior_scale': 0.401, 'holidays_prior_scale': 0.01, 'seasonality_mode': 'multiplicative', 'seasonality_prior_scale': 7.51}\n"
     ]
    },
    {
     "name": "stderr",
     "output_type": "stream",
     "text": [
      "00:05:05 - cmdstanpy - INFO - Chain [1] start processing\n",
      "00:05:06 - cmdstanpy - INFO - Chain [1] done processing\n",
      "00:05:07 - cmdstanpy - INFO - Chain [1] start processing\n",
      "00:05:07 - cmdstanpy - INFO - Chain [1] start processing\n",
      "00:05:07 - cmdstanpy - INFO - Chain [1] done processing\n",
      "00:05:08 - cmdstanpy - INFO - Chain [1] start processing\n",
      "00:05:08 - cmdstanpy - INFO - Chain [1] start processing\n",
      "00:05:08 - cmdstanpy - INFO - Chain [1] done processing\n",
      "00:05:08 - cmdstanpy - INFO - Chain [1] start processing\n",
      "00:05:08 - cmdstanpy - INFO - Chain [1] done processing\n",
      "00:05:09 - cmdstanpy - INFO - Chain [1] done processing\n",
      "00:05:10 - cmdstanpy - INFO - Chain [1] done processing\n"
     ]
    },
    {
     "name": "stdout",
     "output_type": "stream",
     "text": [
      "{'changepoint_prior_scale': 0.401, 'holidays_prior_scale': 0.01, 'seasonality_mode': 'additive', 'seasonality_prior_scale': 0.01}\n"
     ]
    },
    {
     "name": "stderr",
     "output_type": "stream",
     "text": [
      "00:05:11 - cmdstanpy - INFO - Chain [1] start processing\n",
      "00:05:11 - cmdstanpy - INFO - Chain [1] done processing\n",
      "00:05:11 - cmdstanpy - ERROR - Chain [1] error: error during processing Operation not permitted\n",
      "Optimization terminated abnormally. Falling back to Newton.\n",
      "00:05:12 - cmdstanpy - INFO - Chain [1] start processing\n",
      "00:05:37 - cmdstanpy - INFO - Chain [1] done processing\n",
      "00:05:39 - cmdstanpy - INFO - Chain [1] start processing\n",
      "00:05:39 - cmdstanpy - INFO - Chain [1] done processing\n",
      "00:05:39 - cmdstanpy - INFO - Chain [1] start processing\n",
      "00:05:39 - cmdstanpy - INFO - Chain [1] done processing\n",
      "00:05:39 - cmdstanpy - INFO - Chain [1] start processing\n",
      "00:05:40 - cmdstanpy - INFO - Chain [1] start processing\n",
      "00:05:40 - cmdstanpy - INFO - Chain [1] done processing\n",
      "00:05:40 - cmdstanpy - ERROR - Chain [1] error: error during processing Operation not permitted\n",
      "Optimization terminated abnormally. Falling back to Newton.\n",
      "00:05:40 - cmdstanpy - INFO - Chain [1] done processing\n",
      "00:05:40 - cmdstanpy - ERROR - Chain [1] error: error during processing Operation not permitted\n",
      "Optimization terminated abnormally. Falling back to Newton.\n",
      "00:05:40 - cmdstanpy - INFO - Chain [1] start processing\n",
      "00:05:40 - cmdstanpy - INFO - Chain [1] start processing\n",
      "00:05:40 - cmdstanpy - INFO - Chain [1] done processing\n",
      "00:05:40 - cmdstanpy - ERROR - Chain [1] error: error during processing Operation not permitted\n",
      "Optimization terminated abnormally. Falling back to Newton.\n",
      "00:05:41 - cmdstanpy - INFO - Chain [1] start processing\n",
      "00:05:41 - cmdstanpy - INFO - Chain [1] start processing\n",
      "00:06:34 - cmdstanpy - INFO - Chain [1] done processing\n",
      "00:06:39 - cmdstanpy - INFO - Chain [1] done processing\n",
      "00:06:44 - cmdstanpy - INFO - Chain [1] done processing\n"
     ]
    },
    {
     "name": "stdout",
     "output_type": "stream",
     "text": [
      "{'changepoint_prior_scale': 0.401, 'holidays_prior_scale': 0.01, 'seasonality_mode': 'additive', 'seasonality_prior_scale': 2.51}\n"
     ]
    },
    {
     "name": "stderr",
     "output_type": "stream",
     "text": [
      "00:06:45 - cmdstanpy - INFO - Chain [1] start processing\n",
      "00:06:46 - cmdstanpy - INFO - Chain [1] done processing\n",
      "00:06:46 - cmdstanpy - ERROR - Chain [1] error: error during processing Operation not permitted\n",
      "Optimization terminated abnormally. Falling back to Newton.\n",
      "00:06:46 - cmdstanpy - INFO - Chain [1] start processing\n",
      "00:07:18 - cmdstanpy - INFO - Chain [1] done processing\n",
      "00:07:19 - cmdstanpy - INFO - Chain [1] start processing\n",
      "00:07:20 - cmdstanpy - INFO - Chain [1] done processing\n",
      "00:07:20 - cmdstanpy - INFO - Chain [1] start processing\n",
      "00:07:20 - cmdstanpy - INFO - Chain [1] done processing\n",
      "00:07:20 - cmdstanpy - INFO - Chain [1] start processing\n",
      "00:07:21 - cmdstanpy - INFO - Chain [1] done processing\n",
      "00:07:21 - cmdstanpy - ERROR - Chain [1] error: error during processing Operation not permitted\n",
      "Optimization terminated abnormally. Falling back to Newton.\n",
      "00:07:21 - cmdstanpy - INFO - Chain [1] start processing\n",
      "00:07:21 - cmdstanpy - INFO - Chain [1] start processing\n",
      "00:07:21 - cmdstanpy - INFO - Chain [1] done processing\n",
      "00:07:21 - cmdstanpy - ERROR - Chain [1] error: error during processing Operation not permitted\n",
      "Optimization terminated abnormally. Falling back to Newton.\n",
      "00:07:21 - cmdstanpy - INFO - Chain [1] done processing\n",
      "00:07:21 - cmdstanpy - ERROR - Chain [1] error: error during processing Operation not permitted\n",
      "Optimization terminated abnormally. Falling back to Newton.\n",
      "00:07:21 - cmdstanpy - INFO - Chain [1] start processing\n",
      "00:07:21 - cmdstanpy - INFO - Chain [1] start processing\n",
      "00:07:22 - cmdstanpy - INFO - Chain [1] start processing\n",
      "00:08:07 - cmdstanpy - INFO - Chain [1] done processing\n",
      "00:08:20 - cmdstanpy - INFO - Chain [1] done processing\n",
      "00:08:26 - cmdstanpy - INFO - Chain [1] done processing\n"
     ]
    },
    {
     "name": "stdout",
     "output_type": "stream",
     "text": [
      "{'changepoint_prior_scale': 0.401, 'holidays_prior_scale': 0.01, 'seasonality_mode': 'additive', 'seasonality_prior_scale': 5.01}\n"
     ]
    },
    {
     "name": "stderr",
     "output_type": "stream",
     "text": [
      "00:08:27 - cmdstanpy - INFO - Chain [1] start processing\n",
      "00:08:28 - cmdstanpy - INFO - Chain [1] done processing\n",
      "00:08:28 - cmdstanpy - ERROR - Chain [1] error: error during processing Operation not permitted\n",
      "Optimization terminated abnormally. Falling back to Newton.\n",
      "00:08:28 - cmdstanpy - INFO - Chain [1] start processing\n",
      "00:09:07 - cmdstanpy - INFO - Chain [1] done processing\n",
      "00:09:09 - cmdstanpy - INFO - Chain [1] start processing\n",
      "00:09:09 - cmdstanpy - INFO - Chain [1] done processing\n",
      "00:09:09 - cmdstanpy - INFO - Chain [1] start processing\n",
      "00:09:10 - cmdstanpy - INFO - Chain [1] done processing\n",
      "00:09:10 - cmdstanpy - INFO - Chain [1] start processing\n",
      "00:09:10 - cmdstanpy - INFO - Chain [1] start processing\n",
      "00:09:10 - cmdstanpy - INFO - Chain [1] done processing\n",
      "00:09:10 - cmdstanpy - ERROR - Chain [1] error: error during processing Operation not permitted\n",
      "Optimization terminated abnormally. Falling back to Newton.\n",
      "00:09:10 - cmdstanpy - INFO - Chain [1] start processing\n",
      "00:09:10 - cmdstanpy - INFO - Chain [1] done processing\n",
      "00:09:10 - cmdstanpy - ERROR - Chain [1] error: error during processing Operation not permitted\n",
      "Optimization terminated abnormally. Falling back to Newton.\n",
      "00:09:11 - cmdstanpy - INFO - Chain [1] done processing\n",
      "00:09:11 - cmdstanpy - ERROR - Chain [1] error: error during processing Operation not permitted\n",
      "Optimization terminated abnormally. Falling back to Newton.\n",
      "00:09:11 - cmdstanpy - INFO - Chain [1] start processing\n",
      "00:09:11 - cmdstanpy - INFO - Chain [1] start processing\n",
      "00:09:11 - cmdstanpy - INFO - Chain [1] start processing\n",
      "00:09:54 - cmdstanpy - INFO - Chain [1] done processing\n",
      "00:10:09 - cmdstanpy - INFO - Chain [1] done processing\n",
      "00:10:11 - cmdstanpy - INFO - Chain [1] done processing\n"
     ]
    },
    {
     "name": "stdout",
     "output_type": "stream",
     "text": [
      "{'changepoint_prior_scale': 0.401, 'holidays_prior_scale': 0.01, 'seasonality_mode': 'additive', 'seasonality_prior_scale': 7.51}\n"
     ]
    },
    {
     "name": "stderr",
     "output_type": "stream",
     "text": [
      "00:10:12 - cmdstanpy - INFO - Chain [1] start processing\n",
      "00:10:12 - cmdstanpy - INFO - Chain [1] done processing\n",
      "00:10:12 - cmdstanpy - ERROR - Chain [1] error: error during processing Operation not permitted\n",
      "Optimization terminated abnormally. Falling back to Newton.\n",
      "00:10:13 - cmdstanpy - INFO - Chain [1] start processing\n",
      "00:10:40 - cmdstanpy - INFO - Chain [1] done processing\n",
      "00:10:41 - cmdstanpy - INFO - Chain [1] start processing\n",
      "00:10:41 - cmdstanpy - INFO - Chain [1] done processing\n",
      "00:10:42 - cmdstanpy - INFO - Chain [1] start processing\n",
      "00:10:42 - cmdstanpy - INFO - Chain [1] start processing\n",
      "00:10:42 - cmdstanpy - INFO - Chain [1] done processing\n",
      "00:10:42 - cmdstanpy - INFO - Chain [1] done processing\n",
      "00:10:42 - cmdstanpy - ERROR - Chain [1] error: error during processing Operation not permitted\n",
      "Optimization terminated abnormally. Falling back to Newton.\n",
      "00:10:42 - cmdstanpy - INFO - Chain [1] start processing\n",
      "00:10:42 - cmdstanpy - INFO - Chain [1] start processing\n",
      "00:10:42 - cmdstanpy - INFO - Chain [1] done processing\n",
      "00:10:42 - cmdstanpy - ERROR - Chain [1] error: error during processing Operation not permitted\n",
      "Optimization terminated abnormally. Falling back to Newton.\n",
      "00:10:43 - cmdstanpy - INFO - Chain [1] done processing\n",
      "00:10:43 - cmdstanpy - ERROR - Chain [1] error: error during processing Operation not permitted\n",
      "Optimization terminated abnormally. Falling back to Newton.\n",
      "00:10:43 - cmdstanpy - INFO - Chain [1] start processing\n",
      "00:10:43 - cmdstanpy - INFO - Chain [1] start processing\n",
      "00:10:43 - cmdstanpy - INFO - Chain [1] start processing\n",
      "00:11:50 - cmdstanpy - INFO - Chain [1] done processing\n",
      "00:11:51 - cmdstanpy - INFO - Chain [1] done processing\n",
      "00:12:04 - cmdstanpy - INFO - Chain [1] done processing\n"
     ]
    },
    {
     "name": "stdout",
     "output_type": "stream",
     "text": [
      "{'changepoint_prior_scale': 0.401, 'holidays_prior_scale': 2.51, 'seasonality_mode': 'multiplicative', 'seasonality_prior_scale': 0.01}\n"
     ]
    },
    {
     "name": "stderr",
     "output_type": "stream",
     "text": [
      "00:12:05 - cmdstanpy - INFO - Chain [1] start processing\n",
      "00:12:06 - cmdstanpy - INFO - Chain [1] done processing\n",
      "00:12:07 - cmdstanpy - INFO - Chain [1] start processing\n",
      "00:12:08 - cmdstanpy - INFO - Chain [1] done processing\n",
      "00:12:08 - cmdstanpy - INFO - Chain [1] start processing\n",
      "00:12:08 - cmdstanpy - INFO - Chain [1] start processing\n",
      "00:12:08 - cmdstanpy - INFO - Chain [1] done processing\n",
      "00:12:08 - cmdstanpy - INFO - Chain [1] start processing\n",
      "00:12:09 - cmdstanpy - INFO - Chain [1] start processing\n",
      "00:12:09 - cmdstanpy - INFO - Chain [1] done processing\n",
      "00:12:09 - cmdstanpy - INFO - Chain [1] done processing\n",
      "00:12:09 - cmdstanpy - INFO - Chain [1] done processing\n"
     ]
    },
    {
     "name": "stdout",
     "output_type": "stream",
     "text": [
      "{'changepoint_prior_scale': 0.401, 'holidays_prior_scale': 2.51, 'seasonality_mode': 'multiplicative', 'seasonality_prior_scale': 2.51}\n"
     ]
    },
    {
     "name": "stderr",
     "output_type": "stream",
     "text": [
      "00:12:11 - cmdstanpy - INFO - Chain [1] start processing\n",
      "00:12:12 - cmdstanpy - INFO - Chain [1] done processing\n",
      "00:12:13 - cmdstanpy - INFO - Chain [1] start processing\n",
      "00:12:13 - cmdstanpy - INFO - Chain [1] start processing\n",
      "00:12:14 - cmdstanpy - INFO - Chain [1] start processing\n",
      "00:12:14 - cmdstanpy - INFO - Chain [1] done processing\n",
      "00:12:14 - cmdstanpy - INFO - Chain [1] start processing\n",
      "00:12:14 - cmdstanpy - INFO - Chain [1] start processing\n",
      "00:12:14 - cmdstanpy - INFO - Chain [1] done processing\n",
      "00:12:15 - cmdstanpy - INFO - Chain [1] done processing\n",
      "00:12:15 - cmdstanpy - INFO - Chain [1] done processing\n",
      "00:12:15 - cmdstanpy - INFO - Chain [1] done processing\n"
     ]
    },
    {
     "name": "stdout",
     "output_type": "stream",
     "text": [
      "{'changepoint_prior_scale': 0.401, 'holidays_prior_scale': 2.51, 'seasonality_mode': 'multiplicative', 'seasonality_prior_scale': 5.01}\n"
     ]
    },
    {
     "name": "stderr",
     "output_type": "stream",
     "text": [
      "00:12:17 - cmdstanpy - INFO - Chain [1] start processing\n",
      "00:12:17 - cmdstanpy - INFO - Chain [1] done processing\n",
      "00:12:19 - cmdstanpy - INFO - Chain [1] start processing\n",
      "00:12:19 - cmdstanpy - INFO - Chain [1] done processing\n",
      "00:12:19 - cmdstanpy - INFO - Chain [1] start processing\n",
      "00:12:20 - cmdstanpy - INFO - Chain [1] start processing\n",
      "00:12:20 - cmdstanpy - INFO - Chain [1] done processing\n",
      "00:12:20 - cmdstanpy - INFO - Chain [1] start processing\n",
      "00:12:20 - cmdstanpy - INFO - Chain [1] start processing\n",
      "00:12:20 - cmdstanpy - INFO - Chain [1] done processing\n",
      "00:12:20 - cmdstanpy - INFO - Chain [1] done processing\n",
      "00:12:21 - cmdstanpy - INFO - Chain [1] done processing\n"
     ]
    },
    {
     "name": "stdout",
     "output_type": "stream",
     "text": [
      "{'changepoint_prior_scale': 0.401, 'holidays_prior_scale': 2.51, 'seasonality_mode': 'multiplicative', 'seasonality_prior_scale': 7.51}\n"
     ]
    },
    {
     "name": "stderr",
     "output_type": "stream",
     "text": [
      "00:12:23 - cmdstanpy - INFO - Chain [1] start processing\n",
      "00:12:24 - cmdstanpy - INFO - Chain [1] done processing\n",
      "00:12:25 - cmdstanpy - INFO - Chain [1] start processing\n",
      "00:12:25 - cmdstanpy - INFO - Chain [1] start processing\n",
      "00:12:25 - cmdstanpy - INFO - Chain [1] done processing\n",
      "00:12:25 - cmdstanpy - INFO - Chain [1] start processing\n",
      "00:12:26 - cmdstanpy - INFO - Chain [1] done processing\n",
      "00:12:26 - cmdstanpy - INFO - Chain [1] start processing\n",
      "00:12:26 - cmdstanpy - INFO - Chain [1] start processing\n",
      "00:12:27 - cmdstanpy - INFO - Chain [1] done processing\n",
      "00:12:27 - cmdstanpy - INFO - Chain [1] done processing\n",
      "00:12:27 - cmdstanpy - INFO - Chain [1] done processing\n"
     ]
    },
    {
     "name": "stdout",
     "output_type": "stream",
     "text": [
      "{'changepoint_prior_scale': 0.401, 'holidays_prior_scale': 2.51, 'seasonality_mode': 'additive', 'seasonality_prior_scale': 0.01}\n"
     ]
    },
    {
     "name": "stderr",
     "output_type": "stream",
     "text": [
      "00:12:29 - cmdstanpy - INFO - Chain [1] start processing\n",
      "00:12:29 - cmdstanpy - INFO - Chain [1] done processing\n",
      "00:12:29 - cmdstanpy - ERROR - Chain [1] error: error during processing Operation not permitted\n",
      "Optimization terminated abnormally. Falling back to Newton.\n",
      "00:12:30 - cmdstanpy - INFO - Chain [1] start processing\n",
      "00:13:01 - cmdstanpy - INFO - Chain [1] done processing\n",
      "00:13:02 - cmdstanpy - INFO - Chain [1] start processing\n",
      "00:13:03 - cmdstanpy - INFO - Chain [1] done processing\n",
      "00:13:03 - cmdstanpy - INFO - Chain [1] start processing\n",
      "00:13:03 - cmdstanpy - INFO - Chain [1] start processing\n",
      "00:13:03 - cmdstanpy - INFO - Chain [1] done processing\n",
      "00:13:03 - cmdstanpy - INFO - Chain [1] done processing\n",
      "00:13:03 - cmdstanpy - ERROR - Chain [1] error: error during processing Operation not permitted\n",
      "Optimization terminated abnormally. Falling back to Newton.\n",
      "00:13:03 - cmdstanpy - INFO - Chain [1] start processing\n",
      "00:13:04 - cmdstanpy - INFO - Chain [1] start processing\n",
      "00:13:04 - cmdstanpy - INFO - Chain [1] done processing\n",
      "00:13:04 - cmdstanpy - ERROR - Chain [1] error: error during processing Operation not permitted\n",
      "Optimization terminated abnormally. Falling back to Newton.\n",
      "00:13:04 - cmdstanpy - INFO - Chain [1] done processing\n",
      "00:13:04 - cmdstanpy - ERROR - Chain [1] error: error during processing Operation not permitted\n",
      "Optimization terminated abnormally. Falling back to Newton.\n",
      "00:13:04 - cmdstanpy - INFO - Chain [1] start processing\n",
      "00:13:04 - cmdstanpy - INFO - Chain [1] start processing\n",
      "00:13:05 - cmdstanpy - INFO - Chain [1] start processing\n",
      "00:13:56 - cmdstanpy - INFO - Chain [1] done processing\n",
      "00:13:58 - cmdstanpy - INFO - Chain [1] done processing\n",
      "00:14:06 - cmdstanpy - INFO - Chain [1] done processing\n"
     ]
    },
    {
     "name": "stdout",
     "output_type": "stream",
     "text": [
      "{'changepoint_prior_scale': 0.401, 'holidays_prior_scale': 2.51, 'seasonality_mode': 'additive', 'seasonality_prior_scale': 2.51}\n"
     ]
    },
    {
     "name": "stderr",
     "output_type": "stream",
     "text": [
      "00:14:07 - cmdstanpy - INFO - Chain [1] start processing\n",
      "00:14:08 - cmdstanpy - INFO - Chain [1] done processing\n",
      "00:14:08 - cmdstanpy - ERROR - Chain [1] error: error during processing Operation not permitted\n",
      "Optimization terminated abnormally. Falling back to Newton.\n",
      "00:14:08 - cmdstanpy - INFO - Chain [1] start processing\n",
      "00:14:36 - cmdstanpy - INFO - Chain [1] done processing\n",
      "00:14:37 - cmdstanpy - INFO - Chain [1] start processing\n",
      "00:14:37 - cmdstanpy - INFO - Chain [1] done processing\n",
      "00:14:38 - cmdstanpy - INFO - Chain [1] start processing\n",
      "00:14:38 - cmdstanpy - INFO - Chain [1] done processing\n",
      "00:14:38 - cmdstanpy - INFO - Chain [1] start processing\n",
      "00:14:38 - cmdstanpy - INFO - Chain [1] start processing\n",
      "00:14:38 - cmdstanpy - INFO - Chain [1] done processing\n",
      "00:14:38 - cmdstanpy - ERROR - Chain [1] error: error during processing Operation not permitted\n",
      "Optimization terminated abnormally. Falling back to Newton.\n",
      "00:14:38 - cmdstanpy - INFO - Chain [1] start processing\n",
      "00:14:39 - cmdstanpy - INFO - Chain [1] done processing\n",
      "00:14:39 - cmdstanpy - ERROR - Chain [1] error: error during processing Operation not permitted\n",
      "Optimization terminated abnormally. Falling back to Newton.\n",
      "00:14:39 - cmdstanpy - INFO - Chain [1] done processing\n",
      "00:14:39 - cmdstanpy - ERROR - Chain [1] error: error during processing Operation not permitted\n",
      "Optimization terminated abnormally. Falling back to Newton.\n",
      "00:14:39 - cmdstanpy - INFO - Chain [1] start processing\n",
      "00:14:39 - cmdstanpy - INFO - Chain [1] start processing\n",
      "00:14:40 - cmdstanpy - INFO - Chain [1] start processing\n",
      "00:15:33 - cmdstanpy - INFO - Chain [1] done processing\n",
      "00:15:40 - cmdstanpy - INFO - Chain [1] done processing\n",
      "00:15:43 - cmdstanpy - INFO - Chain [1] done processing\n"
     ]
    },
    {
     "name": "stdout",
     "output_type": "stream",
     "text": [
      "{'changepoint_prior_scale': 0.401, 'holidays_prior_scale': 2.51, 'seasonality_mode': 'additive', 'seasonality_prior_scale': 5.01}\n"
     ]
    },
    {
     "name": "stderr",
     "output_type": "stream",
     "text": [
      "00:15:44 - cmdstanpy - INFO - Chain [1] start processing\n",
      "00:15:45 - cmdstanpy - INFO - Chain [1] done processing\n",
      "00:15:45 - cmdstanpy - ERROR - Chain [1] error: error during processing Operation not permitted\n",
      "Optimization terminated abnormally. Falling back to Newton.\n",
      "00:15:45 - cmdstanpy - INFO - Chain [1] start processing\n",
      "00:16:11 - cmdstanpy - INFO - Chain [1] done processing\n",
      "00:16:13 - cmdstanpy - INFO - Chain [1] start processing\n",
      "00:16:13 - cmdstanpy - INFO - Chain [1] done processing\n",
      "00:16:13 - cmdstanpy - INFO - Chain [1] start processing\n",
      "00:16:13 - cmdstanpy - INFO - Chain [1] start processing\n",
      "00:16:13 - cmdstanpy - INFO - Chain [1] done processing\n",
      "00:16:13 - cmdstanpy - INFO - Chain [1] start processing\n",
      "00:16:14 - cmdstanpy - INFO - Chain [1] done processing\n",
      "00:16:14 - cmdstanpy - ERROR - Chain [1] error: error during processing Operation not permitted\n",
      "Optimization terminated abnormally. Falling back to Newton.\n",
      "00:16:14 - cmdstanpy - INFO - Chain [1] done processing\n",
      "00:16:14 - cmdstanpy - ERROR - Chain [1] error: error during processing Operation not permitted\n",
      "Optimization terminated abnormally. Falling back to Newton.\n",
      "00:16:14 - cmdstanpy - INFO - Chain [1] start processing\n",
      "00:16:14 - cmdstanpy - INFO - Chain [1] start processing\n",
      "00:16:14 - cmdstanpy - INFO - Chain [1] done processing\n",
      "00:16:14 - cmdstanpy - ERROR - Chain [1] error: error during processing Operation not permitted\n",
      "Optimization terminated abnormally. Falling back to Newton.\n",
      "00:16:14 - cmdstanpy - INFO - Chain [1] start processing\n",
      "00:16:15 - cmdstanpy - INFO - Chain [1] start processing\n",
      "00:17:06 - cmdstanpy - INFO - Chain [1] done processing\n",
      "00:17:07 - cmdstanpy - INFO - Chain [1] done processing\n",
      "00:17:20 - cmdstanpy - INFO - Chain [1] done processing\n"
     ]
    },
    {
     "name": "stdout",
     "output_type": "stream",
     "text": [
      "{'changepoint_prior_scale': 0.401, 'holidays_prior_scale': 2.51, 'seasonality_mode': 'additive', 'seasonality_prior_scale': 7.51}\n"
     ]
    },
    {
     "name": "stderr",
     "output_type": "stream",
     "text": [
      "00:17:21 - cmdstanpy - INFO - Chain [1] start processing\n",
      "00:17:22 - cmdstanpy - INFO - Chain [1] done processing\n",
      "00:17:22 - cmdstanpy - ERROR - Chain [1] error: error during processing Operation not permitted\n",
      "Optimization terminated abnormally. Falling back to Newton.\n",
      "00:17:22 - cmdstanpy - INFO - Chain [1] start processing\n",
      "00:17:54 - cmdstanpy - INFO - Chain [1] done processing\n",
      "00:17:55 - cmdstanpy - INFO - Chain [1] start processing\n",
      "00:17:56 - cmdstanpy - INFO - Chain [1] done processing\n",
      "00:17:56 - cmdstanpy - INFO - Chain [1] start processing\n",
      "00:17:56 - cmdstanpy - INFO - Chain [1] done processing\n",
      "00:17:56 - cmdstanpy - INFO - Chain [1] start processing\n",
      "00:17:56 - cmdstanpy - INFO - Chain [1] done processing\n",
      "00:17:56 - cmdstanpy - ERROR - Chain [1] error: error during processing Operation not permitted\n",
      "Optimization terminated abnormally. Falling back to Newton.\n",
      "00:17:56 - cmdstanpy - INFO - Chain [1] start processing\n",
      "00:17:56 - cmdstanpy - INFO - Chain [1] start processing\n",
      "00:17:57 - cmdstanpy - INFO - Chain [1] done processing\n",
      "00:17:57 - cmdstanpy - ERROR - Chain [1] error: error during processing Operation not permitted\n",
      "Optimization terminated abnormally. Falling back to Newton.\n",
      "00:17:57 - cmdstanpy - INFO - Chain [1] done processing\n",
      "00:17:57 - cmdstanpy - ERROR - Chain [1] error: error during processing Operation not permitted\n",
      "Optimization terminated abnormally. Falling back to Newton.\n",
      "00:17:57 - cmdstanpy - INFO - Chain [1] start processing\n",
      "00:17:57 - cmdstanpy - INFO - Chain [1] start processing\n",
      "00:17:58 - cmdstanpy - INFO - Chain [1] start processing\n",
      "00:18:48 - cmdstanpy - INFO - Chain [1] done processing\n",
      "00:18:52 - cmdstanpy - INFO - Chain [1] done processing\n",
      "00:18:57 - cmdstanpy - INFO - Chain [1] done processing\n"
     ]
    },
    {
     "name": "stdout",
     "output_type": "stream",
     "text": [
      "{'changepoint_prior_scale': 0.401, 'holidays_prior_scale': 5.01, 'seasonality_mode': 'multiplicative', 'seasonality_prior_scale': 0.01}\n"
     ]
    },
    {
     "name": "stderr",
     "output_type": "stream",
     "text": [
      "00:18:58 - cmdstanpy - INFO - Chain [1] start processing\n",
      "00:18:58 - cmdstanpy - INFO - Chain [1] done processing\n",
      "00:19:00 - cmdstanpy - INFO - Chain [1] start processing\n",
      "00:19:00 - cmdstanpy - INFO - Chain [1] done processing\n",
      "00:19:00 - cmdstanpy - INFO - Chain [1] start processing\n",
      "00:19:01 - cmdstanpy - INFO - Chain [1] start processing\n",
      "00:19:01 - cmdstanpy - INFO - Chain [1] done processing\n",
      "00:19:01 - cmdstanpy - INFO - Chain [1] start processing\n",
      "00:19:01 - cmdstanpy - INFO - Chain [1] start processing\n",
      "00:19:01 - cmdstanpy - INFO - Chain [1] done processing\n",
      "00:19:02 - cmdstanpy - INFO - Chain [1] done processing\n",
      "00:19:02 - cmdstanpy - INFO - Chain [1] done processing\n"
     ]
    },
    {
     "name": "stdout",
     "output_type": "stream",
     "text": [
      "{'changepoint_prior_scale': 0.401, 'holidays_prior_scale': 5.01, 'seasonality_mode': 'multiplicative', 'seasonality_prior_scale': 2.51}\n"
     ]
    },
    {
     "name": "stderr",
     "output_type": "stream",
     "text": [
      "00:19:03 - cmdstanpy - INFO - Chain [1] start processing\n",
      "00:19:04 - cmdstanpy - INFO - Chain [1] done processing\n",
      "00:19:06 - cmdstanpy - INFO - Chain [1] start processing\n",
      "00:19:06 - cmdstanpy - INFO - Chain [1] start processing\n",
      "00:19:06 - cmdstanpy - INFO - Chain [1] start processing\n",
      "00:19:06 - cmdstanpy - INFO - Chain [1] done processing\n",
      "00:19:06 - cmdstanpy - INFO - Chain [1] start processing\n",
      "00:19:06 - cmdstanpy - INFO - Chain [1] done processing\n",
      "00:19:07 - cmdstanpy - INFO - Chain [1] start processing\n",
      "00:19:07 - cmdstanpy - INFO - Chain [1] done processing\n",
      "00:19:07 - cmdstanpy - INFO - Chain [1] done processing\n",
      "00:19:08 - cmdstanpy - INFO - Chain [1] done processing\n"
     ]
    },
    {
     "name": "stdout",
     "output_type": "stream",
     "text": [
      "{'changepoint_prior_scale': 0.401, 'holidays_prior_scale': 5.01, 'seasonality_mode': 'multiplicative', 'seasonality_prior_scale': 5.01}\n"
     ]
    },
    {
     "name": "stderr",
     "output_type": "stream",
     "text": [
      "00:19:09 - cmdstanpy - INFO - Chain [1] start processing\n",
      "00:19:10 - cmdstanpy - INFO - Chain [1] done processing\n",
      "00:19:11 - cmdstanpy - INFO - Chain [1] start processing\n",
      "00:19:12 - cmdstanpy - INFO - Chain [1] start processing\n",
      "00:19:12 - cmdstanpy - INFO - Chain [1] done processing\n",
      "00:19:12 - cmdstanpy - INFO - Chain [1] start processing\n",
      "00:19:12 - cmdstanpy - INFO - Chain [1] start processing\n",
      "00:19:12 - cmdstanpy - INFO - Chain [1] done processing\n",
      "00:19:13 - cmdstanpy - INFO - Chain [1] start processing\n",
      "00:19:13 - cmdstanpy - INFO - Chain [1] done processing\n",
      "00:19:13 - cmdstanpy - INFO - Chain [1] done processing\n",
      "00:19:14 - cmdstanpy - INFO - Chain [1] done processing\n"
     ]
    },
    {
     "name": "stdout",
     "output_type": "stream",
     "text": [
      "{'changepoint_prior_scale': 0.401, 'holidays_prior_scale': 5.01, 'seasonality_mode': 'multiplicative', 'seasonality_prior_scale': 7.51}\n"
     ]
    },
    {
     "name": "stderr",
     "output_type": "stream",
     "text": [
      "00:19:15 - cmdstanpy - INFO - Chain [1] start processing\n",
      "00:19:16 - cmdstanpy - INFO - Chain [1] done processing\n",
      "00:19:17 - cmdstanpy - INFO - Chain [1] start processing\n",
      "00:19:18 - cmdstanpy - INFO - Chain [1] start processing\n",
      "00:19:18 - cmdstanpy - INFO - Chain [1] done processing\n",
      "00:19:18 - cmdstanpy - INFO - Chain [1] start processing\n",
      "00:19:18 - cmdstanpy - INFO - Chain [1] done processing\n",
      "00:19:18 - cmdstanpy - INFO - Chain [1] start processing\n",
      "00:19:19 - cmdstanpy - INFO - Chain [1] start processing\n",
      "00:19:19 - cmdstanpy - INFO - Chain [1] done processing\n",
      "00:19:19 - cmdstanpy - INFO - Chain [1] done processing\n",
      "00:19:20 - cmdstanpy - INFO - Chain [1] done processing\n"
     ]
    },
    {
     "name": "stdout",
     "output_type": "stream",
     "text": [
      "{'changepoint_prior_scale': 0.401, 'holidays_prior_scale': 5.01, 'seasonality_mode': 'additive', 'seasonality_prior_scale': 0.01}\n"
     ]
    },
    {
     "name": "stderr",
     "output_type": "stream",
     "text": [
      "00:19:21 - cmdstanpy - INFO - Chain [1] start processing\n",
      "00:19:21 - cmdstanpy - INFO - Chain [1] done processing\n",
      "00:19:21 - cmdstanpy - ERROR - Chain [1] error: error during processing Operation not permitted\n",
      "Optimization terminated abnormally. Falling back to Newton.\n",
      "00:19:22 - cmdstanpy - INFO - Chain [1] start processing\n",
      "00:19:59 - cmdstanpy - INFO - Chain [1] done processing\n",
      "00:20:01 - cmdstanpy - INFO - Chain [1] start processing\n",
      "00:20:01 - cmdstanpy - INFO - Chain [1] done processing\n",
      "00:20:02 - cmdstanpy - INFO - Chain [1] start processing\n",
      "00:20:02 - cmdstanpy - INFO - Chain [1] done processing\n",
      "00:20:02 - cmdstanpy - INFO - Chain [1] start processing\n",
      "00:20:02 - cmdstanpy - INFO - Chain [1] start processing\n",
      "00:20:02 - cmdstanpy - INFO - Chain [1] done processing\n",
      "00:20:02 - cmdstanpy - ERROR - Chain [1] error: error during processing Operation not permitted\n",
      "Optimization terminated abnormally. Falling back to Newton.\n",
      "00:20:03 - cmdstanpy - INFO - Chain [1] start processing\n",
      "00:20:03 - cmdstanpy - INFO - Chain [1] done processing\n",
      "00:20:03 - cmdstanpy - ERROR - Chain [1] error: error during processing Operation not permitted\n",
      "Optimization terminated abnormally. Falling back to Newton.\n",
      "00:20:03 - cmdstanpy - INFO - Chain [1] done processing\n",
      "00:20:03 - cmdstanpy - ERROR - Chain [1] error: error during processing Operation not permitted\n",
      "Optimization terminated abnormally. Falling back to Newton.\n",
      "00:20:03 - cmdstanpy - INFO - Chain [1] start processing\n",
      "00:20:03 - cmdstanpy - INFO - Chain [1] start processing\n",
      "00:20:04 - cmdstanpy - INFO - Chain [1] start processing\n",
      "00:20:58 - cmdstanpy - INFO - Chain [1] done processing\n",
      "00:21:02 - cmdstanpy - INFO - Chain [1] done processing\n",
      "00:21:07 - cmdstanpy - INFO - Chain [1] done processing\n"
     ]
    },
    {
     "name": "stdout",
     "output_type": "stream",
     "text": [
      "{'changepoint_prior_scale': 0.401, 'holidays_prior_scale': 5.01, 'seasonality_mode': 'additive', 'seasonality_prior_scale': 2.51}\n"
     ]
    },
    {
     "name": "stderr",
     "output_type": "stream",
     "text": [
      "00:21:08 - cmdstanpy - INFO - Chain [1] start processing\n",
      "00:21:08 - cmdstanpy - INFO - Chain [1] done processing\n",
      "00:21:08 - cmdstanpy - ERROR - Chain [1] error: error during processing Operation not permitted\n",
      "Optimization terminated abnormally. Falling back to Newton.\n",
      "00:21:09 - cmdstanpy - INFO - Chain [1] start processing\n",
      "00:21:38 - cmdstanpy - INFO - Chain [1] done processing\n",
      "00:21:39 - cmdstanpy - INFO - Chain [1] start processing\n",
      "00:21:39 - cmdstanpy - INFO - Chain [1] done processing\n",
      "00:21:40 - cmdstanpy - INFO - Chain [1] start processing\n",
      "00:21:40 - cmdstanpy - INFO - Chain [1] start processing\n",
      "00:21:40 - cmdstanpy - INFO - Chain [1] done processing\n",
      "00:21:40 - cmdstanpy - INFO - Chain [1] start processing\n",
      "00:21:40 - cmdstanpy - INFO - Chain [1] done processing\n",
      "00:21:40 - cmdstanpy - ERROR - Chain [1] error: error during processing Operation not permitted\n",
      "Optimization terminated abnormally. Falling back to Newton.\n",
      "00:21:41 - cmdstanpy - INFO - Chain [1] done processing\n",
      "00:21:41 - cmdstanpy - ERROR - Chain [1] error: error during processing Operation not permitted\n",
      "Optimization terminated abnormally. Falling back to Newton.\n",
      "00:21:41 - cmdstanpy - INFO - Chain [1] start processing\n",
      "00:21:41 - cmdstanpy - INFO - Chain [1] done processing\n",
      "00:21:41 - cmdstanpy - ERROR - Chain [1] error: error during processing Operation not permitted\n",
      "Optimization terminated abnormally. Falling back to Newton.\n",
      "00:21:41 - cmdstanpy - INFO - Chain [1] start processing\n",
      "00:21:41 - cmdstanpy - INFO - Chain [1] start processing\n",
      "00:21:42 - cmdstanpy - INFO - Chain [1] start processing\n",
      "00:22:26 - cmdstanpy - INFO - Chain [1] done processing\n",
      "00:22:44 - cmdstanpy - INFO - Chain [1] done processing\n",
      "00:22:45 - cmdstanpy - INFO - Chain [1] done processing\n"
     ]
    },
    {
     "name": "stdout",
     "output_type": "stream",
     "text": [
      "{'changepoint_prior_scale': 0.401, 'holidays_prior_scale': 5.01, 'seasonality_mode': 'additive', 'seasonality_prior_scale': 5.01}\n"
     ]
    },
    {
     "name": "stderr",
     "output_type": "stream",
     "text": [
      "00:22:46 - cmdstanpy - INFO - Chain [1] start processing\n",
      "00:22:47 - cmdstanpy - INFO - Chain [1] done processing\n",
      "00:22:47 - cmdstanpy - ERROR - Chain [1] error: error during processing Operation not permitted\n",
      "Optimization terminated abnormally. Falling back to Newton.\n",
      "00:22:47 - cmdstanpy - INFO - Chain [1] start processing\n",
      "00:23:19 - cmdstanpy - INFO - Chain [1] done processing\n",
      "00:23:21 - cmdstanpy - INFO - Chain [1] start processing\n",
      "00:23:21 - cmdstanpy - INFO - Chain [1] done processing\n",
      "00:23:21 - cmdstanpy - INFO - Chain [1] start processing\n",
      "00:23:21 - cmdstanpy - INFO - Chain [1] start processing\n",
      "00:23:21 - cmdstanpy - INFO - Chain [1] done processing\n",
      "00:23:21 - cmdstanpy - INFO - Chain [1] done processing\n",
      "00:23:21 - cmdstanpy - ERROR - Chain [1] error: error during processing Operation not permitted\n",
      "Optimization terminated abnormally. Falling back to Newton.\n",
      "00:23:21 - cmdstanpy - INFO - Chain [1] start processing\n",
      "00:23:22 - cmdstanpy - INFO - Chain [1] done processing\n",
      "00:23:22 - cmdstanpy - ERROR - Chain [1] error: error during processing Operation not permitted\n",
      "Optimization terminated abnormally. Falling back to Newton.\n",
      "00:23:22 - cmdstanpy - INFO - Chain [1] start processing\n",
      "00:23:22 - cmdstanpy - INFO - Chain [1] start processing\n",
      "00:23:22 - cmdstanpy - INFO - Chain [1] done processing\n",
      "00:23:22 - cmdstanpy - ERROR - Chain [1] error: error during processing Operation not permitted\n",
      "Optimization terminated abnormally. Falling back to Newton.\n",
      "00:23:22 - cmdstanpy - INFO - Chain [1] start processing\n",
      "00:23:23 - cmdstanpy - INFO - Chain [1] start processing\n",
      "00:24:13 - cmdstanpy - INFO - Chain [1] done processing\n",
      "00:24:17 - cmdstanpy - INFO - Chain [1] done processing\n",
      "00:24:28 - cmdstanpy - INFO - Chain [1] done processing\n"
     ]
    },
    {
     "name": "stdout",
     "output_type": "stream",
     "text": [
      "{'changepoint_prior_scale': 0.401, 'holidays_prior_scale': 5.01, 'seasonality_mode': 'additive', 'seasonality_prior_scale': 7.51}\n"
     ]
    },
    {
     "name": "stderr",
     "output_type": "stream",
     "text": [
      "00:24:30 - cmdstanpy - INFO - Chain [1] start processing\n",
      "00:24:30 - cmdstanpy - INFO - Chain [1] done processing\n",
      "00:24:30 - cmdstanpy - ERROR - Chain [1] error: error during processing Operation not permitted\n",
      "Optimization terminated abnormally. Falling back to Newton.\n",
      "00:24:31 - cmdstanpy - INFO - Chain [1] start processing\n",
      "00:25:00 - cmdstanpy - INFO - Chain [1] done processing\n",
      "00:25:02 - cmdstanpy - INFO - Chain [1] start processing\n",
      "00:25:02 - cmdstanpy - INFO - Chain [1] done processing\n",
      "00:25:02 - cmdstanpy - INFO - Chain [1] start processing\n",
      "00:25:02 - cmdstanpy - INFO - Chain [1] done processing\n",
      "00:25:02 - cmdstanpy - INFO - Chain [1] start processing\n",
      "00:25:03 - cmdstanpy - INFO - Chain [1] start processing\n",
      "00:25:03 - cmdstanpy - INFO - Chain [1] done processing\n",
      "00:25:03 - cmdstanpy - ERROR - Chain [1] error: error during processing Operation not permitted\n",
      "Optimization terminated abnormally. Falling back to Newton.\n",
      "00:25:03 - cmdstanpy - INFO - Chain [1] start processing\n",
      "00:25:03 - cmdstanpy - INFO - Chain [1] done processing\n",
      "00:25:03 - cmdstanpy - ERROR - Chain [1] error: error during processing Operation not permitted\n",
      "Optimization terminated abnormally. Falling back to Newton.\n",
      "00:25:03 - cmdstanpy - INFO - Chain [1] done processing\n",
      "00:25:03 - cmdstanpy - ERROR - Chain [1] error: error during processing Operation not permitted\n",
      "Optimization terminated abnormally. Falling back to Newton.\n",
      "00:25:03 - cmdstanpy - INFO - Chain [1] start processing\n",
      "00:25:04 - cmdstanpy - INFO - Chain [1] start processing\n",
      "00:25:04 - cmdstanpy - INFO - Chain [1] start processing\n",
      "00:25:51 - cmdstanpy - INFO - Chain [1] done processing\n",
      "00:26:03 - cmdstanpy - INFO - Chain [1] done processing\n",
      "00:26:19 - cmdstanpy - INFO - Chain [1] done processing\n"
     ]
    },
    {
     "name": "stdout",
     "output_type": "stream",
     "text": [
      "{'changepoint_prior_scale': 0.401, 'holidays_prior_scale': 7.51, 'seasonality_mode': 'multiplicative', 'seasonality_prior_scale': 0.01}\n"
     ]
    },
    {
     "name": "stderr",
     "output_type": "stream",
     "text": [
      "00:26:20 - cmdstanpy - INFO - Chain [1] start processing\n",
      "00:26:21 - cmdstanpy - INFO - Chain [1] done processing\n",
      "00:26:22 - cmdstanpy - INFO - Chain [1] start processing\n",
      "00:26:22 - cmdstanpy - INFO - Chain [1] done processing\n",
      "00:26:22 - cmdstanpy - INFO - Chain [1] start processing\n",
      "00:26:23 - cmdstanpy - INFO - Chain [1] start processing\n",
      "00:26:23 - cmdstanpy - INFO - Chain [1] done processing\n",
      "00:26:23 - cmdstanpy - INFO - Chain [1] start processing\n",
      "00:26:23 - cmdstanpy - INFO - Chain [1] start processing\n",
      "00:26:23 - cmdstanpy - INFO - Chain [1] done processing\n",
      "00:26:24 - cmdstanpy - INFO - Chain [1] done processing\n",
      "00:26:24 - cmdstanpy - INFO - Chain [1] done processing\n"
     ]
    },
    {
     "name": "stdout",
     "output_type": "stream",
     "text": [
      "{'changepoint_prior_scale': 0.401, 'holidays_prior_scale': 7.51, 'seasonality_mode': 'multiplicative', 'seasonality_prior_scale': 2.51}\n"
     ]
    },
    {
     "name": "stderr",
     "output_type": "stream",
     "text": [
      "00:26:26 - cmdstanpy - INFO - Chain [1] start processing\n",
      "00:26:26 - cmdstanpy - INFO - Chain [1] done processing\n",
      "00:26:28 - cmdstanpy - INFO - Chain [1] start processing\n",
      "00:26:28 - cmdstanpy - INFO - Chain [1] start processing\n",
      "00:26:28 - cmdstanpy - INFO - Chain [1] start processing\n",
      "00:26:28 - cmdstanpy - INFO - Chain [1] done processing\n",
      "00:26:28 - cmdstanpy - INFO - Chain [1] start processing\n",
      "00:26:29 - cmdstanpy - INFO - Chain [1] done processing\n",
      "00:26:29 - cmdstanpy - INFO - Chain [1] start processing\n",
      "00:26:29 - cmdstanpy - INFO - Chain [1] done processing\n",
      "00:26:29 - cmdstanpy - INFO - Chain [1] done processing\n",
      "00:26:30 - cmdstanpy - INFO - Chain [1] done processing\n"
     ]
    },
    {
     "name": "stdout",
     "output_type": "stream",
     "text": [
      "{'changepoint_prior_scale': 0.401, 'holidays_prior_scale': 7.51, 'seasonality_mode': 'multiplicative', 'seasonality_prior_scale': 5.01}\n"
     ]
    },
    {
     "name": "stderr",
     "output_type": "stream",
     "text": [
      "00:26:31 - cmdstanpy - INFO - Chain [1] start processing\n",
      "00:26:32 - cmdstanpy - INFO - Chain [1] done processing\n",
      "00:26:34 - cmdstanpy - INFO - Chain [1] start processing\n",
      "00:26:34 - cmdstanpy - INFO - Chain [1] start processing\n",
      "00:26:34 - cmdstanpy - INFO - Chain [1] done processing\n",
      "00:26:34 - cmdstanpy - INFO - Chain [1] start processing\n",
      "00:26:34 - cmdstanpy - INFO - Chain [1] done processing\n",
      "00:26:35 - cmdstanpy - INFO - Chain [1] start processing\n",
      "00:26:35 - cmdstanpy - INFO - Chain [1] start processing\n",
      "00:26:35 - cmdstanpy - INFO - Chain [1] done processing\n",
      "00:26:35 - cmdstanpy - INFO - Chain [1] done processing\n",
      "00:26:36 - cmdstanpy - INFO - Chain [1] done processing\n"
     ]
    },
    {
     "name": "stdout",
     "output_type": "stream",
     "text": [
      "{'changepoint_prior_scale': 0.401, 'holidays_prior_scale': 7.51, 'seasonality_mode': 'multiplicative', 'seasonality_prior_scale': 7.51}\n"
     ]
    },
    {
     "name": "stderr",
     "output_type": "stream",
     "text": [
      "00:26:37 - cmdstanpy - INFO - Chain [1] start processing\n",
      "00:26:38 - cmdstanpy - INFO - Chain [1] done processing\n",
      "00:26:40 - cmdstanpy - INFO - Chain [1] start processing\n",
      "00:26:40 - cmdstanpy - INFO - Chain [1] done processing\n",
      "00:26:40 - cmdstanpy - INFO - Chain [1] start processing\n",
      "00:26:40 - cmdstanpy - INFO - Chain [1] start processing\n",
      "00:26:40 - cmdstanpy - INFO - Chain [1] done processing\n",
      "00:26:40 - cmdstanpy - INFO - Chain [1] start processing\n",
      "00:26:41 - cmdstanpy - INFO - Chain [1] start processing\n",
      "00:26:41 - cmdstanpy - INFO - Chain [1] done processing\n",
      "00:26:41 - cmdstanpy - INFO - Chain [1] done processing\n",
      "00:26:42 - cmdstanpy - INFO - Chain [1] done processing\n"
     ]
    },
    {
     "name": "stdout",
     "output_type": "stream",
     "text": [
      "{'changepoint_prior_scale': 0.401, 'holidays_prior_scale': 7.51, 'seasonality_mode': 'additive', 'seasonality_prior_scale': 0.01}\n"
     ]
    },
    {
     "name": "stderr",
     "output_type": "stream",
     "text": [
      "00:26:43 - cmdstanpy - INFO - Chain [1] start processing\n",
      "00:26:43 - cmdstanpy - INFO - Chain [1] done processing\n",
      "00:26:43 - cmdstanpy - ERROR - Chain [1] error: error during processing Operation not permitted\n",
      "Optimization terminated abnormally. Falling back to Newton.\n",
      "00:26:44 - cmdstanpy - INFO - Chain [1] start processing\n",
      "00:27:17 - cmdstanpy - INFO - Chain [1] done processing\n",
      "00:27:18 - cmdstanpy - INFO - Chain [1] start processing\n",
      "00:27:18 - cmdstanpy - INFO - Chain [1] done processing\n",
      "00:27:18 - cmdstanpy - INFO - Chain [1] start processing\n",
      "00:27:19 - cmdstanpy - INFO - Chain [1] done processing\n",
      "00:27:19 - cmdstanpy - INFO - Chain [1] start processing\n",
      "00:27:19 - cmdstanpy - INFO - Chain [1] start processing\n",
      "00:27:19 - cmdstanpy - INFO - Chain [1] done processing\n",
      "00:27:19 - cmdstanpy - ERROR - Chain [1] error: error during processing Operation not permitted\n",
      "Optimization terminated abnormally. Falling back to Newton.\n",
      "00:27:19 - cmdstanpy - INFO - Chain [1] start processing\n",
      "00:27:19 - cmdstanpy - INFO - Chain [1] done processing\n",
      "00:27:19 - cmdstanpy - ERROR - Chain [1] error: error during processing Operation not permitted\n",
      "Optimization terminated abnormally. Falling back to Newton.\n",
      "00:27:19 - cmdstanpy - INFO - Chain [1] done processing\n",
      "00:27:19 - cmdstanpy - ERROR - Chain [1] error: error during processing Operation not permitted\n",
      "Optimization terminated abnormally. Falling back to Newton.\n",
      "00:27:19 - cmdstanpy - INFO - Chain [1] start processing\n",
      "00:27:20 - cmdstanpy - INFO - Chain [1] start processing\n",
      "00:27:20 - cmdstanpy - INFO - Chain [1] start processing\n",
      "00:28:09 - cmdstanpy - INFO - Chain [1] done processing\n",
      "00:28:22 - cmdstanpy - INFO - Chain [1] done processing\n",
      "00:28:23 - cmdstanpy - INFO - Chain [1] done processing\n"
     ]
    },
    {
     "name": "stdout",
     "output_type": "stream",
     "text": [
      "{'changepoint_prior_scale': 0.401, 'holidays_prior_scale': 7.51, 'seasonality_mode': 'additive', 'seasonality_prior_scale': 2.51}\n"
     ]
    },
    {
     "name": "stderr",
     "output_type": "stream",
     "text": [
      "00:28:24 - cmdstanpy - INFO - Chain [1] start processing\n",
      "00:28:24 - cmdstanpy - INFO - Chain [1] done processing\n",
      "00:28:25 - cmdstanpy - ERROR - Chain [1] error: error during processing Operation not permitted\n",
      "Optimization terminated abnormally. Falling back to Newton.\n",
      "00:28:25 - cmdstanpy - INFO - Chain [1] start processing\n",
      "00:28:55 - cmdstanpy - INFO - Chain [1] done processing\n",
      "00:28:57 - cmdstanpy - INFO - Chain [1] start processing\n",
      "00:28:57 - cmdstanpy - INFO - Chain [1] done processing\n",
      "00:28:57 - cmdstanpy - INFO - Chain [1] start processing\n",
      "00:28:57 - cmdstanpy - INFO - Chain [1] start processing\n",
      "00:28:57 - cmdstanpy - INFO - Chain [1] done processing\n",
      "00:28:58 - cmdstanpy - INFO - Chain [1] done processing\n",
      "00:28:58 - cmdstanpy - ERROR - Chain [1] error: error during processing Operation not permitted\n",
      "Optimization terminated abnormally. Falling back to Newton.\n",
      "00:28:58 - cmdstanpy - INFO - Chain [1] start processing\n",
      "00:28:58 - cmdstanpy - INFO - Chain [1] start processing\n",
      "00:28:58 - cmdstanpy - INFO - Chain [1] done processing\n",
      "00:28:58 - cmdstanpy - ERROR - Chain [1] error: error during processing Operation not permitted\n",
      "Optimization terminated abnormally. Falling back to Newton.\n",
      "00:28:58 - cmdstanpy - INFO - Chain [1] done processing\n",
      "00:28:58 - cmdstanpy - ERROR - Chain [1] error: error during processing Operation not permitted\n",
      "Optimization terminated abnormally. Falling back to Newton.\n",
      "00:28:58 - cmdstanpy - INFO - Chain [1] start processing\n",
      "00:28:59 - cmdstanpy - INFO - Chain [1] start processing\n",
      "00:28:59 - cmdstanpy - INFO - Chain [1] start processing\n",
      "00:29:54 - cmdstanpy - INFO - Chain [1] done processing\n",
      "00:30:03 - cmdstanpy - INFO - Chain [1] done processing\n",
      "00:30:04 - cmdstanpy - INFO - Chain [1] done processing\n"
     ]
    },
    {
     "name": "stdout",
     "output_type": "stream",
     "text": [
      "{'changepoint_prior_scale': 0.401, 'holidays_prior_scale': 7.51, 'seasonality_mode': 'additive', 'seasonality_prior_scale': 5.01}\n"
     ]
    },
    {
     "name": "stderr",
     "output_type": "stream",
     "text": [
      "00:30:06 - cmdstanpy - INFO - Chain [1] start processing\n",
      "00:30:06 - cmdstanpy - INFO - Chain [1] done processing\n",
      "00:30:06 - cmdstanpy - ERROR - Chain [1] error: error during processing Operation not permitted\n",
      "Optimization terminated abnormally. Falling back to Newton.\n",
      "00:30:07 - cmdstanpy - INFO - Chain [1] start processing\n",
      "00:30:34 - cmdstanpy - INFO - Chain [1] done processing\n",
      "00:30:35 - cmdstanpy - INFO - Chain [1] start processing\n",
      "00:30:36 - cmdstanpy - INFO - Chain [1] done processing\n",
      "00:30:36 - cmdstanpy - INFO - Chain [1] start processing\n",
      "00:30:36 - cmdstanpy - INFO - Chain [1] start processing\n",
      "00:30:36 - cmdstanpy - INFO - Chain [1] done processing\n",
      "00:30:37 - cmdstanpy - INFO - Chain [1] start processing\n",
      "00:30:37 - cmdstanpy - INFO - Chain [1] done processing\n",
      "00:30:37 - cmdstanpy - ERROR - Chain [1] error: error during processing Operation not permitted\n",
      "Optimization terminated abnormally. Falling back to Newton.\n",
      "00:30:37 - cmdstanpy - INFO - Chain [1] start processing\n",
      "00:30:37 - cmdstanpy - INFO - Chain [1] done processing\n",
      "00:30:37 - cmdstanpy - ERROR - Chain [1] error: error during processing Operation not permitted\n",
      "Optimization terminated abnormally. Falling back to Newton.\n",
      "00:30:37 - cmdstanpy - INFO - Chain [1] done processing\n",
      "00:30:37 - cmdstanpy - ERROR - Chain [1] error: error during processing Operation not permitted\n",
      "Optimization terminated abnormally. Falling back to Newton.\n",
      "00:30:37 - cmdstanpy - INFO - Chain [1] start processing\n",
      "00:30:38 - cmdstanpy - INFO - Chain [1] start processing\n",
      "00:30:38 - cmdstanpy - INFO - Chain [1] start processing\n",
      "00:31:30 - cmdstanpy - INFO - Chain [1] done processing\n",
      "00:31:31 - cmdstanpy - INFO - Chain [1] done processing\n",
      "00:31:42 - cmdstanpy - INFO - Chain [1] done processing\n"
     ]
    },
    {
     "name": "stdout",
     "output_type": "stream",
     "text": [
      "{'changepoint_prior_scale': 0.401, 'holidays_prior_scale': 7.51, 'seasonality_mode': 'additive', 'seasonality_prior_scale': 7.51}\n"
     ]
    },
    {
     "name": "stderr",
     "output_type": "stream",
     "text": [
      "00:31:44 - cmdstanpy - INFO - Chain [1] start processing\n",
      "00:31:44 - cmdstanpy - INFO - Chain [1] done processing\n",
      "00:31:44 - cmdstanpy - ERROR - Chain [1] error: error during processing Operation not permitted\n",
      "Optimization terminated abnormally. Falling back to Newton.\n",
      "00:31:45 - cmdstanpy - INFO - Chain [1] start processing\n",
      "00:32:17 - cmdstanpy - INFO - Chain [1] done processing\n",
      "00:32:18 - cmdstanpy - INFO - Chain [1] start processing\n",
      "00:32:19 - cmdstanpy - INFO - Chain [1] done processing\n",
      "00:32:19 - cmdstanpy - INFO - Chain [1] start processing\n",
      "00:32:19 - cmdstanpy - INFO - Chain [1] done processing\n",
      "00:32:19 - cmdstanpy - INFO - Chain [1] start processing\n",
      "00:32:20 - cmdstanpy - INFO - Chain [1] start processing\n",
      "00:32:20 - cmdstanpy - INFO - Chain [1] done processing\n",
      "00:32:20 - cmdstanpy - ERROR - Chain [1] error: error during processing Operation not permitted\n",
      "Optimization terminated abnormally. Falling back to Newton.\n",
      "00:32:20 - cmdstanpy - INFO - Chain [1] start processing\n",
      "00:32:20 - cmdstanpy - INFO - Chain [1] done processing\n",
      "00:32:20 - cmdstanpy - ERROR - Chain [1] error: error during processing Operation not permitted\n",
      "Optimization terminated abnormally. Falling back to Newton.\n",
      "00:32:20 - cmdstanpy - INFO - Chain [1] done processing\n",
      "00:32:20 - cmdstanpy - ERROR - Chain [1] error: error during processing Operation not permitted\n",
      "Optimization terminated abnormally. Falling back to Newton.\n",
      "00:32:20 - cmdstanpy - INFO - Chain [1] start processing\n",
      "00:32:21 - cmdstanpy - INFO - Chain [1] start processing\n",
      "00:32:21 - cmdstanpy - INFO - Chain [1] start processing\n",
      "00:33:06 - cmdstanpy - INFO - Chain [1] done processing\n",
      "00:33:13 - cmdstanpy - INFO - Chain [1] done processing\n",
      "00:33:17 - cmdstanpy - INFO - Chain [1] done processing\n"
     ]
    },
    {
     "name": "stdout",
     "output_type": "stream",
     "text": [
      "     changepoint_prior_scale  holidays_prior_scale seasonality_mode  \\\n",
      "0                      0.001                  0.01   multiplicative   \n",
      "1                      0.001                  0.01   multiplicative   \n",
      "2                      0.001                  0.01   multiplicative   \n",
      "3                      0.001                  0.01   multiplicative   \n",
      "4                      0.001                  0.01         additive   \n",
      "..                       ...                   ...              ...   \n",
      "155                    0.401                  7.51   multiplicative   \n",
      "156                    0.401                  7.51         additive   \n",
      "157                    0.401                  7.51         additive   \n",
      "158                    0.401                  7.51         additive   \n",
      "159                    0.401                  7.51         additive   \n",
      "\n",
      "     seasonality_prior_scale      mase  \n",
      "0                       0.01  1.658099  \n",
      "1                       2.51  1.763066  \n",
      "2                       5.01  1.743816  \n",
      "3                       7.51  1.591087  \n",
      "4                       0.01  1.042833  \n",
      "..                       ...       ...  \n",
      "155                     7.51  1.557438  \n",
      "156                     0.01  1.006568  \n",
      "157                     2.51  1.006255  \n",
      "158                     5.01  1.006255  \n",
      "159                     7.51  1.006255  \n",
      "\n",
      "[160 rows x 5 columns]\n"
     ]
    }
   ],
   "source": [
    "MASE_list = []\n",
    "best_mase = 100000000\n",
    "best_params = None\n",
    "for p in grid:\n",
    "    test = pd.DataFrame()\n",
    "    print(p)\n",
    "    random.seed(0)\n",
    "    train_model =Prophet(changepoint_prior_scale = p['changepoint_prior_scale'],\n",
    "                        holidays_prior_scale = p['holidays_prior_scale'],\n",
    "                        seasonality_prior_scale = p['seasonality_prior_scale'],\n",
    "                        seasonality_mode = p['seasonality_mode'],\n",
    "                        weekly_seasonality=True,\n",
    "                        daily_seasonality = True,\n",
    "                        yearly_seasonality = False,\n",
    "                        )\n",
    "    \n",
    "    train_model.add_regressor('time', standardize=False)\n",
    "\n",
    "\n",
    "    train_model.fit(train_data)\n",
    "    \n",
    "    df_cv = cross_validation(train_model, period='60 days', horizon='30 days', parallel=\"processes\")\n",
    "\n",
    "\n",
    "    # X and y to pandas dataframe\n",
    "    X_train = pd.DataFrame(df_cv)\n",
    "\n",
    "    y_true = df_cv['y'].values\n",
    "    #make y_true as dataframe\n",
    "    y_true = pd.DataFrame(y_true)\n",
    "\n",
    "    y_pred = df_cv['yhat'].values\n",
    "    #make y_pred as dataframe\n",
    "    y_pred = pd.DataFrame(y_pred)\n",
    "\n",
    "    MASE_list.append(mean_absolute_scaled_error(y_true, y_pred))\n",
    "    \n",
    "    # print('RMSE:',np.sqrt(MSE))\n",
    "    # RMSE_list.append(np.sqrt(MSE))\n",
    "\n",
    "# Find the best parameters\n",
    "tuning_results = pd.DataFrame(grid)\n",
    "tuning_results['mase'] = MASE_list\n",
    "print(tuning_results)"
   ]
  },
  {
   "cell_type": "code",
   "execution_count": 8,
   "metadata": {},
   "outputs": [
    {
     "name": "stdout",
     "output_type": "stream",
     "text": [
      "Best Parameters {'seasonality_prior_scale': 7.51, 'seasonality_mode': 'additive', 'holidays_prior_scale': 7.51, 'changepoint_prior_scale': 0.101}\n",
      "Best MASE 1.0027029915628798\n",
      "[1.6580993388073046, 1.7630657564053915, 1.743815740906248, 1.591087129957719, 1.0428330065952012, 1.0939953771288156, 1.0900262729533514, 1.0959663471438408, 1.648296924356875, 1.7403574251493845, 1.7398533352176289, 1.5315199145953873, 1.022250869815687, 1.02730926364457, 1.1075449355145857, 1.0940344817022858, 1.6789094860074976, 1.7435266656880164, 1.7458190694008442, 1.744666762028569, 1.039320925930169, 1.0083614335865339, 1.0936688962473786, 1.094033549233, 1.5512155247485897, 1.743433463127923, 1.801847667271559, 1.743833017585973, 1.0075908753637095, 1.0165125178126464, 1.0940152906574327, 1.0940334852338212, 1.4233908274323963, 1.4382694292847988, 1.439765318551523, 1.3585995663255224, 1.0029635425978263, 1.0027061814228673, 1.0027047673947427, 1.0027038074734949, 1.4933825001252625, 1.340896968648327, 1.285149658117368, 1.53413123930922, 1.0029648809533243, 1.0027059288320468, 1.0027055613464506, 1.0027032497674266, 1.4781120233464464, 1.476019647458378, 1.53883660139737, 1.4554155848584471, 1.0029642478273566, 1.0027058066224115, 1.0027052586350453, 1.0027031204186592, 1.4755859256028483, 1.5200110411733374, 1.5286963855715212, 1.540348061227932, 1.0029645462074226, 1.0027070763380521, 1.0027052774515, 1.0027029915628798, 1.5201016573103479, 1.583196838124092, 1.5796810626066204, 1.5832762378172966, 1.0052271195094418, 1.004955605960616, 1.0049449301447857, 1.0049453117455103, 1.5157398336934313, 1.5798949219545522, 1.3841096679717186, 1.2838672716890638, 1.0052265210913156, 1.004955855140476, 1.0049438831718243, 1.0049459302527375, 1.5130311265992866, 1.565932828935501, 1.5790936901087747, 1.4508098552312727, 1.0052260149503265, 1.004955001998692, 1.0049441560139718, 1.0049458198334529, 1.4567303040554194, 1.5803611864253522, 1.5795114580814849, 1.5694380937064367, 1.0052257714982056, 1.0049550508032523, 1.004943818562703, 1.0049460353336441, 1.5482649483238522, 1.5813997010767586, 1.2780792284900204, 1.3435016891388538, 1.0061448623360776, 1.0058395113321676, 1.0058383193043017, 1.0058381460283958, 1.4969367119880337, 1.5801998825276733, 1.5925912631653996, 1.5697046836136868, 1.0061457931532152, 1.005836730764443, 1.0058394216501674, 1.0058375360059142, 1.4648351642171782, 1.4792206409885684, 1.580233714002503, 1.5589716700363254, 1.0061446168182882, 1.0058372957006803, 1.0058393379778356, 1.005838953550259, 1.5049219723546614, 1.5801810122480053, 1.5814242444156816, 1.4144847545036914, 1.0061439797959357, 1.0058377278485495, 1.0058393532644816, 1.0058382777747874, 1.5370853075928173, 1.5864398934085209, 1.5864987109305775, 1.5421299381386906, 1.006568175865743, 1.006253784780265, 1.0062533079977207, 1.0062550510829842, 1.491858529877537, 1.3855048328354045, 1.5024406802006172, 1.2851728997742222, 1.006569458595961, 1.0062538707066613, 1.0062543930319574, 1.006253896991773, 1.4953605916350998, 1.3850979212503292, 1.555547170365121, 1.5479990219388189, 1.006569783015745, 1.0062527933859562, 1.0062543970066433, 1.0062551230477648, 1.4961450893371193, 1.3042895285540719, 1.3990060070311565, 1.5574378504543402, 1.0065676905566434, 1.0062545357289092, 1.0062549382850319, 1.0062549645964447]\n"
     ]
    }
   ],
   "source": [
    "best_params = grid[np.argmin(MASE_list)]\n",
    "print('Best Parameters',best_params)\n",
    "print('Best MASE',np.min(MASE_list))\n",
    "print(MASE_list)"
   ]
  }
 ],
 "metadata": {
  "kernelspec": {
   "display_name": "Python 3",
   "language": "python",
   "name": "python3"
  },
  "language_info": {
   "codemirror_mode": {
    "name": "ipython",
    "version": 3
   },
   "file_extension": ".py",
   "mimetype": "text/x-python",
   "name": "python",
   "nbconvert_exporter": "python",
   "pygments_lexer": "ipython3",
   "version": "3.9.12"
  }
 },
 "nbformat": 4,
 "nbformat_minor": 2
}
