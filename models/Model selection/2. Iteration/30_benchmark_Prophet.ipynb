{
 "cells": [
  {
   "cell_type": "markdown",
   "metadata": {},
   "source": [
    "https://www.kaggle.com/code/manovirat/timeseries-using-prophet-hyperparameter-tuning"
   ]
  },
  {
   "cell_type": "code",
   "execution_count": 1,
   "metadata": {},
   "outputs": [],
   "source": [
    "import pandas as pd\n",
    "from prophet import Prophet\n",
    "from prophet.diagnostics import cross_validation\n",
    "from sklearn.model_selection import ParameterGrid\n",
    "from prophet.diagnostics import performance_metrics\n",
    "import random\n",
    "import numpy as np\n",
    "from sklearn.model_selection import TimeSeriesSplit"
   ]
  },
  {
   "cell_type": "code",
   "execution_count": 2,
   "metadata": {},
   "outputs": [
    {
     "name": "stdout",
     "output_type": "stream",
     "text": [
      "Total Possible Models 160\n"
     ]
    }
   ],
   "source": [
    "params_grid = {'seasonality_mode':('multiplicative','additive'),\n",
    "               # set changepoint_prior_scale to 0.5 with steps of 0.005\n",
    "               'changepoint_prior_scale':[x for x in np.arange(0.001, 0.5, 0.1)],\n",
    "               'seasonality_prior_scale':[x for x in np.arange(0.01, 10, 2.5)],\n",
    "              'holidays_prior_scale':[x for x in np.arange(0.01, 10, 2.5)]}\n",
    "\n",
    "grid = ParameterGrid(params_grid)\n",
    "cnt = 0\n",
    "for p in grid:\n",
    "    cnt = cnt+1\n",
    "\n",
    "print('Total Possible Models',cnt)"
   ]
  },
  {
   "cell_type": "code",
   "execution_count": 3,
   "metadata": {},
   "outputs": [],
   "source": [
    "#Define MASE Metric\n",
    "def mean_absolute_scaled_error(y_true, y_pred):\n",
    "    mase=0\n",
    "    # Define numerator as the forecast error\n",
    "    numerator = (np.abs(y_true - y_pred))\n",
    "\n",
    "    # Define denominator as the mean absolute error of the in-sample one-step naive forecast\n",
    "    y_true_ohne_1 = y_true[1:].reset_index(drop=True)\n",
    "    y_true_ohne_ende = y_true[:-1].reset_index(drop=True)\n",
    "    denominator = np.mean(np.abs(y_true_ohne_1 - y_true_ohne_ende))\n",
    "\n",
    "    mase = np.mean(np.abs(numerator / denominator))\n",
    "\n",
    "    return mase"
   ]
  },
  {
   "cell_type": "code",
   "execution_count": 4,
   "metadata": {},
   "outputs": [],
   "source": [
    "# Load the data\n",
    "data = pd.read_parquet('/Users/paddy/Documents/GitHub/Masterthesis_ML/data/03_30min_dataset.parquet')\n",
    "\n",
    "# Convert the date column to datetime\n",
    "data['date'] = pd.to_datetime(data['date'],format='%d/%m/%y %H:%M:%S').dt.strftime('%Y-%m-%d %H:%M:%S') \n"
   ]
  },
  {
   "cell_type": "code",
   "execution_count": 5,
   "metadata": {},
   "outputs": [],
   "source": [
    "# Feature Engineering\n",
    "\n",
    "# Add a column with the time\n",
    "data['time'] = [x for x in range(0, len(data))]\n",
    "\n",
    "# Rename column count to y\n",
    "data = data.rename(columns={'count': 'y'})\n",
    "data = data.rename(columns={'date': 'ds'})\n",
    "\n",
    "\n",
    "train_data = data"
   ]
  },
  {
   "cell_type": "code",
   "execution_count": 6,
   "metadata": {},
   "outputs": [
    {
     "name": "stdout",
     "output_type": "stream",
     "text": [
      "0        2022-04-01 00:00:00\n",
      "1        2022-04-01 00:30:00\n",
      "2        2022-04-01 01:00:00\n",
      "3        2022-04-01 01:30:00\n",
      "4        2022-04-01 02:00:00\n",
      "                ...         \n",
      "17515    2023-03-31 21:30:00\n",
      "17516    2023-03-31 22:00:00\n",
      "17517    2023-03-31 22:30:00\n",
      "17518    2023-03-31 23:00:00\n",
      "17519    2023-03-31 23:30:00\n",
      "Name: ds, Length: 17520, dtype: object\n",
      "Fold 0:\n",
      "  Train: index=[   0    1    2 ... 2917 2918 2919]\n",
      "  Test:  index=[2920 2921 2922 ... 5837 5838 5839]\n",
      "Fold 1:\n",
      "  Train: index=[   0    1    2 ... 5837 5838 5839]\n",
      "  Test:  index=[5840 5841 5842 ... 8757 8758 8759]\n",
      "Fold 2:\n",
      "  Train: index=[   0    1    2 ... 8757 8758 8759]\n",
      "  Test:  index=[ 8760  8761  8762 ... 11677 11678 11679]\n",
      "Fold 3:\n",
      "  Train: index=[    0     1     2 ... 11677 11678 11679]\n",
      "  Test:  index=[11680 11681 11682 ... 14597 14598 14599]\n",
      "Fold 4:\n",
      "  Train: index=[    0     1     2 ... 14597 14598 14599]\n",
      "  Test:  index=[14600 14601 14602 ... 17517 17518 17519]\n",
      "['2022-05-31 19:30:00', '2022-07-31 15:30:00', '2022-09-30 11:30:00', '2022-11-30 07:30:00', '2023-01-30 03:30:00']\n"
     ]
    }
   ],
   "source": [
    "cv_folds = TimeSeriesSplit(n_splits=5)\n",
    "\n",
    "#convert data to only date not time\n",
    "cv_data = train_data.copy()\n",
    "\n",
    "#convert to timestamp with date format\n",
    "#cv_data.ds = pd.to_datetime(cv_data.ds).dt.date\n",
    "\n",
    "print(cv_data.ds)   \n",
    "\n",
    "#Define cutoff dates for cross validation at end of train_data/cv_folds\n",
    "cutoffs = []\n",
    "# for train_index, test_index in cv_folds.split(train_data):\n",
    "#     cutoffs.append(train_data.ds.iloc[test_index].max())\n",
    "#     #convert to timestamp\n",
    "#     cutoffs = pd.to_datetime(cutoffs)\n",
    "    \n",
    "# print(cutoffs)\n",
    "\n",
    "for i, (train_index, test_index) in enumerate(cv_folds.split(cv_data)):\n",
    "    print(f\"Fold {i}:\")\n",
    "    print(f\"  Train: index={train_index}\")\n",
    "    print(f\"  Test:  index={test_index}\")\n",
    "    #get the date for the last train index\n",
    "    cutoffs.append(cv_data.ds.iloc[train_index].max())\n",
    "    #only date not time\n",
    "    #cutoffs = pd.to_datetime(cutoffs).date\n",
    "\n",
    "print(cutoffs)\n",
    "\n",
    "# Define cutoffs for cross validation with 5 folds every two months with first cut on 2022-06-01, last day 2023-01-15 and horizon of 15 days\n",
    "#cutoffs = pd.to_datetime(['2022-06-01', '2022-08-01', '2022-10-01', '2022-12-01', '2023-01-15'])\n",
    "# print(cutoffs)\n"
   ]
  },
  {
   "cell_type": "code",
   "execution_count": 7,
   "metadata": {},
   "outputs": [
    {
     "name": "stdout",
     "output_type": "stream",
     "text": [
      "{'changepoint_prior_scale': 0.001, 'holidays_prior_scale': 0.01, 'seasonality_mode': 'multiplicative', 'seasonality_prior_scale': 0.01}\n"
     ]
    },
    {
     "name": "stderr",
     "output_type": "stream",
     "text": [
      "16:01:33 - cmdstanpy - INFO - Chain [1] start processing\n",
      "16:01:33 - cmdstanpy - INFO - Chain [1] done processing\n",
      "16:01:35 - cmdstanpy - INFO - Chain [1] start processing\n",
      "16:01:35 - cmdstanpy - INFO - Chain [1] start processing\n",
      "16:01:35 - cmdstanpy - INFO - Chain [1] start processing\n",
      "16:01:35 - cmdstanpy - INFO - Chain [1] start processing\n",
      "16:01:35 - cmdstanpy - INFO - Chain [1] start processing\n",
      "16:01:35 - cmdstanpy - INFO - Chain [1] done processing\n",
      "16:01:35 - cmdstanpy - ERROR - Chain [1] error: error during processing Operation not permitted\n",
      "Optimization terminated abnormally. Falling back to Newton.\n",
      "16:01:35 - cmdstanpy - INFO - Chain [1] done processing\n",
      "16:01:35 - cmdstanpy - INFO - Chain [1] start processing\n",
      "16:01:35 - cmdstanpy - INFO - Chain [1] done processing\n",
      "16:01:36 - cmdstanpy - INFO - Chain [1] done processing\n",
      "16:01:36 - cmdstanpy - ERROR - Chain [1] error: error during processing Operation not permitted\n",
      "Optimization terminated abnormally. Falling back to Newton.\n",
      "16:01:36 - cmdstanpy - INFO - Chain [1] start processing\n",
      "16:01:38 - cmdstanpy - INFO - Chain [1] done processing\n",
      "16:01:58 - cmdstanpy - INFO - Chain [1] done processing\n",
      "16:02:35 - cmdstanpy - INFO - Chain [1] done processing\n"
     ]
    },
    {
     "name": "stdout",
     "output_type": "stream",
     "text": [
      "{'changepoint_prior_scale': 0.001, 'holidays_prior_scale': 0.01, 'seasonality_mode': 'multiplicative', 'seasonality_prior_scale': 2.51}\n"
     ]
    },
    {
     "name": "stderr",
     "output_type": "stream",
     "text": [
      "16:02:35 - cmdstanpy - INFO - Chain [1] start processing\n",
      "16:02:36 - cmdstanpy - INFO - Chain [1] done processing\n",
      "16:02:36 - cmdstanpy - ERROR - Chain [1] error: error during processing Operation not permitted\n",
      "Optimization terminated abnormally. Falling back to Newton.\n",
      "16:02:36 - cmdstanpy - INFO - Chain [1] start processing\n",
      "16:03:48 - cmdstanpy - INFO - Chain [1] done processing\n",
      "16:03:49 - cmdstanpy - INFO - Chain [1] start processing\n",
      "16:03:49 - cmdstanpy - INFO - Chain [1] start processing\n",
      "16:03:49 - cmdstanpy - INFO - Chain [1] start processing\n",
      "16:03:49 - cmdstanpy - INFO - Chain [1] start processing\n",
      "16:03:49 - cmdstanpy - INFO - Chain [1] done processing\n",
      "16:03:49 - cmdstanpy - INFO - Chain [1] start processing\n",
      "16:03:49 - cmdstanpy - INFO - Chain [1] done processing\n",
      "16:03:49 - cmdstanpy - ERROR - Chain [1] error: error during processing Operation not permitted\n",
      "Optimization terminated abnormally. Falling back to Newton.\n",
      "16:03:50 - cmdstanpy - INFO - Chain [1] done processing\n",
      "16:03:50 - cmdstanpy - INFO - Chain [1] start processing\n",
      "16:03:50 - cmdstanpy - INFO - Chain [1] done processing\n",
      "16:03:50 - cmdstanpy - ERROR - Chain [1] error: error during processing Operation not permitted\n",
      "Optimization terminated abnormally. Falling back to Newton.\n",
      "16:03:51 - cmdstanpy - INFO - Chain [1] start processing\n",
      "16:03:51 - cmdstanpy - INFO - Chain [1] done processing\n",
      "16:04:27 - cmdstanpy - INFO - Chain [1] done processing\n",
      "16:04:37 - cmdstanpy - INFO - Chain [1] done processing\n"
     ]
    },
    {
     "name": "stdout",
     "output_type": "stream",
     "text": [
      "{'changepoint_prior_scale': 0.001, 'holidays_prior_scale': 0.01, 'seasonality_mode': 'multiplicative', 'seasonality_prior_scale': 5.01}\n"
     ]
    },
    {
     "name": "stderr",
     "output_type": "stream",
     "text": [
      "16:04:37 - cmdstanpy - INFO - Chain [1] start processing\n",
      "16:04:38 - cmdstanpy - INFO - Chain [1] done processing\n",
      "16:04:39 - cmdstanpy - INFO - Chain [1] start processing\n",
      "16:04:39 - cmdstanpy - INFO - Chain [1] start processing\n",
      "16:04:39 - cmdstanpy - INFO - Chain [1] start processing\n",
      "16:04:39 - cmdstanpy - INFO - Chain [1] start processing\n",
      "16:04:39 - cmdstanpy - INFO - Chain [1] start processing\n",
      "16:04:39 - cmdstanpy - INFO - Chain [1] done processing\n",
      "16:04:39 - cmdstanpy - ERROR - Chain [1] error: error during processing Operation not permitted\n",
      "Optimization terminated abnormally. Falling back to Newton.\n",
      "16:04:39 - cmdstanpy - INFO - Chain [1] done processing\n",
      "16:04:40 - cmdstanpy - INFO - Chain [1] done processing\n",
      "16:04:40 - cmdstanpy - INFO - Chain [1] start processing\n",
      "16:04:40 - cmdstanpy - INFO - Chain [1] done processing\n",
      "16:04:40 - cmdstanpy - ERROR - Chain [1] error: error during processing Operation not permitted\n",
      "Optimization terminated abnormally. Falling back to Newton.\n",
      "16:04:41 - cmdstanpy - INFO - Chain [1] start processing\n",
      "16:04:41 - cmdstanpy - INFO - Chain [1] done processing\n",
      "16:05:06 - cmdstanpy - INFO - Chain [1] done processing\n",
      "16:05:44 - cmdstanpy - INFO - Chain [1] done processing\n"
     ]
    },
    {
     "name": "stdout",
     "output_type": "stream",
     "text": [
      "{'changepoint_prior_scale': 0.001, 'holidays_prior_scale': 0.01, 'seasonality_mode': 'multiplicative', 'seasonality_prior_scale': 7.51}\n"
     ]
    },
    {
     "name": "stderr",
     "output_type": "stream",
     "text": [
      "16:05:45 - cmdstanpy - INFO - Chain [1] start processing\n",
      "16:05:45 - cmdstanpy - INFO - Chain [1] done processing\n",
      "16:05:46 - cmdstanpy - INFO - Chain [1] start processing\n",
      "16:05:46 - cmdstanpy - INFO - Chain [1] start processing\n",
      "16:05:46 - cmdstanpy - INFO - Chain [1] start processing\n",
      "16:05:47 - cmdstanpy - INFO - Chain [1] start processing\n",
      "16:05:47 - cmdstanpy - INFO - Chain [1] start processing\n",
      "16:05:47 - cmdstanpy - INFO - Chain [1] done processing\n",
      "16:05:47 - cmdstanpy - INFO - Chain [1] done processing\n",
      "16:05:47 - cmdstanpy - ERROR - Chain [1] error: error during processing Operation not permitted\n",
      "Optimization terminated abnormally. Falling back to Newton.\n",
      "16:05:47 - cmdstanpy - INFO - Chain [1] done processing\n",
      "16:05:47 - cmdstanpy - INFO - Chain [1] start processing\n",
      "16:05:47 - cmdstanpy - INFO - Chain [1] done processing\n",
      "16:05:47 - cmdstanpy - ERROR - Chain [1] error: error during processing Operation not permitted\n",
      "Optimization terminated abnormally. Falling back to Newton.\n",
      "16:05:48 - cmdstanpy - INFO - Chain [1] start processing\n",
      "16:05:48 - cmdstanpy - INFO - Chain [1] done processing\n",
      "16:06:11 - cmdstanpy - INFO - Chain [1] done processing\n",
      "16:06:22 - cmdstanpy - INFO - Chain [1] done processing\n"
     ]
    },
    {
     "name": "stdout",
     "output_type": "stream",
     "text": [
      "{'changepoint_prior_scale': 0.001, 'holidays_prior_scale': 0.01, 'seasonality_mode': 'additive', 'seasonality_prior_scale': 0.01}\n"
     ]
    },
    {
     "name": "stderr",
     "output_type": "stream",
     "text": [
      "16:06:23 - cmdstanpy - INFO - Chain [1] start processing\n",
      "16:06:23 - cmdstanpy - INFO - Chain [1] done processing\n",
      "16:06:24 - cmdstanpy - INFO - Chain [1] start processing\n",
      "16:06:24 - cmdstanpy - INFO - Chain [1] start processing\n",
      "16:06:24 - cmdstanpy - INFO - Chain [1] done processing\n",
      "16:06:24 - cmdstanpy - ERROR - Chain [1] error: error during processing Operation not permitted\n",
      "Optimization terminated abnormally. Falling back to Newton.\n",
      "16:06:24 - cmdstanpy - INFO - Chain [1] start processing\n",
      "16:06:24 - cmdstanpy - INFO - Chain [1] start processing\n",
      "16:06:24 - cmdstanpy - INFO - Chain [1] start processing\n",
      "16:06:25 - cmdstanpy - INFO - Chain [1] start processing\n",
      "16:06:25 - cmdstanpy - INFO - Chain [1] done processing\n",
      "16:06:25 - cmdstanpy - ERROR - Chain [1] error: error during processing Operation not permitted\n",
      "Optimization terminated abnormally. Falling back to Newton.\n",
      "16:06:25 - cmdstanpy - INFO - Chain [1] done processing\n",
      "16:06:25 - cmdstanpy - ERROR - Chain [1] error: error during processing Operation not permitted\n",
      "Optimization terminated abnormally. Falling back to Newton.\n",
      "16:06:25 - cmdstanpy - INFO - Chain [1] done processing\n",
      "16:06:25 - cmdstanpy - INFO - Chain [1] start processing\n",
      "16:06:25 - cmdstanpy - INFO - Chain [1] start processing\n",
      "16:06:25 - cmdstanpy - INFO - Chain [1] done processing\n",
      "16:06:25 - cmdstanpy - ERROR - Chain [1] error: error during processing Operation not permitted\n",
      "Optimization terminated abnormally. Falling back to Newton.\n",
      "16:06:25 - cmdstanpy - INFO - Chain [1] start processing\n",
      "16:06:35 - cmdstanpy - INFO - Chain [1] done processing\n",
      "16:06:40 - cmdstanpy - INFO - Chain [1] done processing\n",
      "16:06:49 - cmdstanpy - INFO - Chain [1] done processing\n",
      "16:06:58 - cmdstanpy - INFO - Chain [1] done processing\n"
     ]
    },
    {
     "name": "stdout",
     "output_type": "stream",
     "text": [
      "{'changepoint_prior_scale': 0.001, 'holidays_prior_scale': 0.01, 'seasonality_mode': 'additive', 'seasonality_prior_scale': 2.51}\n"
     ]
    },
    {
     "name": "stderr",
     "output_type": "stream",
     "text": [
      "16:06:59 - cmdstanpy - INFO - Chain [1] start processing\n",
      "16:06:59 - cmdstanpy - INFO - Chain [1] done processing\n",
      "16:07:01 - cmdstanpy - INFO - Chain [1] start processing\n",
      "16:07:01 - cmdstanpy - INFO - Chain [1] start processing\n",
      "16:07:01 - cmdstanpy - INFO - Chain [1] done processing\n",
      "16:07:01 - cmdstanpy - ERROR - Chain [1] error: error during processing Operation not permitted\n",
      "Optimization terminated abnormally. Falling back to Newton.\n",
      "16:07:01 - cmdstanpy - INFO - Chain [1] start processing\n",
      "16:07:01 - cmdstanpy - INFO - Chain [1] start processing\n",
      "16:07:01 - cmdstanpy - INFO - Chain [1] start processing\n",
      "16:07:01 - cmdstanpy - INFO - Chain [1] done processing\n",
      "16:07:01 - cmdstanpy - ERROR - Chain [1] error: error during processing Operation not permitted\n",
      "Optimization terminated abnormally. Falling back to Newton.\n",
      "16:07:01 - cmdstanpy - INFO - Chain [1] start processing\n",
      "16:07:01 - cmdstanpy - INFO - Chain [1] start processing\n",
      "16:07:01 - cmdstanpy - INFO - Chain [1] done processing\n",
      "16:07:01 - cmdstanpy - ERROR - Chain [1] error: error during processing Operation not permitted\n",
      "Optimization terminated abnormally. Falling back to Newton.\n",
      "16:07:01 - cmdstanpy - INFO - Chain [1] done processing\n",
      "16:07:01 - cmdstanpy - INFO - Chain [1] done processing\n",
      "16:07:02 - cmdstanpy - INFO - Chain [1] start processing\n",
      "16:07:05 - cmdstanpy - INFO - Chain [1] done processing\n",
      "16:07:10 - cmdstanpy - INFO - Chain [1] done processing\n",
      "16:07:15 - cmdstanpy - INFO - Chain [1] done processing\n"
     ]
    },
    {
     "name": "stdout",
     "output_type": "stream",
     "text": [
      "{'changepoint_prior_scale': 0.001, 'holidays_prior_scale': 0.01, 'seasonality_mode': 'additive', 'seasonality_prior_scale': 5.01}\n"
     ]
    },
    {
     "name": "stderr",
     "output_type": "stream",
     "text": [
      "16:07:16 - cmdstanpy - INFO - Chain [1] start processing\n",
      "16:07:16 - cmdstanpy - INFO - Chain [1] done processing\n",
      "16:07:17 - cmdstanpy - INFO - Chain [1] start processing\n",
      "16:07:17 - cmdstanpy - INFO - Chain [1] done processing\n",
      "16:07:17 - cmdstanpy - ERROR - Chain [1] error: error during processing Operation not permitted\n",
      "16:07:17 - cmdstanpy - INFO - Chain [1] start processing\n",
      "Optimization terminated abnormally. Falling back to Newton.\n",
      "16:07:17 - cmdstanpy - INFO - Chain [1] start processing\n",
      "16:07:17 - cmdstanpy - INFO - Chain [1] start processing\n",
      "16:07:17 - cmdstanpy - INFO - Chain [1] start processing\n",
      "16:07:17 - cmdstanpy - INFO - Chain [1] start processing\n",
      "16:07:17 - cmdstanpy - INFO - Chain [1] done processing\n",
      "16:07:18 - cmdstanpy - INFO - Chain [1] done processing\n",
      "16:07:18 - cmdstanpy - INFO - Chain [1] done processing\n",
      "16:07:18 - cmdstanpy - ERROR - Chain [1] error: error during processing Operation not permitted\n",
      "Optimization terminated abnormally. Falling back to Newton.\n",
      "16:07:18 - cmdstanpy - INFO - Chain [1] done processing\n",
      "16:07:18 - cmdstanpy - INFO - Chain [1] start processing\n",
      "16:07:22 - cmdstanpy - INFO - Chain [1] done processing\n",
      "16:11:03 - cmdstanpy - INFO - Chain [1] done processing\n"
     ]
    },
    {
     "name": "stdout",
     "output_type": "stream",
     "text": [
      "{'changepoint_prior_scale': 0.001, 'holidays_prior_scale': 0.01, 'seasonality_mode': 'additive', 'seasonality_prior_scale': 7.51}\n"
     ]
    },
    {
     "name": "stderr",
     "output_type": "stream",
     "text": [
      "16:11:03 - cmdstanpy - INFO - Chain [1] start processing\n",
      "16:11:03 - cmdstanpy - INFO - Chain [1] done processing\n",
      "16:11:05 - cmdstanpy - INFO - Chain [1] start processing\n",
      "16:11:05 - cmdstanpy - INFO - Chain [1] done processing\n",
      "16:11:05 - cmdstanpy - ERROR - Chain [1] error: error during processing Operation not permitted\n",
      "Optimization terminated abnormally. Falling back to Newton.\n",
      "16:11:05 - cmdstanpy - INFO - Chain [1] start processing\n",
      "16:11:05 - cmdstanpy - INFO - Chain [1] start processing\n",
      "16:11:05 - cmdstanpy - INFO - Chain [1] start processing\n",
      "16:11:05 - cmdstanpy - INFO - Chain [1] start processing\n",
      "16:11:05 - cmdstanpy - INFO - Chain [1] start processing\n",
      "16:11:05 - cmdstanpy - INFO - Chain [1] done processing\n",
      "16:11:05 - cmdstanpy - ERROR - Chain [1] error: error during processing Operation not permitted\n",
      "Optimization terminated abnormally. Falling back to Newton.\n",
      "16:11:05 - cmdstanpy - INFO - Chain [1] done processing\n",
      "16:11:05 - cmdstanpy - INFO - Chain [1] done processing\n",
      "16:11:06 - cmdstanpy - INFO - Chain [1] start processing\n",
      "16:11:06 - cmdstanpy - INFO - Chain [1] done processing\n",
      "16:11:06 - cmdstanpy - ERROR - Chain [1] error: error during processing Operation not permitted\n",
      "Optimization terminated abnormally. Falling back to Newton.\n",
      "16:11:06 - cmdstanpy - INFO - Chain [1] start processing\n",
      "16:11:10 - cmdstanpy - INFO - Chain [1] done processing\n",
      "16:11:16 - cmdstanpy - INFO - Chain [1] done processing\n",
      "16:11:20 - cmdstanpy - INFO - Chain [1] done processing\n"
     ]
    },
    {
     "name": "stdout",
     "output_type": "stream",
     "text": [
      "{'changepoint_prior_scale': 0.001, 'holidays_prior_scale': 2.51, 'seasonality_mode': 'multiplicative', 'seasonality_prior_scale': 0.01}\n"
     ]
    },
    {
     "name": "stderr",
     "output_type": "stream",
     "text": [
      "16:11:21 - cmdstanpy - INFO - Chain [1] start processing\n",
      "16:11:21 - cmdstanpy - INFO - Chain [1] done processing\n",
      "16:11:23 - cmdstanpy - INFO - Chain [1] start processing\n",
      "16:11:23 - cmdstanpy - INFO - Chain [1] start processing\n",
      "16:11:23 - cmdstanpy - INFO - Chain [1] start processing\n",
      "16:11:23 - cmdstanpy - INFO - Chain [1] start processing\n",
      "16:11:23 - cmdstanpy - INFO - Chain [1] start processing\n",
      "16:11:23 - cmdstanpy - INFO - Chain [1] done processing\n",
      "16:11:23 - cmdstanpy - INFO - Chain [1] done processing\n",
      "16:11:23 - cmdstanpy - ERROR - Chain [1] error: error during processing Operation not permitted\n",
      "Optimization terminated abnormally. Falling back to Newton.\n",
      "16:11:23 - cmdstanpy - INFO - Chain [1] start processing\n",
      "16:11:24 - cmdstanpy - INFO - Chain [1] done processing\n",
      "16:11:24 - cmdstanpy - ERROR - Chain [1] error: error during processing Operation not permitted\n",
      "Optimization terminated abnormally. Falling back to Newton.\n",
      "16:11:24 - cmdstanpy - INFO - Chain [1] start processing\n",
      "16:11:25 - cmdstanpy - INFO - Chain [1] done processing\n",
      "16:11:25 - cmdstanpy - ERROR - Chain [1] error: error during processing Operation not permitted\n",
      "Optimization terminated abnormally. Falling back to Newton.\n",
      "16:11:25 - cmdstanpy - INFO - Chain [1] start processing\n",
      "16:11:29 - cmdstanpy - INFO - Chain [1] done processing\n",
      "16:11:55 - cmdstanpy - INFO - Chain [1] done processing\n",
      "16:12:08 - cmdstanpy - INFO - Chain [1] done processing\n",
      "16:12:34 - cmdstanpy - INFO - Chain [1] done processing\n"
     ]
    },
    {
     "name": "stdout",
     "output_type": "stream",
     "text": [
      "{'changepoint_prior_scale': 0.001, 'holidays_prior_scale': 2.51, 'seasonality_mode': 'multiplicative', 'seasonality_prior_scale': 2.51}\n"
     ]
    },
    {
     "name": "stderr",
     "output_type": "stream",
     "text": [
      "16:12:35 - cmdstanpy - INFO - Chain [1] start processing\n",
      "16:12:35 - cmdstanpy - INFO - Chain [1] done processing\n",
      "16:12:36 - cmdstanpy - INFO - Chain [1] start processing\n",
      "16:12:36 - cmdstanpy - INFO - Chain [1] start processing\n",
      "16:12:36 - cmdstanpy - INFO - Chain [1] start processing\n",
      "16:12:37 - cmdstanpy - INFO - Chain [1] start processing\n",
      "16:12:37 - cmdstanpy - INFO - Chain [1] done processing\n",
      "16:12:37 - cmdstanpy - ERROR - Chain [1] error: error during processing Operation not permitted\n",
      "Optimization terminated abnormally. Falling back to Newton.\n",
      "16:12:37 - cmdstanpy - INFO - Chain [1] start processing\n",
      "16:12:37 - cmdstanpy - INFO - Chain [1] done processing\n",
      "16:12:37 - cmdstanpy - INFO - Chain [1] start processing\n",
      "16:12:37 - cmdstanpy - INFO - Chain [1] done processing\n",
      "16:12:37 - cmdstanpy - ERROR - Chain [1] error: error during processing Operation not permitted\n",
      "Optimization terminated abnormally. Falling back to Newton.\n",
      "16:12:37 - cmdstanpy - INFO - Chain [1] done processing\n",
      "16:12:37 - cmdstanpy - ERROR - Chain [1] error: error during processing Operation not permitted\n",
      "Optimization terminated abnormally. Falling back to Newton.\n",
      "16:12:38 - cmdstanpy - INFO - Chain [1] start processing\n",
      "16:12:38 - cmdstanpy - INFO - Chain [1] start processing\n",
      "16:12:39 - cmdstanpy - INFO - Chain [1] done processing\n",
      "16:13:32 - cmdstanpy - INFO - Chain [1] done processing\n",
      "16:13:37 - cmdstanpy - INFO - Chain [1] done processing\n",
      "16:13:37 - cmdstanpy - INFO - Chain [1] done processing\n"
     ]
    },
    {
     "name": "stdout",
     "output_type": "stream",
     "text": [
      "{'changepoint_prior_scale': 0.001, 'holidays_prior_scale': 2.51, 'seasonality_mode': 'multiplicative', 'seasonality_prior_scale': 5.01}\n"
     ]
    },
    {
     "name": "stderr",
     "output_type": "stream",
     "text": [
      "16:13:38 - cmdstanpy - INFO - Chain [1] start processing\n",
      "16:13:38 - cmdstanpy - INFO - Chain [1] done processing\n",
      "16:13:39 - cmdstanpy - INFO - Chain [1] start processing\n",
      "16:13:40 - cmdstanpy - INFO - Chain [1] start processing\n",
      "16:13:40 - cmdstanpy - INFO - Chain [1] start processing\n",
      "16:13:40 - cmdstanpy - INFO - Chain [1] start processing\n",
      "16:13:40 - cmdstanpy - INFO - Chain [1] start processing\n",
      "16:13:40 - cmdstanpy - INFO - Chain [1] done processing\n",
      "16:13:40 - cmdstanpy - INFO - Chain [1] done processing\n",
      "16:13:40 - cmdstanpy - ERROR - Chain [1] error: error during processing Operation not permitted\n",
      "Optimization terminated abnormally. Falling back to Newton.\n",
      "16:13:41 - cmdstanpy - INFO - Chain [1] done processing\n",
      "16:13:41 - cmdstanpy - INFO - Chain [1] start processing\n",
      "16:13:41 - cmdstanpy - INFO - Chain [1] done processing\n",
      "16:13:41 - cmdstanpy - ERROR - Chain [1] error: error during processing Operation not permitted\n",
      "Optimization terminated abnormally. Falling back to Newton.\n",
      "16:13:41 - cmdstanpy - INFO - Chain [1] done processing\n",
      "16:13:42 - cmdstanpy - INFO - Chain [1] start processing\n",
      "16:14:12 - cmdstanpy - INFO - Chain [1] done processing\n",
      "16:14:16 - cmdstanpy - INFO - Chain [1] done processing\n"
     ]
    },
    {
     "name": "stdout",
     "output_type": "stream",
     "text": [
      "{'changepoint_prior_scale': 0.001, 'holidays_prior_scale': 2.51, 'seasonality_mode': 'multiplicative', 'seasonality_prior_scale': 7.51}\n"
     ]
    },
    {
     "name": "stderr",
     "output_type": "stream",
     "text": [
      "16:14:17 - cmdstanpy - INFO - Chain [1] start processing\n",
      "16:14:18 - cmdstanpy - INFO - Chain [1] done processing\n",
      "16:14:18 - cmdstanpy - ERROR - Chain [1] error: error during processing Operation not permitted\n",
      "Optimization terminated abnormally. Falling back to Newton.\n",
      "16:14:18 - cmdstanpy - INFO - Chain [1] start processing\n",
      "16:15:40 - cmdstanpy - INFO - Chain [1] done processing\n",
      "16:15:41 - cmdstanpy - INFO - Chain [1] start processing\n",
      "16:15:41 - cmdstanpy - INFO - Chain [1] start processing\n",
      "16:15:41 - cmdstanpy - INFO - Chain [1] start processing\n",
      "16:15:41 - cmdstanpy - INFO - Chain [1] start processing\n",
      "16:15:41 - cmdstanpy - INFO - Chain [1] start processing\n",
      "16:15:41 - cmdstanpy - INFO - Chain [1] done processing\n",
      "16:15:41 - cmdstanpy - ERROR - Chain [1] error: error during processing Operation not permitted\n",
      "Optimization terminated abnormally. Falling back to Newton.\n",
      "16:15:41 - cmdstanpy - INFO - Chain [1] done processing\n",
      "16:15:42 - cmdstanpy - INFO - Chain [1] done processing\n",
      "16:15:42 - cmdstanpy - INFO - Chain [1] start processing\n",
      "16:15:42 - cmdstanpy - INFO - Chain [1] done processing\n",
      "16:15:42 - cmdstanpy - ERROR - Chain [1] error: error during processing Operation not permitted\n",
      "Optimization terminated abnormally. Falling back to Newton.\n",
      "16:15:42 - cmdstanpy - INFO - Chain [1] start processing\n",
      "16:15:43 - cmdstanpy - INFO - Chain [1] done processing\n",
      "16:16:05 - cmdstanpy - INFO - Chain [1] done processing\n",
      "16:16:14 - cmdstanpy - INFO - Chain [1] done processing\n"
     ]
    },
    {
     "name": "stdout",
     "output_type": "stream",
     "text": [
      "{'changepoint_prior_scale': 0.001, 'holidays_prior_scale': 2.51, 'seasonality_mode': 'additive', 'seasonality_prior_scale': 0.01}\n"
     ]
    },
    {
     "name": "stderr",
     "output_type": "stream",
     "text": [
      "16:16:15 - cmdstanpy - INFO - Chain [1] start processing\n",
      "16:16:15 - cmdstanpy - INFO - Chain [1] done processing\n",
      "16:16:16 - cmdstanpy - INFO - Chain [1] start processing\n",
      "16:16:16 - cmdstanpy - INFO - Chain [1] start processing\n",
      "16:16:16 - cmdstanpy - INFO - Chain [1] done processing\n",
      "16:16:16 - cmdstanpy - ERROR - Chain [1] error: error during processing Operation not permitted\n",
      "Optimization terminated abnormally. Falling back to Newton.\n",
      "16:16:16 - cmdstanpy - INFO - Chain [1] start processing\n",
      "16:16:17 - cmdstanpy - INFO - Chain [1] start processing\n",
      "16:16:17 - cmdstanpy - INFO - Chain [1] start processing\n",
      "16:16:17 - cmdstanpy - INFO - Chain [1] done processing\n",
      "16:16:17 - cmdstanpy - ERROR - Chain [1] error: error during processing Operation not permitted\n",
      "Optimization terminated abnormally. Falling back to Newton.\n",
      "16:16:17 - cmdstanpy - INFO - Chain [1] start processing\n",
      "16:16:17 - cmdstanpy - INFO - Chain [1] done processing\n",
      "16:16:17 - cmdstanpy - ERROR - Chain [1] error: error during processing Operation not permitted\n",
      "Optimization terminated abnormally. Falling back to Newton.\n",
      "16:16:17 - cmdstanpy - INFO - Chain [1] start processing\n",
      "16:16:17 - cmdstanpy - INFO - Chain [1] done processing\n",
      "16:16:17 - cmdstanpy - INFO - Chain [1] start processing\n",
      "16:16:17 - cmdstanpy - INFO - Chain [1] done processing\n",
      "16:16:21 - cmdstanpy - INFO - Chain [1] done processing\n",
      "16:16:26 - cmdstanpy - INFO - Chain [1] done processing\n",
      "16:16:31 - cmdstanpy - INFO - Chain [1] done processing\n"
     ]
    },
    {
     "name": "stdout",
     "output_type": "stream",
     "text": [
      "{'changepoint_prior_scale': 0.001, 'holidays_prior_scale': 2.51, 'seasonality_mode': 'additive', 'seasonality_prior_scale': 2.51}\n"
     ]
    },
    {
     "name": "stderr",
     "output_type": "stream",
     "text": [
      "16:16:32 - cmdstanpy - INFO - Chain [1] start processing\n",
      "16:16:32 - cmdstanpy - INFO - Chain [1] done processing\n",
      "16:16:33 - cmdstanpy - INFO - Chain [1] start processing\n",
      "16:16:33 - cmdstanpy - INFO - Chain [1] done processing\n",
      "16:16:33 - cmdstanpy - ERROR - Chain [1] error: error during processing Operation not permitted\n",
      "Optimization terminated abnormally. Falling back to Newton.\n",
      "16:16:33 - cmdstanpy - INFO - Chain [1] start processing\n",
      "16:16:33 - cmdstanpy - INFO - Chain [1] start processing\n",
      "16:16:33 - cmdstanpy - INFO - Chain [1] start processing\n",
      "16:16:33 - cmdstanpy - INFO - Chain [1] start processing\n",
      "16:16:33 - cmdstanpy - INFO - Chain [1] done processing\n",
      "16:16:33 - cmdstanpy - ERROR - Chain [1] error: error during processing Operation not permitted\n",
      "Optimization terminated abnormally. Falling back to Newton.\n",
      "16:16:33 - cmdstanpy - INFO - Chain [1] start processing\n",
      "16:16:33 - cmdstanpy - INFO - Chain [1] done processing\n",
      "16:16:34 - cmdstanpy - INFO - Chain [1] start processing\n",
      "16:16:34 - cmdstanpy - INFO - Chain [1] done processing\n",
      "16:16:34 - cmdstanpy - INFO - Chain [1] done processing\n",
      "16:16:38 - cmdstanpy - INFO - Chain [1] done processing\n",
      "16:16:42 - cmdstanpy - INFO - Chain [1] done processing\n"
     ]
    },
    {
     "name": "stdout",
     "output_type": "stream",
     "text": [
      "{'changepoint_prior_scale': 0.001, 'holidays_prior_scale': 2.51, 'seasonality_mode': 'additive', 'seasonality_prior_scale': 5.01}\n"
     ]
    },
    {
     "name": "stderr",
     "output_type": "stream",
     "text": [
      "16:16:43 - cmdstanpy - INFO - Chain [1] start processing\n",
      "16:16:43 - cmdstanpy - INFO - Chain [1] done processing\n",
      "16:16:44 - cmdstanpy - INFO - Chain [1] start processing\n",
      "16:16:44 - cmdstanpy - INFO - Chain [1] done processing\n",
      "16:16:44 - cmdstanpy - ERROR - Chain [1] error: error during processing Operation not permitted\n",
      "Optimization terminated abnormally. Falling back to Newton.\n",
      "16:16:44 - cmdstanpy - INFO - Chain [1] start processing\n",
      "16:16:44 - cmdstanpy - INFO - Chain [1] start processing\n",
      "16:16:44 - cmdstanpy - INFO - Chain [1] start processing\n",
      "16:16:45 - cmdstanpy - INFO - Chain [1] start processing\n",
      "16:16:45 - cmdstanpy - INFO - Chain [1] start processing\n",
      "16:16:45 - cmdstanpy - INFO - Chain [1] done processing\n",
      "16:16:45 - cmdstanpy - ERROR - Chain [1] error: error during processing Operation not permitted\n",
      "Optimization terminated abnormally. Falling back to Newton.\n",
      "16:16:45 - cmdstanpy - INFO - Chain [1] done processing\n",
      "16:16:45 - cmdstanpy - ERROR - Chain [1] error: error during processing Operation not permitted\n",
      "Optimization terminated abnormally. Falling back to Newton.\n",
      "16:16:45 - cmdstanpy - INFO - Chain [1] done processing\n",
      "16:16:45 - cmdstanpy - INFO - Chain [1] start processing\n",
      "16:16:45 - cmdstanpy - INFO - Chain [1] done processing\n",
      "16:16:45 - cmdstanpy - INFO - Chain [1] start processing\n",
      "16:16:50 - cmdstanpy - INFO - Chain [1] done processing\n",
      "16:16:56 - cmdstanpy - INFO - Chain [1] done processing\n",
      "16:17:02 - cmdstanpy - INFO - Chain [1] done processing\n"
     ]
    },
    {
     "name": "stdout",
     "output_type": "stream",
     "text": [
      "{'changepoint_prior_scale': 0.001, 'holidays_prior_scale': 2.51, 'seasonality_mode': 'additive', 'seasonality_prior_scale': 7.51}\n"
     ]
    },
    {
     "name": "stderr",
     "output_type": "stream",
     "text": [
      "16:17:03 - cmdstanpy - INFO - Chain [1] start processing\n",
      "16:17:03 - cmdstanpy - INFO - Chain [1] done processing\n",
      "16:17:04 - cmdstanpy - INFO - Chain [1] start processing\n",
      "16:17:05 - cmdstanpy - INFO - Chain [1] done processing\n",
      "16:17:05 - cmdstanpy - ERROR - Chain [1] error: error during processing Operation not permitted\n",
      "Optimization terminated abnormally. Falling back to Newton.\n",
      "16:17:05 - cmdstanpy - INFO - Chain [1] start processing\n",
      "16:17:05 - cmdstanpy - INFO - Chain [1] start processing\n",
      "16:17:05 - cmdstanpy - INFO - Chain [1] start processing\n",
      "16:17:05 - cmdstanpy - INFO - Chain [1] done processing\n",
      "16:17:05 - cmdstanpy - ERROR - Chain [1] error: error during processing Operation not permitted\n",
      "Optimization terminated abnormally. Falling back to Newton.\n",
      "16:17:05 - cmdstanpy - INFO - Chain [1] start processing\n",
      "16:17:05 - cmdstanpy - INFO - Chain [1] start processing\n",
      "16:17:05 - cmdstanpy - INFO - Chain [1] start processing\n",
      "16:17:05 - cmdstanpy - INFO - Chain [1] done processing\n",
      "16:17:05 - cmdstanpy - INFO - Chain [1] done processing\n",
      "16:17:05 - cmdstanpy - INFO - Chain [1] done processing\n",
      "16:17:09 - cmdstanpy - INFO - Chain [1] done processing\n",
      "16:17:14 - cmdstanpy - INFO - Chain [1] done processing\n"
     ]
    },
    {
     "name": "stdout",
     "output_type": "stream",
     "text": [
      "{'changepoint_prior_scale': 0.001, 'holidays_prior_scale': 5.01, 'seasonality_mode': 'multiplicative', 'seasonality_prior_scale': 0.01}\n"
     ]
    },
    {
     "name": "stderr",
     "output_type": "stream",
     "text": [
      "16:17:15 - cmdstanpy - INFO - Chain [1] start processing\n",
      "16:17:15 - cmdstanpy - INFO - Chain [1] done processing\n",
      "16:17:16 - cmdstanpy - INFO - Chain [1] start processing\n",
      "16:17:17 - cmdstanpy - INFO - Chain [1] start processing\n",
      "16:17:17 - cmdstanpy - INFO - Chain [1] start processing\n",
      "16:17:17 - cmdstanpy - INFO - Chain [1] start processing\n",
      "16:17:17 - cmdstanpy - INFO - Chain [1] done processing\n",
      "16:17:17 - cmdstanpy - ERROR - Chain [1] error: error during processing Operation not permitted\n",
      "Optimization terminated abnormally. Falling back to Newton.\n",
      "16:17:17 - cmdstanpy - INFO - Chain [1] start processing\n",
      "16:17:17 - cmdstanpy - INFO - Chain [1] done processing\n",
      "16:17:17 - cmdstanpy - INFO - Chain [1] start processing\n",
      "16:17:17 - cmdstanpy - INFO - Chain [1] done processing\n",
      "16:17:18 - cmdstanpy - INFO - Chain [1] done processing\n",
      "16:17:20 - cmdstanpy - INFO - Chain [1] done processing\n",
      "16:17:36 - cmdstanpy - INFO - Chain [1] done processing\n"
     ]
    },
    {
     "name": "stdout",
     "output_type": "stream",
     "text": [
      "{'changepoint_prior_scale': 0.001, 'holidays_prior_scale': 5.01, 'seasonality_mode': 'multiplicative', 'seasonality_prior_scale': 2.51}\n"
     ]
    },
    {
     "name": "stderr",
     "output_type": "stream",
     "text": [
      "16:17:37 - cmdstanpy - INFO - Chain [1] start processing\n",
      "16:17:37 - cmdstanpy - INFO - Chain [1] done processing\n",
      "16:17:38 - cmdstanpy - INFO - Chain [1] start processing\n",
      "16:17:39 - cmdstanpy - INFO - Chain [1] start processing\n",
      "16:17:39 - cmdstanpy - INFO - Chain [1] start processing\n",
      "16:17:39 - cmdstanpy - INFO - Chain [1] start processing\n",
      "16:17:39 - cmdstanpy - INFO - Chain [1] start processing\n",
      "16:17:39 - cmdstanpy - INFO - Chain [1] done processing\n",
      "16:17:39 - cmdstanpy - ERROR - Chain [1] error: error during processing Operation not permitted\n",
      "Optimization terminated abnormally. Falling back to Newton.\n",
      "16:17:39 - cmdstanpy - INFO - Chain [1] done processing\n",
      "16:17:39 - cmdstanpy - INFO - Chain [1] done processing\n",
      "16:17:40 - cmdstanpy - INFO - Chain [1] start processing\n",
      "16:17:40 - cmdstanpy - INFO - Chain [1] done processing\n",
      "16:17:40 - cmdstanpy - ERROR - Chain [1] error: error during processing Operation not permitted\n",
      "Optimization terminated abnormally. Falling back to Newton.\n",
      "16:17:40 - cmdstanpy - INFO - Chain [1] start processing\n",
      "16:17:41 - cmdstanpy - INFO - Chain [1] done processing\n",
      "16:18:15 - cmdstanpy - INFO - Chain [1] done processing\n",
      "16:18:18 - cmdstanpy - INFO - Chain [1] done processing\n"
     ]
    },
    {
     "name": "stdout",
     "output_type": "stream",
     "text": [
      "{'changepoint_prior_scale': 0.001, 'holidays_prior_scale': 5.01, 'seasonality_mode': 'multiplicative', 'seasonality_prior_scale': 5.01}\n"
     ]
    },
    {
     "name": "stderr",
     "output_type": "stream",
     "text": [
      "16:18:19 - cmdstanpy - INFO - Chain [1] start processing\n",
      "16:18:19 - cmdstanpy - INFO - Chain [1] done processing\n",
      "16:18:19 - cmdstanpy - ERROR - Chain [1] error: error during processing Operation not permitted\n",
      "Optimization terminated abnormally. Falling back to Newton.\n",
      "16:18:20 - cmdstanpy - INFO - Chain [1] start processing\n",
      "16:19:15 - cmdstanpy - INFO - Chain [1] done processing\n",
      "16:19:16 - cmdstanpy - INFO - Chain [1] start processing\n",
      "16:19:16 - cmdstanpy - INFO - Chain [1] start processing\n",
      "16:19:16 - cmdstanpy - INFO - Chain [1] start processing\n",
      "16:19:16 - cmdstanpy - INFO - Chain [1] start processing\n",
      "16:19:16 - cmdstanpy - INFO - Chain [1] start processing\n",
      "16:19:16 - cmdstanpy - INFO - Chain [1] done processing\n",
      "16:19:17 - cmdstanpy - INFO - Chain [1] done processing\n",
      "16:19:17 - cmdstanpy - ERROR - Chain [1] error: error during processing Operation not permitted\n",
      "Optimization terminated abnormally. Falling back to Newton.\n",
      "16:19:17 - cmdstanpy - INFO - Chain [1] start processing\n",
      "16:19:17 - cmdstanpy - INFO - Chain [1] done processing\n",
      "16:19:17 - cmdstanpy - ERROR - Chain [1] error: error during processing Operation not permitted\n",
      "Optimization terminated abnormally. Falling back to Newton.\n",
      "16:19:17 - cmdstanpy - INFO - Chain [1] done processing\n",
      "16:19:17 - cmdstanpy - ERROR - Chain [1] error: error during processing Operation not permitted\n",
      "Optimization terminated abnormally. Falling back to Newton.\n",
      "16:19:18 - cmdstanpy - INFO - Chain [1] start processing\n",
      "16:19:18 - cmdstanpy - INFO - Chain [1] start processing\n",
      "16:19:18 - cmdstanpy - INFO - Chain [1] done processing\n",
      "16:20:00 - cmdstanpy - INFO - Chain [1] done processing\n",
      "16:20:05 - cmdstanpy - INFO - Chain [1] done processing\n",
      "16:20:23 - cmdstanpy - INFO - Chain [1] done processing\n"
     ]
    },
    {
     "name": "stdout",
     "output_type": "stream",
     "text": [
      "{'changepoint_prior_scale': 0.001, 'holidays_prior_scale': 5.01, 'seasonality_mode': 'multiplicative', 'seasonality_prior_scale': 7.51}\n"
     ]
    },
    {
     "name": "stderr",
     "output_type": "stream",
     "text": [
      "16:20:24 - cmdstanpy - INFO - Chain [1] start processing\n",
      "16:20:24 - cmdstanpy - INFO - Chain [1] done processing\n",
      "16:20:25 - cmdstanpy - INFO - Chain [1] start processing\n",
      "16:20:25 - cmdstanpy - INFO - Chain [1] start processing\n",
      "16:20:25 - cmdstanpy - INFO - Chain [1] start processing\n",
      "16:20:26 - cmdstanpy - INFO - Chain [1] start processing\n",
      "16:20:26 - cmdstanpy - INFO - Chain [1] start processing\n",
      "16:20:26 - cmdstanpy - INFO - Chain [1] done processing\n",
      "16:20:26 - cmdstanpy - INFO - Chain [1] done processing\n",
      "16:20:26 - cmdstanpy - ERROR - Chain [1] error: error during processing Operation not permitted\n",
      "Optimization terminated abnormally. Falling back to Newton.\n",
      "16:20:26 - cmdstanpy - INFO - Chain [1] done processing\n",
      "16:20:26 - cmdstanpy - INFO - Chain [1] start processing\n",
      "16:20:27 - cmdstanpy - INFO - Chain [1] done processing\n",
      "16:20:27 - cmdstanpy - INFO - Chain [1] done processing\n",
      "16:20:27 - cmdstanpy - ERROR - Chain [1] error: error during processing Operation not permitted\n",
      "Optimization terminated abnormally. Falling back to Newton.\n",
      "16:20:27 - cmdstanpy - INFO - Chain [1] start processing\n",
      "16:20:51 - cmdstanpy - INFO - Chain [1] done processing\n",
      "16:21:00 - cmdstanpy - INFO - Chain [1] done processing\n"
     ]
    },
    {
     "name": "stdout",
     "output_type": "stream",
     "text": [
      "{'changepoint_prior_scale': 0.001, 'holidays_prior_scale': 5.01, 'seasonality_mode': 'additive', 'seasonality_prior_scale': 0.01}\n"
     ]
    },
    {
     "name": "stderr",
     "output_type": "stream",
     "text": [
      "16:21:01 - cmdstanpy - INFO - Chain [1] start processing\n",
      "16:21:01 - cmdstanpy - INFO - Chain [1] done processing\n",
      "16:21:02 - cmdstanpy - INFO - Chain [1] start processing\n",
      "16:21:02 - cmdstanpy - INFO - Chain [1] start processing\n",
      "16:21:02 - cmdstanpy - INFO - Chain [1] done processing\n",
      "16:21:02 - cmdstanpy - ERROR - Chain [1] error: error during processing Operation not permitted\n",
      "Optimization terminated abnormally. Falling back to Newton.\n",
      "16:21:02 - cmdstanpy - INFO - Chain [1] done processing\n",
      "16:21:02 - cmdstanpy - ERROR - Chain [1] error: error during processing Operation not permitted\n",
      "Optimization terminated abnormally. Falling back to Newton.\n",
      "16:21:02 - cmdstanpy - INFO - Chain [1] start processing\n",
      "16:21:03 - cmdstanpy - INFO - Chain [1] start processing\n",
      "16:21:03 - cmdstanpy - INFO - Chain [1] start processing\n",
      "16:21:03 - cmdstanpy - INFO - Chain [1] start processing\n",
      "16:21:03 - cmdstanpy - INFO - Chain [1] start processing\n",
      "16:21:03 - cmdstanpy - INFO - Chain [1] done processing\n",
      "16:21:03 - cmdstanpy - ERROR - Chain [1] error: error during processing Operation not permitted\n",
      "Optimization terminated abnormally. Falling back to Newton.\n",
      "16:21:03 - cmdstanpy - INFO - Chain [1] done processing\n",
      "16:21:03 - cmdstanpy - INFO - Chain [1] done processing\n",
      "16:21:03 - cmdstanpy - INFO - Chain [1] start processing\n",
      "16:21:07 - cmdstanpy - INFO - Chain [1] done processing\n",
      "16:21:11 - cmdstanpy - INFO - Chain [1] done processing\n",
      "16:21:16 - cmdstanpy - INFO - Chain [1] done processing\n"
     ]
    },
    {
     "name": "stdout",
     "output_type": "stream",
     "text": [
      "{'changepoint_prior_scale': 0.001, 'holidays_prior_scale': 5.01, 'seasonality_mode': 'additive', 'seasonality_prior_scale': 2.51}\n"
     ]
    },
    {
     "name": "stderr",
     "output_type": "stream",
     "text": [
      "16:21:17 - cmdstanpy - INFO - Chain [1] start processing\n",
      "16:21:17 - cmdstanpy - INFO - Chain [1] done processing\n",
      "16:21:18 - cmdstanpy - INFO - Chain [1] start processing\n",
      "16:21:18 - cmdstanpy - INFO - Chain [1] done processing\n",
      "16:21:18 - cmdstanpy - INFO - Chain [1] start processing\n",
      "16:21:19 - cmdstanpy - INFO - Chain [1] start processing\n",
      "16:21:19 - cmdstanpy - INFO - Chain [1] start processing\n",
      "16:21:19 - cmdstanpy - INFO - Chain [1] start processing\n",
      "16:21:19 - cmdstanpy - INFO - Chain [1] done processing\n",
      "16:21:19 - cmdstanpy - ERROR - Chain [1] error: error during processing Operation not permitted\n",
      "Optimization terminated abnormally. Falling back to Newton.\n",
      "16:21:19 - cmdstanpy - INFO - Chain [1] done processing\n",
      "16:21:19 - cmdstanpy - INFO - Chain [1] done processing\n",
      "16:21:19 - cmdstanpy - INFO - Chain [1] start processing\n",
      "16:21:19 - cmdstanpy - INFO - Chain [1] done processing\n",
      "16:21:28 - cmdstanpy - INFO - Chain [1] done processing\n"
     ]
    },
    {
     "name": "stdout",
     "output_type": "stream",
     "text": [
      "{'changepoint_prior_scale': 0.001, 'holidays_prior_scale': 5.01, 'seasonality_mode': 'additive', 'seasonality_prior_scale': 5.01}\n"
     ]
    },
    {
     "name": "stderr",
     "output_type": "stream",
     "text": [
      "16:21:28 - cmdstanpy - INFO - Chain [1] start processing\n",
      "16:21:29 - cmdstanpy - INFO - Chain [1] done processing\n",
      "16:21:30 - cmdstanpy - INFO - Chain [1] start processing\n",
      "16:21:30 - cmdstanpy - INFO - Chain [1] start processing\n",
      "16:21:30 - cmdstanpy - INFO - Chain [1] done processing\n",
      "16:21:30 - cmdstanpy - ERROR - Chain [1] error: error during processing Operation not permitted\n",
      "Optimization terminated abnormally. Falling back to Newton.\n",
      "16:21:30 - cmdstanpy - INFO - Chain [1] start processing\n",
      "16:21:30 - cmdstanpy - INFO - Chain [1] start processing\n",
      "16:21:30 - cmdstanpy - INFO - Chain [1] start processing\n",
      "16:21:30 - cmdstanpy - INFO - Chain [1] start processing\n",
      "16:21:30 - cmdstanpy - INFO - Chain [1] done processing\n",
      "16:21:30 - cmdstanpy - INFO - Chain [1] done processing\n",
      "16:21:30 - cmdstanpy - ERROR - Chain [1] error: error during processing Operation not permitted\n",
      "Optimization terminated abnormally. Falling back to Newton.\n",
      "16:21:30 - cmdstanpy - INFO - Chain [1] done processing\n",
      "16:21:31 - cmdstanpy - INFO - Chain [1] done processing\n",
      "16:21:31 - cmdstanpy - INFO - Chain [1] start processing\n",
      "16:21:35 - cmdstanpy - INFO - Chain [1] done processing\n",
      "16:21:40 - cmdstanpy - INFO - Chain [1] done processing\n"
     ]
    },
    {
     "name": "stdout",
     "output_type": "stream",
     "text": [
      "{'changepoint_prior_scale': 0.001, 'holidays_prior_scale': 5.01, 'seasonality_mode': 'additive', 'seasonality_prior_scale': 7.51}\n"
     ]
    },
    {
     "name": "stderr",
     "output_type": "stream",
     "text": [
      "16:21:40 - cmdstanpy - INFO - Chain [1] start processing\n",
      "16:21:40 - cmdstanpy - INFO - Chain [1] done processing\n",
      "16:21:42 - cmdstanpy - INFO - Chain [1] start processing\n",
      "16:21:42 - cmdstanpy - INFO - Chain [1] start processing\n",
      "16:21:42 - cmdstanpy - INFO - Chain [1] done processing\n",
      "16:21:42 - cmdstanpy - ERROR - Chain [1] error: error during processing Operation not permitted\n",
      "Optimization terminated abnormally. Falling back to Newton.\n",
      "16:21:42 - cmdstanpy - INFO - Chain [1] start processing\n",
      "16:21:42 - cmdstanpy - INFO - Chain [1] start processing\n",
      "16:21:42 - cmdstanpy - INFO - Chain [1] start processing\n",
      "16:21:42 - cmdstanpy - INFO - Chain [1] done processing\n",
      "16:21:42 - cmdstanpy - ERROR - Chain [1] error: error during processing Operation not permitted\n",
      "Optimization terminated abnormally. Falling back to Newton.\n",
      "16:21:42 - cmdstanpy - INFO - Chain [1] start processing\n",
      "16:21:42 - cmdstanpy - INFO - Chain [1] start processing\n",
      "16:21:42 - cmdstanpy - INFO - Chain [1] done processing\n",
      "16:21:42 - cmdstanpy - ERROR - Chain [1] error: error during processing Operation not permitted\n",
      "Optimization terminated abnormally. Falling back to Newton.\n",
      "16:21:42 - cmdstanpy - INFO - Chain [1] done processing\n",
      "16:21:42 - cmdstanpy - INFO - Chain [1] done processing\n",
      "16:21:43 - cmdstanpy - INFO - Chain [1] start processing\n",
      "16:21:48 - cmdstanpy - INFO - Chain [1] done processing\n",
      "16:21:54 - cmdstanpy - INFO - Chain [1] done processing\n",
      "16:21:56 - cmdstanpy - INFO - Chain [1] done processing\n"
     ]
    },
    {
     "name": "stdout",
     "output_type": "stream",
     "text": [
      "{'changepoint_prior_scale': 0.001, 'holidays_prior_scale': 7.51, 'seasonality_mode': 'multiplicative', 'seasonality_prior_scale': 0.01}\n"
     ]
    },
    {
     "name": "stderr",
     "output_type": "stream",
     "text": [
      "16:21:57 - cmdstanpy - INFO - Chain [1] start processing\n",
      "16:21:57 - cmdstanpy - INFO - Chain [1] done processing\n",
      "16:21:59 - cmdstanpy - INFO - Chain [1] start processing\n",
      "16:21:59 - cmdstanpy - INFO - Chain [1] start processing\n",
      "16:21:59 - cmdstanpy - INFO - Chain [1] start processing\n",
      "16:21:59 - cmdstanpy - INFO - Chain [1] start processing\n",
      "16:21:59 - cmdstanpy - INFO - Chain [1] start processing\n",
      "16:21:59 - cmdstanpy - INFO - Chain [1] done processing\n",
      "16:21:59 - cmdstanpy - ERROR - Chain [1] error: error during processing Operation not permitted\n",
      "Optimization terminated abnormally. Falling back to Newton.\n",
      "16:21:59 - cmdstanpy - INFO - Chain [1] done processing\n",
      "16:22:00 - cmdstanpy - INFO - Chain [1] done processing\n",
      "16:22:00 - cmdstanpy - INFO - Chain [1] start processing\n",
      "16:22:00 - cmdstanpy - INFO - Chain [1] done processing\n",
      "16:22:00 - cmdstanpy - ERROR - Chain [1] error: error during processing Operation not permitted\n",
      "Optimization terminated abnormally. Falling back to Newton.\n",
      "16:22:01 - cmdstanpy - INFO - Chain [1] start processing\n",
      "16:22:03 - cmdstanpy - INFO - Chain [1] done processing\n",
      "16:22:22 - cmdstanpy - INFO - Chain [1] done processing\n",
      "16:22:57 - cmdstanpy - INFO - Chain [1] done processing\n"
     ]
    },
    {
     "name": "stdout",
     "output_type": "stream",
     "text": [
      "{'changepoint_prior_scale': 0.001, 'holidays_prior_scale': 7.51, 'seasonality_mode': 'multiplicative', 'seasonality_prior_scale': 2.51}\n"
     ]
    },
    {
     "name": "stderr",
     "output_type": "stream",
     "text": [
      "16:22:58 - cmdstanpy - INFO - Chain [1] start processing\n",
      "16:22:58 - cmdstanpy - INFO - Chain [1] done processing\n",
      "16:22:58 - cmdstanpy - ERROR - Chain [1] error: error during processing Operation not permitted\n",
      "Optimization terminated abnormally. Falling back to Newton.\n",
      "16:22:59 - cmdstanpy - INFO - Chain [1] start processing\n",
      "16:23:53 - cmdstanpy - INFO - Chain [1] done processing\n",
      "16:23:54 - cmdstanpy - INFO - Chain [1] start processing\n",
      "16:23:54 - cmdstanpy - INFO - Chain [1] start processing\n",
      "16:23:54 - cmdstanpy - INFO - Chain [1] start processing\n",
      "16:23:55 - cmdstanpy - INFO - Chain [1] start processing\n",
      "16:23:55 - cmdstanpy - INFO - Chain [1] start processing\n",
      "16:23:55 - cmdstanpy - INFO - Chain [1] done processing\n",
      "16:23:55 - cmdstanpy - ERROR - Chain [1] error: error during processing Operation not permitted\n",
      "Optimization terminated abnormally. Falling back to Newton.\n",
      "16:23:55 - cmdstanpy - INFO - Chain [1] done processing\n",
      "16:23:55 - cmdstanpy - INFO - Chain [1] done processing\n",
      "16:23:55 - cmdstanpy - INFO - Chain [1] start processing\n",
      "16:23:56 - cmdstanpy - INFO - Chain [1] done processing\n",
      "16:23:56 - cmdstanpy - ERROR - Chain [1] error: error during processing Operation not permitted\n",
      "Optimization terminated abnormally. Falling back to Newton.\n",
      "16:23:56 - cmdstanpy - INFO - Chain [1] start processing\n",
      "16:23:57 - cmdstanpy - INFO - Chain [1] done processing\n",
      "16:24:34 - cmdstanpy - INFO - Chain [1] done processing\n",
      "16:24:39 - cmdstanpy - INFO - Chain [1] done processing\n"
     ]
    },
    {
     "name": "stdout",
     "output_type": "stream",
     "text": [
      "{'changepoint_prior_scale': 0.001, 'holidays_prior_scale': 7.51, 'seasonality_mode': 'multiplicative', 'seasonality_prior_scale': 5.01}\n"
     ]
    },
    {
     "name": "stderr",
     "output_type": "stream",
     "text": [
      "16:24:40 - cmdstanpy - INFO - Chain [1] start processing\n",
      "16:24:41 - cmdstanpy - INFO - Chain [1] done processing\n",
      "16:24:41 - cmdstanpy - ERROR - Chain [1] error: error during processing Operation not permitted\n",
      "Optimization terminated abnormally. Falling back to Newton.\n",
      "16:24:41 - cmdstanpy - INFO - Chain [1] start processing\n",
      "16:25:44 - cmdstanpy - INFO - Chain [1] done processing\n",
      "16:25:45 - cmdstanpy - INFO - Chain [1] start processing\n",
      "16:25:45 - cmdstanpy - INFO - Chain [1] start processing\n",
      "16:25:45 - cmdstanpy - INFO - Chain [1] start processing\n",
      "16:25:45 - cmdstanpy - INFO - Chain [1] start processing\n",
      "16:25:45 - cmdstanpy - INFO - Chain [1] start processing\n",
      "16:25:45 - cmdstanpy - INFO - Chain [1] done processing\n",
      "16:25:45 - cmdstanpy - INFO - Chain [1] done processing\n",
      "16:25:45 - cmdstanpy - ERROR - Chain [1] error: error during processing Operation not permitted\n",
      "Optimization terminated abnormally. Falling back to Newton.\n",
      "16:25:46 - cmdstanpy - INFO - Chain [1] done processing\n",
      "16:25:46 - cmdstanpy - INFO - Chain [1] start processing\n",
      "16:25:46 - cmdstanpy - INFO - Chain [1] done processing\n",
      "16:25:46 - cmdstanpy - ERROR - Chain [1] error: error during processing Operation not permitted\n",
      "Optimization terminated abnormally. Falling back to Newton.\n",
      "16:25:46 - cmdstanpy - INFO - Chain [1] start processing\n",
      "16:25:46 - cmdstanpy - INFO - Chain [1] done processing\n",
      "16:26:15 - cmdstanpy - INFO - Chain [1] done processing\n",
      "16:26:18 - cmdstanpy - INFO - Chain [1] done processing\n"
     ]
    },
    {
     "name": "stdout",
     "output_type": "stream",
     "text": [
      "{'changepoint_prior_scale': 0.001, 'holidays_prior_scale': 7.51, 'seasonality_mode': 'multiplicative', 'seasonality_prior_scale': 7.51}\n"
     ]
    },
    {
     "name": "stderr",
     "output_type": "stream",
     "text": [
      "16:26:19 - cmdstanpy - INFO - Chain [1] start processing\n",
      "16:26:19 - cmdstanpy - INFO - Chain [1] done processing\n",
      "16:26:20 - cmdstanpy - INFO - Chain [1] start processing\n",
      "16:26:20 - cmdstanpy - INFO - Chain [1] start processing\n",
      "16:26:20 - cmdstanpy - INFO - Chain [1] start processing\n",
      "16:26:21 - cmdstanpy - INFO - Chain [1] start processing\n",
      "16:26:21 - cmdstanpy - INFO - Chain [1] done processing\n",
      "16:26:21 - cmdstanpy - ERROR - Chain [1] error: error during processing Operation not permitted\n",
      "Optimization terminated abnormally. Falling back to Newton.\n",
      "16:26:21 - cmdstanpy - INFO - Chain [1] start processing\n",
      "16:26:21 - cmdstanpy - INFO - Chain [1] done processing\n",
      "16:26:21 - cmdstanpy - INFO - Chain [1] start processing\n",
      "16:26:21 - cmdstanpy - INFO - Chain [1] done processing\n",
      "16:26:22 - cmdstanpy - INFO - Chain [1] done processing\n",
      "16:26:22 - cmdstanpy - INFO - Chain [1] done processing\n",
      "16:26:51 - cmdstanpy - INFO - Chain [1] done processing\n"
     ]
    },
    {
     "name": "stdout",
     "output_type": "stream",
     "text": [
      "{'changepoint_prior_scale': 0.001, 'holidays_prior_scale': 7.51, 'seasonality_mode': 'additive', 'seasonality_prior_scale': 0.01}\n"
     ]
    },
    {
     "name": "stderr",
     "output_type": "stream",
     "text": [
      "16:26:52 - cmdstanpy - INFO - Chain [1] start processing\n",
      "16:26:52 - cmdstanpy - INFO - Chain [1] done processing\n",
      "16:26:53 - cmdstanpy - INFO - Chain [1] start processing\n",
      "16:26:53 - cmdstanpy - INFO - Chain [1] start processing\n",
      "16:26:53 - cmdstanpy - INFO - Chain [1] done processing\n",
      "16:26:53 - cmdstanpy - ERROR - Chain [1] error: error during processing Operation not permitted\n",
      "Optimization terminated abnormally. Falling back to Newton.\n",
      "16:26:53 - cmdstanpy - INFO - Chain [1] start processing\n",
      "16:26:54 - cmdstanpy - INFO - Chain [1] start processing\n",
      "16:26:54 - cmdstanpy - INFO - Chain [1] start processing\n",
      "16:26:54 - cmdstanpy - INFO - Chain [1] done processing\n",
      "16:26:54 - cmdstanpy - ERROR - Chain [1] error: error during processing Operation not permitted\n",
      "Optimization terminated abnormally. Falling back to Newton.\n",
      "16:26:54 - cmdstanpy - INFO - Chain [1] start processing\n",
      "16:26:54 - cmdstanpy - INFO - Chain [1] done processing\n",
      "16:26:54 - cmdstanpy - ERROR - Chain [1] error: error during processing Operation not permitted\n",
      "Optimization terminated abnormally. Falling back to Newton.\n",
      "16:26:54 - cmdstanpy - INFO - Chain [1] start processing\n",
      "16:26:54 - cmdstanpy - INFO - Chain [1] done processing\n",
      "16:26:54 - cmdstanpy - INFO - Chain [1] start processing\n",
      "16:26:55 - cmdstanpy - INFO - Chain [1] done processing\n",
      "16:26:59 - cmdstanpy - INFO - Chain [1] done processing\n",
      "16:27:02 - cmdstanpy - INFO - Chain [1] done processing\n",
      "16:27:07 - cmdstanpy - INFO - Chain [1] done processing\n"
     ]
    },
    {
     "name": "stdout",
     "output_type": "stream",
     "text": [
      "{'changepoint_prior_scale': 0.001, 'holidays_prior_scale': 7.51, 'seasonality_mode': 'additive', 'seasonality_prior_scale': 2.51}\n"
     ]
    },
    {
     "name": "stderr",
     "output_type": "stream",
     "text": [
      "16:27:08 - cmdstanpy - INFO - Chain [1] start processing\n",
      "16:27:08 - cmdstanpy - INFO - Chain [1] done processing\n",
      "16:27:10 - cmdstanpy - INFO - Chain [1] start processing\n",
      "16:27:10 - cmdstanpy - INFO - Chain [1] start processing\n",
      "16:27:10 - cmdstanpy - INFO - Chain [1] done processing\n",
      "16:27:10 - cmdstanpy - ERROR - Chain [1] error: error during processing Operation not permitted\n",
      "Optimization terminated abnormally. Falling back to Newton.\n",
      "16:27:10 - cmdstanpy - INFO - Chain [1] start processing\n",
      "16:27:10 - cmdstanpy - INFO - Chain [1] start processing\n",
      "16:27:10 - cmdstanpy - INFO - Chain [1] start processing\n",
      "16:27:10 - cmdstanpy - INFO - Chain [1] start processing\n",
      "16:27:10 - cmdstanpy - INFO - Chain [1] done processing\n",
      "16:27:10 - cmdstanpy - INFO - Chain [1] done processing\n",
      "16:27:11 - cmdstanpy - INFO - Chain [1] done processing\n",
      "16:27:11 - cmdstanpy - ERROR - Chain [1] error: error during processing Operation not permitted\n",
      "Optimization terminated abnormally. Falling back to Newton.\n",
      "16:27:11 - cmdstanpy - INFO - Chain [1] done processing\n",
      "16:27:11 - cmdstanpy - INFO - Chain [1] start processing\n",
      "16:27:15 - cmdstanpy - INFO - Chain [1] done processing\n",
      "16:27:24 - cmdstanpy - INFO - Chain [1] done processing\n"
     ]
    },
    {
     "name": "stdout",
     "output_type": "stream",
     "text": [
      "{'changepoint_prior_scale': 0.001, 'holidays_prior_scale': 7.51, 'seasonality_mode': 'additive', 'seasonality_prior_scale': 5.01}\n"
     ]
    },
    {
     "name": "stderr",
     "output_type": "stream",
     "text": [
      "16:27:25 - cmdstanpy - INFO - Chain [1] start processing\n",
      "16:27:25 - cmdstanpy - INFO - Chain [1] done processing\n",
      "16:27:26 - cmdstanpy - INFO - Chain [1] start processing\n",
      "16:27:26 - cmdstanpy - INFO - Chain [1] done processing\n",
      "16:27:26 - cmdstanpy - ERROR - Chain [1] error: error during processing Operation not permitted\n",
      "Optimization terminated abnormally. Falling back to Newton.\n",
      "16:27:26 - cmdstanpy - INFO - Chain [1] start processing\n",
      "16:27:26 - cmdstanpy - INFO - Chain [1] start processing\n",
      "16:27:26 - cmdstanpy - INFO - Chain [1] start processing\n",
      "16:27:26 - cmdstanpy - INFO - Chain [1] start processing\n",
      "16:27:26 - cmdstanpy - INFO - Chain [1] start processing\n",
      "16:27:26 - cmdstanpy - INFO - Chain [1] done processing\n",
      "16:27:26 - cmdstanpy - ERROR - Chain [1] error: error during processing Operation not permitted\n",
      "Optimization terminated abnormally. Falling back to Newton.\n",
      "16:27:27 - cmdstanpy - INFO - Chain [1] start processing\n",
      "16:27:27 - cmdstanpy - INFO - Chain [1] done processing\n",
      "16:27:27 - cmdstanpy - ERROR - Chain [1] error: error during processing Operation not permitted\n",
      "Optimization terminated abnormally. Falling back to Newton.\n",
      "16:27:27 - cmdstanpy - INFO - Chain [1] done processing\n",
      "16:27:27 - cmdstanpy - INFO - Chain [1] done processing\n",
      "16:27:27 - cmdstanpy - ERROR - Chain [1] error: error during processing Operation not permitted\n",
      "Optimization terminated abnormally. Falling back to Newton.\n",
      "16:27:27 - cmdstanpy - INFO - Chain [1] start processing\n",
      "16:27:27 - cmdstanpy - INFO - Chain [1] start processing\n",
      "16:27:33 - cmdstanpy - INFO - Chain [1] done processing\n",
      "16:27:40 - cmdstanpy - INFO - Chain [1] done processing\n",
      "16:27:45 - cmdstanpy - INFO - Chain [1] done processing\n",
      "16:27:49 - cmdstanpy - INFO - Chain [1] done processing\n"
     ]
    },
    {
     "name": "stdout",
     "output_type": "stream",
     "text": [
      "{'changepoint_prior_scale': 0.001, 'holidays_prior_scale': 7.51, 'seasonality_mode': 'additive', 'seasonality_prior_scale': 7.51}\n"
     ]
    },
    {
     "name": "stderr",
     "output_type": "stream",
     "text": [
      "16:27:50 - cmdstanpy - INFO - Chain [1] start processing\n",
      "16:27:50 - cmdstanpy - INFO - Chain [1] done processing\n",
      "16:27:51 - cmdstanpy - INFO - Chain [1] start processing\n",
      "16:27:51 - cmdstanpy - INFO - Chain [1] done processing\n",
      "16:27:51 - cmdstanpy - ERROR - Chain [1] error: error during processing Operation not permitted\n",
      "Optimization terminated abnormally. Falling back to Newton.\n",
      "16:27:51 - cmdstanpy - INFO - Chain [1] start processing\n",
      "16:27:51 - cmdstanpy - INFO - Chain [1] start processing\n",
      "16:27:51 - cmdstanpy - INFO - Chain [1] start processing\n",
      "16:27:51 - cmdstanpy - INFO - Chain [1] start processing\n",
      "16:27:52 - cmdstanpy - INFO - Chain [1] start processing\n",
      "16:27:52 - cmdstanpy - INFO - Chain [1] done processing\n",
      "16:27:52 - cmdstanpy - ERROR - Chain [1] error: error during processing Operation not permitted\n",
      "Optimization terminated abnormally. Falling back to Newton.\n",
      "16:27:52 - cmdstanpy - INFO - Chain [1] done processing\n",
      "16:27:52 - cmdstanpy - INFO - Chain [1] start processing\n",
      "16:27:52 - cmdstanpy - INFO - Chain [1] done processing\n",
      "16:27:52 - cmdstanpy - INFO - Chain [1] done processing\n",
      "16:27:52 - cmdstanpy - ERROR - Chain [1] error: error during processing Operation not permitted\n",
      "Optimization terminated abnormally. Falling back to Newton.\n",
      "16:27:53 - cmdstanpy - INFO - Chain [1] start processing\n",
      "16:27:57 - cmdstanpy - INFO - Chain [1] done processing\n",
      "16:28:03 - cmdstanpy - INFO - Chain [1] done processing\n",
      "16:28:06 - cmdstanpy - INFO - Chain [1] done processing\n"
     ]
    },
    {
     "name": "stdout",
     "output_type": "stream",
     "text": [
      "{'changepoint_prior_scale': 0.101, 'holidays_prior_scale': 0.01, 'seasonality_mode': 'multiplicative', 'seasonality_prior_scale': 0.01}\n"
     ]
    },
    {
     "name": "stderr",
     "output_type": "stream",
     "text": [
      "16:28:06 - cmdstanpy - INFO - Chain [1] start processing\n",
      "16:28:07 - cmdstanpy - INFO - Chain [1] done processing\n",
      "16:28:08 - cmdstanpy - INFO - Chain [1] start processing\n",
      "16:28:08 - cmdstanpy - INFO - Chain [1] done processing\n",
      "16:28:08 - cmdstanpy - INFO - Chain [1] start processing\n",
      "16:28:08 - cmdstanpy - INFO - Chain [1] start processing\n",
      "16:28:08 - cmdstanpy - INFO - Chain [1] done processing\n",
      "16:28:08 - cmdstanpy - INFO - Chain [1] start processing\n",
      "16:28:09 - cmdstanpy - INFO - Chain [1] done processing\n",
      "16:28:09 - cmdstanpy - INFO - Chain [1] start processing\n",
      "16:28:09 - cmdstanpy - INFO - Chain [1] done processing\n",
      "16:28:09 - cmdstanpy - INFO - Chain [1] done processing\n"
     ]
    },
    {
     "name": "stdout",
     "output_type": "stream",
     "text": [
      "{'changepoint_prior_scale': 0.101, 'holidays_prior_scale': 0.01, 'seasonality_mode': 'multiplicative', 'seasonality_prior_scale': 2.51}\n"
     ]
    },
    {
     "name": "stderr",
     "output_type": "stream",
     "text": [
      "16:28:10 - cmdstanpy - INFO - Chain [1] start processing\n",
      "16:28:10 - cmdstanpy - INFO - Chain [1] done processing\n",
      "16:28:12 - cmdstanpy - INFO - Chain [1] start processing\n",
      "16:28:12 - cmdstanpy - INFO - Chain [1] start processing\n",
      "16:28:12 - cmdstanpy - INFO - Chain [1] start processing\n",
      "16:28:12 - cmdstanpy - INFO - Chain [1] start processing\n",
      "16:28:12 - cmdstanpy - INFO - Chain [1] done processing\n",
      "16:28:12 - cmdstanpy - INFO - Chain [1] done processing\n",
      "16:28:12 - cmdstanpy - INFO - Chain [1] start processing\n",
      "16:28:13 - cmdstanpy - INFO - Chain [1] done processing\n",
      "16:28:13 - cmdstanpy - INFO - Chain [1] done processing\n",
      "16:28:14 - cmdstanpy - INFO - Chain [1] done processing\n"
     ]
    },
    {
     "name": "stdout",
     "output_type": "stream",
     "text": [
      "{'changepoint_prior_scale': 0.101, 'holidays_prior_scale': 0.01, 'seasonality_mode': 'multiplicative', 'seasonality_prior_scale': 5.01}\n"
     ]
    },
    {
     "name": "stderr",
     "output_type": "stream",
     "text": [
      "16:28:14 - cmdstanpy - INFO - Chain [1] start processing\n",
      "16:28:15 - cmdstanpy - INFO - Chain [1] done processing\n",
      "16:28:16 - cmdstanpy - INFO - Chain [1] start processing\n",
      "16:28:16 - cmdstanpy - INFO - Chain [1] start processing\n",
      "16:28:16 - cmdstanpy - INFO - Chain [1] start processing\n",
      "16:28:16 - cmdstanpy - INFO - Chain [1] done processing\n",
      "16:28:16 - cmdstanpy - INFO - Chain [1] start processing\n",
      "16:28:17 - cmdstanpy - INFO - Chain [1] start processing\n",
      "16:28:17 - cmdstanpy - INFO - Chain [1] done processing\n",
      "16:28:17 - cmdstanpy - INFO - Chain [1] done processing\n",
      "16:28:18 - cmdstanpy - INFO - Chain [1] done processing\n",
      "16:28:18 - cmdstanpy - INFO - Chain [1] done processing\n"
     ]
    },
    {
     "name": "stdout",
     "output_type": "stream",
     "text": [
      "{'changepoint_prior_scale': 0.101, 'holidays_prior_scale': 0.01, 'seasonality_mode': 'multiplicative', 'seasonality_prior_scale': 7.51}\n"
     ]
    },
    {
     "name": "stderr",
     "output_type": "stream",
     "text": [
      "16:28:19 - cmdstanpy - INFO - Chain [1] start processing\n",
      "16:28:19 - cmdstanpy - INFO - Chain [1] done processing\n",
      "16:28:20 - cmdstanpy - INFO - Chain [1] start processing\n",
      "16:28:21 - cmdstanpy - INFO - Chain [1] start processing\n",
      "16:28:21 - cmdstanpy - INFO - Chain [1] start processing\n",
      "16:28:21 - cmdstanpy - INFO - Chain [1] done processing\n",
      "16:28:21 - cmdstanpy - INFO - Chain [1] start processing\n",
      "16:28:21 - cmdstanpy - INFO - Chain [1] done processing\n",
      "16:28:21 - cmdstanpy - INFO - Chain [1] start processing\n",
      "16:28:21 - cmdstanpy - INFO - Chain [1] done processing\n",
      "16:28:22 - cmdstanpy - INFO - Chain [1] done processing\n",
      "16:28:22 - cmdstanpy - INFO - Chain [1] done processing\n"
     ]
    },
    {
     "name": "stdout",
     "output_type": "stream",
     "text": [
      "{'changepoint_prior_scale': 0.101, 'holidays_prior_scale': 0.01, 'seasonality_mode': 'additive', 'seasonality_prior_scale': 0.01}\n"
     ]
    },
    {
     "name": "stderr",
     "output_type": "stream",
     "text": [
      "16:28:23 - cmdstanpy - INFO - Chain [1] start processing\n",
      "16:28:23 - cmdstanpy - INFO - Chain [1] done processing\n",
      "16:28:24 - cmdstanpy - INFO - Chain [1] start processing\n",
      "16:28:24 - cmdstanpy - INFO - Chain [1] start processing\n",
      "16:28:24 - cmdstanpy - INFO - Chain [1] done processing\n",
      "16:28:24 - cmdstanpy - INFO - Chain [1] done processing\n",
      "16:28:25 - cmdstanpy - INFO - Chain [1] start processing\n",
      "16:28:25 - cmdstanpy - INFO - Chain [1] done processing\n",
      "16:28:25 - cmdstanpy - INFO - Chain [1] start processing\n",
      "16:28:25 - cmdstanpy - INFO - Chain [1] done processing\n",
      "16:28:25 - cmdstanpy - INFO - Chain [1] start processing\n",
      "16:28:25 - cmdstanpy - INFO - Chain [1] done processing\n"
     ]
    },
    {
     "name": "stdout",
     "output_type": "stream",
     "text": [
      "{'changepoint_prior_scale': 0.101, 'holidays_prior_scale': 0.01, 'seasonality_mode': 'additive', 'seasonality_prior_scale': 2.51}\n"
     ]
    },
    {
     "name": "stderr",
     "output_type": "stream",
     "text": [
      "16:28:26 - cmdstanpy - INFO - Chain [1] start processing\n",
      "16:28:26 - cmdstanpy - INFO - Chain [1] done processing\n",
      "16:28:28 - cmdstanpy - INFO - Chain [1] start processing\n",
      "16:28:28 - cmdstanpy - INFO - Chain [1] start processing\n",
      "16:28:28 - cmdstanpy - INFO - Chain [1] done processing\n",
      "16:28:28 - cmdstanpy - INFO - Chain [1] done processing\n",
      "16:28:28 - cmdstanpy - INFO - Chain [1] start processing\n",
      "16:28:28 - cmdstanpy - INFO - Chain [1] done processing\n",
      "16:28:28 - cmdstanpy - INFO - Chain [1] start processing\n",
      "16:28:29 - cmdstanpy - INFO - Chain [1] start processing\n",
      "16:28:29 - cmdstanpy - INFO - Chain [1] done processing\n",
      "16:28:29 - cmdstanpy - INFO - Chain [1] done processing\n"
     ]
    },
    {
     "name": "stdout",
     "output_type": "stream",
     "text": [
      "{'changepoint_prior_scale': 0.101, 'holidays_prior_scale': 0.01, 'seasonality_mode': 'additive', 'seasonality_prior_scale': 5.01}\n"
     ]
    },
    {
     "name": "stderr",
     "output_type": "stream",
     "text": [
      "16:28:30 - cmdstanpy - INFO - Chain [1] start processing\n",
      "16:28:30 - cmdstanpy - INFO - Chain [1] done processing\n",
      "16:28:31 - cmdstanpy - INFO - Chain [1] start processing\n",
      "16:28:31 - cmdstanpy - INFO - Chain [1] done processing\n",
      "16:28:31 - cmdstanpy - INFO - Chain [1] start processing\n",
      "16:28:32 - cmdstanpy - INFO - Chain [1] start processing\n",
      "16:28:32 - cmdstanpy - INFO - Chain [1] done processing\n",
      "16:28:32 - cmdstanpy - INFO - Chain [1] done processing\n",
      "16:28:32 - cmdstanpy - INFO - Chain [1] start processing\n",
      "16:28:32 - cmdstanpy - INFO - Chain [1] done processing\n",
      "16:28:32 - cmdstanpy - INFO - Chain [1] start processing\n",
      "16:28:33 - cmdstanpy - INFO - Chain [1] done processing\n"
     ]
    },
    {
     "name": "stdout",
     "output_type": "stream",
     "text": [
      "{'changepoint_prior_scale': 0.101, 'holidays_prior_scale': 0.01, 'seasonality_mode': 'additive', 'seasonality_prior_scale': 7.51}\n"
     ]
    },
    {
     "name": "stderr",
     "output_type": "stream",
     "text": [
      "16:28:33 - cmdstanpy - INFO - Chain [1] start processing\n",
      "16:28:34 - cmdstanpy - INFO - Chain [1] done processing\n",
      "16:28:35 - cmdstanpy - INFO - Chain [1] start processing\n",
      "16:28:35 - cmdstanpy - INFO - Chain [1] done processing\n",
      "16:28:35 - cmdstanpy - INFO - Chain [1] start processing\n",
      "16:28:35 - cmdstanpy - INFO - Chain [1] start processing\n",
      "16:28:35 - cmdstanpy - INFO - Chain [1] done processing\n",
      "16:28:35 - cmdstanpy - INFO - Chain [1] start processing\n",
      "16:28:35 - cmdstanpy - INFO - Chain [1] done processing\n",
      "16:28:36 - cmdstanpy - INFO - Chain [1] done processing\n",
      "16:28:36 - cmdstanpy - INFO - Chain [1] start processing\n",
      "16:28:36 - cmdstanpy - INFO - Chain [1] done processing\n"
     ]
    },
    {
     "name": "stdout",
     "output_type": "stream",
     "text": [
      "{'changepoint_prior_scale': 0.101, 'holidays_prior_scale': 2.51, 'seasonality_mode': 'multiplicative', 'seasonality_prior_scale': 0.01}\n"
     ]
    },
    {
     "name": "stderr",
     "output_type": "stream",
     "text": [
      "16:28:37 - cmdstanpy - INFO - Chain [1] start processing\n",
      "16:28:37 - cmdstanpy - INFO - Chain [1] done processing\n",
      "16:28:38 - cmdstanpy - INFO - Chain [1] start processing\n",
      "16:28:38 - cmdstanpy - INFO - Chain [1] start processing\n",
      "16:28:38 - cmdstanpy - INFO - Chain [1] done processing\n",
      "16:28:39 - cmdstanpy - INFO - Chain [1] done processing\n",
      "16:28:39 - cmdstanpy - INFO - Chain [1] start processing\n",
      "16:28:39 - cmdstanpy - INFO - Chain [1] start processing\n",
      "16:28:39 - cmdstanpy - INFO - Chain [1] start processing\n",
      "16:28:39 - cmdstanpy - INFO - Chain [1] done processing\n",
      "16:28:39 - cmdstanpy - INFO - Chain [1] done processing\n",
      "16:28:39 - cmdstanpy - INFO - Chain [1] done processing\n"
     ]
    },
    {
     "name": "stdout",
     "output_type": "stream",
     "text": [
      "{'changepoint_prior_scale': 0.101, 'holidays_prior_scale': 2.51, 'seasonality_mode': 'multiplicative', 'seasonality_prior_scale': 2.51}\n"
     ]
    },
    {
     "name": "stderr",
     "output_type": "stream",
     "text": [
      "16:28:40 - cmdstanpy - INFO - Chain [1] start processing\n",
      "16:28:41 - cmdstanpy - INFO - Chain [1] done processing\n",
      "16:28:42 - cmdstanpy - INFO - Chain [1] start processing\n",
      "16:28:42 - cmdstanpy - INFO - Chain [1] start processing\n",
      "16:28:42 - cmdstanpy - INFO - Chain [1] start processing\n",
      "16:28:42 - cmdstanpy - INFO - Chain [1] start processing\n",
      "16:28:42 - cmdstanpy - INFO - Chain [1] done processing\n",
      "16:28:42 - cmdstanpy - INFO - Chain [1] start processing\n",
      "16:28:43 - cmdstanpy - INFO - Chain [1] done processing\n",
      "16:28:43 - cmdstanpy - INFO - Chain [1] done processing\n",
      "16:28:43 - cmdstanpy - INFO - Chain [1] done processing\n",
      "16:28:44 - cmdstanpy - INFO - Chain [1] done processing\n"
     ]
    },
    {
     "name": "stdout",
     "output_type": "stream",
     "text": [
      "{'changepoint_prior_scale': 0.101, 'holidays_prior_scale': 2.51, 'seasonality_mode': 'multiplicative', 'seasonality_prior_scale': 5.01}\n"
     ]
    },
    {
     "name": "stderr",
     "output_type": "stream",
     "text": [
      "16:28:44 - cmdstanpy - INFO - Chain [1] start processing\n",
      "16:28:45 - cmdstanpy - INFO - Chain [1] done processing\n",
      "16:28:46 - cmdstanpy - INFO - Chain [1] start processing\n",
      "16:28:46 - cmdstanpy - INFO - Chain [1] start processing\n",
      "16:28:46 - cmdstanpy - INFO - Chain [1] start processing\n",
      "16:28:46 - cmdstanpy - INFO - Chain [1] start processing\n",
      "16:28:46 - cmdstanpy - INFO - Chain [1] done processing\n",
      "16:28:46 - cmdstanpy - INFO - Chain [1] start processing\n",
      "16:28:47 - cmdstanpy - INFO - Chain [1] done processing\n",
      "16:28:47 - cmdstanpy - INFO - Chain [1] done processing\n",
      "16:28:47 - cmdstanpy - INFO - Chain [1] done processing\n",
      "16:28:48 - cmdstanpy - INFO - Chain [1] done processing\n"
     ]
    },
    {
     "name": "stdout",
     "output_type": "stream",
     "text": [
      "{'changepoint_prior_scale': 0.101, 'holidays_prior_scale': 2.51, 'seasonality_mode': 'multiplicative', 'seasonality_prior_scale': 7.51}\n"
     ]
    },
    {
     "name": "stderr",
     "output_type": "stream",
     "text": [
      "16:28:48 - cmdstanpy - INFO - Chain [1] start processing\n",
      "16:28:49 - cmdstanpy - INFO - Chain [1] done processing\n",
      "16:28:50 - cmdstanpy - INFO - Chain [1] start processing\n",
      "16:28:50 - cmdstanpy - INFO - Chain [1] start processing\n",
      "16:28:51 - cmdstanpy - INFO - Chain [1] start processing\n",
      "16:28:51 - cmdstanpy - INFO - Chain [1] start processing\n",
      "16:28:51 - cmdstanpy - INFO - Chain [1] done processing\n",
      "16:28:51 - cmdstanpy - INFO - Chain [1] start processing\n",
      "16:28:51 - cmdstanpy - INFO - Chain [1] done processing\n",
      "16:28:51 - cmdstanpy - INFO - Chain [1] done processing\n",
      "16:28:52 - cmdstanpy - INFO - Chain [1] done processing\n",
      "16:28:52 - cmdstanpy - INFO - Chain [1] done processing\n"
     ]
    },
    {
     "name": "stdout",
     "output_type": "stream",
     "text": [
      "{'changepoint_prior_scale': 0.101, 'holidays_prior_scale': 2.51, 'seasonality_mode': 'additive', 'seasonality_prior_scale': 0.01}\n"
     ]
    },
    {
     "name": "stderr",
     "output_type": "stream",
     "text": [
      "16:28:53 - cmdstanpy - INFO - Chain [1] start processing\n",
      "16:28:53 - cmdstanpy - INFO - Chain [1] done processing\n",
      "16:28:54 - cmdstanpy - INFO - Chain [1] start processing\n",
      "16:28:54 - cmdstanpy - INFO - Chain [1] done processing\n",
      "16:28:54 - cmdstanpy - INFO - Chain [1] start processing\n",
      "16:28:54 - cmdstanpy - INFO - Chain [1] start processing\n",
      "16:28:54 - cmdstanpy - INFO - Chain [1] done processing\n",
      "16:28:55 - cmdstanpy - INFO - Chain [1] done processing\n",
      "16:28:55 - cmdstanpy - INFO - Chain [1] start processing\n",
      "16:28:55 - cmdstanpy - INFO - Chain [1] start processing\n",
      "16:28:55 - cmdstanpy - INFO - Chain [1] done processing\n",
      "16:28:55 - cmdstanpy - INFO - Chain [1] done processing\n"
     ]
    },
    {
     "name": "stdout",
     "output_type": "stream",
     "text": [
      "{'changepoint_prior_scale': 0.101, 'holidays_prior_scale': 2.51, 'seasonality_mode': 'additive', 'seasonality_prior_scale': 2.51}\n"
     ]
    },
    {
     "name": "stderr",
     "output_type": "stream",
     "text": [
      "16:28:56 - cmdstanpy - INFO - Chain [1] start processing\n",
      "16:28:56 - cmdstanpy - INFO - Chain [1] done processing\n",
      "16:28:58 - cmdstanpy - INFO - Chain [1] start processing\n",
      "16:28:58 - cmdstanpy - INFO - Chain [1] done processing\n",
      "16:28:58 - cmdstanpy - INFO - Chain [1] start processing\n",
      "16:28:58 - cmdstanpy - INFO - Chain [1] done processing\n",
      "16:28:58 - cmdstanpy - INFO - Chain [1] start processing\n",
      "16:28:58 - cmdstanpy - INFO - Chain [1] done processing\n",
      "16:28:58 - cmdstanpy - INFO - Chain [1] start processing\n",
      "16:28:59 - cmdstanpy - INFO - Chain [1] start processing\n",
      "16:28:59 - cmdstanpy - INFO - Chain [1] done processing\n",
      "16:28:59 - cmdstanpy - INFO - Chain [1] done processing\n"
     ]
    },
    {
     "name": "stdout",
     "output_type": "stream",
     "text": [
      "{'changepoint_prior_scale': 0.101, 'holidays_prior_scale': 2.51, 'seasonality_mode': 'additive', 'seasonality_prior_scale': 5.01}\n"
     ]
    },
    {
     "name": "stderr",
     "output_type": "stream",
     "text": [
      "16:29:00 - cmdstanpy - INFO - Chain [1] start processing\n",
      "16:29:00 - cmdstanpy - INFO - Chain [1] done processing\n",
      "16:29:01 - cmdstanpy - INFO - Chain [1] start processing\n",
      "16:29:01 - cmdstanpy - INFO - Chain [1] done processing\n",
      "16:29:01 - cmdstanpy - INFO - Chain [1] start processing\n",
      "16:29:02 - cmdstanpy - INFO - Chain [1] done processing\n",
      "16:29:02 - cmdstanpy - INFO - Chain [1] start processing\n",
      "16:29:02 - cmdstanpy - INFO - Chain [1] done processing\n",
      "16:29:02 - cmdstanpy - INFO - Chain [1] start processing\n",
      "16:29:02 - cmdstanpy - INFO - Chain [1] done processing\n",
      "16:29:02 - cmdstanpy - INFO - Chain [1] start processing\n",
      "16:29:03 - cmdstanpy - INFO - Chain [1] done processing\n"
     ]
    },
    {
     "name": "stdout",
     "output_type": "stream",
     "text": [
      "{'changepoint_prior_scale': 0.101, 'holidays_prior_scale': 2.51, 'seasonality_mode': 'additive', 'seasonality_prior_scale': 7.51}\n"
     ]
    },
    {
     "name": "stderr",
     "output_type": "stream",
     "text": [
      "16:29:04 - cmdstanpy - INFO - Chain [1] start processing\n",
      "16:29:04 - cmdstanpy - INFO - Chain [1] done processing\n",
      "16:29:05 - cmdstanpy - INFO - Chain [1] start processing\n",
      "16:29:05 - cmdstanpy - INFO - Chain [1] start processing\n",
      "16:29:05 - cmdstanpy - INFO - Chain [1] done processing\n",
      "16:29:05 - cmdstanpy - INFO - Chain [1] done processing\n",
      "16:29:05 - cmdstanpy - INFO - Chain [1] start processing\n",
      "16:29:05 - cmdstanpy - INFO - Chain [1] done processing\n",
      "16:29:06 - cmdstanpy - INFO - Chain [1] start processing\n",
      "16:29:06 - cmdstanpy - INFO - Chain [1] done processing\n",
      "16:29:06 - cmdstanpy - INFO - Chain [1] start processing\n",
      "16:29:06 - cmdstanpy - INFO - Chain [1] done processing\n"
     ]
    },
    {
     "name": "stdout",
     "output_type": "stream",
     "text": [
      "{'changepoint_prior_scale': 0.101, 'holidays_prior_scale': 5.01, 'seasonality_mode': 'multiplicative', 'seasonality_prior_scale': 0.01}\n"
     ]
    },
    {
     "name": "stderr",
     "output_type": "stream",
     "text": [
      "16:29:07 - cmdstanpy - INFO - Chain [1] start processing\n",
      "16:29:07 - cmdstanpy - INFO - Chain [1] done processing\n",
      "16:29:09 - cmdstanpy - INFO - Chain [1] start processing\n",
      "16:29:09 - cmdstanpy - INFO - Chain [1] done processing\n",
      "16:29:09 - cmdstanpy - INFO - Chain [1] start processing\n",
      "16:29:09 - cmdstanpy - INFO - Chain [1] start processing\n",
      "16:29:09 - cmdstanpy - INFO - Chain [1] done processing\n",
      "16:29:09 - cmdstanpy - INFO - Chain [1] done processing\n",
      "16:29:09 - cmdstanpy - INFO - Chain [1] start processing\n",
      "16:29:10 - cmdstanpy - INFO - Chain [1] start processing\n",
      "16:29:10 - cmdstanpy - INFO - Chain [1] done processing\n",
      "16:29:10 - cmdstanpy - INFO - Chain [1] done processing\n"
     ]
    },
    {
     "name": "stdout",
     "output_type": "stream",
     "text": [
      "{'changepoint_prior_scale': 0.101, 'holidays_prior_scale': 5.01, 'seasonality_mode': 'multiplicative', 'seasonality_prior_scale': 2.51}\n"
     ]
    },
    {
     "name": "stderr",
     "output_type": "stream",
     "text": [
      "16:29:11 - cmdstanpy - INFO - Chain [1] start processing\n",
      "16:29:11 - cmdstanpy - INFO - Chain [1] done processing\n",
      "16:29:13 - cmdstanpy - INFO - Chain [1] start processing\n",
      "16:29:13 - cmdstanpy - INFO - Chain [1] start processing\n",
      "16:29:13 - cmdstanpy - INFO - Chain [1] done processing\n",
      "16:29:13 - cmdstanpy - INFO - Chain [1] start processing\n",
      "16:29:13 - cmdstanpy - INFO - Chain [1] done processing\n",
      "16:29:13 - cmdstanpy - INFO - Chain [1] start processing\n",
      "16:29:13 - cmdstanpy - INFO - Chain [1] start processing\n",
      "16:29:14 - cmdstanpy - INFO - Chain [1] done processing\n",
      "16:29:14 - cmdstanpy - INFO - Chain [1] done processing\n",
      "16:29:14 - cmdstanpy - INFO - Chain [1] done processing\n"
     ]
    },
    {
     "name": "stdout",
     "output_type": "stream",
     "text": [
      "{'changepoint_prior_scale': 0.101, 'holidays_prior_scale': 5.01, 'seasonality_mode': 'multiplicative', 'seasonality_prior_scale': 5.01}\n"
     ]
    },
    {
     "name": "stderr",
     "output_type": "stream",
     "text": [
      "16:29:15 - cmdstanpy - INFO - Chain [1] start processing\n",
      "16:29:15 - cmdstanpy - INFO - Chain [1] done processing\n",
      "16:29:17 - cmdstanpy - INFO - Chain [1] start processing\n",
      "16:29:17 - cmdstanpy - INFO - Chain [1] start processing\n",
      "16:29:17 - cmdstanpy - INFO - Chain [1] start processing\n",
      "16:29:17 - cmdstanpy - INFO - Chain [1] done processing\n",
      "16:29:17 - cmdstanpy - INFO - Chain [1] start processing\n",
      "16:29:17 - cmdstanpy - INFO - Chain [1] start processing\n",
      "16:29:17 - cmdstanpy - INFO - Chain [1] done processing\n",
      "16:29:17 - cmdstanpy - INFO - Chain [1] done processing\n",
      "16:29:18 - cmdstanpy - INFO - Chain [1] done processing\n",
      "16:29:18 - cmdstanpy - INFO - Chain [1] done processing\n"
     ]
    },
    {
     "name": "stdout",
     "output_type": "stream",
     "text": [
      "{'changepoint_prior_scale': 0.101, 'holidays_prior_scale': 5.01, 'seasonality_mode': 'multiplicative', 'seasonality_prior_scale': 7.51}\n"
     ]
    },
    {
     "name": "stderr",
     "output_type": "stream",
     "text": [
      "16:29:19 - cmdstanpy - INFO - Chain [1] start processing\n",
      "16:29:20 - cmdstanpy - INFO - Chain [1] done processing\n",
      "16:29:21 - cmdstanpy - INFO - Chain [1] start processing\n",
      "16:29:21 - cmdstanpy - INFO - Chain [1] start processing\n",
      "16:29:21 - cmdstanpy - INFO - Chain [1] start processing\n",
      "16:29:21 - cmdstanpy - INFO - Chain [1] done processing\n",
      "16:29:21 - cmdstanpy - INFO - Chain [1] start processing\n",
      "16:29:21 - cmdstanpy - INFO - Chain [1] done processing\n",
      "16:29:22 - cmdstanpy - INFO - Chain [1] start processing\n",
      "16:29:22 - cmdstanpy - INFO - Chain [1] done processing\n",
      "16:29:22 - cmdstanpy - INFO - Chain [1] done processing\n",
      "16:29:23 - cmdstanpy - INFO - Chain [1] done processing\n"
     ]
    },
    {
     "name": "stdout",
     "output_type": "stream",
     "text": [
      "{'changepoint_prior_scale': 0.101, 'holidays_prior_scale': 5.01, 'seasonality_mode': 'additive', 'seasonality_prior_scale': 0.01}\n"
     ]
    },
    {
     "name": "stderr",
     "output_type": "stream",
     "text": [
      "16:29:23 - cmdstanpy - INFO - Chain [1] start processing\n",
      "16:29:24 - cmdstanpy - INFO - Chain [1] done processing\n",
      "16:29:25 - cmdstanpy - INFO - Chain [1] start processing\n",
      "16:29:25 - cmdstanpy - INFO - Chain [1] done processing\n",
      "16:29:25 - cmdstanpy - INFO - Chain [1] start processing\n",
      "16:29:25 - cmdstanpy - INFO - Chain [1] done processing\n",
      "16:29:25 - cmdstanpy - INFO - Chain [1] start processing\n",
      "16:29:25 - cmdstanpy - INFO - Chain [1] start processing\n",
      "16:29:25 - cmdstanpy - INFO - Chain [1] done processing\n",
      "16:29:25 - cmdstanpy - INFO - Chain [1] done processing\n",
      "16:29:26 - cmdstanpy - INFO - Chain [1] start processing\n",
      "16:29:26 - cmdstanpy - INFO - Chain [1] done processing\n"
     ]
    },
    {
     "name": "stdout",
     "output_type": "stream",
     "text": [
      "{'changepoint_prior_scale': 0.101, 'holidays_prior_scale': 5.01, 'seasonality_mode': 'additive', 'seasonality_prior_scale': 2.51}\n"
     ]
    },
    {
     "name": "stderr",
     "output_type": "stream",
     "text": [
      "16:29:27 - cmdstanpy - INFO - Chain [1] start processing\n",
      "16:29:27 - cmdstanpy - INFO - Chain [1] done processing\n",
      "16:29:28 - cmdstanpy - INFO - Chain [1] start processing\n",
      "16:29:28 - cmdstanpy - INFO - Chain [1] done processing\n",
      "16:29:29 - cmdstanpy - INFO - Chain [1] start processing\n",
      "16:29:29 - cmdstanpy - INFO - Chain [1] start processing\n",
      "16:29:29 - cmdstanpy - INFO - Chain [1] done processing\n",
      "16:29:29 - cmdstanpy - INFO - Chain [1] done processing\n",
      "16:29:29 - cmdstanpy - INFO - Chain [1] start processing\n",
      "16:29:29 - cmdstanpy - INFO - Chain [1] done processing\n",
      "16:29:29 - cmdstanpy - INFO - Chain [1] start processing\n",
      "16:29:30 - cmdstanpy - INFO - Chain [1] done processing\n"
     ]
    },
    {
     "name": "stdout",
     "output_type": "stream",
     "text": [
      "{'changepoint_prior_scale': 0.101, 'holidays_prior_scale': 5.01, 'seasonality_mode': 'additive', 'seasonality_prior_scale': 5.01}\n"
     ]
    },
    {
     "name": "stderr",
     "output_type": "stream",
     "text": [
      "16:29:30 - cmdstanpy - INFO - Chain [1] start processing\n",
      "16:29:31 - cmdstanpy - INFO - Chain [1] done processing\n",
      "16:29:32 - cmdstanpy - INFO - Chain [1] start processing\n",
      "16:29:32 - cmdstanpy - INFO - Chain [1] done processing\n",
      "16:29:32 - cmdstanpy - INFO - Chain [1] start processing\n",
      "16:29:32 - cmdstanpy - INFO - Chain [1] done processing\n",
      "16:29:32 - cmdstanpy - INFO - Chain [1] start processing\n",
      "16:29:32 - cmdstanpy - INFO - Chain [1] done processing\n",
      "16:29:33 - cmdstanpy - INFO - Chain [1] start processing\n",
      "16:29:33 - cmdstanpy - INFO - Chain [1] start processing\n",
      "16:29:33 - cmdstanpy - INFO - Chain [1] done processing\n",
      "16:29:33 - cmdstanpy - INFO - Chain [1] done processing\n"
     ]
    },
    {
     "name": "stdout",
     "output_type": "stream",
     "text": [
      "{'changepoint_prior_scale': 0.101, 'holidays_prior_scale': 5.01, 'seasonality_mode': 'additive', 'seasonality_prior_scale': 7.51}\n"
     ]
    },
    {
     "name": "stderr",
     "output_type": "stream",
     "text": [
      "16:29:34 - cmdstanpy - INFO - Chain [1] start processing\n",
      "16:29:34 - cmdstanpy - INFO - Chain [1] done processing\n",
      "16:29:36 - cmdstanpy - INFO - Chain [1] start processing\n",
      "16:29:36 - cmdstanpy - INFO - Chain [1] done processing\n",
      "16:29:36 - cmdstanpy - INFO - Chain [1] start processing\n",
      "16:29:36 - cmdstanpy - INFO - Chain [1] done processing\n",
      "16:29:36 - cmdstanpy - INFO - Chain [1] start processing\n",
      "16:29:36 - cmdstanpy - INFO - Chain [1] start processing\n",
      "16:29:36 - cmdstanpy - INFO - Chain [1] done processing\n",
      "16:29:36 - cmdstanpy - INFO - Chain [1] start processing\n",
      "16:29:36 - cmdstanpy - INFO - Chain [1] done processing\n",
      "16:29:37 - cmdstanpy - INFO - Chain [1] done processing\n"
     ]
    },
    {
     "name": "stdout",
     "output_type": "stream",
     "text": [
      "{'changepoint_prior_scale': 0.101, 'holidays_prior_scale': 7.51, 'seasonality_mode': 'multiplicative', 'seasonality_prior_scale': 0.01}\n"
     ]
    },
    {
     "name": "stderr",
     "output_type": "stream",
     "text": [
      "16:29:38 - cmdstanpy - INFO - Chain [1] start processing\n",
      "16:29:38 - cmdstanpy - INFO - Chain [1] done processing\n",
      "16:29:39 - cmdstanpy - INFO - Chain [1] start processing\n",
      "16:29:39 - cmdstanpy - INFO - Chain [1] done processing\n",
      "16:29:39 - cmdstanpy - INFO - Chain [1] start processing\n",
      "16:29:40 - cmdstanpy - INFO - Chain [1] start processing\n",
      "16:29:40 - cmdstanpy - INFO - Chain [1] done processing\n",
      "16:29:40 - cmdstanpy - INFO - Chain [1] start processing\n",
      "16:29:40 - cmdstanpy - INFO - Chain [1] done processing\n",
      "16:29:40 - cmdstanpy - INFO - Chain [1] start processing\n",
      "16:29:40 - cmdstanpy - INFO - Chain [1] done processing\n",
      "16:29:41 - cmdstanpy - INFO - Chain [1] done processing\n"
     ]
    },
    {
     "name": "stdout",
     "output_type": "stream",
     "text": [
      "{'changepoint_prior_scale': 0.101, 'holidays_prior_scale': 7.51, 'seasonality_mode': 'multiplicative', 'seasonality_prior_scale': 2.51}\n"
     ]
    },
    {
     "name": "stderr",
     "output_type": "stream",
     "text": [
      "16:29:41 - cmdstanpy - INFO - Chain [1] start processing\n",
      "16:29:42 - cmdstanpy - INFO - Chain [1] done processing\n",
      "16:29:43 - cmdstanpy - INFO - Chain [1] start processing\n",
      "16:29:43 - cmdstanpy - INFO - Chain [1] start processing\n",
      "16:29:43 - cmdstanpy - INFO - Chain [1] start processing\n",
      "16:29:43 - cmdstanpy - INFO - Chain [1] start processing\n",
      "16:29:43 - cmdstanpy - INFO - Chain [1] start processing\n",
      "16:29:43 - cmdstanpy - INFO - Chain [1] done processing\n",
      "16:29:43 - cmdstanpy - INFO - Chain [1] done processing\n",
      "16:29:44 - cmdstanpy - INFO - Chain [1] done processing\n",
      "16:29:44 - cmdstanpy - INFO - Chain [1] done processing\n",
      "16:29:45 - cmdstanpy - INFO - Chain [1] done processing\n"
     ]
    },
    {
     "name": "stdout",
     "output_type": "stream",
     "text": [
      "{'changepoint_prior_scale': 0.101, 'holidays_prior_scale': 7.51, 'seasonality_mode': 'multiplicative', 'seasonality_prior_scale': 5.01}\n"
     ]
    },
    {
     "name": "stderr",
     "output_type": "stream",
     "text": [
      "16:29:45 - cmdstanpy - INFO - Chain [1] start processing\n",
      "16:29:46 - cmdstanpy - INFO - Chain [1] done processing\n",
      "16:29:47 - cmdstanpy - INFO - Chain [1] start processing\n",
      "16:29:47 - cmdstanpy - INFO - Chain [1] start processing\n",
      "16:29:47 - cmdstanpy - INFO - Chain [1] start processing\n",
      "16:29:47 - cmdstanpy - INFO - Chain [1] start processing\n",
      "16:29:47 - cmdstanpy - INFO - Chain [1] done processing\n",
      "16:29:47 - cmdstanpy - INFO - Chain [1] start processing\n",
      "16:29:48 - cmdstanpy - INFO - Chain [1] done processing\n",
      "16:29:48 - cmdstanpy - INFO - Chain [1] done processing\n",
      "16:29:48 - cmdstanpy - INFO - Chain [1] done processing\n",
      "16:29:48 - cmdstanpy - INFO - Chain [1] done processing\n"
     ]
    },
    {
     "name": "stdout",
     "output_type": "stream",
     "text": [
      "{'changepoint_prior_scale': 0.101, 'holidays_prior_scale': 7.51, 'seasonality_mode': 'multiplicative', 'seasonality_prior_scale': 7.51}\n"
     ]
    },
    {
     "name": "stderr",
     "output_type": "stream",
     "text": [
      "16:29:49 - cmdstanpy - INFO - Chain [1] start processing\n",
      "16:29:49 - cmdstanpy - INFO - Chain [1] done processing\n",
      "16:29:51 - cmdstanpy - INFO - Chain [1] start processing\n",
      "16:29:51 - cmdstanpy - INFO - Chain [1] start processing\n",
      "16:29:51 - cmdstanpy - INFO - Chain [1] start processing\n",
      "16:29:51 - cmdstanpy - INFO - Chain [1] start processing\n",
      "16:29:51 - cmdstanpy - INFO - Chain [1] done processing\n",
      "16:29:51 - cmdstanpy - INFO - Chain [1] start processing\n",
      "16:29:51 - cmdstanpy - INFO - Chain [1] done processing\n",
      "16:29:51 - cmdstanpy - INFO - Chain [1] done processing\n",
      "16:29:52 - cmdstanpy - INFO - Chain [1] done processing\n",
      "16:29:52 - cmdstanpy - INFO - Chain [1] done processing\n"
     ]
    },
    {
     "name": "stdout",
     "output_type": "stream",
     "text": [
      "{'changepoint_prior_scale': 0.101, 'holidays_prior_scale': 7.51, 'seasonality_mode': 'additive', 'seasonality_prior_scale': 0.01}\n"
     ]
    },
    {
     "name": "stderr",
     "output_type": "stream",
     "text": [
      "16:29:53 - cmdstanpy - INFO - Chain [1] start processing\n",
      "16:29:53 - cmdstanpy - INFO - Chain [1] done processing\n",
      "16:29:55 - cmdstanpy - INFO - Chain [1] start processing\n",
      "16:29:55 - cmdstanpy - INFO - Chain [1] done processing\n",
      "16:29:55 - cmdstanpy - INFO - Chain [1] start processing\n",
      "16:29:55 - cmdstanpy - INFO - Chain [1] done processing\n",
      "16:29:55 - cmdstanpy - INFO - Chain [1] start processing\n",
      "16:29:55 - cmdstanpy - INFO - Chain [1] done processing\n",
      "16:29:55 - cmdstanpy - INFO - Chain [1] start processing\n",
      "16:29:56 - cmdstanpy - INFO - Chain [1] done processing\n",
      "16:29:56 - cmdstanpy - INFO - Chain [1] start processing\n",
      "16:29:56 - cmdstanpy - INFO - Chain [1] done processing\n"
     ]
    },
    {
     "name": "stdout",
     "output_type": "stream",
     "text": [
      "{'changepoint_prior_scale': 0.101, 'holidays_prior_scale': 7.51, 'seasonality_mode': 'additive', 'seasonality_prior_scale': 2.51}\n"
     ]
    },
    {
     "name": "stderr",
     "output_type": "stream",
     "text": [
      "16:29:57 - cmdstanpy - INFO - Chain [1] start processing\n",
      "16:29:57 - cmdstanpy - INFO - Chain [1] done processing\n",
      "16:29:58 - cmdstanpy - INFO - Chain [1] start processing\n",
      "16:29:58 - cmdstanpy - INFO - Chain [1] done processing\n",
      "16:29:58 - cmdstanpy - INFO - Chain [1] start processing\n",
      "16:29:59 - cmdstanpy - INFO - Chain [1] done processing\n",
      "16:29:59 - cmdstanpy - INFO - Chain [1] start processing\n",
      "16:29:59 - cmdstanpy - INFO - Chain [1] start processing\n",
      "16:29:59 - cmdstanpy - INFO - Chain [1] done processing\n",
      "16:29:59 - cmdstanpy - INFO - Chain [1] done processing\n",
      "16:29:59 - cmdstanpy - INFO - Chain [1] start processing\n",
      "16:30:00 - cmdstanpy - INFO - Chain [1] done processing\n"
     ]
    },
    {
     "name": "stdout",
     "output_type": "stream",
     "text": [
      "{'changepoint_prior_scale': 0.101, 'holidays_prior_scale': 7.51, 'seasonality_mode': 'additive', 'seasonality_prior_scale': 5.01}\n"
     ]
    },
    {
     "name": "stderr",
     "output_type": "stream",
     "text": [
      "16:30:00 - cmdstanpy - INFO - Chain [1] start processing\n",
      "16:30:01 - cmdstanpy - INFO - Chain [1] done processing\n",
      "16:30:02 - cmdstanpy - INFO - Chain [1] start processing\n",
      "16:30:02 - cmdstanpy - INFO - Chain [1] done processing\n",
      "16:30:02 - cmdstanpy - INFO - Chain [1] start processing\n",
      "16:30:02 - cmdstanpy - INFO - Chain [1] done processing\n",
      "16:30:02 - cmdstanpy - INFO - Chain [1] start processing\n",
      "16:30:03 - cmdstanpy - INFO - Chain [1] done processing\n",
      "16:30:03 - cmdstanpy - INFO - Chain [1] start processing\n",
      "16:30:03 - cmdstanpy - INFO - Chain [1] start processing\n",
      "16:30:03 - cmdstanpy - INFO - Chain [1] done processing\n",
      "16:30:03 - cmdstanpy - INFO - Chain [1] done processing\n"
     ]
    },
    {
     "name": "stdout",
     "output_type": "stream",
     "text": [
      "{'changepoint_prior_scale': 0.101, 'holidays_prior_scale': 7.51, 'seasonality_mode': 'additive', 'seasonality_prior_scale': 7.51}\n"
     ]
    },
    {
     "name": "stderr",
     "output_type": "stream",
     "text": [
      "16:30:04 - cmdstanpy - INFO - Chain [1] start processing\n",
      "16:30:04 - cmdstanpy - INFO - Chain [1] done processing\n",
      "16:30:06 - cmdstanpy - INFO - Chain [1] start processing\n",
      "16:30:06 - cmdstanpy - INFO - Chain [1] done processing\n",
      "16:30:06 - cmdstanpy - INFO - Chain [1] start processing\n",
      "16:30:06 - cmdstanpy - INFO - Chain [1] start processing\n",
      "16:30:06 - cmdstanpy - INFO - Chain [1] done processing\n",
      "16:30:06 - cmdstanpy - INFO - Chain [1] done processing\n",
      "16:30:06 - cmdstanpy - INFO - Chain [1] start processing\n",
      "16:30:06 - cmdstanpy - INFO - Chain [1] start processing\n",
      "16:30:06 - cmdstanpy - INFO - Chain [1] done processing\n",
      "16:30:07 - cmdstanpy - INFO - Chain [1] done processing\n"
     ]
    },
    {
     "name": "stdout",
     "output_type": "stream",
     "text": [
      "{'changepoint_prior_scale': 0.201, 'holidays_prior_scale': 0.01, 'seasonality_mode': 'multiplicative', 'seasonality_prior_scale': 0.01}\n"
     ]
    },
    {
     "name": "stderr",
     "output_type": "stream",
     "text": [
      "16:30:08 - cmdstanpy - INFO - Chain [1] start processing\n",
      "16:30:08 - cmdstanpy - INFO - Chain [1] done processing\n",
      "16:30:09 - cmdstanpy - INFO - Chain [1] start processing\n",
      "16:30:09 - cmdstanpy - INFO - Chain [1] done processing\n",
      "16:30:10 - cmdstanpy - INFO - Chain [1] start processing\n",
      "16:30:10 - cmdstanpy - INFO - Chain [1] done processing\n",
      "16:30:10 - cmdstanpy - INFO - Chain [1] start processing\n",
      "16:30:10 - cmdstanpy - INFO - Chain [1] start processing\n",
      "16:30:10 - cmdstanpy - INFO - Chain [1] done processing\n",
      "16:30:10 - cmdstanpy - INFO - Chain [1] start processing\n",
      "16:30:11 - cmdstanpy - INFO - Chain [1] done processing\n",
      "16:30:11 - cmdstanpy - INFO - Chain [1] done processing\n"
     ]
    },
    {
     "name": "stdout",
     "output_type": "stream",
     "text": [
      "{'changepoint_prior_scale': 0.201, 'holidays_prior_scale': 0.01, 'seasonality_mode': 'multiplicative', 'seasonality_prior_scale': 2.51}\n"
     ]
    },
    {
     "name": "stderr",
     "output_type": "stream",
     "text": [
      "16:30:12 - cmdstanpy - INFO - Chain [1] start processing\n",
      "16:30:13 - cmdstanpy - INFO - Chain [1] done processing\n",
      "16:30:14 - cmdstanpy - INFO - Chain [1] start processing\n",
      "16:30:14 - cmdstanpy - INFO - Chain [1] start processing\n",
      "16:30:14 - cmdstanpy - INFO - Chain [1] start processing\n",
      "16:30:15 - cmdstanpy - INFO - Chain [1] start processing\n",
      "16:30:15 - cmdstanpy - INFO - Chain [1] start processing\n",
      "16:30:15 - cmdstanpy - INFO - Chain [1] done processing\n",
      "16:30:15 - cmdstanpy - INFO - Chain [1] done processing\n",
      "16:30:15 - cmdstanpy - INFO - Chain [1] done processing\n",
      "16:30:15 - cmdstanpy - INFO - Chain [1] done processing\n",
      "16:30:16 - cmdstanpy - INFO - Chain [1] done processing\n"
     ]
    },
    {
     "name": "stdout",
     "output_type": "stream",
     "text": [
      "{'changepoint_prior_scale': 0.201, 'holidays_prior_scale': 0.01, 'seasonality_mode': 'multiplicative', 'seasonality_prior_scale': 5.01}\n"
     ]
    },
    {
     "name": "stderr",
     "output_type": "stream",
     "text": [
      "16:30:17 - cmdstanpy - INFO - Chain [1] start processing\n",
      "16:30:17 - cmdstanpy - INFO - Chain [1] done processing\n",
      "16:30:19 - cmdstanpy - INFO - Chain [1] start processing\n",
      "16:30:19 - cmdstanpy - INFO - Chain [1] start processing\n",
      "16:30:19 - cmdstanpy - INFO - Chain [1] start processing\n",
      "16:30:19 - cmdstanpy - INFO - Chain [1] start processing\n",
      "16:30:19 - cmdstanpy - INFO - Chain [1] done processing\n",
      "16:30:19 - cmdstanpy - INFO - Chain [1] done processing\n",
      "16:30:19 - cmdstanpy - INFO - Chain [1] start processing\n",
      "16:30:19 - cmdstanpy - INFO - Chain [1] done processing\n",
      "16:30:20 - cmdstanpy - INFO - Chain [1] done processing\n",
      "16:30:21 - cmdstanpy - INFO - Chain [1] done processing\n"
     ]
    },
    {
     "name": "stdout",
     "output_type": "stream",
     "text": [
      "{'changepoint_prior_scale': 0.201, 'holidays_prior_scale': 0.01, 'seasonality_mode': 'multiplicative', 'seasonality_prior_scale': 7.51}\n"
     ]
    },
    {
     "name": "stderr",
     "output_type": "stream",
     "text": [
      "16:30:21 - cmdstanpy - INFO - Chain [1] start processing\n",
      "16:30:22 - cmdstanpy - INFO - Chain [1] done processing\n",
      "16:30:23 - cmdstanpy - INFO - Chain [1] start processing\n",
      "16:30:23 - cmdstanpy - INFO - Chain [1] start processing\n",
      "16:30:23 - cmdstanpy - INFO - Chain [1] start processing\n",
      "16:30:23 - cmdstanpy - INFO - Chain [1] done processing\n",
      "16:30:23 - cmdstanpy - INFO - Chain [1] start processing\n",
      "16:30:23 - cmdstanpy - INFO - Chain [1] start processing\n",
      "16:30:23 - cmdstanpy - INFO - Chain [1] done processing\n",
      "16:30:24 - cmdstanpy - INFO - Chain [1] done processing\n",
      "16:30:24 - cmdstanpy - INFO - Chain [1] done processing\n",
      "16:30:25 - cmdstanpy - INFO - Chain [1] done processing\n"
     ]
    },
    {
     "name": "stdout",
     "output_type": "stream",
     "text": [
      "{'changepoint_prior_scale': 0.201, 'holidays_prior_scale': 0.01, 'seasonality_mode': 'additive', 'seasonality_prior_scale': 0.01}\n"
     ]
    },
    {
     "name": "stderr",
     "output_type": "stream",
     "text": [
      "16:30:25 - cmdstanpy - INFO - Chain [1] start processing\n",
      "16:30:26 - cmdstanpy - INFO - Chain [1] done processing\n",
      "16:30:27 - cmdstanpy - INFO - Chain [1] start processing\n",
      "16:30:27 - cmdstanpy - INFO - Chain [1] start processing\n",
      "16:30:27 - cmdstanpy - INFO - Chain [1] done processing\n",
      "16:30:27 - cmdstanpy - INFO - Chain [1] done processing\n",
      "16:30:27 - cmdstanpy - INFO - Chain [1] start processing\n",
      "16:30:27 - cmdstanpy - INFO - Chain [1] start processing\n",
      "16:30:27 - cmdstanpy - INFO - Chain [1] done processing\n",
      "16:30:28 - cmdstanpy - INFO - Chain [1] start processing\n",
      "16:30:28 - cmdstanpy - INFO - Chain [1] done processing\n",
      "16:30:28 - cmdstanpy - INFO - Chain [1] done processing\n"
     ]
    },
    {
     "name": "stdout",
     "output_type": "stream",
     "text": [
      "{'changepoint_prior_scale': 0.201, 'holidays_prior_scale': 0.01, 'seasonality_mode': 'additive', 'seasonality_prior_scale': 2.51}\n"
     ]
    },
    {
     "name": "stderr",
     "output_type": "stream",
     "text": [
      "16:30:29 - cmdstanpy - INFO - Chain [1] start processing\n",
      "16:30:29 - cmdstanpy - INFO - Chain [1] done processing\n",
      "16:30:31 - cmdstanpy - INFO - Chain [1] start processing\n",
      "16:30:31 - cmdstanpy - INFO - Chain [1] done processing\n",
      "16:30:31 - cmdstanpy - INFO - Chain [1] start processing\n",
      "16:30:31 - cmdstanpy - INFO - Chain [1] done processing\n",
      "16:30:31 - cmdstanpy - INFO - Chain [1] start processing\n",
      "16:30:31 - cmdstanpy - INFO - Chain [1] start processing\n",
      "16:30:31 - cmdstanpy - INFO - Chain [1] done processing\n",
      "16:30:31 - cmdstanpy - INFO - Chain [1] start processing\n",
      "16:30:31 - cmdstanpy - INFO - Chain [1] done processing\n",
      "16:30:32 - cmdstanpy - INFO - Chain [1] done processing\n"
     ]
    },
    {
     "name": "stdout",
     "output_type": "stream",
     "text": [
      "{'changepoint_prior_scale': 0.201, 'holidays_prior_scale': 0.01, 'seasonality_mode': 'additive', 'seasonality_prior_scale': 5.01}\n"
     ]
    },
    {
     "name": "stderr",
     "output_type": "stream",
     "text": [
      "16:30:33 - cmdstanpy - INFO - Chain [1] start processing\n",
      "16:30:33 - cmdstanpy - INFO - Chain [1] done processing\n",
      "16:30:34 - cmdstanpy - INFO - Chain [1] start processing\n",
      "16:30:34 - cmdstanpy - INFO - Chain [1] done processing\n",
      "16:30:34 - cmdstanpy - INFO - Chain [1] start processing\n",
      "16:30:35 - cmdstanpy - INFO - Chain [1] done processing\n",
      "16:30:35 - cmdstanpy - INFO - Chain [1] start processing\n",
      "16:30:35 - cmdstanpy - INFO - Chain [1] done processing\n",
      "16:30:35 - cmdstanpy - INFO - Chain [1] start processing\n",
      "16:30:35 - cmdstanpy - INFO - Chain [1] start processing\n",
      "16:30:35 - cmdstanpy - INFO - Chain [1] done processing\n",
      "16:30:35 - cmdstanpy - INFO - Chain [1] done processing\n"
     ]
    },
    {
     "name": "stdout",
     "output_type": "stream",
     "text": [
      "{'changepoint_prior_scale': 0.201, 'holidays_prior_scale': 0.01, 'seasonality_mode': 'additive', 'seasonality_prior_scale': 7.51}\n"
     ]
    },
    {
     "name": "stderr",
     "output_type": "stream",
     "text": [
      "16:30:36 - cmdstanpy - INFO - Chain [1] start processing\n",
      "16:30:37 - cmdstanpy - INFO - Chain [1] done processing\n",
      "16:30:38 - cmdstanpy - INFO - Chain [1] start processing\n",
      "16:30:38 - cmdstanpy - INFO - Chain [1] start processing\n",
      "16:30:38 - cmdstanpy - INFO - Chain [1] done processing\n",
      "16:30:38 - cmdstanpy - INFO - Chain [1] done processing\n",
      "16:30:38 - cmdstanpy - INFO - Chain [1] start processing\n",
      "16:30:39 - cmdstanpy - INFO - Chain [1] done processing\n",
      "16:30:39 - cmdstanpy - INFO - Chain [1] start processing\n",
      "16:30:39 - cmdstanpy - INFO - Chain [1] start processing\n",
      "16:30:39 - cmdstanpy - INFO - Chain [1] done processing\n",
      "16:30:39 - cmdstanpy - INFO - Chain [1] done processing\n"
     ]
    },
    {
     "name": "stdout",
     "output_type": "stream",
     "text": [
      "{'changepoint_prior_scale': 0.201, 'holidays_prior_scale': 2.51, 'seasonality_mode': 'multiplicative', 'seasonality_prior_scale': 0.01}\n"
     ]
    },
    {
     "name": "stderr",
     "output_type": "stream",
     "text": [
      "16:30:40 - cmdstanpy - INFO - Chain [1] start processing\n",
      "16:30:40 - cmdstanpy - INFO - Chain [1] done processing\n",
      "16:30:42 - cmdstanpy - INFO - Chain [1] start processing\n",
      "16:30:42 - cmdstanpy - INFO - Chain [1] done processing\n",
      "16:30:42 - cmdstanpy - INFO - Chain [1] start processing\n",
      "16:30:42 - cmdstanpy - INFO - Chain [1] done processing\n",
      "16:30:42 - cmdstanpy - INFO - Chain [1] start processing\n",
      "16:30:42 - cmdstanpy - INFO - Chain [1] start processing\n",
      "16:30:43 - cmdstanpy - INFO - Chain [1] done processing\n",
      "16:30:43 - cmdstanpy - INFO - Chain [1] start processing\n",
      "16:30:43 - cmdstanpy - INFO - Chain [1] done processing\n",
      "16:30:43 - cmdstanpy - INFO - Chain [1] done processing\n"
     ]
    },
    {
     "name": "stdout",
     "output_type": "stream",
     "text": [
      "{'changepoint_prior_scale': 0.201, 'holidays_prior_scale': 2.51, 'seasonality_mode': 'multiplicative', 'seasonality_prior_scale': 2.51}\n"
     ]
    },
    {
     "name": "stderr",
     "output_type": "stream",
     "text": [
      "16:30:44 - cmdstanpy - INFO - Chain [1] start processing\n",
      "16:30:44 - cmdstanpy - INFO - Chain [1] done processing\n",
      "16:30:46 - cmdstanpy - INFO - Chain [1] start processing\n",
      "16:30:46 - cmdstanpy - INFO - Chain [1] start processing\n",
      "16:30:46 - cmdstanpy - INFO - Chain [1] start processing\n",
      "16:30:46 - cmdstanpy - INFO - Chain [1] start processing\n",
      "16:30:46 - cmdstanpy - INFO - Chain [1] start processing\n",
      "16:30:46 - cmdstanpy - INFO - Chain [1] done processing\n",
      "16:30:46 - cmdstanpy - INFO - Chain [1] done processing\n",
      "16:30:46 - cmdstanpy - INFO - Chain [1] done processing\n",
      "16:30:47 - cmdstanpy - INFO - Chain [1] done processing\n",
      "16:30:47 - cmdstanpy - INFO - Chain [1] done processing\n"
     ]
    },
    {
     "name": "stdout",
     "output_type": "stream",
     "text": [
      "{'changepoint_prior_scale': 0.201, 'holidays_prior_scale': 2.51, 'seasonality_mode': 'multiplicative', 'seasonality_prior_scale': 5.01}\n"
     ]
    },
    {
     "name": "stderr",
     "output_type": "stream",
     "text": [
      "16:30:48 - cmdstanpy - INFO - Chain [1] start processing\n",
      "16:30:48 - cmdstanpy - INFO - Chain [1] done processing\n",
      "16:30:49 - cmdstanpy - INFO - Chain [1] start processing\n",
      "16:30:50 - cmdstanpy - INFO - Chain [1] start processing\n",
      "16:30:50 - cmdstanpy - INFO - Chain [1] start processing\n",
      "16:30:50 - cmdstanpy - INFO - Chain [1] done processing\n",
      "16:30:50 - cmdstanpy - INFO - Chain [1] done processing\n",
      "16:30:50 - cmdstanpy - INFO - Chain [1] start processing\n",
      "16:30:50 - cmdstanpy - INFO - Chain [1] start processing\n",
      "16:30:50 - cmdstanpy - INFO - Chain [1] done processing\n",
      "16:30:51 - cmdstanpy - INFO - Chain [1] done processing\n",
      "16:30:51 - cmdstanpy - INFO - Chain [1] done processing\n"
     ]
    },
    {
     "name": "stdout",
     "output_type": "stream",
     "text": [
      "{'changepoint_prior_scale': 0.201, 'holidays_prior_scale': 2.51, 'seasonality_mode': 'multiplicative', 'seasonality_prior_scale': 7.51}\n"
     ]
    },
    {
     "name": "stderr",
     "output_type": "stream",
     "text": [
      "16:30:52 - cmdstanpy - INFO - Chain [1] start processing\n",
      "16:30:52 - cmdstanpy - INFO - Chain [1] done processing\n",
      "16:30:53 - cmdstanpy - INFO - Chain [1] start processing\n",
      "16:30:53 - cmdstanpy - INFO - Chain [1] start processing\n",
      "16:30:54 - cmdstanpy - INFO - Chain [1] start processing\n",
      "16:30:54 - cmdstanpy - INFO - Chain [1] start processing\n",
      "16:30:54 - cmdstanpy - INFO - Chain [1] done processing\n",
      "16:30:54 - cmdstanpy - INFO - Chain [1] start processing\n",
      "16:30:54 - cmdstanpy - INFO - Chain [1] done processing\n",
      "16:30:54 - cmdstanpy - INFO - Chain [1] done processing\n",
      "16:30:54 - cmdstanpy - INFO - Chain [1] done processing\n",
      "16:30:55 - cmdstanpy - INFO - Chain [1] done processing\n"
     ]
    },
    {
     "name": "stdout",
     "output_type": "stream",
     "text": [
      "{'changepoint_prior_scale': 0.201, 'holidays_prior_scale': 2.51, 'seasonality_mode': 'additive', 'seasonality_prior_scale': 0.01}\n"
     ]
    },
    {
     "name": "stderr",
     "output_type": "stream",
     "text": [
      "16:30:56 - cmdstanpy - INFO - Chain [1] start processing\n",
      "16:30:56 - cmdstanpy - INFO - Chain [1] done processing\n",
      "16:30:57 - cmdstanpy - INFO - Chain [1] start processing\n",
      "16:30:57 - cmdstanpy - INFO - Chain [1] start processing\n",
      "16:30:57 - cmdstanpy - INFO - Chain [1] done processing\n",
      "16:30:57 - cmdstanpy - INFO - Chain [1] done processing\n",
      "16:30:57 - cmdstanpy - INFO - Chain [1] start processing\n",
      "16:30:58 - cmdstanpy - INFO - Chain [1] done processing\n",
      "16:30:58 - cmdstanpy - INFO - Chain [1] start processing\n",
      "16:30:58 - cmdstanpy - INFO - Chain [1] start processing\n",
      "16:30:58 - cmdstanpy - INFO - Chain [1] done processing\n",
      "16:30:58 - cmdstanpy - INFO - Chain [1] done processing\n"
     ]
    },
    {
     "name": "stdout",
     "output_type": "stream",
     "text": [
      "{'changepoint_prior_scale': 0.201, 'holidays_prior_scale': 2.51, 'seasonality_mode': 'additive', 'seasonality_prior_scale': 2.51}\n"
     ]
    },
    {
     "name": "stderr",
     "output_type": "stream",
     "text": [
      "16:30:59 - cmdstanpy - INFO - Chain [1] start processing\n",
      "16:30:59 - cmdstanpy - INFO - Chain [1] done processing\n",
      "16:31:01 - cmdstanpy - INFO - Chain [1] start processing\n",
      "16:31:01 - cmdstanpy - INFO - Chain [1] done processing\n",
      "16:31:01 - cmdstanpy - INFO - Chain [1] start processing\n",
      "16:31:01 - cmdstanpy - INFO - Chain [1] done processing\n",
      "16:31:01 - cmdstanpy - INFO - Chain [1] start processing\n",
      "16:31:02 - cmdstanpy - INFO - Chain [1] done processing\n",
      "16:31:02 - cmdstanpy - INFO - Chain [1] start processing\n",
      "16:31:02 - cmdstanpy - INFO - Chain [1] start processing\n",
      "16:31:02 - cmdstanpy - INFO - Chain [1] done processing\n",
      "16:31:02 - cmdstanpy - INFO - Chain [1] done processing\n"
     ]
    },
    {
     "name": "stdout",
     "output_type": "stream",
     "text": [
      "{'changepoint_prior_scale': 0.201, 'holidays_prior_scale': 2.51, 'seasonality_mode': 'additive', 'seasonality_prior_scale': 5.01}\n"
     ]
    },
    {
     "name": "stderr",
     "output_type": "stream",
     "text": [
      "16:31:03 - cmdstanpy - INFO - Chain [1] start processing\n",
      "16:31:03 - cmdstanpy - INFO - Chain [1] done processing\n",
      "16:31:05 - cmdstanpy - INFO - Chain [1] start processing\n",
      "16:31:05 - cmdstanpy - INFO - Chain [1] done processing\n",
      "16:31:05 - cmdstanpy - INFO - Chain [1] start processing\n",
      "16:31:05 - cmdstanpy - INFO - Chain [1] done processing\n",
      "16:31:05 - cmdstanpy - INFO - Chain [1] start processing\n",
      "16:31:05 - cmdstanpy - INFO - Chain [1] done processing\n",
      "16:31:05 - cmdstanpy - INFO - Chain [1] start processing\n",
      "16:31:06 - cmdstanpy - INFO - Chain [1] start processing\n",
      "16:31:06 - cmdstanpy - INFO - Chain [1] done processing\n",
      "16:31:06 - cmdstanpy - INFO - Chain [1] done processing\n"
     ]
    },
    {
     "name": "stdout",
     "output_type": "stream",
     "text": [
      "{'changepoint_prior_scale': 0.201, 'holidays_prior_scale': 2.51, 'seasonality_mode': 'additive', 'seasonality_prior_scale': 7.51}\n"
     ]
    },
    {
     "name": "stderr",
     "output_type": "stream",
     "text": [
      "16:31:07 - cmdstanpy - INFO - Chain [1] start processing\n",
      "16:31:07 - cmdstanpy - INFO - Chain [1] done processing\n",
      "16:31:08 - cmdstanpy - INFO - Chain [1] start processing\n",
      "16:31:08 - cmdstanpy - INFO - Chain [1] done processing\n",
      "16:31:08 - cmdstanpy - INFO - Chain [1] start processing\n",
      "16:31:09 - cmdstanpy - INFO - Chain [1] done processing\n",
      "16:31:09 - cmdstanpy - INFO - Chain [1] start processing\n",
      "16:31:09 - cmdstanpy - INFO - Chain [1] start processing\n",
      "16:31:09 - cmdstanpy - INFO - Chain [1] done processing\n",
      "16:31:09 - cmdstanpy - INFO - Chain [1] done processing\n",
      "16:31:09 - cmdstanpy - INFO - Chain [1] start processing\n",
      "16:31:10 - cmdstanpy - INFO - Chain [1] done processing\n"
     ]
    },
    {
     "name": "stdout",
     "output_type": "stream",
     "text": [
      "{'changepoint_prior_scale': 0.201, 'holidays_prior_scale': 5.01, 'seasonality_mode': 'multiplicative', 'seasonality_prior_scale': 0.01}\n"
     ]
    },
    {
     "name": "stderr",
     "output_type": "stream",
     "text": [
      "16:31:10 - cmdstanpy - INFO - Chain [1] start processing\n",
      "16:31:11 - cmdstanpy - INFO - Chain [1] done processing\n",
      "16:31:12 - cmdstanpy - INFO - Chain [1] start processing\n",
      "16:31:12 - cmdstanpy - INFO - Chain [1] done processing\n",
      "16:31:12 - cmdstanpy - INFO - Chain [1] start processing\n",
      "16:31:12 - cmdstanpy - INFO - Chain [1] start processing\n",
      "16:31:12 - cmdstanpy - INFO - Chain [1] done processing\n",
      "16:31:12 - cmdstanpy - INFO - Chain [1] start processing\n",
      "16:31:13 - cmdstanpy - INFO - Chain [1] done processing\n",
      "16:31:13 - cmdstanpy - INFO - Chain [1] start processing\n",
      "16:31:13 - cmdstanpy - INFO - Chain [1] done processing\n",
      "16:31:13 - cmdstanpy - INFO - Chain [1] done processing\n"
     ]
    },
    {
     "name": "stdout",
     "output_type": "stream",
     "text": [
      "{'changepoint_prior_scale': 0.201, 'holidays_prior_scale': 5.01, 'seasonality_mode': 'multiplicative', 'seasonality_prior_scale': 2.51}\n"
     ]
    },
    {
     "name": "stderr",
     "output_type": "stream",
     "text": [
      "16:31:14 - cmdstanpy - INFO - Chain [1] start processing\n",
      "16:31:14 - cmdstanpy - INFO - Chain [1] done processing\n",
      "16:31:16 - cmdstanpy - INFO - Chain [1] start processing\n",
      "16:31:16 - cmdstanpy - INFO - Chain [1] start processing\n",
      "16:31:16 - cmdstanpy - INFO - Chain [1] start processing\n",
      "16:31:16 - cmdstanpy - INFO - Chain [1] done processing\n",
      "16:31:16 - cmdstanpy - INFO - Chain [1] start processing\n",
      "16:31:16 - cmdstanpy - INFO - Chain [1] start processing\n",
      "16:31:17 - cmdstanpy - INFO - Chain [1] done processing\n",
      "16:31:17 - cmdstanpy - INFO - Chain [1] done processing\n",
      "16:31:17 - cmdstanpy - INFO - Chain [1] done processing\n",
      "16:31:17 - cmdstanpy - INFO - Chain [1] done processing\n"
     ]
    },
    {
     "name": "stdout",
     "output_type": "stream",
     "text": [
      "{'changepoint_prior_scale': 0.201, 'holidays_prior_scale': 5.01, 'seasonality_mode': 'multiplicative', 'seasonality_prior_scale': 5.01}\n"
     ]
    },
    {
     "name": "stderr",
     "output_type": "stream",
     "text": [
      "16:31:18 - cmdstanpy - INFO - Chain [1] start processing\n",
      "16:31:18 - cmdstanpy - INFO - Chain [1] done processing\n",
      "16:31:20 - cmdstanpy - INFO - Chain [1] start processing\n",
      "16:31:20 - cmdstanpy - INFO - Chain [1] start processing\n",
      "16:31:20 - cmdstanpy - INFO - Chain [1] done processing\n",
      "16:31:20 - cmdstanpy - INFO - Chain [1] start processing\n",
      "16:31:20 - cmdstanpy - INFO - Chain [1] start processing\n",
      "16:31:20 - cmdstanpy - INFO - Chain [1] done processing\n",
      "16:31:20 - cmdstanpy - INFO - Chain [1] start processing\n",
      "16:31:21 - cmdstanpy - INFO - Chain [1] done processing\n",
      "16:31:21 - cmdstanpy - INFO - Chain [1] done processing\n",
      "16:31:21 - cmdstanpy - INFO - Chain [1] done processing\n"
     ]
    },
    {
     "name": "stdout",
     "output_type": "stream",
     "text": [
      "{'changepoint_prior_scale': 0.201, 'holidays_prior_scale': 5.01, 'seasonality_mode': 'multiplicative', 'seasonality_prior_scale': 7.51}\n"
     ]
    },
    {
     "name": "stderr",
     "output_type": "stream",
     "text": [
      "16:31:22 - cmdstanpy - INFO - Chain [1] start processing\n",
      "16:31:22 - cmdstanpy - INFO - Chain [1] done processing\n",
      "16:31:24 - cmdstanpy - INFO - Chain [1] start processing\n",
      "16:31:24 - cmdstanpy - INFO - Chain [1] start processing\n",
      "16:31:24 - cmdstanpy - INFO - Chain [1] done processing\n",
      "16:31:24 - cmdstanpy - INFO - Chain [1] start processing\n",
      "16:31:24 - cmdstanpy - INFO - Chain [1] done processing\n",
      "16:31:24 - cmdstanpy - INFO - Chain [1] start processing\n",
      "16:31:24 - cmdstanpy - INFO - Chain [1] start processing\n",
      "16:31:25 - cmdstanpy - INFO - Chain [1] done processing\n",
      "16:31:25 - cmdstanpy - INFO - Chain [1] done processing\n",
      "16:31:25 - cmdstanpy - INFO - Chain [1] done processing\n"
     ]
    },
    {
     "name": "stdout",
     "output_type": "stream",
     "text": [
      "{'changepoint_prior_scale': 0.201, 'holidays_prior_scale': 5.01, 'seasonality_mode': 'additive', 'seasonality_prior_scale': 0.01}\n"
     ]
    },
    {
     "name": "stderr",
     "output_type": "stream",
     "text": [
      "16:31:26 - cmdstanpy - INFO - Chain [1] start processing\n",
      "16:31:26 - cmdstanpy - INFO - Chain [1] done processing\n",
      "16:31:27 - cmdstanpy - INFO - Chain [1] start processing\n",
      "16:31:28 - cmdstanpy - INFO - Chain [1] start processing\n",
      "16:31:28 - cmdstanpy - INFO - Chain [1] done processing\n",
      "16:31:28 - cmdstanpy - INFO - Chain [1] done processing\n",
      "16:31:28 - cmdstanpy - INFO - Chain [1] start processing\n",
      "16:31:28 - cmdstanpy - INFO - Chain [1] start processing\n",
      "16:31:28 - cmdstanpy - INFO - Chain [1] done processing\n",
      "16:31:28 - cmdstanpy - INFO - Chain [1] start processing\n",
      "16:31:28 - cmdstanpy - INFO - Chain [1] done processing\n",
      "16:31:29 - cmdstanpy - INFO - Chain [1] done processing\n"
     ]
    },
    {
     "name": "stdout",
     "output_type": "stream",
     "text": [
      "{'changepoint_prior_scale': 0.201, 'holidays_prior_scale': 5.01, 'seasonality_mode': 'additive', 'seasonality_prior_scale': 2.51}\n"
     ]
    },
    {
     "name": "stderr",
     "output_type": "stream",
     "text": [
      "16:31:30 - cmdstanpy - INFO - Chain [1] start processing\n",
      "16:31:30 - cmdstanpy - INFO - Chain [1] done processing\n",
      "16:31:31 - cmdstanpy - INFO - Chain [1] start processing\n",
      "16:31:31 - cmdstanpy - INFO - Chain [1] done processing\n",
      "16:31:31 - cmdstanpy - INFO - Chain [1] start processing\n",
      "16:31:31 - cmdstanpy - INFO - Chain [1] done processing\n",
      "16:31:31 - cmdstanpy - INFO - Chain [1] start processing\n",
      "16:31:32 - cmdstanpy - INFO - Chain [1] done processing\n",
      "16:31:32 - cmdstanpy - INFO - Chain [1] start processing\n",
      "16:31:32 - cmdstanpy - INFO - Chain [1] start processing\n",
      "16:31:32 - cmdstanpy - INFO - Chain [1] done processing\n",
      "16:31:32 - cmdstanpy - INFO - Chain [1] done processing\n"
     ]
    },
    {
     "name": "stdout",
     "output_type": "stream",
     "text": [
      "{'changepoint_prior_scale': 0.201, 'holidays_prior_scale': 5.01, 'seasonality_mode': 'additive', 'seasonality_prior_scale': 5.01}\n"
     ]
    },
    {
     "name": "stderr",
     "output_type": "stream",
     "text": [
      "16:31:33 - cmdstanpy - INFO - Chain [1] start processing\n",
      "16:31:33 - cmdstanpy - INFO - Chain [1] done processing\n",
      "16:31:35 - cmdstanpy - INFO - Chain [1] start processing\n",
      "16:31:35 - cmdstanpy - INFO - Chain [1] done processing\n",
      "16:31:35 - cmdstanpy - INFO - Chain [1] start processing\n",
      "16:31:35 - cmdstanpy - INFO - Chain [1] done processing\n",
      "16:31:35 - cmdstanpy - INFO - Chain [1] start processing\n",
      "16:31:35 - cmdstanpy - INFO - Chain [1] start processing\n",
      "16:31:35 - cmdstanpy - INFO - Chain [1] done processing\n",
      "16:31:35 - cmdstanpy - INFO - Chain [1] start processing\n",
      "16:31:36 - cmdstanpy - INFO - Chain [1] done processing\n",
      "16:31:36 - cmdstanpy - INFO - Chain [1] done processing\n"
     ]
    },
    {
     "name": "stdout",
     "output_type": "stream",
     "text": [
      "{'changepoint_prior_scale': 0.201, 'holidays_prior_scale': 5.01, 'seasonality_mode': 'additive', 'seasonality_prior_scale': 7.51}\n"
     ]
    },
    {
     "name": "stderr",
     "output_type": "stream",
     "text": [
      "16:31:37 - cmdstanpy - INFO - Chain [1] start processing\n",
      "16:31:37 - cmdstanpy - INFO - Chain [1] done processing\n",
      "16:31:38 - cmdstanpy - INFO - Chain [1] start processing\n",
      "16:31:38 - cmdstanpy - INFO - Chain [1] done processing\n",
      "16:31:38 - cmdstanpy - INFO - Chain [1] start processing\n",
      "16:31:39 - cmdstanpy - INFO - Chain [1] start processing\n",
      "16:31:39 - cmdstanpy - INFO - Chain [1] done processing\n",
      "16:31:39 - cmdstanpy - INFO - Chain [1] done processing\n",
      "16:31:39 - cmdstanpy - INFO - Chain [1] start processing\n",
      "16:31:39 - cmdstanpy - INFO - Chain [1] start processing\n",
      "16:31:39 - cmdstanpy - INFO - Chain [1] done processing\n",
      "16:31:40 - cmdstanpy - INFO - Chain [1] done processing\n"
     ]
    },
    {
     "name": "stdout",
     "output_type": "stream",
     "text": [
      "{'changepoint_prior_scale': 0.201, 'holidays_prior_scale': 7.51, 'seasonality_mode': 'multiplicative', 'seasonality_prior_scale': 0.01}\n"
     ]
    },
    {
     "name": "stderr",
     "output_type": "stream",
     "text": [
      "16:31:40 - cmdstanpy - INFO - Chain [1] start processing\n",
      "16:31:41 - cmdstanpy - INFO - Chain [1] done processing\n",
      "16:31:42 - cmdstanpy - INFO - Chain [1] start processing\n",
      "16:31:42 - cmdstanpy - INFO - Chain [1] done processing\n",
      "16:31:42 - cmdstanpy - INFO - Chain [1] start processing\n",
      "16:31:42 - cmdstanpy - INFO - Chain [1] done processing\n",
      "16:31:43 - cmdstanpy - INFO - Chain [1] start processing\n",
      "16:31:43 - cmdstanpy - INFO - Chain [1] start processing\n",
      "16:31:43 - cmdstanpy - INFO - Chain [1] start processing\n",
      "16:31:43 - cmdstanpy - INFO - Chain [1] done processing\n",
      "16:31:43 - cmdstanpy - INFO - Chain [1] done processing\n",
      "16:31:43 - cmdstanpy - INFO - Chain [1] done processing\n"
     ]
    },
    {
     "name": "stdout",
     "output_type": "stream",
     "text": [
      "{'changepoint_prior_scale': 0.201, 'holidays_prior_scale': 7.51, 'seasonality_mode': 'multiplicative', 'seasonality_prior_scale': 2.51}\n"
     ]
    },
    {
     "name": "stderr",
     "output_type": "stream",
     "text": [
      "16:31:44 - cmdstanpy - INFO - Chain [1] start processing\n",
      "16:31:44 - cmdstanpy - INFO - Chain [1] done processing\n",
      "16:31:46 - cmdstanpy - INFO - Chain [1] start processing\n",
      "16:31:46 - cmdstanpy - INFO - Chain [1] start processing\n",
      "16:31:46 - cmdstanpy - INFO - Chain [1] start processing\n",
      "16:31:46 - cmdstanpy - INFO - Chain [1] start processing\n",
      "16:31:46 - cmdstanpy - INFO - Chain [1] done processing\n",
      "16:31:46 - cmdstanpy - INFO - Chain [1] done processing\n",
      "16:31:46 - cmdstanpy - INFO - Chain [1] start processing\n",
      "16:31:47 - cmdstanpy - INFO - Chain [1] done processing\n",
      "16:31:47 - cmdstanpy - INFO - Chain [1] done processing\n",
      "16:31:47 - cmdstanpy - INFO - Chain [1] done processing\n"
     ]
    },
    {
     "name": "stdout",
     "output_type": "stream",
     "text": [
      "{'changepoint_prior_scale': 0.201, 'holidays_prior_scale': 7.51, 'seasonality_mode': 'multiplicative', 'seasonality_prior_scale': 5.01}\n"
     ]
    },
    {
     "name": "stderr",
     "output_type": "stream",
     "text": [
      "16:31:48 - cmdstanpy - INFO - Chain [1] start processing\n",
      "16:31:48 - cmdstanpy - INFO - Chain [1] done processing\n",
      "16:31:50 - cmdstanpy - INFO - Chain [1] start processing\n",
      "16:31:50 - cmdstanpy - INFO - Chain [1] start processing\n",
      "16:31:50 - cmdstanpy - INFO - Chain [1] start processing\n",
      "16:31:50 - cmdstanpy - INFO - Chain [1] start processing\n",
      "16:31:50 - cmdstanpy - INFO - Chain [1] done processing\n",
      "16:31:50 - cmdstanpy - INFO - Chain [1] start processing\n",
      "16:31:50 - cmdstanpy - INFO - Chain [1] done processing\n",
      "16:31:51 - cmdstanpy - INFO - Chain [1] done processing\n",
      "16:31:51 - cmdstanpy - INFO - Chain [1] done processing\n",
      "16:31:51 - cmdstanpy - INFO - Chain [1] done processing\n"
     ]
    },
    {
     "name": "stdout",
     "output_type": "stream",
     "text": [
      "{'changepoint_prior_scale': 0.201, 'holidays_prior_scale': 7.51, 'seasonality_mode': 'multiplicative', 'seasonality_prior_scale': 7.51}\n"
     ]
    },
    {
     "name": "stderr",
     "output_type": "stream",
     "text": [
      "16:31:52 - cmdstanpy - INFO - Chain [1] start processing\n",
      "16:31:52 - cmdstanpy - INFO - Chain [1] done processing\n",
      "16:31:54 - cmdstanpy - INFO - Chain [1] start processing\n",
      "16:31:54 - cmdstanpy - INFO - Chain [1] start processing\n",
      "16:31:54 - cmdstanpy - INFO - Chain [1] start processing\n",
      "16:31:54 - cmdstanpy - INFO - Chain [1] start processing\n",
      "16:31:54 - cmdstanpy - INFO - Chain [1] done processing\n",
      "16:31:54 - cmdstanpy - INFO - Chain [1] done processing\n",
      "16:31:54 - cmdstanpy - INFO - Chain [1] start processing\n",
      "16:31:54 - cmdstanpy - INFO - Chain [1] done processing\n",
      "16:31:55 - cmdstanpy - INFO - Chain [1] done processing\n",
      "16:31:55 - cmdstanpy - INFO - Chain [1] done processing\n"
     ]
    },
    {
     "name": "stdout",
     "output_type": "stream",
     "text": [
      "{'changepoint_prior_scale': 0.201, 'holidays_prior_scale': 7.51, 'seasonality_mode': 'additive', 'seasonality_prior_scale': 0.01}\n"
     ]
    },
    {
     "name": "stderr",
     "output_type": "stream",
     "text": [
      "16:31:56 - cmdstanpy - INFO - Chain [1] start processing\n",
      "16:31:56 - cmdstanpy - INFO - Chain [1] done processing\n",
      "16:31:57 - cmdstanpy - INFO - Chain [1] start processing\n",
      "16:31:58 - cmdstanpy - INFO - Chain [1] done processing\n",
      "16:31:58 - cmdstanpy - INFO - Chain [1] start processing\n",
      "16:31:58 - cmdstanpy - INFO - Chain [1] start processing\n",
      "16:31:58 - cmdstanpy - INFO - Chain [1] done processing\n",
      "16:31:58 - cmdstanpy - INFO - Chain [1] done processing\n",
      "16:31:58 - cmdstanpy - INFO - Chain [1] start processing\n",
      "16:31:58 - cmdstanpy - INFO - Chain [1] start processing\n",
      "16:31:58 - cmdstanpy - INFO - Chain [1] done processing\n",
      "16:31:58 - cmdstanpy - INFO - Chain [1] done processing\n"
     ]
    },
    {
     "name": "stdout",
     "output_type": "stream",
     "text": [
      "{'changepoint_prior_scale': 0.201, 'holidays_prior_scale': 7.51, 'seasonality_mode': 'additive', 'seasonality_prior_scale': 2.51}\n"
     ]
    },
    {
     "name": "stderr",
     "output_type": "stream",
     "text": [
      "16:31:59 - cmdstanpy - INFO - Chain [1] start processing\n",
      "16:32:00 - cmdstanpy - INFO - Chain [1] done processing\n",
      "16:32:01 - cmdstanpy - INFO - Chain [1] start processing\n",
      "16:32:01 - cmdstanpy - INFO - Chain [1] done processing\n",
      "16:32:01 - cmdstanpy - INFO - Chain [1] start processing\n",
      "16:32:01 - cmdstanpy - INFO - Chain [1] start processing\n",
      "16:32:01 - cmdstanpy - INFO - Chain [1] done processing\n",
      "16:32:02 - cmdstanpy - INFO - Chain [1] start processing\n",
      "16:32:02 - cmdstanpy - INFO - Chain [1] done processing\n",
      "16:32:02 - cmdstanpy - INFO - Chain [1] done processing\n",
      "16:32:02 - cmdstanpy - INFO - Chain [1] start processing\n",
      "16:32:02 - cmdstanpy - INFO - Chain [1] done processing\n"
     ]
    },
    {
     "name": "stdout",
     "output_type": "stream",
     "text": [
      "{'changepoint_prior_scale': 0.201, 'holidays_prior_scale': 7.51, 'seasonality_mode': 'additive', 'seasonality_prior_scale': 5.01}\n"
     ]
    },
    {
     "name": "stderr",
     "output_type": "stream",
     "text": [
      "16:32:03 - cmdstanpy - INFO - Chain [1] start processing\n",
      "16:32:03 - cmdstanpy - INFO - Chain [1] done processing\n",
      "16:32:05 - cmdstanpy - INFO - Chain [1] start processing\n",
      "16:32:05 - cmdstanpy - INFO - Chain [1] done processing\n",
      "16:32:05 - cmdstanpy - INFO - Chain [1] start processing\n",
      "16:32:05 - cmdstanpy - INFO - Chain [1] done processing\n",
      "16:32:05 - cmdstanpy - INFO - Chain [1] start processing\n",
      "16:32:05 - cmdstanpy - INFO - Chain [1] done processing\n",
      "16:32:05 - cmdstanpy - INFO - Chain [1] start processing\n",
      "16:32:05 - cmdstanpy - INFO - Chain [1] start processing\n",
      "16:32:05 - cmdstanpy - INFO - Chain [1] done processing\n",
      "16:32:06 - cmdstanpy - INFO - Chain [1] done processing\n"
     ]
    },
    {
     "name": "stdout",
     "output_type": "stream",
     "text": [
      "{'changepoint_prior_scale': 0.201, 'holidays_prior_scale': 7.51, 'seasonality_mode': 'additive', 'seasonality_prior_scale': 7.51}\n"
     ]
    },
    {
     "name": "stderr",
     "output_type": "stream",
     "text": [
      "16:32:07 - cmdstanpy - INFO - Chain [1] start processing\n",
      "16:32:07 - cmdstanpy - INFO - Chain [1] done processing\n",
      "16:32:08 - cmdstanpy - INFO - Chain [1] start processing\n",
      "16:32:08 - cmdstanpy - INFO - Chain [1] start processing\n",
      "16:32:08 - cmdstanpy - INFO - Chain [1] done processing\n",
      "16:32:09 - cmdstanpy - INFO - Chain [1] done processing\n",
      "16:32:09 - cmdstanpy - INFO - Chain [1] start processing\n",
      "16:32:09 - cmdstanpy - INFO - Chain [1] done processing\n",
      "16:32:09 - cmdstanpy - INFO - Chain [1] start processing\n",
      "16:32:09 - cmdstanpy - INFO - Chain [1] start processing\n",
      "16:32:09 - cmdstanpy - INFO - Chain [1] done processing\n",
      "16:32:10 - cmdstanpy - INFO - Chain [1] done processing\n"
     ]
    },
    {
     "name": "stdout",
     "output_type": "stream",
     "text": [
      "{'changepoint_prior_scale': 0.30100000000000005, 'holidays_prior_scale': 0.01, 'seasonality_mode': 'multiplicative', 'seasonality_prior_scale': 0.01}\n"
     ]
    },
    {
     "name": "stderr",
     "output_type": "stream",
     "text": [
      "16:32:10 - cmdstanpy - INFO - Chain [1] start processing\n",
      "16:32:11 - cmdstanpy - INFO - Chain [1] done processing\n",
      "16:32:12 - cmdstanpy - INFO - Chain [1] start processing\n",
      "16:32:12 - cmdstanpy - INFO - Chain [1] start processing\n",
      "16:32:12 - cmdstanpy - INFO - Chain [1] start processing\n",
      "16:32:12 - cmdstanpy - INFO - Chain [1] done processing\n",
      "16:32:12 - cmdstanpy - INFO - Chain [1] done processing\n",
      "16:32:12 - cmdstanpy - INFO - Chain [1] start processing\n",
      "16:32:13 - cmdstanpy - INFO - Chain [1] start processing\n",
      "16:32:13 - cmdstanpy - INFO - Chain [1] done processing\n",
      "16:32:13 - cmdstanpy - INFO - Chain [1] done processing\n",
      "16:32:13 - cmdstanpy - INFO - Chain [1] done processing\n"
     ]
    },
    {
     "name": "stdout",
     "output_type": "stream",
     "text": [
      "{'changepoint_prior_scale': 0.30100000000000005, 'holidays_prior_scale': 0.01, 'seasonality_mode': 'multiplicative', 'seasonality_prior_scale': 2.51}\n"
     ]
    },
    {
     "name": "stderr",
     "output_type": "stream",
     "text": [
      "16:32:14 - cmdstanpy - INFO - Chain [1] start processing\n",
      "16:32:14 - cmdstanpy - INFO - Chain [1] done processing\n",
      "16:32:16 - cmdstanpy - INFO - Chain [1] start processing\n",
      "16:32:16 - cmdstanpy - INFO - Chain [1] start processing\n",
      "16:32:16 - cmdstanpy - INFO - Chain [1] start processing\n",
      "16:32:16 - cmdstanpy - INFO - Chain [1] start processing\n",
      "16:32:16 - cmdstanpy - INFO - Chain [1] done processing\n",
      "16:32:16 - cmdstanpy - INFO - Chain [1] done processing\n",
      "16:32:16 - cmdstanpy - INFO - Chain [1] start processing\n",
      "16:32:16 - cmdstanpy - INFO - Chain [1] done processing\n",
      "16:32:17 - cmdstanpy - INFO - Chain [1] done processing\n",
      "16:32:17 - cmdstanpy - INFO - Chain [1] done processing\n"
     ]
    },
    {
     "name": "stdout",
     "output_type": "stream",
     "text": [
      "{'changepoint_prior_scale': 0.30100000000000005, 'holidays_prior_scale': 0.01, 'seasonality_mode': 'multiplicative', 'seasonality_prior_scale': 5.01}\n"
     ]
    },
    {
     "name": "stderr",
     "output_type": "stream",
     "text": [
      "16:32:18 - cmdstanpy - INFO - Chain [1] start processing\n",
      "16:32:18 - cmdstanpy - INFO - Chain [1] done processing\n",
      "16:32:19 - cmdstanpy - INFO - Chain [1] start processing\n",
      "16:32:19 - cmdstanpy - INFO - Chain [1] start processing\n",
      "16:32:19 - cmdstanpy - INFO - Chain [1] done processing\n",
      "16:32:19 - cmdstanpy - INFO - Chain [1] start processing\n",
      "16:32:20 - cmdstanpy - INFO - Chain [1] start processing\n",
      "16:32:20 - cmdstanpy - INFO - Chain [1] start processing\n",
      "16:32:20 - cmdstanpy - INFO - Chain [1] done processing\n",
      "16:32:20 - cmdstanpy - INFO - Chain [1] done processing\n",
      "16:32:20 - cmdstanpy - INFO - Chain [1] done processing\n",
      "16:32:21 - cmdstanpy - INFO - Chain [1] done processing\n"
     ]
    },
    {
     "name": "stdout",
     "output_type": "stream",
     "text": [
      "{'changepoint_prior_scale': 0.30100000000000005, 'holidays_prior_scale': 0.01, 'seasonality_mode': 'multiplicative', 'seasonality_prior_scale': 7.51}\n"
     ]
    },
    {
     "name": "stderr",
     "output_type": "stream",
     "text": [
      "16:32:22 - cmdstanpy - INFO - Chain [1] start processing\n",
      "16:32:22 - cmdstanpy - INFO - Chain [1] done processing\n",
      "16:32:23 - cmdstanpy - INFO - Chain [1] start processing\n",
      "16:32:23 - cmdstanpy - INFO - Chain [1] start processing\n",
      "16:32:23 - cmdstanpy - INFO - Chain [1] start processing\n",
      "16:32:23 - cmdstanpy - INFO - Chain [1] done processing\n",
      "16:32:23 - cmdstanpy - INFO - Chain [1] start processing\n",
      "16:32:24 - cmdstanpy - INFO - Chain [1] start processing\n",
      "16:32:24 - cmdstanpy - INFO - Chain [1] done processing\n",
      "16:32:24 - cmdstanpy - INFO - Chain [1] done processing\n",
      "16:32:25 - cmdstanpy - INFO - Chain [1] done processing\n",
      "16:32:25 - cmdstanpy - INFO - Chain [1] done processing\n"
     ]
    },
    {
     "name": "stdout",
     "output_type": "stream",
     "text": [
      "{'changepoint_prior_scale': 0.30100000000000005, 'holidays_prior_scale': 0.01, 'seasonality_mode': 'additive', 'seasonality_prior_scale': 0.01}\n"
     ]
    },
    {
     "name": "stderr",
     "output_type": "stream",
     "text": [
      "16:32:26 - cmdstanpy - INFO - Chain [1] start processing\n",
      "16:32:26 - cmdstanpy - INFO - Chain [1] done processing\n",
      "16:32:27 - cmdstanpy - INFO - Chain [1] start processing\n",
      "16:32:27 - cmdstanpy - INFO - Chain [1] done processing\n",
      "16:32:27 - cmdstanpy - INFO - Chain [1] start processing\n",
      "16:32:27 - cmdstanpy - INFO - Chain [1] done processing\n",
      "16:32:27 - cmdstanpy - INFO - Chain [1] start processing\n",
      "16:32:27 - cmdstanpy - INFO - Chain [1] start processing\n",
      "16:32:28 - cmdstanpy - INFO - Chain [1] done processing\n",
      "16:32:28 - cmdstanpy - INFO - Chain [1] done processing\n",
      "16:32:28 - cmdstanpy - INFO - Chain [1] start processing\n",
      "16:32:28 - cmdstanpy - INFO - Chain [1] done processing\n"
     ]
    },
    {
     "name": "stdout",
     "output_type": "stream",
     "text": [
      "{'changepoint_prior_scale': 0.30100000000000005, 'holidays_prior_scale': 0.01, 'seasonality_mode': 'additive', 'seasonality_prior_scale': 2.51}\n"
     ]
    },
    {
     "name": "stderr",
     "output_type": "stream",
     "text": [
      "16:32:29 - cmdstanpy - INFO - Chain [1] start processing\n",
      "16:32:29 - cmdstanpy - INFO - Chain [1] done processing\n",
      "16:32:31 - cmdstanpy - INFO - Chain [1] start processing\n",
      "16:32:31 - cmdstanpy - INFO - Chain [1] done processing\n",
      "16:32:31 - cmdstanpy - INFO - Chain [1] start processing\n",
      "16:32:31 - cmdstanpy - INFO - Chain [1] done processing\n",
      "16:32:31 - cmdstanpy - INFO - Chain [1] start processing\n",
      "16:32:31 - cmdstanpy - INFO - Chain [1] done processing\n",
      "16:32:31 - cmdstanpy - INFO - Chain [1] start processing\n",
      "16:32:31 - cmdstanpy - INFO - Chain [1] start processing\n",
      "16:32:31 - cmdstanpy - INFO - Chain [1] done processing\n",
      "16:32:32 - cmdstanpy - INFO - Chain [1] done processing\n"
     ]
    },
    {
     "name": "stdout",
     "output_type": "stream",
     "text": [
      "{'changepoint_prior_scale': 0.30100000000000005, 'holidays_prior_scale': 0.01, 'seasonality_mode': 'additive', 'seasonality_prior_scale': 5.01}\n"
     ]
    },
    {
     "name": "stderr",
     "output_type": "stream",
     "text": [
      "16:32:33 - cmdstanpy - INFO - Chain [1] start processing\n",
      "16:32:33 - cmdstanpy - INFO - Chain [1] done processing\n",
      "16:32:34 - cmdstanpy - INFO - Chain [1] start processing\n",
      "16:32:34 - cmdstanpy - INFO - Chain [1] done processing\n",
      "16:32:34 - cmdstanpy - INFO - Chain [1] start processing\n",
      "16:32:35 - cmdstanpy - INFO - Chain [1] done processing\n",
      "16:32:35 - cmdstanpy - INFO - Chain [1] start processing\n",
      "16:32:35 - cmdstanpy - INFO - Chain [1] start processing\n",
      "16:32:35 - cmdstanpy - INFO - Chain [1] done processing\n",
      "16:32:35 - cmdstanpy - INFO - Chain [1] start processing\n",
      "16:32:35 - cmdstanpy - INFO - Chain [1] done processing\n",
      "16:32:36 - cmdstanpy - INFO - Chain [1] done processing\n"
     ]
    },
    {
     "name": "stdout",
     "output_type": "stream",
     "text": [
      "{'changepoint_prior_scale': 0.30100000000000005, 'holidays_prior_scale': 0.01, 'seasonality_mode': 'additive', 'seasonality_prior_scale': 7.51}\n"
     ]
    },
    {
     "name": "stderr",
     "output_type": "stream",
     "text": [
      "16:32:36 - cmdstanpy - INFO - Chain [1] start processing\n",
      "16:32:37 - cmdstanpy - INFO - Chain [1] done processing\n",
      "16:32:38 - cmdstanpy - INFO - Chain [1] start processing\n",
      "16:32:38 - cmdstanpy - INFO - Chain [1] done processing\n",
      "16:32:38 - cmdstanpy - INFO - Chain [1] start processing\n",
      "16:32:38 - cmdstanpy - INFO - Chain [1] done processing\n",
      "16:32:38 - cmdstanpy - INFO - Chain [1] start processing\n",
      "16:32:38 - cmdstanpy - INFO - Chain [1] done processing\n",
      "16:32:39 - cmdstanpy - INFO - Chain [1] start processing\n",
      "16:32:39 - cmdstanpy - INFO - Chain [1] start processing\n",
      "16:32:39 - cmdstanpy - INFO - Chain [1] done processing\n",
      "16:32:39 - cmdstanpy - INFO - Chain [1] done processing\n"
     ]
    },
    {
     "name": "stdout",
     "output_type": "stream",
     "text": [
      "{'changepoint_prior_scale': 0.30100000000000005, 'holidays_prior_scale': 2.51, 'seasonality_mode': 'multiplicative', 'seasonality_prior_scale': 0.01}\n"
     ]
    },
    {
     "name": "stderr",
     "output_type": "stream",
     "text": [
      "16:32:40 - cmdstanpy - INFO - Chain [1] start processing\n",
      "16:32:40 - cmdstanpy - INFO - Chain [1] done processing\n",
      "16:32:42 - cmdstanpy - INFO - Chain [1] start processing\n",
      "16:32:42 - cmdstanpy - INFO - Chain [1] start processing\n",
      "16:32:42 - cmdstanpy - INFO - Chain [1] done processing\n",
      "16:32:42 - cmdstanpy - INFO - Chain [1] start processing\n",
      "16:32:42 - cmdstanpy - INFO - Chain [1] done processing\n",
      "16:32:42 - cmdstanpy - INFO - Chain [1] start processing\n",
      "16:32:42 - cmdstanpy - INFO - Chain [1] done processing\n",
      "16:32:42 - cmdstanpy - INFO - Chain [1] start processing\n",
      "16:32:42 - cmdstanpy - INFO - Chain [1] done processing\n",
      "16:32:43 - cmdstanpy - INFO - Chain [1] done processing\n"
     ]
    },
    {
     "name": "stdout",
     "output_type": "stream",
     "text": [
      "{'changepoint_prior_scale': 0.30100000000000005, 'holidays_prior_scale': 2.51, 'seasonality_mode': 'multiplicative', 'seasonality_prior_scale': 2.51}\n"
     ]
    },
    {
     "name": "stderr",
     "output_type": "stream",
     "text": [
      "16:32:44 - cmdstanpy - INFO - Chain [1] start processing\n",
      "16:32:44 - cmdstanpy - INFO - Chain [1] done processing\n",
      "16:32:45 - cmdstanpy - INFO - Chain [1] start processing\n",
      "16:32:45 - cmdstanpy - INFO - Chain [1] done processing\n",
      "16:32:45 - cmdstanpy - INFO - Chain [1] start processing\n",
      "16:32:46 - cmdstanpy - INFO - Chain [1] start processing\n",
      "16:32:46 - cmdstanpy - INFO - Chain [1] start processing\n",
      "16:32:46 - cmdstanpy - INFO - Chain [1] done processing\n",
      "16:32:46 - cmdstanpy - INFO - Chain [1] start processing\n",
      "16:32:46 - cmdstanpy - INFO - Chain [1] done processing\n",
      "16:32:47 - cmdstanpy - INFO - Chain [1] done processing\n",
      "16:32:47 - cmdstanpy - INFO - Chain [1] done processing\n"
     ]
    },
    {
     "name": "stdout",
     "output_type": "stream",
     "text": [
      "{'changepoint_prior_scale': 0.30100000000000005, 'holidays_prior_scale': 2.51, 'seasonality_mode': 'multiplicative', 'seasonality_prior_scale': 5.01}\n"
     ]
    },
    {
     "name": "stderr",
     "output_type": "stream",
     "text": [
      "16:32:48 - cmdstanpy - INFO - Chain [1] start processing\n",
      "16:32:48 - cmdstanpy - INFO - Chain [1] done processing\n",
      "16:32:49 - cmdstanpy - INFO - Chain [1] start processing\n",
      "16:32:49 - cmdstanpy - INFO - Chain [1] done processing\n",
      "16:32:49 - cmdstanpy - INFO - Chain [1] start processing\n",
      "16:32:50 - cmdstanpy - INFO - Chain [1] start processing\n",
      "16:32:50 - cmdstanpy - INFO - Chain [1] start processing\n",
      "16:32:50 - cmdstanpy - INFO - Chain [1] done processing\n",
      "16:32:50 - cmdstanpy - INFO - Chain [1] start processing\n",
      "16:32:50 - cmdstanpy - INFO - Chain [1] done processing\n",
      "16:32:51 - cmdstanpy - INFO - Chain [1] done processing\n",
      "16:32:51 - cmdstanpy - INFO - Chain [1] done processing\n"
     ]
    },
    {
     "name": "stdout",
     "output_type": "stream",
     "text": [
      "{'changepoint_prior_scale': 0.30100000000000005, 'holidays_prior_scale': 2.51, 'seasonality_mode': 'multiplicative', 'seasonality_prior_scale': 7.51}\n"
     ]
    },
    {
     "name": "stderr",
     "output_type": "stream",
     "text": [
      "16:32:52 - cmdstanpy - INFO - Chain [1] start processing\n",
      "16:32:52 - cmdstanpy - INFO - Chain [1] done processing\n",
      "16:32:53 - cmdstanpy - INFO - Chain [1] start processing\n",
      "16:32:53 - cmdstanpy - INFO - Chain [1] start processing\n",
      "16:32:53 - cmdstanpy - INFO - Chain [1] done processing\n",
      "16:32:53 - cmdstanpy - INFO - Chain [1] start processing\n",
      "16:32:54 - cmdstanpy - INFO - Chain [1] start processing\n",
      "16:32:54 - cmdstanpy - INFO - Chain [1] start processing\n",
      "16:32:54 - cmdstanpy - INFO - Chain [1] done processing\n",
      "16:32:54 - cmdstanpy - INFO - Chain [1] done processing\n",
      "16:32:54 - cmdstanpy - INFO - Chain [1] done processing\n",
      "16:32:55 - cmdstanpy - INFO - Chain [1] done processing\n"
     ]
    },
    {
     "name": "stdout",
     "output_type": "stream",
     "text": [
      "{'changepoint_prior_scale': 0.30100000000000005, 'holidays_prior_scale': 2.51, 'seasonality_mode': 'additive', 'seasonality_prior_scale': 0.01}\n"
     ]
    },
    {
     "name": "stderr",
     "output_type": "stream",
     "text": [
      "16:32:56 - cmdstanpy - INFO - Chain [1] start processing\n",
      "16:32:56 - cmdstanpy - INFO - Chain [1] done processing\n",
      "16:32:57 - cmdstanpy - INFO - Chain [1] start processing\n",
      "16:32:57 - cmdstanpy - INFO - Chain [1] done processing\n",
      "16:32:57 - cmdstanpy - INFO - Chain [1] start processing\n",
      "16:32:58 - cmdstanpy - INFO - Chain [1] start processing\n",
      "16:32:58 - cmdstanpy - INFO - Chain [1] done processing\n",
      "16:32:58 - cmdstanpy - INFO - Chain [1] start processing\n",
      "16:32:58 - cmdstanpy - INFO - Chain [1] done processing\n",
      "16:32:58 - cmdstanpy - INFO - Chain [1] start processing\n",
      "16:32:58 - cmdstanpy - INFO - Chain [1] done processing\n",
      "16:32:58 - cmdstanpy - INFO - Chain [1] done processing\n"
     ]
    },
    {
     "name": "stdout",
     "output_type": "stream",
     "text": [
      "{'changepoint_prior_scale': 0.30100000000000005, 'holidays_prior_scale': 2.51, 'seasonality_mode': 'additive', 'seasonality_prior_scale': 2.51}\n"
     ]
    },
    {
     "name": "stderr",
     "output_type": "stream",
     "text": [
      "16:32:59 - cmdstanpy - INFO - Chain [1] start processing\n",
      "16:32:59 - cmdstanpy - INFO - Chain [1] done processing\n",
      "16:33:01 - cmdstanpy - INFO - Chain [1] start processing\n",
      "16:33:01 - cmdstanpy - INFO - Chain [1] done processing\n",
      "16:33:01 - cmdstanpy - INFO - Chain [1] start processing\n",
      "16:33:01 - cmdstanpy - INFO - Chain [1] start processing\n",
      "16:33:01 - cmdstanpy - INFO - Chain [1] done processing\n",
      "16:33:01 - cmdstanpy - INFO - Chain [1] done processing\n",
      "16:33:01 - cmdstanpy - INFO - Chain [1] start processing\n",
      "16:33:02 - cmdstanpy - INFO - Chain [1] start processing\n",
      "16:33:02 - cmdstanpy - INFO - Chain [1] done processing\n",
      "16:33:02 - cmdstanpy - INFO - Chain [1] done processing\n"
     ]
    },
    {
     "name": "stdout",
     "output_type": "stream",
     "text": [
      "{'changepoint_prior_scale': 0.30100000000000005, 'holidays_prior_scale': 2.51, 'seasonality_mode': 'additive', 'seasonality_prior_scale': 5.01}\n"
     ]
    },
    {
     "name": "stderr",
     "output_type": "stream",
     "text": [
      "16:33:03 - cmdstanpy - INFO - Chain [1] start processing\n",
      "16:33:03 - cmdstanpy - INFO - Chain [1] done processing\n",
      "16:33:04 - cmdstanpy - INFO - Chain [1] start processing\n",
      "16:33:04 - cmdstanpy - INFO - Chain [1] done processing\n",
      "16:33:04 - cmdstanpy - INFO - Chain [1] start processing\n",
      "16:33:04 - cmdstanpy - INFO - Chain [1] start processing\n",
      "16:33:05 - cmdstanpy - INFO - Chain [1] done processing\n",
      "16:33:05 - cmdstanpy - INFO - Chain [1] done processing\n",
      "16:33:05 - cmdstanpy - INFO - Chain [1] start processing\n",
      "16:33:05 - cmdstanpy - INFO - Chain [1] done processing\n",
      "16:33:05 - cmdstanpy - INFO - Chain [1] start processing\n",
      "16:33:06 - cmdstanpy - INFO - Chain [1] done processing\n"
     ]
    },
    {
     "name": "stdout",
     "output_type": "stream",
     "text": [
      "{'changepoint_prior_scale': 0.30100000000000005, 'holidays_prior_scale': 2.51, 'seasonality_mode': 'additive', 'seasonality_prior_scale': 7.51}\n"
     ]
    },
    {
     "name": "stderr",
     "output_type": "stream",
     "text": [
      "16:33:06 - cmdstanpy - INFO - Chain [1] start processing\n",
      "16:33:07 - cmdstanpy - INFO - Chain [1] done processing\n",
      "16:33:08 - cmdstanpy - INFO - Chain [1] start processing\n",
      "16:33:08 - cmdstanpy - INFO - Chain [1] done processing\n",
      "16:33:08 - cmdstanpy - INFO - Chain [1] start processing\n",
      "16:33:08 - cmdstanpy - INFO - Chain [1] done processing\n",
      "16:33:08 - cmdstanpy - INFO - Chain [1] start processing\n",
      "16:33:08 - cmdstanpy - INFO - Chain [1] done processing\n",
      "16:33:09 - cmdstanpy - INFO - Chain [1] start processing\n",
      "16:33:09 - cmdstanpy - INFO - Chain [1] start processing\n",
      "16:33:09 - cmdstanpy - INFO - Chain [1] done processing\n",
      "16:33:09 - cmdstanpy - INFO - Chain [1] done processing\n"
     ]
    },
    {
     "name": "stdout",
     "output_type": "stream",
     "text": [
      "{'changepoint_prior_scale': 0.30100000000000005, 'holidays_prior_scale': 5.01, 'seasonality_mode': 'multiplicative', 'seasonality_prior_scale': 0.01}\n"
     ]
    },
    {
     "name": "stderr",
     "output_type": "stream",
     "text": [
      "16:33:10 - cmdstanpy - INFO - Chain [1] start processing\n",
      "16:33:10 - cmdstanpy - INFO - Chain [1] done processing\n",
      "16:33:12 - cmdstanpy - INFO - Chain [1] start processing\n",
      "16:33:12 - cmdstanpy - INFO - Chain [1] start processing\n",
      "16:33:12 - cmdstanpy - INFO - Chain [1] start processing\n",
      "16:33:12 - cmdstanpy - INFO - Chain [1] done processing\n",
      "16:33:12 - cmdstanpy - INFO - Chain [1] start processing\n",
      "16:33:12 - cmdstanpy - INFO - Chain [1] done processing\n",
      "16:33:12 - cmdstanpy - INFO - Chain [1] done processing\n",
      "16:33:12 - cmdstanpy - INFO - Chain [1] start processing\n",
      "16:33:13 - cmdstanpy - INFO - Chain [1] done processing\n",
      "16:33:13 - cmdstanpy - INFO - Chain [1] done processing\n"
     ]
    },
    {
     "name": "stdout",
     "output_type": "stream",
     "text": [
      "{'changepoint_prior_scale': 0.30100000000000005, 'holidays_prior_scale': 5.01, 'seasonality_mode': 'multiplicative', 'seasonality_prior_scale': 2.51}\n"
     ]
    },
    {
     "name": "stderr",
     "output_type": "stream",
     "text": [
      "16:33:14 - cmdstanpy - INFO - Chain [1] start processing\n",
      "16:33:14 - cmdstanpy - INFO - Chain [1] done processing\n",
      "16:33:16 - cmdstanpy - INFO - Chain [1] start processing\n",
      "16:33:16 - cmdstanpy - INFO - Chain [1] start processing\n",
      "16:33:16 - cmdstanpy - INFO - Chain [1] done processing\n",
      "16:33:16 - cmdstanpy - INFO - Chain [1] start processing\n",
      "16:33:16 - cmdstanpy - INFO - Chain [1] start processing\n",
      "16:33:16 - cmdstanpy - INFO - Chain [1] start processing\n",
      "16:33:17 - cmdstanpy - INFO - Chain [1] done processing\n",
      "16:33:17 - cmdstanpy - INFO - Chain [1] done processing\n",
      "16:33:17 - cmdstanpy - INFO - Chain [1] done processing\n",
      "16:33:17 - cmdstanpy - INFO - Chain [1] done processing\n"
     ]
    },
    {
     "name": "stdout",
     "output_type": "stream",
     "text": [
      "{'changepoint_prior_scale': 0.30100000000000005, 'holidays_prior_scale': 5.01, 'seasonality_mode': 'multiplicative', 'seasonality_prior_scale': 5.01}\n"
     ]
    },
    {
     "name": "stderr",
     "output_type": "stream",
     "text": [
      "16:33:18 - cmdstanpy - INFO - Chain [1] start processing\n",
      "16:33:18 - cmdstanpy - INFO - Chain [1] done processing\n",
      "16:33:20 - cmdstanpy - INFO - Chain [1] start processing\n",
      "16:33:20 - cmdstanpy - INFO - Chain [1] start processing\n",
      "16:33:20 - cmdstanpy - INFO - Chain [1] done processing\n",
      "16:33:20 - cmdstanpy - INFO - Chain [1] start processing\n",
      "16:33:20 - cmdstanpy - INFO - Chain [1] start processing\n",
      "16:33:20 - cmdstanpy - INFO - Chain [1] start processing\n",
      "16:33:21 - cmdstanpy - INFO - Chain [1] done processing\n",
      "16:33:21 - cmdstanpy - INFO - Chain [1] done processing\n",
      "16:33:21 - cmdstanpy - INFO - Chain [1] done processing\n",
      "16:33:22 - cmdstanpy - INFO - Chain [1] done processing\n"
     ]
    },
    {
     "name": "stdout",
     "output_type": "stream",
     "text": [
      "{'changepoint_prior_scale': 0.30100000000000005, 'holidays_prior_scale': 5.01, 'seasonality_mode': 'multiplicative', 'seasonality_prior_scale': 7.51}\n"
     ]
    },
    {
     "name": "stderr",
     "output_type": "stream",
     "text": [
      "16:33:22 - cmdstanpy - INFO - Chain [1] start processing\n",
      "16:33:23 - cmdstanpy - INFO - Chain [1] done processing\n",
      "16:33:24 - cmdstanpy - INFO - Chain [1] start processing\n",
      "16:33:24 - cmdstanpy - INFO - Chain [1] start processing\n",
      "16:33:24 - cmdstanpy - INFO - Chain [1] done processing\n",
      "16:33:25 - cmdstanpy - INFO - Chain [1] start processing\n",
      "16:33:25 - cmdstanpy - INFO - Chain [1] start processing\n",
      "16:33:25 - cmdstanpy - INFO - Chain [1] start processing\n",
      "16:33:25 - cmdstanpy - INFO - Chain [1] done processing\n",
      "16:33:25 - cmdstanpy - INFO - Chain [1] done processing\n",
      "16:33:25 - cmdstanpy - INFO - Chain [1] done processing\n",
      "16:33:26 - cmdstanpy - INFO - Chain [1] done processing\n"
     ]
    },
    {
     "name": "stdout",
     "output_type": "stream",
     "text": [
      "{'changepoint_prior_scale': 0.30100000000000005, 'holidays_prior_scale': 5.01, 'seasonality_mode': 'additive', 'seasonality_prior_scale': 0.01}\n"
     ]
    },
    {
     "name": "stderr",
     "output_type": "stream",
     "text": [
      "16:33:27 - cmdstanpy - INFO - Chain [1] start processing\n",
      "16:33:27 - cmdstanpy - INFO - Chain [1] done processing\n",
      "16:33:29 - cmdstanpy - INFO - Chain [1] start processing\n",
      "16:33:29 - cmdstanpy - INFO - Chain [1] start processing\n",
      "16:33:29 - cmdstanpy - INFO - Chain [1] done processing\n",
      "16:33:29 - cmdstanpy - INFO - Chain [1] done processing\n",
      "16:33:29 - cmdstanpy - INFO - Chain [1] start processing\n",
      "16:33:30 - cmdstanpy - INFO - Chain [1] done processing\n",
      "16:33:30 - cmdstanpy - INFO - Chain [1] start processing\n",
      "16:33:30 - cmdstanpy - INFO - Chain [1] start processing\n",
      "16:33:30 - cmdstanpy - INFO - Chain [1] done processing\n",
      "16:33:30 - cmdstanpy - INFO - Chain [1] done processing\n"
     ]
    },
    {
     "name": "stdout",
     "output_type": "stream",
     "text": [
      "{'changepoint_prior_scale': 0.30100000000000005, 'holidays_prior_scale': 5.01, 'seasonality_mode': 'additive', 'seasonality_prior_scale': 2.51}\n"
     ]
    },
    {
     "name": "stderr",
     "output_type": "stream",
     "text": [
      "16:33:31 - cmdstanpy - INFO - Chain [1] start processing\n",
      "16:33:31 - cmdstanpy - INFO - Chain [1] done processing\n",
      "16:33:33 - cmdstanpy - INFO - Chain [1] start processing\n",
      "16:33:33 - cmdstanpy - INFO - Chain [1] done processing\n",
      "16:33:33 - cmdstanpy - INFO - Chain [1] start processing\n",
      "16:33:33 - cmdstanpy - INFO - Chain [1] done processing\n",
      "16:33:33 - cmdstanpy - INFO - Chain [1] start processing\n",
      "16:33:33 - cmdstanpy - INFO - Chain [1] done processing\n",
      "16:33:33 - cmdstanpy - INFO - Chain [1] start processing\n",
      "16:33:33 - cmdstanpy - INFO - Chain [1] done processing\n",
      "16:33:33 - cmdstanpy - INFO - Chain [1] start processing\n",
      "16:33:34 - cmdstanpy - INFO - Chain [1] done processing\n"
     ]
    },
    {
     "name": "stdout",
     "output_type": "stream",
     "text": [
      "{'changepoint_prior_scale': 0.30100000000000005, 'holidays_prior_scale': 5.01, 'seasonality_mode': 'additive', 'seasonality_prior_scale': 5.01}\n"
     ]
    },
    {
     "name": "stderr",
     "output_type": "stream",
     "text": [
      "16:33:35 - cmdstanpy - INFO - Chain [1] start processing\n",
      "16:33:35 - cmdstanpy - INFO - Chain [1] done processing\n",
      "16:33:36 - cmdstanpy - INFO - Chain [1] start processing\n",
      "16:33:36 - cmdstanpy - INFO - Chain [1] done processing\n",
      "16:33:36 - cmdstanpy - INFO - Chain [1] start processing\n",
      "16:33:36 - cmdstanpy - INFO - Chain [1] done processing\n",
      "16:33:37 - cmdstanpy - INFO - Chain [1] start processing\n",
      "16:33:37 - cmdstanpy - INFO - Chain [1] done processing\n",
      "16:33:37 - cmdstanpy - INFO - Chain [1] start processing\n",
      "16:33:37 - cmdstanpy - INFO - Chain [1] start processing\n",
      "16:33:37 - cmdstanpy - INFO - Chain [1] done processing\n",
      "16:33:37 - cmdstanpy - INFO - Chain [1] done processing\n"
     ]
    },
    {
     "name": "stdout",
     "output_type": "stream",
     "text": [
      "{'changepoint_prior_scale': 0.30100000000000005, 'holidays_prior_scale': 5.01, 'seasonality_mode': 'additive', 'seasonality_prior_scale': 7.51}\n"
     ]
    },
    {
     "name": "stderr",
     "output_type": "stream",
     "text": [
      "16:33:38 - cmdstanpy - INFO - Chain [1] start processing\n",
      "16:33:38 - cmdstanpy - INFO - Chain [1] done processing\n",
      "16:33:40 - cmdstanpy - INFO - Chain [1] start processing\n",
      "16:33:40 - cmdstanpy - INFO - Chain [1] done processing\n",
      "16:33:40 - cmdstanpy - INFO - Chain [1] start processing\n",
      "16:33:40 - cmdstanpy - INFO - Chain [1] done processing\n",
      "16:33:40 - cmdstanpy - INFO - Chain [1] start processing\n",
      "16:33:40 - cmdstanpy - INFO - Chain [1] done processing\n",
      "16:33:40 - cmdstanpy - INFO - Chain [1] start processing\n",
      "16:33:41 - cmdstanpy - INFO - Chain [1] start processing\n",
      "16:33:41 - cmdstanpy - INFO - Chain [1] done processing\n",
      "16:33:41 - cmdstanpy - INFO - Chain [1] done processing\n"
     ]
    },
    {
     "name": "stdout",
     "output_type": "stream",
     "text": [
      "{'changepoint_prior_scale': 0.30100000000000005, 'holidays_prior_scale': 7.51, 'seasonality_mode': 'multiplicative', 'seasonality_prior_scale': 0.01}\n"
     ]
    },
    {
     "name": "stderr",
     "output_type": "stream",
     "text": [
      "16:33:42 - cmdstanpy - INFO - Chain [1] start processing\n",
      "16:33:42 - cmdstanpy - INFO - Chain [1] done processing\n",
      "16:33:43 - cmdstanpy - INFO - Chain [1] start processing\n",
      "16:33:44 - cmdstanpy - INFO - Chain [1] start processing\n",
      "16:33:44 - cmdstanpy - INFO - Chain [1] done processing\n",
      "16:33:44 - cmdstanpy - INFO - Chain [1] start processing\n",
      "16:33:44 - cmdstanpy - INFO - Chain [1] done processing\n",
      "16:33:44 - cmdstanpy - INFO - Chain [1] start processing\n",
      "16:33:44 - cmdstanpy - INFO - Chain [1] done processing\n",
      "16:33:44 - cmdstanpy - INFO - Chain [1] start processing\n",
      "16:33:44 - cmdstanpy - INFO - Chain [1] done processing\n",
      "16:33:45 - cmdstanpy - INFO - Chain [1] done processing\n"
     ]
    },
    {
     "name": "stdout",
     "output_type": "stream",
     "text": [
      "{'changepoint_prior_scale': 0.30100000000000005, 'holidays_prior_scale': 7.51, 'seasonality_mode': 'multiplicative', 'seasonality_prior_scale': 2.51}\n"
     ]
    },
    {
     "name": "stderr",
     "output_type": "stream",
     "text": [
      "16:33:45 - cmdstanpy - INFO - Chain [1] start processing\n",
      "16:33:46 - cmdstanpy - INFO - Chain [1] done processing\n",
      "16:33:47 - cmdstanpy - INFO - Chain [1] start processing\n",
      "16:33:47 - cmdstanpy - INFO - Chain [1] start processing\n",
      "16:33:47 - cmdstanpy - INFO - Chain [1] done processing\n",
      "16:33:47 - cmdstanpy - INFO - Chain [1] start processing\n",
      "16:33:48 - cmdstanpy - INFO - Chain [1] start processing\n",
      "16:33:48 - cmdstanpy - INFO - Chain [1] start processing\n",
      "16:33:48 - cmdstanpy - INFO - Chain [1] done processing\n",
      "16:33:48 - cmdstanpy - INFO - Chain [1] done processing\n",
      "16:33:48 - cmdstanpy - INFO - Chain [1] done processing\n",
      "16:33:48 - cmdstanpy - INFO - Chain [1] done processing\n"
     ]
    },
    {
     "name": "stdout",
     "output_type": "stream",
     "text": [
      "{'changepoint_prior_scale': 0.30100000000000005, 'holidays_prior_scale': 7.51, 'seasonality_mode': 'multiplicative', 'seasonality_prior_scale': 5.01}\n"
     ]
    },
    {
     "name": "stderr",
     "output_type": "stream",
     "text": [
      "16:33:49 - cmdstanpy - INFO - Chain [1] start processing\n",
      "16:33:49 - cmdstanpy - INFO - Chain [1] done processing\n",
      "16:33:51 - cmdstanpy - INFO - Chain [1] start processing\n",
      "16:33:51 - cmdstanpy - INFO - Chain [1] start processing\n",
      "16:33:51 - cmdstanpy - INFO - Chain [1] done processing\n",
      "16:33:51 - cmdstanpy - INFO - Chain [1] start processing\n",
      "16:33:51 - cmdstanpy - INFO - Chain [1] done processing\n",
      "16:33:51 - cmdstanpy - INFO - Chain [1] start processing\n",
      "16:33:52 - cmdstanpy - INFO - Chain [1] start processing\n",
      "16:33:52 - cmdstanpy - INFO - Chain [1] done processing\n",
      "16:33:52 - cmdstanpy - INFO - Chain [1] done processing\n",
      "16:33:53 - cmdstanpy - INFO - Chain [1] done processing\n"
     ]
    },
    {
     "name": "stdout",
     "output_type": "stream",
     "text": [
      "{'changepoint_prior_scale': 0.30100000000000005, 'holidays_prior_scale': 7.51, 'seasonality_mode': 'multiplicative', 'seasonality_prior_scale': 7.51}\n"
     ]
    },
    {
     "name": "stderr",
     "output_type": "stream",
     "text": [
      "16:33:53 - cmdstanpy - INFO - Chain [1] start processing\n",
      "16:33:53 - cmdstanpy - INFO - Chain [1] done processing\n",
      "16:33:55 - cmdstanpy - INFO - Chain [1] start processing\n",
      "16:33:55 - cmdstanpy - INFO - Chain [1] start processing\n",
      "16:33:55 - cmdstanpy - INFO - Chain [1] done processing\n",
      "16:33:55 - cmdstanpy - INFO - Chain [1] start processing\n",
      "16:33:55 - cmdstanpy - INFO - Chain [1] start processing\n",
      "16:33:55 - cmdstanpy - INFO - Chain [1] start processing\n",
      "16:33:56 - cmdstanpy - INFO - Chain [1] done processing\n",
      "16:33:56 - cmdstanpy - INFO - Chain [1] done processing\n",
      "16:33:56 - cmdstanpy - INFO - Chain [1] done processing\n",
      "16:33:56 - cmdstanpy - INFO - Chain [1] done processing\n"
     ]
    },
    {
     "name": "stdout",
     "output_type": "stream",
     "text": [
      "{'changepoint_prior_scale': 0.30100000000000005, 'holidays_prior_scale': 7.51, 'seasonality_mode': 'additive', 'seasonality_prior_scale': 0.01}\n"
     ]
    },
    {
     "name": "stderr",
     "output_type": "stream",
     "text": [
      "16:33:57 - cmdstanpy - INFO - Chain [1] start processing\n",
      "16:33:57 - cmdstanpy - INFO - Chain [1] done processing\n",
      "16:33:58 - cmdstanpy - INFO - Chain [1] start processing\n",
      "16:33:59 - cmdstanpy - INFO - Chain [1] done processing\n",
      "16:33:59 - cmdstanpy - INFO - Chain [1] start processing\n",
      "16:33:59 - cmdstanpy - INFO - Chain [1] done processing\n",
      "16:33:59 - cmdstanpy - INFO - Chain [1] start processing\n",
      "16:33:59 - cmdstanpy - INFO - Chain [1] done processing\n",
      "16:33:59 - cmdstanpy - INFO - Chain [1] start processing\n",
      "16:33:59 - cmdstanpy - INFO - Chain [1] done processing\n",
      "16:34:00 - cmdstanpy - INFO - Chain [1] start processing\n",
      "16:34:00 - cmdstanpy - INFO - Chain [1] done processing\n"
     ]
    },
    {
     "name": "stdout",
     "output_type": "stream",
     "text": [
      "{'changepoint_prior_scale': 0.30100000000000005, 'holidays_prior_scale': 7.51, 'seasonality_mode': 'additive', 'seasonality_prior_scale': 2.51}\n"
     ]
    },
    {
     "name": "stderr",
     "output_type": "stream",
     "text": [
      "16:34:01 - cmdstanpy - INFO - Chain [1] start processing\n",
      "16:34:01 - cmdstanpy - INFO - Chain [1] done processing\n",
      "16:34:02 - cmdstanpy - INFO - Chain [1] start processing\n",
      "16:34:02 - cmdstanpy - INFO - Chain [1] done processing\n",
      "16:34:02 - cmdstanpy - INFO - Chain [1] start processing\n",
      "16:34:02 - cmdstanpy - INFO - Chain [1] done processing\n",
      "16:34:03 - cmdstanpy - INFO - Chain [1] start processing\n",
      "16:34:03 - cmdstanpy - INFO - Chain [1] start processing\n",
      "16:34:03 - cmdstanpy - INFO - Chain [1] done processing\n",
      "16:34:03 - cmdstanpy - INFO - Chain [1] done processing\n",
      "16:34:03 - cmdstanpy - INFO - Chain [1] start processing\n",
      "16:34:03 - cmdstanpy - INFO - Chain [1] done processing\n"
     ]
    },
    {
     "name": "stdout",
     "output_type": "stream",
     "text": [
      "{'changepoint_prior_scale': 0.30100000000000005, 'holidays_prior_scale': 7.51, 'seasonality_mode': 'additive', 'seasonality_prior_scale': 5.01}\n"
     ]
    },
    {
     "name": "stderr",
     "output_type": "stream",
     "text": [
      "16:34:04 - cmdstanpy - INFO - Chain [1] start processing\n",
      "16:34:04 - cmdstanpy - INFO - Chain [1] done processing\n",
      "16:34:06 - cmdstanpy - INFO - Chain [1] start processing\n",
      "16:34:06 - cmdstanpy - INFO - Chain [1] done processing\n",
      "16:34:06 - cmdstanpy - INFO - Chain [1] start processing\n",
      "16:34:06 - cmdstanpy - INFO - Chain [1] done processing\n",
      "16:34:06 - cmdstanpy - INFO - Chain [1] start processing\n",
      "16:34:06 - cmdstanpy - INFO - Chain [1] start processing\n",
      "16:34:06 - cmdstanpy - INFO - Chain [1] done processing\n",
      "16:34:06 - cmdstanpy - INFO - Chain [1] start processing\n",
      "16:34:06 - cmdstanpy - INFO - Chain [1] done processing\n",
      "16:34:07 - cmdstanpy - INFO - Chain [1] done processing\n"
     ]
    },
    {
     "name": "stdout",
     "output_type": "stream",
     "text": [
      "{'changepoint_prior_scale': 0.30100000000000005, 'holidays_prior_scale': 7.51, 'seasonality_mode': 'additive', 'seasonality_prior_scale': 7.51}\n"
     ]
    },
    {
     "name": "stderr",
     "output_type": "stream",
     "text": [
      "16:34:08 - cmdstanpy - INFO - Chain [1] start processing\n",
      "16:34:08 - cmdstanpy - INFO - Chain [1] done processing\n",
      "16:34:09 - cmdstanpy - INFO - Chain [1] start processing\n",
      "16:34:09 - cmdstanpy - INFO - Chain [1] done processing\n",
      "16:34:09 - cmdstanpy - INFO - Chain [1] start processing\n",
      "16:34:09 - cmdstanpy - INFO - Chain [1] done processing\n",
      "16:34:10 - cmdstanpy - INFO - Chain [1] start processing\n",
      "16:34:10 - cmdstanpy - INFO - Chain [1] done processing\n",
      "16:34:10 - cmdstanpy - INFO - Chain [1] start processing\n",
      "16:34:10 - cmdstanpy - INFO - Chain [1] done processing\n",
      "16:34:10 - cmdstanpy - INFO - Chain [1] start processing\n",
      "16:34:10 - cmdstanpy - INFO - Chain [1] done processing\n"
     ]
    },
    {
     "name": "stdout",
     "output_type": "stream",
     "text": [
      "{'changepoint_prior_scale': 0.401, 'holidays_prior_scale': 0.01, 'seasonality_mode': 'multiplicative', 'seasonality_prior_scale': 0.01}\n"
     ]
    },
    {
     "name": "stderr",
     "output_type": "stream",
     "text": [
      "16:34:11 - cmdstanpy - INFO - Chain [1] start processing\n",
      "16:34:12 - cmdstanpy - INFO - Chain [1] done processing\n",
      "16:34:13 - cmdstanpy - INFO - Chain [1] start processing\n",
      "16:34:13 - cmdstanpy - INFO - Chain [1] start processing\n",
      "16:34:13 - cmdstanpy - INFO - Chain [1] done processing\n",
      "16:34:13 - cmdstanpy - INFO - Chain [1] start processing\n",
      "16:34:13 - cmdstanpy - INFO - Chain [1] start processing\n",
      "16:34:13 - cmdstanpy - INFO - Chain [1] done processing\n",
      "16:34:13 - cmdstanpy - INFO - Chain [1] start processing\n",
      "16:34:13 - cmdstanpy - INFO - Chain [1] done processing\n",
      "16:34:14 - cmdstanpy - INFO - Chain [1] done processing\n",
      "16:34:14 - cmdstanpy - INFO - Chain [1] done processing\n"
     ]
    },
    {
     "name": "stdout",
     "output_type": "stream",
     "text": [
      "{'changepoint_prior_scale': 0.401, 'holidays_prior_scale': 0.01, 'seasonality_mode': 'multiplicative', 'seasonality_prior_scale': 2.51}\n"
     ]
    },
    {
     "name": "stderr",
     "output_type": "stream",
     "text": [
      "16:34:15 - cmdstanpy - INFO - Chain [1] start processing\n",
      "16:34:15 - cmdstanpy - INFO - Chain [1] done processing\n",
      "16:34:17 - cmdstanpy - INFO - Chain [1] start processing\n",
      "16:34:17 - cmdstanpy - INFO - Chain [1] start processing\n",
      "16:34:17 - cmdstanpy - INFO - Chain [1] done processing\n",
      "16:34:17 - cmdstanpy - INFO - Chain [1] start processing\n",
      "16:34:17 - cmdstanpy - INFO - Chain [1] start processing\n",
      "16:34:17 - cmdstanpy - INFO - Chain [1] done processing\n",
      "16:34:17 - cmdstanpy - INFO - Chain [1] start processing\n",
      "16:34:18 - cmdstanpy - INFO - Chain [1] done processing\n",
      "16:34:18 - cmdstanpy - INFO - Chain [1] done processing\n",
      "16:34:18 - cmdstanpy - INFO - Chain [1] done processing\n"
     ]
    },
    {
     "name": "stdout",
     "output_type": "stream",
     "text": [
      "{'changepoint_prior_scale': 0.401, 'holidays_prior_scale': 0.01, 'seasonality_mode': 'multiplicative', 'seasonality_prior_scale': 5.01}\n"
     ]
    },
    {
     "name": "stderr",
     "output_type": "stream",
     "text": [
      "16:34:19 - cmdstanpy - INFO - Chain [1] start processing\n",
      "16:34:19 - cmdstanpy - INFO - Chain [1] done processing\n",
      "16:34:20 - cmdstanpy - INFO - Chain [1] start processing\n",
      "16:34:21 - cmdstanpy - INFO - Chain [1] start processing\n",
      "16:34:21 - cmdstanpy - INFO - Chain [1] start processing\n",
      "16:34:21 - cmdstanpy - INFO - Chain [1] start processing\n",
      "16:34:21 - cmdstanpy - INFO - Chain [1] done processing\n",
      "16:34:21 - cmdstanpy - INFO - Chain [1] start processing\n",
      "16:34:21 - cmdstanpy - INFO - Chain [1] done processing\n",
      "16:34:21 - cmdstanpy - INFO - Chain [1] done processing\n",
      "16:34:22 - cmdstanpy - INFO - Chain [1] done processing\n",
      "16:34:22 - cmdstanpy - INFO - Chain [1] done processing\n"
     ]
    },
    {
     "name": "stdout",
     "output_type": "stream",
     "text": [
      "{'changepoint_prior_scale': 0.401, 'holidays_prior_scale': 0.01, 'seasonality_mode': 'multiplicative', 'seasonality_prior_scale': 7.51}\n"
     ]
    },
    {
     "name": "stderr",
     "output_type": "stream",
     "text": [
      "16:34:23 - cmdstanpy - INFO - Chain [1] start processing\n",
      "16:34:23 - cmdstanpy - INFO - Chain [1] done processing\n",
      "16:34:24 - cmdstanpy - INFO - Chain [1] start processing\n",
      "16:34:25 - cmdstanpy - INFO - Chain [1] done processing\n",
      "16:34:25 - cmdstanpy - INFO - Chain [1] start processing\n",
      "16:34:25 - cmdstanpy - INFO - Chain [1] start processing\n",
      "16:34:25 - cmdstanpy - INFO - Chain [1] start processing\n",
      "16:34:25 - cmdstanpy - INFO - Chain [1] done processing\n",
      "16:34:25 - cmdstanpy - INFO - Chain [1] start processing\n",
      "16:34:25 - cmdstanpy - INFO - Chain [1] done processing\n",
      "16:34:26 - cmdstanpy - INFO - Chain [1] done processing\n",
      "16:34:26 - cmdstanpy - INFO - Chain [1] done processing\n"
     ]
    },
    {
     "name": "stdout",
     "output_type": "stream",
     "text": [
      "{'changepoint_prior_scale': 0.401, 'holidays_prior_scale': 0.01, 'seasonality_mode': 'additive', 'seasonality_prior_scale': 0.01}\n"
     ]
    },
    {
     "name": "stderr",
     "output_type": "stream",
     "text": [
      "16:34:27 - cmdstanpy - INFO - Chain [1] start processing\n",
      "16:34:27 - cmdstanpy - INFO - Chain [1] done processing\n",
      "16:34:28 - cmdstanpy - INFO - Chain [1] start processing\n",
      "16:34:28 - cmdstanpy - INFO - Chain [1] done processing\n",
      "16:34:29 - cmdstanpy - INFO - Chain [1] start processing\n",
      "16:34:29 - cmdstanpy - INFO - Chain [1] start processing\n",
      "16:34:29 - cmdstanpy - INFO - Chain [1] done processing\n",
      "16:34:29 - cmdstanpy - INFO - Chain [1] done processing\n",
      "16:34:29 - cmdstanpy - INFO - Chain [1] start processing\n",
      "16:34:29 - cmdstanpy - INFO - Chain [1] start processing\n",
      "16:34:29 - cmdstanpy - INFO - Chain [1] done processing\n",
      "16:34:30 - cmdstanpy - INFO - Chain [1] done processing\n"
     ]
    },
    {
     "name": "stdout",
     "output_type": "stream",
     "text": [
      "{'changepoint_prior_scale': 0.401, 'holidays_prior_scale': 0.01, 'seasonality_mode': 'additive', 'seasonality_prior_scale': 2.51}\n"
     ]
    },
    {
     "name": "stderr",
     "output_type": "stream",
     "text": [
      "16:34:30 - cmdstanpy - INFO - Chain [1] start processing\n",
      "16:34:31 - cmdstanpy - INFO - Chain [1] done processing\n",
      "16:34:32 - cmdstanpy - INFO - Chain [1] start processing\n",
      "16:34:32 - cmdstanpy - INFO - Chain [1] done processing\n",
      "16:34:32 - cmdstanpy - INFO - Chain [1] start processing\n",
      "16:34:32 - cmdstanpy - INFO - Chain [1] done processing\n",
      "16:34:32 - cmdstanpy - INFO - Chain [1] start processing\n",
      "16:34:32 - cmdstanpy - INFO - Chain [1] done processing\n",
      "16:34:33 - cmdstanpy - INFO - Chain [1] start processing\n",
      "16:34:33 - cmdstanpy - INFO - Chain [1] start processing\n",
      "16:34:33 - cmdstanpy - INFO - Chain [1] done processing\n",
      "16:34:33 - cmdstanpy - INFO - Chain [1] done processing\n"
     ]
    },
    {
     "name": "stdout",
     "output_type": "stream",
     "text": [
      "{'changepoint_prior_scale': 0.401, 'holidays_prior_scale': 0.01, 'seasonality_mode': 'additive', 'seasonality_prior_scale': 5.01}\n"
     ]
    },
    {
     "name": "stderr",
     "output_type": "stream",
     "text": [
      "16:34:34 - cmdstanpy - INFO - Chain [1] start processing\n",
      "16:34:34 - cmdstanpy - INFO - Chain [1] done processing\n",
      "16:34:35 - cmdstanpy - INFO - Chain [1] start processing\n",
      "16:34:35 - cmdstanpy - INFO - Chain [1] done processing\n",
      "16:34:35 - cmdstanpy - INFO - Chain [1] start processing\n",
      "16:34:36 - cmdstanpy - INFO - Chain [1] done processing\n",
      "16:34:36 - cmdstanpy - INFO - Chain [1] start processing\n",
      "16:34:36 - cmdstanpy - INFO - Chain [1] start processing\n",
      "16:34:36 - cmdstanpy - INFO - Chain [1] done processing\n",
      "16:34:36 - cmdstanpy - INFO - Chain [1] done processing\n",
      "16:34:36 - cmdstanpy - INFO - Chain [1] start processing\n",
      "16:34:37 - cmdstanpy - INFO - Chain [1] done processing\n"
     ]
    },
    {
     "name": "stdout",
     "output_type": "stream",
     "text": [
      "{'changepoint_prior_scale': 0.401, 'holidays_prior_scale': 0.01, 'seasonality_mode': 'additive', 'seasonality_prior_scale': 7.51}\n"
     ]
    },
    {
     "name": "stderr",
     "output_type": "stream",
     "text": [
      "16:34:37 - cmdstanpy - INFO - Chain [1] start processing\n",
      "16:34:38 - cmdstanpy - INFO - Chain [1] done processing\n",
      "16:34:39 - cmdstanpy - INFO - Chain [1] start processing\n",
      "16:34:39 - cmdstanpy - INFO - Chain [1] done processing\n",
      "16:34:39 - cmdstanpy - INFO - Chain [1] start processing\n",
      "16:34:39 - cmdstanpy - INFO - Chain [1] done processing\n",
      "16:34:39 - cmdstanpy - INFO - Chain [1] start processing\n",
      "16:34:39 - cmdstanpy - INFO - Chain [1] done processing\n",
      "16:34:39 - cmdstanpy - INFO - Chain [1] start processing\n",
      "16:34:40 - cmdstanpy - INFO - Chain [1] start processing\n",
      "16:34:40 - cmdstanpy - INFO - Chain [1] done processing\n",
      "16:34:40 - cmdstanpy - INFO - Chain [1] done processing\n"
     ]
    },
    {
     "name": "stdout",
     "output_type": "stream",
     "text": [
      "{'changepoint_prior_scale': 0.401, 'holidays_prior_scale': 2.51, 'seasonality_mode': 'multiplicative', 'seasonality_prior_scale': 0.01}\n"
     ]
    },
    {
     "name": "stderr",
     "output_type": "stream",
     "text": [
      "16:34:41 - cmdstanpy - INFO - Chain [1] start processing\n",
      "16:34:41 - cmdstanpy - INFO - Chain [1] done processing\n",
      "16:34:42 - cmdstanpy - INFO - Chain [1] start processing\n",
      "16:34:42 - cmdstanpy - INFO - Chain [1] start processing\n",
      "16:34:42 - cmdstanpy - INFO - Chain [1] done processing\n",
      "16:34:43 - cmdstanpy - INFO - Chain [1] start processing\n",
      "16:34:43 - cmdstanpy - INFO - Chain [1] done processing\n",
      "16:34:43 - cmdstanpy - INFO - Chain [1] start processing\n",
      "16:34:43 - cmdstanpy - INFO - Chain [1] done processing\n",
      "16:34:43 - cmdstanpy - INFO - Chain [1] start processing\n",
      "16:34:43 - cmdstanpy - INFO - Chain [1] done processing\n",
      "16:34:43 - cmdstanpy - INFO - Chain [1] done processing\n"
     ]
    },
    {
     "name": "stdout",
     "output_type": "stream",
     "text": [
      "{'changepoint_prior_scale': 0.401, 'holidays_prior_scale': 2.51, 'seasonality_mode': 'multiplicative', 'seasonality_prior_scale': 2.51}\n"
     ]
    },
    {
     "name": "stderr",
     "output_type": "stream",
     "text": [
      "16:34:44 - cmdstanpy - INFO - Chain [1] start processing\n",
      "16:34:45 - cmdstanpy - INFO - Chain [1] done processing\n",
      "16:34:46 - cmdstanpy - INFO - Chain [1] start processing\n",
      "16:34:46 - cmdstanpy - INFO - Chain [1] start processing\n",
      "16:34:46 - cmdstanpy - INFO - Chain [1] done processing\n",
      "16:34:46 - cmdstanpy - INFO - Chain [1] done processing\n",
      "16:34:46 - cmdstanpy - INFO - Chain [1] start processing\n",
      "16:34:46 - cmdstanpy - INFO - Chain [1] start processing\n",
      "16:34:47 - cmdstanpy - INFO - Chain [1] start processing\n",
      "16:34:47 - cmdstanpy - INFO - Chain [1] done processing\n",
      "16:34:47 - cmdstanpy - INFO - Chain [1] done processing\n",
      "16:34:47 - cmdstanpy - INFO - Chain [1] done processing\n"
     ]
    },
    {
     "name": "stdout",
     "output_type": "stream",
     "text": [
      "{'changepoint_prior_scale': 0.401, 'holidays_prior_scale': 2.51, 'seasonality_mode': 'multiplicative', 'seasonality_prior_scale': 5.01}\n"
     ]
    },
    {
     "name": "stderr",
     "output_type": "stream",
     "text": [
      "16:34:48 - cmdstanpy - INFO - Chain [1] start processing\n",
      "16:34:48 - cmdstanpy - INFO - Chain [1] done processing\n",
      "16:34:50 - cmdstanpy - INFO - Chain [1] start processing\n",
      "16:34:50 - cmdstanpy - INFO - Chain [1] start processing\n",
      "16:34:50 - cmdstanpy - INFO - Chain [1] start processing\n",
      "16:34:50 - cmdstanpy - INFO - Chain [1] done processing\n",
      "16:34:50 - cmdstanpy - INFO - Chain [1] start processing\n",
      "16:34:50 - cmdstanpy - INFO - Chain [1] done processing\n",
      "16:34:50 - cmdstanpy - INFO - Chain [1] start processing\n",
      "16:34:51 - cmdstanpy - INFO - Chain [1] done processing\n",
      "16:34:51 - cmdstanpy - INFO - Chain [1] done processing\n",
      "16:34:51 - cmdstanpy - INFO - Chain [1] done processing\n"
     ]
    },
    {
     "name": "stdout",
     "output_type": "stream",
     "text": [
      "{'changepoint_prior_scale': 0.401, 'holidays_prior_scale': 2.51, 'seasonality_mode': 'multiplicative', 'seasonality_prior_scale': 7.51}\n"
     ]
    },
    {
     "name": "stderr",
     "output_type": "stream",
     "text": [
      "16:34:52 - cmdstanpy - INFO - Chain [1] start processing\n",
      "16:34:52 - cmdstanpy - INFO - Chain [1] done processing\n",
      "16:34:54 - cmdstanpy - INFO - Chain [1] start processing\n",
      "16:34:54 - cmdstanpy - INFO - Chain [1] start processing\n",
      "16:34:54 - cmdstanpy - INFO - Chain [1] done processing\n",
      "16:34:54 - cmdstanpy - INFO - Chain [1] start processing\n",
      "16:34:54 - cmdstanpy - INFO - Chain [1] start processing\n",
      "16:34:54 - cmdstanpy - INFO - Chain [1] start processing\n",
      "16:34:54 - cmdstanpy - INFO - Chain [1] done processing\n",
      "16:34:55 - cmdstanpy - INFO - Chain [1] done processing\n",
      "16:34:55 - cmdstanpy - INFO - Chain [1] done processing\n",
      "16:34:55 - cmdstanpy - INFO - Chain [1] done processing\n"
     ]
    },
    {
     "name": "stdout",
     "output_type": "stream",
     "text": [
      "{'changepoint_prior_scale': 0.401, 'holidays_prior_scale': 2.51, 'seasonality_mode': 'additive', 'seasonality_prior_scale': 0.01}\n"
     ]
    },
    {
     "name": "stderr",
     "output_type": "stream",
     "text": [
      "16:34:56 - cmdstanpy - INFO - Chain [1] start processing\n",
      "16:34:56 - cmdstanpy - INFO - Chain [1] done processing\n",
      "16:34:58 - cmdstanpy - INFO - Chain [1] start processing\n",
      "16:34:58 - cmdstanpy - INFO - Chain [1] start processing\n",
      "16:34:58 - cmdstanpy - INFO - Chain [1] done processing\n",
      "16:34:58 - cmdstanpy - INFO - Chain [1] done processing\n",
      "16:34:58 - cmdstanpy - INFO - Chain [1] start processing\n",
      "16:34:58 - cmdstanpy - INFO - Chain [1] start processing\n",
      "16:34:58 - cmdstanpy - INFO - Chain [1] done processing\n",
      "16:34:58 - cmdstanpy - INFO - Chain [1] done processing\n",
      "16:34:58 - cmdstanpy - INFO - Chain [1] start processing\n",
      "16:34:59 - cmdstanpy - INFO - Chain [1] done processing\n"
     ]
    },
    {
     "name": "stdout",
     "output_type": "stream",
     "text": [
      "{'changepoint_prior_scale': 0.401, 'holidays_prior_scale': 2.51, 'seasonality_mode': 'additive', 'seasonality_prior_scale': 2.51}\n"
     ]
    },
    {
     "name": "stderr",
     "output_type": "stream",
     "text": [
      "16:34:59 - cmdstanpy - INFO - Chain [1] start processing\n",
      "16:35:00 - cmdstanpy - INFO - Chain [1] done processing\n",
      "16:35:01 - cmdstanpy - INFO - Chain [1] start processing\n",
      "16:35:01 - cmdstanpy - INFO - Chain [1] done processing\n",
      "16:35:01 - cmdstanpy - INFO - Chain [1] start processing\n",
      "16:35:01 - cmdstanpy - INFO - Chain [1] done processing\n",
      "16:35:01 - cmdstanpy - INFO - Chain [1] start processing\n",
      "16:35:01 - cmdstanpy - INFO - Chain [1] start processing\n",
      "16:35:01 - cmdstanpy - INFO - Chain [1] done processing\n",
      "16:35:02 - cmdstanpy - INFO - Chain [1] done processing\n",
      "16:35:02 - cmdstanpy - INFO - Chain [1] start processing\n",
      "16:35:02 - cmdstanpy - INFO - Chain [1] done processing\n"
     ]
    },
    {
     "name": "stdout",
     "output_type": "stream",
     "text": [
      "{'changepoint_prior_scale': 0.401, 'holidays_prior_scale': 2.51, 'seasonality_mode': 'additive', 'seasonality_prior_scale': 5.01}\n"
     ]
    },
    {
     "name": "stderr",
     "output_type": "stream",
     "text": [
      "16:35:03 - cmdstanpy - INFO - Chain [1] start processing\n",
      "16:35:03 - cmdstanpy - INFO - Chain [1] done processing\n",
      "16:35:04 - cmdstanpy - INFO - Chain [1] start processing\n",
      "16:35:05 - cmdstanpy - INFO - Chain [1] done processing\n",
      "16:35:05 - cmdstanpy - INFO - Chain [1] start processing\n",
      "16:35:05 - cmdstanpy - INFO - Chain [1] done processing\n",
      "16:35:05 - cmdstanpy - INFO - Chain [1] start processing\n",
      "16:35:05 - cmdstanpy - INFO - Chain [1] done processing\n",
      "16:35:05 - cmdstanpy - INFO - Chain [1] start processing\n",
      "16:35:05 - cmdstanpy - INFO - Chain [1] start processing\n",
      "16:35:05 - cmdstanpy - INFO - Chain [1] done processing\n",
      "16:35:06 - cmdstanpy - INFO - Chain [1] done processing\n"
     ]
    },
    {
     "name": "stdout",
     "output_type": "stream",
     "text": [
      "{'changepoint_prior_scale': 0.401, 'holidays_prior_scale': 2.51, 'seasonality_mode': 'additive', 'seasonality_prior_scale': 7.51}\n"
     ]
    },
    {
     "name": "stderr",
     "output_type": "stream",
     "text": [
      "16:35:06 - cmdstanpy - INFO - Chain [1] start processing\n",
      "16:35:07 - cmdstanpy - INFO - Chain [1] done processing\n",
      "16:35:08 - cmdstanpy - INFO - Chain [1] start processing\n",
      "16:35:08 - cmdstanpy - INFO - Chain [1] done processing\n",
      "16:35:08 - cmdstanpy - INFO - Chain [1] start processing\n",
      "16:35:08 - cmdstanpy - INFO - Chain [1] done processing\n",
      "16:35:08 - cmdstanpy - INFO - Chain [1] start processing\n",
      "16:35:09 - cmdstanpy - INFO - Chain [1] done processing\n",
      "16:35:09 - cmdstanpy - INFO - Chain [1] start processing\n",
      "16:35:09 - cmdstanpy - INFO - Chain [1] start processing\n",
      "16:35:09 - cmdstanpy - INFO - Chain [1] done processing\n",
      "16:35:09 - cmdstanpy - INFO - Chain [1] done processing\n"
     ]
    },
    {
     "name": "stdout",
     "output_type": "stream",
     "text": [
      "{'changepoint_prior_scale': 0.401, 'holidays_prior_scale': 5.01, 'seasonality_mode': 'multiplicative', 'seasonality_prior_scale': 0.01}\n"
     ]
    },
    {
     "name": "stderr",
     "output_type": "stream",
     "text": [
      "16:35:10 - cmdstanpy - INFO - Chain [1] start processing\n",
      "16:35:11 - cmdstanpy - INFO - Chain [1] done processing\n",
      "16:35:12 - cmdstanpy - INFO - Chain [1] start processing\n",
      "16:35:12 - cmdstanpy - INFO - Chain [1] start processing\n",
      "16:35:12 - cmdstanpy - INFO - Chain [1] done processing\n",
      "16:35:12 - cmdstanpy - INFO - Chain [1] done processing\n",
      "16:35:12 - cmdstanpy - INFO - Chain [1] start processing\n",
      "16:35:12 - cmdstanpy - INFO - Chain [1] start processing\n",
      "16:35:12 - cmdstanpy - INFO - Chain [1] done processing\n",
      "16:35:13 - cmdstanpy - INFO - Chain [1] start processing\n",
      "16:35:13 - cmdstanpy - INFO - Chain [1] done processing\n",
      "16:35:13 - cmdstanpy - INFO - Chain [1] done processing\n"
     ]
    },
    {
     "name": "stdout",
     "output_type": "stream",
     "text": [
      "{'changepoint_prior_scale': 0.401, 'holidays_prior_scale': 5.01, 'seasonality_mode': 'multiplicative', 'seasonality_prior_scale': 2.51}\n"
     ]
    },
    {
     "name": "stderr",
     "output_type": "stream",
     "text": [
      "16:35:14 - cmdstanpy - INFO - Chain [1] start processing\n",
      "16:35:14 - cmdstanpy - INFO - Chain [1] done processing\n",
      "16:35:16 - cmdstanpy - INFO - Chain [1] start processing\n",
      "16:35:16 - cmdstanpy - INFO - Chain [1] start processing\n",
      "16:35:16 - cmdstanpy - INFO - Chain [1] start processing\n",
      "16:35:16 - cmdstanpy - INFO - Chain [1] done processing\n",
      "16:35:16 - cmdstanpy - INFO - Chain [1] start processing\n",
      "16:35:16 - cmdstanpy - INFO - Chain [1] done processing\n",
      "16:35:16 - cmdstanpy - INFO - Chain [1] start processing\n",
      "16:35:16 - cmdstanpy - INFO - Chain [1] done processing\n",
      "16:35:17 - cmdstanpy - INFO - Chain [1] done processing\n",
      "16:35:18 - cmdstanpy - INFO - Chain [1] done processing\n"
     ]
    },
    {
     "name": "stdout",
     "output_type": "stream",
     "text": [
      "{'changepoint_prior_scale': 0.401, 'holidays_prior_scale': 5.01, 'seasonality_mode': 'multiplicative', 'seasonality_prior_scale': 5.01}\n"
     ]
    },
    {
     "name": "stderr",
     "output_type": "stream",
     "text": [
      "16:35:18 - cmdstanpy - INFO - Chain [1] start processing\n",
      "16:35:19 - cmdstanpy - INFO - Chain [1] done processing\n",
      "16:35:20 - cmdstanpy - INFO - Chain [1] start processing\n",
      "16:35:20 - cmdstanpy - INFO - Chain [1] start processing\n",
      "16:35:20 - cmdstanpy - INFO - Chain [1] start processing\n",
      "16:35:20 - cmdstanpy - INFO - Chain [1] done processing\n",
      "16:35:20 - cmdstanpy - INFO - Chain [1] start processing\n",
      "16:35:20 - cmdstanpy - INFO - Chain [1] done processing\n",
      "16:35:20 - cmdstanpy - INFO - Chain [1] start processing\n",
      "16:35:21 - cmdstanpy - INFO - Chain [1] done processing\n",
      "16:35:21 - cmdstanpy - INFO - Chain [1] done processing\n",
      "16:35:21 - cmdstanpy - INFO - Chain [1] done processing\n"
     ]
    },
    {
     "name": "stdout",
     "output_type": "stream",
     "text": [
      "{'changepoint_prior_scale': 0.401, 'holidays_prior_scale': 5.01, 'seasonality_mode': 'multiplicative', 'seasonality_prior_scale': 7.51}\n"
     ]
    },
    {
     "name": "stderr",
     "output_type": "stream",
     "text": [
      "16:35:22 - cmdstanpy - INFO - Chain [1] start processing\n",
      "16:35:23 - cmdstanpy - INFO - Chain [1] done processing\n",
      "16:35:24 - cmdstanpy - INFO - Chain [1] start processing\n",
      "16:35:24 - cmdstanpy - INFO - Chain [1] start processing\n",
      "16:35:24 - cmdstanpy - INFO - Chain [1] done processing\n",
      "16:35:24 - cmdstanpy - INFO - Chain [1] start processing\n",
      "16:35:24 - cmdstanpy - INFO - Chain [1] start processing\n",
      "16:35:24 - cmdstanpy - INFO - Chain [1] start processing\n",
      "16:35:24 - cmdstanpy - INFO - Chain [1] done processing\n",
      "16:35:25 - cmdstanpy - INFO - Chain [1] done processing\n",
      "16:35:25 - cmdstanpy - INFO - Chain [1] done processing\n",
      "16:35:25 - cmdstanpy - INFO - Chain [1] done processing\n"
     ]
    },
    {
     "name": "stdout",
     "output_type": "stream",
     "text": [
      "{'changepoint_prior_scale': 0.401, 'holidays_prior_scale': 5.01, 'seasonality_mode': 'additive', 'seasonality_prior_scale': 0.01}\n"
     ]
    },
    {
     "name": "stderr",
     "output_type": "stream",
     "text": [
      "16:35:26 - cmdstanpy - INFO - Chain [1] start processing\n",
      "16:35:26 - cmdstanpy - INFO - Chain [1] done processing\n",
      "16:35:28 - cmdstanpy - INFO - Chain [1] start processing\n",
      "16:35:28 - cmdstanpy - INFO - Chain [1] start processing\n",
      "16:35:28 - cmdstanpy - INFO - Chain [1] done processing\n",
      "16:35:28 - cmdstanpy - INFO - Chain [1] done processing\n",
      "16:35:28 - cmdstanpy - INFO - Chain [1] start processing\n",
      "16:35:28 - cmdstanpy - INFO - Chain [1] start processing\n",
      "16:35:28 - cmdstanpy - INFO - Chain [1] done processing\n",
      "16:35:28 - cmdstanpy - INFO - Chain [1] done processing\n",
      "16:35:29 - cmdstanpy - INFO - Chain [1] start processing\n",
      "16:35:29 - cmdstanpy - INFO - Chain [1] done processing\n"
     ]
    },
    {
     "name": "stdout",
     "output_type": "stream",
     "text": [
      "{'changepoint_prior_scale': 0.401, 'holidays_prior_scale': 5.01, 'seasonality_mode': 'additive', 'seasonality_prior_scale': 2.51}\n"
     ]
    },
    {
     "name": "stderr",
     "output_type": "stream",
     "text": [
      "16:35:30 - cmdstanpy - INFO - Chain [1] start processing\n",
      "16:35:30 - cmdstanpy - INFO - Chain [1] done processing\n",
      "16:35:31 - cmdstanpy - INFO - Chain [1] start processing\n",
      "16:35:31 - cmdstanpy - INFO - Chain [1] done processing\n",
      "16:35:31 - cmdstanpy - INFO - Chain [1] start processing\n",
      "16:35:31 - cmdstanpy - INFO - Chain [1] start processing\n",
      "16:35:31 - cmdstanpy - INFO - Chain [1] done processing\n",
      "16:35:32 - cmdstanpy - INFO - Chain [1] done processing\n",
      "16:35:32 - cmdstanpy - INFO - Chain [1] start processing\n",
      "16:35:32 - cmdstanpy - INFO - Chain [1] start processing\n",
      "16:35:32 - cmdstanpy - INFO - Chain [1] done processing\n",
      "16:35:32 - cmdstanpy - INFO - Chain [1] done processing\n"
     ]
    },
    {
     "name": "stdout",
     "output_type": "stream",
     "text": [
      "{'changepoint_prior_scale': 0.401, 'holidays_prior_scale': 5.01, 'seasonality_mode': 'additive', 'seasonality_prior_scale': 5.01}\n"
     ]
    },
    {
     "name": "stderr",
     "output_type": "stream",
     "text": [
      "16:35:33 - cmdstanpy - INFO - Chain [1] start processing\n",
      "16:35:33 - cmdstanpy - INFO - Chain [1] done processing\n",
      "16:35:35 - cmdstanpy - INFO - Chain [1] start processing\n",
      "16:35:35 - cmdstanpy - INFO - Chain [1] done processing\n",
      "16:35:35 - cmdstanpy - INFO - Chain [1] start processing\n",
      "16:35:35 - cmdstanpy - INFO - Chain [1] done processing\n",
      "16:35:35 - cmdstanpy - INFO - Chain [1] start processing\n",
      "16:35:35 - cmdstanpy - INFO - Chain [1] done processing\n",
      "16:35:35 - cmdstanpy - INFO - Chain [1] start processing\n",
      "16:35:35 - cmdstanpy - INFO - Chain [1] done processing\n",
      "16:35:36 - cmdstanpy - INFO - Chain [1] start processing\n",
      "16:35:36 - cmdstanpy - INFO - Chain [1] done processing\n"
     ]
    },
    {
     "name": "stdout",
     "output_type": "stream",
     "text": [
      "{'changepoint_prior_scale': 0.401, 'holidays_prior_scale': 5.01, 'seasonality_mode': 'additive', 'seasonality_prior_scale': 7.51}\n"
     ]
    },
    {
     "name": "stderr",
     "output_type": "stream",
     "text": [
      "16:35:37 - cmdstanpy - INFO - Chain [1] start processing\n",
      "16:35:37 - cmdstanpy - INFO - Chain [1] done processing\n",
      "16:35:38 - cmdstanpy - INFO - Chain [1] start processing\n",
      "16:35:38 - cmdstanpy - INFO - Chain [1] done processing\n",
      "16:35:38 - cmdstanpy - INFO - Chain [1] start processing\n",
      "16:35:38 - cmdstanpy - INFO - Chain [1] done processing\n",
      "16:35:39 - cmdstanpy - INFO - Chain [1] start processing\n",
      "16:35:39 - cmdstanpy - INFO - Chain [1] start processing\n",
      "16:35:39 - cmdstanpy - INFO - Chain [1] done processing\n",
      "16:35:39 - cmdstanpy - INFO - Chain [1] start processing\n",
      "16:35:39 - cmdstanpy - INFO - Chain [1] done processing\n",
      "16:35:39 - cmdstanpy - INFO - Chain [1] done processing\n"
     ]
    },
    {
     "name": "stdout",
     "output_type": "stream",
     "text": [
      "{'changepoint_prior_scale': 0.401, 'holidays_prior_scale': 7.51, 'seasonality_mode': 'multiplicative', 'seasonality_prior_scale': 0.01}\n"
     ]
    },
    {
     "name": "stderr",
     "output_type": "stream",
     "text": [
      "16:35:40 - cmdstanpy - INFO - Chain [1] start processing\n",
      "16:35:40 - cmdstanpy - INFO - Chain [1] done processing\n",
      "16:35:42 - cmdstanpy - INFO - Chain [1] start processing\n",
      "16:35:42 - cmdstanpy - INFO - Chain [1] start processing\n",
      "16:35:42 - cmdstanpy - INFO - Chain [1] done processing\n",
      "16:35:42 - cmdstanpy - INFO - Chain [1] done processing\n",
      "16:35:42 - cmdstanpy - INFO - Chain [1] start processing\n",
      "16:35:42 - cmdstanpy - INFO - Chain [1] start processing\n",
      "16:35:42 - cmdstanpy - INFO - Chain [1] done processing\n",
      "16:35:43 - cmdstanpy - INFO - Chain [1] start processing\n",
      "16:35:43 - cmdstanpy - INFO - Chain [1] done processing\n",
      "16:35:43 - cmdstanpy - INFO - Chain [1] done processing\n"
     ]
    },
    {
     "name": "stdout",
     "output_type": "stream",
     "text": [
      "{'changepoint_prior_scale': 0.401, 'holidays_prior_scale': 7.51, 'seasonality_mode': 'multiplicative', 'seasonality_prior_scale': 2.51}\n"
     ]
    },
    {
     "name": "stderr",
     "output_type": "stream",
     "text": [
      "16:35:44 - cmdstanpy - INFO - Chain [1] start processing\n",
      "16:35:44 - cmdstanpy - INFO - Chain [1] done processing\n",
      "16:35:46 - cmdstanpy - INFO - Chain [1] start processing\n",
      "16:35:46 - cmdstanpy - INFO - Chain [1] start processing\n",
      "16:35:46 - cmdstanpy - INFO - Chain [1] done processing\n",
      "16:35:46 - cmdstanpy - INFO - Chain [1] start processing\n",
      "16:35:46 - cmdstanpy - INFO - Chain [1] start processing\n",
      "16:35:46 - cmdstanpy - INFO - Chain [1] start processing\n",
      "16:35:46 - cmdstanpy - INFO - Chain [1] done processing\n",
      "16:35:47 - cmdstanpy - INFO - Chain [1] done processing\n",
      "16:35:47 - cmdstanpy - INFO - Chain [1] done processing\n",
      "16:35:47 - cmdstanpy - INFO - Chain [1] done processing\n"
     ]
    },
    {
     "name": "stdout",
     "output_type": "stream",
     "text": [
      "{'changepoint_prior_scale': 0.401, 'holidays_prior_scale': 7.51, 'seasonality_mode': 'multiplicative', 'seasonality_prior_scale': 5.01}\n"
     ]
    },
    {
     "name": "stderr",
     "output_type": "stream",
     "text": [
      "16:35:48 - cmdstanpy - INFO - Chain [1] start processing\n",
      "16:35:48 - cmdstanpy - INFO - Chain [1] done processing\n",
      "16:35:50 - cmdstanpy - INFO - Chain [1] start processing\n",
      "16:35:50 - cmdstanpy - INFO - Chain [1] start processing\n",
      "16:35:50 - cmdstanpy - INFO - Chain [1] start processing\n",
      "16:35:50 - cmdstanpy - INFO - Chain [1] done processing\n",
      "16:35:50 - cmdstanpy - INFO - Chain [1] start processing\n",
      "16:35:50 - cmdstanpy - INFO - Chain [1] start processing\n",
      "16:35:51 - cmdstanpy - INFO - Chain [1] done processing\n",
      "16:35:51 - cmdstanpy - INFO - Chain [1] done processing\n",
      "16:35:51 - cmdstanpy - INFO - Chain [1] done processing\n",
      "16:35:52 - cmdstanpy - INFO - Chain [1] done processing\n"
     ]
    },
    {
     "name": "stdout",
     "output_type": "stream",
     "text": [
      "{'changepoint_prior_scale': 0.401, 'holidays_prior_scale': 7.51, 'seasonality_mode': 'multiplicative', 'seasonality_prior_scale': 7.51}\n"
     ]
    },
    {
     "name": "stderr",
     "output_type": "stream",
     "text": [
      "16:35:53 - cmdstanpy - INFO - Chain [1] start processing\n",
      "16:35:53 - cmdstanpy - INFO - Chain [1] done processing\n",
      "16:35:54 - cmdstanpy - INFO - Chain [1] start processing\n",
      "16:35:54 - cmdstanpy - INFO - Chain [1] start processing\n",
      "16:35:54 - cmdstanpy - INFO - Chain [1] start processing\n",
      "16:35:54 - cmdstanpy - INFO - Chain [1] done processing\n",
      "16:35:54 - cmdstanpy - INFO - Chain [1] start processing\n",
      "16:35:55 - cmdstanpy - INFO - Chain [1] start processing\n",
      "16:35:55 - cmdstanpy - INFO - Chain [1] done processing\n",
      "16:35:55 - cmdstanpy - INFO - Chain [1] done processing\n",
      "16:35:55 - cmdstanpy - INFO - Chain [1] done processing\n",
      "16:35:56 - cmdstanpy - INFO - Chain [1] done processing\n"
     ]
    },
    {
     "name": "stdout",
     "output_type": "stream",
     "text": [
      "{'changepoint_prior_scale': 0.401, 'holidays_prior_scale': 7.51, 'seasonality_mode': 'additive', 'seasonality_prior_scale': 0.01}\n"
     ]
    },
    {
     "name": "stderr",
     "output_type": "stream",
     "text": [
      "16:35:57 - cmdstanpy - INFO - Chain [1] start processing\n",
      "16:35:57 - cmdstanpy - INFO - Chain [1] done processing\n",
      "16:35:58 - cmdstanpy - INFO - Chain [1] start processing\n",
      "16:35:58 - cmdstanpy - INFO - Chain [1] done processing\n",
      "16:35:58 - cmdstanpy - INFO - Chain [1] start processing\n",
      "16:35:59 - cmdstanpy - INFO - Chain [1] done processing\n",
      "16:35:59 - cmdstanpy - INFO - Chain [1] start processing\n",
      "16:35:59 - cmdstanpy - INFO - Chain [1] start processing\n",
      "16:35:59 - cmdstanpy - INFO - Chain [1] done processing\n",
      "16:35:59 - cmdstanpy - INFO - Chain [1] start processing\n",
      "16:35:59 - cmdstanpy - INFO - Chain [1] done processing\n",
      "16:36:00 - cmdstanpy - INFO - Chain [1] done processing\n"
     ]
    },
    {
     "name": "stdout",
     "output_type": "stream",
     "text": [
      "{'changepoint_prior_scale': 0.401, 'holidays_prior_scale': 7.51, 'seasonality_mode': 'additive', 'seasonality_prior_scale': 2.51}\n"
     ]
    },
    {
     "name": "stderr",
     "output_type": "stream",
     "text": [
      "16:36:00 - cmdstanpy - INFO - Chain [1] start processing\n",
      "16:36:01 - cmdstanpy - INFO - Chain [1] done processing\n",
      "16:36:02 - cmdstanpy - INFO - Chain [1] start processing\n",
      "16:36:02 - cmdstanpy - INFO - Chain [1] done processing\n",
      "16:36:02 - cmdstanpy - INFO - Chain [1] start processing\n",
      "16:36:02 - cmdstanpy - INFO - Chain [1] done processing\n",
      "16:36:03 - cmdstanpy - INFO - Chain [1] start processing\n",
      "16:36:03 - cmdstanpy - INFO - Chain [1] done processing\n",
      "16:36:03 - cmdstanpy - INFO - Chain [1] start processing\n",
      "16:36:03 - cmdstanpy - INFO - Chain [1] start processing\n",
      "16:36:03 - cmdstanpy - INFO - Chain [1] done processing\n",
      "16:36:03 - cmdstanpy - INFO - Chain [1] done processing\n"
     ]
    },
    {
     "name": "stdout",
     "output_type": "stream",
     "text": [
      "{'changepoint_prior_scale': 0.401, 'holidays_prior_scale': 7.51, 'seasonality_mode': 'additive', 'seasonality_prior_scale': 5.01}\n"
     ]
    },
    {
     "name": "stderr",
     "output_type": "stream",
     "text": [
      "16:36:04 - cmdstanpy - INFO - Chain [1] start processing\n",
      "16:36:04 - cmdstanpy - INFO - Chain [1] done processing\n",
      "16:36:06 - cmdstanpy - INFO - Chain [1] start processing\n",
      "16:36:06 - cmdstanpy - INFO - Chain [1] done processing\n",
      "16:36:06 - cmdstanpy - INFO - Chain [1] start processing\n",
      "16:36:06 - cmdstanpy - INFO - Chain [1] done processing\n",
      "16:36:06 - cmdstanpy - INFO - Chain [1] start processing\n",
      "16:36:06 - cmdstanpy - INFO - Chain [1] start processing\n",
      "16:36:06 - cmdstanpy - INFO - Chain [1] done processing\n",
      "16:36:07 - cmdstanpy - INFO - Chain [1] done processing\n",
      "16:36:07 - cmdstanpy - INFO - Chain [1] start processing\n",
      "16:36:07 - cmdstanpy - INFO - Chain [1] done processing\n"
     ]
    },
    {
     "name": "stdout",
     "output_type": "stream",
     "text": [
      "{'changepoint_prior_scale': 0.401, 'holidays_prior_scale': 7.51, 'seasonality_mode': 'additive', 'seasonality_prior_scale': 7.51}\n"
     ]
    },
    {
     "name": "stderr",
     "output_type": "stream",
     "text": [
      "16:36:08 - cmdstanpy - INFO - Chain [1] start processing\n",
      "16:36:08 - cmdstanpy - INFO - Chain [1] done processing\n",
      "16:36:09 - cmdstanpy - INFO - Chain [1] start processing\n",
      "16:36:10 - cmdstanpy - INFO - Chain [1] done processing\n",
      "16:36:10 - cmdstanpy - INFO - Chain [1] start processing\n",
      "16:36:10 - cmdstanpy - INFO - Chain [1] done processing\n",
      "16:36:10 - cmdstanpy - INFO - Chain [1] start processing\n",
      "16:36:10 - cmdstanpy - INFO - Chain [1] done processing\n",
      "16:36:10 - cmdstanpy - INFO - Chain [1] start processing\n",
      "16:36:11 - cmdstanpy - INFO - Chain [1] done processing\n",
      "16:36:11 - cmdstanpy - INFO - Chain [1] start processing\n",
      "16:36:11 - cmdstanpy - INFO - Chain [1] done processing\n"
     ]
    },
    {
     "name": "stdout",
     "output_type": "stream",
     "text": [
      "     changepoint_prior_scale  holidays_prior_scale seasonality_mode  \\\n",
      "0                      0.001                  0.01   multiplicative   \n",
      "1                      0.001                  0.01   multiplicative   \n",
      "2                      0.001                  0.01   multiplicative   \n",
      "3                      0.001                  0.01   multiplicative   \n",
      "4                      0.001                  0.01         additive   \n",
      "..                       ...                   ...              ...   \n",
      "155                    0.401                  7.51   multiplicative   \n",
      "156                    0.401                  7.51         additive   \n",
      "157                    0.401                  7.51         additive   \n",
      "158                    0.401                  7.51         additive   \n",
      "159                    0.401                  7.51         additive   \n",
      "\n",
      "     seasonality_prior_scale      mase  \n",
      "0                       0.01  1.265905  \n",
      "1                       2.51  1.201250  \n",
      "2                       5.01  1.186236  \n",
      "3                       7.51  1.133763  \n",
      "4                       0.01  1.197825  \n",
      "..                       ...       ...  \n",
      "155                     7.51  0.923613  \n",
      "156                     0.01  0.933308  \n",
      "157                     2.51  0.933002  \n",
      "158                     5.01  0.933002  \n",
      "159                     7.51  0.933002  \n",
      "\n",
      "[160 rows x 5 columns]\n"
     ]
    }
   ],
   "source": [
    "MASE_list = []\n",
    "best_mase = 100000000\n",
    "best_params = None\n",
    "for p in grid:\n",
    "    test = pd.DataFrame()\n",
    "    print(p)\n",
    "    random.seed(0)\n",
    "    train_model =Prophet(changepoint_prior_scale = p['changepoint_prior_scale'],\n",
    "                        holidays_prior_scale = p['holidays_prior_scale'],\n",
    "                        seasonality_prior_scale = p['seasonality_prior_scale'],\n",
    "                        seasonality_mode = p['seasonality_mode'],\n",
    "                        weekly_seasonality=True,\n",
    "                        daily_seasonality = True,\n",
    "                        yearly_seasonality = False,\n",
    "                        )\n",
    "    \n",
    "    train_model.add_regressor('time', standardize=False)\n",
    "\n",
    "\n",
    "    train_model.fit(train_data)\n",
    "    \n",
    "    df_cv = cross_validation(train_model, period='60 days', horizon='30 days', parallel=\"processes\")\n",
    "\n",
    "\n",
    "    # X and y to pandas dataframe\n",
    "    X_train = pd.DataFrame(df_cv)\n",
    "\n",
    "    y_true = df_cv['y'].values\n",
    "    #make y_true as dataframe\n",
    "    y_true = pd.DataFrame(y_true)\n",
    "\n",
    "    y_pred = df_cv['yhat'].values\n",
    "    #make y_pred as dataframe\n",
    "    y_pred = pd.DataFrame(y_pred)\n",
    "\n",
    "    MASE_list.append(mean_absolute_scaled_error(y_true, y_pred))\n",
    "    \n",
    "    # print('RMSE:',np.sqrt(MSE))\n",
    "    # RMSE_list.append(np.sqrt(MSE))\n",
    "\n",
    "# Find the best parameters\n",
    "tuning_results = pd.DataFrame(grid)\n",
    "tuning_results['mase'] = MASE_list\n",
    "print(tuning_results)"
   ]
  },
  {
   "cell_type": "code",
   "execution_count": 8,
   "metadata": {},
   "outputs": [
    {
     "name": "stdout",
     "output_type": "stream",
     "text": [
      "Best Parameters {'seasonality_prior_scale': 2.51, 'seasonality_mode': 'multiplicative', 'holidays_prior_scale': 2.51, 'changepoint_prior_scale': 0.001}\n",
      "Best MASE 0.9182860079436967\n",
      "[1.265904740518625, 1.2012500673688014, 1.186236323214919, 1.1337631678585933, 1.1978254961720103, 1.1991393310031493, 1.1896061631740455, 1.258145798378226, 1.0391569023654537, 0.9182860079436967, 1.1874969582678494, 1.1916739737610407, 1.1933641685441656, 1.2032628291940368, 1.1976875278091959, 1.2102749726135935, 1.1173299131081167, 1.199493274176376, 0.9357839423421309, 1.201177567922289, 1.1979926889531163, 1.2120568657770796, 1.200155619572108, 1.1946476592599604, 1.0543872546184612, 1.196638161310955, 1.2019105987729526, 1.1808374782017257, 1.2082606461829932, 1.1871648663042176, 1.1958906910533122, 1.1992766143831697, 1.3291909168702507, 0.9217142893499395, 0.9220645503748028, 0.9492282784952644, 0.9385248779591674, 0.9392797350692957, 0.9394553231572417, 0.9394582152393842, 1.334955693880536, 0.9371844531963929, 0.9199656542880239, 0.9284587921863383, 0.9367295613060468, 0.9395352263682444, 0.939456082832891, 0.9394560013175615, 1.4023591067739973, 1.0346965780344084, 0.9885010879166899, 0.9733481812373498, 0.9367295613060468, 0.939281124917188, 0.9394566244742242, 0.9394573839265478, 1.3984188560527233, 1.030178108305124, 0.9569000495330923, 1.0298027211397693, 0.9367295613060468, 0.939500718701939, 0.9394555983180704, 0.9394572052357211, 1.2685865228529756, 1.0702193744715742, 1.0328078123854538, 1.0706435167462545, 0.9334424574806556, 0.9363149701577679, 0.9347642289996372, 0.9347695015220986, 1.2740352781807622, 1.012327413314041, 1.005097394286541, 1.0575452276871242, 0.9344848463102259, 0.934771077217182, 0.9355084250717997, 0.9355304861023791, 1.2751877757076726, 1.040517142960304, 1.00647367671957, 1.062615934845959, 0.9344829078494952, 0.9347643594588071, 0.9355096773023353, 0.9347695771253647, 1.2733091084521655, 1.017745243503885, 1.0541095597388739, 1.0173901799379705, 0.9344826439828589, 0.9347643858491577, 0.9355091255556252, 0.9347697712658315, 1.3052466892237504, 1.0193149784852666, 1.1200214443658418, 1.007590569344504, 0.9331300067953513, 0.9333658545420497, 0.9335445098365639, 0.9335343542202319, 1.2657576273678341, 1.0136316899514939, 1.0911428817874638, 1.0312029964028644, 0.9331300122022353, 0.933366046835884, 0.9335329485670525, 0.9335336119309525, 1.3451404440538484, 1.0513877653321606, 1.0097411957017006, 1.0341977839860186, 0.9331300382432859, 0.9333657991345832, 0.9335336258734216, 0.9335329416404168, 1.327045473236396, 1.0184139737970774, 1.017009707427095, 1.0151436923905757, 0.9331300382432859, 0.9333657849663732, 0.933533215169761, 0.9335330306920727, 1.2779023621495855, 1.0559500564997433, 1.0559716021404104, 1.116872820726714, 0.9330988164259398, 0.9330023869879605, 0.9330023909614924, 0.9330023915788731, 1.3147515563598713, 0.9320136343550505, 0.9308767714346456, 0.9272132061824456, 0.9333101730725681, 0.9330024218632833, 0.9330024255105265, 0.9330024260080945, 1.320049653110055, 0.9275599930277745, 0.9242957793776266, 0.9756576692739235, 0.933308165212174, 0.9330024218632833, 0.9330024255105265, 0.9330024260080945, 1.350126986540831, 0.9283645679204359, 0.9297408701119185, 0.923613099314685, 0.9333075748627795, 0.9330024218632833, 0.9330024255609588, 0.9330024260080945]\n"
     ]
    }
   ],
   "source": [
    "best_params = grid[np.argmin(MASE_list)]\n",
    "print('Best Parameters',best_params)\n",
    "print('Best MASE',np.min(MASE_list))\n",
    "print(MASE_list)"
   ]
  }
 ],
 "metadata": {
  "kernelspec": {
   "display_name": "Python 3",
   "language": "python",
   "name": "python3"
  },
  "language_info": {
   "codemirror_mode": {
    "name": "ipython",
    "version": 3
   },
   "file_extension": ".py",
   "mimetype": "text/x-python",
   "name": "python",
   "nbconvert_exporter": "python",
   "pygments_lexer": "ipython3",
   "version": "3.9.12"
  }
 },
 "nbformat": 4,
 "nbformat_minor": 2
}
