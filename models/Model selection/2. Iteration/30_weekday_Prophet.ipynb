{
 "cells": [
  {
   "cell_type": "markdown",
   "metadata": {},
   "source": [
    "https://www.kaggle.com/code/manovirat/timeseries-using-prophet-hyperparameter-tuning"
   ]
  },
  {
   "cell_type": "code",
   "execution_count": 1,
   "metadata": {},
   "outputs": [],
   "source": [
    "import pandas as pd\n",
    "from prophet import Prophet\n",
    "from prophet.diagnostics import cross_validation\n",
    "from sklearn.model_selection import ParameterGrid\n",
    "from prophet.diagnostics import performance_metrics\n",
    "import random\n",
    "import numpy as np\n",
    "from sklearn.model_selection import TimeSeriesSplit"
   ]
  },
  {
   "cell_type": "code",
   "execution_count": 2,
   "metadata": {},
   "outputs": [
    {
     "name": "stdout",
     "output_type": "stream",
     "text": [
      "Total Possible Models 160\n"
     ]
    }
   ],
   "source": [
    "params_grid = {'seasonality_mode':('multiplicative','additive'),\n",
    "               # set changepoint_prior_scale to 0.5 with steps of 0.005\n",
    "               'changepoint_prior_scale':[x for x in np.arange(0.001, 0.5, 0.1)],\n",
    "               'seasonality_prior_scale':[x for x in np.arange(0.01, 10, 2.5)],\n",
    "              'holidays_prior_scale':[x for x in np.arange(0.01, 10, 2.5)]}\n",
    "\n",
    "grid = ParameterGrid(params_grid)\n",
    "cnt = 0\n",
    "for p in grid:\n",
    "    cnt = cnt+1\n",
    "\n",
    "print('Total Possible Models',cnt)"
   ]
  },
  {
   "cell_type": "code",
   "execution_count": 3,
   "metadata": {},
   "outputs": [],
   "source": [
    "#Define MASE Metric\n",
    "def mean_absolute_scaled_error(y_true, y_pred):\n",
    "    mase=0\n",
    "    # Define numerator as the forecast error\n",
    "    numerator = (np.abs(y_true - y_pred))\n",
    "\n",
    "    # Define denominator as the mean absolute error of the in-sample one-step naive forecast\n",
    "    y_true_ohne_1 = y_true[1:].reset_index(drop=True)\n",
    "    y_true_ohne_ende = y_true[:-1].reset_index(drop=True)\n",
    "    denominator = np.mean(np.abs(y_true_ohne_1 - y_true_ohne_ende))\n",
    "\n",
    "    mase = np.mean(np.abs(numerator / denominator))\n",
    "\n",
    "    return mase"
   ]
  },
  {
   "cell_type": "code",
   "execution_count": 4,
   "metadata": {},
   "outputs": [],
   "source": [
    "# Load the data\n",
    "data = pd.read_parquet('/Users/paddy/Documents/GitHub/Masterthesis_ML/data/03_30min_dataset.parquet')\n",
    "\n",
    "# Convert the date column to datetime\n",
    "data['date'] = pd.to_datetime(data['date'])\n"
   ]
  },
  {
   "cell_type": "code",
   "execution_count": 5,
   "metadata": {},
   "outputs": [],
   "source": [
    "# Feature Engineering\n",
    "\n",
    "# Add a column with the time\n",
    "data['time'] = [x for x in range(0, len(data))]\n",
    "\n",
    "data['hour_of_day'] = data['date'].dt.hour\n",
    "data['day_of_week'] = data['date'].dt.dayofweek\n",
    "data['day_of_month'] = data['date'].dt.day\n",
    "data['month_of_year'] = data['date'].dt.month\n",
    "data['year'] = data['date'].dt.year\n",
    "\n",
    "# make a weekend column\n",
    "data['weekend'] = 0\n",
    "data.loc[data['day_of_week'] == 5, 'weekend'] = 1\n",
    "data.loc[data['day_of_week'] == 6, 'weekend'] = 1\n",
    "\n",
    "#make a monday column\n",
    "data['monday'] = 0\n",
    "data.loc[data['day_of_week'] == 0, 'monday'] = 1\n",
    "\n",
    "#make a tuesday column\n",
    "data['tuesday'] = 0\n",
    "data.loc[data['day_of_week'] == 1, 'tuesday'] = 1\n",
    "\n",
    "#make a wednesday column\n",
    "data['wednesday'] = 0\n",
    "data.loc[data['day_of_week'] == 2, 'wednesday'] = 1\n",
    "\n",
    "#make a thursday column\n",
    "data['thursday'] = 0\n",
    "data.loc[data['day_of_week'] == 3, 'thursday'] = 1\n",
    "\n",
    "#make a friday column\n",
    "data['friday'] = 0\n",
    "data.loc[data['day_of_week'] == 4, 'friday'] = 1\n",
    "\n",
    "#make a saturday column\n",
    "data['saturday'] = 0\n",
    "data.loc[data['day_of_week'] == 5, 'saturday'] = 1\n",
    "\n",
    "#make a sunday column\n",
    "data['sunday'] = 0\n",
    "data.loc[data['day_of_week'] == 6, 'sunday'] = 1\n",
    "\n",
    "# Drop the first three rows\n",
    "data = data.dropna().reset_index(drop=True)\n",
    "\n",
    "# convert date column to datetime without timezone\n",
    "data['date'] = pd.to_datetime(data['date'],format='%d/%m/%y %H:%M:%S').dt.strftime('%Y-%m-%d %H:%M:%S') \n",
    "\n",
    "# Rename column count to y\n",
    "data = data.rename(columns={'count': 'y'})\n",
    "data = data.rename(columns={'date': 'ds'})\n",
    "\n",
    "\n",
    "train_data = data"
   ]
  },
  {
   "cell_type": "code",
   "execution_count": 6,
   "metadata": {},
   "outputs": [
    {
     "name": "stdout",
     "output_type": "stream",
     "text": [
      "0        2022-04-01 00:00:00\n",
      "1        2022-04-01 00:30:00\n",
      "2        2022-04-01 01:00:00\n",
      "3        2022-04-01 01:30:00\n",
      "4        2022-04-01 02:00:00\n",
      "                ...         \n",
      "17515    2023-03-31 21:30:00\n",
      "17516    2023-03-31 22:00:00\n",
      "17517    2023-03-31 22:30:00\n",
      "17518    2023-03-31 23:00:00\n",
      "17519    2023-03-31 23:30:00\n",
      "Name: ds, Length: 17520, dtype: object\n",
      "Fold 0:\n",
      "  Train: index=[   0    1    2 ... 2917 2918 2919]\n",
      "  Test:  index=[2920 2921 2922 ... 5837 5838 5839]\n",
      "Fold 1:\n",
      "  Train: index=[   0    1    2 ... 5837 5838 5839]\n",
      "  Test:  index=[5840 5841 5842 ... 8757 8758 8759]\n",
      "Fold 2:\n",
      "  Train: index=[   0    1    2 ... 8757 8758 8759]\n",
      "  Test:  index=[ 8760  8761  8762 ... 11677 11678 11679]\n",
      "Fold 3:\n",
      "  Train: index=[    0     1     2 ... 11677 11678 11679]\n",
      "  Test:  index=[11680 11681 11682 ... 14597 14598 14599]\n",
      "Fold 4:\n",
      "  Train: index=[    0     1     2 ... 14597 14598 14599]\n",
      "  Test:  index=[14600 14601 14602 ... 17517 17518 17519]\n"
     ]
    }
   ],
   "source": [
    "cv_folds = TimeSeriesSplit(n_splits=5)\n",
    "\n",
    "#convert data to only date not time\n",
    "cv_data = train_data.copy()\n",
    "\n",
    "#convert to timestamp with date format\n",
    "#cv_data.ds = pd.to_datetime(cv_data.ds).dt.date\n",
    "\n",
    "print(cv_data.ds)   \n",
    "\n",
    "#Define cutoff dates for cross validation at end of train_data/cv_folds\n",
    "cutoffs = []\n",
    "# for train_index, test_index in cv_folds.split(train_data):\n",
    "#     cutoffs.append(train_data.ds.iloc[test_index].max())\n",
    "#     #convert to timestamp\n",
    "#     cutoffs = pd.to_datetime(cutoffs)\n",
    "    \n",
    "# print(cutoffs)\n",
    "\n",
    "for i, (train_index, test_index) in enumerate(cv_folds.split(cv_data)):\n",
    "    print(f\"Fold {i}:\")\n",
    "    print(f\"  Train: index={train_index}\")\n",
    "    print(f\"  Test:  index={test_index}\")\n",
    "    #get the date for the last train index\n",
    "    cutoffs.append(cv_data.ds.iloc[train_index].max())\n",
    "    #only date not time\n",
    "    #cutoffs = pd.to_datetime(cutoffs).date"
   ]
  },
  {
   "cell_type": "code",
   "execution_count": 7,
   "metadata": {},
   "outputs": [
    {
     "name": "stdout",
     "output_type": "stream",
     "text": [
      "{'changepoint_prior_scale': 0.001, 'holidays_prior_scale': 0.01, 'seasonality_mode': 'multiplicative', 'seasonality_prior_scale': 0.01}\n"
     ]
    },
    {
     "name": "stderr",
     "output_type": "stream",
     "text": [
      "19:41:01 - cmdstanpy - INFO - Chain [1] start processing\n",
      "19:41:01 - cmdstanpy - INFO - Chain [1] done processing\n",
      "19:41:03 - cmdstanpy - INFO - Chain [1] start processing\n",
      "19:41:03 - cmdstanpy - INFO - Chain [1] start processing\n",
      "19:41:03 - cmdstanpy - INFO - Chain [1] start processing\n",
      "19:41:03 - cmdstanpy - INFO - Chain [1] done processing\n",
      "19:41:03 - cmdstanpy - INFO - Chain [1] start processing\n",
      "19:41:04 - cmdstanpy - INFO - Chain [1] start processing\n",
      "19:41:04 - cmdstanpy - INFO - Chain [1] done processing\n",
      "19:41:04 - cmdstanpy - INFO - Chain [1] done processing\n",
      "19:41:04 - cmdstanpy - INFO - Chain [1] done processing\n",
      "19:41:04 - cmdstanpy - ERROR - Chain [1] error: error during processing Operation not permitted\n",
      "Optimization terminated abnormally. Falling back to Newton.\n",
      "19:41:05 - cmdstanpy - INFO - Chain [1] done processing\n",
      "19:41:05 - cmdstanpy - INFO - Chain [1] start processing\n",
      "19:42:37 - cmdstanpy - INFO - Chain [1] done processing\n"
     ]
    },
    {
     "name": "stdout",
     "output_type": "stream",
     "text": [
      "{'changepoint_prior_scale': 0.001, 'holidays_prior_scale': 0.01, 'seasonality_mode': 'multiplicative', 'seasonality_prior_scale': 2.51}\n"
     ]
    },
    {
     "name": "stderr",
     "output_type": "stream",
     "text": [
      "19:42:38 - cmdstanpy - INFO - Chain [1] start processing\n",
      "19:42:39 - cmdstanpy - INFO - Chain [1] done processing\n",
      "19:42:40 - cmdstanpy - INFO - Chain [1] start processing\n",
      "19:42:40 - cmdstanpy - INFO - Chain [1] start processing\n",
      "19:42:40 - cmdstanpy - INFO - Chain [1] start processing\n",
      "19:42:40 - cmdstanpy - INFO - Chain [1] start processing\n",
      "19:42:40 - cmdstanpy - INFO - Chain [1] done processing\n",
      "19:42:40 - cmdstanpy - INFO - Chain [1] done processing\n",
      "19:42:40 - cmdstanpy - INFO - Chain [1] start processing\n",
      "19:42:41 - cmdstanpy - INFO - Chain [1] done processing\n",
      "19:42:42 - cmdstanpy - INFO - Chain [1] done processing\n",
      "19:42:42 - cmdstanpy - ERROR - Chain [1] error: error during processing Operation not permitted\n",
      "Optimization terminated abnormally. Falling back to Newton.\n",
      "19:42:42 - cmdstanpy - INFO - Chain [1] start processing\n",
      "19:42:42 - cmdstanpy - INFO - Chain [1] done processing\n",
      "19:43:16 - cmdstanpy - INFO - Chain [1] done processing\n"
     ]
    },
    {
     "name": "stdout",
     "output_type": "stream",
     "text": [
      "{'changepoint_prior_scale': 0.001, 'holidays_prior_scale': 0.01, 'seasonality_mode': 'multiplicative', 'seasonality_prior_scale': 5.01}\n"
     ]
    },
    {
     "name": "stderr",
     "output_type": "stream",
     "text": [
      "19:43:17 - cmdstanpy - INFO - Chain [1] start processing\n",
      "19:43:18 - cmdstanpy - INFO - Chain [1] done processing\n",
      "19:43:19 - cmdstanpy - INFO - Chain [1] start processing\n",
      "19:43:19 - cmdstanpy - INFO - Chain [1] start processing\n",
      "19:43:19 - cmdstanpy - INFO - Chain [1] done processing\n",
      "19:43:19 - cmdstanpy - INFO - Chain [1] start processing\n",
      "19:43:20 - cmdstanpy - INFO - Chain [1] start processing\n",
      "19:43:20 - cmdstanpy - INFO - Chain [1] start processing\n",
      "19:43:20 - cmdstanpy - INFO - Chain [1] done processing\n",
      "19:43:20 - cmdstanpy - INFO - Chain [1] done processing\n",
      "19:43:20 - cmdstanpy - ERROR - Chain [1] error: error during processing Operation not permitted\n",
      "Optimization terminated abnormally. Falling back to Newton.\n",
      "19:43:20 - cmdstanpy - INFO - Chain [1] start processing\n",
      "19:43:21 - cmdstanpy - INFO - Chain [1] done processing\n",
      "19:43:21 - cmdstanpy - INFO - Chain [1] done processing\n",
      "19:43:21 - cmdstanpy - ERROR - Chain [1] error: error during processing Operation not permitted\n",
      "Optimization terminated abnormally. Falling back to Newton.\n",
      "19:43:21 - cmdstanpy - INFO - Chain [1] start processing\n",
      "19:44:06 - cmdstanpy - INFO - Chain [1] done processing\n",
      "19:44:08 - cmdstanpy - INFO - Chain [1] done processing\n"
     ]
    },
    {
     "name": "stdout",
     "output_type": "stream",
     "text": [
      "{'changepoint_prior_scale': 0.001, 'holidays_prior_scale': 0.01, 'seasonality_mode': 'multiplicative', 'seasonality_prior_scale': 7.51}\n"
     ]
    },
    {
     "name": "stderr",
     "output_type": "stream",
     "text": [
      "19:44:09 - cmdstanpy - INFO - Chain [1] start processing\n",
      "19:44:10 - cmdstanpy - INFO - Chain [1] done processing\n",
      "19:44:11 - cmdstanpy - INFO - Chain [1] start processing\n",
      "19:44:12 - cmdstanpy - INFO - Chain [1] start processing\n",
      "19:44:12 - cmdstanpy - INFO - Chain [1] done processing\n",
      "19:44:12 - cmdstanpy - INFO - Chain [1] start processing\n",
      "19:44:12 - cmdstanpy - INFO - Chain [1] start processing\n",
      "19:44:12 - cmdstanpy - INFO - Chain [1] start processing\n",
      "19:44:12 - cmdstanpy - INFO - Chain [1] done processing\n",
      "19:44:12 - cmdstanpy - INFO - Chain [1] done processing\n",
      "19:44:12 - cmdstanpy - ERROR - Chain [1] error: error during processing Operation not permitted\n",
      "Optimization terminated abnormally. Falling back to Newton.\n",
      "19:44:13 - cmdstanpy - INFO - Chain [1] start processing\n",
      "19:44:13 - cmdstanpy - INFO - Chain [1] done processing\n",
      "19:44:13 - cmdstanpy - INFO - Chain [1] done processing\n",
      "19:44:51 - cmdstanpy - INFO - Chain [1] done processing\n"
     ]
    },
    {
     "name": "stdout",
     "output_type": "stream",
     "text": [
      "{'changepoint_prior_scale': 0.001, 'holidays_prior_scale': 0.01, 'seasonality_mode': 'additive', 'seasonality_prior_scale': 0.01}\n"
     ]
    },
    {
     "name": "stderr",
     "output_type": "stream",
     "text": [
      "19:44:52 - cmdstanpy - INFO - Chain [1] start processing\n",
      "19:44:53 - cmdstanpy - INFO - Chain [1] done processing\n",
      "19:44:54 - cmdstanpy - INFO - Chain [1] start processing\n",
      "19:44:54 - cmdstanpy - INFO - Chain [1] done processing\n",
      "19:44:54 - cmdstanpy - INFO - Chain [1] start processing\n",
      "19:44:55 - cmdstanpy - INFO - Chain [1] start processing\n",
      "19:44:55 - cmdstanpy - INFO - Chain [1] start processing\n",
      "19:44:55 - cmdstanpy - INFO - Chain [1] start processing\n",
      "19:44:55 - cmdstanpy - INFO - Chain [1] done processing\n",
      "19:44:55 - cmdstanpy - ERROR - Chain [1] error: error during processing Operation not permitted\n",
      "Optimization terminated abnormally. Falling back to Newton.\n",
      "19:44:56 - cmdstanpy - INFO - Chain [1] start processing\n",
      "19:44:56 - cmdstanpy - INFO - Chain [1] done processing\n",
      "19:44:56 - cmdstanpy - INFO - Chain [1] done processing\n",
      "19:44:56 - cmdstanpy - INFO - Chain [1] done processing\n",
      "19:45:07 - cmdstanpy - INFO - Chain [1] done processing\n"
     ]
    },
    {
     "name": "stdout",
     "output_type": "stream",
     "text": [
      "{'changepoint_prior_scale': 0.001, 'holidays_prior_scale': 0.01, 'seasonality_mode': 'additive', 'seasonality_prior_scale': 2.51}\n"
     ]
    },
    {
     "name": "stderr",
     "output_type": "stream",
     "text": [
      "19:45:08 - cmdstanpy - INFO - Chain [1] start processing\n",
      "19:45:09 - cmdstanpy - INFO - Chain [1] done processing\n",
      "19:45:10 - cmdstanpy - INFO - Chain [1] start processing\n",
      "19:45:10 - cmdstanpy - INFO - Chain [1] start processing\n",
      "19:45:11 - cmdstanpy - INFO - Chain [1] done processing\n",
      "19:45:11 - cmdstanpy - ERROR - Chain [1] error: error during processing Operation not permitted\n",
      "Optimization terminated abnormally. Falling back to Newton.\n",
      "19:45:11 - cmdstanpy - INFO - Chain [1] start processing\n",
      "19:45:11 - cmdstanpy - INFO - Chain [1] start processing\n",
      "19:45:11 - cmdstanpy - INFO - Chain [1] start processing\n",
      "19:45:11 - cmdstanpy - INFO - Chain [1] start processing\n",
      "19:45:11 - cmdstanpy - INFO - Chain [1] done processing\n",
      "19:45:11 - cmdstanpy - ERROR - Chain [1] error: error during processing Operation not permitted\n",
      "Optimization terminated abnormally. Falling back to Newton.\n",
      "19:45:12 - cmdstanpy - INFO - Chain [1] start processing\n",
      "19:45:12 - cmdstanpy - INFO - Chain [1] done processing\n",
      "19:45:12 - cmdstanpy - INFO - Chain [1] done processing\n",
      "19:45:12 - cmdstanpy - ERROR - Chain [1] error: error during processing Operation not permitted\n",
      "Optimization terminated abnormally. Falling back to Newton.\n",
      "19:45:13 - cmdstanpy - INFO - Chain [1] start processing\n",
      "19:45:13 - cmdstanpy - INFO - Chain [1] done processing\n",
      "19:45:13 - cmdstanpy - ERROR - Chain [1] error: error during processing Operation not permitted\n",
      "Optimization terminated abnormally. Falling back to Newton.\n",
      "19:45:14 - cmdstanpy - INFO - Chain [1] start processing\n",
      "19:45:27 - cmdstanpy - INFO - Chain [1] done processing\n",
      "19:45:40 - cmdstanpy - INFO - Chain [1] done processing\n",
      "19:45:49 - cmdstanpy - INFO - Chain [1] done processing\n",
      "19:46:03 - cmdstanpy - INFO - Chain [1] done processing\n"
     ]
    },
    {
     "name": "stdout",
     "output_type": "stream",
     "text": [
      "{'changepoint_prior_scale': 0.001, 'holidays_prior_scale': 0.01, 'seasonality_mode': 'additive', 'seasonality_prior_scale': 5.01}\n"
     ]
    },
    {
     "name": "stderr",
     "output_type": "stream",
     "text": [
      "19:46:04 - cmdstanpy - INFO - Chain [1] start processing\n",
      "19:46:05 - cmdstanpy - INFO - Chain [1] done processing\n",
      "19:46:06 - cmdstanpy - INFO - Chain [1] start processing\n",
      "19:46:06 - cmdstanpy - INFO - Chain [1] done processing\n",
      "19:46:06 - cmdstanpy - ERROR - Chain [1] error: error during processing Operation not permitted\n",
      "Optimization terminated abnormally. Falling back to Newton.\n",
      "19:46:07 - cmdstanpy - INFO - Chain [1] start processing\n",
      "19:46:07 - cmdstanpy - INFO - Chain [1] start processing\n",
      "19:46:07 - cmdstanpy - INFO - Chain [1] start processing\n",
      "19:46:07 - cmdstanpy - INFO - Chain [1] start processing\n",
      "19:46:07 - cmdstanpy - INFO - Chain [1] start processing\n",
      "19:46:07 - cmdstanpy - INFO - Chain [1] done processing\n",
      "19:46:07 - cmdstanpy - ERROR - Chain [1] error: error during processing Operation not permitted\n",
      "Optimization terminated abnormally. Falling back to Newton.\n",
      "19:46:08 - cmdstanpy - INFO - Chain [1] start processing\n",
      "19:46:08 - cmdstanpy - INFO - Chain [1] done processing\n",
      "19:46:08 - cmdstanpy - INFO - Chain [1] done processing\n",
      "19:46:08 - cmdstanpy - ERROR - Chain [1] error: error during processing Operation not permitted\n",
      "Optimization terminated abnormally. Falling back to Newton.\n",
      "19:46:09 - cmdstanpy - INFO - Chain [1] start processing\n",
      "19:46:09 - cmdstanpy - INFO - Chain [1] done processing\n",
      "19:46:09 - cmdstanpy - ERROR - Chain [1] error: error during processing Operation not permitted\n",
      "Optimization terminated abnormally. Falling back to Newton.\n",
      "19:46:10 - cmdstanpy - INFO - Chain [1] start processing\n",
      "19:46:19 - cmdstanpy - INFO - Chain [1] done processing\n",
      "19:46:31 - cmdstanpy - INFO - Chain [1] done processing\n",
      "19:46:43 - cmdstanpy - INFO - Chain [1] done processing\n",
      "19:46:59 - cmdstanpy - INFO - Chain [1] done processing\n"
     ]
    },
    {
     "name": "stdout",
     "output_type": "stream",
     "text": [
      "{'changepoint_prior_scale': 0.001, 'holidays_prior_scale': 0.01, 'seasonality_mode': 'additive', 'seasonality_prior_scale': 7.51}\n"
     ]
    },
    {
     "name": "stderr",
     "output_type": "stream",
     "text": [
      "19:47:00 - cmdstanpy - INFO - Chain [1] start processing\n",
      "19:47:01 - cmdstanpy - INFO - Chain [1] done processing\n",
      "19:47:02 - cmdstanpy - INFO - Chain [1] start processing\n",
      "19:47:02 - cmdstanpy - INFO - Chain [1] start processing\n",
      "19:47:02 - cmdstanpy - INFO - Chain [1] done processing\n",
      "19:47:02 - cmdstanpy - ERROR - Chain [1] error: error during processing Operation not permitted\n",
      "Optimization terminated abnormally. Falling back to Newton.\n",
      "19:47:02 - cmdstanpy - INFO - Chain [1] start processing\n",
      "19:47:03 - cmdstanpy - INFO - Chain [1] start processing\n",
      "19:47:03 - cmdstanpy - INFO - Chain [1] start processing\n",
      "19:47:03 - cmdstanpy - INFO - Chain [1] start processing\n",
      "19:47:03 - cmdstanpy - INFO - Chain [1] done processing\n",
      "19:47:03 - cmdstanpy - ERROR - Chain [1] error: error during processing Operation not permitted\n",
      "Optimization terminated abnormally. Falling back to Newton.\n",
      "19:47:03 - cmdstanpy - INFO - Chain [1] start processing\n",
      "19:47:03 - cmdstanpy - INFO - Chain [1] done processing\n",
      "19:47:04 - cmdstanpy - INFO - Chain [1] done processing\n",
      "19:47:04 - cmdstanpy - INFO - Chain [1] done processing\n",
      "19:47:04 - cmdstanpy - ERROR - Chain [1] error: error during processing Operation not permitted\n",
      "Optimization terminated abnormally. Falling back to Newton.\n",
      "19:47:05 - cmdstanpy - INFO - Chain [1] start processing\n",
      "19:47:16 - cmdstanpy - INFO - Chain [1] done processing\n",
      "19:47:23 - cmdstanpy - INFO - Chain [1] done processing\n",
      "19:47:43 - cmdstanpy - INFO - Chain [1] done processing\n"
     ]
    },
    {
     "name": "stdout",
     "output_type": "stream",
     "text": [
      "{'changepoint_prior_scale': 0.001, 'holidays_prior_scale': 2.51, 'seasonality_mode': 'multiplicative', 'seasonality_prior_scale': 0.01}\n"
     ]
    },
    {
     "name": "stderr",
     "output_type": "stream",
     "text": [
      "19:47:44 - cmdstanpy - INFO - Chain [1] start processing\n",
      "19:47:45 - cmdstanpy - INFO - Chain [1] done processing\n",
      "19:47:46 - cmdstanpy - INFO - Chain [1] start processing\n",
      "19:47:46 - cmdstanpy - INFO - Chain [1] start processing\n",
      "19:47:47 - cmdstanpy - INFO - Chain [1] start processing\n",
      "19:47:47 - cmdstanpy - INFO - Chain [1] done processing\n",
      "19:47:47 - cmdstanpy - INFO - Chain [1] start processing\n",
      "19:47:47 - cmdstanpy - INFO - Chain [1] done processing\n",
      "19:47:47 - cmdstanpy - INFO - Chain [1] start processing\n",
      "19:47:47 - cmdstanpy - INFO - Chain [1] done processing\n",
      "19:47:47 - cmdstanpy - ERROR - Chain [1] error: error during processing Operation not permitted\n",
      "Optimization terminated abnormally. Falling back to Newton.\n",
      "19:47:48 - cmdstanpy - INFO - Chain [1] start processing\n",
      "19:47:48 - cmdstanpy - INFO - Chain [1] done processing\n",
      "19:47:48 - cmdstanpy - ERROR - Chain [1] error: error during processing Operation not permitted\n",
      "Optimization terminated abnormally. Falling back to Newton.\n",
      "19:47:48 - cmdstanpy - INFO - Chain [1] done processing\n",
      "19:47:49 - cmdstanpy - INFO - Chain [1] start processing\n",
      "19:49:31 - cmdstanpy - INFO - Chain [1] done processing\n",
      "19:50:30 - cmdstanpy - INFO - Chain [1] done processing\n"
     ]
    },
    {
     "name": "stdout",
     "output_type": "stream",
     "text": [
      "{'changepoint_prior_scale': 0.001, 'holidays_prior_scale': 2.51, 'seasonality_mode': 'multiplicative', 'seasonality_prior_scale': 2.51}\n"
     ]
    },
    {
     "name": "stderr",
     "output_type": "stream",
     "text": [
      "19:50:31 - cmdstanpy - INFO - Chain [1] start processing\n",
      "19:50:32 - cmdstanpy - INFO - Chain [1] done processing\n",
      "19:50:33 - cmdstanpy - INFO - Chain [1] start processing\n",
      "19:50:33 - cmdstanpy - INFO - Chain [1] start processing\n",
      "19:50:33 - cmdstanpy - INFO - Chain [1] done processing\n",
      "19:50:33 - cmdstanpy - INFO - Chain [1] start processing\n",
      "19:50:34 - cmdstanpy - INFO - Chain [1] start processing\n",
      "19:50:34 - cmdstanpy - INFO - Chain [1] done processing\n",
      "19:50:34 - cmdstanpy - INFO - Chain [1] start processing\n",
      "19:50:35 - cmdstanpy - INFO - Chain [1] done processing\n",
      "19:50:35 - cmdstanpy - INFO - Chain [1] done processing\n",
      "19:50:35 - cmdstanpy - ERROR - Chain [1] error: error during processing Operation not permitted\n",
      "Optimization terminated abnormally. Falling back to Newton.\n",
      "19:50:35 - cmdstanpy - INFO - Chain [1] done processing\n",
      "19:50:35 - cmdstanpy - INFO - Chain [1] start processing\n",
      "19:50:59 - cmdstanpy - INFO - Chain [1] done processing\n"
     ]
    },
    {
     "name": "stdout",
     "output_type": "stream",
     "text": [
      "{'changepoint_prior_scale': 0.001, 'holidays_prior_scale': 2.51, 'seasonality_mode': 'multiplicative', 'seasonality_prior_scale': 5.01}\n"
     ]
    },
    {
     "name": "stderr",
     "output_type": "stream",
     "text": [
      "19:51:01 - cmdstanpy - INFO - Chain [1] start processing\n",
      "19:51:01 - cmdstanpy - INFO - Chain [1] done processing\n",
      "19:51:03 - cmdstanpy - INFO - Chain [1] start processing\n",
      "19:51:03 - cmdstanpy - INFO - Chain [1] start processing\n",
      "19:51:03 - cmdstanpy - INFO - Chain [1] start processing\n",
      "19:51:03 - cmdstanpy - INFO - Chain [1] start processing\n",
      "19:51:04 - cmdstanpy - INFO - Chain [1] done processing\n",
      "19:51:04 - cmdstanpy - ERROR - Chain [1] error: error during processing Operation not permitted\n",
      "Optimization terminated abnormally. Falling back to Newton.\n",
      "19:51:04 - cmdstanpy - INFO - Chain [1] start processing\n",
      "19:51:04 - cmdstanpy - INFO - Chain [1] done processing\n",
      "19:51:04 - cmdstanpy - INFO - Chain [1] done processing\n",
      "19:51:04 - cmdstanpy - INFO - Chain [1] start processing\n",
      "19:51:05 - cmdstanpy - INFO - Chain [1] done processing\n",
      "19:51:05 - cmdstanpy - INFO - Chain [1] done processing\n",
      "19:51:16 - cmdstanpy - INFO - Chain [1] done processing\n"
     ]
    },
    {
     "name": "stdout",
     "output_type": "stream",
     "text": [
      "{'changepoint_prior_scale': 0.001, 'holidays_prior_scale': 2.51, 'seasonality_mode': 'multiplicative', 'seasonality_prior_scale': 7.51}\n"
     ]
    },
    {
     "name": "stderr",
     "output_type": "stream",
     "text": [
      "19:51:17 - cmdstanpy - INFO - Chain [1] start processing\n",
      "19:51:18 - cmdstanpy - INFO - Chain [1] done processing\n",
      "19:51:20 - cmdstanpy - INFO - Chain [1] start processing\n",
      "19:51:20 - cmdstanpy - INFO - Chain [1] start processing\n",
      "19:51:20 - cmdstanpy - INFO - Chain [1] start processing\n",
      "19:51:20 - cmdstanpy - INFO - Chain [1] done processing\n",
      "19:51:20 - cmdstanpy - INFO - Chain [1] start processing\n",
      "19:51:20 - cmdstanpy - INFO - Chain [1] start processing\n",
      "19:51:20 - cmdstanpy - INFO - Chain [1] done processing\n",
      "19:51:20 - cmdstanpy - ERROR - Chain [1] error: error during processing Operation not permitted\n",
      "Optimization terminated abnormally. Falling back to Newton.\n",
      "19:51:21 - cmdstanpy - INFO - Chain [1] done processing\n",
      "19:51:21 - cmdstanpy - INFO - Chain [1] start processing\n",
      "19:51:22 - cmdstanpy - INFO - Chain [1] done processing\n",
      "19:51:22 - cmdstanpy - INFO - Chain [1] done processing\n",
      "19:51:22 - cmdstanpy - ERROR - Chain [1] error: error during processing Operation not permitted\n",
      "Optimization terminated abnormally. Falling back to Newton.\n",
      "19:51:22 - cmdstanpy - INFO - Chain [1] start processing\n",
      "19:51:41 - cmdstanpy - INFO - Chain [1] done processing\n",
      "19:51:56 - cmdstanpy - INFO - Chain [1] done processing\n"
     ]
    },
    {
     "name": "stdout",
     "output_type": "stream",
     "text": [
      "{'changepoint_prior_scale': 0.001, 'holidays_prior_scale': 2.51, 'seasonality_mode': 'additive', 'seasonality_prior_scale': 0.01}\n"
     ]
    },
    {
     "name": "stderr",
     "output_type": "stream",
     "text": [
      "19:51:57 - cmdstanpy - INFO - Chain [1] start processing\n",
      "19:51:57 - cmdstanpy - INFO - Chain [1] done processing\n",
      "19:51:59 - cmdstanpy - INFO - Chain [1] start processing\n",
      "19:51:59 - cmdstanpy - INFO - Chain [1] start processing\n",
      "19:51:59 - cmdstanpy - INFO - Chain [1] done processing\n",
      "19:51:59 - cmdstanpy - ERROR - Chain [1] error: error during processing Operation not permitted\n",
      "Optimization terminated abnormally. Falling back to Newton.\n",
      "19:51:59 - cmdstanpy - INFO - Chain [1] start processing\n",
      "19:51:59 - cmdstanpy - INFO - Chain [1] done processing\n",
      "19:52:00 - cmdstanpy - INFO - Chain [1] start processing\n",
      "19:52:00 - cmdstanpy - INFO - Chain [1] start processing\n",
      "19:52:00 - cmdstanpy - INFO - Chain [1] done processing\n",
      "19:52:00 - cmdstanpy - INFO - Chain [1] start processing\n",
      "19:52:00 - cmdstanpy - INFO - Chain [1] done processing\n",
      "19:52:01 - cmdstanpy - INFO - Chain [1] done processing\n",
      "19:52:07 - cmdstanpy - INFO - Chain [1] done processing\n"
     ]
    },
    {
     "name": "stdout",
     "output_type": "stream",
     "text": [
      "{'changepoint_prior_scale': 0.001, 'holidays_prior_scale': 2.51, 'seasonality_mode': 'additive', 'seasonality_prior_scale': 2.51}\n"
     ]
    },
    {
     "name": "stderr",
     "output_type": "stream",
     "text": [
      "19:52:08 - cmdstanpy - INFO - Chain [1] start processing\n",
      "19:52:09 - cmdstanpy - INFO - Chain [1] done processing\n",
      "19:52:10 - cmdstanpy - INFO - Chain [1] start processing\n",
      "19:52:10 - cmdstanpy - INFO - Chain [1] start processing\n",
      "19:52:10 - cmdstanpy - INFO - Chain [1] done processing\n",
      "19:52:10 - cmdstanpy - ERROR - Chain [1] error: error during processing Operation not permitted\n",
      "Optimization terminated abnormally. Falling back to Newton.\n",
      "19:52:10 - cmdstanpy - INFO - Chain [1] start processing\n",
      "19:52:11 - cmdstanpy - INFO - Chain [1] start processing\n",
      "19:52:11 - cmdstanpy - INFO - Chain [1] start processing\n",
      "19:52:11 - cmdstanpy - INFO - Chain [1] start processing\n",
      "19:52:11 - cmdstanpy - INFO - Chain [1] done processing\n",
      "19:52:11 - cmdstanpy - ERROR - Chain [1] error: error during processing Operation not permitted\n",
      "Optimization terminated abnormally. Falling back to Newton.\n",
      "19:52:11 - cmdstanpy - INFO - Chain [1] done processing\n",
      "19:52:11 - cmdstanpy - INFO - Chain [1] start processing\n",
      "19:52:12 - cmdstanpy - INFO - Chain [1] done processing\n",
      "19:52:12 - cmdstanpy - ERROR - Chain [1] error: error during processing Operation not permitted\n",
      "Optimization terminated abnormally. Falling back to Newton.\n",
      "19:52:12 - cmdstanpy - INFO - Chain [1] start processing\n",
      "19:52:13 - cmdstanpy - INFO - Chain [1] done processing\n",
      "19:52:13 - cmdstanpy - ERROR - Chain [1] error: error during processing Operation not permitted\n",
      "Optimization terminated abnormally. Falling back to Newton.\n",
      "19:52:13 - cmdstanpy - INFO - Chain [1] start processing\n",
      "19:52:25 - cmdstanpy - INFO - Chain [1] done processing\n",
      "19:52:36 - cmdstanpy - INFO - Chain [1] done processing\n",
      "19:52:45 - cmdstanpy - INFO - Chain [1] done processing\n",
      "19:52:51 - cmdstanpy - INFO - Chain [1] done processing\n"
     ]
    },
    {
     "name": "stdout",
     "output_type": "stream",
     "text": [
      "{'changepoint_prior_scale': 0.001, 'holidays_prior_scale': 2.51, 'seasonality_mode': 'additive', 'seasonality_prior_scale': 5.01}\n"
     ]
    },
    {
     "name": "stderr",
     "output_type": "stream",
     "text": [
      "19:52:52 - cmdstanpy - INFO - Chain [1] start processing\n",
      "19:52:52 - cmdstanpy - INFO - Chain [1] done processing\n",
      "19:52:54 - cmdstanpy - INFO - Chain [1] start processing\n",
      "19:52:54 - cmdstanpy - INFO - Chain [1] done processing\n",
      "19:52:54 - cmdstanpy - ERROR - Chain [1] error: error during processing Operation not permitted\n",
      "Optimization terminated abnormally. Falling back to Newton.\n",
      "19:52:54 - cmdstanpy - INFO - Chain [1] start processing\n",
      "19:52:54 - cmdstanpy - INFO - Chain [1] start processing\n",
      "19:52:54 - cmdstanpy - INFO - Chain [1] start processing\n",
      "19:52:54 - cmdstanpy - INFO - Chain [1] start processing\n",
      "19:52:54 - cmdstanpy - INFO - Chain [1] start processing\n",
      "19:52:54 - cmdstanpy - INFO - Chain [1] done processing\n",
      "19:52:54 - cmdstanpy - ERROR - Chain [1] error: error during processing Operation not permitted\n",
      "Optimization terminated abnormally. Falling back to Newton.\n",
      "19:52:55 - cmdstanpy - INFO - Chain [1] start processing\n",
      "19:52:55 - cmdstanpy - INFO - Chain [1] done processing\n",
      "19:52:56 - cmdstanpy - INFO - Chain [1] done processing\n",
      "19:52:56 - cmdstanpy - ERROR - Chain [1] error: error during processing Operation not permitted\n",
      "Optimization terminated abnormally. Falling back to Newton.\n",
      "19:52:56 - cmdstanpy - INFO - Chain [1] done processing\n",
      "19:52:56 - cmdstanpy - ERROR - Chain [1] error: error during processing Operation not permitted\n",
      "Optimization terminated abnormally. Falling back to Newton.\n",
      "19:52:57 - cmdstanpy - INFO - Chain [1] start processing\n",
      "19:52:57 - cmdstanpy - INFO - Chain [1] start processing\n",
      "19:53:07 - cmdstanpy - INFO - Chain [1] done processing\n",
      "19:53:14 - cmdstanpy - INFO - Chain [1] done processing\n",
      "19:53:27 - cmdstanpy - INFO - Chain [1] done processing\n",
      "19:53:34 - cmdstanpy - INFO - Chain [1] done processing\n"
     ]
    },
    {
     "name": "stdout",
     "output_type": "stream",
     "text": [
      "{'changepoint_prior_scale': 0.001, 'holidays_prior_scale': 2.51, 'seasonality_mode': 'additive', 'seasonality_prior_scale': 7.51}\n"
     ]
    },
    {
     "name": "stderr",
     "output_type": "stream",
     "text": [
      "19:53:35 - cmdstanpy - INFO - Chain [1] start processing\n",
      "19:53:36 - cmdstanpy - INFO - Chain [1] done processing\n",
      "19:53:37 - cmdstanpy - INFO - Chain [1] start processing\n",
      "19:53:37 - cmdstanpy - INFO - Chain [1] done processing\n",
      "19:53:37 - cmdstanpy - ERROR - Chain [1] error: error during processing Operation not permitted\n",
      "Optimization terminated abnormally. Falling back to Newton.\n",
      "19:53:37 - cmdstanpy - INFO - Chain [1] start processing\n",
      "19:53:38 - cmdstanpy - INFO - Chain [1] start processing\n",
      "19:53:38 - cmdstanpy - INFO - Chain [1] start processing\n",
      "19:53:38 - cmdstanpy - INFO - Chain [1] start processing\n",
      "19:53:38 - cmdstanpy - INFO - Chain [1] start processing\n",
      "19:53:38 - cmdstanpy - INFO - Chain [1] done processing\n",
      "19:53:38 - cmdstanpy - ERROR - Chain [1] error: error during processing Operation not permitted\n",
      "Optimization terminated abnormally. Falling back to Newton.\n",
      "19:53:38 - cmdstanpy - INFO - Chain [1] start processing\n",
      "19:53:38 - cmdstanpy - INFO - Chain [1] done processing\n",
      "19:53:39 - cmdstanpy - INFO - Chain [1] done processing\n",
      "19:53:39 - cmdstanpy - ERROR - Chain [1] error: error during processing Operation not permitted\n",
      "Optimization terminated abnormally. Falling back to Newton.\n",
      "19:53:40 - cmdstanpy - INFO - Chain [1] done processing\n",
      "19:53:40 - cmdstanpy - ERROR - Chain [1] error: error during processing Operation not permitted\n",
      "Optimization terminated abnormally. Falling back to Newton.\n",
      "19:53:40 - cmdstanpy - INFO - Chain [1] start processing\n",
      "19:53:40 - cmdstanpy - INFO - Chain [1] start processing\n",
      "19:53:49 - cmdstanpy - INFO - Chain [1] done processing\n",
      "19:53:59 - cmdstanpy - INFO - Chain [1] done processing\n",
      "19:54:07 - cmdstanpy - INFO - Chain [1] done processing\n",
      "19:54:16 - cmdstanpy - INFO - Chain [1] done processing\n"
     ]
    },
    {
     "name": "stdout",
     "output_type": "stream",
     "text": [
      "{'changepoint_prior_scale': 0.001, 'holidays_prior_scale': 5.01, 'seasonality_mode': 'multiplicative', 'seasonality_prior_scale': 0.01}\n"
     ]
    },
    {
     "name": "stderr",
     "output_type": "stream",
     "text": [
      "19:54:17 - cmdstanpy - INFO - Chain [1] start processing\n",
      "19:54:17 - cmdstanpy - INFO - Chain [1] done processing\n",
      "19:54:19 - cmdstanpy - INFO - Chain [1] start processing\n",
      "19:54:19 - cmdstanpy - INFO - Chain [1] start processing\n",
      "19:54:19 - cmdstanpy - INFO - Chain [1] start processing\n",
      "19:54:19 - cmdstanpy - INFO - Chain [1] done processing\n",
      "19:54:19 - cmdstanpy - INFO - Chain [1] start processing\n",
      "19:54:19 - cmdstanpy - INFO - Chain [1] start processing\n",
      "19:54:19 - cmdstanpy - INFO - Chain [1] done processing\n",
      "19:54:20 - cmdstanpy - INFO - Chain [1] done processing\n",
      "19:54:20 - cmdstanpy - ERROR - Chain [1] error: error during processing Operation not permitted\n",
      "Optimization terminated abnormally. Falling back to Newton.\n",
      "19:54:20 - cmdstanpy - INFO - Chain [1] start processing\n",
      "19:54:21 - cmdstanpy - INFO - Chain [1] done processing\n",
      "19:54:21 - cmdstanpy - ERROR - Chain [1] error: error during processing Operation not permitted\n",
      "Optimization terminated abnormally. Falling back to Newton.\n",
      "19:54:21 - cmdstanpy - INFO - Chain [1] start processing\n",
      "19:54:21 - cmdstanpy - INFO - Chain [1] done processing\n",
      "19:56:22 - cmdstanpy - INFO - Chain [1] done processing\n",
      "20:00:05 - cmdstanpy - INFO - Chain [1] done processing\n"
     ]
    },
    {
     "name": "stdout",
     "output_type": "stream",
     "text": [
      "{'changepoint_prior_scale': 0.001, 'holidays_prior_scale': 5.01, 'seasonality_mode': 'multiplicative', 'seasonality_prior_scale': 2.51}\n"
     ]
    },
    {
     "name": "stderr",
     "output_type": "stream",
     "text": [
      "20:00:06 - cmdstanpy - INFO - Chain [1] start processing\n",
      "20:00:06 - cmdstanpy - INFO - Chain [1] done processing\n",
      "20:00:08 - cmdstanpy - INFO - Chain [1] start processing\n",
      "20:00:08 - cmdstanpy - INFO - Chain [1] start processing\n",
      "20:00:08 - cmdstanpy - INFO - Chain [1] done processing\n",
      "20:00:08 - cmdstanpy - INFO - Chain [1] start processing\n",
      "20:00:08 - cmdstanpy - INFO - Chain [1] start processing\n",
      "20:00:08 - cmdstanpy - INFO - Chain [1] start processing\n",
      "20:00:08 - cmdstanpy - INFO - Chain [1] done processing\n",
      "20:00:09 - cmdstanpy - INFO - Chain [1] done processing\n",
      "20:00:09 - cmdstanpy - ERROR - Chain [1] error: error during processing Operation not permitted\n",
      "Optimization terminated abnormally. Falling back to Newton.\n",
      "20:00:09 - cmdstanpy - INFO - Chain [1] done processing\n",
      "20:00:09 - cmdstanpy - INFO - Chain [1] done processing\n",
      "20:00:09 - cmdstanpy - ERROR - Chain [1] error: error during processing Operation not permitted\n",
      "Optimization terminated abnormally. Falling back to Newton.\n",
      "20:00:09 - cmdstanpy - INFO - Chain [1] start processing\n",
      "20:00:10 - cmdstanpy - INFO - Chain [1] start processing\n",
      "20:00:30 - cmdstanpy - INFO - Chain [1] done processing\n",
      "20:00:44 - cmdstanpy - INFO - Chain [1] done processing\n"
     ]
    },
    {
     "name": "stdout",
     "output_type": "stream",
     "text": [
      "{'changepoint_prior_scale': 0.001, 'holidays_prior_scale': 5.01, 'seasonality_mode': 'multiplicative', 'seasonality_prior_scale': 5.01}\n"
     ]
    },
    {
     "name": "stderr",
     "output_type": "stream",
     "text": [
      "20:00:45 - cmdstanpy - INFO - Chain [1] start processing\n",
      "20:00:45 - cmdstanpy - INFO - Chain [1] done processing\n",
      "20:00:46 - cmdstanpy - INFO - Chain [1] start processing\n",
      "20:00:47 - cmdstanpy - INFO - Chain [1] start processing\n",
      "20:00:47 - cmdstanpy - INFO - Chain [1] start processing\n",
      "20:00:47 - cmdstanpy - INFO - Chain [1] done processing\n",
      "20:00:47 - cmdstanpy - INFO - Chain [1] start processing\n",
      "20:00:47 - cmdstanpy - INFO - Chain [1] start processing\n",
      "20:00:47 - cmdstanpy - INFO - Chain [1] done processing\n",
      "20:00:48 - cmdstanpy - INFO - Chain [1] done processing\n",
      "20:00:48 - cmdstanpy - ERROR - Chain [1] error: error during processing Operation not permitted\n",
      "Optimization terminated abnormally. Falling back to Newton.\n",
      "20:00:48 - cmdstanpy - INFO - Chain [1] done processing\n",
      "20:00:48 - cmdstanpy - ERROR - Chain [1] error: error during processing Operation not permitted\n",
      "Optimization terminated abnormally. Falling back to Newton.\n",
      "20:00:48 - cmdstanpy - INFO - Chain [1] start processing\n",
      "20:00:48 - cmdstanpy - INFO - Chain [1] done processing\n",
      "20:00:49 - cmdstanpy - INFO - Chain [1] start processing\n",
      "20:01:09 - cmdstanpy - INFO - Chain [1] done processing\n",
      "20:01:23 - cmdstanpy - INFO - Chain [1] done processing\n"
     ]
    },
    {
     "name": "stdout",
     "output_type": "stream",
     "text": [
      "{'changepoint_prior_scale': 0.001, 'holidays_prior_scale': 5.01, 'seasonality_mode': 'multiplicative', 'seasonality_prior_scale': 7.51}\n"
     ]
    },
    {
     "name": "stderr",
     "output_type": "stream",
     "text": [
      "20:01:24 - cmdstanpy - INFO - Chain [1] start processing\n",
      "20:01:25 - cmdstanpy - INFO - Chain [1] done processing\n",
      "20:01:26 - cmdstanpy - INFO - Chain [1] start processing\n",
      "20:01:27 - cmdstanpy - INFO - Chain [1] start processing\n",
      "20:01:27 - cmdstanpy - INFO - Chain [1] start processing\n",
      "20:01:27 - cmdstanpy - INFO - Chain [1] done processing\n",
      "20:01:27 - cmdstanpy - INFO - Chain [1] start processing\n",
      "20:01:27 - cmdstanpy - INFO - Chain [1] start processing\n",
      "20:01:27 - cmdstanpy - INFO - Chain [1] done processing\n",
      "20:01:28 - cmdstanpy - INFO - Chain [1] done processing\n",
      "20:01:28 - cmdstanpy - ERROR - Chain [1] error: error during processing Operation not permitted\n",
      "Optimization terminated abnormally. Falling back to Newton.\n",
      "20:01:28 - cmdstanpy - INFO - Chain [1] done processing\n",
      "20:01:28 - cmdstanpy - INFO - Chain [1] done processing\n",
      "20:01:28 - cmdstanpy - ERROR - Chain [1] error: error during processing Operation not permitted\n",
      "Optimization terminated abnormally. Falling back to Newton.\n",
      "20:01:28 - cmdstanpy - INFO - Chain [1] start processing\n",
      "20:01:29 - cmdstanpy - INFO - Chain [1] start processing\n",
      "20:02:00 - cmdstanpy - INFO - Chain [1] done processing\n",
      "20:02:05 - cmdstanpy - INFO - Chain [1] done processing\n"
     ]
    },
    {
     "name": "stdout",
     "output_type": "stream",
     "text": [
      "{'changepoint_prior_scale': 0.001, 'holidays_prior_scale': 5.01, 'seasonality_mode': 'additive', 'seasonality_prior_scale': 0.01}\n"
     ]
    },
    {
     "name": "stderr",
     "output_type": "stream",
     "text": [
      "20:02:06 - cmdstanpy - INFO - Chain [1] start processing\n",
      "20:02:07 - cmdstanpy - INFO - Chain [1] done processing\n",
      "20:02:08 - cmdstanpy - INFO - Chain [1] start processing\n",
      "20:02:08 - cmdstanpy - INFO - Chain [1] done processing\n",
      "20:02:08 - cmdstanpy - INFO - Chain [1] start processing\n",
      "20:02:09 - cmdstanpy - INFO - Chain [1] start processing\n",
      "20:02:09 - cmdstanpy - INFO - Chain [1] start processing\n",
      "20:02:09 - cmdstanpy - INFO - Chain [1] start processing\n",
      "20:02:09 - cmdstanpy - INFO - Chain [1] done processing\n",
      "20:02:09 - cmdstanpy - INFO - Chain [1] done processing\n",
      "20:02:10 - cmdstanpy - INFO - Chain [1] done processing\n",
      "20:02:10 - cmdstanpy - ERROR - Chain [1] error: error during processing Operation not permitted\n",
      "Optimization terminated abnormally. Falling back to Newton.\n",
      "20:02:10 - cmdstanpy - INFO - Chain [1] done processing\n",
      "20:02:10 - cmdstanpy - INFO - Chain [1] start processing\n",
      "20:02:26 - cmdstanpy - INFO - Chain [1] done processing\n"
     ]
    },
    {
     "name": "stdout",
     "output_type": "stream",
     "text": [
      "{'changepoint_prior_scale': 0.001, 'holidays_prior_scale': 5.01, 'seasonality_mode': 'additive', 'seasonality_prior_scale': 2.51}\n"
     ]
    },
    {
     "name": "stderr",
     "output_type": "stream",
     "text": [
      "20:02:27 - cmdstanpy - INFO - Chain [1] start processing\n",
      "20:02:28 - cmdstanpy - INFO - Chain [1] done processing\n",
      "20:02:29 - cmdstanpy - INFO - Chain [1] start processing\n",
      "20:02:29 - cmdstanpy - INFO - Chain [1] done processing\n",
      "20:02:29 - cmdstanpy - ERROR - Chain [1] error: error during processing Operation not permitted\n",
      "Optimization terminated abnormally. Falling back to Newton.\n",
      "20:02:29 - cmdstanpy - INFO - Chain [1] start processing\n",
      "20:02:29 - cmdstanpy - INFO - Chain [1] start processing\n",
      "20:02:29 - cmdstanpy - INFO - Chain [1] start processing\n",
      "20:02:29 - cmdstanpy - INFO - Chain [1] start processing\n",
      "20:02:30 - cmdstanpy - INFO - Chain [1] start processing\n",
      "20:02:30 - cmdstanpy - INFO - Chain [1] done processing\n",
      "20:02:30 - cmdstanpy - ERROR - Chain [1] error: error during processing Operation not permitted\n",
      "Optimization terminated abnormally. Falling back to Newton.\n",
      "20:02:30 - cmdstanpy - INFO - Chain [1] start processing\n",
      "20:02:30 - cmdstanpy - INFO - Chain [1] done processing\n",
      "20:02:31 - cmdstanpy - INFO - Chain [1] done processing\n",
      "20:02:31 - cmdstanpy - ERROR - Chain [1] error: error during processing Operation not permitted\n",
      "Optimization terminated abnormally. Falling back to Newton.\n",
      "20:02:32 - cmdstanpy - INFO - Chain [1] start processing\n",
      "20:02:32 - cmdstanpy - INFO - Chain [1] done processing\n",
      "20:02:32 - cmdstanpy - ERROR - Chain [1] error: error during processing Operation not permitted\n",
      "Optimization terminated abnormally. Falling back to Newton.\n",
      "20:02:33 - cmdstanpy - INFO - Chain [1] start processing\n",
      "20:02:49 - cmdstanpy - INFO - Chain [1] done processing\n",
      "20:02:55 - cmdstanpy - INFO - Chain [1] done processing\n",
      "20:03:00 - cmdstanpy - INFO - Chain [1] done processing\n",
      "20:03:12 - cmdstanpy - INFO - Chain [1] done processing\n"
     ]
    },
    {
     "name": "stdout",
     "output_type": "stream",
     "text": [
      "{'changepoint_prior_scale': 0.001, 'holidays_prior_scale': 5.01, 'seasonality_mode': 'additive', 'seasonality_prior_scale': 5.01}\n"
     ]
    },
    {
     "name": "stderr",
     "output_type": "stream",
     "text": [
      "20:03:13 - cmdstanpy - INFO - Chain [1] start processing\n",
      "20:03:14 - cmdstanpy - INFO - Chain [1] done processing\n",
      "20:03:15 - cmdstanpy - INFO - Chain [1] start processing\n",
      "20:03:15 - cmdstanpy - INFO - Chain [1] done processing\n",
      "20:03:15 - cmdstanpy - ERROR - Chain [1] error: error during processing Operation not permitted\n",
      "Optimization terminated abnormally. Falling back to Newton.\n",
      "20:03:15 - cmdstanpy - INFO - Chain [1] start processing\n",
      "20:03:15 - cmdstanpy - INFO - Chain [1] start processing\n",
      "20:03:16 - cmdstanpy - INFO - Chain [1] start processing\n",
      "20:03:16 - cmdstanpy - INFO - Chain [1] start processing\n",
      "20:03:16 - cmdstanpy - INFO - Chain [1] start processing\n",
      "20:03:17 - cmdstanpy - INFO - Chain [1] done processing\n",
      "20:03:17 - cmdstanpy - INFO - Chain [1] done processing\n",
      "20:03:17 - cmdstanpy - INFO - Chain [1] done processing\n",
      "20:03:17 - cmdstanpy - ERROR - Chain [1] error: error during processing Operation not permitted\n",
      "Optimization terminated abnormally. Falling back to Newton.\n",
      "20:03:18 - cmdstanpy - INFO - Chain [1] start processing\n",
      "20:03:19 - cmdstanpy - INFO - Chain [1] done processing\n",
      "20:03:19 - cmdstanpy - ERROR - Chain [1] error: error during processing Operation not permitted\n",
      "Optimization terminated abnormally. Falling back to Newton.\n",
      "20:03:20 - cmdstanpy - INFO - Chain [1] start processing\n",
      "20:03:27 - cmdstanpy - INFO - Chain [1] done processing\n",
      "20:03:39 - cmdstanpy - INFO - Chain [1] done processing\n",
      "20:03:59 - cmdstanpy - INFO - Chain [1] done processing\n"
     ]
    },
    {
     "name": "stdout",
     "output_type": "stream",
     "text": [
      "{'changepoint_prior_scale': 0.001, 'holidays_prior_scale': 5.01, 'seasonality_mode': 'additive', 'seasonality_prior_scale': 7.51}\n"
     ]
    },
    {
     "name": "stderr",
     "output_type": "stream",
     "text": [
      "20:04:00 - cmdstanpy - INFO - Chain [1] start processing\n",
      "20:04:01 - cmdstanpy - INFO - Chain [1] done processing\n",
      "20:04:02 - cmdstanpy - INFO - Chain [1] start processing\n",
      "20:04:02 - cmdstanpy - INFO - Chain [1] done processing\n",
      "20:04:02 - cmdstanpy - ERROR - Chain [1] error: error during processing Operation not permitted\n",
      "Optimization terminated abnormally. Falling back to Newton.\n",
      "20:04:02 - cmdstanpy - INFO - Chain [1] start processing\n",
      "20:04:02 - cmdstanpy - INFO - Chain [1] start processing\n",
      "20:04:03 - cmdstanpy - INFO - Chain [1] start processing\n",
      "20:04:03 - cmdstanpy - INFO - Chain [1] start processing\n",
      "20:04:03 - cmdstanpy - INFO - Chain [1] start processing\n",
      "20:04:03 - cmdstanpy - INFO - Chain [1] done processing\n",
      "20:04:03 - cmdstanpy - ERROR - Chain [1] error: error during processing Operation not permitted\n",
      "Optimization terminated abnormally. Falling back to Newton.\n",
      "20:04:03 - cmdstanpy - INFO - Chain [1] start processing\n",
      "20:04:03 - cmdstanpy - INFO - Chain [1] done processing\n",
      "20:04:04 - cmdstanpy - INFO - Chain [1] done processing\n",
      "20:04:04 - cmdstanpy - ERROR - Chain [1] error: error during processing Operation not permitted\n",
      "Optimization terminated abnormally. Falling back to Newton.\n",
      "20:04:05 - cmdstanpy - INFO - Chain [1] start processing\n",
      "20:04:05 - cmdstanpy - INFO - Chain [1] done processing\n",
      "20:04:05 - cmdstanpy - ERROR - Chain [1] error: error during processing Operation not permitted\n",
      "Optimization terminated abnormally. Falling back to Newton.\n",
      "20:04:06 - cmdstanpy - INFO - Chain [1] start processing\n",
      "20:04:15 - cmdstanpy - INFO - Chain [1] done processing\n",
      "20:04:25 - cmdstanpy - INFO - Chain [1] done processing\n",
      "20:04:33 - cmdstanpy - INFO - Chain [1] done processing\n",
      "20:04:44 - cmdstanpy - INFO - Chain [1] done processing\n"
     ]
    },
    {
     "name": "stdout",
     "output_type": "stream",
     "text": [
      "{'changepoint_prior_scale': 0.001, 'holidays_prior_scale': 7.51, 'seasonality_mode': 'multiplicative', 'seasonality_prior_scale': 0.01}\n"
     ]
    },
    {
     "name": "stderr",
     "output_type": "stream",
     "text": [
      "20:04:45 - cmdstanpy - INFO - Chain [1] start processing\n",
      "20:04:46 - cmdstanpy - INFO - Chain [1] done processing\n",
      "20:04:47 - cmdstanpy - INFO - Chain [1] start processing\n",
      "20:04:47 - cmdstanpy - INFO - Chain [1] start processing\n",
      "20:04:47 - cmdstanpy - INFO - Chain [1] done processing\n",
      "20:04:48 - cmdstanpy - INFO - Chain [1] start processing\n",
      "20:04:48 - cmdstanpy - INFO - Chain [1] start processing\n",
      "20:04:48 - cmdstanpy - INFO - Chain [1] start processing\n",
      "20:04:48 - cmdstanpy - INFO - Chain [1] done processing\n",
      "20:04:49 - cmdstanpy - INFO - Chain [1] done processing\n",
      "20:04:49 - cmdstanpy - ERROR - Chain [1] error: error during processing Operation not permitted\n",
      "Optimization terminated abnormally. Falling back to Newton.\n",
      "20:04:49 - cmdstanpy - INFO - Chain [1] start processing\n",
      "20:04:49 - cmdstanpy - INFO - Chain [1] done processing\n",
      "20:04:50 - cmdstanpy - INFO - Chain [1] done processing\n",
      "20:04:50 - cmdstanpy - ERROR - Chain [1] error: error during processing Operation not permitted\n",
      "Optimization terminated abnormally. Falling back to Newton.\n",
      "20:04:50 - cmdstanpy - INFO - Chain [1] start processing\n",
      "20:06:43 - cmdstanpy - INFO - Chain [1] done processing\n",
      "20:07:27 - cmdstanpy - INFO - Chain [1] done processing\n"
     ]
    },
    {
     "name": "stdout",
     "output_type": "stream",
     "text": [
      "{'changepoint_prior_scale': 0.001, 'holidays_prior_scale': 7.51, 'seasonality_mode': 'multiplicative', 'seasonality_prior_scale': 2.51}\n"
     ]
    },
    {
     "name": "stderr",
     "output_type": "stream",
     "text": [
      "20:07:28 - cmdstanpy - INFO - Chain [1] start processing\n",
      "20:07:28 - cmdstanpy - INFO - Chain [1] done processing\n",
      "20:07:30 - cmdstanpy - INFO - Chain [1] start processing\n",
      "20:07:30 - cmdstanpy - INFO - Chain [1] start processing\n",
      "20:07:30 - cmdstanpy - INFO - Chain [1] start processing\n",
      "20:07:30 - cmdstanpy - INFO - Chain [1] done processing\n",
      "20:07:30 - cmdstanpy - INFO - Chain [1] start processing\n",
      "20:07:30 - cmdstanpy - INFO - Chain [1] done processing\n",
      "20:07:31 - cmdstanpy - INFO - Chain [1] start processing\n",
      "20:07:31 - cmdstanpy - INFO - Chain [1] done processing\n",
      "20:07:31 - cmdstanpy - ERROR - Chain [1] error: error during processing Operation not permitted\n",
      "Optimization terminated abnormally. Falling back to Newton.\n",
      "20:07:31 - cmdstanpy - INFO - Chain [1] done processing\n",
      "20:07:31 - cmdstanpy - ERROR - Chain [1] error: error during processing Operation not permitted\n",
      "Optimization terminated abnormally. Falling back to Newton.\n",
      "20:07:31 - cmdstanpy - INFO - Chain [1] done processing\n",
      "20:07:32 - cmdstanpy - INFO - Chain [1] start processing\n",
      "20:07:32 - cmdstanpy - INFO - Chain [1] start processing\n",
      "20:07:57 - cmdstanpy - INFO - Chain [1] done processing\n",
      "20:08:08 - cmdstanpy - INFO - Chain [1] done processing\n"
     ]
    },
    {
     "name": "stdout",
     "output_type": "stream",
     "text": [
      "{'changepoint_prior_scale': 0.001, 'holidays_prior_scale': 7.51, 'seasonality_mode': 'multiplicative', 'seasonality_prior_scale': 5.01}\n"
     ]
    },
    {
     "name": "stderr",
     "output_type": "stream",
     "text": [
      "20:08:09 - cmdstanpy - INFO - Chain [1] start processing\n",
      "20:08:11 - cmdstanpy - INFO - Chain [1] done processing\n",
      "20:08:12 - cmdstanpy - INFO - Chain [1] start processing\n",
      "20:08:12 - cmdstanpy - INFO - Chain [1] start processing\n",
      "20:08:12 - cmdstanpy - INFO - Chain [1] start processing\n",
      "20:08:12 - cmdstanpy - INFO - Chain [1] done processing\n",
      "20:08:12 - cmdstanpy - INFO - Chain [1] done processing\n",
      "20:08:12 - cmdstanpy - INFO - Chain [1] start processing\n",
      "20:08:13 - cmdstanpy - INFO - Chain [1] start processing\n",
      "20:08:13 - cmdstanpy - INFO - Chain [1] done processing\n",
      "20:08:13 - cmdstanpy - ERROR - Chain [1] error: error during processing Operation not permitted\n",
      "Optimization terminated abnormally. Falling back to Newton.\n",
      "20:08:14 - cmdstanpy - INFO - Chain [1] done processing\n",
      "20:08:14 - cmdstanpy - INFO - Chain [1] start processing\n",
      "20:08:14 - cmdstanpy - INFO - Chain [1] done processing\n",
      "20:08:14 - cmdstanpy - ERROR - Chain [1] error: error during processing Operation not permitted\n",
      "Optimization terminated abnormally. Falling back to Newton.\n",
      "20:08:14 - cmdstanpy - INFO - Chain [1] start processing\n",
      "20:08:42 - cmdstanpy - INFO - Chain [1] done processing\n",
      "20:08:49 - cmdstanpy - INFO - Chain [1] done processing\n"
     ]
    },
    {
     "name": "stdout",
     "output_type": "stream",
     "text": [
      "{'changepoint_prior_scale': 0.001, 'holidays_prior_scale': 7.51, 'seasonality_mode': 'multiplicative', 'seasonality_prior_scale': 7.51}\n"
     ]
    },
    {
     "name": "stderr",
     "output_type": "stream",
     "text": [
      "20:08:50 - cmdstanpy - INFO - Chain [1] start processing\n",
      "20:08:51 - cmdstanpy - INFO - Chain [1] done processing\n",
      "20:08:53 - cmdstanpy - INFO - Chain [1] start processing\n",
      "20:08:53 - cmdstanpy - INFO - Chain [1] start processing\n",
      "20:08:53 - cmdstanpy - INFO - Chain [1] start processing\n",
      "20:08:53 - cmdstanpy - INFO - Chain [1] done processing\n",
      "20:08:53 - cmdstanpy - INFO - Chain [1] start processing\n",
      "20:08:53 - cmdstanpy - INFO - Chain [1] done processing\n",
      "20:08:53 - cmdstanpy - INFO - Chain [1] start processing\n",
      "20:08:54 - cmdstanpy - INFO - Chain [1] done processing\n",
      "20:08:54 - cmdstanpy - ERROR - Chain [1] error: error during processing Operation not permitted\n",
      "Optimization terminated abnormally. Falling back to Newton.\n",
      "20:08:55 - cmdstanpy - INFO - Chain [1] done processing\n",
      "20:08:55 - cmdstanpy - ERROR - Chain [1] error: error during processing Operation not permitted\n",
      "Optimization terminated abnormally. Falling back to Newton.\n",
      "20:08:55 - cmdstanpy - INFO - Chain [1] start processing\n",
      "20:08:55 - cmdstanpy - INFO - Chain [1] done processing\n",
      "20:08:55 - cmdstanpy - INFO - Chain [1] start processing\n",
      "20:09:15 - cmdstanpy - INFO - Chain [1] done processing\n",
      "20:09:30 - cmdstanpy - INFO - Chain [1] done processing\n"
     ]
    },
    {
     "name": "stdout",
     "output_type": "stream",
     "text": [
      "{'changepoint_prior_scale': 0.001, 'holidays_prior_scale': 7.51, 'seasonality_mode': 'additive', 'seasonality_prior_scale': 0.01}\n"
     ]
    },
    {
     "name": "stderr",
     "output_type": "stream",
     "text": [
      "20:09:31 - cmdstanpy - INFO - Chain [1] start processing\n",
      "20:09:31 - cmdstanpy - INFO - Chain [1] done processing\n",
      "20:09:32 - cmdstanpy - INFO - Chain [1] start processing\n",
      "20:09:33 - cmdstanpy - INFO - Chain [1] done processing\n",
      "20:09:33 - cmdstanpy - ERROR - Chain [1] error: error during processing Operation not permitted\n",
      "Optimization terminated abnormally. Falling back to Newton.\n",
      "20:09:33 - cmdstanpy - INFO - Chain [1] start processing\n",
      "20:09:33 - cmdstanpy - INFO - Chain [1] start processing\n",
      "20:09:33 - cmdstanpy - INFO - Chain [1] start processing\n",
      "20:09:33 - cmdstanpy - INFO - Chain [1] start processing\n",
      "20:09:33 - cmdstanpy - INFO - Chain [1] start processing\n",
      "20:09:33 - cmdstanpy - INFO - Chain [1] done processing\n",
      "20:09:33 - cmdstanpy - ERROR - Chain [1] error: error during processing Operation not permitted\n",
      "Optimization terminated abnormally. Falling back to Newton.\n",
      "20:09:34 - cmdstanpy - INFO - Chain [1] start processing\n",
      "20:09:34 - cmdstanpy - INFO - Chain [1] done processing\n",
      "20:09:34 - cmdstanpy - INFO - Chain [1] done processing\n",
      "20:09:34 - cmdstanpy - ERROR - Chain [1] error: error during processing Operation not permitted\n",
      "Optimization terminated abnormally. Falling back to Newton.\n",
      "20:09:35 - cmdstanpy - INFO - Chain [1] start processing\n",
      "20:09:36 - cmdstanpy - INFO - Chain [1] done processing\n",
      "20:09:36 - cmdstanpy - ERROR - Chain [1] error: error during processing Operation not permitted\n",
      "Optimization terminated abnormally. Falling back to Newton.\n",
      "20:09:36 - cmdstanpy - INFO - Chain [1] start processing\n",
      "20:09:48 - cmdstanpy - INFO - Chain [1] done processing\n",
      "20:10:03 - cmdstanpy - INFO - Chain [1] done processing\n",
      "20:10:06 - cmdstanpy - INFO - Chain [1] done processing\n",
      "20:10:20 - cmdstanpy - INFO - Chain [1] done processing\n"
     ]
    },
    {
     "name": "stdout",
     "output_type": "stream",
     "text": [
      "{'changepoint_prior_scale': 0.001, 'holidays_prior_scale': 7.51, 'seasonality_mode': 'additive', 'seasonality_prior_scale': 2.51}\n"
     ]
    },
    {
     "name": "stderr",
     "output_type": "stream",
     "text": [
      "20:10:21 - cmdstanpy - INFO - Chain [1] start processing\n",
      "20:10:21 - cmdstanpy - INFO - Chain [1] done processing\n",
      "20:10:23 - cmdstanpy - INFO - Chain [1] start processing\n",
      "20:10:23 - cmdstanpy - INFO - Chain [1] done processing\n",
      "20:10:23 - cmdstanpy - ERROR - Chain [1] error: error during processing Operation not permitted\n",
      "Optimization terminated abnormally. Falling back to Newton.\n",
      "20:10:23 - cmdstanpy - INFO - Chain [1] start processing\n",
      "20:10:23 - cmdstanpy - INFO - Chain [1] start processing\n",
      "20:10:23 - cmdstanpy - INFO - Chain [1] start processing\n",
      "20:10:23 - cmdstanpy - INFO - Chain [1] start processing\n",
      "20:10:23 - cmdstanpy - INFO - Chain [1] start processing\n",
      "20:10:24 - cmdstanpy - INFO - Chain [1] done processing\n",
      "20:10:24 - cmdstanpy - ERROR - Chain [1] error: error during processing Operation not permitted\n",
      "Optimization terminated abnormally. Falling back to Newton.\n",
      "20:10:24 - cmdstanpy - INFO - Chain [1] start processing\n",
      "20:10:24 - cmdstanpy - INFO - Chain [1] done processing\n",
      "20:10:25 - cmdstanpy - INFO - Chain [1] done processing\n",
      "20:10:25 - cmdstanpy - ERROR - Chain [1] error: error during processing Operation not permitted\n",
      "Optimization terminated abnormally. Falling back to Newton.\n",
      "20:10:25 - cmdstanpy - INFO - Chain [1] done processing\n",
      "20:10:25 - cmdstanpy - INFO - Chain [1] start processing\n",
      "20:10:34 - cmdstanpy - INFO - Chain [1] done processing\n",
      "20:10:41 - cmdstanpy - INFO - Chain [1] done processing\n",
      "20:10:46 - cmdstanpy - INFO - Chain [1] done processing\n"
     ]
    },
    {
     "name": "stdout",
     "output_type": "stream",
     "text": [
      "{'changepoint_prior_scale': 0.001, 'holidays_prior_scale': 7.51, 'seasonality_mode': 'additive', 'seasonality_prior_scale': 5.01}\n"
     ]
    },
    {
     "name": "stderr",
     "output_type": "stream",
     "text": [
      "20:10:47 - cmdstanpy - INFO - Chain [1] start processing\n",
      "20:10:48 - cmdstanpy - INFO - Chain [1] done processing\n",
      "20:10:49 - cmdstanpy - INFO - Chain [1] start processing\n",
      "20:10:49 - cmdstanpy - INFO - Chain [1] start processing\n",
      "20:10:49 - cmdstanpy - INFO - Chain [1] start processing\n",
      "20:10:49 - cmdstanpy - INFO - Chain [1] done processing\n",
      "20:10:49 - cmdstanpy - ERROR - Chain [1] error: error during processing Operation not permitted\n",
      "Optimization terminated abnormally. Falling back to Newton.\n",
      "20:10:49 - cmdstanpy - INFO - Chain [1] start processing\n",
      "20:10:50 - cmdstanpy - INFO - Chain [1] start processing\n",
      "20:10:50 - cmdstanpy - INFO - Chain [1] start processing\n",
      "20:10:50 - cmdstanpy - INFO - Chain [1] done processing\n",
      "20:10:50 - cmdstanpy - ERROR - Chain [1] error: error during processing Operation not permitted\n",
      "Optimization terminated abnormally. Falling back to Newton.\n",
      "20:10:50 - cmdstanpy - INFO - Chain [1] done processing\n",
      "20:10:50 - cmdstanpy - INFO - Chain [1] start processing\n",
      "20:10:50 - cmdstanpy - INFO - Chain [1] done processing\n",
      "20:10:50 - cmdstanpy - ERROR - Chain [1] error: error during processing Operation not permitted\n",
      "Optimization terminated abnormally. Falling back to Newton.\n",
      "20:10:51 - cmdstanpy - INFO - Chain [1] done processing\n",
      "20:10:51 - cmdstanpy - INFO - Chain [1] start processing\n",
      "20:11:00 - cmdstanpy - INFO - Chain [1] done processing\n",
      "20:11:05 - cmdstanpy - INFO - Chain [1] done processing\n",
      "20:11:11 - cmdstanpy - INFO - Chain [1] done processing\n"
     ]
    },
    {
     "name": "stdout",
     "output_type": "stream",
     "text": [
      "{'changepoint_prior_scale': 0.001, 'holidays_prior_scale': 7.51, 'seasonality_mode': 'additive', 'seasonality_prior_scale': 7.51}\n"
     ]
    },
    {
     "name": "stderr",
     "output_type": "stream",
     "text": [
      "20:11:12 - cmdstanpy - INFO - Chain [1] start processing\n",
      "20:11:13 - cmdstanpy - INFO - Chain [1] done processing\n",
      "20:11:14 - cmdstanpy - INFO - Chain [1] start processing\n",
      "20:11:14 - cmdstanpy - INFO - Chain [1] done processing\n",
      "20:11:14 - cmdstanpy - INFO - Chain [1] start processing\n",
      "20:11:15 - cmdstanpy - INFO - Chain [1] start processing\n",
      "20:11:15 - cmdstanpy - INFO - Chain [1] start processing\n",
      "20:11:15 - cmdstanpy - INFO - Chain [1] start processing\n",
      "20:11:15 - cmdstanpy - INFO - Chain [1] done processing\n",
      "20:11:15 - cmdstanpy - ERROR - Chain [1] error: error during processing Operation not permitted\n",
      "Optimization terminated abnormally. Falling back to Newton.\n",
      "20:11:15 - cmdstanpy - INFO - Chain [1] start processing\n",
      "20:11:15 - cmdstanpy - INFO - Chain [1] done processing\n",
      "20:11:16 - cmdstanpy - INFO - Chain [1] done processing\n",
      "20:11:16 - cmdstanpy - ERROR - Chain [1] error: error during processing Operation not permitted\n",
      "Optimization terminated abnormally. Falling back to Newton.\n",
      "20:11:16 - cmdstanpy - INFO - Chain [1] done processing\n",
      "20:11:17 - cmdstanpy - INFO - Chain [1] start processing\n",
      "20:11:30 - cmdstanpy - INFO - Chain [1] done processing\n",
      "20:11:36 - cmdstanpy - INFO - Chain [1] done processing\n"
     ]
    },
    {
     "name": "stdout",
     "output_type": "stream",
     "text": [
      "{'changepoint_prior_scale': 0.101, 'holidays_prior_scale': 0.01, 'seasonality_mode': 'multiplicative', 'seasonality_prior_scale': 0.01}\n"
     ]
    },
    {
     "name": "stderr",
     "output_type": "stream",
     "text": [
      "20:11:37 - cmdstanpy - INFO - Chain [1] start processing\n",
      "20:11:40 - cmdstanpy - INFO - Chain [1] done processing\n",
      "20:11:41 - cmdstanpy - INFO - Chain [1] start processing\n",
      "20:11:41 - cmdstanpy - INFO - Chain [1] start processing\n",
      "20:11:41 - cmdstanpy - INFO - Chain [1] done processing\n",
      "20:11:42 - cmdstanpy - INFO - Chain [1] start processing\n",
      "20:11:42 - cmdstanpy - INFO - Chain [1] start processing\n",
      "20:11:42 - cmdstanpy - INFO - Chain [1] done processing\n",
      "20:11:42 - cmdstanpy - INFO - Chain [1] start processing\n",
      "20:11:42 - cmdstanpy - INFO - Chain [1] done processing\n",
      "20:11:44 - cmdstanpy - INFO - Chain [1] done processing\n",
      "20:11:44 - cmdstanpy - INFO - Chain [1] done processing\n"
     ]
    },
    {
     "name": "stdout",
     "output_type": "stream",
     "text": [
      "{'changepoint_prior_scale': 0.101, 'holidays_prior_scale': 0.01, 'seasonality_mode': 'multiplicative', 'seasonality_prior_scale': 2.51}\n"
     ]
    },
    {
     "name": "stderr",
     "output_type": "stream",
     "text": [
      "20:11:45 - cmdstanpy - INFO - Chain [1] start processing\n",
      "20:11:49 - cmdstanpy - INFO - Chain [1] done processing\n",
      "20:11:50 - cmdstanpy - INFO - Chain [1] start processing\n",
      "20:11:50 - cmdstanpy - INFO - Chain [1] start processing\n",
      "20:11:51 - cmdstanpy - INFO - Chain [1] start processing\n",
      "20:11:51 - cmdstanpy - INFO - Chain [1] done processing\n",
      "20:11:51 - cmdstanpy - INFO - Chain [1] start processing\n",
      "20:11:51 - cmdstanpy - INFO - Chain [1] start processing\n",
      "20:11:52 - cmdstanpy - INFO - Chain [1] done processing\n",
      "20:11:53 - cmdstanpy - INFO - Chain [1] done processing\n",
      "20:11:53 - cmdstanpy - INFO - Chain [1] done processing\n",
      "20:11:55 - cmdstanpy - INFO - Chain [1] done processing\n"
     ]
    },
    {
     "name": "stdout",
     "output_type": "stream",
     "text": [
      "{'changepoint_prior_scale': 0.101, 'holidays_prior_scale': 0.01, 'seasonality_mode': 'multiplicative', 'seasonality_prior_scale': 5.01}\n"
     ]
    },
    {
     "name": "stderr",
     "output_type": "stream",
     "text": [
      "20:11:56 - cmdstanpy - INFO - Chain [1] start processing\n",
      "20:11:59 - cmdstanpy - INFO - Chain [1] done processing\n",
      "20:12:00 - cmdstanpy - INFO - Chain [1] start processing\n",
      "20:12:00 - cmdstanpy - INFO - Chain [1] done processing\n",
      "20:12:00 - cmdstanpy - INFO - Chain [1] start processing\n",
      "20:12:01 - cmdstanpy - INFO - Chain [1] start processing\n",
      "20:12:01 - cmdstanpy - INFO - Chain [1] start processing\n",
      "20:12:01 - cmdstanpy - INFO - Chain [1] start processing\n",
      "20:12:01 - cmdstanpy - INFO - Chain [1] done processing\n",
      "20:12:01 - cmdstanpy - INFO - Chain [1] done processing\n",
      "20:12:02 - cmdstanpy - INFO - Chain [1] done processing\n",
      "20:12:04 - cmdstanpy - INFO - Chain [1] done processing\n"
     ]
    },
    {
     "name": "stdout",
     "output_type": "stream",
     "text": [
      "{'changepoint_prior_scale': 0.101, 'holidays_prior_scale': 0.01, 'seasonality_mode': 'multiplicative', 'seasonality_prior_scale': 7.51}\n"
     ]
    },
    {
     "name": "stderr",
     "output_type": "stream",
     "text": [
      "20:12:05 - cmdstanpy - INFO - Chain [1] start processing\n",
      "20:12:08 - cmdstanpy - INFO - Chain [1] done processing\n",
      "20:12:09 - cmdstanpy - INFO - Chain [1] start processing\n",
      "20:12:10 - cmdstanpy - INFO - Chain [1] start processing\n",
      "20:12:10 - cmdstanpy - INFO - Chain [1] start processing\n",
      "20:12:10 - cmdstanpy - INFO - Chain [1] done processing\n",
      "20:12:10 - cmdstanpy - INFO - Chain [1] start processing\n",
      "20:12:10 - cmdstanpy - INFO - Chain [1] done processing\n",
      "20:12:10 - cmdstanpy - INFO - Chain [1] start processing\n",
      "20:12:11 - cmdstanpy - INFO - Chain [1] done processing\n",
      "20:12:12 - cmdstanpy - INFO - Chain [1] done processing\n",
      "20:12:14 - cmdstanpy - INFO - Chain [1] done processing\n"
     ]
    },
    {
     "name": "stdout",
     "output_type": "stream",
     "text": [
      "{'changepoint_prior_scale': 0.101, 'holidays_prior_scale': 0.01, 'seasonality_mode': 'additive', 'seasonality_prior_scale': 0.01}\n"
     ]
    },
    {
     "name": "stderr",
     "output_type": "stream",
     "text": [
      "20:12:15 - cmdstanpy - INFO - Chain [1] start processing\n",
      "20:12:17 - cmdstanpy - INFO - Chain [1] done processing\n",
      "20:12:19 - cmdstanpy - INFO - Chain [1] start processing\n",
      "20:12:19 - cmdstanpy - INFO - Chain [1] done processing\n",
      "20:12:19 - cmdstanpy - INFO - Chain [1] start processing\n",
      "20:12:19 - cmdstanpy - INFO - Chain [1] start processing\n",
      "20:12:19 - cmdstanpy - INFO - Chain [1] done processing\n",
      "20:12:20 - cmdstanpy - INFO - Chain [1] start processing\n",
      "20:12:20 - cmdstanpy - INFO - Chain [1] start processing\n",
      "20:12:20 - cmdstanpy - INFO - Chain [1] done processing\n",
      "20:12:21 - cmdstanpy - INFO - Chain [1] done processing\n",
      "20:12:22 - cmdstanpy - INFO - Chain [1] done processing\n"
     ]
    },
    {
     "name": "stdout",
     "output_type": "stream",
     "text": [
      "{'changepoint_prior_scale': 0.101, 'holidays_prior_scale': 0.01, 'seasonality_mode': 'additive', 'seasonality_prior_scale': 2.51}\n"
     ]
    },
    {
     "name": "stderr",
     "output_type": "stream",
     "text": [
      "20:12:23 - cmdstanpy - INFO - Chain [1] start processing\n",
      "20:12:25 - cmdstanpy - INFO - Chain [1] done processing\n",
      "20:12:27 - cmdstanpy - INFO - Chain [1] start processing\n",
      "20:12:27 - cmdstanpy - INFO - Chain [1] done processing\n",
      "20:12:27 - cmdstanpy - INFO - Chain [1] start processing\n",
      "20:12:27 - cmdstanpy - INFO - Chain [1] start processing\n",
      "20:12:28 - cmdstanpy - INFO - Chain [1] start processing\n",
      "20:12:28 - cmdstanpy - INFO - Chain [1] start processing\n",
      "20:12:28 - cmdstanpy - INFO - Chain [1] done processing\n",
      "20:12:28 - cmdstanpy - INFO - Chain [1] done processing\n",
      "20:12:29 - cmdstanpy - INFO - Chain [1] done processing\n",
      "20:12:31 - cmdstanpy - INFO - Chain [1] done processing\n"
     ]
    },
    {
     "name": "stdout",
     "output_type": "stream",
     "text": [
      "{'changepoint_prior_scale': 0.101, 'holidays_prior_scale': 0.01, 'seasonality_mode': 'additive', 'seasonality_prior_scale': 5.01}\n"
     ]
    },
    {
     "name": "stderr",
     "output_type": "stream",
     "text": [
      "20:12:32 - cmdstanpy - INFO - Chain [1] start processing\n",
      "20:12:34 - cmdstanpy - INFO - Chain [1] done processing\n",
      "20:12:36 - cmdstanpy - INFO - Chain [1] start processing\n",
      "20:12:36 - cmdstanpy - INFO - Chain [1] start processing\n",
      "20:12:36 - cmdstanpy - INFO - Chain [1] done processing\n",
      "20:12:36 - cmdstanpy - INFO - Chain [1] start processing\n",
      "20:12:36 - cmdstanpy - INFO - Chain [1] done processing\n",
      "20:12:36 - cmdstanpy - INFO - Chain [1] start processing\n",
      "20:15:01 - cmdstanpy - INFO - Chain [1] start processing\n",
      "20:15:02 - cmdstanpy - INFO - Chain [1] done processing\n",
      "20:15:02 - cmdstanpy - INFO - Chain [1] done processing\n",
      "20:15:05 - cmdstanpy - INFO - Chain [1] done processing\n"
     ]
    },
    {
     "name": "stdout",
     "output_type": "stream",
     "text": [
      "{'changepoint_prior_scale': 0.101, 'holidays_prior_scale': 0.01, 'seasonality_mode': 'additive', 'seasonality_prior_scale': 7.51}\n"
     ]
    },
    {
     "name": "stderr",
     "output_type": "stream",
     "text": [
      "20:15:06 - cmdstanpy - INFO - Chain [1] start processing\n",
      "20:15:08 - cmdstanpy - INFO - Chain [1] done processing\n",
      "20:15:09 - cmdstanpy - INFO - Chain [1] start processing\n",
      "20:15:09 - cmdstanpy - INFO - Chain [1] done processing\n",
      "20:15:10 - cmdstanpy - INFO - Chain [1] start processing\n",
      "20:15:10 - cmdstanpy - INFO - Chain [1] start processing\n",
      "20:15:10 - cmdstanpy - INFO - Chain [1] start processing\n",
      "20:15:10 - cmdstanpy - INFO - Chain [1] start processing\n",
      "20:15:10 - cmdstanpy - INFO - Chain [1] done processing\n",
      "20:15:11 - cmdstanpy - INFO - Chain [1] done processing\n",
      "20:15:11 - cmdstanpy - INFO - Chain [1] done processing\n",
      "20:15:13 - cmdstanpy - INFO - Chain [1] done processing\n"
     ]
    },
    {
     "name": "stdout",
     "output_type": "stream",
     "text": [
      "{'changepoint_prior_scale': 0.101, 'holidays_prior_scale': 2.51, 'seasonality_mode': 'multiplicative', 'seasonality_prior_scale': 0.01}\n"
     ]
    },
    {
     "name": "stderr",
     "output_type": "stream",
     "text": [
      "20:15:14 - cmdstanpy - INFO - Chain [1] start processing\n",
      "20:15:19 - cmdstanpy - INFO - Chain [1] done processing\n",
      "20:15:20 - cmdstanpy - INFO - Chain [1] start processing\n",
      "20:15:20 - cmdstanpy - INFO - Chain [1] done processing\n",
      "20:15:20 - cmdstanpy - INFO - Chain [1] start processing\n",
      "20:15:21 - cmdstanpy - INFO - Chain [1] start processing\n",
      "20:15:21 - cmdstanpy - INFO - Chain [1] done processing\n",
      "20:15:21 - cmdstanpy - INFO - Chain [1] start processing\n",
      "20:15:21 - cmdstanpy - INFO - Chain [1] start processing\n",
      "20:15:22 - cmdstanpy - INFO - Chain [1] done processing\n",
      "20:15:22 - cmdstanpy - INFO - Chain [1] done processing\n",
      "20:15:26 - cmdstanpy - INFO - Chain [1] done processing\n"
     ]
    },
    {
     "name": "stdout",
     "output_type": "stream",
     "text": [
      "{'changepoint_prior_scale': 0.101, 'holidays_prior_scale': 2.51, 'seasonality_mode': 'multiplicative', 'seasonality_prior_scale': 2.51}\n"
     ]
    },
    {
     "name": "stderr",
     "output_type": "stream",
     "text": [
      "20:15:27 - cmdstanpy - INFO - Chain [1] start processing\n",
      "20:15:33 - cmdstanpy - INFO - Chain [1] done processing\n",
      "20:15:35 - cmdstanpy - INFO - Chain [1] start processing\n",
      "20:15:35 - cmdstanpy - INFO - Chain [1] start processing\n",
      "20:15:35 - cmdstanpy - INFO - Chain [1] start processing\n",
      "20:15:35 - cmdstanpy - INFO - Chain [1] start processing\n",
      "20:15:35 - cmdstanpy - INFO - Chain [1] done processing\n",
      "20:15:35 - cmdstanpy - INFO - Chain [1] start processing\n",
      "20:15:36 - cmdstanpy - INFO - Chain [1] done processing\n",
      "20:15:36 - cmdstanpy - INFO - Chain [1] done processing\n",
      "20:15:38 - cmdstanpy - INFO - Chain [1] done processing\n",
      "20:15:41 - cmdstanpy - INFO - Chain [1] done processing\n"
     ]
    },
    {
     "name": "stdout",
     "output_type": "stream",
     "text": [
      "{'changepoint_prior_scale': 0.101, 'holidays_prior_scale': 2.51, 'seasonality_mode': 'multiplicative', 'seasonality_prior_scale': 5.01}\n"
     ]
    },
    {
     "name": "stderr",
     "output_type": "stream",
     "text": [
      "20:15:42 - cmdstanpy - INFO - Chain [1] start processing\n",
      "20:15:46 - cmdstanpy - INFO - Chain [1] done processing\n",
      "20:15:47 - cmdstanpy - INFO - Chain [1] start processing\n",
      "20:15:48 - cmdstanpy - INFO - Chain [1] start processing\n",
      "20:15:48 - cmdstanpy - INFO - Chain [1] done processing\n",
      "20:15:48 - cmdstanpy - INFO - Chain [1] start processing\n",
      "20:15:48 - cmdstanpy - INFO - Chain [1] done processing\n",
      "20:15:48 - cmdstanpy - INFO - Chain [1] start processing\n",
      "20:15:48 - cmdstanpy - INFO - Chain [1] start processing\n",
      "20:15:49 - cmdstanpy - INFO - Chain [1] done processing\n",
      "20:15:49 - cmdstanpy - INFO - Chain [1] done processing\n",
      "20:15:53 - cmdstanpy - INFO - Chain [1] done processing\n"
     ]
    },
    {
     "name": "stdout",
     "output_type": "stream",
     "text": [
      "{'changepoint_prior_scale': 0.101, 'holidays_prior_scale': 2.51, 'seasonality_mode': 'multiplicative', 'seasonality_prior_scale': 7.51}\n"
     ]
    },
    {
     "name": "stderr",
     "output_type": "stream",
     "text": [
      "20:15:54 - cmdstanpy - INFO - Chain [1] start processing\n",
      "20:16:01 - cmdstanpy - INFO - Chain [1] done processing\n",
      "20:16:02 - cmdstanpy - INFO - Chain [1] start processing\n",
      "20:16:02 - cmdstanpy - INFO - Chain [1] start processing\n",
      "20:16:03 - cmdstanpy - INFO - Chain [1] start processing\n",
      "20:16:03 - cmdstanpy - INFO - Chain [1] start processing\n",
      "20:16:03 - cmdstanpy - INFO - Chain [1] done processing\n",
      "20:16:03 - cmdstanpy - INFO - Chain [1] done processing\n",
      "20:16:03 - cmdstanpy - INFO - Chain [1] start processing\n",
      "20:16:04 - cmdstanpy - INFO - Chain [1] done processing\n",
      "20:16:06 - cmdstanpy - INFO - Chain [1] done processing\n",
      "20:16:08 - cmdstanpy - INFO - Chain [1] done processing\n"
     ]
    },
    {
     "name": "stdout",
     "output_type": "stream",
     "text": [
      "{'changepoint_prior_scale': 0.101, 'holidays_prior_scale': 2.51, 'seasonality_mode': 'additive', 'seasonality_prior_scale': 0.01}\n"
     ]
    },
    {
     "name": "stderr",
     "output_type": "stream",
     "text": [
      "20:16:09 - cmdstanpy - INFO - Chain [1] start processing\n",
      "20:16:12 - cmdstanpy - INFO - Chain [1] done processing\n",
      "20:16:13 - cmdstanpy - INFO - Chain [1] start processing\n",
      "20:16:14 - cmdstanpy - INFO - Chain [1] done processing\n",
      "20:16:14 - cmdstanpy - INFO - Chain [1] start processing\n",
      "20:16:14 - cmdstanpy - INFO - Chain [1] start processing\n",
      "20:16:14 - cmdstanpy - INFO - Chain [1] start processing\n",
      "20:16:14 - cmdstanpy - INFO - Chain [1] start processing\n",
      "20:16:14 - cmdstanpy - INFO - Chain [1] done processing\n",
      "20:16:15 - cmdstanpy - INFO - Chain [1] done processing\n",
      "20:16:16 - cmdstanpy - INFO - Chain [1] done processing\n",
      "20:16:16 - cmdstanpy - INFO - Chain [1] done processing\n"
     ]
    },
    {
     "name": "stdout",
     "output_type": "stream",
     "text": [
      "{'changepoint_prior_scale': 0.101, 'holidays_prior_scale': 2.51, 'seasonality_mode': 'additive', 'seasonality_prior_scale': 2.51}\n"
     ]
    },
    {
     "name": "stderr",
     "output_type": "stream",
     "text": [
      "20:16:17 - cmdstanpy - INFO - Chain [1] start processing\n",
      "20:16:19 - cmdstanpy - INFO - Chain [1] done processing\n",
      "20:16:21 - cmdstanpy - INFO - Chain [1] start processing\n",
      "20:16:21 - cmdstanpy - INFO - Chain [1] start processing\n",
      "20:16:21 - cmdstanpy - INFO - Chain [1] done processing\n",
      "20:16:21 - cmdstanpy - INFO - Chain [1] start processing\n",
      "20:16:21 - cmdstanpy - INFO - Chain [1] start processing\n",
      "20:16:21 - cmdstanpy - INFO - Chain [1] done processing\n",
      "20:16:22 - cmdstanpy - INFO - Chain [1] start processing\n",
      "20:16:22 - cmdstanpy - INFO - Chain [1] done processing\n",
      "20:16:22 - cmdstanpy - INFO - Chain [1] done processing\n",
      "20:16:24 - cmdstanpy - INFO - Chain [1] done processing\n"
     ]
    },
    {
     "name": "stdout",
     "output_type": "stream",
     "text": [
      "{'changepoint_prior_scale': 0.101, 'holidays_prior_scale': 2.51, 'seasonality_mode': 'additive', 'seasonality_prior_scale': 5.01}\n"
     ]
    },
    {
     "name": "stderr",
     "output_type": "stream",
     "text": [
      "20:16:25 - cmdstanpy - INFO - Chain [1] start processing\n",
      "20:16:28 - cmdstanpy - INFO - Chain [1] done processing\n",
      "20:16:29 - cmdstanpy - INFO - Chain [1] start processing\n",
      "20:16:29 - cmdstanpy - INFO - Chain [1] done processing\n",
      "20:16:29 - cmdstanpy - INFO - Chain [1] start processing\n",
      "20:16:30 - cmdstanpy - INFO - Chain [1] start processing\n",
      "20:16:30 - cmdstanpy - INFO - Chain [1] start processing\n",
      "20:16:30 - cmdstanpy - INFO - Chain [1] start processing\n",
      "20:16:30 - cmdstanpy - INFO - Chain [1] done processing\n",
      "20:16:30 - cmdstanpy - INFO - Chain [1] done processing\n",
      "20:16:31 - cmdstanpy - INFO - Chain [1] done processing\n",
      "20:16:32 - cmdstanpy - INFO - Chain [1] done processing\n"
     ]
    },
    {
     "name": "stdout",
     "output_type": "stream",
     "text": [
      "{'changepoint_prior_scale': 0.101, 'holidays_prior_scale': 2.51, 'seasonality_mode': 'additive', 'seasonality_prior_scale': 7.51}\n"
     ]
    },
    {
     "name": "stderr",
     "output_type": "stream",
     "text": [
      "20:16:33 - cmdstanpy - INFO - Chain [1] start processing\n",
      "20:16:37 - cmdstanpy - INFO - Chain [1] done processing\n",
      "20:16:38 - cmdstanpy - INFO - Chain [1] start processing\n",
      "20:16:38 - cmdstanpy - INFO - Chain [1] done processing\n",
      "20:16:38 - cmdstanpy - INFO - Chain [1] start processing\n",
      "20:16:38 - cmdstanpy - INFO - Chain [1] start processing\n",
      "20:16:39 - cmdstanpy - INFO - Chain [1] start processing\n",
      "20:16:39 - cmdstanpy - INFO - Chain [1] done processing\n",
      "20:16:39 - cmdstanpy - INFO - Chain [1] start processing\n",
      "20:16:39 - cmdstanpy - INFO - Chain [1] done processing\n",
      "20:16:40 - cmdstanpy - INFO - Chain [1] done processing\n",
      "20:16:41 - cmdstanpy - INFO - Chain [1] done processing\n"
     ]
    },
    {
     "name": "stdout",
     "output_type": "stream",
     "text": [
      "{'changepoint_prior_scale': 0.101, 'holidays_prior_scale': 5.01, 'seasonality_mode': 'multiplicative', 'seasonality_prior_scale': 0.01}\n"
     ]
    },
    {
     "name": "stderr",
     "output_type": "stream",
     "text": [
      "20:16:42 - cmdstanpy - INFO - Chain [1] start processing\n",
      "20:16:47 - cmdstanpy - INFO - Chain [1] done processing\n",
      "20:16:49 - cmdstanpy - INFO - Chain [1] start processing\n",
      "20:16:49 - cmdstanpy - INFO - Chain [1] start processing\n",
      "20:16:49 - cmdstanpy - INFO - Chain [1] done processing\n",
      "20:16:49 - cmdstanpy - INFO - Chain [1] start processing\n",
      "20:16:49 - cmdstanpy - INFO - Chain [1] start processing\n",
      "20:16:50 - cmdstanpy - INFO - Chain [1] start processing\n",
      "20:16:50 - cmdstanpy - INFO - Chain [1] done processing\n",
      "20:16:50 - cmdstanpy - INFO - Chain [1] done processing\n",
      "20:16:50 - cmdstanpy - INFO - Chain [1] done processing\n",
      "20:16:54 - cmdstanpy - INFO - Chain [1] done processing\n"
     ]
    },
    {
     "name": "stdout",
     "output_type": "stream",
     "text": [
      "{'changepoint_prior_scale': 0.101, 'holidays_prior_scale': 5.01, 'seasonality_mode': 'multiplicative', 'seasonality_prior_scale': 2.51}\n"
     ]
    },
    {
     "name": "stderr",
     "output_type": "stream",
     "text": [
      "20:16:55 - cmdstanpy - INFO - Chain [1] start processing\n",
      "20:17:02 - cmdstanpy - INFO - Chain [1] done processing\n",
      "20:17:04 - cmdstanpy - INFO - Chain [1] start processing\n",
      "20:17:04 - cmdstanpy - INFO - Chain [1] start processing\n",
      "20:17:04 - cmdstanpy - INFO - Chain [1] start processing\n",
      "20:17:04 - cmdstanpy - INFO - Chain [1] done processing\n",
      "20:17:04 - cmdstanpy - INFO - Chain [1] start processing\n",
      "20:17:04 - cmdstanpy - INFO - Chain [1] done processing\n",
      "20:17:04 - cmdstanpy - INFO - Chain [1] start processing\n",
      "20:17:05 - cmdstanpy - INFO - Chain [1] done processing\n",
      "20:17:05 - cmdstanpy - INFO - Chain [1] done processing\n",
      "20:17:09 - cmdstanpy - INFO - Chain [1] done processing\n"
     ]
    },
    {
     "name": "stdout",
     "output_type": "stream",
     "text": [
      "{'changepoint_prior_scale': 0.101, 'holidays_prior_scale': 5.01, 'seasonality_mode': 'multiplicative', 'seasonality_prior_scale': 5.01}\n"
     ]
    },
    {
     "name": "stderr",
     "output_type": "stream",
     "text": [
      "20:17:10 - cmdstanpy - INFO - Chain [1] start processing\n",
      "20:17:14 - cmdstanpy - INFO - Chain [1] done processing\n",
      "20:17:16 - cmdstanpy - INFO - Chain [1] start processing\n",
      "20:17:16 - cmdstanpy - INFO - Chain [1] start processing\n",
      "20:17:16 - cmdstanpy - INFO - Chain [1] start processing\n",
      "20:17:16 - cmdstanpy - INFO - Chain [1] done processing\n",
      "20:17:16 - cmdstanpy - INFO - Chain [1] start processing\n",
      "20:17:16 - cmdstanpy - INFO - Chain [1] done processing\n",
      "20:17:16 - cmdstanpy - INFO - Chain [1] start processing\n",
      "20:17:17 - cmdstanpy - INFO - Chain [1] done processing\n",
      "20:17:17 - cmdstanpy - INFO - Chain [1] done processing\n",
      "20:17:22 - cmdstanpy - INFO - Chain [1] done processing\n"
     ]
    },
    {
     "name": "stdout",
     "output_type": "stream",
     "text": [
      "{'changepoint_prior_scale': 0.101, 'holidays_prior_scale': 5.01, 'seasonality_mode': 'multiplicative', 'seasonality_prior_scale': 7.51}\n"
     ]
    },
    {
     "name": "stderr",
     "output_type": "stream",
     "text": [
      "20:17:23 - cmdstanpy - INFO - Chain [1] start processing\n",
      "20:17:30 - cmdstanpy - INFO - Chain [1] done processing\n",
      "20:17:32 - cmdstanpy - INFO - Chain [1] start processing\n",
      "20:17:32 - cmdstanpy - INFO - Chain [1] start processing\n",
      "20:17:32 - cmdstanpy - INFO - Chain [1] done processing\n",
      "20:17:32 - cmdstanpy - INFO - Chain [1] start processing\n",
      "20:17:32 - cmdstanpy - INFO - Chain [1] done processing\n",
      "20:17:32 - cmdstanpy - INFO - Chain [1] start processing\n",
      "20:17:33 - cmdstanpy - INFO - Chain [1] start processing\n",
      "20:17:33 - cmdstanpy - INFO - Chain [1] done processing\n",
      "20:17:34 - cmdstanpy - INFO - Chain [1] done processing\n",
      "20:17:37 - cmdstanpy - INFO - Chain [1] done processing\n"
     ]
    },
    {
     "name": "stdout",
     "output_type": "stream",
     "text": [
      "{'changepoint_prior_scale': 0.101, 'holidays_prior_scale': 5.01, 'seasonality_mode': 'additive', 'seasonality_prior_scale': 0.01}\n"
     ]
    },
    {
     "name": "stderr",
     "output_type": "stream",
     "text": [
      "20:17:38 - cmdstanpy - INFO - Chain [1] start processing\n",
      "20:17:41 - cmdstanpy - INFO - Chain [1] done processing\n",
      "20:17:42 - cmdstanpy - INFO - Chain [1] start processing\n",
      "20:17:42 - cmdstanpy - INFO - Chain [1] done processing\n",
      "20:17:42 - cmdstanpy - INFO - Chain [1] start processing\n",
      "20:17:43 - cmdstanpy - INFO - Chain [1] done processing\n",
      "20:17:43 - cmdstanpy - INFO - Chain [1] start processing\n",
      "20:17:43 - cmdstanpy - INFO - Chain [1] start processing\n",
      "20:17:43 - cmdstanpy - INFO - Chain [1] done processing\n",
      "20:17:43 - cmdstanpy - INFO - Chain [1] start processing\n",
      "20:17:44 - cmdstanpy - INFO - Chain [1] done processing\n",
      "20:17:45 - cmdstanpy - INFO - Chain [1] done processing\n"
     ]
    },
    {
     "name": "stdout",
     "output_type": "stream",
     "text": [
      "{'changepoint_prior_scale': 0.101, 'holidays_prior_scale': 5.01, 'seasonality_mode': 'additive', 'seasonality_prior_scale': 2.51}\n"
     ]
    },
    {
     "name": "stderr",
     "output_type": "stream",
     "text": [
      "20:17:46 - cmdstanpy - INFO - Chain [1] start processing\n",
      "20:17:49 - cmdstanpy - INFO - Chain [1] done processing\n",
      "20:17:50 - cmdstanpy - INFO - Chain [1] start processing\n",
      "20:17:50 - cmdstanpy - INFO - Chain [1] start processing\n",
      "20:17:50 - cmdstanpy - INFO - Chain [1] done processing\n",
      "20:17:51 - cmdstanpy - INFO - Chain [1] start processing\n",
      "20:17:51 - cmdstanpy - INFO - Chain [1] done processing\n",
      "20:17:51 - cmdstanpy - INFO - Chain [1] start processing\n",
      "20:17:51 - cmdstanpy - INFO - Chain [1] start processing\n",
      "20:17:51 - cmdstanpy - INFO - Chain [1] done processing\n",
      "20:17:51 - cmdstanpy - INFO - Chain [1] done processing\n",
      "20:17:54 - cmdstanpy - INFO - Chain [1] done processing\n"
     ]
    },
    {
     "name": "stdout",
     "output_type": "stream",
     "text": [
      "{'changepoint_prior_scale': 0.101, 'holidays_prior_scale': 5.01, 'seasonality_mode': 'additive', 'seasonality_prior_scale': 5.01}\n"
     ]
    },
    {
     "name": "stderr",
     "output_type": "stream",
     "text": [
      "20:17:55 - cmdstanpy - INFO - Chain [1] start processing\n",
      "20:17:58 - cmdstanpy - INFO - Chain [1] done processing\n",
      "20:17:59 - cmdstanpy - INFO - Chain [1] start processing\n",
      "20:17:59 - cmdstanpy - INFO - Chain [1] start processing\n",
      "20:17:59 - cmdstanpy - INFO - Chain [1] done processing\n",
      "20:18:00 - cmdstanpy - INFO - Chain [1] done processing\n",
      "20:18:00 - cmdstanpy - INFO - Chain [1] start processing\n",
      "20:18:00 - cmdstanpy - INFO - Chain [1] start processing\n",
      "20:18:00 - cmdstanpy - INFO - Chain [1] start processing\n",
      "20:18:01 - cmdstanpy - INFO - Chain [1] done processing\n",
      "20:18:01 - cmdstanpy - INFO - Chain [1] done processing\n",
      "20:18:03 - cmdstanpy - INFO - Chain [1] done processing\n"
     ]
    },
    {
     "name": "stdout",
     "output_type": "stream",
     "text": [
      "{'changepoint_prior_scale': 0.101, 'holidays_prior_scale': 5.01, 'seasonality_mode': 'additive', 'seasonality_prior_scale': 7.51}\n"
     ]
    },
    {
     "name": "stderr",
     "output_type": "stream",
     "text": [
      "20:18:04 - cmdstanpy - INFO - Chain [1] start processing\n",
      "20:18:06 - cmdstanpy - INFO - Chain [1] done processing\n",
      "20:18:07 - cmdstanpy - INFO - Chain [1] start processing\n",
      "20:18:07 - cmdstanpy - INFO - Chain [1] done processing\n",
      "20:18:07 - cmdstanpy - INFO - Chain [1] start processing\n",
      "20:18:08 - cmdstanpy - INFO - Chain [1] done processing\n",
      "20:18:08 - cmdstanpy - INFO - Chain [1] start processing\n",
      "20:18:08 - cmdstanpy - INFO - Chain [1] start processing\n",
      "20:18:08 - cmdstanpy - INFO - Chain [1] done processing\n",
      "20:18:09 - cmdstanpy - INFO - Chain [1] start processing\n",
      "20:18:09 - cmdstanpy - INFO - Chain [1] done processing\n",
      "20:18:11 - cmdstanpy - INFO - Chain [1] done processing\n"
     ]
    },
    {
     "name": "stdout",
     "output_type": "stream",
     "text": [
      "{'changepoint_prior_scale': 0.101, 'holidays_prior_scale': 7.51, 'seasonality_mode': 'multiplicative', 'seasonality_prior_scale': 0.01}\n"
     ]
    },
    {
     "name": "stderr",
     "output_type": "stream",
     "text": [
      "20:18:12 - cmdstanpy - INFO - Chain [1] start processing\n",
      "20:18:17 - cmdstanpy - INFO - Chain [1] done processing\n",
      "20:18:18 - cmdstanpy - INFO - Chain [1] start processing\n",
      "20:18:19 - cmdstanpy - INFO - Chain [1] done processing\n",
      "20:18:19 - cmdstanpy - INFO - Chain [1] start processing\n",
      "20:18:19 - cmdstanpy - INFO - Chain [1] start processing\n",
      "20:18:19 - cmdstanpy - INFO - Chain [1] start processing\n",
      "20:18:19 - cmdstanpy - INFO - Chain [1] done processing\n",
      "20:18:19 - cmdstanpy - INFO - Chain [1] start processing\n",
      "20:18:19 - cmdstanpy - INFO - Chain [1] done processing\n",
      "20:18:21 - cmdstanpy - INFO - Chain [1] done processing\n",
      "20:18:25 - cmdstanpy - INFO - Chain [1] done processing\n"
     ]
    },
    {
     "name": "stdout",
     "output_type": "stream",
     "text": [
      "{'changepoint_prior_scale': 0.101, 'holidays_prior_scale': 7.51, 'seasonality_mode': 'multiplicative', 'seasonality_prior_scale': 2.51}\n"
     ]
    },
    {
     "name": "stderr",
     "output_type": "stream",
     "text": [
      "20:18:26 - cmdstanpy - INFO - Chain [1] start processing\n",
      "20:18:31 - cmdstanpy - INFO - Chain [1] done processing\n",
      "20:18:32 - cmdstanpy - INFO - Chain [1] start processing\n",
      "20:18:32 - cmdstanpy - INFO - Chain [1] start processing\n",
      "20:18:32 - cmdstanpy - INFO - Chain [1] done processing\n",
      "20:18:33 - cmdstanpy - INFO - Chain [1] start processing\n",
      "20:18:33 - cmdstanpy - INFO - Chain [1] done processing\n",
      "20:18:33 - cmdstanpy - INFO - Chain [1] start processing\n",
      "20:18:33 - cmdstanpy - INFO - Chain [1] start processing\n",
      "20:18:33 - cmdstanpy - INFO - Chain [1] done processing\n",
      "20:18:34 - cmdstanpy - INFO - Chain [1] done processing\n",
      "20:18:38 - cmdstanpy - INFO - Chain [1] done processing\n"
     ]
    },
    {
     "name": "stdout",
     "output_type": "stream",
     "text": [
      "{'changepoint_prior_scale': 0.101, 'holidays_prior_scale': 7.51, 'seasonality_mode': 'multiplicative', 'seasonality_prior_scale': 5.01}\n"
     ]
    },
    {
     "name": "stderr",
     "output_type": "stream",
     "text": [
      "20:18:39 - cmdstanpy - INFO - Chain [1] start processing\n",
      "20:18:46 - cmdstanpy - INFO - Chain [1] done processing\n",
      "20:18:48 - cmdstanpy - INFO - Chain [1] start processing\n",
      "20:18:48 - cmdstanpy - INFO - Chain [1] start processing\n",
      "20:18:48 - cmdstanpy - INFO - Chain [1] start processing\n",
      "20:18:48 - cmdstanpy - INFO - Chain [1] done processing\n",
      "20:18:48 - cmdstanpy - INFO - Chain [1] start processing\n",
      "20:18:48 - cmdstanpy - INFO - Chain [1] start processing\n",
      "20:18:48 - cmdstanpy - INFO - Chain [1] done processing\n",
      "20:18:49 - cmdstanpy - INFO - Chain [1] done processing\n",
      "20:18:49 - cmdstanpy - INFO - Chain [1] done processing\n",
      "20:18:53 - cmdstanpy - INFO - Chain [1] done processing\n"
     ]
    },
    {
     "name": "stdout",
     "output_type": "stream",
     "text": [
      "{'changepoint_prior_scale': 0.101, 'holidays_prior_scale': 7.51, 'seasonality_mode': 'multiplicative', 'seasonality_prior_scale': 7.51}\n"
     ]
    },
    {
     "name": "stderr",
     "output_type": "stream",
     "text": [
      "20:18:54 - cmdstanpy - INFO - Chain [1] start processing\n",
      "20:19:00 - cmdstanpy - INFO - Chain [1] done processing\n",
      "20:19:01 - cmdstanpy - INFO - Chain [1] start processing\n",
      "20:19:02 - cmdstanpy - INFO - Chain [1] start processing\n",
      "20:19:02 - cmdstanpy - INFO - Chain [1] start processing\n",
      "20:19:02 - cmdstanpy - INFO - Chain [1] done processing\n",
      "20:19:02 - cmdstanpy - INFO - Chain [1] start processing\n",
      "20:19:02 - cmdstanpy - INFO - Chain [1] done processing\n",
      "20:19:02 - cmdstanpy - INFO - Chain [1] start processing\n",
      "20:19:02 - cmdstanpy - INFO - Chain [1] done processing\n",
      "20:19:04 - cmdstanpy - INFO - Chain [1] done processing\n",
      "20:19:09 - cmdstanpy - INFO - Chain [1] done processing\n"
     ]
    },
    {
     "name": "stdout",
     "output_type": "stream",
     "text": [
      "{'changepoint_prior_scale': 0.101, 'holidays_prior_scale': 7.51, 'seasonality_mode': 'additive', 'seasonality_prior_scale': 0.01}\n"
     ]
    },
    {
     "name": "stderr",
     "output_type": "stream",
     "text": [
      "20:19:10 - cmdstanpy - INFO - Chain [1] start processing\n",
      "20:19:13 - cmdstanpy - INFO - Chain [1] done processing\n",
      "20:19:14 - cmdstanpy - INFO - Chain [1] start processing\n",
      "20:19:14 - cmdstanpy - INFO - Chain [1] start processing\n",
      "20:19:14 - cmdstanpy - INFO - Chain [1] done processing\n",
      "20:19:14 - cmdstanpy - INFO - Chain [1] done processing\n",
      "20:19:14 - cmdstanpy - INFO - Chain [1] start processing\n",
      "20:19:15 - cmdstanpy - INFO - Chain [1] start processing\n",
      "20:19:15 - cmdstanpy - INFO - Chain [1] start processing\n",
      "20:19:16 - cmdstanpy - INFO - Chain [1] done processing\n",
      "20:19:16 - cmdstanpy - INFO - Chain [1] done processing\n",
      "20:19:17 - cmdstanpy - INFO - Chain [1] done processing\n"
     ]
    },
    {
     "name": "stdout",
     "output_type": "stream",
     "text": [
      "{'changepoint_prior_scale': 0.101, 'holidays_prior_scale': 7.51, 'seasonality_mode': 'additive', 'seasonality_prior_scale': 2.51}\n"
     ]
    },
    {
     "name": "stderr",
     "output_type": "stream",
     "text": [
      "20:19:18 - cmdstanpy - INFO - Chain [1] start processing\n",
      "20:19:21 - cmdstanpy - INFO - Chain [1] done processing\n",
      "20:19:22 - cmdstanpy - INFO - Chain [1] start processing\n",
      "20:19:22 - cmdstanpy - INFO - Chain [1] start processing\n",
      "20:19:22 - cmdstanpy - INFO - Chain [1] done processing\n",
      "20:19:23 - cmdstanpy - INFO - Chain [1] done processing\n",
      "20:19:23 - cmdstanpy - INFO - Chain [1] start processing\n",
      "20:19:23 - cmdstanpy - INFO - Chain [1] start processing\n",
      "20:19:23 - cmdstanpy - INFO - Chain [1] start processing\n",
      "20:19:23 - cmdstanpy - INFO - Chain [1] done processing\n",
      "20:19:24 - cmdstanpy - INFO - Chain [1] done processing\n",
      "20:19:25 - cmdstanpy - INFO - Chain [1] done processing\n"
     ]
    },
    {
     "name": "stdout",
     "output_type": "stream",
     "text": [
      "{'changepoint_prior_scale': 0.101, 'holidays_prior_scale': 7.51, 'seasonality_mode': 'additive', 'seasonality_prior_scale': 5.01}\n"
     ]
    },
    {
     "name": "stderr",
     "output_type": "stream",
     "text": [
      "20:19:26 - cmdstanpy - INFO - Chain [1] start processing\n",
      "20:19:28 - cmdstanpy - INFO - Chain [1] done processing\n",
      "20:19:30 - cmdstanpy - INFO - Chain [1] start processing\n",
      "20:19:30 - cmdstanpy - INFO - Chain [1] start processing\n",
      "20:19:30 - cmdstanpy - INFO - Chain [1] done processing\n",
      "20:19:30 - cmdstanpy - INFO - Chain [1] start processing\n",
      "20:19:30 - cmdstanpy - INFO - Chain [1] done processing\n",
      "20:19:30 - cmdstanpy - INFO - Chain [1] start processing\n",
      "20:19:31 - cmdstanpy - INFO - Chain [1] start processing\n",
      "20:19:31 - cmdstanpy - INFO - Chain [1] done processing\n",
      "20:19:31 - cmdstanpy - INFO - Chain [1] done processing\n",
      "20:19:33 - cmdstanpy - INFO - Chain [1] done processing\n"
     ]
    },
    {
     "name": "stdout",
     "output_type": "stream",
     "text": [
      "{'changepoint_prior_scale': 0.101, 'holidays_prior_scale': 7.51, 'seasonality_mode': 'additive', 'seasonality_prior_scale': 7.51}\n"
     ]
    },
    {
     "name": "stderr",
     "output_type": "stream",
     "text": [
      "20:19:34 - cmdstanpy - INFO - Chain [1] start processing\n",
      "20:19:36 - cmdstanpy - INFO - Chain [1] done processing\n",
      "20:19:38 - cmdstanpy - INFO - Chain [1] start processing\n",
      "20:19:38 - cmdstanpy - INFO - Chain [1] done processing\n",
      "20:19:38 - cmdstanpy - INFO - Chain [1] start processing\n",
      "20:19:38 - cmdstanpy - INFO - Chain [1] done processing\n",
      "20:19:38 - cmdstanpy - INFO - Chain [1] start processing\n",
      "20:19:38 - cmdstanpy - INFO - Chain [1] start processing\n",
      "20:19:39 - cmdstanpy - INFO - Chain [1] start processing\n",
      "20:19:39 - cmdstanpy - INFO - Chain [1] done processing\n",
      "20:19:39 - cmdstanpy - INFO - Chain [1] done processing\n",
      "20:19:42 - cmdstanpy - INFO - Chain [1] done processing\n"
     ]
    },
    {
     "name": "stdout",
     "output_type": "stream",
     "text": [
      "{'changepoint_prior_scale': 0.201, 'holidays_prior_scale': 0.01, 'seasonality_mode': 'multiplicative', 'seasonality_prior_scale': 0.01}\n"
     ]
    },
    {
     "name": "stderr",
     "output_type": "stream",
     "text": [
      "20:19:43 - cmdstanpy - INFO - Chain [1] start processing\n",
      "20:19:45 - cmdstanpy - INFO - Chain [1] done processing\n",
      "20:19:46 - cmdstanpy - INFO - Chain [1] start processing\n",
      "20:19:46 - cmdstanpy - INFO - Chain [1] done processing\n",
      "20:19:47 - cmdstanpy - INFO - Chain [1] start processing\n",
      "20:19:47 - cmdstanpy - INFO - Chain [1] start processing\n",
      "20:19:47 - cmdstanpy - INFO - Chain [1] start processing\n",
      "20:19:47 - cmdstanpy - INFO - Chain [1] done processing\n",
      "20:19:47 - cmdstanpy - INFO - Chain [1] start processing\n",
      "20:19:47 - cmdstanpy - INFO - Chain [1] done processing\n",
      "20:19:49 - cmdstanpy - INFO - Chain [1] done processing\n",
      "20:19:50 - cmdstanpy - INFO - Chain [1] done processing\n"
     ]
    },
    {
     "name": "stdout",
     "output_type": "stream",
     "text": [
      "{'changepoint_prior_scale': 0.201, 'holidays_prior_scale': 0.01, 'seasonality_mode': 'multiplicative', 'seasonality_prior_scale': 2.51}\n"
     ]
    },
    {
     "name": "stderr",
     "output_type": "stream",
     "text": [
      "20:19:51 - cmdstanpy - INFO - Chain [1] start processing\n",
      "20:19:54 - cmdstanpy - INFO - Chain [1] done processing\n",
      "20:19:56 - cmdstanpy - INFO - Chain [1] start processing\n",
      "20:19:56 - cmdstanpy - INFO - Chain [1] start processing\n",
      "20:19:56 - cmdstanpy - INFO - Chain [1] done processing\n",
      "20:19:56 - cmdstanpy - INFO - Chain [1] start processing\n",
      "20:19:56 - cmdstanpy - INFO - Chain [1] done processing\n",
      "20:19:56 - cmdstanpy - INFO - Chain [1] start processing\n",
      "20:19:57 - cmdstanpy - INFO - Chain [1] start processing\n",
      "20:19:57 - cmdstanpy - INFO - Chain [1] done processing\n",
      "20:19:57 - cmdstanpy - INFO - Chain [1] done processing\n",
      "20:20:00 - cmdstanpy - INFO - Chain [1] done processing\n"
     ]
    },
    {
     "name": "stdout",
     "output_type": "stream",
     "text": [
      "{'changepoint_prior_scale': 0.201, 'holidays_prior_scale': 0.01, 'seasonality_mode': 'multiplicative', 'seasonality_prior_scale': 5.01}\n"
     ]
    },
    {
     "name": "stderr",
     "output_type": "stream",
     "text": [
      "20:20:01 - cmdstanpy - INFO - Chain [1] start processing\n",
      "20:20:03 - cmdstanpy - INFO - Chain [1] done processing\n",
      "20:20:05 - cmdstanpy - INFO - Chain [1] start processing\n",
      "20:20:05 - cmdstanpy - INFO - Chain [1] start processing\n",
      "20:20:05 - cmdstanpy - INFO - Chain [1] done processing\n",
      "20:20:05 - cmdstanpy - INFO - Chain [1] start processing\n",
      "20:20:05 - cmdstanpy - INFO - Chain [1] start processing\n",
      "20:20:05 - cmdstanpy - INFO - Chain [1] start processing\n",
      "20:20:06 - cmdstanpy - INFO - Chain [1] done processing\n",
      "20:20:06 - cmdstanpy - INFO - Chain [1] done processing\n",
      "20:20:06 - cmdstanpy - INFO - Chain [1] done processing\n",
      "20:20:09 - cmdstanpy - INFO - Chain [1] done processing\n"
     ]
    },
    {
     "name": "stdout",
     "output_type": "stream",
     "text": [
      "{'changepoint_prior_scale': 0.201, 'holidays_prior_scale': 0.01, 'seasonality_mode': 'multiplicative', 'seasonality_prior_scale': 7.51}\n"
     ]
    },
    {
     "name": "stderr",
     "output_type": "stream",
     "text": [
      "20:20:09 - cmdstanpy - INFO - Chain [1] start processing\n",
      "20:20:12 - cmdstanpy - INFO - Chain [1] done processing\n",
      "20:20:14 - cmdstanpy - INFO - Chain [1] start processing\n",
      "20:20:14 - cmdstanpy - INFO - Chain [1] start processing\n",
      "20:20:14 - cmdstanpy - INFO - Chain [1] start processing\n",
      "20:20:14 - cmdstanpy - INFO - Chain [1] done processing\n",
      "20:20:14 - cmdstanpy - INFO - Chain [1] start processing\n",
      "20:20:14 - cmdstanpy - INFO - Chain [1] done processing\n",
      "20:20:14 - cmdstanpy - INFO - Chain [1] start processing\n",
      "20:20:15 - cmdstanpy - INFO - Chain [1] done processing\n",
      "20:20:15 - cmdstanpy - INFO - Chain [1] done processing\n",
      "20:20:18 - cmdstanpy - INFO - Chain [1] done processing\n"
     ]
    },
    {
     "name": "stdout",
     "output_type": "stream",
     "text": [
      "{'changepoint_prior_scale': 0.201, 'holidays_prior_scale': 0.01, 'seasonality_mode': 'additive', 'seasonality_prior_scale': 0.01}\n"
     ]
    },
    {
     "name": "stderr",
     "output_type": "stream",
     "text": [
      "20:20:19 - cmdstanpy - INFO - Chain [1] start processing\n",
      "20:20:21 - cmdstanpy - INFO - Chain [1] done processing\n",
      "20:20:23 - cmdstanpy - INFO - Chain [1] start processing\n",
      "20:20:23 - cmdstanpy - INFO - Chain [1] done processing\n",
      "20:20:23 - cmdstanpy - INFO - Chain [1] start processing\n",
      "20:20:23 - cmdstanpy - INFO - Chain [1] start processing\n",
      "20:20:23 - cmdstanpy - INFO - Chain [1] start processing\n",
      "20:20:23 - cmdstanpy - INFO - Chain [1] done processing\n",
      "20:20:23 - cmdstanpy - INFO - Chain [1] start processing\n",
      "20:20:24 - cmdstanpy - INFO - Chain [1] done processing\n",
      "20:20:24 - cmdstanpy - INFO - Chain [1] done processing\n",
      "20:20:28 - cmdstanpy - INFO - Chain [1] done processing\n"
     ]
    },
    {
     "name": "stdout",
     "output_type": "stream",
     "text": [
      "{'changepoint_prior_scale': 0.201, 'holidays_prior_scale': 0.01, 'seasonality_mode': 'additive', 'seasonality_prior_scale': 2.51}\n"
     ]
    },
    {
     "name": "stderr",
     "output_type": "stream",
     "text": [
      "20:20:29 - cmdstanpy - INFO - Chain [1] start processing\n",
      "20:20:32 - cmdstanpy - INFO - Chain [1] done processing\n",
      "20:20:33 - cmdstanpy - INFO - Chain [1] start processing\n",
      "20:20:33 - cmdstanpy - INFO - Chain [1] done processing\n",
      "20:20:33 - cmdstanpy - INFO - Chain [1] start processing\n",
      "20:20:34 - cmdstanpy - INFO - Chain [1] start processing\n",
      "20:20:34 - cmdstanpy - INFO - Chain [1] start processing\n",
      "20:20:34 - cmdstanpy - INFO - Chain [1] start processing\n",
      "20:20:34 - cmdstanpy - INFO - Chain [1] done processing\n",
      "20:20:34 - cmdstanpy - INFO - Chain [1] done processing\n",
      "20:20:34 - cmdstanpy - INFO - Chain [1] done processing\n",
      "20:20:38 - cmdstanpy - INFO - Chain [1] done processing\n"
     ]
    },
    {
     "name": "stdout",
     "output_type": "stream",
     "text": [
      "{'changepoint_prior_scale': 0.201, 'holidays_prior_scale': 0.01, 'seasonality_mode': 'additive', 'seasonality_prior_scale': 5.01}\n"
     ]
    },
    {
     "name": "stderr",
     "output_type": "stream",
     "text": [
      "20:20:39 - cmdstanpy - INFO - Chain [1] start processing\n",
      "20:20:42 - cmdstanpy - INFO - Chain [1] done processing\n",
      "20:20:44 - cmdstanpy - INFO - Chain [1] start processing\n",
      "20:20:44 - cmdstanpy - INFO - Chain [1] done processing\n",
      "20:20:44 - cmdstanpy - INFO - Chain [1] start processing\n",
      "20:20:44 - cmdstanpy - INFO - Chain [1] start processing\n",
      "20:20:44 - cmdstanpy - INFO - Chain [1] start processing\n",
      "20:20:44 - cmdstanpy - INFO - Chain [1] done processing\n",
      "20:20:45 - cmdstanpy - INFO - Chain [1] start processing\n",
      "20:20:45 - cmdstanpy - INFO - Chain [1] done processing\n",
      "20:20:45 - cmdstanpy - INFO - Chain [1] done processing\n",
      "20:20:49 - cmdstanpy - INFO - Chain [1] done processing\n"
     ]
    },
    {
     "name": "stdout",
     "output_type": "stream",
     "text": [
      "{'changepoint_prior_scale': 0.201, 'holidays_prior_scale': 0.01, 'seasonality_mode': 'additive', 'seasonality_prior_scale': 7.51}\n"
     ]
    },
    {
     "name": "stderr",
     "output_type": "stream",
     "text": [
      "20:20:50 - cmdstanpy - INFO - Chain [1] start processing\n",
      "20:20:53 - cmdstanpy - INFO - Chain [1] done processing\n",
      "20:20:55 - cmdstanpy - INFO - Chain [1] start processing\n",
      "20:20:55 - cmdstanpy - INFO - Chain [1] done processing\n",
      "20:20:55 - cmdstanpy - INFO - Chain [1] start processing\n",
      "20:20:55 - cmdstanpy - INFO - Chain [1] start processing\n",
      "20:20:55 - cmdstanpy - INFO - Chain [1] start processing\n",
      "20:20:56 - cmdstanpy - INFO - Chain [1] start processing\n",
      "20:20:56 - cmdstanpy - INFO - Chain [1] done processing\n",
      "20:20:56 - cmdstanpy - INFO - Chain [1] done processing\n",
      "20:20:56 - cmdstanpy - INFO - Chain [1] done processing\n",
      "20:21:00 - cmdstanpy - INFO - Chain [1] done processing\n"
     ]
    },
    {
     "name": "stdout",
     "output_type": "stream",
     "text": [
      "{'changepoint_prior_scale': 0.201, 'holidays_prior_scale': 2.51, 'seasonality_mode': 'multiplicative', 'seasonality_prior_scale': 0.01}\n"
     ]
    },
    {
     "name": "stderr",
     "output_type": "stream",
     "text": [
      "20:21:01 - cmdstanpy - INFO - Chain [1] start processing\n",
      "20:21:06 - cmdstanpy - INFO - Chain [1] done processing\n",
      "20:21:07 - cmdstanpy - INFO - Chain [1] start processing\n",
      "20:21:08 - cmdstanpy - INFO - Chain [1] start processing\n",
      "20:21:08 - cmdstanpy - INFO - Chain [1] start processing\n",
      "20:21:08 - cmdstanpy - INFO - Chain [1] done processing\n",
      "20:21:08 - cmdstanpy - INFO - Chain [1] start processing\n",
      "20:21:08 - cmdstanpy - INFO - Chain [1] done processing\n",
      "20:21:08 - cmdstanpy - INFO - Chain [1] start processing\n",
      "20:21:08 - cmdstanpy - INFO - Chain [1] done processing\n",
      "20:21:09 - cmdstanpy - INFO - Chain [1] done processing\n",
      "20:21:12 - cmdstanpy - INFO - Chain [1] done processing\n"
     ]
    },
    {
     "name": "stdout",
     "output_type": "stream",
     "text": [
      "{'changepoint_prior_scale': 0.201, 'holidays_prior_scale': 2.51, 'seasonality_mode': 'multiplicative', 'seasonality_prior_scale': 2.51}\n"
     ]
    },
    {
     "name": "stderr",
     "output_type": "stream",
     "text": [
      "20:21:13 - cmdstanpy - INFO - Chain [1] start processing\n",
      "20:21:18 - cmdstanpy - INFO - Chain [1] done processing\n",
      "20:21:20 - cmdstanpy - INFO - Chain [1] start processing\n",
      "20:21:20 - cmdstanpy - INFO - Chain [1] start processing\n",
      "20:21:20 - cmdstanpy - INFO - Chain [1] done processing\n",
      "20:21:20 - cmdstanpy - INFO - Chain [1] start processing\n",
      "20:21:21 - cmdstanpy - INFO - Chain [1] start processing\n",
      "20:21:21 - cmdstanpy - INFO - Chain [1] done processing\n",
      "20:21:21 - cmdstanpy - INFO - Chain [1] start processing\n",
      "20:21:21 - cmdstanpy - INFO - Chain [1] done processing\n",
      "20:21:22 - cmdstanpy - INFO - Chain [1] done processing\n",
      "20:21:25 - cmdstanpy - INFO - Chain [1] done processing\n"
     ]
    },
    {
     "name": "stdout",
     "output_type": "stream",
     "text": [
      "{'changepoint_prior_scale': 0.201, 'holidays_prior_scale': 2.51, 'seasonality_mode': 'multiplicative', 'seasonality_prior_scale': 5.01}\n"
     ]
    },
    {
     "name": "stderr",
     "output_type": "stream",
     "text": [
      "20:21:26 - cmdstanpy - INFO - Chain [1] start processing\n",
      "20:21:30 - cmdstanpy - INFO - Chain [1] done processing\n",
      "20:21:32 - cmdstanpy - INFO - Chain [1] start processing\n",
      "20:21:32 - cmdstanpy - INFO - Chain [1] done processing\n",
      "20:21:32 - cmdstanpy - INFO - Chain [1] start processing\n",
      "20:21:32 - cmdstanpy - INFO - Chain [1] start processing\n",
      "20:21:33 - cmdstanpy - INFO - Chain [1] done processing\n",
      "20:21:33 - cmdstanpy - INFO - Chain [1] start processing\n",
      "20:21:33 - cmdstanpy - INFO - Chain [1] done processing\n",
      "20:21:33 - cmdstanpy - INFO - Chain [1] start processing\n",
      "20:21:34 - cmdstanpy - INFO - Chain [1] done processing\n",
      "20:21:37 - cmdstanpy - INFO - Chain [1] done processing\n"
     ]
    },
    {
     "name": "stdout",
     "output_type": "stream",
     "text": [
      "{'changepoint_prior_scale': 0.201, 'holidays_prior_scale': 2.51, 'seasonality_mode': 'multiplicative', 'seasonality_prior_scale': 7.51}\n"
     ]
    },
    {
     "name": "stderr",
     "output_type": "stream",
     "text": [
      "20:21:38 - cmdstanpy - INFO - Chain [1] start processing\n",
      "20:21:43 - cmdstanpy - INFO - Chain [1] done processing\n",
      "20:21:44 - cmdstanpy - INFO - Chain [1] start processing\n",
      "20:21:45 - cmdstanpy - INFO - Chain [1] start processing\n",
      "20:21:45 - cmdstanpy - INFO - Chain [1] start processing\n",
      "20:21:45 - cmdstanpy - INFO - Chain [1] done processing\n",
      "20:21:45 - cmdstanpy - INFO - Chain [1] start processing\n",
      "20:21:45 - cmdstanpy - INFO - Chain [1] done processing\n",
      "20:21:45 - cmdstanpy - INFO - Chain [1] start processing\n",
      "20:21:46 - cmdstanpy - INFO - Chain [1] done processing\n",
      "20:21:46 - cmdstanpy - INFO - Chain [1] done processing\n",
      "20:21:51 - cmdstanpy - INFO - Chain [1] done processing\n"
     ]
    },
    {
     "name": "stdout",
     "output_type": "stream",
     "text": [
      "{'changepoint_prior_scale': 0.201, 'holidays_prior_scale': 2.51, 'seasonality_mode': 'additive', 'seasonality_prior_scale': 0.01}\n"
     ]
    },
    {
     "name": "stderr",
     "output_type": "stream",
     "text": [
      "20:21:53 - cmdstanpy - INFO - Chain [1] start processing\n",
      "20:21:55 - cmdstanpy - INFO - Chain [1] done processing\n",
      "20:21:56 - cmdstanpy - INFO - Chain [1] start processing\n",
      "20:21:57 - cmdstanpy - INFO - Chain [1] done processing\n",
      "20:21:57 - cmdstanpy - INFO - Chain [1] start processing\n",
      "20:21:57 - cmdstanpy - INFO - Chain [1] done processing\n",
      "20:21:57 - cmdstanpy - INFO - Chain [1] start processing\n",
      "20:21:57 - cmdstanpy - INFO - Chain [1] start processing\n",
      "20:21:57 - cmdstanpy - INFO - Chain [1] start processing\n",
      "20:21:58 - cmdstanpy - INFO - Chain [1] done processing\n",
      "20:21:58 - cmdstanpy - INFO - Chain [1] done processing\n",
      "20:22:02 - cmdstanpy - INFO - Chain [1] done processing\n"
     ]
    },
    {
     "name": "stdout",
     "output_type": "stream",
     "text": [
      "{'changepoint_prior_scale': 0.201, 'holidays_prior_scale': 2.51, 'seasonality_mode': 'additive', 'seasonality_prior_scale': 2.51}\n"
     ]
    },
    {
     "name": "stderr",
     "output_type": "stream",
     "text": [
      "20:22:03 - cmdstanpy - INFO - Chain [1] start processing\n",
      "20:22:06 - cmdstanpy - INFO - Chain [1] done processing\n",
      "20:22:07 - cmdstanpy - INFO - Chain [1] start processing\n",
      "20:22:07 - cmdstanpy - INFO - Chain [1] done processing\n",
      "20:22:08 - cmdstanpy - INFO - Chain [1] start processing\n",
      "20:22:08 - cmdstanpy - INFO - Chain [1] start processing\n",
      "20:22:08 - cmdstanpy - INFO - Chain [1] start processing\n",
      "20:22:08 - cmdstanpy - INFO - Chain [1] done processing\n",
      "20:22:08 - cmdstanpy - INFO - Chain [1] start processing\n",
      "20:22:09 - cmdstanpy - INFO - Chain [1] done processing\n",
      "20:22:09 - cmdstanpy - INFO - Chain [1] done processing\n",
      "20:22:11 - cmdstanpy - INFO - Chain [1] done processing\n"
     ]
    },
    {
     "name": "stdout",
     "output_type": "stream",
     "text": [
      "{'changepoint_prior_scale': 0.201, 'holidays_prior_scale': 2.51, 'seasonality_mode': 'additive', 'seasonality_prior_scale': 5.01}\n"
     ]
    },
    {
     "name": "stderr",
     "output_type": "stream",
     "text": [
      "20:22:12 - cmdstanpy - INFO - Chain [1] start processing\n",
      "20:22:16 - cmdstanpy - INFO - Chain [1] done processing\n",
      "20:22:17 - cmdstanpy - INFO - Chain [1] start processing\n",
      "20:22:17 - cmdstanpy - INFO - Chain [1] done processing\n",
      "20:22:17 - cmdstanpy - INFO - Chain [1] start processing\n",
      "20:22:18 - cmdstanpy - INFO - Chain [1] start processing\n",
      "20:22:18 - cmdstanpy - INFO - Chain [1] done processing\n",
      "20:22:18 - cmdstanpy - INFO - Chain [1] start processing\n",
      "20:22:18 - cmdstanpy - INFO - Chain [1] done processing\n",
      "20:22:18 - cmdstanpy - INFO - Chain [1] start processing\n",
      "20:22:19 - cmdstanpy - INFO - Chain [1] done processing\n",
      "20:22:22 - cmdstanpy - INFO - Chain [1] done processing\n"
     ]
    },
    {
     "name": "stdout",
     "output_type": "stream",
     "text": [
      "{'changepoint_prior_scale': 0.201, 'holidays_prior_scale': 2.51, 'seasonality_mode': 'additive', 'seasonality_prior_scale': 7.51}\n"
     ]
    },
    {
     "name": "stderr",
     "output_type": "stream",
     "text": [
      "20:22:23 - cmdstanpy - INFO - Chain [1] start processing\n",
      "20:22:27 - cmdstanpy - INFO - Chain [1] done processing\n",
      "20:22:28 - cmdstanpy - INFO - Chain [1] start processing\n",
      "20:22:28 - cmdstanpy - INFO - Chain [1] start processing\n",
      "20:22:29 - cmdstanpy - INFO - Chain [1] done processing\n",
      "20:22:29 - cmdstanpy - INFO - Chain [1] start processing\n",
      "20:22:29 - cmdstanpy - INFO - Chain [1] done processing\n",
      "20:22:29 - cmdstanpy - INFO - Chain [1] start processing\n",
      "20:22:29 - cmdstanpy - INFO - Chain [1] start processing\n",
      "20:22:29 - cmdstanpy - INFO - Chain [1] done processing\n",
      "20:22:30 - cmdstanpy - INFO - Chain [1] done processing\n",
      "20:22:33 - cmdstanpy - INFO - Chain [1] done processing\n"
     ]
    },
    {
     "name": "stdout",
     "output_type": "stream",
     "text": [
      "{'changepoint_prior_scale': 0.201, 'holidays_prior_scale': 5.01, 'seasonality_mode': 'multiplicative', 'seasonality_prior_scale': 0.01}\n"
     ]
    },
    {
     "name": "stderr",
     "output_type": "stream",
     "text": [
      "20:22:34 - cmdstanpy - INFO - Chain [1] start processing\n",
      "20:22:38 - cmdstanpy - INFO - Chain [1] done processing\n",
      "20:22:39 - cmdstanpy - INFO - Chain [1] start processing\n",
      "20:22:39 - cmdstanpy - INFO - Chain [1] done processing\n",
      "20:22:39 - cmdstanpy - INFO - Chain [1] start processing\n",
      "20:22:40 - cmdstanpy - INFO - Chain [1] start processing\n",
      "20:22:40 - cmdstanpy - INFO - Chain [1] start processing\n",
      "20:22:40 - cmdstanpy - INFO - Chain [1] done processing\n",
      "20:22:40 - cmdstanpy - INFO - Chain [1] start processing\n",
      "20:22:40 - cmdstanpy - INFO - Chain [1] done processing\n",
      "20:22:40 - cmdstanpy - INFO - Chain [1] done processing\n",
      "20:22:43 - cmdstanpy - INFO - Chain [1] done processing\n"
     ]
    },
    {
     "name": "stdout",
     "output_type": "stream",
     "text": [
      "{'changepoint_prior_scale': 0.201, 'holidays_prior_scale': 5.01, 'seasonality_mode': 'multiplicative', 'seasonality_prior_scale': 2.51}\n"
     ]
    },
    {
     "name": "stderr",
     "output_type": "stream",
     "text": [
      "20:22:44 - cmdstanpy - INFO - Chain [1] start processing\n",
      "20:22:48 - cmdstanpy - INFO - Chain [1] done processing\n",
      "20:22:49 - cmdstanpy - INFO - Chain [1] start processing\n",
      "20:22:49 - cmdstanpy - INFO - Chain [1] start processing\n",
      "20:22:50 - cmdstanpy - INFO - Chain [1] start processing\n",
      "20:22:50 - cmdstanpy - INFO - Chain [1] start processing\n",
      "20:22:50 - cmdstanpy - INFO - Chain [1] done processing\n",
      "20:22:50 - cmdstanpy - INFO - Chain [1] start processing\n",
      "20:22:50 - cmdstanpy - INFO - Chain [1] done processing\n",
      "20:22:51 - cmdstanpy - INFO - Chain [1] done processing\n",
      "20:22:51 - cmdstanpy - INFO - Chain [1] done processing\n",
      "20:22:55 - cmdstanpy - INFO - Chain [1] done processing\n"
     ]
    },
    {
     "name": "stdout",
     "output_type": "stream",
     "text": [
      "{'changepoint_prior_scale': 0.201, 'holidays_prior_scale': 5.01, 'seasonality_mode': 'multiplicative', 'seasonality_prior_scale': 5.01}\n"
     ]
    },
    {
     "name": "stderr",
     "output_type": "stream",
     "text": [
      "20:22:56 - cmdstanpy - INFO - Chain [1] start processing\n",
      "20:22:59 - cmdstanpy - INFO - Chain [1] done processing\n",
      "20:23:01 - cmdstanpy - INFO - Chain [1] start processing\n",
      "20:23:01 - cmdstanpy - INFO - Chain [1] start processing\n",
      "20:23:01 - cmdstanpy - INFO - Chain [1] start processing\n",
      "20:23:01 - cmdstanpy - INFO - Chain [1] done processing\n",
      "20:23:01 - cmdstanpy - INFO - Chain [1] done processing\n",
      "20:23:01 - cmdstanpy - INFO - Chain [1] start processing\n",
      "20:23:02 - cmdstanpy - INFO - Chain [1] start processing\n",
      "20:23:02 - cmdstanpy - INFO - Chain [1] done processing\n",
      "20:23:03 - cmdstanpy - INFO - Chain [1] done processing\n",
      "20:23:08 - cmdstanpy - INFO - Chain [1] done processing\n"
     ]
    },
    {
     "name": "stdout",
     "output_type": "stream",
     "text": [
      "{'changepoint_prior_scale': 0.201, 'holidays_prior_scale': 5.01, 'seasonality_mode': 'multiplicative', 'seasonality_prior_scale': 7.51}\n"
     ]
    },
    {
     "name": "stderr",
     "output_type": "stream",
     "text": [
      "20:23:09 - cmdstanpy - INFO - Chain [1] start processing\n",
      "20:23:14 - cmdstanpy - INFO - Chain [1] done processing\n",
      "20:23:16 - cmdstanpy - INFO - Chain [1] start processing\n",
      "20:23:16 - cmdstanpy - INFO - Chain [1] start processing\n",
      "20:23:16 - cmdstanpy - INFO - Chain [1] done processing\n",
      "20:23:16 - cmdstanpy - INFO - Chain [1] start processing\n",
      "20:23:16 - cmdstanpy - INFO - Chain [1] start processing\n",
      "20:23:16 - cmdstanpy - INFO - Chain [1] done processing\n",
      "20:23:16 - cmdstanpy - INFO - Chain [1] start processing\n",
      "20:23:17 - cmdstanpy - INFO - Chain [1] done processing\n",
      "20:23:17 - cmdstanpy - INFO - Chain [1] done processing\n",
      "20:23:20 - cmdstanpy - INFO - Chain [1] done processing\n"
     ]
    },
    {
     "name": "stdout",
     "output_type": "stream",
     "text": [
      "{'changepoint_prior_scale': 0.201, 'holidays_prior_scale': 5.01, 'seasonality_mode': 'additive', 'seasonality_prior_scale': 0.01}\n"
     ]
    },
    {
     "name": "stderr",
     "output_type": "stream",
     "text": [
      "20:23:21 - cmdstanpy - INFO - Chain [1] start processing\n",
      "20:23:25 - cmdstanpy - INFO - Chain [1] done processing\n",
      "20:23:27 - cmdstanpy - INFO - Chain [1] start processing\n",
      "20:23:27 - cmdstanpy - INFO - Chain [1] start processing\n",
      "20:23:27 - cmdstanpy - INFO - Chain [1] done processing\n",
      "20:23:27 - cmdstanpy - INFO - Chain [1] start processing\n",
      "20:23:27 - cmdstanpy - INFO - Chain [1] done processing\n",
      "20:23:27 - cmdstanpy - INFO - Chain [1] start processing\n",
      "20:23:28 - cmdstanpy - INFO - Chain [1] start processing\n",
      "20:23:28 - cmdstanpy - INFO - Chain [1] done processing\n",
      "20:23:28 - cmdstanpy - INFO - Chain [1] done processing\n",
      "20:23:31 - cmdstanpy - INFO - Chain [1] done processing\n"
     ]
    },
    {
     "name": "stdout",
     "output_type": "stream",
     "text": [
      "{'changepoint_prior_scale': 0.201, 'holidays_prior_scale': 5.01, 'seasonality_mode': 'additive', 'seasonality_prior_scale': 2.51}\n"
     ]
    },
    {
     "name": "stderr",
     "output_type": "stream",
     "text": [
      "20:23:32 - cmdstanpy - INFO - Chain [1] start processing\n",
      "20:23:36 - cmdstanpy - INFO - Chain [1] done processing\n",
      "20:23:37 - cmdstanpy - INFO - Chain [1] start processing\n",
      "20:23:37 - cmdstanpy - INFO - Chain [1] done processing\n",
      "20:23:37 - cmdstanpy - INFO - Chain [1] start processing\n",
      "20:23:37 - cmdstanpy - INFO - Chain [1] start processing\n",
      "20:23:38 - cmdstanpy - INFO - Chain [1] done processing\n",
      "20:23:38 - cmdstanpy - INFO - Chain [1] start processing\n",
      "20:23:38 - cmdstanpy - INFO - Chain [1] done processing\n",
      "20:23:38 - cmdstanpy - INFO - Chain [1] start processing\n",
      "20:23:39 - cmdstanpy - INFO - Chain [1] done processing\n",
      "20:23:43 - cmdstanpy - INFO - Chain [1] done processing\n"
     ]
    },
    {
     "name": "stdout",
     "output_type": "stream",
     "text": [
      "{'changepoint_prior_scale': 0.201, 'holidays_prior_scale': 5.01, 'seasonality_mode': 'additive', 'seasonality_prior_scale': 5.01}\n"
     ]
    },
    {
     "name": "stderr",
     "output_type": "stream",
     "text": [
      "20:23:44 - cmdstanpy - INFO - Chain [1] start processing\n",
      "20:23:48 - cmdstanpy - INFO - Chain [1] done processing\n",
      "20:23:49 - cmdstanpy - INFO - Chain [1] start processing\n",
      "20:23:49 - cmdstanpy - INFO - Chain [1] done processing\n",
      "20:23:49 - cmdstanpy - INFO - Chain [1] start processing\n",
      "20:23:49 - cmdstanpy - INFO - Chain [1] start processing\n",
      "20:23:50 - cmdstanpy - INFO - Chain [1] start processing\n",
      "20:23:50 - cmdstanpy - INFO - Chain [1] done processing\n",
      "20:23:50 - cmdstanpy - INFO - Chain [1] start processing\n",
      "20:23:50 - cmdstanpy - INFO - Chain [1] done processing\n",
      "20:23:51 - cmdstanpy - INFO - Chain [1] done processing\n",
      "20:23:54 - cmdstanpy - INFO - Chain [1] done processing\n"
     ]
    },
    {
     "name": "stdout",
     "output_type": "stream",
     "text": [
      "{'changepoint_prior_scale': 0.201, 'holidays_prior_scale': 5.01, 'seasonality_mode': 'additive', 'seasonality_prior_scale': 7.51}\n"
     ]
    },
    {
     "name": "stderr",
     "output_type": "stream",
     "text": [
      "20:23:55 - cmdstanpy - INFO - Chain [1] start processing\n",
      "20:23:59 - cmdstanpy - INFO - Chain [1] done processing\n",
      "20:24:01 - cmdstanpy - INFO - Chain [1] start processing\n",
      "20:24:01 - cmdstanpy - INFO - Chain [1] done processing\n",
      "20:24:01 - cmdstanpy - INFO - Chain [1] start processing\n",
      "20:24:01 - cmdstanpy - INFO - Chain [1] start processing\n",
      "20:24:01 - cmdstanpy - INFO - Chain [1] done processing\n",
      "20:24:01 - cmdstanpy - INFO - Chain [1] start processing\n",
      "20:24:02 - cmdstanpy - INFO - Chain [1] start processing\n",
      "20:24:02 - cmdstanpy - INFO - Chain [1] done processing\n",
      "20:24:03 - cmdstanpy - INFO - Chain [1] done processing\n",
      "20:24:05 - cmdstanpy - INFO - Chain [1] done processing\n"
     ]
    },
    {
     "name": "stdout",
     "output_type": "stream",
     "text": [
      "{'changepoint_prior_scale': 0.201, 'holidays_prior_scale': 7.51, 'seasonality_mode': 'multiplicative', 'seasonality_prior_scale': 0.01}\n"
     ]
    },
    {
     "name": "stderr",
     "output_type": "stream",
     "text": [
      "20:24:06 - cmdstanpy - INFO - Chain [1] start processing\n",
      "20:24:09 - cmdstanpy - INFO - Chain [1] done processing\n",
      "20:24:11 - cmdstanpy - INFO - Chain [1] start processing\n",
      "20:24:11 - cmdstanpy - INFO - Chain [1] start processing\n",
      "20:24:11 - cmdstanpy - INFO - Chain [1] start processing\n",
      "20:24:11 - cmdstanpy - INFO - Chain [1] start processing\n",
      "20:24:11 - cmdstanpy - INFO - Chain [1] start processing\n",
      "20:24:11 - cmdstanpy - INFO - Chain [1] done processing\n",
      "20:24:12 - cmdstanpy - INFO - Chain [1] done processing\n",
      "20:24:12 - cmdstanpy - INFO - Chain [1] done processing\n",
      "20:24:12 - cmdstanpy - INFO - Chain [1] done processing\n",
      "20:24:15 - cmdstanpy - INFO - Chain [1] done processing\n"
     ]
    },
    {
     "name": "stdout",
     "output_type": "stream",
     "text": [
      "{'changepoint_prior_scale': 0.201, 'holidays_prior_scale': 7.51, 'seasonality_mode': 'multiplicative', 'seasonality_prior_scale': 2.51}\n"
     ]
    },
    {
     "name": "stderr",
     "output_type": "stream",
     "text": [
      "20:24:16 - cmdstanpy - INFO - Chain [1] start processing\n",
      "20:24:21 - cmdstanpy - INFO - Chain [1] done processing\n",
      "20:24:23 - cmdstanpy - INFO - Chain [1] start processing\n",
      "20:24:23 - cmdstanpy - INFO - Chain [1] start processing\n",
      "20:24:23 - cmdstanpy - INFO - Chain [1] start processing\n",
      "20:24:23 - cmdstanpy - INFO - Chain [1] done processing\n",
      "20:24:23 - cmdstanpy - INFO - Chain [1] start processing\n",
      "20:24:24 - cmdstanpy - INFO - Chain [1] start processing\n",
      "20:24:24 - cmdstanpy - INFO - Chain [1] done processing\n",
      "20:24:24 - cmdstanpy - INFO - Chain [1] done processing\n",
      "20:24:25 - cmdstanpy - INFO - Chain [1] done processing\n",
      "20:24:29 - cmdstanpy - INFO - Chain [1] done processing\n"
     ]
    },
    {
     "name": "stdout",
     "output_type": "stream",
     "text": [
      "{'changepoint_prior_scale': 0.201, 'holidays_prior_scale': 7.51, 'seasonality_mode': 'multiplicative', 'seasonality_prior_scale': 5.01}\n"
     ]
    },
    {
     "name": "stderr",
     "output_type": "stream",
     "text": [
      "20:24:30 - cmdstanpy - INFO - Chain [1] start processing\n",
      "20:24:36 - cmdstanpy - INFO - Chain [1] done processing\n",
      "20:24:38 - cmdstanpy - INFO - Chain [1] start processing\n",
      "20:24:38 - cmdstanpy - INFO - Chain [1] start processing\n",
      "20:24:38 - cmdstanpy - INFO - Chain [1] done processing\n",
      "20:24:38 - cmdstanpy - INFO - Chain [1] start processing\n",
      "20:24:38 - cmdstanpy - INFO - Chain [1] done processing\n",
      "20:24:38 - cmdstanpy - INFO - Chain [1] start processing\n",
      "20:24:39 - cmdstanpy - INFO - Chain [1] start processing\n",
      "20:24:39 - cmdstanpy - INFO - Chain [1] done processing\n",
      "20:24:40 - cmdstanpy - INFO - Chain [1] done processing\n",
      "20:24:44 - cmdstanpy - INFO - Chain [1] done processing\n"
     ]
    },
    {
     "name": "stdout",
     "output_type": "stream",
     "text": [
      "{'changepoint_prior_scale': 0.201, 'holidays_prior_scale': 7.51, 'seasonality_mode': 'multiplicative', 'seasonality_prior_scale': 7.51}\n"
     ]
    },
    {
     "name": "stderr",
     "output_type": "stream",
     "text": [
      "20:24:45 - cmdstanpy - INFO - Chain [1] start processing\n",
      "20:24:50 - cmdstanpy - INFO - Chain [1] done processing\n",
      "20:24:51 - cmdstanpy - INFO - Chain [1] start processing\n",
      "20:24:51 - cmdstanpy - INFO - Chain [1] start processing\n",
      "20:24:51 - cmdstanpy - INFO - Chain [1] start processing\n",
      "20:24:51 - cmdstanpy - INFO - Chain [1] done processing\n",
      "20:24:52 - cmdstanpy - INFO - Chain [1] start processing\n",
      "20:24:52 - cmdstanpy - INFO - Chain [1] done processing\n",
      "20:24:52 - cmdstanpy - INFO - Chain [1] start processing\n",
      "20:24:52 - cmdstanpy - INFO - Chain [1] done processing\n",
      "20:24:53 - cmdstanpy - INFO - Chain [1] done processing\n",
      "20:24:57 - cmdstanpy - INFO - Chain [1] done processing\n"
     ]
    },
    {
     "name": "stdout",
     "output_type": "stream",
     "text": [
      "{'changepoint_prior_scale': 0.201, 'holidays_prior_scale': 7.51, 'seasonality_mode': 'additive', 'seasonality_prior_scale': 0.01}\n"
     ]
    },
    {
     "name": "stderr",
     "output_type": "stream",
     "text": [
      "20:24:58 - cmdstanpy - INFO - Chain [1] start processing\n",
      "20:25:00 - cmdstanpy - INFO - Chain [1] done processing\n",
      "20:25:02 - cmdstanpy - INFO - Chain [1] start processing\n",
      "20:25:02 - cmdstanpy - INFO - Chain [1] done processing\n",
      "20:25:02 - cmdstanpy - INFO - Chain [1] start processing\n",
      "20:25:02 - cmdstanpy - INFO - Chain [1] start processing\n",
      "20:25:02 - cmdstanpy - INFO - Chain [1] start processing\n",
      "20:25:02 - cmdstanpy - INFO - Chain [1] done processing\n",
      "20:25:02 - cmdstanpy - INFO - Chain [1] done processing\n",
      "20:25:03 - cmdstanpy - INFO - Chain [1] start processing\n",
      "20:25:03 - cmdstanpy - INFO - Chain [1] done processing\n",
      "20:25:07 - cmdstanpy - INFO - Chain [1] done processing\n"
     ]
    },
    {
     "name": "stdout",
     "output_type": "stream",
     "text": [
      "{'changepoint_prior_scale': 0.201, 'holidays_prior_scale': 7.51, 'seasonality_mode': 'additive', 'seasonality_prior_scale': 2.51}\n"
     ]
    },
    {
     "name": "stderr",
     "output_type": "stream",
     "text": [
      "20:25:08 - cmdstanpy - INFO - Chain [1] start processing\n",
      "20:25:12 - cmdstanpy - INFO - Chain [1] done processing\n",
      "20:25:13 - cmdstanpy - INFO - Chain [1] start processing\n",
      "20:25:13 - cmdstanpy - INFO - Chain [1] done processing\n",
      "20:25:13 - cmdstanpy - INFO - Chain [1] start processing\n",
      "20:25:14 - cmdstanpy - INFO - Chain [1] start processing\n",
      "20:25:14 - cmdstanpy - INFO - Chain [1] done processing\n",
      "20:25:14 - cmdstanpy - INFO - Chain [1] start processing\n",
      "20:25:14 - cmdstanpy - INFO - Chain [1] start processing\n",
      "20:25:14 - cmdstanpy - INFO - Chain [1] done processing\n",
      "20:25:15 - cmdstanpy - INFO - Chain [1] done processing\n",
      "20:25:18 - cmdstanpy - INFO - Chain [1] done processing\n"
     ]
    },
    {
     "name": "stdout",
     "output_type": "stream",
     "text": [
      "{'changepoint_prior_scale': 0.201, 'holidays_prior_scale': 7.51, 'seasonality_mode': 'additive', 'seasonality_prior_scale': 5.01}\n"
     ]
    },
    {
     "name": "stderr",
     "output_type": "stream",
     "text": [
      "20:25:19 - cmdstanpy - INFO - Chain [1] start processing\n",
      "20:25:22 - cmdstanpy - INFO - Chain [1] done processing\n",
      "20:25:24 - cmdstanpy - INFO - Chain [1] start processing\n",
      "20:25:24 - cmdstanpy - INFO - Chain [1] done processing\n",
      "20:25:24 - cmdstanpy - INFO - Chain [1] start processing\n",
      "20:25:24 - cmdstanpy - INFO - Chain [1] done processing\n",
      "20:25:24 - cmdstanpy - INFO - Chain [1] start processing\n",
      "20:25:25 - cmdstanpy - INFO - Chain [1] start processing\n",
      "20:25:25 - cmdstanpy - INFO - Chain [1] start processing\n",
      "20:25:25 - cmdstanpy - INFO - Chain [1] done processing\n",
      "20:25:25 - cmdstanpy - INFO - Chain [1] done processing\n",
      "20:25:28 - cmdstanpy - INFO - Chain [1] done processing\n"
     ]
    },
    {
     "name": "stdout",
     "output_type": "stream",
     "text": [
      "{'changepoint_prior_scale': 0.201, 'holidays_prior_scale': 7.51, 'seasonality_mode': 'additive', 'seasonality_prior_scale': 7.51}\n"
     ]
    },
    {
     "name": "stderr",
     "output_type": "stream",
     "text": [
      "20:25:29 - cmdstanpy - INFO - Chain [1] start processing\n",
      "20:25:33 - cmdstanpy - INFO - Chain [1] done processing\n",
      "20:25:34 - cmdstanpy - INFO - Chain [1] start processing\n",
      "20:25:34 - cmdstanpy - INFO - Chain [1] done processing\n",
      "20:25:35 - cmdstanpy - INFO - Chain [1] start processing\n",
      "20:25:35 - cmdstanpy - INFO - Chain [1] start processing\n",
      "20:25:35 - cmdstanpy - INFO - Chain [1] done processing\n",
      "20:25:35 - cmdstanpy - INFO - Chain [1] start processing\n",
      "20:25:35 - cmdstanpy - INFO - Chain [1] start processing\n",
      "20:25:35 - cmdstanpy - INFO - Chain [1] done processing\n",
      "20:25:36 - cmdstanpy - INFO - Chain [1] done processing\n",
      "20:25:39 - cmdstanpy - INFO - Chain [1] done processing\n"
     ]
    },
    {
     "name": "stdout",
     "output_type": "stream",
     "text": [
      "{'changepoint_prior_scale': 0.30100000000000005, 'holidays_prior_scale': 0.01, 'seasonality_mode': 'multiplicative', 'seasonality_prior_scale': 0.01}\n"
     ]
    },
    {
     "name": "stderr",
     "output_type": "stream",
     "text": [
      "20:25:40 - cmdstanpy - INFO - Chain [1] start processing\n",
      "20:25:43 - cmdstanpy - INFO - Chain [1] done processing\n",
      "20:25:44 - cmdstanpy - INFO - Chain [1] start processing\n",
      "20:25:45 - cmdstanpy - INFO - Chain [1] start processing\n",
      "20:25:45 - cmdstanpy - INFO - Chain [1] start processing\n",
      "20:25:45 - cmdstanpy - INFO - Chain [1] start processing\n",
      "20:25:45 - cmdstanpy - INFO - Chain [1] done processing\n",
      "20:25:45 - cmdstanpy - INFO - Chain [1] start processing\n",
      "20:25:45 - cmdstanpy - INFO - Chain [1] done processing\n",
      "20:25:46 - cmdstanpy - INFO - Chain [1] done processing\n",
      "20:25:46 - cmdstanpy - INFO - Chain [1] done processing\n",
      "20:25:48 - cmdstanpy - INFO - Chain [1] done processing\n"
     ]
    },
    {
     "name": "stdout",
     "output_type": "stream",
     "text": [
      "{'changepoint_prior_scale': 0.30100000000000005, 'holidays_prior_scale': 0.01, 'seasonality_mode': 'multiplicative', 'seasonality_prior_scale': 2.51}\n"
     ]
    },
    {
     "name": "stderr",
     "output_type": "stream",
     "text": [
      "20:25:49 - cmdstanpy - INFO - Chain [1] start processing\n",
      "20:25:54 - cmdstanpy - INFO - Chain [1] done processing\n",
      "20:25:55 - cmdstanpy - INFO - Chain [1] start processing\n",
      "20:25:55 - cmdstanpy - INFO - Chain [1] start processing\n",
      "20:25:55 - cmdstanpy - INFO - Chain [1] start processing\n",
      "20:25:56 - cmdstanpy - INFO - Chain [1] start processing\n",
      "20:25:56 - cmdstanpy - INFO - Chain [1] done processing\n",
      "20:25:56 - cmdstanpy - INFO - Chain [1] start processing\n",
      "20:25:56 - cmdstanpy - INFO - Chain [1] done processing\n",
      "20:25:56 - cmdstanpy - INFO - Chain [1] done processing\n",
      "20:25:57 - cmdstanpy - INFO - Chain [1] done processing\n",
      "20:26:00 - cmdstanpy - INFO - Chain [1] done processing\n"
     ]
    },
    {
     "name": "stdout",
     "output_type": "stream",
     "text": [
      "{'changepoint_prior_scale': 0.30100000000000005, 'holidays_prior_scale': 0.01, 'seasonality_mode': 'multiplicative', 'seasonality_prior_scale': 5.01}\n"
     ]
    },
    {
     "name": "stderr",
     "output_type": "stream",
     "text": [
      "20:26:00 - cmdstanpy - INFO - Chain [1] start processing\n",
      "20:26:04 - cmdstanpy - INFO - Chain [1] done processing\n",
      "20:26:05 - cmdstanpy - INFO - Chain [1] start processing\n",
      "20:26:05 - cmdstanpy - INFO - Chain [1] start processing\n",
      "20:26:05 - cmdstanpy - INFO - Chain [1] start processing\n",
      "20:26:06 - cmdstanpy - INFO - Chain [1] start processing\n",
      "20:26:06 - cmdstanpy - INFO - Chain [1] done processing\n",
      "20:26:06 - cmdstanpy - INFO - Chain [1] start processing\n",
      "20:26:06 - cmdstanpy - INFO - Chain [1] done processing\n",
      "20:26:06 - cmdstanpy - INFO - Chain [1] done processing\n",
      "20:26:07 - cmdstanpy - INFO - Chain [1] done processing\n",
      "20:26:10 - cmdstanpy - INFO - Chain [1] done processing\n"
     ]
    },
    {
     "name": "stdout",
     "output_type": "stream",
     "text": [
      "{'changepoint_prior_scale': 0.30100000000000005, 'holidays_prior_scale': 0.01, 'seasonality_mode': 'multiplicative', 'seasonality_prior_scale': 7.51}\n"
     ]
    },
    {
     "name": "stderr",
     "output_type": "stream",
     "text": [
      "20:26:11 - cmdstanpy - INFO - Chain [1] start processing\n",
      "20:26:15 - cmdstanpy - INFO - Chain [1] done processing\n",
      "20:26:17 - cmdstanpy - INFO - Chain [1] start processing\n",
      "20:26:17 - cmdstanpy - INFO - Chain [1] start processing\n",
      "20:26:17 - cmdstanpy - INFO - Chain [1] start processing\n",
      "20:26:17 - cmdstanpy - INFO - Chain [1] done processing\n",
      "20:26:17 - cmdstanpy - INFO - Chain [1] start processing\n",
      "20:26:17 - cmdstanpy - INFO - Chain [1] start processing\n",
      "20:26:18 - cmdstanpy - INFO - Chain [1] done processing\n",
      "20:26:18 - cmdstanpy - INFO - Chain [1] done processing\n",
      "20:26:19 - cmdstanpy - INFO - Chain [1] done processing\n",
      "20:26:21 - cmdstanpy - INFO - Chain [1] done processing\n"
     ]
    },
    {
     "name": "stdout",
     "output_type": "stream",
     "text": [
      "{'changepoint_prior_scale': 0.30100000000000005, 'holidays_prior_scale': 0.01, 'seasonality_mode': 'additive', 'seasonality_prior_scale': 0.01}\n"
     ]
    },
    {
     "name": "stderr",
     "output_type": "stream",
     "text": [
      "20:26:22 - cmdstanpy - INFO - Chain [1] start processing\n",
      "20:26:25 - cmdstanpy - INFO - Chain [1] done processing\n",
      "20:26:26 - cmdstanpy - INFO - Chain [1] start processing\n",
      "20:26:27 - cmdstanpy - INFO - Chain [1] done processing\n",
      "20:26:27 - cmdstanpy - INFO - Chain [1] start processing\n",
      "20:26:27 - cmdstanpy - INFO - Chain [1] start processing\n",
      "20:26:27 - cmdstanpy - INFO - Chain [1] done processing\n",
      "20:26:27 - cmdstanpy - INFO - Chain [1] start processing\n",
      "20:26:28 - cmdstanpy - INFO - Chain [1] start processing\n",
      "20:26:28 - cmdstanpy - INFO - Chain [1] done processing\n",
      "20:26:28 - cmdstanpy - INFO - Chain [1] done processing\n",
      "20:26:31 - cmdstanpy - INFO - Chain [1] done processing\n"
     ]
    },
    {
     "name": "stdout",
     "output_type": "stream",
     "text": [
      "{'changepoint_prior_scale': 0.30100000000000005, 'holidays_prior_scale': 0.01, 'seasonality_mode': 'additive', 'seasonality_prior_scale': 2.51}\n"
     ]
    },
    {
     "name": "stderr",
     "output_type": "stream",
     "text": [
      "20:26:32 - cmdstanpy - INFO - Chain [1] start processing\n",
      "20:26:36 - cmdstanpy - INFO - Chain [1] done processing\n",
      "20:26:37 - cmdstanpy - INFO - Chain [1] start processing\n",
      "20:26:37 - cmdstanpy - INFO - Chain [1] done processing\n",
      "20:26:38 - cmdstanpy - INFO - Chain [1] start processing\n",
      "20:26:38 - cmdstanpy - INFO - Chain [1] start processing\n",
      "20:26:38 - cmdstanpy - INFO - Chain [1] start processing\n",
      "20:26:38 - cmdstanpy - INFO - Chain [1] done processing\n",
      "20:26:38 - cmdstanpy - INFO - Chain [1] start processing\n",
      "20:26:38 - cmdstanpy - INFO - Chain [1] done processing\n",
      "20:26:38 - cmdstanpy - INFO - Chain [1] done processing\n",
      "20:26:43 - cmdstanpy - INFO - Chain [1] done processing\n"
     ]
    },
    {
     "name": "stdout",
     "output_type": "stream",
     "text": [
      "{'changepoint_prior_scale': 0.30100000000000005, 'holidays_prior_scale': 0.01, 'seasonality_mode': 'additive', 'seasonality_prior_scale': 5.01}\n"
     ]
    },
    {
     "name": "stderr",
     "output_type": "stream",
     "text": [
      "20:26:44 - cmdstanpy - INFO - Chain [1] start processing\n",
      "20:26:47 - cmdstanpy - INFO - Chain [1] done processing\n",
      "20:26:49 - cmdstanpy - INFO - Chain [1] start processing\n",
      "20:26:49 - cmdstanpy - INFO - Chain [1] start processing\n",
      "20:26:49 - cmdstanpy - INFO - Chain [1] done processing\n",
      "20:26:49 - cmdstanpy - INFO - Chain [1] start processing\n",
      "20:26:49 - cmdstanpy - INFO - Chain [1] start processing\n",
      "20:26:50 - cmdstanpy - INFO - Chain [1] done processing\n",
      "20:26:50 - cmdstanpy - INFO - Chain [1] start processing\n",
      "20:26:50 - cmdstanpy - INFO - Chain [1] done processing\n",
      "20:26:50 - cmdstanpy - INFO - Chain [1] done processing\n",
      "20:26:53 - cmdstanpy - INFO - Chain [1] done processing\n"
     ]
    },
    {
     "name": "stdout",
     "output_type": "stream",
     "text": [
      "{'changepoint_prior_scale': 0.30100000000000005, 'holidays_prior_scale': 0.01, 'seasonality_mode': 'additive', 'seasonality_prior_scale': 7.51}\n"
     ]
    },
    {
     "name": "stderr",
     "output_type": "stream",
     "text": [
      "20:26:54 - cmdstanpy - INFO - Chain [1] start processing\n",
      "20:26:57 - cmdstanpy - INFO - Chain [1] done processing\n",
      "20:26:59 - cmdstanpy - INFO - Chain [1] start processing\n",
      "20:26:59 - cmdstanpy - INFO - Chain [1] start processing\n",
      "20:26:59 - cmdstanpy - INFO - Chain [1] start processing\n",
      "20:26:59 - cmdstanpy - INFO - Chain [1] done processing\n",
      "20:26:59 - cmdstanpy - INFO - Chain [1] start processing\n",
      "20:26:59 - cmdstanpy - INFO - Chain [1] done processing\n",
      "20:26:59 - cmdstanpy - INFO - Chain [1] start processing\n",
      "20:27:00 - cmdstanpy - INFO - Chain [1] done processing\n",
      "20:27:00 - cmdstanpy - INFO - Chain [1] done processing\n",
      "20:27:04 - cmdstanpy - INFO - Chain [1] done processing\n"
     ]
    },
    {
     "name": "stdout",
     "output_type": "stream",
     "text": [
      "{'changepoint_prior_scale': 0.30100000000000005, 'holidays_prior_scale': 2.51, 'seasonality_mode': 'multiplicative', 'seasonality_prior_scale': 0.01}\n"
     ]
    },
    {
     "name": "stderr",
     "output_type": "stream",
     "text": [
      "20:27:05 - cmdstanpy - INFO - Chain [1] start processing\n",
      "20:27:07 - cmdstanpy - INFO - Chain [1] done processing\n",
      "20:27:08 - cmdstanpy - INFO - Chain [1] start processing\n",
      "20:27:09 - cmdstanpy - INFO - Chain [1] start processing\n",
      "20:27:09 - cmdstanpy - INFO - Chain [1] done processing\n",
      "20:27:09 - cmdstanpy - INFO - Chain [1] start processing\n",
      "20:27:09 - cmdstanpy - INFO - Chain [1] start processing\n",
      "20:27:09 - cmdstanpy - INFO - Chain [1] done processing\n",
      "20:27:09 - cmdstanpy - INFO - Chain [1] done processing\n",
      "20:27:09 - cmdstanpy - INFO - Chain [1] start processing\n",
      "20:27:10 - cmdstanpy - INFO - Chain [1] done processing\n",
      "20:27:12 - cmdstanpy - INFO - Chain [1] done processing\n"
     ]
    },
    {
     "name": "stdout",
     "output_type": "stream",
     "text": [
      "{'changepoint_prior_scale': 0.30100000000000005, 'holidays_prior_scale': 2.51, 'seasonality_mode': 'multiplicative', 'seasonality_prior_scale': 2.51}\n"
     ]
    },
    {
     "name": "stderr",
     "output_type": "stream",
     "text": [
      "20:27:13 - cmdstanpy - INFO - Chain [1] start processing\n",
      "20:27:18 - cmdstanpy - INFO - Chain [1] done processing\n",
      "20:27:20 - cmdstanpy - INFO - Chain [1] start processing\n",
      "20:27:20 - cmdstanpy - INFO - Chain [1] start processing\n",
      "20:27:20 - cmdstanpy - INFO - Chain [1] start processing\n",
      "20:27:20 - cmdstanpy - INFO - Chain [1] start processing\n",
      "20:27:20 - cmdstanpy - INFO - Chain [1] done processing\n",
      "20:27:21 - cmdstanpy - INFO - Chain [1] start processing\n",
      "20:27:21 - cmdstanpy - INFO - Chain [1] done processing\n",
      "20:27:21 - cmdstanpy - INFO - Chain [1] done processing\n",
      "20:27:21 - cmdstanpy - INFO - Chain [1] done processing\n",
      "20:27:26 - cmdstanpy - INFO - Chain [1] done processing\n"
     ]
    },
    {
     "name": "stdout",
     "output_type": "stream",
     "text": [
      "{'changepoint_prior_scale': 0.30100000000000005, 'holidays_prior_scale': 2.51, 'seasonality_mode': 'multiplicative', 'seasonality_prior_scale': 5.01}\n"
     ]
    },
    {
     "name": "stderr",
     "output_type": "stream",
     "text": [
      "20:27:27 - cmdstanpy - INFO - Chain [1] start processing\n",
      "20:27:30 - cmdstanpy - INFO - Chain [1] done processing\n",
      "20:27:31 - cmdstanpy - INFO - Chain [1] start processing\n",
      "20:27:31 - cmdstanpy - INFO - Chain [1] done processing\n",
      "20:27:31 - cmdstanpy - INFO - Chain [1] start processing\n",
      "20:27:32 - cmdstanpy - INFO - Chain [1] start processing\n",
      "20:27:32 - cmdstanpy - INFO - Chain [1] done processing\n",
      "20:27:32 - cmdstanpy - INFO - Chain [1] start processing\n",
      "20:27:32 - cmdstanpy - INFO - Chain [1] start processing\n",
      "20:27:32 - cmdstanpy - INFO - Chain [1] done processing\n",
      "20:27:33 - cmdstanpy - INFO - Chain [1] done processing\n",
      "20:27:36 - cmdstanpy - INFO - Chain [1] done processing\n"
     ]
    },
    {
     "name": "stdout",
     "output_type": "stream",
     "text": [
      "{'changepoint_prior_scale': 0.30100000000000005, 'holidays_prior_scale': 2.51, 'seasonality_mode': 'multiplicative', 'seasonality_prior_scale': 7.51}\n"
     ]
    },
    {
     "name": "stderr",
     "output_type": "stream",
     "text": [
      "20:27:37 - cmdstanpy - INFO - Chain [1] start processing\n",
      "20:27:41 - cmdstanpy - INFO - Chain [1] done processing\n",
      "20:27:42 - cmdstanpy - INFO - Chain [1] start processing\n",
      "20:27:43 - cmdstanpy - INFO - Chain [1] start processing\n",
      "20:27:43 - cmdstanpy - INFO - Chain [1] done processing\n",
      "20:27:43 - cmdstanpy - INFO - Chain [1] start processing\n",
      "20:27:43 - cmdstanpy - INFO - Chain [1] start processing\n",
      "20:27:43 - cmdstanpy - INFO - Chain [1] start processing\n",
      "20:27:43 - cmdstanpy - INFO - Chain [1] done processing\n",
      "20:27:44 - cmdstanpy - INFO - Chain [1] done processing\n",
      "20:27:45 - cmdstanpy - INFO - Chain [1] done processing\n",
      "20:27:49 - cmdstanpy - INFO - Chain [1] done processing\n"
     ]
    },
    {
     "name": "stdout",
     "output_type": "stream",
     "text": [
      "{'changepoint_prior_scale': 0.30100000000000005, 'holidays_prior_scale': 2.51, 'seasonality_mode': 'additive', 'seasonality_prior_scale': 0.01}\n"
     ]
    },
    {
     "name": "stderr",
     "output_type": "stream",
     "text": [
      "20:27:50 - cmdstanpy - INFO - Chain [1] start processing\n",
      "20:27:53 - cmdstanpy - INFO - Chain [1] done processing\n",
      "20:27:54 - cmdstanpy - INFO - Chain [1] start processing\n",
      "20:27:55 - cmdstanpy - INFO - Chain [1] done processing\n",
      "20:27:55 - cmdstanpy - INFO - Chain [1] start processing\n",
      "20:27:55 - cmdstanpy - INFO - Chain [1] start processing\n",
      "20:27:55 - cmdstanpy - INFO - Chain [1] done processing\n",
      "20:27:55 - cmdstanpy - INFO - Chain [1] start processing\n",
      "20:27:55 - cmdstanpy - INFO - Chain [1] done processing\n",
      "20:27:56 - cmdstanpy - INFO - Chain [1] start processing\n",
      "20:27:56 - cmdstanpy - INFO - Chain [1] done processing\n",
      "20:27:59 - cmdstanpy - INFO - Chain [1] done processing\n"
     ]
    },
    {
     "name": "stdout",
     "output_type": "stream",
     "text": [
      "{'changepoint_prior_scale': 0.30100000000000005, 'holidays_prior_scale': 2.51, 'seasonality_mode': 'additive', 'seasonality_prior_scale': 2.51}\n"
     ]
    },
    {
     "name": "stderr",
     "output_type": "stream",
     "text": [
      "20:28:00 - cmdstanpy - INFO - Chain [1] start processing\n",
      "20:28:04 - cmdstanpy - INFO - Chain [1] done processing\n",
      "20:28:05 - cmdstanpy - INFO - Chain [1] start processing\n",
      "20:28:05 - cmdstanpy - INFO - Chain [1] start processing\n",
      "20:28:05 - cmdstanpy - INFO - Chain [1] done processing\n",
      "20:28:06 - cmdstanpy - INFO - Chain [1] start processing\n",
      "20:28:06 - cmdstanpy - INFO - Chain [1] start processing\n",
      "20:28:06 - cmdstanpy - INFO - Chain [1] done processing\n",
      "20:28:06 - cmdstanpy - INFO - Chain [1] start processing\n",
      "20:28:06 - cmdstanpy - INFO - Chain [1] done processing\n",
      "20:28:06 - cmdstanpy - INFO - Chain [1] done processing\n",
      "20:28:09 - cmdstanpy - INFO - Chain [1] done processing\n"
     ]
    },
    {
     "name": "stdout",
     "output_type": "stream",
     "text": [
      "{'changepoint_prior_scale': 0.30100000000000005, 'holidays_prior_scale': 2.51, 'seasonality_mode': 'additive', 'seasonality_prior_scale': 5.01}\n"
     ]
    },
    {
     "name": "stderr",
     "output_type": "stream",
     "text": [
      "20:28:10 - cmdstanpy - INFO - Chain [1] start processing\n",
      "20:28:14 - cmdstanpy - INFO - Chain [1] done processing\n",
      "20:28:15 - cmdstanpy - INFO - Chain [1] start processing\n",
      "20:28:15 - cmdstanpy - INFO - Chain [1] start processing\n",
      "20:28:15 - cmdstanpy - INFO - Chain [1] done processing\n",
      "20:28:15 - cmdstanpy - INFO - Chain [1] start processing\n",
      "20:28:15 - cmdstanpy - INFO - Chain [1] done processing\n",
      "20:28:16 - cmdstanpy - INFO - Chain [1] start processing\n",
      "20:28:16 - cmdstanpy - INFO - Chain [1] start processing\n",
      "20:28:16 - cmdstanpy - INFO - Chain [1] done processing\n",
      "20:28:16 - cmdstanpy - INFO - Chain [1] done processing\n",
      "20:28:19 - cmdstanpy - INFO - Chain [1] done processing\n"
     ]
    },
    {
     "name": "stdout",
     "output_type": "stream",
     "text": [
      "{'changepoint_prior_scale': 0.30100000000000005, 'holidays_prior_scale': 2.51, 'seasonality_mode': 'additive', 'seasonality_prior_scale': 7.51}\n"
     ]
    },
    {
     "name": "stderr",
     "output_type": "stream",
     "text": [
      "20:28:20 - cmdstanpy - INFO - Chain [1] start processing\n",
      "20:28:23 - cmdstanpy - INFO - Chain [1] done processing\n",
      "20:28:24 - cmdstanpy - INFO - Chain [1] start processing\n",
      "20:28:24 - cmdstanpy - INFO - Chain [1] done processing\n",
      "20:28:25 - cmdstanpy - INFO - Chain [1] start processing\n",
      "20:28:25 - cmdstanpy - INFO - Chain [1] start processing\n",
      "20:28:25 - cmdstanpy - INFO - Chain [1] done processing\n",
      "20:28:25 - cmdstanpy - INFO - Chain [1] start processing\n",
      "20:28:25 - cmdstanpy - INFO - Chain [1] done processing\n",
      "20:28:25 - cmdstanpy - INFO - Chain [1] start processing\n",
      "20:28:26 - cmdstanpy - INFO - Chain [1] done processing\n",
      "20:28:29 - cmdstanpy - INFO - Chain [1] done processing\n"
     ]
    },
    {
     "name": "stdout",
     "output_type": "stream",
     "text": [
      "{'changepoint_prior_scale': 0.30100000000000005, 'holidays_prior_scale': 5.01, 'seasonality_mode': 'multiplicative', 'seasonality_prior_scale': 0.01}\n"
     ]
    },
    {
     "name": "stderr",
     "output_type": "stream",
     "text": [
      "20:28:30 - cmdstanpy - INFO - Chain [1] start processing\n",
      "20:28:32 - cmdstanpy - INFO - Chain [1] done processing\n",
      "20:28:34 - cmdstanpy - INFO - Chain [1] start processing\n",
      "20:28:34 - cmdstanpy - INFO - Chain [1] start processing\n",
      "20:28:34 - cmdstanpy - INFO - Chain [1] done processing\n",
      "20:28:34 - cmdstanpy - INFO - Chain [1] start processing\n",
      "20:28:34 - cmdstanpy - INFO - Chain [1] start processing\n",
      "20:28:34 - cmdstanpy - INFO - Chain [1] done processing\n",
      "20:28:35 - cmdstanpy - INFO - Chain [1] start processing\n",
      "20:28:35 - cmdstanpy - INFO - Chain [1] done processing\n",
      "20:28:36 - cmdstanpy - INFO - Chain [1] done processing\n",
      "20:28:38 - cmdstanpy - INFO - Chain [1] done processing\n"
     ]
    },
    {
     "name": "stdout",
     "output_type": "stream",
     "text": [
      "{'changepoint_prior_scale': 0.30100000000000005, 'holidays_prior_scale': 5.01, 'seasonality_mode': 'multiplicative', 'seasonality_prior_scale': 2.51}\n"
     ]
    },
    {
     "name": "stderr",
     "output_type": "stream",
     "text": [
      "20:28:39 - cmdstanpy - INFO - Chain [1] start processing\n",
      "20:28:44 - cmdstanpy - INFO - Chain [1] done processing\n",
      "20:28:45 - cmdstanpy - INFO - Chain [1] start processing\n",
      "20:28:45 - cmdstanpy - INFO - Chain [1] start processing\n",
      "20:28:46 - cmdstanpy - INFO - Chain [1] done processing\n",
      "20:28:46 - cmdstanpy - INFO - Chain [1] start processing\n",
      "20:28:46 - cmdstanpy - INFO - Chain [1] start processing\n",
      "20:28:46 - cmdstanpy - INFO - Chain [1] start processing\n",
      "20:28:46 - cmdstanpy - INFO - Chain [1] done processing\n",
      "20:28:47 - cmdstanpy - INFO - Chain [1] done processing\n",
      "20:28:47 - cmdstanpy - INFO - Chain [1] done processing\n",
      "20:28:51 - cmdstanpy - INFO - Chain [1] done processing\n"
     ]
    },
    {
     "name": "stdout",
     "output_type": "stream",
     "text": [
      "{'changepoint_prior_scale': 0.30100000000000005, 'holidays_prior_scale': 5.01, 'seasonality_mode': 'multiplicative', 'seasonality_prior_scale': 5.01}\n"
     ]
    },
    {
     "name": "stderr",
     "output_type": "stream",
     "text": [
      "20:28:52 - cmdstanpy - INFO - Chain [1] start processing\n",
      "20:28:55 - cmdstanpy - INFO - Chain [1] done processing\n",
      "20:28:57 - cmdstanpy - INFO - Chain [1] start processing\n",
      "20:28:57 - cmdstanpy - INFO - Chain [1] start processing\n",
      "20:28:57 - cmdstanpy - INFO - Chain [1] done processing\n",
      "20:28:57 - cmdstanpy - INFO - Chain [1] start processing\n",
      "20:28:57 - cmdstanpy - INFO - Chain [1] done processing\n",
      "20:28:57 - cmdstanpy - INFO - Chain [1] start processing\n",
      "20:28:58 - cmdstanpy - INFO - Chain [1] start processing\n",
      "20:28:58 - cmdstanpy - INFO - Chain [1] done processing\n",
      "20:28:58 - cmdstanpy - INFO - Chain [1] done processing\n",
      "20:29:02 - cmdstanpy - INFO - Chain [1] done processing\n"
     ]
    },
    {
     "name": "stdout",
     "output_type": "stream",
     "text": [
      "{'changepoint_prior_scale': 0.30100000000000005, 'holidays_prior_scale': 5.01, 'seasonality_mode': 'multiplicative', 'seasonality_prior_scale': 7.51}\n"
     ]
    },
    {
     "name": "stderr",
     "output_type": "stream",
     "text": [
      "20:29:03 - cmdstanpy - INFO - Chain [1] start processing\n",
      "20:29:08 - cmdstanpy - INFO - Chain [1] done processing\n",
      "20:29:09 - cmdstanpy - INFO - Chain [1] start processing\n",
      "20:29:09 - cmdstanpy - INFO - Chain [1] start processing\n",
      "20:29:09 - cmdstanpy - INFO - Chain [1] done processing\n",
      "20:29:09 - cmdstanpy - INFO - Chain [1] start processing\n",
      "20:29:09 - cmdstanpy - INFO - Chain [1] start processing\n",
      "20:29:10 - cmdstanpy - INFO - Chain [1] done processing\n",
      "20:29:10 - cmdstanpy - INFO - Chain [1] start processing\n",
      "20:29:10 - cmdstanpy - INFO - Chain [1] done processing\n",
      "20:29:11 - cmdstanpy - INFO - Chain [1] done processing\n",
      "20:29:14 - cmdstanpy - INFO - Chain [1] done processing\n"
     ]
    },
    {
     "name": "stdout",
     "output_type": "stream",
     "text": [
      "{'changepoint_prior_scale': 0.30100000000000005, 'holidays_prior_scale': 5.01, 'seasonality_mode': 'additive', 'seasonality_prior_scale': 0.01}\n"
     ]
    },
    {
     "name": "stderr",
     "output_type": "stream",
     "text": [
      "20:29:15 - cmdstanpy - INFO - Chain [1] start processing\n",
      "20:29:19 - cmdstanpy - INFO - Chain [1] done processing\n",
      "20:29:20 - cmdstanpy - INFO - Chain [1] start processing\n",
      "20:29:20 - cmdstanpy - INFO - Chain [1] done processing\n",
      "20:29:20 - cmdstanpy - INFO - Chain [1] start processing\n",
      "20:29:20 - cmdstanpy - INFO - Chain [1] start processing\n",
      "20:29:21 - cmdstanpy - INFO - Chain [1] start processing\n",
      "20:29:21 - cmdstanpy - INFO - Chain [1] start processing\n",
      "20:29:21 - cmdstanpy - INFO - Chain [1] done processing\n",
      "20:29:21 - cmdstanpy - INFO - Chain [1] done processing\n",
      "20:29:21 - cmdstanpy - INFO - Chain [1] done processing\n",
      "20:29:25 - cmdstanpy - INFO - Chain [1] done processing\n"
     ]
    },
    {
     "name": "stdout",
     "output_type": "stream",
     "text": [
      "{'changepoint_prior_scale': 0.30100000000000005, 'holidays_prior_scale': 5.01, 'seasonality_mode': 'additive', 'seasonality_prior_scale': 2.51}\n"
     ]
    },
    {
     "name": "stderr",
     "output_type": "stream",
     "text": [
      "20:29:26 - cmdstanpy - INFO - Chain [1] start processing\n",
      "20:29:30 - cmdstanpy - INFO - Chain [1] done processing\n",
      "20:29:31 - cmdstanpy - INFO - Chain [1] start processing\n",
      "20:29:31 - cmdstanpy - INFO - Chain [1] start processing\n",
      "20:29:31 - cmdstanpy - INFO - Chain [1] done processing\n",
      "20:29:32 - cmdstanpy - INFO - Chain [1] start processing\n",
      "20:29:32 - cmdstanpy - INFO - Chain [1] done processing\n",
      "20:29:32 - cmdstanpy - INFO - Chain [1] start processing\n",
      "20:29:32 - cmdstanpy - INFO - Chain [1] start processing\n",
      "20:29:32 - cmdstanpy - INFO - Chain [1] done processing\n",
      "20:29:33 - cmdstanpy - INFO - Chain [1] done processing\n",
      "20:29:36 - cmdstanpy - INFO - Chain [1] done processing\n"
     ]
    },
    {
     "name": "stdout",
     "output_type": "stream",
     "text": [
      "{'changepoint_prior_scale': 0.30100000000000005, 'holidays_prior_scale': 5.01, 'seasonality_mode': 'additive', 'seasonality_prior_scale': 5.01}\n"
     ]
    },
    {
     "name": "stderr",
     "output_type": "stream",
     "text": [
      "20:29:37 - cmdstanpy - INFO - Chain [1] start processing\n",
      "20:29:41 - cmdstanpy - INFO - Chain [1] done processing\n",
      "20:29:42 - cmdstanpy - INFO - Chain [1] start processing\n",
      "20:29:42 - cmdstanpy - INFO - Chain [1] done processing\n",
      "20:29:42 - cmdstanpy - INFO - Chain [1] start processing\n",
      "20:29:43 - cmdstanpy - INFO - Chain [1] start processing\n",
      "20:29:43 - cmdstanpy - INFO - Chain [1] start processing\n",
      "20:29:43 - cmdstanpy - INFO - Chain [1] done processing\n",
      "20:29:43 - cmdstanpy - INFO - Chain [1] start processing\n",
      "20:29:43 - cmdstanpy - INFO - Chain [1] done processing\n",
      "20:29:43 - cmdstanpy - INFO - Chain [1] done processing\n",
      "20:29:48 - cmdstanpy - INFO - Chain [1] done processing\n"
     ]
    },
    {
     "name": "stdout",
     "output_type": "stream",
     "text": [
      "{'changepoint_prior_scale': 0.30100000000000005, 'holidays_prior_scale': 5.01, 'seasonality_mode': 'additive', 'seasonality_prior_scale': 7.51}\n"
     ]
    },
    {
     "name": "stderr",
     "output_type": "stream",
     "text": [
      "20:29:49 - cmdstanpy - INFO - Chain [1] start processing\n",
      "20:29:52 - cmdstanpy - INFO - Chain [1] done processing\n",
      "20:29:53 - cmdstanpy - INFO - Chain [1] start processing\n",
      "20:29:54 - cmdstanpy - INFO - Chain [1] start processing\n",
      "20:29:54 - cmdstanpy - INFO - Chain [1] done processing\n",
      "20:29:54 - cmdstanpy - INFO - Chain [1] start processing\n",
      "20:29:54 - cmdstanpy - INFO - Chain [1] done processing\n",
      "20:29:54 - cmdstanpy - INFO - Chain [1] start processing\n",
      "20:29:54 - cmdstanpy - INFO - Chain [1] start processing\n",
      "20:29:55 - cmdstanpy - INFO - Chain [1] done processing\n",
      "20:29:55 - cmdstanpy - INFO - Chain [1] done processing\n",
      "20:29:59 - cmdstanpy - INFO - Chain [1] done processing\n"
     ]
    },
    {
     "name": "stdout",
     "output_type": "stream",
     "text": [
      "{'changepoint_prior_scale': 0.30100000000000005, 'holidays_prior_scale': 7.51, 'seasonality_mode': 'multiplicative', 'seasonality_prior_scale': 0.01}\n"
     ]
    },
    {
     "name": "stderr",
     "output_type": "stream",
     "text": [
      "20:30:00 - cmdstanpy - INFO - Chain [1] start processing\n",
      "20:30:02 - cmdstanpy - INFO - Chain [1] done processing\n",
      "20:30:03 - cmdstanpy - INFO - Chain [1] start processing\n",
      "20:30:03 - cmdstanpy - INFO - Chain [1] start processing\n",
      "20:30:03 - cmdstanpy - INFO - Chain [1] start processing\n",
      "20:30:03 - cmdstanpy - INFO - Chain [1] start processing\n",
      "20:30:04 - cmdstanpy - INFO - Chain [1] done processing\n",
      "20:30:04 - cmdstanpy - INFO - Chain [1] start processing\n",
      "20:30:04 - cmdstanpy - INFO - Chain [1] done processing\n",
      "20:30:04 - cmdstanpy - INFO - Chain [1] done processing\n",
      "20:30:04 - cmdstanpy - INFO - Chain [1] done processing\n",
      "20:30:07 - cmdstanpy - INFO - Chain [1] done processing\n"
     ]
    },
    {
     "name": "stdout",
     "output_type": "stream",
     "text": [
      "{'changepoint_prior_scale': 0.30100000000000005, 'holidays_prior_scale': 7.51, 'seasonality_mode': 'multiplicative', 'seasonality_prior_scale': 2.51}\n"
     ]
    },
    {
     "name": "stderr",
     "output_type": "stream",
     "text": [
      "20:30:08 - cmdstanpy - INFO - Chain [1] start processing\n",
      "20:30:12 - cmdstanpy - INFO - Chain [1] done processing\n",
      "20:30:13 - cmdstanpy - INFO - Chain [1] start processing\n",
      "20:30:13 - cmdstanpy - INFO - Chain [1] done processing\n",
      "20:30:13 - cmdstanpy - INFO - Chain [1] start processing\n",
      "20:30:14 - cmdstanpy - INFO - Chain [1] start processing\n",
      "20:30:14 - cmdstanpy - INFO - Chain [1] done processing\n",
      "20:30:14 - cmdstanpy - INFO - Chain [1] start processing\n",
      "20:30:14 - cmdstanpy - INFO - Chain [1] start processing\n",
      "20:30:14 - cmdstanpy - INFO - Chain [1] done processing\n",
      "20:30:15 - cmdstanpy - INFO - Chain [1] done processing\n",
      "20:30:18 - cmdstanpy - INFO - Chain [1] done processing\n"
     ]
    },
    {
     "name": "stdout",
     "output_type": "stream",
     "text": [
      "{'changepoint_prior_scale': 0.30100000000000005, 'holidays_prior_scale': 7.51, 'seasonality_mode': 'multiplicative', 'seasonality_prior_scale': 5.01}\n"
     ]
    },
    {
     "name": "stderr",
     "output_type": "stream",
     "text": [
      "20:30:19 - cmdstanpy - INFO - Chain [1] start processing\n",
      "20:30:23 - cmdstanpy - INFO - Chain [1] done processing\n",
      "20:30:25 - cmdstanpy - INFO - Chain [1] start processing\n",
      "20:30:25 - cmdstanpy - INFO - Chain [1] start processing\n",
      "20:30:25 - cmdstanpy - INFO - Chain [1] done processing\n",
      "20:30:25 - cmdstanpy - INFO - Chain [1] done processing\n",
      "20:30:25 - cmdstanpy - INFO - Chain [1] start processing\n",
      "20:30:25 - cmdstanpy - INFO - Chain [1] start processing\n",
      "20:30:26 - cmdstanpy - INFO - Chain [1] start processing\n",
      "20:30:26 - cmdstanpy - INFO - Chain [1] done processing\n",
      "20:30:27 - cmdstanpy - INFO - Chain [1] done processing\n",
      "20:30:29 - cmdstanpy - INFO - Chain [1] done processing\n"
     ]
    },
    {
     "name": "stdout",
     "output_type": "stream",
     "text": [
      "{'changepoint_prior_scale': 0.30100000000000005, 'holidays_prior_scale': 7.51, 'seasonality_mode': 'multiplicative', 'seasonality_prior_scale': 7.51}\n"
     ]
    },
    {
     "name": "stderr",
     "output_type": "stream",
     "text": [
      "20:30:30 - cmdstanpy - INFO - Chain [1] start processing\n",
      "20:30:36 - cmdstanpy - INFO - Chain [1] done processing\n",
      "20:30:37 - cmdstanpy - INFO - Chain [1] start processing\n",
      "20:30:37 - cmdstanpy - INFO - Chain [1] start processing\n",
      "20:30:38 - cmdstanpy - INFO - Chain [1] start processing\n",
      "20:30:38 - cmdstanpy - INFO - Chain [1] start processing\n",
      "20:30:38 - cmdstanpy - INFO - Chain [1] done processing\n",
      "20:30:38 - cmdstanpy - INFO - Chain [1] start processing\n",
      "20:30:38 - cmdstanpy - INFO - Chain [1] done processing\n",
      "20:30:39 - cmdstanpy - INFO - Chain [1] done processing\n",
      "20:30:39 - cmdstanpy - INFO - Chain [1] done processing\n",
      "20:30:42 - cmdstanpy - INFO - Chain [1] done processing\n"
     ]
    },
    {
     "name": "stdout",
     "output_type": "stream",
     "text": [
      "{'changepoint_prior_scale': 0.30100000000000005, 'holidays_prior_scale': 7.51, 'seasonality_mode': 'additive', 'seasonality_prior_scale': 0.01}\n"
     ]
    },
    {
     "name": "stderr",
     "output_type": "stream",
     "text": [
      "20:30:43 - cmdstanpy - INFO - Chain [1] start processing\n",
      "20:30:47 - cmdstanpy - INFO - Chain [1] done processing\n",
      "20:30:49 - cmdstanpy - INFO - Chain [1] start processing\n",
      "20:30:49 - cmdstanpy - INFO - Chain [1] start processing\n",
      "20:30:49 - cmdstanpy - INFO - Chain [1] done processing\n",
      "20:30:49 - cmdstanpy - INFO - Chain [1] start processing\n",
      "20:30:49 - cmdstanpy - INFO - Chain [1] start processing\n",
      "20:30:50 - cmdstanpy - INFO - Chain [1] start processing\n",
      "20:30:50 - cmdstanpy - INFO - Chain [1] done processing\n",
      "20:30:50 - cmdstanpy - INFO - Chain [1] done processing\n",
      "20:30:51 - cmdstanpy - INFO - Chain [1] done processing\n",
      "20:30:53 - cmdstanpy - INFO - Chain [1] done processing\n"
     ]
    },
    {
     "name": "stdout",
     "output_type": "stream",
     "text": [
      "{'changepoint_prior_scale': 0.30100000000000005, 'holidays_prior_scale': 7.51, 'seasonality_mode': 'additive', 'seasonality_prior_scale': 2.51}\n"
     ]
    },
    {
     "name": "stderr",
     "output_type": "stream",
     "text": [
      "20:30:54 - cmdstanpy - INFO - Chain [1] start processing\n",
      "20:30:58 - cmdstanpy - INFO - Chain [1] done processing\n",
      "20:30:59 - cmdstanpy - INFO - Chain [1] start processing\n",
      "20:30:59 - cmdstanpy - INFO - Chain [1] done processing\n",
      "20:30:59 - cmdstanpy - INFO - Chain [1] start processing\n",
      "20:31:00 - cmdstanpy - INFO - Chain [1] start processing\n",
      "20:31:00 - cmdstanpy - INFO - Chain [1] done processing\n",
      "20:31:00 - cmdstanpy - INFO - Chain [1] start processing\n",
      "20:31:00 - cmdstanpy - INFO - Chain [1] done processing\n",
      "20:31:00 - cmdstanpy - INFO - Chain [1] start processing\n",
      "20:31:01 - cmdstanpy - INFO - Chain [1] done processing\n",
      "20:31:04 - cmdstanpy - INFO - Chain [1] done processing\n"
     ]
    },
    {
     "name": "stdout",
     "output_type": "stream",
     "text": [
      "{'changepoint_prior_scale': 0.30100000000000005, 'holidays_prior_scale': 7.51, 'seasonality_mode': 'additive', 'seasonality_prior_scale': 5.01}\n"
     ]
    },
    {
     "name": "stderr",
     "output_type": "stream",
     "text": [
      "20:31:05 - cmdstanpy - INFO - Chain [1] start processing\n",
      "20:31:08 - cmdstanpy - INFO - Chain [1] done processing\n",
      "20:31:09 - cmdstanpy - INFO - Chain [1] start processing\n",
      "20:31:10 - cmdstanpy - INFO - Chain [1] done processing\n",
      "20:31:10 - cmdstanpy - INFO - Chain [1] start processing\n",
      "20:31:10 - cmdstanpy - INFO - Chain [1] start processing\n",
      "20:31:10 - cmdstanpy - INFO - Chain [1] done processing\n",
      "20:31:10 - cmdstanpy - INFO - Chain [1] done processing\n",
      "20:31:10 - cmdstanpy - INFO - Chain [1] start processing\n",
      "20:31:11 - cmdstanpy - INFO - Chain [1] start processing\n",
      "20:31:11 - cmdstanpy - INFO - Chain [1] done processing\n",
      "20:31:15 - cmdstanpy - INFO - Chain [1] done processing\n"
     ]
    },
    {
     "name": "stdout",
     "output_type": "stream",
     "text": [
      "{'changepoint_prior_scale': 0.30100000000000005, 'holidays_prior_scale': 7.51, 'seasonality_mode': 'additive', 'seasonality_prior_scale': 7.51}\n"
     ]
    },
    {
     "name": "stderr",
     "output_type": "stream",
     "text": [
      "20:31:16 - cmdstanpy - INFO - Chain [1] start processing\n",
      "20:31:19 - cmdstanpy - INFO - Chain [1] done processing\n",
      "20:31:20 - cmdstanpy - INFO - Chain [1] start processing\n",
      "20:31:20 - cmdstanpy - INFO - Chain [1] done processing\n",
      "20:31:20 - cmdstanpy - INFO - Chain [1] start processing\n",
      "20:31:21 - cmdstanpy - INFO - Chain [1] start processing\n",
      "20:31:21 - cmdstanpy - INFO - Chain [1] done processing\n",
      "20:31:21 - cmdstanpy - INFO - Chain [1] start processing\n",
      "20:31:21 - cmdstanpy - INFO - Chain [1] start processing\n",
      "20:31:21 - cmdstanpy - INFO - Chain [1] done processing\n",
      "20:31:22 - cmdstanpy - INFO - Chain [1] done processing\n",
      "20:31:25 - cmdstanpy - INFO - Chain [1] done processing\n"
     ]
    },
    {
     "name": "stdout",
     "output_type": "stream",
     "text": [
      "{'changepoint_prior_scale': 0.401, 'holidays_prior_scale': 0.01, 'seasonality_mode': 'multiplicative', 'seasonality_prior_scale': 0.01}\n"
     ]
    },
    {
     "name": "stderr",
     "output_type": "stream",
     "text": [
      "20:31:26 - cmdstanpy - INFO - Chain [1] start processing\n",
      "20:31:30 - cmdstanpy - INFO - Chain [1] done processing\n",
      "20:31:31 - cmdstanpy - INFO - Chain [1] start processing\n",
      "20:31:31 - cmdstanpy - INFO - Chain [1] start processing\n",
      "20:31:31 - cmdstanpy - INFO - Chain [1] start processing\n",
      "20:31:31 - cmdstanpy - INFO - Chain [1] done processing\n",
      "20:31:31 - cmdstanpy - INFO - Chain [1] start processing\n",
      "20:31:32 - cmdstanpy - INFO - Chain [1] start processing\n",
      "20:31:32 - cmdstanpy - INFO - Chain [1] done processing\n",
      "20:31:32 - cmdstanpy - INFO - Chain [1] done processing\n",
      "20:31:33 - cmdstanpy - INFO - Chain [1] done processing\n",
      "20:31:36 - cmdstanpy - INFO - Chain [1] done processing\n"
     ]
    },
    {
     "name": "stdout",
     "output_type": "stream",
     "text": [
      "{'changepoint_prior_scale': 0.401, 'holidays_prior_scale': 0.01, 'seasonality_mode': 'multiplicative', 'seasonality_prior_scale': 2.51}\n"
     ]
    },
    {
     "name": "stderr",
     "output_type": "stream",
     "text": [
      "20:31:37 - cmdstanpy - INFO - Chain [1] start processing\n",
      "20:31:40 - cmdstanpy - INFO - Chain [1] done processing\n",
      "20:31:41 - cmdstanpy - INFO - Chain [1] start processing\n",
      "20:31:41 - cmdstanpy - INFO - Chain [1] start processing\n",
      "20:31:42 - cmdstanpy - INFO - Chain [1] done processing\n",
      "20:31:42 - cmdstanpy - INFO - Chain [1] start processing\n",
      "20:31:42 - cmdstanpy - INFO - Chain [1] start processing\n",
      "20:31:42 - cmdstanpy - INFO - Chain [1] start processing\n",
      "20:31:42 - cmdstanpy - INFO - Chain [1] done processing\n",
      "20:31:43 - cmdstanpy - INFO - Chain [1] done processing\n",
      "20:31:44 - cmdstanpy - INFO - Chain [1] done processing\n",
      "20:31:46 - cmdstanpy - INFO - Chain [1] done processing\n"
     ]
    },
    {
     "name": "stdout",
     "output_type": "stream",
     "text": [
      "{'changepoint_prior_scale': 0.401, 'holidays_prior_scale': 0.01, 'seasonality_mode': 'multiplicative', 'seasonality_prior_scale': 5.01}\n"
     ]
    },
    {
     "name": "stderr",
     "output_type": "stream",
     "text": [
      "20:31:47 - cmdstanpy - INFO - Chain [1] start processing\n",
      "20:31:51 - cmdstanpy - INFO - Chain [1] done processing\n",
      "20:31:52 - cmdstanpy - INFO - Chain [1] start processing\n",
      "20:31:52 - cmdstanpy - INFO - Chain [1] start processing\n",
      "20:31:52 - cmdstanpy - INFO - Chain [1] start processing\n",
      "20:31:52 - cmdstanpy - INFO - Chain [1] done processing\n",
      "20:31:52 - cmdstanpy - INFO - Chain [1] start processing\n",
      "20:31:53 - cmdstanpy - INFO - Chain [1] start processing\n",
      "20:31:53 - cmdstanpy - INFO - Chain [1] done processing\n",
      "20:31:53 - cmdstanpy - INFO - Chain [1] done processing\n",
      "20:31:54 - cmdstanpy - INFO - Chain [1] done processing\n",
      "20:31:56 - cmdstanpy - INFO - Chain [1] done processing\n"
     ]
    },
    {
     "name": "stdout",
     "output_type": "stream",
     "text": [
      "{'changepoint_prior_scale': 0.401, 'holidays_prior_scale': 0.01, 'seasonality_mode': 'multiplicative', 'seasonality_prior_scale': 7.51}\n"
     ]
    },
    {
     "name": "stderr",
     "output_type": "stream",
     "text": [
      "20:31:57 - cmdstanpy - INFO - Chain [1] start processing\n",
      "20:32:02 - cmdstanpy - INFO - Chain [1] done processing\n",
      "20:32:03 - cmdstanpy - INFO - Chain [1] start processing\n",
      "20:32:03 - cmdstanpy - INFO - Chain [1] start processing\n",
      "20:32:03 - cmdstanpy - INFO - Chain [1] start processing\n",
      "20:32:03 - cmdstanpy - INFO - Chain [1] done processing\n",
      "20:32:04 - cmdstanpy - INFO - Chain [1] start processing\n",
      "20:32:04 - cmdstanpy - INFO - Chain [1] done processing\n",
      "20:32:04 - cmdstanpy - INFO - Chain [1] done processing\n",
      "20:32:04 - cmdstanpy - INFO - Chain [1] start processing\n",
      "20:32:04 - cmdstanpy - INFO - Chain [1] done processing\n",
      "20:32:07 - cmdstanpy - INFO - Chain [1] done processing\n"
     ]
    },
    {
     "name": "stdout",
     "output_type": "stream",
     "text": [
      "{'changepoint_prior_scale': 0.401, 'holidays_prior_scale': 0.01, 'seasonality_mode': 'additive', 'seasonality_prior_scale': 0.01}\n"
     ]
    },
    {
     "name": "stderr",
     "output_type": "stream",
     "text": [
      "20:32:08 - cmdstanpy - INFO - Chain [1] start processing\n",
      "20:32:12 - cmdstanpy - INFO - Chain [1] done processing\n",
      "20:32:14 - cmdstanpy - INFO - Chain [1] start processing\n",
      "20:32:14 - cmdstanpy - INFO - Chain [1] done processing\n",
      "20:32:14 - cmdstanpy - INFO - Chain [1] start processing\n",
      "20:32:14 - cmdstanpy - INFO - Chain [1] start processing\n",
      "20:32:15 - cmdstanpy - INFO - Chain [1] done processing\n",
      "20:32:15 - cmdstanpy - INFO - Chain [1] start processing\n",
      "20:32:15 - cmdstanpy - INFO - Chain [1] done processing\n",
      "20:32:15 - cmdstanpy - INFO - Chain [1] start processing\n",
      "20:32:15 - cmdstanpy - INFO - Chain [1] done processing\n",
      "20:32:18 - cmdstanpy - INFO - Chain [1] done processing\n"
     ]
    },
    {
     "name": "stdout",
     "output_type": "stream",
     "text": [
      "{'changepoint_prior_scale': 0.401, 'holidays_prior_scale': 0.01, 'seasonality_mode': 'additive', 'seasonality_prior_scale': 2.51}\n"
     ]
    },
    {
     "name": "stderr",
     "output_type": "stream",
     "text": [
      "20:32:19 - cmdstanpy - INFO - Chain [1] start processing\n",
      "20:32:24 - cmdstanpy - INFO - Chain [1] done processing\n",
      "20:32:25 - cmdstanpy - INFO - Chain [1] start processing\n",
      "20:32:25 - cmdstanpy - INFO - Chain [1] done processing\n",
      "20:32:25 - cmdstanpy - INFO - Chain [1] start processing\n",
      "20:32:26 - cmdstanpy - INFO - Chain [1] start processing\n",
      "20:32:26 - cmdstanpy - INFO - Chain [1] done processing\n",
      "20:32:26 - cmdstanpy - INFO - Chain [1] start processing\n",
      "20:32:26 - cmdstanpy - INFO - Chain [1] start processing\n",
      "20:32:26 - cmdstanpy - INFO - Chain [1] done processing\n",
      "20:32:27 - cmdstanpy - INFO - Chain [1] done processing\n",
      "20:32:30 - cmdstanpy - INFO - Chain [1] done processing\n"
     ]
    },
    {
     "name": "stdout",
     "output_type": "stream",
     "text": [
      "{'changepoint_prior_scale': 0.401, 'holidays_prior_scale': 0.01, 'seasonality_mode': 'additive', 'seasonality_prior_scale': 5.01}\n"
     ]
    },
    {
     "name": "stderr",
     "output_type": "stream",
     "text": [
      "20:32:31 - cmdstanpy - INFO - Chain [1] start processing\n",
      "20:32:36 - cmdstanpy - INFO - Chain [1] done processing\n",
      "20:32:37 - cmdstanpy - INFO - Chain [1] start processing\n",
      "20:32:37 - cmdstanpy - INFO - Chain [1] start processing\n",
      "20:32:37 - cmdstanpy - INFO - Chain [1] done processing\n",
      "20:32:38 - cmdstanpy - INFO - Chain [1] start processing\n",
      "20:32:38 - cmdstanpy - INFO - Chain [1] start processing\n",
      "20:32:38 - cmdstanpy - INFO - Chain [1] done processing\n",
      "20:32:38 - cmdstanpy - INFO - Chain [1] done processing\n",
      "20:32:38 - cmdstanpy - INFO - Chain [1] start processing\n",
      "20:32:38 - cmdstanpy - INFO - Chain [1] done processing\n",
      "20:32:41 - cmdstanpy - INFO - Chain [1] done processing\n"
     ]
    },
    {
     "name": "stdout",
     "output_type": "stream",
     "text": [
      "{'changepoint_prior_scale': 0.401, 'holidays_prior_scale': 0.01, 'seasonality_mode': 'additive', 'seasonality_prior_scale': 7.51}\n"
     ]
    },
    {
     "name": "stderr",
     "output_type": "stream",
     "text": [
      "20:32:42 - cmdstanpy - INFO - Chain [1] start processing\n",
      "20:32:47 - cmdstanpy - INFO - Chain [1] done processing\n",
      "20:32:48 - cmdstanpy - INFO - Chain [1] start processing\n",
      "20:32:48 - cmdstanpy - INFO - Chain [1] done processing\n",
      "20:32:49 - cmdstanpy - INFO - Chain [1] start processing\n",
      "20:32:49 - cmdstanpy - INFO - Chain [1] start processing\n",
      "20:32:49 - cmdstanpy - INFO - Chain [1] start processing\n",
      "20:32:49 - cmdstanpy - INFO - Chain [1] done processing\n",
      "20:32:49 - cmdstanpy - INFO - Chain [1] start processing\n",
      "20:32:50 - cmdstanpy - INFO - Chain [1] done processing\n",
      "20:32:50 - cmdstanpy - INFO - Chain [1] done processing\n",
      "20:32:54 - cmdstanpy - INFO - Chain [1] done processing\n"
     ]
    },
    {
     "name": "stdout",
     "output_type": "stream",
     "text": [
      "{'changepoint_prior_scale': 0.401, 'holidays_prior_scale': 2.51, 'seasonality_mode': 'multiplicative', 'seasonality_prior_scale': 0.01}\n"
     ]
    },
    {
     "name": "stderr",
     "output_type": "stream",
     "text": [
      "20:32:55 - cmdstanpy - INFO - Chain [1] start processing\n",
      "20:32:56 - cmdstanpy - INFO - Chain [1] done processing\n",
      "20:32:58 - cmdstanpy - INFO - Chain [1] start processing\n",
      "20:32:58 - cmdstanpy - INFO - Chain [1] start processing\n",
      "20:32:58 - cmdstanpy - INFO - Chain [1] done processing\n",
      "20:32:58 - cmdstanpy - INFO - Chain [1] start processing\n",
      "20:32:58 - cmdstanpy - INFO - Chain [1] start processing\n",
      "20:32:59 - cmdstanpy - INFO - Chain [1] start processing\n",
      "20:32:59 - cmdstanpy - INFO - Chain [1] done processing\n",
      "20:32:59 - cmdstanpy - INFO - Chain [1] done processing\n",
      "20:33:00 - cmdstanpy - INFO - Chain [1] done processing\n",
      "20:33:02 - cmdstanpy - INFO - Chain [1] done processing\n"
     ]
    },
    {
     "name": "stdout",
     "output_type": "stream",
     "text": [
      "{'changepoint_prior_scale': 0.401, 'holidays_prior_scale': 2.51, 'seasonality_mode': 'multiplicative', 'seasonality_prior_scale': 2.51}\n"
     ]
    },
    {
     "name": "stderr",
     "output_type": "stream",
     "text": [
      "20:33:03 - cmdstanpy - INFO - Chain [1] start processing\n",
      "20:33:06 - cmdstanpy - INFO - Chain [1] done processing\n",
      "20:33:07 - cmdstanpy - INFO - Chain [1] start processing\n",
      "20:33:08 - cmdstanpy - INFO - Chain [1] start processing\n",
      "20:33:08 - cmdstanpy - INFO - Chain [1] start processing\n",
      "20:33:08 - cmdstanpy - INFO - Chain [1] done processing\n",
      "20:33:08 - cmdstanpy - INFO - Chain [1] start processing\n",
      "20:33:08 - cmdstanpy - INFO - Chain [1] done processing\n",
      "20:33:08 - cmdstanpy - INFO - Chain [1] start processing\n",
      "20:33:09 - cmdstanpy - INFO - Chain [1] done processing\n",
      "20:33:10 - cmdstanpy - INFO - Chain [1] done processing\n",
      "20:33:13 - cmdstanpy - INFO - Chain [1] done processing\n"
     ]
    },
    {
     "name": "stdout",
     "output_type": "stream",
     "text": [
      "{'changepoint_prior_scale': 0.401, 'holidays_prior_scale': 2.51, 'seasonality_mode': 'multiplicative', 'seasonality_prior_scale': 5.01}\n"
     ]
    },
    {
     "name": "stderr",
     "output_type": "stream",
     "text": [
      "20:33:14 - cmdstanpy - INFO - Chain [1] start processing\n",
      "20:33:18 - cmdstanpy - INFO - Chain [1] done processing\n",
      "20:33:19 - cmdstanpy - INFO - Chain [1] start processing\n",
      "20:33:19 - cmdstanpy - INFO - Chain [1] start processing\n",
      "20:33:19 - cmdstanpy - INFO - Chain [1] done processing\n",
      "20:33:20 - cmdstanpy - INFO - Chain [1] start processing\n",
      "20:33:20 - cmdstanpy - INFO - Chain [1] start processing\n",
      "20:33:20 - cmdstanpy - INFO - Chain [1] start processing\n",
      "20:33:20 - cmdstanpy - INFO - Chain [1] done processing\n",
      "20:33:21 - cmdstanpy - INFO - Chain [1] done processing\n",
      "20:33:21 - cmdstanpy - INFO - Chain [1] done processing\n",
      "20:33:23 - cmdstanpy - INFO - Chain [1] done processing\n"
     ]
    },
    {
     "name": "stdout",
     "output_type": "stream",
     "text": [
      "{'changepoint_prior_scale': 0.401, 'holidays_prior_scale': 2.51, 'seasonality_mode': 'multiplicative', 'seasonality_prior_scale': 7.51}\n"
     ]
    },
    {
     "name": "stderr",
     "output_type": "stream",
     "text": [
      "20:33:24 - cmdstanpy - INFO - Chain [1] start processing\n",
      "20:33:28 - cmdstanpy - INFO - Chain [1] done processing\n",
      "20:33:30 - cmdstanpy - INFO - Chain [1] start processing\n",
      "20:33:30 - cmdstanpy - INFO - Chain [1] start processing\n",
      "20:33:30 - cmdstanpy - INFO - Chain [1] done processing\n",
      "20:33:30 - cmdstanpy - INFO - Chain [1] start processing\n",
      "20:33:30 - cmdstanpy - INFO - Chain [1] start processing\n",
      "20:33:31 - cmdstanpy - INFO - Chain [1] start processing\n",
      "20:33:31 - cmdstanpy - INFO - Chain [1] done processing\n",
      "20:33:31 - cmdstanpy - INFO - Chain [1] done processing\n",
      "20:33:32 - cmdstanpy - INFO - Chain [1] done processing\n",
      "20:33:35 - cmdstanpy - INFO - Chain [1] done processing\n"
     ]
    },
    {
     "name": "stdout",
     "output_type": "stream",
     "text": [
      "{'changepoint_prior_scale': 0.401, 'holidays_prior_scale': 2.51, 'seasonality_mode': 'additive', 'seasonality_prior_scale': 0.01}\n"
     ]
    },
    {
     "name": "stderr",
     "output_type": "stream",
     "text": [
      "20:33:36 - cmdstanpy - INFO - Chain [1] start processing\n",
      "20:33:40 - cmdstanpy - INFO - Chain [1] done processing\n",
      "20:33:42 - cmdstanpy - INFO - Chain [1] start processing\n",
      "20:33:42 - cmdstanpy - INFO - Chain [1] done processing\n",
      "20:33:42 - cmdstanpy - INFO - Chain [1] start processing\n",
      "20:33:42 - cmdstanpy - INFO - Chain [1] start processing\n",
      "20:33:42 - cmdstanpy - INFO - Chain [1] done processing\n",
      "20:33:43 - cmdstanpy - INFO - Chain [1] start processing\n",
      "20:33:43 - cmdstanpy - INFO - Chain [1] start processing\n",
      "20:33:43 - cmdstanpy - INFO - Chain [1] done processing\n",
      "20:33:44 - cmdstanpy - INFO - Chain [1] done processing\n",
      "20:33:47 - cmdstanpy - INFO - Chain [1] done processing\n"
     ]
    },
    {
     "name": "stdout",
     "output_type": "stream",
     "text": [
      "{'changepoint_prior_scale': 0.401, 'holidays_prior_scale': 2.51, 'seasonality_mode': 'additive', 'seasonality_prior_scale': 2.51}\n"
     ]
    },
    {
     "name": "stderr",
     "output_type": "stream",
     "text": [
      "20:33:48 - cmdstanpy - INFO - Chain [1] start processing\n",
      "20:33:52 - cmdstanpy - INFO - Chain [1] done processing\n",
      "20:33:53 - cmdstanpy - INFO - Chain [1] start processing\n",
      "20:33:54 - cmdstanpy - INFO - Chain [1] done processing\n",
      "20:33:54 - cmdstanpy - INFO - Chain [1] start processing\n",
      "20:33:54 - cmdstanpy - INFO - Chain [1] start processing\n",
      "20:33:54 - cmdstanpy - INFO - Chain [1] start processing\n",
      "20:33:54 - cmdstanpy - INFO - Chain [1] done processing\n",
      "20:33:54 - cmdstanpy - INFO - Chain [1] start processing\n",
      "20:33:55 - cmdstanpy - INFO - Chain [1] done processing\n",
      "20:33:55 - cmdstanpy - INFO - Chain [1] done processing\n",
      "20:33:58 - cmdstanpy - INFO - Chain [1] done processing\n"
     ]
    },
    {
     "name": "stdout",
     "output_type": "stream",
     "text": [
      "{'changepoint_prior_scale': 0.401, 'holidays_prior_scale': 2.51, 'seasonality_mode': 'additive', 'seasonality_prior_scale': 5.01}\n"
     ]
    },
    {
     "name": "stderr",
     "output_type": "stream",
     "text": [
      "20:33:59 - cmdstanpy - INFO - Chain [1] start processing\n",
      "20:34:04 - cmdstanpy - INFO - Chain [1] done processing\n",
      "20:34:05 - cmdstanpy - INFO - Chain [1] start processing\n",
      "20:34:06 - cmdstanpy - INFO - Chain [1] start processing\n",
      "20:34:06 - cmdstanpy - INFO - Chain [1] done processing\n",
      "20:34:06 - cmdstanpy - INFO - Chain [1] start processing\n",
      "20:34:06 - cmdstanpy - INFO - Chain [1] done processing\n",
      "20:34:06 - cmdstanpy - INFO - Chain [1] start processing\n",
      "20:34:06 - cmdstanpy - INFO - Chain [1] start processing\n",
      "20:34:06 - cmdstanpy - INFO - Chain [1] done processing\n",
      "20:34:07 - cmdstanpy - INFO - Chain [1] done processing\n",
      "20:34:09 - cmdstanpy - INFO - Chain [1] done processing\n"
     ]
    },
    {
     "name": "stdout",
     "output_type": "stream",
     "text": [
      "{'changepoint_prior_scale': 0.401, 'holidays_prior_scale': 2.51, 'seasonality_mode': 'additive', 'seasonality_prior_scale': 7.51}\n"
     ]
    },
    {
     "name": "stderr",
     "output_type": "stream",
     "text": [
      "20:34:10 - cmdstanpy - INFO - Chain [1] start processing\n",
      "20:34:14 - cmdstanpy - INFO - Chain [1] done processing\n",
      "20:34:15 - cmdstanpy - INFO - Chain [1] start processing\n",
      "20:34:16 - cmdstanpy - INFO - Chain [1] done processing\n",
      "20:34:16 - cmdstanpy - INFO - Chain [1] start processing\n",
      "20:34:16 - cmdstanpy - INFO - Chain [1] start processing\n",
      "20:34:16 - cmdstanpy - INFO - Chain [1] start processing\n",
      "20:34:16 - cmdstanpy - INFO - Chain [1] start processing\n",
      "20:34:16 - cmdstanpy - INFO - Chain [1] done processing\n",
      "20:34:17 - cmdstanpy - INFO - Chain [1] done processing\n",
      "20:34:17 - cmdstanpy - INFO - Chain [1] done processing\n",
      "20:34:20 - cmdstanpy - INFO - Chain [1] done processing\n"
     ]
    },
    {
     "name": "stdout",
     "output_type": "stream",
     "text": [
      "{'changepoint_prior_scale': 0.401, 'holidays_prior_scale': 5.01, 'seasonality_mode': 'multiplicative', 'seasonality_prior_scale': 0.01}\n"
     ]
    },
    {
     "name": "stderr",
     "output_type": "stream",
     "text": [
      "20:34:21 - cmdstanpy - INFO - Chain [1] start processing\n",
      "20:34:22 - cmdstanpy - INFO - Chain [1] done processing\n",
      "20:34:24 - cmdstanpy - INFO - Chain [1] start processing\n",
      "20:34:24 - cmdstanpy - INFO - Chain [1] done processing\n",
      "20:34:24 - cmdstanpy - INFO - Chain [1] start processing\n",
      "20:34:24 - cmdstanpy - INFO - Chain [1] start processing\n",
      "20:34:24 - cmdstanpy - INFO - Chain [1] start processing\n",
      "20:34:24 - cmdstanpy - INFO - Chain [1] done processing\n",
      "20:34:24 - cmdstanpy - INFO - Chain [1] start processing\n",
      "20:34:25 - cmdstanpy - INFO - Chain [1] done processing\n",
      "20:34:25 - cmdstanpy - INFO - Chain [1] done processing\n",
      "20:34:26 - cmdstanpy - INFO - Chain [1] done processing\n"
     ]
    },
    {
     "name": "stdout",
     "output_type": "stream",
     "text": [
      "{'changepoint_prior_scale': 0.401, 'holidays_prior_scale': 5.01, 'seasonality_mode': 'multiplicative', 'seasonality_prior_scale': 2.51}\n"
     ]
    },
    {
     "name": "stderr",
     "output_type": "stream",
     "text": [
      "20:34:27 - cmdstanpy - INFO - Chain [1] start processing\n",
      "20:34:31 - cmdstanpy - INFO - Chain [1] done processing\n",
      "20:34:32 - cmdstanpy - INFO - Chain [1] start processing\n",
      "20:34:32 - cmdstanpy - INFO - Chain [1] done processing\n",
      "20:34:32 - cmdstanpy - INFO - Chain [1] start processing\n",
      "20:34:33 - cmdstanpy - INFO - Chain [1] start processing\n",
      "20:34:33 - cmdstanpy - INFO - Chain [1] start processing\n",
      "20:34:33 - cmdstanpy - INFO - Chain [1] start processing\n",
      "20:34:33 - cmdstanpy - INFO - Chain [1] done processing\n",
      "20:34:34 - cmdstanpy - INFO - Chain [1] done processing\n",
      "20:34:34 - cmdstanpy - INFO - Chain [1] done processing\n",
      "20:34:36 - cmdstanpy - INFO - Chain [1] done processing\n"
     ]
    },
    {
     "name": "stdout",
     "output_type": "stream",
     "text": [
      "{'changepoint_prior_scale': 0.401, 'holidays_prior_scale': 5.01, 'seasonality_mode': 'multiplicative', 'seasonality_prior_scale': 5.01}\n"
     ]
    },
    {
     "name": "stderr",
     "output_type": "stream",
     "text": [
      "20:34:37 - cmdstanpy - INFO - Chain [1] start processing\n",
      "20:34:42 - cmdstanpy - INFO - Chain [1] done processing\n",
      "20:34:43 - cmdstanpy - INFO - Chain [1] start processing\n",
      "20:34:43 - cmdstanpy - INFO - Chain [1] start processing\n",
      "20:34:43 - cmdstanpy - INFO - Chain [1] done processing\n",
      "20:34:44 - cmdstanpy - INFO - Chain [1] start processing\n",
      "20:34:44 - cmdstanpy - INFO - Chain [1] start processing\n",
      "20:34:44 - cmdstanpy - INFO - Chain [1] done processing\n",
      "20:34:44 - cmdstanpy - INFO - Chain [1] start processing\n",
      "20:34:44 - cmdstanpy - INFO - Chain [1] done processing\n",
      "20:34:45 - cmdstanpy - INFO - Chain [1] done processing\n",
      "20:34:49 - cmdstanpy - INFO - Chain [1] done processing\n"
     ]
    },
    {
     "name": "stdout",
     "output_type": "stream",
     "text": [
      "{'changepoint_prior_scale': 0.401, 'holidays_prior_scale': 5.01, 'seasonality_mode': 'multiplicative', 'seasonality_prior_scale': 7.51}\n"
     ]
    },
    {
     "name": "stderr",
     "output_type": "stream",
     "text": [
      "20:34:50 - cmdstanpy - INFO - Chain [1] start processing\n",
      "20:34:53 - cmdstanpy - INFO - Chain [1] done processing\n",
      "20:34:55 - cmdstanpy - INFO - Chain [1] start processing\n",
      "20:34:55 - cmdstanpy - INFO - Chain [1] start processing\n",
      "20:34:55 - cmdstanpy - INFO - Chain [1] done processing\n",
      "20:34:55 - cmdstanpy - INFO - Chain [1] start processing\n",
      "20:34:55 - cmdstanpy - INFO - Chain [1] start processing\n",
      "20:34:56 - cmdstanpy - INFO - Chain [1] start processing\n",
      "20:34:56 - cmdstanpy - INFO - Chain [1] done processing\n",
      "20:34:56 - cmdstanpy - INFO - Chain [1] done processing\n",
      "20:34:56 - cmdstanpy - INFO - Chain [1] done processing\n",
      "20:35:00 - cmdstanpy - INFO - Chain [1] done processing\n"
     ]
    },
    {
     "name": "stdout",
     "output_type": "stream",
     "text": [
      "{'changepoint_prior_scale': 0.401, 'holidays_prior_scale': 5.01, 'seasonality_mode': 'additive', 'seasonality_prior_scale': 0.01}\n"
     ]
    },
    {
     "name": "stderr",
     "output_type": "stream",
     "text": [
      "20:35:01 - cmdstanpy - INFO - Chain [1] start processing\n",
      "20:35:05 - cmdstanpy - INFO - Chain [1] done processing\n",
      "20:35:07 - cmdstanpy - INFO - Chain [1] start processing\n",
      "20:35:07 - cmdstanpy - INFO - Chain [1] start processing\n",
      "20:35:07 - cmdstanpy - INFO - Chain [1] done processing\n",
      "20:35:07 - cmdstanpy - INFO - Chain [1] start processing\n",
      "20:35:07 - cmdstanpy - INFO - Chain [1] done processing\n",
      "20:35:07 - cmdstanpy - INFO - Chain [1] start processing\n",
      "20:35:08 - cmdstanpy - INFO - Chain [1] done processing\n",
      "20:35:08 - cmdstanpy - INFO - Chain [1] start processing\n",
      "20:35:08 - cmdstanpy - INFO - Chain [1] done processing\n",
      "20:35:13 - cmdstanpy - INFO - Chain [1] done processing\n"
     ]
    },
    {
     "name": "stdout",
     "output_type": "stream",
     "text": [
      "{'changepoint_prior_scale': 0.401, 'holidays_prior_scale': 5.01, 'seasonality_mode': 'additive', 'seasonality_prior_scale': 2.51}\n"
     ]
    },
    {
     "name": "stderr",
     "output_type": "stream",
     "text": [
      "20:35:14 - cmdstanpy - INFO - Chain [1] start processing\n",
      "20:50:14 - cmdstanpy - INFO - Chain [1] done processing\n",
      "20:50:16 - cmdstanpy - INFO - Chain [1] start processing\n",
      "20:50:16 - cmdstanpy - INFO - Chain [1] done processing\n",
      "20:50:16 - cmdstanpy - INFO - Chain [1] start processing\n",
      "20:50:16 - cmdstanpy - INFO - Chain [1] done processing\n",
      "20:50:17 - cmdstanpy - INFO - Chain [1] start processing\n",
      "20:50:17 - cmdstanpy - INFO - Chain [1] start processing\n",
      "20:50:17 - cmdstanpy - INFO - Chain [1] start processing\n",
      "20:50:17 - cmdstanpy - INFO - Chain [1] done processing\n",
      "20:50:17 - cmdstanpy - INFO - Chain [1] done processing\n",
      "20:50:21 - cmdstanpy - INFO - Chain [1] done processing\n"
     ]
    },
    {
     "name": "stdout",
     "output_type": "stream",
     "text": [
      "{'changepoint_prior_scale': 0.401, 'holidays_prior_scale': 5.01, 'seasonality_mode': 'additive', 'seasonality_prior_scale': 5.01}\n"
     ]
    },
    {
     "name": "stderr",
     "output_type": "stream",
     "text": [
      "20:50:22 - cmdstanpy - INFO - Chain [1] start processing\n",
      "20:50:26 - cmdstanpy - INFO - Chain [1] done processing\n",
      "20:50:28 - cmdstanpy - INFO - Chain [1] start processing\n",
      "20:50:28 - cmdstanpy - INFO - Chain [1] done processing\n",
      "20:50:28 - cmdstanpy - INFO - Chain [1] start processing\n",
      "20:50:28 - cmdstanpy - INFO - Chain [1] start processing\n",
      "20:50:29 - cmdstanpy - INFO - Chain [1] done processing\n",
      "20:50:29 - cmdstanpy - INFO - Chain [1] start processing\n",
      "20:50:29 - cmdstanpy - INFO - Chain [1] start processing\n",
      "20:50:29 - cmdstanpy - INFO - Chain [1] done processing\n",
      "20:50:29 - cmdstanpy - INFO - Chain [1] done processing\n",
      "20:50:33 - cmdstanpy - INFO - Chain [1] done processing\n"
     ]
    },
    {
     "name": "stdout",
     "output_type": "stream",
     "text": [
      "{'changepoint_prior_scale': 0.401, 'holidays_prior_scale': 5.01, 'seasonality_mode': 'additive', 'seasonality_prior_scale': 7.51}\n"
     ]
    },
    {
     "name": "stderr",
     "output_type": "stream",
     "text": [
      "20:50:34 - cmdstanpy - INFO - Chain [1] start processing\n",
      "20:50:36 - cmdstanpy - INFO - Chain [1] done processing\n",
      "20:50:38 - cmdstanpy - INFO - Chain [1] start processing\n",
      "20:50:38 - cmdstanpy - INFO - Chain [1] done processing\n",
      "20:50:38 - cmdstanpy - INFO - Chain [1] start processing\n",
      "20:50:38 - cmdstanpy - INFO - Chain [1] start processing\n",
      "20:50:39 - cmdstanpy - INFO - Chain [1] done processing\n",
      "20:50:39 - cmdstanpy - INFO - Chain [1] start processing\n",
      "20:50:39 - cmdstanpy - INFO - Chain [1] done processing\n",
      "20:50:39 - cmdstanpy - INFO - Chain [1] start processing\n",
      "20:50:40 - cmdstanpy - INFO - Chain [1] done processing\n",
      "20:50:42 - cmdstanpy - INFO - Chain [1] done processing\n"
     ]
    },
    {
     "name": "stdout",
     "output_type": "stream",
     "text": [
      "{'changepoint_prior_scale': 0.401, 'holidays_prior_scale': 7.51, 'seasonality_mode': 'multiplicative', 'seasonality_prior_scale': 0.01}\n"
     ]
    },
    {
     "name": "stderr",
     "output_type": "stream",
     "text": [
      "20:50:43 - cmdstanpy - INFO - Chain [1] start processing\n",
      "20:50:46 - cmdstanpy - INFO - Chain [1] done processing\n",
      "20:50:47 - cmdstanpy - INFO - Chain [1] start processing\n",
      "20:50:47 - cmdstanpy - INFO - Chain [1] start processing\n",
      "20:50:47 - cmdstanpy - INFO - Chain [1] done processing\n",
      "20:50:47 - cmdstanpy - INFO - Chain [1] start processing\n",
      "20:50:47 - cmdstanpy - INFO - Chain [1] start processing\n",
      "20:50:48 - cmdstanpy - INFO - Chain [1] done processing\n",
      "20:50:48 - cmdstanpy - INFO - Chain [1] start processing\n",
      "20:50:48 - cmdstanpy - INFO - Chain [1] done processing\n",
      "20:50:49 - cmdstanpy - INFO - Chain [1] done processing\n",
      "20:50:51 - cmdstanpy - INFO - Chain [1] done processing\n"
     ]
    },
    {
     "name": "stdout",
     "output_type": "stream",
     "text": [
      "{'changepoint_prior_scale': 0.401, 'holidays_prior_scale': 7.51, 'seasonality_mode': 'multiplicative', 'seasonality_prior_scale': 2.51}\n"
     ]
    },
    {
     "name": "stderr",
     "output_type": "stream",
     "text": [
      "20:50:52 - cmdstanpy - INFO - Chain [1] start processing\n",
      "20:50:56 - cmdstanpy - INFO - Chain [1] done processing\n",
      "20:50:57 - cmdstanpy - INFO - Chain [1] start processing\n",
      "20:50:58 - cmdstanpy - INFO - Chain [1] start processing\n",
      "20:50:58 - cmdstanpy - INFO - Chain [1] start processing\n",
      "20:50:58 - cmdstanpy - INFO - Chain [1] done processing\n",
      "20:50:58 - cmdstanpy - INFO - Chain [1] start processing\n",
      "20:50:58 - cmdstanpy - INFO - Chain [1] start processing\n",
      "20:50:58 - cmdstanpy - INFO - Chain [1] done processing\n",
      "20:50:59 - cmdstanpy - INFO - Chain [1] done processing\n",
      "20:50:59 - cmdstanpy - INFO - Chain [1] done processing\n",
      "20:51:03 - cmdstanpy - INFO - Chain [1] done processing\n"
     ]
    },
    {
     "name": "stdout",
     "output_type": "stream",
     "text": [
      "{'changepoint_prior_scale': 0.401, 'holidays_prior_scale': 7.51, 'seasonality_mode': 'multiplicative', 'seasonality_prior_scale': 5.01}\n"
     ]
    },
    {
     "name": "stderr",
     "output_type": "stream",
     "text": [
      "20:51:04 - cmdstanpy - INFO - Chain [1] start processing\n",
      "20:51:09 - cmdstanpy - INFO - Chain [1] done processing\n",
      "20:51:11 - cmdstanpy - INFO - Chain [1] start processing\n",
      "20:51:11 - cmdstanpy - INFO - Chain [1] done processing\n",
      "20:51:11 - cmdstanpy - INFO - Chain [1] start processing\n",
      "20:51:11 - cmdstanpy - INFO - Chain [1] start processing\n",
      "20:51:11 - cmdstanpy - INFO - Chain [1] start processing\n",
      "20:51:12 - cmdstanpy - INFO - Chain [1] done processing\n",
      "20:51:12 - cmdstanpy - INFO - Chain [1] done processing\n",
      "20:51:12 - cmdstanpy - INFO - Chain [1] start processing\n",
      "20:51:13 - cmdstanpy - INFO - Chain [1] done processing\n",
      "20:51:17 - cmdstanpy - INFO - Chain [1] done processing\n"
     ]
    },
    {
     "name": "stdout",
     "output_type": "stream",
     "text": [
      "{'changepoint_prior_scale': 0.401, 'holidays_prior_scale': 7.51, 'seasonality_mode': 'multiplicative', 'seasonality_prior_scale': 7.51}\n"
     ]
    },
    {
     "name": "stderr",
     "output_type": "stream",
     "text": [
      "20:51:18 - cmdstanpy - INFO - Chain [1] start processing\n",
      "20:51:24 - cmdstanpy - INFO - Chain [1] done processing\n",
      "20:51:25 - cmdstanpy - INFO - Chain [1] start processing\n",
      "20:51:26 - cmdstanpy - INFO - Chain [1] start processing\n",
      "20:51:26 - cmdstanpy - INFO - Chain [1] done processing\n",
      "20:51:26 - cmdstanpy - INFO - Chain [1] start processing\n",
      "20:51:26 - cmdstanpy - INFO - Chain [1] start processing\n",
      "20:51:26 - cmdstanpy - INFO - Chain [1] start processing\n",
      "20:51:26 - cmdstanpy - INFO - Chain [1] done processing\n",
      "20:51:26 - cmdstanpy - INFO - Chain [1] done processing\n",
      "20:51:27 - cmdstanpy - INFO - Chain [1] done processing\n",
      "20:51:31 - cmdstanpy - INFO - Chain [1] done processing\n"
     ]
    },
    {
     "name": "stdout",
     "output_type": "stream",
     "text": [
      "{'changepoint_prior_scale': 0.401, 'holidays_prior_scale': 7.51, 'seasonality_mode': 'additive', 'seasonality_prior_scale': 0.01}\n"
     ]
    },
    {
     "name": "stderr",
     "output_type": "stream",
     "text": [
      "20:51:32 - cmdstanpy - INFO - Chain [1] start processing\n",
      "20:51:36 - cmdstanpy - INFO - Chain [1] done processing\n",
      "20:51:37 - cmdstanpy - INFO - Chain [1] start processing\n",
      "20:51:37 - cmdstanpy - INFO - Chain [1] start processing\n",
      "20:51:37 - cmdstanpy - INFO - Chain [1] done processing\n",
      "20:51:38 - cmdstanpy - INFO - Chain [1] start processing\n",
      "20:51:38 - cmdstanpy - INFO - Chain [1] start processing\n",
      "20:51:38 - cmdstanpy - INFO - Chain [1] start processing\n",
      "20:51:38 - cmdstanpy - INFO - Chain [1] done processing\n",
      "20:51:38 - cmdstanpy - INFO - Chain [1] done processing\n",
      "20:51:39 - cmdstanpy - INFO - Chain [1] done processing\n",
      "20:51:42 - cmdstanpy - INFO - Chain [1] done processing\n"
     ]
    },
    {
     "name": "stdout",
     "output_type": "stream",
     "text": [
      "{'changepoint_prior_scale': 0.401, 'holidays_prior_scale': 7.51, 'seasonality_mode': 'additive', 'seasonality_prior_scale': 2.51}\n"
     ]
    },
    {
     "name": "stderr",
     "output_type": "stream",
     "text": [
      "20:51:43 - cmdstanpy - INFO - Chain [1] start processing\n",
      "20:51:45 - cmdstanpy - INFO - Chain [1] done processing\n",
      "20:51:47 - cmdstanpy - INFO - Chain [1] start processing\n",
      "20:51:47 - cmdstanpy - INFO - Chain [1] start processing\n",
      "20:51:47 - cmdstanpy - INFO - Chain [1] start processing\n",
      "20:51:47 - cmdstanpy - INFO - Chain [1] done processing\n",
      "20:51:47 - cmdstanpy - INFO - Chain [1] start processing\n",
      "20:51:47 - cmdstanpy - INFO - Chain [1] done processing\n",
      "20:51:47 - cmdstanpy - INFO - Chain [1] start processing\n",
      "20:51:48 - cmdstanpy - INFO - Chain [1] done processing\n",
      "20:51:48 - cmdstanpy - INFO - Chain [1] done processing\n",
      "20:51:52 - cmdstanpy - INFO - Chain [1] done processing\n"
     ]
    },
    {
     "name": "stdout",
     "output_type": "stream",
     "text": [
      "{'changepoint_prior_scale': 0.401, 'holidays_prior_scale': 7.51, 'seasonality_mode': 'additive', 'seasonality_prior_scale': 5.01}\n"
     ]
    },
    {
     "name": "stderr",
     "output_type": "stream",
     "text": [
      "20:51:53 - cmdstanpy - INFO - Chain [1] start processing\n",
      "20:51:57 - cmdstanpy - INFO - Chain [1] done processing\n",
      "20:51:58 - cmdstanpy - INFO - Chain [1] start processing\n",
      "20:51:58 - cmdstanpy - INFO - Chain [1] done processing\n",
      "20:51:58 - cmdstanpy - INFO - Chain [1] start processing\n",
      "20:51:58 - cmdstanpy - INFO - Chain [1] start processing\n",
      "20:51:59 - cmdstanpy - INFO - Chain [1] start processing\n",
      "20:51:59 - cmdstanpy - INFO - Chain [1] done processing\n",
      "20:51:59 - cmdstanpy - INFO - Chain [1] start processing\n",
      "20:51:59 - cmdstanpy - INFO - Chain [1] done processing\n",
      "20:51:59 - cmdstanpy - INFO - Chain [1] done processing\n",
      "20:52:02 - cmdstanpy - INFO - Chain [1] done processing\n"
     ]
    },
    {
     "name": "stdout",
     "output_type": "stream",
     "text": [
      "{'changepoint_prior_scale': 0.401, 'holidays_prior_scale': 7.51, 'seasonality_mode': 'additive', 'seasonality_prior_scale': 7.51}\n"
     ]
    },
    {
     "name": "stderr",
     "output_type": "stream",
     "text": [
      "20:52:03 - cmdstanpy - INFO - Chain [1] start processing\n",
      "20:52:07 - cmdstanpy - INFO - Chain [1] done processing\n",
      "20:52:09 - cmdstanpy - INFO - Chain [1] start processing\n",
      "20:52:09 - cmdstanpy - INFO - Chain [1] start processing\n",
      "20:52:09 - cmdstanpy - INFO - Chain [1] done processing\n",
      "20:52:09 - cmdstanpy - INFO - Chain [1] done processing\n",
      "20:52:09 - cmdstanpy - INFO - Chain [1] start processing\n",
      "20:52:10 - cmdstanpy - INFO - Chain [1] start processing\n",
      "20:52:10 - cmdstanpy - INFO - Chain [1] start processing\n",
      "20:52:10 - cmdstanpy - INFO - Chain [1] done processing\n",
      "20:52:10 - cmdstanpy - INFO - Chain [1] done processing\n",
      "20:52:13 - cmdstanpy - INFO - Chain [1] done processing\n"
     ]
    },
    {
     "name": "stdout",
     "output_type": "stream",
     "text": [
      "     changepoint_prior_scale  holidays_prior_scale seasonality_mode  \\\n",
      "0                      0.001                  0.01   multiplicative   \n",
      "1                      0.001                  0.01   multiplicative   \n",
      "2                      0.001                  0.01   multiplicative   \n",
      "3                      0.001                  0.01   multiplicative   \n",
      "4                      0.001                  0.01         additive   \n",
      "..                       ...                   ...              ...   \n",
      "155                    0.401                  7.51   multiplicative   \n",
      "156                    0.401                  7.51         additive   \n",
      "157                    0.401                  7.51         additive   \n",
      "158                    0.401                  7.51         additive   \n",
      "159                    0.401                  7.51         additive   \n",
      "\n",
      "     seasonality_prior_scale      mase  \n",
      "0                       0.01  1.083690  \n",
      "1                       2.51  0.928886  \n",
      "2                       5.01  0.923158  \n",
      "3                       7.51  0.932159  \n",
      "4                       0.01  0.920421  \n",
      "..                       ...       ...  \n",
      "155                     7.51  0.949176  \n",
      "156                     0.01  0.966244  \n",
      "157                     2.51  0.965110  \n",
      "158                     5.01  0.975161  \n",
      "159                     7.51  0.967188  \n",
      "\n",
      "[160 rows x 5 columns]\n"
     ]
    }
   ],
   "source": [
    "MASE_list = []\n",
    "best_mase = 100000000\n",
    "best_params = None\n",
    "for p in grid:\n",
    "    train = pd.DataFrame(train_data)\n",
    "    test = pd.DataFrame()\n",
    "    print(p)\n",
    "    random.seed(0)\n",
    "    train_model =Prophet(changepoint_prior_scale = p['changepoint_prior_scale'],\n",
    "                        holidays_prior_scale = p['holidays_prior_scale'],\n",
    "                        seasonality_prior_scale = p['seasonality_prior_scale'],\n",
    "                        seasonality_mode = p['seasonality_mode'],\n",
    "                        weekly_seasonality=True,\n",
    "                        daily_seasonality = True,\n",
    "                        yearly_seasonality = False,\n",
    "                        )\n",
    "    \n",
    "    # add regressors\n",
    "    train_model.add_regressor('hour_of_day')\n",
    "    train_model.add_regressor('day_of_week')\n",
    "    train_model.add_regressor('day_of_month')\n",
    "    train_model.add_regressor('month_of_year')\n",
    "    train_model.add_regressor('year')\n",
    "    train_model.add_regressor('weekend')\n",
    "    train_model.add_regressor('monday')\n",
    "    train_model.add_regressor('tuesday')\n",
    "    train_model.add_regressor('wednesday')\n",
    "    train_model.add_regressor('thursday')\n",
    "    train_model.add_regressor('friday')\n",
    "    train_model.add_regressor('saturday')\n",
    "    train_model.add_regressor('sunday')\n",
    "    train_model.add_regressor('time')\n",
    "\n",
    "\n",
    "    train_model.fit(train_data)\n",
    "    \n",
    "    df_cv = cross_validation(train_model, period='60 days', horizon='30 days', parallel=\"processes\")\n",
    "\n",
    "     # X and y to pandas dataframe\n",
    "    X_train = pd.DataFrame(df_cv)\n",
    "\n",
    "    y_true = df_cv['y'].values\n",
    "    #make y_true as dataframe\n",
    "    y_true = pd.DataFrame(y_true)\n",
    "\n",
    "    y_pred = df_cv['yhat'].values\n",
    "    #make y_pred as dataframe\n",
    "    y_pred = pd.DataFrame(y_pred)\n",
    "\n",
    "    MASE_list.append(mean_absolute_scaled_error(y_true, y_pred))\n",
    "    \n",
    "\n",
    "\n",
    "    # print('RMSE:',np.sqrt(MSE))\n",
    "    # RMSE_list.append(np.sqrt(MSE))\n",
    "\n",
    "# Find the best parameters\n",
    "tuning_results = pd.DataFrame(grid)\n",
    "tuning_results['mase'] = MASE_list\n",
    "print(tuning_results)"
   ]
  },
  {
   "cell_type": "code",
   "execution_count": 8,
   "metadata": {},
   "outputs": [
    {
     "name": "stdout",
     "output_type": "stream",
     "text": [
      "Best Parameters {'seasonality_prior_scale': 7.51, 'seasonality_mode': 'additive', 'holidays_prior_scale': 0.01, 'changepoint_prior_scale': 0.001}\n",
      "Best MASE 0.9074312507097565\n",
      "[1.0836895425312874, 0.9288857679334597, 0.9231578624162805, 0.9321591771774618, 0.9204209581930615, 0.9109197509930381, 0.910104803126744, 0.9074312507097565, 7.760365765692416, 4.031944277686117, 0.9311545830911381, 3.890248581869856, 1.0917556781735334, 7.570793625339842, 7.485561427042006, 7.486021912740025, 7.760642195087169, 6.414899177862765, 6.462781687988866, 6.278648147127525, 1.5421220383862861, 8.805958843809929, 8.826125674572477, 8.807558215099013, 7.7627737901361495, 6.958025675581833, 6.957642570975564, 6.9497825599458345, 7.81997686569928, 1.020771945198586, 1.5343662713586799, 1.136036135910256, 0.9720066857466315, 0.9751936769333881, 0.9898756879540562, 0.9218197297682166, 0.9741072262418847, 0.968491090403623, 0.9722109555438321, 0.9789130272053982, 0.9966647813248865, 0.9551084723255739, 0.9892387192536293, 0.9306539916581644, 0.9756509440995422, 0.9695314922273335, 0.9755173851001473, 0.9683616782359248, 1.026307332065306, 0.9382177943914028, 0.9298521892329393, 0.9546008603959962, 0.9833326618673277, 0.9870850254387359, 0.980265411098003, 0.9836113463575671, 0.9728900596508591, 0.9211590736703725, 0.9264775137288005, 0.9381648055900632, 0.9767526764886554, 0.9828095482316587, 0.9699655651906988, 0.9835261356702353, 0.9929069176562538, 0.9692046143161339, 0.9335220136403891, 0.9303335373328274, 0.9736917827057566, 0.9710419440543179, 0.9674243348120131, 0.9605320692298768, 0.9786473444362878, 0.9831635198663005, 0.9719396574041644, 0.9430666597896998, 0.9711530523271199, 0.9617798678396461, 0.9805706522296308, 0.9712090027529656, 1.041151726976758, 0.9295803252649923, 0.9665621888330586, 1.0054452446883964, 0.9649608287989245, 0.976970839239482, 0.9643995417904793, 0.9796398199022931, 1.0072166430174894, 0.9202286700660464, 0.9258869998338287, 0.9416394104393225, 0.9817985625247502, 0.9769582382648334, 0.972423526008019, 0.9694214828567455, 1.0062977722312256, 0.9429704498605317, 0.9408166588041349, 1.0133812198247587, 0.960987205340442, 0.9666381233077489, 0.9639147975896971, 0.9576258485881828, 1.0402970377235432, 0.9426030836444299, 1.0108762797182858, 0.9599060160613161, 0.97492859480807, 0.9682003029128021, 0.9618965201183002, 0.9798018716073064, 0.9546082125018059, 0.9916896236803497, 1.0033810639766805, 1.0276863157848115, 0.9709738660075419, 0.9756987104084222, 0.9641107805477029, 0.959500297381563, 0.9973365485912071, 0.9801004405154536, 0.9903645389860334, 0.9083311959699639, 0.9593722993644151, 0.9774867632514883, 0.9745418010006319, 0.9704032207231487, 1.0334300593731032, 0.9707950751438087, 0.9713437349902688, 1.0064264370405998, 0.9648523703235761, 0.9696541757498124, 0.969078319818957, 0.9693525147819025, 1.0305218414857045, 0.9502483853531557, 0.9752280610707357, 0.9726254539360095, 0.9690401191963788, 0.9698264589842899, 0.9636693473165389, 0.9698407408638655, 0.9706661932477186, 0.9151728832668292, 1.0201173589450823, 1.0160957723696595, 0.9712612615006961, 0.9668450471963154, 0.9635309143606259, 0.9660181315372971, 1.0373466698123845, 0.9809045311725907, 0.9728561589242273, 0.9491763107099654, 0.9662438637606966, 0.9651104168680609, 0.9751612719120352, 0.967188426055925]\n"
     ]
    }
   ],
   "source": [
    "best_params = grid[np.argmin(MASE_list)]\n",
    "print('Best Parameters',best_params)\n",
    "print('Best MASE',np.min(MASE_list))\n",
    "print(MASE_list)"
   ]
  }
 ],
 "metadata": {
  "kernelspec": {
   "display_name": "Python 3",
   "language": "python",
   "name": "python3"
  },
  "language_info": {
   "codemirror_mode": {
    "name": "ipython",
    "version": 3
   },
   "file_extension": ".py",
   "mimetype": "text/x-python",
   "name": "python",
   "nbconvert_exporter": "python",
   "pygments_lexer": "ipython3",
   "version": "3.9.12"
  }
 },
 "nbformat": 4,
 "nbformat_minor": 2
}
