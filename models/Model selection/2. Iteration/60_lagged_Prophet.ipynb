{
 "cells": [
  {
   "cell_type": "markdown",
   "metadata": {},
   "source": [
    "https://www.kaggle.com/code/manovirat/timeseries-using-prophet-hyperparameter-tuning"
   ]
  },
  {
   "cell_type": "code",
   "execution_count": 3,
   "metadata": {},
   "outputs": [],
   "source": [
    "import pandas as pd\n",
    "from prophet import Prophet\n",
    "from prophet.diagnostics import cross_validation\n",
    "from sklearn.model_selection import ParameterGrid\n",
    "from prophet.diagnostics import performance_metrics\n",
    "import random\n",
    "import numpy as np\n",
    "from sklearn.model_selection import TimeSeriesSplit"
   ]
  },
  {
   "cell_type": "code",
   "execution_count": 2,
   "metadata": {},
   "outputs": [
    {
     "name": "stdout",
     "output_type": "stream",
     "text": [
      "Total Possible Models 160\n"
     ]
    }
   ],
   "source": [
    "params_grid = {'seasonality_mode':('multiplicative','additive'),\n",
    "               # set changepoint_prior_scale to 0.5 with steps of 0.005\n",
    "               'changepoint_prior_scale':[x for x in np.arange(0.001, 0.5, 0.1)],\n",
    "               'seasonality_prior_scale':[x for x in np.arange(0.01, 10, 2.5)],\n",
    "              'holidays_prior_scale':[x for x in np.arange(0.01, 10, 2.5)]}\n",
    "\n",
    "grid = ParameterGrid(params_grid)\n",
    "cnt = 0\n",
    "for p in grid:\n",
    "    cnt = cnt+1\n",
    "\n",
    "print('Total Possible Models',cnt)"
   ]
  },
  {
   "cell_type": "code",
   "execution_count": 3,
   "metadata": {},
   "outputs": [],
   "source": [
    "#Define MASE Metric\n",
    "def mean_absolute_scaled_error(y_true, y_pred):\n",
    "    mase=0\n",
    "    # Define numerator as the forecast error\n",
    "    numerator = (np.abs(y_true - y_pred))\n",
    "\n",
    "    # Define denominator as the mean absolute error of the in-sample one-step naive forecast\n",
    "    y_true_ohne_1 = y_true[1:].reset_index(drop=True)\n",
    "    y_true_ohne_ende = y_true[:-1].reset_index(drop=True)\n",
    "    denominator = np.mean(np.abs(y_true_ohne_1 - y_true_ohne_ende))\n",
    "\n",
    "    mase = np.mean(np.abs(numerator / denominator))\n",
    "\n",
    "    return mase"
   ]
  },
  {
   "cell_type": "code",
   "execution_count": 4,
   "metadata": {},
   "outputs": [],
   "source": [
    "# Load the data\n",
    "data = pd.read_parquet('/Users/paddy/Documents/GitHub/Masterthesis_ML/data/03_032022_032023_taxi_rides.parquet')\n",
    "\n",
    "# Convert the date column to datetime\n",
    "data['date'] = pd.to_datetime(data['date'],format='%d/%m/%y %H:%M:%S').dt.strftime('%Y-%m-%d %H:%M:%S') \n"
   ]
  },
  {
   "cell_type": "code",
   "execution_count": 5,
   "metadata": {},
   "outputs": [],
   "source": [
    "# Feature Engineering\n",
    "\n",
    "# Add a column with the time\n",
    "data['time'] = [x for x in range(0, len(data))]\n",
    "\n",
    "# Create the lagged features 24 +1\n",
    "lags = 25\n",
    "\n",
    "# Create the lagged features\n",
    "for i in range(1, lags):\n",
    "    data['lag' + str(i)] = data['count'].shift(i)\n",
    "\n",
    "# Drop the first three rows\n",
    "data = data.dropna().reset_index(drop=True)\n",
    "\n",
    "# Rename column count to y\n",
    "data = data.rename(columns={'count': 'y'})\n",
    "data = data.rename(columns={'date': 'ds'})\n",
    "\n",
    "\n",
    "train_data = data"
   ]
  },
  {
   "cell_type": "code",
   "execution_count": 6,
   "metadata": {},
   "outputs": [
    {
     "name": "stdout",
     "output_type": "stream",
     "text": [
      "0       2022-04-02 00:00:00\n",
      "1       2022-04-02 01:00:00\n",
      "2       2022-04-02 02:00:00\n",
      "3       2022-04-02 03:00:00\n",
      "4       2022-04-02 04:00:00\n",
      "               ...         \n",
      "8731    2023-03-31 19:00:00\n",
      "8732    2023-03-31 20:00:00\n",
      "8733    2023-03-31 21:00:00\n",
      "8734    2023-03-31 22:00:00\n",
      "8735    2023-03-31 23:00:00\n",
      "Name: ds, Length: 8736, dtype: object\n",
      "Fold 0:\n",
      "  Train: index=[   0    1    2 ... 1453 1454 1455]\n",
      "  Test:  index=[1456 1457 1458 ... 2909 2910 2911]\n",
      "Fold 1:\n",
      "  Train: index=[   0    1    2 ... 2909 2910 2911]\n",
      "  Test:  index=[2912 2913 2914 ... 4365 4366 4367]\n",
      "Fold 2:\n",
      "  Train: index=[   0    1    2 ... 4365 4366 4367]\n",
      "  Test:  index=[4368 4369 4370 ... 5821 5822 5823]\n",
      "Fold 3:\n",
      "  Train: index=[   0    1    2 ... 5821 5822 5823]\n",
      "  Test:  index=[5824 5825 5826 ... 7277 7278 7279]\n",
      "Fold 4:\n",
      "  Train: index=[   0    1    2 ... 7277 7278 7279]\n",
      "  Test:  index=[7280 7281 7282 ... 8733 8734 8735]\n",
      "['2022-06-01 15:00:00', '2022-08-01 07:00:00', '2022-09-30 23:00:00', '2022-11-30 15:00:00', '2023-01-30 07:00:00']\n"
     ]
    }
   ],
   "source": [
    "cv_folds = TimeSeriesSplit(n_splits=5)\n",
    "\n",
    "#convert data to only date not time\n",
    "cv_data = train_data.copy()\n",
    "\n",
    "#convert to timestamp with date format\n",
    "#cv_data.ds = pd.to_datetime(cv_data.ds).dt.date\n",
    "\n",
    "print(cv_data.ds)   \n",
    "\n",
    "#Define cutoff dates for cross validation at end of train_data/cv_folds\n",
    "cutoffs = []\n",
    "# for train_index, test_index in cv_folds.split(train_data):\n",
    "#     cutoffs.append(train_data.ds.iloc[test_index].max())\n",
    "#     #convert to timestamp\n",
    "#     cutoffs = pd.to_datetime(cutoffs)\n",
    "    \n",
    "# print(cutoffs)\n",
    "\n",
    "for i, (train_index, test_index) in enumerate(cv_folds.split(cv_data)):\n",
    "    print(f\"Fold {i}:\")\n",
    "    print(f\"  Train: index={train_index}\")\n",
    "    print(f\"  Test:  index={test_index}\")\n",
    "    #get the date for the last train index\n",
    "    cutoffs.append(cv_data.ds.iloc[train_index].max())\n",
    "    #only date not time\n",
    "    #cutoffs = pd.to_datetime(cutoffs).date\n",
    "\n",
    "print(cutoffs)\n",
    "\n",
    "# Define cutoffs for cross validation with 5 folds every two months with first cut on 2022-06-01, last day 2023-01-15 and horizon of 15 days\n",
    "#cutoffs = pd.to_datetime(['2022-06-01', '2022-08-01', '2022-10-01', '2022-12-01', '2023-01-15'])\n",
    "# print(cutoffs)\n"
   ]
  },
  {
   "cell_type": "code",
   "execution_count": 7,
   "metadata": {},
   "outputs": [
    {
     "name": "stdout",
     "output_type": "stream",
     "text": [
      "{'changepoint_prior_scale': 0.001, 'holidays_prior_scale': 0.01, 'seasonality_mode': 'multiplicative', 'seasonality_prior_scale': 0.01}\n"
     ]
    },
    {
     "name": "stderr",
     "output_type": "stream",
     "text": [
      "11:55:59 - cmdstanpy - INFO - Chain [1] start processing\n",
      "11:55:59 - cmdstanpy - INFO - Chain [1] done processing\n",
      "11:56:01 - cmdstanpy - INFO - Chain [1] start processing\n",
      "11:56:01 - cmdstanpy - INFO - Chain [1] done processing\n",
      "11:56:01 - cmdstanpy - INFO - Chain [1] start processing\n",
      "11:56:01 - cmdstanpy - INFO - Chain [1] start processing\n",
      "11:56:01 - cmdstanpy - INFO - Chain [1] done processing\n",
      "11:56:01 - cmdstanpy - INFO - Chain [1] start processing\n",
      "11:56:01 - cmdstanpy - INFO - Chain [1] start processing\n",
      "11:56:01 - cmdstanpy - INFO - Chain [1] done processing\n",
      "11:56:02 - cmdstanpy - INFO - Chain [1] done processing\n",
      "11:56:02 - cmdstanpy - INFO - Chain [1] done processing\n"
     ]
    },
    {
     "name": "stdout",
     "output_type": "stream",
     "text": [
      "{'changepoint_prior_scale': 0.001, 'holidays_prior_scale': 0.01, 'seasonality_mode': 'multiplicative', 'seasonality_prior_scale': 2.51}\n"
     ]
    },
    {
     "name": "stderr",
     "output_type": "stream",
     "text": [
      "11:56:03 - cmdstanpy - INFO - Chain [1] start processing\n",
      "11:56:03 - cmdstanpy - INFO - Chain [1] done processing\n",
      "11:56:05 - cmdstanpy - INFO - Chain [1] start processing\n",
      "11:56:05 - cmdstanpy - INFO - Chain [1] start processing\n",
      "11:56:05 - cmdstanpy - INFO - Chain [1] done processing\n",
      "11:56:05 - cmdstanpy - INFO - Chain [1] start processing\n",
      "11:56:05 - cmdstanpy - INFO - Chain [1] start processing\n",
      "11:56:05 - cmdstanpy - INFO - Chain [1] done processing\n",
      "11:56:05 - cmdstanpy - INFO - Chain [1] start processing\n",
      "11:56:06 - cmdstanpy - INFO - Chain [1] done processing\n",
      "11:56:06 - cmdstanpy - INFO - Chain [1] done processing\n",
      "11:56:06 - cmdstanpy - INFO - Chain [1] done processing\n"
     ]
    },
    {
     "name": "stdout",
     "output_type": "stream",
     "text": [
      "{'changepoint_prior_scale': 0.001, 'holidays_prior_scale': 0.01, 'seasonality_mode': 'multiplicative', 'seasonality_prior_scale': 5.01}\n"
     ]
    },
    {
     "name": "stderr",
     "output_type": "stream",
     "text": [
      "11:56:07 - cmdstanpy - INFO - Chain [1] start processing\n",
      "11:56:07 - cmdstanpy - INFO - Chain [1] done processing\n",
      "11:56:08 - cmdstanpy - INFO - Chain [1] start processing\n",
      "11:56:08 - cmdstanpy - INFO - Chain [1] done processing\n",
      "11:56:09 - cmdstanpy - INFO - Chain [1] start processing\n",
      "11:56:09 - cmdstanpy - INFO - Chain [1] start processing\n",
      "11:56:09 - cmdstanpy - INFO - Chain [1] start processing\n",
      "11:56:09 - cmdstanpy - INFO - Chain [1] done processing\n",
      "11:56:09 - cmdstanpy - INFO - Chain [1] start processing\n",
      "11:56:09 - cmdstanpy - INFO - Chain [1] done processing\n",
      "11:56:10 - cmdstanpy - INFO - Chain [1] done processing\n",
      "11:56:10 - cmdstanpy - INFO - Chain [1] done processing\n"
     ]
    },
    {
     "name": "stdout",
     "output_type": "stream",
     "text": [
      "{'changepoint_prior_scale': 0.001, 'holidays_prior_scale': 0.01, 'seasonality_mode': 'multiplicative', 'seasonality_prior_scale': 7.51}\n"
     ]
    },
    {
     "name": "stderr",
     "output_type": "stream",
     "text": [
      "11:56:11 - cmdstanpy - INFO - Chain [1] start processing\n",
      "11:56:11 - cmdstanpy - INFO - Chain [1] done processing\n",
      "11:56:13 - cmdstanpy - INFO - Chain [1] start processing\n",
      "11:56:13 - cmdstanpy - INFO - Chain [1] start processing\n",
      "11:56:13 - cmdstanpy - INFO - Chain [1] done processing\n",
      "11:56:13 - cmdstanpy - INFO - Chain [1] start processing\n",
      "11:56:13 - cmdstanpy - INFO - Chain [1] done processing\n",
      "11:56:13 - cmdstanpy - INFO - Chain [1] start processing\n",
      "11:56:14 - cmdstanpy - INFO - Chain [1] start processing\n",
      "11:56:14 - cmdstanpy - INFO - Chain [1] done processing\n",
      "11:56:14 - cmdstanpy - INFO - Chain [1] done processing\n",
      "11:56:15 - cmdstanpy - INFO - Chain [1] done processing\n"
     ]
    },
    {
     "name": "stdout",
     "output_type": "stream",
     "text": [
      "{'changepoint_prior_scale': 0.001, 'holidays_prior_scale': 0.01, 'seasonality_mode': 'additive', 'seasonality_prior_scale': 0.01}\n"
     ]
    },
    {
     "name": "stderr",
     "output_type": "stream",
     "text": [
      "11:56:15 - cmdstanpy - INFO - Chain [1] start processing\n",
      "11:56:16 - cmdstanpy - INFO - Chain [1] done processing\n",
      "11:56:18 - cmdstanpy - INFO - Chain [1] start processing\n",
      "11:56:18 - cmdstanpy - INFO - Chain [1] start processing\n",
      "11:56:18 - cmdstanpy - INFO - Chain [1] done processing\n",
      "11:56:18 - cmdstanpy - INFO - Chain [1] start processing\n",
      "11:56:18 - cmdstanpy - INFO - Chain [1] start processing\n",
      "11:56:18 - cmdstanpy - INFO - Chain [1] start processing\n",
      "11:56:18 - cmdstanpy - INFO - Chain [1] done processing\n",
      "11:56:19 - cmdstanpy - INFO - Chain [1] done processing\n",
      "11:56:20 - cmdstanpy - INFO - Chain [1] done processing\n",
      "11:56:20 - cmdstanpy - INFO - Chain [1] done processing\n"
     ]
    },
    {
     "name": "stdout",
     "output_type": "stream",
     "text": [
      "{'changepoint_prior_scale': 0.001, 'holidays_prior_scale': 0.01, 'seasonality_mode': 'additive', 'seasonality_prior_scale': 2.51}\n"
     ]
    },
    {
     "name": "stderr",
     "output_type": "stream",
     "text": [
      "11:56:21 - cmdstanpy - INFO - Chain [1] start processing\n",
      "11:56:22 - cmdstanpy - INFO - Chain [1] done processing\n",
      "11:56:24 - cmdstanpy - INFO - Chain [1] start processing\n",
      "11:56:24 - cmdstanpy - INFO - Chain [1] start processing\n",
      "11:56:24 - cmdstanpy - INFO - Chain [1] start processing\n",
      "11:56:24 - cmdstanpy - INFO - Chain [1] start processing\n",
      "11:56:24 - cmdstanpy - INFO - Chain [1] done processing\n",
      "11:56:24 - cmdstanpy - INFO - Chain [1] start processing\n",
      "11:56:24 - cmdstanpy - INFO - Chain [1] done processing\n",
      "11:56:25 - cmdstanpy - INFO - Chain [1] done processing\n",
      "11:56:26 - cmdstanpy - INFO - Chain [1] done processing\n",
      "11:56:27 - cmdstanpy - INFO - Chain [1] done processing\n"
     ]
    },
    {
     "name": "stdout",
     "output_type": "stream",
     "text": [
      "{'changepoint_prior_scale': 0.001, 'holidays_prior_scale': 0.01, 'seasonality_mode': 'additive', 'seasonality_prior_scale': 5.01}\n"
     ]
    },
    {
     "name": "stderr",
     "output_type": "stream",
     "text": [
      "11:56:27 - cmdstanpy - INFO - Chain [1] start processing\n",
      "11:56:28 - cmdstanpy - INFO - Chain [1] done processing\n",
      "11:56:29 - cmdstanpy - INFO - Chain [1] start processing\n",
      "11:56:30 - cmdstanpy - INFO - Chain [1] start processing\n",
      "11:56:30 - cmdstanpy - INFO - Chain [1] start processing\n",
      "11:56:30 - cmdstanpy - INFO - Chain [1] start processing\n",
      "11:56:30 - cmdstanpy - INFO - Chain [1] done processing\n",
      "11:56:30 - cmdstanpy - INFO - Chain [1] start processing\n",
      "11:56:30 - cmdstanpy - INFO - Chain [1] done processing\n",
      "11:56:31 - cmdstanpy - INFO - Chain [1] done processing\n",
      "11:56:32 - cmdstanpy - INFO - Chain [1] done processing\n",
      "11:56:32 - cmdstanpy - INFO - Chain [1] done processing\n"
     ]
    },
    {
     "name": "stdout",
     "output_type": "stream",
     "text": [
      "{'changepoint_prior_scale': 0.001, 'holidays_prior_scale': 0.01, 'seasonality_mode': 'additive', 'seasonality_prior_scale': 7.51}\n"
     ]
    },
    {
     "name": "stderr",
     "output_type": "stream",
     "text": [
      "11:56:33 - cmdstanpy - INFO - Chain [1] start processing\n",
      "11:56:34 - cmdstanpy - INFO - Chain [1] done processing\n",
      "11:56:35 - cmdstanpy - INFO - Chain [1] start processing\n",
      "11:56:35 - cmdstanpy - INFO - Chain [1] start processing\n",
      "11:56:35 - cmdstanpy - INFO - Chain [1] done processing\n",
      "11:56:35 - cmdstanpy - INFO - Chain [1] start processing\n",
      "11:56:35 - cmdstanpy - INFO - Chain [1] start processing\n",
      "11:56:36 - cmdstanpy - INFO - Chain [1] start processing\n",
      "11:56:36 - cmdstanpy - INFO - Chain [1] done processing\n",
      "11:56:37 - cmdstanpy - INFO - Chain [1] done processing\n",
      "11:56:37 - cmdstanpy - INFO - Chain [1] done processing\n",
      "11:56:37 - cmdstanpy - INFO - Chain [1] done processing\n"
     ]
    },
    {
     "name": "stdout",
     "output_type": "stream",
     "text": [
      "{'changepoint_prior_scale': 0.001, 'holidays_prior_scale': 2.51, 'seasonality_mode': 'multiplicative', 'seasonality_prior_scale': 0.01}\n"
     ]
    },
    {
     "name": "stderr",
     "output_type": "stream",
     "text": [
      "11:56:39 - cmdstanpy - INFO - Chain [1] start processing\n",
      "11:56:39 - cmdstanpy - INFO - Chain [1] done processing\n",
      "11:56:40 - cmdstanpy - INFO - Chain [1] start processing\n",
      "11:56:41 - cmdstanpy - INFO - Chain [1] start processing\n",
      "11:56:41 - cmdstanpy - INFO - Chain [1] done processing\n",
      "11:56:41 - cmdstanpy - INFO - Chain [1] done processing\n",
      "11:56:41 - cmdstanpy - INFO - Chain [1] start processing\n",
      "11:56:41 - cmdstanpy - INFO - Chain [1] start processing\n",
      "11:56:41 - cmdstanpy - INFO - Chain [1] start processing\n",
      "11:56:41 - cmdstanpy - INFO - Chain [1] done processing\n",
      "11:56:42 - cmdstanpy - INFO - Chain [1] done processing\n",
      "11:56:42 - cmdstanpy - INFO - Chain [1] done processing\n"
     ]
    },
    {
     "name": "stdout",
     "output_type": "stream",
     "text": [
      "{'changepoint_prior_scale': 0.001, 'holidays_prior_scale': 2.51, 'seasonality_mode': 'multiplicative', 'seasonality_prior_scale': 2.51}\n"
     ]
    },
    {
     "name": "stderr",
     "output_type": "stream",
     "text": [
      "11:56:43 - cmdstanpy - INFO - Chain [1] start processing\n",
      "11:56:44 - cmdstanpy - INFO - Chain [1] done processing\n",
      "11:56:45 - cmdstanpy - INFO - Chain [1] start processing\n",
      "11:56:45 - cmdstanpy - INFO - Chain [1] start processing\n",
      "11:56:45 - cmdstanpy - INFO - Chain [1] start processing\n",
      "11:56:45 - cmdstanpy - INFO - Chain [1] done processing\n",
      "11:56:45 - cmdstanpy - INFO - Chain [1] start processing\n",
      "11:56:46 - cmdstanpy - INFO - Chain [1] start processing\n",
      "11:56:46 - cmdstanpy - INFO - Chain [1] done processing\n",
      "11:56:46 - cmdstanpy - INFO - Chain [1] done processing\n",
      "11:56:47 - cmdstanpy - INFO - Chain [1] done processing\n",
      "11:56:47 - cmdstanpy - INFO - Chain [1] done processing\n"
     ]
    },
    {
     "name": "stdout",
     "output_type": "stream",
     "text": [
      "{'changepoint_prior_scale': 0.001, 'holidays_prior_scale': 2.51, 'seasonality_mode': 'multiplicative', 'seasonality_prior_scale': 5.01}\n"
     ]
    },
    {
     "name": "stderr",
     "output_type": "stream",
     "text": [
      "11:56:48 - cmdstanpy - INFO - Chain [1] start processing\n",
      "11:56:48 - cmdstanpy - INFO - Chain [1] done processing\n",
      "11:56:49 - cmdstanpy - INFO - Chain [1] start processing\n",
      "11:56:49 - cmdstanpy - INFO - Chain [1] start processing\n",
      "11:56:49 - cmdstanpy - INFO - Chain [1] done processing\n",
      "11:56:50 - cmdstanpy - INFO - Chain [1] start processing\n",
      "11:56:50 - cmdstanpy - INFO - Chain [1] done processing\n",
      "11:56:50 - cmdstanpy - INFO - Chain [1] start processing\n",
      "11:56:50 - cmdstanpy - INFO - Chain [1] start processing\n",
      "11:56:50 - cmdstanpy - INFO - Chain [1] done processing\n",
      "11:56:51 - cmdstanpy - INFO - Chain [1] done processing\n",
      "11:56:51 - cmdstanpy - INFO - Chain [1] done processing\n"
     ]
    },
    {
     "name": "stdout",
     "output_type": "stream",
     "text": [
      "{'changepoint_prior_scale': 0.001, 'holidays_prior_scale': 2.51, 'seasonality_mode': 'multiplicative', 'seasonality_prior_scale': 7.51}\n"
     ]
    },
    {
     "name": "stderr",
     "output_type": "stream",
     "text": [
      "11:56:52 - cmdstanpy - INFO - Chain [1] start processing\n",
      "11:56:52 - cmdstanpy - INFO - Chain [1] done processing\n",
      "11:56:54 - cmdstanpy - INFO - Chain [1] start processing\n",
      "11:56:54 - cmdstanpy - INFO - Chain [1] start processing\n",
      "11:56:54 - cmdstanpy - INFO - Chain [1] start processing\n",
      "11:56:54 - cmdstanpy - INFO - Chain [1] done processing\n",
      "11:56:54 - cmdstanpy - INFO - Chain [1] done processing\n",
      "11:56:54 - cmdstanpy - INFO - Chain [1] start processing\n",
      "11:56:54 - cmdstanpy - INFO - Chain [1] start processing\n",
      "11:56:55 - cmdstanpy - INFO - Chain [1] done processing\n",
      "11:56:56 - cmdstanpy - INFO - Chain [1] done processing\n",
      "11:56:56 - cmdstanpy - INFO - Chain [1] done processing\n"
     ]
    },
    {
     "name": "stdout",
     "output_type": "stream",
     "text": [
      "{'changepoint_prior_scale': 0.001, 'holidays_prior_scale': 2.51, 'seasonality_mode': 'additive', 'seasonality_prior_scale': 0.01}\n"
     ]
    },
    {
     "name": "stderr",
     "output_type": "stream",
     "text": [
      "11:56:57 - cmdstanpy - INFO - Chain [1] start processing\n",
      "11:56:58 - cmdstanpy - INFO - Chain [1] done processing\n",
      "11:56:59 - cmdstanpy - INFO - Chain [1] start processing\n",
      "11:56:59 - cmdstanpy - INFO - Chain [1] start processing\n",
      "11:56:59 - cmdstanpy - INFO - Chain [1] start processing\n",
      "11:56:59 - cmdstanpy - INFO - Chain [1] start processing\n",
      "11:56:59 - cmdstanpy - INFO - Chain [1] done processing\n",
      "11:56:59 - cmdstanpy - INFO - Chain [1] done processing\n",
      "11:56:59 - cmdstanpy - INFO - Chain [1] start processing\n",
      "11:57:01 - cmdstanpy - INFO - Chain [1] done processing\n",
      "11:57:01 - cmdstanpy - INFO - Chain [1] done processing\n",
      "11:57:02 - cmdstanpy - INFO - Chain [1] done processing\n"
     ]
    },
    {
     "name": "stdout",
     "output_type": "stream",
     "text": [
      "{'changepoint_prior_scale': 0.001, 'holidays_prior_scale': 2.51, 'seasonality_mode': 'additive', 'seasonality_prior_scale': 2.51}\n"
     ]
    },
    {
     "name": "stderr",
     "output_type": "stream",
     "text": [
      "11:57:02 - cmdstanpy - INFO - Chain [1] start processing\n",
      "11:57:03 - cmdstanpy - INFO - Chain [1] done processing\n",
      "11:57:04 - cmdstanpy - INFO - Chain [1] start processing\n",
      "11:57:04 - cmdstanpy - INFO - Chain [1] start processing\n",
      "11:57:04 - cmdstanpy - INFO - Chain [1] start processing\n",
      "11:57:05 - cmdstanpy - INFO - Chain [1] start processing\n",
      "11:57:05 - cmdstanpy - INFO - Chain [1] done processing\n",
      "11:57:05 - cmdstanpy - INFO - Chain [1] done processing\n",
      "11:57:05 - cmdstanpy - INFO - Chain [1] start processing\n",
      "11:57:06 - cmdstanpy - INFO - Chain [1] done processing\n",
      "11:57:07 - cmdstanpy - INFO - Chain [1] done processing\n",
      "11:57:07 - cmdstanpy - INFO - Chain [1] done processing\n"
     ]
    },
    {
     "name": "stdout",
     "output_type": "stream",
     "text": [
      "{'changepoint_prior_scale': 0.001, 'holidays_prior_scale': 2.51, 'seasonality_mode': 'additive', 'seasonality_prior_scale': 5.01}\n"
     ]
    },
    {
     "name": "stderr",
     "output_type": "stream",
     "text": [
      "11:57:08 - cmdstanpy - INFO - Chain [1] start processing\n",
      "11:57:09 - cmdstanpy - INFO - Chain [1] done processing\n",
      "11:57:10 - cmdstanpy - INFO - Chain [1] start processing\n",
      "11:57:10 - cmdstanpy - INFO - Chain [1] start processing\n",
      "11:57:11 - cmdstanpy - INFO - Chain [1] start processing\n",
      "11:57:11 - cmdstanpy - INFO - Chain [1] start processing\n",
      "11:57:11 - cmdstanpy - INFO - Chain [1] done processing\n",
      "11:57:11 - cmdstanpy - INFO - Chain [1] start processing\n",
      "11:57:11 - cmdstanpy - INFO - Chain [1] done processing\n",
      "11:57:12 - cmdstanpy - INFO - Chain [1] done processing\n",
      "11:57:12 - cmdstanpy - INFO - Chain [1] done processing\n",
      "11:57:13 - cmdstanpy - INFO - Chain [1] done processing\n"
     ]
    },
    {
     "name": "stdout",
     "output_type": "stream",
     "text": [
      "{'changepoint_prior_scale': 0.001, 'holidays_prior_scale': 2.51, 'seasonality_mode': 'additive', 'seasonality_prior_scale': 7.51}\n"
     ]
    },
    {
     "name": "stderr",
     "output_type": "stream",
     "text": [
      "11:57:13 - cmdstanpy - INFO - Chain [1] start processing\n",
      "11:57:14 - cmdstanpy - INFO - Chain [1] done processing\n",
      "11:57:16 - cmdstanpy - INFO - Chain [1] start processing\n",
      "11:57:16 - cmdstanpy - INFO - Chain [1] start processing\n",
      "11:57:16 - cmdstanpy - INFO - Chain [1] start processing\n",
      "11:57:16 - cmdstanpy - INFO - Chain [1] start processing\n",
      "11:57:16 - cmdstanpy - INFO - Chain [1] start processing\n",
      "11:57:16 - cmdstanpy - INFO - Chain [1] done processing\n",
      "11:57:16 - cmdstanpy - INFO - Chain [1] done processing\n",
      "11:57:17 - cmdstanpy - INFO - Chain [1] done processing\n",
      "11:57:18 - cmdstanpy - INFO - Chain [1] done processing\n",
      "11:57:18 - cmdstanpy - INFO - Chain [1] done processing\n"
     ]
    },
    {
     "name": "stdout",
     "output_type": "stream",
     "text": [
      "{'changepoint_prior_scale': 0.001, 'holidays_prior_scale': 5.01, 'seasonality_mode': 'multiplicative', 'seasonality_prior_scale': 0.01}\n"
     ]
    },
    {
     "name": "stderr",
     "output_type": "stream",
     "text": [
      "11:57:19 - cmdstanpy - INFO - Chain [1] start processing\n",
      "11:57:20 - cmdstanpy - INFO - Chain [1] done processing\n",
      "11:57:21 - cmdstanpy - INFO - Chain [1] start processing\n",
      "11:57:21 - cmdstanpy - INFO - Chain [1] start processing\n",
      "11:57:21 - cmdstanpy - INFO - Chain [1] start processing\n",
      "11:57:21 - cmdstanpy - INFO - Chain [1] done processing\n",
      "11:57:21 - cmdstanpy - INFO - Chain [1] done processing\n",
      "11:57:21 - cmdstanpy - INFO - Chain [1] start processing\n",
      "11:57:21 - cmdstanpy - INFO - Chain [1] start processing\n",
      "11:57:22 - cmdstanpy - INFO - Chain [1] done processing\n",
      "11:57:22 - cmdstanpy - INFO - Chain [1] done processing\n",
      "11:57:23 - cmdstanpy - INFO - Chain [1] done processing\n"
     ]
    },
    {
     "name": "stdout",
     "output_type": "stream",
     "text": [
      "{'changepoint_prior_scale': 0.001, 'holidays_prior_scale': 5.01, 'seasonality_mode': 'multiplicative', 'seasonality_prior_scale': 2.51}\n"
     ]
    },
    {
     "name": "stderr",
     "output_type": "stream",
     "text": [
      "11:57:23 - cmdstanpy - INFO - Chain [1] start processing\n",
      "11:57:24 - cmdstanpy - INFO - Chain [1] done processing\n",
      "11:57:25 - cmdstanpy - INFO - Chain [1] start processing\n",
      "11:57:25 - cmdstanpy - INFO - Chain [1] start processing\n",
      "11:57:25 - cmdstanpy - INFO - Chain [1] start processing\n",
      "11:57:25 - cmdstanpy - INFO - Chain [1] done processing\n",
      "11:57:25 - cmdstanpy - INFO - Chain [1] start processing\n",
      "11:57:26 - cmdstanpy - INFO - Chain [1] done processing\n",
      "11:57:26 - cmdstanpy - INFO - Chain [1] start processing\n",
      "11:57:26 - cmdstanpy - INFO - Chain [1] done processing\n",
      "11:57:26 - cmdstanpy - INFO - Chain [1] done processing\n",
      "11:57:27 - cmdstanpy - INFO - Chain [1] done processing\n"
     ]
    },
    {
     "name": "stdout",
     "output_type": "stream",
     "text": [
      "{'changepoint_prior_scale': 0.001, 'holidays_prior_scale': 5.01, 'seasonality_mode': 'multiplicative', 'seasonality_prior_scale': 5.01}\n"
     ]
    },
    {
     "name": "stderr",
     "output_type": "stream",
     "text": [
      "11:57:28 - cmdstanpy - INFO - Chain [1] start processing\n",
      "11:57:29 - cmdstanpy - INFO - Chain [1] done processing\n",
      "11:57:30 - cmdstanpy - INFO - Chain [1] start processing\n",
      "11:57:30 - cmdstanpy - INFO - Chain [1] start processing\n",
      "11:57:30 - cmdstanpy - INFO - Chain [1] done processing\n",
      "11:57:30 - cmdstanpy - INFO - Chain [1] start processing\n",
      "11:57:30 - cmdstanpy - INFO - Chain [1] start processing\n",
      "11:57:30 - cmdstanpy - INFO - Chain [1] done processing\n",
      "11:57:31 - cmdstanpy - INFO - Chain [1] start processing\n",
      "11:57:31 - cmdstanpy - INFO - Chain [1] done processing\n",
      "11:57:31 - cmdstanpy - INFO - Chain [1] done processing\n",
      "11:57:32 - cmdstanpy - INFO - Chain [1] done processing\n"
     ]
    },
    {
     "name": "stdout",
     "output_type": "stream",
     "text": [
      "{'changepoint_prior_scale': 0.001, 'holidays_prior_scale': 5.01, 'seasonality_mode': 'multiplicative', 'seasonality_prior_scale': 7.51}\n"
     ]
    },
    {
     "name": "stderr",
     "output_type": "stream",
     "text": [
      "11:57:32 - cmdstanpy - INFO - Chain [1] start processing\n",
      "11:57:33 - cmdstanpy - INFO - Chain [1] done processing\n",
      "11:57:34 - cmdstanpy - INFO - Chain [1] start processing\n",
      "11:57:34 - cmdstanpy - INFO - Chain [1] start processing\n",
      "11:57:34 - cmdstanpy - INFO - Chain [1] done processing\n",
      "11:57:34 - cmdstanpy - INFO - Chain [1] start processing\n",
      "11:57:35 - cmdstanpy - INFO - Chain [1] start processing\n",
      "11:57:35 - cmdstanpy - INFO - Chain [1] done processing\n",
      "11:57:35 - cmdstanpy - INFO - Chain [1] start processing\n",
      "11:57:35 - cmdstanpy - INFO - Chain [1] done processing\n",
      "11:57:36 - cmdstanpy - INFO - Chain [1] done processing\n",
      "11:57:36 - cmdstanpy - INFO - Chain [1] done processing\n"
     ]
    },
    {
     "name": "stdout",
     "output_type": "stream",
     "text": [
      "{'changepoint_prior_scale': 0.001, 'holidays_prior_scale': 5.01, 'seasonality_mode': 'additive', 'seasonality_prior_scale': 0.01}\n"
     ]
    },
    {
     "name": "stderr",
     "output_type": "stream",
     "text": [
      "11:57:37 - cmdstanpy - INFO - Chain [1] start processing\n",
      "11:57:38 - cmdstanpy - INFO - Chain [1] done processing\n",
      "11:57:39 - cmdstanpy - INFO - Chain [1] start processing\n",
      "11:57:39 - cmdstanpy - INFO - Chain [1] start processing\n",
      "11:57:39 - cmdstanpy - INFO - Chain [1] start processing\n",
      "11:57:39 - cmdstanpy - INFO - Chain [1] start processing\n",
      "11:57:39 - cmdstanpy - INFO - Chain [1] done processing\n",
      "11:57:40 - cmdstanpy - INFO - Chain [1] start processing\n",
      "11:57:40 - cmdstanpy - INFO - Chain [1] done processing\n",
      "11:57:41 - cmdstanpy - INFO - Chain [1] done processing\n",
      "11:57:41 - cmdstanpy - INFO - Chain [1] done processing\n",
      "11:57:41 - cmdstanpy - INFO - Chain [1] done processing\n"
     ]
    },
    {
     "name": "stdout",
     "output_type": "stream",
     "text": [
      "{'changepoint_prior_scale': 0.001, 'holidays_prior_scale': 5.01, 'seasonality_mode': 'additive', 'seasonality_prior_scale': 2.51}\n"
     ]
    },
    {
     "name": "stderr",
     "output_type": "stream",
     "text": [
      "11:57:43 - cmdstanpy - INFO - Chain [1] start processing\n",
      "11:57:44 - cmdstanpy - INFO - Chain [1] done processing\n",
      "11:57:45 - cmdstanpy - INFO - Chain [1] start processing\n",
      "11:57:45 - cmdstanpy - INFO - Chain [1] start processing\n",
      "11:57:45 - cmdstanpy - INFO - Chain [1] start processing\n",
      "11:57:45 - cmdstanpy - INFO - Chain [1] start processing\n",
      "11:57:46 - cmdstanpy - INFO - Chain [1] done processing\n",
      "11:57:46 - cmdstanpy - INFO - Chain [1] start processing\n",
      "11:57:46 - cmdstanpy - INFO - Chain [1] done processing\n",
      "11:57:47 - cmdstanpy - INFO - Chain [1] done processing\n",
      "11:57:48 - cmdstanpy - INFO - Chain [1] done processing\n",
      "11:57:48 - cmdstanpy - INFO - Chain [1] done processing\n"
     ]
    },
    {
     "name": "stdout",
     "output_type": "stream",
     "text": [
      "{'changepoint_prior_scale': 0.001, 'holidays_prior_scale': 5.01, 'seasonality_mode': 'additive', 'seasonality_prior_scale': 5.01}\n"
     ]
    },
    {
     "name": "stderr",
     "output_type": "stream",
     "text": [
      "11:57:49 - cmdstanpy - INFO - Chain [1] start processing\n",
      "11:57:50 - cmdstanpy - INFO - Chain [1] done processing\n",
      "11:57:51 - cmdstanpy - INFO - Chain [1] start processing\n",
      "11:57:51 - cmdstanpy - INFO - Chain [1] start processing\n",
      "11:57:51 - cmdstanpy - INFO - Chain [1] done processing\n",
      "11:57:51 - cmdstanpy - INFO - Chain [1] start processing\n",
      "11:57:51 - cmdstanpy - INFO - Chain [1] start processing\n",
      "11:57:51 - cmdstanpy - INFO - Chain [1] start processing\n",
      "11:57:52 - cmdstanpy - INFO - Chain [1] done processing\n",
      "11:57:53 - cmdstanpy - INFO - Chain [1] done processing\n",
      "11:57:53 - cmdstanpy - INFO - Chain [1] done processing\n",
      "11:57:54 - cmdstanpy - INFO - Chain [1] done processing\n"
     ]
    },
    {
     "name": "stdout",
     "output_type": "stream",
     "text": [
      "{'changepoint_prior_scale': 0.001, 'holidays_prior_scale': 5.01, 'seasonality_mode': 'additive', 'seasonality_prior_scale': 7.51}\n"
     ]
    },
    {
     "name": "stderr",
     "output_type": "stream",
     "text": [
      "11:57:55 - cmdstanpy - INFO - Chain [1] start processing\n",
      "11:57:56 - cmdstanpy - INFO - Chain [1] done processing\n",
      "11:57:57 - cmdstanpy - INFO - Chain [1] start processing\n",
      "11:57:57 - cmdstanpy - INFO - Chain [1] start processing\n",
      "11:57:57 - cmdstanpy - INFO - Chain [1] start processing\n",
      "11:57:57 - cmdstanpy - INFO - Chain [1] start processing\n",
      "11:57:57 - cmdstanpy - INFO - Chain [1] start processing\n",
      "11:57:57 - cmdstanpy - INFO - Chain [1] done processing\n",
      "11:57:58 - cmdstanpy - INFO - Chain [1] done processing\n",
      "11:57:58 - cmdstanpy - INFO - Chain [1] done processing\n",
      "11:57:59 - cmdstanpy - INFO - Chain [1] done processing\n",
      "11:58:00 - cmdstanpy - INFO - Chain [1] done processing\n"
     ]
    },
    {
     "name": "stdout",
     "output_type": "stream",
     "text": [
      "{'changepoint_prior_scale': 0.001, 'holidays_prior_scale': 7.51, 'seasonality_mode': 'multiplicative', 'seasonality_prior_scale': 0.01}\n"
     ]
    },
    {
     "name": "stderr",
     "output_type": "stream",
     "text": [
      "11:58:00 - cmdstanpy - INFO - Chain [1] start processing\n",
      "11:58:01 - cmdstanpy - INFO - Chain [1] done processing\n",
      "12:03:10 - cmdstanpy - INFO - Chain [1] start processing\n",
      "12:03:10 - cmdstanpy - INFO - Chain [1] start processing\n",
      "12:03:10 - cmdstanpy - INFO - Chain [1] done processing\n",
      "12:03:10 - cmdstanpy - INFO - Chain [1] start processing\n",
      "12:03:11 - cmdstanpy - INFO - Chain [1] start processing\n",
      "12:03:11 - cmdstanpy - INFO - Chain [1] done processing\n",
      "12:03:11 - cmdstanpy - INFO - Chain [1] start processing\n",
      "12:03:11 - cmdstanpy - INFO - Chain [1] done processing\n",
      "12:03:11 - cmdstanpy - INFO - Chain [1] done processing\n",
      "12:03:12 - cmdstanpy - INFO - Chain [1] done processing\n"
     ]
    },
    {
     "name": "stdout",
     "output_type": "stream",
     "text": [
      "{'changepoint_prior_scale': 0.001, 'holidays_prior_scale': 7.51, 'seasonality_mode': 'multiplicative', 'seasonality_prior_scale': 2.51}\n"
     ]
    },
    {
     "name": "stderr",
     "output_type": "stream",
     "text": [
      "12:03:13 - cmdstanpy - INFO - Chain [1] start processing\n",
      "12:03:14 - cmdstanpy - INFO - Chain [1] done processing\n",
      "12:03:15 - cmdstanpy - INFO - Chain [1] start processing\n",
      "12:03:15 - cmdstanpy - INFO - Chain [1] start processing\n",
      "12:03:15 - cmdstanpy - INFO - Chain [1] done processing\n",
      "12:03:15 - cmdstanpy - INFO - Chain [1] start processing\n",
      "12:03:15 - cmdstanpy - INFO - Chain [1] start processing\n",
      "12:03:16 - cmdstanpy - INFO - Chain [1] start processing\n",
      "12:03:16 - cmdstanpy - INFO - Chain [1] done processing\n",
      "12:03:16 - cmdstanpy - INFO - Chain [1] done processing\n",
      "12:03:16 - cmdstanpy - INFO - Chain [1] done processing\n",
      "12:03:17 - cmdstanpy - INFO - Chain [1] done processing\n"
     ]
    },
    {
     "name": "stdout",
     "output_type": "stream",
     "text": [
      "{'changepoint_prior_scale': 0.001, 'holidays_prior_scale': 7.51, 'seasonality_mode': 'multiplicative', 'seasonality_prior_scale': 5.01}\n"
     ]
    },
    {
     "name": "stderr",
     "output_type": "stream",
     "text": [
      "12:20:56 - cmdstanpy - INFO - Chain [1] start processing\n",
      "12:20:57 - cmdstanpy - INFO - Chain [1] done processing\n",
      "12:20:58 - cmdstanpy - INFO - Chain [1] start processing\n",
      "12:20:58 - cmdstanpy - INFO - Chain [1] start processing\n",
      "12:20:58 - cmdstanpy - INFO - Chain [1] start processing\n",
      "12:20:58 - cmdstanpy - INFO - Chain [1] start processing\n",
      "12:20:58 - cmdstanpy - INFO - Chain [1] done processing\n",
      "12:20:58 - cmdstanpy - INFO - Chain [1] done processing\n",
      "12:20:58 - cmdstanpy - INFO - Chain [1] start processing\n",
      "12:20:59 - cmdstanpy - INFO - Chain [1] done processing\n",
      "12:20:59 - cmdstanpy - INFO - Chain [1] done processing\n",
      "12:20:59 - cmdstanpy - INFO - Chain [1] done processing\n"
     ]
    },
    {
     "name": "stdout",
     "output_type": "stream",
     "text": [
      "{'changepoint_prior_scale': 0.001, 'holidays_prior_scale': 7.51, 'seasonality_mode': 'multiplicative', 'seasonality_prior_scale': 7.51}\n"
     ]
    },
    {
     "name": "stderr",
     "output_type": "stream",
     "text": [
      "12:21:00 - cmdstanpy - INFO - Chain [1] start processing\n",
      "12:21:01 - cmdstanpy - INFO - Chain [1] done processing\n",
      "12:21:02 - cmdstanpy - INFO - Chain [1] start processing\n",
      "12:21:02 - cmdstanpy - INFO - Chain [1] start processing\n",
      "12:21:02 - cmdstanpy - INFO - Chain [1] done processing\n",
      "12:21:02 - cmdstanpy - INFO - Chain [1] start processing\n",
      "12:22:12 - cmdstanpy - INFO - Chain [1] start processing\n",
      "12:22:12 - cmdstanpy - INFO - Chain [1] done processing\n",
      "12:22:13 - cmdstanpy - INFO - Chain [1] start processing\n",
      "12:22:13 - cmdstanpy - INFO - Chain [1] done processing\n",
      "12:22:13 - cmdstanpy - INFO - Chain [1] done processing\n",
      "12:22:14 - cmdstanpy - INFO - Chain [1] done processing\n"
     ]
    },
    {
     "name": "stdout",
     "output_type": "stream",
     "text": [
      "{'changepoint_prior_scale': 0.001, 'holidays_prior_scale': 7.51, 'seasonality_mode': 'additive', 'seasonality_prior_scale': 0.01}\n"
     ]
    },
    {
     "name": "stderr",
     "output_type": "stream",
     "text": [
      "12:22:14 - cmdstanpy - INFO - Chain [1] start processing\n",
      "12:22:15 - cmdstanpy - INFO - Chain [1] done processing\n",
      "12:22:16 - cmdstanpy - INFO - Chain [1] start processing\n",
      "12:22:16 - cmdstanpy - INFO - Chain [1] start processing\n",
      "12:22:17 - cmdstanpy - INFO - Chain [1] start processing\n",
      "12:22:17 - cmdstanpy - INFO - Chain [1] done processing\n",
      "12:22:17 - cmdstanpy - INFO - Chain [1] start processing\n",
      "12:22:17 - cmdstanpy - INFO - Chain [1] start processing\n",
      "12:22:17 - cmdstanpy - INFO - Chain [1] done processing\n",
      "12:22:18 - cmdstanpy - INFO - Chain [1] done processing\n",
      "12:22:18 - cmdstanpy - INFO - Chain [1] done processing\n",
      "12:22:19 - cmdstanpy - INFO - Chain [1] done processing\n"
     ]
    },
    {
     "name": "stdout",
     "output_type": "stream",
     "text": [
      "{'changepoint_prior_scale': 0.001, 'holidays_prior_scale': 7.51, 'seasonality_mode': 'additive', 'seasonality_prior_scale': 2.51}\n"
     ]
    },
    {
     "name": "stderr",
     "output_type": "stream",
     "text": [
      "12:22:20 - cmdstanpy - INFO - Chain [1] start processing\n",
      "12:27:54 - cmdstanpy - INFO - Chain [1] done processing\n",
      "12:27:55 - cmdstanpy - INFO - Chain [1] start processing\n",
      "12:27:55 - cmdstanpy - INFO - Chain [1] start processing\n",
      "12:27:55 - cmdstanpy - INFO - Chain [1] start processing\n",
      "12:27:55 - cmdstanpy - INFO - Chain [1] done processing\n",
      "12:27:55 - cmdstanpy - INFO - Chain [1] start processing\n",
      "12:27:55 - cmdstanpy - INFO - Chain [1] done processing\n",
      "12:27:55 - cmdstanpy - INFO - Chain [1] start processing\n",
      "12:27:57 - cmdstanpy - INFO - Chain [1] done processing\n",
      "12:27:57 - cmdstanpy - INFO - Chain [1] done processing\n",
      "12:27:58 - cmdstanpy - INFO - Chain [1] done processing\n"
     ]
    },
    {
     "name": "stdout",
     "output_type": "stream",
     "text": [
      "{'changepoint_prior_scale': 0.001, 'holidays_prior_scale': 7.51, 'seasonality_mode': 'additive', 'seasonality_prior_scale': 5.01}\n"
     ]
    },
    {
     "name": "stderr",
     "output_type": "stream",
     "text": [
      "12:27:58 - cmdstanpy - INFO - Chain [1] start processing\n",
      "12:28:00 - cmdstanpy - INFO - Chain [1] done processing\n",
      "12:30:21 - cmdstanpy - INFO - Chain [1] start processing\n",
      "12:30:21 - cmdstanpy - INFO - Chain [1] start processing\n",
      "12:30:21 - cmdstanpy - INFO - Chain [1] start processing\n",
      "12:30:22 - cmdstanpy - INFO - Chain [1] start processing\n",
      "12:30:22 - cmdstanpy - INFO - Chain [1] done processing\n",
      "12:30:22 - cmdstanpy - INFO - Chain [1] start processing\n",
      "12:30:22 - cmdstanpy - INFO - Chain [1] done processing\n",
      "12:30:23 - cmdstanpy - INFO - Chain [1] done processing\n",
      "12:30:23 - cmdstanpy - INFO - Chain [1] done processing\n",
      "12:30:24 - cmdstanpy - INFO - Chain [1] done processing\n"
     ]
    },
    {
     "name": "stdout",
     "output_type": "stream",
     "text": [
      "{'changepoint_prior_scale': 0.001, 'holidays_prior_scale': 7.51, 'seasonality_mode': 'additive', 'seasonality_prior_scale': 7.51}\n"
     ]
    },
    {
     "name": "stderr",
     "output_type": "stream",
     "text": [
      "12:30:25 - cmdstanpy - INFO - Chain [1] start processing\n",
      "12:30:26 - cmdstanpy - INFO - Chain [1] done processing\n",
      "12:30:28 - cmdstanpy - INFO - Chain [1] start processing\n",
      "12:30:28 - cmdstanpy - INFO - Chain [1] start processing\n",
      "12:30:28 - cmdstanpy - INFO - Chain [1] start processing\n",
      "12:30:28 - cmdstanpy - INFO - Chain [1] start processing\n",
      "12:41:38 - cmdstanpy - INFO - Chain [1] done processing\n",
      "12:41:38 - cmdstanpy - INFO - Chain [1] start processing\n",
      "12:41:38 - cmdstanpy - INFO - Chain [1] done processing\n",
      "12:41:40 - cmdstanpy - INFO - Chain [1] done processing\n",
      "12:41:41 - cmdstanpy - INFO - Chain [1] done processing\n",
      "12:41:41 - cmdstanpy - INFO - Chain [1] done processing\n"
     ]
    },
    {
     "name": "stdout",
     "output_type": "stream",
     "text": [
      "{'changepoint_prior_scale': 0.101, 'holidays_prior_scale': 0.01, 'seasonality_mode': 'multiplicative', 'seasonality_prior_scale': 0.01}\n"
     ]
    },
    {
     "name": "stderr",
     "output_type": "stream",
     "text": [
      "12:41:42 - cmdstanpy - INFO - Chain [1] start processing\n",
      "12:41:43 - cmdstanpy - INFO - Chain [1] done processing\n",
      "12:41:44 - cmdstanpy - INFO - Chain [1] start processing\n",
      "12:41:44 - cmdstanpy - INFO - Chain [1] start processing\n",
      "12:41:44 - cmdstanpy - INFO - Chain [1] start processing\n",
      "12:41:44 - cmdstanpy - INFO - Chain [1] start processing\n",
      "12:41:44 - cmdstanpy - INFO - Chain [1] done processing\n",
      "12:41:44 - cmdstanpy - INFO - Chain [1] start processing\n",
      "12:41:45 - cmdstanpy - INFO - Chain [1] done processing\n",
      "12:41:46 - cmdstanpy - INFO - Chain [1] done processing\n",
      "12:41:46 - cmdstanpy - INFO - Chain [1] done processing\n",
      "12:47:35 - cmdstanpy - INFO - Chain [1] done processing\n"
     ]
    },
    {
     "name": "stdout",
     "output_type": "stream",
     "text": [
      "{'changepoint_prior_scale': 0.101, 'holidays_prior_scale': 0.01, 'seasonality_mode': 'multiplicative', 'seasonality_prior_scale': 2.51}\n"
     ]
    },
    {
     "name": "stderr",
     "output_type": "stream",
     "text": [
      "12:47:36 - cmdstanpy - INFO - Chain [1] start processing\n",
      "12:47:37 - cmdstanpy - INFO - Chain [1] done processing\n",
      "12:47:38 - cmdstanpy - INFO - Chain [1] start processing\n",
      "12:47:38 - cmdstanpy - INFO - Chain [1] start processing\n",
      "12:47:38 - cmdstanpy - INFO - Chain [1] start processing\n",
      "12:47:39 - cmdstanpy - INFO - Chain [1] start processing\n",
      "12:47:39 - cmdstanpy - INFO - Chain [1] start processing\n",
      "12:47:39 - cmdstanpy - INFO - Chain [1] done processing\n",
      "12:47:39 - cmdstanpy - INFO - Chain [1] done processing\n",
      "12:47:40 - cmdstanpy - INFO - Chain [1] done processing\n",
      "12:47:41 - cmdstanpy - INFO - Chain [1] done processing\n",
      "12:47:41 - cmdstanpy - INFO - Chain [1] done processing\n"
     ]
    },
    {
     "name": "stdout",
     "output_type": "stream",
     "text": [
      "{'changepoint_prior_scale': 0.101, 'holidays_prior_scale': 0.01, 'seasonality_mode': 'multiplicative', 'seasonality_prior_scale': 5.01}\n"
     ]
    },
    {
     "name": "stderr",
     "output_type": "stream",
     "text": [
      "12:47:42 - cmdstanpy - INFO - Chain [1] start processing\n",
      "12:47:43 - cmdstanpy - INFO - Chain [1] done processing\n",
      "12:47:44 - cmdstanpy - INFO - Chain [1] start processing\n",
      "12:47:44 - cmdstanpy - INFO - Chain [1] start processing\n",
      "12:47:45 - cmdstanpy - INFO - Chain [1] start processing\n",
      "12:47:45 - cmdstanpy - INFO - Chain [1] start processing\n",
      "12:47:45 - cmdstanpy - INFO - Chain [1] start processing\n",
      "12:47:45 - cmdstanpy - INFO - Chain [1] done processing\n",
      "12:47:46 - cmdstanpy - INFO - Chain [1] done processing\n",
      "12:47:47 - cmdstanpy - INFO - Chain [1] done processing\n",
      "12:47:49 - cmdstanpy - INFO - Chain [1] done processing\n",
      "12:47:49 - cmdstanpy - INFO - Chain [1] done processing\n"
     ]
    },
    {
     "name": "stdout",
     "output_type": "stream",
     "text": [
      "{'changepoint_prior_scale': 0.101, 'holidays_prior_scale': 0.01, 'seasonality_mode': 'multiplicative', 'seasonality_prior_scale': 7.51}\n"
     ]
    },
    {
     "name": "stderr",
     "output_type": "stream",
     "text": [
      "12:47:50 - cmdstanpy - INFO - Chain [1] start processing\n",
      "12:47:51 - cmdstanpy - INFO - Chain [1] done processing\n",
      "12:47:52 - cmdstanpy - INFO - Chain [1] start processing\n",
      "12:47:52 - cmdstanpy - INFO - Chain [1] start processing\n",
      "12:47:52 - cmdstanpy - INFO - Chain [1] start processing\n",
      "12:47:52 - cmdstanpy - INFO - Chain [1] start processing\n",
      "12:47:52 - cmdstanpy - INFO - Chain [1] start processing\n",
      "12:47:52 - cmdstanpy - INFO - Chain [1] done processing\n",
      "12:47:54 - cmdstanpy - INFO - Chain [1] done processing\n",
      "12:47:54 - cmdstanpy - INFO - Chain [1] done processing\n",
      "12:47:55 - cmdstanpy - INFO - Chain [1] done processing\n",
      "12:48:09 - cmdstanpy - INFO - Chain [1] done processing\n"
     ]
    },
    {
     "name": "stdout",
     "output_type": "stream",
     "text": [
      "{'changepoint_prior_scale': 0.101, 'holidays_prior_scale': 0.01, 'seasonality_mode': 'additive', 'seasonality_prior_scale': 0.01}\n"
     ]
    },
    {
     "name": "stderr",
     "output_type": "stream",
     "text": [
      "12:48:09 - cmdstanpy - INFO - Chain [1] start processing\n",
      "12:48:10 - cmdstanpy - INFO - Chain [1] done processing\n",
      "12:48:11 - cmdstanpy - INFO - Chain [1] start processing\n",
      "12:48:11 - cmdstanpy - INFO - Chain [1] start processing\n",
      "12:48:12 - cmdstanpy - INFO - Chain [1] start processing\n",
      "12:48:12 - cmdstanpy - INFO - Chain [1] start processing\n",
      "12:48:12 - cmdstanpy - INFO - Chain [1] start processing\n",
      "12:48:12 - cmdstanpy - INFO - Chain [1] done processing\n",
      "12:48:13 - cmdstanpy - INFO - Chain [1] done processing\n",
      "12:48:13 - cmdstanpy - INFO - Chain [1] done processing\n",
      "12:48:14 - cmdstanpy - INFO - Chain [1] done processing\n",
      "12:48:14 - cmdstanpy - INFO - Chain [1] done processing\n"
     ]
    },
    {
     "name": "stdout",
     "output_type": "stream",
     "text": [
      "{'changepoint_prior_scale': 0.101, 'holidays_prior_scale': 0.01, 'seasonality_mode': 'additive', 'seasonality_prior_scale': 2.51}\n"
     ]
    },
    {
     "name": "stderr",
     "output_type": "stream",
     "text": [
      "12:48:15 - cmdstanpy - INFO - Chain [1] start processing\n",
      "12:48:16 - cmdstanpy - INFO - Chain [1] done processing\n",
      "12:48:43 - cmdstanpy - INFO - Chain [1] start processing\n",
      "12:48:43 - cmdstanpy - INFO - Chain [1] start processing\n",
      "12:48:43 - cmdstanpy - INFO - Chain [1] start processing\n",
      "12:48:43 - cmdstanpy - INFO - Chain [1] start processing\n",
      "12:48:43 - cmdstanpy - INFO - Chain [1] start processing\n",
      "12:48:43 - cmdstanpy - INFO - Chain [1] done processing\n",
      "12:48:44 - cmdstanpy - INFO - Chain [1] done processing\n",
      "12:48:44 - cmdstanpy - INFO - Chain [1] done processing\n",
      "12:48:45 - cmdstanpy - INFO - Chain [1] done processing\n",
      "12:48:45 - cmdstanpy - INFO - Chain [1] done processing\n"
     ]
    },
    {
     "name": "stdout",
     "output_type": "stream",
     "text": [
      "{'changepoint_prior_scale': 0.101, 'holidays_prior_scale': 0.01, 'seasonality_mode': 'additive', 'seasonality_prior_scale': 5.01}\n"
     ]
    },
    {
     "name": "stderr",
     "output_type": "stream",
     "text": [
      "12:48:46 - cmdstanpy - INFO - Chain [1] start processing\n",
      "12:48:47 - cmdstanpy - INFO - Chain [1] done processing\n",
      "12:48:48 - cmdstanpy - INFO - Chain [1] start processing\n",
      "12:48:48 - cmdstanpy - INFO - Chain [1] start processing\n",
      "12:48:48 - cmdstanpy - INFO - Chain [1] start processing\n",
      "12:48:48 - cmdstanpy - INFO - Chain [1] start processing\n",
      "12:48:48 - cmdstanpy - INFO - Chain [1] start processing\n",
      "12:48:49 - cmdstanpy - INFO - Chain [1] done processing\n",
      "12:48:49 - cmdstanpy - INFO - Chain [1] done processing\n",
      "12:48:50 - cmdstanpy - INFO - Chain [1] done processing\n",
      "12:48:50 - cmdstanpy - INFO - Chain [1] done processing\n",
      "12:48:51 - cmdstanpy - INFO - Chain [1] done processing\n"
     ]
    },
    {
     "name": "stdout",
     "output_type": "stream",
     "text": [
      "{'changepoint_prior_scale': 0.101, 'holidays_prior_scale': 0.01, 'seasonality_mode': 'additive', 'seasonality_prior_scale': 7.51}\n"
     ]
    },
    {
     "name": "stderr",
     "output_type": "stream",
     "text": [
      "12:48:51 - cmdstanpy - INFO - Chain [1] start processing\n",
      "12:48:52 - cmdstanpy - INFO - Chain [1] done processing\n",
      "12:48:53 - cmdstanpy - INFO - Chain [1] start processing\n",
      "12:48:54 - cmdstanpy - INFO - Chain [1] start processing\n",
      "12:48:54 - cmdstanpy - INFO - Chain [1] start processing\n",
      "12:48:54 - cmdstanpy - INFO - Chain [1] start processing\n",
      "12:48:54 - cmdstanpy - INFO - Chain [1] start processing\n",
      "12:48:54 - cmdstanpy - INFO - Chain [1] done processing\n",
      "12:48:55 - cmdstanpy - INFO - Chain [1] done processing\n",
      "12:48:55 - cmdstanpy - INFO - Chain [1] done processing\n",
      "12:48:55 - cmdstanpy - INFO - Chain [1] done processing\n",
      "12:48:56 - cmdstanpy - INFO - Chain [1] done processing\n"
     ]
    },
    {
     "name": "stdout",
     "output_type": "stream",
     "text": [
      "{'changepoint_prior_scale': 0.101, 'holidays_prior_scale': 2.51, 'seasonality_mode': 'multiplicative', 'seasonality_prior_scale': 0.01}\n"
     ]
    },
    {
     "name": "stderr",
     "output_type": "stream",
     "text": [
      "12:48:57 - cmdstanpy - INFO - Chain [1] start processing\n",
      "12:48:58 - cmdstanpy - INFO - Chain [1] done processing\n",
      "12:49:00 - cmdstanpy - INFO - Chain [1] start processing\n",
      "12:49:00 - cmdstanpy - INFO - Chain [1] start processing\n",
      "12:49:00 - cmdstanpy - INFO - Chain [1] start processing\n",
      "12:49:00 - cmdstanpy - INFO - Chain [1] start processing\n",
      "12:49:00 - cmdstanpy - INFO - Chain [1] done processing\n",
      "12:49:00 - cmdstanpy - INFO - Chain [1] start processing\n",
      "12:49:01 - cmdstanpy - INFO - Chain [1] done processing\n",
      "12:49:01 - cmdstanpy - INFO - Chain [1] done processing\n",
      "12:49:01 - cmdstanpy - INFO - Chain [1] done processing\n",
      "12:49:02 - cmdstanpy - INFO - Chain [1] done processing\n"
     ]
    },
    {
     "name": "stdout",
     "output_type": "stream",
     "text": [
      "{'changepoint_prior_scale': 0.101, 'holidays_prior_scale': 2.51, 'seasonality_mode': 'multiplicative', 'seasonality_prior_scale': 2.51}\n"
     ]
    },
    {
     "name": "stderr",
     "output_type": "stream",
     "text": [
      "12:49:03 - cmdstanpy - INFO - Chain [1] start processing\n",
      "12:49:05 - cmdstanpy - INFO - Chain [1] done processing\n",
      "12:49:06 - cmdstanpy - INFO - Chain [1] start processing\n",
      "12:49:06 - cmdstanpy - INFO - Chain [1] start processing\n",
      "12:49:06 - cmdstanpy - INFO - Chain [1] start processing\n",
      "12:49:06 - cmdstanpy - INFO - Chain [1] start processing\n",
      "12:49:06 - cmdstanpy - INFO - Chain [1] start processing\n",
      "12:49:06 - cmdstanpy - INFO - Chain [1] done processing\n",
      "12:49:07 - cmdstanpy - INFO - Chain [1] done processing\n",
      "12:49:08 - cmdstanpy - INFO - Chain [1] done processing\n",
      "12:49:08 - cmdstanpy - INFO - Chain [1] done processing\n",
      "12:49:09 - cmdstanpy - INFO - Chain [1] done processing\n"
     ]
    },
    {
     "name": "stdout",
     "output_type": "stream",
     "text": [
      "{'changepoint_prior_scale': 0.101, 'holidays_prior_scale': 2.51, 'seasonality_mode': 'multiplicative', 'seasonality_prior_scale': 5.01}\n"
     ]
    },
    {
     "name": "stderr",
     "output_type": "stream",
     "text": [
      "12:49:10 - cmdstanpy - INFO - Chain [1] start processing\n",
      "12:49:11 - cmdstanpy - INFO - Chain [1] done processing\n",
      "12:49:13 - cmdstanpy - INFO - Chain [1] start processing\n",
      "12:49:13 - cmdstanpy - INFO - Chain [1] start processing\n",
      "12:49:13 - cmdstanpy - INFO - Chain [1] start processing\n",
      "12:49:13 - cmdstanpy - INFO - Chain [1] start processing\n",
      "12:49:13 - cmdstanpy - INFO - Chain [1] start processing\n",
      "12:49:13 - cmdstanpy - INFO - Chain [1] done processing\n",
      "12:49:14 - cmdstanpy - INFO - Chain [1] done processing\n",
      "12:49:14 - cmdstanpy - INFO - Chain [1] done processing\n",
      "12:49:15 - cmdstanpy - INFO - Chain [1] done processing\n",
      "12:49:16 - cmdstanpy - INFO - Chain [1] done processing\n"
     ]
    },
    {
     "name": "stdout",
     "output_type": "stream",
     "text": [
      "{'changepoint_prior_scale': 0.101, 'holidays_prior_scale': 2.51, 'seasonality_mode': 'multiplicative', 'seasonality_prior_scale': 7.51}\n"
     ]
    },
    {
     "name": "stderr",
     "output_type": "stream",
     "text": [
      "12:49:16 - cmdstanpy - INFO - Chain [1] start processing\n",
      "12:49:18 - cmdstanpy - INFO - Chain [1] done processing\n",
      "12:49:20 - cmdstanpy - INFO - Chain [1] start processing\n",
      "12:49:20 - cmdstanpy - INFO - Chain [1] start processing\n",
      "12:49:20 - cmdstanpy - INFO - Chain [1] start processing\n",
      "12:49:20 - cmdstanpy - INFO - Chain [1] start processing\n",
      "12:49:20 - cmdstanpy - INFO - Chain [1] start processing\n",
      "12:49:20 - cmdstanpy - INFO - Chain [1] done processing\n",
      "12:49:21 - cmdstanpy - INFO - Chain [1] done processing\n",
      "12:49:22 - cmdstanpy - INFO - Chain [1] done processing\n",
      "12:49:23 - cmdstanpy - INFO - Chain [1] done processing\n",
      "12:49:23 - cmdstanpy - INFO - Chain [1] done processing\n"
     ]
    },
    {
     "name": "stdout",
     "output_type": "stream",
     "text": [
      "{'changepoint_prior_scale': 0.101, 'holidays_prior_scale': 2.51, 'seasonality_mode': 'additive', 'seasonality_prior_scale': 0.01}\n"
     ]
    },
    {
     "name": "stderr",
     "output_type": "stream",
     "text": [
      "12:49:24 - cmdstanpy - INFO - Chain [1] start processing\n",
      "12:49:25 - cmdstanpy - INFO - Chain [1] done processing\n",
      "12:49:26 - cmdstanpy - INFO - Chain [1] start processing\n",
      "12:49:26 - cmdstanpy - INFO - Chain [1] start processing\n",
      "12:49:26 - cmdstanpy - INFO - Chain [1] start processing\n",
      "12:49:26 - cmdstanpy - INFO - Chain [1] start processing\n",
      "12:49:26 - cmdstanpy - INFO - Chain [1] start processing\n",
      "12:49:27 - cmdstanpy - INFO - Chain [1] done processing\n",
      "12:49:27 - cmdstanpy - INFO - Chain [1] done processing\n",
      "12:49:28 - cmdstanpy - INFO - Chain [1] done processing\n",
      "12:49:28 - cmdstanpy - INFO - Chain [1] done processing\n",
      "12:49:29 - cmdstanpy - INFO - Chain [1] done processing\n"
     ]
    },
    {
     "name": "stdout",
     "output_type": "stream",
     "text": [
      "{'changepoint_prior_scale': 0.101, 'holidays_prior_scale': 2.51, 'seasonality_mode': 'additive', 'seasonality_prior_scale': 2.51}\n"
     ]
    },
    {
     "name": "stderr",
     "output_type": "stream",
     "text": [
      "12:49:30 - cmdstanpy - INFO - Chain [1] start processing\n",
      "12:49:30 - cmdstanpy - INFO - Chain [1] done processing\n",
      "12:49:32 - cmdstanpy - INFO - Chain [1] start processing\n",
      "12:49:32 - cmdstanpy - INFO - Chain [1] start processing\n",
      "12:49:32 - cmdstanpy - INFO - Chain [1] start processing\n",
      "12:49:32 - cmdstanpy - INFO - Chain [1] start processing\n",
      "12:49:32 - cmdstanpy - INFO - Chain [1] start processing\n",
      "12:49:32 - cmdstanpy - INFO - Chain [1] done processing\n",
      "12:49:33 - cmdstanpy - INFO - Chain [1] done processing\n",
      "12:49:33 - cmdstanpy - INFO - Chain [1] done processing\n",
      "12:49:34 - cmdstanpy - INFO - Chain [1] done processing\n",
      "12:49:34 - cmdstanpy - INFO - Chain [1] done processing\n"
     ]
    },
    {
     "name": "stdout",
     "output_type": "stream",
     "text": [
      "{'changepoint_prior_scale': 0.101, 'holidays_prior_scale': 2.51, 'seasonality_mode': 'additive', 'seasonality_prior_scale': 5.01}\n"
     ]
    },
    {
     "name": "stderr",
     "output_type": "stream",
     "text": [
      "12:49:35 - cmdstanpy - INFO - Chain [1] start processing\n",
      "12:49:36 - cmdstanpy - INFO - Chain [1] done processing\n",
      "12:49:37 - cmdstanpy - INFO - Chain [1] start processing\n",
      "12:49:37 - cmdstanpy - INFO - Chain [1] start processing\n",
      "12:49:37 - cmdstanpy - INFO - Chain [1] start processing\n",
      "12:49:37 - cmdstanpy - INFO - Chain [1] start processing\n",
      "12:49:37 - cmdstanpy - INFO - Chain [1] start processing\n",
      "12:49:37 - cmdstanpy - INFO - Chain [1] done processing\n",
      "12:49:38 - cmdstanpy - INFO - Chain [1] done processing\n",
      "12:49:39 - cmdstanpy - INFO - Chain [1] done processing\n",
      "12:49:39 - cmdstanpy - INFO - Chain [1] done processing\n",
      "12:49:39 - cmdstanpy - INFO - Chain [1] done processing\n"
     ]
    },
    {
     "name": "stdout",
     "output_type": "stream",
     "text": [
      "{'changepoint_prior_scale': 0.101, 'holidays_prior_scale': 2.51, 'seasonality_mode': 'additive', 'seasonality_prior_scale': 7.51}\n"
     ]
    },
    {
     "name": "stderr",
     "output_type": "stream",
     "text": [
      "12:49:40 - cmdstanpy - INFO - Chain [1] start processing\n",
      "12:49:41 - cmdstanpy - INFO - Chain [1] done processing\n",
      "12:49:42 - cmdstanpy - INFO - Chain [1] start processing\n",
      "12:49:42 - cmdstanpy - INFO - Chain [1] start processing\n",
      "12:49:42 - cmdstanpy - INFO - Chain [1] start processing\n",
      "12:49:42 - cmdstanpy - INFO - Chain [1] start processing\n",
      "12:49:42 - cmdstanpy - INFO - Chain [1] start processing\n",
      "12:49:43 - cmdstanpy - INFO - Chain [1] done processing\n",
      "12:49:43 - cmdstanpy - INFO - Chain [1] done processing\n",
      "12:49:44 - cmdstanpy - INFO - Chain [1] done processing\n",
      "12:49:44 - cmdstanpy - INFO - Chain [1] done processing\n",
      "12:49:44 - cmdstanpy - INFO - Chain [1] done processing\n"
     ]
    },
    {
     "name": "stdout",
     "output_type": "stream",
     "text": [
      "{'changepoint_prior_scale': 0.101, 'holidays_prior_scale': 5.01, 'seasonality_mode': 'multiplicative', 'seasonality_prior_scale': 0.01}\n"
     ]
    },
    {
     "name": "stderr",
     "output_type": "stream",
     "text": [
      "12:49:45 - cmdstanpy - INFO - Chain [1] start processing\n",
      "12:49:47 - cmdstanpy - INFO - Chain [1] done processing\n",
      "12:49:48 - cmdstanpy - INFO - Chain [1] start processing\n",
      "12:49:48 - cmdstanpy - INFO - Chain [1] start processing\n",
      "12:49:48 - cmdstanpy - INFO - Chain [1] start processing\n",
      "12:49:48 - cmdstanpy - INFO - Chain [1] start processing\n",
      "12:49:48 - cmdstanpy - INFO - Chain [1] done processing\n",
      "12:49:49 - cmdstanpy - INFO - Chain [1] start processing\n",
      "12:49:49 - cmdstanpy - INFO - Chain [1] done processing\n",
      "12:49:50 - cmdstanpy - INFO - Chain [1] done processing\n",
      "12:49:50 - cmdstanpy - INFO - Chain [1] done processing\n",
      "12:49:51 - cmdstanpy - INFO - Chain [1] done processing\n"
     ]
    },
    {
     "name": "stdout",
     "output_type": "stream",
     "text": [
      "{'changepoint_prior_scale': 0.101, 'holidays_prior_scale': 5.01, 'seasonality_mode': 'multiplicative', 'seasonality_prior_scale': 2.51}\n"
     ]
    },
    {
     "name": "stderr",
     "output_type": "stream",
     "text": [
      "12:49:52 - cmdstanpy - INFO - Chain [1] start processing\n",
      "12:49:53 - cmdstanpy - INFO - Chain [1] done processing\n",
      "12:49:55 - cmdstanpy - INFO - Chain [1] start processing\n",
      "12:49:55 - cmdstanpy - INFO - Chain [1] start processing\n",
      "12:49:55 - cmdstanpy - INFO - Chain [1] start processing\n",
      "12:49:55 - cmdstanpy - INFO - Chain [1] start processing\n",
      "12:49:55 - cmdstanpy - INFO - Chain [1] start processing\n",
      "12:49:55 - cmdstanpy - INFO - Chain [1] done processing\n",
      "12:49:56 - cmdstanpy - INFO - Chain [1] done processing\n",
      "12:49:56 - cmdstanpy - INFO - Chain [1] done processing\n",
      "12:49:57 - cmdstanpy - INFO - Chain [1] done processing\n",
      "12:49:58 - cmdstanpy - INFO - Chain [1] done processing\n"
     ]
    },
    {
     "name": "stdout",
     "output_type": "stream",
     "text": [
      "{'changepoint_prior_scale': 0.101, 'holidays_prior_scale': 5.01, 'seasonality_mode': 'multiplicative', 'seasonality_prior_scale': 5.01}\n"
     ]
    },
    {
     "name": "stderr",
     "output_type": "stream",
     "text": [
      "12:49:58 - cmdstanpy - INFO - Chain [1] start processing\n",
      "12:50:00 - cmdstanpy - INFO - Chain [1] done processing\n",
      "12:50:01 - cmdstanpy - INFO - Chain [1] start processing\n",
      "12:50:01 - cmdstanpy - INFO - Chain [1] start processing\n",
      "12:50:01 - cmdstanpy - INFO - Chain [1] start processing\n",
      "12:50:01 - cmdstanpy - INFO - Chain [1] start processing\n",
      "12:50:02 - cmdstanpy - INFO - Chain [1] start processing\n",
      "12:50:02 - cmdstanpy - INFO - Chain [1] done processing\n",
      "12:50:03 - cmdstanpy - INFO - Chain [1] done processing\n",
      "12:50:03 - cmdstanpy - INFO - Chain [1] done processing\n",
      "12:50:04 - cmdstanpy - INFO - Chain [1] done processing\n",
      "12:50:04 - cmdstanpy - INFO - Chain [1] done processing\n"
     ]
    },
    {
     "name": "stdout",
     "output_type": "stream",
     "text": [
      "{'changepoint_prior_scale': 0.101, 'holidays_prior_scale': 5.01, 'seasonality_mode': 'multiplicative', 'seasonality_prior_scale': 7.51}\n"
     ]
    },
    {
     "name": "stderr",
     "output_type": "stream",
     "text": [
      "12:50:05 - cmdstanpy - INFO - Chain [1] start processing\n",
      "12:50:07 - cmdstanpy - INFO - Chain [1] done processing\n",
      "12:50:08 - cmdstanpy - INFO - Chain [1] start processing\n",
      "12:50:08 - cmdstanpy - INFO - Chain [1] start processing\n",
      "12:50:08 - cmdstanpy - INFO - Chain [1] start processing\n",
      "12:50:08 - cmdstanpy - INFO - Chain [1] start processing\n",
      "12:50:08 - cmdstanpy - INFO - Chain [1] start processing\n",
      "12:50:09 - cmdstanpy - INFO - Chain [1] done processing\n",
      "12:50:09 - cmdstanpy - INFO - Chain [1] done processing\n",
      "12:50:10 - cmdstanpy - INFO - Chain [1] done processing\n",
      "12:50:11 - cmdstanpy - INFO - Chain [1] done processing\n",
      "12:50:11 - cmdstanpy - INFO - Chain [1] done processing\n"
     ]
    },
    {
     "name": "stdout",
     "output_type": "stream",
     "text": [
      "{'changepoint_prior_scale': 0.101, 'holidays_prior_scale': 5.01, 'seasonality_mode': 'additive', 'seasonality_prior_scale': 0.01}\n"
     ]
    },
    {
     "name": "stderr",
     "output_type": "stream",
     "text": [
      "12:50:12 - cmdstanpy - INFO - Chain [1] start processing\n",
      "12:50:13 - cmdstanpy - INFO - Chain [1] done processing\n",
      "12:50:14 - cmdstanpy - INFO - Chain [1] start processing\n",
      "12:50:14 - cmdstanpy - INFO - Chain [1] start processing\n",
      "12:50:14 - cmdstanpy - INFO - Chain [1] start processing\n",
      "12:50:14 - cmdstanpy - INFO - Chain [1] start processing\n",
      "12:50:15 - cmdstanpy - INFO - Chain [1] start processing\n",
      "12:50:15 - cmdstanpy - INFO - Chain [1] done processing\n",
      "12:50:15 - cmdstanpy - INFO - Chain [1] done processing\n",
      "12:50:16 - cmdstanpy - INFO - Chain [1] done processing\n",
      "12:50:16 - cmdstanpy - INFO - Chain [1] done processing\n",
      "12:50:17 - cmdstanpy - INFO - Chain [1] done processing\n"
     ]
    },
    {
     "name": "stdout",
     "output_type": "stream",
     "text": [
      "{'changepoint_prior_scale': 0.101, 'holidays_prior_scale': 5.01, 'seasonality_mode': 'additive', 'seasonality_prior_scale': 2.51}\n"
     ]
    },
    {
     "name": "stderr",
     "output_type": "stream",
     "text": [
      "12:50:18 - cmdstanpy - INFO - Chain [1] start processing\n",
      "12:50:19 - cmdstanpy - INFO - Chain [1] done processing\n",
      "12:50:20 - cmdstanpy - INFO - Chain [1] start processing\n",
      "12:50:20 - cmdstanpy - INFO - Chain [1] start processing\n",
      "12:50:20 - cmdstanpy - INFO - Chain [1] start processing\n",
      "12:50:20 - cmdstanpy - INFO - Chain [1] start processing\n",
      "12:50:20 - cmdstanpy - INFO - Chain [1] start processing\n",
      "12:50:20 - cmdstanpy - INFO - Chain [1] done processing\n",
      "12:50:21 - cmdstanpy - INFO - Chain [1] done processing\n",
      "12:50:21 - cmdstanpy - INFO - Chain [1] done processing\n",
      "12:50:21 - cmdstanpy - INFO - Chain [1] done processing\n",
      "12:50:22 - cmdstanpy - INFO - Chain [1] done processing\n"
     ]
    },
    {
     "name": "stdout",
     "output_type": "stream",
     "text": [
      "{'changepoint_prior_scale': 0.101, 'holidays_prior_scale': 5.01, 'seasonality_mode': 'additive', 'seasonality_prior_scale': 5.01}\n"
     ]
    },
    {
     "name": "stderr",
     "output_type": "stream",
     "text": [
      "12:50:23 - cmdstanpy - INFO - Chain [1] start processing\n",
      "12:50:24 - cmdstanpy - INFO - Chain [1] done processing\n",
      "12:50:25 - cmdstanpy - INFO - Chain [1] start processing\n",
      "12:50:26 - cmdstanpy - INFO - Chain [1] start processing\n",
      "12:50:26 - cmdstanpy - INFO - Chain [1] start processing\n",
      "12:50:26 - cmdstanpy - INFO - Chain [1] start processing\n",
      "12:50:26 - cmdstanpy - INFO - Chain [1] start processing\n",
      "12:50:26 - cmdstanpy - INFO - Chain [1] done processing\n",
      "12:50:26 - cmdstanpy - INFO - Chain [1] done processing\n",
      "12:50:27 - cmdstanpy - INFO - Chain [1] done processing\n",
      "12:50:27 - cmdstanpy - INFO - Chain [1] done processing\n",
      "12:50:28 - cmdstanpy - INFO - Chain [1] done processing\n"
     ]
    },
    {
     "name": "stdout",
     "output_type": "stream",
     "text": [
      "{'changepoint_prior_scale': 0.101, 'holidays_prior_scale': 5.01, 'seasonality_mode': 'additive', 'seasonality_prior_scale': 7.51}\n"
     ]
    },
    {
     "name": "stderr",
     "output_type": "stream",
     "text": [
      "12:50:29 - cmdstanpy - INFO - Chain [1] start processing\n",
      "12:50:30 - cmdstanpy - INFO - Chain [1] done processing\n",
      "12:50:31 - cmdstanpy - INFO - Chain [1] start processing\n",
      "12:50:31 - cmdstanpy - INFO - Chain [1] start processing\n",
      "12:50:31 - cmdstanpy - INFO - Chain [1] start processing\n",
      "12:50:31 - cmdstanpy - INFO - Chain [1] done processing\n",
      "12:50:31 - cmdstanpy - INFO - Chain [1] start processing\n",
      "12:50:32 - cmdstanpy - INFO - Chain [1] start processing\n",
      "12:50:32 - cmdstanpy - INFO - Chain [1] done processing\n",
      "12:50:33 - cmdstanpy - INFO - Chain [1] done processing\n",
      "12:50:33 - cmdstanpy - INFO - Chain [1] done processing\n",
      "12:50:34 - cmdstanpy - INFO - Chain [1] done processing\n"
     ]
    },
    {
     "name": "stdout",
     "output_type": "stream",
     "text": [
      "{'changepoint_prior_scale': 0.101, 'holidays_prior_scale': 7.51, 'seasonality_mode': 'multiplicative', 'seasonality_prior_scale': 0.01}\n"
     ]
    },
    {
     "name": "stderr",
     "output_type": "stream",
     "text": [
      "12:50:34 - cmdstanpy - INFO - Chain [1] start processing\n",
      "12:50:36 - cmdstanpy - INFO - Chain [1] done processing\n",
      "12:50:37 - cmdstanpy - INFO - Chain [1] start processing\n",
      "12:50:37 - cmdstanpy - INFO - Chain [1] start processing\n",
      "12:50:37 - cmdstanpy - INFO - Chain [1] start processing\n",
      "12:50:37 - cmdstanpy - INFO - Chain [1] done processing\n",
      "12:50:37 - cmdstanpy - INFO - Chain [1] start processing\n",
      "12:50:37 - cmdstanpy - INFO - Chain [1] start processing\n",
      "12:50:38 - cmdstanpy - INFO - Chain [1] done processing\n",
      "12:50:39 - cmdstanpy - INFO - Chain [1] done processing\n",
      "12:50:39 - cmdstanpy - INFO - Chain [1] done processing\n",
      "12:50:40 - cmdstanpy - INFO - Chain [1] done processing\n"
     ]
    },
    {
     "name": "stdout",
     "output_type": "stream",
     "text": [
      "{'changepoint_prior_scale': 0.101, 'holidays_prior_scale': 7.51, 'seasonality_mode': 'multiplicative', 'seasonality_prior_scale': 2.51}\n"
     ]
    },
    {
     "name": "stderr",
     "output_type": "stream",
     "text": [
      "12:50:40 - cmdstanpy - INFO - Chain [1] start processing\n",
      "12:50:42 - cmdstanpy - INFO - Chain [1] done processing\n",
      "12:50:43 - cmdstanpy - INFO - Chain [1] start processing\n",
      "12:50:43 - cmdstanpy - INFO - Chain [1] start processing\n",
      "12:50:43 - cmdstanpy - INFO - Chain [1] start processing\n",
      "12:50:44 - cmdstanpy - INFO - Chain [1] start processing\n",
      "12:50:44 - cmdstanpy - INFO - Chain [1] start processing\n",
      "12:50:44 - cmdstanpy - INFO - Chain [1] done processing\n",
      "12:50:45 - cmdstanpy - INFO - Chain [1] done processing\n",
      "12:50:45 - cmdstanpy - INFO - Chain [1] done processing\n",
      "12:50:47 - cmdstanpy - INFO - Chain [1] done processing\n",
      "12:50:47 - cmdstanpy - INFO - Chain [1] done processing\n"
     ]
    },
    {
     "name": "stdout",
     "output_type": "stream",
     "text": [
      "{'changepoint_prior_scale': 0.101, 'holidays_prior_scale': 7.51, 'seasonality_mode': 'multiplicative', 'seasonality_prior_scale': 5.01}\n"
     ]
    },
    {
     "name": "stderr",
     "output_type": "stream",
     "text": [
      "12:50:48 - cmdstanpy - INFO - Chain [1] start processing\n",
      "12:50:49 - cmdstanpy - INFO - Chain [1] done processing\n",
      "12:50:50 - cmdstanpy - INFO - Chain [1] start processing\n",
      "12:50:51 - cmdstanpy - INFO - Chain [1] start processing\n",
      "12:50:51 - cmdstanpy - INFO - Chain [1] start processing\n",
      "12:50:51 - cmdstanpy - INFO - Chain [1] start processing\n",
      "12:50:51 - cmdstanpy - INFO - Chain [1] start processing\n",
      "12:50:51 - cmdstanpy - INFO - Chain [1] done processing\n",
      "13:05:18 - cmdstanpy - INFO - Chain [1] done processing\n",
      "13:05:19 - cmdstanpy - INFO - Chain [1] done processing\n",
      "13:05:20 - cmdstanpy - INFO - Chain [1] done processing\n",
      "13:05:20 - cmdstanpy - INFO - Chain [1] done processing\n"
     ]
    },
    {
     "name": "stdout",
     "output_type": "stream",
     "text": [
      "{'changepoint_prior_scale': 0.101, 'holidays_prior_scale': 7.51, 'seasonality_mode': 'multiplicative', 'seasonality_prior_scale': 7.51}\n"
     ]
    },
    {
     "name": "stderr",
     "output_type": "stream",
     "text": [
      "13:05:21 - cmdstanpy - INFO - Chain [1] start processing\n",
      "13:05:23 - cmdstanpy - INFO - Chain [1] done processing\n",
      "13:05:24 - cmdstanpy - INFO - Chain [1] start processing\n",
      "13:05:24 - cmdstanpy - INFO - Chain [1] start processing\n",
      "13:05:24 - cmdstanpy - INFO - Chain [1] start processing\n",
      "13:05:24 - cmdstanpy - INFO - Chain [1] start processing\n",
      "13:05:24 - cmdstanpy - INFO - Chain [1] start processing\n",
      "13:05:25 - cmdstanpy - INFO - Chain [1] done processing\n",
      "13:05:25 - cmdstanpy - INFO - Chain [1] done processing\n",
      "13:07:20 - cmdstanpy - INFO - Chain [1] done processing\n",
      "13:07:21 - cmdstanpy - INFO - Chain [1] done processing\n",
      "13:07:21 - cmdstanpy - INFO - Chain [1] done processing\n"
     ]
    },
    {
     "name": "stdout",
     "output_type": "stream",
     "text": [
      "{'changepoint_prior_scale': 0.101, 'holidays_prior_scale': 7.51, 'seasonality_mode': 'additive', 'seasonality_prior_scale': 0.01}\n"
     ]
    },
    {
     "name": "stderr",
     "output_type": "stream",
     "text": [
      "13:07:22 - cmdstanpy - INFO - Chain [1] start processing\n",
      "13:07:23 - cmdstanpy - INFO - Chain [1] done processing\n",
      "13:07:24 - cmdstanpy - INFO - Chain [1] start processing\n",
      "13:07:25 - cmdstanpy - INFO - Chain [1] start processing\n",
      "13:07:25 - cmdstanpy - INFO - Chain [1] start processing\n",
      "13:07:25 - cmdstanpy - INFO - Chain [1] start processing\n",
      "13:07:25 - cmdstanpy - INFO - Chain [1] start processing\n",
      "13:07:25 - cmdstanpy - INFO - Chain [1] done processing\n",
      "13:07:25 - cmdstanpy - INFO - Chain [1] done processing\n",
      "13:07:26 - cmdstanpy - INFO - Chain [1] done processing\n",
      "13:07:26 - cmdstanpy - INFO - Chain [1] done processing\n",
      "13:07:27 - cmdstanpy - INFO - Chain [1] done processing\n"
     ]
    },
    {
     "name": "stdout",
     "output_type": "stream",
     "text": [
      "{'changepoint_prior_scale': 0.101, 'holidays_prior_scale': 7.51, 'seasonality_mode': 'additive', 'seasonality_prior_scale': 2.51}\n"
     ]
    },
    {
     "name": "stderr",
     "output_type": "stream",
     "text": [
      "13:08:03 - cmdstanpy - INFO - Chain [1] start processing\n",
      "13:08:04 - cmdstanpy - INFO - Chain [1] done processing\n",
      "13:08:05 - cmdstanpy - INFO - Chain [1] start processing\n",
      "13:08:05 - cmdstanpy - INFO - Chain [1] start processing\n",
      "13:08:05 - cmdstanpy - INFO - Chain [1] start processing\n",
      "13:08:05 - cmdstanpy - INFO - Chain [1] start processing\n",
      "13:08:05 - cmdstanpy - INFO - Chain [1] start processing\n",
      "13:08:06 - cmdstanpy - INFO - Chain [1] done processing\n",
      "13:08:06 - cmdstanpy - INFO - Chain [1] done processing\n",
      "13:08:07 - cmdstanpy - INFO - Chain [1] done processing\n",
      "13:08:07 - cmdstanpy - INFO - Chain [1] done processing\n",
      "13:08:08 - cmdstanpy - INFO - Chain [1] done processing\n"
     ]
    },
    {
     "name": "stdout",
     "output_type": "stream",
     "text": [
      "{'changepoint_prior_scale': 0.101, 'holidays_prior_scale': 7.51, 'seasonality_mode': 'additive', 'seasonality_prior_scale': 5.01}\n"
     ]
    },
    {
     "name": "stderr",
     "output_type": "stream",
     "text": [
      "13:08:08 - cmdstanpy - INFO - Chain [1] start processing\n",
      "13:17:24 - cmdstanpy - INFO - Chain [1] done processing\n",
      "13:17:26 - cmdstanpy - INFO - Chain [1] start processing\n",
      "13:17:26 - cmdstanpy - INFO - Chain [1] start processing\n",
      "13:17:26 - cmdstanpy - INFO - Chain [1] start processing\n",
      "13:17:26 - cmdstanpy - INFO - Chain [1] start processing\n",
      "13:17:26 - cmdstanpy - INFO - Chain [1] start processing\n",
      "13:17:26 - cmdstanpy - INFO - Chain [1] done processing\n",
      "13:17:27 - cmdstanpy - INFO - Chain [1] done processing\n",
      "13:17:28 - cmdstanpy - INFO - Chain [1] done processing\n",
      "13:17:28 - cmdstanpy - INFO - Chain [1] done processing\n",
      "13:17:29 - cmdstanpy - INFO - Chain [1] done processing\n"
     ]
    },
    {
     "name": "stdout",
     "output_type": "stream",
     "text": [
      "{'changepoint_prior_scale': 0.101, 'holidays_prior_scale': 7.51, 'seasonality_mode': 'additive', 'seasonality_prior_scale': 7.51}\n"
     ]
    },
    {
     "name": "stderr",
     "output_type": "stream",
     "text": [
      "13:17:29 - cmdstanpy - INFO - Chain [1] start processing\n",
      "13:17:30 - cmdstanpy - INFO - Chain [1] done processing\n",
      "13:17:32 - cmdstanpy - INFO - Chain [1] start processing\n",
      "13:17:32 - cmdstanpy - INFO - Chain [1] start processing\n",
      "13:17:32 - cmdstanpy - INFO - Chain [1] start processing\n",
      "13:17:32 - cmdstanpy - INFO - Chain [1] start processing\n",
      "13:17:32 - cmdstanpy - INFO - Chain [1] start processing\n",
      "13:17:33 - cmdstanpy - INFO - Chain [1] done processing\n",
      "13:17:33 - cmdstanpy - INFO - Chain [1] done processing\n",
      "13:17:34 - cmdstanpy - INFO - Chain [1] done processing\n",
      "13:17:34 - cmdstanpy - INFO - Chain [1] done processing\n",
      "13:17:35 - cmdstanpy - INFO - Chain [1] done processing\n"
     ]
    },
    {
     "name": "stdout",
     "output_type": "stream",
     "text": [
      "{'changepoint_prior_scale': 0.201, 'holidays_prior_scale': 0.01, 'seasonality_mode': 'multiplicative', 'seasonality_prior_scale': 0.01}\n"
     ]
    },
    {
     "name": "stderr",
     "output_type": "stream",
     "text": [
      "13:17:35 - cmdstanpy - INFO - Chain [1] start processing\n",
      "13:17:37 - cmdstanpy - INFO - Chain [1] done processing\n",
      "13:17:38 - cmdstanpy - INFO - Chain [1] start processing\n",
      "13:17:38 - cmdstanpy - INFO - Chain [1] start processing\n",
      "13:17:38 - cmdstanpy - INFO - Chain [1] start processing\n",
      "13:17:38 - cmdstanpy - INFO - Chain [1] start processing\n",
      "13:17:38 - cmdstanpy - INFO - Chain [1] start processing\n",
      "13:17:38 - cmdstanpy - INFO - Chain [1] done processing\n",
      "13:17:39 - cmdstanpy - INFO - Chain [1] done processing\n",
      "13:17:40 - cmdstanpy - INFO - Chain [1] done processing\n",
      "13:17:40 - cmdstanpy - INFO - Chain [1] done processing\n",
      "13:17:41 - cmdstanpy - INFO - Chain [1] done processing\n"
     ]
    },
    {
     "name": "stdout",
     "output_type": "stream",
     "text": [
      "{'changepoint_prior_scale': 0.201, 'holidays_prior_scale': 0.01, 'seasonality_mode': 'multiplicative', 'seasonality_prior_scale': 2.51}\n"
     ]
    },
    {
     "name": "stderr",
     "output_type": "stream",
     "text": [
      "13:17:42 - cmdstanpy - INFO - Chain [1] start processing\n",
      "13:17:43 - cmdstanpy - INFO - Chain [1] done processing\n",
      "13:17:45 - cmdstanpy - INFO - Chain [1] start processing\n",
      "13:17:45 - cmdstanpy - INFO - Chain [1] start processing\n",
      "13:17:45 - cmdstanpy - INFO - Chain [1] start processing\n",
      "13:17:45 - cmdstanpy - INFO - Chain [1] start processing\n",
      "13:17:45 - cmdstanpy - INFO - Chain [1] start processing\n",
      "13:17:46 - cmdstanpy - INFO - Chain [1] done processing\n",
      "13:17:46 - cmdstanpy - INFO - Chain [1] done processing\n",
      "13:17:47 - cmdstanpy - INFO - Chain [1] done processing\n",
      "13:17:48 - cmdstanpy - INFO - Chain [1] done processing\n",
      "13:17:49 - cmdstanpy - INFO - Chain [1] done processing\n"
     ]
    },
    {
     "name": "stdout",
     "output_type": "stream",
     "text": [
      "{'changepoint_prior_scale': 0.201, 'holidays_prior_scale': 0.01, 'seasonality_mode': 'multiplicative', 'seasonality_prior_scale': 5.01}\n"
     ]
    },
    {
     "name": "stderr",
     "output_type": "stream",
     "text": [
      "13:17:49 - cmdstanpy - INFO - Chain [1] start processing\n",
      "13:17:52 - cmdstanpy - INFO - Chain [1] done processing\n",
      "13:17:53 - cmdstanpy - INFO - Chain [1] start processing\n",
      "13:17:53 - cmdstanpy - INFO - Chain [1] start processing\n",
      "13:17:53 - cmdstanpy - INFO - Chain [1] start processing\n",
      "13:17:53 - cmdstanpy - INFO - Chain [1] start processing\n",
      "13:17:53 - cmdstanpy - INFO - Chain [1] start processing\n",
      "13:17:54 - cmdstanpy - INFO - Chain [1] done processing\n",
      "13:17:55 - cmdstanpy - INFO - Chain [1] done processing\n",
      "13:17:56 - cmdstanpy - INFO - Chain [1] done processing\n",
      "13:17:56 - cmdstanpy - INFO - Chain [1] done processing\n",
      "13:17:57 - cmdstanpy - INFO - Chain [1] done processing\n"
     ]
    },
    {
     "name": "stdout",
     "output_type": "stream",
     "text": [
      "{'changepoint_prior_scale': 0.201, 'holidays_prior_scale': 0.01, 'seasonality_mode': 'multiplicative', 'seasonality_prior_scale': 7.51}\n"
     ]
    },
    {
     "name": "stderr",
     "output_type": "stream",
     "text": [
      "13:17:57 - cmdstanpy - INFO - Chain [1] start processing\n",
      "13:17:59 - cmdstanpy - INFO - Chain [1] done processing\n",
      "13:18:00 - cmdstanpy - INFO - Chain [1] start processing\n",
      "13:18:00 - cmdstanpy - INFO - Chain [1] start processing\n",
      "13:18:01 - cmdstanpy - INFO - Chain [1] start processing\n",
      "13:18:01 - cmdstanpy - INFO - Chain [1] start processing\n",
      "13:18:01 - cmdstanpy - INFO - Chain [1] start processing\n",
      "13:18:01 - cmdstanpy - INFO - Chain [1] done processing\n",
      "13:18:02 - cmdstanpy - INFO - Chain [1] done processing\n",
      "13:18:03 - cmdstanpy - INFO - Chain [1] done processing\n",
      "13:18:03 - cmdstanpy - INFO - Chain [1] done processing\n",
      "13:18:04 - cmdstanpy - INFO - Chain [1] done processing\n"
     ]
    },
    {
     "name": "stdout",
     "output_type": "stream",
     "text": [
      "{'changepoint_prior_scale': 0.201, 'holidays_prior_scale': 0.01, 'seasonality_mode': 'additive', 'seasonality_prior_scale': 0.01}\n"
     ]
    },
    {
     "name": "stderr",
     "output_type": "stream",
     "text": [
      "13:18:04 - cmdstanpy - INFO - Chain [1] start processing\n",
      "13:18:05 - cmdstanpy - INFO - Chain [1] done processing\n",
      "13:18:07 - cmdstanpy - INFO - Chain [1] start processing\n",
      "13:18:07 - cmdstanpy - INFO - Chain [1] start processing\n",
      "13:18:07 - cmdstanpy - INFO - Chain [1] start processing\n",
      "13:18:07 - cmdstanpy - INFO - Chain [1] start processing\n",
      "13:18:07 - cmdstanpy - INFO - Chain [1] done processing\n",
      "13:18:07 - cmdstanpy - INFO - Chain [1] start processing\n",
      "13:18:08 - cmdstanpy - INFO - Chain [1] done processing\n",
      "13:18:09 - cmdstanpy - INFO - Chain [1] done processing\n",
      "13:18:09 - cmdstanpy - INFO - Chain [1] done processing\n",
      "13:18:09 - cmdstanpy - INFO - Chain [1] done processing\n"
     ]
    },
    {
     "name": "stdout",
     "output_type": "stream",
     "text": [
      "{'changepoint_prior_scale': 0.201, 'holidays_prior_scale': 0.01, 'seasonality_mode': 'additive', 'seasonality_prior_scale': 2.51}\n"
     ]
    },
    {
     "name": "stderr",
     "output_type": "stream",
     "text": [
      "13:18:10 - cmdstanpy - INFO - Chain [1] start processing\n",
      "13:18:11 - cmdstanpy - INFO - Chain [1] done processing\n",
      "13:18:12 - cmdstanpy - INFO - Chain [1] start processing\n",
      "13:18:13 - cmdstanpy - INFO - Chain [1] start processing\n",
      "13:18:13 - cmdstanpy - INFO - Chain [1] start processing\n",
      "13:18:13 - cmdstanpy - INFO - Chain [1] start processing\n",
      "13:18:13 - cmdstanpy - INFO - Chain [1] start processing\n",
      "13:18:13 - cmdstanpy - INFO - Chain [1] done processing\n",
      "13:18:13 - cmdstanpy - INFO - Chain [1] done processing\n",
      "13:18:14 - cmdstanpy - INFO - Chain [1] done processing\n",
      "13:18:15 - cmdstanpy - INFO - Chain [1] done processing\n",
      "13:18:15 - cmdstanpy - INFO - Chain [1] done processing\n"
     ]
    },
    {
     "name": "stdout",
     "output_type": "stream",
     "text": [
      "{'changepoint_prior_scale': 0.201, 'holidays_prior_scale': 0.01, 'seasonality_mode': 'additive', 'seasonality_prior_scale': 5.01}\n"
     ]
    },
    {
     "name": "stderr",
     "output_type": "stream",
     "text": [
      "13:18:15 - cmdstanpy - INFO - Chain [1] start processing\n",
      "13:18:16 - cmdstanpy - INFO - Chain [1] done processing\n",
      "13:18:18 - cmdstanpy - INFO - Chain [1] start processing\n",
      "13:18:18 - cmdstanpy - INFO - Chain [1] start processing\n",
      "13:18:18 - cmdstanpy - INFO - Chain [1] start processing\n",
      "13:18:18 - cmdstanpy - INFO - Chain [1] start processing\n",
      "13:18:18 - cmdstanpy - INFO - Chain [1] start processing\n",
      "13:18:18 - cmdstanpy - INFO - Chain [1] done processing\n",
      "13:18:19 - cmdstanpy - INFO - Chain [1] done processing\n",
      "13:18:20 - cmdstanpy - INFO - Chain [1] done processing\n",
      "13:18:20 - cmdstanpy - INFO - Chain [1] done processing\n",
      "13:18:20 - cmdstanpy - INFO - Chain [1] done processing\n"
     ]
    },
    {
     "name": "stdout",
     "output_type": "stream",
     "text": [
      "{'changepoint_prior_scale': 0.201, 'holidays_prior_scale': 0.01, 'seasonality_mode': 'additive', 'seasonality_prior_scale': 7.51}\n"
     ]
    },
    {
     "name": "stderr",
     "output_type": "stream",
     "text": [
      "13:18:21 - cmdstanpy - INFO - Chain [1] start processing\n",
      "13:18:22 - cmdstanpy - INFO - Chain [1] done processing\n",
      "13:18:23 - cmdstanpy - INFO - Chain [1] start processing\n",
      "13:18:23 - cmdstanpy - INFO - Chain [1] start processing\n",
      "13:18:23 - cmdstanpy - INFO - Chain [1] start processing\n",
      "13:18:23 - cmdstanpy - INFO - Chain [1] start processing\n",
      "13:18:23 - cmdstanpy - INFO - Chain [1] start processing\n",
      "13:18:24 - cmdstanpy - INFO - Chain [1] done processing\n",
      "13:18:24 - cmdstanpy - INFO - Chain [1] done processing\n",
      "13:18:25 - cmdstanpy - INFO - Chain [1] done processing\n",
      "13:18:25 - cmdstanpy - INFO - Chain [1] done processing\n",
      "13:18:26 - cmdstanpy - INFO - Chain [1] done processing\n"
     ]
    },
    {
     "name": "stdout",
     "output_type": "stream",
     "text": [
      "{'changepoint_prior_scale': 0.201, 'holidays_prior_scale': 2.51, 'seasonality_mode': 'multiplicative', 'seasonality_prior_scale': 0.01}\n"
     ]
    },
    {
     "name": "stderr",
     "output_type": "stream",
     "text": [
      "13:18:26 - cmdstanpy - INFO - Chain [1] start processing\n",
      "13:18:28 - cmdstanpy - INFO - Chain [1] done processing\n",
      "13:18:29 - cmdstanpy - INFO - Chain [1] start processing\n",
      "13:18:29 - cmdstanpy - INFO - Chain [1] start processing\n",
      "13:18:29 - cmdstanpy - INFO - Chain [1] start processing\n",
      "13:18:29 - cmdstanpy - INFO - Chain [1] start processing\n",
      "13:18:29 - cmdstanpy - INFO - Chain [1] start processing\n",
      "13:18:30 - cmdstanpy - INFO - Chain [1] done processing\n",
      "13:18:30 - cmdstanpy - INFO - Chain [1] done processing\n",
      "13:18:31 - cmdstanpy - INFO - Chain [1] done processing\n",
      "13:18:32 - cmdstanpy - INFO - Chain [1] done processing\n",
      "13:18:33 - cmdstanpy - INFO - Chain [1] done processing\n"
     ]
    },
    {
     "name": "stdout",
     "output_type": "stream",
     "text": [
      "{'changepoint_prior_scale': 0.201, 'holidays_prior_scale': 2.51, 'seasonality_mode': 'multiplicative', 'seasonality_prior_scale': 2.51}\n"
     ]
    },
    {
     "name": "stderr",
     "output_type": "stream",
     "text": [
      "13:18:34 - cmdstanpy - INFO - Chain [1] start processing\n",
      "13:18:35 - cmdstanpy - INFO - Chain [1] done processing\n",
      "13:18:37 - cmdstanpy - INFO - Chain [1] start processing\n",
      "13:18:37 - cmdstanpy - INFO - Chain [1] start processing\n",
      "13:18:37 - cmdstanpy - INFO - Chain [1] start processing\n",
      "13:18:37 - cmdstanpy - INFO - Chain [1] start processing\n",
      "13:18:37 - cmdstanpy - INFO - Chain [1] start processing\n",
      "13:18:37 - cmdstanpy - INFO - Chain [1] done processing\n",
      "13:18:38 - cmdstanpy - INFO - Chain [1] done processing\n",
      "13:18:39 - cmdstanpy - INFO - Chain [1] done processing\n",
      "13:18:40 - cmdstanpy - INFO - Chain [1] done processing\n",
      "13:18:40 - cmdstanpy - INFO - Chain [1] done processing\n"
     ]
    },
    {
     "name": "stdout",
     "output_type": "stream",
     "text": [
      "{'changepoint_prior_scale': 0.201, 'holidays_prior_scale': 2.51, 'seasonality_mode': 'multiplicative', 'seasonality_prior_scale': 5.01}\n"
     ]
    },
    {
     "name": "stderr",
     "output_type": "stream",
     "text": [
      "13:18:41 - cmdstanpy - INFO - Chain [1] start processing\n",
      "13:18:43 - cmdstanpy - INFO - Chain [1] done processing\n",
      "13:18:44 - cmdstanpy - INFO - Chain [1] start processing\n",
      "13:18:44 - cmdstanpy - INFO - Chain [1] start processing\n",
      "13:18:44 - cmdstanpy - INFO - Chain [1] start processing\n",
      "13:18:44 - cmdstanpy - INFO - Chain [1] start processing\n",
      "13:18:44 - cmdstanpy - INFO - Chain [1] start processing\n",
      "13:18:45 - cmdstanpy - INFO - Chain [1] done processing\n",
      "13:18:46 - cmdstanpy - INFO - Chain [1] done processing\n",
      "13:18:46 - cmdstanpy - INFO - Chain [1] done processing\n",
      "13:18:47 - cmdstanpy - INFO - Chain [1] done processing\n",
      "13:18:48 - cmdstanpy - INFO - Chain [1] done processing\n"
     ]
    },
    {
     "name": "stdout",
     "output_type": "stream",
     "text": [
      "{'changepoint_prior_scale': 0.201, 'holidays_prior_scale': 2.51, 'seasonality_mode': 'multiplicative', 'seasonality_prior_scale': 7.51}\n"
     ]
    },
    {
     "name": "stderr",
     "output_type": "stream",
     "text": [
      "13:18:49 - cmdstanpy - INFO - Chain [1] start processing\n",
      "13:18:50 - cmdstanpy - INFO - Chain [1] done processing\n",
      "13:18:51 - cmdstanpy - INFO - Chain [1] start processing\n",
      "13:18:51 - cmdstanpy - INFO - Chain [1] start processing\n",
      "13:18:51 - cmdstanpy - INFO - Chain [1] start processing\n",
      "13:18:51 - cmdstanpy - INFO - Chain [1] start processing\n",
      "13:18:52 - cmdstanpy - INFO - Chain [1] start processing\n",
      "13:18:52 - cmdstanpy - INFO - Chain [1] done processing\n",
      "13:18:53 - cmdstanpy - INFO - Chain [1] done processing\n",
      "13:18:54 - cmdstanpy - INFO - Chain [1] done processing\n",
      "13:18:54 - cmdstanpy - INFO - Chain [1] done processing\n",
      "13:18:55 - cmdstanpy - INFO - Chain [1] done processing\n"
     ]
    },
    {
     "name": "stdout",
     "output_type": "stream",
     "text": [
      "{'changepoint_prior_scale': 0.201, 'holidays_prior_scale': 2.51, 'seasonality_mode': 'additive', 'seasonality_prior_scale': 0.01}\n"
     ]
    },
    {
     "name": "stderr",
     "output_type": "stream",
     "text": [
      "13:18:55 - cmdstanpy - INFO - Chain [1] start processing\n",
      "13:18:57 - cmdstanpy - INFO - Chain [1] done processing\n",
      "13:18:58 - cmdstanpy - INFO - Chain [1] start processing\n",
      "13:18:58 - cmdstanpy - INFO - Chain [1] start processing\n",
      "13:18:58 - cmdstanpy - INFO - Chain [1] start processing\n",
      "13:18:58 - cmdstanpy - INFO - Chain [1] start processing\n",
      "13:18:58 - cmdstanpy - INFO - Chain [1] start processing\n",
      "13:18:58 - cmdstanpy - INFO - Chain [1] done processing\n",
      "13:18:59 - cmdstanpy - INFO - Chain [1] done processing\n",
      "13:19:00 - cmdstanpy - INFO - Chain [1] done processing\n",
      "13:19:00 - cmdstanpy - INFO - Chain [1] done processing\n",
      "13:19:00 - cmdstanpy - INFO - Chain [1] done processing\n"
     ]
    },
    {
     "name": "stdout",
     "output_type": "stream",
     "text": [
      "{'changepoint_prior_scale': 0.201, 'holidays_prior_scale': 2.51, 'seasonality_mode': 'additive', 'seasonality_prior_scale': 2.51}\n"
     ]
    },
    {
     "name": "stderr",
     "output_type": "stream",
     "text": [
      "13:19:01 - cmdstanpy - INFO - Chain [1] start processing\n",
      "13:19:02 - cmdstanpy - INFO - Chain [1] done processing\n",
      "13:19:03 - cmdstanpy - INFO - Chain [1] start processing\n",
      "13:19:04 - cmdstanpy - INFO - Chain [1] start processing\n",
      "13:19:04 - cmdstanpy - INFO - Chain [1] start processing\n",
      "13:19:04 - cmdstanpy - INFO - Chain [1] start processing\n",
      "13:19:04 - cmdstanpy - INFO - Chain [1] start processing\n",
      "13:19:04 - cmdstanpy - INFO - Chain [1] done processing\n",
      "13:19:05 - cmdstanpy - INFO - Chain [1] done processing\n",
      "13:19:05 - cmdstanpy - INFO - Chain [1] done processing\n",
      "13:19:06 - cmdstanpy - INFO - Chain [1] done processing\n",
      "13:19:06 - cmdstanpy - INFO - Chain [1] done processing\n"
     ]
    },
    {
     "name": "stdout",
     "output_type": "stream",
     "text": [
      "{'changepoint_prior_scale': 0.201, 'holidays_prior_scale': 2.51, 'seasonality_mode': 'additive', 'seasonality_prior_scale': 5.01}\n"
     ]
    },
    {
     "name": "stderr",
     "output_type": "stream",
     "text": [
      "13:19:07 - cmdstanpy - INFO - Chain [1] start processing\n",
      "13:19:08 - cmdstanpy - INFO - Chain [1] done processing\n",
      "13:19:09 - cmdstanpy - INFO - Chain [1] start processing\n",
      "13:19:09 - cmdstanpy - INFO - Chain [1] start processing\n",
      "13:19:09 - cmdstanpy - INFO - Chain [1] start processing\n",
      "13:19:09 - cmdstanpy - INFO - Chain [1] start processing\n",
      "13:19:09 - cmdstanpy - INFO - Chain [1] start processing\n",
      "13:19:10 - cmdstanpy - INFO - Chain [1] done processing\n",
      "13:19:10 - cmdstanpy - INFO - Chain [1] done processing\n",
      "13:19:11 - cmdstanpy - INFO - Chain [1] done processing\n",
      "13:19:11 - cmdstanpy - INFO - Chain [1] done processing\n",
      "13:19:12 - cmdstanpy - INFO - Chain [1] done processing\n"
     ]
    },
    {
     "name": "stdout",
     "output_type": "stream",
     "text": [
      "{'changepoint_prior_scale': 0.201, 'holidays_prior_scale': 2.51, 'seasonality_mode': 'additive', 'seasonality_prior_scale': 7.51}\n"
     ]
    },
    {
     "name": "stderr",
     "output_type": "stream",
     "text": [
      "13:19:12 - cmdstanpy - INFO - Chain [1] start processing\n",
      "13:19:13 - cmdstanpy - INFO - Chain [1] done processing\n",
      "13:19:15 - cmdstanpy - INFO - Chain [1] start processing\n",
      "13:19:15 - cmdstanpy - INFO - Chain [1] start processing\n",
      "13:19:15 - cmdstanpy - INFO - Chain [1] start processing\n",
      "13:19:15 - cmdstanpy - INFO - Chain [1] start processing\n",
      "13:19:15 - cmdstanpy - INFO - Chain [1] start processing\n",
      "13:19:15 - cmdstanpy - INFO - Chain [1] done processing\n",
      "13:19:16 - cmdstanpy - INFO - Chain [1] done processing\n",
      "13:19:16 - cmdstanpy - INFO - Chain [1] done processing\n",
      "13:19:17 - cmdstanpy - INFO - Chain [1] done processing\n",
      "13:19:17 - cmdstanpy - INFO - Chain [1] done processing\n"
     ]
    },
    {
     "name": "stdout",
     "output_type": "stream",
     "text": [
      "{'changepoint_prior_scale': 0.201, 'holidays_prior_scale': 5.01, 'seasonality_mode': 'multiplicative', 'seasonality_prior_scale': 0.01}\n"
     ]
    },
    {
     "name": "stderr",
     "output_type": "stream",
     "text": [
      "13:19:18 - cmdstanpy - INFO - Chain [1] start processing\n",
      "13:19:20 - cmdstanpy - INFO - Chain [1] done processing\n",
      "13:19:21 - cmdstanpy - INFO - Chain [1] start processing\n",
      "13:19:21 - cmdstanpy - INFO - Chain [1] start processing\n",
      "13:19:21 - cmdstanpy - INFO - Chain [1] start processing\n",
      "13:19:21 - cmdstanpy - INFO - Chain [1] start processing\n",
      "13:19:21 - cmdstanpy - INFO - Chain [1] done processing\n",
      "13:19:21 - cmdstanpy - INFO - Chain [1] start processing\n",
      "13:19:23 - cmdstanpy - INFO - Chain [1] done processing\n",
      "13:19:23 - cmdstanpy - INFO - Chain [1] done processing\n",
      "13:19:24 - cmdstanpy - INFO - Chain [1] done processing\n",
      "13:19:25 - cmdstanpy - INFO - Chain [1] done processing\n"
     ]
    },
    {
     "name": "stdout",
     "output_type": "stream",
     "text": [
      "{'changepoint_prior_scale': 0.201, 'holidays_prior_scale': 5.01, 'seasonality_mode': 'multiplicative', 'seasonality_prior_scale': 2.51}\n"
     ]
    },
    {
     "name": "stderr",
     "output_type": "stream",
     "text": [
      "13:19:25 - cmdstanpy - INFO - Chain [1] start processing\n",
      "13:19:28 - cmdstanpy - INFO - Chain [1] done processing\n",
      "13:19:29 - cmdstanpy - INFO - Chain [1] start processing\n",
      "13:19:29 - cmdstanpy - INFO - Chain [1] start processing\n",
      "13:19:29 - cmdstanpy - INFO - Chain [1] start processing\n",
      "13:19:29 - cmdstanpy - INFO - Chain [1] start processing\n",
      "13:19:29 - cmdstanpy - INFO - Chain [1] start processing\n",
      "13:19:30 - cmdstanpy - INFO - Chain [1] done processing\n",
      "13:19:31 - cmdstanpy - INFO - Chain [1] done processing\n",
      "13:19:32 - cmdstanpy - INFO - Chain [1] done processing\n",
      "13:19:32 - cmdstanpy - INFO - Chain [1] done processing\n",
      "13:19:33 - cmdstanpy - INFO - Chain [1] done processing\n"
     ]
    },
    {
     "name": "stdout",
     "output_type": "stream",
     "text": [
      "{'changepoint_prior_scale': 0.201, 'holidays_prior_scale': 5.01, 'seasonality_mode': 'multiplicative', 'seasonality_prior_scale': 5.01}\n"
     ]
    },
    {
     "name": "stderr",
     "output_type": "stream",
     "text": [
      "13:19:33 - cmdstanpy - INFO - Chain [1] start processing\n",
      "13:19:35 - cmdstanpy - INFO - Chain [1] done processing\n",
      "13:19:36 - cmdstanpy - INFO - Chain [1] start processing\n",
      "13:19:37 - cmdstanpy - INFO - Chain [1] start processing\n",
      "13:19:37 - cmdstanpy - INFO - Chain [1] start processing\n",
      "13:19:37 - cmdstanpy - INFO - Chain [1] start processing\n",
      "13:19:37 - cmdstanpy - INFO - Chain [1] start processing\n",
      "13:19:37 - cmdstanpy - INFO - Chain [1] done processing\n",
      "13:19:38 - cmdstanpy - INFO - Chain [1] done processing\n",
      "13:19:39 - cmdstanpy - INFO - Chain [1] done processing\n",
      "13:19:40 - cmdstanpy - INFO - Chain [1] done processing\n",
      "13:19:40 - cmdstanpy - INFO - Chain [1] done processing\n"
     ]
    },
    {
     "name": "stdout",
     "output_type": "stream",
     "text": [
      "{'changepoint_prior_scale': 0.201, 'holidays_prior_scale': 5.01, 'seasonality_mode': 'multiplicative', 'seasonality_prior_scale': 7.51}\n"
     ]
    },
    {
     "name": "stderr",
     "output_type": "stream",
     "text": [
      "13:19:41 - cmdstanpy - INFO - Chain [1] start processing\n",
      "13:19:43 - cmdstanpy - INFO - Chain [1] done processing\n",
      "13:19:44 - cmdstanpy - INFO - Chain [1] start processing\n",
      "13:19:44 - cmdstanpy - INFO - Chain [1] start processing\n",
      "13:19:44 - cmdstanpy - INFO - Chain [1] start processing\n",
      "13:19:44 - cmdstanpy - INFO - Chain [1] start processing\n",
      "13:19:44 - cmdstanpy - INFO - Chain [1] start processing\n",
      "13:19:44 - cmdstanpy - INFO - Chain [1] done processing\n",
      "13:19:46 - cmdstanpy - INFO - Chain [1] done processing\n",
      "13:19:46 - cmdstanpy - INFO - Chain [1] done processing\n",
      "13:19:47 - cmdstanpy - INFO - Chain [1] done processing\n",
      "13:19:47 - cmdstanpy - INFO - Chain [1] done processing\n"
     ]
    },
    {
     "name": "stdout",
     "output_type": "stream",
     "text": [
      "{'changepoint_prior_scale': 0.201, 'holidays_prior_scale': 5.01, 'seasonality_mode': 'additive', 'seasonality_prior_scale': 0.01}\n"
     ]
    },
    {
     "name": "stderr",
     "output_type": "stream",
     "text": [
      "13:19:48 - cmdstanpy - INFO - Chain [1] start processing\n",
      "13:19:49 - cmdstanpy - INFO - Chain [1] done processing\n",
      "13:19:50 - cmdstanpy - INFO - Chain [1] start processing\n",
      "13:19:50 - cmdstanpy - INFO - Chain [1] start processing\n",
      "13:19:50 - cmdstanpy - INFO - Chain [1] start processing\n",
      "13:19:50 - cmdstanpy - INFO - Chain [1] start processing\n",
      "13:19:50 - cmdstanpy - INFO - Chain [1] start processing\n",
      "13:19:51 - cmdstanpy - INFO - Chain [1] done processing\n",
      "13:19:51 - cmdstanpy - INFO - Chain [1] done processing\n",
      "13:19:52 - cmdstanpy - INFO - Chain [1] done processing\n",
      "13:19:52 - cmdstanpy - INFO - Chain [1] done processing\n",
      "13:19:53 - cmdstanpy - INFO - Chain [1] done processing\n"
     ]
    },
    {
     "name": "stdout",
     "output_type": "stream",
     "text": [
      "{'changepoint_prior_scale': 0.201, 'holidays_prior_scale': 5.01, 'seasonality_mode': 'additive', 'seasonality_prior_scale': 2.51}\n"
     ]
    },
    {
     "name": "stderr",
     "output_type": "stream",
     "text": [
      "13:19:53 - cmdstanpy - INFO - Chain [1] start processing\n",
      "13:19:54 - cmdstanpy - INFO - Chain [1] done processing\n",
      "13:19:55 - cmdstanpy - INFO - Chain [1] start processing\n",
      "13:19:56 - cmdstanpy - INFO - Chain [1] start processing\n",
      "13:19:56 - cmdstanpy - INFO - Chain [1] start processing\n",
      "13:19:56 - cmdstanpy - INFO - Chain [1] start processing\n",
      "13:19:56 - cmdstanpy - INFO - Chain [1] start processing\n",
      "13:19:56 - cmdstanpy - INFO - Chain [1] done processing\n",
      "13:19:56 - cmdstanpy - INFO - Chain [1] done processing\n",
      "13:19:57 - cmdstanpy - INFO - Chain [1] done processing\n",
      "13:19:58 - cmdstanpy - INFO - Chain [1] done processing\n",
      "13:19:58 - cmdstanpy - INFO - Chain [1] done processing\n"
     ]
    },
    {
     "name": "stdout",
     "output_type": "stream",
     "text": [
      "{'changepoint_prior_scale': 0.201, 'holidays_prior_scale': 5.01, 'seasonality_mode': 'additive', 'seasonality_prior_scale': 5.01}\n"
     ]
    },
    {
     "name": "stderr",
     "output_type": "stream",
     "text": [
      "13:19:59 - cmdstanpy - INFO - Chain [1] start processing\n",
      "13:20:00 - cmdstanpy - INFO - Chain [1] done processing\n",
      "13:20:01 - cmdstanpy - INFO - Chain [1] start processing\n",
      "13:20:01 - cmdstanpy - INFO - Chain [1] start processing\n",
      "13:20:01 - cmdstanpy - INFO - Chain [1] start processing\n",
      "13:20:01 - cmdstanpy - INFO - Chain [1] start processing\n",
      "13:20:01 - cmdstanpy - INFO - Chain [1] start processing\n",
      "13:20:01 - cmdstanpy - INFO - Chain [1] done processing\n",
      "13:20:01 - cmdstanpy - INFO - Chain [1] done processing\n",
      "13:20:03 - cmdstanpy - INFO - Chain [1] done processing\n",
      "13:20:03 - cmdstanpy - INFO - Chain [1] done processing\n",
      "13:20:04 - cmdstanpy - INFO - Chain [1] done processing\n"
     ]
    },
    {
     "name": "stdout",
     "output_type": "stream",
     "text": [
      "{'changepoint_prior_scale': 0.201, 'holidays_prior_scale': 5.01, 'seasonality_mode': 'additive', 'seasonality_prior_scale': 7.51}\n"
     ]
    },
    {
     "name": "stderr",
     "output_type": "stream",
     "text": [
      "13:20:05 - cmdstanpy - INFO - Chain [1] start processing\n",
      "13:20:05 - cmdstanpy - INFO - Chain [1] done processing\n",
      "13:20:07 - cmdstanpy - INFO - Chain [1] start processing\n",
      "13:20:07 - cmdstanpy - INFO - Chain [1] start processing\n",
      "13:20:07 - cmdstanpy - INFO - Chain [1] start processing\n",
      "13:20:07 - cmdstanpy - INFO - Chain [1] start processing\n",
      "13:20:07 - cmdstanpy - INFO - Chain [1] start processing\n",
      "13:20:07 - cmdstanpy - INFO - Chain [1] done processing\n",
      "13:20:08 - cmdstanpy - INFO - Chain [1] done processing\n",
      "13:20:09 - cmdstanpy - INFO - Chain [1] done processing\n",
      "13:20:09 - cmdstanpy - INFO - Chain [1] done processing\n",
      "13:20:09 - cmdstanpy - INFO - Chain [1] done processing\n"
     ]
    },
    {
     "name": "stdout",
     "output_type": "stream",
     "text": [
      "{'changepoint_prior_scale': 0.201, 'holidays_prior_scale': 7.51, 'seasonality_mode': 'multiplicative', 'seasonality_prior_scale': 0.01}\n"
     ]
    },
    {
     "name": "stderr",
     "output_type": "stream",
     "text": [
      "13:20:10 - cmdstanpy - INFO - Chain [1] start processing\n",
      "13:20:12 - cmdstanpy - INFO - Chain [1] done processing\n",
      "13:20:13 - cmdstanpy - INFO - Chain [1] start processing\n",
      "13:20:13 - cmdstanpy - INFO - Chain [1] start processing\n",
      "13:20:13 - cmdstanpy - INFO - Chain [1] start processing\n",
      "13:20:13 - cmdstanpy - INFO - Chain [1] start processing\n",
      "13:20:13 - cmdstanpy - INFO - Chain [1] start processing\n",
      "13:20:14 - cmdstanpy - INFO - Chain [1] done processing\n",
      "13:20:15 - cmdstanpy - INFO - Chain [1] done processing\n",
      "13:20:15 - cmdstanpy - INFO - Chain [1] done processing\n",
      "13:20:16 - cmdstanpy - INFO - Chain [1] done processing\n",
      "13:20:17 - cmdstanpy - INFO - Chain [1] done processing\n"
     ]
    },
    {
     "name": "stdout",
     "output_type": "stream",
     "text": [
      "{'changepoint_prior_scale': 0.201, 'holidays_prior_scale': 7.51, 'seasonality_mode': 'multiplicative', 'seasonality_prior_scale': 2.51}\n"
     ]
    },
    {
     "name": "stderr",
     "output_type": "stream",
     "text": [
      "13:20:17 - cmdstanpy - INFO - Chain [1] start processing\n",
      "13:20:19 - cmdstanpy - INFO - Chain [1] done processing\n",
      "13:20:20 - cmdstanpy - INFO - Chain [1] start processing\n",
      "13:20:20 - cmdstanpy - INFO - Chain [1] start processing\n",
      "13:20:21 - cmdstanpy - INFO - Chain [1] start processing\n",
      "13:20:21 - cmdstanpy - INFO - Chain [1] start processing\n",
      "13:20:21 - cmdstanpy - INFO - Chain [1] start processing\n",
      "13:20:21 - cmdstanpy - INFO - Chain [1] done processing\n",
      "13:20:22 - cmdstanpy - INFO - Chain [1] done processing\n",
      "13:20:23 - cmdstanpy - INFO - Chain [1] done processing\n",
      "13:20:24 - cmdstanpy - INFO - Chain [1] done processing\n",
      "13:20:24 - cmdstanpy - INFO - Chain [1] done processing\n"
     ]
    },
    {
     "name": "stdout",
     "output_type": "stream",
     "text": [
      "{'changepoint_prior_scale': 0.201, 'holidays_prior_scale': 7.51, 'seasonality_mode': 'multiplicative', 'seasonality_prior_scale': 5.01}\n"
     ]
    },
    {
     "name": "stderr",
     "output_type": "stream",
     "text": [
      "13:20:25 - cmdstanpy - INFO - Chain [1] start processing\n",
      "13:20:27 - cmdstanpy - INFO - Chain [1] done processing\n",
      "13:20:28 - cmdstanpy - INFO - Chain [1] start processing\n",
      "13:20:28 - cmdstanpy - INFO - Chain [1] start processing\n",
      "13:20:28 - cmdstanpy - INFO - Chain [1] start processing\n",
      "13:20:28 - cmdstanpy - INFO - Chain [1] start processing\n",
      "13:20:28 - cmdstanpy - INFO - Chain [1] start processing\n",
      "13:20:29 - cmdstanpy - INFO - Chain [1] done processing\n",
      "13:20:30 - cmdstanpy - INFO - Chain [1] done processing\n",
      "13:20:31 - cmdstanpy - INFO - Chain [1] done processing\n",
      "13:20:31 - cmdstanpy - INFO - Chain [1] done processing\n",
      "13:20:32 - cmdstanpy - INFO - Chain [1] done processing\n"
     ]
    },
    {
     "name": "stdout",
     "output_type": "stream",
     "text": [
      "{'changepoint_prior_scale': 0.201, 'holidays_prior_scale': 7.51, 'seasonality_mode': 'multiplicative', 'seasonality_prior_scale': 7.51}\n"
     ]
    },
    {
     "name": "stderr",
     "output_type": "stream",
     "text": [
      "13:20:32 - cmdstanpy - INFO - Chain [1] start processing\n",
      "13:20:34 - cmdstanpy - INFO - Chain [1] done processing\n",
      "13:20:36 - cmdstanpy - INFO - Chain [1] start processing\n",
      "13:20:36 - cmdstanpy - INFO - Chain [1] start processing\n",
      "13:20:36 - cmdstanpy - INFO - Chain [1] start processing\n",
      "13:20:36 - cmdstanpy - INFO - Chain [1] start processing\n",
      "13:20:36 - cmdstanpy - INFO - Chain [1] start processing\n",
      "13:20:37 - cmdstanpy - INFO - Chain [1] done processing\n",
      "13:20:37 - cmdstanpy - INFO - Chain [1] done processing\n",
      "13:20:38 - cmdstanpy - INFO - Chain [1] done processing\n",
      "13:20:38 - cmdstanpy - INFO - Chain [1] done processing\n",
      "13:20:39 - cmdstanpy - INFO - Chain [1] done processing\n"
     ]
    },
    {
     "name": "stdout",
     "output_type": "stream",
     "text": [
      "{'changepoint_prior_scale': 0.201, 'holidays_prior_scale': 7.51, 'seasonality_mode': 'additive', 'seasonality_prior_scale': 0.01}\n"
     ]
    },
    {
     "name": "stderr",
     "output_type": "stream",
     "text": [
      "13:20:40 - cmdstanpy - INFO - Chain [1] start processing\n",
      "13:20:41 - cmdstanpy - INFO - Chain [1] done processing\n",
      "13:20:42 - cmdstanpy - INFO - Chain [1] start processing\n",
      "13:20:42 - cmdstanpy - INFO - Chain [1] start processing\n",
      "13:20:42 - cmdstanpy - INFO - Chain [1] start processing\n",
      "13:20:42 - cmdstanpy - INFO - Chain [1] start processing\n",
      "13:20:43 - cmdstanpy - INFO - Chain [1] start processing\n",
      "13:20:43 - cmdstanpy - INFO - Chain [1] done processing\n",
      "13:20:43 - cmdstanpy - INFO - Chain [1] done processing\n",
      "13:20:44 - cmdstanpy - INFO - Chain [1] done processing\n",
      "13:20:44 - cmdstanpy - INFO - Chain [1] done processing\n",
      "13:20:44 - cmdstanpy - INFO - Chain [1] done processing\n"
     ]
    },
    {
     "name": "stdout",
     "output_type": "stream",
     "text": [
      "{'changepoint_prior_scale': 0.201, 'holidays_prior_scale': 7.51, 'seasonality_mode': 'additive', 'seasonality_prior_scale': 2.51}\n"
     ]
    },
    {
     "name": "stderr",
     "output_type": "stream",
     "text": [
      "13:20:45 - cmdstanpy - INFO - Chain [1] start processing\n",
      "13:20:46 - cmdstanpy - INFO - Chain [1] done processing\n",
      "13:20:48 - cmdstanpy - INFO - Chain [1] start processing\n",
      "13:20:48 - cmdstanpy - INFO - Chain [1] start processing\n",
      "13:20:48 - cmdstanpy - INFO - Chain [1] start processing\n",
      "13:20:48 - cmdstanpy - INFO - Chain [1] start processing\n",
      "13:20:48 - cmdstanpy - INFO - Chain [1] start processing\n",
      "13:20:48 - cmdstanpy - INFO - Chain [1] done processing\n",
      "13:20:49 - cmdstanpy - INFO - Chain [1] done processing\n",
      "13:20:49 - cmdstanpy - INFO - Chain [1] done processing\n",
      "13:20:50 - cmdstanpy - INFO - Chain [1] done processing\n",
      "13:20:50 - cmdstanpy - INFO - Chain [1] done processing\n"
     ]
    },
    {
     "name": "stdout",
     "output_type": "stream",
     "text": [
      "{'changepoint_prior_scale': 0.201, 'holidays_prior_scale': 7.51, 'seasonality_mode': 'additive', 'seasonality_prior_scale': 5.01}\n"
     ]
    },
    {
     "name": "stderr",
     "output_type": "stream",
     "text": [
      "13:20:51 - cmdstanpy - INFO - Chain [1] start processing\n",
      "13:20:52 - cmdstanpy - INFO - Chain [1] done processing\n",
      "13:20:53 - cmdstanpy - INFO - Chain [1] start processing\n",
      "13:20:53 - cmdstanpy - INFO - Chain [1] start processing\n",
      "13:20:53 - cmdstanpy - INFO - Chain [1] start processing\n",
      "13:20:53 - cmdstanpy - INFO - Chain [1] start processing\n",
      "13:20:54 - cmdstanpy - INFO - Chain [1] start processing\n",
      "13:20:54 - cmdstanpy - INFO - Chain [1] done processing\n",
      "13:20:55 - cmdstanpy - INFO - Chain [1] done processing\n",
      "13:20:55 - cmdstanpy - INFO - Chain [1] done processing\n",
      "13:20:55 - cmdstanpy - INFO - Chain [1] done processing\n",
      "13:20:56 - cmdstanpy - INFO - Chain [1] done processing\n"
     ]
    },
    {
     "name": "stdout",
     "output_type": "stream",
     "text": [
      "{'changepoint_prior_scale': 0.201, 'holidays_prior_scale': 7.51, 'seasonality_mode': 'additive', 'seasonality_prior_scale': 7.51}\n"
     ]
    },
    {
     "name": "stderr",
     "output_type": "stream",
     "text": [
      "13:20:57 - cmdstanpy - INFO - Chain [1] start processing\n",
      "13:20:58 - cmdstanpy - INFO - Chain [1] done processing\n",
      "13:20:59 - cmdstanpy - INFO - Chain [1] start processing\n",
      "13:20:59 - cmdstanpy - INFO - Chain [1] start processing\n",
      "13:20:59 - cmdstanpy - INFO - Chain [1] start processing\n",
      "13:20:59 - cmdstanpy - INFO - Chain [1] start processing\n",
      "13:20:59 - cmdstanpy - INFO - Chain [1] start processing\n",
      "13:21:00 - cmdstanpy - INFO - Chain [1] done processing\n",
      "13:21:00 - cmdstanpy - INFO - Chain [1] done processing\n",
      "13:21:01 - cmdstanpy - INFO - Chain [1] done processing\n",
      "13:21:01 - cmdstanpy - INFO - Chain [1] done processing\n",
      "13:21:02 - cmdstanpy - INFO - Chain [1] done processing\n"
     ]
    },
    {
     "name": "stdout",
     "output_type": "stream",
     "text": [
      "{'changepoint_prior_scale': 0.30100000000000005, 'holidays_prior_scale': 0.01, 'seasonality_mode': 'multiplicative', 'seasonality_prior_scale': 0.01}\n"
     ]
    },
    {
     "name": "stderr",
     "output_type": "stream",
     "text": [
      "13:21:02 - cmdstanpy - INFO - Chain [1] start processing\n",
      "13:21:05 - cmdstanpy - INFO - Chain [1] done processing\n",
      "13:21:06 - cmdstanpy - INFO - Chain [1] start processing\n",
      "13:21:06 - cmdstanpy - INFO - Chain [1] start processing\n",
      "13:21:06 - cmdstanpy - INFO - Chain [1] start processing\n",
      "13:21:06 - cmdstanpy - INFO - Chain [1] start processing\n",
      "13:21:06 - cmdstanpy - INFO - Chain [1] start processing\n",
      "13:21:07 - cmdstanpy - INFO - Chain [1] done processing\n",
      "13:21:07 - cmdstanpy - INFO - Chain [1] done processing\n",
      "13:21:08 - cmdstanpy - INFO - Chain [1] done processing\n",
      "13:21:09 - cmdstanpy - INFO - Chain [1] done processing\n",
      "13:21:09 - cmdstanpy - INFO - Chain [1] done processing\n"
     ]
    },
    {
     "name": "stdout",
     "output_type": "stream",
     "text": [
      "{'changepoint_prior_scale': 0.30100000000000005, 'holidays_prior_scale': 0.01, 'seasonality_mode': 'multiplicative', 'seasonality_prior_scale': 2.51}\n"
     ]
    },
    {
     "name": "stderr",
     "output_type": "stream",
     "text": [
      "13:21:10 - cmdstanpy - INFO - Chain [1] start processing\n",
      "13:21:12 - cmdstanpy - INFO - Chain [1] done processing\n",
      "13:21:13 - cmdstanpy - INFO - Chain [1] start processing\n",
      "13:21:13 - cmdstanpy - INFO - Chain [1] start processing\n",
      "13:21:13 - cmdstanpy - INFO - Chain [1] start processing\n",
      "13:21:13 - cmdstanpy - INFO - Chain [1] start processing\n",
      "13:21:13 - cmdstanpy - INFO - Chain [1] start processing\n",
      "13:21:14 - cmdstanpy - INFO - Chain [1] done processing\n",
      "13:21:15 - cmdstanpy - INFO - Chain [1] done processing\n",
      "13:21:15 - cmdstanpy - INFO - Chain [1] done processing\n",
      "13:21:16 - cmdstanpy - INFO - Chain [1] done processing\n",
      "13:21:17 - cmdstanpy - INFO - Chain [1] done processing\n"
     ]
    },
    {
     "name": "stdout",
     "output_type": "stream",
     "text": [
      "{'changepoint_prior_scale': 0.30100000000000005, 'holidays_prior_scale': 0.01, 'seasonality_mode': 'multiplicative', 'seasonality_prior_scale': 5.01}\n"
     ]
    },
    {
     "name": "stderr",
     "output_type": "stream",
     "text": [
      "13:21:17 - cmdstanpy - INFO - Chain [1] start processing\n",
      "13:21:19 - cmdstanpy - INFO - Chain [1] done processing\n",
      "13:21:20 - cmdstanpy - INFO - Chain [1] start processing\n",
      "13:21:20 - cmdstanpy - INFO - Chain [1] start processing\n",
      "13:21:20 - cmdstanpy - INFO - Chain [1] start processing\n",
      "13:21:21 - cmdstanpy - INFO - Chain [1] start processing\n",
      "13:21:21 - cmdstanpy - INFO - Chain [1] start processing\n",
      "13:21:21 - cmdstanpy - INFO - Chain [1] done processing\n",
      "13:21:22 - cmdstanpy - INFO - Chain [1] done processing\n",
      "13:21:23 - cmdstanpy - INFO - Chain [1] done processing\n",
      "13:21:24 - cmdstanpy - INFO - Chain [1] done processing\n",
      "13:21:25 - cmdstanpy - INFO - Chain [1] done processing\n"
     ]
    },
    {
     "name": "stdout",
     "output_type": "stream",
     "text": [
      "{'changepoint_prior_scale': 0.30100000000000005, 'holidays_prior_scale': 0.01, 'seasonality_mode': 'multiplicative', 'seasonality_prior_scale': 7.51}\n"
     ]
    },
    {
     "name": "stderr",
     "output_type": "stream",
     "text": [
      "13:21:25 - cmdstanpy - INFO - Chain [1] start processing\n",
      "13:21:27 - cmdstanpy - INFO - Chain [1] done processing\n",
      "13:21:28 - cmdstanpy - INFO - Chain [1] start processing\n",
      "13:21:28 - cmdstanpy - INFO - Chain [1] start processing\n",
      "13:21:29 - cmdstanpy - INFO - Chain [1] start processing\n",
      "13:21:29 - cmdstanpy - INFO - Chain [1] start processing\n",
      "13:21:29 - cmdstanpy - INFO - Chain [1] start processing\n",
      "13:21:29 - cmdstanpy - INFO - Chain [1] done processing\n",
      "13:21:31 - cmdstanpy - INFO - Chain [1] done processing\n",
      "13:21:31 - cmdstanpy - INFO - Chain [1] done processing\n",
      "13:21:31 - cmdstanpy - INFO - Chain [1] done processing\n",
      "13:21:32 - cmdstanpy - INFO - Chain [1] done processing\n"
     ]
    },
    {
     "name": "stdout",
     "output_type": "stream",
     "text": [
      "{'changepoint_prior_scale': 0.30100000000000005, 'holidays_prior_scale': 0.01, 'seasonality_mode': 'additive', 'seasonality_prior_scale': 0.01}\n"
     ]
    },
    {
     "name": "stderr",
     "output_type": "stream",
     "text": [
      "13:21:33 - cmdstanpy - INFO - Chain [1] start processing\n",
      "13:21:34 - cmdstanpy - INFO - Chain [1] done processing\n",
      "13:21:35 - cmdstanpy - INFO - Chain [1] start processing\n",
      "13:21:35 - cmdstanpy - INFO - Chain [1] start processing\n",
      "13:21:35 - cmdstanpy - INFO - Chain [1] start processing\n",
      "13:21:35 - cmdstanpy - INFO - Chain [1] start processing\n",
      "13:21:35 - cmdstanpy - INFO - Chain [1] start processing\n",
      "13:21:35 - cmdstanpy - INFO - Chain [1] done processing\n",
      "13:21:37 - cmdstanpy - INFO - Chain [1] done processing\n",
      "13:21:37 - cmdstanpy - INFO - Chain [1] done processing\n",
      "13:21:37 - cmdstanpy - INFO - Chain [1] done processing\n",
      "13:21:38 - cmdstanpy - INFO - Chain [1] done processing\n"
     ]
    },
    {
     "name": "stdout",
     "output_type": "stream",
     "text": [
      "{'changepoint_prior_scale': 0.30100000000000005, 'holidays_prior_scale': 0.01, 'seasonality_mode': 'additive', 'seasonality_prior_scale': 2.51}\n"
     ]
    },
    {
     "name": "stderr",
     "output_type": "stream",
     "text": [
      "13:21:38 - cmdstanpy - INFO - Chain [1] start processing\n",
      "13:21:39 - cmdstanpy - INFO - Chain [1] done processing\n",
      "13:21:41 - cmdstanpy - INFO - Chain [1] start processing\n",
      "13:21:41 - cmdstanpy - INFO - Chain [1] start processing\n",
      "13:21:41 - cmdstanpy - INFO - Chain [1] start processing\n",
      "13:21:41 - cmdstanpy - INFO - Chain [1] start processing\n",
      "13:21:41 - cmdstanpy - INFO - Chain [1] start processing\n",
      "13:21:41 - cmdstanpy - INFO - Chain [1] done processing\n",
      "13:21:42 - cmdstanpy - INFO - Chain [1] done processing\n",
      "13:21:42 - cmdstanpy - INFO - Chain [1] done processing\n",
      "13:21:43 - cmdstanpy - INFO - Chain [1] done processing\n",
      "13:21:43 - cmdstanpy - INFO - Chain [1] done processing\n"
     ]
    },
    {
     "name": "stdout",
     "output_type": "stream",
     "text": [
      "{'changepoint_prior_scale': 0.30100000000000005, 'holidays_prior_scale': 0.01, 'seasonality_mode': 'additive', 'seasonality_prior_scale': 5.01}\n"
     ]
    },
    {
     "name": "stderr",
     "output_type": "stream",
     "text": [
      "13:21:44 - cmdstanpy - INFO - Chain [1] start processing\n",
      "13:21:45 - cmdstanpy - INFO - Chain [1] done processing\n",
      "13:21:47 - cmdstanpy - INFO - Chain [1] start processing\n",
      "13:21:47 - cmdstanpy - INFO - Chain [1] start processing\n",
      "13:21:47 - cmdstanpy - INFO - Chain [1] start processing\n",
      "13:21:47 - cmdstanpy - INFO - Chain [1] start processing\n",
      "13:21:47 - cmdstanpy - INFO - Chain [1] start processing\n",
      "13:21:47 - cmdstanpy - INFO - Chain [1] done processing\n",
      "13:21:49 - cmdstanpy - INFO - Chain [1] done processing\n",
      "13:21:49 - cmdstanpy - INFO - Chain [1] done processing\n",
      "13:21:50 - cmdstanpy - INFO - Chain [1] done processing\n",
      "13:21:50 - cmdstanpy - INFO - Chain [1] done processing\n"
     ]
    },
    {
     "name": "stdout",
     "output_type": "stream",
     "text": [
      "{'changepoint_prior_scale': 0.30100000000000005, 'holidays_prior_scale': 0.01, 'seasonality_mode': 'additive', 'seasonality_prior_scale': 7.51}\n"
     ]
    },
    {
     "name": "stderr",
     "output_type": "stream",
     "text": [
      "13:21:51 - cmdstanpy - INFO - Chain [1] start processing\n",
      "13:21:52 - cmdstanpy - INFO - Chain [1] done processing\n",
      "13:21:53 - cmdstanpy - INFO - Chain [1] start processing\n",
      "13:21:53 - cmdstanpy - INFO - Chain [1] start processing\n",
      "13:21:53 - cmdstanpy - INFO - Chain [1] start processing\n",
      "13:21:53 - cmdstanpy - INFO - Chain [1] start processing\n",
      "13:21:54 - cmdstanpy - INFO - Chain [1] start processing\n",
      "13:21:54 - cmdstanpy - INFO - Chain [1] done processing\n",
      "13:21:54 - cmdstanpy - INFO - Chain [1] done processing\n",
      "13:21:55 - cmdstanpy - INFO - Chain [1] done processing\n",
      "13:21:55 - cmdstanpy - INFO - Chain [1] done processing\n",
      "13:21:56 - cmdstanpy - INFO - Chain [1] done processing\n"
     ]
    },
    {
     "name": "stdout",
     "output_type": "stream",
     "text": [
      "{'changepoint_prior_scale': 0.30100000000000005, 'holidays_prior_scale': 2.51, 'seasonality_mode': 'multiplicative', 'seasonality_prior_scale': 0.01}\n"
     ]
    },
    {
     "name": "stderr",
     "output_type": "stream",
     "text": [
      "13:21:56 - cmdstanpy - INFO - Chain [1] start processing\n",
      "13:21:59 - cmdstanpy - INFO - Chain [1] done processing\n",
      "13:22:00 - cmdstanpy - INFO - Chain [1] start processing\n",
      "13:22:00 - cmdstanpy - INFO - Chain [1] start processing\n",
      "13:22:00 - cmdstanpy - INFO - Chain [1] start processing\n",
      "13:22:00 - cmdstanpy - INFO - Chain [1] start processing\n",
      "13:22:00 - cmdstanpy - INFO - Chain [1] start processing\n",
      "13:22:00 - cmdstanpy - INFO - Chain [1] done processing\n",
      "13:22:01 - cmdstanpy - INFO - Chain [1] done processing\n",
      "13:22:01 - cmdstanpy - INFO - Chain [1] done processing\n",
      "13:22:03 - cmdstanpy - INFO - Chain [1] done processing\n",
      "13:22:04 - cmdstanpy - INFO - Chain [1] done processing\n"
     ]
    },
    {
     "name": "stdout",
     "output_type": "stream",
     "text": [
      "{'changepoint_prior_scale': 0.30100000000000005, 'holidays_prior_scale': 2.51, 'seasonality_mode': 'multiplicative', 'seasonality_prior_scale': 2.51}\n"
     ]
    },
    {
     "name": "stderr",
     "output_type": "stream",
     "text": [
      "13:22:04 - cmdstanpy - INFO - Chain [1] start processing\n",
      "13:22:06 - cmdstanpy - INFO - Chain [1] done processing\n",
      "13:22:07 - cmdstanpy - INFO - Chain [1] start processing\n",
      "13:22:08 - cmdstanpy - INFO - Chain [1] start processing\n",
      "13:22:08 - cmdstanpy - INFO - Chain [1] start processing\n",
      "13:22:08 - cmdstanpy - INFO - Chain [1] start processing\n",
      "13:22:08 - cmdstanpy - INFO - Chain [1] start processing\n",
      "13:22:08 - cmdstanpy - INFO - Chain [1] done processing\n",
      "13:22:10 - cmdstanpy - INFO - Chain [1] done processing\n",
      "13:22:10 - cmdstanpy - INFO - Chain [1] done processing\n",
      "13:22:11 - cmdstanpy - INFO - Chain [1] done processing\n",
      "13:22:11 - cmdstanpy - INFO - Chain [1] done processing\n"
     ]
    },
    {
     "name": "stdout",
     "output_type": "stream",
     "text": [
      "{'changepoint_prior_scale': 0.30100000000000005, 'holidays_prior_scale': 2.51, 'seasonality_mode': 'multiplicative', 'seasonality_prior_scale': 5.01}\n"
     ]
    },
    {
     "name": "stderr",
     "output_type": "stream",
     "text": [
      "13:22:12 - cmdstanpy - INFO - Chain [1] start processing\n",
      "13:22:14 - cmdstanpy - INFO - Chain [1] done processing\n",
      "13:22:15 - cmdstanpy - INFO - Chain [1] start processing\n",
      "13:22:15 - cmdstanpy - INFO - Chain [1] start processing\n",
      "13:22:15 - cmdstanpy - INFO - Chain [1] start processing\n",
      "13:22:15 - cmdstanpy - INFO - Chain [1] start processing\n",
      "13:22:15 - cmdstanpy - INFO - Chain [1] start processing\n",
      "13:22:16 - cmdstanpy - INFO - Chain [1] done processing\n",
      "13:22:16 - cmdstanpy - INFO - Chain [1] done processing\n",
      "13:22:18 - cmdstanpy - INFO - Chain [1] done processing\n",
      "13:22:18 - cmdstanpy - INFO - Chain [1] done processing\n",
      "13:22:18 - cmdstanpy - INFO - Chain [1] done processing\n"
     ]
    },
    {
     "name": "stdout",
     "output_type": "stream",
     "text": [
      "{'changepoint_prior_scale': 0.30100000000000005, 'holidays_prior_scale': 2.51, 'seasonality_mode': 'multiplicative', 'seasonality_prior_scale': 7.51}\n"
     ]
    },
    {
     "name": "stderr",
     "output_type": "stream",
     "text": [
      "13:22:19 - cmdstanpy - INFO - Chain [1] start processing\n",
      "13:22:21 - cmdstanpy - INFO - Chain [1] done processing\n",
      "13:22:22 - cmdstanpy - INFO - Chain [1] start processing\n",
      "13:22:22 - cmdstanpy - INFO - Chain [1] start processing\n",
      "13:22:22 - cmdstanpy - INFO - Chain [1] start processing\n",
      "13:22:22 - cmdstanpy - INFO - Chain [1] start processing\n",
      "13:22:22 - cmdstanpy - INFO - Chain [1] start processing\n",
      "13:22:23 - cmdstanpy - INFO - Chain [1] done processing\n",
      "13:22:24 - cmdstanpy - INFO - Chain [1] done processing\n",
      "13:22:24 - cmdstanpy - INFO - Chain [1] done processing\n",
      "13:22:25 - cmdstanpy - INFO - Chain [1] done processing\n",
      "13:22:26 - cmdstanpy - INFO - Chain [1] done processing\n"
     ]
    },
    {
     "name": "stdout",
     "output_type": "stream",
     "text": [
      "{'changepoint_prior_scale': 0.30100000000000005, 'holidays_prior_scale': 2.51, 'seasonality_mode': 'additive', 'seasonality_prior_scale': 0.01}\n"
     ]
    },
    {
     "name": "stderr",
     "output_type": "stream",
     "text": [
      "13:22:26 - cmdstanpy - INFO - Chain [1] start processing\n",
      "13:22:27 - cmdstanpy - INFO - Chain [1] done processing\n",
      "13:22:29 - cmdstanpy - INFO - Chain [1] start processing\n",
      "13:22:29 - cmdstanpy - INFO - Chain [1] start processing\n",
      "13:22:29 - cmdstanpy - INFO - Chain [1] start processing\n",
      "13:22:29 - cmdstanpy - INFO - Chain [1] start processing\n",
      "13:22:29 - cmdstanpy - INFO - Chain [1] start processing\n",
      "13:22:29 - cmdstanpy - INFO - Chain [1] done processing\n",
      "13:22:30 - cmdstanpy - INFO - Chain [1] done processing\n",
      "13:22:31 - cmdstanpy - INFO - Chain [1] done processing\n",
      "13:22:31 - cmdstanpy - INFO - Chain [1] done processing\n",
      "13:22:31 - cmdstanpy - INFO - Chain [1] done processing\n"
     ]
    },
    {
     "name": "stdout",
     "output_type": "stream",
     "text": [
      "{'changepoint_prior_scale': 0.30100000000000005, 'holidays_prior_scale': 2.51, 'seasonality_mode': 'additive', 'seasonality_prior_scale': 2.51}\n"
     ]
    },
    {
     "name": "stderr",
     "output_type": "stream",
     "text": [
      "13:22:32 - cmdstanpy - INFO - Chain [1] start processing\n",
      "13:22:33 - cmdstanpy - INFO - Chain [1] done processing\n",
      "13:22:34 - cmdstanpy - INFO - Chain [1] start processing\n",
      "13:22:34 - cmdstanpy - INFO - Chain [1] start processing\n",
      "13:22:35 - cmdstanpy - INFO - Chain [1] start processing\n",
      "13:22:35 - cmdstanpy - INFO - Chain [1] start processing\n",
      "13:22:35 - cmdstanpy - INFO - Chain [1] start processing\n",
      "13:22:35 - cmdstanpy - INFO - Chain [1] done processing\n",
      "13:22:36 - cmdstanpy - INFO - Chain [1] done processing\n",
      "13:22:36 - cmdstanpy - INFO - Chain [1] done processing\n",
      "13:22:37 - cmdstanpy - INFO - Chain [1] done processing\n",
      "13:22:37 - cmdstanpy - INFO - Chain [1] done processing\n"
     ]
    },
    {
     "name": "stdout",
     "output_type": "stream",
     "text": [
      "{'changepoint_prior_scale': 0.30100000000000005, 'holidays_prior_scale': 2.51, 'seasonality_mode': 'additive', 'seasonality_prior_scale': 5.01}\n"
     ]
    },
    {
     "name": "stderr",
     "output_type": "stream",
     "text": [
      "13:22:38 - cmdstanpy - INFO - Chain [1] start processing\n",
      "13:22:39 - cmdstanpy - INFO - Chain [1] done processing\n",
      "13:22:41 - cmdstanpy - INFO - Chain [1] start processing\n",
      "13:22:41 - cmdstanpy - INFO - Chain [1] start processing\n",
      "13:22:41 - cmdstanpy - INFO - Chain [1] start processing\n",
      "13:22:41 - cmdstanpy - INFO - Chain [1] start processing\n",
      "13:22:41 - cmdstanpy - INFO - Chain [1] start processing\n",
      "13:22:41 - cmdstanpy - INFO - Chain [1] done processing\n",
      "13:22:42 - cmdstanpy - INFO - Chain [1] done processing\n",
      "13:22:43 - cmdstanpy - INFO - Chain [1] done processing\n",
      "13:22:43 - cmdstanpy - INFO - Chain [1] done processing\n",
      "13:22:44 - cmdstanpy - INFO - Chain [1] done processing\n"
     ]
    },
    {
     "name": "stdout",
     "output_type": "stream",
     "text": [
      "{'changepoint_prior_scale': 0.30100000000000005, 'holidays_prior_scale': 2.51, 'seasonality_mode': 'additive', 'seasonality_prior_scale': 7.51}\n"
     ]
    },
    {
     "name": "stderr",
     "output_type": "stream",
     "text": [
      "13:22:44 - cmdstanpy - INFO - Chain [1] start processing\n",
      "13:22:45 - cmdstanpy - INFO - Chain [1] done processing\n",
      "13:22:46 - cmdstanpy - INFO - Chain [1] start processing\n",
      "13:22:47 - cmdstanpy - INFO - Chain [1] start processing\n",
      "13:22:47 - cmdstanpy - INFO - Chain [1] start processing\n",
      "13:22:47 - cmdstanpy - INFO - Chain [1] start processing\n",
      "13:22:47 - cmdstanpy - INFO - Chain [1] start processing\n",
      "13:22:47 - cmdstanpy - INFO - Chain [1] done processing\n",
      "13:22:47 - cmdstanpy - INFO - Chain [1] done processing\n",
      "13:22:49 - cmdstanpy - INFO - Chain [1] done processing\n",
      "13:22:49 - cmdstanpy - INFO - Chain [1] done processing\n",
      "13:22:49 - cmdstanpy - INFO - Chain [1] done processing\n"
     ]
    },
    {
     "name": "stdout",
     "output_type": "stream",
     "text": [
      "{'changepoint_prior_scale': 0.30100000000000005, 'holidays_prior_scale': 5.01, 'seasonality_mode': 'multiplicative', 'seasonality_prior_scale': 0.01}\n"
     ]
    },
    {
     "name": "stderr",
     "output_type": "stream",
     "text": [
      "13:22:50 - cmdstanpy - INFO - Chain [1] start processing\n",
      "13:22:52 - cmdstanpy - INFO - Chain [1] done processing\n",
      "13:22:53 - cmdstanpy - INFO - Chain [1] start processing\n",
      "13:22:53 - cmdstanpy - INFO - Chain [1] start processing\n",
      "13:22:53 - cmdstanpy - INFO - Chain [1] start processing\n",
      "13:22:53 - cmdstanpy - INFO - Chain [1] start processing\n",
      "13:22:53 - cmdstanpy - INFO - Chain [1] start processing\n",
      "13:22:54 - cmdstanpy - INFO - Chain [1] done processing\n",
      "13:22:55 - cmdstanpy - INFO - Chain [1] done processing\n",
      "13:22:55 - cmdstanpy - INFO - Chain [1] done processing\n",
      "13:22:55 - cmdstanpy - INFO - Chain [1] done processing\n",
      "13:22:56 - cmdstanpy - INFO - Chain [1] done processing\n"
     ]
    },
    {
     "name": "stdout",
     "output_type": "stream",
     "text": [
      "{'changepoint_prior_scale': 0.30100000000000005, 'holidays_prior_scale': 5.01, 'seasonality_mode': 'multiplicative', 'seasonality_prior_scale': 2.51}\n"
     ]
    },
    {
     "name": "stderr",
     "output_type": "stream",
     "text": [
      "13:22:57 - cmdstanpy - INFO - Chain [1] start processing\n",
      "13:22:58 - cmdstanpy - INFO - Chain [1] done processing\n",
      "13:23:00 - cmdstanpy - INFO - Chain [1] start processing\n",
      "13:23:00 - cmdstanpy - INFO - Chain [1] start processing\n",
      "13:23:00 - cmdstanpy - INFO - Chain [1] start processing\n",
      "13:23:00 - cmdstanpy - INFO - Chain [1] start processing\n",
      "13:23:00 - cmdstanpy - INFO - Chain [1] start processing\n",
      "13:23:00 - cmdstanpy - INFO - Chain [1] done processing\n",
      "13:23:01 - cmdstanpy - INFO - Chain [1] done processing\n",
      "13:23:02 - cmdstanpy - INFO - Chain [1] done processing\n",
      "13:23:03 - cmdstanpy - INFO - Chain [1] done processing\n",
      "13:23:03 - cmdstanpy - INFO - Chain [1] done processing\n"
     ]
    },
    {
     "name": "stdout",
     "output_type": "stream",
     "text": [
      "{'changepoint_prior_scale': 0.30100000000000005, 'holidays_prior_scale': 5.01, 'seasonality_mode': 'multiplicative', 'seasonality_prior_scale': 5.01}\n"
     ]
    },
    {
     "name": "stderr",
     "output_type": "stream",
     "text": [
      "13:23:04 - cmdstanpy - INFO - Chain [1] start processing\n",
      "13:23:06 - cmdstanpy - INFO - Chain [1] done processing\n",
      "13:23:07 - cmdstanpy - INFO - Chain [1] start processing\n",
      "13:23:07 - cmdstanpy - INFO - Chain [1] start processing\n",
      "13:23:07 - cmdstanpy - INFO - Chain [1] start processing\n",
      "13:23:07 - cmdstanpy - INFO - Chain [1] start processing\n",
      "13:23:07 - cmdstanpy - INFO - Chain [1] start processing\n",
      "13:23:08 - cmdstanpy - INFO - Chain [1] done processing\n",
      "13:23:09 - cmdstanpy - INFO - Chain [1] done processing\n",
      "13:23:09 - cmdstanpy - INFO - Chain [1] done processing\n",
      "13:23:10 - cmdstanpy - INFO - Chain [1] done processing\n",
      "13:23:11 - cmdstanpy - INFO - Chain [1] done processing\n"
     ]
    },
    {
     "name": "stdout",
     "output_type": "stream",
     "text": [
      "{'changepoint_prior_scale': 0.30100000000000005, 'holidays_prior_scale': 5.01, 'seasonality_mode': 'multiplicative', 'seasonality_prior_scale': 7.51}\n"
     ]
    },
    {
     "name": "stderr",
     "output_type": "stream",
     "text": [
      "13:23:11 - cmdstanpy - INFO - Chain [1] start processing\n",
      "13:23:13 - cmdstanpy - INFO - Chain [1] done processing\n",
      "13:23:14 - cmdstanpy - INFO - Chain [1] start processing\n",
      "13:23:14 - cmdstanpy - INFO - Chain [1] start processing\n",
      "13:23:14 - cmdstanpy - INFO - Chain [1] start processing\n",
      "13:23:14 - cmdstanpy - INFO - Chain [1] start processing\n",
      "13:23:14 - cmdstanpy - INFO - Chain [1] start processing\n",
      "13:23:15 - cmdstanpy - INFO - Chain [1] done processing\n",
      "13:23:16 - cmdstanpy - INFO - Chain [1] done processing\n",
      "13:23:17 - cmdstanpy - INFO - Chain [1] done processing\n",
      "13:23:17 - cmdstanpy - INFO - Chain [1] done processing\n",
      "13:23:18 - cmdstanpy - INFO - Chain [1] done processing\n"
     ]
    },
    {
     "name": "stdout",
     "output_type": "stream",
     "text": [
      "{'changepoint_prior_scale': 0.30100000000000005, 'holidays_prior_scale': 5.01, 'seasonality_mode': 'additive', 'seasonality_prior_scale': 0.01}\n"
     ]
    },
    {
     "name": "stderr",
     "output_type": "stream",
     "text": [
      "13:23:18 - cmdstanpy - INFO - Chain [1] start processing\n",
      "13:23:19 - cmdstanpy - INFO - Chain [1] done processing\n",
      "13:23:21 - cmdstanpy - INFO - Chain [1] start processing\n",
      "13:23:21 - cmdstanpy - INFO - Chain [1] start processing\n",
      "13:23:21 - cmdstanpy - INFO - Chain [1] start processing\n",
      "13:23:21 - cmdstanpy - INFO - Chain [1] start processing\n",
      "13:23:21 - cmdstanpy - INFO - Chain [1] start processing\n",
      "13:23:21 - cmdstanpy - INFO - Chain [1] done processing\n",
      "13:23:22 - cmdstanpy - INFO - Chain [1] done processing\n",
      "13:23:22 - cmdstanpy - INFO - Chain [1] done processing\n",
      "13:23:23 - cmdstanpy - INFO - Chain [1] done processing\n",
      "13:23:23 - cmdstanpy - INFO - Chain [1] done processing\n"
     ]
    },
    {
     "name": "stdout",
     "output_type": "stream",
     "text": [
      "{'changepoint_prior_scale': 0.30100000000000005, 'holidays_prior_scale': 5.01, 'seasonality_mode': 'additive', 'seasonality_prior_scale': 2.51}\n"
     ]
    },
    {
     "name": "stderr",
     "output_type": "stream",
     "text": [
      "13:23:24 - cmdstanpy - INFO - Chain [1] start processing\n",
      "13:23:25 - cmdstanpy - INFO - Chain [1] done processing\n",
      "13:23:26 - cmdstanpy - INFO - Chain [1] start processing\n",
      "13:23:26 - cmdstanpy - INFO - Chain [1] start processing\n",
      "13:23:27 - cmdstanpy - INFO - Chain [1] start processing\n",
      "13:23:27 - cmdstanpy - INFO - Chain [1] start processing\n",
      "13:23:27 - cmdstanpy - INFO - Chain [1] start processing\n",
      "13:23:27 - cmdstanpy - INFO - Chain [1] done processing\n",
      "13:23:27 - cmdstanpy - INFO - Chain [1] done processing\n",
      "13:23:28 - cmdstanpy - INFO - Chain [1] done processing\n",
      "13:23:28 - cmdstanpy - INFO - Chain [1] done processing\n",
      "13:23:29 - cmdstanpy - INFO - Chain [1] done processing\n"
     ]
    },
    {
     "name": "stdout",
     "output_type": "stream",
     "text": [
      "{'changepoint_prior_scale': 0.30100000000000005, 'holidays_prior_scale': 5.01, 'seasonality_mode': 'additive', 'seasonality_prior_scale': 5.01}\n"
     ]
    },
    {
     "name": "stderr",
     "output_type": "stream",
     "text": [
      "13:23:29 - cmdstanpy - INFO - Chain [1] start processing\n",
      "13:23:31 - cmdstanpy - INFO - Chain [1] done processing\n",
      "13:23:32 - cmdstanpy - INFO - Chain [1] start processing\n",
      "13:23:32 - cmdstanpy - INFO - Chain [1] start processing\n",
      "13:23:32 - cmdstanpy - INFO - Chain [1] start processing\n",
      "13:23:32 - cmdstanpy - INFO - Chain [1] start processing\n",
      "13:23:32 - cmdstanpy - INFO - Chain [1] start processing\n",
      "13:23:32 - cmdstanpy - INFO - Chain [1] done processing\n",
      "13:23:33 - cmdstanpy - INFO - Chain [1] done processing\n",
      "13:23:34 - cmdstanpy - INFO - Chain [1] done processing\n",
      "13:23:34 - cmdstanpy - INFO - Chain [1] done processing\n",
      "13:23:34 - cmdstanpy - INFO - Chain [1] done processing\n"
     ]
    },
    {
     "name": "stdout",
     "output_type": "stream",
     "text": [
      "{'changepoint_prior_scale': 0.30100000000000005, 'holidays_prior_scale': 5.01, 'seasonality_mode': 'additive', 'seasonality_prior_scale': 7.51}\n"
     ]
    },
    {
     "name": "stderr",
     "output_type": "stream",
     "text": [
      "13:23:35 - cmdstanpy - INFO - Chain [1] start processing\n",
      "13:23:36 - cmdstanpy - INFO - Chain [1] done processing\n",
      "13:23:37 - cmdstanpy - INFO - Chain [1] start processing\n",
      "13:23:37 - cmdstanpy - INFO - Chain [1] start processing\n",
      "13:23:37 - cmdstanpy - INFO - Chain [1] start processing\n",
      "13:23:37 - cmdstanpy - INFO - Chain [1] start processing\n",
      "13:23:38 - cmdstanpy - INFO - Chain [1] start processing\n",
      "13:23:38 - cmdstanpy - INFO - Chain [1] done processing\n",
      "13:23:39 - cmdstanpy - INFO - Chain [1] done processing\n",
      "13:23:39 - cmdstanpy - INFO - Chain [1] done processing\n",
      "13:23:40 - cmdstanpy - INFO - Chain [1] done processing\n",
      "13:23:40 - cmdstanpy - INFO - Chain [1] done processing\n"
     ]
    },
    {
     "name": "stdout",
     "output_type": "stream",
     "text": [
      "{'changepoint_prior_scale': 0.30100000000000005, 'holidays_prior_scale': 7.51, 'seasonality_mode': 'multiplicative', 'seasonality_prior_scale': 0.01}\n"
     ]
    },
    {
     "name": "stderr",
     "output_type": "stream",
     "text": [
      "13:23:41 - cmdstanpy - INFO - Chain [1] start processing\n",
      "13:23:43 - cmdstanpy - INFO - Chain [1] done processing\n",
      "13:23:44 - cmdstanpy - INFO - Chain [1] start processing\n",
      "13:23:44 - cmdstanpy - INFO - Chain [1] start processing\n",
      "13:23:44 - cmdstanpy - INFO - Chain [1] start processing\n",
      "13:23:44 - cmdstanpy - INFO - Chain [1] start processing\n",
      "13:23:44 - cmdstanpy - INFO - Chain [1] start processing\n",
      "13:23:45 - cmdstanpy - INFO - Chain [1] done processing\n",
      "13:23:45 - cmdstanpy - INFO - Chain [1] done processing\n",
      "13:23:46 - cmdstanpy - INFO - Chain [1] done processing\n",
      "13:23:47 - cmdstanpy - INFO - Chain [1] done processing\n",
      "13:23:48 - cmdstanpy - INFO - Chain [1] done processing\n"
     ]
    },
    {
     "name": "stdout",
     "output_type": "stream",
     "text": [
      "{'changepoint_prior_scale': 0.30100000000000005, 'holidays_prior_scale': 7.51, 'seasonality_mode': 'multiplicative', 'seasonality_prior_scale': 2.51}\n"
     ]
    },
    {
     "name": "stderr",
     "output_type": "stream",
     "text": [
      "13:23:48 - cmdstanpy - INFO - Chain [1] start processing\n",
      "13:23:50 - cmdstanpy - INFO - Chain [1] done processing\n",
      "13:23:51 - cmdstanpy - INFO - Chain [1] start processing\n",
      "13:23:52 - cmdstanpy - INFO - Chain [1] start processing\n",
      "13:23:52 - cmdstanpy - INFO - Chain [1] start processing\n",
      "13:23:52 - cmdstanpy - INFO - Chain [1] start processing\n",
      "13:23:52 - cmdstanpy - INFO - Chain [1] start processing\n",
      "13:23:52 - cmdstanpy - INFO - Chain [1] done processing\n",
      "13:23:53 - cmdstanpy - INFO - Chain [1] done processing\n",
      "13:23:54 - cmdstanpy - INFO - Chain [1] done processing\n",
      "13:23:54 - cmdstanpy - INFO - Chain [1] done processing\n",
      "13:23:55 - cmdstanpy - INFO - Chain [1] done processing\n"
     ]
    },
    {
     "name": "stdout",
     "output_type": "stream",
     "text": [
      "{'changepoint_prior_scale': 0.30100000000000005, 'holidays_prior_scale': 7.51, 'seasonality_mode': 'multiplicative', 'seasonality_prior_scale': 5.01}\n"
     ]
    },
    {
     "name": "stderr",
     "output_type": "stream",
     "text": [
      "13:23:56 - cmdstanpy - INFO - Chain [1] start processing\n",
      "13:23:57 - cmdstanpy - INFO - Chain [1] done processing\n",
      "13:23:59 - cmdstanpy - INFO - Chain [1] start processing\n",
      "13:23:59 - cmdstanpy - INFO - Chain [1] start processing\n",
      "13:23:59 - cmdstanpy - INFO - Chain [1] start processing\n",
      "13:23:59 - cmdstanpy - INFO - Chain [1] start processing\n",
      "13:23:59 - cmdstanpy - INFO - Chain [1] start processing\n",
      "13:23:59 - cmdstanpy - INFO - Chain [1] done processing\n",
      "13:24:00 - cmdstanpy - INFO - Chain [1] done processing\n",
      "13:24:01 - cmdstanpy - INFO - Chain [1] done processing\n",
      "13:24:01 - cmdstanpy - INFO - Chain [1] done processing\n",
      "13:24:02 - cmdstanpy - INFO - Chain [1] done processing\n"
     ]
    },
    {
     "name": "stdout",
     "output_type": "stream",
     "text": [
      "{'changepoint_prior_scale': 0.30100000000000005, 'holidays_prior_scale': 7.51, 'seasonality_mode': 'multiplicative', 'seasonality_prior_scale': 7.51}\n"
     ]
    },
    {
     "name": "stderr",
     "output_type": "stream",
     "text": [
      "13:24:03 - cmdstanpy - INFO - Chain [1] start processing\n",
      "13:24:05 - cmdstanpy - INFO - Chain [1] done processing\n",
      "13:24:06 - cmdstanpy - INFO - Chain [1] start processing\n",
      "13:24:06 - cmdstanpy - INFO - Chain [1] start processing\n",
      "13:24:06 - cmdstanpy - INFO - Chain [1] start processing\n",
      "13:24:06 - cmdstanpy - INFO - Chain [1] start processing\n",
      "13:24:06 - cmdstanpy - INFO - Chain [1] start processing\n",
      "13:24:07 - cmdstanpy - INFO - Chain [1] done processing\n",
      "13:24:08 - cmdstanpy - INFO - Chain [1] done processing\n",
      "13:24:08 - cmdstanpy - INFO - Chain [1] done processing\n",
      "13:24:09 - cmdstanpy - INFO - Chain [1] done processing\n",
      "13:24:09 - cmdstanpy - INFO - Chain [1] done processing\n"
     ]
    },
    {
     "name": "stdout",
     "output_type": "stream",
     "text": [
      "{'changepoint_prior_scale': 0.30100000000000005, 'holidays_prior_scale': 7.51, 'seasonality_mode': 'additive', 'seasonality_prior_scale': 0.01}\n"
     ]
    },
    {
     "name": "stderr",
     "output_type": "stream",
     "text": [
      "13:24:10 - cmdstanpy - INFO - Chain [1] start processing\n",
      "13:24:11 - cmdstanpy - INFO - Chain [1] done processing\n",
      "13:24:12 - cmdstanpy - INFO - Chain [1] start processing\n",
      "13:24:12 - cmdstanpy - INFO - Chain [1] start processing\n",
      "13:24:12 - cmdstanpy - INFO - Chain [1] start processing\n",
      "13:24:12 - cmdstanpy - INFO - Chain [1] start processing\n",
      "13:24:12 - cmdstanpy - INFO - Chain [1] start processing\n",
      "13:24:13 - cmdstanpy - INFO - Chain [1] done processing\n",
      "13:24:13 - cmdstanpy - INFO - Chain [1] done processing\n",
      "13:24:14 - cmdstanpy - INFO - Chain [1] done processing\n",
      "13:24:14 - cmdstanpy - INFO - Chain [1] done processing\n",
      "13:24:15 - cmdstanpy - INFO - Chain [1] done processing\n"
     ]
    },
    {
     "name": "stdout",
     "output_type": "stream",
     "text": [
      "{'changepoint_prior_scale': 0.30100000000000005, 'holidays_prior_scale': 7.51, 'seasonality_mode': 'additive', 'seasonality_prior_scale': 2.51}\n"
     ]
    },
    {
     "name": "stderr",
     "output_type": "stream",
     "text": [
      "13:24:15 - cmdstanpy - INFO - Chain [1] start processing\n",
      "13:24:16 - cmdstanpy - INFO - Chain [1] done processing\n",
      "13:24:18 - cmdstanpy - INFO - Chain [1] start processing\n",
      "13:24:18 - cmdstanpy - INFO - Chain [1] start processing\n",
      "13:24:18 - cmdstanpy - INFO - Chain [1] start processing\n",
      "13:24:18 - cmdstanpy - INFO - Chain [1] done processing\n",
      "13:24:18 - cmdstanpy - INFO - Chain [1] start processing\n",
      "13:24:18 - cmdstanpy - INFO - Chain [1] start processing\n",
      "13:24:19 - cmdstanpy - INFO - Chain [1] done processing\n",
      "13:24:20 - cmdstanpy - INFO - Chain [1] done processing\n",
      "13:24:20 - cmdstanpy - INFO - Chain [1] done processing\n",
      "13:24:20 - cmdstanpy - INFO - Chain [1] done processing\n"
     ]
    },
    {
     "name": "stdout",
     "output_type": "stream",
     "text": [
      "{'changepoint_prior_scale': 0.30100000000000005, 'holidays_prior_scale': 7.51, 'seasonality_mode': 'additive', 'seasonality_prior_scale': 5.01}\n"
     ]
    },
    {
     "name": "stderr",
     "output_type": "stream",
     "text": [
      "13:24:21 - cmdstanpy - INFO - Chain [1] start processing\n",
      "13:24:22 - cmdstanpy - INFO - Chain [1] done processing\n",
      "13:24:24 - cmdstanpy - INFO - Chain [1] start processing\n",
      "13:24:24 - cmdstanpy - INFO - Chain [1] start processing\n",
      "13:24:24 - cmdstanpy - INFO - Chain [1] start processing\n",
      "13:24:24 - cmdstanpy - INFO - Chain [1] start processing\n",
      "13:24:24 - cmdstanpy - INFO - Chain [1] start processing\n",
      "13:24:24 - cmdstanpy - INFO - Chain [1] done processing\n",
      "13:24:24 - cmdstanpy - INFO - Chain [1] done processing\n",
      "13:24:25 - cmdstanpy - INFO - Chain [1] done processing\n",
      "13:24:25 - cmdstanpy - INFO - Chain [1] done processing\n",
      "13:24:26 - cmdstanpy - INFO - Chain [1] done processing\n"
     ]
    },
    {
     "name": "stdout",
     "output_type": "stream",
     "text": [
      "{'changepoint_prior_scale': 0.30100000000000005, 'holidays_prior_scale': 7.51, 'seasonality_mode': 'additive', 'seasonality_prior_scale': 7.51}\n"
     ]
    },
    {
     "name": "stderr",
     "output_type": "stream",
     "text": [
      "13:24:27 - cmdstanpy - INFO - Chain [1] start processing\n",
      "13:24:28 - cmdstanpy - INFO - Chain [1] done processing\n",
      "13:24:29 - cmdstanpy - INFO - Chain [1] start processing\n",
      "13:24:29 - cmdstanpy - INFO - Chain [1] start processing\n",
      "13:24:29 - cmdstanpy - INFO - Chain [1] start processing\n",
      "13:24:29 - cmdstanpy - INFO - Chain [1] start processing\n",
      "13:24:29 - cmdstanpy - INFO - Chain [1] start processing\n",
      "13:24:30 - cmdstanpy - INFO - Chain [1] done processing\n",
      "13:24:30 - cmdstanpy - INFO - Chain [1] done processing\n",
      "13:24:31 - cmdstanpy - INFO - Chain [1] done processing\n",
      "13:24:31 - cmdstanpy - INFO - Chain [1] done processing\n",
      "13:24:32 - cmdstanpy - INFO - Chain [1] done processing\n"
     ]
    },
    {
     "name": "stdout",
     "output_type": "stream",
     "text": [
      "{'changepoint_prior_scale': 0.401, 'holidays_prior_scale': 0.01, 'seasonality_mode': 'multiplicative', 'seasonality_prior_scale': 0.01}\n"
     ]
    },
    {
     "name": "stderr",
     "output_type": "stream",
     "text": [
      "13:24:32 - cmdstanpy - INFO - Chain [1] start processing\n",
      "13:24:35 - cmdstanpy - INFO - Chain [1] done processing\n",
      "13:24:36 - cmdstanpy - INFO - Chain [1] start processing\n",
      "13:24:36 - cmdstanpy - INFO - Chain [1] start processing\n",
      "13:24:37 - cmdstanpy - INFO - Chain [1] start processing\n",
      "13:24:37 - cmdstanpy - INFO - Chain [1] start processing\n",
      "13:24:37 - cmdstanpy - INFO - Chain [1] start processing\n",
      "13:24:37 - cmdstanpy - INFO - Chain [1] done processing\n",
      "13:24:38 - cmdstanpy - INFO - Chain [1] done processing\n",
      "13:24:39 - cmdstanpy - INFO - Chain [1] done processing\n",
      "13:24:39 - cmdstanpy - INFO - Chain [1] done processing\n",
      "13:24:40 - cmdstanpy - INFO - Chain [1] done processing\n"
     ]
    },
    {
     "name": "stdout",
     "output_type": "stream",
     "text": [
      "{'changepoint_prior_scale': 0.401, 'holidays_prior_scale': 0.01, 'seasonality_mode': 'multiplicative', 'seasonality_prior_scale': 2.51}\n"
     ]
    },
    {
     "name": "stderr",
     "output_type": "stream",
     "text": [
      "13:24:41 - cmdstanpy - INFO - Chain [1] start processing\n",
      "13:24:43 - cmdstanpy - INFO - Chain [1] done processing\n",
      "13:24:44 - cmdstanpy - INFO - Chain [1] start processing\n",
      "13:24:45 - cmdstanpy - INFO - Chain [1] start processing\n",
      "13:24:45 - cmdstanpy - INFO - Chain [1] start processing\n",
      "13:24:45 - cmdstanpy - INFO - Chain [1] start processing\n",
      "13:24:45 - cmdstanpy - INFO - Chain [1] start processing\n",
      "13:24:46 - cmdstanpy - INFO - Chain [1] done processing\n",
      "13:24:47 - cmdstanpy - INFO - Chain [1] done processing\n",
      "13:24:47 - cmdstanpy - INFO - Chain [1] done processing\n",
      "13:24:48 - cmdstanpy - INFO - Chain [1] done processing\n",
      "13:24:48 - cmdstanpy - INFO - Chain [1] done processing\n"
     ]
    },
    {
     "name": "stdout",
     "output_type": "stream",
     "text": [
      "{'changepoint_prior_scale': 0.401, 'holidays_prior_scale': 0.01, 'seasonality_mode': 'multiplicative', 'seasonality_prior_scale': 5.01}\n"
     ]
    },
    {
     "name": "stderr",
     "output_type": "stream",
     "text": [
      "13:24:49 - cmdstanpy - INFO - Chain [1] start processing\n",
      "13:24:51 - cmdstanpy - INFO - Chain [1] done processing\n",
      "13:24:52 - cmdstanpy - INFO - Chain [1] start processing\n",
      "13:24:52 - cmdstanpy - INFO - Chain [1] start processing\n",
      "13:24:52 - cmdstanpy - INFO - Chain [1] start processing\n",
      "13:24:53 - cmdstanpy - INFO - Chain [1] start processing\n",
      "13:24:53 - cmdstanpy - INFO - Chain [1] start processing\n",
      "13:24:53 - cmdstanpy - INFO - Chain [1] done processing\n",
      "13:24:54 - cmdstanpy - INFO - Chain [1] done processing\n",
      "13:24:55 - cmdstanpy - INFO - Chain [1] done processing\n",
      "13:24:55 - cmdstanpy - INFO - Chain [1] done processing\n",
      "13:24:56 - cmdstanpy - INFO - Chain [1] done processing\n"
     ]
    },
    {
     "name": "stdout",
     "output_type": "stream",
     "text": [
      "{'changepoint_prior_scale': 0.401, 'holidays_prior_scale': 0.01, 'seasonality_mode': 'multiplicative', 'seasonality_prior_scale': 7.51}\n"
     ]
    },
    {
     "name": "stderr",
     "output_type": "stream",
     "text": [
      "13:24:57 - cmdstanpy - INFO - Chain [1] start processing\n",
      "13:24:59 - cmdstanpy - INFO - Chain [1] done processing\n",
      "13:25:00 - cmdstanpy - INFO - Chain [1] start processing\n",
      "13:25:00 - cmdstanpy - INFO - Chain [1] start processing\n",
      "13:25:00 - cmdstanpy - INFO - Chain [1] start processing\n",
      "13:25:01 - cmdstanpy - INFO - Chain [1] start processing\n",
      "13:25:01 - cmdstanpy - INFO - Chain [1] start processing\n",
      "13:25:01 - cmdstanpy - INFO - Chain [1] done processing\n",
      "13:25:03 - cmdstanpy - INFO - Chain [1] done processing\n",
      "13:25:03 - cmdstanpy - INFO - Chain [1] done processing\n",
      "13:25:03 - cmdstanpy - INFO - Chain [1] done processing\n",
      "13:25:05 - cmdstanpy - INFO - Chain [1] done processing\n"
     ]
    },
    {
     "name": "stdout",
     "output_type": "stream",
     "text": [
      "{'changepoint_prior_scale': 0.401, 'holidays_prior_scale': 0.01, 'seasonality_mode': 'additive', 'seasonality_prior_scale': 0.01}\n"
     ]
    },
    {
     "name": "stderr",
     "output_type": "stream",
     "text": [
      "13:25:06 - cmdstanpy - INFO - Chain [1] start processing\n",
      "13:25:06 - cmdstanpy - INFO - Chain [1] done processing\n",
      "13:25:08 - cmdstanpy - INFO - Chain [1] start processing\n",
      "13:25:08 - cmdstanpy - INFO - Chain [1] start processing\n",
      "13:25:08 - cmdstanpy - INFO - Chain [1] start processing\n",
      "13:25:08 - cmdstanpy - INFO - Chain [1] start processing\n",
      "13:25:08 - cmdstanpy - INFO - Chain [1] start processing\n",
      "13:25:08 - cmdstanpy - INFO - Chain [1] done processing\n",
      "13:25:09 - cmdstanpy - INFO - Chain [1] done processing\n",
      "13:25:10 - cmdstanpy - INFO - Chain [1] done processing\n",
      "13:25:10 - cmdstanpy - INFO - Chain [1] done processing\n",
      "13:25:10 - cmdstanpy - INFO - Chain [1] done processing\n"
     ]
    },
    {
     "name": "stdout",
     "output_type": "stream",
     "text": [
      "{'changepoint_prior_scale': 0.401, 'holidays_prior_scale': 0.01, 'seasonality_mode': 'additive', 'seasonality_prior_scale': 2.51}\n"
     ]
    },
    {
     "name": "stderr",
     "output_type": "stream",
     "text": [
      "13:25:11 - cmdstanpy - INFO - Chain [1] start processing\n",
      "13:25:12 - cmdstanpy - INFO - Chain [1] done processing\n",
      "13:25:13 - cmdstanpy - INFO - Chain [1] start processing\n",
      "13:25:14 - cmdstanpy - INFO - Chain [1] start processing\n",
      "13:25:14 - cmdstanpy - INFO - Chain [1] start processing\n",
      "13:25:14 - cmdstanpy - INFO - Chain [1] start processing\n",
      "13:25:14 - cmdstanpy - INFO - Chain [1] start processing\n",
      "13:25:14 - cmdstanpy - INFO - Chain [1] done processing\n",
      "13:25:14 - cmdstanpy - INFO - Chain [1] done processing\n",
      "13:25:15 - cmdstanpy - INFO - Chain [1] done processing\n",
      "13:25:16 - cmdstanpy - INFO - Chain [1] done processing\n",
      "13:25:16 - cmdstanpy - INFO - Chain [1] done processing\n"
     ]
    },
    {
     "name": "stdout",
     "output_type": "stream",
     "text": [
      "{'changepoint_prior_scale': 0.401, 'holidays_prior_scale': 0.01, 'seasonality_mode': 'additive', 'seasonality_prior_scale': 5.01}\n"
     ]
    },
    {
     "name": "stderr",
     "output_type": "stream",
     "text": [
      "13:25:16 - cmdstanpy - INFO - Chain [1] start processing\n",
      "13:25:17 - cmdstanpy - INFO - Chain [1] done processing\n",
      "13:25:19 - cmdstanpy - INFO - Chain [1] start processing\n",
      "13:25:19 - cmdstanpy - INFO - Chain [1] start processing\n",
      "13:25:19 - cmdstanpy - INFO - Chain [1] start processing\n",
      "13:25:19 - cmdstanpy - INFO - Chain [1] start processing\n",
      "13:25:19 - cmdstanpy - INFO - Chain [1] start processing\n",
      "13:25:19 - cmdstanpy - INFO - Chain [1] done processing\n",
      "13:25:20 - cmdstanpy - INFO - Chain [1] done processing\n",
      "13:25:20 - cmdstanpy - INFO - Chain [1] done processing\n",
      "13:25:21 - cmdstanpy - INFO - Chain [1] done processing\n",
      "13:25:21 - cmdstanpy - INFO - Chain [1] done processing\n"
     ]
    },
    {
     "name": "stdout",
     "output_type": "stream",
     "text": [
      "{'changepoint_prior_scale': 0.401, 'holidays_prior_scale': 0.01, 'seasonality_mode': 'additive', 'seasonality_prior_scale': 7.51}\n"
     ]
    },
    {
     "name": "stderr",
     "output_type": "stream",
     "text": [
      "13:25:22 - cmdstanpy - INFO - Chain [1] start processing\n",
      "13:25:23 - cmdstanpy - INFO - Chain [1] done processing\n",
      "13:25:24 - cmdstanpy - INFO - Chain [1] start processing\n",
      "13:25:24 - cmdstanpy - INFO - Chain [1] start processing\n",
      "13:25:24 - cmdstanpy - INFO - Chain [1] start processing\n",
      "13:25:24 - cmdstanpy - INFO - Chain [1] start processing\n",
      "13:25:24 - cmdstanpy - INFO - Chain [1] start processing\n",
      "13:25:24 - cmdstanpy - INFO - Chain [1] done processing\n",
      "13:25:25 - cmdstanpy - INFO - Chain [1] done processing\n",
      "13:25:26 - cmdstanpy - INFO - Chain [1] done processing\n",
      "13:25:26 - cmdstanpy - INFO - Chain [1] done processing\n",
      "13:25:26 - cmdstanpy - INFO - Chain [1] done processing\n"
     ]
    },
    {
     "name": "stdout",
     "output_type": "stream",
     "text": [
      "{'changepoint_prior_scale': 0.401, 'holidays_prior_scale': 2.51, 'seasonality_mode': 'multiplicative', 'seasonality_prior_scale': 0.01}\n"
     ]
    },
    {
     "name": "stderr",
     "output_type": "stream",
     "text": [
      "13:25:27 - cmdstanpy - INFO - Chain [1] start processing\n",
      "13:25:29 - cmdstanpy - INFO - Chain [1] done processing\n",
      "13:25:30 - cmdstanpy - INFO - Chain [1] start processing\n",
      "13:25:30 - cmdstanpy - INFO - Chain [1] start processing\n",
      "13:25:30 - cmdstanpy - INFO - Chain [1] start processing\n",
      "13:25:30 - cmdstanpy - INFO - Chain [1] start processing\n",
      "13:25:30 - cmdstanpy - INFO - Chain [1] start processing\n",
      "13:25:31 - cmdstanpy - INFO - Chain [1] done processing\n",
      "13:25:31 - cmdstanpy - INFO - Chain [1] done processing\n",
      "13:25:32 - cmdstanpy - INFO - Chain [1] done processing\n",
      "13:25:33 - cmdstanpy - INFO - Chain [1] done processing\n",
      "13:25:34 - cmdstanpy - INFO - Chain [1] done processing\n"
     ]
    },
    {
     "name": "stdout",
     "output_type": "stream",
     "text": [
      "{'changepoint_prior_scale': 0.401, 'holidays_prior_scale': 2.51, 'seasonality_mode': 'multiplicative', 'seasonality_prior_scale': 2.51}\n"
     ]
    },
    {
     "name": "stderr",
     "output_type": "stream",
     "text": [
      "13:25:34 - cmdstanpy - INFO - Chain [1] start processing\n",
      "13:25:36 - cmdstanpy - INFO - Chain [1] done processing\n",
      "13:25:38 - cmdstanpy - INFO - Chain [1] start processing\n",
      "13:25:38 - cmdstanpy - INFO - Chain [1] start processing\n",
      "13:25:38 - cmdstanpy - INFO - Chain [1] start processing\n",
      "13:25:38 - cmdstanpy - INFO - Chain [1] start processing\n",
      "13:25:38 - cmdstanpy - INFO - Chain [1] start processing\n",
      "13:25:39 - cmdstanpy - INFO - Chain [1] done processing\n",
      "13:25:39 - cmdstanpy - INFO - Chain [1] done processing\n",
      "13:25:40 - cmdstanpy - INFO - Chain [1] done processing\n",
      "13:25:40 - cmdstanpy - INFO - Chain [1] done processing\n",
      "13:25:41 - cmdstanpy - INFO - Chain [1] done processing\n"
     ]
    },
    {
     "name": "stdout",
     "output_type": "stream",
     "text": [
      "{'changepoint_prior_scale': 0.401, 'holidays_prior_scale': 2.51, 'seasonality_mode': 'multiplicative', 'seasonality_prior_scale': 5.01}\n"
     ]
    },
    {
     "name": "stderr",
     "output_type": "stream",
     "text": [
      "13:25:41 - cmdstanpy - INFO - Chain [1] start processing\n",
      "13:25:43 - cmdstanpy - INFO - Chain [1] done processing\n",
      "13:25:45 - cmdstanpy - INFO - Chain [1] start processing\n",
      "13:25:45 - cmdstanpy - INFO - Chain [1] start processing\n",
      "13:25:45 - cmdstanpy - INFO - Chain [1] start processing\n",
      "13:25:45 - cmdstanpy - INFO - Chain [1] start processing\n",
      "13:25:45 - cmdstanpy - INFO - Chain [1] start processing\n",
      "13:25:46 - cmdstanpy - INFO - Chain [1] done processing\n",
      "13:25:46 - cmdstanpy - INFO - Chain [1] done processing\n",
      "13:25:47 - cmdstanpy - INFO - Chain [1] done processing\n",
      "13:25:48 - cmdstanpy - INFO - Chain [1] done processing\n",
      "13:25:48 - cmdstanpy - INFO - Chain [1] done processing\n"
     ]
    },
    {
     "name": "stdout",
     "output_type": "stream",
     "text": [
      "{'changepoint_prior_scale': 0.401, 'holidays_prior_scale': 2.51, 'seasonality_mode': 'multiplicative', 'seasonality_prior_scale': 7.51}\n"
     ]
    },
    {
     "name": "stderr",
     "output_type": "stream",
     "text": [
      "13:25:49 - cmdstanpy - INFO - Chain [1] start processing\n",
      "13:25:50 - cmdstanpy - INFO - Chain [1] done processing\n",
      "13:25:52 - cmdstanpy - INFO - Chain [1] start processing\n",
      "13:25:52 - cmdstanpy - INFO - Chain [1] start processing\n",
      "13:25:52 - cmdstanpy - INFO - Chain [1] start processing\n",
      "13:25:52 - cmdstanpy - INFO - Chain [1] start processing\n",
      "13:25:52 - cmdstanpy - INFO - Chain [1] start processing\n",
      "13:25:53 - cmdstanpy - INFO - Chain [1] done processing\n",
      "13:25:54 - cmdstanpy - INFO - Chain [1] done processing\n",
      "13:25:54 - cmdstanpy - INFO - Chain [1] done processing\n",
      "13:25:55 - cmdstanpy - INFO - Chain [1] done processing\n",
      "13:25:55 - cmdstanpy - INFO - Chain [1] done processing\n"
     ]
    },
    {
     "name": "stdout",
     "output_type": "stream",
     "text": [
      "{'changepoint_prior_scale': 0.401, 'holidays_prior_scale': 2.51, 'seasonality_mode': 'additive', 'seasonality_prior_scale': 0.01}\n"
     ]
    },
    {
     "name": "stderr",
     "output_type": "stream",
     "text": [
      "13:25:56 - cmdstanpy - INFO - Chain [1] start processing\n",
      "13:25:57 - cmdstanpy - INFO - Chain [1] done processing\n",
      "13:25:58 - cmdstanpy - INFO - Chain [1] start processing\n",
      "13:25:58 - cmdstanpy - INFO - Chain [1] start processing\n",
      "13:25:58 - cmdstanpy - INFO - Chain [1] start processing\n",
      "13:25:58 - cmdstanpy - INFO - Chain [1] start processing\n",
      "13:25:59 - cmdstanpy - INFO - Chain [1] start processing\n",
      "13:25:59 - cmdstanpy - INFO - Chain [1] done processing\n",
      "13:25:59 - cmdstanpy - INFO - Chain [1] done processing\n",
      "13:26:00 - cmdstanpy - INFO - Chain [1] done processing\n",
      "13:26:01 - cmdstanpy - INFO - Chain [1] done processing\n",
      "13:26:01 - cmdstanpy - INFO - Chain [1] done processing\n"
     ]
    },
    {
     "name": "stdout",
     "output_type": "stream",
     "text": [
      "{'changepoint_prior_scale': 0.401, 'holidays_prior_scale': 2.51, 'seasonality_mode': 'additive', 'seasonality_prior_scale': 2.51}\n"
     ]
    },
    {
     "name": "stderr",
     "output_type": "stream",
     "text": [
      "13:26:02 - cmdstanpy - INFO - Chain [1] start processing\n",
      "13:26:03 - cmdstanpy - INFO - Chain [1] done processing\n",
      "13:26:04 - cmdstanpy - INFO - Chain [1] start processing\n",
      "13:26:04 - cmdstanpy - INFO - Chain [1] start processing\n",
      "13:26:04 - cmdstanpy - INFO - Chain [1] start processing\n",
      "13:26:04 - cmdstanpy - INFO - Chain [1] start processing\n",
      "13:26:04 - cmdstanpy - INFO - Chain [1] start processing\n",
      "13:26:05 - cmdstanpy - INFO - Chain [1] done processing\n",
      "13:26:05 - cmdstanpy - INFO - Chain [1] done processing\n",
      "13:26:06 - cmdstanpy - INFO - Chain [1] done processing\n",
      "13:26:06 - cmdstanpy - INFO - Chain [1] done processing\n",
      "13:26:06 - cmdstanpy - INFO - Chain [1] done processing\n"
     ]
    },
    {
     "name": "stdout",
     "output_type": "stream",
     "text": [
      "{'changepoint_prior_scale': 0.401, 'holidays_prior_scale': 2.51, 'seasonality_mode': 'additive', 'seasonality_prior_scale': 5.01}\n"
     ]
    },
    {
     "name": "stderr",
     "output_type": "stream",
     "text": [
      "13:26:08 - cmdstanpy - INFO - Chain [1] start processing\n",
      "13:26:09 - cmdstanpy - INFO - Chain [1] done processing\n",
      "13:26:10 - cmdstanpy - INFO - Chain [1] start processing\n",
      "13:26:10 - cmdstanpy - INFO - Chain [1] start processing\n",
      "13:26:10 - cmdstanpy - INFO - Chain [1] start processing\n",
      "13:26:10 - cmdstanpy - INFO - Chain [1] start processing\n",
      "13:26:10 - cmdstanpy - INFO - Chain [1] start processing\n",
      "13:26:10 - cmdstanpy - INFO - Chain [1] done processing\n",
      "13:26:11 - cmdstanpy - INFO - Chain [1] done processing\n",
      "13:26:12 - cmdstanpy - INFO - Chain [1] done processing\n",
      "13:26:12 - cmdstanpy - INFO - Chain [1] done processing\n",
      "13:26:12 - cmdstanpy - INFO - Chain [1] done processing\n"
     ]
    },
    {
     "name": "stdout",
     "output_type": "stream",
     "text": [
      "{'changepoint_prior_scale': 0.401, 'holidays_prior_scale': 2.51, 'seasonality_mode': 'additive', 'seasonality_prior_scale': 7.51}\n"
     ]
    },
    {
     "name": "stderr",
     "output_type": "stream",
     "text": [
      "13:26:14 - cmdstanpy - INFO - Chain [1] start processing\n",
      "13:26:15 - cmdstanpy - INFO - Chain [1] done processing\n",
      "13:26:16 - cmdstanpy - INFO - Chain [1] start processing\n",
      "13:26:16 - cmdstanpy - INFO - Chain [1] start processing\n",
      "13:26:16 - cmdstanpy - INFO - Chain [1] start processing\n",
      "13:26:16 - cmdstanpy - INFO - Chain [1] start processing\n",
      "13:26:17 - cmdstanpy - INFO - Chain [1] start processing\n",
      "13:26:17 - cmdstanpy - INFO - Chain [1] done processing\n",
      "13:26:17 - cmdstanpy - INFO - Chain [1] done processing\n",
      "13:26:18 - cmdstanpy - INFO - Chain [1] done processing\n",
      "13:26:19 - cmdstanpy - INFO - Chain [1] done processing\n",
      "13:26:19 - cmdstanpy - INFO - Chain [1] done processing\n"
     ]
    },
    {
     "name": "stdout",
     "output_type": "stream",
     "text": [
      "{'changepoint_prior_scale': 0.401, 'holidays_prior_scale': 5.01, 'seasonality_mode': 'multiplicative', 'seasonality_prior_scale': 0.01}\n"
     ]
    },
    {
     "name": "stderr",
     "output_type": "stream",
     "text": [
      "13:26:20 - cmdstanpy - INFO - Chain [1] start processing\n",
      "13:26:21 - cmdstanpy - INFO - Chain [1] done processing\n",
      "13:26:23 - cmdstanpy - INFO - Chain [1] start processing\n",
      "13:26:23 - cmdstanpy - INFO - Chain [1] start processing\n",
      "13:26:23 - cmdstanpy - INFO - Chain [1] start processing\n",
      "13:26:23 - cmdstanpy - INFO - Chain [1] start processing\n",
      "13:26:23 - cmdstanpy - INFO - Chain [1] start processing\n",
      "13:26:24 - cmdstanpy - INFO - Chain [1] done processing\n",
      "13:26:25 - cmdstanpy - INFO - Chain [1] done processing\n",
      "13:26:25 - cmdstanpy - INFO - Chain [1] done processing\n",
      "13:26:26 - cmdstanpy - INFO - Chain [1] done processing\n",
      "13:26:26 - cmdstanpy - INFO - Chain [1] done processing\n"
     ]
    },
    {
     "name": "stdout",
     "output_type": "stream",
     "text": [
      "{'changepoint_prior_scale': 0.401, 'holidays_prior_scale': 5.01, 'seasonality_mode': 'multiplicative', 'seasonality_prior_scale': 2.51}\n"
     ]
    },
    {
     "name": "stderr",
     "output_type": "stream",
     "text": [
      "13:26:27 - cmdstanpy - INFO - Chain [1] start processing\n",
      "13:26:29 - cmdstanpy - INFO - Chain [1] done processing\n",
      "13:26:31 - cmdstanpy - INFO - Chain [1] start processing\n",
      "13:26:31 - cmdstanpy - INFO - Chain [1] start processing\n",
      "13:26:31 - cmdstanpy - INFO - Chain [1] start processing\n",
      "13:26:31 - cmdstanpy - INFO - Chain [1] start processing\n",
      "13:26:31 - cmdstanpy - INFO - Chain [1] start processing\n",
      "13:26:32 - cmdstanpy - INFO - Chain [1] done processing\n",
      "13:26:33 - cmdstanpy - INFO - Chain [1] done processing\n",
      "13:26:34 - cmdstanpy - INFO - Chain [1] done processing\n",
      "13:26:34 - cmdstanpy - INFO - Chain [1] done processing\n",
      "13:26:34 - cmdstanpy - INFO - Chain [1] done processing\n"
     ]
    },
    {
     "name": "stdout",
     "output_type": "stream",
     "text": [
      "{'changepoint_prior_scale': 0.401, 'holidays_prior_scale': 5.01, 'seasonality_mode': 'multiplicative', 'seasonality_prior_scale': 5.01}\n"
     ]
    },
    {
     "name": "stderr",
     "output_type": "stream",
     "text": [
      "13:26:35 - cmdstanpy - INFO - Chain [1] start processing\n",
      "13:26:37 - cmdstanpy - INFO - Chain [1] done processing\n",
      "13:26:39 - cmdstanpy - INFO - Chain [1] start processing\n",
      "13:26:39 - cmdstanpy - INFO - Chain [1] start processing\n",
      "13:26:39 - cmdstanpy - INFO - Chain [1] start processing\n",
      "13:26:39 - cmdstanpy - INFO - Chain [1] start processing\n",
      "13:26:39 - cmdstanpy - INFO - Chain [1] start processing\n",
      "13:26:40 - cmdstanpy - INFO - Chain [1] done processing\n",
      "13:26:41 - cmdstanpy - INFO - Chain [1] done processing\n",
      "13:26:41 - cmdstanpy - INFO - Chain [1] done processing\n",
      "13:26:42 - cmdstanpy - INFO - Chain [1] done processing\n",
      "13:26:42 - cmdstanpy - INFO - Chain [1] done processing\n"
     ]
    },
    {
     "name": "stdout",
     "output_type": "stream",
     "text": [
      "{'changepoint_prior_scale': 0.401, 'holidays_prior_scale': 5.01, 'seasonality_mode': 'multiplicative', 'seasonality_prior_scale': 7.51}\n"
     ]
    },
    {
     "name": "stderr",
     "output_type": "stream",
     "text": [
      "13:26:43 - cmdstanpy - INFO - Chain [1] start processing\n",
      "13:26:46 - cmdstanpy - INFO - Chain [1] done processing\n",
      "13:26:47 - cmdstanpy - INFO - Chain [1] start processing\n",
      "13:26:47 - cmdstanpy - INFO - Chain [1] start processing\n",
      "13:26:47 - cmdstanpy - INFO - Chain [1] start processing\n",
      "13:26:47 - cmdstanpy - INFO - Chain [1] start processing\n",
      "13:26:47 - cmdstanpy - INFO - Chain [1] start processing\n",
      "13:26:48 - cmdstanpy - INFO - Chain [1] done processing\n",
      "13:26:49 - cmdstanpy - INFO - Chain [1] done processing\n",
      "13:26:50 - cmdstanpy - INFO - Chain [1] done processing\n",
      "13:26:50 - cmdstanpy - INFO - Chain [1] done processing\n",
      "13:26:51 - cmdstanpy - INFO - Chain [1] done processing\n"
     ]
    },
    {
     "name": "stdout",
     "output_type": "stream",
     "text": [
      "{'changepoint_prior_scale': 0.401, 'holidays_prior_scale': 5.01, 'seasonality_mode': 'additive', 'seasonality_prior_scale': 0.01}\n"
     ]
    },
    {
     "name": "stderr",
     "output_type": "stream",
     "text": [
      "13:26:51 - cmdstanpy - INFO - Chain [1] start processing\n",
      "13:26:52 - cmdstanpy - INFO - Chain [1] done processing\n",
      "13:26:54 - cmdstanpy - INFO - Chain [1] start processing\n",
      "13:26:54 - cmdstanpy - INFO - Chain [1] start processing\n",
      "13:26:54 - cmdstanpy - INFO - Chain [1] start processing\n",
      "13:26:54 - cmdstanpy - INFO - Chain [1] start processing\n",
      "13:26:54 - cmdstanpy - INFO - Chain [1] start processing\n",
      "13:26:54 - cmdstanpy - INFO - Chain [1] done processing\n",
      "13:26:55 - cmdstanpy - INFO - Chain [1] done processing\n",
      "13:26:56 - cmdstanpy - INFO - Chain [1] done processing\n",
      "13:26:56 - cmdstanpy - INFO - Chain [1] done processing\n",
      "13:26:57 - cmdstanpy - INFO - Chain [1] done processing\n"
     ]
    },
    {
     "name": "stdout",
     "output_type": "stream",
     "text": [
      "{'changepoint_prior_scale': 0.401, 'holidays_prior_scale': 5.01, 'seasonality_mode': 'additive', 'seasonality_prior_scale': 2.51}\n"
     ]
    },
    {
     "name": "stderr",
     "output_type": "stream",
     "text": [
      "13:26:57 - cmdstanpy - INFO - Chain [1] start processing\n",
      "13:26:58 - cmdstanpy - INFO - Chain [1] done processing\n",
      "13:27:00 - cmdstanpy - INFO - Chain [1] start processing\n",
      "13:27:00 - cmdstanpy - INFO - Chain [1] start processing\n",
      "13:27:00 - cmdstanpy - INFO - Chain [1] start processing\n",
      "13:27:00 - cmdstanpy - INFO - Chain [1] start processing\n",
      "13:27:00 - cmdstanpy - INFO - Chain [1] start processing\n",
      "13:27:00 - cmdstanpy - INFO - Chain [1] done processing\n",
      "13:27:01 - cmdstanpy - INFO - Chain [1] done processing\n",
      "13:27:02 - cmdstanpy - INFO - Chain [1] done processing\n",
      "13:27:02 - cmdstanpy - INFO - Chain [1] done processing\n",
      "13:27:02 - cmdstanpy - INFO - Chain [1] done processing\n"
     ]
    },
    {
     "name": "stdout",
     "output_type": "stream",
     "text": [
      "{'changepoint_prior_scale': 0.401, 'holidays_prior_scale': 5.01, 'seasonality_mode': 'additive', 'seasonality_prior_scale': 5.01}\n"
     ]
    },
    {
     "name": "stderr",
     "output_type": "stream",
     "text": [
      "13:27:03 - cmdstanpy - INFO - Chain [1] start processing\n",
      "13:27:04 - cmdstanpy - INFO - Chain [1] done processing\n",
      "13:27:06 - cmdstanpy - INFO - Chain [1] start processing\n",
      "13:27:06 - cmdstanpy - INFO - Chain [1] start processing\n",
      "13:27:06 - cmdstanpy - INFO - Chain [1] start processing\n",
      "13:27:06 - cmdstanpy - INFO - Chain [1] start processing\n",
      "13:27:06 - cmdstanpy - INFO - Chain [1] start processing\n",
      "13:27:06 - cmdstanpy - INFO - Chain [1] done processing\n",
      "13:27:07 - cmdstanpy - INFO - Chain [1] done processing\n",
      "13:27:07 - cmdstanpy - INFO - Chain [1] done processing\n",
      "13:27:08 - cmdstanpy - INFO - Chain [1] done processing\n",
      "13:27:09 - cmdstanpy - INFO - Chain [1] done processing\n"
     ]
    },
    {
     "name": "stdout",
     "output_type": "stream",
     "text": [
      "{'changepoint_prior_scale': 0.401, 'holidays_prior_scale': 5.01, 'seasonality_mode': 'additive', 'seasonality_prior_scale': 7.51}\n"
     ]
    },
    {
     "name": "stderr",
     "output_type": "stream",
     "text": [
      "13:27:09 - cmdstanpy - INFO - Chain [1] start processing\n",
      "13:27:10 - cmdstanpy - INFO - Chain [1] done processing\n",
      "13:27:12 - cmdstanpy - INFO - Chain [1] start processing\n",
      "13:27:12 - cmdstanpy - INFO - Chain [1] start processing\n",
      "13:27:12 - cmdstanpy - INFO - Chain [1] start processing\n",
      "13:27:12 - cmdstanpy - INFO - Chain [1] start processing\n",
      "13:27:12 - cmdstanpy - INFO - Chain [1] done processing\n",
      "13:27:12 - cmdstanpy - INFO - Chain [1] start processing\n",
      "13:27:13 - cmdstanpy - INFO - Chain [1] done processing\n",
      "13:27:14 - cmdstanpy - INFO - Chain [1] done processing\n",
      "13:27:14 - cmdstanpy - INFO - Chain [1] done processing\n",
      "13:27:14 - cmdstanpy - INFO - Chain [1] done processing\n"
     ]
    },
    {
     "name": "stdout",
     "output_type": "stream",
     "text": [
      "{'changepoint_prior_scale': 0.401, 'holidays_prior_scale': 7.51, 'seasonality_mode': 'multiplicative', 'seasonality_prior_scale': 0.01}\n"
     ]
    },
    {
     "name": "stderr",
     "output_type": "stream",
     "text": [
      "13:27:15 - cmdstanpy - INFO - Chain [1] start processing\n",
      "13:27:17 - cmdstanpy - INFO - Chain [1] done processing\n",
      "13:27:18 - cmdstanpy - INFO - Chain [1] start processing\n",
      "13:27:18 - cmdstanpy - INFO - Chain [1] start processing\n",
      "13:27:19 - cmdstanpy - INFO - Chain [1] start processing\n",
      "13:27:19 - cmdstanpy - INFO - Chain [1] start processing\n",
      "13:27:19 - cmdstanpy - INFO - Chain [1] start processing\n",
      "13:27:19 - cmdstanpy - INFO - Chain [1] done processing\n",
      "13:27:20 - cmdstanpy - INFO - Chain [1] done processing\n",
      "13:27:21 - cmdstanpy - INFO - Chain [1] done processing\n",
      "13:27:21 - cmdstanpy - INFO - Chain [1] done processing\n",
      "13:27:22 - cmdstanpy - INFO - Chain [1] done processing\n"
     ]
    },
    {
     "name": "stdout",
     "output_type": "stream",
     "text": [
      "{'changepoint_prior_scale': 0.401, 'holidays_prior_scale': 7.51, 'seasonality_mode': 'multiplicative', 'seasonality_prior_scale': 2.51}\n"
     ]
    },
    {
     "name": "stderr",
     "output_type": "stream",
     "text": [
      "13:27:23 - cmdstanpy - INFO - Chain [1] start processing\n",
      "13:27:26 - cmdstanpy - INFO - Chain [1] done processing\n",
      "13:27:27 - cmdstanpy - INFO - Chain [1] start processing\n",
      "13:27:27 - cmdstanpy - INFO - Chain [1] start processing\n",
      "13:27:27 - cmdstanpy - INFO - Chain [1] start processing\n",
      "13:27:27 - cmdstanpy - INFO - Chain [1] start processing\n",
      "13:27:28 - cmdstanpy - INFO - Chain [1] start processing\n",
      "13:27:28 - cmdstanpy - INFO - Chain [1] done processing\n",
      "13:27:29 - cmdstanpy - INFO - Chain [1] done processing\n",
      "13:27:30 - cmdstanpy - INFO - Chain [1] done processing\n",
      "13:27:30 - cmdstanpy - INFO - Chain [1] done processing\n",
      "13:27:31 - cmdstanpy - INFO - Chain [1] done processing\n"
     ]
    },
    {
     "name": "stdout",
     "output_type": "stream",
     "text": [
      "{'changepoint_prior_scale': 0.401, 'holidays_prior_scale': 7.51, 'seasonality_mode': 'multiplicative', 'seasonality_prior_scale': 5.01}\n"
     ]
    },
    {
     "name": "stderr",
     "output_type": "stream",
     "text": [
      "13:27:32 - cmdstanpy - INFO - Chain [1] start processing\n",
      "13:27:34 - cmdstanpy - INFO - Chain [1] done processing\n",
      "13:27:35 - cmdstanpy - INFO - Chain [1] start processing\n",
      "13:27:35 - cmdstanpy - INFO - Chain [1] start processing\n",
      "13:27:35 - cmdstanpy - INFO - Chain [1] start processing\n",
      "13:27:35 - cmdstanpy - INFO - Chain [1] start processing\n",
      "13:27:35 - cmdstanpy - INFO - Chain [1] start processing\n",
      "13:27:36 - cmdstanpy - INFO - Chain [1] done processing\n",
      "13:27:38 - cmdstanpy - INFO - Chain [1] done processing\n",
      "13:27:38 - cmdstanpy - INFO - Chain [1] done processing\n",
      "13:27:39 - cmdstanpy - INFO - Chain [1] done processing\n",
      "13:27:39 - cmdstanpy - INFO - Chain [1] done processing\n"
     ]
    },
    {
     "name": "stdout",
     "output_type": "stream",
     "text": [
      "{'changepoint_prior_scale': 0.401, 'holidays_prior_scale': 7.51, 'seasonality_mode': 'multiplicative', 'seasonality_prior_scale': 7.51}\n"
     ]
    },
    {
     "name": "stderr",
     "output_type": "stream",
     "text": [
      "13:27:40 - cmdstanpy - INFO - Chain [1] start processing\n",
      "13:27:42 - cmdstanpy - INFO - Chain [1] done processing\n",
      "13:27:43 - cmdstanpy - INFO - Chain [1] start processing\n",
      "13:27:43 - cmdstanpy - INFO - Chain [1] start processing\n",
      "13:27:44 - cmdstanpy - INFO - Chain [1] start processing\n",
      "13:27:44 - cmdstanpy - INFO - Chain [1] start processing\n",
      "13:27:44 - cmdstanpy - INFO - Chain [1] start processing\n",
      "13:27:44 - cmdstanpy - INFO - Chain [1] done processing\n",
      "13:27:45 - cmdstanpy - INFO - Chain [1] done processing\n",
      "13:27:46 - cmdstanpy - INFO - Chain [1] done processing\n",
      "13:27:46 - cmdstanpy - INFO - Chain [1] done processing\n",
      "13:27:47 - cmdstanpy - INFO - Chain [1] done processing\n"
     ]
    },
    {
     "name": "stdout",
     "output_type": "stream",
     "text": [
      "{'changepoint_prior_scale': 0.401, 'holidays_prior_scale': 7.51, 'seasonality_mode': 'additive', 'seasonality_prior_scale': 0.01}\n"
     ]
    },
    {
     "name": "stderr",
     "output_type": "stream",
     "text": [
      "13:27:48 - cmdstanpy - INFO - Chain [1] start processing\n",
      "13:27:49 - cmdstanpy - INFO - Chain [1] done processing\n",
      "13:27:50 - cmdstanpy - INFO - Chain [1] start processing\n",
      "13:27:50 - cmdstanpy - INFO - Chain [1] start processing\n",
      "13:27:50 - cmdstanpy - INFO - Chain [1] start processing\n",
      "13:27:50 - cmdstanpy - INFO - Chain [1] start processing\n",
      "13:27:50 - cmdstanpy - INFO - Chain [1] start processing\n",
      "13:27:50 - cmdstanpy - INFO - Chain [1] done processing\n",
      "13:27:51 - cmdstanpy - INFO - Chain [1] done processing\n",
      "13:27:52 - cmdstanpy - INFO - Chain [1] done processing\n",
      "13:27:52 - cmdstanpy - INFO - Chain [1] done processing\n",
      "13:27:52 - cmdstanpy - INFO - Chain [1] done processing\n"
     ]
    },
    {
     "name": "stdout",
     "output_type": "stream",
     "text": [
      "{'changepoint_prior_scale': 0.401, 'holidays_prior_scale': 7.51, 'seasonality_mode': 'additive', 'seasonality_prior_scale': 2.51}\n"
     ]
    },
    {
     "name": "stderr",
     "output_type": "stream",
     "text": [
      "13:27:53 - cmdstanpy - INFO - Chain [1] start processing\n",
      "13:27:54 - cmdstanpy - INFO - Chain [1] done processing\n",
      "13:27:55 - cmdstanpy - INFO - Chain [1] start processing\n",
      "13:27:55 - cmdstanpy - INFO - Chain [1] start processing\n",
      "13:27:55 - cmdstanpy - INFO - Chain [1] start processing\n",
      "13:27:56 - cmdstanpy - INFO - Chain [1] start processing\n",
      "13:27:56 - cmdstanpy - INFO - Chain [1] start processing\n",
      "13:27:56 - cmdstanpy - INFO - Chain [1] done processing\n",
      "13:27:57 - cmdstanpy - INFO - Chain [1] done processing\n",
      "13:27:57 - cmdstanpy - INFO - Chain [1] done processing\n",
      "13:27:57 - cmdstanpy - INFO - Chain [1] done processing\n",
      "13:27:58 - cmdstanpy - INFO - Chain [1] done processing\n"
     ]
    },
    {
     "name": "stdout",
     "output_type": "stream",
     "text": [
      "{'changepoint_prior_scale': 0.401, 'holidays_prior_scale': 7.51, 'seasonality_mode': 'additive', 'seasonality_prior_scale': 5.01}\n"
     ]
    },
    {
     "name": "stderr",
     "output_type": "stream",
     "text": [
      "13:27:59 - cmdstanpy - INFO - Chain [1] start processing\n",
      "13:28:00 - cmdstanpy - INFO - Chain [1] done processing\n",
      "13:28:01 - cmdstanpy - INFO - Chain [1] start processing\n",
      "13:28:01 - cmdstanpy - INFO - Chain [1] start processing\n",
      "13:28:01 - cmdstanpy - INFO - Chain [1] start processing\n",
      "13:28:01 - cmdstanpy - INFO - Chain [1] start processing\n",
      "13:28:01 - cmdstanpy - INFO - Chain [1] start processing\n",
      "13:28:01 - cmdstanpy - INFO - Chain [1] done processing\n",
      "13:28:02 - cmdstanpy - INFO - Chain [1] done processing\n",
      "13:28:03 - cmdstanpy - INFO - Chain [1] done processing\n",
      "13:28:03 - cmdstanpy - INFO - Chain [1] done processing\n",
      "13:28:04 - cmdstanpy - INFO - Chain [1] done processing\n"
     ]
    },
    {
     "name": "stdout",
     "output_type": "stream",
     "text": [
      "{'changepoint_prior_scale': 0.401, 'holidays_prior_scale': 7.51, 'seasonality_mode': 'additive', 'seasonality_prior_scale': 7.51}\n"
     ]
    },
    {
     "name": "stderr",
     "output_type": "stream",
     "text": [
      "13:28:05 - cmdstanpy - INFO - Chain [1] start processing\n",
      "13:28:06 - cmdstanpy - INFO - Chain [1] done processing\n",
      "13:28:07 - cmdstanpy - INFO - Chain [1] start processing\n",
      "13:28:07 - cmdstanpy - INFO - Chain [1] start processing\n",
      "13:28:07 - cmdstanpy - INFO - Chain [1] start processing\n",
      "13:28:07 - cmdstanpy - INFO - Chain [1] start processing\n",
      "13:28:07 - cmdstanpy - INFO - Chain [1] start processing\n",
      "13:28:08 - cmdstanpy - INFO - Chain [1] done processing\n",
      "13:28:08 - cmdstanpy - INFO - Chain [1] done processing\n",
      "13:28:09 - cmdstanpy - INFO - Chain [1] done processing\n",
      "13:28:09 - cmdstanpy - INFO - Chain [1] done processing\n"
     ]
    },
    {
     "name": "stdout",
     "output_type": "stream",
     "text": [
      "     changepoint_prior_scale  holidays_prior_scale seasonality_mode  \\\n",
      "0                      0.001                  0.01   multiplicative   \n",
      "1                      0.001                  0.01   multiplicative   \n",
      "2                      0.001                  0.01   multiplicative   \n",
      "3                      0.001                  0.01   multiplicative   \n",
      "4                      0.001                  0.01         additive   \n",
      "..                       ...                   ...              ...   \n",
      "155                    0.401                  7.51   multiplicative   \n",
      "156                    0.401                  7.51         additive   \n",
      "157                    0.401                  7.51         additive   \n",
      "158                    0.401                  7.51         additive   \n",
      "159                    0.401                  7.51         additive   \n",
      "\n",
      "     seasonality_prior_scale      mase  \n",
      "0                       0.01  0.691417  \n",
      "1                       2.51  0.675643  \n",
      "2                       5.01  0.671422  \n",
      "3                       7.51  0.672607  \n",
      "4                       0.01  0.658581  \n",
      "..                       ...       ...  \n",
      "155                     7.51  0.674430  \n",
      "156                     0.01  0.660972  \n",
      "157                     2.51  0.665617  \n",
      "158                     5.01  0.667000  \n",
      "159                     7.51  0.666432  \n",
      "\n",
      "[160 rows x 5 columns]\n"
     ]
    },
    {
     "name": "stderr",
     "output_type": "stream",
     "text": [
      "13:28:10 - cmdstanpy - INFO - Chain [1] done processing\n"
     ]
    }
   ],
   "source": [
    "MASE_list = []\n",
    "best_mase = 100000000\n",
    "best_params = None\n",
    "for p in grid:\n",
    "    train = pd.DataFrame(train_data)\n",
    "    test = pd.DataFrame()\n",
    "    print(p)\n",
    "    random.seed(0)\n",
    "    train_model =Prophet(changepoint_prior_scale = p['changepoint_prior_scale'],\n",
    "                        holidays_prior_scale = p['holidays_prior_scale'],\n",
    "                        seasonality_prior_scale = p['seasonality_prior_scale'],\n",
    "                        seasonality_mode = p['seasonality_mode'],\n",
    "                        weekly_seasonality=True,\n",
    "                        daily_seasonality = True,\n",
    "                        yearly_seasonality = False,\n",
    "                        )\n",
    "    \n",
    "     # add regressors with lags 1 to 24\n",
    "    for i in range(1,25):\n",
    "        train_model.add_regressor('lag'+str(i), standardize=False)\n",
    "        train['lag'+str(i)] = train['y'].shift(i)\n",
    "\n",
    "\n",
    "    train_model.fit(train_data)\n",
    "    \n",
    "    df_cv = cross_validation(train_model, period='60 days', horizon='30 days', parallel=\"processes\")\n",
    "\n",
    "     # X and y to pandas dataframe\n",
    "    X_train = pd.DataFrame(df_cv)\n",
    "\n",
    "    y_true = df_cv['y'].values\n",
    "    #make y_true as dataframe\n",
    "    y_true = pd.DataFrame(y_true)\n",
    "\n",
    "    y_pred = df_cv['yhat'].values\n",
    "    #make y_pred as dataframe\n",
    "    y_pred = pd.DataFrame(y_pred)\n",
    "\n",
    "    MASE_list.append(mean_absolute_scaled_error(y_true, y_pred))\n",
    "    \n",
    "\n",
    "\n",
    "    # print('RMSE:',np.sqrt(MSE))\n",
    "    # RMSE_list.append(np.sqrt(MSE))\n",
    "\n",
    "# Find the best parameters\n",
    "tuning_results = pd.DataFrame(grid)\n",
    "tuning_results['mase'] = MASE_list\n",
    "print(tuning_results)"
   ]
  },
  {
   "cell_type": "code",
   "execution_count": 8,
   "metadata": {},
   "outputs": [
    {
     "name": "stdout",
     "output_type": "stream",
     "text": [
      "Best Parameters {'seasonality_prior_scale': 7.51, 'seasonality_mode': 'additive', 'holidays_prior_scale': 5.01, 'changepoint_prior_scale': 0.001}\n",
      "Best MASE 0.6557632711921638\n",
      "[0.6914172685032114, 0.67564266316579, 0.6714223225535342, 0.6726073832010269, 0.658581358489024, 0.6588521120981858, 0.6571954240510819, 0.6595136047740265, 0.6884526323123822, 0.6876989661994276, 0.6752171145521317, 0.6881034550237619, 0.664133745450748, 0.6586481526656952, 0.6566765351167798, 0.6612089562392371, 0.6883927071014826, 0.6905672440010747, 0.6778874846498911, 0.6884661108425947, 0.6617175344874092, 0.656702142558672, 0.6593279759308187, 0.6557632711921638, 0.6884890049414382, 0.6871321229414536, 0.6872171965939134, 0.688898253798594, 0.6630063650417158, 0.6605816972740084, 0.6614545133932989, 0.6638313210308231, 0.714262052785779, 0.6777382152130499, 0.6777002384942159, 0.6781087640529014, 0.6569395570893807, 0.6604925798417097, 0.6607180378138718, 0.6610631897886385, 0.7052927763221717, 0.6736831803625268, 0.6720878162704533, 0.674102503779231, 0.6569812132018116, 0.6608358738274195, 0.6606461250493397, 0.6612038627024668, 0.7056904929124848, 0.673274664536131, 0.6734715247232347, 0.6731785087158247, 0.6569235783892059, 0.6608400557081616, 0.6606198865771217, 0.6603970917879518, 0.7049393073580937, 0.6735320530091812, 0.6727700312101319, 0.6734036962046053, 0.6566697919829472, 0.6606516574443315, 0.6610394534002535, 0.6607434330772147, 0.7167673084773779, 0.680702393492992, 0.6803026600388419, 0.6807946130165775, 0.6597287595950277, 0.6629373840523871, 0.6635974552101341, 0.6639337491277455, 0.7073559148708966, 0.6754209521862508, 0.6757374108484034, 0.6753849192501311, 0.6602904117548953, 0.663924626909195, 0.6646036875237373, 0.663483336074634, 0.7071342811495093, 0.6755465792907277, 0.6754012763763386, 0.6748763290835885, 0.6598397044139998, 0.6632793858200617, 0.6626429501840799, 0.6644431488569789, 0.7072261996108041, 0.6749511129176402, 0.67550966549427, 0.6754008962980315, 0.6590482433381664, 0.6641978074578941, 0.6639221456274345, 0.6632278299410468, 0.7188045865686934, 0.6816851453584882, 0.6814853689964075, 0.6815316088131197, 0.6615984812001166, 0.6659223006039084, 0.6663217227141889, 0.6644545211646079, 0.7088305182440359, 0.6758499151797438, 0.6753486607479118, 0.6746291964100051, 0.6604051968378425, 0.6647719193328802, 0.6643041535876926, 0.6656997172899479, 0.7085890815336348, 0.675940245002827, 0.6750101051846128, 0.6757973719190892, 0.6601017729453472, 0.6662413721174021, 0.6645813956746156, 0.6655953044077447, 0.7079647607594619, 0.675754122134532, 0.6754143270573106, 0.6750435933726466, 0.6614880549213817, 0.664158856933457, 0.663954625593521, 0.6644245658543165, 0.7191586594422357, 0.6804483742214494, 0.6810421058593418, 0.680528403082763, 0.6616573037547427, 0.6667434861538006, 0.6639261622018623, 0.6652503781609789, 0.7073099115552555, 0.6745532924934271, 0.6745191238979474, 0.6748890341767022, 0.6604571723029603, 0.6656187526760241, 0.6646832643687205, 0.6667466839889656, 0.7080679294819624, 0.674594811794844, 0.6744931185577131, 0.6747237379508386, 0.6607958108720379, 0.6679030514822931, 0.6646390023146908, 0.6642576625854737, 0.7078350526141051, 0.674551644886704, 0.6747547952268554, 0.674430473833078, 0.6609720983394135, 0.6656169432290399, 0.6669996247447133, 0.666431565641862]\n"
     ]
    }
   ],
   "source": [
    "best_params = grid[np.argmin(MASE_list)]\n",
    "print('Best Parameters',best_params)\n",
    "print('Best MASE',np.min(MASE_list))\n",
    "print(MASE_list)"
   ]
  }
 ],
 "metadata": {
  "kernelspec": {
   "display_name": "Python 3",
   "language": "python",
   "name": "python3"
  },
  "language_info": {
   "codemirror_mode": {
    "name": "ipython",
    "version": 3
   },
   "file_extension": ".py",
   "mimetype": "text/x-python",
   "name": "python",
   "nbconvert_exporter": "python",
   "pygments_lexer": "ipython3",
   "version": "3.9.12"
  }
 },
 "nbformat": 4,
 "nbformat_minor": 2
}
