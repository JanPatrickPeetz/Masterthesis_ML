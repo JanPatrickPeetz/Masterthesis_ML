{
 "cells": [
  {
   "cell_type": "markdown",
   "metadata": {},
   "source": [
    "https://www.kaggle.com/code/manovirat/timeseries-using-prophet-hyperparameter-tuning"
   ]
  },
  {
   "cell_type": "code",
   "execution_count": 1,
   "metadata": {},
   "outputs": [],
   "source": [
    "import pandas as pd\n",
    "from prophet import Prophet\n",
    "from prophet.diagnostics import cross_validation\n",
    "from sklearn.model_selection import ParameterGrid\n",
    "from prophet.diagnostics import performance_metrics\n",
    "import random\n",
    "import numpy as np\n",
    "from sklearn.model_selection import TimeSeriesSplit"
   ]
  },
  {
   "cell_type": "code",
   "execution_count": 2,
   "metadata": {},
   "outputs": [
    {
     "name": "stdout",
     "output_type": "stream",
     "text": [
      "Total Possible Models 160\n"
     ]
    }
   ],
   "source": [
    "params_grid = {'seasonality_mode':('multiplicative','additive'),\n",
    "               # set changepoint_prior_scale to 0.5 with steps of 0.005\n",
    "               'changepoint_prior_scale':[x for x in np.arange(0.001, 0.5, 0.1)],\n",
    "               'seasonality_prior_scale':[x for x in np.arange(0.01, 10, 2.5)],\n",
    "              'holidays_prior_scale':[x for x in np.arange(0.01, 10, 2.5)]}\n",
    "\n",
    "grid = ParameterGrid(params_grid)\n",
    "cnt = 0\n",
    "for p in grid:\n",
    "    cnt = cnt+1\n",
    "\n",
    "print('Total Possible Models',cnt)"
   ]
  },
  {
   "cell_type": "code",
   "execution_count": 3,
   "metadata": {},
   "outputs": [],
   "source": [
    "#Define MASE Metric\n",
    "def mean_absolute_scaled_error(y_true, y_pred):\n",
    "    mase=0\n",
    "    # Define numerator as the forecast error\n",
    "    numerator = (np.abs(y_true - y_pred))\n",
    "\n",
    "    # Define denominator as the mean absolute error of the in-sample one-step naive forecast\n",
    "    y_true_ohne_1 = y_true[1:].reset_index(drop=True)\n",
    "    y_true_ohne_ende = y_true[:-1].reset_index(drop=True)\n",
    "    denominator = np.mean(np.abs(y_true_ohne_1 - y_true_ohne_ende))\n",
    "\n",
    "    mase = np.mean(np.abs(numerator / denominator))\n",
    "\n",
    "    return mase"
   ]
  },
  {
   "cell_type": "code",
   "execution_count": 4,
   "metadata": {},
   "outputs": [],
   "source": [
    "# Load the data\n",
    "data = pd.read_parquet('/Users/paddy/Documents/GitHub/Masterthesis_ML/data/03_032022_032023_taxi_rides.parquet')\n",
    "\n",
    "# Convert the date column to datetime\n",
    "data['date'] = pd.to_datetime(data['date'])\n"
   ]
  },
  {
   "cell_type": "code",
   "execution_count": 5,
   "metadata": {},
   "outputs": [],
   "source": [
    "# Feature Engineering\n",
    "\n",
    "# Add a column with the time\n",
    "data['time'] = [x for x in range(0, len(data))]\n",
    "\n",
    "data['hour_of_day'] = data['date'].dt.hour\n",
    "data['day_of_week'] = data['date'].dt.dayofweek\n",
    "data['day_of_month'] = data['date'].dt.day\n",
    "data['month_of_year'] = data['date'].dt.month\n",
    "data['year'] = data['date'].dt.year\n",
    "\n",
    "# make a weekend column\n",
    "data['weekend'] = 0\n",
    "data.loc[data['day_of_week'] == 5, 'weekend'] = 1\n",
    "data.loc[data['day_of_week'] == 6, 'weekend'] = 1\n",
    "\n",
    "#make a monday column\n",
    "data['monday'] = 0\n",
    "data.loc[data['day_of_week'] == 0, 'monday'] = 1\n",
    "\n",
    "#make a tuesday column\n",
    "data['tuesday'] = 0\n",
    "data.loc[data['day_of_week'] == 1, 'tuesday'] = 1\n",
    "\n",
    "#make a wednesday column\n",
    "data['wednesday'] = 0\n",
    "data.loc[data['day_of_week'] == 2, 'wednesday'] = 1\n",
    "\n",
    "#make a thursday column\n",
    "data['thursday'] = 0\n",
    "data.loc[data['day_of_week'] == 3, 'thursday'] = 1\n",
    "\n",
    "#make a friday column\n",
    "data['friday'] = 0\n",
    "data.loc[data['day_of_week'] == 4, 'friday'] = 1\n",
    "\n",
    "#make a saturday column\n",
    "data['saturday'] = 0\n",
    "data.loc[data['day_of_week'] == 5, 'saturday'] = 1\n",
    "\n",
    "#make a sunday column\n",
    "data['sunday'] = 0\n",
    "data.loc[data['day_of_week'] == 6, 'sunday'] = 1\n",
    "\n",
    "# Drop the first three rows\n",
    "data = data.dropna().reset_index(drop=True)\n",
    "\n",
    "# convert date column to datetime without timezone\n",
    "data['date'] = pd.to_datetime(data['date'],format='%d/%m/%y %H:%M:%S').dt.strftime('%Y-%m-%d %H:%M:%S') \n",
    "\n",
    "# Rename column count to y\n",
    "data = data.rename(columns={'count': 'y'})\n",
    "data = data.rename(columns={'date': 'ds'})\n",
    "\n",
    "\n",
    "train_data = data"
   ]
  },
  {
   "cell_type": "code",
   "execution_count": 6,
   "metadata": {},
   "outputs": [
    {
     "name": "stdout",
     "output_type": "stream",
     "text": [
      "0       2022-04-01 00:00:00\n",
      "1       2022-04-01 01:00:00\n",
      "2       2022-04-01 02:00:00\n",
      "3       2022-04-01 03:00:00\n",
      "4       2022-04-01 04:00:00\n",
      "               ...         \n",
      "8755    2023-03-31 19:00:00\n",
      "8756    2023-03-31 20:00:00\n",
      "8757    2023-03-31 21:00:00\n",
      "8758    2023-03-31 22:00:00\n",
      "8759    2023-03-31 23:00:00\n",
      "Name: ds, Length: 8760, dtype: object\n",
      "Fold 0:\n",
      "  Train: index=[   0    1    2 ... 1457 1458 1459]\n",
      "  Test:  index=[1460 1461 1462 ... 2917 2918 2919]\n",
      "Fold 1:\n",
      "  Train: index=[   0    1    2 ... 2917 2918 2919]\n",
      "  Test:  index=[2920 2921 2922 ... 4377 4378 4379]\n",
      "Fold 2:\n",
      "  Train: index=[   0    1    2 ... 4377 4378 4379]\n",
      "  Test:  index=[4380 4381 4382 ... 5837 5838 5839]\n",
      "Fold 3:\n",
      "  Train: index=[   0    1    2 ... 5837 5838 5839]\n",
      "  Test:  index=[5840 5841 5842 ... 7297 7298 7299]\n",
      "Fold 4:\n",
      "  Train: index=[   0    1    2 ... 7297 7298 7299]\n",
      "  Test:  index=[7300 7301 7302 ... 8757 8758 8759]\n"
     ]
    }
   ],
   "source": [
    "cv_folds = TimeSeriesSplit(n_splits=5)\n",
    "\n",
    "#convert data to only date not time\n",
    "cv_data = train_data.copy()\n",
    "\n",
    "#convert to timestamp with date format\n",
    "#cv_data.ds = pd.to_datetime(cv_data.ds).dt.date\n",
    "\n",
    "print(cv_data.ds)   \n",
    "\n",
    "#Define cutoff dates for cross validation at end of train_data/cv_folds\n",
    "cutoffs = []\n",
    "# for train_index, test_index in cv_folds.split(train_data):\n",
    "#     cutoffs.append(train_data.ds.iloc[test_index].max())\n",
    "#     #convert to timestamp\n",
    "#     cutoffs = pd.to_datetime(cutoffs)\n",
    "    \n",
    "# print(cutoffs)\n",
    "\n",
    "for i, (train_index, test_index) in enumerate(cv_folds.split(cv_data)):\n",
    "    print(f\"Fold {i}:\")\n",
    "    print(f\"  Train: index={train_index}\")\n",
    "    print(f\"  Test:  index={test_index}\")\n",
    "    #get the date for the last train index\n",
    "    cutoffs.append(cv_data.ds.iloc[train_index].max())\n",
    "    #only date not time\n",
    "    #cutoffs = pd.to_datetime(cutoffs).date"
   ]
  },
  {
   "cell_type": "code",
   "execution_count": 7,
   "metadata": {},
   "outputs": [
    {
     "name": "stdout",
     "output_type": "stream",
     "text": [
      "{'changepoint_prior_scale': 0.001, 'holidays_prior_scale': 0.01, 'seasonality_mode': 'multiplicative', 'seasonality_prior_scale': 0.01}\n"
     ]
    },
    {
     "name": "stderr",
     "output_type": "stream",
     "text": [
      "15:26:28 - cmdstanpy - INFO - Chain [1] start processing\n",
      "15:26:28 - cmdstanpy - INFO - Chain [1] done processing\n",
      "15:26:29 - cmdstanpy - INFO - Chain [1] start processing\n",
      "15:26:29 - cmdstanpy - INFO - Chain [1] start processing\n",
      "15:26:30 - cmdstanpy - INFO - Chain [1] start processing\n",
      "15:26:30 - cmdstanpy - INFO - Chain [1] done processing\n",
      "15:26:30 - cmdstanpy - INFO - Chain [1] start processing\n",
      "15:26:30 - cmdstanpy - INFO - Chain [1] start processing\n",
      "15:26:30 - cmdstanpy - INFO - Chain [1] done processing\n",
      "15:26:30 - cmdstanpy - ERROR - Chain [1] error: error during processing Operation not permitted\n",
      "Optimization terminated abnormally. Falling back to Newton.\n",
      "15:26:30 - cmdstanpy - INFO - Chain [1] done processing\n",
      "15:26:30 - cmdstanpy - ERROR - Chain [1] error: error during processing Operation not permitted\n",
      "Optimization terminated abnormally. Falling back to Newton.\n",
      "15:26:30 - cmdstanpy - INFO - Chain [1] done processing\n",
      "15:26:30 - cmdstanpy - INFO - Chain [1] start processing\n",
      "15:26:30 - cmdstanpy - INFO - Chain [1] start processing\n",
      "15:26:31 - cmdstanpy - INFO - Chain [1] done processing\n",
      "15:26:57 - cmdstanpy - INFO - Chain [1] done processing\n",
      "15:27:43 - cmdstanpy - INFO - Chain [1] done processing\n"
     ]
    },
    {
     "name": "stdout",
     "output_type": "stream",
     "text": [
      "{'changepoint_prior_scale': 0.001, 'holidays_prior_scale': 0.01, 'seasonality_mode': 'multiplicative', 'seasonality_prior_scale': 2.51}\n"
     ]
    },
    {
     "name": "stderr",
     "output_type": "stream",
     "text": [
      "15:27:43 - cmdstanpy - INFO - Chain [1] start processing\n",
      "15:27:44 - cmdstanpy - INFO - Chain [1] done processing\n",
      "15:27:45 - cmdstanpy - INFO - Chain [1] start processing\n",
      "15:27:45 - cmdstanpy - INFO - Chain [1] start processing\n",
      "15:27:45 - cmdstanpy - INFO - Chain [1] start processing\n",
      "15:27:45 - cmdstanpy - INFO - Chain [1] done processing\n",
      "15:27:45 - cmdstanpy - INFO - Chain [1] start processing\n",
      "15:27:45 - cmdstanpy - INFO - Chain [1] start processing\n",
      "15:27:45 - cmdstanpy - INFO - Chain [1] done processing\n",
      "15:27:45 - cmdstanpy - ERROR - Chain [1] error: error during processing Operation not permitted\n",
      "Optimization terminated abnormally. Falling back to Newton.\n",
      "15:27:45 - cmdstanpy - INFO - Chain [1] done processing\n",
      "15:27:45 - cmdstanpy - ERROR - Chain [1] error: error during processing Operation not permitted\n",
      "Optimization terminated abnormally. Falling back to Newton.\n",
      "15:27:46 - cmdstanpy - INFO - Chain [1] done processing\n",
      "15:27:46 - cmdstanpy - INFO - Chain [1] start processing\n",
      "15:27:46 - cmdstanpy - INFO - Chain [1] start processing\n",
      "15:27:46 - cmdstanpy - INFO - Chain [1] done processing\n",
      "15:28:00 - cmdstanpy - INFO - Chain [1] done processing\n",
      "15:28:04 - cmdstanpy - INFO - Chain [1] done processing\n"
     ]
    },
    {
     "name": "stdout",
     "output_type": "stream",
     "text": [
      "{'changepoint_prior_scale': 0.001, 'holidays_prior_scale': 0.01, 'seasonality_mode': 'multiplicative', 'seasonality_prior_scale': 5.01}\n"
     ]
    },
    {
     "name": "stderr",
     "output_type": "stream",
     "text": [
      "15:28:05 - cmdstanpy - INFO - Chain [1] start processing\n",
      "15:28:05 - cmdstanpy - INFO - Chain [1] done processing\n",
      "15:28:06 - cmdstanpy - INFO - Chain [1] start processing\n",
      "15:28:06 - cmdstanpy - INFO - Chain [1] start processing\n",
      "15:28:07 - cmdstanpy - INFO - Chain [1] done processing\n",
      "15:28:07 - cmdstanpy - ERROR - Chain [1] error: error during processing Operation not permitted\n",
      "Optimization terminated abnormally. Falling back to Newton.\n",
      "15:28:07 - cmdstanpy - INFO - Chain [1] start processing\n",
      "15:28:07 - cmdstanpy - INFO - Chain [1] start processing\n",
      "15:28:07 - cmdstanpy - INFO - Chain [1] start processing\n",
      "15:28:07 - cmdstanpy - INFO - Chain [1] start processing\n",
      "15:28:07 - cmdstanpy - INFO - Chain [1] done processing\n",
      "15:28:07 - cmdstanpy - ERROR - Chain [1] error: error during processing Operation not permitted\n",
      "Optimization terminated abnormally. Falling back to Newton.\n",
      "15:28:07 - cmdstanpy - INFO - Chain [1] done processing\n",
      "15:28:07 - cmdstanpy - INFO - Chain [1] done processing\n",
      "15:28:07 - cmdstanpy - INFO - Chain [1] start processing\n",
      "15:28:08 - cmdstanpy - INFO - Chain [1] done processing\n",
      "15:28:14 - cmdstanpy - INFO - Chain [1] done processing\n",
      "15:28:27 - cmdstanpy - INFO - Chain [1] done processing\n"
     ]
    },
    {
     "name": "stdout",
     "output_type": "stream",
     "text": [
      "{'changepoint_prior_scale': 0.001, 'holidays_prior_scale': 0.01, 'seasonality_mode': 'multiplicative', 'seasonality_prior_scale': 7.51}\n"
     ]
    },
    {
     "name": "stderr",
     "output_type": "stream",
     "text": [
      "15:28:27 - cmdstanpy - INFO - Chain [1] start processing\n",
      "15:28:27 - cmdstanpy - INFO - Chain [1] done processing\n",
      "15:28:29 - cmdstanpy - INFO - Chain [1] start processing\n",
      "15:28:29 - cmdstanpy - INFO - Chain [1] start processing\n",
      "15:28:29 - cmdstanpy - INFO - Chain [1] start processing\n",
      "15:28:29 - cmdstanpy - INFO - Chain [1] start processing\n",
      "15:28:29 - cmdstanpy - INFO - Chain [1] start processing\n",
      "15:28:29 - cmdstanpy - INFO - Chain [1] done processing\n",
      "15:28:29 - cmdstanpy - INFO - Chain [1] done processing\n",
      "15:28:29 - cmdstanpy - ERROR - Chain [1] error: error during processing Operation not permitted\n",
      "Optimization terminated abnormally. Falling back to Newton.\n",
      "15:28:29 - cmdstanpy - INFO - Chain [1] done processing\n",
      "15:28:29 - cmdstanpy - ERROR - Chain [1] error: error during processing Operation not permitted\n",
      "Optimization terminated abnormally. Falling back to Newton.\n",
      "15:28:29 - cmdstanpy - INFO - Chain [1] start processing\n",
      "15:28:29 - cmdstanpy - INFO - Chain [1] done processing\n",
      "15:28:30 - cmdstanpy - INFO - Chain [1] start processing\n",
      "15:28:30 - cmdstanpy - INFO - Chain [1] done processing\n",
      "15:28:46 - cmdstanpy - INFO - Chain [1] done processing\n",
      "15:28:47 - cmdstanpy - INFO - Chain [1] done processing\n"
     ]
    },
    {
     "name": "stdout",
     "output_type": "stream",
     "text": [
      "{'changepoint_prior_scale': 0.001, 'holidays_prior_scale': 0.01, 'seasonality_mode': 'additive', 'seasonality_prior_scale': 0.01}\n"
     ]
    },
    {
     "name": "stderr",
     "output_type": "stream",
     "text": [
      "15:28:48 - cmdstanpy - INFO - Chain [1] start processing\n",
      "15:28:48 - cmdstanpy - INFO - Chain [1] done processing\n",
      "15:28:49 - cmdstanpy - INFO - Chain [1] start processing\n",
      "15:28:49 - cmdstanpy - INFO - Chain [1] done processing\n",
      "15:28:49 - cmdstanpy - INFO - Chain [1] start processing\n",
      "15:28:49 - cmdstanpy - INFO - Chain [1] start processing\n",
      "15:28:50 - cmdstanpy - INFO - Chain [1] done processing\n",
      "15:28:50 - cmdstanpy - ERROR - Chain [1] error: error during processing Operation not permitted\n",
      "Optimization terminated abnormally. Falling back to Newton.\n",
      "15:28:50 - cmdstanpy - INFO - Chain [1] start processing\n",
      "15:28:50 - cmdstanpy - INFO - Chain [1] start processing\n",
      "15:28:50 - cmdstanpy - INFO - Chain [1] start processing\n",
      "15:28:50 - cmdstanpy - INFO - Chain [1] done processing\n",
      "15:28:50 - cmdstanpy - ERROR - Chain [1] error: error during processing Operation not permitted\n",
      "Optimization terminated abnormally. Falling back to Newton.\n",
      "15:28:50 - cmdstanpy - INFO - Chain [1] done processing\n",
      "15:28:50 - cmdstanpy - INFO - Chain [1] start processing\n",
      "15:28:50 - cmdstanpy - INFO - Chain [1] done processing\n",
      "15:28:50 - cmdstanpy - ERROR - Chain [1] error: error during processing Operation not permitted\n",
      "Optimization terminated abnormally. Falling back to Newton.\n",
      "15:28:51 - cmdstanpy - INFO - Chain [1] start processing\n",
      "15:28:57 - cmdstanpy - INFO - Chain [1] done processing\n",
      "15:29:02 - cmdstanpy - INFO - Chain [1] done processing\n",
      "15:29:04 - cmdstanpy - INFO - Chain [1] done processing\n"
     ]
    },
    {
     "name": "stdout",
     "output_type": "stream",
     "text": [
      "{'changepoint_prior_scale': 0.001, 'holidays_prior_scale': 0.01, 'seasonality_mode': 'additive', 'seasonality_prior_scale': 2.51}\n"
     ]
    },
    {
     "name": "stderr",
     "output_type": "stream",
     "text": [
      "15:29:05 - cmdstanpy - INFO - Chain [1] start processing\n",
      "15:29:05 - cmdstanpy - INFO - Chain [1] done processing\n",
      "15:29:06 - cmdstanpy - INFO - Chain [1] start processing\n",
      "15:29:06 - cmdstanpy - INFO - Chain [1] done processing\n",
      "15:29:06 - cmdstanpy - INFO - Chain [1] start processing\n",
      "15:29:06 - cmdstanpy - INFO - Chain [1] start processing\n",
      "15:29:06 - cmdstanpy - INFO - Chain [1] start processing\n",
      "15:29:07 - cmdstanpy - INFO - Chain [1] done processing\n",
      "15:29:07 - cmdstanpy - ERROR - Chain [1] error: error during processing Operation not permitted\n",
      "Optimization terminated abnormally. Falling back to Newton.\n",
      "15:29:07 - cmdstanpy - INFO - Chain [1] start processing\n",
      "15:29:07 - cmdstanpy - INFO - Chain [1] start processing\n",
      "15:29:07 - cmdstanpy - INFO - Chain [1] done processing\n",
      "15:29:07 - cmdstanpy - INFO - Chain [1] done processing\n",
      "15:29:07 - cmdstanpy - INFO - Chain [1] done processing\n",
      "15:29:07 - cmdstanpy - ERROR - Chain [1] error: error during processing Operation not permitted\n",
      "Optimization terminated abnormally. Falling back to Newton.\n",
      "15:29:08 - cmdstanpy - INFO - Chain [1] start processing\n",
      "15:29:12 - cmdstanpy - INFO - Chain [1] done processing\n",
      "15:29:21 - cmdstanpy - INFO - Chain [1] done processing\n"
     ]
    },
    {
     "name": "stdout",
     "output_type": "stream",
     "text": [
      "{'changepoint_prior_scale': 0.001, 'holidays_prior_scale': 0.01, 'seasonality_mode': 'additive', 'seasonality_prior_scale': 5.01}\n"
     ]
    },
    {
     "name": "stderr",
     "output_type": "stream",
     "text": [
      "15:29:22 - cmdstanpy - INFO - Chain [1] start processing\n",
      "15:29:22 - cmdstanpy - INFO - Chain [1] done processing\n",
      "15:29:23 - cmdstanpy - INFO - Chain [1] start processing\n",
      "15:29:23 - cmdstanpy - INFO - Chain [1] start processing\n",
      "15:29:23 - cmdstanpy - INFO - Chain [1] done processing\n",
      "15:29:24 - cmdstanpy - INFO - Chain [1] start processing\n",
      "15:29:24 - cmdstanpy - INFO - Chain [1] start processing\n",
      "15:29:24 - cmdstanpy - INFO - Chain [1] done processing\n",
      "15:29:24 - cmdstanpy - ERROR - Chain [1] error: error during processing Operation not permitted\n",
      "Optimization terminated abnormally. Falling back to Newton.\n",
      "15:29:24 - cmdstanpy - INFO - Chain [1] start processing\n",
      "15:29:24 - cmdstanpy - INFO - Chain [1] start processing\n",
      "15:29:24 - cmdstanpy - INFO - Chain [1] done processing\n",
      "15:29:24 - cmdstanpy - INFO - Chain [1] done processing\n",
      "15:29:25 - cmdstanpy - INFO - Chain [1] done processing\n",
      "15:29:25 - cmdstanpy - ERROR - Chain [1] error: error during processing Operation not permitted\n",
      "Optimization terminated abnormally. Falling back to Newton.\n",
      "15:29:25 - cmdstanpy - INFO - Chain [1] start processing\n",
      "15:29:28 - cmdstanpy - INFO - Chain [1] done processing\n",
      "15:29:36 - cmdstanpy - INFO - Chain [1] done processing\n"
     ]
    },
    {
     "name": "stdout",
     "output_type": "stream",
     "text": [
      "{'changepoint_prior_scale': 0.001, 'holidays_prior_scale': 0.01, 'seasonality_mode': 'additive', 'seasonality_prior_scale': 7.51}\n"
     ]
    },
    {
     "name": "stderr",
     "output_type": "stream",
     "text": [
      "15:29:36 - cmdstanpy - INFO - Chain [1] start processing\n",
      "15:29:37 - cmdstanpy - INFO - Chain [1] done processing\n",
      "15:29:38 - cmdstanpy - INFO - Chain [1] start processing\n",
      "15:29:38 - cmdstanpy - INFO - Chain [1] done processing\n",
      "15:29:38 - cmdstanpy - INFO - Chain [1] start processing\n",
      "15:29:38 - cmdstanpy - INFO - Chain [1] start processing\n",
      "15:29:38 - cmdstanpy - INFO - Chain [1] done processing\n",
      "15:29:38 - cmdstanpy - ERROR - Chain [1] error: error during processing Operation not permitted\n",
      "Optimization terminated abnormally. Falling back to Newton.\n",
      "15:29:38 - cmdstanpy - INFO - Chain [1] start processing\n",
      "15:29:38 - cmdstanpy - INFO - Chain [1] start processing\n",
      "15:29:38 - cmdstanpy - INFO - Chain [1] start processing\n",
      "15:29:39 - cmdstanpy - INFO - Chain [1] done processing\n",
      "15:29:39 - cmdstanpy - INFO - Chain [1] done processing\n",
      "15:29:39 - cmdstanpy - ERROR - Chain [1] error: error during processing Operation not permitted\n",
      "Optimization terminated abnormally. Falling back to Newton.\n",
      "15:29:39 - cmdstanpy - INFO - Chain [1] done processing\n",
      "15:29:39 - cmdstanpy - ERROR - Chain [1] error: error during processing Operation not permitted\n",
      "Optimization terminated abnormally. Falling back to Newton.\n",
      "15:29:39 - cmdstanpy - INFO - Chain [1] start processing\n",
      "15:29:39 - cmdstanpy - INFO - Chain [1] start processing\n",
      "15:29:43 - cmdstanpy - INFO - Chain [1] done processing\n",
      "15:29:47 - cmdstanpy - INFO - Chain [1] done processing\n",
      "15:29:53 - cmdstanpy - INFO - Chain [1] done processing\n"
     ]
    },
    {
     "name": "stdout",
     "output_type": "stream",
     "text": [
      "{'changepoint_prior_scale': 0.001, 'holidays_prior_scale': 2.51, 'seasonality_mode': 'multiplicative', 'seasonality_prior_scale': 0.01}\n"
     ]
    },
    {
     "name": "stderr",
     "output_type": "stream",
     "text": [
      "15:29:53 - cmdstanpy - INFO - Chain [1] start processing\n",
      "15:29:54 - cmdstanpy - INFO - Chain [1] done processing\n",
      "15:29:55 - cmdstanpy - INFO - Chain [1] start processing\n",
      "15:29:55 - cmdstanpy - INFO - Chain [1] start processing\n",
      "15:29:55 - cmdstanpy - INFO - Chain [1] done processing\n",
      "15:29:55 - cmdstanpy - INFO - Chain [1] start processing\n",
      "15:29:55 - cmdstanpy - INFO - Chain [1] start processing\n",
      "15:29:55 - cmdstanpy - INFO - Chain [1] start processing\n",
      "15:29:55 - cmdstanpy - INFO - Chain [1] done processing\n",
      "15:29:56 - cmdstanpy - INFO - Chain [1] done processing\n",
      "15:29:56 - cmdstanpy - ERROR - Chain [1] error: error during processing Operation not permitted\n",
      "Optimization terminated abnormally. Falling back to Newton.\n",
      "15:29:56 - cmdstanpy - INFO - Chain [1] done processing\n",
      "15:29:56 - cmdstanpy - INFO - Chain [1] done processing\n",
      "15:29:56 - cmdstanpy - INFO - Chain [1] start processing\n",
      "15:30:39 - cmdstanpy - INFO - Chain [1] done processing\n"
     ]
    },
    {
     "name": "stdout",
     "output_type": "stream",
     "text": [
      "{'changepoint_prior_scale': 0.001, 'holidays_prior_scale': 2.51, 'seasonality_mode': 'multiplicative', 'seasonality_prior_scale': 2.51}\n"
     ]
    },
    {
     "name": "stderr",
     "output_type": "stream",
     "text": [
      "15:30:39 - cmdstanpy - INFO - Chain [1] start processing\n",
      "15:30:39 - cmdstanpy - INFO - Chain [1] done processing\n",
      "15:30:41 - cmdstanpy - INFO - Chain [1] start processing\n",
      "15:30:41 - cmdstanpy - INFO - Chain [1] start processing\n",
      "15:30:41 - cmdstanpy - INFO - Chain [1] start processing\n",
      "15:30:41 - cmdstanpy - INFO - Chain [1] done processing\n",
      "15:30:41 - cmdstanpy - INFO - Chain [1] start processing\n",
      "15:30:41 - cmdstanpy - INFO - Chain [1] done processing\n",
      "15:30:41 - cmdstanpy - ERROR - Chain [1] error: error during processing Operation not permitted\n",
      "Optimization terminated abnormally. Falling back to Newton.\n",
      "15:30:41 - cmdstanpy - INFO - Chain [1] start processing\n",
      "15:30:41 - cmdstanpy - INFO - Chain [1] done processing\n",
      "15:30:41 - cmdstanpy - ERROR - Chain [1] error: error during processing Operation not permitted\n",
      "Optimization terminated abnormally. Falling back to Newton.\n",
      "15:30:41 - cmdstanpy - INFO - Chain [1] start processing\n",
      "15:30:41 - cmdstanpy - INFO - Chain [1] done processing\n",
      "15:30:42 - cmdstanpy - INFO - Chain [1] start processing\n",
      "15:30:42 - cmdstanpy - INFO - Chain [1] done processing\n",
      "15:31:02 - cmdstanpy - INFO - Chain [1] done processing\n",
      "15:31:06 - cmdstanpy - INFO - Chain [1] done processing\n"
     ]
    },
    {
     "name": "stdout",
     "output_type": "stream",
     "text": [
      "{'changepoint_prior_scale': 0.001, 'holidays_prior_scale': 2.51, 'seasonality_mode': 'multiplicative', 'seasonality_prior_scale': 5.01}\n"
     ]
    },
    {
     "name": "stderr",
     "output_type": "stream",
     "text": [
      "15:31:07 - cmdstanpy - INFO - Chain [1] start processing\n",
      "15:31:07 - cmdstanpy - INFO - Chain [1] done processing\n",
      "15:31:08 - cmdstanpy - INFO - Chain [1] start processing\n",
      "15:31:09 - cmdstanpy - INFO - Chain [1] start processing\n",
      "15:31:09 - cmdstanpy - INFO - Chain [1] start processing\n",
      "15:31:09 - cmdstanpy - INFO - Chain [1] done processing\n",
      "15:31:09 - cmdstanpy - INFO - Chain [1] start processing\n",
      "15:31:09 - cmdstanpy - INFO - Chain [1] done processing\n",
      "15:31:09 - cmdstanpy - ERROR - Chain [1] error: error during processing Operation not permitted\n",
      "Optimization terminated abnormally. Falling back to Newton.\n",
      "15:31:09 - cmdstanpy - INFO - Chain [1] start processing\n",
      "15:31:09 - cmdstanpy - INFO - Chain [1] done processing\n",
      "15:31:09 - cmdstanpy - ERROR - Chain [1] error: error during processing Operation not permitted\n",
      "Optimization terminated abnormally. Falling back to Newton.\n",
      "15:31:09 - cmdstanpy - INFO - Chain [1] start processing\n",
      "15:31:09 - cmdstanpy - INFO - Chain [1] start processing\n",
      "15:31:09 - cmdstanpy - INFO - Chain [1] done processing\n",
      "15:31:10 - cmdstanpy - INFO - Chain [1] done processing\n",
      "15:31:24 - cmdstanpy - INFO - Chain [1] done processing\n",
      "15:31:32 - cmdstanpy - INFO - Chain [1] done processing\n"
     ]
    },
    {
     "name": "stdout",
     "output_type": "stream",
     "text": [
      "{'changepoint_prior_scale': 0.001, 'holidays_prior_scale': 2.51, 'seasonality_mode': 'multiplicative', 'seasonality_prior_scale': 7.51}\n"
     ]
    },
    {
     "name": "stderr",
     "output_type": "stream",
     "text": [
      "15:31:33 - cmdstanpy - INFO - Chain [1] start processing\n",
      "15:31:33 - cmdstanpy - INFO - Chain [1] done processing\n",
      "15:31:34 - cmdstanpy - INFO - Chain [1] start processing\n",
      "15:31:34 - cmdstanpy - INFO - Chain [1] start processing\n",
      "15:31:34 - cmdstanpy - INFO - Chain [1] start processing\n",
      "15:31:34 - cmdstanpy - INFO - Chain [1] done processing\n",
      "15:31:34 - cmdstanpy - INFO - Chain [1] start processing\n",
      "15:31:34 - cmdstanpy - INFO - Chain [1] start processing\n",
      "15:31:34 - cmdstanpy - INFO - Chain [1] done processing\n",
      "15:31:35 - cmdstanpy - INFO - Chain [1] done processing\n",
      "15:31:35 - cmdstanpy - ERROR - Chain [1] error: error during processing Operation not permitted\n",
      "Optimization terminated abnormally. Falling back to Newton.\n",
      "15:31:35 - cmdstanpy - INFO - Chain [1] done processing\n",
      "15:31:35 - cmdstanpy - INFO - Chain [1] start processing\n",
      "15:31:36 - cmdstanpy - INFO - Chain [1] done processing\n",
      "15:31:55 - cmdstanpy - INFO - Chain [1] done processing\n"
     ]
    },
    {
     "name": "stdout",
     "output_type": "stream",
     "text": [
      "{'changepoint_prior_scale': 0.001, 'holidays_prior_scale': 2.51, 'seasonality_mode': 'additive', 'seasonality_prior_scale': 0.01}\n"
     ]
    },
    {
     "name": "stderr",
     "output_type": "stream",
     "text": [
      "15:31:56 - cmdstanpy - INFO - Chain [1] start processing\n",
      "15:31:56 - cmdstanpy - INFO - Chain [1] done processing\n",
      "15:31:57 - cmdstanpy - INFO - Chain [1] start processing\n",
      "15:31:57 - cmdstanpy - INFO - Chain [1] done processing\n",
      "15:31:57 - cmdstanpy - INFO - Chain [1] start processing\n",
      "15:31:57 - cmdstanpy - INFO - Chain [1] start processing\n",
      "15:31:57 - cmdstanpy - INFO - Chain [1] start processing\n",
      "15:31:57 - cmdstanpy - INFO - Chain [1] done processing\n",
      "15:31:58 - cmdstanpy - INFO - Chain [1] start processing\n",
      "15:31:58 - cmdstanpy - INFO - Chain [1] done processing\n",
      "15:31:58 - cmdstanpy - INFO - Chain [1] done processing\n",
      "15:31:58 - cmdstanpy - ERROR - Chain [1] error: error during processing Operation not permitted\n",
      "Optimization terminated abnormally. Falling back to Newton.\n",
      "15:31:58 - cmdstanpy - INFO - Chain [1] done processing\n",
      "15:31:58 - cmdstanpy - ERROR - Chain [1] error: error during processing Operation not permitted\n",
      "Optimization terminated abnormally. Falling back to Newton.\n",
      "15:31:58 - cmdstanpy - INFO - Chain [1] start processing\n",
      "15:31:58 - cmdstanpy - INFO - Chain [1] start processing\n",
      "15:32:04 - cmdstanpy - INFO - Chain [1] done processing\n",
      "15:32:11 - cmdstanpy - INFO - Chain [1] done processing\n"
     ]
    },
    {
     "name": "stdout",
     "output_type": "stream",
     "text": [
      "{'changepoint_prior_scale': 0.001, 'holidays_prior_scale': 2.51, 'seasonality_mode': 'additive', 'seasonality_prior_scale': 2.51}\n"
     ]
    },
    {
     "name": "stderr",
     "output_type": "stream",
     "text": [
      "15:32:12 - cmdstanpy - INFO - Chain [1] start processing\n",
      "15:32:12 - cmdstanpy - INFO - Chain [1] done processing\n",
      "15:32:13 - cmdstanpy - INFO - Chain [1] start processing\n",
      "15:32:13 - cmdstanpy - INFO - Chain [1] done processing\n",
      "15:32:14 - cmdstanpy - INFO - Chain [1] start processing\n",
      "15:32:14 - cmdstanpy - INFO - Chain [1] start processing\n",
      "15:32:14 - cmdstanpy - INFO - Chain [1] start processing\n",
      "15:32:14 - cmdstanpy - INFO - Chain [1] start processing\n",
      "15:32:14 - cmdstanpy - INFO - Chain [1] done processing\n",
      "15:32:14 - cmdstanpy - ERROR - Chain [1] error: error during processing Operation not permitted\n",
      "Optimization terminated abnormally. Falling back to Newton.\n",
      "15:32:14 - cmdstanpy - INFO - Chain [1] start processing\n",
      "15:32:14 - cmdstanpy - INFO - Chain [1] done processing\n",
      "15:32:14 - cmdstanpy - INFO - Chain [1] done processing\n",
      "15:32:14 - cmdstanpy - ERROR - Chain [1] error: error during processing Operation not permitted\n",
      "Optimization terminated abnormally. Falling back to Newton.\n",
      "15:32:15 - cmdstanpy - INFO - Chain [1] done processing\n",
      "15:32:15 - cmdstanpy - ERROR - Chain [1] error: error during processing Operation not permitted\n",
      "Optimization terminated abnormally. Falling back to Newton.\n",
      "15:32:15 - cmdstanpy - INFO - Chain [1] start processing\n",
      "15:32:15 - cmdstanpy - INFO - Chain [1] start processing\n",
      "15:32:21 - cmdstanpy - INFO - Chain [1] done processing\n",
      "15:32:22 - cmdstanpy - INFO - Chain [1] done processing\n",
      "15:32:25 - cmdstanpy - INFO - Chain [1] done processing\n"
     ]
    },
    {
     "name": "stdout",
     "output_type": "stream",
     "text": [
      "{'changepoint_prior_scale': 0.001, 'holidays_prior_scale': 2.51, 'seasonality_mode': 'additive', 'seasonality_prior_scale': 5.01}\n"
     ]
    },
    {
     "name": "stderr",
     "output_type": "stream",
     "text": [
      "15:32:25 - cmdstanpy - INFO - Chain [1] start processing\n",
      "15:32:25 - cmdstanpy - INFO - Chain [1] done processing\n",
      "15:32:26 - cmdstanpy - INFO - Chain [1] start processing\n",
      "15:32:26 - cmdstanpy - INFO - Chain [1] done processing\n",
      "15:32:27 - cmdstanpy - INFO - Chain [1] start processing\n",
      "15:32:27 - cmdstanpy - INFO - Chain [1] done processing\n",
      "15:32:27 - cmdstanpy - ERROR - Chain [1] error: error during processing Operation not permitted\n",
      "Optimization terminated abnormally. Falling back to Newton.\n",
      "15:32:27 - cmdstanpy - INFO - Chain [1] start processing\n",
      "15:32:27 - cmdstanpy - INFO - Chain [1] start processing\n",
      "15:32:27 - cmdstanpy - INFO - Chain [1] start processing\n",
      "15:32:27 - cmdstanpy - INFO - Chain [1] start processing\n",
      "15:32:27 - cmdstanpy - INFO - Chain [1] done processing\n",
      "15:32:27 - cmdstanpy - ERROR - Chain [1] error: error during processing Operation not permitted\n",
      "Optimization terminated abnormally. Falling back to Newton.\n",
      "15:32:27 - cmdstanpy - INFO - Chain [1] done processing\n",
      "15:32:28 - cmdstanpy - INFO - Chain [1] start processing\n",
      "15:32:28 - cmdstanpy - INFO - Chain [1] done processing\n",
      "15:32:28 - cmdstanpy - ERROR - Chain [1] error: error during processing Operation not permitted\n",
      "Optimization terminated abnormally. Falling back to Newton.\n",
      "15:32:28 - cmdstanpy - INFO - Chain [1] start processing\n",
      "15:32:34 - cmdstanpy - INFO - Chain [1] done processing\n",
      "15:32:35 - cmdstanpy - INFO - Chain [1] done processing\n",
      "15:32:37 - cmdstanpy - INFO - Chain [1] done processing\n"
     ]
    },
    {
     "name": "stdout",
     "output_type": "stream",
     "text": [
      "{'changepoint_prior_scale': 0.001, 'holidays_prior_scale': 2.51, 'seasonality_mode': 'additive', 'seasonality_prior_scale': 7.51}\n"
     ]
    },
    {
     "name": "stderr",
     "output_type": "stream",
     "text": [
      "15:32:37 - cmdstanpy - INFO - Chain [1] start processing\n",
      "15:32:37 - cmdstanpy - INFO - Chain [1] done processing\n",
      "15:32:38 - cmdstanpy - INFO - Chain [1] start processing\n",
      "15:32:39 - cmdstanpy - INFO - Chain [1] done processing\n",
      "15:32:39 - cmdstanpy - INFO - Chain [1] start processing\n",
      "15:32:39 - cmdstanpy - INFO - Chain [1] done processing\n",
      "15:32:39 - cmdstanpy - ERROR - Chain [1] error: error during processing Operation not permitted\n",
      "Optimization terminated abnormally. Falling back to Newton.\n",
      "15:32:39 - cmdstanpy - INFO - Chain [1] start processing\n",
      "15:32:39 - cmdstanpy - INFO - Chain [1] start processing\n",
      "15:32:39 - cmdstanpy - INFO - Chain [1] start processing\n",
      "15:32:39 - cmdstanpy - INFO - Chain [1] start processing\n",
      "15:32:39 - cmdstanpy - INFO - Chain [1] done processing\n",
      "15:32:39 - cmdstanpy - INFO - Chain [1] done processing\n",
      "15:32:39 - cmdstanpy - ERROR - Chain [1] error: error during processing Operation not permitted\n",
      "Optimization terminated abnormally. Falling back to Newton.\n",
      "15:32:40 - cmdstanpy - INFO - Chain [1] done processing\n",
      "15:32:40 - cmdstanpy - ERROR - Chain [1] error: error during processing Operation not permitted\n",
      "Optimization terminated abnormally. Falling back to Newton.\n",
      "15:32:40 - cmdstanpy - INFO - Chain [1] start processing\n",
      "15:32:40 - cmdstanpy - INFO - Chain [1] start processing\n",
      "15:32:47 - cmdstanpy - INFO - Chain [1] done processing\n",
      "15:32:47 - cmdstanpy - INFO - Chain [1] done processing\n",
      "15:32:49 - cmdstanpy - INFO - Chain [1] done processing\n"
     ]
    },
    {
     "name": "stdout",
     "output_type": "stream",
     "text": [
      "{'changepoint_prior_scale': 0.001, 'holidays_prior_scale': 5.01, 'seasonality_mode': 'multiplicative', 'seasonality_prior_scale': 0.01}\n"
     ]
    },
    {
     "name": "stderr",
     "output_type": "stream",
     "text": [
      "15:32:50 - cmdstanpy - INFO - Chain [1] start processing\n",
      "15:32:50 - cmdstanpy - INFO - Chain [1] done processing\n",
      "15:32:51 - cmdstanpy - INFO - Chain [1] start processing\n",
      "15:32:51 - cmdstanpy - INFO - Chain [1] start processing\n",
      "15:32:52 - cmdstanpy - INFO - Chain [1] start processing\n",
      "15:32:52 - cmdstanpy - INFO - Chain [1] done processing\n",
      "15:32:52 - cmdstanpy - ERROR - Chain [1] error: error during processing Operation not permitted\n",
      "Optimization terminated abnormally. Falling back to Newton.\n",
      "15:32:52 - cmdstanpy - INFO - Chain [1] start processing\n",
      "15:32:52 - cmdstanpy - INFO - Chain [1] start processing\n",
      "15:32:52 - cmdstanpy - INFO - Chain [1] done processing\n",
      "15:32:52 - cmdstanpy - ERROR - Chain [1] error: error during processing Operation not permitted\n",
      "Optimization terminated abnormally. Falling back to Newton.\n",
      "15:32:52 - cmdstanpy - INFO - Chain [1] start processing\n",
      "15:32:52 - cmdstanpy - INFO - Chain [1] done processing\n",
      "15:32:52 - cmdstanpy - ERROR - Chain [1] error: error during processing Operation not permitted\n",
      "Optimization terminated abnormally. Falling back to Newton.\n",
      "15:32:52 - cmdstanpy - INFO - Chain [1] done processing\n",
      "15:32:52 - cmdstanpy - INFO - Chain [1] start processing\n",
      "15:32:52 - cmdstanpy - INFO - Chain [1] start processing\n",
      "15:32:53 - cmdstanpy - INFO - Chain [1] done processing\n",
      "15:33:24 - cmdstanpy - INFO - Chain [1] done processing\n",
      "15:35:17 - cmdstanpy - INFO - Chain [1] done processing\n",
      "15:35:45 - cmdstanpy - INFO - Chain [1] done processing\n"
     ]
    },
    {
     "name": "stdout",
     "output_type": "stream",
     "text": [
      "{'changepoint_prior_scale': 0.001, 'holidays_prior_scale': 5.01, 'seasonality_mode': 'multiplicative', 'seasonality_prior_scale': 2.51}\n"
     ]
    },
    {
     "name": "stderr",
     "output_type": "stream",
     "text": [
      "15:35:46 - cmdstanpy - INFO - Chain [1] start processing\n",
      "15:35:46 - cmdstanpy - INFO - Chain [1] done processing\n",
      "15:35:47 - cmdstanpy - INFO - Chain [1] start processing\n",
      "15:35:47 - cmdstanpy - INFO - Chain [1] start processing\n",
      "15:35:48 - cmdstanpy - INFO - Chain [1] start processing\n",
      "15:35:48 - cmdstanpy - INFO - Chain [1] start processing\n",
      "15:35:48 - cmdstanpy - INFO - Chain [1] start processing\n",
      "15:35:48 - cmdstanpy - INFO - Chain [1] done processing\n",
      "15:35:48 - cmdstanpy - INFO - Chain [1] done processing\n",
      "15:35:48 - cmdstanpy - INFO - Chain [1] done processing\n",
      "15:35:48 - cmdstanpy - INFO - Chain [1] done processing\n",
      "15:35:50 - cmdstanpy - INFO - Chain [1] done processing\n"
     ]
    },
    {
     "name": "stdout",
     "output_type": "stream",
     "text": [
      "{'changepoint_prior_scale': 0.001, 'holidays_prior_scale': 5.01, 'seasonality_mode': 'multiplicative', 'seasonality_prior_scale': 5.01}\n"
     ]
    },
    {
     "name": "stderr",
     "output_type": "stream",
     "text": [
      "15:35:50 - cmdstanpy - INFO - Chain [1] start processing\n",
      "15:35:51 - cmdstanpy - INFO - Chain [1] done processing\n",
      "15:35:52 - cmdstanpy - INFO - Chain [1] start processing\n",
      "15:35:52 - cmdstanpy - INFO - Chain [1] start processing\n",
      "15:35:52 - cmdstanpy - INFO - Chain [1] start processing\n",
      "15:35:52 - cmdstanpy - INFO - Chain [1] done processing\n",
      "15:35:52 - cmdstanpy - INFO - Chain [1] start processing\n",
      "15:35:52 - cmdstanpy - INFO - Chain [1] start processing\n",
      "15:35:52 - cmdstanpy - INFO - Chain [1] done processing\n",
      "15:35:52 - cmdstanpy - ERROR - Chain [1] error: error during processing Operation not permitted\n",
      "Optimization terminated abnormally. Falling back to Newton.\n",
      "15:35:52 - cmdstanpy - INFO - Chain [1] done processing\n",
      "15:35:52 - cmdstanpy - ERROR - Chain [1] error: error during processing Operation not permitted\n",
      "Optimization terminated abnormally. Falling back to Newton.\n",
      "15:35:52 - cmdstanpy - INFO - Chain [1] start processing\n",
      "15:35:53 - cmdstanpy - INFO - Chain [1] done processing\n",
      "15:35:53 - cmdstanpy - INFO - Chain [1] start processing\n",
      "15:35:53 - cmdstanpy - INFO - Chain [1] done processing\n",
      "15:36:07 - cmdstanpy - INFO - Chain [1] done processing\n",
      "15:36:20 - cmdstanpy - INFO - Chain [1] done processing\n"
     ]
    },
    {
     "name": "stdout",
     "output_type": "stream",
     "text": [
      "{'changepoint_prior_scale': 0.001, 'holidays_prior_scale': 5.01, 'seasonality_mode': 'multiplicative', 'seasonality_prior_scale': 7.51}\n"
     ]
    },
    {
     "name": "stderr",
     "output_type": "stream",
     "text": [
      "15:36:21 - cmdstanpy - INFO - Chain [1] start processing\n",
      "15:36:21 - cmdstanpy - INFO - Chain [1] done processing\n",
      "15:36:22 - cmdstanpy - INFO - Chain [1] start processing\n",
      "15:36:22 - cmdstanpy - INFO - Chain [1] start processing\n",
      "15:36:22 - cmdstanpy - INFO - Chain [1] start processing\n",
      "15:36:22 - cmdstanpy - INFO - Chain [1] done processing\n",
      "15:36:22 - cmdstanpy - INFO - Chain [1] start processing\n",
      "15:36:23 - cmdstanpy - INFO - Chain [1] start processing\n",
      "15:36:23 - cmdstanpy - INFO - Chain [1] done processing\n",
      "15:36:23 - cmdstanpy - ERROR - Chain [1] error: error during processing Operation not permitted\n",
      "Optimization terminated abnormally. Falling back to Newton.\n",
      "15:36:23 - cmdstanpy - INFO - Chain [1] done processing\n",
      "15:36:23 - cmdstanpy - ERROR - Chain [1] error: error during processing Operation not permitted\n",
      "Optimization terminated abnormally. Falling back to Newton.\n",
      "15:36:23 - cmdstanpy - INFO - Chain [1] start processing\n",
      "15:36:23 - cmdstanpy - INFO - Chain [1] done processing\n",
      "15:36:23 - cmdstanpy - INFO - Chain [1] start processing\n",
      "15:36:24 - cmdstanpy - INFO - Chain [1] done processing\n",
      "15:36:36 - cmdstanpy - INFO - Chain [1] done processing\n",
      "15:36:54 - cmdstanpy - INFO - Chain [1] done processing\n"
     ]
    },
    {
     "name": "stdout",
     "output_type": "stream",
     "text": [
      "{'changepoint_prior_scale': 0.001, 'holidays_prior_scale': 5.01, 'seasonality_mode': 'additive', 'seasonality_prior_scale': 0.01}\n"
     ]
    },
    {
     "name": "stderr",
     "output_type": "stream",
     "text": [
      "15:36:54 - cmdstanpy - INFO - Chain [1] start processing\n",
      "15:36:54 - cmdstanpy - INFO - Chain [1] done processing\n",
      "15:36:55 - cmdstanpy - INFO - Chain [1] start processing\n",
      "15:36:55 - cmdstanpy - INFO - Chain [1] done processing\n",
      "15:36:56 - cmdstanpy - INFO - Chain [1] start processing\n",
      "15:36:56 - cmdstanpy - INFO - Chain [1] start processing\n",
      "15:36:56 - cmdstanpy - INFO - Chain [1] done processing\n",
      "15:36:56 - cmdstanpy - ERROR - Chain [1] error: error during processing Operation not permitted\n",
      "Optimization terminated abnormally. Falling back to Newton.\n",
      "15:36:56 - cmdstanpy - INFO - Chain [1] start processing\n",
      "15:36:56 - cmdstanpy - INFO - Chain [1] start processing\n",
      "15:36:56 - cmdstanpy - INFO - Chain [1] start processing\n",
      "15:36:56 - cmdstanpy - INFO - Chain [1] done processing\n",
      "15:36:56 - cmdstanpy - ERROR - Chain [1] error: error during processing Operation not permitted\n",
      "Optimization terminated abnormally. Falling back to Newton.\n",
      "15:36:56 - cmdstanpy - INFO - Chain [1] done processing\n",
      "15:36:57 - cmdstanpy - INFO - Chain [1] done processing\n",
      "15:36:57 - cmdstanpy - INFO - Chain [1] start processing\n",
      "15:37:02 - cmdstanpy - INFO - Chain [1] done processing\n",
      "15:37:03 - cmdstanpy - INFO - Chain [1] done processing\n"
     ]
    },
    {
     "name": "stdout",
     "output_type": "stream",
     "text": [
      "{'changepoint_prior_scale': 0.001, 'holidays_prior_scale': 5.01, 'seasonality_mode': 'additive', 'seasonality_prior_scale': 2.51}\n"
     ]
    },
    {
     "name": "stderr",
     "output_type": "stream",
     "text": [
      "15:37:03 - cmdstanpy - INFO - Chain [1] start processing\n",
      "15:37:04 - cmdstanpy - INFO - Chain [1] done processing\n",
      "15:37:05 - cmdstanpy - INFO - Chain [1] start processing\n",
      "15:37:05 - cmdstanpy - INFO - Chain [1] done processing\n",
      "15:37:05 - cmdstanpy - INFO - Chain [1] start processing\n",
      "15:37:05 - cmdstanpy - INFO - Chain [1] start processing\n",
      "15:37:05 - cmdstanpy - INFO - Chain [1] done processing\n",
      "15:37:05 - cmdstanpy - ERROR - Chain [1] error: error during processing Operation not permitted\n",
      "Optimization terminated abnormally. Falling back to Newton.\n",
      "15:37:05 - cmdstanpy - INFO - Chain [1] start processing\n",
      "15:37:05 - cmdstanpy - INFO - Chain [1] start processing\n",
      "15:37:05 - cmdstanpy - INFO - Chain [1] start processing\n",
      "15:37:05 - cmdstanpy - INFO - Chain [1] done processing\n",
      "15:37:05 - cmdstanpy - ERROR - Chain [1] error: error during processing Operation not permitted\n",
      "Optimization terminated abnormally. Falling back to Newton.\n",
      "15:37:05 - cmdstanpy - INFO - Chain [1] done processing\n",
      "15:37:06 - cmdstanpy - INFO - Chain [1] start processing\n",
      "15:37:06 - cmdstanpy - INFO - Chain [1] done processing\n",
      "15:37:06 - cmdstanpy - ERROR - Chain [1] error: error during processing Operation not permitted\n",
      "Optimization terminated abnormally. Falling back to Newton.\n",
      "15:37:06 - cmdstanpy - INFO - Chain [1] start processing\n",
      "15:37:10 - cmdstanpy - INFO - Chain [1] done processing\n",
      "15:37:12 - cmdstanpy - INFO - Chain [1] done processing\n",
      "15:37:16 - cmdstanpy - INFO - Chain [1] done processing\n"
     ]
    },
    {
     "name": "stdout",
     "output_type": "stream",
     "text": [
      "{'changepoint_prior_scale': 0.001, 'holidays_prior_scale': 5.01, 'seasonality_mode': 'additive', 'seasonality_prior_scale': 5.01}\n"
     ]
    },
    {
     "name": "stderr",
     "output_type": "stream",
     "text": [
      "15:37:17 - cmdstanpy - INFO - Chain [1] start processing\n",
      "15:37:17 - cmdstanpy - INFO - Chain [1] done processing\n",
      "15:37:18 - cmdstanpy - INFO - Chain [1] start processing\n",
      "15:37:18 - cmdstanpy - INFO - Chain [1] done processing\n",
      "15:37:18 - cmdstanpy - INFO - Chain [1] start processing\n",
      "15:37:19 - cmdstanpy - INFO - Chain [1] start processing\n",
      "15:37:19 - cmdstanpy - INFO - Chain [1] start processing\n",
      "15:37:19 - cmdstanpy - INFO - Chain [1] done processing\n",
      "15:37:19 - cmdstanpy - ERROR - Chain [1] error: error during processing Operation not permitted\n",
      "Optimization terminated abnormally. Falling back to Newton.\n",
      "15:37:19 - cmdstanpy - INFO - Chain [1] start processing\n",
      "15:37:19 - cmdstanpy - INFO - Chain [1] start processing\n",
      "15:37:19 - cmdstanpy - INFO - Chain [1] done processing\n",
      "15:37:19 - cmdstanpy - INFO - Chain [1] done processing\n",
      "15:37:19 - cmdstanpy - ERROR - Chain [1] error: error during processing Operation not permitted\n",
      "Optimization terminated abnormally. Falling back to Newton.\n",
      "15:37:19 - cmdstanpy - INFO - Chain [1] start processing\n",
      "15:37:19 - cmdstanpy - INFO - Chain [1] done processing\n",
      "15:37:19 - cmdstanpy - ERROR - Chain [1] error: error during processing Operation not permitted\n",
      "Optimization terminated abnormally. Falling back to Newton.\n",
      "15:37:20 - cmdstanpy - INFO - Chain [1] start processing\n",
      "15:37:24 - cmdstanpy - INFO - Chain [1] done processing\n",
      "15:37:26 - cmdstanpy - INFO - Chain [1] done processing\n",
      "15:37:28 - cmdstanpy - INFO - Chain [1] done processing\n"
     ]
    },
    {
     "name": "stdout",
     "output_type": "stream",
     "text": [
      "{'changepoint_prior_scale': 0.001, 'holidays_prior_scale': 5.01, 'seasonality_mode': 'additive', 'seasonality_prior_scale': 7.51}\n"
     ]
    },
    {
     "name": "stderr",
     "output_type": "stream",
     "text": [
      "15:37:29 - cmdstanpy - INFO - Chain [1] start processing\n",
      "15:37:29 - cmdstanpy - INFO - Chain [1] done processing\n",
      "15:37:31 - cmdstanpy - INFO - Chain [1] start processing\n",
      "15:37:31 - cmdstanpy - INFO - Chain [1] done processing\n",
      "15:37:31 - cmdstanpy - INFO - Chain [1] start processing\n",
      "15:37:31 - cmdstanpy - INFO - Chain [1] start processing\n",
      "15:37:31 - cmdstanpy - INFO - Chain [1] done processing\n",
      "15:37:31 - cmdstanpy - ERROR - Chain [1] error: error during processing Operation not permitted\n",
      "Optimization terminated abnormally. Falling back to Newton.\n",
      "15:37:31 - cmdstanpy - INFO - Chain [1] start processing\n",
      "15:37:31 - cmdstanpy - INFO - Chain [1] start processing\n",
      "15:37:31 - cmdstanpy - INFO - Chain [1] start processing\n",
      "15:37:31 - cmdstanpy - INFO - Chain [1] done processing\n",
      "15:37:31 - cmdstanpy - INFO - Chain [1] done processing\n",
      "15:37:31 - cmdstanpy - ERROR - Chain [1] error: error during processing Operation not permitted\n",
      "Optimization terminated abnormally. Falling back to Newton.\n",
      "15:37:31 - cmdstanpy - INFO - Chain [1] done processing\n",
      "15:37:31 - cmdstanpy - ERROR - Chain [1] error: error during processing Operation not permitted\n",
      "Optimization terminated abnormally. Falling back to Newton.\n",
      "15:37:32 - cmdstanpy - INFO - Chain [1] start processing\n",
      "15:37:32 - cmdstanpy - INFO - Chain [1] start processing\n",
      "15:37:36 - cmdstanpy - INFO - Chain [1] done processing\n",
      "15:37:39 - cmdstanpy - INFO - Chain [1] done processing\n",
      "15:37:41 - cmdstanpy - INFO - Chain [1] done processing\n"
     ]
    },
    {
     "name": "stdout",
     "output_type": "stream",
     "text": [
      "{'changepoint_prior_scale': 0.001, 'holidays_prior_scale': 7.51, 'seasonality_mode': 'multiplicative', 'seasonality_prior_scale': 0.01}\n"
     ]
    },
    {
     "name": "stderr",
     "output_type": "stream",
     "text": [
      "15:37:42 - cmdstanpy - INFO - Chain [1] start processing\n",
      "15:37:42 - cmdstanpy - INFO - Chain [1] done processing\n",
      "15:37:43 - cmdstanpy - INFO - Chain [1] start processing\n",
      "15:37:44 - cmdstanpy - INFO - Chain [1] start processing\n",
      "15:37:44 - cmdstanpy - INFO - Chain [1] start processing\n",
      "15:37:44 - cmdstanpy - INFO - Chain [1] start processing\n",
      "15:37:44 - cmdstanpy - INFO - Chain [1] done processing\n",
      "15:37:44 - cmdstanpy - INFO - Chain [1] start processing\n",
      "15:37:44 - cmdstanpy - INFO - Chain [1] done processing\n",
      "15:37:44 - cmdstanpy - INFO - Chain [1] done processing\n",
      "15:37:44 - cmdstanpy - ERROR - Chain [1] error: error during processing Operation not permitted\n",
      "Optimization terminated abnormally. Falling back to Newton.\n",
      "15:37:44 - cmdstanpy - INFO - Chain [1] done processing\n",
      "15:37:45 - cmdstanpy - INFO - Chain [1] start processing\n",
      "15:37:45 - cmdstanpy - INFO - Chain [1] done processing\n",
      "15:39:10 - cmdstanpy - INFO - Chain [1] done processing\n"
     ]
    },
    {
     "name": "stdout",
     "output_type": "stream",
     "text": [
      "{'changepoint_prior_scale': 0.001, 'holidays_prior_scale': 7.51, 'seasonality_mode': 'multiplicative', 'seasonality_prior_scale': 2.51}\n"
     ]
    },
    {
     "name": "stderr",
     "output_type": "stream",
     "text": [
      "15:39:11 - cmdstanpy - INFO - Chain [1] start processing\n",
      "15:39:11 - cmdstanpy - INFO - Chain [1] done processing\n",
      "15:39:12 - cmdstanpy - INFO - Chain [1] start processing\n",
      "15:39:12 - cmdstanpy - INFO - Chain [1] start processing\n",
      "15:39:12 - cmdstanpy - INFO - Chain [1] done processing\n",
      "15:39:12 - cmdstanpy - INFO - Chain [1] start processing\n",
      "15:39:12 - cmdstanpy - INFO - Chain [1] start processing\n",
      "15:39:12 - cmdstanpy - INFO - Chain [1] start processing\n",
      "15:39:13 - cmdstanpy - INFO - Chain [1] done processing\n",
      "15:39:13 - cmdstanpy - INFO - Chain [1] done processing\n",
      "15:39:13 - cmdstanpy - ERROR - Chain [1] error: error during processing Operation not permitted\n",
      "Optimization terminated abnormally. Falling back to Newton.\n",
      "15:39:13 - cmdstanpy - INFO - Chain [1] done processing\n",
      "15:39:13 - cmdstanpy - INFO - Chain [1] start processing\n",
      "15:39:14 - cmdstanpy - INFO - Chain [1] done processing\n",
      "15:39:33 - cmdstanpy - INFO - Chain [1] done processing\n"
     ]
    },
    {
     "name": "stdout",
     "output_type": "stream",
     "text": [
      "{'changepoint_prior_scale': 0.001, 'holidays_prior_scale': 7.51, 'seasonality_mode': 'multiplicative', 'seasonality_prior_scale': 5.01}\n"
     ]
    },
    {
     "name": "stderr",
     "output_type": "stream",
     "text": [
      "15:39:34 - cmdstanpy - INFO - Chain [1] start processing\n",
      "15:39:34 - cmdstanpy - INFO - Chain [1] done processing\n",
      "15:39:35 - cmdstanpy - INFO - Chain [1] start processing\n",
      "15:39:35 - cmdstanpy - INFO - Chain [1] start processing\n",
      "15:39:36 - cmdstanpy - INFO - Chain [1] start processing\n",
      "15:39:36 - cmdstanpy - INFO - Chain [1] start processing\n",
      "15:39:36 - cmdstanpy - INFO - Chain [1] start processing\n",
      "15:39:36 - cmdstanpy - INFO - Chain [1] done processing\n",
      "15:39:36 - cmdstanpy - ERROR - Chain [1] error: error during processing Operation not permitted\n",
      "Optimization terminated abnormally. Falling back to Newton.\n",
      "15:39:36 - cmdstanpy - INFO - Chain [1] done processing\n",
      "15:39:36 - cmdstanpy - INFO - Chain [1] done processing\n",
      "15:39:36 - cmdstanpy - ERROR - Chain [1] error: error during processing Operation not permitted\n",
      "Optimization terminated abnormally. Falling back to Newton.\n",
      "15:39:36 - cmdstanpy - INFO - Chain [1] done processing\n",
      "15:39:36 - cmdstanpy - INFO - Chain [1] start processing\n",
      "15:39:37 - cmdstanpy - INFO - Chain [1] start processing\n",
      "15:39:37 - cmdstanpy - INFO - Chain [1] done processing\n",
      "15:39:50 - cmdstanpy - INFO - Chain [1] done processing\n",
      "15:40:03 - cmdstanpy - INFO - Chain [1] done processing\n"
     ]
    },
    {
     "name": "stdout",
     "output_type": "stream",
     "text": [
      "{'changepoint_prior_scale': 0.001, 'holidays_prior_scale': 7.51, 'seasonality_mode': 'multiplicative', 'seasonality_prior_scale': 7.51}\n"
     ]
    },
    {
     "name": "stderr",
     "output_type": "stream",
     "text": [
      "15:40:03 - cmdstanpy - INFO - Chain [1] start processing\n",
      "15:40:03 - cmdstanpy - INFO - Chain [1] done processing\n",
      "15:40:05 - cmdstanpy - INFO - Chain [1] start processing\n",
      "15:40:05 - cmdstanpy - INFO - Chain [1] start processing\n",
      "15:40:05 - cmdstanpy - INFO - Chain [1] start processing\n",
      "15:40:05 - cmdstanpy - INFO - Chain [1] start processing\n",
      "15:40:05 - cmdstanpy - INFO - Chain [1] done processing\n",
      "15:40:05 - cmdstanpy - INFO - Chain [1] start processing\n",
      "15:40:05 - cmdstanpy - INFO - Chain [1] done processing\n",
      "15:40:05 - cmdstanpy - ERROR - Chain [1] error: error during processing Operation not permitted\n",
      "Optimization terminated abnormally. Falling back to Newton.\n",
      "15:40:05 - cmdstanpy - INFO - Chain [1] done processing\n",
      "15:40:05 - cmdstanpy - ERROR - Chain [1] error: error during processing Operation not permitted\n",
      "Optimization terminated abnormally. Falling back to Newton.\n",
      "15:40:05 - cmdstanpy - INFO - Chain [1] start processing\n",
      "15:40:06 - cmdstanpy - INFO - Chain [1] start processing\n",
      "15:40:06 - cmdstanpy - INFO - Chain [1] done processing\n",
      "15:40:06 - cmdstanpy - INFO - Chain [1] done processing\n",
      "15:40:20 - cmdstanpy - INFO - Chain [1] done processing\n",
      "15:40:33 - cmdstanpy - INFO - Chain [1] done processing\n"
     ]
    },
    {
     "name": "stdout",
     "output_type": "stream",
     "text": [
      "{'changepoint_prior_scale': 0.001, 'holidays_prior_scale': 7.51, 'seasonality_mode': 'additive', 'seasonality_prior_scale': 0.01}\n"
     ]
    },
    {
     "name": "stderr",
     "output_type": "stream",
     "text": [
      "15:40:33 - cmdstanpy - INFO - Chain [1] start processing\n",
      "15:40:33 - cmdstanpy - INFO - Chain [1] done processing\n",
      "15:40:35 - cmdstanpy - INFO - Chain [1] start processing\n",
      "15:40:35 - cmdstanpy - INFO - Chain [1] done processing\n",
      "15:40:35 - cmdstanpy - INFO - Chain [1] start processing\n",
      "15:40:35 - cmdstanpy - INFO - Chain [1] start processing\n",
      "15:40:35 - cmdstanpy - INFO - Chain [1] done processing\n",
      "15:40:35 - cmdstanpy - ERROR - Chain [1] error: error during processing Operation not permitted\n",
      "Optimization terminated abnormally. Falling back to Newton.\n",
      "15:40:35 - cmdstanpy - INFO - Chain [1] start processing\n",
      "15:40:35 - cmdstanpy - INFO - Chain [1] start processing\n",
      "15:40:35 - cmdstanpy - INFO - Chain [1] start processing\n",
      "15:40:35 - cmdstanpy - INFO - Chain [1] done processing\n",
      "15:40:35 - cmdstanpy - ERROR - Chain [1] error: error during processing Operation not permitted\n",
      "Optimization terminated abnormally. Falling back to Newton.\n",
      "15:40:35 - cmdstanpy - INFO - Chain [1] done processing\n",
      "15:40:35 - cmdstanpy - INFO - Chain [1] start processing\n",
      "15:40:36 - cmdstanpy - INFO - Chain [1] done processing\n",
      "15:40:36 - cmdstanpy - ERROR - Chain [1] error: error during processing Operation not permitted\n",
      "Optimization terminated abnormally. Falling back to Newton.\n",
      "15:40:36 - cmdstanpy - INFO - Chain [1] start processing\n",
      "15:40:41 - cmdstanpy - INFO - Chain [1] done processing\n",
      "15:40:43 - cmdstanpy - INFO - Chain [1] done processing\n",
      "15:40:45 - cmdstanpy - INFO - Chain [1] done processing\n"
     ]
    },
    {
     "name": "stdout",
     "output_type": "stream",
     "text": [
      "{'changepoint_prior_scale': 0.001, 'holidays_prior_scale': 7.51, 'seasonality_mode': 'additive', 'seasonality_prior_scale': 2.51}\n"
     ]
    },
    {
     "name": "stderr",
     "output_type": "stream",
     "text": [
      "15:40:46 - cmdstanpy - INFO - Chain [1] start processing\n",
      "15:40:46 - cmdstanpy - INFO - Chain [1] done processing\n",
      "15:40:47 - cmdstanpy - INFO - Chain [1] start processing\n",
      "15:40:47 - cmdstanpy - INFO - Chain [1] done processing\n",
      "15:40:47 - cmdstanpy - INFO - Chain [1] start processing\n",
      "15:40:47 - cmdstanpy - INFO - Chain [1] start processing\n",
      "15:40:47 - cmdstanpy - INFO - Chain [1] start processing\n",
      "15:40:47 - cmdstanpy - INFO - Chain [1] done processing\n",
      "15:40:47 - cmdstanpy - ERROR - Chain [1] error: error during processing Operation not permitted\n",
      "Optimization terminated abnormally. Falling back to Newton.\n",
      "15:40:48 - cmdstanpy - INFO - Chain [1] start processing\n",
      "15:40:48 - cmdstanpy - INFO - Chain [1] start processing\n",
      "15:40:48 - cmdstanpy - INFO - Chain [1] done processing\n",
      "15:40:48 - cmdstanpy - ERROR - Chain [1] error: error during processing Operation not permitted\n",
      "Optimization terminated abnormally. Falling back to Newton.\n",
      "15:40:48 - cmdstanpy - INFO - Chain [1] done processing\n",
      "15:40:48 - cmdstanpy - INFO - Chain [1] start processing\n",
      "15:40:48 - cmdstanpy - INFO - Chain [1] done processing\n",
      "15:40:48 - cmdstanpy - ERROR - Chain [1] error: error during processing Operation not permitted\n",
      "Optimization terminated abnormally. Falling back to Newton.\n",
      "15:40:49 - cmdstanpy - INFO - Chain [1] start processing\n",
      "15:40:56 - cmdstanpy - INFO - Chain [1] done processing\n",
      "15:40:58 - cmdstanpy - INFO - Chain [1] done processing\n",
      "15:40:58 - cmdstanpy - INFO - Chain [1] done processing\n"
     ]
    },
    {
     "name": "stdout",
     "output_type": "stream",
     "text": [
      "{'changepoint_prior_scale': 0.001, 'holidays_prior_scale': 7.51, 'seasonality_mode': 'additive', 'seasonality_prior_scale': 5.01}\n"
     ]
    },
    {
     "name": "stderr",
     "output_type": "stream",
     "text": [
      "15:40:59 - cmdstanpy - INFO - Chain [1] start processing\n",
      "15:40:59 - cmdstanpy - INFO - Chain [1] done processing\n",
      "15:41:00 - cmdstanpy - INFO - Chain [1] start processing\n",
      "15:41:01 - cmdstanpy - INFO - Chain [1] done processing\n",
      "15:41:01 - cmdstanpy - INFO - Chain [1] start processing\n",
      "15:41:01 - cmdstanpy - INFO - Chain [1] start processing\n",
      "15:41:01 - cmdstanpy - INFO - Chain [1] start processing\n",
      "15:41:01 - cmdstanpy - INFO - Chain [1] done processing\n",
      "15:41:01 - cmdstanpy - ERROR - Chain [1] error: error during processing Operation not permitted\n",
      "Optimization terminated abnormally. Falling back to Newton.\n",
      "15:41:01 - cmdstanpy - INFO - Chain [1] start processing\n",
      "15:41:01 - cmdstanpy - INFO - Chain [1] start processing\n",
      "15:41:01 - cmdstanpy - INFO - Chain [1] done processing\n",
      "15:41:01 - cmdstanpy - ERROR - Chain [1] error: error during processing Operation not permitted\n",
      "Optimization terminated abnormally. Falling back to Newton.\n",
      "15:41:01 - cmdstanpy - INFO - Chain [1] done processing\n",
      "15:41:02 - cmdstanpy - INFO - Chain [1] start processing\n",
      "15:41:02 - cmdstanpy - INFO - Chain [1] done processing\n",
      "15:41:02 - cmdstanpy - ERROR - Chain [1] error: error during processing Operation not permitted\n",
      "Optimization terminated abnormally. Falling back to Newton.\n",
      "15:41:02 - cmdstanpy - INFO - Chain [1] start processing\n",
      "15:41:09 - cmdstanpy - INFO - Chain [1] done processing\n",
      "15:41:10 - cmdstanpy - INFO - Chain [1] done processing\n",
      "15:41:13 - cmdstanpy - INFO - Chain [1] done processing\n"
     ]
    },
    {
     "name": "stdout",
     "output_type": "stream",
     "text": [
      "{'changepoint_prior_scale': 0.001, 'holidays_prior_scale': 7.51, 'seasonality_mode': 'additive', 'seasonality_prior_scale': 7.51}\n"
     ]
    },
    {
     "name": "stderr",
     "output_type": "stream",
     "text": [
      "15:41:14 - cmdstanpy - INFO - Chain [1] start processing\n",
      "15:41:14 - cmdstanpy - INFO - Chain [1] done processing\n",
      "15:41:15 - cmdstanpy - INFO - Chain [1] start processing\n",
      "15:41:15 - cmdstanpy - INFO - Chain [1] done processing\n",
      "15:41:15 - cmdstanpy - INFO - Chain [1] start processing\n",
      "15:41:15 - cmdstanpy - INFO - Chain [1] done processing\n",
      "15:41:15 - cmdstanpy - ERROR - Chain [1] error: error during processing Operation not permitted\n",
      "Optimization terminated abnormally. Falling back to Newton.\n",
      "15:41:16 - cmdstanpy - INFO - Chain [1] start processing\n",
      "15:41:16 - cmdstanpy - INFO - Chain [1] start processing\n",
      "15:41:16 - cmdstanpy - INFO - Chain [1] start processing\n",
      "15:41:16 - cmdstanpy - INFO - Chain [1] start processing\n",
      "15:41:16 - cmdstanpy - INFO - Chain [1] done processing\n",
      "15:41:16 - cmdstanpy - INFO - Chain [1] done processing\n",
      "15:41:16 - cmdstanpy - ERROR - Chain [1] error: error during processing Operation not permitted\n",
      "Optimization terminated abnormally. Falling back to Newton.\n",
      "15:41:16 - cmdstanpy - INFO - Chain [1] done processing\n",
      "15:41:16 - cmdstanpy - ERROR - Chain [1] error: error during processing Operation not permitted\n",
      "Optimization terminated abnormally. Falling back to Newton.\n",
      "15:41:16 - cmdstanpy - INFO - Chain [1] start processing\n",
      "15:41:17 - cmdstanpy - INFO - Chain [1] start processing\n",
      "15:41:22 - cmdstanpy - INFO - Chain [1] done processing\n",
      "15:41:24 - cmdstanpy - INFO - Chain [1] done processing\n",
      "15:41:25 - cmdstanpy - INFO - Chain [1] done processing\n"
     ]
    },
    {
     "name": "stdout",
     "output_type": "stream",
     "text": [
      "{'changepoint_prior_scale': 0.101, 'holidays_prior_scale': 0.01, 'seasonality_mode': 'multiplicative', 'seasonality_prior_scale': 0.01}\n"
     ]
    },
    {
     "name": "stderr",
     "output_type": "stream",
     "text": [
      "15:41:26 - cmdstanpy - INFO - Chain [1] start processing\n",
      "15:41:27 - cmdstanpy - INFO - Chain [1] done processing\n",
      "15:41:28 - cmdstanpy - INFO - Chain [1] start processing\n",
      "15:41:28 - cmdstanpy - INFO - Chain [1] start processing\n",
      "15:41:28 - cmdstanpy - INFO - Chain [1] start processing\n",
      "15:41:28 - cmdstanpy - INFO - Chain [1] done processing\n",
      "15:41:28 - cmdstanpy - INFO - Chain [1] start processing\n",
      "15:41:28 - cmdstanpy - INFO - Chain [1] done processing\n",
      "15:41:28 - cmdstanpy - INFO - Chain [1] start processing\n",
      "15:41:28 - cmdstanpy - INFO - Chain [1] done processing\n",
      "15:41:29 - cmdstanpy - INFO - Chain [1] done processing\n",
      "15:41:29 - cmdstanpy - INFO - Chain [1] done processing\n"
     ]
    },
    {
     "name": "stdout",
     "output_type": "stream",
     "text": [
      "{'changepoint_prior_scale': 0.101, 'holidays_prior_scale': 0.01, 'seasonality_mode': 'multiplicative', 'seasonality_prior_scale': 2.51}\n"
     ]
    },
    {
     "name": "stderr",
     "output_type": "stream",
     "text": [
      "15:41:30 - cmdstanpy - INFO - Chain [1] start processing\n",
      "15:41:31 - cmdstanpy - INFO - Chain [1] done processing\n",
      "15:41:32 - cmdstanpy - INFO - Chain [1] start processing\n",
      "15:41:32 - cmdstanpy - INFO - Chain [1] start processing\n",
      "15:41:32 - cmdstanpy - INFO - Chain [1] done processing\n",
      "15:41:32 - cmdstanpy - INFO - Chain [1] start processing\n",
      "15:41:32 - cmdstanpy - INFO - Chain [1] start processing\n",
      "15:41:32 - cmdstanpy - INFO - Chain [1] start processing\n",
      "15:41:32 - cmdstanpy - INFO - Chain [1] done processing\n",
      "15:41:33 - cmdstanpy - INFO - Chain [1] done processing\n",
      "15:41:33 - cmdstanpy - INFO - Chain [1] done processing\n",
      "15:41:34 - cmdstanpy - INFO - Chain [1] done processing\n"
     ]
    },
    {
     "name": "stdout",
     "output_type": "stream",
     "text": [
      "{'changepoint_prior_scale': 0.101, 'holidays_prior_scale': 0.01, 'seasonality_mode': 'multiplicative', 'seasonality_prior_scale': 5.01}\n"
     ]
    },
    {
     "name": "stderr",
     "output_type": "stream",
     "text": [
      "15:41:34 - cmdstanpy - INFO - Chain [1] start processing\n",
      "15:41:35 - cmdstanpy - INFO - Chain [1] done processing\n",
      "15:41:36 - cmdstanpy - INFO - Chain [1] start processing\n",
      "15:41:36 - cmdstanpy - INFO - Chain [1] start processing\n",
      "15:41:36 - cmdstanpy - INFO - Chain [1] done processing\n",
      "15:41:36 - cmdstanpy - INFO - Chain [1] start processing\n",
      "15:41:36 - cmdstanpy - INFO - Chain [1] start processing\n",
      "15:41:37 - cmdstanpy - INFO - Chain [1] done processing\n",
      "15:41:37 - cmdstanpy - INFO - Chain [1] start processing\n",
      "15:41:37 - cmdstanpy - INFO - Chain [1] done processing\n",
      "15:41:37 - cmdstanpy - INFO - Chain [1] done processing\n",
      "15:41:38 - cmdstanpy - INFO - Chain [1] done processing\n"
     ]
    },
    {
     "name": "stdout",
     "output_type": "stream",
     "text": [
      "{'changepoint_prior_scale': 0.101, 'holidays_prior_scale': 0.01, 'seasonality_mode': 'multiplicative', 'seasonality_prior_scale': 7.51}\n"
     ]
    },
    {
     "name": "stderr",
     "output_type": "stream",
     "text": [
      "15:41:39 - cmdstanpy - INFO - Chain [1] start processing\n",
      "15:41:39 - cmdstanpy - INFO - Chain [1] done processing\n",
      "15:41:41 - cmdstanpy - INFO - Chain [1] start processing\n",
      "15:41:41 - cmdstanpy - INFO - Chain [1] done processing\n",
      "15:41:41 - cmdstanpy - INFO - Chain [1] start processing\n",
      "15:41:41 - cmdstanpy - INFO - Chain [1] start processing\n",
      "15:41:41 - cmdstanpy - INFO - Chain [1] start processing\n",
      "15:41:41 - cmdstanpy - INFO - Chain [1] done processing\n",
      "15:41:41 - cmdstanpy - INFO - Chain [1] start processing\n",
      "15:41:41 - cmdstanpy - INFO - Chain [1] done processing\n",
      "15:41:42 - cmdstanpy - INFO - Chain [1] done processing\n",
      "15:41:42 - cmdstanpy - INFO - Chain [1] done processing\n"
     ]
    },
    {
     "name": "stdout",
     "output_type": "stream",
     "text": [
      "{'changepoint_prior_scale': 0.101, 'holidays_prior_scale': 0.01, 'seasonality_mode': 'additive', 'seasonality_prior_scale': 0.01}\n"
     ]
    },
    {
     "name": "stderr",
     "output_type": "stream",
     "text": [
      "15:41:43 - cmdstanpy - INFO - Chain [1] start processing\n",
      "15:41:44 - cmdstanpy - INFO - Chain [1] done processing\n",
      "15:41:45 - cmdstanpy - INFO - Chain [1] start processing\n",
      "15:41:45 - cmdstanpy - INFO - Chain [1] done processing\n",
      "15:41:45 - cmdstanpy - INFO - Chain [1] start processing\n",
      "15:41:45 - cmdstanpy - INFO - Chain [1] start processing\n",
      "15:41:46 - cmdstanpy - INFO - Chain [1] start processing\n",
      "15:41:46 - cmdstanpy - INFO - Chain [1] done processing\n",
      "15:41:46 - cmdstanpy - INFO - Chain [1] start processing\n",
      "15:41:46 - cmdstanpy - INFO - Chain [1] done processing\n",
      "15:41:46 - cmdstanpy - INFO - Chain [1] done processing\n",
      "15:41:47 - cmdstanpy - INFO - Chain [1] done processing\n"
     ]
    },
    {
     "name": "stdout",
     "output_type": "stream",
     "text": [
      "{'changepoint_prior_scale': 0.101, 'holidays_prior_scale': 0.01, 'seasonality_mode': 'additive', 'seasonality_prior_scale': 2.51}\n"
     ]
    },
    {
     "name": "stderr",
     "output_type": "stream",
     "text": [
      "15:41:47 - cmdstanpy - INFO - Chain [1] start processing\n",
      "15:41:48 - cmdstanpy - INFO - Chain [1] done processing\n",
      "15:41:50 - cmdstanpy - INFO - Chain [1] start processing\n",
      "15:41:50 - cmdstanpy - INFO - Chain [1] done processing\n",
      "15:41:50 - cmdstanpy - INFO - Chain [1] start processing\n",
      "15:41:50 - cmdstanpy - INFO - Chain [1] start processing\n",
      "15:41:50 - cmdstanpy - INFO - Chain [1] start processing\n",
      "15:41:50 - cmdstanpy - INFO - Chain [1] done processing\n",
      "15:41:50 - cmdstanpy - INFO - Chain [1] start processing\n",
      "15:41:50 - cmdstanpy - INFO - Chain [1] done processing\n",
      "15:41:51 - cmdstanpy - INFO - Chain [1] done processing\n",
      "15:41:51 - cmdstanpy - INFO - Chain [1] done processing\n"
     ]
    },
    {
     "name": "stdout",
     "output_type": "stream",
     "text": [
      "{'changepoint_prior_scale': 0.101, 'holidays_prior_scale': 0.01, 'seasonality_mode': 'additive', 'seasonality_prior_scale': 5.01}\n"
     ]
    },
    {
     "name": "stderr",
     "output_type": "stream",
     "text": [
      "15:41:52 - cmdstanpy - INFO - Chain [1] start processing\n",
      "15:41:52 - cmdstanpy - INFO - Chain [1] done processing\n",
      "15:41:54 - cmdstanpy - INFO - Chain [1] start processing\n",
      "15:41:54 - cmdstanpy - INFO - Chain [1] done processing\n",
      "15:41:54 - cmdstanpy - INFO - Chain [1] start processing\n",
      "15:41:54 - cmdstanpy - INFO - Chain [1] start processing\n",
      "15:41:54 - cmdstanpy - INFO - Chain [1] done processing\n",
      "15:41:54 - cmdstanpy - INFO - Chain [1] start processing\n",
      "15:41:55 - cmdstanpy - INFO - Chain [1] start processing\n",
      "15:41:55 - cmdstanpy - INFO - Chain [1] done processing\n",
      "15:41:55 - cmdstanpy - INFO - Chain [1] done processing\n",
      "15:41:56 - cmdstanpy - INFO - Chain [1] done processing\n"
     ]
    },
    {
     "name": "stdout",
     "output_type": "stream",
     "text": [
      "{'changepoint_prior_scale': 0.101, 'holidays_prior_scale': 0.01, 'seasonality_mode': 'additive', 'seasonality_prior_scale': 7.51}\n"
     ]
    },
    {
     "name": "stderr",
     "output_type": "stream",
     "text": [
      "15:41:57 - cmdstanpy - INFO - Chain [1] start processing\n",
      "15:41:57 - cmdstanpy - INFO - Chain [1] done processing\n",
      "15:41:59 - cmdstanpy - INFO - Chain [1] start processing\n",
      "15:41:59 - cmdstanpy - INFO - Chain [1] start processing\n",
      "15:41:59 - cmdstanpy - INFO - Chain [1] done processing\n",
      "15:41:59 - cmdstanpy - INFO - Chain [1] start processing\n",
      "15:41:59 - cmdstanpy - INFO - Chain [1] start processing\n",
      "15:41:59 - cmdstanpy - INFO - Chain [1] start processing\n",
      "15:41:59 - cmdstanpy - INFO - Chain [1] done processing\n",
      "15:42:00 - cmdstanpy - INFO - Chain [1] done processing\n",
      "15:42:00 - cmdstanpy - INFO - Chain [1] done processing\n",
      "15:42:00 - cmdstanpy - INFO - Chain [1] done processing\n"
     ]
    },
    {
     "name": "stdout",
     "output_type": "stream",
     "text": [
      "{'changepoint_prior_scale': 0.101, 'holidays_prior_scale': 2.51, 'seasonality_mode': 'multiplicative', 'seasonality_prior_scale': 0.01}\n"
     ]
    },
    {
     "name": "stderr",
     "output_type": "stream",
     "text": [
      "15:42:01 - cmdstanpy - INFO - Chain [1] start processing\n",
      "15:42:04 - cmdstanpy - INFO - Chain [1] done processing\n",
      "15:42:05 - cmdstanpy - INFO - Chain [1] start processing\n",
      "15:42:05 - cmdstanpy - INFO - Chain [1] start processing\n",
      "15:42:05 - cmdstanpy - INFO - Chain [1] done processing\n",
      "15:42:05 - cmdstanpy - INFO - Chain [1] start processing\n",
      "15:42:05 - cmdstanpy - INFO - Chain [1] done processing\n",
      "15:42:05 - cmdstanpy - INFO - Chain [1] start processing\n",
      "15:42:05 - cmdstanpy - INFO - Chain [1] start processing\n",
      "15:42:05 - cmdstanpy - INFO - Chain [1] done processing\n",
      "15:42:06 - cmdstanpy - INFO - Chain [1] done processing\n",
      "15:42:08 - cmdstanpy - INFO - Chain [1] done processing\n"
     ]
    },
    {
     "name": "stdout",
     "output_type": "stream",
     "text": [
      "{'changepoint_prior_scale': 0.101, 'holidays_prior_scale': 2.51, 'seasonality_mode': 'multiplicative', 'seasonality_prior_scale': 2.51}\n"
     ]
    },
    {
     "name": "stderr",
     "output_type": "stream",
     "text": [
      "15:42:09 - cmdstanpy - INFO - Chain [1] start processing\n",
      "15:42:11 - cmdstanpy - INFO - Chain [1] done processing\n",
      "15:42:13 - cmdstanpy - INFO - Chain [1] start processing\n",
      "15:42:13 - cmdstanpy - INFO - Chain [1] start processing\n",
      "15:42:13 - cmdstanpy - INFO - Chain [1] done processing\n",
      "15:42:13 - cmdstanpy - INFO - Chain [1] start processing\n",
      "15:42:13 - cmdstanpy - INFO - Chain [1] start processing\n",
      "15:42:13 - cmdstanpy - INFO - Chain [1] done processing\n",
      "15:42:13 - cmdstanpy - INFO - Chain [1] start processing\n",
      "15:42:14 - cmdstanpy - INFO - Chain [1] done processing\n",
      "15:42:14 - cmdstanpy - INFO - Chain [1] done processing\n",
      "15:42:16 - cmdstanpy - INFO - Chain [1] done processing\n"
     ]
    },
    {
     "name": "stdout",
     "output_type": "stream",
     "text": [
      "{'changepoint_prior_scale': 0.101, 'holidays_prior_scale': 2.51, 'seasonality_mode': 'multiplicative', 'seasonality_prior_scale': 5.01}\n"
     ]
    },
    {
     "name": "stderr",
     "output_type": "stream",
     "text": [
      "15:42:17 - cmdstanpy - INFO - Chain [1] start processing\n",
      "15:42:19 - cmdstanpy - INFO - Chain [1] done processing\n",
      "15:42:20 - cmdstanpy - INFO - Chain [1] start processing\n",
      "15:42:20 - cmdstanpy - INFO - Chain [1] start processing\n",
      "15:42:21 - cmdstanpy - INFO - Chain [1] start processing\n",
      "15:42:21 - cmdstanpy - INFO - Chain [1] done processing\n",
      "15:42:21 - cmdstanpy - INFO - Chain [1] done processing\n",
      "15:42:21 - cmdstanpy - INFO - Chain [1] start processing\n",
      "15:42:21 - cmdstanpy - INFO - Chain [1] start processing\n",
      "15:42:21 - cmdstanpy - INFO - Chain [1] done processing\n",
      "15:42:21 - cmdstanpy - INFO - Chain [1] done processing\n",
      "15:42:23 - cmdstanpy - INFO - Chain [1] done processing\n"
     ]
    },
    {
     "name": "stdout",
     "output_type": "stream",
     "text": [
      "{'changepoint_prior_scale': 0.101, 'holidays_prior_scale': 2.51, 'seasonality_mode': 'multiplicative', 'seasonality_prior_scale': 7.51}\n"
     ]
    },
    {
     "name": "stderr",
     "output_type": "stream",
     "text": [
      "15:42:24 - cmdstanpy - INFO - Chain [1] start processing\n",
      "15:42:26 - cmdstanpy - INFO - Chain [1] done processing\n",
      "15:42:27 - cmdstanpy - INFO - Chain [1] start processing\n",
      "15:42:27 - cmdstanpy - INFO - Chain [1] start processing\n",
      "15:42:27 - cmdstanpy - INFO - Chain [1] done processing\n",
      "15:42:27 - cmdstanpy - INFO - Chain [1] start processing\n",
      "15:42:27 - cmdstanpy - INFO - Chain [1] start processing\n",
      "15:42:28 - cmdstanpy - INFO - Chain [1] done processing\n",
      "15:42:28 - cmdstanpy - INFO - Chain [1] start processing\n",
      "15:42:28 - cmdstanpy - INFO - Chain [1] done processing\n",
      "15:42:28 - cmdstanpy - INFO - Chain [1] done processing\n",
      "15:42:30 - cmdstanpy - INFO - Chain [1] done processing\n"
     ]
    },
    {
     "name": "stdout",
     "output_type": "stream",
     "text": [
      "{'changepoint_prior_scale': 0.101, 'holidays_prior_scale': 2.51, 'seasonality_mode': 'additive', 'seasonality_prior_scale': 0.01}\n"
     ]
    },
    {
     "name": "stderr",
     "output_type": "stream",
     "text": [
      "15:42:31 - cmdstanpy - INFO - Chain [1] start processing\n",
      "15:42:31 - cmdstanpy - INFO - Chain [1] done processing\n",
      "15:42:33 - cmdstanpy - INFO - Chain [1] start processing\n",
      "15:42:33 - cmdstanpy - INFO - Chain [1] done processing\n",
      "15:42:33 - cmdstanpy - INFO - Chain [1] start processing\n",
      "15:42:33 - cmdstanpy - INFO - Chain [1] start processing\n",
      "15:42:33 - cmdstanpy - INFO - Chain [1] start processing\n",
      "15:42:33 - cmdstanpy - INFO - Chain [1] start processing\n",
      "15:42:33 - cmdstanpy - INFO - Chain [1] done processing\n",
      "15:42:33 - cmdstanpy - INFO - Chain [1] done processing\n",
      "15:42:34 - cmdstanpy - INFO - Chain [1] done processing\n",
      "15:42:35 - cmdstanpy - INFO - Chain [1] done processing\n"
     ]
    },
    {
     "name": "stdout",
     "output_type": "stream",
     "text": [
      "{'changepoint_prior_scale': 0.101, 'holidays_prior_scale': 2.51, 'seasonality_mode': 'additive', 'seasonality_prior_scale': 2.51}\n"
     ]
    },
    {
     "name": "stderr",
     "output_type": "stream",
     "text": [
      "15:42:35 - cmdstanpy - INFO - Chain [1] start processing\n",
      "15:42:36 - cmdstanpy - INFO - Chain [1] done processing\n",
      "15:42:37 - cmdstanpy - INFO - Chain [1] start processing\n",
      "15:42:37 - cmdstanpy - INFO - Chain [1] start processing\n",
      "15:42:38 - cmdstanpy - INFO - Chain [1] done processing\n",
      "15:42:38 - cmdstanpy - INFO - Chain [1] done processing\n",
      "15:42:38 - cmdstanpy - INFO - Chain [1] start processing\n",
      "15:42:38 - cmdstanpy - INFO - Chain [1] start processing\n",
      "15:42:38 - cmdstanpy - INFO - Chain [1] done processing\n",
      "15:42:38 - cmdstanpy - INFO - Chain [1] start processing\n",
      "15:42:39 - cmdstanpy - INFO - Chain [1] done processing\n",
      "15:42:39 - cmdstanpy - INFO - Chain [1] done processing\n"
     ]
    },
    {
     "name": "stdout",
     "output_type": "stream",
     "text": [
      "{'changepoint_prior_scale': 0.101, 'holidays_prior_scale': 2.51, 'seasonality_mode': 'additive', 'seasonality_prior_scale': 5.01}\n"
     ]
    },
    {
     "name": "stderr",
     "output_type": "stream",
     "text": [
      "15:42:40 - cmdstanpy - INFO - Chain [1] start processing\n",
      "15:42:41 - cmdstanpy - INFO - Chain [1] done processing\n",
      "15:42:42 - cmdstanpy - INFO - Chain [1] start processing\n",
      "15:42:42 - cmdstanpy - INFO - Chain [1] start processing\n",
      "15:42:42 - cmdstanpy - INFO - Chain [1] done processing\n",
      "15:42:42 - cmdstanpy - INFO - Chain [1] start processing\n",
      "15:42:42 - cmdstanpy - INFO - Chain [1] done processing\n",
      "15:42:42 - cmdstanpy - INFO - Chain [1] start processing\n",
      "15:42:43 - cmdstanpy - INFO - Chain [1] start processing\n",
      "15:42:43 - cmdstanpy - INFO - Chain [1] done processing\n",
      "15:42:43 - cmdstanpy - INFO - Chain [1] done processing\n",
      "15:42:44 - cmdstanpy - INFO - Chain [1] done processing\n"
     ]
    },
    {
     "name": "stdout",
     "output_type": "stream",
     "text": [
      "{'changepoint_prior_scale': 0.101, 'holidays_prior_scale': 2.51, 'seasonality_mode': 'additive', 'seasonality_prior_scale': 7.51}\n"
     ]
    },
    {
     "name": "stderr",
     "output_type": "stream",
     "text": [
      "15:42:44 - cmdstanpy - INFO - Chain [1] start processing\n",
      "15:42:45 - cmdstanpy - INFO - Chain [1] done processing\n",
      "15:42:46 - cmdstanpy - INFO - Chain [1] start processing\n",
      "15:42:46 - cmdstanpy - INFO - Chain [1] start processing\n",
      "15:42:46 - cmdstanpy - INFO - Chain [1] done processing\n",
      "15:42:47 - cmdstanpy - INFO - Chain [1] start processing\n",
      "15:42:47 - cmdstanpy - INFO - Chain [1] start processing\n",
      "15:42:47 - cmdstanpy - INFO - Chain [1] start processing\n",
      "15:42:47 - cmdstanpy - INFO - Chain [1] done processing\n",
      "15:42:47 - cmdstanpy - INFO - Chain [1] done processing\n",
      "15:42:47 - cmdstanpy - INFO - Chain [1] done processing\n",
      "15:42:48 - cmdstanpy - INFO - Chain [1] done processing\n"
     ]
    },
    {
     "name": "stdout",
     "output_type": "stream",
     "text": [
      "{'changepoint_prior_scale': 0.101, 'holidays_prior_scale': 5.01, 'seasonality_mode': 'multiplicative', 'seasonality_prior_scale': 0.01}\n"
     ]
    },
    {
     "name": "stderr",
     "output_type": "stream",
     "text": [
      "15:42:49 - cmdstanpy - INFO - Chain [1] start processing\n",
      "15:42:51 - cmdstanpy - INFO - Chain [1] done processing\n",
      "15:42:53 - cmdstanpy - INFO - Chain [1] start processing\n",
      "15:42:53 - cmdstanpy - INFO - Chain [1] start processing\n",
      "15:42:53 - cmdstanpy - INFO - Chain [1] done processing\n",
      "15:42:53 - cmdstanpy - INFO - Chain [1] start processing\n",
      "15:42:53 - cmdstanpy - INFO - Chain [1] start processing\n",
      "15:42:53 - cmdstanpy - INFO - Chain [1] start processing\n",
      "15:42:53 - cmdstanpy - INFO - Chain [1] done processing\n",
      "15:42:54 - cmdstanpy - INFO - Chain [1] done processing\n",
      "15:42:54 - cmdstanpy - INFO - Chain [1] done processing\n",
      "15:42:56 - cmdstanpy - INFO - Chain [1] done processing\n"
     ]
    },
    {
     "name": "stdout",
     "output_type": "stream",
     "text": [
      "{'changepoint_prior_scale': 0.101, 'holidays_prior_scale': 5.01, 'seasonality_mode': 'multiplicative', 'seasonality_prior_scale': 2.51}\n"
     ]
    },
    {
     "name": "stderr",
     "output_type": "stream",
     "text": [
      "15:42:56 - cmdstanpy - INFO - Chain [1] start processing\n",
      "15:42:59 - cmdstanpy - INFO - Chain [1] done processing\n",
      "15:43:00 - cmdstanpy - INFO - Chain [1] start processing\n",
      "15:43:00 - cmdstanpy - INFO - Chain [1] start processing\n",
      "15:43:01 - cmdstanpy - INFO - Chain [1] done processing\n",
      "15:43:01 - cmdstanpy - INFO - Chain [1] start processing\n",
      "15:43:01 - cmdstanpy - INFO - Chain [1] done processing\n",
      "15:43:01 - cmdstanpy - INFO - Chain [1] start processing\n",
      "15:43:01 - cmdstanpy - INFO - Chain [1] start processing\n",
      "15:43:01 - cmdstanpy - INFO - Chain [1] done processing\n",
      "15:43:02 - cmdstanpy - INFO - Chain [1] done processing\n",
      "15:43:04 - cmdstanpy - INFO - Chain [1] done processing\n"
     ]
    },
    {
     "name": "stdout",
     "output_type": "stream",
     "text": [
      "{'changepoint_prior_scale': 0.101, 'holidays_prior_scale': 5.01, 'seasonality_mode': 'multiplicative', 'seasonality_prior_scale': 5.01}\n"
     ]
    },
    {
     "name": "stderr",
     "output_type": "stream",
     "text": [
      "15:43:05 - cmdstanpy - INFO - Chain [1] start processing\n",
      "15:43:09 - cmdstanpy - INFO - Chain [1] done processing\n",
      "15:43:10 - cmdstanpy - INFO - Chain [1] start processing\n",
      "15:43:10 - cmdstanpy - INFO - Chain [1] start processing\n",
      "15:43:10 - cmdstanpy - INFO - Chain [1] done processing\n",
      "15:43:10 - cmdstanpy - INFO - Chain [1] start processing\n",
      "15:43:10 - cmdstanpy - INFO - Chain [1] done processing\n",
      "15:43:10 - cmdstanpy - INFO - Chain [1] start processing\n",
      "15:43:11 - cmdstanpy - INFO - Chain [1] start processing\n",
      "15:43:11 - cmdstanpy - INFO - Chain [1] done processing\n",
      "15:43:11 - cmdstanpy - INFO - Chain [1] done processing\n",
      "15:43:14 - cmdstanpy - INFO - Chain [1] done processing\n"
     ]
    },
    {
     "name": "stdout",
     "output_type": "stream",
     "text": [
      "{'changepoint_prior_scale': 0.101, 'holidays_prior_scale': 5.01, 'seasonality_mode': 'multiplicative', 'seasonality_prior_scale': 7.51}\n"
     ]
    },
    {
     "name": "stderr",
     "output_type": "stream",
     "text": [
      "15:43:14 - cmdstanpy - INFO - Chain [1] start processing\n",
      "15:43:17 - cmdstanpy - INFO - Chain [1] done processing\n",
      "15:43:18 - cmdstanpy - INFO - Chain [1] start processing\n",
      "15:43:18 - cmdstanpy - INFO - Chain [1] start processing\n",
      "15:43:18 - cmdstanpy - INFO - Chain [1] done processing\n",
      "15:43:18 - cmdstanpy - INFO - Chain [1] start processing\n",
      "15:43:19 - cmdstanpy - INFO - Chain [1] done processing\n",
      "15:43:19 - cmdstanpy - INFO - Chain [1] start processing\n",
      "15:43:19 - cmdstanpy - INFO - Chain [1] start processing\n",
      "15:43:19 - cmdstanpy - INFO - Chain [1] done processing\n",
      "15:43:20 - cmdstanpy - INFO - Chain [1] done processing\n",
      "15:43:22 - cmdstanpy - INFO - Chain [1] done processing\n"
     ]
    },
    {
     "name": "stdout",
     "output_type": "stream",
     "text": [
      "{'changepoint_prior_scale': 0.101, 'holidays_prior_scale': 5.01, 'seasonality_mode': 'additive', 'seasonality_prior_scale': 0.01}\n"
     ]
    },
    {
     "name": "stderr",
     "output_type": "stream",
     "text": [
      "15:43:22 - cmdstanpy - INFO - Chain [1] start processing\n",
      "15:43:23 - cmdstanpy - INFO - Chain [1] done processing\n",
      "15:43:25 - cmdstanpy - INFO - Chain [1] start processing\n",
      "15:43:25 - cmdstanpy - INFO - Chain [1] start processing\n",
      "15:43:25 - cmdstanpy - INFO - Chain [1] start processing\n",
      "15:43:25 - cmdstanpy - INFO - Chain [1] done processing\n",
      "15:43:25 - cmdstanpy - INFO - Chain [1] done processing\n",
      "15:43:25 - cmdstanpy - INFO - Chain [1] done processing\n",
      "15:43:25 - cmdstanpy - INFO - Chain [1] start processing\n",
      "15:43:25 - cmdstanpy - INFO - Chain [1] start processing\n",
      "15:43:25 - cmdstanpy - INFO - Chain [1] done processing\n",
      "15:43:26 - cmdstanpy - INFO - Chain [1] done processing\n"
     ]
    },
    {
     "name": "stdout",
     "output_type": "stream",
     "text": [
      "{'changepoint_prior_scale': 0.101, 'holidays_prior_scale': 5.01, 'seasonality_mode': 'additive', 'seasonality_prior_scale': 2.51}\n"
     ]
    },
    {
     "name": "stderr",
     "output_type": "stream",
     "text": [
      "15:43:27 - cmdstanpy - INFO - Chain [1] start processing\n",
      "15:43:28 - cmdstanpy - INFO - Chain [1] done processing\n",
      "15:43:29 - cmdstanpy - INFO - Chain [1] start processing\n",
      "15:43:29 - cmdstanpy - INFO - Chain [1] start processing\n",
      "15:43:29 - cmdstanpy - INFO - Chain [1] done processing\n",
      "15:43:29 - cmdstanpy - INFO - Chain [1] start processing\n",
      "15:43:29 - cmdstanpy - INFO - Chain [1] start processing\n",
      "15:43:29 - cmdstanpy - INFO - Chain [1] start processing\n",
      "15:43:29 - cmdstanpy - INFO - Chain [1] done processing\n",
      "15:43:30 - cmdstanpy - INFO - Chain [1] done processing\n",
      "15:43:30 - cmdstanpy - INFO - Chain [1] done processing\n",
      "15:43:31 - cmdstanpy - INFO - Chain [1] done processing\n"
     ]
    },
    {
     "name": "stdout",
     "output_type": "stream",
     "text": [
      "{'changepoint_prior_scale': 0.101, 'holidays_prior_scale': 5.01, 'seasonality_mode': 'additive', 'seasonality_prior_scale': 5.01}\n"
     ]
    },
    {
     "name": "stderr",
     "output_type": "stream",
     "text": [
      "15:43:31 - cmdstanpy - INFO - Chain [1] start processing\n",
      "15:43:32 - cmdstanpy - INFO - Chain [1] done processing\n",
      "15:43:34 - cmdstanpy - INFO - Chain [1] start processing\n",
      "15:43:34 - cmdstanpy - INFO - Chain [1] start processing\n",
      "15:43:34 - cmdstanpy - INFO - Chain [1] done processing\n",
      "15:43:34 - cmdstanpy - INFO - Chain [1] start processing\n",
      "15:43:34 - cmdstanpy - INFO - Chain [1] start processing\n",
      "15:43:34 - cmdstanpy - INFO - Chain [1] done processing\n",
      "15:43:34 - cmdstanpy - INFO - Chain [1] start processing\n",
      "15:43:34 - cmdstanpy - INFO - Chain [1] done processing\n",
      "15:43:35 - cmdstanpy - INFO - Chain [1] done processing\n",
      "15:43:35 - cmdstanpy - INFO - Chain [1] done processing\n"
     ]
    },
    {
     "name": "stdout",
     "output_type": "stream",
     "text": [
      "{'changepoint_prior_scale': 0.101, 'holidays_prior_scale': 5.01, 'seasonality_mode': 'additive', 'seasonality_prior_scale': 7.51}\n"
     ]
    },
    {
     "name": "stderr",
     "output_type": "stream",
     "text": [
      "15:43:36 - cmdstanpy - INFO - Chain [1] start processing\n",
      "15:43:37 - cmdstanpy - INFO - Chain [1] done processing\n",
      "15:43:38 - cmdstanpy - INFO - Chain [1] start processing\n",
      "15:43:38 - cmdstanpy - INFO - Chain [1] start processing\n",
      "15:43:38 - cmdstanpy - INFO - Chain [1] done processing\n",
      "15:43:38 - cmdstanpy - INFO - Chain [1] start processing\n",
      "15:43:38 - cmdstanpy - INFO - Chain [1] done processing\n",
      "15:43:38 - cmdstanpy - INFO - Chain [1] start processing\n",
      "15:43:39 - cmdstanpy - INFO - Chain [1] start processing\n",
      "15:43:39 - cmdstanpy - INFO - Chain [1] done processing\n",
      "15:43:39 - cmdstanpy - INFO - Chain [1] done processing\n",
      "15:43:40 - cmdstanpy - INFO - Chain [1] done processing\n"
     ]
    },
    {
     "name": "stdout",
     "output_type": "stream",
     "text": [
      "{'changepoint_prior_scale': 0.101, 'holidays_prior_scale': 7.51, 'seasonality_mode': 'multiplicative', 'seasonality_prior_scale': 0.01}\n"
     ]
    },
    {
     "name": "stderr",
     "output_type": "stream",
     "text": [
      "15:43:41 - cmdstanpy - INFO - Chain [1] start processing\n",
      "15:43:43 - cmdstanpy - INFO - Chain [1] done processing\n",
      "15:43:44 - cmdstanpy - INFO - Chain [1] start processing\n",
      "15:43:44 - cmdstanpy - INFO - Chain [1] start processing\n",
      "15:43:44 - cmdstanpy - INFO - Chain [1] done processing\n",
      "15:43:45 - cmdstanpy - INFO - Chain [1] done processing\n",
      "15:43:45 - cmdstanpy - INFO - Chain [1] start processing\n",
      "15:43:45 - cmdstanpy - INFO - Chain [1] start processing\n",
      "15:43:45 - cmdstanpy - INFO - Chain [1] start processing\n",
      "15:43:45 - cmdstanpy - INFO - Chain [1] done processing\n",
      "15:43:45 - cmdstanpy - INFO - Chain [1] done processing\n",
      "15:43:48 - cmdstanpy - INFO - Chain [1] done processing\n"
     ]
    },
    {
     "name": "stdout",
     "output_type": "stream",
     "text": [
      "{'changepoint_prior_scale': 0.101, 'holidays_prior_scale': 7.51, 'seasonality_mode': 'multiplicative', 'seasonality_prior_scale': 2.51}\n"
     ]
    },
    {
     "name": "stderr",
     "output_type": "stream",
     "text": [
      "15:43:48 - cmdstanpy - INFO - Chain [1] start processing\n",
      "15:43:51 - cmdstanpy - INFO - Chain [1] done processing\n",
      "15:43:52 - cmdstanpy - INFO - Chain [1] start processing\n",
      "15:43:52 - cmdstanpy - INFO - Chain [1] start processing\n",
      "15:43:52 - cmdstanpy - INFO - Chain [1] done processing\n",
      "15:43:52 - cmdstanpy - INFO - Chain [1] start processing\n",
      "15:43:52 - cmdstanpy - INFO - Chain [1] start processing\n",
      "15:43:53 - cmdstanpy - INFO - Chain [1] done processing\n",
      "15:43:53 - cmdstanpy - INFO - Chain [1] start processing\n",
      "15:43:53 - cmdstanpy - INFO - Chain [1] done processing\n",
      "15:43:53 - cmdstanpy - INFO - Chain [1] done processing\n",
      "15:43:56 - cmdstanpy - INFO - Chain [1] done processing\n"
     ]
    },
    {
     "name": "stdout",
     "output_type": "stream",
     "text": [
      "{'changepoint_prior_scale': 0.101, 'holidays_prior_scale': 7.51, 'seasonality_mode': 'multiplicative', 'seasonality_prior_scale': 5.01}\n"
     ]
    },
    {
     "name": "stderr",
     "output_type": "stream",
     "text": [
      "15:43:57 - cmdstanpy - INFO - Chain [1] start processing\n",
      "15:43:58 - cmdstanpy - INFO - Chain [1] done processing\n",
      "15:44:00 - cmdstanpy - INFO - Chain [1] start processing\n",
      "15:44:00 - cmdstanpy - INFO - Chain [1] start processing\n",
      "15:44:00 - cmdstanpy - INFO - Chain [1] done processing\n",
      "15:44:00 - cmdstanpy - INFO - Chain [1] done processing\n",
      "15:44:00 - cmdstanpy - INFO - Chain [1] start processing\n",
      "15:44:00 - cmdstanpy - INFO - Chain [1] start processing\n",
      "15:44:00 - cmdstanpy - INFO - Chain [1] start processing\n",
      "15:44:00 - cmdstanpy - INFO - Chain [1] done processing\n",
      "15:44:01 - cmdstanpy - INFO - Chain [1] done processing\n",
      "15:44:04 - cmdstanpy - INFO - Chain [1] done processing\n"
     ]
    },
    {
     "name": "stdout",
     "output_type": "stream",
     "text": [
      "{'changepoint_prior_scale': 0.101, 'holidays_prior_scale': 7.51, 'seasonality_mode': 'multiplicative', 'seasonality_prior_scale': 7.51}\n"
     ]
    },
    {
     "name": "stderr",
     "output_type": "stream",
     "text": [
      "15:44:05 - cmdstanpy - INFO - Chain [1] start processing\n",
      "15:44:08 - cmdstanpy - INFO - Chain [1] done processing\n",
      "15:44:09 - cmdstanpy - INFO - Chain [1] start processing\n",
      "15:44:09 - cmdstanpy - INFO - Chain [1] start processing\n",
      "15:44:09 - cmdstanpy - INFO - Chain [1] done processing\n",
      "15:44:10 - cmdstanpy - INFO - Chain [1] start processing\n",
      "15:44:10 - cmdstanpy - INFO - Chain [1] done processing\n",
      "15:44:10 - cmdstanpy - INFO - Chain [1] start processing\n",
      "15:44:10 - cmdstanpy - INFO - Chain [1] start processing\n",
      "15:44:10 - cmdstanpy - INFO - Chain [1] done processing\n",
      "15:44:10 - cmdstanpy - INFO - Chain [1] done processing\n",
      "15:44:13 - cmdstanpy - INFO - Chain [1] done processing\n"
     ]
    },
    {
     "name": "stdout",
     "output_type": "stream",
     "text": [
      "{'changepoint_prior_scale': 0.101, 'holidays_prior_scale': 7.51, 'seasonality_mode': 'additive', 'seasonality_prior_scale': 0.01}\n"
     ]
    },
    {
     "name": "stderr",
     "output_type": "stream",
     "text": [
      "15:44:14 - cmdstanpy - INFO - Chain [1] start processing\n",
      "15:44:15 - cmdstanpy - INFO - Chain [1] done processing\n",
      "15:44:16 - cmdstanpy - INFO - Chain [1] start processing\n",
      "15:44:16 - cmdstanpy - INFO - Chain [1] done processing\n",
      "15:44:16 - cmdstanpy - INFO - Chain [1] start processing\n",
      "15:44:17 - cmdstanpy - INFO - Chain [1] start processing\n",
      "15:44:17 - cmdstanpy - INFO - Chain [1] start processing\n",
      "15:44:17 - cmdstanpy - INFO - Chain [1] start processing\n",
      "15:44:17 - cmdstanpy - INFO - Chain [1] done processing\n",
      "15:44:17 - cmdstanpy - INFO - Chain [1] done processing\n",
      "15:44:17 - cmdstanpy - INFO - Chain [1] done processing\n",
      "15:44:18 - cmdstanpy - INFO - Chain [1] done processing\n"
     ]
    },
    {
     "name": "stdout",
     "output_type": "stream",
     "text": [
      "{'changepoint_prior_scale': 0.101, 'holidays_prior_scale': 7.51, 'seasonality_mode': 'additive', 'seasonality_prior_scale': 2.51}\n"
     ]
    },
    {
     "name": "stderr",
     "output_type": "stream",
     "text": [
      "15:44:18 - cmdstanpy - INFO - Chain [1] start processing\n",
      "15:44:19 - cmdstanpy - INFO - Chain [1] done processing\n",
      "15:44:21 - cmdstanpy - INFO - Chain [1] start processing\n",
      "15:44:21 - cmdstanpy - INFO - Chain [1] start processing\n",
      "15:44:21 - cmdstanpy - INFO - Chain [1] done processing\n",
      "15:44:21 - cmdstanpy - INFO - Chain [1] done processing\n",
      "15:44:21 - cmdstanpy - INFO - Chain [1] start processing\n",
      "15:44:21 - cmdstanpy - INFO - Chain [1] start processing\n",
      "15:44:21 - cmdstanpy - INFO - Chain [1] start processing\n",
      "15:44:21 - cmdstanpy - INFO - Chain [1] done processing\n",
      "15:44:21 - cmdstanpy - INFO - Chain [1] done processing\n",
      "15:44:22 - cmdstanpy - INFO - Chain [1] done processing\n"
     ]
    },
    {
     "name": "stdout",
     "output_type": "stream",
     "text": [
      "{'changepoint_prior_scale': 0.101, 'holidays_prior_scale': 7.51, 'seasonality_mode': 'additive', 'seasonality_prior_scale': 5.01}\n"
     ]
    },
    {
     "name": "stderr",
     "output_type": "stream",
     "text": [
      "15:44:23 - cmdstanpy - INFO - Chain [1] start processing\n",
      "15:44:24 - cmdstanpy - INFO - Chain [1] done processing\n",
      "15:44:25 - cmdstanpy - INFO - Chain [1] start processing\n",
      "15:44:25 - cmdstanpy - INFO - Chain [1] done processing\n",
      "15:44:25 - cmdstanpy - INFO - Chain [1] start processing\n",
      "15:44:26 - cmdstanpy - INFO - Chain [1] start processing\n",
      "15:44:26 - cmdstanpy - INFO - Chain [1] done processing\n",
      "15:44:26 - cmdstanpy - INFO - Chain [1] start processing\n",
      "15:44:26 - cmdstanpy - INFO - Chain [1] start processing\n",
      "15:44:26 - cmdstanpy - INFO - Chain [1] done processing\n",
      "15:44:27 - cmdstanpy - INFO - Chain [1] done processing\n",
      "15:44:27 - cmdstanpy - INFO - Chain [1] done processing\n"
     ]
    },
    {
     "name": "stdout",
     "output_type": "stream",
     "text": [
      "{'changepoint_prior_scale': 0.101, 'holidays_prior_scale': 7.51, 'seasonality_mode': 'additive', 'seasonality_prior_scale': 7.51}\n"
     ]
    },
    {
     "name": "stderr",
     "output_type": "stream",
     "text": [
      "15:44:28 - cmdstanpy - INFO - Chain [1] start processing\n",
      "15:44:29 - cmdstanpy - INFO - Chain [1] done processing\n",
      "15:44:30 - cmdstanpy - INFO - Chain [1] start processing\n",
      "15:44:30 - cmdstanpy - INFO - Chain [1] start processing\n",
      "15:44:30 - cmdstanpy - INFO - Chain [1] done processing\n",
      "15:44:30 - cmdstanpy - INFO - Chain [1] start processing\n",
      "15:44:31 - cmdstanpy - INFO - Chain [1] start processing\n",
      "15:44:31 - cmdstanpy - INFO - Chain [1] start processing\n",
      "15:44:31 - cmdstanpy - INFO - Chain [1] done processing\n",
      "15:44:31 - cmdstanpy - INFO - Chain [1] done processing\n",
      "15:44:31 - cmdstanpy - INFO - Chain [1] done processing\n",
      "15:44:32 - cmdstanpy - INFO - Chain [1] done processing\n"
     ]
    },
    {
     "name": "stdout",
     "output_type": "stream",
     "text": [
      "{'changepoint_prior_scale': 0.201, 'holidays_prior_scale': 0.01, 'seasonality_mode': 'multiplicative', 'seasonality_prior_scale': 0.01}\n"
     ]
    },
    {
     "name": "stderr",
     "output_type": "stream",
     "text": [
      "15:44:33 - cmdstanpy - INFO - Chain [1] start processing\n",
      "15:44:33 - cmdstanpy - INFO - Chain [1] done processing\n",
      "15:44:35 - cmdstanpy - INFO - Chain [1] start processing\n",
      "15:44:35 - cmdstanpy - INFO - Chain [1] start processing\n",
      "15:44:35 - cmdstanpy - INFO - Chain [1] start processing\n",
      "15:44:35 - cmdstanpy - INFO - Chain [1] done processing\n",
      "15:44:35 - cmdstanpy - INFO - Chain [1] start processing\n",
      "15:44:35 - cmdstanpy - INFO - Chain [1] done processing\n",
      "15:44:35 - cmdstanpy - INFO - Chain [1] done processing\n",
      "15:44:35 - cmdstanpy - INFO - Chain [1] start processing\n",
      "15:44:36 - cmdstanpy - INFO - Chain [1] done processing\n",
      "15:44:37 - cmdstanpy - INFO - Chain [1] done processing\n"
     ]
    },
    {
     "name": "stdout",
     "output_type": "stream",
     "text": [
      "{'changepoint_prior_scale': 0.201, 'holidays_prior_scale': 0.01, 'seasonality_mode': 'multiplicative', 'seasonality_prior_scale': 2.51}\n"
     ]
    },
    {
     "name": "stderr",
     "output_type": "stream",
     "text": [
      "15:44:37 - cmdstanpy - INFO - Chain [1] start processing\n",
      "15:44:39 - cmdstanpy - INFO - Chain [1] done processing\n",
      "15:44:40 - cmdstanpy - INFO - Chain [1] start processing\n",
      "15:44:40 - cmdstanpy - INFO - Chain [1] start processing\n",
      "15:44:40 - cmdstanpy - INFO - Chain [1] start processing\n",
      "15:44:40 - cmdstanpy - INFO - Chain [1] done processing\n",
      "15:44:40 - cmdstanpy - INFO - Chain [1] start processing\n",
      "15:44:40 - cmdstanpy - INFO - Chain [1] done processing\n",
      "15:44:40 - cmdstanpy - INFO - Chain [1] done processing\n",
      "15:44:41 - cmdstanpy - INFO - Chain [1] start processing\n",
      "15:44:41 - cmdstanpy - INFO - Chain [1] done processing\n",
      "15:44:42 - cmdstanpy - INFO - Chain [1] done processing\n"
     ]
    },
    {
     "name": "stdout",
     "output_type": "stream",
     "text": [
      "{'changepoint_prior_scale': 0.201, 'holidays_prior_scale': 0.01, 'seasonality_mode': 'multiplicative', 'seasonality_prior_scale': 5.01}\n"
     ]
    },
    {
     "name": "stderr",
     "output_type": "stream",
     "text": [
      "15:44:43 - cmdstanpy - INFO - Chain [1] start processing\n",
      "15:44:44 - cmdstanpy - INFO - Chain [1] done processing\n",
      "15:44:46 - cmdstanpy - INFO - Chain [1] start processing\n",
      "15:44:46 - cmdstanpy - INFO - Chain [1] start processing\n",
      "15:44:46 - cmdstanpy - INFO - Chain [1] start processing\n",
      "15:44:46 - cmdstanpy - INFO - Chain [1] done processing\n",
      "15:44:46 - cmdstanpy - INFO - Chain [1] start processing\n",
      "15:44:46 - cmdstanpy - INFO - Chain [1] start processing\n",
      "15:44:46 - cmdstanpy - INFO - Chain [1] done processing\n",
      "15:44:46 - cmdstanpy - INFO - Chain [1] done processing\n",
      "15:44:47 - cmdstanpy - INFO - Chain [1] done processing\n",
      "15:44:48 - cmdstanpy - INFO - Chain [1] done processing\n"
     ]
    },
    {
     "name": "stdout",
     "output_type": "stream",
     "text": [
      "{'changepoint_prior_scale': 0.201, 'holidays_prior_scale': 0.01, 'seasonality_mode': 'multiplicative', 'seasonality_prior_scale': 7.51}\n"
     ]
    },
    {
     "name": "stderr",
     "output_type": "stream",
     "text": [
      "15:44:49 - cmdstanpy - INFO - Chain [1] start processing\n",
      "15:44:50 - cmdstanpy - INFO - Chain [1] done processing\n",
      "15:44:51 - cmdstanpy - INFO - Chain [1] start processing\n",
      "15:44:51 - cmdstanpy - INFO - Chain [1] start processing\n",
      "15:44:51 - cmdstanpy - INFO - Chain [1] done processing\n",
      "15:44:51 - cmdstanpy - INFO - Chain [1] start processing\n",
      "15:44:51 - cmdstanpy - INFO - Chain [1] done processing\n",
      "15:44:51 - cmdstanpy - INFO - Chain [1] start processing\n",
      "15:44:52 - cmdstanpy - INFO - Chain [1] done processing\n",
      "15:44:52 - cmdstanpy - INFO - Chain [1] start processing\n",
      "15:44:52 - cmdstanpy - INFO - Chain [1] done processing\n",
      "15:44:54 - cmdstanpy - INFO - Chain [1] done processing\n"
     ]
    },
    {
     "name": "stdout",
     "output_type": "stream",
     "text": [
      "{'changepoint_prior_scale': 0.201, 'holidays_prior_scale': 0.01, 'seasonality_mode': 'additive', 'seasonality_prior_scale': 0.01}\n"
     ]
    },
    {
     "name": "stderr",
     "output_type": "stream",
     "text": [
      "15:44:54 - cmdstanpy - INFO - Chain [1] start processing\n",
      "15:44:56 - cmdstanpy - INFO - Chain [1] done processing\n",
      "15:44:57 - cmdstanpy - INFO - Chain [1] start processing\n",
      "15:44:57 - cmdstanpy - INFO - Chain [1] start processing\n",
      "15:44:57 - cmdstanpy - INFO - Chain [1] done processing\n",
      "15:44:57 - cmdstanpy - INFO - Chain [1] start processing\n",
      "15:44:57 - cmdstanpy - INFO - Chain [1] done processing\n",
      "15:44:58 - cmdstanpy - INFO - Chain [1] start processing\n",
      "15:44:58 - cmdstanpy - INFO - Chain [1] start processing\n",
      "15:44:58 - cmdstanpy - INFO - Chain [1] done processing\n",
      "15:44:58 - cmdstanpy - INFO - Chain [1] done processing\n",
      "15:44:59 - cmdstanpy - INFO - Chain [1] done processing\n"
     ]
    },
    {
     "name": "stdout",
     "output_type": "stream",
     "text": [
      "{'changepoint_prior_scale': 0.201, 'holidays_prior_scale': 0.01, 'seasonality_mode': 'additive', 'seasonality_prior_scale': 2.51}\n"
     ]
    },
    {
     "name": "stderr",
     "output_type": "stream",
     "text": [
      "15:45:00 - cmdstanpy - INFO - Chain [1] start processing\n",
      "15:45:01 - cmdstanpy - INFO - Chain [1] done processing\n",
      "15:45:02 - cmdstanpy - INFO - Chain [1] start processing\n",
      "15:45:02 - cmdstanpy - INFO - Chain [1] done processing\n",
      "15:45:02 - cmdstanpy - INFO - Chain [1] start processing\n",
      "15:45:02 - cmdstanpy - INFO - Chain [1] start processing\n",
      "15:45:02 - cmdstanpy - INFO - Chain [1] start processing\n",
      "15:45:03 - cmdstanpy - INFO - Chain [1] done processing\n",
      "15:45:03 - cmdstanpy - INFO - Chain [1] start processing\n",
      "15:45:03 - cmdstanpy - INFO - Chain [1] done processing\n",
      "15:45:03 - cmdstanpy - INFO - Chain [1] done processing\n",
      "15:45:04 - cmdstanpy - INFO - Chain [1] done processing\n"
     ]
    },
    {
     "name": "stdout",
     "output_type": "stream",
     "text": [
      "{'changepoint_prior_scale': 0.201, 'holidays_prior_scale': 0.01, 'seasonality_mode': 'additive', 'seasonality_prior_scale': 5.01}\n"
     ]
    },
    {
     "name": "stderr",
     "output_type": "stream",
     "text": [
      "15:45:05 - cmdstanpy - INFO - Chain [1] start processing\n",
      "15:45:07 - cmdstanpy - INFO - Chain [1] done processing\n",
      "15:45:08 - cmdstanpy - INFO - Chain [1] start processing\n",
      "15:45:08 - cmdstanpy - INFO - Chain [1] done processing\n",
      "15:45:08 - cmdstanpy - INFO - Chain [1] start processing\n",
      "15:45:08 - cmdstanpy - INFO - Chain [1] start processing\n",
      "15:45:08 - cmdstanpy - INFO - Chain [1] start processing\n",
      "15:45:08 - cmdstanpy - INFO - Chain [1] done processing\n",
      "15:45:08 - cmdstanpy - INFO - Chain [1] start processing\n",
      "15:45:09 - cmdstanpy - INFO - Chain [1] done processing\n",
      "15:45:09 - cmdstanpy - INFO - Chain [1] done processing\n",
      "15:45:10 - cmdstanpy - INFO - Chain [1] done processing\n"
     ]
    },
    {
     "name": "stdout",
     "output_type": "stream",
     "text": [
      "{'changepoint_prior_scale': 0.201, 'holidays_prior_scale': 0.01, 'seasonality_mode': 'additive', 'seasonality_prior_scale': 7.51}\n"
     ]
    },
    {
     "name": "stderr",
     "output_type": "stream",
     "text": [
      "15:45:10 - cmdstanpy - INFO - Chain [1] start processing\n",
      "15:45:12 - cmdstanpy - INFO - Chain [1] done processing\n",
      "15:45:13 - cmdstanpy - INFO - Chain [1] start processing\n",
      "15:45:13 - cmdstanpy - INFO - Chain [1] start processing\n",
      "15:45:13 - cmdstanpy - INFO - Chain [1] done processing\n",
      "15:45:13 - cmdstanpy - INFO - Chain [1] done processing\n",
      "15:45:13 - cmdstanpy - INFO - Chain [1] start processing\n",
      "15:45:13 - cmdstanpy - INFO - Chain [1] start processing\n",
      "15:45:13 - cmdstanpy - INFO - Chain [1] done processing\n",
      "15:45:14 - cmdstanpy - INFO - Chain [1] start processing\n",
      "15:45:14 - cmdstanpy - INFO - Chain [1] done processing\n",
      "15:45:15 - cmdstanpy - INFO - Chain [1] done processing\n"
     ]
    },
    {
     "name": "stdout",
     "output_type": "stream",
     "text": [
      "{'changepoint_prior_scale': 0.201, 'holidays_prior_scale': 2.51, 'seasonality_mode': 'multiplicative', 'seasonality_prior_scale': 0.01}\n"
     ]
    },
    {
     "name": "stderr",
     "output_type": "stream",
     "text": [
      "15:45:16 - cmdstanpy - INFO - Chain [1] start processing\n",
      "15:45:18 - cmdstanpy - INFO - Chain [1] done processing\n",
      "15:45:19 - cmdstanpy - INFO - Chain [1] start processing\n",
      "15:45:19 - cmdstanpy - INFO - Chain [1] start processing\n",
      "15:45:19 - cmdstanpy - INFO - Chain [1] done processing\n",
      "15:45:19 - cmdstanpy - INFO - Chain [1] start processing\n",
      "15:45:20 - cmdstanpy - INFO - Chain [1] start processing\n",
      "15:45:20 - cmdstanpy - INFO - Chain [1] done processing\n",
      "15:45:20 - cmdstanpy - INFO - Chain [1] start processing\n",
      "15:45:20 - cmdstanpy - INFO - Chain [1] done processing\n",
      "15:45:20 - cmdstanpy - INFO - Chain [1] done processing\n",
      "15:45:23 - cmdstanpy - INFO - Chain [1] done processing\n"
     ]
    },
    {
     "name": "stdout",
     "output_type": "stream",
     "text": [
      "{'changepoint_prior_scale': 0.201, 'holidays_prior_scale': 2.51, 'seasonality_mode': 'multiplicative', 'seasonality_prior_scale': 2.51}\n"
     ]
    },
    {
     "name": "stderr",
     "output_type": "stream",
     "text": [
      "15:45:23 - cmdstanpy - INFO - Chain [1] start processing\n",
      "15:45:26 - cmdstanpy - INFO - Chain [1] done processing\n",
      "15:45:27 - cmdstanpy - INFO - Chain [1] start processing\n",
      "15:45:27 - cmdstanpy - INFO - Chain [1] start processing\n",
      "15:45:27 - cmdstanpy - INFO - Chain [1] done processing\n",
      "15:45:27 - cmdstanpy - INFO - Chain [1] done processing\n",
      "15:45:27 - cmdstanpy - INFO - Chain [1] start processing\n",
      "15:45:27 - cmdstanpy - INFO - Chain [1] start processing\n",
      "15:45:27 - cmdstanpy - INFO - Chain [1] start processing\n",
      "15:45:28 - cmdstanpy - INFO - Chain [1] done processing\n",
      "15:45:28 - cmdstanpy - INFO - Chain [1] done processing\n",
      "15:45:30 - cmdstanpy - INFO - Chain [1] done processing\n"
     ]
    },
    {
     "name": "stdout",
     "output_type": "stream",
     "text": [
      "{'changepoint_prior_scale': 0.201, 'holidays_prior_scale': 2.51, 'seasonality_mode': 'multiplicative', 'seasonality_prior_scale': 5.01}\n"
     ]
    },
    {
     "name": "stderr",
     "output_type": "stream",
     "text": [
      "15:45:31 - cmdstanpy - INFO - Chain [1] start processing\n",
      "15:45:33 - cmdstanpy - INFO - Chain [1] done processing\n",
      "15:45:34 - cmdstanpy - INFO - Chain [1] start processing\n",
      "15:45:34 - cmdstanpy - INFO - Chain [1] start processing\n",
      "15:45:34 - cmdstanpy - INFO - Chain [1] done processing\n",
      "15:45:34 - cmdstanpy - INFO - Chain [1] start processing\n",
      "15:45:34 - cmdstanpy - INFO - Chain [1] done processing\n",
      "15:45:34 - cmdstanpy - INFO - Chain [1] start processing\n",
      "15:45:35 - cmdstanpy - INFO - Chain [1] start processing\n",
      "15:45:35 - cmdstanpy - INFO - Chain [1] done processing\n",
      "15:45:35 - cmdstanpy - INFO - Chain [1] done processing\n",
      "15:45:38 - cmdstanpy - INFO - Chain [1] done processing\n"
     ]
    },
    {
     "name": "stdout",
     "output_type": "stream",
     "text": [
      "{'changepoint_prior_scale': 0.201, 'holidays_prior_scale': 2.51, 'seasonality_mode': 'multiplicative', 'seasonality_prior_scale': 7.51}\n"
     ]
    },
    {
     "name": "stderr",
     "output_type": "stream",
     "text": [
      "15:45:38 - cmdstanpy - INFO - Chain [1] start processing\n",
      "15:45:41 - cmdstanpy - INFO - Chain [1] done processing\n",
      "15:45:42 - cmdstanpy - INFO - Chain [1] start processing\n",
      "15:45:42 - cmdstanpy - INFO - Chain [1] start processing\n",
      "15:45:42 - cmdstanpy - INFO - Chain [1] done processing\n",
      "15:45:42 - cmdstanpy - INFO - Chain [1] start processing\n",
      "15:45:42 - cmdstanpy - INFO - Chain [1] done processing\n",
      "15:45:43 - cmdstanpy - INFO - Chain [1] start processing\n",
      "15:45:43 - cmdstanpy - INFO - Chain [1] start processing\n",
      "15:45:43 - cmdstanpy - INFO - Chain [1] done processing\n",
      "15:45:43 - cmdstanpy - INFO - Chain [1] done processing\n",
      "15:45:46 - cmdstanpy - INFO - Chain [1] done processing\n"
     ]
    },
    {
     "name": "stdout",
     "output_type": "stream",
     "text": [
      "{'changepoint_prior_scale': 0.201, 'holidays_prior_scale': 2.51, 'seasonality_mode': 'additive', 'seasonality_prior_scale': 0.01}\n"
     ]
    },
    {
     "name": "stderr",
     "output_type": "stream",
     "text": [
      "15:45:47 - cmdstanpy - INFO - Chain [1] start processing\n",
      "15:45:48 - cmdstanpy - INFO - Chain [1] done processing\n",
      "15:45:49 - cmdstanpy - INFO - Chain [1] start processing\n",
      "15:45:49 - cmdstanpy - INFO - Chain [1] done processing\n",
      "15:45:49 - cmdstanpy - INFO - Chain [1] start processing\n",
      "15:45:49 - cmdstanpy - INFO - Chain [1] start processing\n",
      "15:45:49 - cmdstanpy - INFO - Chain [1] start processing\n",
      "15:45:50 - cmdstanpy - INFO - Chain [1] done processing\n",
      "15:45:50 - cmdstanpy - INFO - Chain [1] start processing\n",
      "15:45:50 - cmdstanpy - INFO - Chain [1] done processing\n",
      "15:45:50 - cmdstanpy - INFO - Chain [1] done processing\n",
      "15:45:51 - cmdstanpy - INFO - Chain [1] done processing\n"
     ]
    },
    {
     "name": "stdout",
     "output_type": "stream",
     "text": [
      "{'changepoint_prior_scale': 0.201, 'holidays_prior_scale': 2.51, 'seasonality_mode': 'additive', 'seasonality_prior_scale': 2.51}\n"
     ]
    },
    {
     "name": "stderr",
     "output_type": "stream",
     "text": [
      "15:45:52 - cmdstanpy - INFO - Chain [1] start processing\n",
      "15:45:53 - cmdstanpy - INFO - Chain [1] done processing\n",
      "15:45:54 - cmdstanpy - INFO - Chain [1] start processing\n",
      "15:45:54 - cmdstanpy - INFO - Chain [1] start processing\n",
      "15:45:54 - cmdstanpy - INFO - Chain [1] done processing\n",
      "15:45:54 - cmdstanpy - INFO - Chain [1] done processing\n",
      "15:45:54 - cmdstanpy - INFO - Chain [1] start processing\n",
      "15:45:55 - cmdstanpy - INFO - Chain [1] start processing\n",
      "15:45:55 - cmdstanpy - INFO - Chain [1] start processing\n",
      "15:45:55 - cmdstanpy - INFO - Chain [1] done processing\n",
      "15:45:55 - cmdstanpy - INFO - Chain [1] done processing\n",
      "15:45:56 - cmdstanpy - INFO - Chain [1] done processing\n"
     ]
    },
    {
     "name": "stdout",
     "output_type": "stream",
     "text": [
      "{'changepoint_prior_scale': 0.201, 'holidays_prior_scale': 2.51, 'seasonality_mode': 'additive', 'seasonality_prior_scale': 5.01}\n"
     ]
    },
    {
     "name": "stderr",
     "output_type": "stream",
     "text": [
      "15:45:57 - cmdstanpy - INFO - Chain [1] start processing\n",
      "15:45:58 - cmdstanpy - INFO - Chain [1] done processing\n",
      "15:45:59 - cmdstanpy - INFO - Chain [1] start processing\n",
      "15:45:59 - cmdstanpy - INFO - Chain [1] done processing\n",
      "15:45:59 - cmdstanpy - INFO - Chain [1] start processing\n",
      "15:46:00 - cmdstanpy - INFO - Chain [1] start processing\n",
      "15:46:00 - cmdstanpy - INFO - Chain [1] done processing\n",
      "15:46:00 - cmdstanpy - INFO - Chain [1] done processing\n",
      "15:46:00 - cmdstanpy - INFO - Chain [1] start processing\n",
      "15:46:00 - cmdstanpy - INFO - Chain [1] start processing\n",
      "15:46:00 - cmdstanpy - INFO - Chain [1] done processing\n",
      "15:46:02 - cmdstanpy - INFO - Chain [1] done processing\n"
     ]
    },
    {
     "name": "stdout",
     "output_type": "stream",
     "text": [
      "{'changepoint_prior_scale': 0.201, 'holidays_prior_scale': 2.51, 'seasonality_mode': 'additive', 'seasonality_prior_scale': 7.51}\n"
     ]
    },
    {
     "name": "stderr",
     "output_type": "stream",
     "text": [
      "15:46:02 - cmdstanpy - INFO - Chain [1] start processing\n",
      "15:46:03 - cmdstanpy - INFO - Chain [1] done processing\n",
      "15:46:05 - cmdstanpy - INFO - Chain [1] start processing\n",
      "15:46:05 - cmdstanpy - INFO - Chain [1] start processing\n",
      "15:46:05 - cmdstanpy - INFO - Chain [1] done processing\n",
      "15:46:05 - cmdstanpy - INFO - Chain [1] start processing\n",
      "15:46:05 - cmdstanpy - INFO - Chain [1] done processing\n",
      "15:46:05 - cmdstanpy - INFO - Chain [1] start processing\n",
      "15:46:05 - cmdstanpy - INFO - Chain [1] start processing\n",
      "15:46:06 - cmdstanpy - INFO - Chain [1] done processing\n",
      "15:46:06 - cmdstanpy - INFO - Chain [1] done processing\n",
      "15:46:07 - cmdstanpy - INFO - Chain [1] done processing\n"
     ]
    },
    {
     "name": "stdout",
     "output_type": "stream",
     "text": [
      "{'changepoint_prior_scale': 0.201, 'holidays_prior_scale': 5.01, 'seasonality_mode': 'multiplicative', 'seasonality_prior_scale': 0.01}\n"
     ]
    },
    {
     "name": "stderr",
     "output_type": "stream",
     "text": [
      "15:46:08 - cmdstanpy - INFO - Chain [1] start processing\n",
      "15:46:11 - cmdstanpy - INFO - Chain [1] done processing\n",
      "15:46:12 - cmdstanpy - INFO - Chain [1] start processing\n",
      "15:46:12 - cmdstanpy - INFO - Chain [1] done processing\n",
      "15:46:12 - cmdstanpy - INFO - Chain [1] start processing\n",
      "15:46:12 - cmdstanpy - INFO - Chain [1] start processing\n",
      "15:46:12 - cmdstanpy - INFO - Chain [1] start processing\n",
      "15:46:12 - cmdstanpy - INFO - Chain [1] done processing\n",
      "15:46:13 - cmdstanpy - INFO - Chain [1] done processing\n",
      "15:46:13 - cmdstanpy - INFO - Chain [1] start processing\n",
      "15:46:13 - cmdstanpy - INFO - Chain [1] done processing\n",
      "15:46:16 - cmdstanpy - INFO - Chain [1] done processing\n"
     ]
    },
    {
     "name": "stdout",
     "output_type": "stream",
     "text": [
      "{'changepoint_prior_scale': 0.201, 'holidays_prior_scale': 5.01, 'seasonality_mode': 'multiplicative', 'seasonality_prior_scale': 2.51}\n"
     ]
    },
    {
     "name": "stderr",
     "output_type": "stream",
     "text": [
      "15:46:17 - cmdstanpy - INFO - Chain [1] start processing\n",
      "15:46:20 - cmdstanpy - INFO - Chain [1] done processing\n",
      "15:46:21 - cmdstanpy - INFO - Chain [1] start processing\n",
      "15:46:21 - cmdstanpy - INFO - Chain [1] start processing\n",
      "15:46:22 - cmdstanpy - INFO - Chain [1] start processing\n",
      "15:46:22 - cmdstanpy - INFO - Chain [1] done processing\n",
      "15:46:22 - cmdstanpy - INFO - Chain [1] start processing\n",
      "15:46:22 - cmdstanpy - INFO - Chain [1] done processing\n",
      "15:46:22 - cmdstanpy - INFO - Chain [1] done processing\n",
      "15:46:22 - cmdstanpy - INFO - Chain [1] start processing\n",
      "15:46:23 - cmdstanpy - INFO - Chain [1] done processing\n",
      "15:46:24 - cmdstanpy - INFO - Chain [1] done processing\n"
     ]
    },
    {
     "name": "stdout",
     "output_type": "stream",
     "text": [
      "{'changepoint_prior_scale': 0.201, 'holidays_prior_scale': 5.01, 'seasonality_mode': 'multiplicative', 'seasonality_prior_scale': 5.01}\n"
     ]
    },
    {
     "name": "stderr",
     "output_type": "stream",
     "text": [
      "15:46:25 - cmdstanpy - INFO - Chain [1] start processing\n",
      "15:46:27 - cmdstanpy - INFO - Chain [1] done processing\n",
      "15:46:28 - cmdstanpy - INFO - Chain [1] start processing\n",
      "15:46:28 - cmdstanpy - INFO - Chain [1] start processing\n",
      "15:46:28 - cmdstanpy - INFO - Chain [1] start processing\n",
      "15:46:28 - cmdstanpy - INFO - Chain [1] done processing\n",
      "15:46:28 - cmdstanpy - INFO - Chain [1] start processing\n",
      "15:46:29 - cmdstanpy - INFO - Chain [1] done processing\n",
      "15:46:29 - cmdstanpy - INFO - Chain [1] start processing\n",
      "15:46:29 - cmdstanpy - INFO - Chain [1] done processing\n",
      "15:46:30 - cmdstanpy - INFO - Chain [1] done processing\n",
      "15:46:32 - cmdstanpy - INFO - Chain [1] done processing\n"
     ]
    },
    {
     "name": "stdout",
     "output_type": "stream",
     "text": [
      "{'changepoint_prior_scale': 0.201, 'holidays_prior_scale': 5.01, 'seasonality_mode': 'multiplicative', 'seasonality_prior_scale': 7.51}\n"
     ]
    },
    {
     "name": "stderr",
     "output_type": "stream",
     "text": [
      "15:46:33 - cmdstanpy - INFO - Chain [1] start processing\n",
      "15:46:36 - cmdstanpy - INFO - Chain [1] done processing\n",
      "15:46:37 - cmdstanpy - INFO - Chain [1] start processing\n",
      "15:46:37 - cmdstanpy - INFO - Chain [1] start processing\n",
      "15:46:37 - cmdstanpy - INFO - Chain [1] done processing\n",
      "15:46:37 - cmdstanpy - INFO - Chain [1] done processing\n",
      "15:46:38 - cmdstanpy - INFO - Chain [1] start processing\n",
      "15:46:38 - cmdstanpy - INFO - Chain [1] start processing\n",
      "15:46:38 - cmdstanpy - INFO - Chain [1] start processing\n",
      "15:46:38 - cmdstanpy - INFO - Chain [1] done processing\n",
      "15:46:38 - cmdstanpy - INFO - Chain [1] done processing\n",
      "15:46:40 - cmdstanpy - INFO - Chain [1] done processing\n"
     ]
    },
    {
     "name": "stdout",
     "output_type": "stream",
     "text": [
      "{'changepoint_prior_scale': 0.201, 'holidays_prior_scale': 5.01, 'seasonality_mode': 'additive', 'seasonality_prior_scale': 0.01}\n"
     ]
    },
    {
     "name": "stderr",
     "output_type": "stream",
     "text": [
      "15:46:41 - cmdstanpy - INFO - Chain [1] start processing\n",
      "15:46:42 - cmdstanpy - INFO - Chain [1] done processing\n",
      "15:46:44 - cmdstanpy - INFO - Chain [1] start processing\n",
      "15:46:44 - cmdstanpy - INFO - Chain [1] start processing\n",
      "15:46:44 - cmdstanpy - INFO - Chain [1] done processing\n",
      "15:46:44 - cmdstanpy - INFO - Chain [1] start processing\n",
      "15:46:44 - cmdstanpy - INFO - Chain [1] done processing\n",
      "15:46:44 - cmdstanpy - INFO - Chain [1] start processing\n",
      "15:46:44 - cmdstanpy - INFO - Chain [1] start processing\n",
      "15:46:44 - cmdstanpy - INFO - Chain [1] done processing\n",
      "15:46:44 - cmdstanpy - INFO - Chain [1] done processing\n",
      "15:46:46 - cmdstanpy - INFO - Chain [1] done processing\n"
     ]
    },
    {
     "name": "stdout",
     "output_type": "stream",
     "text": [
      "{'changepoint_prior_scale': 0.201, 'holidays_prior_scale': 5.01, 'seasonality_mode': 'additive', 'seasonality_prior_scale': 2.51}\n"
     ]
    },
    {
     "name": "stderr",
     "output_type": "stream",
     "text": [
      "15:46:46 - cmdstanpy - INFO - Chain [1] start processing\n",
      "15:46:47 - cmdstanpy - INFO - Chain [1] done processing\n",
      "15:46:48 - cmdstanpy - INFO - Chain [1] start processing\n",
      "15:46:48 - cmdstanpy - INFO - Chain [1] start processing\n",
      "15:46:48 - cmdstanpy - INFO - Chain [1] done processing\n",
      "15:46:49 - cmdstanpy - INFO - Chain [1] done processing\n",
      "15:46:49 - cmdstanpy - INFO - Chain [1] start processing\n",
      "15:46:49 - cmdstanpy - INFO - Chain [1] start processing\n",
      "15:46:49 - cmdstanpy - INFO - Chain [1] start processing\n",
      "15:46:49 - cmdstanpy - INFO - Chain [1] done processing\n",
      "15:46:50 - cmdstanpy - INFO - Chain [1] done processing\n",
      "15:46:51 - cmdstanpy - INFO - Chain [1] done processing\n"
     ]
    },
    {
     "name": "stdout",
     "output_type": "stream",
     "text": [
      "{'changepoint_prior_scale': 0.201, 'holidays_prior_scale': 5.01, 'seasonality_mode': 'additive', 'seasonality_prior_scale': 5.01}\n"
     ]
    },
    {
     "name": "stderr",
     "output_type": "stream",
     "text": [
      "15:46:51 - cmdstanpy - INFO - Chain [1] start processing\n",
      "15:46:53 - cmdstanpy - INFO - Chain [1] done processing\n",
      "15:46:54 - cmdstanpy - INFO - Chain [1] start processing\n",
      "15:46:54 - cmdstanpy - INFO - Chain [1] done processing\n",
      "15:46:54 - cmdstanpy - INFO - Chain [1] start processing\n",
      "15:46:54 - cmdstanpy - INFO - Chain [1] start processing\n",
      "15:46:54 - cmdstanpy - INFO - Chain [1] start processing\n",
      "15:46:55 - cmdstanpy - INFO - Chain [1] start processing\n",
      "15:46:55 - cmdstanpy - INFO - Chain [1] done processing\n",
      "15:46:55 - cmdstanpy - INFO - Chain [1] done processing\n",
      "15:46:55 - cmdstanpy - INFO - Chain [1] done processing\n",
      "15:46:56 - cmdstanpy - INFO - Chain [1] done processing\n"
     ]
    },
    {
     "name": "stdout",
     "output_type": "stream",
     "text": [
      "{'changepoint_prior_scale': 0.201, 'holidays_prior_scale': 5.01, 'seasonality_mode': 'additive', 'seasonality_prior_scale': 7.51}\n"
     ]
    },
    {
     "name": "stderr",
     "output_type": "stream",
     "text": [
      "15:46:57 - cmdstanpy - INFO - Chain [1] start processing\n",
      "15:46:58 - cmdstanpy - INFO - Chain [1] done processing\n",
      "15:46:59 - cmdstanpy - INFO - Chain [1] start processing\n",
      "15:46:59 - cmdstanpy - INFO - Chain [1] start processing\n",
      "15:46:59 - cmdstanpy - INFO - Chain [1] done processing\n",
      "15:46:59 - cmdstanpy - INFO - Chain [1] done processing\n",
      "15:46:59 - cmdstanpy - INFO - Chain [1] start processing\n",
      "15:46:59 - cmdstanpy - INFO - Chain [1] start processing\n",
      "15:46:59 - cmdstanpy - INFO - Chain [1] done processing\n",
      "15:46:59 - cmdstanpy - INFO - Chain [1] start processing\n",
      "15:47:00 - cmdstanpy - INFO - Chain [1] done processing\n",
      "15:47:01 - cmdstanpy - INFO - Chain [1] done processing\n"
     ]
    },
    {
     "name": "stdout",
     "output_type": "stream",
     "text": [
      "{'changepoint_prior_scale': 0.201, 'holidays_prior_scale': 7.51, 'seasonality_mode': 'multiplicative', 'seasonality_prior_scale': 0.01}\n"
     ]
    },
    {
     "name": "stderr",
     "output_type": "stream",
     "text": [
      "15:47:02 - cmdstanpy - INFO - Chain [1] start processing\n",
      "15:47:04 - cmdstanpy - INFO - Chain [1] done processing\n",
      "15:47:05 - cmdstanpy - INFO - Chain [1] start processing\n",
      "15:47:05 - cmdstanpy - INFO - Chain [1] start processing\n",
      "15:47:05 - cmdstanpy - INFO - Chain [1] start processing\n",
      "15:47:05 - cmdstanpy - INFO - Chain [1] done processing\n",
      "15:47:05 - cmdstanpy - INFO - Chain [1] start processing\n",
      "15:47:05 - cmdstanpy - INFO - Chain [1] done processing\n",
      "15:47:05 - cmdstanpy - INFO - Chain [1] start processing\n",
      "15:47:06 - cmdstanpy - INFO - Chain [1] done processing\n",
      "15:47:06 - cmdstanpy - INFO - Chain [1] done processing\n",
      "15:47:09 - cmdstanpy - INFO - Chain [1] done processing\n"
     ]
    },
    {
     "name": "stdout",
     "output_type": "stream",
     "text": [
      "{'changepoint_prior_scale': 0.201, 'holidays_prior_scale': 7.51, 'seasonality_mode': 'multiplicative', 'seasonality_prior_scale': 2.51}\n"
     ]
    },
    {
     "name": "stderr",
     "output_type": "stream",
     "text": [
      "15:47:10 - cmdstanpy - INFO - Chain [1] start processing\n",
      "15:47:13 - cmdstanpy - INFO - Chain [1] done processing\n",
      "15:47:14 - cmdstanpy - INFO - Chain [1] start processing\n",
      "15:47:14 - cmdstanpy - INFO - Chain [1] start processing\n",
      "15:47:14 - cmdstanpy - INFO - Chain [1] done processing\n",
      "15:47:14 - cmdstanpy - INFO - Chain [1] done processing\n",
      "15:47:14 - cmdstanpy - INFO - Chain [1] start processing\n",
      "15:47:14 - cmdstanpy - INFO - Chain [1] start processing\n",
      "15:47:15 - cmdstanpy - INFO - Chain [1] start processing\n",
      "15:47:15 - cmdstanpy - INFO - Chain [1] done processing\n",
      "15:47:15 - cmdstanpy - INFO - Chain [1] done processing\n",
      "15:47:18 - cmdstanpy - INFO - Chain [1] done processing\n"
     ]
    },
    {
     "name": "stdout",
     "output_type": "stream",
     "text": [
      "{'changepoint_prior_scale': 0.201, 'holidays_prior_scale': 7.51, 'seasonality_mode': 'multiplicative', 'seasonality_prior_scale': 5.01}\n"
     ]
    },
    {
     "name": "stderr",
     "output_type": "stream",
     "text": [
      "15:47:19 - cmdstanpy - INFO - Chain [1] start processing\n",
      "15:47:21 - cmdstanpy - INFO - Chain [1] done processing\n",
      "15:47:22 - cmdstanpy - INFO - Chain [1] start processing\n",
      "15:47:22 - cmdstanpy - INFO - Chain [1] start processing\n",
      "15:47:22 - cmdstanpy - INFO - Chain [1] start processing\n",
      "15:47:23 - cmdstanpy - INFO - Chain [1] done processing\n",
      "15:47:23 - cmdstanpy - INFO - Chain [1] done processing\n",
      "15:47:23 - cmdstanpy - INFO - Chain [1] start processing\n",
      "15:47:23 - cmdstanpy - INFO - Chain [1] start processing\n",
      "15:47:23 - cmdstanpy - INFO - Chain [1] done processing\n",
      "15:47:24 - cmdstanpy - INFO - Chain [1] done processing\n",
      "15:47:26 - cmdstanpy - INFO - Chain [1] done processing\n"
     ]
    },
    {
     "name": "stdout",
     "output_type": "stream",
     "text": [
      "{'changepoint_prior_scale': 0.201, 'holidays_prior_scale': 7.51, 'seasonality_mode': 'multiplicative', 'seasonality_prior_scale': 7.51}\n"
     ]
    },
    {
     "name": "stderr",
     "output_type": "stream",
     "text": [
      "15:47:26 - cmdstanpy - INFO - Chain [1] start processing\n",
      "15:47:28 - cmdstanpy - INFO - Chain [1] done processing\n",
      "15:47:29 - cmdstanpy - INFO - Chain [1] start processing\n",
      "15:47:29 - cmdstanpy - INFO - Chain [1] start processing\n",
      "15:47:29 - cmdstanpy - INFO - Chain [1] done processing\n",
      "15:47:30 - cmdstanpy - INFO - Chain [1] done processing\n",
      "15:47:30 - cmdstanpy - INFO - Chain [1] start processing\n",
      "15:47:30 - cmdstanpy - INFO - Chain [1] start processing\n",
      "15:47:30 - cmdstanpy - INFO - Chain [1] start processing\n",
      "15:47:30 - cmdstanpy - INFO - Chain [1] done processing\n",
      "15:47:30 - cmdstanpy - INFO - Chain [1] done processing\n",
      "15:47:34 - cmdstanpy - INFO - Chain [1] done processing\n"
     ]
    },
    {
     "name": "stdout",
     "output_type": "stream",
     "text": [
      "{'changepoint_prior_scale': 0.201, 'holidays_prior_scale': 7.51, 'seasonality_mode': 'additive', 'seasonality_prior_scale': 0.01}\n"
     ]
    },
    {
     "name": "stderr",
     "output_type": "stream",
     "text": [
      "15:47:34 - cmdstanpy - INFO - Chain [1] start processing\n",
      "15:47:35 - cmdstanpy - INFO - Chain [1] done processing\n",
      "15:47:37 - cmdstanpy - INFO - Chain [1] start processing\n",
      "15:47:37 - cmdstanpy - INFO - Chain [1] start processing\n",
      "15:47:37 - cmdstanpy - INFO - Chain [1] done processing\n",
      "15:47:37 - cmdstanpy - INFO - Chain [1] start processing\n",
      "15:47:37 - cmdstanpy - INFO - Chain [1] done processing\n",
      "15:47:37 - cmdstanpy - INFO - Chain [1] start processing\n",
      "15:47:37 - cmdstanpy - INFO - Chain [1] start processing\n",
      "15:47:37 - cmdstanpy - INFO - Chain [1] done processing\n",
      "15:47:38 - cmdstanpy - INFO - Chain [1] done processing\n",
      "15:47:39 - cmdstanpy - INFO - Chain [1] done processing\n"
     ]
    },
    {
     "name": "stdout",
     "output_type": "stream",
     "text": [
      "{'changepoint_prior_scale': 0.201, 'holidays_prior_scale': 7.51, 'seasonality_mode': 'additive', 'seasonality_prior_scale': 2.51}\n"
     ]
    },
    {
     "name": "stderr",
     "output_type": "stream",
     "text": [
      "15:47:40 - cmdstanpy - INFO - Chain [1] start processing\n",
      "15:47:41 - cmdstanpy - INFO - Chain [1] done processing\n",
      "15:47:42 - cmdstanpy - INFO - Chain [1] start processing\n",
      "15:47:42 - cmdstanpy - INFO - Chain [1] start processing\n",
      "15:47:42 - cmdstanpy - INFO - Chain [1] done processing\n",
      "15:47:42 - cmdstanpy - INFO - Chain [1] start processing\n",
      "15:47:43 - cmdstanpy - INFO - Chain [1] start processing\n",
      "15:47:43 - cmdstanpy - INFO - Chain [1] start processing\n",
      "15:47:43 - cmdstanpy - INFO - Chain [1] done processing\n",
      "15:47:43 - cmdstanpy - INFO - Chain [1] done processing\n",
      "15:47:43 - cmdstanpy - INFO - Chain [1] done processing\n",
      "15:47:44 - cmdstanpy - INFO - Chain [1] done processing\n"
     ]
    },
    {
     "name": "stdout",
     "output_type": "stream",
     "text": [
      "{'changepoint_prior_scale': 0.201, 'holidays_prior_scale': 7.51, 'seasonality_mode': 'additive', 'seasonality_prior_scale': 5.01}\n"
     ]
    },
    {
     "name": "stderr",
     "output_type": "stream",
     "text": [
      "15:47:45 - cmdstanpy - INFO - Chain [1] start processing\n",
      "15:47:46 - cmdstanpy - INFO - Chain [1] done processing\n",
      "15:47:47 - cmdstanpy - INFO - Chain [1] start processing\n",
      "15:47:47 - cmdstanpy - INFO - Chain [1] start processing\n",
      "15:47:47 - cmdstanpy - INFO - Chain [1] done processing\n",
      "15:47:47 - cmdstanpy - INFO - Chain [1] start processing\n",
      "15:47:47 - cmdstanpy - INFO - Chain [1] done processing\n",
      "15:47:48 - cmdstanpy - INFO - Chain [1] start processing\n",
      "15:47:48 - cmdstanpy - INFO - Chain [1] start processing\n",
      "15:47:48 - cmdstanpy - INFO - Chain [1] done processing\n",
      "15:47:48 - cmdstanpy - INFO - Chain [1] done processing\n",
      "15:47:49 - cmdstanpy - INFO - Chain [1] done processing\n"
     ]
    },
    {
     "name": "stdout",
     "output_type": "stream",
     "text": [
      "{'changepoint_prior_scale': 0.201, 'holidays_prior_scale': 7.51, 'seasonality_mode': 'additive', 'seasonality_prior_scale': 7.51}\n"
     ]
    },
    {
     "name": "stderr",
     "output_type": "stream",
     "text": [
      "15:47:50 - cmdstanpy - INFO - Chain [1] start processing\n",
      "15:47:51 - cmdstanpy - INFO - Chain [1] done processing\n",
      "15:47:52 - cmdstanpy - INFO - Chain [1] start processing\n",
      "15:47:52 - cmdstanpy - INFO - Chain [1] start processing\n",
      "15:47:52 - cmdstanpy - INFO - Chain [1] done processing\n",
      "15:47:53 - cmdstanpy - INFO - Chain [1] start processing\n",
      "15:47:53 - cmdstanpy - INFO - Chain [1] done processing\n",
      "15:47:53 - cmdstanpy - INFO - Chain [1] start processing\n",
      "15:47:53 - cmdstanpy - INFO - Chain [1] start processing\n",
      "15:47:53 - cmdstanpy - INFO - Chain [1] done processing\n",
      "15:47:53 - cmdstanpy - INFO - Chain [1] done processing\n",
      "15:47:54 - cmdstanpy - INFO - Chain [1] done processing\n"
     ]
    },
    {
     "name": "stdout",
     "output_type": "stream",
     "text": [
      "{'changepoint_prior_scale': 0.30100000000000005, 'holidays_prior_scale': 0.01, 'seasonality_mode': 'multiplicative', 'seasonality_prior_scale': 0.01}\n"
     ]
    },
    {
     "name": "stderr",
     "output_type": "stream",
     "text": [
      "15:47:55 - cmdstanpy - INFO - Chain [1] start processing\n",
      "15:47:56 - cmdstanpy - INFO - Chain [1] done processing\n",
      "15:47:57 - cmdstanpy - INFO - Chain [1] start processing\n",
      "15:47:58 - cmdstanpy - INFO - Chain [1] done processing\n",
      "15:47:58 - cmdstanpy - INFO - Chain [1] start processing\n",
      "15:47:58 - cmdstanpy - INFO - Chain [1] start processing\n",
      "15:47:58 - cmdstanpy - INFO - Chain [1] start processing\n",
      "15:47:58 - cmdstanpy - INFO - Chain [1] done processing\n",
      "15:47:58 - cmdstanpy - INFO - Chain [1] start processing\n",
      "15:47:58 - cmdstanpy - INFO - Chain [1] done processing\n",
      "15:47:59 - cmdstanpy - INFO - Chain [1] done processing\n",
      "15:48:00 - cmdstanpy - INFO - Chain [1] done processing\n"
     ]
    },
    {
     "name": "stdout",
     "output_type": "stream",
     "text": [
      "{'changepoint_prior_scale': 0.30100000000000005, 'holidays_prior_scale': 0.01, 'seasonality_mode': 'multiplicative', 'seasonality_prior_scale': 2.51}\n"
     ]
    },
    {
     "name": "stderr",
     "output_type": "stream",
     "text": [
      "15:48:00 - cmdstanpy - INFO - Chain [1] start processing\n",
      "15:48:02 - cmdstanpy - INFO - Chain [1] done processing\n",
      "15:48:03 - cmdstanpy - INFO - Chain [1] start processing\n",
      "15:48:03 - cmdstanpy - INFO - Chain [1] start processing\n",
      "15:48:04 - cmdstanpy - INFO - Chain [1] start processing\n",
      "15:48:04 - cmdstanpy - INFO - Chain [1] done processing\n",
      "15:48:04 - cmdstanpy - INFO - Chain [1] done processing\n",
      "15:48:04 - cmdstanpy - INFO - Chain [1] start processing\n",
      "15:48:04 - cmdstanpy - INFO - Chain [1] start processing\n",
      "15:48:04 - cmdstanpy - INFO - Chain [1] done processing\n",
      "15:48:05 - cmdstanpy - INFO - Chain [1] done processing\n",
      "15:48:06 - cmdstanpy - INFO - Chain [1] done processing\n"
     ]
    },
    {
     "name": "stdout",
     "output_type": "stream",
     "text": [
      "{'changepoint_prior_scale': 0.30100000000000005, 'holidays_prior_scale': 0.01, 'seasonality_mode': 'multiplicative', 'seasonality_prior_scale': 5.01}\n"
     ]
    },
    {
     "name": "stderr",
     "output_type": "stream",
     "text": [
      "15:48:06 - cmdstanpy - INFO - Chain [1] start processing\n",
      "15:48:08 - cmdstanpy - INFO - Chain [1] done processing\n",
      "15:48:09 - cmdstanpy - INFO - Chain [1] start processing\n",
      "15:48:09 - cmdstanpy - INFO - Chain [1] start processing\n",
      "15:48:09 - cmdstanpy - INFO - Chain [1] done processing\n",
      "15:48:09 - cmdstanpy - INFO - Chain [1] start processing\n",
      "15:48:09 - cmdstanpy - INFO - Chain [1] start processing\n",
      "15:48:09 - cmdstanpy - INFO - Chain [1] done processing\n",
      "15:48:09 - cmdstanpy - INFO - Chain [1] start processing\n",
      "15:48:10 - cmdstanpy - INFO - Chain [1] done processing\n",
      "15:48:10 - cmdstanpy - INFO - Chain [1] done processing\n",
      "15:48:11 - cmdstanpy - INFO - Chain [1] done processing\n"
     ]
    },
    {
     "name": "stdout",
     "output_type": "stream",
     "text": [
      "{'changepoint_prior_scale': 0.30100000000000005, 'holidays_prior_scale': 0.01, 'seasonality_mode': 'multiplicative', 'seasonality_prior_scale': 7.51}\n"
     ]
    },
    {
     "name": "stderr",
     "output_type": "stream",
     "text": [
      "15:48:12 - cmdstanpy - INFO - Chain [1] start processing\n",
      "15:48:13 - cmdstanpy - INFO - Chain [1] done processing\n",
      "15:48:15 - cmdstanpy - INFO - Chain [1] start processing\n",
      "15:48:15 - cmdstanpy - INFO - Chain [1] start processing\n",
      "15:48:15 - cmdstanpy - INFO - Chain [1] done processing\n",
      "15:48:15 - cmdstanpy - INFO - Chain [1] start processing\n",
      "15:48:15 - cmdstanpy - INFO - Chain [1] done processing\n",
      "15:48:15 - cmdstanpy - INFO - Chain [1] start processing\n",
      "15:48:15 - cmdstanpy - INFO - Chain [1] start processing\n",
      "15:48:15 - cmdstanpy - INFO - Chain [1] done processing\n",
      "15:48:16 - cmdstanpy - INFO - Chain [1] done processing\n",
      "15:48:17 - cmdstanpy - INFO - Chain [1] done processing\n"
     ]
    },
    {
     "name": "stdout",
     "output_type": "stream",
     "text": [
      "{'changepoint_prior_scale': 0.30100000000000005, 'holidays_prior_scale': 0.01, 'seasonality_mode': 'additive', 'seasonality_prior_scale': 0.01}\n"
     ]
    },
    {
     "name": "stderr",
     "output_type": "stream",
     "text": [
      "15:48:17 - cmdstanpy - INFO - Chain [1] start processing\n",
      "15:48:19 - cmdstanpy - INFO - Chain [1] done processing\n",
      "15:48:20 - cmdstanpy - INFO - Chain [1] start processing\n",
      "15:48:20 - cmdstanpy - INFO - Chain [1] start processing\n",
      "15:48:20 - cmdstanpy - INFO - Chain [1] done processing\n",
      "15:48:20 - cmdstanpy - INFO - Chain [1] start processing\n",
      "15:48:20 - cmdstanpy - INFO - Chain [1] start processing\n",
      "15:48:20 - cmdstanpy - INFO - Chain [1] start processing\n",
      "15:48:20 - cmdstanpy - INFO - Chain [1] done processing\n",
      "15:48:21 - cmdstanpy - INFO - Chain [1] done processing\n",
      "15:48:21 - cmdstanpy - INFO - Chain [1] done processing\n",
      "15:48:23 - cmdstanpy - INFO - Chain [1] done processing\n"
     ]
    },
    {
     "name": "stdout",
     "output_type": "stream",
     "text": [
      "{'changepoint_prior_scale': 0.30100000000000005, 'holidays_prior_scale': 0.01, 'seasonality_mode': 'additive', 'seasonality_prior_scale': 2.51}\n"
     ]
    },
    {
     "name": "stderr",
     "output_type": "stream",
     "text": [
      "15:48:23 - cmdstanpy - INFO - Chain [1] start processing\n",
      "15:48:25 - cmdstanpy - INFO - Chain [1] done processing\n",
      "15:48:27 - cmdstanpy - INFO - Chain [1] start processing\n",
      "15:48:27 - cmdstanpy - INFO - Chain [1] done processing\n",
      "15:48:27 - cmdstanpy - INFO - Chain [1] start processing\n",
      "15:48:27 - cmdstanpy - INFO - Chain [1] start processing\n",
      "15:48:27 - cmdstanpy - INFO - Chain [1] start processing\n",
      "15:48:27 - cmdstanpy - INFO - Chain [1] start processing\n",
      "15:48:27 - cmdstanpy - INFO - Chain [1] done processing\n",
      "15:48:27 - cmdstanpy - INFO - Chain [1] done processing\n",
      "15:48:28 - cmdstanpy - INFO - Chain [1] done processing\n",
      "15:48:29 - cmdstanpy - INFO - Chain [1] done processing\n"
     ]
    },
    {
     "name": "stdout",
     "output_type": "stream",
     "text": [
      "{'changepoint_prior_scale': 0.30100000000000005, 'holidays_prior_scale': 0.01, 'seasonality_mode': 'additive', 'seasonality_prior_scale': 5.01}\n"
     ]
    },
    {
     "name": "stderr",
     "output_type": "stream",
     "text": [
      "15:48:30 - cmdstanpy - INFO - Chain [1] start processing\n",
      "15:48:31 - cmdstanpy - INFO - Chain [1] done processing\n",
      "15:48:33 - cmdstanpy - INFO - Chain [1] start processing\n",
      "15:48:33 - cmdstanpy - INFO - Chain [1] start processing\n",
      "15:48:33 - cmdstanpy - INFO - Chain [1] done processing\n",
      "15:48:33 - cmdstanpy - INFO - Chain [1] start processing\n",
      "15:48:33 - cmdstanpy - INFO - Chain [1] done processing\n",
      "15:48:33 - cmdstanpy - INFO - Chain [1] start processing\n",
      "15:48:33 - cmdstanpy - INFO - Chain [1] start processing\n",
      "15:48:33 - cmdstanpy - INFO - Chain [1] done processing\n",
      "15:48:34 - cmdstanpy - INFO - Chain [1] done processing\n",
      "15:48:36 - cmdstanpy - INFO - Chain [1] done processing\n"
     ]
    },
    {
     "name": "stdout",
     "output_type": "stream",
     "text": [
      "{'changepoint_prior_scale': 0.30100000000000005, 'holidays_prior_scale': 0.01, 'seasonality_mode': 'additive', 'seasonality_prior_scale': 7.51}\n"
     ]
    },
    {
     "name": "stderr",
     "output_type": "stream",
     "text": [
      "15:48:36 - cmdstanpy - INFO - Chain [1] start processing\n",
      "15:48:38 - cmdstanpy - INFO - Chain [1] done processing\n",
      "15:48:39 - cmdstanpy - INFO - Chain [1] start processing\n",
      "15:48:39 - cmdstanpy - INFO - Chain [1] start processing\n",
      "15:48:39 - cmdstanpy - INFO - Chain [1] start processing\n",
      "15:48:39 - cmdstanpy - INFO - Chain [1] done processing\n",
      "15:48:39 - cmdstanpy - INFO - Chain [1] start processing\n",
      "15:48:39 - cmdstanpy - INFO - Chain [1] start processing\n",
      "15:48:40 - cmdstanpy - INFO - Chain [1] done processing\n",
      "15:48:40 - cmdstanpy - INFO - Chain [1] done processing\n",
      "15:48:40 - cmdstanpy - INFO - Chain [1] done processing\n",
      "15:48:42 - cmdstanpy - INFO - Chain [1] done processing\n"
     ]
    },
    {
     "name": "stdout",
     "output_type": "stream",
     "text": [
      "{'changepoint_prior_scale': 0.30100000000000005, 'holidays_prior_scale': 2.51, 'seasonality_mode': 'multiplicative', 'seasonality_prior_scale': 0.01}\n"
     ]
    },
    {
     "name": "stderr",
     "output_type": "stream",
     "text": [
      "15:48:43 - cmdstanpy - INFO - Chain [1] start processing\n",
      "15:48:43 - cmdstanpy - INFO - Chain [1] done processing\n",
      "15:48:44 - cmdstanpy - INFO - Chain [1] start processing\n",
      "15:48:45 - cmdstanpy - INFO - Chain [1] start processing\n",
      "15:48:45 - cmdstanpy - INFO - Chain [1] done processing\n",
      "15:48:45 - cmdstanpy - INFO - Chain [1] start processing\n",
      "15:48:45 - cmdstanpy - INFO - Chain [1] start processing\n",
      "15:48:45 - cmdstanpy - INFO - Chain [1] start processing\n",
      "15:48:45 - cmdstanpy - INFO - Chain [1] done processing\n",
      "15:48:45 - cmdstanpy - INFO - Chain [1] done processing\n",
      "15:48:46 - cmdstanpy - INFO - Chain [1] done processing\n",
      "15:48:47 - cmdstanpy - INFO - Chain [1] done processing\n"
     ]
    },
    {
     "name": "stdout",
     "output_type": "stream",
     "text": [
      "{'changepoint_prior_scale': 0.30100000000000005, 'holidays_prior_scale': 2.51, 'seasonality_mode': 'multiplicative', 'seasonality_prior_scale': 2.51}\n"
     ]
    },
    {
     "name": "stderr",
     "output_type": "stream",
     "text": [
      "15:48:48 - cmdstanpy - INFO - Chain [1] start processing\n",
      "15:48:51 - cmdstanpy - INFO - Chain [1] done processing\n",
      "15:48:53 - cmdstanpy - INFO - Chain [1] start processing\n",
      "15:48:53 - cmdstanpy - INFO - Chain [1] start processing\n",
      "15:48:53 - cmdstanpy - INFO - Chain [1] done processing\n",
      "15:48:53 - cmdstanpy - INFO - Chain [1] start processing\n",
      "15:48:53 - cmdstanpy - INFO - Chain [1] done processing\n",
      "15:48:53 - cmdstanpy - INFO - Chain [1] start processing\n",
      "15:48:53 - cmdstanpy - INFO - Chain [1] start processing\n",
      "15:48:53 - cmdstanpy - INFO - Chain [1] done processing\n",
      "15:48:53 - cmdstanpy - INFO - Chain [1] done processing\n",
      "15:48:57 - cmdstanpy - INFO - Chain [1] done processing\n"
     ]
    },
    {
     "name": "stdout",
     "output_type": "stream",
     "text": [
      "{'changepoint_prior_scale': 0.30100000000000005, 'holidays_prior_scale': 2.51, 'seasonality_mode': 'multiplicative', 'seasonality_prior_scale': 5.01}\n"
     ]
    },
    {
     "name": "stderr",
     "output_type": "stream",
     "text": [
      "15:48:57 - cmdstanpy - INFO - Chain [1] start processing\n",
      "15:49:00 - cmdstanpy - INFO - Chain [1] done processing\n",
      "15:49:01 - cmdstanpy - INFO - Chain [1] start processing\n",
      "15:49:01 - cmdstanpy - INFO - Chain [1] start processing\n",
      "15:49:01 - cmdstanpy - INFO - Chain [1] done processing\n",
      "15:49:01 - cmdstanpy - INFO - Chain [1] done processing\n",
      "15:49:01 - cmdstanpy - INFO - Chain [1] start processing\n",
      "15:49:02 - cmdstanpy - INFO - Chain [1] start processing\n",
      "15:49:02 - cmdstanpy - INFO - Chain [1] start processing\n",
      "15:49:02 - cmdstanpy - INFO - Chain [1] done processing\n",
      "15:49:02 - cmdstanpy - INFO - Chain [1] done processing\n",
      "15:49:04 - cmdstanpy - INFO - Chain [1] done processing\n"
     ]
    },
    {
     "name": "stdout",
     "output_type": "stream",
     "text": [
      "{'changepoint_prior_scale': 0.30100000000000005, 'holidays_prior_scale': 2.51, 'seasonality_mode': 'multiplicative', 'seasonality_prior_scale': 7.51}\n"
     ]
    },
    {
     "name": "stderr",
     "output_type": "stream",
     "text": [
      "15:49:05 - cmdstanpy - INFO - Chain [1] start processing\n",
      "15:49:07 - cmdstanpy - INFO - Chain [1] done processing\n",
      "15:49:08 - cmdstanpy - INFO - Chain [1] start processing\n",
      "15:49:08 - cmdstanpy - INFO - Chain [1] start processing\n",
      "15:49:08 - cmdstanpy - INFO - Chain [1] done processing\n",
      "15:49:08 - cmdstanpy - INFO - Chain [1] start processing\n",
      "15:49:08 - cmdstanpy - INFO - Chain [1] done processing\n",
      "15:49:08 - cmdstanpy - INFO - Chain [1] start processing\n",
      "15:49:08 - cmdstanpy - INFO - Chain [1] start processing\n",
      "15:49:09 - cmdstanpy - INFO - Chain [1] done processing\n",
      "15:49:09 - cmdstanpy - INFO - Chain [1] done processing\n",
      "15:49:10 - cmdstanpy - INFO - Chain [1] done processing\n"
     ]
    },
    {
     "name": "stdout",
     "output_type": "stream",
     "text": [
      "{'changepoint_prior_scale': 0.30100000000000005, 'holidays_prior_scale': 2.51, 'seasonality_mode': 'additive', 'seasonality_prior_scale': 0.01}\n"
     ]
    },
    {
     "name": "stderr",
     "output_type": "stream",
     "text": [
      "15:49:11 - cmdstanpy - INFO - Chain [1] start processing\n",
      "15:49:12 - cmdstanpy - INFO - Chain [1] done processing\n",
      "15:49:13 - cmdstanpy - INFO - Chain [1] start processing\n",
      "15:49:13 - cmdstanpy - INFO - Chain [1] start processing\n",
      "15:49:13 - cmdstanpy - INFO - Chain [1] done processing\n",
      "15:49:13 - cmdstanpy - INFO - Chain [1] start processing\n",
      "15:49:13 - cmdstanpy - INFO - Chain [1] done processing\n",
      "15:49:13 - cmdstanpy - INFO - Chain [1] start processing\n",
      "15:49:14 - cmdstanpy - INFO - Chain [1] start processing\n",
      "15:49:14 - cmdstanpy - INFO - Chain [1] done processing\n",
      "15:49:14 - cmdstanpy - INFO - Chain [1] done processing\n",
      "15:49:16 - cmdstanpy - INFO - Chain [1] done processing\n"
     ]
    },
    {
     "name": "stdout",
     "output_type": "stream",
     "text": [
      "{'changepoint_prior_scale': 0.30100000000000005, 'holidays_prior_scale': 2.51, 'seasonality_mode': 'additive', 'seasonality_prior_scale': 2.51}\n"
     ]
    },
    {
     "name": "stderr",
     "output_type": "stream",
     "text": [
      "15:49:17 - cmdstanpy - INFO - Chain [1] start processing\n",
      "15:49:18 - cmdstanpy - INFO - Chain [1] done processing\n",
      "15:49:20 - cmdstanpy - INFO - Chain [1] start processing\n",
      "15:49:20 - cmdstanpy - INFO - Chain [1] start processing\n",
      "15:49:20 - cmdstanpy - INFO - Chain [1] done processing\n",
      "15:49:20 - cmdstanpy - INFO - Chain [1] start processing\n",
      "15:49:20 - cmdstanpy - INFO - Chain [1] start processing\n",
      "15:49:20 - cmdstanpy - INFO - Chain [1] done processing\n",
      "15:49:20 - cmdstanpy - INFO - Chain [1] start processing\n",
      "15:49:20 - cmdstanpy - INFO - Chain [1] done processing\n",
      "15:49:21 - cmdstanpy - INFO - Chain [1] done processing\n",
      "15:49:22 - cmdstanpy - INFO - Chain [1] done processing\n"
     ]
    },
    {
     "name": "stdout",
     "output_type": "stream",
     "text": [
      "{'changepoint_prior_scale': 0.30100000000000005, 'holidays_prior_scale': 2.51, 'seasonality_mode': 'additive', 'seasonality_prior_scale': 5.01}\n"
     ]
    },
    {
     "name": "stderr",
     "output_type": "stream",
     "text": [
      "15:49:23 - cmdstanpy - INFO - Chain [1] start processing\n",
      "15:49:24 - cmdstanpy - INFO - Chain [1] done processing\n",
      "15:49:25 - cmdstanpy - INFO - Chain [1] start processing\n",
      "15:49:26 - cmdstanpy - INFO - Chain [1] done processing\n",
      "15:49:26 - cmdstanpy - INFO - Chain [1] start processing\n",
      "15:49:26 - cmdstanpy - INFO - Chain [1] start processing\n",
      "15:49:26 - cmdstanpy - INFO - Chain [1] done processing\n",
      "15:49:26 - cmdstanpy - INFO - Chain [1] start processing\n",
      "15:49:26 - cmdstanpy - INFO - Chain [1] done processing\n",
      "15:49:26 - cmdstanpy - INFO - Chain [1] start processing\n",
      "15:49:27 - cmdstanpy - INFO - Chain [1] done processing\n",
      "15:49:28 - cmdstanpy - INFO - Chain [1] done processing\n"
     ]
    },
    {
     "name": "stdout",
     "output_type": "stream",
     "text": [
      "{'changepoint_prior_scale': 0.30100000000000005, 'holidays_prior_scale': 2.51, 'seasonality_mode': 'additive', 'seasonality_prior_scale': 7.51}\n"
     ]
    },
    {
     "name": "stderr",
     "output_type": "stream",
     "text": [
      "15:49:29 - cmdstanpy - INFO - Chain [1] start processing\n",
      "15:49:31 - cmdstanpy - INFO - Chain [1] done processing\n",
      "15:49:32 - cmdstanpy - INFO - Chain [1] start processing\n",
      "15:49:32 - cmdstanpy - INFO - Chain [1] start processing\n",
      "15:49:32 - cmdstanpy - INFO - Chain [1] done processing\n",
      "15:49:32 - cmdstanpy - INFO - Chain [1] start processing\n",
      "15:49:32 - cmdstanpy - INFO - Chain [1] start processing\n",
      "15:49:32 - cmdstanpy - INFO - Chain [1] done processing\n",
      "15:49:32 - cmdstanpy - INFO - Chain [1] start processing\n",
      "15:49:33 - cmdstanpy - INFO - Chain [1] done processing\n",
      "15:49:33 - cmdstanpy - INFO - Chain [1] done processing\n",
      "15:49:35 - cmdstanpy - INFO - Chain [1] done processing\n"
     ]
    },
    {
     "name": "stdout",
     "output_type": "stream",
     "text": [
      "{'changepoint_prior_scale': 0.30100000000000005, 'holidays_prior_scale': 5.01, 'seasonality_mode': 'multiplicative', 'seasonality_prior_scale': 0.01}\n"
     ]
    },
    {
     "name": "stderr",
     "output_type": "stream",
     "text": [
      "15:49:35 - cmdstanpy - INFO - Chain [1] start processing\n",
      "15:49:37 - cmdstanpy - INFO - Chain [1] done processing\n",
      "15:49:38 - cmdstanpy - INFO - Chain [1] start processing\n",
      "15:49:39 - cmdstanpy - INFO - Chain [1] start processing\n",
      "15:49:39 - cmdstanpy - INFO - Chain [1] start processing\n",
      "15:49:39 - cmdstanpy - INFO - Chain [1] start processing\n",
      "15:49:39 - cmdstanpy - INFO - Chain [1] done processing\n",
      "15:49:39 - cmdstanpy - INFO - Chain [1] done processing\n",
      "15:49:39 - cmdstanpy - INFO - Chain [1] start processing\n",
      "15:49:39 - cmdstanpy - INFO - Chain [1] done processing\n",
      "15:49:39 - cmdstanpy - INFO - Chain [1] done processing\n",
      "15:49:41 - cmdstanpy - INFO - Chain [1] done processing\n"
     ]
    },
    {
     "name": "stdout",
     "output_type": "stream",
     "text": [
      "{'changepoint_prior_scale': 0.30100000000000005, 'holidays_prior_scale': 5.01, 'seasonality_mode': 'multiplicative', 'seasonality_prior_scale': 2.51}\n"
     ]
    },
    {
     "name": "stderr",
     "output_type": "stream",
     "text": [
      "15:49:41 - cmdstanpy - INFO - Chain [1] start processing\n",
      "15:49:43 - cmdstanpy - INFO - Chain [1] done processing\n",
      "15:49:44 - cmdstanpy - INFO - Chain [1] start processing\n",
      "15:49:45 - cmdstanpy - INFO - Chain [1] start processing\n",
      "15:49:45 - cmdstanpy - INFO - Chain [1] start processing\n",
      "15:49:45 - cmdstanpy - INFO - Chain [1] done processing\n",
      "15:49:45 - cmdstanpy - INFO - Chain [1] start processing\n",
      "15:49:45 - cmdstanpy - INFO - Chain [1] done processing\n",
      "15:49:45 - cmdstanpy - INFO - Chain [1] start processing\n",
      "15:49:45 - cmdstanpy - INFO - Chain [1] done processing\n",
      "15:49:46 - cmdstanpy - INFO - Chain [1] done processing\n",
      "15:49:48 - cmdstanpy - INFO - Chain [1] done processing\n"
     ]
    },
    {
     "name": "stdout",
     "output_type": "stream",
     "text": [
      "{'changepoint_prior_scale': 0.30100000000000005, 'holidays_prior_scale': 5.01, 'seasonality_mode': 'multiplicative', 'seasonality_prior_scale': 5.01}\n"
     ]
    },
    {
     "name": "stderr",
     "output_type": "stream",
     "text": [
      "15:49:49 - cmdstanpy - INFO - Chain [1] start processing\n",
      "15:49:51 - cmdstanpy - INFO - Chain [1] done processing\n",
      "15:49:52 - cmdstanpy - INFO - Chain [1] start processing\n",
      "15:49:52 - cmdstanpy - INFO - Chain [1] done processing\n",
      "15:49:52 - cmdstanpy - INFO - Chain [1] start processing\n",
      "15:49:52 - cmdstanpy - INFO - Chain [1] start processing\n",
      "15:49:52 - cmdstanpy - INFO - Chain [1] done processing\n",
      "15:49:52 - cmdstanpy - INFO - Chain [1] start processing\n",
      "15:49:52 - cmdstanpy - INFO - Chain [1] done processing\n",
      "15:49:53 - cmdstanpy - INFO - Chain [1] start processing\n",
      "15:49:53 - cmdstanpy - INFO - Chain [1] done processing\n",
      "15:49:55 - cmdstanpy - INFO - Chain [1] done processing\n"
     ]
    },
    {
     "name": "stdout",
     "output_type": "stream",
     "text": [
      "{'changepoint_prior_scale': 0.30100000000000005, 'holidays_prior_scale': 5.01, 'seasonality_mode': 'multiplicative', 'seasonality_prior_scale': 7.51}\n"
     ]
    },
    {
     "name": "stderr",
     "output_type": "stream",
     "text": [
      "15:49:55 - cmdstanpy - INFO - Chain [1] start processing\n",
      "15:49:58 - cmdstanpy - INFO - Chain [1] done processing\n",
      "15:49:59 - cmdstanpy - INFO - Chain [1] start processing\n",
      "15:49:59 - cmdstanpy - INFO - Chain [1] start processing\n",
      "15:49:59 - cmdstanpy - INFO - Chain [1] done processing\n",
      "15:49:59 - cmdstanpy - INFO - Chain [1] start processing\n",
      "15:49:59 - cmdstanpy - INFO - Chain [1] start processing\n",
      "15:49:59 - cmdstanpy - INFO - Chain [1] start processing\n",
      "15:49:59 - cmdstanpy - INFO - Chain [1] done processing\n",
      "15:50:00 - cmdstanpy - INFO - Chain [1] done processing\n",
      "15:50:00 - cmdstanpy - INFO - Chain [1] done processing\n",
      "15:50:03 - cmdstanpy - INFO - Chain [1] done processing\n"
     ]
    },
    {
     "name": "stdout",
     "output_type": "stream",
     "text": [
      "{'changepoint_prior_scale': 0.30100000000000005, 'holidays_prior_scale': 5.01, 'seasonality_mode': 'additive', 'seasonality_prior_scale': 0.01}\n"
     ]
    },
    {
     "name": "stderr",
     "output_type": "stream",
     "text": [
      "15:50:03 - cmdstanpy - INFO - Chain [1] start processing\n",
      "15:50:05 - cmdstanpy - INFO - Chain [1] done processing\n",
      "15:50:06 - cmdstanpy - INFO - Chain [1] start processing\n",
      "15:50:06 - cmdstanpy - INFO - Chain [1] start processing\n",
      "15:50:06 - cmdstanpy - INFO - Chain [1] done processing\n",
      "15:50:06 - cmdstanpy - INFO - Chain [1] start processing\n",
      "15:50:06 - cmdstanpy - INFO - Chain [1] start processing\n",
      "15:50:07 - cmdstanpy - INFO - Chain [1] start processing\n",
      "15:50:07 - cmdstanpy - INFO - Chain [1] done processing\n",
      "15:50:07 - cmdstanpy - INFO - Chain [1] done processing\n",
      "15:50:07 - cmdstanpy - INFO - Chain [1] done processing\n",
      "15:50:09 - cmdstanpy - INFO - Chain [1] done processing\n"
     ]
    },
    {
     "name": "stdout",
     "output_type": "stream",
     "text": [
      "{'changepoint_prior_scale': 0.30100000000000005, 'holidays_prior_scale': 5.01, 'seasonality_mode': 'additive', 'seasonality_prior_scale': 2.51}\n"
     ]
    },
    {
     "name": "stderr",
     "output_type": "stream",
     "text": [
      "15:50:10 - cmdstanpy - INFO - Chain [1] start processing\n",
      "15:50:11 - cmdstanpy - INFO - Chain [1] done processing\n",
      "15:50:13 - cmdstanpy - INFO - Chain [1] start processing\n",
      "15:50:13 - cmdstanpy - INFO - Chain [1] start processing\n",
      "15:50:13 - cmdstanpy - INFO - Chain [1] done processing\n",
      "15:50:13 - cmdstanpy - INFO - Chain [1] start processing\n",
      "15:50:13 - cmdstanpy - INFO - Chain [1] done processing\n",
      "15:50:13 - cmdstanpy - INFO - Chain [1] start processing\n",
      "15:50:13 - cmdstanpy - INFO - Chain [1] done processing\n",
      "15:50:13 - cmdstanpy - INFO - Chain [1] start processing\n",
      "15:50:14 - cmdstanpy - INFO - Chain [1] done processing\n",
      "15:50:16 - cmdstanpy - INFO - Chain [1] done processing\n"
     ]
    },
    {
     "name": "stdout",
     "output_type": "stream",
     "text": [
      "{'changepoint_prior_scale': 0.30100000000000005, 'holidays_prior_scale': 5.01, 'seasonality_mode': 'additive', 'seasonality_prior_scale': 5.01}\n"
     ]
    },
    {
     "name": "stderr",
     "output_type": "stream",
     "text": [
      "15:50:16 - cmdstanpy - INFO - Chain [1] start processing\n",
      "15:50:18 - cmdstanpy - INFO - Chain [1] done processing\n",
      "15:50:19 - cmdstanpy - INFO - Chain [1] start processing\n",
      "15:50:19 - cmdstanpy - INFO - Chain [1] start processing\n",
      "15:50:19 - cmdstanpy - INFO - Chain [1] done processing\n",
      "15:50:19 - cmdstanpy - INFO - Chain [1] start processing\n",
      "15:50:20 - cmdstanpy - INFO - Chain [1] done processing\n",
      "15:50:20 - cmdstanpy - INFO - Chain [1] start processing\n",
      "15:50:20 - cmdstanpy - INFO - Chain [1] start processing\n",
      "15:50:20 - cmdstanpy - INFO - Chain [1] done processing\n",
      "15:50:20 - cmdstanpy - INFO - Chain [1] done processing\n",
      "15:50:22 - cmdstanpy - INFO - Chain [1] done processing\n"
     ]
    },
    {
     "name": "stdout",
     "output_type": "stream",
     "text": [
      "{'changepoint_prior_scale': 0.30100000000000005, 'holidays_prior_scale': 5.01, 'seasonality_mode': 'additive', 'seasonality_prior_scale': 7.51}\n"
     ]
    },
    {
     "name": "stderr",
     "output_type": "stream",
     "text": [
      "15:50:23 - cmdstanpy - INFO - Chain [1] start processing\n",
      "15:50:24 - cmdstanpy - INFO - Chain [1] done processing\n",
      "15:50:25 - cmdstanpy - INFO - Chain [1] start processing\n",
      "15:50:25 - cmdstanpy - INFO - Chain [1] done processing\n",
      "15:50:25 - cmdstanpy - INFO - Chain [1] start processing\n",
      "15:50:26 - cmdstanpy - INFO - Chain [1] start processing\n",
      "15:50:26 - cmdstanpy - INFO - Chain [1] done processing\n",
      "15:50:26 - cmdstanpy - INFO - Chain [1] start processing\n",
      "15:50:26 - cmdstanpy - INFO - Chain [1] start processing\n",
      "15:50:26 - cmdstanpy - INFO - Chain [1] done processing\n",
      "15:50:27 - cmdstanpy - INFO - Chain [1] done processing\n",
      "15:50:28 - cmdstanpy - INFO - Chain [1] done processing\n"
     ]
    },
    {
     "name": "stdout",
     "output_type": "stream",
     "text": [
      "{'changepoint_prior_scale': 0.30100000000000005, 'holidays_prior_scale': 7.51, 'seasonality_mode': 'multiplicative', 'seasonality_prior_scale': 0.01}\n"
     ]
    },
    {
     "name": "stderr",
     "output_type": "stream",
     "text": [
      "15:50:29 - cmdstanpy - INFO - Chain [1] start processing\n",
      "15:50:31 - cmdstanpy - INFO - Chain [1] done processing\n",
      "15:50:32 - cmdstanpy - INFO - Chain [1] start processing\n",
      "15:50:32 - cmdstanpy - INFO - Chain [1] start processing\n",
      "15:50:32 - cmdstanpy - INFO - Chain [1] done processing\n",
      "15:50:33 - cmdstanpy - INFO - Chain [1] start processing\n",
      "15:50:33 - cmdstanpy - INFO - Chain [1] done processing\n",
      "15:50:33 - cmdstanpy - INFO - Chain [1] start processing\n",
      "15:50:33 - cmdstanpy - INFO - Chain [1] start processing\n",
      "15:50:33 - cmdstanpy - INFO - Chain [1] done processing\n",
      "15:50:33 - cmdstanpy - INFO - Chain [1] done processing\n",
      "15:50:35 - cmdstanpy - INFO - Chain [1] done processing\n"
     ]
    },
    {
     "name": "stdout",
     "output_type": "stream",
     "text": [
      "{'changepoint_prior_scale': 0.30100000000000005, 'holidays_prior_scale': 7.51, 'seasonality_mode': 'multiplicative', 'seasonality_prior_scale': 2.51}\n"
     ]
    },
    {
     "name": "stderr",
     "output_type": "stream",
     "text": [
      "15:50:35 - cmdstanpy - INFO - Chain [1] start processing\n",
      "15:50:38 - cmdstanpy - INFO - Chain [1] done processing\n",
      "15:50:39 - cmdstanpy - INFO - Chain [1] start processing\n",
      "15:50:39 - cmdstanpy - INFO - Chain [1] done processing\n",
      "15:50:39 - cmdstanpy - INFO - Chain [1] start processing\n",
      "15:50:39 - cmdstanpy - INFO - Chain [1] start processing\n",
      "15:50:39 - cmdstanpy - INFO - Chain [1] start processing\n",
      "15:50:39 - cmdstanpy - INFO - Chain [1] start processing\n",
      "15:50:39 - cmdstanpy - INFO - Chain [1] done processing\n",
      "15:50:40 - cmdstanpy - INFO - Chain [1] done processing\n",
      "15:50:40 - cmdstanpy - INFO - Chain [1] done processing\n",
      "15:50:43 - cmdstanpy - INFO - Chain [1] done processing\n"
     ]
    },
    {
     "name": "stdout",
     "output_type": "stream",
     "text": [
      "{'changepoint_prior_scale': 0.30100000000000005, 'holidays_prior_scale': 7.51, 'seasonality_mode': 'multiplicative', 'seasonality_prior_scale': 5.01}\n"
     ]
    },
    {
     "name": "stderr",
     "output_type": "stream",
     "text": [
      "15:50:43 - cmdstanpy - INFO - Chain [1] start processing\n",
      "15:50:47 - cmdstanpy - INFO - Chain [1] done processing\n",
      "15:50:48 - cmdstanpy - INFO - Chain [1] start processing\n",
      "15:50:48 - cmdstanpy - INFO - Chain [1] start processing\n",
      "15:50:48 - cmdstanpy - INFO - Chain [1] done processing\n",
      "15:50:48 - cmdstanpy - INFO - Chain [1] done processing\n",
      "15:50:49 - cmdstanpy - INFO - Chain [1] start processing\n",
      "15:50:49 - cmdstanpy - INFO - Chain [1] start processing\n",
      "15:50:49 - cmdstanpy - INFO - Chain [1] start processing\n",
      "15:50:49 - cmdstanpy - INFO - Chain [1] done processing\n",
      "15:50:49 - cmdstanpy - INFO - Chain [1] done processing\n",
      "15:50:51 - cmdstanpy - INFO - Chain [1] done processing\n"
     ]
    },
    {
     "name": "stdout",
     "output_type": "stream",
     "text": [
      "{'changepoint_prior_scale': 0.30100000000000005, 'holidays_prior_scale': 7.51, 'seasonality_mode': 'multiplicative', 'seasonality_prior_scale': 7.51}\n"
     ]
    },
    {
     "name": "stderr",
     "output_type": "stream",
     "text": [
      "15:50:52 - cmdstanpy - INFO - Chain [1] start processing\n",
      "15:50:54 - cmdstanpy - INFO - Chain [1] done processing\n",
      "15:50:55 - cmdstanpy - INFO - Chain [1] start processing\n",
      "15:50:55 - cmdstanpy - INFO - Chain [1] done processing\n",
      "15:50:55 - cmdstanpy - INFO - Chain [1] start processing\n",
      "15:50:55 - cmdstanpy - INFO - Chain [1] start processing\n",
      "15:50:55 - cmdstanpy - INFO - Chain [1] done processing\n",
      "15:50:55 - cmdstanpy - INFO - Chain [1] start processing\n",
      "15:50:55 - cmdstanpy - INFO - Chain [1] start processing\n",
      "15:50:55 - cmdstanpy - INFO - Chain [1] done processing\n",
      "15:50:56 - cmdstanpy - INFO - Chain [1] done processing\n",
      "15:50:58 - cmdstanpy - INFO - Chain [1] done processing\n"
     ]
    },
    {
     "name": "stdout",
     "output_type": "stream",
     "text": [
      "{'changepoint_prior_scale': 0.30100000000000005, 'holidays_prior_scale': 7.51, 'seasonality_mode': 'additive', 'seasonality_prior_scale': 0.01}\n"
     ]
    },
    {
     "name": "stderr",
     "output_type": "stream",
     "text": [
      "15:50:59 - cmdstanpy - INFO - Chain [1] start processing\n",
      "15:51:00 - cmdstanpy - INFO - Chain [1] done processing\n",
      "15:51:01 - cmdstanpy - INFO - Chain [1] start processing\n",
      "15:51:02 - cmdstanpy - INFO - Chain [1] start processing\n",
      "15:51:02 - cmdstanpy - INFO - Chain [1] start processing\n",
      "15:51:02 - cmdstanpy - INFO - Chain [1] done processing\n",
      "15:51:02 - cmdstanpy - INFO - Chain [1] start processing\n",
      "15:51:02 - cmdstanpy - INFO - Chain [1] done processing\n",
      "15:51:02 - cmdstanpy - INFO - Chain [1] start processing\n",
      "15:51:02 - cmdstanpy - INFO - Chain [1] done processing\n",
      "15:51:03 - cmdstanpy - INFO - Chain [1] done processing\n",
      "15:51:05 - cmdstanpy - INFO - Chain [1] done processing\n"
     ]
    },
    {
     "name": "stdout",
     "output_type": "stream",
     "text": [
      "{'changepoint_prior_scale': 0.30100000000000005, 'holidays_prior_scale': 7.51, 'seasonality_mode': 'additive', 'seasonality_prior_scale': 2.51}\n"
     ]
    },
    {
     "name": "stderr",
     "output_type": "stream",
     "text": [
      "15:51:05 - cmdstanpy - INFO - Chain [1] start processing\n",
      "15:51:07 - cmdstanpy - INFO - Chain [1] done processing\n",
      "15:51:08 - cmdstanpy - INFO - Chain [1] start processing\n",
      "15:51:08 - cmdstanpy - INFO - Chain [1] start processing\n",
      "15:51:08 - cmdstanpy - INFO - Chain [1] done processing\n",
      "15:51:08 - cmdstanpy - INFO - Chain [1] start processing\n",
      "15:51:08 - cmdstanpy - INFO - Chain [1] done processing\n",
      "15:51:08 - cmdstanpy - INFO - Chain [1] start processing\n",
      "15:51:08 - cmdstanpy - INFO - Chain [1] start processing\n",
      "15:51:09 - cmdstanpy - INFO - Chain [1] done processing\n",
      "15:51:09 - cmdstanpy - INFO - Chain [1] done processing\n",
      "15:51:11 - cmdstanpy - INFO - Chain [1] done processing\n"
     ]
    },
    {
     "name": "stdout",
     "output_type": "stream",
     "text": [
      "{'changepoint_prior_scale': 0.30100000000000005, 'holidays_prior_scale': 7.51, 'seasonality_mode': 'additive', 'seasonality_prior_scale': 5.01}\n"
     ]
    },
    {
     "name": "stderr",
     "output_type": "stream",
     "text": [
      "15:51:12 - cmdstanpy - INFO - Chain [1] start processing\n",
      "15:51:14 - cmdstanpy - INFO - Chain [1] done processing\n",
      "15:51:15 - cmdstanpy - INFO - Chain [1] start processing\n",
      "15:51:15 - cmdstanpy - INFO - Chain [1] start processing\n",
      "15:51:15 - cmdstanpy - INFO - Chain [1] done processing\n",
      "15:51:15 - cmdstanpy - INFO - Chain [1] done processing\n",
      "15:51:15 - cmdstanpy - INFO - Chain [1] start processing\n",
      "15:51:15 - cmdstanpy - INFO - Chain [1] start processing\n",
      "15:51:15 - cmdstanpy - INFO - Chain [1] start processing\n",
      "15:51:16 - cmdstanpy - INFO - Chain [1] done processing\n",
      "15:51:16 - cmdstanpy - INFO - Chain [1] done processing\n",
      "15:51:18 - cmdstanpy - INFO - Chain [1] done processing\n"
     ]
    },
    {
     "name": "stdout",
     "output_type": "stream",
     "text": [
      "{'changepoint_prior_scale': 0.30100000000000005, 'holidays_prior_scale': 7.51, 'seasonality_mode': 'additive', 'seasonality_prior_scale': 7.51}\n"
     ]
    },
    {
     "name": "stderr",
     "output_type": "stream",
     "text": [
      "15:51:18 - cmdstanpy - INFO - Chain [1] start processing\n",
      "15:51:20 - cmdstanpy - INFO - Chain [1] done processing\n",
      "15:51:21 - cmdstanpy - INFO - Chain [1] start processing\n",
      "15:51:21 - cmdstanpy - INFO - Chain [1] start processing\n",
      "15:51:22 - cmdstanpy - INFO - Chain [1] start processing\n",
      "15:51:22 - cmdstanpy - INFO - Chain [1] start processing\n",
      "15:51:22 - cmdstanpy - INFO - Chain [1] done processing\n",
      "15:51:22 - cmdstanpy - INFO - Chain [1] done processing\n",
      "15:51:22 - cmdstanpy - INFO - Chain [1] start processing\n",
      "15:51:22 - cmdstanpy - INFO - Chain [1] done processing\n",
      "15:51:23 - cmdstanpy - INFO - Chain [1] done processing\n",
      "15:51:25 - cmdstanpy - INFO - Chain [1] done processing\n"
     ]
    },
    {
     "name": "stdout",
     "output_type": "stream",
     "text": [
      "{'changepoint_prior_scale': 0.401, 'holidays_prior_scale': 0.01, 'seasonality_mode': 'multiplicative', 'seasonality_prior_scale': 0.01}\n"
     ]
    },
    {
     "name": "stderr",
     "output_type": "stream",
     "text": [
      "15:51:25 - cmdstanpy - INFO - Chain [1] start processing\n",
      "15:51:27 - cmdstanpy - INFO - Chain [1] done processing\n",
      "15:51:28 - cmdstanpy - INFO - Chain [1] start processing\n",
      "15:51:28 - cmdstanpy - INFO - Chain [1] start processing\n",
      "15:51:28 - cmdstanpy - INFO - Chain [1] done processing\n",
      "15:51:28 - cmdstanpy - INFO - Chain [1] done processing\n",
      "15:51:28 - cmdstanpy - INFO - Chain [1] start processing\n",
      "15:51:28 - cmdstanpy - INFO - Chain [1] start processing\n",
      "15:51:28 - cmdstanpy - INFO - Chain [1] start processing\n",
      "15:51:29 - cmdstanpy - INFO - Chain [1] done processing\n",
      "15:51:29 - cmdstanpy - INFO - Chain [1] done processing\n",
      "15:51:30 - cmdstanpy - INFO - Chain [1] done processing\n"
     ]
    },
    {
     "name": "stdout",
     "output_type": "stream",
     "text": [
      "{'changepoint_prior_scale': 0.401, 'holidays_prior_scale': 0.01, 'seasonality_mode': 'multiplicative', 'seasonality_prior_scale': 2.51}\n"
     ]
    },
    {
     "name": "stderr",
     "output_type": "stream",
     "text": [
      "15:51:31 - cmdstanpy - INFO - Chain [1] start processing\n",
      "15:51:33 - cmdstanpy - INFO - Chain [1] done processing\n",
      "15:51:34 - cmdstanpy - INFO - Chain [1] start processing\n",
      "15:51:34 - cmdstanpy - INFO - Chain [1] start processing\n",
      "15:51:34 - cmdstanpy - INFO - Chain [1] done processing\n",
      "15:51:34 - cmdstanpy - INFO - Chain [1] start processing\n",
      "15:51:34 - cmdstanpy - INFO - Chain [1] done processing\n",
      "15:51:34 - cmdstanpy - INFO - Chain [1] start processing\n",
      "15:51:34 - cmdstanpy - INFO - Chain [1] start processing\n",
      "15:51:35 - cmdstanpy - INFO - Chain [1] done processing\n",
      "15:51:35 - cmdstanpy - INFO - Chain [1] done processing\n",
      "15:51:36 - cmdstanpy - INFO - Chain [1] done processing\n"
     ]
    },
    {
     "name": "stdout",
     "output_type": "stream",
     "text": [
      "{'changepoint_prior_scale': 0.401, 'holidays_prior_scale': 0.01, 'seasonality_mode': 'multiplicative', 'seasonality_prior_scale': 5.01}\n"
     ]
    },
    {
     "name": "stderr",
     "output_type": "stream",
     "text": [
      "15:51:37 - cmdstanpy - INFO - Chain [1] start processing\n",
      "15:51:39 - cmdstanpy - INFO - Chain [1] done processing\n",
      "15:51:40 - cmdstanpy - INFO - Chain [1] start processing\n",
      "15:51:40 - cmdstanpy - INFO - Chain [1] start processing\n",
      "15:51:40 - cmdstanpy - INFO - Chain [1] done processing\n",
      "15:51:40 - cmdstanpy - INFO - Chain [1] start processing\n",
      "15:51:40 - cmdstanpy - INFO - Chain [1] start processing\n",
      "15:51:40 - cmdstanpy - INFO - Chain [1] start processing\n",
      "15:51:41 - cmdstanpy - INFO - Chain [1] done processing\n",
      "15:51:41 - cmdstanpy - INFO - Chain [1] done processing\n",
      "15:51:41 - cmdstanpy - INFO - Chain [1] done processing\n",
      "15:51:43 - cmdstanpy - INFO - Chain [1] done processing\n"
     ]
    },
    {
     "name": "stdout",
     "output_type": "stream",
     "text": [
      "{'changepoint_prior_scale': 0.401, 'holidays_prior_scale': 0.01, 'seasonality_mode': 'multiplicative', 'seasonality_prior_scale': 7.51}\n"
     ]
    },
    {
     "name": "stderr",
     "output_type": "stream",
     "text": [
      "15:51:44 - cmdstanpy - INFO - Chain [1] start processing\n",
      "15:51:45 - cmdstanpy - INFO - Chain [1] done processing\n",
      "15:51:47 - cmdstanpy - INFO - Chain [1] start processing\n",
      "15:51:47 - cmdstanpy - INFO - Chain [1] start processing\n",
      "15:51:47 - cmdstanpy - INFO - Chain [1] start processing\n",
      "15:51:47 - cmdstanpy - INFO - Chain [1] done processing\n",
      "15:51:47 - cmdstanpy - INFO - Chain [1] start processing\n",
      "15:51:47 - cmdstanpy - INFO - Chain [1] start processing\n",
      "15:51:47 - cmdstanpy - INFO - Chain [1] done processing\n",
      "15:51:47 - cmdstanpy - INFO - Chain [1] done processing\n",
      "15:51:47 - cmdstanpy - INFO - Chain [1] done processing\n",
      "15:51:49 - cmdstanpy - INFO - Chain [1] done processing\n"
     ]
    },
    {
     "name": "stdout",
     "output_type": "stream",
     "text": [
      "{'changepoint_prior_scale': 0.401, 'holidays_prior_scale': 0.01, 'seasonality_mode': 'additive', 'seasonality_prior_scale': 0.01}\n"
     ]
    },
    {
     "name": "stderr",
     "output_type": "stream",
     "text": [
      "15:51:50 - cmdstanpy - INFO - Chain [1] start processing\n",
      "15:51:52 - cmdstanpy - INFO - Chain [1] done processing\n",
      "15:51:53 - cmdstanpy - INFO - Chain [1] start processing\n",
      "15:51:53 - cmdstanpy - INFO - Chain [1] done processing\n",
      "15:51:53 - cmdstanpy - INFO - Chain [1] start processing\n",
      "15:51:53 - cmdstanpy - INFO - Chain [1] start processing\n",
      "15:51:53 - cmdstanpy - INFO - Chain [1] done processing\n",
      "15:51:54 - cmdstanpy - INFO - Chain [1] start processing\n",
      "15:51:54 - cmdstanpy - INFO - Chain [1] done processing\n",
      "15:51:54 - cmdstanpy - INFO - Chain [1] start processing\n",
      "15:51:54 - cmdstanpy - INFO - Chain [1] done processing\n",
      "15:51:56 - cmdstanpy - INFO - Chain [1] done processing\n"
     ]
    },
    {
     "name": "stdout",
     "output_type": "stream",
     "text": [
      "{'changepoint_prior_scale': 0.401, 'holidays_prior_scale': 0.01, 'seasonality_mode': 'additive', 'seasonality_prior_scale': 2.51}\n"
     ]
    },
    {
     "name": "stderr",
     "output_type": "stream",
     "text": [
      "15:51:56 - cmdstanpy - INFO - Chain [1] start processing\n",
      "15:51:58 - cmdstanpy - INFO - Chain [1] done processing\n",
      "15:52:00 - cmdstanpy - INFO - Chain [1] start processing\n",
      "15:52:00 - cmdstanpy - INFO - Chain [1] start processing\n",
      "15:52:00 - cmdstanpy - INFO - Chain [1] done processing\n",
      "15:52:00 - cmdstanpy - INFO - Chain [1] start processing\n",
      "15:52:00 - cmdstanpy - INFO - Chain [1] done processing\n",
      "15:52:00 - cmdstanpy - INFO - Chain [1] start processing\n",
      "15:52:00 - cmdstanpy - INFO - Chain [1] done processing\n",
      "15:52:00 - cmdstanpy - INFO - Chain [1] start processing\n",
      "15:52:00 - cmdstanpy - INFO - Chain [1] done processing\n",
      "15:52:02 - cmdstanpy - INFO - Chain [1] done processing\n"
     ]
    },
    {
     "name": "stdout",
     "output_type": "stream",
     "text": [
      "{'changepoint_prior_scale': 0.401, 'holidays_prior_scale': 0.01, 'seasonality_mode': 'additive', 'seasonality_prior_scale': 5.01}\n"
     ]
    },
    {
     "name": "stderr",
     "output_type": "stream",
     "text": [
      "15:52:03 - cmdstanpy - INFO - Chain [1] start processing\n",
      "15:52:05 - cmdstanpy - INFO - Chain [1] done processing\n",
      "15:52:06 - cmdstanpy - INFO - Chain [1] start processing\n",
      "15:52:06 - cmdstanpy - INFO - Chain [1] start processing\n",
      "15:52:06 - cmdstanpy - INFO - Chain [1] done processing\n",
      "15:52:06 - cmdstanpy - INFO - Chain [1] start processing\n",
      "15:52:06 - cmdstanpy - INFO - Chain [1] start processing\n",
      "15:52:06 - cmdstanpy - INFO - Chain [1] done processing\n",
      "15:52:06 - cmdstanpy - INFO - Chain [1] done processing\n",
      "15:52:06 - cmdstanpy - INFO - Chain [1] start processing\n",
      "15:52:07 - cmdstanpy - INFO - Chain [1] done processing\n",
      "15:52:09 - cmdstanpy - INFO - Chain [1] done processing\n"
     ]
    },
    {
     "name": "stdout",
     "output_type": "stream",
     "text": [
      "{'changepoint_prior_scale': 0.401, 'holidays_prior_scale': 0.01, 'seasonality_mode': 'additive', 'seasonality_prior_scale': 7.51}\n"
     ]
    },
    {
     "name": "stderr",
     "output_type": "stream",
     "text": [
      "15:52:09 - cmdstanpy - INFO - Chain [1] start processing\n",
      "15:52:11 - cmdstanpy - INFO - Chain [1] done processing\n",
      "15:52:12 - cmdstanpy - INFO - Chain [1] start processing\n",
      "15:52:12 - cmdstanpy - INFO - Chain [1] start processing\n",
      "15:52:12 - cmdstanpy - INFO - Chain [1] done processing\n",
      "15:52:13 - cmdstanpy - INFO - Chain [1] start processing\n",
      "15:52:13 - cmdstanpy - INFO - Chain [1] done processing\n",
      "15:52:13 - cmdstanpy - INFO - Chain [1] start processing\n",
      "15:52:13 - cmdstanpy - INFO - Chain [1] start processing\n",
      "15:52:13 - cmdstanpy - INFO - Chain [1] done processing\n",
      "15:52:13 - cmdstanpy - INFO - Chain [1] done processing\n",
      "15:52:15 - cmdstanpy - INFO - Chain [1] done processing\n"
     ]
    },
    {
     "name": "stdout",
     "output_type": "stream",
     "text": [
      "{'changepoint_prior_scale': 0.401, 'holidays_prior_scale': 2.51, 'seasonality_mode': 'multiplicative', 'seasonality_prior_scale': 0.01}\n"
     ]
    },
    {
     "name": "stderr",
     "output_type": "stream",
     "text": [
      "15:52:16 - cmdstanpy - INFO - Chain [1] start processing\n",
      "15:52:18 - cmdstanpy - INFO - Chain [1] done processing\n",
      "15:52:19 - cmdstanpy - INFO - Chain [1] start processing\n",
      "15:52:19 - cmdstanpy - INFO - Chain [1] start processing\n",
      "15:52:19 - cmdstanpy - INFO - Chain [1] done processing\n",
      "15:52:19 - cmdstanpy - INFO - Chain [1] start processing\n",
      "15:52:19 - cmdstanpy - INFO - Chain [1] start processing\n",
      "15:52:19 - cmdstanpy - INFO - Chain [1] done processing\n",
      "15:52:19 - cmdstanpy - INFO - Chain [1] start processing\n",
      "15:52:20 - cmdstanpy - INFO - Chain [1] done processing\n",
      "15:52:20 - cmdstanpy - INFO - Chain [1] done processing\n",
      "15:52:21 - cmdstanpy - INFO - Chain [1] done processing\n"
     ]
    },
    {
     "name": "stdout",
     "output_type": "stream",
     "text": [
      "{'changepoint_prior_scale': 0.401, 'holidays_prior_scale': 2.51, 'seasonality_mode': 'multiplicative', 'seasonality_prior_scale': 2.51}\n"
     ]
    },
    {
     "name": "stderr",
     "output_type": "stream",
     "text": [
      "15:52:21 - cmdstanpy - INFO - Chain [1] start processing\n",
      "15:52:23 - cmdstanpy - INFO - Chain [1] done processing\n",
      "15:52:25 - cmdstanpy - INFO - Chain [1] start processing\n",
      "15:52:25 - cmdstanpy - INFO - Chain [1] start processing\n",
      "15:52:25 - cmdstanpy - INFO - Chain [1] start processing\n",
      "15:52:25 - cmdstanpy - INFO - Chain [1] done processing\n",
      "15:52:25 - cmdstanpy - INFO - Chain [1] done processing\n",
      "15:52:25 - cmdstanpy - INFO - Chain [1] start processing\n",
      "15:52:25 - cmdstanpy - INFO - Chain [1] start processing\n",
      "15:52:25 - cmdstanpy - INFO - Chain [1] done processing\n",
      "15:52:25 - cmdstanpy - INFO - Chain [1] done processing\n",
      "15:52:28 - cmdstanpy - INFO - Chain [1] done processing\n"
     ]
    },
    {
     "name": "stdout",
     "output_type": "stream",
     "text": [
      "{'changepoint_prior_scale': 0.401, 'holidays_prior_scale': 2.51, 'seasonality_mode': 'multiplicative', 'seasonality_prior_scale': 5.01}\n"
     ]
    },
    {
     "name": "stderr",
     "output_type": "stream",
     "text": [
      "15:52:28 - cmdstanpy - INFO - Chain [1] start processing\n",
      "15:52:31 - cmdstanpy - INFO - Chain [1] done processing\n",
      "15:52:32 - cmdstanpy - INFO - Chain [1] start processing\n",
      "15:52:32 - cmdstanpy - INFO - Chain [1] start processing\n",
      "15:52:33 - cmdstanpy - INFO - Chain [1] done processing\n",
      "15:52:33 - cmdstanpy - INFO - Chain [1] done processing\n",
      "15:52:33 - cmdstanpy - INFO - Chain [1] start processing\n",
      "15:52:33 - cmdstanpy - INFO - Chain [1] start processing\n",
      "15:52:33 - cmdstanpy - INFO - Chain [1] start processing\n",
      "15:52:33 - cmdstanpy - INFO - Chain [1] done processing\n",
      "15:52:33 - cmdstanpy - INFO - Chain [1] done processing\n",
      "15:52:36 - cmdstanpy - INFO - Chain [1] done processing\n"
     ]
    },
    {
     "name": "stdout",
     "output_type": "stream",
     "text": [
      "{'changepoint_prior_scale': 0.401, 'holidays_prior_scale': 2.51, 'seasonality_mode': 'multiplicative', 'seasonality_prior_scale': 7.51}\n"
     ]
    },
    {
     "name": "stderr",
     "output_type": "stream",
     "text": [
      "15:52:37 - cmdstanpy - INFO - Chain [1] start processing\n",
      "15:52:41 - cmdstanpy - INFO - Chain [1] done processing\n",
      "15:52:42 - cmdstanpy - INFO - Chain [1] start processing\n",
      "15:52:42 - cmdstanpy - INFO - Chain [1] start processing\n",
      "15:52:42 - cmdstanpy - INFO - Chain [1] done processing\n",
      "15:52:42 - cmdstanpy - INFO - Chain [1] start processing\n",
      "15:52:42 - cmdstanpy - INFO - Chain [1] start processing\n",
      "15:52:42 - cmdstanpy - INFO - Chain [1] done processing\n",
      "15:52:42 - cmdstanpy - INFO - Chain [1] start processing\n",
      "15:52:43 - cmdstanpy - INFO - Chain [1] done processing\n",
      "15:52:43 - cmdstanpy - INFO - Chain [1] done processing\n",
      "15:52:44 - cmdstanpy - INFO - Chain [1] done processing\n"
     ]
    },
    {
     "name": "stdout",
     "output_type": "stream",
     "text": [
      "{'changepoint_prior_scale': 0.401, 'holidays_prior_scale': 2.51, 'seasonality_mode': 'additive', 'seasonality_prior_scale': 0.01}\n"
     ]
    },
    {
     "name": "stderr",
     "output_type": "stream",
     "text": [
      "15:52:45 - cmdstanpy - INFO - Chain [1] start processing\n",
      "15:52:47 - cmdstanpy - INFO - Chain [1] done processing\n",
      "15:52:48 - cmdstanpy - INFO - Chain [1] start processing\n",
      "15:52:48 - cmdstanpy - INFO - Chain [1] done processing\n",
      "15:52:48 - cmdstanpy - INFO - Chain [1] start processing\n",
      "15:52:48 - cmdstanpy - INFO - Chain [1] start processing\n",
      "15:52:48 - cmdstanpy - INFO - Chain [1] start processing\n",
      "15:52:49 - cmdstanpy - INFO - Chain [1] done processing\n",
      "15:52:49 - cmdstanpy - INFO - Chain [1] start processing\n",
      "15:52:49 - cmdstanpy - INFO - Chain [1] done processing\n",
      "15:52:49 - cmdstanpy - INFO - Chain [1] done processing\n",
      "15:52:51 - cmdstanpy - INFO - Chain [1] done processing\n"
     ]
    },
    {
     "name": "stdout",
     "output_type": "stream",
     "text": [
      "{'changepoint_prior_scale': 0.401, 'holidays_prior_scale': 2.51, 'seasonality_mode': 'additive', 'seasonality_prior_scale': 2.51}\n"
     ]
    },
    {
     "name": "stderr",
     "output_type": "stream",
     "text": [
      "15:52:52 - cmdstanpy - INFO - Chain [1] start processing\n",
      "15:52:53 - cmdstanpy - INFO - Chain [1] done processing\n",
      "15:52:55 - cmdstanpy - INFO - Chain [1] start processing\n",
      "15:52:55 - cmdstanpy - INFO - Chain [1] start processing\n",
      "15:52:55 - cmdstanpy - INFO - Chain [1] done processing\n",
      "15:52:55 - cmdstanpy - INFO - Chain [1] done processing\n",
      "15:52:55 - cmdstanpy - INFO - Chain [1] start processing\n",
      "15:52:55 - cmdstanpy - INFO - Chain [1] start processing\n",
      "15:52:55 - cmdstanpy - INFO - Chain [1] start processing\n",
      "15:52:56 - cmdstanpy - INFO - Chain [1] done processing\n",
      "15:52:56 - cmdstanpy - INFO - Chain [1] done processing\n",
      "15:52:57 - cmdstanpy - INFO - Chain [1] done processing\n"
     ]
    },
    {
     "name": "stdout",
     "output_type": "stream",
     "text": [
      "{'changepoint_prior_scale': 0.401, 'holidays_prior_scale': 2.51, 'seasonality_mode': 'additive', 'seasonality_prior_scale': 5.01}\n"
     ]
    },
    {
     "name": "stderr",
     "output_type": "stream",
     "text": [
      "15:52:58 - cmdstanpy - INFO - Chain [1] start processing\n",
      "15:53:00 - cmdstanpy - INFO - Chain [1] done processing\n",
      "15:53:01 - cmdstanpy - INFO - Chain [1] start processing\n",
      "15:53:01 - cmdstanpy - INFO - Chain [1] done processing\n",
      "15:53:01 - cmdstanpy - INFO - Chain [1] start processing\n",
      "15:53:01 - cmdstanpy - INFO - Chain [1] start processing\n",
      "15:53:02 - cmdstanpy - INFO - Chain [1] start processing\n",
      "15:53:02 - cmdstanpy - INFO - Chain [1] start processing\n",
      "15:53:02 - cmdstanpy - INFO - Chain [1] done processing\n",
      "15:53:02 - cmdstanpy - INFO - Chain [1] done processing\n",
      "15:53:02 - cmdstanpy - INFO - Chain [1] done processing\n",
      "15:53:04 - cmdstanpy - INFO - Chain [1] done processing\n"
     ]
    },
    {
     "name": "stdout",
     "output_type": "stream",
     "text": [
      "{'changepoint_prior_scale': 0.401, 'holidays_prior_scale': 2.51, 'seasonality_mode': 'additive', 'seasonality_prior_scale': 7.51}\n"
     ]
    },
    {
     "name": "stderr",
     "output_type": "stream",
     "text": [
      "15:53:05 - cmdstanpy - INFO - Chain [1] start processing\n",
      "15:53:06 - cmdstanpy - INFO - Chain [1] done processing\n",
      "15:53:08 - cmdstanpy - INFO - Chain [1] start processing\n",
      "15:53:08 - cmdstanpy - INFO - Chain [1] start processing\n",
      "15:53:08 - cmdstanpy - INFO - Chain [1] done processing\n",
      "15:53:08 - cmdstanpy - INFO - Chain [1] start processing\n",
      "15:53:08 - cmdstanpy - INFO - Chain [1] start processing\n",
      "15:53:08 - cmdstanpy - INFO - Chain [1] start processing\n",
      "15:53:08 - cmdstanpy - INFO - Chain [1] done processing\n",
      "15:53:08 - cmdstanpy - INFO - Chain [1] done processing\n",
      "15:53:08 - cmdstanpy - INFO - Chain [1] done processing\n",
      "15:53:11 - cmdstanpy - INFO - Chain [1] done processing\n"
     ]
    },
    {
     "name": "stdout",
     "output_type": "stream",
     "text": [
      "{'changepoint_prior_scale': 0.401, 'holidays_prior_scale': 5.01, 'seasonality_mode': 'multiplicative', 'seasonality_prior_scale': 0.01}\n"
     ]
    },
    {
     "name": "stderr",
     "output_type": "stream",
     "text": [
      "15:53:11 - cmdstanpy - INFO - Chain [1] start processing\n",
      "15:53:12 - cmdstanpy - INFO - Chain [1] done processing\n",
      "15:53:13 - cmdstanpy - INFO - Chain [1] start processing\n",
      "15:53:13 - cmdstanpy - INFO - Chain [1] start processing\n",
      "15:53:13 - cmdstanpy - INFO - Chain [1] done processing\n",
      "15:53:13 - cmdstanpy - INFO - Chain [1] done processing\n",
      "15:53:13 - cmdstanpy - INFO - Chain [1] start processing\n",
      "15:53:13 - cmdstanpy - INFO - Chain [1] start processing\n",
      "15:53:14 - cmdstanpy - INFO - Chain [1] start processing\n",
      "15:53:14 - cmdstanpy - INFO - Chain [1] done processing\n",
      "15:53:14 - cmdstanpy - INFO - Chain [1] done processing\n",
      "15:53:17 - cmdstanpy - INFO - Chain [1] done processing\n"
     ]
    },
    {
     "name": "stdout",
     "output_type": "stream",
     "text": [
      "{'changepoint_prior_scale': 0.401, 'holidays_prior_scale': 5.01, 'seasonality_mode': 'multiplicative', 'seasonality_prior_scale': 2.51}\n"
     ]
    },
    {
     "name": "stderr",
     "output_type": "stream",
     "text": [
      "15:53:18 - cmdstanpy - INFO - Chain [1] start processing\n",
      "15:53:20 - cmdstanpy - INFO - Chain [1] done processing\n",
      "15:53:21 - cmdstanpy - INFO - Chain [1] start processing\n",
      "15:53:21 - cmdstanpy - INFO - Chain [1] start processing\n",
      "15:53:21 - cmdstanpy - INFO - Chain [1] done processing\n",
      "15:53:21 - cmdstanpy - INFO - Chain [1] start processing\n",
      "15:53:21 - cmdstanpy - INFO - Chain [1] start processing\n",
      "15:53:21 - cmdstanpy - INFO - Chain [1] done processing\n",
      "15:53:22 - cmdstanpy - INFO - Chain [1] done processing\n",
      "15:53:22 - cmdstanpy - INFO - Chain [1] start processing\n",
      "15:53:22 - cmdstanpy - INFO - Chain [1] done processing\n",
      "15:53:24 - cmdstanpy - INFO - Chain [1] done processing\n"
     ]
    },
    {
     "name": "stdout",
     "output_type": "stream",
     "text": [
      "{'changepoint_prior_scale': 0.401, 'holidays_prior_scale': 5.01, 'seasonality_mode': 'multiplicative', 'seasonality_prior_scale': 5.01}\n"
     ]
    },
    {
     "name": "stderr",
     "output_type": "stream",
     "text": [
      "15:53:25 - cmdstanpy - INFO - Chain [1] start processing\n",
      "15:53:27 - cmdstanpy - INFO - Chain [1] done processing\n",
      "15:53:28 - cmdstanpy - INFO - Chain [1] start processing\n",
      "15:53:28 - cmdstanpy - INFO - Chain [1] start processing\n",
      "15:53:28 - cmdstanpy - INFO - Chain [1] done processing\n",
      "15:53:28 - cmdstanpy - INFO - Chain [1] start processing\n",
      "15:53:28 - cmdstanpy - INFO - Chain [1] done processing\n",
      "15:53:29 - cmdstanpy - INFO - Chain [1] start processing\n",
      "15:53:29 - cmdstanpy - INFO - Chain [1] start processing\n",
      "15:53:29 - cmdstanpy - INFO - Chain [1] done processing\n",
      "15:53:30 - cmdstanpy - INFO - Chain [1] done processing\n",
      "15:53:30 - cmdstanpy - INFO - Chain [1] done processing\n"
     ]
    },
    {
     "name": "stdout",
     "output_type": "stream",
     "text": [
      "{'changepoint_prior_scale': 0.401, 'holidays_prior_scale': 5.01, 'seasonality_mode': 'multiplicative', 'seasonality_prior_scale': 7.51}\n"
     ]
    },
    {
     "name": "stderr",
     "output_type": "stream",
     "text": [
      "15:53:31 - cmdstanpy - INFO - Chain [1] start processing\n",
      "15:53:34 - cmdstanpy - INFO - Chain [1] done processing\n",
      "15:53:35 - cmdstanpy - INFO - Chain [1] start processing\n",
      "15:53:35 - cmdstanpy - INFO - Chain [1] start processing\n",
      "15:53:35 - cmdstanpy - INFO - Chain [1] done processing\n",
      "15:53:35 - cmdstanpy - INFO - Chain [1] done processing\n",
      "15:53:35 - cmdstanpy - INFO - Chain [1] start processing\n",
      "15:53:36 - cmdstanpy - INFO - Chain [1] start processing\n",
      "15:53:36 - cmdstanpy - INFO - Chain [1] start processing\n",
      "15:53:36 - cmdstanpy - INFO - Chain [1] done processing\n",
      "15:53:36 - cmdstanpy - INFO - Chain [1] done processing\n",
      "15:53:38 - cmdstanpy - INFO - Chain [1] done processing\n"
     ]
    },
    {
     "name": "stdout",
     "output_type": "stream",
     "text": [
      "{'changepoint_prior_scale': 0.401, 'holidays_prior_scale': 5.01, 'seasonality_mode': 'additive', 'seasonality_prior_scale': 0.01}\n"
     ]
    },
    {
     "name": "stderr",
     "output_type": "stream",
     "text": [
      "15:53:38 - cmdstanpy - INFO - Chain [1] start processing\n",
      "15:53:40 - cmdstanpy - INFO - Chain [1] done processing\n",
      "15:53:41 - cmdstanpy - INFO - Chain [1] start processing\n",
      "15:53:41 - cmdstanpy - INFO - Chain [1] done processing\n",
      "15:53:41 - cmdstanpy - INFO - Chain [1] start processing\n",
      "15:53:42 - cmdstanpy - INFO - Chain [1] start processing\n",
      "15:53:42 - cmdstanpy - INFO - Chain [1] start processing\n",
      "15:53:42 - cmdstanpy - INFO - Chain [1] done processing\n",
      "15:53:42 - cmdstanpy - INFO - Chain [1] done processing\n",
      "15:53:42 - cmdstanpy - INFO - Chain [1] start processing\n",
      "15:53:43 - cmdstanpy - INFO - Chain [1] done processing\n",
      "15:53:44 - cmdstanpy - INFO - Chain [1] done processing\n"
     ]
    },
    {
     "name": "stdout",
     "output_type": "stream",
     "text": [
      "{'changepoint_prior_scale': 0.401, 'holidays_prior_scale': 5.01, 'seasonality_mode': 'additive', 'seasonality_prior_scale': 2.51}\n"
     ]
    },
    {
     "name": "stderr",
     "output_type": "stream",
     "text": [
      "15:53:45 - cmdstanpy - INFO - Chain [1] start processing\n",
      "15:53:47 - cmdstanpy - INFO - Chain [1] done processing\n",
      "15:53:48 - cmdstanpy - INFO - Chain [1] start processing\n",
      "15:53:48 - cmdstanpy - INFO - Chain [1] start processing\n",
      "15:53:48 - cmdstanpy - INFO - Chain [1] done processing\n",
      "15:53:48 - cmdstanpy - INFO - Chain [1] done processing\n",
      "15:53:49 - cmdstanpy - INFO - Chain [1] start processing\n",
      "15:53:49 - cmdstanpy - INFO - Chain [1] start processing\n",
      "15:53:49 - cmdstanpy - INFO - Chain [1] start processing\n",
      "15:53:49 - cmdstanpy - INFO - Chain [1] done processing\n",
      "15:53:49 - cmdstanpy - INFO - Chain [1] done processing\n",
      "15:53:51 - cmdstanpy - INFO - Chain [1] done processing\n"
     ]
    },
    {
     "name": "stdout",
     "output_type": "stream",
     "text": [
      "{'changepoint_prior_scale': 0.401, 'holidays_prior_scale': 5.01, 'seasonality_mode': 'additive', 'seasonality_prior_scale': 5.01}\n"
     ]
    },
    {
     "name": "stderr",
     "output_type": "stream",
     "text": [
      "15:53:52 - cmdstanpy - INFO - Chain [1] start processing\n",
      "15:53:54 - cmdstanpy - INFO - Chain [1] done processing\n",
      "15:53:55 - cmdstanpy - INFO - Chain [1] start processing\n",
      "15:53:55 - cmdstanpy - INFO - Chain [1] start processing\n",
      "15:53:55 - cmdstanpy - INFO - Chain [1] done processing\n",
      "15:53:55 - cmdstanpy - INFO - Chain [1] start processing\n",
      "15:53:55 - cmdstanpy - INFO - Chain [1] start processing\n",
      "15:53:55 - cmdstanpy - INFO - Chain [1] done processing\n",
      "15:53:56 - cmdstanpy - INFO - Chain [1] start processing\n",
      "15:53:56 - cmdstanpy - INFO - Chain [1] done processing\n",
      "15:53:56 - cmdstanpy - INFO - Chain [1] done processing\n",
      "15:53:58 - cmdstanpy - INFO - Chain [1] done processing\n"
     ]
    },
    {
     "name": "stdout",
     "output_type": "stream",
     "text": [
      "{'changepoint_prior_scale': 0.401, 'holidays_prior_scale': 5.01, 'seasonality_mode': 'additive', 'seasonality_prior_scale': 7.51}\n"
     ]
    },
    {
     "name": "stderr",
     "output_type": "stream",
     "text": [
      "15:53:59 - cmdstanpy - INFO - Chain [1] start processing\n",
      "15:54:00 - cmdstanpy - INFO - Chain [1] done processing\n",
      "15:54:02 - cmdstanpy - INFO - Chain [1] start processing\n",
      "15:54:02 - cmdstanpy - INFO - Chain [1] start processing\n",
      "15:54:02 - cmdstanpy - INFO - Chain [1] done processing\n",
      "15:54:02 - cmdstanpy - INFO - Chain [1] done processing\n",
      "15:54:02 - cmdstanpy - INFO - Chain [1] start processing\n",
      "15:54:02 - cmdstanpy - INFO - Chain [1] start processing\n",
      "15:54:02 - cmdstanpy - INFO - Chain [1] done processing\n",
      "15:54:02 - cmdstanpy - INFO - Chain [1] start processing\n",
      "15:54:03 - cmdstanpy - INFO - Chain [1] done processing\n",
      "15:54:05 - cmdstanpy - INFO - Chain [1] done processing\n"
     ]
    },
    {
     "name": "stdout",
     "output_type": "stream",
     "text": [
      "{'changepoint_prior_scale': 0.401, 'holidays_prior_scale': 7.51, 'seasonality_mode': 'multiplicative', 'seasonality_prior_scale': 0.01}\n"
     ]
    },
    {
     "name": "stderr",
     "output_type": "stream",
     "text": [
      "15:54:05 - cmdstanpy - INFO - Chain [1] start processing\n",
      "15:54:06 - cmdstanpy - INFO - Chain [1] done processing\n",
      "15:54:08 - cmdstanpy - INFO - Chain [1] start processing\n",
      "15:54:08 - cmdstanpy - INFO - Chain [1] start processing\n",
      "15:54:08 - cmdstanpy - INFO - Chain [1] done processing\n",
      "15:54:08 - cmdstanpy - INFO - Chain [1] start processing\n",
      "15:54:08 - cmdstanpy - INFO - Chain [1] start processing\n",
      "15:54:08 - cmdstanpy - INFO - Chain [1] done processing\n",
      "15:54:08 - cmdstanpy - INFO - Chain [1] start processing\n",
      "15:54:08 - cmdstanpy - INFO - Chain [1] done processing\n",
      "15:54:08 - cmdstanpy - INFO - Chain [1] done processing\n",
      "15:54:10 - cmdstanpy - INFO - Chain [1] done processing\n"
     ]
    },
    {
     "name": "stdout",
     "output_type": "stream",
     "text": [
      "{'changepoint_prior_scale': 0.401, 'holidays_prior_scale': 7.51, 'seasonality_mode': 'multiplicative', 'seasonality_prior_scale': 2.51}\n"
     ]
    },
    {
     "name": "stderr",
     "output_type": "stream",
     "text": [
      "15:54:10 - cmdstanpy - INFO - Chain [1] start processing\n",
      "15:54:13 - cmdstanpy - INFO - Chain [1] done processing\n",
      "15:54:14 - cmdstanpy - INFO - Chain [1] start processing\n",
      "15:54:14 - cmdstanpy - INFO - Chain [1] done processing\n",
      "15:54:14 - cmdstanpy - INFO - Chain [1] start processing\n",
      "15:54:14 - cmdstanpy - INFO - Chain [1] start processing\n",
      "15:54:14 - cmdstanpy - INFO - Chain [1] done processing\n",
      "15:54:14 - cmdstanpy - INFO - Chain [1] start processing\n",
      "15:54:15 - cmdstanpy - INFO - Chain [1] start processing\n",
      "15:54:15 - cmdstanpy - INFO - Chain [1] done processing\n",
      "15:54:15 - cmdstanpy - INFO - Chain [1] done processing\n",
      "15:54:17 - cmdstanpy - INFO - Chain [1] done processing\n"
     ]
    },
    {
     "name": "stdout",
     "output_type": "stream",
     "text": [
      "{'changepoint_prior_scale': 0.401, 'holidays_prior_scale': 7.51, 'seasonality_mode': 'multiplicative', 'seasonality_prior_scale': 5.01}\n"
     ]
    },
    {
     "name": "stderr",
     "output_type": "stream",
     "text": [
      "15:54:17 - cmdstanpy - INFO - Chain [1] start processing\n",
      "15:54:21 - cmdstanpy - INFO - Chain [1] done processing\n",
      "15:54:22 - cmdstanpy - INFO - Chain [1] start processing\n",
      "15:54:23 - cmdstanpy - INFO - Chain [1] start processing\n",
      "15:54:23 - cmdstanpy - INFO - Chain [1] done processing\n",
      "15:54:23 - cmdstanpy - INFO - Chain [1] start processing\n",
      "15:54:23 - cmdstanpy - INFO - Chain [1] start processing\n",
      "15:54:23 - cmdstanpy - INFO - Chain [1] start processing\n",
      "15:54:23 - cmdstanpy - INFO - Chain [1] done processing\n",
      "15:54:23 - cmdstanpy - INFO - Chain [1] done processing\n",
      "15:54:23 - cmdstanpy - INFO - Chain [1] done processing\n",
      "15:54:26 - cmdstanpy - INFO - Chain [1] done processing\n"
     ]
    },
    {
     "name": "stdout",
     "output_type": "stream",
     "text": [
      "{'changepoint_prior_scale': 0.401, 'holidays_prior_scale': 7.51, 'seasonality_mode': 'multiplicative', 'seasonality_prior_scale': 7.51}\n"
     ]
    },
    {
     "name": "stderr",
     "output_type": "stream",
     "text": [
      "15:54:26 - cmdstanpy - INFO - Chain [1] start processing\n",
      "15:54:29 - cmdstanpy - INFO - Chain [1] done processing\n",
      "15:54:30 - cmdstanpy - INFO - Chain [1] start processing\n",
      "15:54:30 - cmdstanpy - INFO - Chain [1] start processing\n",
      "15:54:30 - cmdstanpy - INFO - Chain [1] done processing\n",
      "15:54:30 - cmdstanpy - INFO - Chain [1] start processing\n",
      "15:54:30 - cmdstanpy - INFO - Chain [1] start processing\n",
      "15:54:30 - cmdstanpy - INFO - Chain [1] done processing\n",
      "15:54:30 - cmdstanpy - INFO - Chain [1] start processing\n",
      "15:54:31 - cmdstanpy - INFO - Chain [1] done processing\n",
      "15:54:31 - cmdstanpy - INFO - Chain [1] done processing\n",
      "15:54:34 - cmdstanpy - INFO - Chain [1] done processing\n"
     ]
    },
    {
     "name": "stdout",
     "output_type": "stream",
     "text": [
      "{'changepoint_prior_scale': 0.401, 'holidays_prior_scale': 7.51, 'seasonality_mode': 'additive', 'seasonality_prior_scale': 0.01}\n"
     ]
    },
    {
     "name": "stderr",
     "output_type": "stream",
     "text": [
      "15:54:34 - cmdstanpy - INFO - Chain [1] start processing\n",
      "15:54:37 - cmdstanpy - INFO - Chain [1] done processing\n",
      "15:54:38 - cmdstanpy - INFO - Chain [1] start processing\n",
      "15:54:38 - cmdstanpy - INFO - Chain [1] done processing\n",
      "15:54:38 - cmdstanpy - INFO - Chain [1] start processing\n",
      "15:54:38 - cmdstanpy - INFO - Chain [1] done processing\n",
      "15:54:38 - cmdstanpy - INFO - Chain [1] start processing\n",
      "15:54:38 - cmdstanpy - INFO - Chain [1] start processing\n",
      "15:54:39 - cmdstanpy - INFO - Chain [1] start processing\n",
      "15:54:39 - cmdstanpy - INFO - Chain [1] done processing\n",
      "15:54:39 - cmdstanpy - INFO - Chain [1] done processing\n",
      "15:54:41 - cmdstanpy - INFO - Chain [1] done processing\n"
     ]
    },
    {
     "name": "stdout",
     "output_type": "stream",
     "text": [
      "{'changepoint_prior_scale': 0.401, 'holidays_prior_scale': 7.51, 'seasonality_mode': 'additive', 'seasonality_prior_scale': 2.51}\n"
     ]
    },
    {
     "name": "stderr",
     "output_type": "stream",
     "text": [
      "15:54:41 - cmdstanpy - INFO - Chain [1] start processing\n",
      "15:54:43 - cmdstanpy - INFO - Chain [1] done processing\n",
      "15:54:44 - cmdstanpy - INFO - Chain [1] start processing\n",
      "15:54:44 - cmdstanpy - INFO - Chain [1] done processing\n",
      "15:54:44 - cmdstanpy - INFO - Chain [1] start processing\n",
      "15:54:45 - cmdstanpy - INFO - Chain [1] start processing\n",
      "15:54:45 - cmdstanpy - INFO - Chain [1] start processing\n",
      "15:54:45 - cmdstanpy - INFO - Chain [1] done processing\n",
      "15:54:45 - cmdstanpy - INFO - Chain [1] start processing\n",
      "15:54:45 - cmdstanpy - INFO - Chain [1] done processing\n",
      "15:54:45 - cmdstanpy - INFO - Chain [1] done processing\n",
      "15:54:47 - cmdstanpy - INFO - Chain [1] done processing\n"
     ]
    },
    {
     "name": "stdout",
     "output_type": "stream",
     "text": [
      "{'changepoint_prior_scale': 0.401, 'holidays_prior_scale': 7.51, 'seasonality_mode': 'additive', 'seasonality_prior_scale': 5.01}\n"
     ]
    },
    {
     "name": "stderr",
     "output_type": "stream",
     "text": [
      "15:54:48 - cmdstanpy - INFO - Chain [1] start processing\n",
      "15:54:50 - cmdstanpy - INFO - Chain [1] done processing\n",
      "15:54:51 - cmdstanpy - INFO - Chain [1] start processing\n",
      "15:54:51 - cmdstanpy - INFO - Chain [1] done processing\n",
      "15:54:51 - cmdstanpy - INFO - Chain [1] start processing\n",
      "15:54:51 - cmdstanpy - INFO - Chain [1] done processing\n",
      "15:54:51 - cmdstanpy - INFO - Chain [1] start processing\n",
      "15:54:51 - cmdstanpy - INFO - Chain [1] start processing\n",
      "15:54:52 - cmdstanpy - INFO - Chain [1] start processing\n",
      "15:54:52 - cmdstanpy - INFO - Chain [1] done processing\n",
      "15:54:52 - cmdstanpy - INFO - Chain [1] done processing\n",
      "15:54:53 - cmdstanpy - INFO - Chain [1] done processing\n"
     ]
    },
    {
     "name": "stdout",
     "output_type": "stream",
     "text": [
      "{'changepoint_prior_scale': 0.401, 'holidays_prior_scale': 7.51, 'seasonality_mode': 'additive', 'seasonality_prior_scale': 7.51}\n"
     ]
    },
    {
     "name": "stderr",
     "output_type": "stream",
     "text": [
      "15:54:54 - cmdstanpy - INFO - Chain [1] start processing\n",
      "15:54:56 - cmdstanpy - INFO - Chain [1] done processing\n",
      "15:54:57 - cmdstanpy - INFO - Chain [1] start processing\n",
      "15:54:57 - cmdstanpy - INFO - Chain [1] start processing\n",
      "15:54:57 - cmdstanpy - INFO - Chain [1] done processing\n",
      "15:54:57 - cmdstanpy - INFO - Chain [1] start processing\n",
      "15:54:57 - cmdstanpy - INFO - Chain [1] done processing\n",
      "15:54:57 - cmdstanpy - INFO - Chain [1] start processing\n",
      "15:54:58 - cmdstanpy - INFO - Chain [1] start processing\n",
      "15:54:58 - cmdstanpy - INFO - Chain [1] done processing\n",
      "15:54:58 - cmdstanpy - INFO - Chain [1] done processing\n"
     ]
    },
    {
     "name": "stdout",
     "output_type": "stream",
     "text": [
      "     changepoint_prior_scale  holidays_prior_scale seasonality_mode  \\\n",
      "0                      0.001                  0.01   multiplicative   \n",
      "1                      0.001                  0.01   multiplicative   \n",
      "2                      0.001                  0.01   multiplicative   \n",
      "3                      0.001                  0.01   multiplicative   \n",
      "4                      0.001                  0.01         additive   \n",
      "..                       ...                   ...              ...   \n",
      "155                    0.401                  7.51   multiplicative   \n",
      "156                    0.401                  7.51         additive   \n",
      "157                    0.401                  7.51         additive   \n",
      "158                    0.401                  7.51         additive   \n",
      "159                    0.401                  7.51         additive   \n",
      "\n",
      "     seasonality_prior_scale      mase  \n",
      "0                       0.01  0.856370  \n",
      "1                       2.51  0.790903  \n",
      "2                       5.01  0.785893  \n",
      "3                       7.51  0.788921  \n",
      "4                       0.01  0.951136  \n",
      "..                       ...       ...  \n",
      "155                     7.51  0.827031  \n",
      "156                     0.01  0.781802  \n",
      "157                     2.51  0.781731  \n",
      "158                     5.01  0.775000  \n",
      "159                     7.51  0.786203  \n",
      "\n",
      "[160 rows x 5 columns]\n"
     ]
    },
    {
     "name": "stderr",
     "output_type": "stream",
     "text": [
      "15:55:00 - cmdstanpy - INFO - Chain [1] done processing\n"
     ]
    }
   ],
   "source": [
    "MASE_list = []\n",
    "best_mase = 100000000\n",
    "best_params = None\n",
    "for p in grid:\n",
    "    train = pd.DataFrame(train_data)\n",
    "    test = pd.DataFrame()\n",
    "    print(p)\n",
    "    random.seed(0)\n",
    "    train_model =Prophet(changepoint_prior_scale = p['changepoint_prior_scale'],\n",
    "                        holidays_prior_scale = p['holidays_prior_scale'],\n",
    "                        seasonality_prior_scale = p['seasonality_prior_scale'],\n",
    "                        seasonality_mode = p['seasonality_mode'],\n",
    "                        weekly_seasonality=True,\n",
    "                        daily_seasonality = True,\n",
    "                        yearly_seasonality = False,\n",
    "                        )\n",
    "    \n",
    "    # add regressors\n",
    "    train_model.add_regressor('hour_of_day')\n",
    "    train_model.add_regressor('day_of_week')\n",
    "    train_model.add_regressor('day_of_month')\n",
    "    train_model.add_regressor('month_of_year')\n",
    "    train_model.add_regressor('year')\n",
    "    train_model.add_regressor('weekend')\n",
    "    train_model.add_regressor('monday')\n",
    "    train_model.add_regressor('tuesday')\n",
    "    train_model.add_regressor('wednesday')\n",
    "    train_model.add_regressor('thursday')\n",
    "    train_model.add_regressor('friday')\n",
    "    train_model.add_regressor('saturday')\n",
    "    train_model.add_regressor('sunday')\n",
    "    train_model.add_regressor('time')\n",
    "\n",
    "\n",
    "    train_model.fit(train_data)\n",
    "    \n",
    "    df_cv = cross_validation(train_model, period='60 days', horizon='30 days', parallel=\"processes\")\n",
    "\n",
    "     # X and y to pandas dataframe\n",
    "    X_train = pd.DataFrame(df_cv)\n",
    "\n",
    "    y_true = df_cv['y'].values\n",
    "    #make y_true as dataframe\n",
    "    y_true = pd.DataFrame(y_true)\n",
    "\n",
    "    y_pred = df_cv['yhat'].values\n",
    "    #make y_pred as dataframe\n",
    "    y_pred = pd.DataFrame(y_pred)\n",
    "\n",
    "    MASE_list.append(mean_absolute_scaled_error(y_true, y_pred))\n",
    "    \n",
    "\n",
    "\n",
    "    # print('RMSE:',np.sqrt(MSE))\n",
    "    # RMSE_list.append(np.sqrt(MSE))\n",
    "\n",
    "# Find the best parameters\n",
    "tuning_results = pd.DataFrame(grid)\n",
    "tuning_results['mase'] = MASE_list\n",
    "print(tuning_results)"
   ]
  },
  {
   "cell_type": "code",
   "execution_count": 8,
   "metadata": {},
   "outputs": [
    {
     "name": "stdout",
     "output_type": "stream",
     "text": [
      "Best Parameters {'seasonality_prior_scale': 2.51, 'seasonality_mode': 'multiplicative', 'holidays_prior_scale': 0.01, 'changepoint_prior_scale': 0.201}\n",
      "Best MASE 0.761220597049664\n",
      "[0.8563698257725282, 0.7909027688420335, 0.7858926376203352, 0.7889209399004373, 0.9511363293132634, 0.95437334599337, 0.9533659674478803, 0.9500610942966798, 7.580393109236279, 0.8151192025465371, 0.804066996707013, 0.8453324107177499, 7.5032357061703205, 7.498384567314259, 7.497961721894802, 7.49774597792881, 7.564819643579489, 0.8634200388358726, 0.8206286762134277, 0.8072198640978504, 1.0081615352904727, 7.66273695861852, 7.663032617241574, 7.66308787072322, 7.580018311438854, 0.8877799841775548, 1.0473071744746187, 0.8014824256651529, 7.734594605499037, 7.694969949873044, 7.694848146938336, 7.695249393520143, 0.8722983203035982, 0.7979686062495993, 0.8312639074642193, 0.8000211864038174, 0.7820956911900737, 0.7889589182654203, 0.7882613430830369, 0.7818763321605173, 0.84292451010811, 0.8175879476210495, 0.8040179342210584, 0.8295138070734887, 0.7966694156543929, 0.8042383278825117, 0.7869638637249927, 0.7944309263401002, 0.8312975966733924, 0.779243687007593, 0.8374101918206031, 0.7894930345166035, 0.7959330218393542, 0.7802408836144948, 0.7877134210285878, 0.7968281597727408, 0.8491873421757413, 0.8157269738324545, 0.8078233322096708, 0.8357606098850733, 0.7979707949096407, 0.7913109156725836, 0.8044518645333314, 0.7935707936844503, 0.8716088971629342, 0.761220597049664, 0.7872474237612329, 0.8308408109248004, 0.7894150991615886, 0.7888002718499714, 0.7815819590862183, 0.7938603171377348, 0.8592690895990318, 0.8055902246506181, 0.8155715010042206, 0.8334505829341478, 0.7906580079044473, 0.7976037535759634, 0.8046168459786456, 0.7832548893630789, 0.8362999210883411, 0.8141517840571832, 0.7931028503951524, 0.8303969305196455, 0.7866601847645754, 0.7939644155909216, 0.7909196530029481, 0.800938499259473, 0.8349398999983851, 0.8229207330708779, 0.7709964096562866, 0.7844413756559315, 0.7861851305664042, 0.7799280253396368, 0.7917697603368076, 0.7762902525102189, 0.8728537130208998, 0.8165412500475953, 0.8234490244722035, 0.8372564850363645, 0.7849963828689709, 0.774277481933911, 0.7961985365865374, 0.7836267642533047, 0.8589154579734153, 0.8287165906766228, 0.8182640300521178, 0.8064411316174465, 0.7869618292195769, 0.7871733570256347, 0.7821001200861738, 0.7814026907145042, 0.822998890980759, 0.7983668852870408, 0.8251792887658287, 0.8144172245666566, 0.7923933748081408, 0.7805480163286915, 0.7751768219245246, 0.8043563156322067, 0.8719724832813223, 0.8005146222656574, 0.8294919229842773, 0.8150190604918781, 0.7795796082977172, 0.7879179684030977, 0.7848392494083664, 0.775615967801321, 0.8331638604459414, 0.8029896721674374, 0.8087610413981355, 0.8258947482481078, 0.7873669482503927, 0.7872943378420538, 0.7925175620715827, 0.774057943941835, 0.8216306036873885, 0.7932181585552137, 0.848902966711903, 0.8347760140711471, 0.7903876633776903, 0.7856653945696619, 0.7798811772150825, 0.7821038117460719, 0.8434857094188873, 0.8077275002367397, 0.7957561398662111, 0.8385339451743786, 0.7905564676896114, 0.7840625118458456, 0.8000167954953734, 0.7762665946398235, 0.8729825185372724, 0.8218844978210632, 0.8286598007510586, 0.827031116752432, 0.781801668072576, 0.7817305571917148, 0.7750000920838037, 0.7862025048066106]\n"
     ]
    }
   ],
   "source": [
    "best_params = grid[np.argmin(MASE_list)]\n",
    "print('Best Parameters',best_params)\n",
    "print('Best MASE',np.min(MASE_list))\n",
    "print(MASE_list)"
   ]
  }
 ],
 "metadata": {
  "kernelspec": {
   "display_name": "Python 3",
   "language": "python",
   "name": "python3"
  },
  "language_info": {
   "codemirror_mode": {
    "name": "ipython",
    "version": 3
   },
   "file_extension": ".py",
   "mimetype": "text/x-python",
   "name": "python",
   "nbconvert_exporter": "python",
   "pygments_lexer": "ipython3",
   "version": "3.9.12"
  }
 },
 "nbformat": 4,
 "nbformat_minor": 2
}
