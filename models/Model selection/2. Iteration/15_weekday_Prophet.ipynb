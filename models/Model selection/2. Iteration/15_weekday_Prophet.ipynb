{
 "cells": [
  {
   "cell_type": "markdown",
   "metadata": {},
   "source": [
    "https://www.kaggle.com/code/manovirat/timeseries-using-prophet-hyperparameter-tuning"
   ]
  },
  {
   "cell_type": "code",
   "execution_count": 1,
   "metadata": {},
   "outputs": [],
   "source": [
    "import pandas as pd\n",
    "from prophet import Prophet\n",
    "from prophet.diagnostics import cross_validation\n",
    "from sklearn.model_selection import ParameterGrid\n",
    "from prophet.diagnostics import performance_metrics\n",
    "import random\n",
    "import numpy as np\n",
    "from sklearn.model_selection import TimeSeriesSplit"
   ]
  },
  {
   "cell_type": "code",
   "execution_count": 2,
   "metadata": {},
   "outputs": [
    {
     "name": "stdout",
     "output_type": "stream",
     "text": [
      "Total Possible Models 160\n"
     ]
    }
   ],
   "source": [
    "params_grid = {'seasonality_mode':('multiplicative','additive'),\n",
    "               # set changepoint_prior_scale to 0.5 with steps of 0.005\n",
    "               'changepoint_prior_scale':[x for x in np.arange(0.001, 0.5, 0.1)],\n",
    "               'seasonality_prior_scale':[x for x in np.arange(0.01, 10, 2.5)],\n",
    "              'holidays_prior_scale':[x for x in np.arange(0.01, 10, 2.5)]}\n",
    "\n",
    "grid = ParameterGrid(params_grid)\n",
    "cnt = 0\n",
    "for p in grid:\n",
    "    cnt = cnt+1\n",
    "\n",
    "print('Total Possible Models',cnt)"
   ]
  },
  {
   "cell_type": "code",
   "execution_count": 3,
   "metadata": {},
   "outputs": [],
   "source": [
    "#Define MASE Metric\n",
    "def mean_absolute_scaled_error(y_true, y_pred):\n",
    "    mase=0\n",
    "    # Define numerator as the forecast error\n",
    "    numerator = (np.abs(y_true - y_pred))\n",
    "\n",
    "    # Define denominator as the mean absolute error of the in-sample one-step naive forecast\n",
    "    y_true_ohne_1 = y_true[1:].reset_index(drop=True)\n",
    "    y_true_ohne_ende = y_true[:-1].reset_index(drop=True)\n",
    "    denominator = np.mean(np.abs(y_true_ohne_1 - y_true_ohne_ende))\n",
    "\n",
    "    mase = np.mean(np.abs(numerator / denominator))\n",
    "\n",
    "    return mase"
   ]
  },
  {
   "cell_type": "code",
   "execution_count": 4,
   "metadata": {},
   "outputs": [],
   "source": [
    "# Load the data\n",
    "data = pd.read_parquet('/Users/paddy/Documents/GitHub/Masterthesis_ML/data/03_15min_dataset.parquet')\n",
    "\n",
    "# Convert the date column to datetime\n",
    "data['date'] = pd.to_datetime(data['date'])\n"
   ]
  },
  {
   "cell_type": "code",
   "execution_count": 5,
   "metadata": {},
   "outputs": [],
   "source": [
    "# Feature Engineering\n",
    "\n",
    "# Add a column with the time\n",
    "data['time'] = [x for x in range(0, len(data))]\n",
    "\n",
    "data['hour_of_day'] = data['date'].dt.hour\n",
    "data['day_of_week'] = data['date'].dt.dayofweek\n",
    "data['day_of_month'] = data['date'].dt.day\n",
    "data['month_of_year'] = data['date'].dt.month\n",
    "data['year'] = data['date'].dt.year\n",
    "\n",
    "# make a weekend column\n",
    "data['weekend'] = 0\n",
    "data.loc[data['day_of_week'] == 5, 'weekend'] = 1\n",
    "data.loc[data['day_of_week'] == 6, 'weekend'] = 1\n",
    "\n",
    "#make a monday column\n",
    "data['monday'] = 0\n",
    "data.loc[data['day_of_week'] == 0, 'monday'] = 1\n",
    "\n",
    "#make a tuesday column\n",
    "data['tuesday'] = 0\n",
    "data.loc[data['day_of_week'] == 1, 'tuesday'] = 1\n",
    "\n",
    "#make a wednesday column\n",
    "data['wednesday'] = 0\n",
    "data.loc[data['day_of_week'] == 2, 'wednesday'] = 1\n",
    "\n",
    "#make a thursday column\n",
    "data['thursday'] = 0\n",
    "data.loc[data['day_of_week'] == 3, 'thursday'] = 1\n",
    "\n",
    "#make a friday column\n",
    "data['friday'] = 0\n",
    "data.loc[data['day_of_week'] == 4, 'friday'] = 1\n",
    "\n",
    "#make a saturday column\n",
    "data['saturday'] = 0\n",
    "data.loc[data['day_of_week'] == 5, 'saturday'] = 1\n",
    "\n",
    "#make a sunday column\n",
    "data['sunday'] = 0\n",
    "data.loc[data['day_of_week'] == 6, 'sunday'] = 1\n",
    "\n",
    "# Drop the first three rows\n",
    "data = data.dropna().reset_index(drop=True)\n",
    "\n",
    "# convert date column to datetime without timezone\n",
    "data['date'] = pd.to_datetime(data['date'],format='%d/%m/%y %H:%M:%S').dt.strftime('%Y-%m-%d %H:%M:%S') \n",
    "\n",
    "# Rename column count to y\n",
    "data = data.rename(columns={'count': 'y'})\n",
    "data = data.rename(columns={'date': 'ds'})\n",
    "\n",
    "\n",
    "train_data = data"
   ]
  },
  {
   "cell_type": "code",
   "execution_count": 6,
   "metadata": {},
   "outputs": [
    {
     "name": "stdout",
     "output_type": "stream",
     "text": [
      "0        2022-04-01 00:00:00\n",
      "1        2022-04-01 00:15:00\n",
      "2        2022-04-01 00:30:00\n",
      "3        2022-04-01 00:45:00\n",
      "4        2022-04-01 01:00:00\n",
      "                ...         \n",
      "35035    2023-03-31 22:45:00\n",
      "35036    2023-03-31 23:00:00\n",
      "35037    2023-03-31 23:15:00\n",
      "35038    2023-03-31 23:30:00\n",
      "35039    2023-03-31 23:45:00\n",
      "Name: ds, Length: 35040, dtype: object\n",
      "Fold 0:\n",
      "  Train: index=[   0    1    2 ... 5837 5838 5839]\n",
      "  Test:  index=[ 5840  5841  5842 ... 11677 11678 11679]\n",
      "Fold 1:\n",
      "  Train: index=[    0     1     2 ... 11677 11678 11679]\n",
      "  Test:  index=[11680 11681 11682 ... 17517 17518 17519]\n",
      "Fold 2:\n",
      "  Train: index=[    0     1     2 ... 17517 17518 17519]\n",
      "  Test:  index=[17520 17521 17522 ... 23357 23358 23359]\n",
      "Fold 3:\n",
      "  Train: index=[    0     1     2 ... 23357 23358 23359]\n",
      "  Test:  index=[23360 23361 23362 ... 29197 29198 29199]\n",
      "Fold 4:\n",
      "  Train: index=[    0     1     2 ... 29197 29198 29199]\n",
      "  Test:  index=[29200 29201 29202 ... 35037 35038 35039]\n"
     ]
    }
   ],
   "source": [
    "cv_folds = TimeSeriesSplit(n_splits=5)\n",
    "\n",
    "#convert data to only date not time\n",
    "cv_data = train_data.copy()\n",
    "\n",
    "#convert to timestamp with date format\n",
    "#cv_data.ds = pd.to_datetime(cv_data.ds).dt.date\n",
    "\n",
    "print(cv_data.ds)   \n",
    "\n",
    "#Define cutoff dates for cross validation at end of train_data/cv_folds\n",
    "cutoffs = []\n",
    "# for train_index, test_index in cv_folds.split(train_data):\n",
    "#     cutoffs.append(train_data.ds.iloc[test_index].max())\n",
    "#     #convert to timestamp\n",
    "#     cutoffs = pd.to_datetime(cutoffs)\n",
    "    \n",
    "# print(cutoffs)\n",
    "\n",
    "for i, (train_index, test_index) in enumerate(cv_folds.split(cv_data)):\n",
    "    print(f\"Fold {i}:\")\n",
    "    print(f\"  Train: index={train_index}\")\n",
    "    print(f\"  Test:  index={test_index}\")\n",
    "    #get the date for the last train index\n",
    "    cutoffs.append(cv_data.ds.iloc[train_index].max())\n",
    "    #only date not time\n",
    "    #cutoffs = pd.to_datetime(cutoffs).date"
   ]
  },
  {
   "cell_type": "code",
   "execution_count": 7,
   "metadata": {},
   "outputs": [
    {
     "name": "stdout",
     "output_type": "stream",
     "text": [
      "{'changepoint_prior_scale': 0.001, 'holidays_prior_scale': 0.01, 'seasonality_mode': 'multiplicative', 'seasonality_prior_scale': 0.01}\n"
     ]
    },
    {
     "name": "stderr",
     "output_type": "stream",
     "text": [
      "10:16:06 - cmdstanpy - INFO - Chain [1] start processing\n",
      "10:16:07 - cmdstanpy - INFO - Chain [1] done processing\n",
      "10:16:09 - cmdstanpy - INFO - Chain [1] start processing\n",
      "10:16:09 - cmdstanpy - INFO - Chain [1] start processing\n",
      "10:16:10 - cmdstanpy - INFO - Chain [1] start processing\n",
      "10:16:10 - cmdstanpy - INFO - Chain [1] done processing\n",
      "10:16:10 - cmdstanpy - INFO - Chain [1] start processing\n",
      "10:16:10 - cmdstanpy - INFO - Chain [1] done processing\n",
      "10:16:11 - cmdstanpy - INFO - Chain [1] start processing\n",
      "10:16:11 - cmdstanpy - INFO - Chain [1] done processing\n",
      "10:16:11 - cmdstanpy - ERROR - Chain [1] error: error during processing Operation not permitted\n",
      "Optimization terminated abnormally. Falling back to Newton.\n",
      "10:16:12 - cmdstanpy - INFO - Chain [1] start processing\n",
      "10:16:12 - cmdstanpy - INFO - Chain [1] done processing\n",
      "10:16:12 - cmdstanpy - ERROR - Chain [1] error: error during processing Operation not permitted\n",
      "Optimization terminated abnormally. Falling back to Newton.\n",
      "10:16:12 - cmdstanpy - INFO - Chain [1] done processing\n",
      "10:16:13 - cmdstanpy - INFO - Chain [1] start processing\n",
      "10:18:36 - cmdstanpy - INFO - Chain [1] done processing\n",
      "10:20:50 - cmdstanpy - INFO - Chain [1] done processing\n"
     ]
    },
    {
     "name": "stdout",
     "output_type": "stream",
     "text": [
      "{'changepoint_prior_scale': 0.001, 'holidays_prior_scale': 0.01, 'seasonality_mode': 'multiplicative', 'seasonality_prior_scale': 2.51}\n"
     ]
    },
    {
     "name": "stderr",
     "output_type": "stream",
     "text": [
      "10:20:51 - cmdstanpy - INFO - Chain [1] start processing\n",
      "10:20:52 - cmdstanpy - INFO - Chain [1] done processing\n",
      "10:20:54 - cmdstanpy - INFO - Chain [1] start processing\n",
      "10:20:54 - cmdstanpy - INFO - Chain [1] done processing\n",
      "10:20:54 - cmdstanpy - INFO - Chain [1] start processing\n",
      "10:20:55 - cmdstanpy - INFO - Chain [1] start processing\n",
      "10:20:55 - cmdstanpy - INFO - Chain [1] done processing\n",
      "10:20:55 - cmdstanpy - ERROR - Chain [1] error: error during processing Operation not permitted\n",
      "Optimization terminated abnormally. Falling back to Newton.\n",
      "10:20:55 - cmdstanpy - INFO - Chain [1] start processing\n",
      "10:20:55 - cmdstanpy - INFO - Chain [1] start processing\n",
      "10:20:56 - cmdstanpy - INFO - Chain [1] start processing\n",
      "10:20:58 - cmdstanpy - INFO - Chain [1] done processing\n",
      "10:20:58 - cmdstanpy - INFO - Chain [1] done processing\n",
      "10:20:59 - cmdstanpy - INFO - Chain [1] done processing\n",
      "10:20:59 - cmdstanpy - ERROR - Chain [1] error: error during processing Operation not permitted\n",
      "Optimization terminated abnormally. Falling back to Newton.\n",
      "10:21:00 - cmdstanpy - INFO - Chain [1] start processing\n",
      "10:22:14 - cmdstanpy - INFO - Chain [1] done processing\n",
      "10:24:00 - cmdstanpy - INFO - Chain [1] done processing\n"
     ]
    },
    {
     "name": "stdout",
     "output_type": "stream",
     "text": [
      "{'changepoint_prior_scale': 0.001, 'holidays_prior_scale': 0.01, 'seasonality_mode': 'multiplicative', 'seasonality_prior_scale': 5.01}\n"
     ]
    },
    {
     "name": "stderr",
     "output_type": "stream",
     "text": [
      "10:24:02 - cmdstanpy - INFO - Chain [1] start processing\n",
      "10:24:03 - cmdstanpy - INFO - Chain [1] done processing\n",
      "10:24:05 - cmdstanpy - INFO - Chain [1] start processing\n",
      "10:24:05 - cmdstanpy - INFO - Chain [1] start processing\n",
      "10:24:05 - cmdstanpy - INFO - Chain [1] done processing\n",
      "10:24:06 - cmdstanpy - INFO - Chain [1] start processing\n",
      "10:24:06 - cmdstanpy - INFO - Chain [1] done processing\n",
      "10:24:06 - cmdstanpy - ERROR - Chain [1] error: error during processing Operation not permitted\n",
      "Optimization terminated abnormally. Falling back to Newton.\n",
      "10:24:06 - cmdstanpy - INFO - Chain [1] start processing\n",
      "10:24:06 - cmdstanpy - INFO - Chain [1] start processing\n",
      "10:24:06 - cmdstanpy - INFO - Chain [1] done processing\n",
      "10:24:07 - cmdstanpy - INFO - Chain [1] start processing\n",
      "10:24:07 - cmdstanpy - INFO - Chain [1] done processing\n",
      "10:24:08 - cmdstanpy - INFO - Chain [1] done processing\n",
      "10:25:00 - cmdstanpy - INFO - Chain [1] done processing\n"
     ]
    },
    {
     "name": "stdout",
     "output_type": "stream",
     "text": [
      "{'changepoint_prior_scale': 0.001, 'holidays_prior_scale': 0.01, 'seasonality_mode': 'multiplicative', 'seasonality_prior_scale': 7.51}\n"
     ]
    },
    {
     "name": "stderr",
     "output_type": "stream",
     "text": [
      "10:25:02 - cmdstanpy - INFO - Chain [1] start processing\n",
      "10:25:03 - cmdstanpy - INFO - Chain [1] done processing\n",
      "10:25:04 - cmdstanpy - INFO - Chain [1] start processing\n",
      "10:25:05 - cmdstanpy - INFO - Chain [1] start processing\n",
      "10:25:05 - cmdstanpy - INFO - Chain [1] done processing\n",
      "10:25:05 - cmdstanpy - INFO - Chain [1] start processing\n",
      "10:25:06 - cmdstanpy - INFO - Chain [1] start processing\n",
      "10:25:06 - cmdstanpy - INFO - Chain [1] start processing\n",
      "10:25:07 - cmdstanpy - INFO - Chain [1] done processing\n",
      "10:25:07 - cmdstanpy - ERROR - Chain [1] error: error during processing Operation not permitted\n",
      "Optimization terminated abnormally. Falling back to Newton.\n",
      "10:25:07 - cmdstanpy - INFO - Chain [1] done processing\n",
      "10:25:07 - cmdstanpy - ERROR - Chain [1] error: error during processing Operation not permitted\n",
      "Optimization terminated abnormally. Falling back to Newton.\n",
      "10:25:07 - cmdstanpy - INFO - Chain [1] done processing\n",
      "10:25:07 - cmdstanpy - INFO - Chain [1] start processing\n",
      "10:25:08 - cmdstanpy - INFO - Chain [1] start processing\n",
      "10:25:09 - cmdstanpy - INFO - Chain [1] done processing\n",
      "10:27:01 - cmdstanpy - INFO - Chain [1] done processing\n",
      "10:27:43 - cmdstanpy - INFO - Chain [1] done processing\n"
     ]
    },
    {
     "name": "stdout",
     "output_type": "stream",
     "text": [
      "{'changepoint_prior_scale': 0.001, 'holidays_prior_scale': 0.01, 'seasonality_mode': 'additive', 'seasonality_prior_scale': 0.01}\n"
     ]
    },
    {
     "name": "stderr",
     "output_type": "stream",
     "text": [
      "10:27:44 - cmdstanpy - INFO - Chain [1] start processing\n",
      "10:27:46 - cmdstanpy - INFO - Chain [1] done processing\n",
      "10:27:48 - cmdstanpy - INFO - Chain [1] start processing\n",
      "10:27:48 - cmdstanpy - INFO - Chain [1] done processing\n",
      "10:27:48 - cmdstanpy - ERROR - Chain [1] error: error during processing Operation not permitted\n",
      "Optimization terminated abnormally. Falling back to Newton.\n",
      "10:27:48 - cmdstanpy - INFO - Chain [1] start processing\n",
      "10:27:49 - cmdstanpy - INFO - Chain [1] start processing\n",
      "10:27:49 - cmdstanpy - INFO - Chain [1] start processing\n",
      "10:27:49 - cmdstanpy - INFO - Chain [1] start processing\n",
      "10:27:49 - cmdstanpy - INFO - Chain [1] start processing\n",
      "10:27:49 - cmdstanpy - INFO - Chain [1] done processing\n",
      "10:27:51 - cmdstanpy - INFO - Chain [1] done processing\n",
      "10:27:51 - cmdstanpy - ERROR - Chain [1] error: error during processing Operation not permitted\n",
      "Optimization terminated abnormally. Falling back to Newton.\n",
      "10:27:51 - cmdstanpy - INFO - Chain [1] done processing\n",
      "10:27:51 - cmdstanpy - INFO - Chain [1] start processing\n",
      "10:27:52 - cmdstanpy - INFO - Chain [1] done processing\n",
      "10:28:02 - cmdstanpy - INFO - Chain [1] done processing\n",
      "10:28:20 - cmdstanpy - INFO - Chain [1] done processing\n"
     ]
    },
    {
     "name": "stdout",
     "output_type": "stream",
     "text": [
      "{'changepoint_prior_scale': 0.001, 'holidays_prior_scale': 0.01, 'seasonality_mode': 'additive', 'seasonality_prior_scale': 2.51}\n"
     ]
    },
    {
     "name": "stderr",
     "output_type": "stream",
     "text": [
      "10:28:22 - cmdstanpy - INFO - Chain [1] start processing\n",
      "10:28:23 - cmdstanpy - INFO - Chain [1] done processing\n",
      "10:28:25 - cmdstanpy - INFO - Chain [1] start processing\n",
      "10:28:25 - cmdstanpy - INFO - Chain [1] done processing\n",
      "10:28:25 - cmdstanpy - ERROR - Chain [1] error: error during processing Operation not permitted\n",
      "Optimization terminated abnormally. Falling back to Newton.\n",
      "10:28:25 - cmdstanpy - INFO - Chain [1] start processing\n",
      "10:28:26 - cmdstanpy - INFO - Chain [1] start processing\n",
      "10:28:26 - cmdstanpy - INFO - Chain [1] start processing\n",
      "10:28:26 - cmdstanpy - INFO - Chain [1] start processing\n",
      "10:28:26 - cmdstanpy - INFO - Chain [1] start processing\n",
      "10:28:26 - cmdstanpy - INFO - Chain [1] done processing\n",
      "10:28:27 - cmdstanpy - INFO - Chain [1] done processing\n",
      "10:28:27 - cmdstanpy - ERROR - Chain [1] error: error during processing Operation not permitted\n",
      "Optimization terminated abnormally. Falling back to Newton.\n",
      "10:28:28 - cmdstanpy - INFO - Chain [1] start processing\n",
      "10:28:28 - cmdstanpy - INFO - Chain [1] done processing\n",
      "10:28:29 - cmdstanpy - INFO - Chain [1] done processing\n",
      "10:28:43 - cmdstanpy - INFO - Chain [1] done processing\n",
      "10:28:54 - cmdstanpy - INFO - Chain [1] done processing\n"
     ]
    },
    {
     "name": "stdout",
     "output_type": "stream",
     "text": [
      "{'changepoint_prior_scale': 0.001, 'holidays_prior_scale': 0.01, 'seasonality_mode': 'additive', 'seasonality_prior_scale': 5.01}\n"
     ]
    },
    {
     "name": "stderr",
     "output_type": "stream",
     "text": [
      "10:28:56 - cmdstanpy - INFO - Chain [1] start processing\n",
      "10:28:57 - cmdstanpy - INFO - Chain [1] done processing\n",
      "10:28:58 - cmdstanpy - INFO - Chain [1] start processing\n",
      "10:28:59 - cmdstanpy - INFO - Chain [1] start processing\n",
      "10:28:59 - cmdstanpy - INFO - Chain [1] done processing\n",
      "10:28:59 - cmdstanpy - ERROR - Chain [1] error: error during processing Operation not permitted\n",
      "Optimization terminated abnormally. Falling back to Newton.\n",
      "10:28:59 - cmdstanpy - INFO - Chain [1] start processing\n",
      "10:28:59 - cmdstanpy - INFO - Chain [1] start processing\n",
      "10:29:00 - cmdstanpy - INFO - Chain [1] start processing\n",
      "10:29:00 - cmdstanpy - INFO - Chain [1] start processing\n",
      "10:29:00 - cmdstanpy - INFO - Chain [1] done processing\n",
      "10:29:01 - cmdstanpy - INFO - Chain [1] done processing\n",
      "10:29:01 - cmdstanpy - ERROR - Chain [1] error: error during processing Operation not permitted\n",
      "Optimization terminated abnormally. Falling back to Newton.\n",
      "10:29:02 - cmdstanpy - INFO - Chain [1] start processing\n",
      "10:29:02 - cmdstanpy - INFO - Chain [1] done processing\n",
      "10:29:03 - cmdstanpy - INFO - Chain [1] done processing\n",
      "10:29:17 - cmdstanpy - INFO - Chain [1] done processing\n",
      "10:29:39 - cmdstanpy - INFO - Chain [1] done processing\n"
     ]
    },
    {
     "name": "stdout",
     "output_type": "stream",
     "text": [
      "{'changepoint_prior_scale': 0.001, 'holidays_prior_scale': 0.01, 'seasonality_mode': 'additive', 'seasonality_prior_scale': 7.51}\n"
     ]
    },
    {
     "name": "stderr",
     "output_type": "stream",
     "text": [
      "10:29:41 - cmdstanpy - INFO - Chain [1] start processing\n",
      "10:29:42 - cmdstanpy - INFO - Chain [1] done processing\n",
      "10:29:44 - cmdstanpy - INFO - Chain [1] start processing\n",
      "10:29:44 - cmdstanpy - INFO - Chain [1] start processing\n",
      "10:29:44 - cmdstanpy - INFO - Chain [1] done processing\n",
      "10:29:44 - cmdstanpy - ERROR - Chain [1] error: error during processing Operation not permitted\n",
      "Optimization terminated abnormally. Falling back to Newton.\n",
      "10:29:44 - cmdstanpy - INFO - Chain [1] start processing\n",
      "10:29:45 - cmdstanpy - INFO - Chain [1] start processing\n",
      "10:29:45 - cmdstanpy - INFO - Chain [1] start processing\n",
      "10:29:45 - cmdstanpy - INFO - Chain [1] start processing\n",
      "10:29:45 - cmdstanpy - INFO - Chain [1] done processing\n",
      "10:29:45 - cmdstanpy - ERROR - Chain [1] error: error during processing Operation not permitted\n",
      "Optimization terminated abnormally. Falling back to Newton.\n",
      "10:29:45 - cmdstanpy - INFO - Chain [1] done processing\n",
      "10:29:46 - cmdstanpy - INFO - Chain [1] start processing\n",
      "10:29:47 - cmdstanpy - INFO - Chain [1] done processing\n",
      "10:29:48 - cmdstanpy - INFO - Chain [1] done processing\n",
      "10:30:04 - cmdstanpy - INFO - Chain [1] done processing\n",
      "10:30:12 - cmdstanpy - INFO - Chain [1] done processing\n"
     ]
    },
    {
     "name": "stdout",
     "output_type": "stream",
     "text": [
      "{'changepoint_prior_scale': 0.001, 'holidays_prior_scale': 2.51, 'seasonality_mode': 'multiplicative', 'seasonality_prior_scale': 0.01}\n"
     ]
    },
    {
     "name": "stderr",
     "output_type": "stream",
     "text": [
      "10:30:14 - cmdstanpy - INFO - Chain [1] start processing\n",
      "10:30:15 - cmdstanpy - INFO - Chain [1] done processing\n",
      "10:30:17 - cmdstanpy - INFO - Chain [1] start processing\n",
      "10:30:17 - cmdstanpy - INFO - Chain [1] done processing\n",
      "10:30:17 - cmdstanpy - INFO - Chain [1] start processing\n",
      "10:30:18 - cmdstanpy - INFO - Chain [1] start processing\n",
      "10:30:18 - cmdstanpy - INFO - Chain [1] done processing\n",
      "10:30:18 - cmdstanpy - ERROR - Chain [1] error: error during processing Operation not permitted\n",
      "Optimization terminated abnormally. Falling back to Newton.\n",
      "10:30:18 - cmdstanpy - INFO - Chain [1] start processing\n",
      "10:30:18 - cmdstanpy - INFO - Chain [1] start processing\n",
      "10:30:19 - cmdstanpy - INFO - Chain [1] start processing\n",
      "10:30:20 - cmdstanpy - INFO - Chain [1] done processing\n",
      "10:30:20 - cmdstanpy - ERROR - Chain [1] error: error during processing Operation not permitted\n",
      "Optimization terminated abnormally. Falling back to Newton.\n",
      "10:30:21 - cmdstanpy - INFO - Chain [1] done processing\n",
      "10:30:21 - cmdstanpy - INFO - Chain [1] done processing\n",
      "10:30:21 - cmdstanpy - ERROR - Chain [1] error: error during processing Operation not permitted\n",
      "Optimization terminated abnormally. Falling back to Newton.\n",
      "10:30:21 - cmdstanpy - INFO - Chain [1] start processing\n",
      "10:30:22 - cmdstanpy - INFO - Chain [1] start processing\n",
      "10:34:26 - cmdstanpy - INFO - Chain [1] done processing\n",
      "10:34:47 - cmdstanpy - INFO - Chain [1] done processing\n",
      "10:35:28 - cmdstanpy - INFO - Chain [1] done processing\n"
     ]
    },
    {
     "name": "stdout",
     "output_type": "stream",
     "text": [
      "{'changepoint_prior_scale': 0.001, 'holidays_prior_scale': 2.51, 'seasonality_mode': 'multiplicative', 'seasonality_prior_scale': 2.51}\n"
     ]
    },
    {
     "name": "stderr",
     "output_type": "stream",
     "text": [
      "10:35:30 - cmdstanpy - INFO - Chain [1] start processing\n",
      "10:35:32 - cmdstanpy - INFO - Chain [1] done processing\n",
      "10:35:33 - cmdstanpy - INFO - Chain [1] start processing\n",
      "10:35:34 - cmdstanpy - INFO - Chain [1] start processing\n",
      "10:35:34 - cmdstanpy - INFO - Chain [1] done processing\n",
      "10:35:34 - cmdstanpy - INFO - Chain [1] start processing\n",
      "10:35:34 - cmdstanpy - INFO - Chain [1] start processing\n",
      "10:35:35 - cmdstanpy - INFO - Chain [1] start processing\n",
      "10:35:35 - cmdstanpy - INFO - Chain [1] done processing\n",
      "10:35:36 - cmdstanpy - INFO - Chain [1] done processing\n",
      "10:35:36 - cmdstanpy - INFO - Chain [1] done processing\n",
      "10:35:37 - cmdstanpy - INFO - Chain [1] done processing\n"
     ]
    },
    {
     "name": "stdout",
     "output_type": "stream",
     "text": [
      "{'changepoint_prior_scale': 0.001, 'holidays_prior_scale': 2.51, 'seasonality_mode': 'multiplicative', 'seasonality_prior_scale': 5.01}\n"
     ]
    },
    {
     "name": "stderr",
     "output_type": "stream",
     "text": [
      "10:35:39 - cmdstanpy - INFO - Chain [1] start processing\n",
      "10:35:40 - cmdstanpy - INFO - Chain [1] done processing\n",
      "10:35:42 - cmdstanpy - INFO - Chain [1] start processing\n",
      "10:35:42 - cmdstanpy - INFO - Chain [1] start processing\n",
      "10:35:42 - cmdstanpy - INFO - Chain [1] done processing\n",
      "10:35:43 - cmdstanpy - INFO - Chain [1] start processing\n",
      "10:35:43 - cmdstanpy - INFO - Chain [1] done processing\n",
      "10:35:43 - cmdstanpy - ERROR - Chain [1] error: error during processing Operation not permitted\n",
      "Optimization terminated abnormally. Falling back to Newton.\n",
      "10:35:43 - cmdstanpy - INFO - Chain [1] start processing\n",
      "10:35:43 - cmdstanpy - INFO - Chain [1] start processing\n",
      "10:35:44 - cmdstanpy - INFO - Chain [1] start processing\n",
      "10:35:44 - cmdstanpy - INFO - Chain [1] done processing\n",
      "10:35:44 - cmdstanpy - ERROR - Chain [1] error: error during processing Operation not permitted\n",
      "Optimization terminated abnormally. Falling back to Newton.\n",
      "10:35:45 - cmdstanpy - INFO - Chain [1] start processing\n",
      "10:35:45 - cmdstanpy - INFO - Chain [1] done processing\n",
      "10:35:46 - cmdstanpy - INFO - Chain [1] done processing\n",
      "10:36:29 - cmdstanpy - INFO - Chain [1] done processing\n",
      "10:36:39 - cmdstanpy - INFO - Chain [1] done processing\n"
     ]
    },
    {
     "name": "stdout",
     "output_type": "stream",
     "text": [
      "{'changepoint_prior_scale': 0.001, 'holidays_prior_scale': 2.51, 'seasonality_mode': 'multiplicative', 'seasonality_prior_scale': 7.51}\n"
     ]
    },
    {
     "name": "stderr",
     "output_type": "stream",
     "text": [
      "10:36:41 - cmdstanpy - INFO - Chain [1] start processing\n",
      "10:36:42 - cmdstanpy - INFO - Chain [1] done processing\n",
      "10:36:44 - cmdstanpy - INFO - Chain [1] start processing\n",
      "10:36:44 - cmdstanpy - INFO - Chain [1] done processing\n",
      "10:36:45 - cmdstanpy - INFO - Chain [1] start processing\n",
      "10:36:45 - cmdstanpy - INFO - Chain [1] start processing\n",
      "10:36:45 - cmdstanpy - INFO - Chain [1] done processing\n",
      "10:36:45 - cmdstanpy - ERROR - Chain [1] error: error during processing Operation not permitted\n",
      "Optimization terminated abnormally. Falling back to Newton.\n",
      "10:36:45 - cmdstanpy - INFO - Chain [1] start processing\n",
      "10:36:45 - cmdstanpy - INFO - Chain [1] start processing\n",
      "10:36:46 - cmdstanpy - INFO - Chain [1] done processing\n",
      "10:36:46 - cmdstanpy - ERROR - Chain [1] error: error during processing Operation not permitted\n",
      "Optimization terminated abnormally. Falling back to Newton.\n",
      "10:36:46 - cmdstanpy - INFO - Chain [1] start processing\n",
      "10:36:46 - cmdstanpy - INFO - Chain [1] start processing\n",
      "10:36:48 - cmdstanpy - INFO - Chain [1] done processing\n",
      "10:36:49 - cmdstanpy - INFO - Chain [1] done processing\n",
      "10:36:49 - cmdstanpy - ERROR - Chain [1] error: error during processing Operation not permitted\n",
      "Optimization terminated abnormally. Falling back to Newton.\n",
      "10:36:50 - cmdstanpy - INFO - Chain [1] start processing\n",
      "10:37:49 - cmdstanpy - INFO - Chain [1] done processing\n",
      "10:38:06 - cmdstanpy - INFO - Chain [1] done processing\n",
      "10:39:25 - cmdstanpy - INFO - Chain [1] done processing\n"
     ]
    },
    {
     "name": "stdout",
     "output_type": "stream",
     "text": [
      "{'changepoint_prior_scale': 0.001, 'holidays_prior_scale': 2.51, 'seasonality_mode': 'additive', 'seasonality_prior_scale': 0.01}\n"
     ]
    },
    {
     "name": "stderr",
     "output_type": "stream",
     "text": [
      "10:39:26 - cmdstanpy - INFO - Chain [1] start processing\n",
      "10:39:27 - cmdstanpy - INFO - Chain [1] done processing\n",
      "10:39:29 - cmdstanpy - INFO - Chain [1] start processing\n",
      "10:39:29 - cmdstanpy - INFO - Chain [1] start processing\n",
      "10:39:30 - cmdstanpy - INFO - Chain [1] done processing\n",
      "10:39:30 - cmdstanpy - ERROR - Chain [1] error: error during processing Operation not permitted\n",
      "Optimization terminated abnormally. Falling back to Newton.\n",
      "10:39:30 - cmdstanpy - INFO - Chain [1] start processing\n",
      "10:39:30 - cmdstanpy - INFO - Chain [1] start processing\n",
      "10:39:30 - cmdstanpy - INFO - Chain [1] start processing\n",
      "10:39:30 - cmdstanpy - INFO - Chain [1] start processing\n",
      "10:39:30 - cmdstanpy - INFO - Chain [1] done processing\n",
      "10:39:32 - cmdstanpy - INFO - Chain [1] done processing\n",
      "10:39:32 - cmdstanpy - ERROR - Chain [1] error: error during processing Operation not permitted\n",
      "Optimization terminated abnormally. Falling back to Newton.\n",
      "10:39:32 - cmdstanpy - INFO - Chain [1] start processing\n",
      "10:39:32 - cmdstanpy - INFO - Chain [1] done processing\n",
      "10:39:32 - cmdstanpy - ERROR - Chain [1] error: error during processing Operation not permitted\n",
      "Optimization terminated abnormally. Falling back to Newton.\n",
      "10:39:32 - cmdstanpy - INFO - Chain [1] done processing\n",
      "10:39:34 - cmdstanpy - INFO - Chain [1] start processing\n",
      "10:39:52 - cmdstanpy - INFO - Chain [1] done processing\n",
      "10:40:16 - cmdstanpy - INFO - Chain [1] done processing\n",
      "10:41:18 - cmdstanpy - INFO - Chain [1] done processing\n"
     ]
    },
    {
     "name": "stdout",
     "output_type": "stream",
     "text": [
      "{'changepoint_prior_scale': 0.001, 'holidays_prior_scale': 2.51, 'seasonality_mode': 'additive', 'seasonality_prior_scale': 2.51}\n"
     ]
    },
    {
     "name": "stderr",
     "output_type": "stream",
     "text": [
      "10:41:20 - cmdstanpy - INFO - Chain [1] start processing\n",
      "10:41:21 - cmdstanpy - INFO - Chain [1] done processing\n",
      "10:41:22 - cmdstanpy - INFO - Chain [1] start processing\n",
      "10:41:23 - cmdstanpy - INFO - Chain [1] start processing\n",
      "10:41:23 - cmdstanpy - INFO - Chain [1] done processing\n",
      "10:41:23 - cmdstanpy - ERROR - Chain [1] error: error during processing Operation not permitted\n",
      "Optimization terminated abnormally. Falling back to Newton.\n",
      "10:41:23 - cmdstanpy - INFO - Chain [1] start processing\n",
      "10:41:23 - cmdstanpy - INFO - Chain [1] start processing\n",
      "10:41:24 - cmdstanpy - INFO - Chain [1] start processing\n",
      "10:41:24 - cmdstanpy - INFO - Chain [1] start processing\n",
      "10:41:25 - cmdstanpy - INFO - Chain [1] done processing\n",
      "10:41:26 - cmdstanpy - INFO - Chain [1] done processing\n",
      "10:41:26 - cmdstanpy - ERROR - Chain [1] error: error during processing Operation not permitted\n",
      "Optimization terminated abnormally. Falling back to Newton.\n",
      "10:41:26 - cmdstanpy - INFO - Chain [1] done processing\n",
      "10:41:26 - cmdstanpy - INFO - Chain [1] start processing\n",
      "10:41:26 - cmdstanpy - INFO - Chain [1] done processing\n",
      "10:41:39 - cmdstanpy - INFO - Chain [1] done processing\n",
      "10:41:52 - cmdstanpy - INFO - Chain [1] done processing\n"
     ]
    },
    {
     "name": "stdout",
     "output_type": "stream",
     "text": [
      "{'changepoint_prior_scale': 0.001, 'holidays_prior_scale': 2.51, 'seasonality_mode': 'additive', 'seasonality_prior_scale': 5.01}\n"
     ]
    },
    {
     "name": "stderr",
     "output_type": "stream",
     "text": [
      "10:41:54 - cmdstanpy - INFO - Chain [1] start processing\n",
      "10:41:56 - cmdstanpy - INFO - Chain [1] done processing\n",
      "10:41:57 - cmdstanpy - INFO - Chain [1] start processing\n",
      "10:41:58 - cmdstanpy - INFO - Chain [1] done processing\n",
      "10:41:58 - cmdstanpy - ERROR - Chain [1] error: error during processing Operation not permitted\n",
      "Optimization terminated abnormally. Falling back to Newton.\n",
      "10:41:58 - cmdstanpy - INFO - Chain [1] start processing\n",
      "10:41:58 - cmdstanpy - INFO - Chain [1] start processing\n",
      "10:41:58 - cmdstanpy - INFO - Chain [1] start processing\n",
      "10:41:58 - cmdstanpy - INFO - Chain [1] start processing\n",
      "10:41:59 - cmdstanpy - INFO - Chain [1] start processing\n",
      "10:41:59 - cmdstanpy - INFO - Chain [1] done processing\n",
      "10:42:00 - cmdstanpy - INFO - Chain [1] done processing\n",
      "10:42:00 - cmdstanpy - ERROR - Chain [1] error: error during processing Operation not permitted\n",
      "Optimization terminated abnormally. Falling back to Newton.\n",
      "10:42:00 - cmdstanpy - INFO - Chain [1] start processing\n",
      "10:42:01 - cmdstanpy - INFO - Chain [1] done processing\n",
      "10:42:02 - cmdstanpy - INFO - Chain [1] done processing\n",
      "10:42:14 - cmdstanpy - INFO - Chain [1] done processing\n",
      "10:42:26 - cmdstanpy - INFO - Chain [1] done processing\n"
     ]
    },
    {
     "name": "stdout",
     "output_type": "stream",
     "text": [
      "{'changepoint_prior_scale': 0.001, 'holidays_prior_scale': 2.51, 'seasonality_mode': 'additive', 'seasonality_prior_scale': 7.51}\n"
     ]
    },
    {
     "name": "stderr",
     "output_type": "stream",
     "text": [
      "10:42:28 - cmdstanpy - INFO - Chain [1] start processing\n",
      "10:42:29 - cmdstanpy - INFO - Chain [1] done processing\n",
      "10:42:31 - cmdstanpy - INFO - Chain [1] start processing\n",
      "10:42:31 - cmdstanpy - INFO - Chain [1] start processing\n",
      "10:42:32 - cmdstanpy - INFO - Chain [1] done processing\n",
      "10:42:32 - cmdstanpy - ERROR - Chain [1] error: error during processing Operation not permitted\n",
      "Optimization terminated abnormally. Falling back to Newton.\n",
      "10:42:32 - cmdstanpy - INFO - Chain [1] start processing\n",
      "10:42:32 - cmdstanpy - INFO - Chain [1] start processing\n",
      "10:42:32 - cmdstanpy - INFO - Chain [1] start processing\n",
      "10:42:32 - cmdstanpy - INFO - Chain [1] start processing\n",
      "10:42:34 - cmdstanpy - INFO - Chain [1] done processing\n",
      "10:42:34 - cmdstanpy - ERROR - Chain [1] error: error during processing Operation not permitted\n",
      "Optimization terminated abnormally. Falling back to Newton.\n",
      "10:42:34 - cmdstanpy - INFO - Chain [1] done processing\n",
      "10:42:34 - cmdstanpy - INFO - Chain [1] start processing\n",
      "10:42:35 - cmdstanpy - INFO - Chain [1] done processing\n",
      "10:42:37 - cmdstanpy - INFO - Chain [1] done processing\n",
      "10:42:37 - cmdstanpy - ERROR - Chain [1] error: error during processing Operation not permitted\n",
      "Optimization terminated abnormally. Falling back to Newton.\n",
      "10:42:38 - cmdstanpy - INFO - Chain [1] start processing\n",
      "10:42:54 - cmdstanpy - INFO - Chain [1] done processing\n",
      "10:43:10 - cmdstanpy - INFO - Chain [1] done processing\n",
      "10:44:45 - cmdstanpy - INFO - Chain [1] done processing\n"
     ]
    },
    {
     "name": "stdout",
     "output_type": "stream",
     "text": [
      "{'changepoint_prior_scale': 0.001, 'holidays_prior_scale': 5.01, 'seasonality_mode': 'multiplicative', 'seasonality_prior_scale': 0.01}\n"
     ]
    },
    {
     "name": "stderr",
     "output_type": "stream",
     "text": [
      "10:44:47 - cmdstanpy - INFO - Chain [1] start processing\n",
      "10:44:48 - cmdstanpy - INFO - Chain [1] done processing\n",
      "10:44:50 - cmdstanpy - INFO - Chain [1] start processing\n",
      "10:44:50 - cmdstanpy - INFO - Chain [1] start processing\n",
      "10:44:50 - cmdstanpy - INFO - Chain [1] done processing\n",
      "10:44:51 - cmdstanpy - INFO - Chain [1] start processing\n",
      "10:44:51 - cmdstanpy - INFO - Chain [1] start processing\n",
      "10:44:51 - cmdstanpy - INFO - Chain [1] start processing\n",
      "10:44:51 - cmdstanpy - INFO - Chain [1] done processing\n",
      "10:44:51 - cmdstanpy - ERROR - Chain [1] error: error during processing Operation not permitted\n",
      "Optimization terminated abnormally. Falling back to Newton.\n",
      "10:44:52 - cmdstanpy - INFO - Chain [1] start processing\n",
      "10:44:52 - cmdstanpy - INFO - Chain [1] done processing\n",
      "10:44:52 - cmdstanpy - ERROR - Chain [1] error: error during processing Operation not permitted\n",
      "Optimization terminated abnormally. Falling back to Newton.\n",
      "10:44:53 - cmdstanpy - INFO - Chain [1] start processing\n",
      "10:44:53 - cmdstanpy - INFO - Chain [1] done processing\n",
      "10:44:54 - cmdstanpy - INFO - Chain [1] done processing\n",
      "10:48:48 - cmdstanpy - INFO - Chain [1] done processing\n",
      "10:49:10 - cmdstanpy - INFO - Chain [1] done processing\n"
     ]
    },
    {
     "name": "stdout",
     "output_type": "stream",
     "text": [
      "{'changepoint_prior_scale': 0.001, 'holidays_prior_scale': 5.01, 'seasonality_mode': 'multiplicative', 'seasonality_prior_scale': 2.51}\n"
     ]
    },
    {
     "name": "stderr",
     "output_type": "stream",
     "text": [
      "10:49:12 - cmdstanpy - INFO - Chain [1] start processing\n",
      "10:49:13 - cmdstanpy - INFO - Chain [1] done processing\n",
      "10:49:14 - cmdstanpy - INFO - Chain [1] start processing\n",
      "10:49:15 - cmdstanpy - INFO - Chain [1] start processing\n",
      "10:49:15 - cmdstanpy - INFO - Chain [1] done processing\n",
      "10:49:15 - cmdstanpy - INFO - Chain [1] start processing\n",
      "10:49:16 - cmdstanpy - INFO - Chain [1] start processing\n",
      "10:49:16 - cmdstanpy - INFO - Chain [1] done processing\n",
      "10:49:16 - cmdstanpy - INFO - Chain [1] start processing\n",
      "10:49:17 - cmdstanpy - INFO - Chain [1] done processing\n",
      "10:49:17 - cmdstanpy - ERROR - Chain [1] error: error during processing Operation not permitted\n",
      "Optimization terminated abnormally. Falling back to Newton.\n",
      "10:49:18 - cmdstanpy - INFO - Chain [1] done processing\n",
      "10:49:18 - cmdstanpy - ERROR - Chain [1] error: error during processing Operation not permitted\n",
      "Optimization terminated abnormally. Falling back to Newton.\n",
      "10:49:18 - cmdstanpy - INFO - Chain [1] done processing\n",
      "10:49:19 - cmdstanpy - INFO - Chain [1] start processing\n",
      "10:49:19 - cmdstanpy - INFO - Chain [1] start processing\n",
      "10:50:14 - cmdstanpy - INFO - Chain [1] done processing\n",
      "10:51:20 - cmdstanpy - INFO - Chain [1] done processing\n"
     ]
    },
    {
     "name": "stdout",
     "output_type": "stream",
     "text": [
      "{'changepoint_prior_scale': 0.001, 'holidays_prior_scale': 5.01, 'seasonality_mode': 'multiplicative', 'seasonality_prior_scale': 5.01}\n"
     ]
    },
    {
     "name": "stderr",
     "output_type": "stream",
     "text": [
      "10:51:22 - cmdstanpy - INFO - Chain [1] start processing\n",
      "10:51:23 - cmdstanpy - INFO - Chain [1] done processing\n",
      "10:51:25 - cmdstanpy - INFO - Chain [1] start processing\n",
      "10:51:25 - cmdstanpy - INFO - Chain [1] start processing\n",
      "10:51:25 - cmdstanpy - INFO - Chain [1] done processing\n",
      "10:51:25 - cmdstanpy - INFO - Chain [1] start processing\n",
      "10:51:26 - cmdstanpy - INFO - Chain [1] done processing\n",
      "10:51:26 - cmdstanpy - ERROR - Chain [1] error: error during processing Operation not permitted\n",
      "Optimization terminated abnormally. Falling back to Newton.\n",
      "10:51:26 - cmdstanpy - INFO - Chain [1] start processing\n",
      "10:51:26 - cmdstanpy - INFO - Chain [1] start processing\n",
      "10:51:26 - cmdstanpy - INFO - Chain [1] start processing\n",
      "10:51:27 - cmdstanpy - INFO - Chain [1] done processing\n",
      "10:51:27 - cmdstanpy - ERROR - Chain [1] error: error during processing Operation not permitted\n",
      "Optimization terminated abnormally. Falling back to Newton.\n",
      "10:51:28 - cmdstanpy - INFO - Chain [1] done processing\n",
      "10:51:28 - cmdstanpy - INFO - Chain [1] done processing\n",
      "10:51:28 - cmdstanpy - ERROR - Chain [1] error: error during processing Operation not permitted\n",
      "Optimization terminated abnormally. Falling back to Newton.\n",
      "10:51:28 - cmdstanpy - INFO - Chain [1] start processing\n",
      "10:51:29 - cmdstanpy - INFO - Chain [1] start processing\n",
      "10:52:42 - cmdstanpy - INFO - Chain [1] done processing\n",
      "10:52:44 - cmdstanpy - INFO - Chain [1] done processing\n",
      "10:56:49 - cmdstanpy - INFO - Chain [1] done processing\n"
     ]
    },
    {
     "name": "stdout",
     "output_type": "stream",
     "text": [
      "{'changepoint_prior_scale': 0.001, 'holidays_prior_scale': 5.01, 'seasonality_mode': 'multiplicative', 'seasonality_prior_scale': 7.51}\n"
     ]
    },
    {
     "name": "stderr",
     "output_type": "stream",
     "text": [
      "10:56:51 - cmdstanpy - INFO - Chain [1] start processing\n",
      "10:56:52 - cmdstanpy - INFO - Chain [1] done processing\n",
      "10:56:54 - cmdstanpy - INFO - Chain [1] start processing\n",
      "10:56:54 - cmdstanpy - INFO - Chain [1] start processing\n",
      "10:56:54 - cmdstanpy - INFO - Chain [1] done processing\n",
      "10:56:54 - cmdstanpy - ERROR - Chain [1] error: error during processing Operation not permitted\n",
      "Optimization terminated abnormally. Falling back to Newton.\n",
      "10:56:54 - cmdstanpy - INFO - Chain [1] start processing\n",
      "10:56:55 - cmdstanpy - INFO - Chain [1] done processing\n",
      "10:56:55 - cmdstanpy - ERROR - Chain [1] error: error during processing Operation not permitted\n",
      "Optimization terminated abnormally. Falling back to Newton.\n",
      "10:56:55 - cmdstanpy - INFO - Chain [1] start processing\n",
      "10:56:55 - cmdstanpy - INFO - Chain [1] start processing\n",
      "10:56:55 - cmdstanpy - INFO - Chain [1] done processing\n",
      "10:56:55 - cmdstanpy - INFO - Chain [1] start processing\n",
      "10:56:55 - cmdstanpy - INFO - Chain [1] start processing\n",
      "10:56:57 - cmdstanpy - INFO - Chain [1] done processing\n",
      "10:56:57 - cmdstanpy - ERROR - Chain [1] error: error during processing Operation not permitted\n",
      "Optimization terminated abnormally. Falling back to Newton.\n",
      "10:56:58 - cmdstanpy - INFO - Chain [1] done processing\n",
      "10:56:58 - cmdstanpy - INFO - Chain [1] start processing\n",
      "10:57:51 - cmdstanpy - INFO - Chain [1] done processing\n",
      "10:58:12 - cmdstanpy - INFO - Chain [1] done processing\n",
      "11:01:06 - cmdstanpy - INFO - Chain [1] done processing\n"
     ]
    },
    {
     "name": "stdout",
     "output_type": "stream",
     "text": [
      "{'changepoint_prior_scale': 0.001, 'holidays_prior_scale': 5.01, 'seasonality_mode': 'additive', 'seasonality_prior_scale': 0.01}\n"
     ]
    },
    {
     "name": "stderr",
     "output_type": "stream",
     "text": [
      "11:01:08 - cmdstanpy - INFO - Chain [1] start processing\n",
      "11:01:09 - cmdstanpy - INFO - Chain [1] done processing\n",
      "11:01:10 - cmdstanpy - INFO - Chain [1] start processing\n",
      "11:01:11 - cmdstanpy - INFO - Chain [1] start processing\n",
      "11:01:11 - cmdstanpy - INFO - Chain [1] done processing\n",
      "11:01:11 - cmdstanpy - ERROR - Chain [1] error: error during processing Operation not permitted\n",
      "Optimization terminated abnormally. Falling back to Newton.\n",
      "11:01:11 - cmdstanpy - INFO - Chain [1] start processing\n",
      "11:01:11 - cmdstanpy - INFO - Chain [1] start processing\n",
      "11:01:12 - cmdstanpy - INFO - Chain [1] start processing\n",
      "11:01:12 - cmdstanpy - INFO - Chain [1] start processing\n",
      "11:01:12 - cmdstanpy - INFO - Chain [1] done processing\n",
      "11:01:12 - cmdstanpy - ERROR - Chain [1] error: error during processing Operation not permitted\n",
      "Optimization terminated abnormally. Falling back to Newton.\n",
      "11:01:12 - cmdstanpy - INFO - Chain [1] done processing\n",
      "11:01:13 - cmdstanpy - INFO - Chain [1] start processing\n",
      "11:01:13 - cmdstanpy - INFO - Chain [1] done processing\n",
      "11:01:14 - cmdstanpy - INFO - Chain [1] done processing\n",
      "11:01:27 - cmdstanpy - INFO - Chain [1] done processing\n",
      "11:01:41 - cmdstanpy - INFO - Chain [1] done processing\n"
     ]
    },
    {
     "name": "stdout",
     "output_type": "stream",
     "text": [
      "{'changepoint_prior_scale': 0.001, 'holidays_prior_scale': 5.01, 'seasonality_mode': 'additive', 'seasonality_prior_scale': 2.51}\n"
     ]
    },
    {
     "name": "stderr",
     "output_type": "stream",
     "text": [
      "11:01:43 - cmdstanpy - INFO - Chain [1] start processing\n",
      "11:01:44 - cmdstanpy - INFO - Chain [1] done processing\n",
      "11:01:46 - cmdstanpy - INFO - Chain [1] start processing\n",
      "11:01:46 - cmdstanpy - INFO - Chain [1] start processing\n",
      "11:01:46 - cmdstanpy - INFO - Chain [1] done processing\n",
      "11:01:46 - cmdstanpy - ERROR - Chain [1] error: error during processing Operation not permitted\n",
      "Optimization terminated abnormally. Falling back to Newton.\n",
      "11:01:46 - cmdstanpy - INFO - Chain [1] start processing\n",
      "11:01:46 - cmdstanpy - INFO - Chain [1] start processing\n",
      "11:01:47 - cmdstanpy - INFO - Chain [1] start processing\n",
      "11:01:47 - cmdstanpy - INFO - Chain [1] done processing\n",
      "11:01:47 - cmdstanpy - INFO - Chain [1] start processing\n",
      "11:01:48 - cmdstanpy - INFO - Chain [1] done processing\n",
      "11:01:48 - cmdstanpy - ERROR - Chain [1] error: error during processing Operation not permitted\n",
      "Optimization terminated abnormally. Falling back to Newton.\n",
      "11:01:49 - cmdstanpy - INFO - Chain [1] start processing\n",
      "11:01:49 - cmdstanpy - INFO - Chain [1] done processing\n",
      "11:01:50 - cmdstanpy - INFO - Chain [1] done processing\n",
      "11:02:05 - cmdstanpy - INFO - Chain [1] done processing\n",
      "11:02:16 - cmdstanpy - INFO - Chain [1] done processing\n"
     ]
    },
    {
     "name": "stdout",
     "output_type": "stream",
     "text": [
      "{'changepoint_prior_scale': 0.001, 'holidays_prior_scale': 5.01, 'seasonality_mode': 'additive', 'seasonality_prior_scale': 5.01}\n"
     ]
    },
    {
     "name": "stderr",
     "output_type": "stream",
     "text": [
      "11:02:17 - cmdstanpy - INFO - Chain [1] start processing\n",
      "11:02:19 - cmdstanpy - INFO - Chain [1] done processing\n",
      "11:02:20 - cmdstanpy - INFO - Chain [1] start processing\n",
      "11:02:21 - cmdstanpy - INFO - Chain [1] start processing\n",
      "11:02:21 - cmdstanpy - INFO - Chain [1] done processing\n",
      "11:02:21 - cmdstanpy - ERROR - Chain [1] error: error during processing Operation not permitted\n",
      "Optimization terminated abnormally. Falling back to Newton.\n",
      "11:02:21 - cmdstanpy - INFO - Chain [1] start processing\n",
      "11:02:21 - cmdstanpy - INFO - Chain [1] start processing\n",
      "11:02:21 - cmdstanpy - INFO - Chain [1] start processing\n",
      "11:02:22 - cmdstanpy - INFO - Chain [1] start processing\n",
      "11:02:23 - cmdstanpy - INFO - Chain [1] done processing\n",
      "11:02:23 - cmdstanpy - ERROR - Chain [1] error: error during processing Operation not permitted\n",
      "Optimization terminated abnormally. Falling back to Newton.\n",
      "11:02:24 - cmdstanpy - INFO - Chain [1] start processing\n",
      "11:02:24 - cmdstanpy - INFO - Chain [1] done processing\n",
      "11:02:26 - cmdstanpy - INFO - Chain [1] done processing\n",
      "11:02:26 - cmdstanpy - ERROR - Chain [1] error: error during processing Operation not permitted\n",
      "Optimization terminated abnormally. Falling back to Newton.\n",
      "11:02:26 - cmdstanpy - INFO - Chain [1] done processing\n",
      "11:02:26 - cmdstanpy - ERROR - Chain [1] error: error during processing Operation not permitted\n",
      "Optimization terminated abnormally. Falling back to Newton.\n",
      "11:02:27 - cmdstanpy - INFO - Chain [1] start processing\n",
      "11:02:27 - cmdstanpy - INFO - Chain [1] start processing\n",
      "11:02:51 - cmdstanpy - INFO - Chain [1] done processing\n",
      "11:03:15 - cmdstanpy - INFO - Chain [1] done processing\n",
      "11:03:58 - cmdstanpy - INFO - Chain [1] done processing\n",
      "11:04:45 - cmdstanpy - INFO - Chain [1] done processing\n"
     ]
    },
    {
     "name": "stdout",
     "output_type": "stream",
     "text": [
      "{'changepoint_prior_scale': 0.001, 'holidays_prior_scale': 5.01, 'seasonality_mode': 'additive', 'seasonality_prior_scale': 7.51}\n"
     ]
    },
    {
     "name": "stderr",
     "output_type": "stream",
     "text": [
      "11:04:47 - cmdstanpy - INFO - Chain [1] start processing\n",
      "11:04:48 - cmdstanpy - INFO - Chain [1] done processing\n",
      "11:04:50 - cmdstanpy - INFO - Chain [1] start processing\n",
      "11:04:50 - cmdstanpy - INFO - Chain [1] start processing\n",
      "11:04:50 - cmdstanpy - INFO - Chain [1] done processing\n",
      "11:04:50 - cmdstanpy - ERROR - Chain [1] error: error during processing Operation not permitted\n",
      "Optimization terminated abnormally. Falling back to Newton.\n",
      "11:04:50 - cmdstanpy - INFO - Chain [1] start processing\n",
      "11:04:51 - cmdstanpy - INFO - Chain [1] done processing\n",
      "11:04:51 - cmdstanpy - INFO - Chain [1] start processing\n",
      "11:04:51 - cmdstanpy - INFO - Chain [1] start processing\n",
      "11:04:51 - cmdstanpy - INFO - Chain [1] start processing\n",
      "11:04:52 - cmdstanpy - INFO - Chain [1] done processing\n",
      "11:04:54 - cmdstanpy - INFO - Chain [1] done processing\n",
      "11:04:54 - cmdstanpy - INFO - Chain [1] done processing\n",
      "11:04:54 - cmdstanpy - ERROR - Chain [1] error: error during processing Operation not permitted\n",
      "Optimization terminated abnormally. Falling back to Newton.\n",
      "11:04:55 - cmdstanpy - INFO - Chain [1] start processing\n",
      "11:05:09 - cmdstanpy - INFO - Chain [1] done processing\n",
      "11:05:49 - cmdstanpy - INFO - Chain [1] done processing\n"
     ]
    },
    {
     "name": "stdout",
     "output_type": "stream",
     "text": [
      "{'changepoint_prior_scale': 0.001, 'holidays_prior_scale': 7.51, 'seasonality_mode': 'multiplicative', 'seasonality_prior_scale': 0.01}\n"
     ]
    },
    {
     "name": "stderr",
     "output_type": "stream",
     "text": [
      "11:05:51 - cmdstanpy - INFO - Chain [1] start processing\n",
      "11:05:52 - cmdstanpy - INFO - Chain [1] done processing\n",
      "11:05:54 - cmdstanpy - INFO - Chain [1] start processing\n",
      "11:05:54 - cmdstanpy - INFO - Chain [1] start processing\n",
      "11:05:55 - cmdstanpy - INFO - Chain [1] done processing\n",
      "11:05:55 - cmdstanpy - ERROR - Chain [1] error: error during processing Operation not permitted\n",
      "Optimization terminated abnormally. Falling back to Newton.\n",
      "11:05:55 - cmdstanpy - INFO - Chain [1] start processing\n",
      "11:05:55 - cmdstanpy - INFO - Chain [1] start processing\n",
      "11:05:55 - cmdstanpy - INFO - Chain [1] start processing\n",
      "11:05:55 - cmdstanpy - INFO - Chain [1] start processing\n",
      "11:05:56 - cmdstanpy - INFO - Chain [1] done processing\n",
      "11:05:56 - cmdstanpy - INFO - Chain [1] done processing\n",
      "11:05:58 - cmdstanpy - INFO - Chain [1] done processing\n",
      "11:05:59 - cmdstanpy - INFO - Chain [1] done processing\n",
      "11:05:59 - cmdstanpy - ERROR - Chain [1] error: error during processing Operation not permitted\n",
      "Optimization terminated abnormally. Falling back to Newton.\n",
      "11:06:00 - cmdstanpy - INFO - Chain [1] start processing\n",
      "11:07:40 - cmdstanpy - INFO - Chain [1] done processing\n",
      "11:10:39 - cmdstanpy - INFO - Chain [1] done processing\n"
     ]
    },
    {
     "name": "stdout",
     "output_type": "stream",
     "text": [
      "{'changepoint_prior_scale': 0.001, 'holidays_prior_scale': 7.51, 'seasonality_mode': 'multiplicative', 'seasonality_prior_scale': 2.51}\n"
     ]
    },
    {
     "name": "stderr",
     "output_type": "stream",
     "text": [
      "11:10:41 - cmdstanpy - INFO - Chain [1] start processing\n",
      "11:10:42 - cmdstanpy - INFO - Chain [1] done processing\n",
      "11:10:44 - cmdstanpy - INFO - Chain [1] start processing\n",
      "11:10:44 - cmdstanpy - INFO - Chain [1] start processing\n",
      "11:10:44 - cmdstanpy - INFO - Chain [1] done processing\n",
      "11:10:45 - cmdstanpy - INFO - Chain [1] start processing\n",
      "11:10:45 - cmdstanpy - INFO - Chain [1] start processing\n",
      "11:10:45 - cmdstanpy - INFO - Chain [1] done processing\n",
      "11:10:45 - cmdstanpy - ERROR - Chain [1] error: error during processing Operation not permitted\n",
      "Optimization terminated abnormally. Falling back to Newton.\n",
      "11:10:45 - cmdstanpy - INFO - Chain [1] start processing\n",
      "11:10:46 - cmdstanpy - INFO - Chain [1] start processing\n",
      "11:10:46 - cmdstanpy - INFO - Chain [1] done processing\n",
      "11:10:47 - cmdstanpy - INFO - Chain [1] done processing\n",
      "11:10:49 - cmdstanpy - INFO - Chain [1] done processing\n",
      "11:11:49 - cmdstanpy - INFO - Chain [1] done processing\n"
     ]
    },
    {
     "name": "stdout",
     "output_type": "stream",
     "text": [
      "{'changepoint_prior_scale': 0.001, 'holidays_prior_scale': 7.51, 'seasonality_mode': 'multiplicative', 'seasonality_prior_scale': 5.01}\n"
     ]
    },
    {
     "name": "stderr",
     "output_type": "stream",
     "text": [
      "11:11:51 - cmdstanpy - INFO - Chain [1] start processing\n",
      "11:11:52 - cmdstanpy - INFO - Chain [1] done processing\n",
      "11:11:54 - cmdstanpy - INFO - Chain [1] start processing\n",
      "11:11:54 - cmdstanpy - INFO - Chain [1] start processing\n",
      "11:11:54 - cmdstanpy - INFO - Chain [1] done processing\n",
      "11:11:55 - cmdstanpy - INFO - Chain [1] start processing\n",
      "11:11:55 - cmdstanpy - INFO - Chain [1] done processing\n",
      "11:11:55 - cmdstanpy - ERROR - Chain [1] error: error during processing Operation not permitted\n",
      "Optimization terminated abnormally. Falling back to Newton.\n",
      "11:11:55 - cmdstanpy - INFO - Chain [1] start processing\n",
      "11:11:55 - cmdstanpy - INFO - Chain [1] start processing\n",
      "11:11:55 - cmdstanpy - INFO - Chain [1] start processing\n",
      "11:11:56 - cmdstanpy - INFO - Chain [1] done processing\n",
      "11:11:56 - cmdstanpy - ERROR - Chain [1] error: error during processing Operation not permitted\n",
      "Optimization terminated abnormally. Falling back to Newton.\n",
      "11:11:57 - cmdstanpy - INFO - Chain [1] start processing\n",
      "11:11:57 - cmdstanpy - INFO - Chain [1] done processing\n",
      "11:11:58 - cmdstanpy - INFO - Chain [1] done processing\n",
      "11:12:49 - cmdstanpy - INFO - Chain [1] done processing\n",
      "11:12:57 - cmdstanpy - INFO - Chain [1] done processing\n"
     ]
    },
    {
     "name": "stdout",
     "output_type": "stream",
     "text": [
      "{'changepoint_prior_scale': 0.001, 'holidays_prior_scale': 7.51, 'seasonality_mode': 'multiplicative', 'seasonality_prior_scale': 7.51}\n"
     ]
    },
    {
     "name": "stderr",
     "output_type": "stream",
     "text": [
      "11:12:59 - cmdstanpy - INFO - Chain [1] start processing\n",
      "11:13:01 - cmdstanpy - INFO - Chain [1] done processing\n",
      "11:13:02 - cmdstanpy - INFO - Chain [1] start processing\n",
      "11:13:03 - cmdstanpy - INFO - Chain [1] done processing\n",
      "11:13:03 - cmdstanpy - INFO - Chain [1] start processing\n",
      "11:13:03 - cmdstanpy - INFO - Chain [1] start processing\n",
      "11:13:04 - cmdstanpy - INFO - Chain [1] start processing\n",
      "11:13:04 - cmdstanpy - INFO - Chain [1] start processing\n",
      "11:13:04 - cmdstanpy - INFO - Chain [1] done processing\n",
      "11:13:04 - cmdstanpy - ERROR - Chain [1] error: error during processing Operation not permitted\n",
      "Optimization terminated abnormally. Falling back to Newton.\n",
      "11:13:04 - cmdstanpy - INFO - Chain [1] done processing\n",
      "11:13:04 - cmdstanpy - ERROR - Chain [1] error: error during processing Operation not permitted\n",
      "Optimization terminated abnormally. Falling back to Newton.\n",
      "11:13:05 - cmdstanpy - INFO - Chain [1] start processing\n",
      "11:13:05 - cmdstanpy - INFO - Chain [1] start processing\n",
      "11:13:06 - cmdstanpy - INFO - Chain [1] done processing\n",
      "11:13:07 - cmdstanpy - INFO - Chain [1] done processing\n",
      "11:14:07 - cmdstanpy - INFO - Chain [1] done processing\n",
      "11:14:20 - cmdstanpy - INFO - Chain [1] done processing\n"
     ]
    },
    {
     "name": "stdout",
     "output_type": "stream",
     "text": [
      "{'changepoint_prior_scale': 0.001, 'holidays_prior_scale': 7.51, 'seasonality_mode': 'additive', 'seasonality_prior_scale': 0.01}\n"
     ]
    },
    {
     "name": "stderr",
     "output_type": "stream",
     "text": [
      "11:14:22 - cmdstanpy - INFO - Chain [1] start processing\n",
      "11:14:23 - cmdstanpy - INFO - Chain [1] done processing\n",
      "11:14:24 - cmdstanpy - INFO - Chain [1] start processing\n",
      "11:14:25 - cmdstanpy - INFO - Chain [1] start processing\n",
      "11:14:25 - cmdstanpy - INFO - Chain [1] start processing\n",
      "11:14:25 - cmdstanpy - INFO - Chain [1] done processing\n",
      "11:14:25 - cmdstanpy - ERROR - Chain [1] error: error during processing Operation not permitted\n",
      "Optimization terminated abnormally. Falling back to Newton.\n",
      "11:14:25 - cmdstanpy - INFO - Chain [1] start processing\n",
      "11:14:26 - cmdstanpy - INFO - Chain [1] done processing\n",
      "11:14:26 - cmdstanpy - INFO - Chain [1] start processing\n",
      "11:14:26 - cmdstanpy - INFO - Chain [1] start processing\n",
      "11:14:26 - cmdstanpy - INFO - Chain [1] done processing\n",
      "11:14:26 - cmdstanpy - ERROR - Chain [1] error: error during processing Operation not permitted\n",
      "Optimization terminated abnormally. Falling back to Newton.\n",
      "11:14:27 - cmdstanpy - INFO - Chain [1] start processing\n",
      "11:14:28 - cmdstanpy - INFO - Chain [1] done processing\n",
      "11:14:30 - cmdstanpy - INFO - Chain [1] done processing\n",
      "11:14:42 - cmdstanpy - INFO - Chain [1] done processing\n",
      "11:14:55 - cmdstanpy - INFO - Chain [1] done processing\n"
     ]
    },
    {
     "name": "stdout",
     "output_type": "stream",
     "text": [
      "{'changepoint_prior_scale': 0.001, 'holidays_prior_scale': 7.51, 'seasonality_mode': 'additive', 'seasonality_prior_scale': 2.51}\n"
     ]
    },
    {
     "name": "stderr",
     "output_type": "stream",
     "text": [
      "11:14:57 - cmdstanpy - INFO - Chain [1] start processing\n",
      "11:14:58 - cmdstanpy - INFO - Chain [1] done processing\n",
      "11:15:00 - cmdstanpy - INFO - Chain [1] start processing\n",
      "11:15:00 - cmdstanpy - INFO - Chain [1] start processing\n",
      "11:15:00 - cmdstanpy - INFO - Chain [1] done processing\n",
      "11:15:00 - cmdstanpy - ERROR - Chain [1] error: error during processing Operation not permitted\n",
      "Optimization terminated abnormally. Falling back to Newton.\n",
      "11:15:01 - cmdstanpy - INFO - Chain [1] start processing\n",
      "11:15:01 - cmdstanpy - INFO - Chain [1] start processing\n",
      "11:15:01 - cmdstanpy - INFO - Chain [1] start processing\n",
      "11:15:01 - cmdstanpy - INFO - Chain [1] start processing\n",
      "11:15:02 - cmdstanpy - INFO - Chain [1] done processing\n",
      "11:15:03 - cmdstanpy - INFO - Chain [1] done processing\n",
      "11:15:04 - cmdstanpy - INFO - Chain [1] done processing\n",
      "11:15:05 - cmdstanpy - INFO - Chain [1] done processing\n",
      "11:15:15 - cmdstanpy - INFO - Chain [1] done processing\n"
     ]
    },
    {
     "name": "stdout",
     "output_type": "stream",
     "text": [
      "{'changepoint_prior_scale': 0.001, 'holidays_prior_scale': 7.51, 'seasonality_mode': 'additive', 'seasonality_prior_scale': 5.01}\n"
     ]
    },
    {
     "name": "stderr",
     "output_type": "stream",
     "text": [
      "11:15:17 - cmdstanpy - INFO - Chain [1] start processing\n",
      "11:15:18 - cmdstanpy - INFO - Chain [1] done processing\n",
      "11:15:19 - cmdstanpy - INFO - Chain [1] start processing\n",
      "11:15:20 - cmdstanpy - INFO - Chain [1] start processing\n",
      "11:15:20 - cmdstanpy - INFO - Chain [1] done processing\n",
      "11:15:20 - cmdstanpy - INFO - Chain [1] start processing\n",
      "11:15:21 - cmdstanpy - INFO - Chain [1] start processing\n",
      "11:15:21 - cmdstanpy - INFO - Chain [1] start processing\n",
      "11:15:23 - cmdstanpy - INFO - Chain [1] done processing\n",
      "11:15:24 - cmdstanpy - INFO - Chain [1] done processing\n",
      "11:15:25 - cmdstanpy - INFO - Chain [1] done processing\n",
      "11:15:25 - cmdstanpy - INFO - Chain [1] done processing\n"
     ]
    },
    {
     "name": "stdout",
     "output_type": "stream",
     "text": [
      "{'changepoint_prior_scale': 0.001, 'holidays_prior_scale': 7.51, 'seasonality_mode': 'additive', 'seasonality_prior_scale': 7.51}\n"
     ]
    },
    {
     "name": "stderr",
     "output_type": "stream",
     "text": [
      "11:15:27 - cmdstanpy - INFO - Chain [1] start processing\n",
      "11:15:29 - cmdstanpy - INFO - Chain [1] done processing\n",
      "11:15:31 - cmdstanpy - INFO - Chain [1] start processing\n",
      "11:15:31 - cmdstanpy - INFO - Chain [1] start processing\n",
      "11:15:31 - cmdstanpy - INFO - Chain [1] start processing\n",
      "11:15:31 - cmdstanpy - INFO - Chain [1] done processing\n",
      "11:15:31 - cmdstanpy - ERROR - Chain [1] error: error during processing Operation not permitted\n",
      "Optimization terminated abnormally. Falling back to Newton.\n",
      "11:15:32 - cmdstanpy - INFO - Chain [1] start processing\n",
      "11:15:32 - cmdstanpy - INFO - Chain [1] start processing\n",
      "11:15:32 - cmdstanpy - INFO - Chain [1] done processing\n",
      "11:15:32 - cmdstanpy - INFO - Chain [1] start processing\n",
      "11:15:33 - cmdstanpy - INFO - Chain [1] done processing\n",
      "11:15:33 - cmdstanpy - ERROR - Chain [1] error: error during processing Operation not permitted\n",
      "Optimization terminated abnormally. Falling back to Newton.\n",
      "11:15:33 - cmdstanpy - INFO - Chain [1] start processing\n",
      "11:15:35 - cmdstanpy - INFO - Chain [1] done processing\n",
      "11:15:35 - cmdstanpy - ERROR - Chain [1] error: error during processing Operation not permitted\n",
      "Optimization terminated abnormally. Falling back to Newton.\n",
      "11:15:35 - cmdstanpy - INFO - Chain [1] done processing\n",
      "11:15:36 - cmdstanpy - INFO - Chain [1] start processing\n",
      "11:15:56 - cmdstanpy - INFO - Chain [1] done processing\n",
      "11:16:10 - cmdstanpy - INFO - Chain [1] done processing\n",
      "11:17:14 - cmdstanpy - INFO - Chain [1] done processing\n"
     ]
    },
    {
     "name": "stdout",
     "output_type": "stream",
     "text": [
      "{'changepoint_prior_scale': 0.101, 'holidays_prior_scale': 0.01, 'seasonality_mode': 'multiplicative', 'seasonality_prior_scale': 0.01}\n"
     ]
    },
    {
     "name": "stderr",
     "output_type": "stream",
     "text": [
      "11:17:15 - cmdstanpy - INFO - Chain [1] start processing\n",
      "11:17:20 - cmdstanpy - INFO - Chain [1] done processing\n",
      "11:17:22 - cmdstanpy - INFO - Chain [1] start processing\n",
      "11:17:22 - cmdstanpy - INFO - Chain [1] start processing\n",
      "11:17:23 - cmdstanpy - INFO - Chain [1] done processing\n",
      "11:17:23 - cmdstanpy - INFO - Chain [1] start processing\n",
      "11:17:23 - cmdstanpy - INFO - Chain [1] start processing\n",
      "11:17:23 - cmdstanpy - INFO - Chain [1] done processing\n",
      "11:17:24 - cmdstanpy - INFO - Chain [1] start processing\n",
      "11:17:24 - cmdstanpy - INFO - Chain [1] done processing\n",
      "11:17:25 - cmdstanpy - INFO - Chain [1] done processing\n",
      "11:17:30 - cmdstanpy - INFO - Chain [1] done processing\n"
     ]
    },
    {
     "name": "stdout",
     "output_type": "stream",
     "text": [
      "{'changepoint_prior_scale': 0.101, 'holidays_prior_scale': 0.01, 'seasonality_mode': 'multiplicative', 'seasonality_prior_scale': 2.51}\n"
     ]
    },
    {
     "name": "stderr",
     "output_type": "stream",
     "text": [
      "11:17:32 - cmdstanpy - INFO - Chain [1] start processing\n",
      "11:17:37 - cmdstanpy - INFO - Chain [1] done processing\n",
      "11:17:39 - cmdstanpy - INFO - Chain [1] start processing\n",
      "11:17:39 - cmdstanpy - INFO - Chain [1] start processing\n",
      "11:17:39 - cmdstanpy - INFO - Chain [1] done processing\n",
      "11:17:40 - cmdstanpy - INFO - Chain [1] start processing\n",
      "11:17:40 - cmdstanpy - INFO - Chain [1] start processing\n",
      "11:17:40 - cmdstanpy - INFO - Chain [1] done processing\n",
      "11:17:41 - cmdstanpy - INFO - Chain [1] start processing\n",
      "11:17:41 - cmdstanpy - INFO - Chain [1] done processing\n",
      "11:17:42 - cmdstanpy - INFO - Chain [1] done processing\n",
      "11:17:46 - cmdstanpy - INFO - Chain [1] done processing\n"
     ]
    },
    {
     "name": "stdout",
     "output_type": "stream",
     "text": [
      "{'changepoint_prior_scale': 0.101, 'holidays_prior_scale': 0.01, 'seasonality_mode': 'multiplicative', 'seasonality_prior_scale': 5.01}\n"
     ]
    },
    {
     "name": "stderr",
     "output_type": "stream",
     "text": [
      "11:17:48 - cmdstanpy - INFO - Chain [1] start processing\n",
      "11:17:55 - cmdstanpy - INFO - Chain [1] done processing\n",
      "11:17:56 - cmdstanpy - INFO - Chain [1] start processing\n",
      "11:17:57 - cmdstanpy - INFO - Chain [1] done processing\n",
      "11:17:57 - cmdstanpy - INFO - Chain [1] start processing\n",
      "11:17:57 - cmdstanpy - INFO - Chain [1] start processing\n",
      "11:17:57 - cmdstanpy - INFO - Chain [1] done processing\n",
      "11:17:57 - cmdstanpy - INFO - Chain [1] start processing\n",
      "11:17:58 - cmdstanpy - INFO - Chain [1] start processing\n",
      "11:17:58 - cmdstanpy - INFO - Chain [1] done processing\n",
      "11:17:59 - cmdstanpy - INFO - Chain [1] done processing\n",
      "11:18:03 - cmdstanpy - INFO - Chain [1] done processing\n"
     ]
    },
    {
     "name": "stdout",
     "output_type": "stream",
     "text": [
      "{'changepoint_prior_scale': 0.101, 'holidays_prior_scale': 0.01, 'seasonality_mode': 'multiplicative', 'seasonality_prior_scale': 7.51}\n"
     ]
    },
    {
     "name": "stderr",
     "output_type": "stream",
     "text": [
      "11:18:05 - cmdstanpy - INFO - Chain [1] start processing\n",
      "11:18:10 - cmdstanpy - INFO - Chain [1] done processing\n",
      "11:18:11 - cmdstanpy - INFO - Chain [1] start processing\n",
      "11:18:12 - cmdstanpy - INFO - Chain [1] start processing\n",
      "11:18:12 - cmdstanpy - INFO - Chain [1] start processing\n",
      "11:18:12 - cmdstanpy - INFO - Chain [1] done processing\n",
      "11:18:13 - cmdstanpy - INFO - Chain [1] done processing\n",
      "11:18:13 - cmdstanpy - INFO - Chain [1] start processing\n",
      "11:18:13 - cmdstanpy - INFO - Chain [1] start processing\n",
      "11:18:13 - cmdstanpy - INFO - Chain [1] done processing\n",
      "11:18:15 - cmdstanpy - INFO - Chain [1] done processing\n",
      "11:18:19 - cmdstanpy - INFO - Chain [1] done processing\n"
     ]
    },
    {
     "name": "stdout",
     "output_type": "stream",
     "text": [
      "{'changepoint_prior_scale': 0.101, 'holidays_prior_scale': 0.01, 'seasonality_mode': 'additive', 'seasonality_prior_scale': 0.01}\n"
     ]
    },
    {
     "name": "stderr",
     "output_type": "stream",
     "text": [
      "11:18:21 - cmdstanpy - INFO - Chain [1] start processing\n",
      "11:18:28 - cmdstanpy - INFO - Chain [1] done processing\n",
      "11:18:29 - cmdstanpy - INFO - Chain [1] start processing\n",
      "11:18:30 - cmdstanpy - INFO - Chain [1] done processing\n",
      "11:18:30 - cmdstanpy - INFO - Chain [1] start processing\n",
      "11:18:30 - cmdstanpy - INFO - Chain [1] start processing\n",
      "11:18:30 - cmdstanpy - INFO - Chain [1] done processing\n",
      "11:18:31 - cmdstanpy - INFO - Chain [1] start processing\n",
      "11:18:31 - cmdstanpy - INFO - Chain [1] start processing\n",
      "11:18:31 - cmdstanpy - INFO - Chain [1] done processing\n",
      "11:18:31 - cmdstanpy - INFO - Chain [1] done processing\n",
      "11:18:39 - cmdstanpy - INFO - Chain [1] done processing\n"
     ]
    },
    {
     "name": "stdout",
     "output_type": "stream",
     "text": [
      "{'changepoint_prior_scale': 0.101, 'holidays_prior_scale': 0.01, 'seasonality_mode': 'additive', 'seasonality_prior_scale': 2.51}\n"
     ]
    },
    {
     "name": "stderr",
     "output_type": "stream",
     "text": [
      "11:18:41 - cmdstanpy - INFO - Chain [1] start processing\n",
      "11:18:47 - cmdstanpy - INFO - Chain [1] done processing\n",
      "11:18:49 - cmdstanpy - INFO - Chain [1] start processing\n",
      "11:18:49 - cmdstanpy - INFO - Chain [1] done processing\n",
      "11:18:49 - cmdstanpy - INFO - Chain [1] start processing\n",
      "11:18:50 - cmdstanpy - INFO - Chain [1] start processing\n",
      "11:18:50 - cmdstanpy - INFO - Chain [1] done processing\n",
      "11:18:50 - cmdstanpy - INFO - Chain [1] start processing\n",
      "11:18:50 - cmdstanpy - INFO - Chain [1] start processing\n",
      "11:18:51 - cmdstanpy - INFO - Chain [1] done processing\n",
      "11:18:51 - cmdstanpy - INFO - Chain [1] done processing\n",
      "11:18:58 - cmdstanpy - INFO - Chain [1] done processing\n"
     ]
    },
    {
     "name": "stdout",
     "output_type": "stream",
     "text": [
      "{'changepoint_prior_scale': 0.101, 'holidays_prior_scale': 0.01, 'seasonality_mode': 'additive', 'seasonality_prior_scale': 5.01}\n"
     ]
    },
    {
     "name": "stderr",
     "output_type": "stream",
     "text": [
      "11:18:59 - cmdstanpy - INFO - Chain [1] start processing\n",
      "11:19:08 - cmdstanpy - INFO - Chain [1] done processing\n",
      "11:19:09 - cmdstanpy - INFO - Chain [1] start processing\n",
      "11:19:09 - cmdstanpy - INFO - Chain [1] done processing\n",
      "11:19:10 - cmdstanpy - INFO - Chain [1] start processing\n",
      "11:19:10 - cmdstanpy - INFO - Chain [1] start processing\n",
      "11:19:10 - cmdstanpy - INFO - Chain [1] done processing\n",
      "11:19:11 - cmdstanpy - INFO - Chain [1] start processing\n",
      "11:19:11 - cmdstanpy - INFO - Chain [1] start processing\n",
      "11:19:11 - cmdstanpy - INFO - Chain [1] done processing\n",
      "11:19:12 - cmdstanpy - INFO - Chain [1] done processing\n",
      "11:19:19 - cmdstanpy - INFO - Chain [1] done processing\n"
     ]
    },
    {
     "name": "stdout",
     "output_type": "stream",
     "text": [
      "{'changepoint_prior_scale': 0.101, 'holidays_prior_scale': 0.01, 'seasonality_mode': 'additive', 'seasonality_prior_scale': 7.51}\n"
     ]
    },
    {
     "name": "stderr",
     "output_type": "stream",
     "text": [
      "11:19:21 - cmdstanpy - INFO - Chain [1] start processing\n",
      "11:19:28 - cmdstanpy - INFO - Chain [1] done processing\n",
      "11:19:30 - cmdstanpy - INFO - Chain [1] start processing\n",
      "11:19:30 - cmdstanpy - INFO - Chain [1] done processing\n",
      "11:19:30 - cmdstanpy - INFO - Chain [1] start processing\n",
      "11:19:31 - cmdstanpy - INFO - Chain [1] start processing\n",
      "11:19:31 - cmdstanpy - INFO - Chain [1] start processing\n",
      "11:19:31 - cmdstanpy - INFO - Chain [1] start processing\n",
      "11:19:32 - cmdstanpy - INFO - Chain [1] done processing\n",
      "11:19:32 - cmdstanpy - INFO - Chain [1] done processing\n",
      "11:19:34 - cmdstanpy - INFO - Chain [1] done processing\n",
      "11:19:41 - cmdstanpy - INFO - Chain [1] done processing\n"
     ]
    },
    {
     "name": "stdout",
     "output_type": "stream",
     "text": [
      "{'changepoint_prior_scale': 0.101, 'holidays_prior_scale': 2.51, 'seasonality_mode': 'multiplicative', 'seasonality_prior_scale': 0.01}\n"
     ]
    },
    {
     "name": "stderr",
     "output_type": "stream",
     "text": [
      "11:19:42 - cmdstanpy - INFO - Chain [1] start processing\n",
      "11:19:51 - cmdstanpy - INFO - Chain [1] done processing\n",
      "11:19:52 - cmdstanpy - INFO - Chain [1] start processing\n",
      "11:19:53 - cmdstanpy - INFO - Chain [1] start processing\n",
      "11:19:53 - cmdstanpy - INFO - Chain [1] done processing\n",
      "11:19:53 - cmdstanpy - INFO - Chain [1] start processing\n",
      "11:19:53 - cmdstanpy - INFO - Chain [1] start processing\n",
      "11:19:54 - cmdstanpy - INFO - Chain [1] done processing\n",
      "11:19:54 - cmdstanpy - INFO - Chain [1] start processing\n",
      "11:19:54 - cmdstanpy - INFO - Chain [1] done processing\n",
      "11:19:55 - cmdstanpy - INFO - Chain [1] done processing\n",
      "11:20:00 - cmdstanpy - INFO - Chain [1] done processing\n"
     ]
    },
    {
     "name": "stdout",
     "output_type": "stream",
     "text": [
      "{'changepoint_prior_scale': 0.101, 'holidays_prior_scale': 2.51, 'seasonality_mode': 'multiplicative', 'seasonality_prior_scale': 2.51}\n"
     ]
    },
    {
     "name": "stderr",
     "output_type": "stream",
     "text": [
      "11:20:02 - cmdstanpy - INFO - Chain [1] start processing\n",
      "11:20:11 - cmdstanpy - INFO - Chain [1] done processing\n",
      "11:20:13 - cmdstanpy - INFO - Chain [1] start processing\n",
      "11:20:13 - cmdstanpy - INFO - Chain [1] done processing\n",
      "11:20:13 - cmdstanpy - INFO - Chain [1] start processing\n",
      "11:20:14 - cmdstanpy - INFO - Chain [1] start processing\n",
      "11:20:14 - cmdstanpy - INFO - Chain [1] start processing\n",
      "11:20:14 - cmdstanpy - INFO - Chain [1] start processing\n",
      "11:20:14 - cmdstanpy - INFO - Chain [1] done processing\n",
      "11:20:15 - cmdstanpy - INFO - Chain [1] done processing\n",
      "11:20:15 - cmdstanpy - INFO - Chain [1] done processing\n",
      "11:20:24 - cmdstanpy - INFO - Chain [1] done processing\n"
     ]
    },
    {
     "name": "stdout",
     "output_type": "stream",
     "text": [
      "{'changepoint_prior_scale': 0.101, 'holidays_prior_scale': 2.51, 'seasonality_mode': 'multiplicative', 'seasonality_prior_scale': 5.01}\n"
     ]
    },
    {
     "name": "stderr",
     "output_type": "stream",
     "text": [
      "11:20:26 - cmdstanpy - INFO - Chain [1] start processing\n",
      "11:20:34 - cmdstanpy - INFO - Chain [1] done processing\n",
      "11:20:36 - cmdstanpy - INFO - Chain [1] start processing\n",
      "11:20:36 - cmdstanpy - INFO - Chain [1] start processing\n",
      "11:20:36 - cmdstanpy - INFO - Chain [1] done processing\n",
      "11:20:37 - cmdstanpy - INFO - Chain [1] start processing\n",
      "11:20:37 - cmdstanpy - INFO - Chain [1] start processing\n",
      "11:20:37 - cmdstanpy - INFO - Chain [1] done processing\n",
      "11:20:38 - cmdstanpy - INFO - Chain [1] done processing\n",
      "11:20:38 - cmdstanpy - INFO - Chain [1] start processing\n",
      "11:20:38 - cmdstanpy - INFO - Chain [1] done processing\n",
      "11:20:48 - cmdstanpy - INFO - Chain [1] done processing\n"
     ]
    },
    {
     "name": "stdout",
     "output_type": "stream",
     "text": [
      "{'changepoint_prior_scale': 0.101, 'holidays_prior_scale': 2.51, 'seasonality_mode': 'multiplicative', 'seasonality_prior_scale': 7.51}\n"
     ]
    },
    {
     "name": "stderr",
     "output_type": "stream",
     "text": [
      "11:20:50 - cmdstanpy - INFO - Chain [1] start processing\n",
      "11:21:03 - cmdstanpy - INFO - Chain [1] done processing\n",
      "11:21:04 - cmdstanpy - INFO - Chain [1] start processing\n",
      "11:21:05 - cmdstanpy - INFO - Chain [1] done processing\n",
      "11:21:05 - cmdstanpy - INFO - Chain [1] start processing\n",
      "11:21:05 - cmdstanpy - INFO - Chain [1] start processing\n",
      "11:21:06 - cmdstanpy - INFO - Chain [1] done processing\n",
      "11:21:06 - cmdstanpy - INFO - Chain [1] start processing\n",
      "11:21:06 - cmdstanpy - INFO - Chain [1] start processing\n",
      "11:21:07 - cmdstanpy - INFO - Chain [1] done processing\n",
      "11:21:07 - cmdstanpy - INFO - Chain [1] done processing\n",
      "11:21:16 - cmdstanpy - INFO - Chain [1] done processing\n"
     ]
    },
    {
     "name": "stdout",
     "output_type": "stream",
     "text": [
      "{'changepoint_prior_scale': 0.101, 'holidays_prior_scale': 2.51, 'seasonality_mode': 'additive', 'seasonality_prior_scale': 0.01}\n"
     ]
    },
    {
     "name": "stderr",
     "output_type": "stream",
     "text": [
      "11:21:18 - cmdstanpy - INFO - Chain [1] start processing\n",
      "11:21:26 - cmdstanpy - INFO - Chain [1] done processing\n",
      "11:21:28 - cmdstanpy - INFO - Chain [1] start processing\n",
      "11:21:28 - cmdstanpy - INFO - Chain [1] start processing\n",
      "11:21:28 - cmdstanpy - INFO - Chain [1] done processing\n",
      "11:21:28 - cmdstanpy - INFO - Chain [1] start processing\n",
      "11:21:28 - cmdstanpy - INFO - Chain [1] done processing\n",
      "11:21:29 - cmdstanpy - INFO - Chain [1] start processing\n",
      "11:21:29 - cmdstanpy - INFO - Chain [1] start processing\n",
      "11:21:29 - cmdstanpy - INFO - Chain [1] done processing\n",
      "11:21:30 - cmdstanpy - INFO - Chain [1] done processing\n",
      "11:21:35 - cmdstanpy - INFO - Chain [1] done processing\n"
     ]
    },
    {
     "name": "stdout",
     "output_type": "stream",
     "text": [
      "{'changepoint_prior_scale': 0.101, 'holidays_prior_scale': 2.51, 'seasonality_mode': 'additive', 'seasonality_prior_scale': 2.51}\n"
     ]
    },
    {
     "name": "stderr",
     "output_type": "stream",
     "text": [
      "11:21:37 - cmdstanpy - INFO - Chain [1] start processing\n",
      "11:21:44 - cmdstanpy - INFO - Chain [1] done processing\n",
      "11:21:46 - cmdstanpy - INFO - Chain [1] start processing\n",
      "11:21:46 - cmdstanpy - INFO - Chain [1] done processing\n",
      "11:21:46 - cmdstanpy - INFO - Chain [1] start processing\n",
      "11:21:46 - cmdstanpy - INFO - Chain [1] start processing\n",
      "11:21:47 - cmdstanpy - INFO - Chain [1] start processing\n",
      "11:21:47 - cmdstanpy - INFO - Chain [1] done processing\n",
      "11:21:47 - cmdstanpy - INFO - Chain [1] start processing\n",
      "11:21:47 - cmdstanpy - INFO - Chain [1] done processing\n",
      "11:21:48 - cmdstanpy - INFO - Chain [1] done processing\n",
      "11:21:55 - cmdstanpy - INFO - Chain [1] done processing\n"
     ]
    },
    {
     "name": "stdout",
     "output_type": "stream",
     "text": [
      "{'changepoint_prior_scale': 0.101, 'holidays_prior_scale': 2.51, 'seasonality_mode': 'additive', 'seasonality_prior_scale': 5.01}\n"
     ]
    },
    {
     "name": "stderr",
     "output_type": "stream",
     "text": [
      "11:21:57 - cmdstanpy - INFO - Chain [1] start processing\n",
      "11:22:04 - cmdstanpy - INFO - Chain [1] done processing\n",
      "11:22:06 - cmdstanpy - INFO - Chain [1] start processing\n",
      "11:22:06 - cmdstanpy - INFO - Chain [1] done processing\n",
      "11:22:06 - cmdstanpy - INFO - Chain [1] start processing\n",
      "11:22:07 - cmdstanpy - INFO - Chain [1] start processing\n",
      "11:22:07 - cmdstanpy - INFO - Chain [1] done processing\n",
      "11:22:07 - cmdstanpy - INFO - Chain [1] start processing\n",
      "11:22:07 - cmdstanpy - INFO - Chain [1] start processing\n",
      "11:22:08 - cmdstanpy - INFO - Chain [1] done processing\n",
      "11:22:09 - cmdstanpy - INFO - Chain [1] done processing\n",
      "11:22:15 - cmdstanpy - INFO - Chain [1] done processing\n"
     ]
    },
    {
     "name": "stdout",
     "output_type": "stream",
     "text": [
      "{'changepoint_prior_scale': 0.101, 'holidays_prior_scale': 2.51, 'seasonality_mode': 'additive', 'seasonality_prior_scale': 7.51}\n"
     ]
    },
    {
     "name": "stderr",
     "output_type": "stream",
     "text": [
      "11:22:17 - cmdstanpy - INFO - Chain [1] start processing\n",
      "11:22:23 - cmdstanpy - INFO - Chain [1] done processing\n",
      "11:22:25 - cmdstanpy - INFO - Chain [1] start processing\n",
      "11:22:25 - cmdstanpy - INFO - Chain [1] done processing\n",
      "11:22:25 - cmdstanpy - INFO - Chain [1] start processing\n",
      "11:22:26 - cmdstanpy - INFO - Chain [1] start processing\n",
      "11:22:26 - cmdstanpy - INFO - Chain [1] done processing\n",
      "11:22:26 - cmdstanpy - INFO - Chain [1] start processing\n",
      "11:22:26 - cmdstanpy - INFO - Chain [1] start processing\n",
      "11:22:27 - cmdstanpy - INFO - Chain [1] done processing\n",
      "11:22:28 - cmdstanpy - INFO - Chain [1] done processing\n",
      "11:22:34 - cmdstanpy - INFO - Chain [1] done processing\n"
     ]
    },
    {
     "name": "stdout",
     "output_type": "stream",
     "text": [
      "{'changepoint_prior_scale': 0.101, 'holidays_prior_scale': 5.01, 'seasonality_mode': 'multiplicative', 'seasonality_prior_scale': 0.01}\n"
     ]
    },
    {
     "name": "stderr",
     "output_type": "stream",
     "text": [
      "11:22:36 - cmdstanpy - INFO - Chain [1] start processing\n",
      "11:22:43 - cmdstanpy - INFO - Chain [1] done processing\n",
      "11:22:45 - cmdstanpy - INFO - Chain [1] start processing\n",
      "11:22:45 - cmdstanpy - INFO - Chain [1] done processing\n",
      "11:22:45 - cmdstanpy - INFO - Chain [1] start processing\n",
      "11:22:45 - cmdstanpy - INFO - Chain [1] start processing\n",
      "11:22:46 - cmdstanpy - INFO - Chain [1] start processing\n",
      "11:22:46 - cmdstanpy - INFO - Chain [1] start processing\n",
      "11:22:46 - cmdstanpy - INFO - Chain [1] done processing\n",
      "11:22:46 - cmdstanpy - INFO - Chain [1] done processing\n",
      "11:22:47 - cmdstanpy - INFO - Chain [1] done processing\n",
      "11:22:52 - cmdstanpy - INFO - Chain [1] done processing\n"
     ]
    },
    {
     "name": "stdout",
     "output_type": "stream",
     "text": [
      "{'changepoint_prior_scale': 0.101, 'holidays_prior_scale': 5.01, 'seasonality_mode': 'multiplicative', 'seasonality_prior_scale': 2.51}\n"
     ]
    },
    {
     "name": "stderr",
     "output_type": "stream",
     "text": [
      "11:22:54 - cmdstanpy - INFO - Chain [1] start processing\n",
      "11:23:04 - cmdstanpy - INFO - Chain [1] done processing\n",
      "11:23:05 - cmdstanpy - INFO - Chain [1] start processing\n",
      "11:23:06 - cmdstanpy - INFO - Chain [1] start processing\n",
      "11:23:06 - cmdstanpy - INFO - Chain [1] done processing\n",
      "11:23:06 - cmdstanpy - INFO - Chain [1] start processing\n",
      "11:23:06 - cmdstanpy - INFO - Chain [1] done processing\n",
      "11:23:07 - cmdstanpy - INFO - Chain [1] start processing\n",
      "11:23:07 - cmdstanpy - INFO - Chain [1] done processing\n",
      "11:23:07 - cmdstanpy - INFO - Chain [1] start processing\n",
      "11:23:08 - cmdstanpy - INFO - Chain [1] done processing\n",
      "11:23:16 - cmdstanpy - INFO - Chain [1] done processing\n"
     ]
    },
    {
     "name": "stdout",
     "output_type": "stream",
     "text": [
      "{'changepoint_prior_scale': 0.101, 'holidays_prior_scale': 5.01, 'seasonality_mode': 'multiplicative', 'seasonality_prior_scale': 5.01}\n"
     ]
    },
    {
     "name": "stderr",
     "output_type": "stream",
     "text": [
      "11:23:18 - cmdstanpy - INFO - Chain [1] start processing\n",
      "11:23:26 - cmdstanpy - INFO - Chain [1] done processing\n",
      "11:23:28 - cmdstanpy - INFO - Chain [1] start processing\n",
      "11:23:28 - cmdstanpy - INFO - Chain [1] done processing\n",
      "11:23:28 - cmdstanpy - INFO - Chain [1] start processing\n",
      "11:23:29 - cmdstanpy - INFO - Chain [1] start processing\n",
      "11:23:29 - cmdstanpy - INFO - Chain [1] start processing\n",
      "11:23:29 - cmdstanpy - INFO - Chain [1] done processing\n",
      "11:23:29 - cmdstanpy - INFO - Chain [1] start processing\n",
      "11:23:29 - cmdstanpy - INFO - Chain [1] done processing\n",
      "11:23:30 - cmdstanpy - INFO - Chain [1] done processing\n",
      "11:23:39 - cmdstanpy - INFO - Chain [1] done processing\n"
     ]
    },
    {
     "name": "stdout",
     "output_type": "stream",
     "text": [
      "{'changepoint_prior_scale': 0.101, 'holidays_prior_scale': 5.01, 'seasonality_mode': 'multiplicative', 'seasonality_prior_scale': 7.51}\n"
     ]
    },
    {
     "name": "stderr",
     "output_type": "stream",
     "text": [
      "11:23:40 - cmdstanpy - INFO - Chain [1] start processing\n",
      "11:23:50 - cmdstanpy - INFO - Chain [1] done processing\n",
      "11:23:51 - cmdstanpy - INFO - Chain [1] start processing\n",
      "11:23:52 - cmdstanpy - INFO - Chain [1] start processing\n",
      "11:23:52 - cmdstanpy - INFO - Chain [1] start processing\n",
      "11:23:52 - cmdstanpy - INFO - Chain [1] done processing\n",
      "11:23:52 - cmdstanpy - INFO - Chain [1] done processing\n",
      "11:23:52 - cmdstanpy - INFO - Chain [1] start processing\n",
      "11:23:53 - cmdstanpy - INFO - Chain [1] start processing\n",
      "11:23:54 - cmdstanpy - INFO - Chain [1] done processing\n",
      "11:23:54 - cmdstanpy - INFO - Chain [1] done processing\n",
      "11:24:02 - cmdstanpy - INFO - Chain [1] done processing\n"
     ]
    },
    {
     "name": "stdout",
     "output_type": "stream",
     "text": [
      "{'changepoint_prior_scale': 0.101, 'holidays_prior_scale': 5.01, 'seasonality_mode': 'additive', 'seasonality_prior_scale': 0.01}\n"
     ]
    },
    {
     "name": "stderr",
     "output_type": "stream",
     "text": [
      "11:24:04 - cmdstanpy - INFO - Chain [1] start processing\n",
      "11:24:11 - cmdstanpy - INFO - Chain [1] done processing\n",
      "11:24:13 - cmdstanpy - INFO - Chain [1] start processing\n",
      "11:24:13 - cmdstanpy - INFO - Chain [1] done processing\n",
      "11:24:14 - cmdstanpy - INFO - Chain [1] start processing\n",
      "11:24:14 - cmdstanpy - INFO - Chain [1] start processing\n",
      "11:24:14 - cmdstanpy - INFO - Chain [1] done processing\n",
      "11:24:14 - cmdstanpy - INFO - Chain [1] start processing\n",
      "11:24:15 - cmdstanpy - INFO - Chain [1] start processing\n",
      "11:24:15 - cmdstanpy - INFO - Chain [1] done processing\n",
      "11:24:16 - cmdstanpy - INFO - Chain [1] done processing\n",
      "11:24:21 - cmdstanpy - INFO - Chain [1] done processing\n"
     ]
    },
    {
     "name": "stdout",
     "output_type": "stream",
     "text": [
      "{'changepoint_prior_scale': 0.101, 'holidays_prior_scale': 5.01, 'seasonality_mode': 'additive', 'seasonality_prior_scale': 2.51}\n"
     ]
    },
    {
     "name": "stderr",
     "output_type": "stream",
     "text": [
      "11:24:23 - cmdstanpy - INFO - Chain [1] start processing\n",
      "11:24:29 - cmdstanpy - INFO - Chain [1] done processing\n",
      "11:24:31 - cmdstanpy - INFO - Chain [1] start processing\n",
      "11:24:31 - cmdstanpy - INFO - Chain [1] start processing\n",
      "11:24:31 - cmdstanpy - INFO - Chain [1] start processing\n",
      "11:24:32 - cmdstanpy - INFO - Chain [1] start processing\n",
      "11:24:32 - cmdstanpy - INFO - Chain [1] done processing\n",
      "11:24:32 - cmdstanpy - INFO - Chain [1] done processing\n",
      "11:24:32 - cmdstanpy - INFO - Chain [1] start processing\n",
      "11:24:33 - cmdstanpy - INFO - Chain [1] done processing\n",
      "11:24:34 - cmdstanpy - INFO - Chain [1] done processing\n",
      "11:24:43 - cmdstanpy - INFO - Chain [1] done processing\n"
     ]
    },
    {
     "name": "stdout",
     "output_type": "stream",
     "text": [
      "{'changepoint_prior_scale': 0.101, 'holidays_prior_scale': 5.01, 'seasonality_mode': 'additive', 'seasonality_prior_scale': 5.01}\n"
     ]
    },
    {
     "name": "stderr",
     "output_type": "stream",
     "text": [
      "11:24:44 - cmdstanpy - INFO - Chain [1] start processing\n",
      "11:24:51 - cmdstanpy - INFO - Chain [1] done processing\n",
      "11:24:52 - cmdstanpy - INFO - Chain [1] start processing\n",
      "11:24:53 - cmdstanpy - INFO - Chain [1] start processing\n",
      "11:24:53 - cmdstanpy - INFO - Chain [1] done processing\n",
      "11:24:53 - cmdstanpy - INFO - Chain [1] start processing\n",
      "11:24:53 - cmdstanpy - INFO - Chain [1] done processing\n",
      "11:24:54 - cmdstanpy - INFO - Chain [1] start processing\n",
      "11:24:54 - cmdstanpy - INFO - Chain [1] start processing\n",
      "11:24:55 - cmdstanpy - INFO - Chain [1] done processing\n",
      "11:24:55 - cmdstanpy - INFO - Chain [1] done processing\n",
      "11:25:00 - cmdstanpy - INFO - Chain [1] done processing\n"
     ]
    },
    {
     "name": "stdout",
     "output_type": "stream",
     "text": [
      "{'changepoint_prior_scale': 0.101, 'holidays_prior_scale': 5.01, 'seasonality_mode': 'additive', 'seasonality_prior_scale': 7.51}\n"
     ]
    },
    {
     "name": "stderr",
     "output_type": "stream",
     "text": [
      "11:25:02 - cmdstanpy - INFO - Chain [1] start processing\n",
      "11:25:10 - cmdstanpy - INFO - Chain [1] done processing\n",
      "11:25:12 - cmdstanpy - INFO - Chain [1] start processing\n",
      "11:25:12 - cmdstanpy - INFO - Chain [1] done processing\n",
      "11:25:12 - cmdstanpy - INFO - Chain [1] start processing\n",
      "11:25:13 - cmdstanpy - INFO - Chain [1] start processing\n",
      "11:25:13 - cmdstanpy - INFO - Chain [1] start processing\n",
      "11:25:13 - cmdstanpy - INFO - Chain [1] done processing\n",
      "11:25:14 - cmdstanpy - INFO - Chain [1] done processing\n",
      "11:25:14 - cmdstanpy - INFO - Chain [1] start processing\n",
      "11:25:15 - cmdstanpy - INFO - Chain [1] done processing\n",
      "11:25:21 - cmdstanpy - INFO - Chain [1] done processing\n"
     ]
    },
    {
     "name": "stdout",
     "output_type": "stream",
     "text": [
      "{'changepoint_prior_scale': 0.101, 'holidays_prior_scale': 7.51, 'seasonality_mode': 'multiplicative', 'seasonality_prior_scale': 0.01}\n"
     ]
    },
    {
     "name": "stderr",
     "output_type": "stream",
     "text": [
      "11:25:23 - cmdstanpy - INFO - Chain [1] start processing\n",
      "11:25:28 - cmdstanpy - INFO - Chain [1] done processing\n",
      "11:25:30 - cmdstanpy - INFO - Chain [1] start processing\n",
      "11:25:30 - cmdstanpy - INFO - Chain [1] done processing\n",
      "11:25:30 - cmdstanpy - INFO - Chain [1] start processing\n",
      "11:25:31 - cmdstanpy - INFO - Chain [1] start processing\n",
      "11:25:31 - cmdstanpy - INFO - Chain [1] start processing\n",
      "11:25:31 - cmdstanpy - INFO - Chain [1] done processing\n",
      "11:25:31 - cmdstanpy - INFO - Chain [1] start processing\n",
      "11:25:31 - cmdstanpy - INFO - Chain [1] done processing\n",
      "11:25:32 - cmdstanpy - INFO - Chain [1] done processing\n",
      "11:25:37 - cmdstanpy - INFO - Chain [1] done processing\n"
     ]
    },
    {
     "name": "stdout",
     "output_type": "stream",
     "text": [
      "{'changepoint_prior_scale': 0.101, 'holidays_prior_scale': 7.51, 'seasonality_mode': 'multiplicative', 'seasonality_prior_scale': 2.51}\n"
     ]
    },
    {
     "name": "stderr",
     "output_type": "stream",
     "text": [
      "11:25:38 - cmdstanpy - INFO - Chain [1] start processing\n",
      "11:25:46 - cmdstanpy - INFO - Chain [1] done processing\n",
      "11:25:48 - cmdstanpy - INFO - Chain [1] start processing\n",
      "11:25:48 - cmdstanpy - INFO - Chain [1] done processing\n",
      "11:25:48 - cmdstanpy - INFO - Chain [1] start processing\n",
      "11:25:49 - cmdstanpy - INFO - Chain [1] start processing\n",
      "11:25:49 - cmdstanpy - INFO - Chain [1] start processing\n",
      "11:25:49 - cmdstanpy - INFO - Chain [1] done processing\n",
      "11:25:49 - cmdstanpy - INFO - Chain [1] done processing\n",
      "11:25:50 - cmdstanpy - INFO - Chain [1] start processing\n",
      "11:25:51 - cmdstanpy - INFO - Chain [1] done processing\n",
      "11:25:58 - cmdstanpy - INFO - Chain [1] done processing\n"
     ]
    },
    {
     "name": "stdout",
     "output_type": "stream",
     "text": [
      "{'changepoint_prior_scale': 0.101, 'holidays_prior_scale': 7.51, 'seasonality_mode': 'multiplicative', 'seasonality_prior_scale': 5.01}\n"
     ]
    },
    {
     "name": "stderr",
     "output_type": "stream",
     "text": [
      "11:26:00 - cmdstanpy - INFO - Chain [1] start processing\n",
      "11:26:09 - cmdstanpy - INFO - Chain [1] done processing\n",
      "11:26:11 - cmdstanpy - INFO - Chain [1] start processing\n",
      "11:26:11 - cmdstanpy - INFO - Chain [1] done processing\n",
      "11:26:12 - cmdstanpy - INFO - Chain [1] start processing\n",
      "11:26:12 - cmdstanpy - INFO - Chain [1] start processing\n",
      "11:26:12 - cmdstanpy - INFO - Chain [1] start processing\n",
      "11:26:13 - cmdstanpy - INFO - Chain [1] done processing\n",
      "11:26:13 - cmdstanpy - INFO - Chain [1] start processing\n",
      "11:26:13 - cmdstanpy - INFO - Chain [1] done processing\n",
      "11:26:14 - cmdstanpy - INFO - Chain [1] done processing\n",
      "11:26:21 - cmdstanpy - INFO - Chain [1] done processing\n"
     ]
    },
    {
     "name": "stdout",
     "output_type": "stream",
     "text": [
      "{'changepoint_prior_scale': 0.101, 'holidays_prior_scale': 7.51, 'seasonality_mode': 'multiplicative', 'seasonality_prior_scale': 7.51}\n"
     ]
    },
    {
     "name": "stderr",
     "output_type": "stream",
     "text": [
      "11:26:23 - cmdstanpy - INFO - Chain [1] start processing\n",
      "11:26:34 - cmdstanpy - INFO - Chain [1] done processing\n",
      "11:26:36 - cmdstanpy - INFO - Chain [1] start processing\n",
      "11:26:36 - cmdstanpy - INFO - Chain [1] done processing\n",
      "11:26:36 - cmdstanpy - INFO - Chain [1] start processing\n",
      "11:26:37 - cmdstanpy - INFO - Chain [1] start processing\n",
      "11:26:37 - cmdstanpy - INFO - Chain [1] start processing\n",
      "11:26:37 - cmdstanpy - INFO - Chain [1] start processing\n",
      "11:26:38 - cmdstanpy - INFO - Chain [1] done processing\n",
      "11:26:38 - cmdstanpy - INFO - Chain [1] done processing\n",
      "11:26:39 - cmdstanpy - INFO - Chain [1] done processing\n",
      "11:26:46 - cmdstanpy - INFO - Chain [1] done processing\n"
     ]
    },
    {
     "name": "stdout",
     "output_type": "stream",
     "text": [
      "{'changepoint_prior_scale': 0.101, 'holidays_prior_scale': 7.51, 'seasonality_mode': 'additive', 'seasonality_prior_scale': 0.01}\n"
     ]
    },
    {
     "name": "stderr",
     "output_type": "stream",
     "text": [
      "11:26:48 - cmdstanpy - INFO - Chain [1] start processing\n",
      "11:26:56 - cmdstanpy - INFO - Chain [1] done processing\n",
      "11:26:57 - cmdstanpy - INFO - Chain [1] start processing\n",
      "11:26:58 - cmdstanpy - INFO - Chain [1] start processing\n",
      "11:26:58 - cmdstanpy - INFO - Chain [1] done processing\n",
      "11:26:58 - cmdstanpy - INFO - Chain [1] start processing\n",
      "11:26:59 - cmdstanpy - INFO - Chain [1] start processing\n",
      "11:26:59 - cmdstanpy - INFO - Chain [1] done processing\n",
      "11:26:59 - cmdstanpy - INFO - Chain [1] start processing\n",
      "11:27:00 - cmdstanpy - INFO - Chain [1] done processing\n",
      "11:27:00 - cmdstanpy - INFO - Chain [1] done processing\n",
      "11:27:07 - cmdstanpy - INFO - Chain [1] done processing\n"
     ]
    },
    {
     "name": "stdout",
     "output_type": "stream",
     "text": [
      "{'changepoint_prior_scale': 0.101, 'holidays_prior_scale': 7.51, 'seasonality_mode': 'additive', 'seasonality_prior_scale': 2.51}\n"
     ]
    },
    {
     "name": "stderr",
     "output_type": "stream",
     "text": [
      "11:27:09 - cmdstanpy - INFO - Chain [1] start processing\n",
      "11:27:16 - cmdstanpy - INFO - Chain [1] done processing\n",
      "11:27:18 - cmdstanpy - INFO - Chain [1] start processing\n",
      "11:27:18 - cmdstanpy - INFO - Chain [1] start processing\n",
      "11:27:18 - cmdstanpy - INFO - Chain [1] done processing\n",
      "11:27:19 - cmdstanpy - INFO - Chain [1] start processing\n",
      "11:27:19 - cmdstanpy - INFO - Chain [1] done processing\n",
      "11:27:19 - cmdstanpy - INFO - Chain [1] start processing\n",
      "11:27:19 - cmdstanpy - INFO - Chain [1] done processing\n",
      "11:27:20 - cmdstanpy - INFO - Chain [1] start processing\n",
      "11:27:20 - cmdstanpy - INFO - Chain [1] done processing\n",
      "11:27:27 - cmdstanpy - INFO - Chain [1] done processing\n"
     ]
    },
    {
     "name": "stdout",
     "output_type": "stream",
     "text": [
      "{'changepoint_prior_scale': 0.101, 'holidays_prior_scale': 7.51, 'seasonality_mode': 'additive', 'seasonality_prior_scale': 5.01}\n"
     ]
    },
    {
     "name": "stderr",
     "output_type": "stream",
     "text": [
      "11:27:29 - cmdstanpy - INFO - Chain [1] start processing\n",
      "11:27:36 - cmdstanpy - INFO - Chain [1] done processing\n",
      "11:27:38 - cmdstanpy - INFO - Chain [1] start processing\n",
      "11:27:38 - cmdstanpy - INFO - Chain [1] done processing\n",
      "11:27:39 - cmdstanpy - INFO - Chain [1] start processing\n",
      "11:27:39 - cmdstanpy - INFO - Chain [1] start processing\n",
      "11:27:39 - cmdstanpy - INFO - Chain [1] start processing\n",
      "11:27:39 - cmdstanpy - INFO - Chain [1] done processing\n",
      "11:27:40 - cmdstanpy - INFO - Chain [1] start processing\n",
      "11:27:40 - cmdstanpy - INFO - Chain [1] done processing\n",
      "11:27:41 - cmdstanpy - INFO - Chain [1] done processing\n",
      "11:27:48 - cmdstanpy - INFO - Chain [1] done processing\n"
     ]
    },
    {
     "name": "stdout",
     "output_type": "stream",
     "text": [
      "{'changepoint_prior_scale': 0.101, 'holidays_prior_scale': 7.51, 'seasonality_mode': 'additive', 'seasonality_prior_scale': 7.51}\n"
     ]
    },
    {
     "name": "stderr",
     "output_type": "stream",
     "text": [
      "11:27:50 - cmdstanpy - INFO - Chain [1] start processing\n",
      "11:27:57 - cmdstanpy - INFO - Chain [1] done processing\n",
      "11:27:58 - cmdstanpy - INFO - Chain [1] start processing\n",
      "11:27:59 - cmdstanpy - INFO - Chain [1] done processing\n",
      "11:27:59 - cmdstanpy - INFO - Chain [1] start processing\n",
      "11:27:59 - cmdstanpy - INFO - Chain [1] done processing\n",
      "11:27:59 - cmdstanpy - INFO - Chain [1] start processing\n",
      "11:28:00 - cmdstanpy - INFO - Chain [1] start processing\n",
      "11:28:00 - cmdstanpy - INFO - Chain [1] start processing\n",
      "11:28:00 - cmdstanpy - INFO - Chain [1] done processing\n",
      "11:28:01 - cmdstanpy - INFO - Chain [1] done processing\n",
      "11:28:09 - cmdstanpy - INFO - Chain [1] done processing\n"
     ]
    },
    {
     "name": "stdout",
     "output_type": "stream",
     "text": [
      "{'changepoint_prior_scale': 0.201, 'holidays_prior_scale': 0.01, 'seasonality_mode': 'multiplicative', 'seasonality_prior_scale': 0.01}\n"
     ]
    },
    {
     "name": "stderr",
     "output_type": "stream",
     "text": [
      "11:28:11 - cmdstanpy - INFO - Chain [1] start processing\n",
      "11:28:19 - cmdstanpy - INFO - Chain [1] done processing\n",
      "11:28:21 - cmdstanpy - INFO - Chain [1] start processing\n",
      "11:28:21 - cmdstanpy - INFO - Chain [1] start processing\n",
      "11:28:21 - cmdstanpy - INFO - Chain [1] done processing\n",
      "11:28:21 - cmdstanpy - INFO - Chain [1] start processing\n",
      "11:28:22 - cmdstanpy - INFO - Chain [1] start processing\n",
      "11:28:22 - cmdstanpy - INFO - Chain [1] done processing\n",
      "11:28:22 - cmdstanpy - INFO - Chain [1] start processing\n",
      "11:28:23 - cmdstanpy - INFO - Chain [1] done processing\n",
      "11:28:23 - cmdstanpy - INFO - Chain [1] done processing\n",
      "11:28:29 - cmdstanpy - INFO - Chain [1] done processing\n"
     ]
    },
    {
     "name": "stdout",
     "output_type": "stream",
     "text": [
      "{'changepoint_prior_scale': 0.201, 'holidays_prior_scale': 0.01, 'seasonality_mode': 'multiplicative', 'seasonality_prior_scale': 2.51}\n"
     ]
    },
    {
     "name": "stderr",
     "output_type": "stream",
     "text": [
      "11:28:31 - cmdstanpy - INFO - Chain [1] start processing\n",
      "11:28:37 - cmdstanpy - INFO - Chain [1] done processing\n",
      "11:28:38 - cmdstanpy - INFO - Chain [1] start processing\n",
      "11:28:39 - cmdstanpy - INFO - Chain [1] done processing\n",
      "11:28:39 - cmdstanpy - INFO - Chain [1] start processing\n",
      "11:28:39 - cmdstanpy - INFO - Chain [1] start processing\n",
      "11:28:39 - cmdstanpy - INFO - Chain [1] done processing\n",
      "11:28:40 - cmdstanpy - INFO - Chain [1] start processing\n",
      "11:28:40 - cmdstanpy - INFO - Chain [1] start processing\n",
      "11:28:40 - cmdstanpy - INFO - Chain [1] done processing\n",
      "11:28:41 - cmdstanpy - INFO - Chain [1] done processing\n",
      "11:28:46 - cmdstanpy - INFO - Chain [1] done processing\n"
     ]
    },
    {
     "name": "stdout",
     "output_type": "stream",
     "text": [
      "{'changepoint_prior_scale': 0.201, 'holidays_prior_scale': 0.01, 'seasonality_mode': 'multiplicative', 'seasonality_prior_scale': 5.01}\n"
     ]
    },
    {
     "name": "stderr",
     "output_type": "stream",
     "text": [
      "11:28:47 - cmdstanpy - INFO - Chain [1] start processing\n",
      "11:28:56 - cmdstanpy - INFO - Chain [1] done processing\n",
      "11:28:57 - cmdstanpy - INFO - Chain [1] start processing\n",
      "11:28:58 - cmdstanpy - INFO - Chain [1] start processing\n",
      "11:28:58 - cmdstanpy - INFO - Chain [1] done processing\n",
      "11:28:58 - cmdstanpy - INFO - Chain [1] start processing\n",
      "11:28:59 - cmdstanpy - INFO - Chain [1] start processing\n",
      "11:28:59 - cmdstanpy - INFO - Chain [1] done processing\n",
      "11:28:59 - cmdstanpy - INFO - Chain [1] start processing\n",
      "11:28:59 - cmdstanpy - INFO - Chain [1] done processing\n",
      "11:29:00 - cmdstanpy - INFO - Chain [1] done processing\n",
      "11:29:06 - cmdstanpy - INFO - Chain [1] done processing\n"
     ]
    },
    {
     "name": "stdout",
     "output_type": "stream",
     "text": [
      "{'changepoint_prior_scale': 0.201, 'holidays_prior_scale': 0.01, 'seasonality_mode': 'multiplicative', 'seasonality_prior_scale': 7.51}\n"
     ]
    },
    {
     "name": "stderr",
     "output_type": "stream",
     "text": [
      "11:29:08 - cmdstanpy - INFO - Chain [1] start processing\n",
      "11:29:13 - cmdstanpy - INFO - Chain [1] done processing\n",
      "11:29:15 - cmdstanpy - INFO - Chain [1] start processing\n",
      "11:29:15 - cmdstanpy - INFO - Chain [1] start processing\n",
      "11:29:15 - cmdstanpy - INFO - Chain [1] done processing\n",
      "11:29:15 - cmdstanpy - INFO - Chain [1] start processing\n",
      "11:29:16 - cmdstanpy - INFO - Chain [1] start processing\n",
      "11:29:16 - cmdstanpy - INFO - Chain [1] done processing\n",
      "11:29:16 - cmdstanpy - INFO - Chain [1] start processing\n",
      "11:29:17 - cmdstanpy - INFO - Chain [1] done processing\n",
      "11:29:17 - cmdstanpy - INFO - Chain [1] done processing\n",
      "11:29:22 - cmdstanpy - INFO - Chain [1] done processing\n"
     ]
    },
    {
     "name": "stdout",
     "output_type": "stream",
     "text": [
      "{'changepoint_prior_scale': 0.201, 'holidays_prior_scale': 0.01, 'seasonality_mode': 'additive', 'seasonality_prior_scale': 0.01}\n"
     ]
    },
    {
     "name": "stderr",
     "output_type": "stream",
     "text": [
      "11:29:24 - cmdstanpy - INFO - Chain [1] start processing\n",
      "11:29:30 - cmdstanpy - INFO - Chain [1] done processing\n",
      "11:29:31 - cmdstanpy - INFO - Chain [1] start processing\n",
      "11:29:32 - cmdstanpy - INFO - Chain [1] done processing\n",
      "11:29:32 - cmdstanpy - INFO - Chain [1] start processing\n",
      "11:29:32 - cmdstanpy - INFO - Chain [1] start processing\n",
      "11:29:33 - cmdstanpy - INFO - Chain [1] start processing\n",
      "11:29:33 - cmdstanpy - INFO - Chain [1] done processing\n",
      "11:29:33 - cmdstanpy - INFO - Chain [1] start processing\n",
      "11:29:33 - cmdstanpy - INFO - Chain [1] done processing\n",
      "11:29:34 - cmdstanpy - INFO - Chain [1] done processing\n",
      "11:29:41 - cmdstanpy - INFO - Chain [1] done processing\n"
     ]
    },
    {
     "name": "stdout",
     "output_type": "stream",
     "text": [
      "{'changepoint_prior_scale': 0.201, 'holidays_prior_scale': 0.01, 'seasonality_mode': 'additive', 'seasonality_prior_scale': 2.51}\n"
     ]
    },
    {
     "name": "stderr",
     "output_type": "stream",
     "text": [
      "11:29:43 - cmdstanpy - INFO - Chain [1] start processing\n",
      "11:29:49 - cmdstanpy - INFO - Chain [1] done processing\n",
      "11:29:51 - cmdstanpy - INFO - Chain [1] start processing\n",
      "11:29:51 - cmdstanpy - INFO - Chain [1] done processing\n",
      "11:29:51 - cmdstanpy - INFO - Chain [1] start processing\n",
      "11:29:52 - cmdstanpy - INFO - Chain [1] start processing\n",
      "11:29:52 - cmdstanpy - INFO - Chain [1] start processing\n",
      "11:29:52 - cmdstanpy - INFO - Chain [1] start processing\n",
      "11:29:52 - cmdstanpy - INFO - Chain [1] done processing\n",
      "11:29:53 - cmdstanpy - INFO - Chain [1] done processing\n",
      "11:29:53 - cmdstanpy - INFO - Chain [1] done processing\n",
      "11:30:01 - cmdstanpy - INFO - Chain [1] done processing\n"
     ]
    },
    {
     "name": "stdout",
     "output_type": "stream",
     "text": [
      "{'changepoint_prior_scale': 0.201, 'holidays_prior_scale': 0.01, 'seasonality_mode': 'additive', 'seasonality_prior_scale': 5.01}\n"
     ]
    },
    {
     "name": "stderr",
     "output_type": "stream",
     "text": [
      "11:30:03 - cmdstanpy - INFO - Chain [1] start processing\n",
      "11:30:11 - cmdstanpy - INFO - Chain [1] done processing\n",
      "11:30:13 - cmdstanpy - INFO - Chain [1] start processing\n",
      "11:30:13 - cmdstanpy - INFO - Chain [1] done processing\n",
      "11:30:13 - cmdstanpy - INFO - Chain [1] start processing\n",
      "11:30:13 - cmdstanpy - INFO - Chain [1] start processing\n",
      "11:30:14 - cmdstanpy - INFO - Chain [1] done processing\n",
      "11:30:14 - cmdstanpy - INFO - Chain [1] start processing\n",
      "11:30:14 - cmdstanpy - INFO - Chain [1] done processing\n",
      "11:30:14 - cmdstanpy - INFO - Chain [1] start processing\n",
      "11:30:15 - cmdstanpy - INFO - Chain [1] done processing\n",
      "11:30:22 - cmdstanpy - INFO - Chain [1] done processing\n"
     ]
    },
    {
     "name": "stdout",
     "output_type": "stream",
     "text": [
      "{'changepoint_prior_scale': 0.201, 'holidays_prior_scale': 0.01, 'seasonality_mode': 'additive', 'seasonality_prior_scale': 7.51}\n"
     ]
    },
    {
     "name": "stderr",
     "output_type": "stream",
     "text": [
      "11:30:24 - cmdstanpy - INFO - Chain [1] start processing\n",
      "11:30:32 - cmdstanpy - INFO - Chain [1] done processing\n",
      "11:30:34 - cmdstanpy - INFO - Chain [1] start processing\n",
      "11:30:34 - cmdstanpy - INFO - Chain [1] done processing\n",
      "11:30:34 - cmdstanpy - INFO - Chain [1] start processing\n",
      "11:30:35 - cmdstanpy - INFO - Chain [1] start processing\n",
      "11:30:35 - cmdstanpy - INFO - Chain [1] done processing\n",
      "11:30:35 - cmdstanpy - INFO - Chain [1] start processing\n",
      "11:30:36 - cmdstanpy - INFO - Chain [1] start processing\n",
      "11:30:36 - cmdstanpy - INFO - Chain [1] done processing\n",
      "11:30:37 - cmdstanpy - INFO - Chain [1] done processing\n",
      "11:30:44 - cmdstanpy - INFO - Chain [1] done processing\n"
     ]
    },
    {
     "name": "stdout",
     "output_type": "stream",
     "text": [
      "{'changepoint_prior_scale': 0.201, 'holidays_prior_scale': 2.51, 'seasonality_mode': 'multiplicative', 'seasonality_prior_scale': 0.01}\n"
     ]
    },
    {
     "name": "stderr",
     "output_type": "stream",
     "text": [
      "11:30:45 - cmdstanpy - INFO - Chain [1] start processing\n",
      "11:30:50 - cmdstanpy - INFO - Chain [1] done processing\n",
      "11:30:52 - cmdstanpy - INFO - Chain [1] start processing\n",
      "11:30:52 - cmdstanpy - INFO - Chain [1] start processing\n",
      "11:30:52 - cmdstanpy - INFO - Chain [1] done processing\n",
      "11:30:52 - cmdstanpy - INFO - Chain [1] start processing\n",
      "11:30:53 - cmdstanpy - INFO - Chain [1] done processing\n",
      "11:30:53 - cmdstanpy - INFO - Chain [1] start processing\n",
      "11:30:53 - cmdstanpy - INFO - Chain [1] start processing\n",
      "11:30:53 - cmdstanpy - INFO - Chain [1] done processing\n",
      "11:30:54 - cmdstanpy - INFO - Chain [1] done processing\n",
      "11:30:58 - cmdstanpy - INFO - Chain [1] done processing\n"
     ]
    },
    {
     "name": "stdout",
     "output_type": "stream",
     "text": [
      "{'changepoint_prior_scale': 0.201, 'holidays_prior_scale': 2.51, 'seasonality_mode': 'multiplicative', 'seasonality_prior_scale': 2.51}\n"
     ]
    },
    {
     "name": "stderr",
     "output_type": "stream",
     "text": [
      "11:31:00 - cmdstanpy - INFO - Chain [1] start processing\n",
      "11:31:12 - cmdstanpy - INFO - Chain [1] done processing\n",
      "11:31:14 - cmdstanpy - INFO - Chain [1] start processing\n",
      "11:31:14 - cmdstanpy - INFO - Chain [1] done processing\n",
      "11:31:14 - cmdstanpy - INFO - Chain [1] start processing\n",
      "11:31:15 - cmdstanpy - INFO - Chain [1] start processing\n",
      "11:31:15 - cmdstanpy - INFO - Chain [1] start processing\n",
      "11:31:15 - cmdstanpy - INFO - Chain [1] start processing\n",
      "11:31:15 - cmdstanpy - INFO - Chain [1] done processing\n",
      "11:31:16 - cmdstanpy - INFO - Chain [1] done processing\n",
      "11:31:16 - cmdstanpy - INFO - Chain [1] done processing\n",
      "11:31:23 - cmdstanpy - INFO - Chain [1] done processing\n"
     ]
    },
    {
     "name": "stdout",
     "output_type": "stream",
     "text": [
      "{'changepoint_prior_scale': 0.201, 'holidays_prior_scale': 2.51, 'seasonality_mode': 'multiplicative', 'seasonality_prior_scale': 5.01}\n"
     ]
    },
    {
     "name": "stderr",
     "output_type": "stream",
     "text": [
      "11:31:24 - cmdstanpy - INFO - Chain [1] start processing\n",
      "11:31:32 - cmdstanpy - INFO - Chain [1] done processing\n",
      "11:31:34 - cmdstanpy - INFO - Chain [1] start processing\n",
      "11:31:34 - cmdstanpy - INFO - Chain [1] start processing\n",
      "11:31:35 - cmdstanpy - INFO - Chain [1] done processing\n",
      "11:31:35 - cmdstanpy - INFO - Chain [1] start processing\n",
      "11:31:35 - cmdstanpy - INFO - Chain [1] start processing\n",
      "11:31:35 - cmdstanpy - INFO - Chain [1] done processing\n",
      "11:31:36 - cmdstanpy - INFO - Chain [1] start processing\n",
      "11:31:36 - cmdstanpy - INFO - Chain [1] done processing\n",
      "11:31:36 - cmdstanpy - INFO - Chain [1] done processing\n",
      "11:31:42 - cmdstanpy - INFO - Chain [1] done processing\n"
     ]
    },
    {
     "name": "stdout",
     "output_type": "stream",
     "text": [
      "{'changepoint_prior_scale': 0.201, 'holidays_prior_scale': 2.51, 'seasonality_mode': 'multiplicative', 'seasonality_prior_scale': 7.51}\n"
     ]
    },
    {
     "name": "stderr",
     "output_type": "stream",
     "text": [
      "11:31:44 - cmdstanpy - INFO - Chain [1] start processing\n",
      "11:31:52 - cmdstanpy - INFO - Chain [1] done processing\n",
      "11:31:54 - cmdstanpy - INFO - Chain [1] start processing\n",
      "11:31:54 - cmdstanpy - INFO - Chain [1] done processing\n",
      "11:31:54 - cmdstanpy - INFO - Chain [1] start processing\n",
      "11:31:55 - cmdstanpy - INFO - Chain [1] start processing\n",
      "11:31:55 - cmdstanpy - INFO - Chain [1] start processing\n",
      "11:31:55 - cmdstanpy - INFO - Chain [1] start processing\n",
      "11:31:56 - cmdstanpy - INFO - Chain [1] done processing\n",
      "11:31:56 - cmdstanpy - INFO - Chain [1] done processing\n",
      "11:31:57 - cmdstanpy - INFO - Chain [1] done processing\n",
      "11:32:01 - cmdstanpy - INFO - Chain [1] done processing\n"
     ]
    },
    {
     "name": "stdout",
     "output_type": "stream",
     "text": [
      "{'changepoint_prior_scale': 0.201, 'holidays_prior_scale': 2.51, 'seasonality_mode': 'additive', 'seasonality_prior_scale': 0.01}\n"
     ]
    },
    {
     "name": "stderr",
     "output_type": "stream",
     "text": [
      "11:32:03 - cmdstanpy - INFO - Chain [1] start processing\n",
      "11:32:08 - cmdstanpy - INFO - Chain [1] done processing\n",
      "11:32:10 - cmdstanpy - INFO - Chain [1] start processing\n",
      "11:32:10 - cmdstanpy - INFO - Chain [1] done processing\n",
      "11:32:11 - cmdstanpy - INFO - Chain [1] start processing\n",
      "11:32:11 - cmdstanpy - INFO - Chain [1] start processing\n",
      "11:32:11 - cmdstanpy - INFO - Chain [1] done processing\n",
      "11:32:12 - cmdstanpy - INFO - Chain [1] start processing\n",
      "11:32:12 - cmdstanpy - INFO - Chain [1] done processing\n",
      "11:32:12 - cmdstanpy - INFO - Chain [1] start processing\n",
      "11:32:13 - cmdstanpy - INFO - Chain [1] done processing\n",
      "11:32:20 - cmdstanpy - INFO - Chain [1] done processing\n"
     ]
    },
    {
     "name": "stdout",
     "output_type": "stream",
     "text": [
      "{'changepoint_prior_scale': 0.201, 'holidays_prior_scale': 2.51, 'seasonality_mode': 'additive', 'seasonality_prior_scale': 2.51}\n"
     ]
    },
    {
     "name": "stderr",
     "output_type": "stream",
     "text": [
      "11:32:21 - cmdstanpy - INFO - Chain [1] start processing\n",
      "11:32:32 - cmdstanpy - INFO - Chain [1] done processing\n",
      "11:32:34 - cmdstanpy - INFO - Chain [1] start processing\n",
      "11:32:34 - cmdstanpy - INFO - Chain [1] start processing\n",
      "11:32:34 - cmdstanpy - INFO - Chain [1] done processing\n",
      "11:32:34 - cmdstanpy - INFO - Chain [1] start processing\n",
      "11:32:35 - cmdstanpy - INFO - Chain [1] start processing\n",
      "11:32:35 - cmdstanpy - INFO - Chain [1] done processing\n",
      "11:32:35 - cmdstanpy - INFO - Chain [1] start processing\n",
      "11:32:35 - cmdstanpy - INFO - Chain [1] done processing\n",
      "11:32:36 - cmdstanpy - INFO - Chain [1] done processing\n",
      "11:32:42 - cmdstanpy - INFO - Chain [1] done processing\n"
     ]
    },
    {
     "name": "stdout",
     "output_type": "stream",
     "text": [
      "{'changepoint_prior_scale': 0.201, 'holidays_prior_scale': 2.51, 'seasonality_mode': 'additive', 'seasonality_prior_scale': 5.01}\n"
     ]
    },
    {
     "name": "stderr",
     "output_type": "stream",
     "text": [
      "11:32:44 - cmdstanpy - INFO - Chain [1] start processing\n",
      "11:32:51 - cmdstanpy - INFO - Chain [1] done processing\n",
      "11:32:53 - cmdstanpy - INFO - Chain [1] start processing\n",
      "11:32:53 - cmdstanpy - INFO - Chain [1] done processing\n",
      "11:32:53 - cmdstanpy - INFO - Chain [1] start processing\n",
      "11:32:54 - cmdstanpy - INFO - Chain [1] start processing\n",
      "11:32:54 - cmdstanpy - INFO - Chain [1] done processing\n",
      "11:32:54 - cmdstanpy - INFO - Chain [1] start processing\n",
      "11:32:54 - cmdstanpy - INFO - Chain [1] done processing\n",
      "11:32:54 - cmdstanpy - INFO - Chain [1] start processing\n",
      "11:32:55 - cmdstanpy - INFO - Chain [1] done processing\n",
      "11:33:02 - cmdstanpy - INFO - Chain [1] done processing\n"
     ]
    },
    {
     "name": "stdout",
     "output_type": "stream",
     "text": [
      "{'changepoint_prior_scale': 0.201, 'holidays_prior_scale': 2.51, 'seasonality_mode': 'additive', 'seasonality_prior_scale': 7.51}\n"
     ]
    },
    {
     "name": "stderr",
     "output_type": "stream",
     "text": [
      "11:33:03 - cmdstanpy - INFO - Chain [1] start processing\n",
      "11:33:10 - cmdstanpy - INFO - Chain [1] done processing\n",
      "11:33:12 - cmdstanpy - INFO - Chain [1] start processing\n",
      "11:33:12 - cmdstanpy - INFO - Chain [1] start processing\n",
      "11:33:12 - cmdstanpy - INFO - Chain [1] done processing\n",
      "11:33:12 - cmdstanpy - INFO - Chain [1] start processing\n",
      "11:33:13 - cmdstanpy - INFO - Chain [1] done processing\n",
      "11:33:13 - cmdstanpy - INFO - Chain [1] start processing\n",
      "11:33:13 - cmdstanpy - INFO - Chain [1] start processing\n",
      "11:33:13 - cmdstanpy - INFO - Chain [1] done processing\n",
      "11:33:14 - cmdstanpy - INFO - Chain [1] done processing\n",
      "11:33:22 - cmdstanpy - INFO - Chain [1] done processing\n"
     ]
    },
    {
     "name": "stdout",
     "output_type": "stream",
     "text": [
      "{'changepoint_prior_scale': 0.201, 'holidays_prior_scale': 5.01, 'seasonality_mode': 'multiplicative', 'seasonality_prior_scale': 0.01}\n"
     ]
    },
    {
     "name": "stderr",
     "output_type": "stream",
     "text": [
      "11:33:24 - cmdstanpy - INFO - Chain [1] start processing\n",
      "11:33:28 - cmdstanpy - INFO - Chain [1] done processing\n",
      "11:33:30 - cmdstanpy - INFO - Chain [1] start processing\n",
      "11:33:30 - cmdstanpy - INFO - Chain [1] start processing\n",
      "11:33:30 - cmdstanpy - INFO - Chain [1] done processing\n",
      "11:33:31 - cmdstanpy - INFO - Chain [1] start processing\n",
      "11:33:31 - cmdstanpy - INFO - Chain [1] start processing\n",
      "11:33:31 - cmdstanpy - INFO - Chain [1] start processing\n",
      "11:33:31 - cmdstanpy - INFO - Chain [1] done processing\n",
      "11:33:31 - cmdstanpy - INFO - Chain [1] done processing\n",
      "11:33:33 - cmdstanpy - INFO - Chain [1] done processing\n",
      "11:33:34 - cmdstanpy - INFO - Chain [1] done processing\n"
     ]
    },
    {
     "name": "stdout",
     "output_type": "stream",
     "text": [
      "{'changepoint_prior_scale': 0.201, 'holidays_prior_scale': 5.01, 'seasonality_mode': 'multiplicative', 'seasonality_prior_scale': 2.51}\n"
     ]
    },
    {
     "name": "stderr",
     "output_type": "stream",
     "text": [
      "11:33:36 - cmdstanpy - INFO - Chain [1] start processing\n",
      "11:33:43 - cmdstanpy - INFO - Chain [1] done processing\n",
      "11:33:45 - cmdstanpy - INFO - Chain [1] start processing\n",
      "11:33:45 - cmdstanpy - INFO - Chain [1] start processing\n",
      "11:33:45 - cmdstanpy - INFO - Chain [1] done processing\n",
      "11:33:46 - cmdstanpy - INFO - Chain [1] start processing\n",
      "11:33:46 - cmdstanpy - INFO - Chain [1] start processing\n",
      "11:33:46 - cmdstanpy - INFO - Chain [1] done processing\n",
      "11:33:46 - cmdstanpy - INFO - Chain [1] done processing\n",
      "11:33:47 - cmdstanpy - INFO - Chain [1] start processing\n",
      "11:33:47 - cmdstanpy - INFO - Chain [1] done processing\n",
      "11:33:55 - cmdstanpy - INFO - Chain [1] done processing\n"
     ]
    },
    {
     "name": "stdout",
     "output_type": "stream",
     "text": [
      "{'changepoint_prior_scale': 0.201, 'holidays_prior_scale': 5.01, 'seasonality_mode': 'multiplicative', 'seasonality_prior_scale': 5.01}\n"
     ]
    },
    {
     "name": "stderr",
     "output_type": "stream",
     "text": [
      "11:33:57 - cmdstanpy - INFO - Chain [1] start processing\n",
      "11:34:05 - cmdstanpy - INFO - Chain [1] done processing\n",
      "11:34:07 - cmdstanpy - INFO - Chain [1] start processing\n",
      "11:34:07 - cmdstanpy - INFO - Chain [1] done processing\n",
      "11:34:08 - cmdstanpy - INFO - Chain [1] start processing\n",
      "11:34:08 - cmdstanpy - INFO - Chain [1] start processing\n",
      "11:34:08 - cmdstanpy - INFO - Chain [1] start processing\n",
      "11:34:09 - cmdstanpy - INFO - Chain [1] done processing\n",
      "11:34:09 - cmdstanpy - INFO - Chain [1] start processing\n",
      "11:34:09 - cmdstanpy - INFO - Chain [1] done processing\n",
      "11:34:10 - cmdstanpy - INFO - Chain [1] done processing\n",
      "11:34:18 - cmdstanpy - INFO - Chain [1] done processing\n"
     ]
    },
    {
     "name": "stdout",
     "output_type": "stream",
     "text": [
      "{'changepoint_prior_scale': 0.201, 'holidays_prior_scale': 5.01, 'seasonality_mode': 'multiplicative', 'seasonality_prior_scale': 7.51}\n"
     ]
    },
    {
     "name": "stderr",
     "output_type": "stream",
     "text": [
      "11:34:19 - cmdstanpy - INFO - Chain [1] start processing\n",
      "11:34:31 - cmdstanpy - INFO - Chain [1] done processing\n",
      "11:34:33 - cmdstanpy - INFO - Chain [1] start processing\n",
      "11:34:33 - cmdstanpy - INFO - Chain [1] done processing\n",
      "11:34:34 - cmdstanpy - INFO - Chain [1] start processing\n",
      "11:34:34 - cmdstanpy - INFO - Chain [1] start processing\n",
      "11:34:34 - cmdstanpy - INFO - Chain [1] done processing\n",
      "11:34:34 - cmdstanpy - INFO - Chain [1] start processing\n",
      "11:34:35 - cmdstanpy - INFO - Chain [1] done processing\n",
      "11:34:35 - cmdstanpy - INFO - Chain [1] start processing\n",
      "11:34:36 - cmdstanpy - INFO - Chain [1] done processing\n",
      "11:34:42 - cmdstanpy - INFO - Chain [1] done processing\n"
     ]
    },
    {
     "name": "stdout",
     "output_type": "stream",
     "text": [
      "{'changepoint_prior_scale': 0.201, 'holidays_prior_scale': 5.01, 'seasonality_mode': 'additive', 'seasonality_prior_scale': 0.01}\n"
     ]
    },
    {
     "name": "stderr",
     "output_type": "stream",
     "text": [
      "11:34:44 - cmdstanpy - INFO - Chain [1] start processing\n",
      "11:34:51 - cmdstanpy - INFO - Chain [1] done processing\n",
      "11:34:53 - cmdstanpy - INFO - Chain [1] start processing\n",
      "11:34:53 - cmdstanpy - INFO - Chain [1] done processing\n",
      "11:34:53 - cmdstanpy - INFO - Chain [1] start processing\n",
      "11:34:53 - cmdstanpy - INFO - Chain [1] start processing\n",
      "11:34:54 - cmdstanpy - INFO - Chain [1] done processing\n",
      "11:34:54 - cmdstanpy - INFO - Chain [1] start processing\n",
      "11:34:54 - cmdstanpy - INFO - Chain [1] start processing\n",
      "11:34:55 - cmdstanpy - INFO - Chain [1] done processing\n",
      "11:34:55 - cmdstanpy - INFO - Chain [1] done processing\n",
      "11:35:01 - cmdstanpy - INFO - Chain [1] done processing\n"
     ]
    },
    {
     "name": "stdout",
     "output_type": "stream",
     "text": [
      "{'changepoint_prior_scale': 0.201, 'holidays_prior_scale': 5.01, 'seasonality_mode': 'additive', 'seasonality_prior_scale': 2.51}\n"
     ]
    },
    {
     "name": "stderr",
     "output_type": "stream",
     "text": [
      "11:35:03 - cmdstanpy - INFO - Chain [1] start processing\n",
      "11:35:12 - cmdstanpy - INFO - Chain [1] done processing\n",
      "11:35:13 - cmdstanpy - INFO - Chain [1] start processing\n",
      "11:35:14 - cmdstanpy - INFO - Chain [1] done processing\n",
      "11:35:14 - cmdstanpy - INFO - Chain [1] start processing\n",
      "11:35:14 - cmdstanpy - INFO - Chain [1] start processing\n",
      "11:35:15 - cmdstanpy - INFO - Chain [1] done processing\n",
      "11:35:15 - cmdstanpy - INFO - Chain [1] start processing\n",
      "11:35:15 - cmdstanpy - INFO - Chain [1] start processing\n",
      "11:35:15 - cmdstanpy - INFO - Chain [1] done processing\n",
      "11:35:16 - cmdstanpy - INFO - Chain [1] done processing\n",
      "11:35:21 - cmdstanpy - INFO - Chain [1] done processing\n"
     ]
    },
    {
     "name": "stdout",
     "output_type": "stream",
     "text": [
      "{'changepoint_prior_scale': 0.201, 'holidays_prior_scale': 5.01, 'seasonality_mode': 'additive', 'seasonality_prior_scale': 5.01}\n"
     ]
    },
    {
     "name": "stderr",
     "output_type": "stream",
     "text": [
      "11:35:23 - cmdstanpy - INFO - Chain [1] start processing\n",
      "11:35:30 - cmdstanpy - INFO - Chain [1] done processing\n",
      "11:35:32 - cmdstanpy - INFO - Chain [1] start processing\n",
      "11:35:32 - cmdstanpy - INFO - Chain [1] done processing\n",
      "11:35:32 - cmdstanpy - INFO - Chain [1] start processing\n",
      "11:35:33 - cmdstanpy - INFO - Chain [1] start processing\n",
      "11:35:33 - cmdstanpy - INFO - Chain [1] done processing\n",
      "11:35:33 - cmdstanpy - INFO - Chain [1] start processing\n",
      "11:35:33 - cmdstanpy - INFO - Chain [1] start processing\n",
      "11:35:33 - cmdstanpy - INFO - Chain [1] done processing\n",
      "11:35:34 - cmdstanpy - INFO - Chain [1] done processing\n",
      "11:35:41 - cmdstanpy - INFO - Chain [1] done processing\n"
     ]
    },
    {
     "name": "stdout",
     "output_type": "stream",
     "text": [
      "{'changepoint_prior_scale': 0.201, 'holidays_prior_scale': 5.01, 'seasonality_mode': 'additive', 'seasonality_prior_scale': 7.51}\n"
     ]
    },
    {
     "name": "stderr",
     "output_type": "stream",
     "text": [
      "11:35:43 - cmdstanpy - INFO - Chain [1] start processing\n",
      "11:35:50 - cmdstanpy - INFO - Chain [1] done processing\n",
      "11:35:52 - cmdstanpy - INFO - Chain [1] start processing\n",
      "11:35:52 - cmdstanpy - INFO - Chain [1] done processing\n",
      "11:35:52 - cmdstanpy - INFO - Chain [1] start processing\n",
      "11:35:53 - cmdstanpy - INFO - Chain [1] start processing\n",
      "11:35:53 - cmdstanpy - INFO - Chain [1] start processing\n",
      "11:35:53 - cmdstanpy - INFO - Chain [1] done processing\n",
      "11:35:53 - cmdstanpy - INFO - Chain [1] start processing\n",
      "11:35:54 - cmdstanpy - INFO - Chain [1] done processing\n",
      "11:35:55 - cmdstanpy - INFO - Chain [1] done processing\n",
      "11:36:02 - cmdstanpy - INFO - Chain [1] done processing\n"
     ]
    },
    {
     "name": "stdout",
     "output_type": "stream",
     "text": [
      "{'changepoint_prior_scale': 0.201, 'holidays_prior_scale': 7.51, 'seasonality_mode': 'multiplicative', 'seasonality_prior_scale': 0.01}\n"
     ]
    },
    {
     "name": "stderr",
     "output_type": "stream",
     "text": [
      "11:36:04 - cmdstanpy - INFO - Chain [1] start processing\n",
      "11:36:08 - cmdstanpy - INFO - Chain [1] done processing\n",
      "11:36:10 - cmdstanpy - INFO - Chain [1] start processing\n",
      "11:36:10 - cmdstanpy - INFO - Chain [1] start processing\n",
      "11:36:10 - cmdstanpy - INFO - Chain [1] done processing\n",
      "11:36:10 - cmdstanpy - INFO - Chain [1] start processing\n",
      "11:36:11 - cmdstanpy - INFO - Chain [1] start processing\n",
      "11:36:11 - cmdstanpy - INFO - Chain [1] done processing\n",
      "11:36:11 - cmdstanpy - INFO - Chain [1] start processing\n",
      "11:36:12 - cmdstanpy - INFO - Chain [1] done processing\n",
      "11:36:12 - cmdstanpy - INFO - Chain [1] done processing\n",
      "11:36:16 - cmdstanpy - INFO - Chain [1] done processing\n"
     ]
    },
    {
     "name": "stdout",
     "output_type": "stream",
     "text": [
      "{'changepoint_prior_scale': 0.201, 'holidays_prior_scale': 7.51, 'seasonality_mode': 'multiplicative', 'seasonality_prior_scale': 2.51}\n"
     ]
    },
    {
     "name": "stderr",
     "output_type": "stream",
     "text": [
      "11:36:18 - cmdstanpy - INFO - Chain [1] start processing\n",
      "11:36:28 - cmdstanpy - INFO - Chain [1] done processing\n",
      "11:36:30 - cmdstanpy - INFO - Chain [1] start processing\n",
      "11:36:30 - cmdstanpy - INFO - Chain [1] done processing\n",
      "11:36:30 - cmdstanpy - INFO - Chain [1] start processing\n",
      "11:36:30 - cmdstanpy - INFO - Chain [1] start processing\n",
      "11:36:31 - cmdstanpy - INFO - Chain [1] start processing\n",
      "11:36:31 - cmdstanpy - INFO - Chain [1] done processing\n",
      "11:36:31 - cmdstanpy - INFO - Chain [1] done processing\n",
      "11:36:31 - cmdstanpy - INFO - Chain [1] start processing\n",
      "11:36:33 - cmdstanpy - INFO - Chain [1] done processing\n",
      "11:36:40 - cmdstanpy - INFO - Chain [1] done processing\n"
     ]
    },
    {
     "name": "stdout",
     "output_type": "stream",
     "text": [
      "{'changepoint_prior_scale': 0.201, 'holidays_prior_scale': 7.51, 'seasonality_mode': 'multiplicative', 'seasonality_prior_scale': 5.01}\n"
     ]
    },
    {
     "name": "stderr",
     "output_type": "stream",
     "text": [
      "11:36:42 - cmdstanpy - INFO - Chain [1] start processing\n",
      "11:36:52 - cmdstanpy - INFO - Chain [1] done processing\n",
      "11:36:53 - cmdstanpy - INFO - Chain [1] start processing\n",
      "11:36:54 - cmdstanpy - INFO - Chain [1] done processing\n",
      "11:36:54 - cmdstanpy - INFO - Chain [1] start processing\n",
      "11:36:54 - cmdstanpy - INFO - Chain [1] start processing\n",
      "11:36:55 - cmdstanpy - INFO - Chain [1] start processing\n",
      "11:36:55 - cmdstanpy - INFO - Chain [1] done processing\n",
      "11:36:55 - cmdstanpy - INFO - Chain [1] start processing\n",
      "11:36:55 - cmdstanpy - INFO - Chain [1] done processing\n",
      "11:36:56 - cmdstanpy - INFO - Chain [1] done processing\n",
      "11:37:04 - cmdstanpy - INFO - Chain [1] done processing\n"
     ]
    },
    {
     "name": "stdout",
     "output_type": "stream",
     "text": [
      "{'changepoint_prior_scale': 0.201, 'holidays_prior_scale': 7.51, 'seasonality_mode': 'multiplicative', 'seasonality_prior_scale': 7.51}\n"
     ]
    },
    {
     "name": "stderr",
     "output_type": "stream",
     "text": [
      "11:37:06 - cmdstanpy - INFO - Chain [1] start processing\n",
      "11:37:14 - cmdstanpy - INFO - Chain [1] done processing\n",
      "11:37:15 - cmdstanpy - INFO - Chain [1] start processing\n",
      "11:37:16 - cmdstanpy - INFO - Chain [1] done processing\n",
      "11:37:16 - cmdstanpy - INFO - Chain [1] start processing\n",
      "11:37:16 - cmdstanpy - INFO - Chain [1] start processing\n",
      "11:37:17 - cmdstanpy - INFO - Chain [1] start processing\n",
      "11:37:17 - cmdstanpy - INFO - Chain [1] done processing\n",
      "11:37:17 - cmdstanpy - INFO - Chain [1] start processing\n",
      "11:37:18 - cmdstanpy - INFO - Chain [1] done processing\n",
      "11:37:18 - cmdstanpy - INFO - Chain [1] done processing\n",
      "11:37:24 - cmdstanpy - INFO - Chain [1] done processing\n"
     ]
    },
    {
     "name": "stdout",
     "output_type": "stream",
     "text": [
      "{'changepoint_prior_scale': 0.201, 'holidays_prior_scale': 7.51, 'seasonality_mode': 'additive', 'seasonality_prior_scale': 0.01}\n"
     ]
    },
    {
     "name": "stderr",
     "output_type": "stream",
     "text": [
      "11:37:26 - cmdstanpy - INFO - Chain [1] start processing\n",
      "11:37:34 - cmdstanpy - INFO - Chain [1] done processing\n",
      "11:37:35 - cmdstanpy - INFO - Chain [1] start processing\n",
      "11:37:36 - cmdstanpy - INFO - Chain [1] done processing\n",
      "11:37:36 - cmdstanpy - INFO - Chain [1] start processing\n",
      "11:37:36 - cmdstanpy - INFO - Chain [1] start processing\n",
      "11:37:36 - cmdstanpy - INFO - Chain [1] done processing\n",
      "11:37:37 - cmdstanpy - INFO - Chain [1] start processing\n",
      "11:37:37 - cmdstanpy - INFO - Chain [1] start processing\n",
      "11:37:37 - cmdstanpy - INFO - Chain [1] done processing\n",
      "11:37:37 - cmdstanpy - INFO - Chain [1] done processing\n",
      "11:37:45 - cmdstanpy - INFO - Chain [1] done processing\n"
     ]
    },
    {
     "name": "stdout",
     "output_type": "stream",
     "text": [
      "{'changepoint_prior_scale': 0.201, 'holidays_prior_scale': 7.51, 'seasonality_mode': 'additive', 'seasonality_prior_scale': 2.51}\n"
     ]
    },
    {
     "name": "stderr",
     "output_type": "stream",
     "text": [
      "11:37:46 - cmdstanpy - INFO - Chain [1] start processing\n",
      "11:37:54 - cmdstanpy - INFO - Chain [1] done processing\n",
      "11:37:56 - cmdstanpy - INFO - Chain [1] start processing\n",
      "11:37:56 - cmdstanpy - INFO - Chain [1] done processing\n",
      "11:37:56 - cmdstanpy - INFO - Chain [1] start processing\n",
      "11:37:56 - cmdstanpy - INFO - Chain [1] start processing\n",
      "11:37:56 - cmdstanpy - INFO - Chain [1] done processing\n",
      "11:37:57 - cmdstanpy - INFO - Chain [1] start processing\n",
      "11:37:57 - cmdstanpy - INFO - Chain [1] done processing\n",
      "11:37:57 - cmdstanpy - INFO - Chain [1] start processing\n",
      "11:37:58 - cmdstanpy - INFO - Chain [1] done processing\n",
      "11:38:04 - cmdstanpy - INFO - Chain [1] done processing\n"
     ]
    },
    {
     "name": "stdout",
     "output_type": "stream",
     "text": [
      "{'changepoint_prior_scale': 0.201, 'holidays_prior_scale': 7.51, 'seasonality_mode': 'additive', 'seasonality_prior_scale': 5.01}\n"
     ]
    },
    {
     "name": "stderr",
     "output_type": "stream",
     "text": [
      "11:38:06 - cmdstanpy - INFO - Chain [1] start processing\n",
      "11:38:14 - cmdstanpy - INFO - Chain [1] done processing\n",
      "11:38:16 - cmdstanpy - INFO - Chain [1] start processing\n",
      "11:38:16 - cmdstanpy - INFO - Chain [1] done processing\n",
      "11:38:16 - cmdstanpy - INFO - Chain [1] start processing\n",
      "11:38:16 - cmdstanpy - INFO - Chain [1] start processing\n",
      "11:38:17 - cmdstanpy - INFO - Chain [1] done processing\n",
      "11:38:17 - cmdstanpy - INFO - Chain [1] start processing\n",
      "11:38:17 - cmdstanpy - INFO - Chain [1] start processing\n",
      "11:38:17 - cmdstanpy - INFO - Chain [1] done processing\n",
      "11:38:18 - cmdstanpy - INFO - Chain [1] done processing\n",
      "11:38:26 - cmdstanpy - INFO - Chain [1] done processing\n"
     ]
    },
    {
     "name": "stdout",
     "output_type": "stream",
     "text": [
      "{'changepoint_prior_scale': 0.201, 'holidays_prior_scale': 7.51, 'seasonality_mode': 'additive', 'seasonality_prior_scale': 7.51}\n"
     ]
    },
    {
     "name": "stderr",
     "output_type": "stream",
     "text": [
      "11:38:27 - cmdstanpy - INFO - Chain [1] start processing\n",
      "11:38:35 - cmdstanpy - INFO - Chain [1] done processing\n",
      "11:38:36 - cmdstanpy - INFO - Chain [1] start processing\n",
      "11:38:37 - cmdstanpy - INFO - Chain [1] done processing\n",
      "11:38:37 - cmdstanpy - INFO - Chain [1] start processing\n",
      "11:38:37 - cmdstanpy - INFO - Chain [1] start processing\n",
      "11:38:37 - cmdstanpy - INFO - Chain [1] done processing\n",
      "11:38:38 - cmdstanpy - INFO - Chain [1] start processing\n",
      "11:38:38 - cmdstanpy - INFO - Chain [1] start processing\n",
      "11:38:38 - cmdstanpy - INFO - Chain [1] done processing\n",
      "11:38:38 - cmdstanpy - INFO - Chain [1] done processing\n",
      "11:38:45 - cmdstanpy - INFO - Chain [1] done processing\n"
     ]
    },
    {
     "name": "stdout",
     "output_type": "stream",
     "text": [
      "{'changepoint_prior_scale': 0.30100000000000005, 'holidays_prior_scale': 0.01, 'seasonality_mode': 'multiplicative', 'seasonality_prior_scale': 0.01}\n"
     ]
    },
    {
     "name": "stderr",
     "output_type": "stream",
     "text": [
      "11:38:47 - cmdstanpy - INFO - Chain [1] start processing\n",
      "11:38:56 - cmdstanpy - INFO - Chain [1] done processing\n",
      "11:38:58 - cmdstanpy - INFO - Chain [1] start processing\n",
      "11:38:58 - cmdstanpy - INFO - Chain [1] done processing\n",
      "11:38:58 - cmdstanpy - INFO - Chain [1] start processing\n",
      "11:38:58 - cmdstanpy - INFO - Chain [1] start processing\n",
      "11:38:59 - cmdstanpy - INFO - Chain [1] done processing\n",
      "11:38:59 - cmdstanpy - INFO - Chain [1] start processing\n",
      "11:38:59 - cmdstanpy - INFO - Chain [1] start processing\n",
      "11:38:59 - cmdstanpy - INFO - Chain [1] done processing\n",
      "11:39:01 - cmdstanpy - INFO - Chain [1] done processing\n",
      "11:39:06 - cmdstanpy - INFO - Chain [1] done processing\n"
     ]
    },
    {
     "name": "stdout",
     "output_type": "stream",
     "text": [
      "{'changepoint_prior_scale': 0.30100000000000005, 'holidays_prior_scale': 0.01, 'seasonality_mode': 'multiplicative', 'seasonality_prior_scale': 2.51}\n"
     ]
    },
    {
     "name": "stderr",
     "output_type": "stream",
     "text": [
      "11:39:07 - cmdstanpy - INFO - Chain [1] start processing\n",
      "11:39:14 - cmdstanpy - INFO - Chain [1] done processing\n",
      "11:39:16 - cmdstanpy - INFO - Chain [1] start processing\n",
      "11:39:16 - cmdstanpy - INFO - Chain [1] done processing\n",
      "11:39:16 - cmdstanpy - INFO - Chain [1] start processing\n",
      "11:39:17 - cmdstanpy - INFO - Chain [1] start processing\n",
      "11:39:17 - cmdstanpy - INFO - Chain [1] start processing\n",
      "11:39:18 - cmdstanpy - INFO - Chain [1] start processing\n",
      "11:39:18 - cmdstanpy - INFO - Chain [1] done processing\n",
      "11:39:19 - cmdstanpy - INFO - Chain [1] done processing\n",
      "11:39:19 - cmdstanpy - INFO - Chain [1] done processing\n",
      "11:39:24 - cmdstanpy - INFO - Chain [1] done processing\n"
     ]
    },
    {
     "name": "stdout",
     "output_type": "stream",
     "text": [
      "{'changepoint_prior_scale': 0.30100000000000005, 'holidays_prior_scale': 0.01, 'seasonality_mode': 'multiplicative', 'seasonality_prior_scale': 5.01}\n"
     ]
    },
    {
     "name": "stderr",
     "output_type": "stream",
     "text": [
      "11:39:26 - cmdstanpy - INFO - Chain [1] start processing\n",
      "11:39:35 - cmdstanpy - INFO - Chain [1] done processing\n",
      "11:39:36 - cmdstanpy - INFO - Chain [1] start processing\n",
      "11:39:36 - cmdstanpy - INFO - Chain [1] done processing\n",
      "11:39:37 - cmdstanpy - INFO - Chain [1] start processing\n",
      "11:39:37 - cmdstanpy - INFO - Chain [1] start processing\n",
      "11:39:38 - cmdstanpy - INFO - Chain [1] start processing\n",
      "11:39:38 - cmdstanpy - INFO - Chain [1] done processing\n",
      "11:39:38 - cmdstanpy - INFO - Chain [1] start processing\n",
      "11:39:38 - cmdstanpy - INFO - Chain [1] done processing\n",
      "11:39:39 - cmdstanpy - INFO - Chain [1] done processing\n",
      "11:39:44 - cmdstanpy - INFO - Chain [1] done processing\n"
     ]
    },
    {
     "name": "stdout",
     "output_type": "stream",
     "text": [
      "{'changepoint_prior_scale': 0.30100000000000005, 'holidays_prior_scale': 0.01, 'seasonality_mode': 'multiplicative', 'seasonality_prior_scale': 7.51}\n"
     ]
    },
    {
     "name": "stderr",
     "output_type": "stream",
     "text": [
      "11:39:46 - cmdstanpy - INFO - Chain [1] start processing\n",
      "11:39:52 - cmdstanpy - INFO - Chain [1] done processing\n",
      "11:39:54 - cmdstanpy - INFO - Chain [1] start processing\n",
      "11:39:54 - cmdstanpy - INFO - Chain [1] start processing\n",
      "11:39:55 - cmdstanpy - INFO - Chain [1] done processing\n",
      "11:39:55 - cmdstanpy - INFO - Chain [1] start processing\n",
      "11:39:55 - cmdstanpy - INFO - Chain [1] start processing\n",
      "11:39:56 - cmdstanpy - INFO - Chain [1] start processing\n",
      "11:39:56 - cmdstanpy - INFO - Chain [1] done processing\n",
      "11:39:57 - cmdstanpy - INFO - Chain [1] done processing\n",
      "11:39:58 - cmdstanpy - INFO - Chain [1] done processing\n",
      "11:40:02 - cmdstanpy - INFO - Chain [1] done processing\n"
     ]
    },
    {
     "name": "stdout",
     "output_type": "stream",
     "text": [
      "{'changepoint_prior_scale': 0.30100000000000005, 'holidays_prior_scale': 0.01, 'seasonality_mode': 'additive', 'seasonality_prior_scale': 0.01}\n"
     ]
    },
    {
     "name": "stderr",
     "output_type": "stream",
     "text": [
      "11:40:04 - cmdstanpy - INFO - Chain [1] start processing\n",
      "11:40:13 - cmdstanpy - INFO - Chain [1] done processing\n",
      "11:40:15 - cmdstanpy - INFO - Chain [1] start processing\n",
      "11:40:15 - cmdstanpy - INFO - Chain [1] start processing\n",
      "11:40:16 - cmdstanpy - INFO - Chain [1] done processing\n",
      "11:40:16 - cmdstanpy - INFO - Chain [1] start processing\n",
      "11:40:16 - cmdstanpy - INFO - Chain [1] start processing\n",
      "11:40:16 - cmdstanpy - INFO - Chain [1] done processing\n",
      "11:40:17 - cmdstanpy - INFO - Chain [1] start processing\n",
      "11:40:17 - cmdstanpy - INFO - Chain [1] done processing\n",
      "11:40:17 - cmdstanpy - INFO - Chain [1] done processing\n",
      "11:40:24 - cmdstanpy - INFO - Chain [1] done processing\n"
     ]
    },
    {
     "name": "stdout",
     "output_type": "stream",
     "text": [
      "{'changepoint_prior_scale': 0.30100000000000005, 'holidays_prior_scale': 0.01, 'seasonality_mode': 'additive', 'seasonality_prior_scale': 2.51}\n"
     ]
    },
    {
     "name": "stderr",
     "output_type": "stream",
     "text": [
      "11:40:26 - cmdstanpy - INFO - Chain [1] start processing\n",
      "11:40:34 - cmdstanpy - INFO - Chain [1] done processing\n",
      "11:40:35 - cmdstanpy - INFO - Chain [1] start processing\n",
      "11:40:35 - cmdstanpy - INFO - Chain [1] done processing\n",
      "11:40:36 - cmdstanpy - INFO - Chain [1] start processing\n",
      "11:40:36 - cmdstanpy - INFO - Chain [1] start processing\n",
      "11:40:36 - cmdstanpy - INFO - Chain [1] done processing\n",
      "11:40:36 - cmdstanpy - INFO - Chain [1] start processing\n",
      "11:40:37 - cmdstanpy - INFO - Chain [1] start processing\n",
      "11:40:37 - cmdstanpy - INFO - Chain [1] done processing\n",
      "11:40:37 - cmdstanpy - INFO - Chain [1] done processing\n",
      "11:40:44 - cmdstanpy - INFO - Chain [1] done processing\n"
     ]
    },
    {
     "name": "stdout",
     "output_type": "stream",
     "text": [
      "{'changepoint_prior_scale': 0.30100000000000005, 'holidays_prior_scale': 0.01, 'seasonality_mode': 'additive', 'seasonality_prior_scale': 5.01}\n"
     ]
    },
    {
     "name": "stderr",
     "output_type": "stream",
     "text": [
      "11:40:46 - cmdstanpy - INFO - Chain [1] start processing\n",
      "11:40:56 - cmdstanpy - INFO - Chain [1] done processing\n",
      "11:40:58 - cmdstanpy - INFO - Chain [1] start processing\n",
      "11:40:58 - cmdstanpy - INFO - Chain [1] done processing\n",
      "11:40:58 - cmdstanpy - INFO - Chain [1] start processing\n",
      "11:40:58 - cmdstanpy - INFO - Chain [1] start processing\n",
      "11:40:59 - cmdstanpy - INFO - Chain [1] done processing\n",
      "11:40:59 - cmdstanpy - INFO - Chain [1] start processing\n",
      "11:40:59 - cmdstanpy - INFO - Chain [1] start processing\n",
      "11:40:59 - cmdstanpy - INFO - Chain [1] done processing\n",
      "11:41:00 - cmdstanpy - INFO - Chain [1] done processing\n",
      "11:41:06 - cmdstanpy - INFO - Chain [1] done processing\n"
     ]
    },
    {
     "name": "stdout",
     "output_type": "stream",
     "text": [
      "{'changepoint_prior_scale': 0.30100000000000005, 'holidays_prior_scale': 0.01, 'seasonality_mode': 'additive', 'seasonality_prior_scale': 7.51}\n"
     ]
    },
    {
     "name": "stderr",
     "output_type": "stream",
     "text": [
      "11:41:08 - cmdstanpy - INFO - Chain [1] start processing\n",
      "11:41:15 - cmdstanpy - INFO - Chain [1] done processing\n",
      "11:41:17 - cmdstanpy - INFO - Chain [1] start processing\n",
      "11:41:17 - cmdstanpy - INFO - Chain [1] done processing\n",
      "11:41:17 - cmdstanpy - INFO - Chain [1] start processing\n",
      "11:41:18 - cmdstanpy - INFO - Chain [1] start processing\n",
      "11:41:18 - cmdstanpy - INFO - Chain [1] start processing\n",
      "11:41:18 - cmdstanpy - INFO - Chain [1] done processing\n",
      "11:41:18 - cmdstanpy - INFO - Chain [1] start processing\n",
      "11:41:19 - cmdstanpy - INFO - Chain [1] done processing\n",
      "11:41:19 - cmdstanpy - INFO - Chain [1] done processing\n",
      "11:41:26 - cmdstanpy - INFO - Chain [1] done processing\n"
     ]
    },
    {
     "name": "stdout",
     "output_type": "stream",
     "text": [
      "{'changepoint_prior_scale': 0.30100000000000005, 'holidays_prior_scale': 2.51, 'seasonality_mode': 'multiplicative', 'seasonality_prior_scale': 0.01}\n"
     ]
    },
    {
     "name": "stderr",
     "output_type": "stream",
     "text": [
      "11:41:28 - cmdstanpy - INFO - Chain [1] start processing\n",
      "11:41:32 - cmdstanpy - INFO - Chain [1] done processing\n",
      "11:41:33 - cmdstanpy - INFO - Chain [1] start processing\n",
      "11:41:34 - cmdstanpy - INFO - Chain [1] done processing\n",
      "11:41:34 - cmdstanpy - INFO - Chain [1] start processing\n",
      "11:41:34 - cmdstanpy - INFO - Chain [1] start processing\n",
      "11:41:35 - cmdstanpy - INFO - Chain [1] start processing\n",
      "11:41:35 - cmdstanpy - INFO - Chain [1] done processing\n",
      "11:41:35 - cmdstanpy - INFO - Chain [1] start processing\n",
      "11:41:35 - cmdstanpy - INFO - Chain [1] done processing\n",
      "11:41:37 - cmdstanpy - INFO - Chain [1] done processing\n",
      "11:41:38 - cmdstanpy - INFO - Chain [1] done processing\n"
     ]
    },
    {
     "name": "stdout",
     "output_type": "stream",
     "text": [
      "{'changepoint_prior_scale': 0.30100000000000005, 'holidays_prior_scale': 2.51, 'seasonality_mode': 'multiplicative', 'seasonality_prior_scale': 2.51}\n"
     ]
    },
    {
     "name": "stderr",
     "output_type": "stream",
     "text": [
      "11:41:40 - cmdstanpy - INFO - Chain [1] start processing\n",
      "11:41:47 - cmdstanpy - INFO - Chain [1] done processing\n",
      "11:41:49 - cmdstanpy - INFO - Chain [1] start processing\n",
      "11:41:49 - cmdstanpy - INFO - Chain [1] done processing\n",
      "11:41:49 - cmdstanpy - INFO - Chain [1] start processing\n",
      "11:41:49 - cmdstanpy - INFO - Chain [1] start processing\n",
      "11:41:50 - cmdstanpy - INFO - Chain [1] start processing\n",
      "11:41:50 - cmdstanpy - INFO - Chain [1] start processing\n",
      "11:41:50 - cmdstanpy - INFO - Chain [1] done processing\n",
      "11:41:51 - cmdstanpy - INFO - Chain [1] done processing\n",
      "11:41:51 - cmdstanpy - INFO - Chain [1] done processing\n",
      "11:41:57 - cmdstanpy - INFO - Chain [1] done processing\n"
     ]
    },
    {
     "name": "stdout",
     "output_type": "stream",
     "text": [
      "{'changepoint_prior_scale': 0.30100000000000005, 'holidays_prior_scale': 2.51, 'seasonality_mode': 'multiplicative', 'seasonality_prior_scale': 5.01}\n"
     ]
    },
    {
     "name": "stderr",
     "output_type": "stream",
     "text": [
      "11:41:59 - cmdstanpy - INFO - Chain [1] start processing\n",
      "11:42:09 - cmdstanpy - INFO - Chain [1] done processing\n",
      "11:42:11 - cmdstanpy - INFO - Chain [1] start processing\n",
      "11:42:11 - cmdstanpy - INFO - Chain [1] done processing\n",
      "11:42:11 - cmdstanpy - INFO - Chain [1] start processing\n",
      "11:42:11 - cmdstanpy - INFO - Chain [1] start processing\n",
      "11:42:12 - cmdstanpy - INFO - Chain [1] start processing\n",
      "11:42:12 - cmdstanpy - INFO - Chain [1] start processing\n",
      "11:42:12 - cmdstanpy - INFO - Chain [1] done processing\n",
      "11:42:13 - cmdstanpy - INFO - Chain [1] done processing\n",
      "11:42:13 - cmdstanpy - INFO - Chain [1] done processing\n",
      "11:42:20 - cmdstanpy - INFO - Chain [1] done processing\n"
     ]
    },
    {
     "name": "stdout",
     "output_type": "stream",
     "text": [
      "{'changepoint_prior_scale': 0.30100000000000005, 'holidays_prior_scale': 2.51, 'seasonality_mode': 'multiplicative', 'seasonality_prior_scale': 7.51}\n"
     ]
    },
    {
     "name": "stderr",
     "output_type": "stream",
     "text": [
      "11:42:22 - cmdstanpy - INFO - Chain [1] start processing\n",
      "11:42:29 - cmdstanpy - INFO - Chain [1] done processing\n",
      "11:42:31 - cmdstanpy - INFO - Chain [1] start processing\n",
      "11:42:31 - cmdstanpy - INFO - Chain [1] done processing\n",
      "11:42:31 - cmdstanpy - INFO - Chain [1] start processing\n",
      "11:42:32 - cmdstanpy - INFO - Chain [1] start processing\n",
      "11:42:32 - cmdstanpy - INFO - Chain [1] done processing\n",
      "11:42:32 - cmdstanpy - INFO - Chain [1] start processing\n",
      "11:42:33 - cmdstanpy - INFO - Chain [1] done processing\n",
      "11:42:33 - cmdstanpy - INFO - Chain [1] start processing\n",
      "11:42:34 - cmdstanpy - INFO - Chain [1] done processing\n",
      "11:42:40 - cmdstanpy - INFO - Chain [1] done processing\n"
     ]
    },
    {
     "name": "stdout",
     "output_type": "stream",
     "text": [
      "{'changepoint_prior_scale': 0.30100000000000005, 'holidays_prior_scale': 2.51, 'seasonality_mode': 'additive', 'seasonality_prior_scale': 0.01}\n"
     ]
    },
    {
     "name": "stderr",
     "output_type": "stream",
     "text": [
      "11:42:41 - cmdstanpy - INFO - Chain [1] start processing\n",
      "11:42:47 - cmdstanpy - INFO - Chain [1] done processing\n",
      "11:42:49 - cmdstanpy - INFO - Chain [1] start processing\n",
      "11:42:49 - cmdstanpy - INFO - Chain [1] done processing\n",
      "11:42:49 - cmdstanpy - INFO - Chain [1] start processing\n",
      "11:42:50 - cmdstanpy - INFO - Chain [1] start processing\n",
      "11:42:50 - cmdstanpy - INFO - Chain [1] done processing\n",
      "11:42:50 - cmdstanpy - INFO - Chain [1] start processing\n",
      "11:42:50 - cmdstanpy - INFO - Chain [1] done processing\n",
      "11:42:50 - cmdstanpy - INFO - Chain [1] start processing\n",
      "11:42:52 - cmdstanpy - INFO - Chain [1] done processing\n",
      "11:42:58 - cmdstanpy - INFO - Chain [1] done processing\n"
     ]
    },
    {
     "name": "stdout",
     "output_type": "stream",
     "text": [
      "{'changepoint_prior_scale': 0.30100000000000005, 'holidays_prior_scale': 2.51, 'seasonality_mode': 'additive', 'seasonality_prior_scale': 2.51}\n"
     ]
    },
    {
     "name": "stderr",
     "output_type": "stream",
     "text": [
      "11:43:00 - cmdstanpy - INFO - Chain [1] start processing\n",
      "11:43:04 - cmdstanpy - INFO - Chain [1] done processing\n",
      "11:43:06 - cmdstanpy - INFO - Chain [1] start processing\n",
      "11:43:06 - cmdstanpy - INFO - Chain [1] start processing\n",
      "11:43:07 - cmdstanpy - INFO - Chain [1] start processing\n",
      "11:43:07 - cmdstanpy - INFO - Chain [1] done processing\n",
      "11:43:07 - cmdstanpy - INFO - Chain [1] start processing\n",
      "11:43:08 - cmdstanpy - INFO - Chain [1] start processing\n",
      "11:43:08 - cmdstanpy - INFO - Chain [1] done processing\n",
      "11:43:08 - cmdstanpy - INFO - Chain [1] done processing\n",
      "11:43:09 - cmdstanpy - INFO - Chain [1] done processing\n",
      "11:43:17 - cmdstanpy - INFO - Chain [1] done processing\n"
     ]
    },
    {
     "name": "stdout",
     "output_type": "stream",
     "text": [
      "{'changepoint_prior_scale': 0.30100000000000005, 'holidays_prior_scale': 2.51, 'seasonality_mode': 'additive', 'seasonality_prior_scale': 5.01}\n"
     ]
    },
    {
     "name": "stderr",
     "output_type": "stream",
     "text": [
      "11:43:19 - cmdstanpy - INFO - Chain [1] start processing\n",
      "11:43:25 - cmdstanpy - INFO - Chain [1] done processing\n",
      "11:43:26 - cmdstanpy - INFO - Chain [1] start processing\n",
      "11:43:27 - cmdstanpy - INFO - Chain [1] done processing\n",
      "11:43:27 - cmdstanpy - INFO - Chain [1] start processing\n",
      "11:43:27 - cmdstanpy - INFO - Chain [1] start processing\n",
      "11:43:27 - cmdstanpy - INFO - Chain [1] done processing\n",
      "11:43:28 - cmdstanpy - INFO - Chain [1] start processing\n",
      "11:43:28 - cmdstanpy - INFO - Chain [1] done processing\n",
      "11:43:28 - cmdstanpy - INFO - Chain [1] start processing\n",
      "11:43:30 - cmdstanpy - INFO - Chain [1] done processing\n",
      "11:43:35 - cmdstanpy - INFO - Chain [1] done processing\n"
     ]
    },
    {
     "name": "stdout",
     "output_type": "stream",
     "text": [
      "{'changepoint_prior_scale': 0.30100000000000005, 'holidays_prior_scale': 2.51, 'seasonality_mode': 'additive', 'seasonality_prior_scale': 7.51}\n"
     ]
    },
    {
     "name": "stderr",
     "output_type": "stream",
     "text": [
      "11:43:37 - cmdstanpy - INFO - Chain [1] start processing\n",
      "11:43:45 - cmdstanpy - INFO - Chain [1] done processing\n",
      "11:43:46 - cmdstanpy - INFO - Chain [1] start processing\n",
      "11:43:47 - cmdstanpy - INFO - Chain [1] start processing\n",
      "11:43:47 - cmdstanpy - INFO - Chain [1] done processing\n",
      "11:43:47 - cmdstanpy - INFO - Chain [1] done processing\n",
      "11:43:47 - cmdstanpy - INFO - Chain [1] start processing\n",
      "11:43:48 - cmdstanpy - INFO - Chain [1] start processing\n",
      "11:43:48 - cmdstanpy - INFO - Chain [1] start processing\n",
      "11:43:48 - cmdstanpy - INFO - Chain [1] done processing\n",
      "11:43:49 - cmdstanpy - INFO - Chain [1] done processing\n",
      "11:43:54 - cmdstanpy - INFO - Chain [1] done processing\n"
     ]
    },
    {
     "name": "stdout",
     "output_type": "stream",
     "text": [
      "{'changepoint_prior_scale': 0.30100000000000005, 'holidays_prior_scale': 5.01, 'seasonality_mode': 'multiplicative', 'seasonality_prior_scale': 0.01}\n"
     ]
    },
    {
     "name": "stderr",
     "output_type": "stream",
     "text": [
      "11:43:56 - cmdstanpy - INFO - Chain [1] start processing\n",
      "11:44:01 - cmdstanpy - INFO - Chain [1] done processing\n",
      "11:44:02 - cmdstanpy - INFO - Chain [1] start processing\n",
      "11:44:03 - cmdstanpy - INFO - Chain [1] done processing\n",
      "11:44:03 - cmdstanpy - INFO - Chain [1] start processing\n",
      "11:44:03 - cmdstanpy - INFO - Chain [1] start processing\n",
      "11:44:04 - cmdstanpy - INFO - Chain [1] start processing\n",
      "11:44:04 - cmdstanpy - INFO - Chain [1] start processing\n",
      "11:44:04 - cmdstanpy - INFO - Chain [1] done processing\n",
      "11:44:04 - cmdstanpy - INFO - Chain [1] done processing\n",
      "11:44:06 - cmdstanpy - INFO - Chain [1] done processing\n",
      "11:44:07 - cmdstanpy - INFO - Chain [1] done processing\n"
     ]
    },
    {
     "name": "stdout",
     "output_type": "stream",
     "text": [
      "{'changepoint_prior_scale': 0.30100000000000005, 'holidays_prior_scale': 5.01, 'seasonality_mode': 'multiplicative', 'seasonality_prior_scale': 2.51}\n"
     ]
    },
    {
     "name": "stderr",
     "output_type": "stream",
     "text": [
      "11:44:09 - cmdstanpy - INFO - Chain [1] start processing\n",
      "11:44:17 - cmdstanpy - INFO - Chain [1] done processing\n",
      "11:44:19 - cmdstanpy - INFO - Chain [1] start processing\n",
      "11:44:19 - cmdstanpy - INFO - Chain [1] done processing\n",
      "11:44:19 - cmdstanpy - INFO - Chain [1] start processing\n",
      "11:44:20 - cmdstanpy - INFO - Chain [1] start processing\n",
      "11:44:20 - cmdstanpy - INFO - Chain [1] start processing\n",
      "11:44:21 - cmdstanpy - INFO - Chain [1] start processing\n",
      "11:44:21 - cmdstanpy - INFO - Chain [1] done processing\n",
      "11:44:24 - cmdstanpy - INFO - Chain [1] done processing\n",
      "11:44:24 - cmdstanpy - INFO - Chain [1] done processing\n",
      "11:44:31 - cmdstanpy - INFO - Chain [1] done processing\n"
     ]
    },
    {
     "name": "stdout",
     "output_type": "stream",
     "text": [
      "{'changepoint_prior_scale': 0.30100000000000005, 'holidays_prior_scale': 5.01, 'seasonality_mode': 'multiplicative', 'seasonality_prior_scale': 5.01}\n"
     ]
    },
    {
     "name": "stderr",
     "output_type": "stream",
     "text": [
      "11:44:33 - cmdstanpy - INFO - Chain [1] start processing\n",
      "11:44:41 - cmdstanpy - INFO - Chain [1] done processing\n",
      "11:44:43 - cmdstanpy - INFO - Chain [1] start processing\n",
      "11:44:43 - cmdstanpy - INFO - Chain [1] start processing\n",
      "11:44:43 - cmdstanpy - INFO - Chain [1] done processing\n",
      "11:44:43 - cmdstanpy - INFO - Chain [1] start processing\n",
      "11:44:44 - cmdstanpy - INFO - Chain [1] done processing\n",
      "11:44:44 - cmdstanpy - INFO - Chain [1] start processing\n",
      "11:44:44 - cmdstanpy - INFO - Chain [1] start processing\n",
      "11:44:45 - cmdstanpy - INFO - Chain [1] done processing\n",
      "11:44:46 - cmdstanpy - INFO - Chain [1] done processing\n",
      "11:44:50 - cmdstanpy - INFO - Chain [1] done processing\n"
     ]
    },
    {
     "name": "stdout",
     "output_type": "stream",
     "text": [
      "{'changepoint_prior_scale': 0.30100000000000005, 'holidays_prior_scale': 5.01, 'seasonality_mode': 'multiplicative', 'seasonality_prior_scale': 7.51}\n"
     ]
    },
    {
     "name": "stderr",
     "output_type": "stream",
     "text": [
      "11:44:52 - cmdstanpy - INFO - Chain [1] start processing\n",
      "11:44:59 - cmdstanpy - INFO - Chain [1] done processing\n",
      "11:45:01 - cmdstanpy - INFO - Chain [1] start processing\n",
      "11:45:01 - cmdstanpy - INFO - Chain [1] done processing\n",
      "11:45:01 - cmdstanpy - INFO - Chain [1] start processing\n",
      "11:45:02 - cmdstanpy - INFO - Chain [1] start processing\n",
      "11:45:02 - cmdstanpy - INFO - Chain [1] start processing\n",
      "11:45:02 - cmdstanpy - INFO - Chain [1] start processing\n",
      "11:45:02 - cmdstanpy - INFO - Chain [1] done processing\n",
      "11:45:02 - cmdstanpy - INFO - Chain [1] done processing\n",
      "11:45:04 - cmdstanpy - INFO - Chain [1] done processing\n",
      "11:45:09 - cmdstanpy - INFO - Chain [1] done processing\n"
     ]
    },
    {
     "name": "stdout",
     "output_type": "stream",
     "text": [
      "{'changepoint_prior_scale': 0.30100000000000005, 'holidays_prior_scale': 5.01, 'seasonality_mode': 'additive', 'seasonality_prior_scale': 0.01}\n"
     ]
    },
    {
     "name": "stderr",
     "output_type": "stream",
     "text": [
      "11:45:11 - cmdstanpy - INFO - Chain [1] start processing\n",
      "11:45:17 - cmdstanpy - INFO - Chain [1] done processing\n",
      "11:45:19 - cmdstanpy - INFO - Chain [1] start processing\n",
      "11:45:19 - cmdstanpy - INFO - Chain [1] done processing\n",
      "11:45:20 - cmdstanpy - INFO - Chain [1] start processing\n",
      "11:45:20 - cmdstanpy - INFO - Chain [1] start processing\n",
      "11:45:20 - cmdstanpy - INFO - Chain [1] start processing\n",
      "11:45:20 - cmdstanpy - INFO - Chain [1] done processing\n",
      "11:45:20 - cmdstanpy - INFO - Chain [1] done processing\n",
      "11:45:21 - cmdstanpy - INFO - Chain [1] start processing\n",
      "11:45:22 - cmdstanpy - INFO - Chain [1] done processing\n",
      "11:45:29 - cmdstanpy - INFO - Chain [1] done processing\n"
     ]
    },
    {
     "name": "stdout",
     "output_type": "stream",
     "text": [
      "{'changepoint_prior_scale': 0.30100000000000005, 'holidays_prior_scale': 5.01, 'seasonality_mode': 'additive', 'seasonality_prior_scale': 2.51}\n"
     ]
    },
    {
     "name": "stderr",
     "output_type": "stream",
     "text": [
      "11:45:30 - cmdstanpy - INFO - Chain [1] start processing\n",
      "11:45:37 - cmdstanpy - INFO - Chain [1] done processing\n",
      "11:45:39 - cmdstanpy - INFO - Chain [1] start processing\n",
      "11:45:39 - cmdstanpy - INFO - Chain [1] start processing\n",
      "11:45:40 - cmdstanpy - INFO - Chain [1] done processing\n",
      "11:45:40 - cmdstanpy - INFO - Chain [1] start processing\n",
      "11:45:40 - cmdstanpy - INFO - Chain [1] done processing\n",
      "11:45:40 - cmdstanpy - INFO - Chain [1] start processing\n",
      "11:45:41 - cmdstanpy - INFO - Chain [1] start processing\n",
      "11:45:41 - cmdstanpy - INFO - Chain [1] done processing\n",
      "11:45:42 - cmdstanpy - INFO - Chain [1] done processing\n",
      "11:45:49 - cmdstanpy - INFO - Chain [1] done processing\n"
     ]
    },
    {
     "name": "stdout",
     "output_type": "stream",
     "text": [
      "{'changepoint_prior_scale': 0.30100000000000005, 'holidays_prior_scale': 5.01, 'seasonality_mode': 'additive', 'seasonality_prior_scale': 5.01}\n"
     ]
    },
    {
     "name": "stderr",
     "output_type": "stream",
     "text": [
      "11:45:51 - cmdstanpy - INFO - Chain [1] start processing\n",
      "11:46:00 - cmdstanpy - INFO - Chain [1] done processing\n",
      "11:46:01 - cmdstanpy - INFO - Chain [1] start processing\n",
      "11:46:02 - cmdstanpy - INFO - Chain [1] start processing\n",
      "11:46:02 - cmdstanpy - INFO - Chain [1] done processing\n",
      "11:46:02 - cmdstanpy - INFO - Chain [1] start processing\n",
      "11:46:03 - cmdstanpy - INFO - Chain [1] start processing\n",
      "11:46:03 - cmdstanpy - INFO - Chain [1] start processing\n",
      "11:46:03 - cmdstanpy - INFO - Chain [1] done processing\n",
      "11:46:04 - cmdstanpy - INFO - Chain [1] done processing\n",
      "11:46:04 - cmdstanpy - INFO - Chain [1] done processing\n",
      "11:46:12 - cmdstanpy - INFO - Chain [1] done processing\n"
     ]
    },
    {
     "name": "stdout",
     "output_type": "stream",
     "text": [
      "{'changepoint_prior_scale': 0.30100000000000005, 'holidays_prior_scale': 5.01, 'seasonality_mode': 'additive', 'seasonality_prior_scale': 7.51}\n"
     ]
    },
    {
     "name": "stderr",
     "output_type": "stream",
     "text": [
      "11:46:13 - cmdstanpy - INFO - Chain [1] start processing\n",
      "11:46:21 - cmdstanpy - INFO - Chain [1] done processing\n",
      "11:46:23 - cmdstanpy - INFO - Chain [1] start processing\n",
      "11:46:23 - cmdstanpy - INFO - Chain [1] done processing\n",
      "11:46:24 - cmdstanpy - INFO - Chain [1] start processing\n",
      "11:46:24 - cmdstanpy - INFO - Chain [1] start processing\n",
      "11:46:24 - cmdstanpy - INFO - Chain [1] start processing\n",
      "11:46:24 - cmdstanpy - INFO - Chain [1] done processing\n",
      "11:46:25 - cmdstanpy - INFO - Chain [1] start processing\n",
      "11:46:25 - cmdstanpy - INFO - Chain [1] done processing\n",
      "11:46:25 - cmdstanpy - INFO - Chain [1] done processing\n",
      "11:46:31 - cmdstanpy - INFO - Chain [1] done processing\n"
     ]
    },
    {
     "name": "stdout",
     "output_type": "stream",
     "text": [
      "{'changepoint_prior_scale': 0.30100000000000005, 'holidays_prior_scale': 7.51, 'seasonality_mode': 'multiplicative', 'seasonality_prior_scale': 0.01}\n"
     ]
    },
    {
     "name": "stderr",
     "output_type": "stream",
     "text": [
      "11:46:33 - cmdstanpy - INFO - Chain [1] start processing\n",
      "11:46:36 - cmdstanpy - INFO - Chain [1] done processing\n",
      "11:46:38 - cmdstanpy - INFO - Chain [1] start processing\n",
      "11:46:38 - cmdstanpy - INFO - Chain [1] start processing\n",
      "11:46:39 - cmdstanpy - INFO - Chain [1] start processing\n",
      "11:46:39 - cmdstanpy - INFO - Chain [1] start processing\n",
      "11:46:39 - cmdstanpy - INFO - Chain [1] done processing\n",
      "11:46:39 - cmdstanpy - INFO - Chain [1] done processing\n",
      "11:46:39 - cmdstanpy - INFO - Chain [1] done processing\n",
      "11:46:40 - cmdstanpy - INFO - Chain [1] start processing\n",
      "11:46:40 - cmdstanpy - INFO - Chain [1] done processing\n",
      "11:46:43 - cmdstanpy - INFO - Chain [1] done processing\n"
     ]
    },
    {
     "name": "stdout",
     "output_type": "stream",
     "text": [
      "{'changepoint_prior_scale': 0.30100000000000005, 'holidays_prior_scale': 7.51, 'seasonality_mode': 'multiplicative', 'seasonality_prior_scale': 2.51}\n"
     ]
    },
    {
     "name": "stderr",
     "output_type": "stream",
     "text": [
      "11:46:45 - cmdstanpy - INFO - Chain [1] start processing\n",
      "11:46:55 - cmdstanpy - INFO - Chain [1] done processing\n",
      "11:46:57 - cmdstanpy - INFO - Chain [1] start processing\n",
      "11:46:57 - cmdstanpy - INFO - Chain [1] done processing\n",
      "11:46:57 - cmdstanpy - INFO - Chain [1] start processing\n",
      "11:46:57 - cmdstanpy - INFO - Chain [1] start processing\n",
      "11:46:58 - cmdstanpy - INFO - Chain [1] done processing\n",
      "11:46:58 - cmdstanpy - INFO - Chain [1] start processing\n",
      "11:46:58 - cmdstanpy - INFO - Chain [1] done processing\n",
      "11:46:58 - cmdstanpy - INFO - Chain [1] start processing\n",
      "11:46:59 - cmdstanpy - INFO - Chain [1] done processing\n",
      "11:47:05 - cmdstanpy - INFO - Chain [1] done processing\n"
     ]
    },
    {
     "name": "stdout",
     "output_type": "stream",
     "text": [
      "{'changepoint_prior_scale': 0.30100000000000005, 'holidays_prior_scale': 7.51, 'seasonality_mode': 'multiplicative', 'seasonality_prior_scale': 5.01}\n"
     ]
    },
    {
     "name": "stderr",
     "output_type": "stream",
     "text": [
      "11:47:06 - cmdstanpy - INFO - Chain [1] start processing\n",
      "11:47:16 - cmdstanpy - INFO - Chain [1] done processing\n",
      "11:47:18 - cmdstanpy - INFO - Chain [1] start processing\n",
      "11:47:18 - cmdstanpy - INFO - Chain [1] done processing\n",
      "11:47:18 - cmdstanpy - INFO - Chain [1] start processing\n",
      "11:47:19 - cmdstanpy - INFO - Chain [1] start processing\n",
      "11:47:19 - cmdstanpy - INFO - Chain [1] done processing\n",
      "11:47:19 - cmdstanpy - INFO - Chain [1] start processing\n",
      "11:47:19 - cmdstanpy - INFO - Chain [1] done processing\n",
      "11:47:19 - cmdstanpy - INFO - Chain [1] start processing\n",
      "11:47:20 - cmdstanpy - INFO - Chain [1] done processing\n",
      "11:47:27 - cmdstanpy - INFO - Chain [1] done processing\n"
     ]
    },
    {
     "name": "stdout",
     "output_type": "stream",
     "text": [
      "{'changepoint_prior_scale': 0.30100000000000005, 'holidays_prior_scale': 7.51, 'seasonality_mode': 'multiplicative', 'seasonality_prior_scale': 7.51}\n"
     ]
    },
    {
     "name": "stderr",
     "output_type": "stream",
     "text": [
      "11:47:29 - cmdstanpy - INFO - Chain [1] start processing\n",
      "11:47:37 - cmdstanpy - INFO - Chain [1] done processing\n",
      "11:47:39 - cmdstanpy - INFO - Chain [1] start processing\n",
      "11:47:39 - cmdstanpy - INFO - Chain [1] done processing\n",
      "11:47:39 - cmdstanpy - INFO - Chain [1] start processing\n",
      "11:47:40 - cmdstanpy - INFO - Chain [1] start processing\n",
      "11:47:40 - cmdstanpy - INFO - Chain [1] start processing\n",
      "11:47:40 - cmdstanpy - INFO - Chain [1] done processing\n",
      "11:47:40 - cmdstanpy - INFO - Chain [1] start processing\n",
      "11:47:41 - cmdstanpy - INFO - Chain [1] done processing\n",
      "11:47:42 - cmdstanpy - INFO - Chain [1] done processing\n",
      "11:47:47 - cmdstanpy - INFO - Chain [1] done processing\n"
     ]
    },
    {
     "name": "stdout",
     "output_type": "stream",
     "text": [
      "{'changepoint_prior_scale': 0.30100000000000005, 'holidays_prior_scale': 7.51, 'seasonality_mode': 'additive', 'seasonality_prior_scale': 0.01}\n"
     ]
    },
    {
     "name": "stderr",
     "output_type": "stream",
     "text": [
      "11:47:48 - cmdstanpy - INFO - Chain [1] start processing\n",
      "11:47:56 - cmdstanpy - INFO - Chain [1] done processing\n",
      "11:47:57 - cmdstanpy - INFO - Chain [1] start processing\n",
      "11:47:57 - cmdstanpy - INFO - Chain [1] done processing\n",
      "11:47:58 - cmdstanpy - INFO - Chain [1] start processing\n",
      "11:47:58 - cmdstanpy - INFO - Chain [1] done processing\n",
      "11:47:58 - cmdstanpy - INFO - Chain [1] start processing\n",
      "11:47:59 - cmdstanpy - INFO - Chain [1] start processing\n",
      "11:47:59 - cmdstanpy - INFO - Chain [1] start processing\n",
      "11:47:59 - cmdstanpy - INFO - Chain [1] done processing\n",
      "11:48:00 - cmdstanpy - INFO - Chain [1] done processing\n",
      "11:48:07 - cmdstanpy - INFO - Chain [1] done processing\n"
     ]
    },
    {
     "name": "stdout",
     "output_type": "stream",
     "text": [
      "{'changepoint_prior_scale': 0.30100000000000005, 'holidays_prior_scale': 7.51, 'seasonality_mode': 'additive', 'seasonality_prior_scale': 2.51}\n"
     ]
    },
    {
     "name": "stderr",
     "output_type": "stream",
     "text": [
      "11:48:09 - cmdstanpy - INFO - Chain [1] start processing\n",
      "11:48:16 - cmdstanpy - INFO - Chain [1] done processing\n",
      "11:48:18 - cmdstanpy - INFO - Chain [1] start processing\n",
      "11:48:18 - cmdstanpy - INFO - Chain [1] done processing\n",
      "11:48:19 - cmdstanpy - INFO - Chain [1] start processing\n",
      "11:48:19 - cmdstanpy - INFO - Chain [1] start processing\n",
      "11:48:19 - cmdstanpy - INFO - Chain [1] done processing\n",
      "11:48:20 - cmdstanpy - INFO - Chain [1] start processing\n",
      "11:48:20 - cmdstanpy - INFO - Chain [1] start processing\n",
      "11:48:20 - cmdstanpy - INFO - Chain [1] done processing\n",
      "11:48:21 - cmdstanpy - INFO - Chain [1] done processing\n",
      "11:48:28 - cmdstanpy - INFO - Chain [1] done processing\n"
     ]
    },
    {
     "name": "stdout",
     "output_type": "stream",
     "text": [
      "{'changepoint_prior_scale': 0.30100000000000005, 'holidays_prior_scale': 7.51, 'seasonality_mode': 'additive', 'seasonality_prior_scale': 5.01}\n"
     ]
    },
    {
     "name": "stderr",
     "output_type": "stream",
     "text": [
      "11:48:29 - cmdstanpy - INFO - Chain [1] start processing\n",
      "11:48:38 - cmdstanpy - INFO - Chain [1] done processing\n",
      "11:48:39 - cmdstanpy - INFO - Chain [1] start processing\n",
      "11:48:39 - cmdstanpy - INFO - Chain [1] done processing\n",
      "11:48:40 - cmdstanpy - INFO - Chain [1] start processing\n",
      "11:48:40 - cmdstanpy - INFO - Chain [1] start processing\n",
      "11:48:40 - cmdstanpy - INFO - Chain [1] done processing\n",
      "11:48:41 - cmdstanpy - INFO - Chain [1] start processing\n",
      "11:48:41 - cmdstanpy - INFO - Chain [1] start processing\n",
      "11:48:41 - cmdstanpy - INFO - Chain [1] done processing\n",
      "11:48:42 - cmdstanpy - INFO - Chain [1] done processing\n",
      "11:48:48 - cmdstanpy - INFO - Chain [1] done processing\n"
     ]
    },
    {
     "name": "stdout",
     "output_type": "stream",
     "text": [
      "{'changepoint_prior_scale': 0.30100000000000005, 'holidays_prior_scale': 7.51, 'seasonality_mode': 'additive', 'seasonality_prior_scale': 7.51}\n"
     ]
    },
    {
     "name": "stderr",
     "output_type": "stream",
     "text": [
      "11:48:50 - cmdstanpy - INFO - Chain [1] start processing\n",
      "11:48:58 - cmdstanpy - INFO - Chain [1] done processing\n",
      "11:48:59 - cmdstanpy - INFO - Chain [1] start processing\n",
      "11:49:00 - cmdstanpy - INFO - Chain [1] start processing\n",
      "11:49:00 - cmdstanpy - INFO - Chain [1] done processing\n",
      "11:49:00 - cmdstanpy - INFO - Chain [1] start processing\n",
      "11:49:00 - cmdstanpy - INFO - Chain [1] done processing\n",
      "11:49:01 - cmdstanpy - INFO - Chain [1] start processing\n",
      "11:49:01 - cmdstanpy - INFO - Chain [1] done processing\n",
      "11:49:01 - cmdstanpy - INFO - Chain [1] start processing\n",
      "11:49:02 - cmdstanpy - INFO - Chain [1] done processing\n",
      "11:49:07 - cmdstanpy - INFO - Chain [1] done processing\n"
     ]
    },
    {
     "name": "stdout",
     "output_type": "stream",
     "text": [
      "{'changepoint_prior_scale': 0.401, 'holidays_prior_scale': 0.01, 'seasonality_mode': 'multiplicative', 'seasonality_prior_scale': 0.01}\n"
     ]
    },
    {
     "name": "stderr",
     "output_type": "stream",
     "text": [
      "11:49:09 - cmdstanpy - INFO - Chain [1] start processing\n",
      "11:49:18 - cmdstanpy - INFO - Chain [1] done processing\n",
      "11:49:20 - cmdstanpy - INFO - Chain [1] start processing\n",
      "11:49:20 - cmdstanpy - INFO - Chain [1] done processing\n",
      "11:49:20 - cmdstanpy - INFO - Chain [1] start processing\n",
      "11:49:21 - cmdstanpy - INFO - Chain [1] start processing\n",
      "11:49:21 - cmdstanpy - INFO - Chain [1] start processing\n",
      "11:49:21 - cmdstanpy - INFO - Chain [1] start processing\n",
      "11:49:21 - cmdstanpy - INFO - Chain [1] done processing\n",
      "11:49:21 - cmdstanpy - INFO - Chain [1] done processing\n",
      "11:49:22 - cmdstanpy - INFO - Chain [1] done processing\n",
      "11:49:28 - cmdstanpy - INFO - Chain [1] done processing\n"
     ]
    },
    {
     "name": "stdout",
     "output_type": "stream",
     "text": [
      "{'changepoint_prior_scale': 0.401, 'holidays_prior_scale': 0.01, 'seasonality_mode': 'multiplicative', 'seasonality_prior_scale': 2.51}\n"
     ]
    },
    {
     "name": "stderr",
     "output_type": "stream",
     "text": [
      "11:49:29 - cmdstanpy - INFO - Chain [1] start processing\n",
      "11:49:37 - cmdstanpy - INFO - Chain [1] done processing\n",
      "11:49:39 - cmdstanpy - INFO - Chain [1] start processing\n",
      "11:49:39 - cmdstanpy - INFO - Chain [1] start processing\n",
      "11:49:39 - cmdstanpy - INFO - Chain [1] start processing\n",
      "11:49:39 - cmdstanpy - INFO - Chain [1] done processing\n",
      "11:49:40 - cmdstanpy - INFO - Chain [1] start processing\n",
      "11:49:40 - cmdstanpy - INFO - Chain [1] done processing\n",
      "11:49:40 - cmdstanpy - INFO - Chain [1] start processing\n",
      "11:49:41 - cmdstanpy - INFO - Chain [1] done processing\n",
      "11:49:41 - cmdstanpy - INFO - Chain [1] done processing\n",
      "11:49:45 - cmdstanpy - INFO - Chain [1] done processing\n"
     ]
    },
    {
     "name": "stdout",
     "output_type": "stream",
     "text": [
      "{'changepoint_prior_scale': 0.401, 'holidays_prior_scale': 0.01, 'seasonality_mode': 'multiplicative', 'seasonality_prior_scale': 5.01}\n"
     ]
    },
    {
     "name": "stderr",
     "output_type": "stream",
     "text": [
      "11:49:47 - cmdstanpy - INFO - Chain [1] start processing\n",
      "11:49:53 - cmdstanpy - INFO - Chain [1] done processing\n",
      "11:49:54 - cmdstanpy - INFO - Chain [1] start processing\n",
      "11:49:55 - cmdstanpy - INFO - Chain [1] start processing\n",
      "11:49:55 - cmdstanpy - INFO - Chain [1] done processing\n",
      "11:49:55 - cmdstanpy - INFO - Chain [1] start processing\n",
      "11:49:55 - cmdstanpy - INFO - Chain [1] start processing\n",
      "11:49:56 - cmdstanpy - INFO - Chain [1] start processing\n",
      "11:49:57 - cmdstanpy - INFO - Chain [1] done processing\n",
      "11:49:57 - cmdstanpy - INFO - Chain [1] done processing\n",
      "11:49:58 - cmdstanpy - INFO - Chain [1] done processing\n",
      "11:50:05 - cmdstanpy - INFO - Chain [1] done processing\n"
     ]
    },
    {
     "name": "stdout",
     "output_type": "stream",
     "text": [
      "{'changepoint_prior_scale': 0.401, 'holidays_prior_scale': 0.01, 'seasonality_mode': 'multiplicative', 'seasonality_prior_scale': 7.51}\n"
     ]
    },
    {
     "name": "stderr",
     "output_type": "stream",
     "text": [
      "11:50:07 - cmdstanpy - INFO - Chain [1] start processing\n",
      "11:50:15 - cmdstanpy - INFO - Chain [1] done processing\n",
      "11:50:17 - cmdstanpy - INFO - Chain [1] start processing\n",
      "11:50:18 - cmdstanpy - INFO - Chain [1] start processing\n",
      "11:50:18 - cmdstanpy - INFO - Chain [1] start processing\n",
      "11:50:18 - cmdstanpy - INFO - Chain [1] done processing\n",
      "11:50:19 - cmdstanpy - INFO - Chain [1] start processing\n",
      "11:50:19 - cmdstanpy - INFO - Chain [1] start processing\n",
      "11:50:19 - cmdstanpy - INFO - Chain [1] done processing\n",
      "11:50:19 - cmdstanpy - INFO - Chain [1] done processing\n",
      "11:50:20 - cmdstanpy - INFO - Chain [1] done processing\n",
      "11:50:24 - cmdstanpy - INFO - Chain [1] done processing\n"
     ]
    },
    {
     "name": "stdout",
     "output_type": "stream",
     "text": [
      "{'changepoint_prior_scale': 0.401, 'holidays_prior_scale': 0.01, 'seasonality_mode': 'additive', 'seasonality_prior_scale': 0.01}\n"
     ]
    },
    {
     "name": "stderr",
     "output_type": "stream",
     "text": [
      "11:50:26 - cmdstanpy - INFO - Chain [1] start processing\n",
      "11:50:33 - cmdstanpy - INFO - Chain [1] done processing\n",
      "11:50:34 - cmdstanpy - INFO - Chain [1] start processing\n",
      "11:50:35 - cmdstanpy - INFO - Chain [1] done processing\n",
      "11:50:35 - cmdstanpy - INFO - Chain [1] start processing\n",
      "11:50:35 - cmdstanpy - INFO - Chain [1] start processing\n",
      "11:50:35 - cmdstanpy - INFO - Chain [1] start processing\n",
      "11:50:36 - cmdstanpy - INFO - Chain [1] start processing\n",
      "11:50:36 - cmdstanpy - INFO - Chain [1] done processing\n",
      "11:50:37 - cmdstanpy - INFO - Chain [1] done processing\n",
      "11:50:37 - cmdstanpy - INFO - Chain [1] done processing\n",
      "11:50:44 - cmdstanpy - INFO - Chain [1] done processing\n"
     ]
    },
    {
     "name": "stdout",
     "output_type": "stream",
     "text": [
      "{'changepoint_prior_scale': 0.401, 'holidays_prior_scale': 0.01, 'seasonality_mode': 'additive', 'seasonality_prior_scale': 2.51}\n"
     ]
    },
    {
     "name": "stderr",
     "output_type": "stream",
     "text": [
      "11:50:45 - cmdstanpy - INFO - Chain [1] start processing\n",
      "11:50:56 - cmdstanpy - INFO - Chain [1] done processing\n",
      "11:50:57 - cmdstanpy - INFO - Chain [1] start processing\n",
      "11:50:58 - cmdstanpy - INFO - Chain [1] done processing\n",
      "11:50:58 - cmdstanpy - INFO - Chain [1] start processing\n",
      "11:50:58 - cmdstanpy - INFO - Chain [1] start processing\n",
      "11:50:59 - cmdstanpy - INFO - Chain [1] done processing\n",
      "11:50:59 - cmdstanpy - INFO - Chain [1] start processing\n",
      "11:50:59 - cmdstanpy - INFO - Chain [1] start processing\n",
      "11:50:59 - cmdstanpy - INFO - Chain [1] done processing\n",
      "11:51:00 - cmdstanpy - INFO - Chain [1] done processing\n",
      "11:51:06 - cmdstanpy - INFO - Chain [1] done processing\n"
     ]
    },
    {
     "name": "stdout",
     "output_type": "stream",
     "text": [
      "{'changepoint_prior_scale': 0.401, 'holidays_prior_scale': 0.01, 'seasonality_mode': 'additive', 'seasonality_prior_scale': 5.01}\n"
     ]
    },
    {
     "name": "stderr",
     "output_type": "stream",
     "text": [
      "11:51:08 - cmdstanpy - INFO - Chain [1] start processing\n",
      "11:51:19 - cmdstanpy - INFO - Chain [1] done processing\n",
      "11:51:21 - cmdstanpy - INFO - Chain [1] start processing\n",
      "11:51:21 - cmdstanpy - INFO - Chain [1] done processing\n",
      "11:51:21 - cmdstanpy - INFO - Chain [1] start processing\n",
      "11:51:22 - cmdstanpy - INFO - Chain [1] start processing\n",
      "11:51:22 - cmdstanpy - INFO - Chain [1] done processing\n",
      "11:51:22 - cmdstanpy - INFO - Chain [1] start processing\n",
      "11:51:22 - cmdstanpy - INFO - Chain [1] start processing\n",
      "11:51:23 - cmdstanpy - INFO - Chain [1] done processing\n",
      "11:51:23 - cmdstanpy - INFO - Chain [1] done processing\n",
      "11:51:29 - cmdstanpy - INFO - Chain [1] done processing\n"
     ]
    },
    {
     "name": "stdout",
     "output_type": "stream",
     "text": [
      "{'changepoint_prior_scale': 0.401, 'holidays_prior_scale': 0.01, 'seasonality_mode': 'additive', 'seasonality_prior_scale': 7.51}\n"
     ]
    },
    {
     "name": "stderr",
     "output_type": "stream",
     "text": [
      "11:51:31 - cmdstanpy - INFO - Chain [1] start processing\n",
      "11:51:39 - cmdstanpy - INFO - Chain [1] done processing\n",
      "11:51:41 - cmdstanpy - INFO - Chain [1] start processing\n",
      "11:51:41 - cmdstanpy - INFO - Chain [1] done processing\n",
      "11:51:41 - cmdstanpy - INFO - Chain [1] start processing\n",
      "11:51:42 - cmdstanpy - INFO - Chain [1] start processing\n",
      "11:51:42 - cmdstanpy - INFO - Chain [1] done processing\n",
      "11:51:42 - cmdstanpy - INFO - Chain [1] start processing\n",
      "11:51:42 - cmdstanpy - INFO - Chain [1] done processing\n",
      "11:51:43 - cmdstanpy - INFO - Chain [1] start processing\n",
      "11:51:43 - cmdstanpy - INFO - Chain [1] done processing\n",
      "11:51:50 - cmdstanpy - INFO - Chain [1] done processing\n"
     ]
    },
    {
     "name": "stdout",
     "output_type": "stream",
     "text": [
      "{'changepoint_prior_scale': 0.401, 'holidays_prior_scale': 2.51, 'seasonality_mode': 'multiplicative', 'seasonality_prior_scale': 0.01}\n"
     ]
    },
    {
     "name": "stderr",
     "output_type": "stream",
     "text": [
      "11:51:51 - cmdstanpy - INFO - Chain [1] start processing\n",
      "11:51:53 - cmdstanpy - INFO - Chain [1] done processing\n",
      "11:51:55 - cmdstanpy - INFO - Chain [1] start processing\n",
      "11:51:55 - cmdstanpy - INFO - Chain [1] done processing\n",
      "11:51:55 - cmdstanpy - INFO - Chain [1] start processing\n",
      "11:51:56 - cmdstanpy - INFO - Chain [1] start processing\n",
      "11:51:56 - cmdstanpy - INFO - Chain [1] start processing\n",
      "11:51:56 - cmdstanpy - INFO - Chain [1] start processing\n",
      "11:51:56 - cmdstanpy - INFO - Chain [1] done processing\n",
      "11:51:57 - cmdstanpy - INFO - Chain [1] done processing\n",
      "11:51:58 - cmdstanpy - INFO - Chain [1] done processing\n",
      "11:52:00 - cmdstanpy - INFO - Chain [1] done processing\n"
     ]
    },
    {
     "name": "stdout",
     "output_type": "stream",
     "text": [
      "{'changepoint_prior_scale': 0.401, 'holidays_prior_scale': 2.51, 'seasonality_mode': 'multiplicative', 'seasonality_prior_scale': 2.51}\n"
     ]
    },
    {
     "name": "stderr",
     "output_type": "stream",
     "text": [
      "11:52:02 - cmdstanpy - INFO - Chain [1] start processing\n",
      "11:52:10 - cmdstanpy - INFO - Chain [1] done processing\n",
      "11:52:11 - cmdstanpy - INFO - Chain [1] start processing\n",
      "11:52:12 - cmdstanpy - INFO - Chain [1] done processing\n",
      "11:52:12 - cmdstanpy - INFO - Chain [1] start processing\n",
      "11:52:12 - cmdstanpy - INFO - Chain [1] start processing\n",
      "11:52:13 - cmdstanpy - INFO - Chain [1] start processing\n",
      "11:52:13 - cmdstanpy - INFO - Chain [1] start processing\n",
      "11:52:13 - cmdstanpy - INFO - Chain [1] done processing\n",
      "11:52:14 - cmdstanpy - INFO - Chain [1] done processing\n",
      "11:52:14 - cmdstanpy - INFO - Chain [1] done processing\n",
      "11:52:20 - cmdstanpy - INFO - Chain [1] done processing\n"
     ]
    },
    {
     "name": "stdout",
     "output_type": "stream",
     "text": [
      "{'changepoint_prior_scale': 0.401, 'holidays_prior_scale': 2.51, 'seasonality_mode': 'multiplicative', 'seasonality_prior_scale': 5.01}\n"
     ]
    },
    {
     "name": "stderr",
     "output_type": "stream",
     "text": [
      "11:52:21 - cmdstanpy - INFO - Chain [1] start processing\n",
      "11:52:28 - cmdstanpy - INFO - Chain [1] done processing\n",
      "11:52:30 - cmdstanpy - INFO - Chain [1] start processing\n",
      "11:52:30 - cmdstanpy - INFO - Chain [1] start processing\n",
      "11:52:30 - cmdstanpy - INFO - Chain [1] done processing\n",
      "11:52:31 - cmdstanpy - INFO - Chain [1] start processing\n",
      "11:52:31 - cmdstanpy - INFO - Chain [1] start processing\n",
      "11:52:31 - cmdstanpy - INFO - Chain [1] done processing\n",
      "11:52:31 - cmdstanpy - INFO - Chain [1] start processing\n",
      "11:52:32 - cmdstanpy - INFO - Chain [1] done processing\n",
      "11:52:33 - cmdstanpy - INFO - Chain [1] done processing\n",
      "11:52:38 - cmdstanpy - INFO - Chain [1] done processing\n"
     ]
    },
    {
     "name": "stdout",
     "output_type": "stream",
     "text": [
      "{'changepoint_prior_scale': 0.401, 'holidays_prior_scale': 2.51, 'seasonality_mode': 'multiplicative', 'seasonality_prior_scale': 7.51}\n"
     ]
    },
    {
     "name": "stderr",
     "output_type": "stream",
     "text": [
      "11:52:39 - cmdstanpy - INFO - Chain [1] start processing\n",
      "11:52:49 - cmdstanpy - INFO - Chain [1] done processing\n",
      "11:52:51 - cmdstanpy - INFO - Chain [1] start processing\n",
      "11:52:51 - cmdstanpy - INFO - Chain [1] done processing\n",
      "11:52:51 - cmdstanpy - INFO - Chain [1] start processing\n",
      "11:52:52 - cmdstanpy - INFO - Chain [1] start processing\n",
      "11:52:52 - cmdstanpy - INFO - Chain [1] start processing\n",
      "11:52:52 - cmdstanpy - INFO - Chain [1] done processing\n",
      "11:52:52 - cmdstanpy - INFO - Chain [1] done processing\n",
      "11:52:53 - cmdstanpy - INFO - Chain [1] start processing\n",
      "11:52:54 - cmdstanpy - INFO - Chain [1] done processing\n",
      "11:52:59 - cmdstanpy - INFO - Chain [1] done processing\n"
     ]
    },
    {
     "name": "stdout",
     "output_type": "stream",
     "text": [
      "{'changepoint_prior_scale': 0.401, 'holidays_prior_scale': 2.51, 'seasonality_mode': 'additive', 'seasonality_prior_scale': 0.01}\n"
     ]
    },
    {
     "name": "stderr",
     "output_type": "stream",
     "text": [
      "11:53:01 - cmdstanpy - INFO - Chain [1] start processing\n",
      "11:53:11 - cmdstanpy - INFO - Chain [1] done processing\n",
      "11:53:13 - cmdstanpy - INFO - Chain [1] start processing\n",
      "11:53:13 - cmdstanpy - INFO - Chain [1] done processing\n",
      "11:53:13 - cmdstanpy - INFO - Chain [1] start processing\n",
      "11:53:13 - cmdstanpy - INFO - Chain [1] start processing\n",
      "11:53:14 - cmdstanpy - INFO - Chain [1] start processing\n",
      "11:53:14 - cmdstanpy - INFO - Chain [1] done processing\n",
      "11:53:14 - cmdstanpy - INFO - Chain [1] start processing\n",
      "11:53:15 - cmdstanpy - INFO - Chain [1] done processing\n",
      "11:53:15 - cmdstanpy - INFO - Chain [1] done processing\n",
      "11:53:21 - cmdstanpy - INFO - Chain [1] done processing\n"
     ]
    },
    {
     "name": "stdout",
     "output_type": "stream",
     "text": [
      "{'changepoint_prior_scale': 0.401, 'holidays_prior_scale': 2.51, 'seasonality_mode': 'additive', 'seasonality_prior_scale': 2.51}\n"
     ]
    },
    {
     "name": "stderr",
     "output_type": "stream",
     "text": [
      "11:53:23 - cmdstanpy - INFO - Chain [1] start processing\n",
      "11:53:32 - cmdstanpy - INFO - Chain [1] done processing\n",
      "11:53:33 - cmdstanpy - INFO - Chain [1] start processing\n",
      "11:53:34 - cmdstanpy - INFO - Chain [1] done processing\n",
      "11:53:34 - cmdstanpy - INFO - Chain [1] start processing\n",
      "11:53:34 - cmdstanpy - INFO - Chain [1] start processing\n",
      "11:53:35 - cmdstanpy - INFO - Chain [1] start processing\n",
      "11:53:35 - cmdstanpy - INFO - Chain [1] done processing\n",
      "11:53:35 - cmdstanpy - INFO - Chain [1] start processing\n",
      "11:53:35 - cmdstanpy - INFO - Chain [1] done processing\n",
      "11:53:36 - cmdstanpy - INFO - Chain [1] done processing\n",
      "11:53:42 - cmdstanpy - INFO - Chain [1] done processing\n"
     ]
    },
    {
     "name": "stdout",
     "output_type": "stream",
     "text": [
      "{'changepoint_prior_scale': 0.401, 'holidays_prior_scale': 2.51, 'seasonality_mode': 'additive', 'seasonality_prior_scale': 5.01}\n"
     ]
    },
    {
     "name": "stderr",
     "output_type": "stream",
     "text": [
      "11:53:44 - cmdstanpy - INFO - Chain [1] start processing\n",
      "11:53:53 - cmdstanpy - INFO - Chain [1] done processing\n",
      "11:53:55 - cmdstanpy - INFO - Chain [1] start processing\n",
      "11:53:55 - cmdstanpy - INFO - Chain [1] done processing\n",
      "11:53:55 - cmdstanpy - INFO - Chain [1] start processing\n",
      "11:53:56 - cmdstanpy - INFO - Chain [1] start processing\n",
      "11:53:56 - cmdstanpy - INFO - Chain [1] done processing\n",
      "11:53:56 - cmdstanpy - INFO - Chain [1] start processing\n",
      "11:53:56 - cmdstanpy - INFO - Chain [1] done processing\n",
      "11:53:57 - cmdstanpy - INFO - Chain [1] start processing\n",
      "11:53:57 - cmdstanpy - INFO - Chain [1] done processing\n",
      "11:54:03 - cmdstanpy - INFO - Chain [1] done processing\n"
     ]
    },
    {
     "name": "stdout",
     "output_type": "stream",
     "text": [
      "{'changepoint_prior_scale': 0.401, 'holidays_prior_scale': 2.51, 'seasonality_mode': 'additive', 'seasonality_prior_scale': 7.51}\n"
     ]
    },
    {
     "name": "stderr",
     "output_type": "stream",
     "text": [
      "11:54:04 - cmdstanpy - INFO - Chain [1] start processing\n",
      "11:54:14 - cmdstanpy - INFO - Chain [1] done processing\n",
      "11:54:16 - cmdstanpy - INFO - Chain [1] start processing\n",
      "11:54:16 - cmdstanpy - INFO - Chain [1] done processing\n",
      "11:54:16 - cmdstanpy - INFO - Chain [1] start processing\n",
      "11:54:17 - cmdstanpy - INFO - Chain [1] start processing\n",
      "11:54:17 - cmdstanpy - INFO - Chain [1] done processing\n",
      "11:54:17 - cmdstanpy - INFO - Chain [1] start processing\n",
      "11:54:17 - cmdstanpy - INFO - Chain [1] done processing\n",
      "11:54:18 - cmdstanpy - INFO - Chain [1] start processing\n",
      "11:54:18 - cmdstanpy - INFO - Chain [1] done processing\n",
      "11:54:26 - cmdstanpy - INFO - Chain [1] done processing\n"
     ]
    },
    {
     "name": "stdout",
     "output_type": "stream",
     "text": [
      "{'changepoint_prior_scale': 0.401, 'holidays_prior_scale': 5.01, 'seasonality_mode': 'multiplicative', 'seasonality_prior_scale': 0.01}\n"
     ]
    },
    {
     "name": "stderr",
     "output_type": "stream",
     "text": [
      "11:54:27 - cmdstanpy - INFO - Chain [1] start processing\n",
      "11:54:30 - cmdstanpy - INFO - Chain [1] done processing\n",
      "11:54:32 - cmdstanpy - INFO - Chain [1] start processing\n",
      "11:54:33 - cmdstanpy - INFO - Chain [1] start processing\n",
      "11:54:33 - cmdstanpy - INFO - Chain [1] done processing\n",
      "11:54:33 - cmdstanpy - INFO - Chain [1] start processing\n",
      "11:54:33 - cmdstanpy - INFO - Chain [1] done processing\n",
      "11:54:33 - cmdstanpy - INFO - Chain [1] start processing\n",
      "11:54:34 - cmdstanpy - INFO - Chain [1] done processing\n",
      "11:54:34 - cmdstanpy - INFO - Chain [1] start processing\n",
      "11:54:35 - cmdstanpy - INFO - Chain [1] done processing\n",
      "11:54:37 - cmdstanpy - INFO - Chain [1] done processing\n"
     ]
    },
    {
     "name": "stdout",
     "output_type": "stream",
     "text": [
      "{'changepoint_prior_scale': 0.401, 'holidays_prior_scale': 5.01, 'seasonality_mode': 'multiplicative', 'seasonality_prior_scale': 2.51}\n"
     ]
    },
    {
     "name": "stderr",
     "output_type": "stream",
     "text": [
      "11:54:39 - cmdstanpy - INFO - Chain [1] start processing\n",
      "11:54:47 - cmdstanpy - INFO - Chain [1] done processing\n",
      "11:54:49 - cmdstanpy - INFO - Chain [1] start processing\n",
      "11:54:49 - cmdstanpy - INFO - Chain [1] done processing\n",
      "11:54:49 - cmdstanpy - INFO - Chain [1] start processing\n",
      "11:54:50 - cmdstanpy - INFO - Chain [1] start processing\n",
      "11:54:50 - cmdstanpy - INFO - Chain [1] start processing\n",
      "11:54:50 - cmdstanpy - INFO - Chain [1] start processing\n",
      "11:54:50 - cmdstanpy - INFO - Chain [1] done processing\n",
      "11:54:50 - cmdstanpy - INFO - Chain [1] done processing\n",
      "11:54:52 - cmdstanpy - INFO - Chain [1] done processing\n",
      "11:54:58 - cmdstanpy - INFO - Chain [1] done processing\n"
     ]
    },
    {
     "name": "stdout",
     "output_type": "stream",
     "text": [
      "{'changepoint_prior_scale': 0.401, 'holidays_prior_scale': 5.01, 'seasonality_mode': 'multiplicative', 'seasonality_prior_scale': 5.01}\n"
     ]
    },
    {
     "name": "stderr",
     "output_type": "stream",
     "text": [
      "11:55:00 - cmdstanpy - INFO - Chain [1] start processing\n",
      "11:55:08 - cmdstanpy - INFO - Chain [1] done processing\n",
      "11:55:10 - cmdstanpy - INFO - Chain [1] start processing\n",
      "11:55:10 - cmdstanpy - INFO - Chain [1] start processing\n",
      "11:55:10 - cmdstanpy - INFO - Chain [1] done processing\n",
      "11:55:10 - cmdstanpy - INFO - Chain [1] start processing\n",
      "11:55:11 - cmdstanpy - INFO - Chain [1] start processing\n",
      "11:55:11 - cmdstanpy - INFO - Chain [1] start processing\n",
      "11:55:11 - cmdstanpy - INFO - Chain [1] done processing\n",
      "11:55:12 - cmdstanpy - INFO - Chain [1] done processing\n",
      "11:55:12 - cmdstanpy - INFO - Chain [1] done processing\n",
      "11:55:18 - cmdstanpy - INFO - Chain [1] done processing\n"
     ]
    },
    {
     "name": "stdout",
     "output_type": "stream",
     "text": [
      "{'changepoint_prior_scale': 0.401, 'holidays_prior_scale': 5.01, 'seasonality_mode': 'multiplicative', 'seasonality_prior_scale': 7.51}\n"
     ]
    },
    {
     "name": "stderr",
     "output_type": "stream",
     "text": [
      "11:55:20 - cmdstanpy - INFO - Chain [1] start processing\n",
      "11:55:27 - cmdstanpy - INFO - Chain [1] done processing\n",
      "11:55:29 - cmdstanpy - INFO - Chain [1] start processing\n",
      "11:55:29 - cmdstanpy - INFO - Chain [1] start processing\n",
      "11:55:29 - cmdstanpy - INFO - Chain [1] done processing\n",
      "11:55:29 - cmdstanpy - INFO - Chain [1] start processing\n",
      "11:55:30 - cmdstanpy - INFO - Chain [1] start processing\n",
      "11:55:30 - cmdstanpy - INFO - Chain [1] done processing\n",
      "11:55:30 - cmdstanpy - INFO - Chain [1] done processing\n",
      "11:55:30 - cmdstanpy - INFO - Chain [1] start processing\n",
      "11:55:31 - cmdstanpy - INFO - Chain [1] done processing\n",
      "11:55:38 - cmdstanpy - INFO - Chain [1] done processing\n"
     ]
    },
    {
     "name": "stdout",
     "output_type": "stream",
     "text": [
      "{'changepoint_prior_scale': 0.401, 'holidays_prior_scale': 5.01, 'seasonality_mode': 'additive', 'seasonality_prior_scale': 0.01}\n"
     ]
    },
    {
     "name": "stderr",
     "output_type": "stream",
     "text": [
      "11:55:40 - cmdstanpy - INFO - Chain [1] start processing\n",
      "11:55:47 - cmdstanpy - INFO - Chain [1] done processing\n",
      "11:55:49 - cmdstanpy - INFO - Chain [1] start processing\n",
      "11:55:49 - cmdstanpy - INFO - Chain [1] done processing\n",
      "11:55:49 - cmdstanpy - INFO - Chain [1] start processing\n",
      "11:55:49 - cmdstanpy - INFO - Chain [1] start processing\n",
      "11:55:50 - cmdstanpy - INFO - Chain [1] done processing\n",
      "11:55:50 - cmdstanpy - INFO - Chain [1] start processing\n",
      "11:55:50 - cmdstanpy - INFO - Chain [1] start processing\n",
      "11:55:51 - cmdstanpy - INFO - Chain [1] done processing\n",
      "11:55:51 - cmdstanpy - INFO - Chain [1] done processing\n",
      "11:55:58 - cmdstanpy - INFO - Chain [1] done processing\n"
     ]
    },
    {
     "name": "stdout",
     "output_type": "stream",
     "text": [
      "{'changepoint_prior_scale': 0.401, 'holidays_prior_scale': 5.01, 'seasonality_mode': 'additive', 'seasonality_prior_scale': 2.51}\n"
     ]
    },
    {
     "name": "stderr",
     "output_type": "stream",
     "text": [
      "11:55:59 - cmdstanpy - INFO - Chain [1] start processing\n",
      "11:56:07 - cmdstanpy - INFO - Chain [1] done processing\n",
      "11:56:08 - cmdstanpy - INFO - Chain [1] start processing\n",
      "11:56:08 - cmdstanpy - INFO - Chain [1] done processing\n",
      "11:56:09 - cmdstanpy - INFO - Chain [1] start processing\n",
      "11:56:09 - cmdstanpy - INFO - Chain [1] start processing\n",
      "11:56:09 - cmdstanpy - INFO - Chain [1] done processing\n",
      "11:56:10 - cmdstanpy - INFO - Chain [1] start processing\n",
      "11:56:10 - cmdstanpy - INFO - Chain [1] done processing\n",
      "11:56:10 - cmdstanpy - INFO - Chain [1] start processing\n",
      "11:56:11 - cmdstanpy - INFO - Chain [1] done processing\n",
      "11:56:19 - cmdstanpy - INFO - Chain [1] done processing\n"
     ]
    },
    {
     "name": "stdout",
     "output_type": "stream",
     "text": [
      "{'changepoint_prior_scale': 0.401, 'holidays_prior_scale': 5.01, 'seasonality_mode': 'additive', 'seasonality_prior_scale': 5.01}\n"
     ]
    },
    {
     "name": "stderr",
     "output_type": "stream",
     "text": [
      "11:56:21 - cmdstanpy - INFO - Chain [1] start processing\n",
      "11:56:29 - cmdstanpy - INFO - Chain [1] done processing\n",
      "11:56:31 - cmdstanpy - INFO - Chain [1] start processing\n",
      "11:56:31 - cmdstanpy - INFO - Chain [1] start processing\n",
      "11:56:31 - cmdstanpy - INFO - Chain [1] done processing\n",
      "11:56:32 - cmdstanpy - INFO - Chain [1] start processing\n",
      "11:56:32 - cmdstanpy - INFO - Chain [1] done processing\n",
      "11:56:32 - cmdstanpy - INFO - Chain [1] start processing\n",
      "11:56:32 - cmdstanpy - INFO - Chain [1] done processing\n",
      "11:56:33 - cmdstanpy - INFO - Chain [1] start processing\n",
      "11:56:33 - cmdstanpy - INFO - Chain [1] done processing\n",
      "11:56:39 - cmdstanpy - INFO - Chain [1] done processing\n"
     ]
    },
    {
     "name": "stdout",
     "output_type": "stream",
     "text": [
      "{'changepoint_prior_scale': 0.401, 'holidays_prior_scale': 5.01, 'seasonality_mode': 'additive', 'seasonality_prior_scale': 7.51}\n"
     ]
    },
    {
     "name": "stderr",
     "output_type": "stream",
     "text": [
      "11:56:40 - cmdstanpy - INFO - Chain [1] start processing\n",
      "11:56:48 - cmdstanpy - INFO - Chain [1] done processing\n",
      "11:56:49 - cmdstanpy - INFO - Chain [1] start processing\n",
      "11:56:50 - cmdstanpy - INFO - Chain [1] done processing\n",
      "11:56:50 - cmdstanpy - INFO - Chain [1] start processing\n",
      "11:56:50 - cmdstanpy - INFO - Chain [1] start processing\n",
      "11:56:50 - cmdstanpy - INFO - Chain [1] done processing\n",
      "11:56:51 - cmdstanpy - INFO - Chain [1] start processing\n",
      "11:56:51 - cmdstanpy - INFO - Chain [1] start processing\n",
      "11:56:51 - cmdstanpy - INFO - Chain [1] done processing\n",
      "11:56:52 - cmdstanpy - INFO - Chain [1] done processing\n",
      "11:56:57 - cmdstanpy - INFO - Chain [1] done processing\n"
     ]
    },
    {
     "name": "stdout",
     "output_type": "stream",
     "text": [
      "{'changepoint_prior_scale': 0.401, 'holidays_prior_scale': 7.51, 'seasonality_mode': 'multiplicative', 'seasonality_prior_scale': 0.01}\n"
     ]
    },
    {
     "name": "stderr",
     "output_type": "stream",
     "text": [
      "11:56:59 - cmdstanpy - INFO - Chain [1] start processing\n",
      "11:57:02 - cmdstanpy - INFO - Chain [1] done processing\n",
      "11:57:03 - cmdstanpy - INFO - Chain [1] start processing\n",
      "11:57:04 - cmdstanpy - INFO - Chain [1] done processing\n",
      "11:57:04 - cmdstanpy - INFO - Chain [1] start processing\n",
      "11:57:04 - cmdstanpy - INFO - Chain [1] start processing\n",
      "11:57:05 - cmdstanpy - INFO - Chain [1] start processing\n",
      "11:57:05 - cmdstanpy - INFO - Chain [1] start processing\n",
      "11:57:05 - cmdstanpy - INFO - Chain [1] done processing\n",
      "11:57:05 - cmdstanpy - INFO - Chain [1] done processing\n",
      "11:57:07 - cmdstanpy - INFO - Chain [1] done processing\n",
      "11:57:08 - cmdstanpy - INFO - Chain [1] done processing\n"
     ]
    },
    {
     "name": "stdout",
     "output_type": "stream",
     "text": [
      "{'changepoint_prior_scale': 0.401, 'holidays_prior_scale': 7.51, 'seasonality_mode': 'multiplicative', 'seasonality_prior_scale': 2.51}\n"
     ]
    },
    {
     "name": "stderr",
     "output_type": "stream",
     "text": [
      "11:57:09 - cmdstanpy - INFO - Chain [1] start processing\n",
      "11:57:17 - cmdstanpy - INFO - Chain [1] done processing\n",
      "11:57:18 - cmdstanpy - INFO - Chain [1] start processing\n",
      "11:57:19 - cmdstanpy - INFO - Chain [1] start processing\n",
      "11:57:19 - cmdstanpy - INFO - Chain [1] done processing\n",
      "11:57:19 - cmdstanpy - INFO - Chain [1] start processing\n",
      "11:57:19 - cmdstanpy - INFO - Chain [1] start processing\n",
      "11:57:20 - cmdstanpy - INFO - Chain [1] done processing\n",
      "11:57:20 - cmdstanpy - INFO - Chain [1] start processing\n",
      "11:57:20 - cmdstanpy - INFO - Chain [1] done processing\n",
      "11:57:21 - cmdstanpy - INFO - Chain [1] done processing\n",
      "11:57:26 - cmdstanpy - INFO - Chain [1] done processing\n"
     ]
    },
    {
     "name": "stdout",
     "output_type": "stream",
     "text": [
      "{'changepoint_prior_scale': 0.401, 'holidays_prior_scale': 7.51, 'seasonality_mode': 'multiplicative', 'seasonality_prior_scale': 5.01}\n"
     ]
    },
    {
     "name": "stderr",
     "output_type": "stream",
     "text": [
      "11:57:28 - cmdstanpy - INFO - Chain [1] start processing\n",
      "11:57:38 - cmdstanpy - INFO - Chain [1] done processing\n",
      "11:57:39 - cmdstanpy - INFO - Chain [1] start processing\n",
      "11:57:40 - cmdstanpy - INFO - Chain [1] start processing\n",
      "11:57:40 - cmdstanpy - INFO - Chain [1] done processing\n",
      "11:57:40 - cmdstanpy - INFO - Chain [1] start processing\n",
      "11:57:40 - cmdstanpy - INFO - Chain [1] done processing\n",
      "11:57:41 - cmdstanpy - INFO - Chain [1] start processing\n",
      "11:57:41 - cmdstanpy - INFO - Chain [1] start processing\n",
      "11:57:41 - cmdstanpy - INFO - Chain [1] done processing\n",
      "11:57:43 - cmdstanpy - INFO - Chain [1] done processing\n",
      "11:57:48 - cmdstanpy - INFO - Chain [1] done processing\n"
     ]
    },
    {
     "name": "stdout",
     "output_type": "stream",
     "text": [
      "{'changepoint_prior_scale': 0.401, 'holidays_prior_scale': 7.51, 'seasonality_mode': 'multiplicative', 'seasonality_prior_scale': 7.51}\n"
     ]
    },
    {
     "name": "stderr",
     "output_type": "stream",
     "text": [
      "11:57:50 - cmdstanpy - INFO - Chain [1] start processing\n",
      "11:57:56 - cmdstanpy - INFO - Chain [1] done processing\n",
      "11:57:58 - cmdstanpy - INFO - Chain [1] start processing\n",
      "11:57:58 - cmdstanpy - INFO - Chain [1] done processing\n",
      "11:57:58 - cmdstanpy - INFO - Chain [1] start processing\n",
      "11:57:59 - cmdstanpy - INFO - Chain [1] start processing\n",
      "11:57:59 - cmdstanpy - INFO - Chain [1] start processing\n",
      "11:57:59 - cmdstanpy - INFO - Chain [1] start processing\n",
      "11:58:00 - cmdstanpy - INFO - Chain [1] done processing\n",
      "11:58:00 - cmdstanpy - INFO - Chain [1] done processing\n",
      "11:58:01 - cmdstanpy - INFO - Chain [1] done processing\n",
      "11:58:09 - cmdstanpy - INFO - Chain [1] done processing\n"
     ]
    },
    {
     "name": "stdout",
     "output_type": "stream",
     "text": [
      "{'changepoint_prior_scale': 0.401, 'holidays_prior_scale': 7.51, 'seasonality_mode': 'additive', 'seasonality_prior_scale': 0.01}\n"
     ]
    },
    {
     "name": "stderr",
     "output_type": "stream",
     "text": [
      "11:58:11 - cmdstanpy - INFO - Chain [1] start processing\n",
      "11:58:18 - cmdstanpy - INFO - Chain [1] done processing\n",
      "11:58:20 - cmdstanpy - INFO - Chain [1] start processing\n",
      "11:58:20 - cmdstanpy - INFO - Chain [1] done processing\n",
      "11:58:20 - cmdstanpy - INFO - Chain [1] start processing\n",
      "11:58:21 - cmdstanpy - INFO - Chain [1] start processing\n",
      "11:58:21 - cmdstanpy - INFO - Chain [1] start processing\n",
      "11:58:21 - cmdstanpy - INFO - Chain [1] start processing\n",
      "11:58:22 - cmdstanpy - INFO - Chain [1] done processing\n",
      "11:58:22 - cmdstanpy - INFO - Chain [1] done processing\n",
      "11:58:24 - cmdstanpy - INFO - Chain [1] done processing\n",
      "11:58:28 - cmdstanpy - INFO - Chain [1] done processing\n"
     ]
    },
    {
     "name": "stdout",
     "output_type": "stream",
     "text": [
      "{'changepoint_prior_scale': 0.401, 'holidays_prior_scale': 7.51, 'seasonality_mode': 'additive', 'seasonality_prior_scale': 2.51}\n"
     ]
    },
    {
     "name": "stderr",
     "output_type": "stream",
     "text": [
      "11:58:30 - cmdstanpy - INFO - Chain [1] start processing\n",
      "11:58:37 - cmdstanpy - INFO - Chain [1] done processing\n",
      "11:58:39 - cmdstanpy - INFO - Chain [1] start processing\n",
      "11:58:39 - cmdstanpy - INFO - Chain [1] done processing\n",
      "11:58:39 - cmdstanpy - INFO - Chain [1] start processing\n",
      "11:58:40 - cmdstanpy - INFO - Chain [1] start processing\n",
      "11:58:40 - cmdstanpy - INFO - Chain [1] start processing\n",
      "11:58:40 - cmdstanpy - INFO - Chain [1] done processing\n",
      "11:58:40 - cmdstanpy - INFO - Chain [1] start processing\n",
      "11:58:41 - cmdstanpy - INFO - Chain [1] done processing\n",
      "11:58:41 - cmdstanpy - INFO - Chain [1] done processing\n",
      "11:58:47 - cmdstanpy - INFO - Chain [1] done processing\n"
     ]
    },
    {
     "name": "stdout",
     "output_type": "stream",
     "text": [
      "{'changepoint_prior_scale': 0.401, 'holidays_prior_scale': 7.51, 'seasonality_mode': 'additive', 'seasonality_prior_scale': 5.01}\n"
     ]
    },
    {
     "name": "stderr",
     "output_type": "stream",
     "text": [
      "11:58:49 - cmdstanpy - INFO - Chain [1] start processing\n",
      "11:58:54 - cmdstanpy - INFO - Chain [1] done processing\n",
      "11:58:56 - cmdstanpy - INFO - Chain [1] start processing\n",
      "11:58:56 - cmdstanpy - INFO - Chain [1] done processing\n",
      "11:58:56 - cmdstanpy - INFO - Chain [1] start processing\n",
      "11:58:57 - cmdstanpy - INFO - Chain [1] start processing\n",
      "11:58:57 - cmdstanpy - INFO - Chain [1] done processing\n",
      "11:58:57 - cmdstanpy - INFO - Chain [1] start processing\n",
      "11:58:57 - cmdstanpy - INFO - Chain [1] start processing\n",
      "11:58:58 - cmdstanpy - INFO - Chain [1] done processing\n",
      "11:58:59 - cmdstanpy - INFO - Chain [1] done processing\n",
      "11:59:05 - cmdstanpy - INFO - Chain [1] done processing\n"
     ]
    },
    {
     "name": "stdout",
     "output_type": "stream",
     "text": [
      "{'changepoint_prior_scale': 0.401, 'holidays_prior_scale': 7.51, 'seasonality_mode': 'additive', 'seasonality_prior_scale': 7.51}\n"
     ]
    },
    {
     "name": "stderr",
     "output_type": "stream",
     "text": [
      "11:59:07 - cmdstanpy - INFO - Chain [1] start processing\n",
      "11:59:16 - cmdstanpy - INFO - Chain [1] done processing\n",
      "11:59:17 - cmdstanpy - INFO - Chain [1] start processing\n",
      "11:59:18 - cmdstanpy - INFO - Chain [1] done processing\n",
      "11:59:18 - cmdstanpy - INFO - Chain [1] start processing\n",
      "11:59:18 - cmdstanpy - INFO - Chain [1] start processing\n",
      "11:59:19 - cmdstanpy - INFO - Chain [1] start processing\n",
      "11:59:19 - cmdstanpy - INFO - Chain [1] done processing\n",
      "11:59:19 - cmdstanpy - INFO - Chain [1] done processing\n",
      "11:59:19 - cmdstanpy - INFO - Chain [1] start processing\n",
      "11:59:20 - cmdstanpy - INFO - Chain [1] done processing\n",
      "11:59:26 - cmdstanpy - INFO - Chain [1] done processing\n"
     ]
    },
    {
     "name": "stdout",
     "output_type": "stream",
     "text": [
      "     changepoint_prior_scale  holidays_prior_scale seasonality_mode  \\\n",
      "0                      0.001                  0.01   multiplicative   \n",
      "1                      0.001                  0.01   multiplicative   \n",
      "2                      0.001                  0.01   multiplicative   \n",
      "3                      0.001                  0.01   multiplicative   \n",
      "4                      0.001                  0.01         additive   \n",
      "..                       ...                   ...              ...   \n",
      "155                    0.401                  7.51   multiplicative   \n",
      "156                    0.401                  7.51         additive   \n",
      "157                    0.401                  7.51         additive   \n",
      "158                    0.401                  7.51         additive   \n",
      "159                    0.401                  7.51         additive   \n",
      "\n",
      "     seasonality_prior_scale      mase  \n",
      "0                       0.01  1.074007  \n",
      "1                       2.51  0.989979  \n",
      "2                       5.01  1.237093  \n",
      "3                       7.51  1.014733  \n",
      "4                       0.01  1.177696  \n",
      "..                       ...       ...  \n",
      "155                     7.51  1.016964  \n",
      "156                     0.01  0.995283  \n",
      "157                     2.51  1.006611  \n",
      "158                     5.01  0.993394  \n",
      "159                     7.51  1.008269  \n",
      "\n",
      "[160 rows x 5 columns]\n"
     ]
    }
   ],
   "source": [
    "MASE_list = []\n",
    "best_mase = 100000000\n",
    "best_params = None\n",
    "for p in grid:\n",
    "    train = pd.DataFrame(train_data)\n",
    "    test = pd.DataFrame()\n",
    "    print(p)\n",
    "    random.seed(0)\n",
    "    train_model =Prophet(changepoint_prior_scale = p['changepoint_prior_scale'],\n",
    "                        holidays_prior_scale = p['holidays_prior_scale'],\n",
    "                        seasonality_prior_scale = p['seasonality_prior_scale'],\n",
    "                        seasonality_mode = p['seasonality_mode'],\n",
    "                        weekly_seasonality=True,\n",
    "                        daily_seasonality = True,\n",
    "                        yearly_seasonality = False,\n",
    "                        )\n",
    "    \n",
    "    # add regressors\n",
    "    train_model.add_regressor('hour_of_day')\n",
    "    train_model.add_regressor('day_of_week')\n",
    "    train_model.add_regressor('day_of_month')\n",
    "    train_model.add_regressor('month_of_year')\n",
    "    train_model.add_regressor('year')\n",
    "    train_model.add_regressor('weekend')\n",
    "    train_model.add_regressor('monday')\n",
    "    train_model.add_regressor('tuesday')\n",
    "    train_model.add_regressor('wednesday')\n",
    "    train_model.add_regressor('thursday')\n",
    "    train_model.add_regressor('friday')\n",
    "    train_model.add_regressor('saturday')\n",
    "    train_model.add_regressor('sunday')\n",
    "    train_model.add_regressor('time')\n",
    "\n",
    "\n",
    "    train_model.fit(train_data)\n",
    "    \n",
    "    df_cv = cross_validation(train_model, period='60 days', horizon='30 days', parallel=\"processes\")\n",
    "\n",
    "     # X and y to pandas dataframe\n",
    "    X_train = pd.DataFrame(df_cv)\n",
    "\n",
    "    y_true = df_cv['y'].values\n",
    "    #make y_true as dataframe\n",
    "    y_true = pd.DataFrame(y_true)\n",
    "\n",
    "    y_pred = df_cv['yhat'].values\n",
    "    #make y_pred as dataframe\n",
    "    y_pred = pd.DataFrame(y_pred)\n",
    "\n",
    "    MASE_list.append(mean_absolute_scaled_error(y_true, y_pred))\n",
    "    \n",
    "\n",
    "\n",
    "    # print('RMSE:',np.sqrt(MSE))\n",
    "    # RMSE_list.append(np.sqrt(MSE))\n",
    "\n",
    "# Find the best parameters\n",
    "tuning_results = pd.DataFrame(grid)\n",
    "tuning_results['mase'] = MASE_list\n",
    "print(tuning_results)"
   ]
  },
  {
   "cell_type": "code",
   "execution_count": 8,
   "metadata": {},
   "outputs": [
    {
     "name": "stdout",
     "output_type": "stream",
     "text": [
      "Best Parameters {'seasonality_prior_scale': 0.01, 'seasonality_mode': 'additive', 'holidays_prior_scale': 7.51, 'changepoint_prior_scale': 0.101}\n",
      "Best MASE 0.977624726184889\n",
      "[1.0740066754627058, 0.9899789936943866, 1.2370928504523488, 1.0147333868778876, 1.1776957991714705, 2.1511798992545375, 1.2676861234464105, 1.7715985849824427, 7.196076703161533, 1.077170587873993, 0.9856706107629679, 2.7064335964594926, 7.146207724352997, 1.4117734830068038, 1.1702857430437457, 7.308440946096777, 0.9929722081316645, 3.507466971789767, 1.2256425639322277, 1.0373436755841154, 1.3223001655691249, 1.3713523430598176, 7.318638439593749, 2.524883431582752, 7.224808500434247, 1.035068297975622, 0.9986459155981842, 0.9880582381242115, 1.3962693861967364, 1.1771398083894453, 1.2951358980608272, 7.059696493330854, 1.0414276081018177, 0.9951544223253556, 1.0288643342945363, 1.0087448095775093, 0.9964037058711059, 0.9931016266889473, 0.996606061973236, 0.9879299394258109, 1.019393549799009, 1.0188821989037373, 1.0135745273766976, 1.0343732561844432, 0.9913243257957571, 0.9920177270731347, 0.9858686150197592, 0.9874061277342927, 1.0282634227460783, 1.0186682669711566, 1.0178788210805556, 1.0048350667578474, 0.9904824635867705, 0.9881598321055026, 0.9963214212038088, 0.9879816498466844, 1.0299270488335024, 1.0274263194563338, 1.0131310770366826, 1.0072107059077915, 0.977624726184889, 0.999150290026366, 0.9952790298993379, 1.009464421281295, 1.02885857438516, 1.0349363632347282, 1.0282826104097027, 1.0352648875910353, 0.9973759764116029, 1.006145715819824, 1.0031378400018895, 0.99488004141825, 1.0301858685066938, 1.0328619397307977, 1.009696152022461, 1.013187742656178, 1.0023928877364725, 1.0012767210537992, 1.0082466315008274, 1.0005788525973542, 1.002911584937562, 1.0176172157558352, 1.027848054452804, 1.0155307767047042, 0.9957679313548503, 1.0013753771086282, 1.0129736224269734, 1.006838852737762, 1.023150588961511, 1.0236407336072504, 1.0188023875175998, 0.9984009324698164, 1.0072435674306297, 1.013939348641648, 0.998369727328664, 1.0040092668294058, 1.0466845788240597, 1.0285717926149789, 1.0299435922910787, 1.0076710796124244, 0.9973771775836301, 1.0041154010199214, 1.0008590413929794, 1.0007777517118785, 1.028104401659851, 1.0137701133670096, 1.020930299288246, 1.0341135350007573, 0.9998482599444535, 1.0008482352295196, 1.0043121035866125, 1.0036619143568852, 1.0252381047867531, 1.0035150403137432, 1.0242511589002616, 1.0082878848537722, 1.0038290056622219, 0.9994970999150689, 0.9913872928506976, 1.0097949344575199, 1.0310162200565913, 1.0336236501500065, 1.035349055711141, 1.0288842904650626, 1.005662092867251, 0.9962966501271621, 1.0057198792861046, 1.0023201564696784, 1.045321604355255, 1.0215247561675407, 1.006027092147961, 1.0351596952024387, 0.98227471158163, 1.0158965838131264, 1.0097271853671186, 0.9961945180183668, 1.0295996719625395, 1.0263158352249213, 1.0193215675252034, 1.0050399512008301, 0.9997736945812992, 1.0008940480834396, 0.9983594890294434, 1.0115338956598245, 1.0401877509620892, 1.0064161709454638, 1.025025593675071, 1.0211819051287332, 1.0083883810385708, 1.007371714492091, 1.0113491033447057, 1.0092599980752712, 1.0309839119226796, 1.0331004596126503, 1.0003512681680546, 1.0169643797185282, 0.995283401407748, 1.006611185391336, 0.9933944864918997, 1.0082691528784733]\n"
     ]
    }
   ],
   "source": [
    "best_params = grid[np.argmin(MASE_list)]\n",
    "print('Best Parameters',best_params)\n",
    "print('Best MASE',np.min(MASE_list))\n",
    "print(MASE_list)"
   ]
  }
 ],
 "metadata": {
  "kernelspec": {
   "display_name": "Python 3",
   "language": "python",
   "name": "python3"
  },
  "language_info": {
   "codemirror_mode": {
    "name": "ipython",
    "version": 3
   },
   "file_extension": ".py",
   "mimetype": "text/x-python",
   "name": "python",
   "nbconvert_exporter": "python",
   "pygments_lexer": "ipython3",
   "version": "3.9.12"
  }
 },
 "nbformat": 4,
 "nbformat_minor": 2
}
