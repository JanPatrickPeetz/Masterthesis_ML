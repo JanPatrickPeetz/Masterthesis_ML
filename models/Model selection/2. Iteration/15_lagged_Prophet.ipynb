{
 "cells": [
  {
   "cell_type": "markdown",
   "metadata": {},
   "source": [
    "https://www.kaggle.com/code/manovirat/timeseries-using-prophet-hyperparameter-tuning"
   ]
  },
  {
   "cell_type": "code",
   "execution_count": 1,
   "metadata": {},
   "outputs": [],
   "source": [
    "import pandas as pd\n",
    "from prophet import Prophet\n",
    "from prophet.diagnostics import cross_validation\n",
    "from sklearn.model_selection import ParameterGrid\n",
    "from prophet.diagnostics import performance_metrics\n",
    "import random\n",
    "import numpy as np\n",
    "from sklearn.model_selection import TimeSeriesSplit"
   ]
  },
  {
   "cell_type": "code",
   "execution_count": 2,
   "metadata": {},
   "outputs": [
    {
     "name": "stdout",
     "output_type": "stream",
     "text": [
      "Total Possible Models 160\n"
     ]
    }
   ],
   "source": [
    "params_grid = {'seasonality_mode':('multiplicative','additive'),\n",
    "               # set changepoint_prior_scale to 0.5 with steps of 0.005\n",
    "               'changepoint_prior_scale':[x for x in np.arange(0.001, 0.5, 0.1)],\n",
    "               'seasonality_prior_scale':[x for x in np.arange(0.01, 10, 2.5)],\n",
    "              'holidays_prior_scale':[x for x in np.arange(0.01, 10, 2.5)]}\n",
    "\n",
    "grid = ParameterGrid(params_grid)\n",
    "cnt = 0\n",
    "for p in grid:\n",
    "    cnt = cnt+1\n",
    "\n",
    "print('Total Possible Models',cnt)"
   ]
  },
  {
   "cell_type": "code",
   "execution_count": 3,
   "metadata": {},
   "outputs": [],
   "source": [
    "#Define MASE Metric\n",
    "def mean_absolute_scaled_error(y_true, y_pred):\n",
    "    mase=0\n",
    "    # Define numerator as the forecast error\n",
    "    numerator = (np.abs(y_true - y_pred))\n",
    "\n",
    "    # Define denominator as the mean absolute error of the in-sample one-step naive forecast\n",
    "    y_true_ohne_1 = y_true[1:].reset_index(drop=True)\n",
    "    y_true_ohne_ende = y_true[:-1].reset_index(drop=True)\n",
    "    denominator = np.mean(np.abs(y_true_ohne_1 - y_true_ohne_ende))\n",
    "\n",
    "    mase = np.mean(np.abs(numerator / denominator))\n",
    "\n",
    "    return mase"
   ]
  },
  {
   "cell_type": "code",
   "execution_count": 4,
   "metadata": {},
   "outputs": [],
   "source": [
    "# Load the data\n",
    "data = pd.read_parquet('/Users/paddy/Documents/GitHub/Masterthesis_ML/data/03_15min_dataset.parquet')\n",
    "\n",
    "# Convert the date column to datetime\n",
    "data['date'] = pd.to_datetime(data['date'],format='%d/%m/%y %H:%M:%S').dt.strftime('%Y-%m-%d %H:%M:%S') \n"
   ]
  },
  {
   "cell_type": "code",
   "execution_count": 5,
   "metadata": {},
   "outputs": [],
   "source": [
    "# Feature Engineering\n",
    "\n",
    "# Add a column with the time\n",
    "data['time'] = [x for x in range(0, len(data))]\n",
    "\n",
    "# Create the lagged features 24 +1\n",
    "lags = 96 + 1\n",
    "\n",
    "# Create the lagged features\n",
    "for i in range(1, lags):\n",
    "    data['lag' + str(i)] = data['count'].shift(i)\n",
    "\n",
    "# Drop the first three rows\n",
    "data = data.dropna().reset_index(drop=True)\n",
    "\n",
    "# Rename column count to y\n",
    "data = data.rename(columns={'count': 'y'})\n",
    "data = data.rename(columns={'date': 'ds'})\n",
    "\n",
    "\n",
    "train_data = data"
   ]
  },
  {
   "cell_type": "code",
   "execution_count": 6,
   "metadata": {},
   "outputs": [
    {
     "name": "stdout",
     "output_type": "stream",
     "text": [
      "0        2022-04-02 00:00:00\n",
      "1        2022-04-02 00:15:00\n",
      "2        2022-04-02 00:30:00\n",
      "3        2022-04-02 00:45:00\n",
      "4        2022-04-02 01:00:00\n",
      "                ...         \n",
      "34939    2023-03-31 22:45:00\n",
      "34940    2023-03-31 23:00:00\n",
      "34941    2023-03-31 23:15:00\n",
      "34942    2023-03-31 23:30:00\n",
      "34943    2023-03-31 23:45:00\n",
      "Name: ds, Length: 34944, dtype: object\n",
      "Fold 0:\n",
      "  Train: index=[   0    1    2 ... 5821 5822 5823]\n",
      "  Test:  index=[ 5824  5825  5826 ... 11645 11646 11647]\n",
      "Fold 1:\n",
      "  Train: index=[    0     1     2 ... 11645 11646 11647]\n",
      "  Test:  index=[11648 11649 11650 ... 17469 17470 17471]\n",
      "Fold 2:\n",
      "  Train: index=[    0     1     2 ... 17469 17470 17471]\n",
      "  Test:  index=[17472 17473 17474 ... 23293 23294 23295]\n",
      "Fold 3:\n",
      "  Train: index=[    0     1     2 ... 23293 23294 23295]\n",
      "  Test:  index=[23296 23297 23298 ... 29117 29118 29119]\n",
      "Fold 4:\n",
      "  Train: index=[    0     1     2 ... 29117 29118 29119]\n",
      "  Test:  index=[29120 29121 29122 ... 34941 34942 34943]\n",
      "['2022-06-01 15:45:00', '2022-08-01 07:45:00', '2022-09-30 23:45:00', '2022-11-30 15:45:00', '2023-01-30 07:45:00']\n"
     ]
    }
   ],
   "source": [
    "cv_folds = TimeSeriesSplit(n_splits=5)\n",
    "\n",
    "#convert data to only date not time\n",
    "cv_data = train_data.copy()\n",
    "\n",
    "#convert to timestamp with date format\n",
    "#cv_data.ds = pd.to_datetime(cv_data.ds).dt.date\n",
    "\n",
    "print(cv_data.ds)   \n",
    "\n",
    "#Define cutoff dates for cross validation at end of train_data/cv_folds\n",
    "cutoffs = []\n",
    "# for train_index, test_index in cv_folds.split(train_data):\n",
    "#     cutoffs.append(train_data.ds.iloc[test_index].max())\n",
    "#     #convert to timestamp\n",
    "#     cutoffs = pd.to_datetime(cutoffs)\n",
    "    \n",
    "# print(cutoffs)\n",
    "\n",
    "for i, (train_index, test_index) in enumerate(cv_folds.split(cv_data)):\n",
    "    print(f\"Fold {i}:\")\n",
    "    print(f\"  Train: index={train_index}\")\n",
    "    print(f\"  Test:  index={test_index}\")\n",
    "    #get the date for the last train index\n",
    "    cutoffs.append(cv_data.ds.iloc[train_index].max())\n",
    "    #only date not time\n",
    "    #cutoffs = pd.to_datetime(cutoffs).date\n",
    "\n",
    "print(cutoffs)\n",
    "\n",
    "# Define cutoffs for cross validation with 5 folds every two months with first cut on 2022-06-01, last day 2023-01-15 and horizon of 15 days\n",
    "#cutoffs = pd.to_datetime(['2022-06-01', '2022-08-01', '2022-10-01', '2022-12-01', '2023-01-15'])\n",
    "# print(cutoffs)\n"
   ]
  },
  {
   "cell_type": "code",
   "execution_count": 7,
   "metadata": {},
   "outputs": [
    {
     "name": "stdout",
     "output_type": "stream",
     "text": [
      "{'changepoint_prior_scale': 0.001, 'holidays_prior_scale': 0.01, 'seasonality_mode': 'multiplicative', 'seasonality_prior_scale': 0.01}\n"
     ]
    },
    {
     "name": "stderr",
     "output_type": "stream",
     "text": [
      "08:08:38 - cmdstanpy - INFO - Chain [1] start processing\n",
      "08:08:43 - cmdstanpy - INFO - Chain [1] done processing\n",
      "08:08:46 - cmdstanpy - INFO - Chain [1] start processing\n",
      "08:08:47 - cmdstanpy - INFO - Chain [1] done processing\n",
      "08:08:47 - cmdstanpy - INFO - Chain [1] start processing\n",
      "08:08:48 - cmdstanpy - INFO - Chain [1] start processing\n",
      "08:08:49 - cmdstanpy - INFO - Chain [1] done processing\n",
      "08:08:49 - cmdstanpy - INFO - Chain [1] start processing\n",
      "08:08:50 - cmdstanpy - INFO - Chain [1] start processing\n",
      "08:08:52 - cmdstanpy - INFO - Chain [1] done processing\n",
      "08:08:56 - cmdstanpy - INFO - Chain [1] done processing\n",
      "08:08:56 - cmdstanpy - INFO - Chain [1] done processing\n"
     ]
    },
    {
     "name": "stdout",
     "output_type": "stream",
     "text": [
      "{'changepoint_prior_scale': 0.001, 'holidays_prior_scale': 0.01, 'seasonality_mode': 'multiplicative', 'seasonality_prior_scale': 2.51}\n"
     ]
    },
    {
     "name": "stderr",
     "output_type": "stream",
     "text": [
      "08:09:03 - cmdstanpy - INFO - Chain [1] start processing\n",
      "08:09:12 - cmdstanpy - INFO - Chain [1] done processing\n",
      "08:09:14 - cmdstanpy - INFO - Chain [1] start processing\n",
      "08:09:15 - cmdstanpy - INFO - Chain [1] start processing\n",
      "08:09:15 - cmdstanpy - INFO - Chain [1] done processing\n",
      "08:09:17 - cmdstanpy - INFO - Chain [1] start processing\n",
      "08:09:18 - cmdstanpy - INFO - Chain [1] start processing\n",
      "08:09:18 - cmdstanpy - INFO - Chain [1] done processing\n",
      "08:09:18 - cmdstanpy - INFO - Chain [1] start processing\n",
      "08:09:20 - cmdstanpy - INFO - Chain [1] done processing\n",
      "08:09:28 - cmdstanpy - INFO - Chain [1] done processing\n",
      "08:09:31 - cmdstanpy - INFO - Chain [1] done processing\n"
     ]
    },
    {
     "name": "stdout",
     "output_type": "stream",
     "text": [
      "{'changepoint_prior_scale': 0.001, 'holidays_prior_scale': 0.01, 'seasonality_mode': 'multiplicative', 'seasonality_prior_scale': 5.01}\n"
     ]
    },
    {
     "name": "stderr",
     "output_type": "stream",
     "text": [
      "08:09:35 - cmdstanpy - INFO - Chain [1] start processing\n",
      "08:09:44 - cmdstanpy - INFO - Chain [1] done processing\n",
      "08:09:46 - cmdstanpy - INFO - Chain [1] start processing\n",
      "08:09:47 - cmdstanpy - INFO - Chain [1] done processing\n",
      "08:09:47 - cmdstanpy - INFO - Chain [1] start processing\n",
      "08:09:48 - cmdstanpy - INFO - Chain [1] start processing\n",
      "08:09:50 - cmdstanpy - INFO - Chain [1] done processing\n",
      "08:09:50 - cmdstanpy - INFO - Chain [1] start processing\n",
      "08:09:51 - cmdstanpy - INFO - Chain [1] done processing\n",
      "08:09:51 - cmdstanpy - INFO - Chain [1] start processing\n",
      "08:10:00 - cmdstanpy - INFO - Chain [1] done processing\n",
      "08:10:00 - cmdstanpy - INFO - Chain [1] done processing\n"
     ]
    },
    {
     "name": "stdout",
     "output_type": "stream",
     "text": [
      "{'changepoint_prior_scale': 0.001, 'holidays_prior_scale': 0.01, 'seasonality_mode': 'multiplicative', 'seasonality_prior_scale': 7.51}\n"
     ]
    },
    {
     "name": "stderr",
     "output_type": "stream",
     "text": [
      "08:10:05 - cmdstanpy - INFO - Chain [1] start processing\n",
      "08:10:18 - cmdstanpy - INFO - Chain [1] done processing\n",
      "08:10:21 - cmdstanpy - INFO - Chain [1] start processing\n",
      "08:10:22 - cmdstanpy - INFO - Chain [1] start processing\n",
      "08:10:22 - cmdstanpy - INFO - Chain [1] done processing\n",
      "08:10:23 - cmdstanpy - INFO - Chain [1] start processing\n",
      "08:10:24 - cmdstanpy - INFO - Chain [1] start processing\n",
      "08:10:24 - cmdstanpy - INFO - Chain [1] done processing\n",
      "08:10:25 - cmdstanpy - INFO - Chain [1] start processing\n",
      "08:10:26 - cmdstanpy - INFO - Chain [1] done processing\n",
      "08:10:33 - cmdstanpy - INFO - Chain [1] done processing\n",
      "08:10:34 - cmdstanpy - INFO - Chain [1] done processing\n"
     ]
    },
    {
     "name": "stdout",
     "output_type": "stream",
     "text": [
      "{'changepoint_prior_scale': 0.001, 'holidays_prior_scale': 0.01, 'seasonality_mode': 'additive', 'seasonality_prior_scale': 0.01}\n"
     ]
    },
    {
     "name": "stderr",
     "output_type": "stream",
     "text": [
      "08:10:40 - cmdstanpy - INFO - Chain [1] start processing\n",
      "08:10:53 - cmdstanpy - INFO - Chain [1] done processing\n",
      "08:10:56 - cmdstanpy - INFO - Chain [1] start processing\n",
      "08:10:57 - cmdstanpy - INFO - Chain [1] start processing\n",
      "08:10:57 - cmdstanpy - INFO - Chain [1] done processing\n",
      "08:10:57 - cmdstanpy - INFO - Chain [1] start processing\n",
      "08:10:59 - cmdstanpy - INFO - Chain [1] start processing\n",
      "08:10:59 - cmdstanpy - INFO - Chain [1] start processing\n",
      "08:11:02 - cmdstanpy - INFO - Chain [1] done processing\n",
      "08:11:09 - cmdstanpy - INFO - Chain [1] done processing\n",
      "08:11:12 - cmdstanpy - INFO - Chain [1] done processing\n",
      "08:11:14 - cmdstanpy - INFO - Chain [1] done processing\n"
     ]
    },
    {
     "name": "stdout",
     "output_type": "stream",
     "text": [
      "{'changepoint_prior_scale': 0.001, 'holidays_prior_scale': 0.01, 'seasonality_mode': 'additive', 'seasonality_prior_scale': 2.51}\n"
     ]
    },
    {
     "name": "stderr",
     "output_type": "stream",
     "text": [
      "08:11:18 - cmdstanpy - INFO - Chain [1] start processing\n",
      "08:11:28 - cmdstanpy - INFO - Chain [1] done processing\n",
      "08:11:31 - cmdstanpy - INFO - Chain [1] start processing\n",
      "08:11:32 - cmdstanpy - INFO - Chain [1] start processing\n",
      "08:11:32 - cmdstanpy - INFO - Chain [1] done processing\n",
      "08:11:33 - cmdstanpy - INFO - Chain [1] start processing\n",
      "08:11:34 - cmdstanpy - INFO - Chain [1] start processing\n",
      "08:11:35 - cmdstanpy - INFO - Chain [1] start processing\n",
      "08:11:36 - cmdstanpy - INFO - Chain [1] done processing\n",
      "08:11:47 - cmdstanpy - INFO - Chain [1] done processing\n",
      "08:11:49 - cmdstanpy - INFO - Chain [1] done processing\n",
      "08:11:52 - cmdstanpy - INFO - Chain [1] done processing\n"
     ]
    },
    {
     "name": "stdout",
     "output_type": "stream",
     "text": [
      "{'changepoint_prior_scale': 0.001, 'holidays_prior_scale': 0.01, 'seasonality_mode': 'additive', 'seasonality_prior_scale': 5.01}\n"
     ]
    },
    {
     "name": "stderr",
     "output_type": "stream",
     "text": [
      "08:11:56 - cmdstanpy - INFO - Chain [1] start processing\n",
      "08:12:06 - cmdstanpy - INFO - Chain [1] done processing\n",
      "08:12:09 - cmdstanpy - INFO - Chain [1] start processing\n",
      "08:12:10 - cmdstanpy - INFO - Chain [1] start processing\n",
      "08:12:11 - cmdstanpy - INFO - Chain [1] done processing\n",
      "08:12:11 - cmdstanpy - INFO - Chain [1] start processing\n",
      "08:12:12 - cmdstanpy - INFO - Chain [1] start processing\n",
      "08:12:13 - cmdstanpy - INFO - Chain [1] start processing\n",
      "08:12:14 - cmdstanpy - INFO - Chain [1] done processing\n",
      "08:12:24 - cmdstanpy - INFO - Chain [1] done processing\n",
      "08:12:26 - cmdstanpy - INFO - Chain [1] done processing\n",
      "08:12:28 - cmdstanpy - INFO - Chain [1] done processing\n"
     ]
    },
    {
     "name": "stdout",
     "output_type": "stream",
     "text": [
      "{'changepoint_prior_scale': 0.001, 'holidays_prior_scale': 0.01, 'seasonality_mode': 'additive', 'seasonality_prior_scale': 7.51}\n"
     ]
    },
    {
     "name": "stderr",
     "output_type": "stream",
     "text": [
      "08:12:32 - cmdstanpy - INFO - Chain [1] start processing\n",
      "08:12:45 - cmdstanpy - INFO - Chain [1] done processing\n",
      "08:12:47 - cmdstanpy - INFO - Chain [1] start processing\n",
      "08:12:48 - cmdstanpy - INFO - Chain [1] start processing\n",
      "08:12:48 - cmdstanpy - INFO - Chain [1] done processing\n",
      "08:12:49 - cmdstanpy - INFO - Chain [1] start processing\n",
      "08:12:50 - cmdstanpy - INFO - Chain [1] start processing\n",
      "08:12:51 - cmdstanpy - INFO - Chain [1] start processing\n",
      "08:12:53 - cmdstanpy - INFO - Chain [1] done processing\n",
      "08:13:01 - cmdstanpy - INFO - Chain [1] done processing\n",
      "08:13:03 - cmdstanpy - INFO - Chain [1] done processing\n",
      "08:13:05 - cmdstanpy - INFO - Chain [1] done processing\n"
     ]
    },
    {
     "name": "stdout",
     "output_type": "stream",
     "text": [
      "{'changepoint_prior_scale': 0.001, 'holidays_prior_scale': 2.51, 'seasonality_mode': 'multiplicative', 'seasonality_prior_scale': 0.01}\n"
     ]
    },
    {
     "name": "stderr",
     "output_type": "stream",
     "text": [
      "08:13:09 - cmdstanpy - INFO - Chain [1] start processing\n",
      "08:13:14 - cmdstanpy - INFO - Chain [1] done processing\n",
      "08:13:17 - cmdstanpy - INFO - Chain [1] start processing\n",
      "08:13:18 - cmdstanpy - INFO - Chain [1] start processing\n",
      "08:13:18 - cmdstanpy - INFO - Chain [1] done processing\n",
      "08:13:19 - cmdstanpy - INFO - Chain [1] start processing\n",
      "08:13:20 - cmdstanpy - INFO - Chain [1] start processing\n",
      "08:13:21 - cmdstanpy - INFO - Chain [1] start processing\n",
      "08:13:21 - cmdstanpy - INFO - Chain [1] done processing\n",
      "08:13:23 - cmdstanpy - INFO - Chain [1] done processing\n",
      "08:13:28 - cmdstanpy - INFO - Chain [1] done processing\n",
      "08:13:30 - cmdstanpy - INFO - Chain [1] done processing\n"
     ]
    },
    {
     "name": "stdout",
     "output_type": "stream",
     "text": [
      "{'changepoint_prior_scale': 0.001, 'holidays_prior_scale': 2.51, 'seasonality_mode': 'multiplicative', 'seasonality_prior_scale': 2.51}\n"
     ]
    },
    {
     "name": "stderr",
     "output_type": "stream",
     "text": [
      "08:13:34 - cmdstanpy - INFO - Chain [1] start processing\n",
      "08:13:45 - cmdstanpy - INFO - Chain [1] done processing\n",
      "08:13:48 - cmdstanpy - INFO - Chain [1] start processing\n",
      "08:13:49 - cmdstanpy - INFO - Chain [1] start processing\n",
      "08:13:49 - cmdstanpy - INFO - Chain [1] done processing\n",
      "08:13:50 - cmdstanpy - INFO - Chain [1] start processing\n",
      "08:13:51 - cmdstanpy - INFO - Chain [1] start processing\n",
      "08:13:52 - cmdstanpy - INFO - Chain [1] start processing\n",
      "08:13:53 - cmdstanpy - INFO - Chain [1] done processing\n",
      "08:13:53 - cmdstanpy - INFO - Chain [1] done processing\n",
      "08:14:11 - cmdstanpy - INFO - Chain [1] done processing\n",
      "08:14:11 - cmdstanpy - INFO - Chain [1] done processing\n"
     ]
    },
    {
     "name": "stdout",
     "output_type": "stream",
     "text": [
      "{'changepoint_prior_scale': 0.001, 'holidays_prior_scale': 2.51, 'seasonality_mode': 'multiplicative', 'seasonality_prior_scale': 5.01}\n"
     ]
    },
    {
     "name": "stderr",
     "output_type": "stream",
     "text": [
      "08:14:16 - cmdstanpy - INFO - Chain [1] start processing\n",
      "08:14:34 - cmdstanpy - INFO - Chain [1] done processing\n",
      "08:14:37 - cmdstanpy - INFO - Chain [1] start processing\n",
      "08:14:38 - cmdstanpy - INFO - Chain [1] done processing\n",
      "08:14:38 - cmdstanpy - INFO - Chain [1] start processing\n",
      "08:14:39 - cmdstanpy - INFO - Chain [1] start processing\n",
      "08:14:40 - cmdstanpy - INFO - Chain [1] start processing\n",
      "08:14:41 - cmdstanpy - INFO - Chain [1] start processing\n",
      "08:14:42 - cmdstanpy - INFO - Chain [1] done processing\n",
      "08:14:45 - cmdstanpy - INFO - Chain [1] done processing\n",
      "08:14:51 - cmdstanpy - INFO - Chain [1] done processing\n",
      "08:14:52 - cmdstanpy - INFO - Chain [1] done processing\n"
     ]
    },
    {
     "name": "stdout",
     "output_type": "stream",
     "text": [
      "{'changepoint_prior_scale': 0.001, 'holidays_prior_scale': 2.51, 'seasonality_mode': 'multiplicative', 'seasonality_prior_scale': 7.51}\n"
     ]
    },
    {
     "name": "stderr",
     "output_type": "stream",
     "text": [
      "08:14:56 - cmdstanpy - INFO - Chain [1] start processing\n",
      "08:15:04 - cmdstanpy - INFO - Chain [1] done processing\n",
      "08:15:07 - cmdstanpy - INFO - Chain [1] start processing\n",
      "08:15:08 - cmdstanpy - INFO - Chain [1] start processing\n",
      "08:15:08 - cmdstanpy - INFO - Chain [1] done processing\n",
      "08:15:09 - cmdstanpy - INFO - Chain [1] start processing\n",
      "08:15:10 - cmdstanpy - INFO - Chain [1] start processing\n",
      "08:15:11 - cmdstanpy - INFO - Chain [1] start processing\n",
      "08:15:12 - cmdstanpy - INFO - Chain [1] done processing\n",
      "08:15:13 - cmdstanpy - INFO - Chain [1] done processing\n",
      "08:15:20 - cmdstanpy - INFO - Chain [1] done processing\n",
      "08:15:23 - cmdstanpy - INFO - Chain [1] done processing\n"
     ]
    },
    {
     "name": "stdout",
     "output_type": "stream",
     "text": [
      "{'changepoint_prior_scale': 0.001, 'holidays_prior_scale': 2.51, 'seasonality_mode': 'additive', 'seasonality_prior_scale': 0.01}\n"
     ]
    },
    {
     "name": "stderr",
     "output_type": "stream",
     "text": [
      "08:15:27 - cmdstanpy - INFO - Chain [1] start processing\n",
      "08:15:40 - cmdstanpy - INFO - Chain [1] done processing\n",
      "08:15:43 - cmdstanpy - INFO - Chain [1] start processing\n",
      "08:15:44 - cmdstanpy - INFO - Chain [1] start processing\n",
      "08:15:44 - cmdstanpy - INFO - Chain [1] done processing\n",
      "08:15:45 - cmdstanpy - INFO - Chain [1] start processing\n",
      "08:15:47 - cmdstanpy - INFO - Chain [1] start processing\n",
      "08:15:47 - cmdstanpy - INFO - Chain [1] start processing\n",
      "08:15:48 - cmdstanpy - INFO - Chain [1] done processing\n",
      "08:15:58 - cmdstanpy - INFO - Chain [1] done processing\n",
      "08:16:00 - cmdstanpy - INFO - Chain [1] done processing\n",
      "08:16:02 - cmdstanpy - INFO - Chain [1] done processing\n"
     ]
    },
    {
     "name": "stdout",
     "output_type": "stream",
     "text": [
      "{'changepoint_prior_scale': 0.001, 'holidays_prior_scale': 2.51, 'seasonality_mode': 'additive', 'seasonality_prior_scale': 2.51}\n"
     ]
    },
    {
     "name": "stderr",
     "output_type": "stream",
     "text": [
      "08:16:06 - cmdstanpy - INFO - Chain [1] start processing\n",
      "08:16:16 - cmdstanpy - INFO - Chain [1] done processing\n",
      "08:16:19 - cmdstanpy - INFO - Chain [1] start processing\n",
      "08:16:20 - cmdstanpy - INFO - Chain [1] start processing\n",
      "08:16:20 - cmdstanpy - INFO - Chain [1] done processing\n",
      "08:16:21 - cmdstanpy - INFO - Chain [1] start processing\n",
      "08:16:22 - cmdstanpy - INFO - Chain [1] start processing\n",
      "08:16:23 - cmdstanpy - INFO - Chain [1] start processing\n",
      "08:16:25 - cmdstanpy - INFO - Chain [1] done processing\n",
      "08:16:33 - cmdstanpy - INFO - Chain [1] done processing\n",
      "08:16:34 - cmdstanpy - INFO - Chain [1] done processing\n",
      "08:16:37 - cmdstanpy - INFO - Chain [1] done processing\n"
     ]
    },
    {
     "name": "stdout",
     "output_type": "stream",
     "text": [
      "{'changepoint_prior_scale': 0.001, 'holidays_prior_scale': 2.51, 'seasonality_mode': 'additive', 'seasonality_prior_scale': 5.01}\n"
     ]
    },
    {
     "name": "stderr",
     "output_type": "stream",
     "text": [
      "08:16:41 - cmdstanpy - INFO - Chain [1] start processing\n",
      "08:16:56 - cmdstanpy - INFO - Chain [1] done processing\n",
      "08:16:59 - cmdstanpy - INFO - Chain [1] start processing\n",
      "08:17:00 - cmdstanpy - INFO - Chain [1] start processing\n",
      "08:17:01 - cmdstanpy - INFO - Chain [1] start processing\n",
      "08:17:01 - cmdstanpy - INFO - Chain [1] done processing\n",
      "08:17:02 - cmdstanpy - INFO - Chain [1] start processing\n",
      "08:17:03 - cmdstanpy - INFO - Chain [1] start processing\n",
      "08:17:04 - cmdstanpy - INFO - Chain [1] done processing\n",
      "08:17:14 - cmdstanpy - INFO - Chain [1] done processing\n",
      "08:17:16 - cmdstanpy - INFO - Chain [1] done processing\n",
      "08:17:17 - cmdstanpy - INFO - Chain [1] done processing\n"
     ]
    },
    {
     "name": "stdout",
     "output_type": "stream",
     "text": [
      "{'changepoint_prior_scale': 0.001, 'holidays_prior_scale': 2.51, 'seasonality_mode': 'additive', 'seasonality_prior_scale': 7.51}\n"
     ]
    },
    {
     "name": "stderr",
     "output_type": "stream",
     "text": [
      "08:17:21 - cmdstanpy - INFO - Chain [1] start processing\n",
      "08:17:30 - cmdstanpy - INFO - Chain [1] done processing\n",
      "08:17:33 - cmdstanpy - INFO - Chain [1] start processing\n",
      "08:17:34 - cmdstanpy - INFO - Chain [1] start processing\n",
      "08:17:34 - cmdstanpy - INFO - Chain [1] done processing\n",
      "08:17:35 - cmdstanpy - INFO - Chain [1] start processing\n",
      "08:17:37 - cmdstanpy - INFO - Chain [1] start processing\n",
      "08:17:37 - cmdstanpy - INFO - Chain [1] start processing\n",
      "08:17:38 - cmdstanpy - INFO - Chain [1] done processing\n",
      "08:17:47 - cmdstanpy - INFO - Chain [1] done processing\n",
      "08:17:49 - cmdstanpy - INFO - Chain [1] done processing\n",
      "08:17:52 - cmdstanpy - INFO - Chain [1] done processing\n"
     ]
    },
    {
     "name": "stdout",
     "output_type": "stream",
     "text": [
      "{'changepoint_prior_scale': 0.001, 'holidays_prior_scale': 5.01, 'seasonality_mode': 'multiplicative', 'seasonality_prior_scale': 0.01}\n"
     ]
    },
    {
     "name": "stderr",
     "output_type": "stream",
     "text": [
      "08:17:56 - cmdstanpy - INFO - Chain [1] start processing\n",
      "08:18:00 - cmdstanpy - INFO - Chain [1] done processing\n",
      "08:18:03 - cmdstanpy - INFO - Chain [1] start processing\n",
      "08:18:04 - cmdstanpy - INFO - Chain [1] start processing\n",
      "08:18:05 - cmdstanpy - INFO - Chain [1] start processing\n",
      "08:18:05 - cmdstanpy - INFO - Chain [1] done processing\n",
      "08:18:06 - cmdstanpy - INFO - Chain [1] start processing\n",
      "08:18:07 - cmdstanpy - INFO - Chain [1] start processing\n",
      "08:18:08 - cmdstanpy - INFO - Chain [1] done processing\n",
      "08:18:09 - cmdstanpy - INFO - Chain [1] done processing\n",
      "08:18:14 - cmdstanpy - INFO - Chain [1] done processing\n",
      "08:18:15 - cmdstanpy - INFO - Chain [1] done processing\n"
     ]
    },
    {
     "name": "stdout",
     "output_type": "stream",
     "text": [
      "{'changepoint_prior_scale': 0.001, 'holidays_prior_scale': 5.01, 'seasonality_mode': 'multiplicative', 'seasonality_prior_scale': 2.51}\n"
     ]
    },
    {
     "name": "stderr",
     "output_type": "stream",
     "text": [
      "08:18:19 - cmdstanpy - INFO - Chain [1] start processing\n",
      "08:18:33 - cmdstanpy - INFO - Chain [1] done processing\n",
      "08:18:36 - cmdstanpy - INFO - Chain [1] start processing\n",
      "08:18:37 - cmdstanpy - INFO - Chain [1] start processing\n",
      "08:18:37 - cmdstanpy - INFO - Chain [1] done processing\n",
      "08:18:38 - cmdstanpy - INFO - Chain [1] start processing\n",
      "08:18:40 - cmdstanpy - INFO - Chain [1] start processing\n",
      "08:18:40 - cmdstanpy - INFO - Chain [1] start processing\n",
      "08:18:41 - cmdstanpy - INFO - Chain [1] done processing\n",
      "08:18:42 - cmdstanpy - INFO - Chain [1] done processing\n",
      "08:18:54 - cmdstanpy - INFO - Chain [1] done processing\n",
      "08:18:55 - cmdstanpy - INFO - Chain [1] done processing\n"
     ]
    },
    {
     "name": "stdout",
     "output_type": "stream",
     "text": [
      "{'changepoint_prior_scale': 0.001, 'holidays_prior_scale': 5.01, 'seasonality_mode': 'multiplicative', 'seasonality_prior_scale': 5.01}\n"
     ]
    },
    {
     "name": "stderr",
     "output_type": "stream",
     "text": [
      "08:19:00 - cmdstanpy - INFO - Chain [1] start processing\n",
      "08:19:09 - cmdstanpy - INFO - Chain [1] done processing\n",
      "08:19:11 - cmdstanpy - INFO - Chain [1] start processing\n",
      "08:19:12 - cmdstanpy - INFO - Chain [1] start processing\n",
      "08:19:13 - cmdstanpy - INFO - Chain [1] done processing\n",
      "08:19:14 - cmdstanpy - INFO - Chain [1] start processing\n",
      "08:19:15 - cmdstanpy - INFO - Chain [1] start processing\n",
      "08:19:16 - cmdstanpy - INFO - Chain [1] start processing\n",
      "08:19:16 - cmdstanpy - INFO - Chain [1] done processing\n",
      "08:19:17 - cmdstanpy - INFO - Chain [1] done processing\n",
      "08:19:26 - cmdstanpy - INFO - Chain [1] done processing\n",
      "08:19:29 - cmdstanpy - INFO - Chain [1] done processing\n"
     ]
    },
    {
     "name": "stdout",
     "output_type": "stream",
     "text": [
      "{'changepoint_prior_scale': 0.001, 'holidays_prior_scale': 5.01, 'seasonality_mode': 'multiplicative', 'seasonality_prior_scale': 7.51}\n"
     ]
    },
    {
     "name": "stderr",
     "output_type": "stream",
     "text": [
      "08:19:33 - cmdstanpy - INFO - Chain [1] start processing\n",
      "08:19:40 - cmdstanpy - INFO - Chain [1] done processing\n",
      "08:19:43 - cmdstanpy - INFO - Chain [1] start processing\n",
      "08:19:44 - cmdstanpy - INFO - Chain [1] start processing\n",
      "08:19:44 - cmdstanpy - INFO - Chain [1] done processing\n",
      "08:19:45 - cmdstanpy - INFO - Chain [1] start processing\n",
      "08:19:46 - cmdstanpy - INFO - Chain [1] start processing\n",
      "08:19:47 - cmdstanpy - INFO - Chain [1] start processing\n",
      "08:19:50 - cmdstanpy - INFO - Chain [1] done processing\n",
      "08:19:51 - cmdstanpy - INFO - Chain [1] done processing\n",
      "08:19:59 - cmdstanpy - INFO - Chain [1] done processing\n",
      "08:20:03 - cmdstanpy - INFO - Chain [1] done processing\n"
     ]
    },
    {
     "name": "stdout",
     "output_type": "stream",
     "text": [
      "{'changepoint_prior_scale': 0.001, 'holidays_prior_scale': 5.01, 'seasonality_mode': 'additive', 'seasonality_prior_scale': 0.01}\n"
     ]
    },
    {
     "name": "stderr",
     "output_type": "stream",
     "text": [
      "08:20:08 - cmdstanpy - INFO - Chain [1] start processing\n",
      "08:20:19 - cmdstanpy - INFO - Chain [1] done processing\n",
      "08:20:21 - cmdstanpy - INFO - Chain [1] start processing\n",
      "08:20:23 - cmdstanpy - INFO - Chain [1] start processing\n",
      "08:20:23 - cmdstanpy - INFO - Chain [1] done processing\n",
      "08:20:24 - cmdstanpy - INFO - Chain [1] start processing\n",
      "08:20:25 - cmdstanpy - INFO - Chain [1] start processing\n",
      "08:20:26 - cmdstanpy - INFO - Chain [1] start processing\n",
      "08:20:28 - cmdstanpy - INFO - Chain [1] done processing\n",
      "08:20:39 - cmdstanpy - INFO - Chain [1] done processing\n",
      "08:20:39 - cmdstanpy - INFO - Chain [1] done processing\n",
      "08:20:39 - cmdstanpy - INFO - Chain [1] done processing\n"
     ]
    },
    {
     "name": "stdout",
     "output_type": "stream",
     "text": [
      "{'changepoint_prior_scale': 0.001, 'holidays_prior_scale': 5.01, 'seasonality_mode': 'additive', 'seasonality_prior_scale': 2.51}\n"
     ]
    },
    {
     "name": "stderr",
     "output_type": "stream",
     "text": [
      "08:20:47 - cmdstanpy - INFO - Chain [1] start processing\n",
      "08:20:58 - cmdstanpy - INFO - Chain [1] done processing\n",
      "08:21:01 - cmdstanpy - INFO - Chain [1] start processing\n",
      "08:21:02 - cmdstanpy - INFO - Chain [1] start processing\n",
      "08:21:03 - cmdstanpy - INFO - Chain [1] done processing\n",
      "08:21:03 - cmdstanpy - INFO - Chain [1] start processing\n",
      "08:21:05 - cmdstanpy - INFO - Chain [1] start processing\n",
      "08:21:05 - cmdstanpy - INFO - Chain [1] start processing\n",
      "08:21:07 - cmdstanpy - INFO - Chain [1] done processing\n",
      "08:21:15 - cmdstanpy - INFO - Chain [1] done processing\n",
      "08:21:18 - cmdstanpy - INFO - Chain [1] done processing\n",
      "08:21:19 - cmdstanpy - INFO - Chain [1] done processing\n"
     ]
    },
    {
     "name": "stdout",
     "output_type": "stream",
     "text": [
      "{'changepoint_prior_scale': 0.001, 'holidays_prior_scale': 5.01, 'seasonality_mode': 'additive', 'seasonality_prior_scale': 5.01}\n"
     ]
    },
    {
     "name": "stderr",
     "output_type": "stream",
     "text": [
      "08:21:23 - cmdstanpy - INFO - Chain [1] start processing\n",
      "08:21:32 - cmdstanpy - INFO - Chain [1] done processing\n",
      "08:21:35 - cmdstanpy - INFO - Chain [1] start processing\n",
      "08:21:36 - cmdstanpy - INFO - Chain [1] start processing\n",
      "08:21:37 - cmdstanpy - INFO - Chain [1] done processing\n",
      "08:21:37 - cmdstanpy - INFO - Chain [1] start processing\n",
      "08:21:38 - cmdstanpy - INFO - Chain [1] start processing\n",
      "08:21:39 - cmdstanpy - INFO - Chain [1] start processing\n",
      "08:21:41 - cmdstanpy - INFO - Chain [1] done processing\n",
      "08:21:50 - cmdstanpy - INFO - Chain [1] done processing\n",
      "08:21:53 - cmdstanpy - INFO - Chain [1] done processing\n",
      "08:21:54 - cmdstanpy - INFO - Chain [1] done processing\n"
     ]
    },
    {
     "name": "stdout",
     "output_type": "stream",
     "text": [
      "{'changepoint_prior_scale': 0.001, 'holidays_prior_scale': 5.01, 'seasonality_mode': 'additive', 'seasonality_prior_scale': 7.51}\n"
     ]
    },
    {
     "name": "stderr",
     "output_type": "stream",
     "text": [
      "08:21:58 - cmdstanpy - INFO - Chain [1] start processing\n",
      "08:22:09 - cmdstanpy - INFO - Chain [1] done processing\n",
      "08:22:12 - cmdstanpy - INFO - Chain [1] start processing\n",
      "08:22:13 - cmdstanpy - INFO - Chain [1] start processing\n",
      "08:22:14 - cmdstanpy - INFO - Chain [1] done processing\n",
      "08:22:14 - cmdstanpy - INFO - Chain [1] start processing\n",
      "08:22:15 - cmdstanpy - INFO - Chain [1] start processing\n",
      "08:22:16 - cmdstanpy - INFO - Chain [1] start processing\n",
      "08:22:20 - cmdstanpy - INFO - Chain [1] done processing\n",
      "08:22:29 - cmdstanpy - INFO - Chain [1] done processing\n",
      "08:22:30 - cmdstanpy - INFO - Chain [1] done processing\n",
      "08:22:31 - cmdstanpy - INFO - Chain [1] done processing\n"
     ]
    },
    {
     "name": "stdout",
     "output_type": "stream",
     "text": [
      "{'changepoint_prior_scale': 0.001, 'holidays_prior_scale': 7.51, 'seasonality_mode': 'multiplicative', 'seasonality_prior_scale': 0.01}\n"
     ]
    },
    {
     "name": "stderr",
     "output_type": "stream",
     "text": [
      "08:22:36 - cmdstanpy - INFO - Chain [1] start processing\n",
      "08:22:40 - cmdstanpy - INFO - Chain [1] done processing\n",
      "08:22:43 - cmdstanpy - INFO - Chain [1] start processing\n",
      "08:22:44 - cmdstanpy - INFO - Chain [1] start processing\n",
      "08:22:44 - cmdstanpy - INFO - Chain [1] done processing\n",
      "08:22:45 - cmdstanpy - INFO - Chain [1] start processing\n",
      "08:22:46 - cmdstanpy - INFO - Chain [1] start processing\n",
      "08:22:47 - cmdstanpy - INFO - Chain [1] start processing\n",
      "08:22:47 - cmdstanpy - INFO - Chain [1] done processing\n",
      "08:22:50 - cmdstanpy - INFO - Chain [1] done processing\n",
      "08:22:54 - cmdstanpy - INFO - Chain [1] done processing\n",
      "08:22:54 - cmdstanpy - INFO - Chain [1] done processing\n"
     ]
    },
    {
     "name": "stdout",
     "output_type": "stream",
     "text": [
      "{'changepoint_prior_scale': 0.001, 'holidays_prior_scale': 7.51, 'seasonality_mode': 'multiplicative', 'seasonality_prior_scale': 2.51}\n"
     ]
    },
    {
     "name": "stderr",
     "output_type": "stream",
     "text": [
      "08:22:59 - cmdstanpy - INFO - Chain [1] start processing\n",
      "08:23:10 - cmdstanpy - INFO - Chain [1] done processing\n",
      "08:23:12 - cmdstanpy - INFO - Chain [1] start processing\n",
      "08:23:13 - cmdstanpy - INFO - Chain [1] start processing\n",
      "08:23:14 - cmdstanpy - INFO - Chain [1] done processing\n",
      "08:23:15 - cmdstanpy - INFO - Chain [1] start processing\n",
      "08:23:16 - cmdstanpy - INFO - Chain [1] start processing\n",
      "08:23:16 - cmdstanpy - INFO - Chain [1] start processing\n",
      "08:23:18 - cmdstanpy - INFO - Chain [1] done processing\n",
      "08:23:23 - cmdstanpy - INFO - Chain [1] done processing\n",
      "08:23:29 - cmdstanpy - INFO - Chain [1] done processing\n",
      "08:23:36 - cmdstanpy - INFO - Chain [1] done processing\n"
     ]
    },
    {
     "name": "stdout",
     "output_type": "stream",
     "text": [
      "{'changepoint_prior_scale': 0.001, 'holidays_prior_scale': 7.51, 'seasonality_mode': 'multiplicative', 'seasonality_prior_scale': 5.01}\n"
     ]
    },
    {
     "name": "stderr",
     "output_type": "stream",
     "text": [
      "08:23:40 - cmdstanpy - INFO - Chain [1] start processing\n",
      "08:23:47 - cmdstanpy - INFO - Chain [1] done processing\n",
      "08:23:49 - cmdstanpy - INFO - Chain [1] start processing\n",
      "08:23:50 - cmdstanpy - INFO - Chain [1] done processing\n",
      "08:23:50 - cmdstanpy - INFO - Chain [1] start processing\n",
      "08:23:52 - cmdstanpy - INFO - Chain [1] start processing\n",
      "08:23:53 - cmdstanpy - INFO - Chain [1] start processing\n",
      "08:23:53 - cmdstanpy - INFO - Chain [1] start processing\n",
      "08:23:55 - cmdstanpy - INFO - Chain [1] done processing\n",
      "08:23:55 - cmdstanpy - INFO - Chain [1] done processing\n",
      "08:24:05 - cmdstanpy - INFO - Chain [1] done processing\n",
      "08:24:07 - cmdstanpy - INFO - Chain [1] done processing\n"
     ]
    },
    {
     "name": "stdout",
     "output_type": "stream",
     "text": [
      "{'changepoint_prior_scale': 0.001, 'holidays_prior_scale': 7.51, 'seasonality_mode': 'multiplicative', 'seasonality_prior_scale': 7.51}\n"
     ]
    },
    {
     "name": "stderr",
     "output_type": "stream",
     "text": [
      "08:24:11 - cmdstanpy - INFO - Chain [1] start processing\n",
      "08:24:25 - cmdstanpy - INFO - Chain [1] done processing\n",
      "08:24:28 - cmdstanpy - INFO - Chain [1] start processing\n",
      "08:24:28 - cmdstanpy - INFO - Chain [1] start processing\n",
      "08:24:29 - cmdstanpy - INFO - Chain [1] done processing\n",
      "08:24:29 - cmdstanpy - INFO - Chain [1] start processing\n",
      "08:24:31 - cmdstanpy - INFO - Chain [1] start processing\n",
      "08:24:32 - cmdstanpy - INFO - Chain [1] start processing\n",
      "08:24:33 - cmdstanpy - INFO - Chain [1] done processing\n",
      "08:24:34 - cmdstanpy - INFO - Chain [1] done processing\n",
      "08:24:39 - cmdstanpy - INFO - Chain [1] done processing\n",
      "08:24:47 - cmdstanpy - INFO - Chain [1] done processing\n"
     ]
    },
    {
     "name": "stdout",
     "output_type": "stream",
     "text": [
      "{'changepoint_prior_scale': 0.001, 'holidays_prior_scale': 7.51, 'seasonality_mode': 'additive', 'seasonality_prior_scale': 0.01}\n"
     ]
    },
    {
     "name": "stderr",
     "output_type": "stream",
     "text": [
      "08:24:51 - cmdstanpy - INFO - Chain [1] start processing\n",
      "08:25:00 - cmdstanpy - INFO - Chain [1] done processing\n",
      "08:25:03 - cmdstanpy - INFO - Chain [1] start processing\n",
      "08:25:04 - cmdstanpy - INFO - Chain [1] start processing\n",
      "08:25:04 - cmdstanpy - INFO - Chain [1] done processing\n",
      "08:25:05 - cmdstanpy - INFO - Chain [1] start processing\n",
      "08:25:06 - cmdstanpy - INFO - Chain [1] start processing\n",
      "08:25:07 - cmdstanpy - INFO - Chain [1] start processing\n",
      "08:25:07 - cmdstanpy - INFO - Chain [1] done processing\n",
      "08:25:18 - cmdstanpy - INFO - Chain [1] done processing\n",
      "08:25:18 - cmdstanpy - INFO - Chain [1] done processing\n",
      "08:25:21 - cmdstanpy - INFO - Chain [1] done processing\n"
     ]
    },
    {
     "name": "stdout",
     "output_type": "stream",
     "text": [
      "{'changepoint_prior_scale': 0.001, 'holidays_prior_scale': 7.51, 'seasonality_mode': 'additive', 'seasonality_prior_scale': 2.51}\n"
     ]
    },
    {
     "name": "stderr",
     "output_type": "stream",
     "text": [
      "08:25:25 - cmdstanpy - INFO - Chain [1] start processing\n",
      "08:25:37 - cmdstanpy - INFO - Chain [1] done processing\n",
      "08:25:40 - cmdstanpy - INFO - Chain [1] start processing\n",
      "08:25:41 - cmdstanpy - INFO - Chain [1] start processing\n",
      "08:25:42 - cmdstanpy - INFO - Chain [1] start processing\n",
      "08:25:42 - cmdstanpy - INFO - Chain [1] done processing\n",
      "08:25:43 - cmdstanpy - INFO - Chain [1] start processing\n",
      "08:25:44 - cmdstanpy - INFO - Chain [1] start processing\n",
      "08:25:46 - cmdstanpy - INFO - Chain [1] done processing\n",
      "08:25:54 - cmdstanpy - INFO - Chain [1] done processing\n",
      "08:25:56 - cmdstanpy - INFO - Chain [1] done processing\n",
      "08:25:57 - cmdstanpy - INFO - Chain [1] done processing\n"
     ]
    },
    {
     "name": "stdout",
     "output_type": "stream",
     "text": [
      "{'changepoint_prior_scale': 0.001, 'holidays_prior_scale': 7.51, 'seasonality_mode': 'additive', 'seasonality_prior_scale': 5.01}\n"
     ]
    },
    {
     "name": "stderr",
     "output_type": "stream",
     "text": [
      "08:26:02 - cmdstanpy - INFO - Chain [1] start processing\n",
      "08:26:14 - cmdstanpy - INFO - Chain [1] done processing\n",
      "08:26:17 - cmdstanpy - INFO - Chain [1] start processing\n",
      "08:26:18 - cmdstanpy - INFO - Chain [1] start processing\n",
      "08:26:18 - cmdstanpy - INFO - Chain [1] done processing\n",
      "08:26:19 - cmdstanpy - INFO - Chain [1] start processing\n",
      "08:26:20 - cmdstanpy - INFO - Chain [1] start processing\n",
      "08:26:21 - cmdstanpy - INFO - Chain [1] start processing\n",
      "08:26:22 - cmdstanpy - INFO - Chain [1] done processing\n",
      "08:26:33 - cmdstanpy - INFO - Chain [1] done processing\n",
      "08:26:33 - cmdstanpy - INFO - Chain [1] done processing\n",
      "08:26:35 - cmdstanpy - INFO - Chain [1] done processing\n"
     ]
    },
    {
     "name": "stdout",
     "output_type": "stream",
     "text": [
      "{'changepoint_prior_scale': 0.001, 'holidays_prior_scale': 7.51, 'seasonality_mode': 'additive', 'seasonality_prior_scale': 7.51}\n"
     ]
    },
    {
     "name": "stderr",
     "output_type": "stream",
     "text": [
      "08:26:40 - cmdstanpy - INFO - Chain [1] start processing\n",
      "08:26:53 - cmdstanpy - INFO - Chain [1] done processing\n",
      "08:26:55 - cmdstanpy - INFO - Chain [1] start processing\n",
      "08:26:56 - cmdstanpy - INFO - Chain [1] start processing\n",
      "08:26:57 - cmdstanpy - INFO - Chain [1] done processing\n",
      "08:26:57 - cmdstanpy - INFO - Chain [1] start processing\n",
      "08:26:59 - cmdstanpy - INFO - Chain [1] start processing\n",
      "08:27:00 - cmdstanpy - INFO - Chain [1] start processing\n",
      "08:27:00 - cmdstanpy - INFO - Chain [1] done processing\n",
      "08:27:11 - cmdstanpy - INFO - Chain [1] done processing\n",
      "08:27:12 - cmdstanpy - INFO - Chain [1] done processing\n",
      "08:27:14 - cmdstanpy - INFO - Chain [1] done processing\n"
     ]
    },
    {
     "name": "stdout",
     "output_type": "stream",
     "text": [
      "{'changepoint_prior_scale': 0.101, 'holidays_prior_scale': 0.01, 'seasonality_mode': 'multiplicative', 'seasonality_prior_scale': 0.01}\n"
     ]
    },
    {
     "name": "stderr",
     "output_type": "stream",
     "text": [
      "08:27:18 - cmdstanpy - INFO - Chain [1] start processing\n",
      "08:27:31 - cmdstanpy - INFO - Chain [1] done processing\n",
      "08:27:33 - cmdstanpy - INFO - Chain [1] start processing\n",
      "08:27:35 - cmdstanpy - INFO - Chain [1] start processing\n",
      "08:27:35 - cmdstanpy - INFO - Chain [1] done processing\n",
      "08:27:35 - cmdstanpy - INFO - Chain [1] start processing\n",
      "08:27:37 - cmdstanpy - INFO - Chain [1] start processing\n",
      "08:27:38 - cmdstanpy - INFO - Chain [1] start processing\n",
      "08:27:42 - cmdstanpy - INFO - Chain [1] done processing\n",
      "08:27:46 - cmdstanpy - INFO - Chain [1] done processing\n",
      "08:27:48 - cmdstanpy - INFO - Chain [1] done processing\n",
      "08:27:52 - cmdstanpy - INFO - Chain [1] done processing\n"
     ]
    },
    {
     "name": "stdout",
     "output_type": "stream",
     "text": [
      "{'changepoint_prior_scale': 0.101, 'holidays_prior_scale': 0.01, 'seasonality_mode': 'multiplicative', 'seasonality_prior_scale': 2.51}\n"
     ]
    },
    {
     "name": "stderr",
     "output_type": "stream",
     "text": [
      "08:27:56 - cmdstanpy - INFO - Chain [1] start processing\n",
      "08:28:12 - cmdstanpy - INFO - Chain [1] done processing\n",
      "08:28:14 - cmdstanpy - INFO - Chain [1] start processing\n",
      "08:28:15 - cmdstanpy - INFO - Chain [1] start processing\n",
      "08:28:16 - cmdstanpy - INFO - Chain [1] start processing\n",
      "08:28:17 - cmdstanpy - INFO - Chain [1] start processing\n",
      "08:28:18 - cmdstanpy - INFO - Chain [1] start processing\n",
      "08:28:19 - cmdstanpy - INFO - Chain [1] done processing\n",
      "08:28:23 - cmdstanpy - INFO - Chain [1] done processing\n",
      "08:28:29 - cmdstanpy - INFO - Chain [1] done processing\n",
      "08:28:30 - cmdstanpy - INFO - Chain [1] done processing\n",
      "08:28:36 - cmdstanpy - INFO - Chain [1] done processing\n"
     ]
    },
    {
     "name": "stdout",
     "output_type": "stream",
     "text": [
      "{'changepoint_prior_scale': 0.101, 'holidays_prior_scale': 0.01, 'seasonality_mode': 'multiplicative', 'seasonality_prior_scale': 5.01}\n"
     ]
    },
    {
     "name": "stderr",
     "output_type": "stream",
     "text": [
      "08:28:40 - cmdstanpy - INFO - Chain [1] start processing\n",
      "08:28:54 - cmdstanpy - INFO - Chain [1] done processing\n",
      "08:28:56 - cmdstanpy - INFO - Chain [1] start processing\n",
      "08:28:58 - cmdstanpy - INFO - Chain [1] start processing\n",
      "08:28:58 - cmdstanpy - INFO - Chain [1] start processing\n",
      "08:28:59 - cmdstanpy - INFO - Chain [1] start processing\n",
      "08:29:00 - cmdstanpy - INFO - Chain [1] start processing\n",
      "08:29:01 - cmdstanpy - INFO - Chain [1] done processing\n",
      "08:29:10 - cmdstanpy - INFO - Chain [1] done processing\n",
      "08:29:13 - cmdstanpy - INFO - Chain [1] done processing\n",
      "08:29:14 - cmdstanpy - INFO - Chain [1] done processing\n",
      "08:29:20 - cmdstanpy - INFO - Chain [1] done processing\n"
     ]
    },
    {
     "name": "stdout",
     "output_type": "stream",
     "text": [
      "{'changepoint_prior_scale': 0.101, 'holidays_prior_scale': 0.01, 'seasonality_mode': 'multiplicative', 'seasonality_prior_scale': 7.51}\n"
     ]
    },
    {
     "name": "stderr",
     "output_type": "stream",
     "text": [
      "08:29:24 - cmdstanpy - INFO - Chain [1] start processing\n",
      "08:29:40 - cmdstanpy - INFO - Chain [1] done processing\n",
      "08:29:42 - cmdstanpy - INFO - Chain [1] start processing\n",
      "08:29:43 - cmdstanpy - INFO - Chain [1] start processing\n",
      "08:29:44 - cmdstanpy - INFO - Chain [1] start processing\n",
      "08:29:45 - cmdstanpy - INFO - Chain [1] start processing\n",
      "08:29:46 - cmdstanpy - INFO - Chain [1] start processing\n",
      "08:29:47 - cmdstanpy - INFO - Chain [1] done processing\n",
      "08:29:52 - cmdstanpy - INFO - Chain [1] done processing\n",
      "08:29:57 - cmdstanpy - INFO - Chain [1] done processing\n",
      "08:29:59 - cmdstanpy - INFO - Chain [1] done processing\n",
      "08:30:02 - cmdstanpy - INFO - Chain [1] done processing\n"
     ]
    },
    {
     "name": "stdout",
     "output_type": "stream",
     "text": [
      "{'changepoint_prior_scale': 0.101, 'holidays_prior_scale': 0.01, 'seasonality_mode': 'additive', 'seasonality_prior_scale': 0.01}\n"
     ]
    },
    {
     "name": "stderr",
     "output_type": "stream",
     "text": [
      "08:30:06 - cmdstanpy - INFO - Chain [1] start processing\n",
      "08:30:16 - cmdstanpy - INFO - Chain [1] done processing\n",
      "08:30:18 - cmdstanpy - INFO - Chain [1] start processing\n",
      "08:30:19 - cmdstanpy - INFO - Chain [1] start processing\n",
      "08:30:20 - cmdstanpy - INFO - Chain [1] start processing\n",
      "08:30:21 - cmdstanpy - INFO - Chain [1] start processing\n",
      "08:30:22 - cmdstanpy - INFO - Chain [1] start processing\n",
      "08:30:24 - cmdstanpy - INFO - Chain [1] done processing\n",
      "08:30:25 - cmdstanpy - INFO - Chain [1] done processing\n",
      "08:30:32 - cmdstanpy - INFO - Chain [1] done processing\n",
      "08:30:33 - cmdstanpy - INFO - Chain [1] done processing\n",
      "08:30:36 - cmdstanpy - INFO - Chain [1] done processing\n"
     ]
    },
    {
     "name": "stdout",
     "output_type": "stream",
     "text": [
      "{'changepoint_prior_scale': 0.101, 'holidays_prior_scale': 0.01, 'seasonality_mode': 'additive', 'seasonality_prior_scale': 2.51}\n"
     ]
    },
    {
     "name": "stderr",
     "output_type": "stream",
     "text": [
      "08:30:41 - cmdstanpy - INFO - Chain [1] start processing\n",
      "08:30:48 - cmdstanpy - INFO - Chain [1] done processing\n",
      "08:30:51 - cmdstanpy - INFO - Chain [1] start processing\n",
      "08:30:52 - cmdstanpy - INFO - Chain [1] start processing\n",
      "08:30:53 - cmdstanpy - INFO - Chain [1] start processing\n",
      "08:30:54 - cmdstanpy - INFO - Chain [1] start processing\n",
      "08:30:54 - cmdstanpy - INFO - Chain [1] start processing\n",
      "08:30:55 - cmdstanpy - INFO - Chain [1] done processing\n",
      "08:30:59 - cmdstanpy - INFO - Chain [1] done processing\n",
      "08:31:03 - cmdstanpy - INFO - Chain [1] done processing\n",
      "08:31:06 - cmdstanpy - INFO - Chain [1] done processing\n",
      "08:31:08 - cmdstanpy - INFO - Chain [1] done processing\n"
     ]
    },
    {
     "name": "stdout",
     "output_type": "stream",
     "text": [
      "{'changepoint_prior_scale': 0.101, 'holidays_prior_scale': 0.01, 'seasonality_mode': 'additive', 'seasonality_prior_scale': 5.01}\n"
     ]
    },
    {
     "name": "stderr",
     "output_type": "stream",
     "text": [
      "08:31:13 - cmdstanpy - INFO - Chain [1] start processing\n",
      "08:31:21 - cmdstanpy - INFO - Chain [1] done processing\n",
      "08:31:24 - cmdstanpy - INFO - Chain [1] start processing\n",
      "08:31:25 - cmdstanpy - INFO - Chain [1] start processing\n",
      "08:31:26 - cmdstanpy - INFO - Chain [1] start processing\n",
      "08:31:27 - cmdstanpy - INFO - Chain [1] start processing\n",
      "08:31:27 - cmdstanpy - INFO - Chain [1] done processing\n",
      "08:31:28 - cmdstanpy - INFO - Chain [1] start processing\n",
      "08:31:33 - cmdstanpy - INFO - Chain [1] done processing\n",
      "08:31:36 - cmdstanpy - INFO - Chain [1] done processing\n",
      "08:31:36 - cmdstanpy - INFO - Chain [1] done processing\n",
      "08:31:44 - cmdstanpy - INFO - Chain [1] done processing\n"
     ]
    },
    {
     "name": "stdout",
     "output_type": "stream",
     "text": [
      "{'changepoint_prior_scale': 0.101, 'holidays_prior_scale': 0.01, 'seasonality_mode': 'additive', 'seasonality_prior_scale': 7.51}\n"
     ]
    },
    {
     "name": "stderr",
     "output_type": "stream",
     "text": [
      "08:31:48 - cmdstanpy - INFO - Chain [1] start processing\n",
      "08:31:56 - cmdstanpy - INFO - Chain [1] done processing\n",
      "08:31:59 - cmdstanpy - INFO - Chain [1] start processing\n",
      "08:32:00 - cmdstanpy - INFO - Chain [1] start processing\n",
      "08:32:01 - cmdstanpy - INFO - Chain [1] start processing\n",
      "08:32:02 - cmdstanpy - INFO - Chain [1] start processing\n",
      "08:32:03 - cmdstanpy - INFO - Chain [1] start processing\n",
      "08:32:03 - cmdstanpy - INFO - Chain [1] done processing\n",
      "08:32:05 - cmdstanpy - INFO - Chain [1] done processing\n",
      "08:32:13 - cmdstanpy - INFO - Chain [1] done processing\n",
      "08:32:14 - cmdstanpy - INFO - Chain [1] done processing\n",
      "08:32:16 - cmdstanpy - INFO - Chain [1] done processing\n"
     ]
    },
    {
     "name": "stdout",
     "output_type": "stream",
     "text": [
      "{'changepoint_prior_scale': 0.101, 'holidays_prior_scale': 2.51, 'seasonality_mode': 'multiplicative', 'seasonality_prior_scale': 0.01}\n"
     ]
    },
    {
     "name": "stderr",
     "output_type": "stream",
     "text": [
      "08:32:20 - cmdstanpy - INFO - Chain [1] start processing\n",
      "08:32:32 - cmdstanpy - INFO - Chain [1] done processing\n",
      "08:32:35 - cmdstanpy - INFO - Chain [1] start processing\n",
      "08:32:36 - cmdstanpy - INFO - Chain [1] start processing\n",
      "08:32:37 - cmdstanpy - INFO - Chain [1] start processing\n",
      "08:32:38 - cmdstanpy - INFO - Chain [1] start processing\n",
      "08:32:39 - cmdstanpy - INFO - Chain [1] start processing\n",
      "08:32:39 - cmdstanpy - INFO - Chain [1] done processing\n",
      "08:32:46 - cmdstanpy - INFO - Chain [1] done processing\n",
      "08:32:47 - cmdstanpy - INFO - Chain [1] done processing\n",
      "08:32:52 - cmdstanpy - INFO - Chain [1] done processing\n",
      "08:32:55 - cmdstanpy - INFO - Chain [1] done processing\n"
     ]
    },
    {
     "name": "stdout",
     "output_type": "stream",
     "text": [
      "{'changepoint_prior_scale': 0.101, 'holidays_prior_scale': 2.51, 'seasonality_mode': 'multiplicative', 'seasonality_prior_scale': 2.51}\n"
     ]
    },
    {
     "name": "stderr",
     "output_type": "stream",
     "text": [
      "08:32:59 - cmdstanpy - INFO - Chain [1] start processing\n",
      "08:33:11 - cmdstanpy - INFO - Chain [1] done processing\n",
      "08:33:14 - cmdstanpy - INFO - Chain [1] start processing\n",
      "08:33:15 - cmdstanpy - INFO - Chain [1] start processing\n",
      "08:33:16 - cmdstanpy - INFO - Chain [1] start processing\n",
      "08:33:17 - cmdstanpy - INFO - Chain [1] start processing\n",
      "08:33:17 - cmdstanpy - INFO - Chain [1] start processing\n",
      "08:33:20 - cmdstanpy - INFO - Chain [1] done processing\n",
      "08:33:30 - cmdstanpy - INFO - Chain [1] done processing\n",
      "08:33:30 - cmdstanpy - INFO - Chain [1] done processing\n",
      "08:33:43 - cmdstanpy - INFO - Chain [1] done processing\n",
      "08:33:45 - cmdstanpy - INFO - Chain [1] done processing\n"
     ]
    },
    {
     "name": "stdout",
     "output_type": "stream",
     "text": [
      "{'changepoint_prior_scale': 0.101, 'holidays_prior_scale': 2.51, 'seasonality_mode': 'multiplicative', 'seasonality_prior_scale': 5.01}\n"
     ]
    },
    {
     "name": "stderr",
     "output_type": "stream",
     "text": [
      "08:33:49 - cmdstanpy - INFO - Chain [1] start processing\n",
      "08:34:01 - cmdstanpy - INFO - Chain [1] done processing\n",
      "08:34:04 - cmdstanpy - INFO - Chain [1] start processing\n",
      "08:34:05 - cmdstanpy - INFO - Chain [1] start processing\n",
      "08:34:06 - cmdstanpy - INFO - Chain [1] start processing\n",
      "08:34:07 - cmdstanpy - INFO - Chain [1] start processing\n",
      "08:34:08 - cmdstanpy - INFO - Chain [1] start processing\n",
      "08:34:12 - cmdstanpy - INFO - Chain [1] done processing\n",
      "08:34:19 - cmdstanpy - INFO - Chain [1] done processing\n",
      "08:34:22 - cmdstanpy - INFO - Chain [1] done processing\n",
      "08:34:34 - cmdstanpy - INFO - Chain [1] done processing\n",
      "08:34:37 - cmdstanpy - INFO - Chain [1] done processing\n"
     ]
    },
    {
     "name": "stdout",
     "output_type": "stream",
     "text": [
      "{'changepoint_prior_scale': 0.101, 'holidays_prior_scale': 2.51, 'seasonality_mode': 'multiplicative', 'seasonality_prior_scale': 7.51}\n"
     ]
    },
    {
     "name": "stderr",
     "output_type": "stream",
     "text": [
      "08:34:42 - cmdstanpy - INFO - Chain [1] start processing\n",
      "08:34:55 - cmdstanpy - INFO - Chain [1] done processing\n",
      "08:34:57 - cmdstanpy - INFO - Chain [1] start processing\n",
      "08:34:58 - cmdstanpy - INFO - Chain [1] start processing\n",
      "08:34:59 - cmdstanpy - INFO - Chain [1] start processing\n",
      "08:35:00 - cmdstanpy - INFO - Chain [1] start processing\n",
      "08:35:01 - cmdstanpy - INFO - Chain [1] start processing\n",
      "08:35:04 - cmdstanpy - INFO - Chain [1] done processing\n",
      "08:35:11 - cmdstanpy - INFO - Chain [1] done processing\n",
      "08:35:16 - cmdstanpy - INFO - Chain [1] done processing\n",
      "08:35:27 - cmdstanpy - INFO - Chain [1] done processing\n",
      "08:35:31 - cmdstanpy - INFO - Chain [1] done processing\n"
     ]
    },
    {
     "name": "stdout",
     "output_type": "stream",
     "text": [
      "{'changepoint_prior_scale': 0.101, 'holidays_prior_scale': 2.51, 'seasonality_mode': 'additive', 'seasonality_prior_scale': 0.01}\n"
     ]
    },
    {
     "name": "stderr",
     "output_type": "stream",
     "text": [
      "08:35:35 - cmdstanpy - INFO - Chain [1] start processing\n",
      "08:35:43 - cmdstanpy - INFO - Chain [1] done processing\n",
      "08:35:45 - cmdstanpy - INFO - Chain [1] start processing\n",
      "08:35:47 - cmdstanpy - INFO - Chain [1] start processing\n",
      "08:35:48 - cmdstanpy - INFO - Chain [1] start processing\n",
      "08:35:48 - cmdstanpy - INFO - Chain [1] start processing\n",
      "08:35:49 - cmdstanpy - INFO - Chain [1] start processing\n",
      "08:35:50 - cmdstanpy - INFO - Chain [1] done processing\n",
      "08:35:54 - cmdstanpy - INFO - Chain [1] done processing\n",
      "08:35:58 - cmdstanpy - INFO - Chain [1] done processing\n",
      "08:36:01 - cmdstanpy - INFO - Chain [1] done processing\n",
      "08:36:04 - cmdstanpy - INFO - Chain [1] done processing\n"
     ]
    },
    {
     "name": "stdout",
     "output_type": "stream",
     "text": [
      "{'changepoint_prior_scale': 0.101, 'holidays_prior_scale': 2.51, 'seasonality_mode': 'additive', 'seasonality_prior_scale': 2.51}\n"
     ]
    },
    {
     "name": "stderr",
     "output_type": "stream",
     "text": [
      "08:36:08 - cmdstanpy - INFO - Chain [1] start processing\n",
      "08:36:16 - cmdstanpy - INFO - Chain [1] done processing\n",
      "08:36:19 - cmdstanpy - INFO - Chain [1] start processing\n",
      "08:36:20 - cmdstanpy - INFO - Chain [1] start processing\n",
      "08:36:21 - cmdstanpy - INFO - Chain [1] start processing\n",
      "08:36:22 - cmdstanpy - INFO - Chain [1] done processing\n",
      "08:36:22 - cmdstanpy - INFO - Chain [1] start processing\n",
      "08:36:24 - cmdstanpy - INFO - Chain [1] start processing\n",
      "08:36:26 - cmdstanpy - INFO - Chain [1] done processing\n",
      "08:36:32 - cmdstanpy - INFO - Chain [1] done processing\n",
      "08:36:34 - cmdstanpy - INFO - Chain [1] done processing\n",
      "08:36:37 - cmdstanpy - INFO - Chain [1] done processing\n"
     ]
    },
    {
     "name": "stdout",
     "output_type": "stream",
     "text": [
      "{'changepoint_prior_scale': 0.101, 'holidays_prior_scale': 2.51, 'seasonality_mode': 'additive', 'seasonality_prior_scale': 5.01}\n"
     ]
    },
    {
     "name": "stderr",
     "output_type": "stream",
     "text": [
      "08:36:42 - cmdstanpy - INFO - Chain [1] start processing\n",
      "08:36:51 - cmdstanpy - INFO - Chain [1] done processing\n",
      "08:36:54 - cmdstanpy - INFO - Chain [1] start processing\n",
      "08:36:55 - cmdstanpy - INFO - Chain [1] start processing\n",
      "08:36:56 - cmdstanpy - INFO - Chain [1] start processing\n",
      "08:36:57 - cmdstanpy - INFO - Chain [1] start processing\n",
      "08:36:57 - cmdstanpy - INFO - Chain [1] done processing\n",
      "08:36:58 - cmdstanpy - INFO - Chain [1] start processing\n",
      "08:37:01 - cmdstanpy - INFO - Chain [1] done processing\n",
      "08:37:05 - cmdstanpy - INFO - Chain [1] done processing\n",
      "08:37:08 - cmdstanpy - INFO - Chain [1] done processing\n",
      "08:37:10 - cmdstanpy - INFO - Chain [1] done processing\n"
     ]
    },
    {
     "name": "stdout",
     "output_type": "stream",
     "text": [
      "{'changepoint_prior_scale': 0.101, 'holidays_prior_scale': 2.51, 'seasonality_mode': 'additive', 'seasonality_prior_scale': 7.51}\n"
     ]
    },
    {
     "name": "stderr",
     "output_type": "stream",
     "text": [
      "08:37:15 - cmdstanpy - INFO - Chain [1] start processing\n",
      "08:37:23 - cmdstanpy - INFO - Chain [1] done processing\n",
      "08:37:26 - cmdstanpy - INFO - Chain [1] start processing\n",
      "08:37:27 - cmdstanpy - INFO - Chain [1] start processing\n",
      "08:37:28 - cmdstanpy - INFO - Chain [1] start processing\n",
      "08:37:29 - cmdstanpy - INFO - Chain [1] start processing\n",
      "08:37:29 - cmdstanpy - INFO - Chain [1] start processing\n",
      "08:37:31 - cmdstanpy - INFO - Chain [1] done processing\n",
      "08:37:33 - cmdstanpy - INFO - Chain [1] done processing\n",
      "08:37:40 - cmdstanpy - INFO - Chain [1] done processing\n",
      "08:37:40 - cmdstanpy - INFO - Chain [1] done processing\n",
      "08:37:44 - cmdstanpy - INFO - Chain [1] done processing\n"
     ]
    },
    {
     "name": "stdout",
     "output_type": "stream",
     "text": [
      "{'changepoint_prior_scale': 0.101, 'holidays_prior_scale': 5.01, 'seasonality_mode': 'multiplicative', 'seasonality_prior_scale': 0.01}\n"
     ]
    },
    {
     "name": "stderr",
     "output_type": "stream",
     "text": [
      "08:37:49 - cmdstanpy - INFO - Chain [1] start processing\n",
      "08:38:00 - cmdstanpy - INFO - Chain [1] done processing\n",
      "08:38:03 - cmdstanpy - INFO - Chain [1] start processing\n",
      "08:38:04 - cmdstanpy - INFO - Chain [1] start processing\n",
      "08:38:05 - cmdstanpy - INFO - Chain [1] start processing\n",
      "08:38:06 - cmdstanpy - INFO - Chain [1] start processing\n",
      "08:38:07 - cmdstanpy - INFO - Chain [1] start processing\n",
      "08:38:08 - cmdstanpy - INFO - Chain [1] done processing\n",
      "08:38:14 - cmdstanpy - INFO - Chain [1] done processing\n",
      "08:38:18 - cmdstanpy - INFO - Chain [1] done processing\n",
      "08:38:22 - cmdstanpy - INFO - Chain [1] done processing\n",
      "08:38:24 - cmdstanpy - INFO - Chain [1] done processing\n"
     ]
    },
    {
     "name": "stdout",
     "output_type": "stream",
     "text": [
      "{'changepoint_prior_scale': 0.101, 'holidays_prior_scale': 5.01, 'seasonality_mode': 'multiplicative', 'seasonality_prior_scale': 2.51}\n"
     ]
    },
    {
     "name": "stderr",
     "output_type": "stream",
     "text": [
      "08:38:29 - cmdstanpy - INFO - Chain [1] start processing\n",
      "08:38:44 - cmdstanpy - INFO - Chain [1] done processing\n",
      "08:38:46 - cmdstanpy - INFO - Chain [1] start processing\n",
      "08:38:47 - cmdstanpy - INFO - Chain [1] start processing\n",
      "08:38:48 - cmdstanpy - INFO - Chain [1] start processing\n",
      "08:38:49 - cmdstanpy - INFO - Chain [1] start processing\n",
      "08:38:50 - cmdstanpy - INFO - Chain [1] start processing\n",
      "08:39:03 - cmdstanpy - INFO - Chain [1] done processing\n",
      "08:39:05 - cmdstanpy - INFO - Chain [1] done processing\n",
      "08:39:10 - cmdstanpy - INFO - Chain [1] done processing\n",
      "08:39:18 - cmdstanpy - INFO - Chain [1] done processing\n",
      "08:39:18 - cmdstanpy - INFO - Chain [1] done processing\n"
     ]
    },
    {
     "name": "stdout",
     "output_type": "stream",
     "text": [
      "{'changepoint_prior_scale': 0.101, 'holidays_prior_scale': 5.01, 'seasonality_mode': 'multiplicative', 'seasonality_prior_scale': 5.01}\n"
     ]
    },
    {
     "name": "stderr",
     "output_type": "stream",
     "text": [
      "08:39:23 - cmdstanpy - INFO - Chain [1] start processing\n",
      "08:39:37 - cmdstanpy - INFO - Chain [1] done processing\n",
      "08:39:40 - cmdstanpy - INFO - Chain [1] start processing\n",
      "08:39:41 - cmdstanpy - INFO - Chain [1] start processing\n",
      "08:39:42 - cmdstanpy - INFO - Chain [1] start processing\n",
      "08:39:43 - cmdstanpy - INFO - Chain [1] start processing\n",
      "08:39:44 - cmdstanpy - INFO - Chain [1] start processing\n",
      "08:39:48 - cmdstanpy - INFO - Chain [1] done processing\n",
      "08:39:56 - cmdstanpy - INFO - Chain [1] done processing\n",
      "08:39:58 - cmdstanpy - INFO - Chain [1] done processing\n",
      "08:40:10 - cmdstanpy - INFO - Chain [1] done processing\n",
      "08:40:12 - cmdstanpy - INFO - Chain [1] done processing\n"
     ]
    },
    {
     "name": "stdout",
     "output_type": "stream",
     "text": [
      "{'changepoint_prior_scale': 0.101, 'holidays_prior_scale': 5.01, 'seasonality_mode': 'multiplicative', 'seasonality_prior_scale': 7.51}\n"
     ]
    },
    {
     "name": "stderr",
     "output_type": "stream",
     "text": [
      "08:40:17 - cmdstanpy - INFO - Chain [1] start processing\n",
      "08:40:29 - cmdstanpy - INFO - Chain [1] done processing\n",
      "08:40:32 - cmdstanpy - INFO - Chain [1] start processing\n",
      "08:40:33 - cmdstanpy - INFO - Chain [1] start processing\n",
      "08:40:34 - cmdstanpy - INFO - Chain [1] start processing\n",
      "08:40:35 - cmdstanpy - INFO - Chain [1] start processing\n",
      "08:40:36 - cmdstanpy - INFO - Chain [1] start processing\n",
      "08:40:38 - cmdstanpy - INFO - Chain [1] done processing\n",
      "08:40:47 - cmdstanpy - INFO - Chain [1] done processing\n",
      "08:40:50 - cmdstanpy - INFO - Chain [1] done processing\n",
      "08:41:03 - cmdstanpy - INFO - Chain [1] done processing\n",
      "08:41:05 - cmdstanpy - INFO - Chain [1] done processing\n"
     ]
    },
    {
     "name": "stdout",
     "output_type": "stream",
     "text": [
      "{'changepoint_prior_scale': 0.101, 'holidays_prior_scale': 5.01, 'seasonality_mode': 'additive', 'seasonality_prior_scale': 0.01}\n"
     ]
    },
    {
     "name": "stderr",
     "output_type": "stream",
     "text": [
      "08:41:09 - cmdstanpy - INFO - Chain [1] start processing\n",
      "08:41:16 - cmdstanpy - INFO - Chain [1] done processing\n",
      "08:41:19 - cmdstanpy - INFO - Chain [1] start processing\n",
      "08:41:20 - cmdstanpy - INFO - Chain [1] start processing\n",
      "08:41:21 - cmdstanpy - INFO - Chain [1] start processing\n",
      "08:41:22 - cmdstanpy - INFO - Chain [1] start processing\n",
      "08:41:23 - cmdstanpy - INFO - Chain [1] start processing\n",
      "08:41:23 - cmdstanpy - INFO - Chain [1] done processing\n",
      "08:41:26 - cmdstanpy - INFO - Chain [1] done processing\n",
      "08:41:32 - cmdstanpy - INFO - Chain [1] done processing\n",
      "08:41:32 - cmdstanpy - INFO - Chain [1] done processing\n",
      "08:41:41 - cmdstanpy - INFO - Chain [1] done processing\n"
     ]
    },
    {
     "name": "stdout",
     "output_type": "stream",
     "text": [
      "{'changepoint_prior_scale': 0.101, 'holidays_prior_scale': 5.01, 'seasonality_mode': 'additive', 'seasonality_prior_scale': 2.51}\n"
     ]
    },
    {
     "name": "stderr",
     "output_type": "stream",
     "text": [
      "08:41:45 - cmdstanpy - INFO - Chain [1] start processing\n",
      "08:41:54 - cmdstanpy - INFO - Chain [1] done processing\n",
      "08:41:57 - cmdstanpy - INFO - Chain [1] start processing\n",
      "08:41:58 - cmdstanpy - INFO - Chain [1] start processing\n",
      "08:41:59 - cmdstanpy - INFO - Chain [1] start processing\n",
      "08:42:00 - cmdstanpy - INFO - Chain [1] start processing\n",
      "08:42:01 - cmdstanpy - INFO - Chain [1] start processing\n",
      "08:42:02 - cmdstanpy - INFO - Chain [1] done processing\n",
      "08:42:05 - cmdstanpy - INFO - Chain [1] done processing\n",
      "08:42:09 - cmdstanpy - INFO - Chain [1] done processing\n",
      "08:42:11 - cmdstanpy - INFO - Chain [1] done processing\n",
      "08:42:13 - cmdstanpy - INFO - Chain [1] done processing\n"
     ]
    },
    {
     "name": "stdout",
     "output_type": "stream",
     "text": [
      "{'changepoint_prior_scale': 0.101, 'holidays_prior_scale': 5.01, 'seasonality_mode': 'additive', 'seasonality_prior_scale': 5.01}\n"
     ]
    },
    {
     "name": "stderr",
     "output_type": "stream",
     "text": [
      "08:42:17 - cmdstanpy - INFO - Chain [1] start processing\n",
      "08:42:28 - cmdstanpy - INFO - Chain [1] done processing\n",
      "08:42:30 - cmdstanpy - INFO - Chain [1] start processing\n",
      "08:42:32 - cmdstanpy - INFO - Chain [1] start processing\n",
      "08:42:33 - cmdstanpy - INFO - Chain [1] start processing\n",
      "08:42:33 - cmdstanpy - INFO - Chain [1] start processing\n",
      "08:42:34 - cmdstanpy - INFO - Chain [1] start processing\n",
      "08:42:35 - cmdstanpy - INFO - Chain [1] done processing\n",
      "08:42:38 - cmdstanpy - INFO - Chain [1] done processing\n",
      "08:42:43 - cmdstanpy - INFO - Chain [1] done processing\n",
      "08:42:44 - cmdstanpy - INFO - Chain [1] done processing\n",
      "08:42:45 - cmdstanpy - INFO - Chain [1] done processing\n"
     ]
    },
    {
     "name": "stdout",
     "output_type": "stream",
     "text": [
      "{'changepoint_prior_scale': 0.101, 'holidays_prior_scale': 5.01, 'seasonality_mode': 'additive', 'seasonality_prior_scale': 7.51}\n"
     ]
    },
    {
     "name": "stderr",
     "output_type": "stream",
     "text": [
      "08:42:49 - cmdstanpy - INFO - Chain [1] start processing\n",
      "08:43:00 - cmdstanpy - INFO - Chain [1] done processing\n",
      "08:43:03 - cmdstanpy - INFO - Chain [1] start processing\n",
      "08:43:04 - cmdstanpy - INFO - Chain [1] start processing\n",
      "08:43:05 - cmdstanpy - INFO - Chain [1] start processing\n",
      "08:43:06 - cmdstanpy - INFO - Chain [1] start processing\n",
      "08:43:06 - cmdstanpy - INFO - Chain [1] done processing\n",
      "08:43:07 - cmdstanpy - INFO - Chain [1] start processing\n",
      "08:43:11 - cmdstanpy - INFO - Chain [1] done processing\n",
      "08:43:17 - cmdstanpy - INFO - Chain [1] done processing\n",
      "08:43:19 - cmdstanpy - INFO - Chain [1] done processing\n",
      "08:43:24 - cmdstanpy - INFO - Chain [1] done processing\n"
     ]
    },
    {
     "name": "stdout",
     "output_type": "stream",
     "text": [
      "{'changepoint_prior_scale': 0.101, 'holidays_prior_scale': 7.51, 'seasonality_mode': 'multiplicative', 'seasonality_prior_scale': 0.01}\n"
     ]
    },
    {
     "name": "stderr",
     "output_type": "stream",
     "text": [
      "08:43:28 - cmdstanpy - INFO - Chain [1] start processing\n",
      "08:43:36 - cmdstanpy - INFO - Chain [1] done processing\n",
      "08:43:39 - cmdstanpy - INFO - Chain [1] start processing\n",
      "08:43:41 - cmdstanpy - INFO - Chain [1] start processing\n",
      "08:43:42 - cmdstanpy - INFO - Chain [1] start processing\n",
      "08:43:43 - cmdstanpy - INFO - Chain [1] start processing\n",
      "08:43:44 - cmdstanpy - INFO - Chain [1] start processing\n",
      "08:43:46 - cmdstanpy - INFO - Chain [1] done processing\n",
      "08:43:46 - cmdstanpy - INFO - Chain [1] done processing\n",
      "08:43:58 - cmdstanpy - INFO - Chain [1] done processing\n",
      "08:44:01 - cmdstanpy - INFO - Chain [1] done processing\n",
      "08:44:07 - cmdstanpy - INFO - Chain [1] done processing\n"
     ]
    },
    {
     "name": "stdout",
     "output_type": "stream",
     "text": [
      "{'changepoint_prior_scale': 0.101, 'holidays_prior_scale': 7.51, 'seasonality_mode': 'multiplicative', 'seasonality_prior_scale': 2.51}\n"
     ]
    },
    {
     "name": "stderr",
     "output_type": "stream",
     "text": [
      "08:44:11 - cmdstanpy - INFO - Chain [1] start processing\n",
      "08:44:27 - cmdstanpy - INFO - Chain [1] done processing\n",
      "08:44:29 - cmdstanpy - INFO - Chain [1] start processing\n",
      "08:44:31 - cmdstanpy - INFO - Chain [1] start processing\n",
      "08:44:32 - cmdstanpy - INFO - Chain [1] start processing\n",
      "08:44:33 - cmdstanpy - INFO - Chain [1] start processing\n",
      "08:44:33 - cmdstanpy - INFO - Chain [1] start processing\n",
      "08:44:40 - cmdstanpy - INFO - Chain [1] done processing\n",
      "08:44:44 - cmdstanpy - INFO - Chain [1] done processing\n",
      "08:44:47 - cmdstanpy - INFO - Chain [1] done processing\n",
      "08:45:01 - cmdstanpy - INFO - Chain [1] done processing\n",
      "08:45:03 - cmdstanpy - INFO - Chain [1] done processing\n"
     ]
    },
    {
     "name": "stdout",
     "output_type": "stream",
     "text": [
      "{'changepoint_prior_scale': 0.101, 'holidays_prior_scale': 7.51, 'seasonality_mode': 'multiplicative', 'seasonality_prior_scale': 5.01}\n"
     ]
    },
    {
     "name": "stderr",
     "output_type": "stream",
     "text": [
      "08:45:08 - cmdstanpy - INFO - Chain [1] start processing\n",
      "08:45:23 - cmdstanpy - INFO - Chain [1] done processing\n",
      "08:45:25 - cmdstanpy - INFO - Chain [1] start processing\n",
      "08:45:27 - cmdstanpy - INFO - Chain [1] start processing\n",
      "08:45:28 - cmdstanpy - INFO - Chain [1] start processing\n",
      "08:45:29 - cmdstanpy - INFO - Chain [1] start processing\n",
      "08:45:30 - cmdstanpy - INFO - Chain [1] start processing\n",
      "08:45:32 - cmdstanpy - INFO - Chain [1] done processing\n",
      "08:45:43 - cmdstanpy - INFO - Chain [1] done processing\n",
      "08:45:47 - cmdstanpy - INFO - Chain [1] done processing\n",
      "08:45:55 - cmdstanpy - INFO - Chain [1] done processing\n",
      "08:45:58 - cmdstanpy - INFO - Chain [1] done processing\n"
     ]
    },
    {
     "name": "stdout",
     "output_type": "stream",
     "text": [
      "{'changepoint_prior_scale': 0.101, 'holidays_prior_scale': 7.51, 'seasonality_mode': 'multiplicative', 'seasonality_prior_scale': 7.51}\n"
     ]
    },
    {
     "name": "stderr",
     "output_type": "stream",
     "text": [
      "08:46:02 - cmdstanpy - INFO - Chain [1] start processing\n",
      "08:46:16 - cmdstanpy - INFO - Chain [1] done processing\n",
      "08:46:19 - cmdstanpy - INFO - Chain [1] start processing\n",
      "08:46:20 - cmdstanpy - INFO - Chain [1] start processing\n",
      "08:46:21 - cmdstanpy - INFO - Chain [1] start processing\n",
      "08:46:22 - cmdstanpy - INFO - Chain [1] start processing\n",
      "08:46:23 - cmdstanpy - INFO - Chain [1] start processing\n",
      "08:46:26 - cmdstanpy - INFO - Chain [1] done processing\n",
      "08:46:35 - cmdstanpy - INFO - Chain [1] done processing\n",
      "08:46:40 - cmdstanpy - INFO - Chain [1] done processing\n",
      "08:46:52 - cmdstanpy - INFO - Chain [1] done processing\n",
      "08:46:52 - cmdstanpy - INFO - Chain [1] done processing\n"
     ]
    },
    {
     "name": "stdout",
     "output_type": "stream",
     "text": [
      "{'changepoint_prior_scale': 0.101, 'holidays_prior_scale': 7.51, 'seasonality_mode': 'additive', 'seasonality_prior_scale': 0.01}\n"
     ]
    },
    {
     "name": "stderr",
     "output_type": "stream",
     "text": [
      "08:46:59 - cmdstanpy - INFO - Chain [1] start processing\n",
      "08:47:11 - cmdstanpy - INFO - Chain [1] done processing\n",
      "08:47:13 - cmdstanpy - INFO - Chain [1] start processing\n",
      "08:47:15 - cmdstanpy - INFO - Chain [1] start processing\n",
      "08:47:16 - cmdstanpy - INFO - Chain [1] start processing\n",
      "08:47:17 - cmdstanpy - INFO - Chain [1] start processing\n",
      "08:47:17 - cmdstanpy - INFO - Chain [1] start processing\n",
      "08:47:19 - cmdstanpy - INFO - Chain [1] done processing\n",
      "08:47:22 - cmdstanpy - INFO - Chain [1] done processing\n",
      "08:47:27 - cmdstanpy - INFO - Chain [1] done processing\n",
      "08:47:30 - cmdstanpy - INFO - Chain [1] done processing\n",
      "08:47:31 - cmdstanpy - INFO - Chain [1] done processing\n"
     ]
    },
    {
     "name": "stdout",
     "output_type": "stream",
     "text": [
      "{'changepoint_prior_scale': 0.101, 'holidays_prior_scale': 7.51, 'seasonality_mode': 'additive', 'seasonality_prior_scale': 2.51}\n"
     ]
    },
    {
     "name": "stderr",
     "output_type": "stream",
     "text": [
      "08:47:35 - cmdstanpy - INFO - Chain [1] start processing\n",
      "08:47:48 - cmdstanpy - INFO - Chain [1] done processing\n",
      "08:47:50 - cmdstanpy - INFO - Chain [1] start processing\n",
      "08:47:51 - cmdstanpy - INFO - Chain [1] start processing\n",
      "08:47:52 - cmdstanpy - INFO - Chain [1] start processing\n",
      "08:47:53 - cmdstanpy - INFO - Chain [1] start processing\n",
      "08:47:54 - cmdstanpy - INFO - Chain [1] start processing\n",
      "08:47:54 - cmdstanpy - INFO - Chain [1] done processing\n",
      "08:47:57 - cmdstanpy - INFO - Chain [1] done processing\n",
      "08:48:03 - cmdstanpy - INFO - Chain [1] done processing\n",
      "08:48:04 - cmdstanpy - INFO - Chain [1] done processing\n",
      "08:48:07 - cmdstanpy - INFO - Chain [1] done processing\n"
     ]
    },
    {
     "name": "stdout",
     "output_type": "stream",
     "text": [
      "{'changepoint_prior_scale': 0.101, 'holidays_prior_scale': 7.51, 'seasonality_mode': 'additive', 'seasonality_prior_scale': 5.01}\n"
     ]
    },
    {
     "name": "stderr",
     "output_type": "stream",
     "text": [
      "08:48:11 - cmdstanpy - INFO - Chain [1] start processing\n",
      "08:48:20 - cmdstanpy - INFO - Chain [1] done processing\n",
      "08:48:23 - cmdstanpy - INFO - Chain [1] start processing\n",
      "08:48:24 - cmdstanpy - INFO - Chain [1] start processing\n",
      "08:48:25 - cmdstanpy - INFO - Chain [1] start processing\n",
      "08:48:26 - cmdstanpy - INFO - Chain [1] start processing\n",
      "08:48:27 - cmdstanpy - INFO - Chain [1] start processing\n",
      "08:48:28 - cmdstanpy - INFO - Chain [1] done processing\n",
      "08:48:31 - cmdstanpy - INFO - Chain [1] done processing\n",
      "08:48:36 - cmdstanpy - INFO - Chain [1] done processing\n",
      "08:48:38 - cmdstanpy - INFO - Chain [1] done processing\n",
      "08:48:41 - cmdstanpy - INFO - Chain [1] done processing\n"
     ]
    },
    {
     "name": "stdout",
     "output_type": "stream",
     "text": [
      "{'changepoint_prior_scale': 0.101, 'holidays_prior_scale': 7.51, 'seasonality_mode': 'additive', 'seasonality_prior_scale': 7.51}\n"
     ]
    },
    {
     "name": "stderr",
     "output_type": "stream",
     "text": [
      "08:48:45 - cmdstanpy - INFO - Chain [1] start processing\n",
      "08:48:56 - cmdstanpy - INFO - Chain [1] done processing\n",
      "08:48:59 - cmdstanpy - INFO - Chain [1] start processing\n",
      "08:49:00 - cmdstanpy - INFO - Chain [1] start processing\n",
      "08:49:01 - cmdstanpy - INFO - Chain [1] start processing\n",
      "08:49:02 - cmdstanpy - INFO - Chain [1] done processing\n",
      "08:49:03 - cmdstanpy - INFO - Chain [1] start processing\n",
      "08:49:04 - cmdstanpy - INFO - Chain [1] start processing\n",
      "08:49:09 - cmdstanpy - INFO - Chain [1] done processing\n",
      "08:49:12 - cmdstanpy - INFO - Chain [1] done processing\n",
      "08:49:15 - cmdstanpy - INFO - Chain [1] done processing\n",
      "08:49:17 - cmdstanpy - INFO - Chain [1] done processing\n"
     ]
    },
    {
     "name": "stdout",
     "output_type": "stream",
     "text": [
      "{'changepoint_prior_scale': 0.201, 'holidays_prior_scale': 0.01, 'seasonality_mode': 'multiplicative', 'seasonality_prior_scale': 0.01}\n"
     ]
    },
    {
     "name": "stderr",
     "output_type": "stream",
     "text": [
      "08:49:21 - cmdstanpy - INFO - Chain [1] start processing\n",
      "08:49:39 - cmdstanpy - INFO - Chain [1] done processing\n",
      "08:49:42 - cmdstanpy - INFO - Chain [1] start processing\n",
      "08:49:43 - cmdstanpy - INFO - Chain [1] start processing\n",
      "08:49:44 - cmdstanpy - INFO - Chain [1] start processing\n",
      "08:49:45 - cmdstanpy - INFO - Chain [1] start processing\n",
      "08:49:45 - cmdstanpy - INFO - Chain [1] start processing\n",
      "08:49:47 - cmdstanpy - INFO - Chain [1] done processing\n",
      "08:49:58 - cmdstanpy - INFO - Chain [1] done processing\n",
      "08:50:01 - cmdstanpy - INFO - Chain [1] done processing\n",
      "08:50:02 - cmdstanpy - INFO - Chain [1] done processing\n",
      "08:50:07 - cmdstanpy - INFO - Chain [1] done processing\n"
     ]
    },
    {
     "name": "stdout",
     "output_type": "stream",
     "text": [
      "{'changepoint_prior_scale': 0.201, 'holidays_prior_scale': 0.01, 'seasonality_mode': 'multiplicative', 'seasonality_prior_scale': 2.51}\n"
     ]
    },
    {
     "name": "stderr",
     "output_type": "stream",
     "text": [
      "08:50:11 - cmdstanpy - INFO - Chain [1] start processing\n",
      "08:50:24 - cmdstanpy - INFO - Chain [1] done processing\n",
      "08:50:27 - cmdstanpy - INFO - Chain [1] start processing\n",
      "08:50:28 - cmdstanpy - INFO - Chain [1] start processing\n",
      "08:50:29 - cmdstanpy - INFO - Chain [1] start processing\n",
      "08:50:30 - cmdstanpy - INFO - Chain [1] start processing\n",
      "08:50:30 - cmdstanpy - INFO - Chain [1] start processing\n",
      "08:50:34 - cmdstanpy - INFO - Chain [1] done processing\n",
      "08:50:40 - cmdstanpy - INFO - Chain [1] done processing\n",
      "08:50:45 - cmdstanpy - INFO - Chain [1] done processing\n",
      "08:50:49 - cmdstanpy - INFO - Chain [1] done processing\n",
      "08:50:53 - cmdstanpy - INFO - Chain [1] done processing\n"
     ]
    },
    {
     "name": "stdout",
     "output_type": "stream",
     "text": [
      "{'changepoint_prior_scale': 0.201, 'holidays_prior_scale': 0.01, 'seasonality_mode': 'multiplicative', 'seasonality_prior_scale': 5.01}\n"
     ]
    },
    {
     "name": "stderr",
     "output_type": "stream",
     "text": [
      "08:50:57 - cmdstanpy - INFO - Chain [1] start processing\n",
      "08:51:13 - cmdstanpy - INFO - Chain [1] done processing\n",
      "08:51:16 - cmdstanpy - INFO - Chain [1] start processing\n",
      "08:51:17 - cmdstanpy - INFO - Chain [1] start processing\n",
      "08:51:18 - cmdstanpy - INFO - Chain [1] start processing\n",
      "08:51:19 - cmdstanpy - INFO - Chain [1] start processing\n",
      "08:51:20 - cmdstanpy - INFO - Chain [1] start processing\n",
      "08:51:23 - cmdstanpy - INFO - Chain [1] done processing\n",
      "08:51:31 - cmdstanpy - INFO - Chain [1] done processing\n",
      "08:51:35 - cmdstanpy - INFO - Chain [1] done processing\n",
      "08:51:36 - cmdstanpy - INFO - Chain [1] done processing\n",
      "08:51:41 - cmdstanpy - INFO - Chain [1] done processing\n"
     ]
    },
    {
     "name": "stdout",
     "output_type": "stream",
     "text": [
      "{'changepoint_prior_scale': 0.201, 'holidays_prior_scale': 0.01, 'seasonality_mode': 'multiplicative', 'seasonality_prior_scale': 7.51}\n"
     ]
    },
    {
     "name": "stderr",
     "output_type": "stream",
     "text": [
      "08:51:46 - cmdstanpy - INFO - Chain [1] start processing\n",
      "08:51:59 - cmdstanpy - INFO - Chain [1] done processing\n",
      "08:52:02 - cmdstanpy - INFO - Chain [1] start processing\n",
      "08:52:03 - cmdstanpy - INFO - Chain [1] start processing\n",
      "08:52:04 - cmdstanpy - INFO - Chain [1] start processing\n",
      "08:52:05 - cmdstanpy - INFO - Chain [1] start processing\n",
      "08:52:06 - cmdstanpy - INFO - Chain [1] start processing\n",
      "08:52:11 - cmdstanpy - INFO - Chain [1] done processing\n",
      "08:52:19 - cmdstanpy - INFO - Chain [1] done processing\n",
      "08:52:22 - cmdstanpy - INFO - Chain [1] done processing\n",
      "08:52:27 - cmdstanpy - INFO - Chain [1] done processing\n",
      "08:52:31 - cmdstanpy - INFO - Chain [1] done processing\n"
     ]
    },
    {
     "name": "stdout",
     "output_type": "stream",
     "text": [
      "{'changepoint_prior_scale': 0.201, 'holidays_prior_scale': 0.01, 'seasonality_mode': 'additive', 'seasonality_prior_scale': 0.01}\n"
     ]
    },
    {
     "name": "stderr",
     "output_type": "stream",
     "text": [
      "08:52:35 - cmdstanpy - INFO - Chain [1] start processing\n",
      "08:52:44 - cmdstanpy - INFO - Chain [1] done processing\n",
      "08:52:46 - cmdstanpy - INFO - Chain [1] start processing\n",
      "08:52:48 - cmdstanpy - INFO - Chain [1] start processing\n",
      "08:52:49 - cmdstanpy - INFO - Chain [1] start processing\n",
      "08:52:50 - cmdstanpy - INFO - Chain [1] start processing\n",
      "08:52:51 - cmdstanpy - INFO - Chain [1] start processing\n",
      "08:52:51 - cmdstanpy - INFO - Chain [1] done processing\n",
      "08:52:57 - cmdstanpy - INFO - Chain [1] done processing\n",
      "08:53:03 - cmdstanpy - INFO - Chain [1] done processing\n",
      "08:53:04 - cmdstanpy - INFO - Chain [1] done processing\n",
      "08:53:08 - cmdstanpy - INFO - Chain [1] done processing\n"
     ]
    },
    {
     "name": "stdout",
     "output_type": "stream",
     "text": [
      "{'changepoint_prior_scale': 0.201, 'holidays_prior_scale': 0.01, 'seasonality_mode': 'additive', 'seasonality_prior_scale': 2.51}\n"
     ]
    },
    {
     "name": "stderr",
     "output_type": "stream",
     "text": [
      "08:53:13 - cmdstanpy - INFO - Chain [1] start processing\n",
      "08:53:20 - cmdstanpy - INFO - Chain [1] done processing\n",
      "08:53:23 - cmdstanpy - INFO - Chain [1] start processing\n",
      "08:53:24 - cmdstanpy - INFO - Chain [1] start processing\n",
      "08:53:25 - cmdstanpy - INFO - Chain [1] start processing\n",
      "08:53:26 - cmdstanpy - INFO - Chain [1] start processing\n",
      "08:53:27 - cmdstanpy - INFO - Chain [1] start processing\n",
      "08:53:28 - cmdstanpy - INFO - Chain [1] done processing\n",
      "08:53:34 - cmdstanpy - INFO - Chain [1] done processing\n",
      "08:53:37 - cmdstanpy - INFO - Chain [1] done processing\n",
      "08:53:40 - cmdstanpy - INFO - Chain [1] done processing\n",
      "08:53:41 - cmdstanpy - INFO - Chain [1] done processing\n"
     ]
    },
    {
     "name": "stdout",
     "output_type": "stream",
     "text": [
      "{'changepoint_prior_scale': 0.201, 'holidays_prior_scale': 0.01, 'seasonality_mode': 'additive', 'seasonality_prior_scale': 5.01}\n"
     ]
    },
    {
     "name": "stderr",
     "output_type": "stream",
     "text": [
      "08:53:46 - cmdstanpy - INFO - Chain [1] start processing\n",
      "08:53:55 - cmdstanpy - INFO - Chain [1] done processing\n",
      "08:53:58 - cmdstanpy - INFO - Chain [1] start processing\n",
      "08:54:00 - cmdstanpy - INFO - Chain [1] start processing\n",
      "08:54:01 - cmdstanpy - INFO - Chain [1] start processing\n",
      "08:54:02 - cmdstanpy - INFO - Chain [1] start processing\n",
      "08:54:03 - cmdstanpy - INFO - Chain [1] start processing\n",
      "08:54:03 - cmdstanpy - INFO - Chain [1] done processing\n",
      "08:54:09 - cmdstanpy - INFO - Chain [1] done processing\n",
      "08:54:13 - cmdstanpy - INFO - Chain [1] done processing\n",
      "08:54:15 - cmdstanpy - INFO - Chain [1] done processing\n",
      "08:54:17 - cmdstanpy - INFO - Chain [1] done processing\n"
     ]
    },
    {
     "name": "stdout",
     "output_type": "stream",
     "text": [
      "{'changepoint_prior_scale': 0.201, 'holidays_prior_scale': 0.01, 'seasonality_mode': 'additive', 'seasonality_prior_scale': 7.51}\n"
     ]
    },
    {
     "name": "stderr",
     "output_type": "stream",
     "text": [
      "08:54:22 - cmdstanpy - INFO - Chain [1] start processing\n",
      "08:54:31 - cmdstanpy - INFO - Chain [1] done processing\n",
      "08:54:34 - cmdstanpy - INFO - Chain [1] start processing\n",
      "08:54:36 - cmdstanpy - INFO - Chain [1] start processing\n",
      "08:54:37 - cmdstanpy - INFO - Chain [1] start processing\n",
      "08:54:37 - cmdstanpy - INFO - Chain [1] start processing\n",
      "08:54:38 - cmdstanpy - INFO - Chain [1] start processing\n",
      "08:54:41 - cmdstanpy - INFO - Chain [1] done processing\n",
      "08:54:43 - cmdstanpy - INFO - Chain [1] done processing\n",
      "08:54:49 - cmdstanpy - INFO - Chain [1] done processing\n",
      "08:54:52 - cmdstanpy - INFO - Chain [1] done processing\n",
      "08:54:55 - cmdstanpy - INFO - Chain [1] done processing\n"
     ]
    },
    {
     "name": "stdout",
     "output_type": "stream",
     "text": [
      "{'changepoint_prior_scale': 0.201, 'holidays_prior_scale': 2.51, 'seasonality_mode': 'multiplicative', 'seasonality_prior_scale': 0.01}\n"
     ]
    },
    {
     "name": "stderr",
     "output_type": "stream",
     "text": [
      "08:55:00 - cmdstanpy - INFO - Chain [1] start processing\n",
      "08:55:15 - cmdstanpy - INFO - Chain [1] done processing\n",
      "08:55:18 - cmdstanpy - INFO - Chain [1] start processing\n",
      "08:55:19 - cmdstanpy - INFO - Chain [1] start processing\n",
      "08:55:20 - cmdstanpy - INFO - Chain [1] start processing\n",
      "08:55:21 - cmdstanpy - INFO - Chain [1] start processing\n",
      "08:55:22 - cmdstanpy - INFO - Chain [1] done processing\n",
      "08:55:22 - cmdstanpy - INFO - Chain [1] start processing\n",
      "08:55:30 - cmdstanpy - INFO - Chain [1] done processing\n",
      "08:55:35 - cmdstanpy - INFO - Chain [1] done processing\n",
      "08:55:41 - cmdstanpy - INFO - Chain [1] done processing\n",
      "08:55:42 - cmdstanpy - INFO - Chain [1] done processing\n"
     ]
    },
    {
     "name": "stdout",
     "output_type": "stream",
     "text": [
      "{'changepoint_prior_scale': 0.201, 'holidays_prior_scale': 2.51, 'seasonality_mode': 'multiplicative', 'seasonality_prior_scale': 2.51}\n"
     ]
    },
    {
     "name": "stderr",
     "output_type": "stream",
     "text": [
      "08:55:46 - cmdstanpy - INFO - Chain [1] start processing\n",
      "08:55:56 - cmdstanpy - INFO - Chain [1] done processing\n",
      "08:55:59 - cmdstanpy - INFO - Chain [1] start processing\n",
      "08:56:00 - cmdstanpy - INFO - Chain [1] start processing\n",
      "08:56:01 - cmdstanpy - INFO - Chain [1] start processing\n",
      "08:56:02 - cmdstanpy - INFO - Chain [1] start processing\n",
      "08:56:03 - cmdstanpy - INFO - Chain [1] start processing\n",
      "08:56:06 - cmdstanpy - INFO - Chain [1] done processing\n",
      "08:56:16 - cmdstanpy - INFO - Chain [1] done processing\n",
      "08:56:17 - cmdstanpy - INFO - Chain [1] done processing\n",
      "08:56:30 - cmdstanpy - INFO - Chain [1] done processing\n",
      "08:56:33 - cmdstanpy - INFO - Chain [1] done processing\n"
     ]
    },
    {
     "name": "stdout",
     "output_type": "stream",
     "text": [
      "{'changepoint_prior_scale': 0.201, 'holidays_prior_scale': 2.51, 'seasonality_mode': 'multiplicative', 'seasonality_prior_scale': 5.01}\n"
     ]
    },
    {
     "name": "stderr",
     "output_type": "stream",
     "text": [
      "08:56:37 - cmdstanpy - INFO - Chain [1] start processing\n",
      "08:56:51 - cmdstanpy - INFO - Chain [1] done processing\n",
      "08:56:54 - cmdstanpy - INFO - Chain [1] start processing\n",
      "08:56:55 - cmdstanpy - INFO - Chain [1] start processing\n",
      "08:56:56 - cmdstanpy - INFO - Chain [1] start processing\n",
      "08:56:57 - cmdstanpy - INFO - Chain [1] start processing\n",
      "08:56:58 - cmdstanpy - INFO - Chain [1] start processing\n",
      "08:57:01 - cmdstanpy - INFO - Chain [1] done processing\n",
      "08:57:08 - cmdstanpy - INFO - Chain [1] done processing\n",
      "08:57:12 - cmdstanpy - INFO - Chain [1] done processing\n",
      "08:57:25 - cmdstanpy - INFO - Chain [1] done processing\n",
      "08:57:27 - cmdstanpy - INFO - Chain [1] done processing\n"
     ]
    },
    {
     "name": "stdout",
     "output_type": "stream",
     "text": [
      "{'changepoint_prior_scale': 0.201, 'holidays_prior_scale': 2.51, 'seasonality_mode': 'multiplicative', 'seasonality_prior_scale': 7.51}\n"
     ]
    },
    {
     "name": "stderr",
     "output_type": "stream",
     "text": [
      "08:57:31 - cmdstanpy - INFO - Chain [1] start processing\n",
      "08:57:50 - cmdstanpy - INFO - Chain [1] done processing\n",
      "08:57:53 - cmdstanpy - INFO - Chain [1] start processing\n",
      "08:57:55 - cmdstanpy - INFO - Chain [1] start processing\n",
      "08:57:56 - cmdstanpy - INFO - Chain [1] start processing\n",
      "08:57:57 - cmdstanpy - INFO - Chain [1] start processing\n",
      "08:57:58 - cmdstanpy - INFO - Chain [1] start processing\n",
      "08:57:59 - cmdstanpy - INFO - Chain [1] done processing\n",
      "08:58:08 - cmdstanpy - INFO - Chain [1] done processing\n",
      "08:58:10 - cmdstanpy - INFO - Chain [1] done processing\n",
      "08:58:22 - cmdstanpy - INFO - Chain [1] done processing\n",
      "08:58:23 - cmdstanpy - INFO - Chain [1] done processing\n"
     ]
    },
    {
     "name": "stdout",
     "output_type": "stream",
     "text": [
      "{'changepoint_prior_scale': 0.201, 'holidays_prior_scale': 2.51, 'seasonality_mode': 'additive', 'seasonality_prior_scale': 0.01}\n"
     ]
    },
    {
     "name": "stderr",
     "output_type": "stream",
     "text": [
      "08:58:27 - cmdstanpy - INFO - Chain [1] start processing\n",
      "08:58:37 - cmdstanpy - INFO - Chain [1] done processing\n",
      "08:58:40 - cmdstanpy - INFO - Chain [1] start processing\n",
      "08:58:41 - cmdstanpy - INFO - Chain [1] start processing\n",
      "08:58:42 - cmdstanpy - INFO - Chain [1] start processing\n",
      "08:58:42 - cmdstanpy - INFO - Chain [1] done processing\n",
      "08:58:43 - cmdstanpy - INFO - Chain [1] start processing\n",
      "08:58:44 - cmdstanpy - INFO - Chain [1] start processing\n",
      "08:58:52 - cmdstanpy - INFO - Chain [1] done processing\n",
      "08:58:53 - cmdstanpy - INFO - Chain [1] done processing\n",
      "08:58:56 - cmdstanpy - INFO - Chain [1] done processing\n",
      "08:58:59 - cmdstanpy - INFO - Chain [1] done processing\n"
     ]
    },
    {
     "name": "stdout",
     "output_type": "stream",
     "text": [
      "{'changepoint_prior_scale': 0.201, 'holidays_prior_scale': 2.51, 'seasonality_mode': 'additive', 'seasonality_prior_scale': 2.51}\n"
     ]
    },
    {
     "name": "stderr",
     "output_type": "stream",
     "text": [
      "08:59:03 - cmdstanpy - INFO - Chain [1] start processing\n",
      "08:59:15 - cmdstanpy - INFO - Chain [1] done processing\n",
      "08:59:18 - cmdstanpy - INFO - Chain [1] start processing\n",
      "08:59:19 - cmdstanpy - INFO - Chain [1] start processing\n",
      "08:59:20 - cmdstanpy - INFO - Chain [1] start processing\n",
      "08:59:21 - cmdstanpy - INFO - Chain [1] start processing\n",
      "08:59:21 - cmdstanpy - INFO - Chain [1] done processing\n",
      "08:59:22 - cmdstanpy - INFO - Chain [1] start processing\n",
      "08:59:26 - cmdstanpy - INFO - Chain [1] done processing\n",
      "08:59:30 - cmdstanpy - INFO - Chain [1] done processing\n",
      "08:59:33 - cmdstanpy - INFO - Chain [1] done processing\n",
      "08:59:35 - cmdstanpy - INFO - Chain [1] done processing\n"
     ]
    },
    {
     "name": "stdout",
     "output_type": "stream",
     "text": [
      "{'changepoint_prior_scale': 0.201, 'holidays_prior_scale': 2.51, 'seasonality_mode': 'additive', 'seasonality_prior_scale': 5.01}\n"
     ]
    },
    {
     "name": "stderr",
     "output_type": "stream",
     "text": [
      "08:59:40 - cmdstanpy - INFO - Chain [1] start processing\n",
      "08:59:48 - cmdstanpy - INFO - Chain [1] done processing\n",
      "08:59:51 - cmdstanpy - INFO - Chain [1] start processing\n",
      "08:59:52 - cmdstanpy - INFO - Chain [1] start processing\n",
      "08:59:53 - cmdstanpy - INFO - Chain [1] start processing\n",
      "08:59:54 - cmdstanpy - INFO - Chain [1] start processing\n",
      "08:59:55 - cmdstanpy - INFO - Chain [1] start processing\n",
      "08:59:56 - cmdstanpy - INFO - Chain [1] done processing\n",
      "09:00:01 - cmdstanpy - INFO - Chain [1] done processing\n",
      "09:00:05 - cmdstanpy - INFO - Chain [1] done processing\n",
      "09:00:07 - cmdstanpy - INFO - Chain [1] done processing\n",
      "09:00:10 - cmdstanpy - INFO - Chain [1] done processing\n"
     ]
    },
    {
     "name": "stdout",
     "output_type": "stream",
     "text": [
      "{'changepoint_prior_scale': 0.201, 'holidays_prior_scale': 2.51, 'seasonality_mode': 'additive', 'seasonality_prior_scale': 7.51}\n"
     ]
    },
    {
     "name": "stderr",
     "output_type": "stream",
     "text": [
      "09:00:14 - cmdstanpy - INFO - Chain [1] start processing\n",
      "09:00:28 - cmdstanpy - INFO - Chain [1] done processing\n",
      "09:00:30 - cmdstanpy - INFO - Chain [1] start processing\n",
      "09:00:32 - cmdstanpy - INFO - Chain [1] start processing\n",
      "09:00:33 - cmdstanpy - INFO - Chain [1] start processing\n",
      "09:00:34 - cmdstanpy - INFO - Chain [1] start processing\n",
      "09:00:34 - cmdstanpy - INFO - Chain [1] start processing\n",
      "09:00:35 - cmdstanpy - INFO - Chain [1] done processing\n",
      "09:00:39 - cmdstanpy - INFO - Chain [1] done processing\n",
      "09:00:44 - cmdstanpy - INFO - Chain [1] done processing\n",
      "09:00:46 - cmdstanpy - INFO - Chain [1] done processing\n",
      "09:00:48 - cmdstanpy - INFO - Chain [1] done processing\n"
     ]
    },
    {
     "name": "stdout",
     "output_type": "stream",
     "text": [
      "{'changepoint_prior_scale': 0.201, 'holidays_prior_scale': 5.01, 'seasonality_mode': 'multiplicative', 'seasonality_prior_scale': 0.01}\n"
     ]
    },
    {
     "name": "stderr",
     "output_type": "stream",
     "text": [
      "09:00:52 - cmdstanpy - INFO - Chain [1] start processing\n",
      "09:01:06 - cmdstanpy - INFO - Chain [1] done processing\n",
      "09:01:09 - cmdstanpy - INFO - Chain [1] start processing\n",
      "09:01:10 - cmdstanpy - INFO - Chain [1] start processing\n",
      "09:01:11 - cmdstanpy - INFO - Chain [1] start processing\n",
      "09:01:12 - cmdstanpy - INFO - Chain [1] start processing\n",
      "09:01:13 - cmdstanpy - INFO - Chain [1] start processing\n",
      "09:01:16 - cmdstanpy - INFO - Chain [1] done processing\n",
      "09:01:21 - cmdstanpy - INFO - Chain [1] done processing\n",
      "09:01:26 - cmdstanpy - INFO - Chain [1] done processing\n",
      "09:01:29 - cmdstanpy - INFO - Chain [1] done processing\n",
      "09:01:30 - cmdstanpy - INFO - Chain [1] done processing\n"
     ]
    },
    {
     "name": "stdout",
     "output_type": "stream",
     "text": [
      "{'changepoint_prior_scale': 0.201, 'holidays_prior_scale': 5.01, 'seasonality_mode': 'multiplicative', 'seasonality_prior_scale': 2.51}\n"
     ]
    },
    {
     "name": "stderr",
     "output_type": "stream",
     "text": [
      "09:01:34 - cmdstanpy - INFO - Chain [1] start processing\n",
      "09:01:45 - cmdstanpy - INFO - Chain [1] done processing\n",
      "09:01:49 - cmdstanpy - INFO - Chain [1] start processing\n",
      "09:01:50 - cmdstanpy - INFO - Chain [1] start processing\n",
      "09:01:51 - cmdstanpy - INFO - Chain [1] start processing\n",
      "09:01:51 - cmdstanpy - INFO - Chain [1] start processing\n",
      "09:01:52 - cmdstanpy - INFO - Chain [1] start processing\n",
      "09:01:54 - cmdstanpy - INFO - Chain [1] done processing\n",
      "09:02:04 - cmdstanpy - INFO - Chain [1] done processing\n",
      "09:02:07 - cmdstanpy - INFO - Chain [1] done processing\n",
      "09:02:17 - cmdstanpy - INFO - Chain [1] done processing\n",
      "09:02:22 - cmdstanpy - INFO - Chain [1] done processing\n"
     ]
    },
    {
     "name": "stdout",
     "output_type": "stream",
     "text": [
      "{'changepoint_prior_scale': 0.201, 'holidays_prior_scale': 5.01, 'seasonality_mode': 'multiplicative', 'seasonality_prior_scale': 5.01}\n"
     ]
    },
    {
     "name": "stderr",
     "output_type": "stream",
     "text": [
      "09:02:27 - cmdstanpy - INFO - Chain [1] start processing\n",
      "09:02:43 - cmdstanpy - INFO - Chain [1] done processing\n",
      "09:02:46 - cmdstanpy - INFO - Chain [1] start processing\n",
      "09:02:47 - cmdstanpy - INFO - Chain [1] start processing\n",
      "09:02:48 - cmdstanpy - INFO - Chain [1] start processing\n",
      "09:02:49 - cmdstanpy - INFO - Chain [1] start processing\n",
      "09:02:50 - cmdstanpy - INFO - Chain [1] start processing\n",
      "09:02:52 - cmdstanpy - INFO - Chain [1] done processing\n",
      "09:03:02 - cmdstanpy - INFO - Chain [1] done processing\n",
      "09:03:02 - cmdstanpy - INFO - Chain [1] done processing\n",
      "09:03:19 - cmdstanpy - INFO - Chain [1] done processing\n",
      "09:03:20 - cmdstanpy - INFO - Chain [1] done processing\n"
     ]
    },
    {
     "name": "stdout",
     "output_type": "stream",
     "text": [
      "{'changepoint_prior_scale': 0.201, 'holidays_prior_scale': 5.01, 'seasonality_mode': 'multiplicative', 'seasonality_prior_scale': 7.51}\n"
     ]
    },
    {
     "name": "stderr",
     "output_type": "stream",
     "text": [
      "09:03:24 - cmdstanpy - INFO - Chain [1] start processing\n",
      "09:03:38 - cmdstanpy - INFO - Chain [1] done processing\n",
      "09:03:41 - cmdstanpy - INFO - Chain [1] start processing\n",
      "09:03:42 - cmdstanpy - INFO - Chain [1] start processing\n",
      "09:03:43 - cmdstanpy - INFO - Chain [1] start processing\n",
      "09:03:44 - cmdstanpy - INFO - Chain [1] start processing\n",
      "09:03:45 - cmdstanpy - INFO - Chain [1] start processing\n",
      "09:03:46 - cmdstanpy - INFO - Chain [1] done processing\n",
      "09:03:58 - cmdstanpy - INFO - Chain [1] done processing\n",
      "09:04:01 - cmdstanpy - INFO - Chain [1] done processing\n",
      "09:04:06 - cmdstanpy - INFO - Chain [1] done processing\n",
      "09:04:08 - cmdstanpy - INFO - Chain [1] done processing\n"
     ]
    },
    {
     "name": "stdout",
     "output_type": "stream",
     "text": [
      "{'changepoint_prior_scale': 0.201, 'holidays_prior_scale': 5.01, 'seasonality_mode': 'additive', 'seasonality_prior_scale': 0.01}\n"
     ]
    },
    {
     "name": "stderr",
     "output_type": "stream",
     "text": [
      "09:04:13 - cmdstanpy - INFO - Chain [1] start processing\n",
      "09:04:21 - cmdstanpy - INFO - Chain [1] done processing\n",
      "09:04:24 - cmdstanpy - INFO - Chain [1] start processing\n",
      "09:04:25 - cmdstanpy - INFO - Chain [1] start processing\n",
      "09:04:26 - cmdstanpy - INFO - Chain [1] start processing\n",
      "09:04:27 - cmdstanpy - INFO - Chain [1] done processing\n",
      "09:04:27 - cmdstanpy - INFO - Chain [1] start processing\n",
      "09:04:29 - cmdstanpy - INFO - Chain [1] start processing\n",
      "09:04:32 - cmdstanpy - INFO - Chain [1] done processing\n",
      "09:04:38 - cmdstanpy - INFO - Chain [1] done processing\n",
      "09:04:41 - cmdstanpy - INFO - Chain [1] done processing\n",
      "09:04:43 - cmdstanpy - INFO - Chain [1] done processing\n"
     ]
    },
    {
     "name": "stdout",
     "output_type": "stream",
     "text": [
      "{'changepoint_prior_scale': 0.201, 'holidays_prior_scale': 5.01, 'seasonality_mode': 'additive', 'seasonality_prior_scale': 2.51}\n"
     ]
    },
    {
     "name": "stderr",
     "output_type": "stream",
     "text": [
      "09:04:47 - cmdstanpy - INFO - Chain [1] start processing\n",
      "09:04:56 - cmdstanpy - INFO - Chain [1] done processing\n",
      "09:04:59 - cmdstanpy - INFO - Chain [1] start processing\n",
      "09:05:00 - cmdstanpy - INFO - Chain [1] start processing\n",
      "09:05:01 - cmdstanpy - INFO - Chain [1] start processing\n",
      "09:05:02 - cmdstanpy - INFO - Chain [1] done processing\n",
      "09:05:02 - cmdstanpy - INFO - Chain [1] start processing\n",
      "09:05:04 - cmdstanpy - INFO - Chain [1] start processing\n",
      "09:05:07 - cmdstanpy - INFO - Chain [1] done processing\n",
      "09:05:12 - cmdstanpy - INFO - Chain [1] done processing\n",
      "09:05:14 - cmdstanpy - INFO - Chain [1] done processing\n",
      "09:05:14 - cmdstanpy - INFO - Chain [1] done processing\n"
     ]
    },
    {
     "name": "stdout",
     "output_type": "stream",
     "text": [
      "{'changepoint_prior_scale': 0.201, 'holidays_prior_scale': 5.01, 'seasonality_mode': 'additive', 'seasonality_prior_scale': 5.01}\n"
     ]
    },
    {
     "name": "stderr",
     "output_type": "stream",
     "text": [
      "09:05:19 - cmdstanpy - INFO - Chain [1] start processing\n",
      "09:05:31 - cmdstanpy - INFO - Chain [1] done processing\n",
      "09:05:34 - cmdstanpy - INFO - Chain [1] start processing\n",
      "09:05:35 - cmdstanpy - INFO - Chain [1] start processing\n",
      "09:05:36 - cmdstanpy - INFO - Chain [1] start processing\n",
      "09:05:37 - cmdstanpy - INFO - Chain [1] start processing\n",
      "09:05:38 - cmdstanpy - INFO - Chain [1] done processing\n",
      "09:05:38 - cmdstanpy - INFO - Chain [1] start processing\n",
      "09:05:40 - cmdstanpy - INFO - Chain [1] done processing\n",
      "09:05:46 - cmdstanpy - INFO - Chain [1] done processing\n",
      "09:05:48 - cmdstanpy - INFO - Chain [1] done processing\n",
      "09:05:53 - cmdstanpy - INFO - Chain [1] done processing\n"
     ]
    },
    {
     "name": "stdout",
     "output_type": "stream",
     "text": [
      "{'changepoint_prior_scale': 0.201, 'holidays_prior_scale': 5.01, 'seasonality_mode': 'additive', 'seasonality_prior_scale': 7.51}\n"
     ]
    },
    {
     "name": "stderr",
     "output_type": "stream",
     "text": [
      "09:05:57 - cmdstanpy - INFO - Chain [1] start processing\n",
      "09:06:05 - cmdstanpy - INFO - Chain [1] done processing\n",
      "09:06:08 - cmdstanpy - INFO - Chain [1] start processing\n",
      "09:06:09 - cmdstanpy - INFO - Chain [1] start processing\n",
      "09:06:10 - cmdstanpy - INFO - Chain [1] start processing\n",
      "09:06:11 - cmdstanpy - INFO - Chain [1] start processing\n",
      "09:06:12 - cmdstanpy - INFO - Chain [1] done processing\n",
      "09:06:12 - cmdstanpy - INFO - Chain [1] start processing\n",
      "09:06:15 - cmdstanpy - INFO - Chain [1] done processing\n",
      "09:06:22 - cmdstanpy - INFO - Chain [1] done processing\n",
      "09:06:23 - cmdstanpy - INFO - Chain [1] done processing\n",
      "09:06:26 - cmdstanpy - INFO - Chain [1] done processing\n"
     ]
    },
    {
     "name": "stdout",
     "output_type": "stream",
     "text": [
      "{'changepoint_prior_scale': 0.201, 'holidays_prior_scale': 7.51, 'seasonality_mode': 'multiplicative', 'seasonality_prior_scale': 0.01}\n"
     ]
    },
    {
     "name": "stderr",
     "output_type": "stream",
     "text": [
      "09:06:30 - cmdstanpy - INFO - Chain [1] start processing\n",
      "09:06:46 - cmdstanpy - INFO - Chain [1] done processing\n",
      "09:06:49 - cmdstanpy - INFO - Chain [1] start processing\n",
      "09:06:49 - cmdstanpy - INFO - Chain [1] start processing\n",
      "09:06:50 - cmdstanpy - INFO - Chain [1] start processing\n",
      "09:06:51 - cmdstanpy - INFO - Chain [1] start processing\n",
      "09:06:52 - cmdstanpy - INFO - Chain [1] start processing\n",
      "09:06:53 - cmdstanpy - INFO - Chain [1] done processing\n",
      "09:07:02 - cmdstanpy - INFO - Chain [1] done processing\n",
      "09:07:03 - cmdstanpy - INFO - Chain [1] done processing\n",
      "09:07:08 - cmdstanpy - INFO - Chain [1] done processing\n",
      "09:07:09 - cmdstanpy - INFO - Chain [1] done processing\n"
     ]
    },
    {
     "name": "stdout",
     "output_type": "stream",
     "text": [
      "{'changepoint_prior_scale': 0.201, 'holidays_prior_scale': 7.51, 'seasonality_mode': 'multiplicative', 'seasonality_prior_scale': 2.51}\n"
     ]
    },
    {
     "name": "stderr",
     "output_type": "stream",
     "text": [
      "09:07:13 - cmdstanpy - INFO - Chain [1] start processing\n",
      "09:07:27 - cmdstanpy - INFO - Chain [1] done processing\n",
      "09:07:30 - cmdstanpy - INFO - Chain [1] start processing\n",
      "09:07:31 - cmdstanpy - INFO - Chain [1] start processing\n",
      "09:07:32 - cmdstanpy - INFO - Chain [1] start processing\n",
      "09:07:33 - cmdstanpy - INFO - Chain [1] start processing\n",
      "09:07:34 - cmdstanpy - INFO - Chain [1] start processing\n",
      "09:07:36 - cmdstanpy - INFO - Chain [1] done processing\n",
      "09:07:46 - cmdstanpy - INFO - Chain [1] done processing\n",
      "09:07:46 - cmdstanpy - INFO - Chain [1] done processing\n",
      "09:07:57 - cmdstanpy - INFO - Chain [1] done processing\n",
      "09:08:02 - cmdstanpy - INFO - Chain [1] done processing\n"
     ]
    },
    {
     "name": "stdout",
     "output_type": "stream",
     "text": [
      "{'changepoint_prior_scale': 0.201, 'holidays_prior_scale': 7.51, 'seasonality_mode': 'multiplicative', 'seasonality_prior_scale': 5.01}\n"
     ]
    },
    {
     "name": "stderr",
     "output_type": "stream",
     "text": [
      "09:08:06 - cmdstanpy - INFO - Chain [1] start processing\n",
      "09:08:22 - cmdstanpy - INFO - Chain [1] done processing\n",
      "09:08:24 - cmdstanpy - INFO - Chain [1] start processing\n",
      "09:08:26 - cmdstanpy - INFO - Chain [1] start processing\n",
      "09:08:27 - cmdstanpy - INFO - Chain [1] start processing\n",
      "09:08:28 - cmdstanpy - INFO - Chain [1] start processing\n",
      "09:08:28 - cmdstanpy - INFO - Chain [1] start processing\n",
      "09:08:34 - cmdstanpy - INFO - Chain [1] done processing\n",
      "09:08:42 - cmdstanpy - INFO - Chain [1] done processing\n",
      "09:08:45 - cmdstanpy - INFO - Chain [1] done processing\n",
      "09:08:54 - cmdstanpy - INFO - Chain [1] done processing\n",
      "09:08:56 - cmdstanpy - INFO - Chain [1] done processing\n"
     ]
    },
    {
     "name": "stdout",
     "output_type": "stream",
     "text": [
      "{'changepoint_prior_scale': 0.201, 'holidays_prior_scale': 7.51, 'seasonality_mode': 'multiplicative', 'seasonality_prior_scale': 7.51}\n"
     ]
    },
    {
     "name": "stderr",
     "output_type": "stream",
     "text": [
      "09:09:01 - cmdstanpy - INFO - Chain [1] start processing\n",
      "09:09:13 - cmdstanpy - INFO - Chain [1] done processing\n",
      "09:09:16 - cmdstanpy - INFO - Chain [1] start processing\n",
      "09:09:17 - cmdstanpy - INFO - Chain [1] start processing\n",
      "09:09:18 - cmdstanpy - INFO - Chain [1] start processing\n",
      "09:09:19 - cmdstanpy - INFO - Chain [1] start processing\n",
      "09:09:20 - cmdstanpy - INFO - Chain [1] start processing\n",
      "09:09:22 - cmdstanpy - INFO - Chain [1] done processing\n",
      "09:09:31 - cmdstanpy - INFO - Chain [1] done processing\n",
      "09:09:33 - cmdstanpy - INFO - Chain [1] done processing\n",
      "09:09:41 - cmdstanpy - INFO - Chain [1] done processing\n",
      "09:09:43 - cmdstanpy - INFO - Chain [1] done processing\n"
     ]
    },
    {
     "name": "stdout",
     "output_type": "stream",
     "text": [
      "{'changepoint_prior_scale': 0.201, 'holidays_prior_scale': 7.51, 'seasonality_mode': 'additive', 'seasonality_prior_scale': 0.01}\n"
     ]
    },
    {
     "name": "stderr",
     "output_type": "stream",
     "text": [
      "09:09:47 - cmdstanpy - INFO - Chain [1] start processing\n",
      "09:09:59 - cmdstanpy - INFO - Chain [1] done processing\n",
      "09:10:01 - cmdstanpy - INFO - Chain [1] start processing\n",
      "09:10:02 - cmdstanpy - INFO - Chain [1] start processing\n",
      "09:10:03 - cmdstanpy - INFO - Chain [1] start processing\n",
      "09:10:04 - cmdstanpy - INFO - Chain [1] start processing\n",
      "09:10:04 - cmdstanpy - INFO - Chain [1] done processing\n",
      "09:10:05 - cmdstanpy - INFO - Chain [1] start processing\n",
      "09:10:10 - cmdstanpy - INFO - Chain [1] done processing\n",
      "09:10:12 - cmdstanpy - INFO - Chain [1] done processing\n",
      "09:10:17 - cmdstanpy - INFO - Chain [1] done processing\n",
      "09:10:19 - cmdstanpy - INFO - Chain [1] done processing\n"
     ]
    },
    {
     "name": "stdout",
     "output_type": "stream",
     "text": [
      "{'changepoint_prior_scale': 0.201, 'holidays_prior_scale': 7.51, 'seasonality_mode': 'additive', 'seasonality_prior_scale': 2.51}\n"
     ]
    },
    {
     "name": "stderr",
     "output_type": "stream",
     "text": [
      "09:10:24 - cmdstanpy - INFO - Chain [1] start processing\n",
      "09:10:34 - cmdstanpy - INFO - Chain [1] done processing\n",
      "09:10:37 - cmdstanpy - INFO - Chain [1] start processing\n",
      "09:10:38 - cmdstanpy - INFO - Chain [1] start processing\n",
      "09:10:38 - cmdstanpy - INFO - Chain [1] start processing\n",
      "09:10:39 - cmdstanpy - INFO - Chain [1] start processing\n",
      "09:10:40 - cmdstanpy - INFO - Chain [1] done processing\n",
      "09:10:40 - cmdstanpy - INFO - Chain [1] start processing\n",
      "09:10:44 - cmdstanpy - INFO - Chain [1] done processing\n",
      "09:10:49 - cmdstanpy - INFO - Chain [1] done processing\n",
      "09:10:50 - cmdstanpy - INFO - Chain [1] done processing\n",
      "09:10:54 - cmdstanpy - INFO - Chain [1] done processing\n"
     ]
    },
    {
     "name": "stdout",
     "output_type": "stream",
     "text": [
      "{'changepoint_prior_scale': 0.201, 'holidays_prior_scale': 7.51, 'seasonality_mode': 'additive', 'seasonality_prior_scale': 5.01}\n"
     ]
    },
    {
     "name": "stderr",
     "output_type": "stream",
     "text": [
      "09:10:59 - cmdstanpy - INFO - Chain [1] start processing\n",
      "09:11:09 - cmdstanpy - INFO - Chain [1] done processing\n",
      "09:11:12 - cmdstanpy - INFO - Chain [1] start processing\n",
      "09:11:13 - cmdstanpy - INFO - Chain [1] start processing\n",
      "09:11:14 - cmdstanpy - INFO - Chain [1] start processing\n",
      "09:11:15 - cmdstanpy - INFO - Chain [1] start processing\n",
      "09:11:16 - cmdstanpy - INFO - Chain [1] start processing\n",
      "09:11:16 - cmdstanpy - INFO - Chain [1] done processing\n",
      "09:11:19 - cmdstanpy - INFO - Chain [1] done processing\n",
      "09:11:24 - cmdstanpy - INFO - Chain [1] done processing\n",
      "09:11:27 - cmdstanpy - INFO - Chain [1] done processing\n",
      "09:11:32 - cmdstanpy - INFO - Chain [1] done processing\n"
     ]
    },
    {
     "name": "stdout",
     "output_type": "stream",
     "text": [
      "{'changepoint_prior_scale': 0.201, 'holidays_prior_scale': 7.51, 'seasonality_mode': 'additive', 'seasonality_prior_scale': 7.51}\n"
     ]
    },
    {
     "name": "stderr",
     "output_type": "stream",
     "text": [
      "09:11:36 - cmdstanpy - INFO - Chain [1] start processing\n",
      "09:11:45 - cmdstanpy - INFO - Chain [1] done processing\n",
      "09:11:48 - cmdstanpy - INFO - Chain [1] start processing\n",
      "09:11:49 - cmdstanpy - INFO - Chain [1] start processing\n",
      "09:11:50 - cmdstanpy - INFO - Chain [1] start processing\n",
      "09:11:51 - cmdstanpy - INFO - Chain [1] done processing\n",
      "09:11:51 - cmdstanpy - INFO - Chain [1] start processing\n",
      "09:11:52 - cmdstanpy - INFO - Chain [1] start processing\n",
      "09:11:56 - cmdstanpy - INFO - Chain [1] done processing\n",
      "09:12:00 - cmdstanpy - INFO - Chain [1] done processing\n",
      "09:12:02 - cmdstanpy - INFO - Chain [1] done processing\n",
      "09:12:06 - cmdstanpy - INFO - Chain [1] done processing\n"
     ]
    },
    {
     "name": "stdout",
     "output_type": "stream",
     "text": [
      "{'changepoint_prior_scale': 0.30100000000000005, 'holidays_prior_scale': 0.01, 'seasonality_mode': 'multiplicative', 'seasonality_prior_scale': 0.01}\n"
     ]
    },
    {
     "name": "stderr",
     "output_type": "stream",
     "text": [
      "09:12:11 - cmdstanpy - INFO - Chain [1] start processing\n",
      "09:12:23 - cmdstanpy - INFO - Chain [1] done processing\n",
      "09:12:25 - cmdstanpy - INFO - Chain [1] start processing\n",
      "09:12:26 - cmdstanpy - INFO - Chain [1] start processing\n",
      "09:12:27 - cmdstanpy - INFO - Chain [1] start processing\n",
      "09:12:28 - cmdstanpy - INFO - Chain [1] start processing\n",
      "09:12:29 - cmdstanpy - INFO - Chain [1] start processing\n",
      "09:12:32 - cmdstanpy - INFO - Chain [1] done processing\n",
      "09:12:41 - cmdstanpy - INFO - Chain [1] done processing\n",
      "09:12:43 - cmdstanpy - INFO - Chain [1] done processing\n",
      "09:12:44 - cmdstanpy - INFO - Chain [1] done processing\n",
      "09:12:48 - cmdstanpy - INFO - Chain [1] done processing\n"
     ]
    },
    {
     "name": "stdout",
     "output_type": "stream",
     "text": [
      "{'changepoint_prior_scale': 0.30100000000000005, 'holidays_prior_scale': 0.01, 'seasonality_mode': 'multiplicative', 'seasonality_prior_scale': 2.51}\n"
     ]
    },
    {
     "name": "stderr",
     "output_type": "stream",
     "text": [
      "09:12:52 - cmdstanpy - INFO - Chain [1] start processing\n",
      "09:13:09 - cmdstanpy - INFO - Chain [1] done processing\n",
      "09:13:12 - cmdstanpy - INFO - Chain [1] start processing\n",
      "09:13:13 - cmdstanpy - INFO - Chain [1] start processing\n",
      "09:13:14 - cmdstanpy - INFO - Chain [1] start processing\n",
      "09:13:15 - cmdstanpy - INFO - Chain [1] start processing\n",
      "09:13:16 - cmdstanpy - INFO - Chain [1] start processing\n",
      "09:13:20 - cmdstanpy - INFO - Chain [1] done processing\n",
      "09:13:27 - cmdstanpy - INFO - Chain [1] done processing\n",
      "09:13:28 - cmdstanpy - INFO - Chain [1] done processing\n",
      "09:13:32 - cmdstanpy - INFO - Chain [1] done processing\n",
      "09:13:36 - cmdstanpy - INFO - Chain [1] done processing\n"
     ]
    },
    {
     "name": "stdout",
     "output_type": "stream",
     "text": [
      "{'changepoint_prior_scale': 0.30100000000000005, 'holidays_prior_scale': 0.01, 'seasonality_mode': 'multiplicative', 'seasonality_prior_scale': 5.01}\n"
     ]
    },
    {
     "name": "stderr",
     "output_type": "stream",
     "text": [
      "09:13:40 - cmdstanpy - INFO - Chain [1] start processing\n",
      "09:13:55 - cmdstanpy - INFO - Chain [1] done processing\n",
      "09:13:58 - cmdstanpy - INFO - Chain [1] start processing\n",
      "09:13:59 - cmdstanpy - INFO - Chain [1] start processing\n",
      "09:14:00 - cmdstanpy - INFO - Chain [1] start processing\n",
      "09:14:01 - cmdstanpy - INFO - Chain [1] start processing\n",
      "09:14:02 - cmdstanpy - INFO - Chain [1] start processing\n",
      "09:14:09 - cmdstanpy - INFO - Chain [1] done processing\n",
      "09:14:20 - cmdstanpy - INFO - Chain [1] done processing\n",
      "09:14:21 - cmdstanpy - INFO - Chain [1] done processing\n",
      "09:14:23 - cmdstanpy - INFO - Chain [1] done processing\n",
      "09:14:27 - cmdstanpy - INFO - Chain [1] done processing\n"
     ]
    },
    {
     "name": "stdout",
     "output_type": "stream",
     "text": [
      "{'changepoint_prior_scale': 0.30100000000000005, 'holidays_prior_scale': 0.01, 'seasonality_mode': 'multiplicative', 'seasonality_prior_scale': 7.51}\n"
     ]
    },
    {
     "name": "stderr",
     "output_type": "stream",
     "text": [
      "09:14:31 - cmdstanpy - INFO - Chain [1] start processing\n",
      "09:14:49 - cmdstanpy - INFO - Chain [1] done processing\n",
      "09:14:52 - cmdstanpy - INFO - Chain [1] start processing\n",
      "09:14:53 - cmdstanpy - INFO - Chain [1] start processing\n",
      "09:14:54 - cmdstanpy - INFO - Chain [1] start processing\n",
      "09:14:55 - cmdstanpy - INFO - Chain [1] start processing\n",
      "09:14:56 - cmdstanpy - INFO - Chain [1] start processing\n",
      "09:15:01 - cmdstanpy - INFO - Chain [1] done processing\n",
      "09:15:04 - cmdstanpy - INFO - Chain [1] done processing\n",
      "09:15:10 - cmdstanpy - INFO - Chain [1] done processing\n",
      "09:15:14 - cmdstanpy - INFO - Chain [1] done processing\n",
      "09:15:20 - cmdstanpy - INFO - Chain [1] done processing\n"
     ]
    },
    {
     "name": "stdout",
     "output_type": "stream",
     "text": [
      "{'changepoint_prior_scale': 0.30100000000000005, 'holidays_prior_scale': 0.01, 'seasonality_mode': 'additive', 'seasonality_prior_scale': 0.01}\n"
     ]
    },
    {
     "name": "stderr",
     "output_type": "stream",
     "text": [
      "09:15:24 - cmdstanpy - INFO - Chain [1] start processing\n",
      "09:15:36 - cmdstanpy - INFO - Chain [1] done processing\n",
      "09:15:39 - cmdstanpy - INFO - Chain [1] start processing\n",
      "09:15:40 - cmdstanpy - INFO - Chain [1] start processing\n",
      "09:15:41 - cmdstanpy - INFO - Chain [1] start processing\n",
      "09:15:42 - cmdstanpy - INFO - Chain [1] start processing\n",
      "09:15:42 - cmdstanpy - INFO - Chain [1] done processing\n",
      "09:15:43 - cmdstanpy - INFO - Chain [1] start processing\n",
      "09:15:48 - cmdstanpy - INFO - Chain [1] done processing\n",
      "09:15:51 - cmdstanpy - INFO - Chain [1] done processing\n",
      "09:15:54 - cmdstanpy - INFO - Chain [1] done processing\n",
      "09:15:54 - cmdstanpy - INFO - Chain [1] done processing\n"
     ]
    },
    {
     "name": "stdout",
     "output_type": "stream",
     "text": [
      "{'changepoint_prior_scale': 0.30100000000000005, 'holidays_prior_scale': 0.01, 'seasonality_mode': 'additive', 'seasonality_prior_scale': 2.51}\n"
     ]
    },
    {
     "name": "stderr",
     "output_type": "stream",
     "text": [
      "09:15:59 - cmdstanpy - INFO - Chain [1] start processing\n",
      "09:16:13 - cmdstanpy - INFO - Chain [1] done processing\n",
      "09:16:16 - cmdstanpy - INFO - Chain [1] start processing\n",
      "09:16:17 - cmdstanpy - INFO - Chain [1] start processing\n",
      "09:16:18 - cmdstanpy - INFO - Chain [1] start processing\n",
      "09:16:19 - cmdstanpy - INFO - Chain [1] done processing\n",
      "09:16:19 - cmdstanpy - INFO - Chain [1] start processing\n",
      "09:16:21 - cmdstanpy - INFO - Chain [1] start processing\n",
      "09:16:23 - cmdstanpy - INFO - Chain [1] done processing\n",
      "09:16:28 - cmdstanpy - INFO - Chain [1] done processing\n",
      "09:16:30 - cmdstanpy - INFO - Chain [1] done processing\n",
      "09:16:32 - cmdstanpy - INFO - Chain [1] done processing\n"
     ]
    },
    {
     "name": "stdout",
     "output_type": "stream",
     "text": [
      "{'changepoint_prior_scale': 0.30100000000000005, 'holidays_prior_scale': 0.01, 'seasonality_mode': 'additive', 'seasonality_prior_scale': 5.01}\n"
     ]
    },
    {
     "name": "stderr",
     "output_type": "stream",
     "text": [
      "09:16:36 - cmdstanpy - INFO - Chain [1] start processing\n",
      "09:16:47 - cmdstanpy - INFO - Chain [1] done processing\n",
      "09:16:50 - cmdstanpy - INFO - Chain [1] start processing\n",
      "09:16:51 - cmdstanpy - INFO - Chain [1] start processing\n",
      "09:16:51 - cmdstanpy - INFO - Chain [1] start processing\n",
      "09:16:52 - cmdstanpy - INFO - Chain [1] start processing\n",
      "09:16:53 - cmdstanpy - INFO - Chain [1] start processing\n",
      "09:16:55 - cmdstanpy - INFO - Chain [1] done processing\n",
      "09:16:58 - cmdstanpy - INFO - Chain [1] done processing\n",
      "09:17:03 - cmdstanpy - INFO - Chain [1] done processing\n",
      "09:17:04 - cmdstanpy - INFO - Chain [1] done processing\n",
      "09:17:10 - cmdstanpy - INFO - Chain [1] done processing\n"
     ]
    },
    {
     "name": "stdout",
     "output_type": "stream",
     "text": [
      "{'changepoint_prior_scale': 0.30100000000000005, 'holidays_prior_scale': 0.01, 'seasonality_mode': 'additive', 'seasonality_prior_scale': 7.51}\n"
     ]
    },
    {
     "name": "stderr",
     "output_type": "stream",
     "text": [
      "09:17:14 - cmdstanpy - INFO - Chain [1] start processing\n",
      "09:17:27 - cmdstanpy - INFO - Chain [1] done processing\n",
      "09:17:30 - cmdstanpy - INFO - Chain [1] start processing\n",
      "09:17:31 - cmdstanpy - INFO - Chain [1] start processing\n",
      "09:17:32 - cmdstanpy - INFO - Chain [1] start processing\n",
      "09:17:33 - cmdstanpy - INFO - Chain [1] start processing\n",
      "09:17:33 - cmdstanpy - INFO - Chain [1] done processing\n",
      "09:17:35 - cmdstanpy - INFO - Chain [1] start processing\n",
      "09:17:38 - cmdstanpy - INFO - Chain [1] done processing\n",
      "09:17:43 - cmdstanpy - INFO - Chain [1] done processing\n",
      "09:17:46 - cmdstanpy - INFO - Chain [1] done processing\n",
      "09:17:48 - cmdstanpy - INFO - Chain [1] done processing\n"
     ]
    },
    {
     "name": "stdout",
     "output_type": "stream",
     "text": [
      "{'changepoint_prior_scale': 0.30100000000000005, 'holidays_prior_scale': 2.51, 'seasonality_mode': 'multiplicative', 'seasonality_prior_scale': 0.01}\n"
     ]
    },
    {
     "name": "stderr",
     "output_type": "stream",
     "text": [
      "09:17:52 - cmdstanpy - INFO - Chain [1] start processing\n",
      "09:18:04 - cmdstanpy - INFO - Chain [1] done processing\n",
      "09:18:07 - cmdstanpy - INFO - Chain [1] start processing\n",
      "09:18:08 - cmdstanpy - INFO - Chain [1] start processing\n",
      "09:18:10 - cmdstanpy - INFO - Chain [1] start processing\n",
      "09:18:11 - cmdstanpy - INFO - Chain [1] start processing\n",
      "09:18:11 - cmdstanpy - INFO - Chain [1] start processing\n",
      "09:18:15 - cmdstanpy - INFO - Chain [1] done processing\n",
      "09:18:18 - cmdstanpy - INFO - Chain [1] done processing\n",
      "09:18:19 - cmdstanpy - INFO - Chain [1] done processing\n",
      "09:18:31 - cmdstanpy - INFO - Chain [1] done processing\n",
      "09:18:32 - cmdstanpy - INFO - Chain [1] done processing\n"
     ]
    },
    {
     "name": "stdout",
     "output_type": "stream",
     "text": [
      "{'changepoint_prior_scale': 0.30100000000000005, 'holidays_prior_scale': 2.51, 'seasonality_mode': 'multiplicative', 'seasonality_prior_scale': 2.51}\n"
     ]
    },
    {
     "name": "stderr",
     "output_type": "stream",
     "text": [
      "09:18:36 - cmdstanpy - INFO - Chain [1] start processing\n",
      "09:18:53 - cmdstanpy - INFO - Chain [1] done processing\n",
      "09:18:56 - cmdstanpy - INFO - Chain [1] start processing\n",
      "09:18:57 - cmdstanpy - INFO - Chain [1] start processing\n",
      "09:18:59 - cmdstanpy - INFO - Chain [1] start processing\n",
      "09:19:00 - cmdstanpy - INFO - Chain [1] start processing\n",
      "09:19:01 - cmdstanpy - INFO - Chain [1] start processing\n",
      "09:19:05 - cmdstanpy - INFO - Chain [1] done processing\n",
      "09:19:12 - cmdstanpy - INFO - Chain [1] done processing\n",
      "09:19:13 - cmdstanpy - INFO - Chain [1] done processing\n",
      "09:19:28 - cmdstanpy - INFO - Chain [1] done processing\n",
      "09:19:29 - cmdstanpy - INFO - Chain [1] done processing\n"
     ]
    },
    {
     "name": "stdout",
     "output_type": "stream",
     "text": [
      "{'changepoint_prior_scale': 0.30100000000000005, 'holidays_prior_scale': 2.51, 'seasonality_mode': 'multiplicative', 'seasonality_prior_scale': 5.01}\n"
     ]
    },
    {
     "name": "stderr",
     "output_type": "stream",
     "text": [
      "09:19:34 - cmdstanpy - INFO - Chain [1] start processing\n",
      "09:19:49 - cmdstanpy - INFO - Chain [1] done processing\n",
      "09:19:52 - cmdstanpy - INFO - Chain [1] start processing\n",
      "09:19:53 - cmdstanpy - INFO - Chain [1] start processing\n",
      "09:19:54 - cmdstanpy - INFO - Chain [1] start processing\n",
      "09:19:55 - cmdstanpy - INFO - Chain [1] start processing\n",
      "09:19:56 - cmdstanpy - INFO - Chain [1] start processing\n",
      "09:20:00 - cmdstanpy - INFO - Chain [1] done processing\n",
      "09:20:06 - cmdstanpy - INFO - Chain [1] done processing\n",
      "09:20:09 - cmdstanpy - INFO - Chain [1] done processing\n",
      "09:20:22 - cmdstanpy - INFO - Chain [1] done processing\n",
      "09:20:23 - cmdstanpy - INFO - Chain [1] done processing\n"
     ]
    },
    {
     "name": "stdout",
     "output_type": "stream",
     "text": [
      "{'changepoint_prior_scale': 0.30100000000000005, 'holidays_prior_scale': 2.51, 'seasonality_mode': 'multiplicative', 'seasonality_prior_scale': 7.51}\n"
     ]
    },
    {
     "name": "stderr",
     "output_type": "stream",
     "text": [
      "09:20:28 - cmdstanpy - INFO - Chain [1] start processing\n",
      "09:20:42 - cmdstanpy - INFO - Chain [1] done processing\n",
      "09:20:44 - cmdstanpy - INFO - Chain [1] start processing\n",
      "09:20:45 - cmdstanpy - INFO - Chain [1] start processing\n",
      "09:20:47 - cmdstanpy - INFO - Chain [1] start processing\n",
      "09:20:47 - cmdstanpy - INFO - Chain [1] start processing\n",
      "09:20:48 - cmdstanpy - INFO - Chain [1] start processing\n",
      "09:20:50 - cmdstanpy - INFO - Chain [1] done processing\n",
      "09:21:03 - cmdstanpy - INFO - Chain [1] done processing\n",
      "09:21:03 - cmdstanpy - INFO - Chain [1] done processing\n",
      "09:21:15 - cmdstanpy - INFO - Chain [1] done processing\n",
      "09:21:17 - cmdstanpy - INFO - Chain [1] done processing\n"
     ]
    },
    {
     "name": "stdout",
     "output_type": "stream",
     "text": [
      "{'changepoint_prior_scale': 0.30100000000000005, 'holidays_prior_scale': 2.51, 'seasonality_mode': 'additive', 'seasonality_prior_scale': 0.01}\n"
     ]
    },
    {
     "name": "stderr",
     "output_type": "stream",
     "text": [
      "09:21:21 - cmdstanpy - INFO - Chain [1] start processing\n",
      "09:21:33 - cmdstanpy - INFO - Chain [1] done processing\n",
      "09:21:36 - cmdstanpy - INFO - Chain [1] start processing\n",
      "09:21:37 - cmdstanpy - INFO - Chain [1] start processing\n",
      "09:21:38 - cmdstanpy - INFO - Chain [1] start processing\n",
      "09:21:38 - cmdstanpy - INFO - Chain [1] done processing\n",
      "09:21:39 - cmdstanpy - INFO - Chain [1] start processing\n",
      "09:21:40 - cmdstanpy - INFO - Chain [1] start processing\n",
      "09:21:44 - cmdstanpy - INFO - Chain [1] done processing\n",
      "09:21:48 - cmdstanpy - INFO - Chain [1] done processing\n",
      "09:21:52 - cmdstanpy - INFO - Chain [1] done processing\n",
      "09:21:53 - cmdstanpy - INFO - Chain [1] done processing\n"
     ]
    },
    {
     "name": "stdout",
     "output_type": "stream",
     "text": [
      "{'changepoint_prior_scale': 0.30100000000000005, 'holidays_prior_scale': 2.51, 'seasonality_mode': 'additive', 'seasonality_prior_scale': 2.51}\n"
     ]
    },
    {
     "name": "stderr",
     "output_type": "stream",
     "text": [
      "09:21:58 - cmdstanpy - INFO - Chain [1] start processing\n",
      "09:22:07 - cmdstanpy - INFO - Chain [1] done processing\n",
      "09:22:10 - cmdstanpy - INFO - Chain [1] start processing\n",
      "09:22:11 - cmdstanpy - INFO - Chain [1] start processing\n",
      "09:22:12 - cmdstanpy - INFO - Chain [1] start processing\n",
      "09:22:13 - cmdstanpy - INFO - Chain [1] done processing\n",
      "09:22:13 - cmdstanpy - INFO - Chain [1] start processing\n",
      "09:22:14 - cmdstanpy - INFO - Chain [1] start processing\n",
      "09:22:21 - cmdstanpy - INFO - Chain [1] done processing\n",
      "09:22:21 - cmdstanpy - INFO - Chain [1] done processing\n",
      "09:22:26 - cmdstanpy - INFO - Chain [1] done processing\n",
      "09:22:29 - cmdstanpy - INFO - Chain [1] done processing\n"
     ]
    },
    {
     "name": "stdout",
     "output_type": "stream",
     "text": [
      "{'changepoint_prior_scale': 0.30100000000000005, 'holidays_prior_scale': 2.51, 'seasonality_mode': 'additive', 'seasonality_prior_scale': 5.01}\n"
     ]
    },
    {
     "name": "stderr",
     "output_type": "stream",
     "text": [
      "09:22:33 - cmdstanpy - INFO - Chain [1] start processing\n",
      "09:22:40 - cmdstanpy - INFO - Chain [1] done processing\n",
      "09:22:42 - cmdstanpy - INFO - Chain [1] start processing\n",
      "09:22:44 - cmdstanpy - INFO - Chain [1] start processing\n",
      "09:22:44 - cmdstanpy - INFO - Chain [1] start processing\n",
      "09:22:45 - cmdstanpy - INFO - Chain [1] start processing\n",
      "09:22:46 - cmdstanpy - INFO - Chain [1] start processing\n",
      "09:22:48 - cmdstanpy - INFO - Chain [1] done processing\n",
      "09:22:52 - cmdstanpy - INFO - Chain [1] done processing\n",
      "09:22:56 - cmdstanpy - INFO - Chain [1] done processing\n",
      "09:22:57 - cmdstanpy - INFO - Chain [1] done processing\n",
      "09:23:02 - cmdstanpy - INFO - Chain [1] done processing\n"
     ]
    },
    {
     "name": "stdout",
     "output_type": "stream",
     "text": [
      "{'changepoint_prior_scale': 0.30100000000000005, 'holidays_prior_scale': 2.51, 'seasonality_mode': 'additive', 'seasonality_prior_scale': 7.51}\n"
     ]
    },
    {
     "name": "stderr",
     "output_type": "stream",
     "text": [
      "09:23:06 - cmdstanpy - INFO - Chain [1] start processing\n",
      "09:23:14 - cmdstanpy - INFO - Chain [1] done processing\n",
      "09:23:17 - cmdstanpy - INFO - Chain [1] start processing\n",
      "09:23:18 - cmdstanpy - INFO - Chain [1] start processing\n",
      "09:23:19 - cmdstanpy - INFO - Chain [1] start processing\n",
      "09:23:19 - cmdstanpy - INFO - Chain [1] done processing\n",
      "09:23:21 - cmdstanpy - INFO - Chain [1] start processing\n",
      "09:23:22 - cmdstanpy - INFO - Chain [1] start processing\n",
      "09:23:25 - cmdstanpy - INFO - Chain [1] done processing\n",
      "09:23:28 - cmdstanpy - INFO - Chain [1] done processing\n",
      "09:23:32 - cmdstanpy - INFO - Chain [1] done processing\n",
      "09:23:33 - cmdstanpy - INFO - Chain [1] done processing\n"
     ]
    },
    {
     "name": "stdout",
     "output_type": "stream",
     "text": [
      "{'changepoint_prior_scale': 0.30100000000000005, 'holidays_prior_scale': 5.01, 'seasonality_mode': 'multiplicative', 'seasonality_prior_scale': 0.01}\n"
     ]
    },
    {
     "name": "stderr",
     "output_type": "stream",
     "text": [
      "09:23:37 - cmdstanpy - INFO - Chain [1] start processing\n",
      "09:23:52 - cmdstanpy - INFO - Chain [1] done processing\n",
      "09:23:55 - cmdstanpy - INFO - Chain [1] start processing\n",
      "09:23:56 - cmdstanpy - INFO - Chain [1] start processing\n",
      "09:23:57 - cmdstanpy - INFO - Chain [1] start processing\n",
      "09:23:58 - cmdstanpy - INFO - Chain [1] start processing\n",
      "09:23:59 - cmdstanpy - INFO - Chain [1] start processing\n",
      "09:24:01 - cmdstanpy - INFO - Chain [1] done processing\n",
      "09:24:07 - cmdstanpy - INFO - Chain [1] done processing\n",
      "09:24:10 - cmdstanpy - INFO - Chain [1] done processing\n",
      "09:24:13 - cmdstanpy - INFO - Chain [1] done processing\n",
      "09:24:17 - cmdstanpy - INFO - Chain [1] done processing\n"
     ]
    },
    {
     "name": "stdout",
     "output_type": "stream",
     "text": [
      "{'changepoint_prior_scale': 0.30100000000000005, 'holidays_prior_scale': 5.01, 'seasonality_mode': 'multiplicative', 'seasonality_prior_scale': 2.51}\n"
     ]
    },
    {
     "name": "stderr",
     "output_type": "stream",
     "text": [
      "09:24:21 - cmdstanpy - INFO - Chain [1] start processing\n",
      "09:24:39 - cmdstanpy - INFO - Chain [1] done processing\n",
      "09:24:42 - cmdstanpy - INFO - Chain [1] start processing\n",
      "09:24:43 - cmdstanpy - INFO - Chain [1] start processing\n",
      "09:24:44 - cmdstanpy - INFO - Chain [1] start processing\n",
      "09:24:45 - cmdstanpy - INFO - Chain [1] start processing\n",
      "09:24:46 - cmdstanpy - INFO - Chain [1] start processing\n",
      "09:24:54 - cmdstanpy - INFO - Chain [1] done processing\n",
      "09:25:02 - cmdstanpy - INFO - Chain [1] done processing\n",
      "09:25:02 - cmdstanpy - INFO - Chain [1] done processing\n",
      "09:25:17 - cmdstanpy - INFO - Chain [1] done processing\n",
      "09:25:18 - cmdstanpy - INFO - Chain [1] done processing\n"
     ]
    },
    {
     "name": "stdout",
     "output_type": "stream",
     "text": [
      "{'changepoint_prior_scale': 0.30100000000000005, 'holidays_prior_scale': 5.01, 'seasonality_mode': 'multiplicative', 'seasonality_prior_scale': 5.01}\n"
     ]
    },
    {
     "name": "stderr",
     "output_type": "stream",
     "text": [
      "09:25:23 - cmdstanpy - INFO - Chain [1] start processing\n",
      "09:25:38 - cmdstanpy - INFO - Chain [1] done processing\n",
      "09:25:41 - cmdstanpy - INFO - Chain [1] start processing\n",
      "09:25:42 - cmdstanpy - INFO - Chain [1] start processing\n",
      "09:25:43 - cmdstanpy - INFO - Chain [1] start processing\n",
      "09:25:44 - cmdstanpy - INFO - Chain [1] start processing\n",
      "09:25:45 - cmdstanpy - INFO - Chain [1] start processing\n",
      "09:25:48 - cmdstanpy - INFO - Chain [1] done processing\n",
      "09:25:56 - cmdstanpy - INFO - Chain [1] done processing\n",
      "09:25:58 - cmdstanpy - INFO - Chain [1] done processing\n",
      "09:26:08 - cmdstanpy - INFO - Chain [1] done processing\n",
      "09:26:15 - cmdstanpy - INFO - Chain [1] done processing\n"
     ]
    },
    {
     "name": "stdout",
     "output_type": "stream",
     "text": [
      "{'changepoint_prior_scale': 0.30100000000000005, 'holidays_prior_scale': 5.01, 'seasonality_mode': 'multiplicative', 'seasonality_prior_scale': 7.51}\n"
     ]
    },
    {
     "name": "stderr",
     "output_type": "stream",
     "text": [
      "09:26:19 - cmdstanpy - INFO - Chain [1] start processing\n",
      "09:26:36 - cmdstanpy - INFO - Chain [1] done processing\n",
      "09:26:39 - cmdstanpy - INFO - Chain [1] start processing\n",
      "09:26:41 - cmdstanpy - INFO - Chain [1] start processing\n",
      "09:26:41 - cmdstanpy - INFO - Chain [1] start processing\n",
      "09:26:42 - cmdstanpy - INFO - Chain [1] start processing\n",
      "09:26:43 - cmdstanpy - INFO - Chain [1] start processing\n",
      "09:26:45 - cmdstanpy - INFO - Chain [1] done processing\n",
      "09:26:57 - cmdstanpy - INFO - Chain [1] done processing\n",
      "09:26:59 - cmdstanpy - INFO - Chain [1] done processing\n",
      "09:27:08 - cmdstanpy - INFO - Chain [1] done processing\n",
      "09:27:09 - cmdstanpy - INFO - Chain [1] done processing\n"
     ]
    },
    {
     "name": "stdout",
     "output_type": "stream",
     "text": [
      "{'changepoint_prior_scale': 0.30100000000000005, 'holidays_prior_scale': 5.01, 'seasonality_mode': 'additive', 'seasonality_prior_scale': 0.01}\n"
     ]
    },
    {
     "name": "stderr",
     "output_type": "stream",
     "text": [
      "09:27:14 - cmdstanpy - INFO - Chain [1] start processing\n",
      "09:27:24 - cmdstanpy - INFO - Chain [1] done processing\n",
      "09:27:27 - cmdstanpy - INFO - Chain [1] start processing\n",
      "09:27:28 - cmdstanpy - INFO - Chain [1] start processing\n",
      "09:27:29 - cmdstanpy - INFO - Chain [1] start processing\n",
      "09:27:30 - cmdstanpy - INFO - Chain [1] start processing\n",
      "09:27:31 - cmdstanpy - INFO - Chain [1] done processing\n",
      "09:27:32 - cmdstanpy - INFO - Chain [1] start processing\n",
      "09:27:36 - cmdstanpy - INFO - Chain [1] done processing\n",
      "09:27:39 - cmdstanpy - INFO - Chain [1] done processing\n",
      "09:27:43 - cmdstanpy - INFO - Chain [1] done processing\n",
      "09:27:48 - cmdstanpy - INFO - Chain [1] done processing\n"
     ]
    },
    {
     "name": "stdout",
     "output_type": "stream",
     "text": [
      "{'changepoint_prior_scale': 0.30100000000000005, 'holidays_prior_scale': 5.01, 'seasonality_mode': 'additive', 'seasonality_prior_scale': 2.51}\n"
     ]
    },
    {
     "name": "stderr",
     "output_type": "stream",
     "text": [
      "09:27:52 - cmdstanpy - INFO - Chain [1] start processing\n",
      "09:28:07 - cmdstanpy - INFO - Chain [1] done processing\n",
      "09:28:10 - cmdstanpy - INFO - Chain [1] start processing\n",
      "09:28:12 - cmdstanpy - INFO - Chain [1] start processing\n",
      "09:28:13 - cmdstanpy - INFO - Chain [1] start processing\n",
      "09:28:14 - cmdstanpy - INFO - Chain [1] start processing\n",
      "09:28:14 - cmdstanpy - INFO - Chain [1] done processing\n",
      "09:28:15 - cmdstanpy - INFO - Chain [1] start processing\n",
      "09:28:17 - cmdstanpy - INFO - Chain [1] done processing\n",
      "09:28:25 - cmdstanpy - INFO - Chain [1] done processing\n",
      "09:28:26 - cmdstanpy - INFO - Chain [1] done processing\n",
      "09:28:31 - cmdstanpy - INFO - Chain [1] done processing\n"
     ]
    },
    {
     "name": "stdout",
     "output_type": "stream",
     "text": [
      "{'changepoint_prior_scale': 0.30100000000000005, 'holidays_prior_scale': 5.01, 'seasonality_mode': 'additive', 'seasonality_prior_scale': 5.01}\n"
     ]
    },
    {
     "name": "stderr",
     "output_type": "stream",
     "text": [
      "09:28:36 - cmdstanpy - INFO - Chain [1] start processing\n",
      "09:28:50 - cmdstanpy - INFO - Chain [1] done processing\n",
      "09:28:52 - cmdstanpy - INFO - Chain [1] start processing\n",
      "09:28:54 - cmdstanpy - INFO - Chain [1] start processing\n",
      "09:28:54 - cmdstanpy - INFO - Chain [1] start processing\n",
      "09:28:55 - cmdstanpy - INFO - Chain [1] start processing\n",
      "09:28:56 - cmdstanpy - INFO - Chain [1] start processing\n",
      "09:28:58 - cmdstanpy - INFO - Chain [1] done processing\n",
      "09:29:03 - cmdstanpy - INFO - Chain [1] done processing\n",
      "09:29:07 - cmdstanpy - INFO - Chain [1] done processing\n",
      "09:29:10 - cmdstanpy - INFO - Chain [1] done processing\n",
      "09:29:12 - cmdstanpy - INFO - Chain [1] done processing\n"
     ]
    },
    {
     "name": "stdout",
     "output_type": "stream",
     "text": [
      "{'changepoint_prior_scale': 0.30100000000000005, 'holidays_prior_scale': 5.01, 'seasonality_mode': 'additive', 'seasonality_prior_scale': 7.51}\n"
     ]
    },
    {
     "name": "stderr",
     "output_type": "stream",
     "text": [
      "09:29:16 - cmdstanpy - INFO - Chain [1] start processing\n",
      "09:29:24 - cmdstanpy - INFO - Chain [1] done processing\n",
      "09:29:27 - cmdstanpy - INFO - Chain [1] start processing\n",
      "09:29:28 - cmdstanpy - INFO - Chain [1] start processing\n",
      "09:29:29 - cmdstanpy - INFO - Chain [1] start processing\n",
      "09:29:30 - cmdstanpy - INFO - Chain [1] start processing\n",
      "09:29:31 - cmdstanpy - INFO - Chain [1] start processing\n",
      "09:29:32 - cmdstanpy - INFO - Chain [1] done processing\n",
      "09:29:37 - cmdstanpy - INFO - Chain [1] done processing\n",
      "09:29:40 - cmdstanpy - INFO - Chain [1] done processing\n",
      "09:29:43 - cmdstanpy - INFO - Chain [1] done processing\n",
      "09:29:47 - cmdstanpy - INFO - Chain [1] done processing\n"
     ]
    },
    {
     "name": "stdout",
     "output_type": "stream",
     "text": [
      "{'changepoint_prior_scale': 0.30100000000000005, 'holidays_prior_scale': 7.51, 'seasonality_mode': 'multiplicative', 'seasonality_prior_scale': 0.01}\n"
     ]
    },
    {
     "name": "stderr",
     "output_type": "stream",
     "text": [
      "09:29:51 - cmdstanpy - INFO - Chain [1] start processing\n",
      "09:30:06 - cmdstanpy - INFO - Chain [1] done processing\n",
      "09:30:09 - cmdstanpy - INFO - Chain [1] start processing\n",
      "09:30:10 - cmdstanpy - INFO - Chain [1] start processing\n",
      "09:30:11 - cmdstanpy - INFO - Chain [1] start processing\n",
      "09:30:12 - cmdstanpy - INFO - Chain [1] start processing\n",
      "09:30:13 - cmdstanpy - INFO - Chain [1] start processing\n",
      "09:30:17 - cmdstanpy - INFO - Chain [1] done processing\n",
      "09:30:22 - cmdstanpy - INFO - Chain [1] done processing\n",
      "09:30:24 - cmdstanpy - INFO - Chain [1] done processing\n",
      "09:30:28 - cmdstanpy - INFO - Chain [1] done processing\n",
      "09:30:34 - cmdstanpy - INFO - Chain [1] done processing\n"
     ]
    },
    {
     "name": "stdout",
     "output_type": "stream",
     "text": [
      "{'changepoint_prior_scale': 0.30100000000000005, 'holidays_prior_scale': 7.51, 'seasonality_mode': 'multiplicative', 'seasonality_prior_scale': 2.51}\n"
     ]
    },
    {
     "name": "stderr",
     "output_type": "stream",
     "text": [
      "09:30:38 - cmdstanpy - INFO - Chain [1] start processing\n",
      "09:30:52 - cmdstanpy - INFO - Chain [1] done processing\n",
      "09:30:55 - cmdstanpy - INFO - Chain [1] start processing\n",
      "09:30:56 - cmdstanpy - INFO - Chain [1] start processing\n",
      "09:30:57 - cmdstanpy - INFO - Chain [1] start processing\n",
      "09:30:58 - cmdstanpy - INFO - Chain [1] start processing\n",
      "09:30:59 - cmdstanpy - INFO - Chain [1] start processing\n",
      "09:31:03 - cmdstanpy - INFO - Chain [1] done processing\n",
      "09:31:11 - cmdstanpy - INFO - Chain [1] done processing\n",
      "09:31:12 - cmdstanpy - INFO - Chain [1] done processing\n",
      "09:31:23 - cmdstanpy - INFO - Chain [1] done processing\n",
      "09:31:26 - cmdstanpy - INFO - Chain [1] done processing\n"
     ]
    },
    {
     "name": "stdout",
     "output_type": "stream",
     "text": [
      "{'changepoint_prior_scale': 0.30100000000000005, 'holidays_prior_scale': 7.51, 'seasonality_mode': 'multiplicative', 'seasonality_prior_scale': 5.01}\n"
     ]
    },
    {
     "name": "stderr",
     "output_type": "stream",
     "text": [
      "09:31:30 - cmdstanpy - INFO - Chain [1] start processing\n",
      "09:31:44 - cmdstanpy - INFO - Chain [1] done processing\n",
      "09:31:47 - cmdstanpy - INFO - Chain [1] start processing\n",
      "09:31:48 - cmdstanpy - INFO - Chain [1] start processing\n",
      "09:31:49 - cmdstanpy - INFO - Chain [1] start processing\n",
      "09:31:50 - cmdstanpy - INFO - Chain [1] start processing\n",
      "09:31:51 - cmdstanpy - INFO - Chain [1] start processing\n",
      "09:31:53 - cmdstanpy - INFO - Chain [1] done processing\n",
      "09:32:01 - cmdstanpy - INFO - Chain [1] done processing\n",
      "09:32:04 - cmdstanpy - INFO - Chain [1] done processing\n",
      "09:32:18 - cmdstanpy - INFO - Chain [1] done processing\n",
      "09:32:19 - cmdstanpy - INFO - Chain [1] done processing\n"
     ]
    },
    {
     "name": "stdout",
     "output_type": "stream",
     "text": [
      "{'changepoint_prior_scale': 0.30100000000000005, 'holidays_prior_scale': 7.51, 'seasonality_mode': 'multiplicative', 'seasonality_prior_scale': 7.51}\n"
     ]
    },
    {
     "name": "stderr",
     "output_type": "stream",
     "text": [
      "09:32:23 - cmdstanpy - INFO - Chain [1] start processing\n",
      "09:32:37 - cmdstanpy - INFO - Chain [1] done processing\n",
      "09:32:40 - cmdstanpy - INFO - Chain [1] start processing\n",
      "09:32:41 - cmdstanpy - INFO - Chain [1] start processing\n",
      "09:32:42 - cmdstanpy - INFO - Chain [1] start processing\n",
      "09:32:43 - cmdstanpy - INFO - Chain [1] start processing\n",
      "09:32:44 - cmdstanpy - INFO - Chain [1] start processing\n",
      "09:32:46 - cmdstanpy - INFO - Chain [1] done processing\n",
      "09:32:56 - cmdstanpy - INFO - Chain [1] done processing\n",
      "09:32:58 - cmdstanpy - INFO - Chain [1] done processing\n",
      "09:33:08 - cmdstanpy - INFO - Chain [1] done processing\n",
      "09:33:12 - cmdstanpy - INFO - Chain [1] done processing\n"
     ]
    },
    {
     "name": "stdout",
     "output_type": "stream",
     "text": [
      "{'changepoint_prior_scale': 0.30100000000000005, 'holidays_prior_scale': 7.51, 'seasonality_mode': 'additive', 'seasonality_prior_scale': 0.01}\n"
     ]
    },
    {
     "name": "stderr",
     "output_type": "stream",
     "text": [
      "09:33:16 - cmdstanpy - INFO - Chain [1] start processing\n",
      "09:33:27 - cmdstanpy - INFO - Chain [1] done processing\n",
      "09:33:30 - cmdstanpy - INFO - Chain [1] start processing\n",
      "09:33:32 - cmdstanpy - INFO - Chain [1] start processing\n",
      "09:33:33 - cmdstanpy - INFO - Chain [1] start processing\n",
      "09:33:34 - cmdstanpy - INFO - Chain [1] start processing\n",
      "09:33:34 - cmdstanpy - INFO - Chain [1] done processing\n",
      "09:33:35 - cmdstanpy - INFO - Chain [1] start processing\n",
      "09:33:40 - cmdstanpy - INFO - Chain [1] done processing\n",
      "09:33:44 - cmdstanpy - INFO - Chain [1] done processing\n",
      "09:33:46 - cmdstanpy - INFO - Chain [1] done processing\n",
      "09:33:48 - cmdstanpy - INFO - Chain [1] done processing\n"
     ]
    },
    {
     "name": "stdout",
     "output_type": "stream",
     "text": [
      "{'changepoint_prior_scale': 0.30100000000000005, 'holidays_prior_scale': 7.51, 'seasonality_mode': 'additive', 'seasonality_prior_scale': 2.51}\n"
     ]
    },
    {
     "name": "stderr",
     "output_type": "stream",
     "text": [
      "09:33:52 - cmdstanpy - INFO - Chain [1] start processing\n",
      "09:34:00 - cmdstanpy - INFO - Chain [1] done processing\n",
      "09:34:03 - cmdstanpy - INFO - Chain [1] start processing\n",
      "09:34:04 - cmdstanpy - INFO - Chain [1] start processing\n",
      "09:34:05 - cmdstanpy - INFO - Chain [1] start processing\n",
      "09:34:06 - cmdstanpy - INFO - Chain [1] done processing\n",
      "09:34:07 - cmdstanpy - INFO - Chain [1] start processing\n",
      "09:34:08 - cmdstanpy - INFO - Chain [1] start processing\n",
      "09:34:11 - cmdstanpy - INFO - Chain [1] done processing\n",
      "09:34:17 - cmdstanpy - INFO - Chain [1] done processing\n",
      "09:34:18 - cmdstanpy - INFO - Chain [1] done processing\n",
      "09:34:21 - cmdstanpy - INFO - Chain [1] done processing\n"
     ]
    },
    {
     "name": "stdout",
     "output_type": "stream",
     "text": [
      "{'changepoint_prior_scale': 0.30100000000000005, 'holidays_prior_scale': 7.51, 'seasonality_mode': 'additive', 'seasonality_prior_scale': 5.01}\n"
     ]
    },
    {
     "name": "stderr",
     "output_type": "stream",
     "text": [
      "09:34:25 - cmdstanpy - INFO - Chain [1] start processing\n",
      "09:34:36 - cmdstanpy - INFO - Chain [1] done processing\n",
      "09:34:39 - cmdstanpy - INFO - Chain [1] start processing\n",
      "09:34:40 - cmdstanpy - INFO - Chain [1] start processing\n",
      "09:34:41 - cmdstanpy - INFO - Chain [1] start processing\n",
      "09:34:42 - cmdstanpy - INFO - Chain [1] done processing\n",
      "09:34:43 - cmdstanpy - INFO - Chain [1] start processing\n",
      "09:34:44 - cmdstanpy - INFO - Chain [1] start processing\n",
      "09:34:50 - cmdstanpy - INFO - Chain [1] done processing\n",
      "09:34:53 - cmdstanpy - INFO - Chain [1] done processing\n",
      "09:34:54 - cmdstanpy - INFO - Chain [1] done processing\n",
      "09:34:58 - cmdstanpy - INFO - Chain [1] done processing\n"
     ]
    },
    {
     "name": "stdout",
     "output_type": "stream",
     "text": [
      "{'changepoint_prior_scale': 0.30100000000000005, 'holidays_prior_scale': 7.51, 'seasonality_mode': 'additive', 'seasonality_prior_scale': 7.51}\n"
     ]
    },
    {
     "name": "stderr",
     "output_type": "stream",
     "text": [
      "09:35:03 - cmdstanpy - INFO - Chain [1] start processing\n",
      "09:35:10 - cmdstanpy - INFO - Chain [1] done processing\n",
      "09:35:13 - cmdstanpy - INFO - Chain [1] start processing\n",
      "09:35:14 - cmdstanpy - INFO - Chain [1] start processing\n",
      "09:35:15 - cmdstanpy - INFO - Chain [1] done processing\n",
      "09:35:16 - cmdstanpy - INFO - Chain [1] start processing\n",
      "09:35:17 - cmdstanpy - INFO - Chain [1] start processing\n",
      "09:35:18 - cmdstanpy - INFO - Chain [1] start processing\n",
      "09:35:21 - cmdstanpy - INFO - Chain [1] done processing\n",
      "09:35:27 - cmdstanpy - INFO - Chain [1] done processing\n",
      "09:35:27 - cmdstanpy - INFO - Chain [1] done processing\n",
      "09:35:33 - cmdstanpy - INFO - Chain [1] done processing\n"
     ]
    },
    {
     "name": "stdout",
     "output_type": "stream",
     "text": [
      "{'changepoint_prior_scale': 0.401, 'holidays_prior_scale': 0.01, 'seasonality_mode': 'multiplicative', 'seasonality_prior_scale': 0.01}\n"
     ]
    },
    {
     "name": "stderr",
     "output_type": "stream",
     "text": [
      "09:35:38 - cmdstanpy - INFO - Chain [1] start processing\n",
      "09:35:54 - cmdstanpy - INFO - Chain [1] done processing\n",
      "09:35:56 - cmdstanpy - INFO - Chain [1] start processing\n",
      "09:35:58 - cmdstanpy - INFO - Chain [1] start processing\n",
      "09:35:59 - cmdstanpy - INFO - Chain [1] start processing\n",
      "09:36:00 - cmdstanpy - INFO - Chain [1] start processing\n",
      "09:36:00 - cmdstanpy - INFO - Chain [1] start processing\n",
      "09:36:04 - cmdstanpy - INFO - Chain [1] done processing\n",
      "09:36:14 - cmdstanpy - INFO - Chain [1] done processing\n",
      "09:36:17 - cmdstanpy - INFO - Chain [1] done processing\n",
      "09:36:17 - cmdstanpy - INFO - Chain [1] done processing\n",
      "09:36:20 - cmdstanpy - INFO - Chain [1] done processing\n"
     ]
    },
    {
     "name": "stdout",
     "output_type": "stream",
     "text": [
      "{'changepoint_prior_scale': 0.401, 'holidays_prior_scale': 0.01, 'seasonality_mode': 'multiplicative', 'seasonality_prior_scale': 2.51}\n"
     ]
    },
    {
     "name": "stderr",
     "output_type": "stream",
     "text": [
      "09:36:25 - cmdstanpy - INFO - Chain [1] start processing\n",
      "09:36:40 - cmdstanpy - INFO - Chain [1] done processing\n",
      "09:36:43 - cmdstanpy - INFO - Chain [1] start processing\n",
      "09:36:44 - cmdstanpy - INFO - Chain [1] start processing\n",
      "09:36:45 - cmdstanpy - INFO - Chain [1] start processing\n",
      "09:36:46 - cmdstanpy - INFO - Chain [1] start processing\n",
      "09:36:47 - cmdstanpy - INFO - Chain [1] start processing\n",
      "09:36:51 - cmdstanpy - INFO - Chain [1] done processing\n",
      "09:37:00 - cmdstanpy - INFO - Chain [1] done processing\n",
      "09:37:01 - cmdstanpy - INFO - Chain [1] done processing\n",
      "09:37:04 - cmdstanpy - INFO - Chain [1] done processing\n",
      "09:37:08 - cmdstanpy - INFO - Chain [1] done processing\n"
     ]
    },
    {
     "name": "stdout",
     "output_type": "stream",
     "text": [
      "{'changepoint_prior_scale': 0.401, 'holidays_prior_scale': 0.01, 'seasonality_mode': 'multiplicative', 'seasonality_prior_scale': 5.01}\n"
     ]
    },
    {
     "name": "stderr",
     "output_type": "stream",
     "text": [
      "09:37:13 - cmdstanpy - INFO - Chain [1] start processing\n",
      "09:37:27 - cmdstanpy - INFO - Chain [1] done processing\n",
      "09:37:30 - cmdstanpy - INFO - Chain [1] start processing\n",
      "09:37:31 - cmdstanpy - INFO - Chain [1] start processing\n",
      "09:37:32 - cmdstanpy - INFO - Chain [1] start processing\n",
      "09:37:34 - cmdstanpy - INFO - Chain [1] start processing\n",
      "09:37:34 - cmdstanpy - INFO - Chain [1] start processing\n",
      "09:37:38 - cmdstanpy - INFO - Chain [1] done processing\n",
      "09:37:48 - cmdstanpy - INFO - Chain [1] done processing\n",
      "09:37:48 - cmdstanpy - INFO - Chain [1] done processing\n",
      "09:37:56 - cmdstanpy - INFO - Chain [1] done processing\n",
      "09:37:57 - cmdstanpy - INFO - Chain [1] done processing\n"
     ]
    },
    {
     "name": "stdout",
     "output_type": "stream",
     "text": [
      "{'changepoint_prior_scale': 0.401, 'holidays_prior_scale': 0.01, 'seasonality_mode': 'multiplicative', 'seasonality_prior_scale': 7.51}\n"
     ]
    },
    {
     "name": "stderr",
     "output_type": "stream",
     "text": [
      "09:38:01 - cmdstanpy - INFO - Chain [1] start processing\n",
      "09:38:17 - cmdstanpy - INFO - Chain [1] done processing\n",
      "09:38:20 - cmdstanpy - INFO - Chain [1] start processing\n",
      "09:38:21 - cmdstanpy - INFO - Chain [1] start processing\n",
      "09:38:22 - cmdstanpy - INFO - Chain [1] start processing\n",
      "09:38:23 - cmdstanpy - INFO - Chain [1] start processing\n",
      "09:38:24 - cmdstanpy - INFO - Chain [1] start processing\n",
      "09:38:29 - cmdstanpy - INFO - Chain [1] done processing\n",
      "09:38:38 - cmdstanpy - INFO - Chain [1] done processing\n",
      "09:38:40 - cmdstanpy - INFO - Chain [1] done processing\n",
      "09:38:44 - cmdstanpy - INFO - Chain [1] done processing\n",
      "09:38:46 - cmdstanpy - INFO - Chain [1] done processing\n"
     ]
    },
    {
     "name": "stdout",
     "output_type": "stream",
     "text": [
      "{'changepoint_prior_scale': 0.401, 'holidays_prior_scale': 0.01, 'seasonality_mode': 'additive', 'seasonality_prior_scale': 0.01}\n"
     ]
    },
    {
     "name": "stderr",
     "output_type": "stream",
     "text": [
      "09:38:50 - cmdstanpy - INFO - Chain [1] start processing\n",
      "09:39:01 - cmdstanpy - INFO - Chain [1] done processing\n",
      "09:39:04 - cmdstanpy - INFO - Chain [1] start processing\n",
      "09:39:05 - cmdstanpy - INFO - Chain [1] start processing\n",
      "09:39:06 - cmdstanpy - INFO - Chain [1] start processing\n",
      "09:39:06 - cmdstanpy - INFO - Chain [1] done processing\n",
      "09:39:08 - cmdstanpy - INFO - Chain [1] start processing\n",
      "09:39:09 - cmdstanpy - INFO - Chain [1] start processing\n",
      "09:39:13 - cmdstanpy - INFO - Chain [1] done processing\n",
      "09:39:18 - cmdstanpy - INFO - Chain [1] done processing\n",
      "09:39:19 - cmdstanpy - INFO - Chain [1] done processing\n",
      "09:39:23 - cmdstanpy - INFO - Chain [1] done processing\n"
     ]
    },
    {
     "name": "stdout",
     "output_type": "stream",
     "text": [
      "{'changepoint_prior_scale': 0.401, 'holidays_prior_scale': 0.01, 'seasonality_mode': 'additive', 'seasonality_prior_scale': 2.51}\n"
     ]
    },
    {
     "name": "stderr",
     "output_type": "stream",
     "text": [
      "09:39:27 - cmdstanpy - INFO - Chain [1] start processing\n",
      "09:39:38 - cmdstanpy - INFO - Chain [1] done processing\n",
      "09:39:41 - cmdstanpy - INFO - Chain [1] start processing\n",
      "09:39:42 - cmdstanpy - INFO - Chain [1] start processing\n",
      "09:39:43 - cmdstanpy - INFO - Chain [1] start processing\n",
      "09:39:44 - cmdstanpy - INFO - Chain [1] start processing\n",
      "09:39:45 - cmdstanpy - INFO - Chain [1] start processing\n",
      "09:39:45 - cmdstanpy - INFO - Chain [1] done processing\n",
      "09:39:50 - cmdstanpy - INFO - Chain [1] done processing\n",
      "09:39:55 - cmdstanpy - INFO - Chain [1] done processing\n",
      "09:39:56 - cmdstanpy - INFO - Chain [1] done processing\n",
      "09:40:01 - cmdstanpy - INFO - Chain [1] done processing\n"
     ]
    },
    {
     "name": "stdout",
     "output_type": "stream",
     "text": [
      "{'changepoint_prior_scale': 0.401, 'holidays_prior_scale': 0.01, 'seasonality_mode': 'additive', 'seasonality_prior_scale': 5.01}\n"
     ]
    },
    {
     "name": "stderr",
     "output_type": "stream",
     "text": [
      "09:40:05 - cmdstanpy - INFO - Chain [1] start processing\n",
      "09:40:16 - cmdstanpy - INFO - Chain [1] done processing\n",
      "09:40:19 - cmdstanpy - INFO - Chain [1] start processing\n",
      "09:40:20 - cmdstanpy - INFO - Chain [1] start processing\n",
      "09:40:21 - cmdstanpy - INFO - Chain [1] start processing\n",
      "09:40:22 - cmdstanpy - INFO - Chain [1] start processing\n",
      "09:40:22 - cmdstanpy - INFO - Chain [1] done processing\n",
      "09:40:24 - cmdstanpy - INFO - Chain [1] start processing\n",
      "09:40:26 - cmdstanpy - INFO - Chain [1] done processing\n",
      "09:40:32 - cmdstanpy - INFO - Chain [1] done processing\n",
      "09:40:34 - cmdstanpy - INFO - Chain [1] done processing\n",
      "09:40:37 - cmdstanpy - INFO - Chain [1] done processing\n"
     ]
    },
    {
     "name": "stdout",
     "output_type": "stream",
     "text": [
      "{'changepoint_prior_scale': 0.401, 'holidays_prior_scale': 0.01, 'seasonality_mode': 'additive', 'seasonality_prior_scale': 7.51}\n"
     ]
    },
    {
     "name": "stderr",
     "output_type": "stream",
     "text": [
      "09:40:41 - cmdstanpy - INFO - Chain [1] start processing\n",
      "09:40:50 - cmdstanpy - INFO - Chain [1] done processing\n",
      "09:40:53 - cmdstanpy - INFO - Chain [1] start processing\n",
      "09:40:54 - cmdstanpy - INFO - Chain [1] start processing\n",
      "09:40:55 - cmdstanpy - INFO - Chain [1] start processing\n",
      "09:40:56 - cmdstanpy - INFO - Chain [1] start processing\n",
      "09:40:56 - cmdstanpy - INFO - Chain [1] done processing\n",
      "09:40:58 - cmdstanpy - INFO - Chain [1] start processing\n",
      "09:41:02 - cmdstanpy - INFO - Chain [1] done processing\n",
      "09:41:06 - cmdstanpy - INFO - Chain [1] done processing\n",
      "09:41:08 - cmdstanpy - INFO - Chain [1] done processing\n",
      "09:41:08 - cmdstanpy - INFO - Chain [1] done processing\n"
     ]
    },
    {
     "name": "stdout",
     "output_type": "stream",
     "text": [
      "{'changepoint_prior_scale': 0.401, 'holidays_prior_scale': 2.51, 'seasonality_mode': 'multiplicative', 'seasonality_prior_scale': 0.01}\n"
     ]
    },
    {
     "name": "stderr",
     "output_type": "stream",
     "text": [
      "09:41:14 - cmdstanpy - INFO - Chain [1] start processing\n",
      "09:41:30 - cmdstanpy - INFO - Chain [1] done processing\n",
      "09:41:33 - cmdstanpy - INFO - Chain [1] start processing\n",
      "09:41:34 - cmdstanpy - INFO - Chain [1] start processing\n",
      "09:41:35 - cmdstanpy - INFO - Chain [1] start processing\n",
      "09:41:36 - cmdstanpy - INFO - Chain [1] start processing\n",
      "09:41:37 - cmdstanpy - INFO - Chain [1] start processing\n",
      "09:41:42 - cmdstanpy - INFO - Chain [1] done processing\n",
      "09:41:48 - cmdstanpy - INFO - Chain [1] done processing\n",
      "09:41:49 - cmdstanpy - INFO - Chain [1] done processing\n",
      "09:41:57 - cmdstanpy - INFO - Chain [1] done processing\n",
      "09:42:00 - cmdstanpy - INFO - Chain [1] done processing\n"
     ]
    },
    {
     "name": "stdout",
     "output_type": "stream",
     "text": [
      "{'changepoint_prior_scale': 0.401, 'holidays_prior_scale': 2.51, 'seasonality_mode': 'multiplicative', 'seasonality_prior_scale': 2.51}\n"
     ]
    },
    {
     "name": "stderr",
     "output_type": "stream",
     "text": [
      "09:42:04 - cmdstanpy - INFO - Chain [1] start processing\n",
      "09:42:19 - cmdstanpy - INFO - Chain [1] done processing\n",
      "09:42:22 - cmdstanpy - INFO - Chain [1] start processing\n",
      "09:42:23 - cmdstanpy - INFO - Chain [1] start processing\n",
      "09:42:24 - cmdstanpy - INFO - Chain [1] start processing\n",
      "09:42:25 - cmdstanpy - INFO - Chain [1] start processing\n",
      "09:42:26 - cmdstanpy - INFO - Chain [1] start processing\n",
      "09:42:31 - cmdstanpy - INFO - Chain [1] done processing\n",
      "09:42:41 - cmdstanpy - INFO - Chain [1] done processing\n",
      "09:42:42 - cmdstanpy - INFO - Chain [1] done processing\n",
      "09:42:50 - cmdstanpy - INFO - Chain [1] done processing\n",
      "09:42:51 - cmdstanpy - INFO - Chain [1] done processing\n"
     ]
    },
    {
     "name": "stdout",
     "output_type": "stream",
     "text": [
      "{'changepoint_prior_scale': 0.401, 'holidays_prior_scale': 2.51, 'seasonality_mode': 'multiplicative', 'seasonality_prior_scale': 5.01}\n"
     ]
    },
    {
     "name": "stderr",
     "output_type": "stream",
     "text": [
      "09:42:55 - cmdstanpy - INFO - Chain [1] start processing\n",
      "09:43:09 - cmdstanpy - INFO - Chain [1] done processing\n",
      "09:43:12 - cmdstanpy - INFO - Chain [1] start processing\n",
      "09:43:13 - cmdstanpy - INFO - Chain [1] start processing\n",
      "09:43:14 - cmdstanpy - INFO - Chain [1] start processing\n",
      "09:43:15 - cmdstanpy - INFO - Chain [1] start processing\n",
      "09:43:15 - cmdstanpy - INFO - Chain [1] start processing\n",
      "09:43:19 - cmdstanpy - INFO - Chain [1] done processing\n",
      "09:43:30 - cmdstanpy - INFO - Chain [1] done processing\n",
      "09:43:31 - cmdstanpy - INFO - Chain [1] done processing\n",
      "09:43:42 - cmdstanpy - INFO - Chain [1] done processing\n",
      "09:43:45 - cmdstanpy - INFO - Chain [1] done processing\n"
     ]
    },
    {
     "name": "stdout",
     "output_type": "stream",
     "text": [
      "{'changepoint_prior_scale': 0.401, 'holidays_prior_scale': 2.51, 'seasonality_mode': 'multiplicative', 'seasonality_prior_scale': 7.51}\n"
     ]
    },
    {
     "name": "stderr",
     "output_type": "stream",
     "text": [
      "09:43:50 - cmdstanpy - INFO - Chain [1] start processing\n",
      "09:44:01 - cmdstanpy - INFO - Chain [1] done processing\n",
      "09:44:04 - cmdstanpy - INFO - Chain [1] start processing\n",
      "09:44:05 - cmdstanpy - INFO - Chain [1] start processing\n",
      "09:44:07 - cmdstanpy - INFO - Chain [1] start processing\n",
      "09:44:08 - cmdstanpy - INFO - Chain [1] start processing\n",
      "09:44:09 - cmdstanpy - INFO - Chain [1] start processing\n",
      "09:44:13 - cmdstanpy - INFO - Chain [1] done processing\n",
      "09:44:23 - cmdstanpy - INFO - Chain [1] done processing\n",
      "09:44:23 - cmdstanpy - INFO - Chain [1] done processing\n",
      "09:44:37 - cmdstanpy - INFO - Chain [1] done processing\n",
      "09:44:37 - cmdstanpy - INFO - Chain [1] done processing\n"
     ]
    },
    {
     "name": "stdout",
     "output_type": "stream",
     "text": [
      "{'changepoint_prior_scale': 0.401, 'holidays_prior_scale': 2.51, 'seasonality_mode': 'additive', 'seasonality_prior_scale': 0.01}\n"
     ]
    },
    {
     "name": "stderr",
     "output_type": "stream",
     "text": [
      "09:44:42 - cmdstanpy - INFO - Chain [1] start processing\n",
      "09:44:52 - cmdstanpy - INFO - Chain [1] done processing\n",
      "09:44:55 - cmdstanpy - INFO - Chain [1] start processing\n",
      "09:44:56 - cmdstanpy - INFO - Chain [1] start processing\n",
      "09:44:57 - cmdstanpy - INFO - Chain [1] start processing\n",
      "09:44:58 - cmdstanpy - INFO - Chain [1] start processing\n",
      "09:44:59 - cmdstanpy - INFO - Chain [1] start processing\n",
      "09:44:59 - cmdstanpy - INFO - Chain [1] done processing\n",
      "09:45:03 - cmdstanpy - INFO - Chain [1] done processing\n",
      "09:45:08 - cmdstanpy - INFO - Chain [1] done processing\n",
      "09:45:11 - cmdstanpy - INFO - Chain [1] done processing\n",
      "09:45:14 - cmdstanpy - INFO - Chain [1] done processing\n"
     ]
    },
    {
     "name": "stdout",
     "output_type": "stream",
     "text": [
      "{'changepoint_prior_scale': 0.401, 'holidays_prior_scale': 2.51, 'seasonality_mode': 'additive', 'seasonality_prior_scale': 2.51}\n"
     ]
    },
    {
     "name": "stderr",
     "output_type": "stream",
     "text": [
      "09:45:18 - cmdstanpy - INFO - Chain [1] start processing\n",
      "09:45:27 - cmdstanpy - INFO - Chain [1] done processing\n",
      "09:45:30 - cmdstanpy - INFO - Chain [1] start processing\n",
      "09:45:31 - cmdstanpy - INFO - Chain [1] start processing\n",
      "09:45:32 - cmdstanpy - INFO - Chain [1] start processing\n",
      "09:45:33 - cmdstanpy - INFO - Chain [1] start processing\n",
      "09:45:33 - cmdstanpy - INFO - Chain [1] done processing\n",
      "09:45:35 - cmdstanpy - INFO - Chain [1] start processing\n",
      "09:45:40 - cmdstanpy - INFO - Chain [1] done processing\n",
      "09:45:44 - cmdstanpy - INFO - Chain [1] done processing\n",
      "09:45:46 - cmdstanpy - INFO - Chain [1] done processing\n",
      "09:45:49 - cmdstanpy - INFO - Chain [1] done processing\n"
     ]
    },
    {
     "name": "stdout",
     "output_type": "stream",
     "text": [
      "{'changepoint_prior_scale': 0.401, 'holidays_prior_scale': 2.51, 'seasonality_mode': 'additive', 'seasonality_prior_scale': 5.01}\n"
     ]
    },
    {
     "name": "stderr",
     "output_type": "stream",
     "text": [
      "09:45:53 - cmdstanpy - INFO - Chain [1] start processing\n",
      "09:46:00 - cmdstanpy - INFO - Chain [1] done processing\n",
      "09:46:03 - cmdstanpy - INFO - Chain [1] start processing\n",
      "09:46:04 - cmdstanpy - INFO - Chain [1] start processing\n",
      "09:46:06 - cmdstanpy - INFO - Chain [1] start processing\n",
      "09:46:07 - cmdstanpy - INFO - Chain [1] start processing\n",
      "09:46:08 - cmdstanpy - INFO - Chain [1] start processing\n",
      "09:46:09 - cmdstanpy - INFO - Chain [1] done processing\n",
      "09:46:11 - cmdstanpy - INFO - Chain [1] done processing\n",
      "09:46:16 - cmdstanpy - INFO - Chain [1] done processing\n",
      "09:46:20 - cmdstanpy - INFO - Chain [1] done processing\n",
      "09:46:25 - cmdstanpy - INFO - Chain [1] done processing\n"
     ]
    },
    {
     "name": "stdout",
     "output_type": "stream",
     "text": [
      "{'changepoint_prior_scale': 0.401, 'holidays_prior_scale': 2.51, 'seasonality_mode': 'additive', 'seasonality_prior_scale': 7.51}\n"
     ]
    },
    {
     "name": "stderr",
     "output_type": "stream",
     "text": [
      "09:46:31 - cmdstanpy - INFO - Chain [1] start processing\n",
      "09:46:45 - cmdstanpy - INFO - Chain [1] done processing\n",
      "09:46:48 - cmdstanpy - INFO - Chain [1] start processing\n",
      "09:46:50 - cmdstanpy - INFO - Chain [1] start processing\n",
      "09:46:51 - cmdstanpy - INFO - Chain [1] start processing\n",
      "09:46:52 - cmdstanpy - INFO - Chain [1] start processing\n",
      "09:46:53 - cmdstanpy - INFO - Chain [1] done processing\n",
      "09:46:54 - cmdstanpy - INFO - Chain [1] start processing\n",
      "09:46:57 - cmdstanpy - INFO - Chain [1] done processing\n",
      "09:47:02 - cmdstanpy - INFO - Chain [1] done processing\n",
      "09:47:05 - cmdstanpy - INFO - Chain [1] done processing\n",
      "09:47:07 - cmdstanpy - INFO - Chain [1] done processing\n"
     ]
    },
    {
     "name": "stdout",
     "output_type": "stream",
     "text": [
      "{'changepoint_prior_scale': 0.401, 'holidays_prior_scale': 5.01, 'seasonality_mode': 'multiplicative', 'seasonality_prior_scale': 0.01}\n"
     ]
    },
    {
     "name": "stderr",
     "output_type": "stream",
     "text": [
      "09:47:13 - cmdstanpy - INFO - Chain [1] start processing\n",
      "09:47:28 - cmdstanpy - INFO - Chain [1] done processing\n",
      "09:47:31 - cmdstanpy - INFO - Chain [1] start processing\n",
      "09:47:32 - cmdstanpy - INFO - Chain [1] start processing\n",
      "09:47:33 - cmdstanpy - INFO - Chain [1] start processing\n",
      "09:47:34 - cmdstanpy - INFO - Chain [1] start processing\n",
      "09:47:35 - cmdstanpy - INFO - Chain [1] start processing\n",
      "09:47:39 - cmdstanpy - INFO - Chain [1] done processing\n",
      "09:47:46 - cmdstanpy - INFO - Chain [1] done processing\n",
      "09:47:49 - cmdstanpy - INFO - Chain [1] done processing\n",
      "09:47:53 - cmdstanpy - INFO - Chain [1] done processing\n",
      "09:47:57 - cmdstanpy - INFO - Chain [1] done processing\n"
     ]
    },
    {
     "name": "stdout",
     "output_type": "stream",
     "text": [
      "{'changepoint_prior_scale': 0.401, 'holidays_prior_scale': 5.01, 'seasonality_mode': 'multiplicative', 'seasonality_prior_scale': 2.51}\n"
     ]
    },
    {
     "name": "stderr",
     "output_type": "stream",
     "text": [
      "09:48:02 - cmdstanpy - INFO - Chain [1] start processing\n",
      "09:48:19 - cmdstanpy - INFO - Chain [1] done processing\n",
      "09:48:23 - cmdstanpy - INFO - Chain [1] start processing\n",
      "09:48:24 - cmdstanpy - INFO - Chain [1] start processing\n",
      "09:48:26 - cmdstanpy - INFO - Chain [1] start processing\n",
      "09:48:27 - cmdstanpy - INFO - Chain [1] start processing\n",
      "09:48:28 - cmdstanpy - INFO - Chain [1] start processing\n",
      "09:48:35 - cmdstanpy - INFO - Chain [1] done processing\n",
      "09:48:42 - cmdstanpy - INFO - Chain [1] done processing\n",
      "09:48:46 - cmdstanpy - INFO - Chain [1] done processing\n",
      "09:48:58 - cmdstanpy - INFO - Chain [1] done processing\n",
      "09:48:59 - cmdstanpy - INFO - Chain [1] done processing\n"
     ]
    },
    {
     "name": "stdout",
     "output_type": "stream",
     "text": [
      "{'changepoint_prior_scale': 0.401, 'holidays_prior_scale': 5.01, 'seasonality_mode': 'multiplicative', 'seasonality_prior_scale': 5.01}\n"
     ]
    },
    {
     "name": "stderr",
     "output_type": "stream",
     "text": [
      "09:49:04 - cmdstanpy - INFO - Chain [1] start processing\n",
      "09:49:19 - cmdstanpy - INFO - Chain [1] done processing\n",
      "09:49:22 - cmdstanpy - INFO - Chain [1] start processing\n",
      "09:49:23 - cmdstanpy - INFO - Chain [1] start processing\n",
      "09:49:24 - cmdstanpy - INFO - Chain [1] start processing\n",
      "09:49:25 - cmdstanpy - INFO - Chain [1] start processing\n",
      "09:49:26 - cmdstanpy - INFO - Chain [1] start processing\n",
      "09:49:31 - cmdstanpy - INFO - Chain [1] done processing\n",
      "09:49:40 - cmdstanpy - INFO - Chain [1] done processing\n",
      "09:49:40 - cmdstanpy - INFO - Chain [1] done processing\n",
      "09:49:54 - cmdstanpy - INFO - Chain [1] done processing\n",
      "09:49:57 - cmdstanpy - INFO - Chain [1] done processing\n"
     ]
    },
    {
     "name": "stdout",
     "output_type": "stream",
     "text": [
      "{'changepoint_prior_scale': 0.401, 'holidays_prior_scale': 5.01, 'seasonality_mode': 'multiplicative', 'seasonality_prior_scale': 7.51}\n"
     ]
    },
    {
     "name": "stderr",
     "output_type": "stream",
     "text": [
      "09:50:01 - cmdstanpy - INFO - Chain [1] start processing\n",
      "09:50:15 - cmdstanpy - INFO - Chain [1] done processing\n",
      "09:50:18 - cmdstanpy - INFO - Chain [1] start processing\n",
      "09:50:19 - cmdstanpy - INFO - Chain [1] start processing\n",
      "09:50:20 - cmdstanpy - INFO - Chain [1] start processing\n",
      "09:50:22 - cmdstanpy - INFO - Chain [1] start processing\n",
      "09:50:23 - cmdstanpy - INFO - Chain [1] start processing\n",
      "09:50:29 - cmdstanpy - INFO - Chain [1] done processing\n",
      "09:50:36 - cmdstanpy - INFO - Chain [1] done processing\n",
      "09:50:36 - cmdstanpy - INFO - Chain [1] done processing\n",
      "09:50:52 - cmdstanpy - INFO - Chain [1] done processing\n",
      "09:50:53 - cmdstanpy - INFO - Chain [1] done processing\n"
     ]
    },
    {
     "name": "stdout",
     "output_type": "stream",
     "text": [
      "{'changepoint_prior_scale': 0.401, 'holidays_prior_scale': 5.01, 'seasonality_mode': 'additive', 'seasonality_prior_scale': 0.01}\n"
     ]
    },
    {
     "name": "stderr",
     "output_type": "stream",
     "text": [
      "09:50:57 - cmdstanpy - INFO - Chain [1] start processing\n",
      "09:51:08 - cmdstanpy - INFO - Chain [1] done processing\n",
      "09:51:11 - cmdstanpy - INFO - Chain [1] start processing\n",
      "09:51:12 - cmdstanpy - INFO - Chain [1] start processing\n",
      "09:51:13 - cmdstanpy - INFO - Chain [1] start processing\n",
      "09:51:15 - cmdstanpy - INFO - Chain [1] start processing\n",
      "09:51:15 - cmdstanpy - INFO - Chain [1] done processing\n",
      "09:51:16 - cmdstanpy - INFO - Chain [1] start processing\n",
      "09:51:19 - cmdstanpy - INFO - Chain [1] done processing\n",
      "09:51:24 - cmdstanpy - INFO - Chain [1] done processing\n",
      "09:51:27 - cmdstanpy - INFO - Chain [1] done processing\n",
      "09:51:28 - cmdstanpy - INFO - Chain [1] done processing\n"
     ]
    },
    {
     "name": "stdout",
     "output_type": "stream",
     "text": [
      "{'changepoint_prior_scale': 0.401, 'holidays_prior_scale': 5.01, 'seasonality_mode': 'additive', 'seasonality_prior_scale': 2.51}\n"
     ]
    },
    {
     "name": "stderr",
     "output_type": "stream",
     "text": [
      "09:51:32 - cmdstanpy - INFO - Chain [1] start processing\n",
      "09:51:42 - cmdstanpy - INFO - Chain [1] done processing\n",
      "09:51:45 - cmdstanpy - INFO - Chain [1] start processing\n",
      "09:51:46 - cmdstanpy - INFO - Chain [1] start processing\n",
      "09:51:47 - cmdstanpy - INFO - Chain [1] start processing\n",
      "09:51:48 - cmdstanpy - INFO - Chain [1] start processing\n",
      "09:51:49 - cmdstanpy - INFO - Chain [1] start processing\n",
      "09:51:49 - cmdstanpy - INFO - Chain [1] done processing\n",
      "09:51:54 - cmdstanpy - INFO - Chain [1] done processing\n",
      "09:51:59 - cmdstanpy - INFO - Chain [1] done processing\n",
      "09:52:01 - cmdstanpy - INFO - Chain [1] done processing\n",
      "09:52:04 - cmdstanpy - INFO - Chain [1] done processing\n"
     ]
    },
    {
     "name": "stdout",
     "output_type": "stream",
     "text": [
      "{'changepoint_prior_scale': 0.401, 'holidays_prior_scale': 5.01, 'seasonality_mode': 'additive', 'seasonality_prior_scale': 5.01}\n"
     ]
    },
    {
     "name": "stderr",
     "output_type": "stream",
     "text": [
      "09:52:08 - cmdstanpy - INFO - Chain [1] start processing\n",
      "09:52:17 - cmdstanpy - INFO - Chain [1] done processing\n",
      "09:52:20 - cmdstanpy - INFO - Chain [1] start processing\n",
      "09:52:21 - cmdstanpy - INFO - Chain [1] start processing\n",
      "09:52:22 - cmdstanpy - INFO - Chain [1] start processing\n",
      "09:52:23 - cmdstanpy - INFO - Chain [1] done processing\n",
      "09:52:24 - cmdstanpy - INFO - Chain [1] start processing\n",
      "09:52:25 - cmdstanpy - INFO - Chain [1] start processing\n",
      "09:52:28 - cmdstanpy - INFO - Chain [1] done processing\n",
      "09:52:32 - cmdstanpy - INFO - Chain [1] done processing\n",
      "09:52:36 - cmdstanpy - INFO - Chain [1] done processing\n",
      "09:52:39 - cmdstanpy - INFO - Chain [1] done processing\n"
     ]
    },
    {
     "name": "stdout",
     "output_type": "stream",
     "text": [
      "{'changepoint_prior_scale': 0.401, 'holidays_prior_scale': 5.01, 'seasonality_mode': 'additive', 'seasonality_prior_scale': 7.51}\n"
     ]
    },
    {
     "name": "stderr",
     "output_type": "stream",
     "text": [
      "09:52:43 - cmdstanpy - INFO - Chain [1] start processing\n",
      "09:52:54 - cmdstanpy - INFO - Chain [1] done processing\n",
      "09:52:57 - cmdstanpy - INFO - Chain [1] start processing\n",
      "09:52:58 - cmdstanpy - INFO - Chain [1] start processing\n",
      "09:52:59 - cmdstanpy - INFO - Chain [1] start processing\n",
      "09:53:00 - cmdstanpy - INFO - Chain [1] done processing\n",
      "09:53:01 - cmdstanpy - INFO - Chain [1] start processing\n",
      "09:53:02 - cmdstanpy - INFO - Chain [1] start processing\n",
      "09:53:03 - cmdstanpy - INFO - Chain [1] done processing\n",
      "09:53:10 - cmdstanpy - INFO - Chain [1] done processing\n",
      "09:53:12 - cmdstanpy - INFO - Chain [1] done processing\n",
      "09:53:15 - cmdstanpy - INFO - Chain [1] done processing\n"
     ]
    },
    {
     "name": "stdout",
     "output_type": "stream",
     "text": [
      "{'changepoint_prior_scale': 0.401, 'holidays_prior_scale': 7.51, 'seasonality_mode': 'multiplicative', 'seasonality_prior_scale': 0.01}\n"
     ]
    },
    {
     "name": "stderr",
     "output_type": "stream",
     "text": [
      "09:53:19 - cmdstanpy - INFO - Chain [1] start processing\n",
      "09:53:33 - cmdstanpy - INFO - Chain [1] done processing\n",
      "09:53:36 - cmdstanpy - INFO - Chain [1] start processing\n",
      "09:53:37 - cmdstanpy - INFO - Chain [1] start processing\n",
      "09:53:38 - cmdstanpy - INFO - Chain [1] start processing\n",
      "09:53:39 - cmdstanpy - INFO - Chain [1] start processing\n",
      "09:53:40 - cmdstanpy - INFO - Chain [1] start processing\n",
      "09:53:45 - cmdstanpy - INFO - Chain [1] done processing\n",
      "09:53:51 - cmdstanpy - INFO - Chain [1] done processing\n",
      "09:53:51 - cmdstanpy - INFO - Chain [1] done processing\n",
      "09:53:58 - cmdstanpy - INFO - Chain [1] done processing\n",
      "09:54:03 - cmdstanpy - INFO - Chain [1] done processing\n"
     ]
    },
    {
     "name": "stdout",
     "output_type": "stream",
     "text": [
      "{'changepoint_prior_scale': 0.401, 'holidays_prior_scale': 7.51, 'seasonality_mode': 'multiplicative', 'seasonality_prior_scale': 2.51}\n"
     ]
    },
    {
     "name": "stderr",
     "output_type": "stream",
     "text": [
      "09:54:07 - cmdstanpy - INFO - Chain [1] start processing\n",
      "09:54:22 - cmdstanpy - INFO - Chain [1] done processing\n",
      "09:54:25 - cmdstanpy - INFO - Chain [1] start processing\n",
      "09:54:27 - cmdstanpy - INFO - Chain [1] start processing\n",
      "09:54:28 - cmdstanpy - INFO - Chain [1] start processing\n",
      "09:54:29 - cmdstanpy - INFO - Chain [1] start processing\n",
      "09:54:30 - cmdstanpy - INFO - Chain [1] start processing\n",
      "09:54:36 - cmdstanpy - INFO - Chain [1] done processing\n",
      "09:54:44 - cmdstanpy - INFO - Chain [1] done processing\n",
      "09:54:45 - cmdstanpy - INFO - Chain [1] done processing\n",
      "09:54:56 - cmdstanpy - INFO - Chain [1] done processing\n",
      "09:54:57 - cmdstanpy - INFO - Chain [1] done processing\n"
     ]
    },
    {
     "name": "stdout",
     "output_type": "stream",
     "text": [
      "{'changepoint_prior_scale': 0.401, 'holidays_prior_scale': 7.51, 'seasonality_mode': 'multiplicative', 'seasonality_prior_scale': 5.01}\n"
     ]
    },
    {
     "name": "stderr",
     "output_type": "stream",
     "text": [
      "09:55:01 - cmdstanpy - INFO - Chain [1] start processing\n",
      "09:55:15 - cmdstanpy - INFO - Chain [1] done processing\n",
      "09:55:18 - cmdstanpy - INFO - Chain [1] start processing\n",
      "09:55:19 - cmdstanpy - INFO - Chain [1] start processing\n",
      "09:55:20 - cmdstanpy - INFO - Chain [1] start processing\n",
      "09:55:21 - cmdstanpy - INFO - Chain [1] start processing\n",
      "09:55:22 - cmdstanpy - INFO - Chain [1] start processing\n",
      "09:55:27 - cmdstanpy - INFO - Chain [1] done processing\n",
      "09:55:35 - cmdstanpy - INFO - Chain [1] done processing\n",
      "09:55:37 - cmdstanpy - INFO - Chain [1] done processing\n",
      "09:55:48 - cmdstanpy - INFO - Chain [1] done processing\n",
      "09:55:51 - cmdstanpy - INFO - Chain [1] done processing\n"
     ]
    },
    {
     "name": "stdout",
     "output_type": "stream",
     "text": [
      "{'changepoint_prior_scale': 0.401, 'holidays_prior_scale': 7.51, 'seasonality_mode': 'multiplicative', 'seasonality_prior_scale': 7.51}\n"
     ]
    },
    {
     "name": "stderr",
     "output_type": "stream",
     "text": [
      "09:55:56 - cmdstanpy - INFO - Chain [1] start processing\n",
      "09:56:10 - cmdstanpy - INFO - Chain [1] done processing\n",
      "09:56:12 - cmdstanpy - INFO - Chain [1] start processing\n",
      "09:56:14 - cmdstanpy - INFO - Chain [1] start processing\n",
      "09:56:15 - cmdstanpy - INFO - Chain [1] start processing\n",
      "09:56:16 - cmdstanpy - INFO - Chain [1] start processing\n",
      "09:56:17 - cmdstanpy - INFO - Chain [1] start processing\n",
      "09:56:23 - cmdstanpy - INFO - Chain [1] done processing\n",
      "09:56:30 - cmdstanpy - INFO - Chain [1] done processing\n",
      "09:56:34 - cmdstanpy - INFO - Chain [1] done processing\n",
      "09:56:43 - cmdstanpy - INFO - Chain [1] done processing\n",
      "09:56:45 - cmdstanpy - INFO - Chain [1] done processing\n"
     ]
    },
    {
     "name": "stdout",
     "output_type": "stream",
     "text": [
      "{'changepoint_prior_scale': 0.401, 'holidays_prior_scale': 7.51, 'seasonality_mode': 'additive', 'seasonality_prior_scale': 0.01}\n"
     ]
    },
    {
     "name": "stderr",
     "output_type": "stream",
     "text": [
      "09:56:50 - cmdstanpy - INFO - Chain [1] start processing\n",
      "09:56:58 - cmdstanpy - INFO - Chain [1] done processing\n",
      "09:57:01 - cmdstanpy - INFO - Chain [1] start processing\n",
      "09:57:03 - cmdstanpy - INFO - Chain [1] start processing\n",
      "09:57:03 - cmdstanpy - INFO - Chain [1] done processing\n",
      "09:57:04 - cmdstanpy - INFO - Chain [1] start processing\n",
      "09:57:05 - cmdstanpy - INFO - Chain [1] start processing\n",
      "09:57:06 - cmdstanpy - INFO - Chain [1] start processing\n",
      "09:57:09 - cmdstanpy - INFO - Chain [1] done processing\n",
      "09:57:14 - cmdstanpy - INFO - Chain [1] done processing\n",
      "09:57:17 - cmdstanpy - INFO - Chain [1] done processing\n",
      "09:57:21 - cmdstanpy - INFO - Chain [1] done processing\n"
     ]
    },
    {
     "name": "stdout",
     "output_type": "stream",
     "text": [
      "{'changepoint_prior_scale': 0.401, 'holidays_prior_scale': 7.51, 'seasonality_mode': 'additive', 'seasonality_prior_scale': 2.51}\n"
     ]
    },
    {
     "name": "stderr",
     "output_type": "stream",
     "text": [
      "09:57:25 - cmdstanpy - INFO - Chain [1] start processing\n",
      "09:57:33 - cmdstanpy - INFO - Chain [1] done processing\n",
      "09:57:36 - cmdstanpy - INFO - Chain [1] start processing\n",
      "09:57:37 - cmdstanpy - INFO - Chain [1] start processing\n",
      "09:57:38 - cmdstanpy - INFO - Chain [1] start processing\n",
      "09:57:39 - cmdstanpy - INFO - Chain [1] start processing\n",
      "09:57:40 - cmdstanpy - INFO - Chain [1] done processing\n",
      "09:57:41 - cmdstanpy - INFO - Chain [1] start processing\n",
      "09:57:45 - cmdstanpy - INFO - Chain [1] done processing\n",
      "09:57:50 - cmdstanpy - INFO - Chain [1] done processing\n",
      "09:57:52 - cmdstanpy - INFO - Chain [1] done processing\n",
      "09:57:56 - cmdstanpy - INFO - Chain [1] done processing\n"
     ]
    },
    {
     "name": "stdout",
     "output_type": "stream",
     "text": [
      "{'changepoint_prior_scale': 0.401, 'holidays_prior_scale': 7.51, 'seasonality_mode': 'additive', 'seasonality_prior_scale': 5.01}\n"
     ]
    },
    {
     "name": "stderr",
     "output_type": "stream",
     "text": [
      "09:58:00 - cmdstanpy - INFO - Chain [1] start processing\n",
      "09:58:12 - cmdstanpy - INFO - Chain [1] done processing\n",
      "09:58:15 - cmdstanpy - INFO - Chain [1] start processing\n",
      "09:58:16 - cmdstanpy - INFO - Chain [1] start processing\n",
      "09:58:18 - cmdstanpy - INFO - Chain [1] start processing\n",
      "09:58:19 - cmdstanpy - INFO - Chain [1] start processing\n",
      "09:58:20 - cmdstanpy - INFO - Chain [1] start processing\n",
      "09:58:20 - cmdstanpy - INFO - Chain [1] done processing\n",
      "09:58:24 - cmdstanpy - INFO - Chain [1] done processing\n",
      "09:58:30 - cmdstanpy - INFO - Chain [1] done processing\n",
      "09:58:32 - cmdstanpy - INFO - Chain [1] done processing\n",
      "09:58:35 - cmdstanpy - INFO - Chain [1] done processing\n"
     ]
    },
    {
     "name": "stdout",
     "output_type": "stream",
     "text": [
      "{'changepoint_prior_scale': 0.401, 'holidays_prior_scale': 7.51, 'seasonality_mode': 'additive', 'seasonality_prior_scale': 7.51}\n"
     ]
    },
    {
     "name": "stderr",
     "output_type": "stream",
     "text": [
      "09:58:39 - cmdstanpy - INFO - Chain [1] start processing\n",
      "09:58:52 - cmdstanpy - INFO - Chain [1] done processing\n",
      "09:58:55 - cmdstanpy - INFO - Chain [1] start processing\n",
      "09:58:56 - cmdstanpy - INFO - Chain [1] start processing\n",
      "09:58:57 - cmdstanpy - INFO - Chain [1] start processing\n",
      "09:58:58 - cmdstanpy - INFO - Chain [1] start processing\n",
      "09:58:59 - cmdstanpy - INFO - Chain [1] start processing\n",
      "09:59:00 - cmdstanpy - INFO - Chain [1] done processing\n",
      "09:59:03 - cmdstanpy - INFO - Chain [1] done processing\n",
      "09:59:08 - cmdstanpy - INFO - Chain [1] done processing\n",
      "09:59:10 - cmdstanpy - INFO - Chain [1] done processing\n",
      "09:59:14 - cmdstanpy - INFO - Chain [1] done processing\n"
     ]
    },
    {
     "name": "stdout",
     "output_type": "stream",
     "text": [
      "     changepoint_prior_scale  holidays_prior_scale seasonality_mode  \\\n",
      "0                      0.001                  0.01   multiplicative   \n",
      "1                      0.001                  0.01   multiplicative   \n",
      "2                      0.001                  0.01   multiplicative   \n",
      "3                      0.001                  0.01   multiplicative   \n",
      "4                      0.001                  0.01         additive   \n",
      "..                       ...                   ...              ...   \n",
      "155                    0.401                  7.51   multiplicative   \n",
      "156                    0.401                  7.51         additive   \n",
      "157                    0.401                  7.51         additive   \n",
      "158                    0.401                  7.51         additive   \n",
      "159                    0.401                  7.51         additive   \n",
      "\n",
      "     seasonality_prior_scale      mase  \n",
      "0                       0.01  0.873724  \n",
      "1                       2.51  0.862324  \n",
      "2                       5.01  0.864360  \n",
      "3                       7.51  0.863394  \n",
      "4                       0.01  0.849108  \n",
      "..                       ...       ...  \n",
      "155                     7.51  0.855966  \n",
      "156                     0.01  0.852156  \n",
      "157                     2.51  0.854557  \n",
      "158                     5.01  0.853614  \n",
      "159                     7.51  0.854826  \n",
      "\n",
      "[160 rows x 5 columns]\n"
     ]
    }
   ],
   "source": [
    "MASE_list = []\n",
    "best_mase = 100000000\n",
    "best_params = None\n",
    "for p in grid:\n",
    "    train = pd.DataFrame(train_data)\n",
    "    test = pd.DataFrame()\n",
    "    print(p)\n",
    "    random.seed(0)\n",
    "    train_model =Prophet(changepoint_prior_scale = p['changepoint_prior_scale'],\n",
    "                        holidays_prior_scale = p['holidays_prior_scale'],\n",
    "                        seasonality_prior_scale = p['seasonality_prior_scale'],\n",
    "                        seasonality_mode = p['seasonality_mode'],\n",
    "                        weekly_seasonality=True,\n",
    "                        daily_seasonality = True,\n",
    "                        yearly_seasonality = False,\n",
    "                        )\n",
    "    \n",
    "     # add regressors with lags 1 to 24\n",
    "    for i in range(1,97):\n",
    "        train_model.add_regressor('lag'+str(i), standardize=False)\n",
    "        train['lag'+str(i)] = train['y'].shift(i)\n",
    "\n",
    "\n",
    "    train_model.fit(train_data)\n",
    "    \n",
    "    df_cv = cross_validation(train_model, period='60 days', horizon='30 days', parallel=\"processes\")\n",
    "\n",
    "     # X and y to pandas dataframe\n",
    "    X_train = pd.DataFrame(df_cv)\n",
    "\n",
    "    y_true = df_cv['y'].values\n",
    "    #make y_true as dataframe\n",
    "    y_true = pd.DataFrame(y_true)\n",
    "\n",
    "    y_pred = df_cv['yhat'].values\n",
    "    #make y_pred as dataframe\n",
    "    y_pred = pd.DataFrame(y_pred)\n",
    "\n",
    "    MASE_list.append(mean_absolute_scaled_error(y_true, y_pred))\n",
    "    \n",
    "\n",
    "\n",
    "    # print('RMSE:',np.sqrt(MSE))\n",
    "    # RMSE_list.append(np.sqrt(MSE))\n",
    "\n",
    "# Find the best parameters\n",
    "tuning_results = pd.DataFrame(grid)\n",
    "tuning_results['mase'] = MASE_list\n",
    "print(tuning_results)"
   ]
  },
  {
   "cell_type": "code",
   "execution_count": 8,
   "metadata": {},
   "outputs": [
    {
     "name": "stdout",
     "output_type": "stream",
     "text": [
      "Best Parameters {'seasonality_prior_scale': 7.51, 'seasonality_mode': 'additive', 'holidays_prior_scale': 5.01, 'changepoint_prior_scale': 0.001}\n",
      "Best MASE 0.8485734311780362\n",
      "[0.8737241998031012, 0.8623244206194794, 0.8643600322198894, 0.8633942438826896, 0.8491082136024345, 0.8509281779015363, 0.8520324330000774, 0.8509039283599716, 0.8569513310256807, 0.8502703265214069, 0.8522163454115698, 0.85089462864976, 0.8509875935578669, 0.8501791386488574, 0.8499698080600231, 0.8515696120736731, 0.8573829431870728, 0.8498107918017389, 0.8505724287916001, 0.8505504016638085, 0.8532117442444216, 0.8515309640213918, 0.8512281661402635, 0.8485734311780362, 0.8580026527892654, 0.8491911825288488, 0.8511097334944123, 0.8505086295432451, 0.8518506843000079, 0.8499174898416486, 0.8510849989941993, 0.8510610853270383, 0.8855298867354822, 0.870162280095455, 0.8704133942431596, 0.8702128084590139, 0.8515863534395397, 0.8523605454404332, 0.852690263548527, 0.8520629669800855, 0.8659028167788736, 0.8562387878048726, 0.8561831005313565, 0.8561438218741454, 0.8517381539166327, 0.8518660490745047, 0.8529925085979384, 0.8521597596576965, 0.8660681312104247, 0.8555219147146623, 0.8548490523919693, 0.8562026868817086, 0.8518093506630978, 0.8526300617837892, 0.8523207592274659, 0.8531511084097655, 0.8590877652801658, 0.8554282569059257, 0.855165409060032, 0.8561963728544841, 0.8519113335046039, 0.8522461698845746, 0.8534026769390172, 0.8527242171758518, 0.8869717272462114, 0.8708308457492765, 0.8704750181366346, 0.8700999604240337, 0.8531881733040962, 0.8542977633972808, 0.8539220332649141, 0.8535242033826772, 0.8665813697094091, 0.8558170373424707, 0.8550933158919154, 0.8556965943803867, 0.8535313502438302, 0.8539658686792597, 0.8545722186406293, 0.853222453100028, 0.8663653376315608, 0.8553356085432217, 0.8555048891087246, 0.8563824762532987, 0.8526318997403771, 0.852720826873464, 0.852559203777762, 0.8538371620536181, 0.8664482893084929, 0.855710552957877, 0.8558707209224488, 0.8556130133780481, 0.8527917099645602, 0.8527627114385289, 0.8532503214412555, 0.8545618159108714, 0.8864343813933617, 0.8702402278695882, 0.8703563868890567, 0.870289443014659, 0.8528673277218988, 0.8530026865079041, 0.8539597650625318, 0.8541644174198663, 0.8665665389797472, 0.8557388304031601, 0.8557394930509135, 0.8555416234847828, 0.8528983127091393, 0.8540620791630792, 0.8545660331005818, 0.8535242989306371, 0.8665158193141477, 0.8558578067225905, 0.8557917939663713, 0.8554442159737629, 0.8527197733475796, 0.8533633298061063, 0.8555438127448477, 0.8542978734855047, 0.8665239855249901, 0.8557709898521806, 0.855769173287712, 0.8554359340236769, 0.8532049500882273, 0.8545561950524686, 0.8551153630837408, 0.8525020286349073, 0.8862074597627281, 0.8704160506401236, 0.8704426326524771, 0.8703062994830774, 0.853380559311495, 0.8547845798126713, 0.8541565688146248, 0.8557016448813498, 0.866870294894665, 0.8555897923066207, 0.8557067288584106, 0.8556649845777069, 0.8555112907472936, 0.854565567555878, 0.854849379005909, 0.8541250377964793, 0.8667159927038938, 0.8557498264682459, 0.8559176492230689, 0.8557134802781843, 0.8530962171876393, 0.8549308816672844, 0.8546568633088242, 0.8532401608926865, 0.8668622009107634, 0.8560363879139251, 0.8554101622346111, 0.8559655329991523, 0.8521561934621511, 0.8545572188883958, 0.8536136817772687, 0.8548261160510452]\n"
     ]
    }
   ],
   "source": [
    "best_params = grid[np.argmin(MASE_list)]\n",
    "print('Best Parameters',best_params)\n",
    "print('Best MASE',np.min(MASE_list))\n",
    "print(MASE_list)"
   ]
  }
 ],
 "metadata": {
  "kernelspec": {
   "display_name": "Python 3",
   "language": "python",
   "name": "python3"
  },
  "language_info": {
   "codemirror_mode": {
    "name": "ipython",
    "version": 3
   },
   "file_extension": ".py",
   "mimetype": "text/x-python",
   "name": "python",
   "nbconvert_exporter": "python",
   "pygments_lexer": "ipython3",
   "version": "3.9.12"
  }
 },
 "nbformat": 4,
 "nbformat_minor": 2
}
