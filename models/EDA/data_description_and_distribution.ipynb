{
 "cells": [
  {
   "cell_type": "code",
   "execution_count": 33,
   "metadata": {},
   "outputs": [],
   "source": [
    "import pandas as pd\n",
    "import matplotlib.pyplot as plt\n",
    "import seaborn as sns\n"
   ]
  },
  {
   "cell_type": "code",
   "execution_count": 34,
   "metadata": {},
   "outputs": [
    {
     "data": {
      "image/png": "[encoded data removed]",
      "text/plain": [
       "<Figure size 864x432 with 1 Axes>"
      ]
     },
     "metadata": {
      "needs_background": "light"
     },
     "output_type": "display_data"
    }
   ],
   "source": [
    "# Re-loading the data due to execution environment reset\n",
    "new_counts_df = pd.read_parquet('/Users/paddy/Documents/GitHub/Masterthesis_ML/data/02_grouped_area_all_areas.parquet')\n",
    "\n",
    "# Plotting the distribution of counts per area with decimal values on x-axis\n",
    "plt.figure(figsize=(12, 6))\n",
    "sns.histplot(new_counts_df['counts'], bins=50, kde=True)\n",
    "plt.title('Distribution of Rides per Area')\n",
    "plt.xlabel('Rides')\n",
    "plt.ylabel('Frequency')\n",
    "plt.gca().get_xaxis().set_major_formatter(plt.FuncFormatter(lambda x, loc: \"{:,}\".format(int(x))))\n",
    "# set color of bars to blue\n",
    "for bar in plt.gca().patches:\n",
    "    bar.set_facecolor('royalblue')\n",
    " # save plot\n",
    "plt.savefig('/Users/paddy/Documents/GitHub/Masterthesis_ML/plots/02_distribution_of_rides_per_area.png', dpi=300, bbox_inches='tight')\n",
    "plt.show() "
   ]
  },
  {
   "cell_type": "code",
   "execution_count": 35,
   "metadata": {},
   "outputs": [
    {
     "name": "stdout",
     "output_type": "stream",
     "text": [
      "count        263.000000\n",
      "mean      147063.726236\n",
      "std       355518.224622\n",
      "min            0.000000\n",
      "25%          658.500000\n",
      "50%         2026.000000\n",
      "75%        23506.500000\n",
      "max      1986758.000000\n",
      "Name: counts, dtype: object\n"
     ]
    }
   ],
   "source": [
    "# führe eine deskriptive Statistik durch und setze zwei nachkommastellen\n",
    "stat = new_counts_df['counts'].describe().apply(lambda x: format(x, 'f'))\n",
    "\n",
    "\n",
    "df = new_counts_df['counts'].mean()\n",
    "\n",
    "print(stat)"
   ]
  },
  {
   "cell_type": "code",
   "execution_count": 36,
   "metadata": {},
   "outputs": [
    {
     "name": "stdout",
     "output_type": "stream",
     "text": [
      "    PULocationID  counts\n",
      "69            70  158333\n"
     ]
    }
   ],
   "source": [
    "# Find an area with a count value close to the average\n",
    "area_near_average = new_counts_df[new_counts_df['counts'].between(df - 20000, df + 20000)]\n",
    "\n",
    "# print area_near_average with counts and area_id\n",
    "print(area_near_average)\n",
    " "
   ]
  },
  {
   "cell_type": "code",
   "execution_count": 37,
   "metadata": {},
   "outputs": [
    {
     "name": "stdout",
     "output_type": "stream",
     "text": [
      "38677760\n",
      "263\n",
      "0\n",
      "     PULocationID  counts\n",
      "102           103       0\n",
      "103           104       0\n",
      "109           110       0\n",
      "1986758\n",
      "     PULocationID   counts\n",
      "131           132  1986758\n"
     ]
    }
   ],
   "source": [
    "#summe aller counts\n",
    "print(new_counts_df['counts'].sum())\n",
    "\n",
    "#anzahl der areas\n",
    "print(len(new_counts_df))\n",
    "\n",
    "# geringste anzahl an counts\n",
    "print(new_counts_df['counts'].min())\n",
    "# ID der area mit der geringsten anzahl an counts\n",
    "print(new_counts_df[new_counts_df['counts'] == 0])\n",
    "\n",
    "# höchste anzahl an counts\n",
    "print(new_counts_df['counts'].max())\n",
    "# ID der area mit der höchsten anzahl an counts\n",
    "print(new_counts_df[new_counts_df['counts'] == 1986758])\n"
   ]
  }
 ],
 "metadata": {
  "kernelspec": {
   "display_name": "Python 3",
   "language": "python",
   "name": "python3"
  },
  "language_info": {
   "codemirror_mode": {
    "name": "ipython",
    "version": 3
   },
   "file_extension": ".py",
   "mimetype": "text/x-python",
   "name": "python",
   "nbconvert_exporter": "python",
   "pygments_lexer": "ipython3",
   "version": "3.9.12"
  }
 },
 "nbformat": 4,
 "nbformat_minor": 2
}
