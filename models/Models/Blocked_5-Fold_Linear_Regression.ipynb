{
 "cells": [
  {
   "cell_type": "code",
   "execution_count": 154,
   "metadata": {},
   "outputs": [],
   "source": [
    "import pandas as pd\n",
    "from sklearn.linear_model import LinearRegression\n",
    "from sklearn.metrics import mean_squared_error\n",
    "from sklearn.metrics import mean_absolute_percentage_error\n",
    "from sklearn.model_selection import KFold\n",
    "import matplotlib.pyplot as plt"
   ]
  },
  {
   "cell_type": "code",
   "execution_count": 155,
   "metadata": {},
   "outputs": [],
   "source": [
    "import numpy as np\n",
    "\n",
    "class BlockingTimeSeriesSplit():\n",
    "    def __init__(self, n_splits):\n",
    "        self.n_splits = n_splits\n",
    "    \n",
    "    def get_n_splits(self, X, y, groups):\n",
    "        return self.n_splits\n",
    "    \n",
    "    def split(self, X, y=None, groups=None):\n",
    "        n_samples = len(X)\n",
    "        k_fold_size = n_samples // self.n_splits\n",
    "        indices = np.arange(n_samples)\n",
    "\n",
    "        margin = 0\n",
    "        for i in range(self.n_splits):\n",
    "            start = i * k_fold_size\n",
    "            stop = start + k_fold_size\n",
    "            mid = int(0.5 * (stop - start)) + start\n",
    "            yield indices[start: mid], indices[mid + margin: stop]"
   ]
  },
  {
   "cell_type": "code",
   "execution_count": 156,
   "metadata": {},
   "outputs": [
    {
     "data": {
      "text/html": [
       "<div>\n",
       "<style scoped>\n",
       "    .dataframe tbody tr th:only-of-type {\n",
       "        vertical-align: middle;\n",
       "    }\n",
       "\n",
       "    .dataframe tbody tr th {\n",
       "        vertical-align: top;\n",
       "    }\n",
       "\n",
       "    .dataframe thead th {\n",
       "        text-align: right;\n",
       "    }\n",
       "</style>\n",
       "<table border=\"1\" class=\"dataframe\">\n",
       "  <thead>\n",
       "    <tr style=\"text-align: right;\">\n",
       "      <th></th>\n",
       "      <th>date</th>\n",
       "      <th>count</th>\n",
       "    </tr>\n",
       "  </thead>\n",
       "  <tbody>\n",
       "    <tr>\n",
       "      <th>0</th>\n",
       "      <td>2022-03-31 23:00:00+00:00</td>\n",
       "      <td>1</td>\n",
       "    </tr>\n",
       "    <tr>\n",
       "      <th>1</th>\n",
       "      <td>2022-04-01 00:00:00+00:00</td>\n",
       "      <td>26</td>\n",
       "    </tr>\n",
       "    <tr>\n",
       "      <th>2</th>\n",
       "      <td>2022-04-01 01:00:00+00:00</td>\n",
       "      <td>15</td>\n",
       "    </tr>\n",
       "    <tr>\n",
       "      <th>3</th>\n",
       "      <td>2022-04-01 02:00:00+00:00</td>\n",
       "      <td>5</td>\n",
       "    </tr>\n",
       "    <tr>\n",
       "      <th>4</th>\n",
       "      <td>2022-04-01 03:00:00+00:00</td>\n",
       "      <td>1</td>\n",
       "    </tr>\n",
       "  </tbody>\n",
       "</table>\n",
       "</div>"
      ],
      "text/plain": [
       "                       date  count\n",
       "0 2022-03-31 23:00:00+00:00      1\n",
       "1 2022-04-01 00:00:00+00:00     26\n",
       "2 2022-04-01 01:00:00+00:00     15\n",
       "3 2022-04-01 02:00:00+00:00      5\n",
       "4 2022-04-01 03:00:00+00:00      1"
      ]
     },
     "execution_count": 156,
     "metadata": {},
     "output_type": "execute_result"
    }
   ],
   "source": [
    "# Load the data\n",
    "data = pd.read_parquet('/Users/paddy/Documents/GitHub/Masterthesis_ML/data/03_032022_032023_taxi_rides.parquet')\n",
    "\n",
    "# Convert the date column to datetime\n",
    "data['date'] = pd.to_datetime(data['date'])\n",
    "\n"
   ]
  },
  {
   "cell_type": "code",
   "execution_count": 157,
   "metadata": {},
   "outputs": [],
   "source": [
    "# Step 1: Data Preparation\n",
    "# Extract features from the date\n",
    "data['hour'] = data['date'].dt.hour\n",
    "data['day_of_week'] = data['date'].dt.dayofweek\n",
    "data['day_of_month'] = data['date'].dt.day\n",
    "data['date_month'] = data['date'].dt.month\n",
    "data['year'] = data['date'].dt.year\n",
    "\n",
    "\n",
    "# Define the feature columns and the target column\n",
    "feature_cols = ['hour', 'day_of_week', 'day_of_month', 'date_month', 'year']\n",
    "target_col = 'count'\n",
    "\n",
    "# Split the data: December 2022 as test data\n",
    "train_data = data[data['date'] < '2023-02-01']\n",
    "test_data = data[data['date'] >= '2023-02-01']"
   ]
  },
  {
   "cell_type": "markdown",
   "metadata": {},
   "source": [
    "Blocked Cross Validation:\n",
    "5-Folds"
   ]
  },
  {
   "cell_type": "code",
   "execution_count": 158,
   "metadata": {},
   "outputs": [],
   "source": [
    "\n",
    "BCV = BlockingTimeSeriesSplit(n_splits=5)"
   ]
  },
  {
   "cell_type": "code",
   "execution_count": 159,
   "metadata": {},
   "outputs": [],
   "source": [
    "# # Calculate the size of each block and the training and validation splits within each block\n",
    "# block_size = len(train_data) // 5\n",
    "# train_block = int(block_size * 0.75)\n",
    "# val_block = block_size - train_block"
   ]
  },
  {
   "cell_type": "code",
   "execution_count": 160,
   "metadata": {},
   "outputs": [],
   "source": [
    "# Initialize a linear regression model\n",
    "lr = LinearRegression()\n",
    "\n",
    "# Collecting all data list\n",
    "data_list = []\n",
    "\n",
    "# Lists to store the MSE for each blocked split\n",
    "blocked_mse_list = []\n",
    "blocked_rmse_list = []"
   ]
  },
  {
   "cell_type": "code",
   "execution_count": 166,
   "metadata": {},
   "outputs": [
    {
     "name": "stderr",
     "output_type": "stream",
     "text": [
      "/var/folders/q3/tk8ksh9n6233c6nj3njq87x80000gn/T/ipykernel_6288/2306417320.py:11: SettingWithCopyWarning: \n",
      "A value is trying to be set on a copy of a slice from a DataFrame.\n",
      "Try using .loc[row_indexer,col_indexer] = value instead\n",
      "\n",
      "See the caveats in the documentation: https://pandas.pydata.org/pandas-docs/stable/user_guide/indexing.html#returning-a-view-versus-a-copy\n",
      "  val_fold['prediction'] = lr.predict(val_fold[feature_cols])\n",
      "/var/folders/q3/tk8ksh9n6233c6nj3njq87x80000gn/T/ipykernel_6288/2306417320.py:11: SettingWithCopyWarning: \n",
      "A value is trying to be set on a copy of a slice from a DataFrame.\n",
      "Try using .loc[row_indexer,col_indexer] = value instead\n",
      "\n",
      "See the caveats in the documentation: https://pandas.pydata.org/pandas-docs/stable/user_guide/indexing.html#returning-a-view-versus-a-copy\n",
      "  val_fold['prediction'] = lr.predict(val_fold[feature_cols])\n",
      "/var/folders/q3/tk8ksh9n6233c6nj3njq87x80000gn/T/ipykernel_6288/2306417320.py:11: SettingWithCopyWarning: \n",
      "A value is trying to be set on a copy of a slice from a DataFrame.\n",
      "Try using .loc[row_indexer,col_indexer] = value instead\n",
      "\n",
      "See the caveats in the documentation: https://pandas.pydata.org/pandas-docs/stable/user_guide/indexing.html#returning-a-view-versus-a-copy\n",
      "  val_fold['prediction'] = lr.predict(val_fold[feature_cols])\n",
      "/var/folders/q3/tk8ksh9n6233c6nj3njq87x80000gn/T/ipykernel_6288/2306417320.py:11: SettingWithCopyWarning: \n",
      "A value is trying to be set on a copy of a slice from a DataFrame.\n",
      "Try using .loc[row_indexer,col_indexer] = value instead\n",
      "\n",
      "See the caveats in the documentation: https://pandas.pydata.org/pandas-docs/stable/user_guide/indexing.html#returning-a-view-versus-a-copy\n",
      "  val_fold['prediction'] = lr.predict(val_fold[feature_cols])\n",
      "/var/folders/q3/tk8ksh9n6233c6nj3njq87x80000gn/T/ipykernel_6288/2306417320.py:11: SettingWithCopyWarning: \n",
      "A value is trying to be set on a copy of a slice from a DataFrame.\n",
      "Try using .loc[row_indexer,col_indexer] = value instead\n",
      "\n",
      "See the caveats in the documentation: https://pandas.pydata.org/pandas-docs/stable/user_guide/indexing.html#returning-a-view-versus-a-copy\n",
      "  val_fold['prediction'] = lr.predict(val_fold[feature_cols])\n"
     ]
    }
   ],
   "source": [
    "# forschleife, um die 5 Blöcke zu durchlaufen\n",
    "for train_block, val_block in BCV.split(train_data):\n",
    "    # Split the data into training and validation sets\n",
    "    train_fold, val_fold= train_data.loc[train_block], train_data.iloc[val_block]\n",
    "    #val_fold = train_data.iloc[train_block:train_block + val_block]\n",
    "    #train_block += block_size\n",
    "\n",
    "    # Fit the model on the training data\n",
    "    lr.fit(train_fold[feature_cols], train_fold[target_col])\n",
    "    val_fold['prediction'] = lr.predict(val_fold[feature_cols])\n",
    "\n",
    "    # #Writing all data into a list\n",
    "    # data_list.append(val_fold)\n",
    "\n",
    "    # Calculate the MSE and MAPE for this fold\n",
    "    mse = mean_squared_error(val_fold[target_col], val_fold['prediction'])\n",
    "    rmse = np.sqrt(mse)\n",
    "    \n",
    "    # Append the MSE to the list of MSEs\n",
    "    blocked_mse_list.append(mse)\n",
    "    blocked_rmse_list.append(rmse)\n",
    "\n"
   ]
  },
  {
   "cell_type": "markdown",
   "metadata": {},
   "source": [
    "Modelling the prediction model"
   ]
  },
  {
   "cell_type": "code",
   "execution_count": 162,
   "metadata": {},
   "outputs": [
    {
     "name": "stdout",
     "output_type": "stream",
     "text": [
      "154.4433041923957\n",
      "12.40775294840805\n"
     ]
    }
   ],
   "source": [
    "# Calculate the average MSE for the blocked splits\n",
    "average_mse_blocked = sum(blocked_mse_list) / len(blocked_mse_list)\n",
    "average_mape_blocked = sum(blocked_rmse_list) / len(blocked_rmse_list)\n",
    "#Ausage: MSE und MAPE für die 5 Blöcke\n",
    "print(average_mse_blocked)\n",
    "print(average_mape_blocked)\n",
    "\n"
   ]
  },
  {
   "cell_type": "code",
   "execution_count": 165,
   "metadata": {},
   "outputs": [
    {
     "name": "stdout",
     "output_type": "stream",
     "text": [
      "4665910070909604.0 68307467.16801615\n"
     ]
    },
    {
     "name": "stderr",
     "output_type": "stream",
     "text": [
      "/var/folders/q3/tk8ksh9n6233c6nj3njq87x80000gn/T/ipykernel_6288/2583424641.py:2: SettingWithCopyWarning: \n",
      "A value is trying to be set on a copy of a slice from a DataFrame.\n",
      "Try using .loc[row_indexer,col_indexer] = value instead\n",
      "\n",
      "See the caveats in the documentation: https://pandas.pydata.org/pandas-docs/stable/user_guide/indexing.html#returning-a-view-versus-a-copy\n",
      "  test_data['prediction'] = lr.predict(test_data[feature_cols])\n"
     ]
    }
   ],
   "source": [
    "#predict the test data\n",
    "test_data['prediction'] = lr.predict(test_data[feature_cols])\n",
    "\n",
    "test_mse = mean_squared_error(test_data[target_col], test_data['prediction'])\n",
    "test_rmse = np.sqrt(test_mse)\n",
    "print(test_mse, test_rmse)\n"
   ]
  },
  {
   "cell_type": "code",
   "execution_count": 164,
   "metadata": {},
   "outputs": [
    {
     "data": {
      "text/plain": [
       "[<matplotlib.lines.Line2D at 0x11708fc40>]"
      ]
     },
     "execution_count": 164,
     "metadata": {},
     "output_type": "execute_result"
    },
    {
     "data": {
      "image/png": "[encoded data removed]",
      "text/plain": [
       "<Figure size 432x288 with 1 Axes>"
      ]
     },
     "metadata": {
      "needs_background": "light"
     },
     "output_type": "display_data"
    }
   ],
   "source": [
    "#plt.plot(test_data['date'], test_data['count'], label='actual', color='green')\n",
    "plt.plot(test_data['date'], test_data['prediction'], label='prediction', color='red')"
   ]
  }
 ],
 "metadata": {
  "kernelspec": {
   "display_name": "Python 3",
   "language": "python",
   "name": "python3"
  },
  "language_info": {
   "codemirror_mode": {
    "name": "ipython",
    "version": 3
   },
   "file_extension": ".py",
   "mimetype": "text/x-python",
   "name": "python",
   "nbconvert_exporter": "python",
   "pygments_lexer": "ipython3",
   "version": "3.9.12"
  }
 },
 "nbformat": 4,
 "nbformat_minor": 2
}
